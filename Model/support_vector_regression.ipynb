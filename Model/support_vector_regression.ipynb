{
  "cells": [
    {
      "cell_type": "code",
      "execution_count": null,
      "metadata": {
        "id": "x1xIT4ogv24N"
      },
      "outputs": [],
      "source": [
        "from sklearn.model_selection import cross_val_score, RandomizedSearchCV, GridSearchCV\n",
        "from sklearn.tree import DecisionTreeRegressor\n",
        "from sklearn.model_selection import train_test_split\n",
        "from sklearn.metrics import mean_absolute_percentage_error\n",
        "import pandas as pd\n",
        "import numpy as np\n",
        "from sklearn.svm import SVR"
      ]
    },
    {
      "cell_type": "code",
      "execution_count": null,
      "metadata": {
        "colab": {
          "base_uri": "https://localhost:8080/"
        },
        "id": "A9t-tvR1xIji",
        "outputId": "86ec0e0e-aa91-4d72-9183-eaa32bf11df2"
      },
      "outputs": [
        {
          "output_type": "stream",
          "name": "stdout",
          "text": [
            "Mounted at /content/drive\n"
          ]
        }
      ],
      "source": [
        "from google.colab import drive\n",
        "drive.mount('/content/drive')"
      ]
    },
    {
      "cell_type": "code",
      "execution_count": null,
      "metadata": {
        "colab": {
          "base_uri": "https://localhost:8080/"
        },
        "id": "WfagKi4RxKcV",
        "outputId": "297c172e-f91c-49aa-c146-4b739c17d85a"
      },
      "outputs": [
        {
          "output_type": "stream",
          "name": "stdout",
          "text": [
            "(172374, 10)\n",
            "(96055, 10)\n"
          ]
        }
      ],
      "source": [
        "x_train = pd.read_csv('/content/drive/MyDrive/weather_data/X_station_coord_2nn_imputed_by_day.csv')\n",
        "y_train = x_train['ground_truth']\n",
        "del x_train['ground_truth']\n",
        "del x_train['date']\n",
        "del x_train['timestamp']\n",
        "del x_train['number_sta']\n",
        "del x_train['Id']\n",
        "\n",
        "print(x_train.shape)\n",
        "\n",
        "\n",
        "x_test = pd.read_csv('/content/drive/MyDrive/weather_data/X_test_coord_2nn_imputed_by_day.csv')\n",
        "test_ids = x_test['Id']\n",
        "del x_test['Id']\n",
        "del x_test['number_sta']\n",
        "print(x_test.shape)\n",
        "\n",
        "seed = 1998"
      ]
    },
    {
      "cell_type": "code",
      "execution_count": null,
      "metadata": {
        "id": "m5bE-bysxVaS"
      },
      "outputs": [],
      "source": [
        "x_train_train, x_train_test, y_train_train, y_train_test = train_test_split(x_train, y_train, train_size=0.75, random_state=42)"
      ]
    },
    {
      "cell_type": "code",
      "execution_count": null,
      "metadata": {
        "colab": {
          "background_save": true,
          "base_uri": "https://localhost:8080/"
        },
        "id": "nBDYeML8xWW2",
        "outputId": "fa849f48-7aae-4ce0-e798-d66752210203"
      },
      "outputs": [
        {
          "name": "stdout",
          "output_type": "stream",
          "text": [
            "Fitting 5 folds for each of 10 candidates, totalling 50 fits\n"
          ]
        }
      ],
      "source": [
        "tuned_parameters = [{'kernel': ['linear'], 'C': [0.1, 1, 10, 100, 1000]},\n",
        "                    {'kernel': ['rbf'], 'C': [1, 10, 100, 1000, 10000], 'gamma': [1e-1, 1e-2, 1e-3]},\n",
        "                    {'kernel': ['poly'], 'C': [1, 10, 100, 1000], 'degree': [2,3,4,5]}]\n",
        "\n",
        "n_random_test = 10\n",
        "svr_tuning = RandomizedSearchCV(SVR(), tuned_parameters, n_iter=n_random_test, random_state=0, scoring='neg_mean_absolute_percentage_error', n_jobs=2, verbose=2)\n",
        "svr_tuning.fit(x_train, y_train)\n",
        "print(svr_tuning.best_params_)"
      ]
    },
    {
      "cell_type": "code",
      "execution_count": null,
      "metadata": {
        "id": "c8hl0IDbOdhu"
      },
      "outputs": [],
      "source": [
        "svr_model = SVR(kernel=\"rbf\", C=100, gamma=0.1, epsilon=0.1)\n",
        "svr_model.fit(x_train, y_train)\n",
        "y_predict = svr_model.predict(x_test)\n",
        "\n",
        "dataframe = pd.DataFrame()\n",
        "dataframe['Id'] = test_ids \n",
        "print(y_predict)\n",
        "dataframe['Prediction'] = y_predict + 1\n",
        "print(dataframe['Prediction'])\n",
        "\n",
        "dataframe.to_csv('submission_svr1.csv', index = False, header=True)"
      ]
    },
    {
      "cell_type": "code",
      "source": [
        "svr_model = SVR(kernel=\"poly\", C=100, gamma=\"auto\", degree=4, epsilon=0.1)\n",
        "svr_model.fit(x_train, y_train)\n",
        "y_predict = svr_model.predict(x_test)\n",
        "\n",
        "dataframe = pd.DataFrame()\n",
        "dataframe['Id'] = test_ids \n",
        "print(y_predict)\n",
        "dataframe['Prediction'] = y_predict + 1\n",
        "print(dataframe['Prediction'])\n",
        "\n",
        "dataframe.to_csv('submission_svr1.csv', index = False, header=True)"
      ],
      "metadata": {
        "id": "tamvD18RRo_B"
      },
      "execution_count": null,
      "outputs": []
    }
  ],
  "metadata": {
    "colab": {
      "name": "ML_project_SVR.ipynb",
      "provenance": []
    },
    "kernelspec": {
      "display_name": "Python 3",
      "name": "python3"
    },
    "language_info": {
      "name": "python"
    }
  },
  "nbformat": 4,
  "nbformat_minor": 0
}
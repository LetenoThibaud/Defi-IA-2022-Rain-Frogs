{
  "nbformat": 4,
  "nbformat_minor": 0,
  "metadata": {
    "colab": {
      "name": "MLDM Project XGBoost.ipynb",
      "provenance": [],
      "collapsed_sections": [],
      "machine_shape": "hm"
    },
    "kernelspec": {
      "name": "python3",
      "display_name": "Python 3"
    },
    "language_info": {
      "name": "python"
    },
    "accelerator": "GPU"
  },
  "cells": [
    {
      "cell_type": "markdown",
      "metadata": {
        "id": "7sEdMxrqTctc"
      },
      "source": [
        "# Import Lib + data"
      ]
    },
    {
      "cell_type": "code",
      "metadata": {
        "id": "jB-5nTld9xW_",
        "colab": {
          "base_uri": "https://localhost:8080/"
        },
        "outputId": "c8218a06-fe08-48b9-a74a-5228e38d10cb"
      },
      "source": [
        "import pandas as pd\n",
        "import numpy as np\n",
        "import matplotlib.pyplot as plt\n",
        "import xgboost \n",
        "\n",
        "from sklearn.metrics import mean_squared_error\n",
        "\n",
        "\n",
        "from xgboost import XGBRegressor, XGBClassifier\n",
        "from sklearn.model_selection import train_test_split\n",
        "from sklearn.model_selection import cross_val_score, KFold\n",
        "from sklearn.metrics import mean_absolute_percentage_error\n",
        "from hyperopt import STATUS_OK, Trials, fmin, hp, tpe\n",
        "from sklearn.preprocessing import StandardScaler\n",
        "\n",
        "from time import time\n",
        "from google.colab import drive\n",
        "from time import perf_counter\n",
        "import pickle\n",
        "drive.mount('/gdrive')"
      ],
      "execution_count": null,
      "outputs": [
        {
          "output_type": "stream",
          "name": "stdout",
          "text": [
            "Drive already mounted at /gdrive; to attempt to forcibly remount, call drive.mount(\"/gdrive\", force_remount=True).\n"
          ]
        }
      ]
    },
    {
      "cell_type": "markdown",
      "source": [
        "# Import dataset"
      ],
      "metadata": {
        "id": "ipJ3c7hSNUzC"
      }
    },
    {
      "cell_type": "code",
      "metadata": {
        "id": "m8HH7D-y95sW",
        "colab": {
          "base_uri": "https://localhost:8080/"
        },
        "outputId": "87d9c2a8-4f02-4b6d-fe99-5be3ed23c4f5"
      },
      "source": [
        "# Dataset with deletion of NaN\n",
        "df_clean =  pd.read_csv('/gdrive/MyDrive/X_station_train_clean.csv', index_col=0)\n",
        "\n",
        "# Dataset with imputation of NaN \n",
        "df_imputation = pd.read_csv('/gdrive/MyDrive/X_station_Train_imputation.csv', index_col=0)\n",
        "\n",
        "# 1rst Dataset with NaN\n",
        "df_full_dataset = pd.read_csv('/gdrive/MyDrive/X_station_train.csv')\n",
        "\n",
        "path_station_coordinate='/gdrive/MyDrive/stations_coordinates.csv'\n",
        "path_df_imputation=\"/gdrive/MyDrive/X_station_Train_imputation_Richard.csv\"\n",
        "\n",
        "path_df_2016_imputation=\"/gdrive/MyDrive/MLDM Project/data/X_all_2016_imputed_by_day.zip\"\n",
        "\n",
        "\n"
      ],
      "execution_count": null,
      "outputs": [
        {
          "output_type": "stream",
          "name": "stderr",
          "text": [
            "/usr/local/lib/python3.7/dist-packages/numpy/lib/arraysetops.py:580: FutureWarning: elementwise comparison failed; returning scalar instead, but in the future will perform elementwise comparison\n",
            "  mask |= (ar1 == a)\n"
          ]
        }
      ]
    },
    {
      "cell_type": "code",
      "source": [
        "\n",
        "path_df_2016=\"/gdrive/MyDrive/MLDM Project/data/X_all_2016_final.zip\"\n",
        "path_df_2017=\"/gdrive/MyDrive/MLDM Project/data/X_all_2017_final.zip\"\n",
        "df_train = pd.read_csv(path_df_2016)\n",
        "df_test = pd.read_csv(path_df_2017)"
      ],
      "metadata": {
        "id": "Rpum4_j99UJm"
      },
      "execution_count": null,
      "outputs": []
    },
    {
      "cell_type": "code",
      "source": [
        "\n",
        "x_train, y_train = df_train.drop(\"ground_truth\", axis=1), df_train[\"ground_truth\"]\n",
        "x_train.drop([\"day\",\"Id\",\"month\",\"station_id\",\"hour\",\"next hour precipitation (kg/m^2)\"], axis=1, inplace=True)\n",
        "x_train = pd.DataFrame(StandardScaler().fit_transform(x_train), columns=x_train.columns)\n",
        "del df_train\n",
        "\n",
        "x_test, y_test = df_test.drop(\"ground_truth\", axis=1), df_test[\"ground_truth\"]\n",
        "x_test.drop([\"day\",\"Id\",\"month\",\"station_id\",\"hour\",\"next hour precipitation (kg/m^2)\"], axis=1, inplace=True)\n",
        "x_test = pd.DataFrame(StandardScaler().fit_transform(x_test), columns=x_test.columns)\n",
        "del df_test\n"
      ],
      "metadata": {
        "id": "QWYGFeYX-dCB"
      },
      "execution_count": null,
      "outputs": []
    },
    {
      "cell_type": "code",
      "source": [
        "display(pd.read_csv(path_station_coordinate))"
      ],
      "metadata": {
        "colab": {
          "base_uri": "https://localhost:8080/",
          "height": 423
        },
        "id": "UEGZump5CCL8",
        "outputId": "56ecce4d-d66e-4551-c006-541e259e8bb3"
      },
      "execution_count": null,
      "outputs": [
        {
          "output_type": "display_data",
          "data": {
            "text/html": [
              "\n",
              "  <div id=\"df-07eb2ea1-f705-4d4a-908e-305d8a2eaa9c\">\n",
              "    <div class=\"colab-df-container\">\n",
              "      <div>\n",
              "<style scoped>\n",
              "    .dataframe tbody tr th:only-of-type {\n",
              "        vertical-align: middle;\n",
              "    }\n",
              "\n",
              "    .dataframe tbody tr th {\n",
              "        vertical-align: top;\n",
              "    }\n",
              "\n",
              "    .dataframe thead th {\n",
              "        text-align: right;\n",
              "    }\n",
              "</style>\n",
              "<table border=\"1\" class=\"dataframe\">\n",
              "  <thead>\n",
              "    <tr style=\"text-align: right;\">\n",
              "      <th></th>\n",
              "      <th>number_sta</th>\n",
              "      <th>lat</th>\n",
              "      <th>lon</th>\n",
              "      <th>height_sta</th>\n",
              "    </tr>\n",
              "  </thead>\n",
              "  <tbody>\n",
              "    <tr>\n",
              "      <th>0</th>\n",
              "      <td>86118001</td>\n",
              "      <td>46.477</td>\n",
              "      <td>0.985</td>\n",
              "      <td>120.0</td>\n",
              "    </tr>\n",
              "    <tr>\n",
              "      <th>1</th>\n",
              "      <td>86149001</td>\n",
              "      <td>46.917</td>\n",
              "      <td>0.025</td>\n",
              "      <td>60.0</td>\n",
              "    </tr>\n",
              "    <tr>\n",
              "      <th>2</th>\n",
              "      <td>56081003</td>\n",
              "      <td>48.050</td>\n",
              "      <td>-3.660</td>\n",
              "      <td>165.0</td>\n",
              "    </tr>\n",
              "    <tr>\n",
              "      <th>3</th>\n",
              "      <td>53215001</td>\n",
              "      <td>47.790</td>\n",
              "      <td>-0.710</td>\n",
              "      <td>63.0</td>\n",
              "    </tr>\n",
              "    <tr>\n",
              "      <th>4</th>\n",
              "      <td>22135001</td>\n",
              "      <td>48.550</td>\n",
              "      <td>-3.380</td>\n",
              "      <td>148.0</td>\n",
              "    </tr>\n",
              "    <tr>\n",
              "      <th>...</th>\n",
              "      <td>...</td>\n",
              "      <td>...</td>\n",
              "      <td>...</td>\n",
              "      <td>...</td>\n",
              "    </tr>\n",
              "    <tr>\n",
              "      <th>320</th>\n",
              "      <td>86137003</td>\n",
              "      <td>47.035</td>\n",
              "      <td>0.098</td>\n",
              "      <td>96.0</td>\n",
              "    </tr>\n",
              "    <tr>\n",
              "      <th>321</th>\n",
              "      <td>86165005</td>\n",
              "      <td>46.412</td>\n",
              "      <td>0.841</td>\n",
              "      <td>153.0</td>\n",
              "    </tr>\n",
              "    <tr>\n",
              "      <th>322</th>\n",
              "      <td>86273001</td>\n",
              "      <td>46.464</td>\n",
              "      <td>1.042</td>\n",
              "      <td>121.0</td>\n",
              "    </tr>\n",
              "    <tr>\n",
              "      <th>323</th>\n",
              "      <td>91200002</td>\n",
              "      <td>48.526</td>\n",
              "      <td>1.993</td>\n",
              "      <td>116.0</td>\n",
              "    </tr>\n",
              "    <tr>\n",
              "      <th>324</th>\n",
              "      <td>95690001</td>\n",
              "      <td>49.108</td>\n",
              "      <td>1.831</td>\n",
              "      <td>126.0</td>\n",
              "    </tr>\n",
              "  </tbody>\n",
              "</table>\n",
              "<p>325 rows × 4 columns</p>\n",
              "</div>\n",
              "      <button class=\"colab-df-convert\" onclick=\"convertToInteractive('df-07eb2ea1-f705-4d4a-908e-305d8a2eaa9c')\"\n",
              "              title=\"Convert this dataframe to an interactive table.\"\n",
              "              style=\"display:none;\">\n",
              "        \n",
              "  <svg xmlns=\"http://www.w3.org/2000/svg\" height=\"24px\"viewBox=\"0 0 24 24\"\n",
              "       width=\"24px\">\n",
              "    <path d=\"M0 0h24v24H0V0z\" fill=\"none\"/>\n",
              "    <path d=\"M18.56 5.44l.94 2.06.94-2.06 2.06-.94-2.06-.94-.94-2.06-.94 2.06-2.06.94zm-11 1L8.5 8.5l.94-2.06 2.06-.94-2.06-.94L8.5 2.5l-.94 2.06-2.06.94zm10 10l.94 2.06.94-2.06 2.06-.94-2.06-.94-.94-2.06-.94 2.06-2.06.94z\"/><path d=\"M17.41 7.96l-1.37-1.37c-.4-.4-.92-.59-1.43-.59-.52 0-1.04.2-1.43.59L10.3 9.45l-7.72 7.72c-.78.78-.78 2.05 0 2.83L4 21.41c.39.39.9.59 1.41.59.51 0 1.02-.2 1.41-.59l7.78-7.78 2.81-2.81c.8-.78.8-2.07 0-2.86zM5.41 20L4 18.59l7.72-7.72 1.47 1.35L5.41 20z\"/>\n",
              "  </svg>\n",
              "      </button>\n",
              "      \n",
              "  <style>\n",
              "    .colab-df-container {\n",
              "      display:flex;\n",
              "      flex-wrap:wrap;\n",
              "      gap: 12px;\n",
              "    }\n",
              "\n",
              "    .colab-df-convert {\n",
              "      background-color: #E8F0FE;\n",
              "      border: none;\n",
              "      border-radius: 50%;\n",
              "      cursor: pointer;\n",
              "      display: none;\n",
              "      fill: #1967D2;\n",
              "      height: 32px;\n",
              "      padding: 0 0 0 0;\n",
              "      width: 32px;\n",
              "    }\n",
              "\n",
              "    .colab-df-convert:hover {\n",
              "      background-color: #E2EBFA;\n",
              "      box-shadow: 0px 1px 2px rgba(60, 64, 67, 0.3), 0px 1px 3px 1px rgba(60, 64, 67, 0.15);\n",
              "      fill: #174EA6;\n",
              "    }\n",
              "\n",
              "    [theme=dark] .colab-df-convert {\n",
              "      background-color: #3B4455;\n",
              "      fill: #D2E3FC;\n",
              "    }\n",
              "\n",
              "    [theme=dark] .colab-df-convert:hover {\n",
              "      background-color: #434B5C;\n",
              "      box-shadow: 0px 1px 3px 1px rgba(0, 0, 0, 0.15);\n",
              "      filter: drop-shadow(0px 1px 2px rgba(0, 0, 0, 0.3));\n",
              "      fill: #FFFFFF;\n",
              "    }\n",
              "  </style>\n",
              "\n",
              "      <script>\n",
              "        const buttonEl =\n",
              "          document.querySelector('#df-07eb2ea1-f705-4d4a-908e-305d8a2eaa9c button.colab-df-convert');\n",
              "        buttonEl.style.display =\n",
              "          google.colab.kernel.accessAllowed ? 'block' : 'none';\n",
              "\n",
              "        async function convertToInteractive(key) {\n",
              "          const element = document.querySelector('#df-07eb2ea1-f705-4d4a-908e-305d8a2eaa9c');\n",
              "          const dataTable =\n",
              "            await google.colab.kernel.invokeFunction('convertToInteractive',\n",
              "                                                     [key], {});\n",
              "          if (!dataTable) return;\n",
              "\n",
              "          const docLinkHtml = 'Like what you see? Visit the ' +\n",
              "            '<a target=\"_blank\" href=https://colab.research.google.com/notebooks/data_table.ipynb>data table notebook</a>'\n",
              "            + ' to learn more about interactive tables.';\n",
              "          element.innerHTML = '';\n",
              "          dataTable['output_type'] = 'display_data';\n",
              "          await google.colab.output.renderOutput(dataTable, element);\n",
              "          const docLink = document.createElement('div');\n",
              "          docLink.innerHTML = docLinkHtml;\n",
              "          element.appendChild(docLink);\n",
              "        }\n",
              "      </script>\n",
              "    </div>\n",
              "  </div>\n",
              "  "
            ],
            "text/plain": [
              "     number_sta     lat    lon  height_sta\n",
              "0      86118001  46.477  0.985       120.0\n",
              "1      86149001  46.917  0.025        60.0\n",
              "2      56081003  48.050 -3.660       165.0\n",
              "3      53215001  47.790 -0.710        63.0\n",
              "4      22135001  48.550 -3.380       148.0\n",
              "..          ...     ...    ...         ...\n",
              "320    86137003  47.035  0.098        96.0\n",
              "321    86165005  46.412  0.841       153.0\n",
              "322    86273001  46.464  1.042       121.0\n",
              "323    91200002  48.526  1.993       116.0\n",
              "324    95690001  49.108  1.831       126.0\n",
              "\n",
              "[325 rows x 4 columns]"
            ]
          },
          "metadata": {}
        }
      ]
    },
    {
      "cell_type": "markdown",
      "metadata": {
        "id": "Kv5deQU-TiLx"
      },
      "source": [
        "# Functions used in preprocessing\n",
        "\n",
        " preprocessing + Normalized + MAPE"
      ]
    },
    {
      "cell_type": "code",
      "metadata": {
        "id": "IErbQs0bzc-S"
      },
      "source": [
        "def preprocessing_X_station (X_station_path, stations_coordinates_path, L_labels):\n",
        "  \n",
        "  # Renaming of features and add stations coordinates\n",
        "\n",
        "    # Open Data\n",
        "    X_station = pd.read_csv(X_station_path)\n",
        "    stations_coordinates = pd.read_csv(stations_coordinates_path)\n",
        "\n",
        "    # Split Date\n",
        "    if 'X_station_train' in X_station_path:\n",
        "        X_station['year']  = X_station['date'].apply(lambda row: row[:4]).astype('int32')\n",
        "        X_station['month'] = X_station['date'].apply(lambda row: row[5:7]).astype('int32')\n",
        "        X_station['day']   = X_station['date'].apply(lambda row: row[8:10]).astype('int32')\n",
        "        X_station['hour']  = X_station['date'].apply(lambda row: row[11:13]).astype('int32')\n",
        "        X_station.drop(\"date\", axis='columns', inplace=True)\n",
        "\n",
        "    if 'X_station_test' in X_station_path:\n",
        "        X_station['number_sta'] = X_station['Id'].apply(lambda row: row.split('_')[0]).astype('int32')\n",
        "        X_station['day_id']     = X_station['Id'].apply(lambda row: row.split('_')[1]).astype('int32')\n",
        "        X_station['hour']       = X_station['Id'].apply(lambda row: row.split('_')[2]).astype('int32')\n",
        "\n",
        "\n",
        "    X_station.drop(\"Id\", axis='columns', inplace=True)\n",
        "\n",
        "\n",
        "    # Add Stations Coordinates\n",
        "    X_station = pd.merge(X_station, stations_coordinates, how='left', on='number_sta')\n",
        "\n",
        "    # Rename columns\n",
        "    X_station.rename(columns={'number_sta':\"station_id\", \n",
        "                                    'ff': \"wind_speed\", \n",
        "                                    't': \"temperature\", \n",
        "                                    'td':\"dew_point\", \n",
        "                                    'hu':\"humidity\", \n",
        "                                    'dd':\"wind_direction\", \n",
        "                                    'precip':\"precipitations\",\n",
        "                                    'lat':\"latitude\", \n",
        "                                    'lon':\"longitude\", \n",
        "                                    'height_sta':\"altitude\"}, inplace=True)\n",
        "\n",
        "    # Reorder columns\n",
        "    X_station = X_station[L_labels]\n",
        "\n",
        "    # Sort by station and date\n",
        "    if 'X_station_train' in X_station_path:\n",
        "        X_station = X_station.sort_values(by=['station_id','year', 'month', 'day', 'hour'])\n",
        "    if 'X_station_test' in X_station_path:\n",
        "        X_station = X_station.sort_values(by=['station_id', 'day_id', 'hour'])\n",
        "\n",
        "    X_station = X_station.reset_index(drop=True)\n",
        "\n",
        "    return X_station\n",
        "\n"
      ],
      "execution_count": null,
      "outputs": []
    },
    {
      "cell_type": "code",
      "metadata": {
        "id": "as7_YrwS2JET"
      },
      "source": [
        "def normalizing_data (X, L_labels, L_labels_cos_sin, min_train, max_train):\n",
        "\n",
        "    # Exctact & Reorder columns\n",
        "    X = X[L_labels]\n",
        "\n",
        "    # Normalize\n",
        "    X = (X - min_train) / (max_train - min_train)\n",
        "\n",
        "\n",
        "    # Les valeurs sont normalisées entre 0 et 1, or cos(0)=cos(2*pi) => janvier=decembre, donc la plus grande valeur (normalisée) ne doit pas être 1\n",
        "    X['month_cos'] = np.cos(2*np.pi * X['month'] * 11/12)  \n",
        "    X['month_sin'] = np.sin(2*np.pi * X['month'] * 11/12)\n",
        "    X['hour_cos'] = np.cos(2*np.pi * X['hour'] * 23/24)\n",
        "    X['hour_sin'] = np.sin(2*np.pi * X['hour'] * 23/24)\n",
        "    X['wind_direction_cos'] = np.cos(2*np.pi * X['wind_direction'] * 359/360)\n",
        "    X['wind_direction_sin'] = np.sin(2*np.pi * X['wind_direction'] * 359/360)\n",
        "\n",
        "    X.drop('month', axis=1, inplace=True)\n",
        "    X.drop('hour', axis=1, inplace=True)\n",
        "    X.drop('wind_direction', axis=1, inplace=True)\n",
        "\n",
        "    # Reorder columns\n",
        "    X = X[L_labels_cos_sin]\n",
        "\n",
        "    # X_station = X_station.reset_index(drop=True)\n",
        "\n",
        "    return X\n"
      ],
      "execution_count": null,
      "outputs": []
    },
    {
      "cell_type": "code",
      "metadata": {
        "id": "x6PniBn1-3op"
      },
      "source": [
        "def m_mape(y_true,y_predict):\n",
        "    n = len(y_true)\n",
        "    At = np.array(y_true) + 1\n",
        "    Ft = np.array(y_predict) + 1\n",
        "\n",
        "    res = ((100/n)*(np.sum(np.abs((Ft-At)/At))))\n",
        "    return res"
      ],
      "execution_count": null,
      "outputs": []
    },
    {
      "cell_type": "markdown",
      "metadata": {
        "id": "ELAww8NBTo5K"
      },
      "source": [
        "# Preprocessing data"
      ]
    },
    {
      "cell_type": "code",
      "source": [
        "df_y = pd.read_csv(\"Y_train.csv\")"
      ],
      "metadata": {
        "id": "AeRM97Mgf0W5"
      },
      "execution_count": null,
      "outputs": []
    },
    {
      "cell_type": "code",
      "metadata": {
        "id": "nxnZW-Cp-nuX"
      },
      "source": [
        "def my_test_train_split(dataset):\n",
        "\n",
        "  Y_station_train = dataset.groupby(['station_id'])['precipitations'].shift(-1)\n",
        "  X_train_clean = dataset[[\"station_id\",\"latitude\",\"longitude\",\"altitude\",\"timestamp\",\"year\",\"month\",\"day\",\"hour\",\"wind_direction\",\"wind_speed\",\"temperature\",\"humidity\",\"dew_point\",\"precipitations\"]]\n",
        "  \n",
        "  Y_train_clean = X_train_clean.groupby(['station_id'])['precipitations'].shift(-1)\n",
        "  Y_train = df_full_dataset.groupby(['number_sta'])['precip'].shift(-1)\n",
        "  \n",
        "  # Y_train_imputation=X_train_imputation.groupby(['station_id'])['precipitations'].shift(-1)\n",
        "\n",
        "\n",
        "  # Drop NaN\n",
        "\n",
        "  listNan=Y_train_clean[Y_train_clean.isna()].index.values.tolist()\n",
        "  if len(listNan)>0:\n",
        "    X_train_clean = X_train_clean.drop(listNan)\n",
        "    Y_train_clean = Y_train_clean.drop(listNan)\n",
        "\n",
        "  check_for_nan = X_train_clean.isnull().sum().sum()\n",
        "  print(\"Xtrain nan :\",check_for_nan)\n",
        "\n",
        "  check_for_nan = Y_train_clean.isnull().sum().sum()\n",
        "  print(\"y train nan\",check_for_nan)\n",
        "\n",
        "  X_train = X_train_clean[X_train_clean['year']==2016]\n",
        "  listX_train=X_train_clean[X_train_clean['year']==2016].index.values.tolist()\n",
        "  y_train=Y_train_clean[listX_train]\n",
        "\n",
        "  X_test = X_train_clean[X_train_clean['year']==2017]\n",
        "  listX_test=X_train_clean[X_train_clean['year']==2017].index.values.tolist()\n",
        "  y_test=Y_train_clean[listX_test]\n",
        "\n",
        "\n",
        "  #Normalize\n",
        "  L_labels = ['latitude', 'longitude', 'altitude', 'month', 'hour', 'wind_direction', 'wind_speed', 'temperature', 'humidity', 'dew_point', 'precipitations']\n",
        "  L_labels_cos_sin = ['latitude', 'longitude', 'altitude', 'month_cos', 'month_sin', 'hour_cos', 'hour_sin', 'wind_direction_cos', 'wind_direction_sin', 'wind_speed', 'temperature', 'humidity', 'dew_point', 'precipitations']\n",
        "\n",
        "  min_train = X_train[L_labels].min()\n",
        "  max_train = X_train[L_labels].max()\n",
        "\n",
        "\n",
        "\n",
        "  X_train = normalizing_data (X_train, L_labels, L_labels_cos_sin, min_train, max_train)\n",
        "  X_test = normalizing_data (X_test, L_labels, L_labels_cos_sin, min_train, max_train)\n",
        "\n",
        "  Y_temp = (Y_station_train - min_train['precipitations']) / (max_train['precipitations'] - min_train['precipitations'])\n",
        "  y_train, y_test = Y_temp.loc[X_train.index], Y_temp.loc[X_test.index]\n",
        "\n",
        "  print(\"train shape\",X_train.shape,y_train.shape)\n",
        "  print(\"test shape\",X_test.shape,y_test.shape)\n",
        "\n",
        "  return X_train,X_test,y_train,y_test\n"
      ],
      "execution_count": null,
      "outputs": []
    },
    {
      "cell_type": "markdown",
      "metadata": {
        "id": "-Wa3MeDsTyTB"
      },
      "source": [
        "# Model Fit and validation"
      ]
    },
    {
      "cell_type": "code",
      "metadata": {
        "colab": {
          "base_uri": "https://localhost:8080/"
        },
        "id": "EJyqPnZUdaHs",
        "outputId": "7acbd29d-810d-420c-beec-008763cbef5d"
      },
      "source": [
        "\n",
        "check_for_nan = df_imputation.isnull().sum().sum()\n",
        "print(\"Xtrain nan :\",check_for_nan)"
      ],
      "execution_count": null,
      "outputs": [
        {
          "output_type": "stream",
          "name": "stdout",
          "text": [
            "Xtrain nan : 3520008\n"
          ]
        }
      ]
    },
    {
      "cell_type": "code",
      "metadata": {
        "colab": {
          "base_uri": "https://localhost:8080/"
        },
        "id": "G_b8QWnD_Hna",
        "outputId": "8547df3c-aa48-4808-fd23-74a061b54ae5"
      },
      "source": [
        "\n",
        "\n",
        "model = XGBRegressor(n_estimators=500, \n",
        "                     max_depth=18, \n",
        "                     #learning_rate=0.01, \n",
        "                    #  verbosity=None, \n",
        "                    #  objective='reg:squarederror', \n",
        "                    #  booster=None,\n",
        "                    #  n_jobs=None, \n",
        "                      gamma=3.430739184133814, \n",
        "                      min_child_weight = 8,\n",
        "                    #  max_delta_step=None, \n",
        "                    #  subsample=None,\n",
        "                       reg_alpha=180,\n",
        "                       reg_lambda=0.7436396623675846,\n",
        "                    #  scale_pos_weight=None,\n",
        "                    #  base_score=None,\n",
        "                     random_state=123)\n",
        "                    #  num_parallel_tree=None,\n",
        "                    #  validate_parameters=None,\n",
        "                    #  predictor=None,oilkju,;n \n",
        "                    #  enable_categorical=False)\n",
        "\n",
        "t1_start = perf_counter()              \n",
        "model.fit(x_train[:750000], y_train[:750000])\n",
        "t1_stop = perf_counter()\n",
        "print(\"Time:\", t1_stop-t1_start)\n"
      ],
      "execution_count": null,
      "outputs": [
        {
          "output_type": "stream",
          "name": "stdout",
          "text": [
            "[21:14:01] WARNING: /workspace/src/objective/regression_obj.cu:152: reg:linear is now deprecated in favor of reg:squarederror.\n",
            "Time: 13699.630568891\n"
          ]
        }
      ]
    },
    {
      "cell_type": "code",
      "source": [
        "display(x_train)\n",
        "print(x_train.shape)"
      ],
      "metadata": {
        "id": "BNrbyJtjwWYJ"
      },
      "execution_count": null,
      "outputs": []
    },
    {
      "cell_type": "code",
      "source": [
        "\n",
        "file_name = \"xgb_reg_2.pkl\"\n",
        "\n",
        "# save\n",
        "pickle.dump(model, open(file_name, \"wb\"))"
      ],
      "metadata": {
        "id": "z1EWyfuSUgGP"
      },
      "execution_count": null,
      "outputs": []
    },
    {
      "cell_type": "code",
      "metadata": {
        "id": "0DyUBkJBQJUB"
      },
      "source": [
        "t1_start = perf_counter() \n",
        "y_predict = model.predict(x_test)\n",
        "t1_stop = perf_counter()\n",
        "print(\"Time:\", t1_stop-t1_start)\n",
        "print(\"My MAPE =\", m_mape(y_test,y_predict))\n",
        "print(\"MSE =\",mean_squared_error(y_test,y_predict))"
      ],
      "execution_count": null,
      "outputs": []
    },
    {
      "cell_type": "markdown",
      "source": [
        "# Nouveaux test"
      ],
      "metadata": {
        "id": "khiJOJqZjUvA"
      }
    },
    {
      "cell_type": "code",
      "source": [
        "test_set = pd.read_csv(\"/gdrive/MyDrive/MLDM Project/data/X_all_test_final.zip\")"
      ],
      "metadata": {
        "id": "Lbkk2ImHfn4x"
      },
      "execution_count": null,
      "outputs": []
    },
    {
      "cell_type": "code",
      "source": [
        "x_test = test_set[x_train.columns]\n",
        "x_test = pd.DataFrame(StandardScaler().fit_transform(x_test), columns=x_train.columns)\n",
        "y_pred = model.predict(x_test)"
      ],
      "metadata": {
        "id": "hfHH8OqBfkyd"
      },
      "execution_count": null,
      "outputs": []
    },
    {
      "cell_type": "code",
      "source": [
        "test_set = pd.concat([test_set, pd.DataFrame(y_pred, columns=['Prediction'])], axis=1)\n",
        "pred_merged = test_set[['Id', 'Prediction']]\n",
        "print(len(pred_merged))\n",
        "df = pred_merged.groupby(\"Id\").agg({\"Prediction\": pd.Series.sum})\n",
        "print(len(df))\n",
        "\n",
        "baseline = pd.read_csv(\"/gdrive/MyDrive/Baseline_observation_test.csv\")\n",
        "\n",
        "print(\"Remove Ids not in Baseline.\")\n",
        "submission = baseline.drop(\"Prediction\",axis=1).merge(df, how=\"left\", on=\"Id\")\n",
        "\n",
        "print(f\"\\nSum of NaNs :\\n\\n{submission.isna().sum()}\\n\\n\")\n",
        "if submission[\"Prediction\"].isna().sum() > 0:\n",
        "  print(\"fill nans with average.\")\n",
        "  submission[\"Prediction\"].fillna(submission[\"Prediction\"].mean(), inplace=True)\n",
        "\n",
        "if len(submission) != 85140:\n",
        "  print(\"Warning : len(df) != len(Baseline) i.e. {} != {}\".format(len(submission), 183498))\n",
        "\n",
        "display(submission)\n",
        "print(submission.describe())\n",
        "submission.to_csv('/gdrive/MyDrive/MLDM-Prediction/BIGfinal_xgboost_data_normalisee_Bigdata.csv', index=False)"
      ],
      "metadata": {
        "id": "zXzJg3mCxlG7"
      },
      "execution_count": null,
      "outputs": []
    },
    {
      "cell_type": "code",
      "source": [
        "print(submission.describe())"
      ],
      "metadata": {
        "colab": {
          "base_uri": "https://localhost:8080/"
        },
        "id": "rRHRI87qQGru",
        "outputId": "09dda7a7-3e3b-4cbe-d455-b4008aaa076f"
      },
      "execution_count": null,
      "outputs": [
        {
          "output_type": "stream",
          "name": "stdout",
          "text": [
            "         Prediction\n",
            "count  85140.000000\n",
            "mean       3.315887\n",
            "std        2.669195\n",
            "min       -0.468424\n",
            "25%        1.380118\n",
            "50%        2.612640\n",
            "75%        4.540940\n",
            "max       77.393410\n"
          ]
        }
      ]
    }
  ]
}
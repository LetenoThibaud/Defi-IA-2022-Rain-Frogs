{
 "cells": [
  {
   "cell_type": "code",
   "execution_count": 1,
   "outputs": [],
   "source": [
    "from pprint import pprint\n",
    "import os\n",
    "import numpy as np\n",
    "import pandas as pd\n",
    "import tensorflow as tf\n",
    "from tensorflow.keras import Model\n",
    "from tensorflow.keras import Sequential, activations\n",
    "from tensorflow.keras.optimizers import Adam\n",
    "from sklearn.preprocessing import StandardScaler\n",
    "from tensorflow.keras.layers import Dense, Dropout, Conv1D\n",
    "from sklearn.model_selection import train_test_split\n",
    "from tensorflow.keras.losses import MeanSquaredLogarithmicError, MeanSquaredError\n",
    "\n",
    "import matplotlib.pyplot as plt\n",
    "import seaborn as sns"
   ],
   "metadata": {
    "collapsed": false,
    "pycharm": {
     "name": "#%%\n"
    }
   }
  },
  {
   "cell_type": "code",
   "execution_count": 2,
   "outputs": [],
   "source": [
    "os.environ['CUDA_VISIBLE_DEVICES'] = '-1'"
   ],
   "metadata": {
    "collapsed": false,
    "pycharm": {
     "name": "#%%\n"
    }
   }
  },
  {
   "cell_type": "code",
   "execution_count": 3,
   "outputs": [],
   "source": [
    "def get_variables_and_size():\n",
    "    from sys import getsizeof\n",
    "    names = []\n",
    "    sizes = []\n",
    "    types = []\n",
    "    for name in dir():\n",
    "        # Print the item if it doesn't start with '__'\n",
    "        if not name.startswith('__'):\n",
    "            value = eval(name)\n",
    "            names.append(name)\n",
    "            sizes.append(getsizeof(value))\n",
    "            types.append(type(value))\n",
    "    sort_indexes = np.argsort(sizes)[::-1]\n",
    "    names = np.array(names)[sort_indexes]\n",
    "    sizes = np.array(sizes)[sort_indexes]\n",
    "    types = np.array(types)[sort_indexes]\n",
    "    for n,s,t in zip(names,sizes,types):\n",
    "        print(n, \"\\n\\tsize :\", s, \"\\n\\ttype :\", t)"
   ],
   "metadata": {
    "collapsed": false,
    "pycharm": {
     "name": "#%%\n"
    }
   }
  },
  {
   "cell_type": "code",
   "execution_count": 4,
   "outputs": [],
   "source": [
    "def get_normalization_infos(*x_s, columns):\n",
    "    normalization_infos = pd.DataFrame(data=[[1000 for _ in range(len(columns))],[0 for _ in range(len(columns))]],\n",
    "                                     index=[\"min\",\"max\"],\n",
    "                                     columns=columns)\n",
    "    for x in x_s :\n",
    "        for col in columns:\n",
    "            min_value = min(normalization_infos[col][\"min\"], x[col].min())\n",
    "            max_value = max(normalization_infos[col][\"max\"], x[col].max())\n",
    "            normalization_infos[col] = [min_value, max_value]\n",
    "\n",
    "    normalization_infos.loc[\"spread\"] = normalization_infos.apply(lambda c : c[\"max\"] - c[\"min\"], axis=0)\n",
    "\n",
    "    return normalization_infos\n",
    "\n",
    "def normalize(x : pd.DataFrame, normalization_infos : pd.DataFrame):\n",
    "    for col in x.columns:\n",
    "        x[col] = (x[col] - normalization_infos[col][\"min\"])/normalization_infos[col][\"spread\"]\n",
    "    return x"
   ],
   "metadata": {
    "collapsed": false,
    "pycharm": {
     "name": "#%%\n"
    }
   }
  },
  {
   "cell_type": "code",
   "execution_count": 5,
   "outputs": [],
   "source": [
    "def m_mape(y_true,y_predict):\n",
    "    n = len(y_true)\n",
    "    y_true = np.array(y_true) + 1\n",
    "    y_predict = np.array(y_predict) + 1\n",
    "\n",
    "    res = ((100/n)*(np.sum(np.abs((y_predict-y_true)/y_true))))\n",
    "    return res"
   ],
   "metadata": {
    "collapsed": false,
    "pycharm": {
     "name": "#%%\n"
    }
   }
  },
  {
   "cell_type": "code",
   "execution_count": 6,
   "outputs": [],
   "source": [
    "def box_plot(prediction_df):\n",
    "    y_upper_bound = np.mean([prediction_df[\"ground_truth\"].max(), prediction_df[\"Prediction\"].max()])\n",
    "    mape_score = m_mape(prediction_df[\"ground_truth\"],prediction_df[\"Prediction\"])\n",
    "\n",
    "    plt.figure(figsize=(20,10))\n",
    "    plt.suptitle(\"Prediction on 2017 data.\")\n",
    "\n",
    "    plt.subplot(2,3,1)\n",
    "    plt.title(\"ground_truth\")\n",
    "    plt.boxplot(prediction_df[\"ground_truth\"])\n",
    "    plt.ylim([-0.01,y_upper_bound])\n",
    "\n",
    "    plt.subplot(2,3,2)\n",
    "    plt.title(\"Prediction. MAPE : {:.2f}\".format(mape_score))\n",
    "    plt.boxplot(prediction_df[\"Prediction\"])\n",
    "    plt.ylim([-0.01,y_upper_bound])\n",
    "\n",
    "    plt.subplot(2,3,3)\n",
    "    plt.boxplot(prediction_df[\"reg_pred\"])\n",
    "    plt.title(\"Regression only. MAPE : {:.2f}\".format(m_mape(prediction_df[\"ground_truth\"],prediction_df[\"reg_pred\"])))\n",
    "    plt.ylim([-0.01, y_upper_bound])\n",
    "\n",
    "    plt.subplot(2,3,4)\n",
    "    plt.hist(prediction_df[prediction_df[\"ground_truth\"]<y_upper_bound][\"ground_truth\"], bins=100)\n",
    "    plt.xlim([0,y_upper_bound])\n",
    "    plt.ylim([0,len(prediction_df)])\n",
    "\n",
    "    plt.subplot(2,3,5)\n",
    "    plt.hist(prediction_df[prediction_df[\"Prediction\"]<y_upper_bound][\"Prediction\"], bins=100)\n",
    "    plt.xlim([0,y_upper_bound])\n",
    "    plt.ylim([0,len(prediction_df)])\n",
    "\n",
    "    plt.subplot(2,3,6)\n",
    "    plt.hist(prediction_df[prediction_df[\"reg_pred\"]<y_upper_bound][\"reg_pred\"], bins=100)\n",
    "    plt.xlim([0,y_upper_bound])\n",
    "    plt.ylim([0,len(prediction_df)])\n",
    "\n",
    "    plt.show()"
   ],
   "metadata": {
    "collapsed": false,
    "pycharm": {
     "name": "#%%\n"
    }
   }
  },
  {
   "cell_type": "code",
   "execution_count": 7,
   "outputs": [],
   "source": [
    "# Creating model using the Sequential in tensorflow\n",
    "def build_model_classf(*layers, loss ='binary_crossentropy', metrics = (\"AUC\",\"accuracy\"), learning_rate=0.001, last_activation=\"softmax\"):\n",
    "    model = Sequential()\n",
    "    model.add(layers[0])\n",
    "    for layer in layers[1:]:\n",
    "        model.add(layer)\n",
    "    model.add(Dense(2, activation=last_activation))\n",
    "\n",
    "    model.compile(\n",
    "        loss=loss,\n",
    "        optimizer=Adam(learning_rate=learning_rate),\n",
    "        metrics=metrics\n",
    "    )\n",
    "\n",
    "    print(model.summary())\n",
    "    return model\n",
    "\n",
    "def make_cls_model(*layers,x,y,x_val=None,y_val=None,val_split=0.15, epochs=15, batch_size=64, learning_rate=0.001, last_activation=\"softmax\"):\n",
    "    # build the model\n",
    "    model_cls = build_model_classf(*layers, learning_rate=learning_rate, last_activation=last_activation)\n",
    "    # train the model\n",
    "    if x_val is None :\n",
    "        history_cls = model_cls.fit(\n",
    "            x=x,\n",
    "            y=y,\n",
    "            epochs=epochs,\n",
    "            batch_size=batch_size,\n",
    "            validation_split=val_split\n",
    "            # validation_data=(x_test,y_cls_test)\n",
    "            )\n",
    "    else :\n",
    "        history_cls = model_cls.fit(\n",
    "            x=x,\n",
    "            y=y,\n",
    "            epochs=epochs,\n",
    "            batch_size=batch_size,\n",
    "            # validation_split=0.15\n",
    "            validation_data=(x_val,y_val)\n",
    "            )\n",
    "    return history_cls,model_cls\n",
    "\n",
    "def plot_history_cls(history, loss, key1, key2):\n",
    "    plt.figure(figsize=(17,5))\n",
    "    plt.subplot(1,3,1)\n",
    "    plt.title(\"loss : {}\".format(loss))\n",
    "    plt.plot(history.history[\"loss\"], c=\"cyan\")\n",
    "    plt.plot(history.history[\"val_loss\"], c=\"orange\")\n",
    "    plt.xlabel(\"Epochs\")\n",
    "    plt.xticks(np.linspace(0,len(history.history[\"loss\"]),10,dtype=int))\n",
    "    # plt.ylabel(\"loss\")\n",
    "    plt.legend([\"loss\", \"val_loss\"])\n",
    "\n",
    "    plt.subplot(1,3,2)\n",
    "    plt.title(\"metric : {}\".format(key1))\n",
    "    plt.plot(history.history[key1])\n",
    "    plt.plot(history.history['val_'+key1])\n",
    "    plt.xlabel(\"Epochs\")\n",
    "    plt.xticks(np.linspace(0,len(history.history[\"loss\"]),10,dtype=int))\n",
    "    # plt.ylabel(key1)\n",
    "    plt.legend([key1, 'val_'+key1])\n",
    "\n",
    "    plt.subplot(1,3,3)\n",
    "    plt.title(\"metric : {}\".format(key2))\n",
    "    plt.plot(history.history[key2.lower()])\n",
    "    plt.plot(history.history['val_'+key2.lower()])\n",
    "    plt.xlabel(\"Epochs\")\n",
    "    plt.xticks(np.linspace(0,len(history.history[\"loss\"]),10,dtype=int))\n",
    "    # plt.ylabel(key2)\n",
    "    plt.legend([key2, 'val_'+key2])\n",
    "\n",
    "    plt.suptitle(\"Classification results\")\n",
    "    plt.show()"
   ],
   "metadata": {
    "collapsed": false,
    "pycharm": {
     "name": "#%%\n"
    }
   }
  },
  {
   "cell_type": "code",
   "execution_count": 8,
   "outputs": [],
   "source": [
    "# Creating model using the Sequential in tensorflow\n",
    "def build_model_regrs(*layers, metric = MeanSquaredError(), learning_rate=0.001, last_activation=\"relu\"):\n",
    "    model = Sequential()\n",
    "    model.add(layers[0])\n",
    "    for layer in layers[1:]:\n",
    "        model.add(layer)\n",
    "    model.add(Dense(1, activation=last_activation))\n",
    "\n",
    "    model.compile(\n",
    "        loss=metric,\n",
    "        optimizer=Adam(learning_rate=learning_rate),\n",
    "        metrics=[metric]\n",
    "    )\n",
    "\n",
    "    print(model.summary())\n",
    "    return model\n",
    "\n",
    "def make_reg_model(*layers,x,y,x_val=None,y_val=None,val_split=0.15, epochs=15, batch_size=64, learning_rate=0.001, last_activation=\"relu\"):\n",
    "    # build the model\n",
    "    model_reg = build_model_regrs(*layers, learning_rate=learning_rate, last_activation=last_activation)\n",
    "    # train the model\n",
    "    if x_val is None :\n",
    "        history_reg = model_reg.fit(\n",
    "            x=x,\n",
    "            y=y,\n",
    "            epochs=epochs,\n",
    "            batch_size=batch_size,\n",
    "            validation_split=val_split\n",
    "            # validation_data=(x_test,y_cls_test)\n",
    "            )\n",
    "    else :\n",
    "        history_reg = model_reg.fit(\n",
    "            x=x,\n",
    "            y=y,\n",
    "            epochs=epochs,\n",
    "            batch_size=batch_size,\n",
    "            # validation_split=0.15\n",
    "            validation_data=(x_val,y_val)\n",
    "            )\n",
    "    return history_reg,model_reg\n",
    "\n",
    "def plot_history_reg(history, loss : str):\n",
    "    plt.figure(figsize=(7,5))\n",
    "    plt.title(\"loss : {}\".format(loss))\n",
    "    plt.plot(history.history[\"loss\"], c=\"cyan\")\n",
    "    plt.plot(history.history[\"val_loss\"], c=\"orange\")\n",
    "    plt.xlabel(\"Epochs\")\n",
    "    plt.xticks(np.linspace(0,len(history.history[\"loss\"]),10,dtype=int))\n",
    "    # plt.ylabel(\"loss\")\n",
    "    plt.legend([\"loss\", \"val_loss\"])\n",
    "    plt.show()"
   ],
   "metadata": {
    "collapsed": false,
    "pycharm": {
     "name": "#%%\n"
    }
   }
  },
  {
   "cell_type": "code",
   "execution_count": 9,
   "outputs": [],
   "source": [
    "# custom activation functions\n",
    "exp_relu = lambda x : activations.exponential(activations.relu(x)) - 1\n",
    "square_relu = lambda x : activations.relu(x)**2"
   ],
   "metadata": {
    "collapsed": false,
    "pycharm": {
     "name": "#%%\n"
    }
   }
  },
  {
   "cell_type": "code",
   "execution_count": 10,
   "outputs": [],
   "source": [
    "cluster_month_0 = [11,12,1,2,3,4]\n",
    "cluster_month_1 = [5,6,7,8,9,10]"
   ],
   "metadata": {
    "collapsed": false,
    "pycharm": {
     "name": "#%%\n"
    }
   }
  },
  {
   "cell_type": "markdown",
   "source": [
    "# Load the dataset"
   ],
   "metadata": {
    "collapsed": false
   }
  },
  {
   "cell_type": "code",
   "execution_count": 11,
   "outputs": [],
   "source": [
    "df_train = pd.read_csv(\"../../preprocessed_data_Defi-IA-2022-Rain-Frogs/X_all_2016_final_by_day.zip\")\n",
    "# df_train = pd.read_csv(\"../preprocessed_data_Defi-IA-2022-Rain-Frogs/X_all_2016_final.zip\")\n",
    "df_train[\"raining\"] = df_train[\"ground_truth\"].apply(lambda x : 0 if (x==0) else 1)\n",
    "df_train[\"not_raining\"] = 1-df_train[\"raining\"]\n",
    "\n",
    "x_2016, y_reg_2016, y_cls_2016 = df_train, df_train[\"ground_truth\"], df_train[[\"not_raining\",\"raining\"]].to_numpy()\n",
    "del df_train"
   ],
   "metadata": {
    "collapsed": false,
    "pycharm": {
     "name": "#%%\n"
    }
   }
  },
  {
   "cell_type": "code",
   "execution_count": 12,
   "outputs": [],
   "source": [
    "df_test = pd.read_csv(\"../../preprocessed_data_Defi-IA-2022-Rain-Frogs/X_all_2017_final_by_day.zip\")\n",
    "# df_test = pd.read_csv(\"../preprocessed_data_Defi-IA-2022-Rain-Frogs/X_all_2017_final.zip\")\n",
    "df_test[\"raining\"] = df_test[\"ground_truth\"].apply(lambda x : 0 if (x==0) else 1)\n",
    "df_test[\"not_raining\"] = 1-df_test[\"raining\"]\n",
    "\n",
    "x_2017, y_reg_2017, y_cls_2017 = df_test, df_test[\"ground_truth\"], df_test[[\"not_raining\",\"raining\"]].to_numpy()\n",
    "del df_test"
   ],
   "metadata": {
    "collapsed": false,
    "pycharm": {
     "name": "#%%\n"
    }
   }
  },
  {
   "cell_type": "markdown",
   "source": [
    "# merge 2016, 2017"
   ],
   "metadata": {
    "collapsed": false,
    "pycharm": {
     "name": "#%% md\n"
    }
   }
  },
  {
   "cell_type": "code",
   "execution_count": 13,
   "outputs": [],
   "source": [
    "x = pd.concat([x_2016,x_2017])\n",
    "y_cls = np.concatenate([y_cls_2016, y_cls_2017])\n",
    "y_reg = np.concatenate([y_reg_2016, y_reg_2017])"
   ],
   "metadata": {
    "collapsed": false,
    "pycharm": {
     "name": "#%%\n"
    }
   }
  },
  {
   "cell_type": "markdown",
   "source": [
    "# get cluster 0 (c0) - cluster 1 (c1)"
   ],
   "metadata": {
    "collapsed": false,
    "pycharm": {
     "name": "#%% md\n"
    }
   }
  },
  {
   "cell_type": "code",
   "execution_count": 14,
   "outputs": [],
   "source": [
    "x[\"cluster\"] = x[\"month\"].apply(lambda x : 0 if x in cluster_month_0 else 1)"
   ],
   "metadata": {
    "collapsed": false,
    "pycharm": {
     "name": "#%%\n"
    }
   }
  },
  {
   "cell_type": "code",
   "execution_count": 15,
   "outputs": [],
   "source": [
    "x_train, x_test, y_cls_train, y_cls_test, y_reg_train, y_reg_test = train_test_split(x,y_cls,y_reg, test_size=0.1, random_state=42)"
   ],
   "metadata": {
    "collapsed": false,
    "pycharm": {
     "name": "#%%\n"
    }
   }
  },
  {
   "cell_type": "code",
   "execution_count": 16,
   "outputs": [],
   "source": [
    "prediction_x_test = pd.DataFrame(x_test[[\"Id\",\"ground_truth\", \"month\"]])"
   ],
   "metadata": {
    "collapsed": false,
    "pycharm": {
     "name": "#%%\n"
    }
   }
  },
  {
   "cell_type": "markdown",
   "source": [
    "# drop unnecessary columns"
   ],
   "metadata": {
    "collapsed": false
   }
  },
  {
   "cell_type": "code",
   "execution_count": 17,
   "outputs": [],
   "source": [
    "# define the unnecessary columns\n",
    "cols_to_drop = {\"day\",\"Id\", \"station_id\",\"month\",\"longitude_idx\",\"latitude_idx\", \"next hour precipitation (kg/m^2)\", \"wind_direction (deg)\", \"ground_truth\", \"raining\", \"not_raining\"}"
   ],
   "metadata": {
    "collapsed": false,
    "pycharm": {
     "name": "#%%\n"
    }
   }
  },
  {
   "cell_type": "code",
   "execution_count": 18,
   "outputs": [],
   "source": [
    "#drop unnecessary columns\n",
    "x_train.drop(list(set(x_train.columns)&cols_to_drop), axis=1, inplace=True)"
   ],
   "metadata": {
    "collapsed": false,
    "pycharm": {
     "name": "#%%\n"
    }
   }
  },
  {
   "cell_type": "code",
   "execution_count": 19,
   "outputs": [],
   "source": [
    "#drop unnecessary columns\n",
    "x_test.drop(list(set(x_test.columns)&cols_to_drop), axis=1, inplace=True)"
   ],
   "metadata": {
    "collapsed": false,
    "pycharm": {
     "name": "#%%\n"
    }
   }
  },
  {
   "cell_type": "markdown",
   "source": [
    "\n",
    "# get same columns on both datasets"
   ],
   "metadata": {
    "collapsed": false
   }
  },
  {
   "cell_type": "code",
   "execution_count": 20,
   "outputs": [],
   "source": [
    "columns = list(x_train.columns)\n",
    "x_train = x_train[columns]\n",
    "x_test = x_test[columns]"
   ],
   "metadata": {
    "collapsed": false,
    "pycharm": {
     "name": "#%%\n"
    }
   }
  },
  {
   "cell_type": "markdown",
   "source": [
    "# normalize both dataset with 2016 min and min-max values"
   ],
   "metadata": {
    "collapsed": false
   }
  },
  {
   "cell_type": "code",
   "execution_count": 21,
   "outputs": [],
   "source": [
    "normalization_infos = get_normalization_infos(x_train, x_test, columns=columns)\n",
    "x_train = normalize(x_train, normalization_infos)\n",
    "x_test = normalize(x_test, normalization_infos)"
   ],
   "metadata": {
    "collapsed": false,
    "pycharm": {
     "name": "#%%\n"
    }
   }
  },
  {
   "cell_type": "markdown",
   "source": [
    "# see if the data is balanced raining-wise"
   ],
   "metadata": {
    "collapsed": false
   }
  },
  {
   "cell_type": "code",
   "execution_count": 22,
   "outputs": [
    {
     "data": {
      "text/plain": "<Figure size 720x360 with 2 Axes>",
      "image/png": "[encoded data removed]"
     },
     "metadata": {
      "needs_background": "light"
     },
     "output_type": "display_data"
    }
   ],
   "source": [
    "raining_ratio1 = y_cls_train[:,1].sum()/y_cls_train[:,0].sum()\n",
    "raining_ratio2 = y_cls_test[:,1].sum()/y_cls_test[:,0].sum()\n",
    "avg_raining_ratio = (raining_ratio1+raining_ratio2)/2\n",
    "\n",
    "plt.figure(figsize = (10,5))\n",
    "plt.subplot(1,2,1)\n",
    "sns.histplot(x=y_cls_train[:,1],hue=y_cls_train[:,1])\n",
    "plt.title(\"2016 (train set) : ratio = {:.2f}\".format(raining_ratio1))\n",
    "plt.subplot(1,2,2)\n",
    "sns.histplot(x=y_cls_test[:,1], hue=y_cls_test[:,1])\n",
    "plt.title(\"2017 (test set) : ratio = {:.2f}\".format(raining_ratio2))\n",
    "plt.suptitle(\"Days w/ and w/o rain. avg_raining_ratio : {:.2f}\".format(avg_raining_ratio))\n",
    "plt.show()"
   ],
   "metadata": {
    "collapsed": false,
    "pycharm": {
     "name": "#%%\n"
    }
   }
  },
  {
   "cell_type": "markdown",
   "source": [
    "ratio 2016 and 2017 ==> **Unbalanced**"
   ],
   "metadata": {
    "collapsed": false
   }
  },
  {
   "cell_type": "markdown",
   "source": [
    "# Classification Model (raining or not)\n",
    "source : https://thinkingneuron.com/how-to-use-artificial-neural-networks-for-classification-in-python/"
   ],
   "metadata": {
    "collapsed": false
   }
  },
  {
   "cell_type": "code",
   "execution_count": 23,
   "outputs": [
    {
     "name": "stderr",
     "output_type": "stream",
     "text": [
      "2022-01-20 22:39:57.253520: E tensorflow/stream_executor/cuda/cuda_driver.cc:271] failed call to cuInit: CUDA_ERROR_NO_DEVICE: no CUDA-capable device is detected\n",
      "2022-01-20 22:39:57.253562: I tensorflow/stream_executor/cuda/cuda_diagnostics.cc:169] retrieving CUDA diagnostic information for host: Y540\n",
      "2022-01-20 22:39:57.253570: I tensorflow/stream_executor/cuda/cuda_diagnostics.cc:176] hostname: Y540\n",
      "2022-01-20 22:39:57.253675: I tensorflow/stream_executor/cuda/cuda_diagnostics.cc:200] libcuda reported version is: 495.29.5\n",
      "2022-01-20 22:39:57.253700: I tensorflow/stream_executor/cuda/cuda_diagnostics.cc:204] kernel reported version is: 495.29.5\n",
      "2022-01-20 22:39:57.253707: I tensorflow/stream_executor/cuda/cuda_diagnostics.cc:310] kernel version seems to match DSO: 495.29.5\n",
      "2022-01-20 22:39:57.254414: I tensorflow/core/platform/cpu_feature_guard.cc:151] This TensorFlow binary is optimized with oneAPI Deep Neural Network Library (oneDNN) to use the following CPU instructions in performance-critical operations:  AVX2 FMA\n",
      "To enable them in other operations, rebuild TensorFlow with the appropriate compiler flags.\n"
     ]
    },
    {
     "name": "stdout",
     "output_type": "stream",
     "text": [
      "Model: \"sequential\"\n",
      "_________________________________________________________________\n",
      " Layer (type)                Output Shape              Param #   \n",
      "=================================================================\n",
      " dense (Dense)               (None, 16)                1584      \n",
      "                                                                 \n",
      " dropout (Dropout)           (None, 16)                0         \n",
      "                                                                 \n",
      " dense_1 (Dense)             (None, 16)                272       \n",
      "                                                                 \n",
      " dense_2 (Dense)             (None, 16)                272       \n",
      "                                                                 \n",
      " dense_3 (Dense)             (None, 2)                 34        \n",
      "                                                                 \n",
      "=================================================================\n",
      "Total params: 2,162\n",
      "Trainable params: 2,162\n",
      "Non-trainable params: 0\n",
      "_________________________________________________________________\n",
      "None\n",
      "Epoch 1/300\n",
      "2725/2725 [==============================] - 6s 2ms/step - loss: 0.6253 - auc: 0.7071 - accuracy: 0.6527 - val_loss: 0.6171 - val_auc: 0.7224 - val_accuracy: 0.6634\n",
      "Epoch 2/300\n",
      "2725/2725 [==============================] - 4s 2ms/step - loss: 0.6096 - auc: 0.7293 - accuracy: 0.6696 - val_loss: 0.5983 - val_auc: 0.7447 - val_accuracy: 0.6823\n",
      "Epoch 3/300\n",
      "2725/2725 [==============================] - 5s 2ms/step - loss: 0.6033 - auc: 0.7370 - accuracy: 0.6747 - val_loss: 0.5968 - val_auc: 0.7454 - val_accuracy: 0.6831\n",
      "Epoch 4/300\n",
      "2725/2725 [==============================] - 4s 2ms/step - loss: 0.5985 - auc: 0.7429 - accuracy: 0.6811 - val_loss: 0.5947 - val_auc: 0.7490 - val_accuracy: 0.6863\n",
      "Epoch 5/300\n",
      "2725/2725 [==============================] - 5s 2ms/step - loss: 0.5952 - auc: 0.7468 - accuracy: 0.6858 - val_loss: 0.5908 - val_auc: 0.7541 - val_accuracy: 0.6906\n",
      "Epoch 6/300\n",
      "2725/2725 [==============================] - 4s 1ms/step - loss: 0.5928 - auc: 0.7497 - accuracy: 0.6861 - val_loss: 0.5958 - val_auc: 0.7466 - val_accuracy: 0.6832\n",
      "Epoch 7/300\n",
      "2725/2725 [==============================] - 4s 2ms/step - loss: 0.5908 - auc: 0.7520 - accuracy: 0.6888 - val_loss: 0.5893 - val_auc: 0.7562 - val_accuracy: 0.6929\n",
      "Epoch 8/300\n",
      "2725/2725 [==============================] - 4s 2ms/step - loss: 0.5892 - auc: 0.7538 - accuracy: 0.6898 - val_loss: 0.5912 - val_auc: 0.7558 - val_accuracy: 0.6921\n",
      "Epoch 9/300\n",
      "2725/2725 [==============================] - 4s 2ms/step - loss: 0.5882 - auc: 0.7549 - accuracy: 0.6911 - val_loss: 0.5882 - val_auc: 0.7560 - val_accuracy: 0.6918\n",
      "Epoch 10/300\n",
      "2725/2725 [==============================] - 4s 2ms/step - loss: 0.5867 - auc: 0.7565 - accuracy: 0.6926 - val_loss: 0.5807 - val_auc: 0.7636 - val_accuracy: 0.6990\n",
      "Epoch 11/300\n",
      "2725/2725 [==============================] - 4s 2ms/step - loss: 0.5854 - auc: 0.7578 - accuracy: 0.6934 - val_loss: 0.5822 - val_auc: 0.7626 - val_accuracy: 0.6980\n",
      "Epoch 12/300\n",
      "2725/2725 [==============================] - 4s 2ms/step - loss: 0.5843 - auc: 0.7590 - accuracy: 0.6946 - val_loss: 0.5794 - val_auc: 0.7653 - val_accuracy: 0.6998\n",
      "Epoch 13/300\n",
      "2725/2725 [==============================] - 4s 1ms/step - loss: 0.5832 - auc: 0.7603 - accuracy: 0.6958 - val_loss: 0.5808 - val_auc: 0.7640 - val_accuracy: 0.6989\n",
      "Epoch 14/300\n",
      "2725/2725 [==============================] - 4s 2ms/step - loss: 0.5821 - auc: 0.7614 - accuracy: 0.6951 - val_loss: 0.5776 - val_auc: 0.7663 - val_accuracy: 0.6997\n",
      "Epoch 15/300\n",
      "2725/2725 [==============================] - 4s 2ms/step - loss: 0.5817 - auc: 0.7617 - accuracy: 0.6956 - val_loss: 0.5777 - val_auc: 0.7707 - val_accuracy: 0.7037\n",
      "Epoch 16/300\n",
      "2725/2725 [==============================] - 4s 2ms/step - loss: 0.5803 - auc: 0.7633 - accuracy: 0.6979 - val_loss: 0.5732 - val_auc: 0.7716 - val_accuracy: 0.7022\n",
      "Epoch 17/300\n",
      "2725/2725 [==============================] - 4s 2ms/step - loss: 0.5797 - auc: 0.7638 - accuracy: 0.6978 - val_loss: 0.5734 - val_auc: 0.7711 - val_accuracy: 0.7047\n",
      "Epoch 18/300\n",
      "2725/2725 [==============================] - 5s 2ms/step - loss: 0.5785 - auc: 0.7651 - accuracy: 0.6980 - val_loss: 0.5777 - val_auc: 0.7675 - val_accuracy: 0.7002\n",
      "Epoch 19/300\n",
      "2725/2725 [==============================] - 4s 2ms/step - loss: 0.5779 - auc: 0.7657 - accuracy: 0.6988 - val_loss: 0.5754 - val_auc: 0.7694 - val_accuracy: 0.7014\n",
      "Epoch 20/300\n",
      "2725/2725 [==============================] - 4s 2ms/step - loss: 0.5766 - auc: 0.7670 - accuracy: 0.7004 - val_loss: 0.5812 - val_auc: 0.7628 - val_accuracy: 0.6956\n",
      "Epoch 21/300\n",
      "2725/2725 [==============================] - 4s 2ms/step - loss: 0.5767 - auc: 0.7670 - accuracy: 0.6999 - val_loss: 0.5770 - val_auc: 0.7732 - val_accuracy: 0.7060\n",
      "Epoch 22/300\n",
      "2725/2725 [==============================] - 4s 2ms/step - loss: 0.5753 - auc: 0.7683 - accuracy: 0.7003 - val_loss: 0.5711 - val_auc: 0.7753 - val_accuracy: 0.7070\n",
      "Epoch 23/300\n",
      "2725/2725 [==============================] - 4s 1ms/step - loss: 0.5748 - auc: 0.7689 - accuracy: 0.7014 - val_loss: 0.5695 - val_auc: 0.7775 - val_accuracy: 0.7087\n",
      "Epoch 24/300\n",
      "2725/2725 [==============================] - 4s 2ms/step - loss: 0.5740 - auc: 0.7697 - accuracy: 0.7013 - val_loss: 0.5686 - val_auc: 0.7783 - val_accuracy: 0.7072\n",
      "Epoch 25/300\n",
      "2725/2725 [==============================] - 4s 1ms/step - loss: 0.5738 - auc: 0.7698 - accuracy: 0.7024 - val_loss: 0.5755 - val_auc: 0.7708 - val_accuracy: 0.7031\n",
      "Epoch 26/300\n",
      "2725/2725 [==============================] - 4s 2ms/step - loss: 0.5733 - auc: 0.7704 - accuracy: 0.7016 - val_loss: 0.5709 - val_auc: 0.7745 - val_accuracy: 0.7092\n",
      "Epoch 27/300\n",
      "2725/2725 [==============================] - 4s 2ms/step - loss: 0.5725 - auc: 0.7711 - accuracy: 0.7022 - val_loss: 0.5672 - val_auc: 0.7791 - val_accuracy: 0.7087\n",
      "Epoch 28/300\n",
      "2725/2725 [==============================] - 4s 2ms/step - loss: 0.5720 - auc: 0.7717 - accuracy: 0.7033 - val_loss: 0.5654 - val_auc: 0.7793 - val_accuracy: 0.7092\n",
      "Epoch 29/300\n",
      "2725/2725 [==============================] - 4s 2ms/step - loss: 0.5710 - auc: 0.7724 - accuracy: 0.7037 - val_loss: 0.5689 - val_auc: 0.7752 - val_accuracy: 0.7051\n",
      "Epoch 30/300\n",
      "2725/2725 [==============================] - 4s 2ms/step - loss: 0.5708 - auc: 0.7727 - accuracy: 0.7038 - val_loss: 0.5727 - val_auc: 0.7771 - val_accuracy: 0.7076\n",
      "Epoch 31/300\n",
      "2725/2725 [==============================] - 4s 2ms/step - loss: 0.5701 - auc: 0.7736 - accuracy: 0.7036 - val_loss: 0.5676 - val_auc: 0.7787 - val_accuracy: 0.7098\n",
      "Epoch 32/300\n",
      "2725/2725 [==============================] - 4s 2ms/step - loss: 0.5694 - auc: 0.7741 - accuracy: 0.7044 - val_loss: 0.5725 - val_auc: 0.7724 - val_accuracy: 0.7051\n",
      "Epoch 33/300\n",
      "2725/2725 [==============================] - 4s 1ms/step - loss: 0.5693 - auc: 0.7744 - accuracy: 0.7051 - val_loss: 0.5680 - val_auc: 0.7784 - val_accuracy: 0.7103\n",
      "Epoch 34/300\n",
      "2725/2725 [==============================] - 4s 1ms/step - loss: 0.5688 - auc: 0.7748 - accuracy: 0.7049 - val_loss: 0.5629 - val_auc: 0.7816 - val_accuracy: 0.7102\n",
      "Epoch 35/300\n",
      "2725/2725 [==============================] - 4s 1ms/step - loss: 0.5682 - auc: 0.7754 - accuracy: 0.7054 - val_loss: 0.5624 - val_auc: 0.7819 - val_accuracy: 0.7120\n",
      "Epoch 36/300\n",
      "2725/2725 [==============================] - 4s 2ms/step - loss: 0.5671 - auc: 0.7764 - accuracy: 0.7064 - val_loss: 0.5661 - val_auc: 0.7821 - val_accuracy: 0.7124\n",
      "Epoch 37/300\n",
      "2725/2725 [==============================] - 4s 1ms/step - loss: 0.5673 - auc: 0.7763 - accuracy: 0.7055 - val_loss: 0.5630 - val_auc: 0.7816 - val_accuracy: 0.7127\n",
      "Epoch 38/300\n",
      "2725/2725 [==============================] - 4s 2ms/step - loss: 0.5671 - auc: 0.7765 - accuracy: 0.7055 - val_loss: 0.5637 - val_auc: 0.7817 - val_accuracy: 0.7117\n",
      "Epoch 39/300\n",
      "2725/2725 [==============================] - 4s 2ms/step - loss: 0.5662 - auc: 0.7774 - accuracy: 0.7071 - val_loss: 0.5717 - val_auc: 0.7755 - val_accuracy: 0.7076\n",
      "Epoch 40/300\n",
      "2725/2725 [==============================] - 5s 2ms/step - loss: 0.5665 - auc: 0.7769 - accuracy: 0.7054 - val_loss: 0.5607 - val_auc: 0.7845 - val_accuracy: 0.7139\n",
      "Epoch 41/300\n",
      "2725/2725 [==============================] - 4s 2ms/step - loss: 0.5663 - auc: 0.7774 - accuracy: 0.7068 - val_loss: 0.5597 - val_auc: 0.7850 - val_accuracy: 0.7133\n",
      "Epoch 42/300\n",
      "2725/2725 [==============================] - 4s 2ms/step - loss: 0.5659 - auc: 0.7777 - accuracy: 0.7058 - val_loss: 0.5617 - val_auc: 0.7836 - val_accuracy: 0.7124\n",
      "Epoch 43/300\n",
      "2725/2725 [==============================] - 4s 2ms/step - loss: 0.5651 - auc: 0.7786 - accuracy: 0.7075 - val_loss: 0.5649 - val_auc: 0.7810 - val_accuracy: 0.7109\n",
      "Epoch 44/300\n",
      "2725/2725 [==============================] - 4s 2ms/step - loss: 0.5649 - auc: 0.7786 - accuracy: 0.7077 - val_loss: 0.5581 - val_auc: 0.7879 - val_accuracy: 0.7142\n",
      "Epoch 45/300\n",
      "2725/2725 [==============================] - 4s 2ms/step - loss: 0.5646 - auc: 0.7790 - accuracy: 0.7083 - val_loss: 0.5607 - val_auc: 0.7842 - val_accuracy: 0.7130\n",
      "Epoch 46/300\n",
      "2725/2725 [==============================] - 4s 2ms/step - loss: 0.5643 - auc: 0.7792 - accuracy: 0.7090 - val_loss: 0.5582 - val_auc: 0.7860 - val_accuracy: 0.7138\n",
      "Epoch 47/300\n",
      "2725/2725 [==============================] - 4s 2ms/step - loss: 0.5644 - auc: 0.7790 - accuracy: 0.7080 - val_loss: 0.5606 - val_auc: 0.7843 - val_accuracy: 0.7128\n",
      "Epoch 48/300\n",
      "2725/2725 [==============================] - 4s 2ms/step - loss: 0.5633 - auc: 0.7802 - accuracy: 0.7084 - val_loss: 0.5589 - val_auc: 0.7857 - val_accuracy: 0.7121\n",
      "Epoch 49/300\n",
      "2725/2725 [==============================] - 4s 2ms/step - loss: 0.5628 - auc: 0.7805 - accuracy: 0.7092 - val_loss: 0.5552 - val_auc: 0.7896 - val_accuracy: 0.7155\n",
      "Epoch 50/300\n",
      "2725/2725 [==============================] - 4s 2ms/step - loss: 0.5629 - auc: 0.7805 - accuracy: 0.7097 - val_loss: 0.5590 - val_auc: 0.7849 - val_accuracy: 0.7130\n",
      "Epoch 51/300\n",
      "2725/2725 [==============================] - 4s 2ms/step - loss: 0.5623 - auc: 0.7810 - accuracy: 0.7093 - val_loss: 0.5571 - val_auc: 0.7869 - val_accuracy: 0.7131\n",
      "Epoch 52/300\n",
      "2725/2725 [==============================] - 4s 2ms/step - loss: 0.5626 - auc: 0.7808 - accuracy: 0.7094 - val_loss: 0.5538 - val_auc: 0.7901 - val_accuracy: 0.7150\n",
      "Epoch 53/300\n",
      "2725/2725 [==============================] - 5s 2ms/step - loss: 0.5620 - auc: 0.7813 - accuracy: 0.7090 - val_loss: 0.5614 - val_auc: 0.7853 - val_accuracy: 0.7125\n",
      "Epoch 54/300\n",
      "2725/2725 [==============================] - 4s 2ms/step - loss: 0.5620 - auc: 0.7815 - accuracy: 0.7094 - val_loss: 0.5594 - val_auc: 0.7867 - val_accuracy: 0.7149\n",
      "Epoch 55/300\n",
      "2725/2725 [==============================] - 4s 2ms/step - loss: 0.5610 - auc: 0.7824 - accuracy: 0.7096 - val_loss: 0.5574 - val_auc: 0.7867 - val_accuracy: 0.7150\n",
      "Epoch 56/300\n",
      "2725/2725 [==============================] - 4s 2ms/step - loss: 0.5615 - auc: 0.7818 - accuracy: 0.7098 - val_loss: 0.5551 - val_auc: 0.7895 - val_accuracy: 0.7165\n",
      "Epoch 57/300\n",
      "2725/2725 [==============================] - 5s 2ms/step - loss: 0.5613 - auc: 0.7818 - accuracy: 0.7094 - val_loss: 0.5669 - val_auc: 0.7783 - val_accuracy: 0.7079\n",
      "Epoch 58/300\n",
      "2725/2725 [==============================] - 4s 2ms/step - loss: 0.5602 - auc: 0.7830 - accuracy: 0.7103 - val_loss: 0.5530 - val_auc: 0.7912 - val_accuracy: 0.7186\n",
      "Epoch 59/300\n",
      "2725/2725 [==============================] - 4s 2ms/step - loss: 0.5602 - auc: 0.7831 - accuracy: 0.7112 - val_loss: 0.5596 - val_auc: 0.7881 - val_accuracy: 0.7134\n",
      "Epoch 60/300\n",
      "2725/2725 [==============================] - 4s 2ms/step - loss: 0.5603 - auc: 0.7831 - accuracy: 0.7108 - val_loss: 0.5696 - val_auc: 0.7758 - val_accuracy: 0.7074\n",
      "Epoch 61/300\n",
      "2725/2725 [==============================] - 4s 2ms/step - loss: 0.5598 - auc: 0.7836 - accuracy: 0.7109 - val_loss: 0.5515 - val_auc: 0.7928 - val_accuracy: 0.7184\n",
      "Epoch 62/300\n",
      "2725/2725 [==============================] - 4s 2ms/step - loss: 0.5591 - auc: 0.7842 - accuracy: 0.7116 - val_loss: 0.5570 - val_auc: 0.7905 - val_accuracy: 0.7180\n",
      "Epoch 63/300\n",
      "2725/2725 [==============================] - 4s 1ms/step - loss: 0.5601 - auc: 0.7832 - accuracy: 0.7106 - val_loss: 0.5512 - val_auc: 0.7923 - val_accuracy: 0.7195\n",
      "Epoch 64/300\n",
      "2725/2725 [==============================] - 4s 2ms/step - loss: 0.5591 - auc: 0.7841 - accuracy: 0.7112 - val_loss: 0.5523 - val_auc: 0.7915 - val_accuracy: 0.7181\n",
      "Epoch 65/300\n",
      "2725/2725 [==============================] - 5s 2ms/step - loss: 0.5589 - auc: 0.7844 - accuracy: 0.7113 - val_loss: 0.5603 - val_auc: 0.7858 - val_accuracy: 0.7146\n",
      "Epoch 66/300\n",
      "2725/2725 [==============================] - 4s 2ms/step - loss: 0.5588 - auc: 0.7846 - accuracy: 0.7120 - val_loss: 0.5494 - val_auc: 0.7945 - val_accuracy: 0.7194\n",
      "Epoch 67/300\n",
      "2725/2725 [==============================] - 4s 2ms/step - loss: 0.5584 - auc: 0.7849 - accuracy: 0.7115 - val_loss: 0.5521 - val_auc: 0.7915 - val_accuracy: 0.7167\n",
      "Epoch 68/300\n",
      "2725/2725 [==============================] - 4s 2ms/step - loss: 0.5584 - auc: 0.7849 - accuracy: 0.7121 - val_loss: 0.5553 - val_auc: 0.7889 - val_accuracy: 0.7156\n",
      "Epoch 69/300\n",
      "2725/2725 [==============================] - 4s 2ms/step - loss: 0.5577 - auc: 0.7856 - accuracy: 0.7126 - val_loss: 0.5508 - val_auc: 0.7921 - val_accuracy: 0.7179\n",
      "Epoch 70/300\n",
      "2725/2725 [==============================] - 4s 2ms/step - loss: 0.5579 - auc: 0.7854 - accuracy: 0.7117 - val_loss: 0.5601 - val_auc: 0.7856 - val_accuracy: 0.7135\n",
      "Epoch 71/300\n",
      "2725/2725 [==============================] - 4s 2ms/step - loss: 0.5574 - auc: 0.7857 - accuracy: 0.7119 - val_loss: 0.5622 - val_auc: 0.7841 - val_accuracy: 0.7146\n",
      "Epoch 72/300\n",
      "2725/2725 [==============================] - 4s 2ms/step - loss: 0.5576 - auc: 0.7856 - accuracy: 0.7122 - val_loss: 0.5506 - val_auc: 0.7948 - val_accuracy: 0.7204\n",
      "Epoch 73/300\n",
      "2725/2725 [==============================] - 4s 2ms/step - loss: 0.5568 - auc: 0.7864 - accuracy: 0.7126 - val_loss: 0.5573 - val_auc: 0.7863 - val_accuracy: 0.7160\n",
      "Epoch 74/300\n",
      "2725/2725 [==============================] - 4s 2ms/step - loss: 0.5566 - auc: 0.7865 - accuracy: 0.7126 - val_loss: 0.5543 - val_auc: 0.7894 - val_accuracy: 0.7164\n",
      "Epoch 75/300\n",
      "2725/2725 [==============================] - 4s 2ms/step - loss: 0.5571 - auc: 0.7862 - accuracy: 0.7126 - val_loss: 0.5520 - val_auc: 0.7918 - val_accuracy: 0.7166\n",
      "Epoch 76/300\n",
      "2725/2725 [==============================] - 5s 2ms/step - loss: 0.5565 - auc: 0.7867 - accuracy: 0.7136 - val_loss: 0.5582 - val_auc: 0.7877 - val_accuracy: 0.7161\n",
      "Epoch 77/300\n",
      "2725/2725 [==============================] - 4s 2ms/step - loss: 0.5560 - auc: 0.7871 - accuracy: 0.7133 - val_loss: 0.5547 - val_auc: 0.7916 - val_accuracy: 0.7201\n",
      "Epoch 78/300\n",
      "2725/2725 [==============================] - 4s 2ms/step - loss: 0.5559 - auc: 0.7873 - accuracy: 0.7135 - val_loss: 0.5566 - val_auc: 0.7880 - val_accuracy: 0.7168\n",
      "Epoch 79/300\n",
      "2725/2725 [==============================] - 4s 2ms/step - loss: 0.5560 - auc: 0.7872 - accuracy: 0.7135 - val_loss: 0.5491 - val_auc: 0.7954 - val_accuracy: 0.7220\n",
      "Epoch 80/300\n",
      "2725/2725 [==============================] - 4s 2ms/step - loss: 0.5553 - auc: 0.7878 - accuracy: 0.7147 - val_loss: 0.5502 - val_auc: 0.7958 - val_accuracy: 0.7224\n",
      "Epoch 81/300\n",
      "2725/2725 [==============================] - 4s 2ms/step - loss: 0.5560 - auc: 0.7871 - accuracy: 0.7131 - val_loss: 0.5538 - val_auc: 0.7917 - val_accuracy: 0.7188\n",
      "Epoch 82/300\n",
      "2725/2725 [==============================] - 4s 2ms/step - loss: 0.5557 - auc: 0.7876 - accuracy: 0.7139 - val_loss: 0.5497 - val_auc: 0.7945 - val_accuracy: 0.7201\n",
      "Epoch 83/300\n",
      "2725/2725 [==============================] - 4s 2ms/step - loss: 0.5556 - auc: 0.7875 - accuracy: 0.7134 - val_loss: 0.5534 - val_auc: 0.7924 - val_accuracy: 0.7204\n",
      "Epoch 84/300\n",
      "2725/2725 [==============================] - 4s 2ms/step - loss: 0.5551 - auc: 0.7881 - accuracy: 0.7148 - val_loss: 0.5452 - val_auc: 0.7981 - val_accuracy: 0.7226\n",
      "Epoch 85/300\n",
      "2725/2725 [==============================] - 4s 2ms/step - loss: 0.5549 - auc: 0.7883 - accuracy: 0.7135 - val_loss: 0.5499 - val_auc: 0.7961 - val_accuracy: 0.7221\n",
      "Epoch 86/300\n",
      "2725/2725 [==============================] - 4s 2ms/step - loss: 0.5545 - auc: 0.7886 - accuracy: 0.7142 - val_loss: 0.5464 - val_auc: 0.7975 - val_accuracy: 0.7226\n",
      "Epoch 87/300\n",
      "2725/2725 [==============================] - 4s 2ms/step - loss: 0.5544 - auc: 0.7886 - accuracy: 0.7141 - val_loss: 0.5529 - val_auc: 0.7934 - val_accuracy: 0.7213\n",
      "Epoch 88/300\n",
      "2725/2725 [==============================] - 4s 2ms/step - loss: 0.5541 - auc: 0.7890 - accuracy: 0.7141 - val_loss: 0.5536 - val_auc: 0.7924 - val_accuracy: 0.7204\n",
      "Epoch 89/300\n",
      "2725/2725 [==============================] - 4s 2ms/step - loss: 0.5542 - auc: 0.7890 - accuracy: 0.7153 - val_loss: 0.5492 - val_auc: 0.7954 - val_accuracy: 0.7236\n",
      "Epoch 90/300\n",
      "2725/2725 [==============================] - 4s 2ms/step - loss: 0.5541 - auc: 0.7888 - accuracy: 0.7149 - val_loss: 0.5509 - val_auc: 0.7946 - val_accuracy: 0.7218\n",
      "Epoch 91/300\n",
      "2725/2725 [==============================] - 4s 2ms/step - loss: 0.5540 - auc: 0.7891 - accuracy: 0.7148 - val_loss: 0.5590 - val_auc: 0.7879 - val_accuracy: 0.7140\n",
      "Epoch 92/300\n",
      "2725/2725 [==============================] - 5s 2ms/step - loss: 0.5544 - auc: 0.7885 - accuracy: 0.7144 - val_loss: 0.5521 - val_auc: 0.7923 - val_accuracy: 0.7177\n",
      "Epoch 93/300\n",
      "2725/2725 [==============================] - 5s 2ms/step - loss: 0.5530 - auc: 0.7899 - accuracy: 0.7147 - val_loss: 0.5460 - val_auc: 0.7973 - val_accuracy: 0.7225\n",
      "Epoch 94/300\n",
      "2725/2725 [==============================] - 4s 1ms/step - loss: 0.5534 - auc: 0.7895 - accuracy: 0.7152 - val_loss: 0.5492 - val_auc: 0.7936 - val_accuracy: 0.7182\n",
      "Epoch 95/300\n",
      "2725/2725 [==============================] - 4s 2ms/step - loss: 0.5532 - auc: 0.7898 - accuracy: 0.7149 - val_loss: 0.5505 - val_auc: 0.7950 - val_accuracy: 0.7225\n",
      "Epoch 96/300\n",
      "2725/2725 [==============================] - 4s 2ms/step - loss: 0.5528 - auc: 0.7901 - accuracy: 0.7153 - val_loss: 0.5507 - val_auc: 0.7940 - val_accuracy: 0.7205\n",
      "Epoch 97/300\n",
      "2725/2725 [==============================] - 4s 2ms/step - loss: 0.5523 - auc: 0.7907 - accuracy: 0.7156 - val_loss: 0.5518 - val_auc: 0.7949 - val_accuracy: 0.7219\n",
      "Epoch 98/300\n",
      "2725/2725 [==============================] - 4s 2ms/step - loss: 0.5534 - auc: 0.7897 - accuracy: 0.7138 - val_loss: 0.5454 - val_auc: 0.7995 - val_accuracy: 0.7251\n",
      "Epoch 99/300\n",
      "2725/2725 [==============================] - 4s 2ms/step - loss: 0.5526 - auc: 0.7903 - accuracy: 0.7157 - val_loss: 0.5452 - val_auc: 0.7973 - val_accuracy: 0.7217\n",
      "Epoch 100/300\n",
      "2725/2725 [==============================] - 4s 2ms/step - loss: 0.5523 - auc: 0.7907 - accuracy: 0.7155 - val_loss: 0.5490 - val_auc: 0.7946 - val_accuracy: 0.7213\n",
      "Epoch 101/300\n",
      "2725/2725 [==============================] - 4s 2ms/step - loss: 0.5523 - auc: 0.7906 - accuracy: 0.7155 - val_loss: 0.5456 - val_auc: 0.7988 - val_accuracy: 0.7241\n",
      "Epoch 102/300\n",
      "2725/2725 [==============================] - 4s 2ms/step - loss: 0.5520 - auc: 0.7908 - accuracy: 0.7152 - val_loss: 0.5500 - val_auc: 0.7936 - val_accuracy: 0.7196\n",
      "Epoch 103/300\n",
      "2725/2725 [==============================] - 4s 2ms/step - loss: 0.5521 - auc: 0.7909 - accuracy: 0.7160 - val_loss: 0.5455 - val_auc: 0.7978 - val_accuracy: 0.7214\n",
      "Epoch 104/300\n",
      "2725/2725 [==============================] - 4s 2ms/step - loss: 0.5515 - auc: 0.7915 - accuracy: 0.7173 - val_loss: 0.5479 - val_auc: 0.7984 - val_accuracy: 0.7213\n",
      "Epoch 105/300\n",
      "2725/2725 [==============================] - 4s 2ms/step - loss: 0.5518 - auc: 0.7911 - accuracy: 0.7164 - val_loss: 0.5527 - val_auc: 0.7934 - val_accuracy: 0.7198\n",
      "Epoch 106/300\n",
      "2725/2725 [==============================] - 4s 2ms/step - loss: 0.5519 - auc: 0.7910 - accuracy: 0.7160 - val_loss: 0.5466 - val_auc: 0.7976 - val_accuracy: 0.7244\n",
      "Epoch 107/300\n",
      "2725/2725 [==============================] - 4s 2ms/step - loss: 0.5511 - auc: 0.7916 - accuracy: 0.7158 - val_loss: 0.5487 - val_auc: 0.7953 - val_accuracy: 0.7220\n",
      "Epoch 108/300\n",
      "2725/2725 [==============================] - 4s 2ms/step - loss: 0.5511 - auc: 0.7917 - accuracy: 0.7160 - val_loss: 0.5460 - val_auc: 0.7980 - val_accuracy: 0.7240\n",
      "Epoch 109/300\n",
      "2725/2725 [==============================] - 4s 2ms/step - loss: 0.5508 - auc: 0.7919 - accuracy: 0.7167 - val_loss: 0.5481 - val_auc: 0.7972 - val_accuracy: 0.7218\n",
      "Epoch 110/300\n",
      "2725/2725 [==============================] - 4s 2ms/step - loss: 0.5507 - auc: 0.7921 - accuracy: 0.7168 - val_loss: 0.5533 - val_auc: 0.7906 - val_accuracy: 0.7165\n",
      "Epoch 111/300\n",
      "2725/2725 [==============================] - 4s 2ms/step - loss: 0.5510 - auc: 0.7916 - accuracy: 0.7156 - val_loss: 0.5548 - val_auc: 0.7900 - val_accuracy: 0.7172\n",
      "Epoch 112/300\n",
      "2725/2725 [==============================] - 5s 2ms/step - loss: 0.5506 - auc: 0.7922 - accuracy: 0.7170 - val_loss: 0.5462 - val_auc: 0.7978 - val_accuracy: 0.7228\n",
      "Epoch 113/300\n",
      "2725/2725 [==============================] - 4s 2ms/step - loss: 0.5505 - auc: 0.7923 - accuracy: 0.7171 - val_loss: 0.5450 - val_auc: 0.7980 - val_accuracy: 0.7212\n",
      "Epoch 114/300\n",
      "2725/2725 [==============================] - 4s 2ms/step - loss: 0.5503 - auc: 0.7925 - accuracy: 0.7166 - val_loss: 0.5431 - val_auc: 0.7996 - val_accuracy: 0.7203\n",
      "Epoch 115/300\n",
      "2725/2725 [==============================] - 4s 2ms/step - loss: 0.5505 - auc: 0.7923 - accuracy: 0.7168 - val_loss: 0.5518 - val_auc: 0.7918 - val_accuracy: 0.7162\n",
      "Epoch 116/300\n",
      "2725/2725 [==============================] - 4s 2ms/step - loss: 0.5502 - auc: 0.7927 - accuracy: 0.7174 - val_loss: 0.5488 - val_auc: 0.7948 - val_accuracy: 0.7208\n",
      "Epoch 117/300\n",
      "2725/2725 [==============================] - 4s 2ms/step - loss: 0.5497 - auc: 0.7930 - accuracy: 0.7176 - val_loss: 0.5478 - val_auc: 0.7992 - val_accuracy: 0.7246\n",
      "Epoch 118/300\n",
      "2725/2725 [==============================] - 4s 2ms/step - loss: 0.5504 - auc: 0.7924 - accuracy: 0.7172 - val_loss: 0.5473 - val_auc: 0.7992 - val_accuracy: 0.7244\n",
      "Epoch 119/300\n",
      "2725/2725 [==============================] - 4s 2ms/step - loss: 0.5493 - auc: 0.7933 - accuracy: 0.7180 - val_loss: 0.5488 - val_auc: 0.7939 - val_accuracy: 0.7184\n",
      "Epoch 120/300\n",
      "2725/2725 [==============================] - 4s 2ms/step - loss: 0.5487 - auc: 0.7938 - accuracy: 0.7182 - val_loss: 0.5445 - val_auc: 0.7989 - val_accuracy: 0.7234\n",
      "Epoch 121/300\n",
      "2725/2725 [==============================] - 4s 2ms/step - loss: 0.5495 - auc: 0.7931 - accuracy: 0.7171 - val_loss: 0.5492 - val_auc: 0.7968 - val_accuracy: 0.7221\n",
      "Epoch 122/300\n",
      "2725/2725 [==============================] - 4s 2ms/step - loss: 0.5490 - auc: 0.7935 - accuracy: 0.7180 - val_loss: 0.5437 - val_auc: 0.7994 - val_accuracy: 0.7234\n",
      "Epoch 123/300\n",
      "2725/2725 [==============================] - 4s 2ms/step - loss: 0.5494 - auc: 0.7932 - accuracy: 0.7181 - val_loss: 0.5403 - val_auc: 0.8025 - val_accuracy: 0.7250\n",
      "Epoch 124/300\n",
      "2725/2725 [==============================] - 4s 2ms/step - loss: 0.5493 - auc: 0.7934 - accuracy: 0.7181 - val_loss: 0.5466 - val_auc: 0.7988 - val_accuracy: 0.7232\n",
      "Epoch 125/300\n",
      "2725/2725 [==============================] - 4s 2ms/step - loss: 0.5496 - auc: 0.7931 - accuracy: 0.7175 - val_loss: 0.5500 - val_auc: 0.7944 - val_accuracy: 0.7200\n",
      "Epoch 126/300\n",
      "2725/2725 [==============================] - 4s 2ms/step - loss: 0.5480 - auc: 0.7943 - accuracy: 0.7170 - val_loss: 0.5446 - val_auc: 0.8004 - val_accuracy: 0.7223\n",
      "Epoch 127/300\n",
      "2725/2725 [==============================] - 4s 2ms/step - loss: 0.5488 - auc: 0.7939 - accuracy: 0.7191 - val_loss: 0.5426 - val_auc: 0.7994 - val_accuracy: 0.7219\n",
      "Epoch 128/300\n",
      "2725/2725 [==============================] - 4s 2ms/step - loss: 0.5483 - auc: 0.7941 - accuracy: 0.7182 - val_loss: 0.5411 - val_auc: 0.8024 - val_accuracy: 0.7268\n",
      "Epoch 129/300\n",
      "2725/2725 [==============================] - 4s 2ms/step - loss: 0.5482 - auc: 0.7944 - accuracy: 0.7184 - val_loss: 0.5456 - val_auc: 0.7984 - val_accuracy: 0.7226\n",
      "Epoch 130/300\n",
      "2725/2725 [==============================] - 4s 2ms/step - loss: 0.5485 - auc: 0.7940 - accuracy: 0.7181 - val_loss: 0.5417 - val_auc: 0.8021 - val_accuracy: 0.7246\n",
      "Epoch 131/300\n",
      "2725/2725 [==============================] - 4s 2ms/step - loss: 0.5482 - auc: 0.7945 - accuracy: 0.7184 - val_loss: 0.5403 - val_auc: 0.8025 - val_accuracy: 0.7274\n",
      "Epoch 132/300\n",
      "2725/2725 [==============================] - 4s 2ms/step - loss: 0.5476 - auc: 0.7949 - accuracy: 0.7196 - val_loss: 0.5418 - val_auc: 0.8021 - val_accuracy: 0.7251\n",
      "Epoch 133/300\n",
      "2725/2725 [==============================] - 4s 2ms/step - loss: 0.5478 - auc: 0.7946 - accuracy: 0.7178 - val_loss: 0.5401 - val_auc: 0.8023 - val_accuracy: 0.7252\n",
      "Epoch 134/300\n",
      "2725/2725 [==============================] - 4s 2ms/step - loss: 0.5472 - auc: 0.7951 - accuracy: 0.7188 - val_loss: 0.5444 - val_auc: 0.8006 - val_accuracy: 0.7242\n",
      "Epoch 135/300\n",
      "2725/2725 [==============================] - 4s 2ms/step - loss: 0.5482 - auc: 0.7944 - accuracy: 0.7182 - val_loss: 0.5418 - val_auc: 0.8018 - val_accuracy: 0.7256\n",
      "Epoch 136/300\n",
      "2725/2725 [==============================] - 4s 2ms/step - loss: 0.5470 - auc: 0.7954 - accuracy: 0.7190 - val_loss: 0.5470 - val_auc: 0.7986 - val_accuracy: 0.7225\n",
      "Epoch 137/300\n",
      "2725/2725 [==============================] - 4s 2ms/step - loss: 0.5472 - auc: 0.7951 - accuracy: 0.7193 - val_loss: 0.5453 - val_auc: 0.7985 - val_accuracy: 0.7238\n",
      "Epoch 138/300\n",
      "2725/2725 [==============================] - 4s 2ms/step - loss: 0.5477 - auc: 0.7947 - accuracy: 0.7186 - val_loss: 0.5405 - val_auc: 0.8023 - val_accuracy: 0.7251\n",
      "Epoch 139/300\n",
      "2725/2725 [==============================] - 5s 2ms/step - loss: 0.5479 - auc: 0.7945 - accuracy: 0.7183 - val_loss: 0.5434 - val_auc: 0.8001 - val_accuracy: 0.7231\n",
      "Epoch 140/300\n",
      "2725/2725 [==============================] - 4s 2ms/step - loss: 0.5476 - auc: 0.7949 - accuracy: 0.7187 - val_loss: 0.5407 - val_auc: 0.8022 - val_accuracy: 0.7239\n",
      "Epoch 141/300\n",
      "2725/2725 [==============================] - 4s 2ms/step - loss: 0.5464 - auc: 0.7960 - accuracy: 0.7187 - val_loss: 0.5419 - val_auc: 0.8016 - val_accuracy: 0.7246\n",
      "Epoch 142/300\n",
      "2725/2725 [==============================] - 5s 2ms/step - loss: 0.5473 - auc: 0.7951 - accuracy: 0.7193 - val_loss: 0.5432 - val_auc: 0.8011 - val_accuracy: 0.7249\n",
      "Epoch 143/300\n",
      "2725/2725 [==============================] - 4s 2ms/step - loss: 0.5471 - auc: 0.7951 - accuracy: 0.7186 - val_loss: 0.5414 - val_auc: 0.8045 - val_accuracy: 0.7276\n",
      "Epoch 144/300\n",
      "2725/2725 [==============================] - 4s 2ms/step - loss: 0.5469 - auc: 0.7956 - accuracy: 0.7196 - val_loss: 0.5474 - val_auc: 0.7988 - val_accuracy: 0.7247\n",
      "Epoch 145/300\n",
      "2725/2725 [==============================] - 4s 2ms/step - loss: 0.5470 - auc: 0.7953 - accuracy: 0.7195 - val_loss: 0.5431 - val_auc: 0.8009 - val_accuracy: 0.7252\n",
      "Epoch 146/300\n",
      "2725/2725 [==============================] - 4s 2ms/step - loss: 0.5465 - auc: 0.7959 - accuracy: 0.7194 - val_loss: 0.5416 - val_auc: 0.8019 - val_accuracy: 0.7251\n",
      "Epoch 147/300\n",
      "2725/2725 [==============================] - 4s 2ms/step - loss: 0.5463 - auc: 0.7960 - accuracy: 0.7189 - val_loss: 0.5447 - val_auc: 0.8006 - val_accuracy: 0.7260\n",
      "Epoch 148/300\n",
      "2725/2725 [==============================] - 4s 2ms/step - loss: 0.5464 - auc: 0.7959 - accuracy: 0.7197 - val_loss: 0.5469 - val_auc: 0.7978 - val_accuracy: 0.7216\n",
      "Epoch 149/300\n",
      "2725/2725 [==============================] - 5s 2ms/step - loss: 0.5457 - auc: 0.7964 - accuracy: 0.7195 - val_loss: 0.5425 - val_auc: 0.8020 - val_accuracy: 0.7265\n",
      "Epoch 150/300\n",
      "2725/2725 [==============================] - 4s 2ms/step - loss: 0.5463 - auc: 0.7960 - accuracy: 0.7195 - val_loss: 0.5455 - val_auc: 0.7988 - val_accuracy: 0.7230\n",
      "Epoch 151/300\n",
      "2725/2725 [==============================] - 4s 2ms/step - loss: 0.5464 - auc: 0.7959 - accuracy: 0.7197 - val_loss: 0.5419 - val_auc: 0.8034 - val_accuracy: 0.7272\n",
      "Epoch 152/300\n",
      "2725/2725 [==============================] - 5s 2ms/step - loss: 0.5463 - auc: 0.7961 - accuracy: 0.7203 - val_loss: 0.5513 - val_auc: 0.7940 - val_accuracy: 0.7205\n",
      "Epoch 153/300\n",
      "2725/2725 [==============================] - 4s 2ms/step - loss: 0.5458 - auc: 0.7963 - accuracy: 0.7192 - val_loss: 0.5486 - val_auc: 0.7964 - val_accuracy: 0.7202\n",
      "Epoch 154/300\n",
      "2725/2725 [==============================] - 4s 2ms/step - loss: 0.5459 - auc: 0.7965 - accuracy: 0.7203 - val_loss: 0.5434 - val_auc: 0.8020 - val_accuracy: 0.7267\n",
      "Epoch 155/300\n",
      "2725/2725 [==============================] - 5s 2ms/step - loss: 0.5460 - auc: 0.7962 - accuracy: 0.7196 - val_loss: 0.5427 - val_auc: 0.8029 - val_accuracy: 0.7259\n",
      "Epoch 156/300\n",
      "2725/2725 [==============================] - 4s 2ms/step - loss: 0.5461 - auc: 0.7961 - accuracy: 0.7196 - val_loss: 0.5430 - val_auc: 0.8002 - val_accuracy: 0.7230\n",
      "Epoch 157/300\n",
      "2725/2725 [==============================] - 4s 2ms/step - loss: 0.5454 - auc: 0.7969 - accuracy: 0.7200 - val_loss: 0.5395 - val_auc: 0.8031 - val_accuracy: 0.7261\n",
      "Epoch 158/300\n",
      "2725/2725 [==============================] - 5s 2ms/step - loss: 0.5453 - auc: 0.7967 - accuracy: 0.7199 - val_loss: 0.5429 - val_auc: 0.8008 - val_accuracy: 0.7257\n",
      "Epoch 159/300\n",
      "2725/2725 [==============================] - 4s 2ms/step - loss: 0.5446 - auc: 0.7975 - accuracy: 0.7213 - val_loss: 0.5423 - val_auc: 0.8014 - val_accuracy: 0.7264\n",
      "Epoch 160/300\n",
      "2725/2725 [==============================] - 4s 2ms/step - loss: 0.5456 - auc: 0.7964 - accuracy: 0.7190 - val_loss: 0.5440 - val_auc: 0.8024 - val_accuracy: 0.7270\n",
      "Epoch 161/300\n",
      "2725/2725 [==============================] - 4s 2ms/step - loss: 0.5445 - auc: 0.7978 - accuracy: 0.7214 - val_loss: 0.5366 - val_auc: 0.8058 - val_accuracy: 0.7280\n",
      "Epoch 162/300\n",
      "2725/2725 [==============================] - 4s 2ms/step - loss: 0.5459 - auc: 0.7963 - accuracy: 0.7194 - val_loss: 0.5420 - val_auc: 0.8024 - val_accuracy: 0.7272\n",
      "Epoch 163/300\n",
      "2725/2725 [==============================] - 4s 2ms/step - loss: 0.5449 - auc: 0.7973 - accuracy: 0.7208 - val_loss: 0.5424 - val_auc: 0.8020 - val_accuracy: 0.7256\n",
      "Epoch 164/300\n",
      "2725/2725 [==============================] - 5s 2ms/step - loss: 0.5448 - auc: 0.7974 - accuracy: 0.7204 - val_loss: 0.5429 - val_auc: 0.8003 - val_accuracy: 0.7260\n",
      "Epoch 165/300\n",
      "2725/2725 [==============================] - 4s 2ms/step - loss: 0.5447 - auc: 0.7974 - accuracy: 0.7203 - val_loss: 0.5388 - val_auc: 0.8056 - val_accuracy: 0.7287\n",
      "Epoch 166/300\n",
      "2725/2725 [==============================] - 4s 2ms/step - loss: 0.5449 - auc: 0.7972 - accuracy: 0.7208 - val_loss: 0.5427 - val_auc: 0.8005 - val_accuracy: 0.7241\n",
      "Epoch 167/300\n",
      "2725/2725 [==============================] - 4s 2ms/step - loss: 0.5444 - auc: 0.7978 - accuracy: 0.7211 - val_loss: 0.5402 - val_auc: 0.8033 - val_accuracy: 0.7267\n",
      "Epoch 168/300\n",
      "2725/2725 [==============================] - 4s 2ms/step - loss: 0.5449 - auc: 0.7972 - accuracy: 0.7202 - val_loss: 0.5393 - val_auc: 0.8038 - val_accuracy: 0.7289\n",
      "Epoch 169/300\n",
      "2725/2725 [==============================] - 4s 2ms/step - loss: 0.5447 - auc: 0.7975 - accuracy: 0.7210 - val_loss: 0.5436 - val_auc: 0.7996 - val_accuracy: 0.7247\n",
      "Epoch 170/300\n",
      "2725/2725 [==============================] - 4s 2ms/step - loss: 0.5448 - auc: 0.7972 - accuracy: 0.7198 - val_loss: 0.5409 - val_auc: 0.8044 - val_accuracy: 0.7276\n",
      "Epoch 171/300\n",
      "2725/2725 [==============================] - 5s 2ms/step - loss: 0.5446 - auc: 0.7976 - accuracy: 0.7214 - val_loss: 0.5422 - val_auc: 0.8040 - val_accuracy: 0.7276\n",
      "Epoch 172/300\n",
      "2725/2725 [==============================] - 5s 2ms/step - loss: 0.5443 - auc: 0.7977 - accuracy: 0.7202 - val_loss: 0.5357 - val_auc: 0.8068 - val_accuracy: 0.7287\n",
      "Epoch 173/300\n",
      "2725/2725 [==============================] - 5s 2ms/step - loss: 0.5445 - auc: 0.7977 - accuracy: 0.7218 - val_loss: 0.5476 - val_auc: 0.7961 - val_accuracy: 0.7214\n",
      "Epoch 174/300\n",
      "2725/2725 [==============================] - 4s 2ms/step - loss: 0.5440 - auc: 0.7980 - accuracy: 0.7209 - val_loss: 0.5374 - val_auc: 0.8051 - val_accuracy: 0.7283\n",
      "Epoch 175/300\n",
      "2725/2725 [==============================] - 4s 2ms/step - loss: 0.5440 - auc: 0.7982 - accuracy: 0.7218 - val_loss: 0.5380 - val_auc: 0.8055 - val_accuracy: 0.7292\n",
      "Epoch 176/300\n",
      "2725/2725 [==============================] - 4s 2ms/step - loss: 0.5441 - auc: 0.7979 - accuracy: 0.7212 - val_loss: 0.5384 - val_auc: 0.8044 - val_accuracy: 0.7258\n",
      "Epoch 177/300\n",
      "2725/2725 [==============================] - 4s 2ms/step - loss: 0.5441 - auc: 0.7979 - accuracy: 0.7215 - val_loss: 0.5360 - val_auc: 0.8065 - val_accuracy: 0.7272\n",
      "Epoch 178/300\n",
      "2725/2725 [==============================] - 4s 2ms/step - loss: 0.5435 - auc: 0.7986 - accuracy: 0.7220 - val_loss: 0.5373 - val_auc: 0.8060 - val_accuracy: 0.7262\n",
      "Epoch 179/300\n",
      "2725/2725 [==============================] - 4s 2ms/step - loss: 0.5433 - auc: 0.7986 - accuracy: 0.7212 - val_loss: 0.5399 - val_auc: 0.8032 - val_accuracy: 0.7247\n",
      "Epoch 180/300\n",
      "2725/2725 [==============================] - 4s 2ms/step - loss: 0.5429 - auc: 0.7991 - accuracy: 0.7223 - val_loss: 0.5422 - val_auc: 0.8019 - val_accuracy: 0.7265\n",
      "Epoch 181/300\n",
      "2725/2725 [==============================] - 4s 2ms/step - loss: 0.5435 - auc: 0.7985 - accuracy: 0.7218 - val_loss: 0.5376 - val_auc: 0.8051 - val_accuracy: 0.7286\n",
      "Epoch 182/300\n",
      "2725/2725 [==============================] - 4s 2ms/step - loss: 0.5436 - auc: 0.7983 - accuracy: 0.7208 - val_loss: 0.5358 - val_auc: 0.8070 - val_accuracy: 0.7283\n",
      "Epoch 183/300\n",
      "2725/2725 [==============================] - 4s 2ms/step - loss: 0.5433 - auc: 0.7987 - accuracy: 0.7217 - val_loss: 0.5420 - val_auc: 0.8005 - val_accuracy: 0.7237\n",
      "Epoch 184/300\n",
      "2725/2725 [==============================] - 4s 2ms/step - loss: 0.5437 - auc: 0.7982 - accuracy: 0.7213 - val_loss: 0.5410 - val_auc: 0.8031 - val_accuracy: 0.7259\n",
      "Epoch 185/300\n",
      "2725/2725 [==============================] - 4s 2ms/step - loss: 0.5437 - auc: 0.7983 - accuracy: 0.7214 - val_loss: 0.5401 - val_auc: 0.8048 - val_accuracy: 0.7288\n",
      "Epoch 186/300\n",
      "2725/2725 [==============================] - 4s 1ms/step - loss: 0.5438 - auc: 0.7981 - accuracy: 0.7217 - val_loss: 0.5365 - val_auc: 0.8056 - val_accuracy: 0.7267\n",
      "Epoch 187/300\n",
      "2725/2725 [==============================] - 4s 1ms/step - loss: 0.5435 - auc: 0.7985 - accuracy: 0.7214 - val_loss: 0.5385 - val_auc: 0.8034 - val_accuracy: 0.7266\n",
      "Epoch 188/300\n",
      "2725/2725 [==============================] - 4s 1ms/step - loss: 0.5432 - auc: 0.7989 - accuracy: 0.7219 - val_loss: 0.5427 - val_auc: 0.8018 - val_accuracy: 0.7266\n",
      "Epoch 189/300\n",
      "2725/2725 [==============================] - 4s 1ms/step - loss: 0.5432 - auc: 0.7988 - accuracy: 0.7215 - val_loss: 0.5492 - val_auc: 0.7964 - val_accuracy: 0.7215\n",
      "Epoch 190/300\n",
      "2725/2725 [==============================] - 4s 1ms/step - loss: 0.5432 - auc: 0.7988 - accuracy: 0.7212 - val_loss: 0.5422 - val_auc: 0.8019 - val_accuracy: 0.7245\n",
      "Epoch 191/300\n",
      "2725/2725 [==============================] - 4s 1ms/step - loss: 0.5434 - auc: 0.7985 - accuracy: 0.7213 - val_loss: 0.5387 - val_auc: 0.8051 - val_accuracy: 0.7271\n",
      "Epoch 192/300\n",
      "2725/2725 [==============================] - 4s 1ms/step - loss: 0.5430 - auc: 0.7990 - accuracy: 0.7221 - val_loss: 0.5418 - val_auc: 0.8033 - val_accuracy: 0.7274\n",
      "Epoch 193/300\n",
      "2725/2725 [==============================] - 4s 2ms/step - loss: 0.5432 - auc: 0.7986 - accuracy: 0.7215 - val_loss: 0.5356 - val_auc: 0.8070 - val_accuracy: 0.7279\n",
      "Epoch 194/300\n",
      "2725/2725 [==============================] - 4s 2ms/step - loss: 0.5425 - auc: 0.7993 - accuracy: 0.7223 - val_loss: 0.5392 - val_auc: 0.8052 - val_accuracy: 0.7273\n",
      "Epoch 195/300\n",
      "2725/2725 [==============================] - 4s 2ms/step - loss: 0.5430 - auc: 0.7988 - accuracy: 0.7216 - val_loss: 0.5384 - val_auc: 0.8035 - val_accuracy: 0.7276\n",
      "Epoch 196/300\n",
      "2725/2725 [==============================] - 4s 2ms/step - loss: 0.5431 - auc: 0.7989 - accuracy: 0.7212 - val_loss: 0.5452 - val_auc: 0.7990 - val_accuracy: 0.7225\n",
      "Epoch 197/300\n",
      "2725/2725 [==============================] - 4s 2ms/step - loss: 0.5425 - auc: 0.7995 - accuracy: 0.7225 - val_loss: 0.5410 - val_auc: 0.8028 - val_accuracy: 0.7268\n",
      "Epoch 198/300\n",
      "2725/2725 [==============================] - 4s 2ms/step - loss: 0.5422 - auc: 0.7997 - accuracy: 0.7222 - val_loss: 0.5431 - val_auc: 0.8018 - val_accuracy: 0.7238\n",
      "Epoch 199/300\n",
      "2725/2725 [==============================] - 4s 2ms/step - loss: 0.5431 - auc: 0.7988 - accuracy: 0.7212 - val_loss: 0.5364 - val_auc: 0.8049 - val_accuracy: 0.7258\n",
      "Epoch 200/300\n",
      "2725/2725 [==============================] - 4s 2ms/step - loss: 0.5429 - auc: 0.7990 - accuracy: 0.7221 - val_loss: 0.5433 - val_auc: 0.8010 - val_accuracy: 0.7253\n",
      "Epoch 201/300\n",
      "2725/2725 [==============================] - 5s 2ms/step - loss: 0.5419 - auc: 0.7997 - accuracy: 0.7224 - val_loss: 0.5380 - val_auc: 0.8042 - val_accuracy: 0.7259\n",
      "Epoch 202/300\n",
      "2725/2725 [==============================] - 4s 2ms/step - loss: 0.5423 - auc: 0.7996 - accuracy: 0.7224 - val_loss: 0.5358 - val_auc: 0.8071 - val_accuracy: 0.7296\n",
      "Epoch 203/300\n",
      "2725/2725 [==============================] - 5s 2ms/step - loss: 0.5423 - auc: 0.7996 - accuracy: 0.7223 - val_loss: 0.5336 - val_auc: 0.8076 - val_accuracy: 0.7288\n",
      "Epoch 204/300\n",
      "2725/2725 [==============================] - 4s 2ms/step - loss: 0.5420 - auc: 0.7998 - accuracy: 0.7219 - val_loss: 0.5350 - val_auc: 0.8063 - val_accuracy: 0.7281\n",
      "Epoch 205/300\n",
      "2725/2725 [==============================] - 4s 2ms/step - loss: 0.5424 - auc: 0.7995 - accuracy: 0.7223 - val_loss: 0.5341 - val_auc: 0.8082 - val_accuracy: 0.7297\n",
      "Epoch 206/300\n",
      "2725/2725 [==============================] - 4s 2ms/step - loss: 0.5413 - auc: 0.8005 - accuracy: 0.7224 - val_loss: 0.5368 - val_auc: 0.8056 - val_accuracy: 0.7274\n",
      "Epoch 207/300\n",
      "2725/2725 [==============================] - 5s 2ms/step - loss: 0.5421 - auc: 0.7997 - accuracy: 0.7218 - val_loss: 0.5425 - val_auc: 0.8017 - val_accuracy: 0.7257\n",
      "Epoch 208/300\n",
      "2725/2725 [==============================] - 4s 2ms/step - loss: 0.5421 - auc: 0.7997 - accuracy: 0.7222 - val_loss: 0.5346 - val_auc: 0.8068 - val_accuracy: 0.7288\n",
      "Epoch 209/300\n",
      "2725/2725 [==============================] - 4s 2ms/step - loss: 0.5415 - auc: 0.8002 - accuracy: 0.7222 - val_loss: 0.5381 - val_auc: 0.8052 - val_accuracy: 0.7259\n",
      "Epoch 210/300\n",
      "2725/2725 [==============================] - 4s 2ms/step - loss: 0.5420 - auc: 0.7997 - accuracy: 0.7220 - val_loss: 0.5330 - val_auc: 0.8089 - val_accuracy: 0.7298\n",
      "Epoch 211/300\n",
      "2725/2725 [==============================] - 5s 2ms/step - loss: 0.5419 - auc: 0.7997 - accuracy: 0.7221 - val_loss: 0.5346 - val_auc: 0.8071 - val_accuracy: 0.7266\n",
      "Epoch 212/300\n",
      "2725/2725 [==============================] - 4s 2ms/step - loss: 0.5416 - auc: 0.8001 - accuracy: 0.7226 - val_loss: 0.5378 - val_auc: 0.8041 - val_accuracy: 0.7264\n",
      "Epoch 213/300\n",
      "2725/2725 [==============================] - 4s 2ms/step - loss: 0.5418 - auc: 0.8000 - accuracy: 0.7228 - val_loss: 0.5395 - val_auc: 0.8041 - val_accuracy: 0.7268\n",
      "Epoch 214/300\n",
      "2725/2725 [==============================] - 4s 2ms/step - loss: 0.5422 - auc: 0.7996 - accuracy: 0.7227 - val_loss: 0.5415 - val_auc: 0.8029 - val_accuracy: 0.7273\n",
      "Epoch 215/300\n",
      "2725/2725 [==============================] - 4s 2ms/step - loss: 0.5419 - auc: 0.8000 - accuracy: 0.7219 - val_loss: 0.5352 - val_auc: 0.8072 - val_accuracy: 0.7293\n",
      "Epoch 216/300\n",
      "2725/2725 [==============================] - 4s 2ms/step - loss: 0.5411 - auc: 0.8004 - accuracy: 0.7222 - val_loss: 0.5345 - val_auc: 0.8075 - val_accuracy: 0.7273\n",
      "Epoch 217/300\n",
      "2725/2725 [==============================] - 4s 2ms/step - loss: 0.5410 - auc: 0.8007 - accuracy: 0.7228 - val_loss: 0.5376 - val_auc: 0.8058 - val_accuracy: 0.7285\n",
      "Epoch 218/300\n",
      "2725/2725 [==============================] - 4s 2ms/step - loss: 0.5423 - auc: 0.7996 - accuracy: 0.7221 - val_loss: 0.5366 - val_auc: 0.8070 - val_accuracy: 0.7280\n",
      "Epoch 219/300\n",
      "2725/2725 [==============================] - 4s 2ms/step - loss: 0.5415 - auc: 0.8003 - accuracy: 0.7224 - val_loss: 0.5362 - val_auc: 0.8054 - val_accuracy: 0.7270\n",
      "Epoch 220/300\n",
      "2725/2725 [==============================] - 4s 2ms/step - loss: 0.5418 - auc: 0.7998 - accuracy: 0.7224 - val_loss: 0.5362 - val_auc: 0.8062 - val_accuracy: 0.7277\n",
      "Epoch 221/300\n",
      "2725/2725 [==============================] - 4s 2ms/step - loss: 0.5415 - auc: 0.8001 - accuracy: 0.7222 - val_loss: 0.5382 - val_auc: 0.8053 - val_accuracy: 0.7272\n",
      "Epoch 222/300\n",
      "2725/2725 [==============================] - 4s 2ms/step - loss: 0.5414 - auc: 0.8002 - accuracy: 0.7229 - val_loss: 0.5334 - val_auc: 0.8088 - val_accuracy: 0.7296\n",
      "Epoch 223/300\n",
      "2725/2725 [==============================] - 4s 2ms/step - loss: 0.5419 - auc: 0.7999 - accuracy: 0.7222 - val_loss: 0.5366 - val_auc: 0.8066 - val_accuracy: 0.7284\n",
      "Epoch 224/300\n",
      "2725/2725 [==============================] - 4s 2ms/step - loss: 0.5413 - auc: 0.8004 - accuracy: 0.7225 - val_loss: 0.5354 - val_auc: 0.8071 - val_accuracy: 0.7275\n",
      "Epoch 225/300\n",
      "2725/2725 [==============================] - 4s 2ms/step - loss: 0.5409 - auc: 0.8008 - accuracy: 0.7232 - val_loss: 0.5355 - val_auc: 0.8073 - val_accuracy: 0.7296\n",
      "Epoch 226/300\n",
      "2725/2725 [==============================] - 4s 2ms/step - loss: 0.5408 - auc: 0.8008 - accuracy: 0.7233 - val_loss: 0.5400 - val_auc: 0.8038 - val_accuracy: 0.7248\n",
      "Epoch 227/300\n",
      "2725/2725 [==============================] - 4s 2ms/step - loss: 0.5415 - auc: 0.8003 - accuracy: 0.7229 - val_loss: 0.5431 - val_auc: 0.8002 - val_accuracy: 0.7235\n",
      "Epoch 228/300\n",
      "2725/2725 [==============================] - 4s 1ms/step - loss: 0.5412 - auc: 0.8005 - accuracy: 0.7231 - val_loss: 0.5357 - val_auc: 0.8067 - val_accuracy: 0.7295\n",
      "Epoch 229/300\n",
      "2725/2725 [==============================] - 4s 2ms/step - loss: 0.5411 - auc: 0.8005 - accuracy: 0.7228 - val_loss: 0.5382 - val_auc: 0.8042 - val_accuracy: 0.7261\n",
      "Epoch 230/300\n",
      "2725/2725 [==============================] - 4s 2ms/step - loss: 0.5409 - auc: 0.8008 - accuracy: 0.7238 - val_loss: 0.5324 - val_auc: 0.8087 - val_accuracy: 0.7308\n",
      "Epoch 231/300\n",
      "2725/2725 [==============================] - 4s 2ms/step - loss: 0.5401 - auc: 0.8014 - accuracy: 0.7234 - val_loss: 0.5359 - val_auc: 0.8053 - val_accuracy: 0.7254\n",
      "Epoch 232/300\n",
      "2725/2725 [==============================] - 5s 2ms/step - loss: 0.5414 - auc: 0.8003 - accuracy: 0.7229 - val_loss: 0.5462 - val_auc: 0.7982 - val_accuracy: 0.7225\n",
      "Epoch 233/300\n",
      "2725/2725 [==============================] - 4s 2ms/step - loss: 0.5405 - auc: 0.8012 - accuracy: 0.7234 - val_loss: 0.5334 - val_auc: 0.8082 - val_accuracy: 0.7307\n",
      "Epoch 234/300\n",
      "2725/2725 [==============================] - 4s 2ms/step - loss: 0.5409 - auc: 0.8008 - accuracy: 0.7231 - val_loss: 0.5483 - val_auc: 0.7963 - val_accuracy: 0.7217\n",
      "Epoch 235/300\n",
      "2725/2725 [==============================] - 4s 2ms/step - loss: 0.5408 - auc: 0.8008 - accuracy: 0.7229 - val_loss: 0.5352 - val_auc: 0.8082 - val_accuracy: 0.7291\n",
      "Epoch 236/300\n",
      "2725/2725 [==============================] - 4s 2ms/step - loss: 0.5409 - auc: 0.8007 - accuracy: 0.7231 - val_loss: 0.5370 - val_auc: 0.8065 - val_accuracy: 0.7298\n",
      "Epoch 237/300\n",
      "2725/2725 [==============================] - 4s 2ms/step - loss: 0.5407 - auc: 0.8008 - accuracy: 0.7226 - val_loss: 0.5378 - val_auc: 0.8055 - val_accuracy: 0.7266\n",
      "Epoch 238/300\n",
      "2725/2725 [==============================] - 4s 2ms/step - loss: 0.5404 - auc: 0.8011 - accuracy: 0.7230 - val_loss: 0.5322 - val_auc: 0.8097 - val_accuracy: 0.7293\n",
      "Epoch 239/300\n",
      "2725/2725 [==============================] - 4s 2ms/step - loss: 0.5406 - auc: 0.8010 - accuracy: 0.7233 - val_loss: 0.5318 - val_auc: 0.8093 - val_accuracy: 0.7290\n",
      "Epoch 240/300\n",
      "2725/2725 [==============================] - 4s 2ms/step - loss: 0.5405 - auc: 0.8009 - accuracy: 0.7227 - val_loss: 0.5386 - val_auc: 0.8056 - val_accuracy: 0.7274\n",
      "Epoch 241/300\n",
      "2725/2725 [==============================] - 4s 2ms/step - loss: 0.5407 - auc: 0.8008 - accuracy: 0.7224 - val_loss: 0.5387 - val_auc: 0.8046 - val_accuracy: 0.7274\n",
      "Epoch 242/300\n",
      "2725/2725 [==============================] - 4s 2ms/step - loss: 0.5406 - auc: 0.8008 - accuracy: 0.7231 - val_loss: 0.5350 - val_auc: 0.8061 - val_accuracy: 0.7266\n",
      "Epoch 243/300\n",
      "2725/2725 [==============================] - 4s 2ms/step - loss: 0.5401 - auc: 0.8015 - accuracy: 0.7237 - val_loss: 0.5348 - val_auc: 0.8069 - val_accuracy: 0.7284\n",
      "Epoch 244/300\n",
      "2725/2725 [==============================] - 4s 2ms/step - loss: 0.5407 - auc: 0.8010 - accuracy: 0.7233 - val_loss: 0.5333 - val_auc: 0.8088 - val_accuracy: 0.7304\n",
      "Epoch 245/300\n",
      "2725/2725 [==============================] - 4s 2ms/step - loss: 0.5405 - auc: 0.8012 - accuracy: 0.7234 - val_loss: 0.5515 - val_auc: 0.7917 - val_accuracy: 0.7178\n",
      "Epoch 246/300\n",
      "2725/2725 [==============================] - 4s 2ms/step - loss: 0.5397 - auc: 0.8018 - accuracy: 0.7247 - val_loss: 0.5378 - val_auc: 0.8055 - val_accuracy: 0.7275\n",
      "Epoch 247/300\n",
      "2725/2725 [==============================] - 4s 2ms/step - loss: 0.5397 - auc: 0.8018 - accuracy: 0.7234 - val_loss: 0.5367 - val_auc: 0.8065 - val_accuracy: 0.7292\n",
      "Epoch 248/300\n",
      "2725/2725 [==============================] - 4s 1ms/step - loss: 0.5402 - auc: 0.8014 - accuracy: 0.7238 - val_loss: 0.5312 - val_auc: 0.8098 - val_accuracy: 0.7304\n",
      "Epoch 249/300\n",
      "2725/2725 [==============================] - 4s 2ms/step - loss: 0.5401 - auc: 0.8015 - accuracy: 0.7233 - val_loss: 0.5402 - val_auc: 0.8018 - val_accuracy: 0.7237\n",
      "Epoch 250/300\n",
      "2725/2725 [==============================] - 4s 2ms/step - loss: 0.5401 - auc: 0.8012 - accuracy: 0.7218 - val_loss: 0.5400 - val_auc: 0.8021 - val_accuracy: 0.7270\n",
      "Epoch 251/300\n",
      "2725/2725 [==============================] - 4s 2ms/step - loss: 0.5405 - auc: 0.8010 - accuracy: 0.7226 - val_loss: 0.5354 - val_auc: 0.8065 - val_accuracy: 0.7291\n",
      "Epoch 252/300\n",
      "2725/2725 [==============================] - 4s 1ms/step - loss: 0.5403 - auc: 0.8012 - accuracy: 0.7228 - val_loss: 0.5319 - val_auc: 0.8096 - val_accuracy: 0.7306\n",
      "Epoch 253/300\n",
      "2725/2725 [==============================] - 4s 2ms/step - loss: 0.5401 - auc: 0.8014 - accuracy: 0.7235 - val_loss: 0.5396 - val_auc: 0.8047 - val_accuracy: 0.7272\n",
      "Epoch 254/300\n",
      "2725/2725 [==============================] - 4s 2ms/step - loss: 0.5401 - auc: 0.8013 - accuracy: 0.7235 - val_loss: 0.5402 - val_auc: 0.8038 - val_accuracy: 0.7271\n",
      "Epoch 255/300\n",
      "2725/2725 [==============================] - 4s 2ms/step - loss: 0.5400 - auc: 0.8015 - accuracy: 0.7232 - val_loss: 0.5386 - val_auc: 0.8039 - val_accuracy: 0.7257\n",
      "Epoch 256/300\n",
      "2725/2725 [==============================] - 4s 1ms/step - loss: 0.5403 - auc: 0.8011 - accuracy: 0.7230 - val_loss: 0.5390 - val_auc: 0.8043 - val_accuracy: 0.7270\n",
      "Epoch 257/300\n",
      "2725/2725 [==============================] - 4s 2ms/step - loss: 0.5400 - auc: 0.8016 - accuracy: 0.7230 - val_loss: 0.5377 - val_auc: 0.8065 - val_accuracy: 0.7275\n",
      "Epoch 258/300\n",
      "2725/2725 [==============================] - 4s 2ms/step - loss: 0.5392 - auc: 0.8023 - accuracy: 0.7246 - val_loss: 0.5365 - val_auc: 0.8053 - val_accuracy: 0.7284\n",
      "Epoch 259/300\n",
      "2725/2725 [==============================] - 4s 2ms/step - loss: 0.5390 - auc: 0.8026 - accuracy: 0.7241 - val_loss: 0.5345 - val_auc: 0.8075 - val_accuracy: 0.7297\n",
      "Epoch 260/300\n",
      "2725/2725 [==============================] - 4s 1ms/step - loss: 0.5394 - auc: 0.8020 - accuracy: 0.7245 - val_loss: 0.5366 - val_auc: 0.8068 - val_accuracy: 0.7292\n",
      "Epoch 261/300\n",
      "2725/2725 [==============================] - 4s 2ms/step - loss: 0.5399 - auc: 0.8017 - accuracy: 0.7237 - val_loss: 0.5367 - val_auc: 0.8054 - val_accuracy: 0.7269\n",
      "Epoch 262/300\n",
      "2725/2725 [==============================] - 4s 2ms/step - loss: 0.5398 - auc: 0.8017 - accuracy: 0.7239 - val_loss: 0.5366 - val_auc: 0.8070 - val_accuracy: 0.7289\n",
      "Epoch 263/300\n",
      "2725/2725 [==============================] - 4s 2ms/step - loss: 0.5398 - auc: 0.8019 - accuracy: 0.7238 - val_loss: 0.5359 - val_auc: 0.8067 - val_accuracy: 0.7300\n",
      "Epoch 264/300\n",
      "2725/2725 [==============================] - 4s 1ms/step - loss: 0.5397 - auc: 0.8017 - accuracy: 0.7237 - val_loss: 0.5352 - val_auc: 0.8061 - val_accuracy: 0.7275\n",
      "Epoch 265/300\n",
      "2725/2725 [==============================] - 4s 2ms/step - loss: 0.5399 - auc: 0.8016 - accuracy: 0.7229 - val_loss: 0.5313 - val_auc: 0.8092 - val_accuracy: 0.7283\n",
      "Epoch 266/300\n",
      "2725/2725 [==============================] - 4s 2ms/step - loss: 0.5399 - auc: 0.8018 - accuracy: 0.7236 - val_loss: 0.5353 - val_auc: 0.8078 - val_accuracy: 0.7281\n",
      "Epoch 267/300\n",
      "2725/2725 [==============================] - 4s 1ms/step - loss: 0.5394 - auc: 0.8022 - accuracy: 0.7246 - val_loss: 0.5339 - val_auc: 0.8077 - val_accuracy: 0.7271\n",
      "Epoch 268/300\n",
      "2725/2725 [==============================] - 4s 2ms/step - loss: 0.5396 - auc: 0.8019 - accuracy: 0.7233 - val_loss: 0.5407 - val_auc: 0.8034 - val_accuracy: 0.7271\n",
      "Epoch 269/300\n",
      "2725/2725 [==============================] - 4s 2ms/step - loss: 0.5385 - auc: 0.8028 - accuracy: 0.7244 - val_loss: 0.5328 - val_auc: 0.8089 - val_accuracy: 0.7283\n",
      "Epoch 270/300\n",
      "2725/2725 [==============================] - 4s 2ms/step - loss: 0.5392 - auc: 0.8022 - accuracy: 0.7237 - val_loss: 0.5367 - val_auc: 0.8068 - val_accuracy: 0.7289\n",
      "Epoch 271/300\n",
      "2725/2725 [==============================] - 4s 2ms/step - loss: 0.5386 - auc: 0.8027 - accuracy: 0.7243 - val_loss: 0.5339 - val_auc: 0.8075 - val_accuracy: 0.7282\n",
      "Epoch 272/300\n",
      "2725/2725 [==============================] - 4s 2ms/step - loss: 0.5400 - auc: 0.8015 - accuracy: 0.7233 - val_loss: 0.5365 - val_auc: 0.8055 - val_accuracy: 0.7268\n",
      "Epoch 273/300\n",
      "2725/2725 [==============================] - 4s 2ms/step - loss: 0.5394 - auc: 0.8020 - accuracy: 0.7241 - val_loss: 0.5333 - val_auc: 0.8102 - val_accuracy: 0.7313\n",
      "Epoch 274/300\n",
      "2725/2725 [==============================] - 4s 2ms/step - loss: 0.5395 - auc: 0.8020 - accuracy: 0.7241 - val_loss: 0.5323 - val_auc: 0.8094 - val_accuracy: 0.7307\n",
      "Epoch 275/300\n",
      "2725/2725 [==============================] - 4s 1ms/step - loss: 0.5395 - auc: 0.8020 - accuracy: 0.7243 - val_loss: 0.5345 - val_auc: 0.8080 - val_accuracy: 0.7289\n",
      "Epoch 276/300\n",
      "2725/2725 [==============================] - 4s 2ms/step - loss: 0.5391 - auc: 0.8023 - accuracy: 0.7244 - val_loss: 0.5325 - val_auc: 0.8098 - val_accuracy: 0.7304\n",
      "Epoch 277/300\n",
      "2725/2725 [==============================] - 4s 2ms/step - loss: 0.5389 - auc: 0.8024 - accuracy: 0.7243 - val_loss: 0.5340 - val_auc: 0.8091 - val_accuracy: 0.7296\n",
      "Epoch 278/300\n",
      "2725/2725 [==============================] - 4s 1ms/step - loss: 0.5393 - auc: 0.8022 - accuracy: 0.7239 - val_loss: 0.5372 - val_auc: 0.8059 - val_accuracy: 0.7289\n",
      "Epoch 279/300\n",
      "2725/2725 [==============================] - 4s 1ms/step - loss: 0.5388 - auc: 0.8026 - accuracy: 0.7241 - val_loss: 0.5356 - val_auc: 0.8078 - val_accuracy: 0.7296\n",
      "Epoch 280/300\n",
      "2725/2725 [==============================] - 4s 2ms/step - loss: 0.5386 - auc: 0.8028 - accuracy: 0.7239 - val_loss: 0.5352 - val_auc: 0.8070 - val_accuracy: 0.7270\n",
      "Epoch 281/300\n",
      "2725/2725 [==============================] - 4s 2ms/step - loss: 0.5387 - auc: 0.8024 - accuracy: 0.7237 - val_loss: 0.5345 - val_auc: 0.8081 - val_accuracy: 0.7300\n",
      "Epoch 282/300\n",
      "2725/2725 [==============================] - 5s 2ms/step - loss: 0.5387 - auc: 0.8026 - accuracy: 0.7242 - val_loss: 0.5329 - val_auc: 0.8083 - val_accuracy: 0.7292\n",
      "Epoch 283/300\n",
      "2725/2725 [==============================] - 5s 2ms/step - loss: 0.5377 - auc: 0.8035 - accuracy: 0.7251 - val_loss: 0.5327 - val_auc: 0.8090 - val_accuracy: 0.7310\n",
      "Epoch 284/300\n",
      "2725/2725 [==============================] - 5s 2ms/step - loss: 0.5388 - auc: 0.8026 - accuracy: 0.7238 - val_loss: 0.5363 - val_auc: 0.8059 - val_accuracy: 0.7288\n",
      "Epoch 285/300\n",
      "2725/2725 [==============================] - 4s 2ms/step - loss: 0.5387 - auc: 0.8029 - accuracy: 0.7248 - val_loss: 0.5331 - val_auc: 0.8088 - val_accuracy: 0.7302\n",
      "Epoch 286/300\n",
      "2725/2725 [==============================] - 4s 2ms/step - loss: 0.5386 - auc: 0.8027 - accuracy: 0.7243 - val_loss: 0.5334 - val_auc: 0.8091 - val_accuracy: 0.7305\n",
      "Epoch 287/300\n",
      "2725/2725 [==============================] - 4s 2ms/step - loss: 0.5390 - auc: 0.8024 - accuracy: 0.7239 - val_loss: 0.5327 - val_auc: 0.8083 - val_accuracy: 0.7301\n",
      "Epoch 288/300\n",
      "2725/2725 [==============================] - 5s 2ms/step - loss: 0.5391 - auc: 0.8023 - accuracy: 0.7247 - val_loss: 0.5315 - val_auc: 0.8095 - val_accuracy: 0.7296\n",
      "Epoch 289/300\n",
      "2725/2725 [==============================] - 4s 2ms/step - loss: 0.5388 - auc: 0.8029 - accuracy: 0.7256 - val_loss: 0.5360 - val_auc: 0.8090 - val_accuracy: 0.7308\n",
      "Epoch 290/300\n",
      "2725/2725 [==============================] - 4s 1ms/step - loss: 0.5385 - auc: 0.8028 - accuracy: 0.7249 - val_loss: 0.5326 - val_auc: 0.8094 - val_accuracy: 0.7313\n",
      "Epoch 291/300\n",
      "2725/2725 [==============================] - 4s 2ms/step - loss: 0.5381 - auc: 0.8034 - accuracy: 0.7246 - val_loss: 0.5319 - val_auc: 0.8092 - val_accuracy: 0.7307\n",
      "Epoch 292/300\n",
      "2725/2725 [==============================] - 4s 2ms/step - loss: 0.5388 - auc: 0.8027 - accuracy: 0.7245 - val_loss: 0.5324 - val_auc: 0.8110 - val_accuracy: 0.7321\n",
      "Epoch 293/300\n",
      "2725/2725 [==============================] - 4s 2ms/step - loss: 0.5394 - auc: 0.8022 - accuracy: 0.7253 - val_loss: 0.5351 - val_auc: 0.8080 - val_accuracy: 0.7300\n",
      "Epoch 294/300\n",
      "2725/2725 [==============================] - 4s 2ms/step - loss: 0.5377 - auc: 0.8035 - accuracy: 0.7247 - val_loss: 0.5329 - val_auc: 0.8096 - val_accuracy: 0.7303\n",
      "Epoch 295/300\n",
      "2725/2725 [==============================] - 4s 2ms/step - loss: 0.5388 - auc: 0.8026 - accuracy: 0.7244 - val_loss: 0.5313 - val_auc: 0.8097 - val_accuracy: 0.7312\n",
      "Epoch 296/300\n",
      "2725/2725 [==============================] - 4s 2ms/step - loss: 0.5379 - auc: 0.8033 - accuracy: 0.7257 - val_loss: 0.5394 - val_auc: 0.8046 - val_accuracy: 0.7266\n",
      "Epoch 297/300\n",
      "2725/2725 [==============================] - 4s 2ms/step - loss: 0.5374 - auc: 0.8040 - accuracy: 0.7257 - val_loss: 0.5319 - val_auc: 0.8092 - val_accuracy: 0.7304\n",
      "Epoch 298/300\n",
      "2725/2725 [==============================] - 4s 2ms/step - loss: 0.5387 - auc: 0.8027 - accuracy: 0.7249 - val_loss: 0.5346 - val_auc: 0.8091 - val_accuracy: 0.7302\n",
      "Epoch 299/300\n",
      "2725/2725 [==============================] - 4s 2ms/step - loss: 0.5392 - auc: 0.8024 - accuracy: 0.7242 - val_loss: 0.5395 - val_auc: 0.8048 - val_accuracy: 0.7273\n",
      "Epoch 300/300\n",
      "2725/2725 [==============================] - 4s 2ms/step - loss: 0.5380 - auc: 0.8033 - accuracy: 0.7258 - val_loss: 0.5354 - val_auc: 0.8085 - val_accuracy: 0.7301\n"
     ]
    }
   ],
   "source": [
    "with tf.device(\"cpu\"):\n",
    "    history_cls, model_cls = make_cls_model(\n",
    "        Dense(16, activation=\"sigmoid\",input_dim=x_train.shape[1]),\n",
    "        Dropout(0.1),\n",
    "        Dense(16, activation=\"relu\"),\n",
    "        # Dropout(0.1),\n",
    "        Dense(16, activation=\"relu\"),\n",
    "        # Dropout(0.1),\n",
    "        # Dense(16, activation=\"relu\"),\n",
    "        last_activation=\"sigmoid\",\n",
    "        x=x_train.values ,y=y_cls_train,\n",
    "        epochs=300,\n",
    "        batch_size=64,\n",
    "        learning_rate=0.001\n",
    "    )"
   ],
   "metadata": {
    "collapsed": false,
    "pycharm": {
     "name": "#%%\n"
    }
   }
  },
  {
   "cell_type": "code",
   "execution_count": 24,
   "outputs": [
    {
     "data": {
      "text/plain": "<Figure size 1224x360 with 3 Axes>",
      "image/png": "[encoded data removed]"
     },
     "metadata": {
      "needs_background": "light"
     },
     "output_type": "display_data"
    }
   ],
   "source": [
    "# Plot history\n",
    "plot_history_cls(history_cls, loss = \"binary_crossentropy\", key1 = 'accuracy', key2 = 'AUC')"
   ],
   "metadata": {
    "collapsed": false,
    "pycharm": {
     "name": "#%%\n"
    }
   }
  },
  {
   "cell_type": "markdown",
   "source": [
    "# Regression Model (how much rain if > 0)\n",
    "source : https://www.analyticsvidhya.com/blog/2021/08/a-walk-through-of-regression-analysis-using-artificial-neural-networks-in-tensorflow/"
   ],
   "metadata": {
    "collapsed": false
   }
  },
  {
   "cell_type": "code",
   "execution_count": 25,
   "outputs": [
    {
     "name": "stdout",
     "output_type": "stream",
     "text": [
      "Model: \"sequential_1\"\n",
      "_________________________________________________________________\n",
      " Layer (type)                Output Shape              Param #   \n",
      "=================================================================\n",
      " dense_4 (Dense)             (None, 16)                1584      \n",
      "                                                                 \n",
      " dropout_1 (Dropout)         (None, 16)                0         \n",
      "                                                                 \n",
      " dense_5 (Dense)             (None, 16)                272       \n",
      "                                                                 \n",
      " dense_6 (Dense)             (None, 16)                272       \n",
      "                                                                 \n",
      " dense_7 (Dense)             (None, 1)                 17        \n",
      "                                                                 \n",
      "=================================================================\n",
      "Total params: 2,145\n",
      "Trainable params: 2,145\n",
      "Non-trainable params: 0\n",
      "_________________________________________________________________\n",
      "None\n",
      "Epoch 1/300\n",
      "2725/2725 [==============================] - 4s 1ms/step - loss: 0.0307 - mean_squared_error: 0.0307 - val_loss: 0.0290 - val_mean_squared_error: 0.0290\n",
      "Epoch 2/300\n",
      "2725/2725 [==============================] - 3s 1ms/step - loss: 0.0294 - mean_squared_error: 0.0294 - val_loss: 0.0286 - val_mean_squared_error: 0.0286\n",
      "Epoch 3/300\n",
      "2725/2725 [==============================] - 4s 1ms/step - loss: 0.0289 - mean_squared_error: 0.0289 - val_loss: 0.0281 - val_mean_squared_error: 0.0281\n",
      "Epoch 4/300\n",
      "2725/2725 [==============================] - 3s 1ms/step - loss: 0.0286 - mean_squared_error: 0.0286 - val_loss: 0.0280 - val_mean_squared_error: 0.0279\n",
      "Epoch 5/300\n",
      "2725/2725 [==============================] - 4s 1ms/step - loss: 0.0284 - mean_squared_error: 0.0284 - val_loss: 0.0280 - val_mean_squared_error: 0.0280\n",
      "Epoch 6/300\n",
      "2725/2725 [==============================] - 3s 1ms/step - loss: 0.0282 - mean_squared_error: 0.0282 - val_loss: 0.0272 - val_mean_squared_error: 0.0272\n",
      "Epoch 7/300\n",
      "2725/2725 [==============================] - 3s 1ms/step - loss: 0.0280 - mean_squared_error: 0.0280 - val_loss: 0.0273 - val_mean_squared_error: 0.0272\n",
      "Epoch 8/300\n",
      "2725/2725 [==============================] - 3s 1ms/step - loss: 0.0279 - mean_squared_error: 0.0279 - val_loss: 0.0269 - val_mean_squared_error: 0.0269\n",
      "Epoch 9/300\n",
      "2725/2725 [==============================] - 3s 1ms/step - loss: 0.0277 - mean_squared_error: 0.0277 - val_loss: 0.0271 - val_mean_squared_error: 0.0271\n",
      "Epoch 10/300\n",
      "2725/2725 [==============================] - 4s 1ms/step - loss: 0.0276 - mean_squared_error: 0.0276 - val_loss: 0.0270 - val_mean_squared_error: 0.0270\n",
      "Epoch 11/300\n",
      "2725/2725 [==============================] - 4s 1ms/step - loss: 0.0274 - mean_squared_error: 0.0274 - val_loss: 0.0268 - val_mean_squared_error: 0.0268\n",
      "Epoch 12/300\n",
      "2725/2725 [==============================] - 4s 1ms/step - loss: 0.0274 - mean_squared_error: 0.0274 - val_loss: 0.0265 - val_mean_squared_error: 0.0265\n",
      "Epoch 13/300\n",
      "2725/2725 [==============================] - 4s 1ms/step - loss: 0.0273 - mean_squared_error: 0.0273 - val_loss: 0.0264 - val_mean_squared_error: 0.0264\n",
      "Epoch 14/300\n",
      "2725/2725 [==============================] - 4s 1ms/step - loss: 0.0272 - mean_squared_error: 0.0272 - val_loss: 0.0260 - val_mean_squared_error: 0.0260\n",
      "Epoch 15/300\n",
      "2725/2725 [==============================] - 4s 1ms/step - loss: 0.0271 - mean_squared_error: 0.0271 - val_loss: 0.0263 - val_mean_squared_error: 0.0263\n",
      "Epoch 16/300\n",
      "2725/2725 [==============================] - 3s 1ms/step - loss: 0.0270 - mean_squared_error: 0.0270 - val_loss: 0.0257 - val_mean_squared_error: 0.0257\n",
      "Epoch 17/300\n",
      "2725/2725 [==============================] - 3s 1ms/step - loss: 0.0269 - mean_squared_error: 0.0269 - val_loss: 0.0263 - val_mean_squared_error: 0.0263\n",
      "Epoch 18/300\n",
      "2725/2725 [==============================] - 3s 1ms/step - loss: 0.0268 - mean_squared_error: 0.0268 - val_loss: 0.0258 - val_mean_squared_error: 0.0258\n",
      "Epoch 19/300\n",
      "2725/2725 [==============================] - 3s 1ms/step - loss: 0.0267 - mean_squared_error: 0.0267 - val_loss: 0.0260 - val_mean_squared_error: 0.0260\n",
      "Epoch 20/300\n",
      "2725/2725 [==============================] - 3s 1ms/step - loss: 0.0267 - mean_squared_error: 0.0267 - val_loss: 0.0257 - val_mean_squared_error: 0.0257\n",
      "Epoch 21/300\n",
      "2725/2725 [==============================] - 3s 1ms/step - loss: 0.0267 - mean_squared_error: 0.0267 - val_loss: 0.0258 - val_mean_squared_error: 0.0258\n",
      "Epoch 22/300\n",
      "2725/2725 [==============================] - 4s 1ms/step - loss: 0.0265 - mean_squared_error: 0.0265 - val_loss: 0.0261 - val_mean_squared_error: 0.0261\n",
      "Epoch 23/300\n",
      "2725/2725 [==============================] - 4s 1ms/step - loss: 0.0264 - mean_squared_error: 0.0264 - val_loss: 0.0255 - val_mean_squared_error: 0.0255\n",
      "Epoch 24/300\n",
      "2725/2725 [==============================] - 3s 1ms/step - loss: 0.0264 - mean_squared_error: 0.0263 - val_loss: 0.0255 - val_mean_squared_error: 0.0255\n",
      "Epoch 25/300\n",
      "2725/2725 [==============================] - 4s 2ms/step - loss: 0.0263 - mean_squared_error: 0.0263 - val_loss: 0.0253 - val_mean_squared_error: 0.0253\n",
      "Epoch 26/300\n",
      "2725/2725 [==============================] - 3s 1ms/step - loss: 0.0262 - mean_squared_error: 0.0262 - val_loss: 0.0261 - val_mean_squared_error: 0.0261\n",
      "Epoch 27/300\n",
      "2725/2725 [==============================] - 4s 1ms/step - loss: 0.0262 - mean_squared_error: 0.0262 - val_loss: 0.0255 - val_mean_squared_error: 0.0255\n",
      "Epoch 28/300\n",
      "2725/2725 [==============================] - 3s 1ms/step - loss: 0.0259 - mean_squared_error: 0.0259 - val_loss: 0.0253 - val_mean_squared_error: 0.0253\n",
      "Epoch 29/300\n",
      "2725/2725 [==============================] - 4s 1ms/step - loss: 0.0260 - mean_squared_error: 0.0260 - val_loss: 0.0254 - val_mean_squared_error: 0.0254\n",
      "Epoch 30/300\n",
      "2725/2725 [==============================] - 4s 1ms/step - loss: 0.0258 - mean_squared_error: 0.0258 - val_loss: 0.0259 - val_mean_squared_error: 0.0259\n",
      "Epoch 31/300\n",
      "2725/2725 [==============================] - 4s 1ms/step - loss: 0.0258 - mean_squared_error: 0.0258 - val_loss: 0.0250 - val_mean_squared_error: 0.0250\n",
      "Epoch 32/300\n",
      "2725/2725 [==============================] - 4s 1ms/step - loss: 0.0257 - mean_squared_error: 0.0257 - val_loss: 0.0249 - val_mean_squared_error: 0.0249\n",
      "Epoch 33/300\n",
      "2725/2725 [==============================] - 4s 1ms/step - loss: 0.0257 - mean_squared_error: 0.0257 - val_loss: 0.0248 - val_mean_squared_error: 0.0248\n",
      "Epoch 34/300\n",
      "2725/2725 [==============================] - 4s 1ms/step - loss: 0.0256 - mean_squared_error: 0.0256 - val_loss: 0.0246 - val_mean_squared_error: 0.0246\n",
      "Epoch 35/300\n",
      "2725/2725 [==============================] - 4s 1ms/step - loss: 0.0255 - mean_squared_error: 0.0255 - val_loss: 0.0246 - val_mean_squared_error: 0.0246\n",
      "Epoch 36/300\n",
      "2725/2725 [==============================] - 4s 2ms/step - loss: 0.0255 - mean_squared_error: 0.0255 - val_loss: 0.0249 - val_mean_squared_error: 0.0249\n",
      "Epoch 37/300\n",
      "2725/2725 [==============================] - 4s 1ms/step - loss: 0.0256 - mean_squared_error: 0.0255 - val_loss: 0.0251 - val_mean_squared_error: 0.0251\n",
      "Epoch 38/300\n",
      "2725/2725 [==============================] - 4s 1ms/step - loss: 0.0253 - mean_squared_error: 0.0253 - val_loss: 0.0244 - val_mean_squared_error: 0.0244\n",
      "Epoch 39/300\n",
      "2725/2725 [==============================] - 4s 1ms/step - loss: 0.0253 - mean_squared_error: 0.0253 - val_loss: 0.0251 - val_mean_squared_error: 0.0251\n",
      "Epoch 40/300\n",
      "2725/2725 [==============================] - 4s 1ms/step - loss: 0.0255 - mean_squared_error: 0.0255 - val_loss: 0.0273 - val_mean_squared_error: 0.0273\n",
      "Epoch 41/300\n",
      "2725/2725 [==============================] - 4s 1ms/step - loss: 0.0254 - mean_squared_error: 0.0254 - val_loss: 0.0249 - val_mean_squared_error: 0.0249\n",
      "Epoch 42/300\n",
      "2725/2725 [==============================] - 4s 1ms/step - loss: 0.0253 - mean_squared_error: 0.0253 - val_loss: 0.0250 - val_mean_squared_error: 0.0250\n",
      "Epoch 43/300\n",
      "2725/2725 [==============================] - 5s 2ms/step - loss: 0.0252 - mean_squared_error: 0.0252 - val_loss: 0.0247 - val_mean_squared_error: 0.0247\n",
      "Epoch 44/300\n",
      "2725/2725 [==============================] - 4s 1ms/step - loss: 0.0251 - mean_squared_error: 0.0251 - val_loss: 0.0243 - val_mean_squared_error: 0.0243\n",
      "Epoch 45/300\n",
      "2725/2725 [==============================] - 4s 1ms/step - loss: 0.0251 - mean_squared_error: 0.0251 - val_loss: 0.0247 - val_mean_squared_error: 0.0247\n",
      "Epoch 46/300\n",
      "2725/2725 [==============================] - 4s 1ms/step - loss: 0.0251 - mean_squared_error: 0.0251 - val_loss: 0.0242 - val_mean_squared_error: 0.0242\n",
      "Epoch 47/300\n",
      "2725/2725 [==============================] - 4s 1ms/step - loss: 0.0250 - mean_squared_error: 0.0250 - val_loss: 0.0243 - val_mean_squared_error: 0.0243\n",
      "Epoch 48/300\n",
      "2725/2725 [==============================] - 4s 1ms/step - loss: 0.0250 - mean_squared_error: 0.0250 - val_loss: 0.0242 - val_mean_squared_error: 0.0242\n",
      "Epoch 49/300\n",
      "2725/2725 [==============================] - 4s 1ms/step - loss: 0.0249 - mean_squared_error: 0.0249 - val_loss: 0.0242 - val_mean_squared_error: 0.0242\n",
      "Epoch 50/300\n",
      "2725/2725 [==============================] - 4s 1ms/step - loss: 0.0251 - mean_squared_error: 0.0251 - val_loss: 0.0241 - val_mean_squared_error: 0.0241\n",
      "Epoch 51/300\n",
      "2725/2725 [==============================] - 4s 1ms/step - loss: 0.0249 - mean_squared_error: 0.0249 - val_loss: 0.0239 - val_mean_squared_error: 0.0239\n",
      "Epoch 52/300\n",
      "2725/2725 [==============================] - 4s 1ms/step - loss: 0.0248 - mean_squared_error: 0.0248 - val_loss: 0.0240 - val_mean_squared_error: 0.0240\n",
      "Epoch 53/300\n",
      "2725/2725 [==============================] - 4s 1ms/step - loss: 0.0248 - mean_squared_error: 0.0248 - val_loss: 0.0238 - val_mean_squared_error: 0.0238\n",
      "Epoch 54/300\n",
      "2725/2725 [==============================] - 4s 1ms/step - loss: 0.0247 - mean_squared_error: 0.0247 - val_loss: 0.0255 - val_mean_squared_error: 0.0255\n",
      "Epoch 55/300\n",
      "2725/2725 [==============================] - 4s 1ms/step - loss: 0.0248 - mean_squared_error: 0.0248 - val_loss: 0.0237 - val_mean_squared_error: 0.0237\n",
      "Epoch 56/300\n",
      "2725/2725 [==============================] - 4s 1ms/step - loss: 0.0246 - mean_squared_error: 0.0246 - val_loss: 0.0243 - val_mean_squared_error: 0.0243\n",
      "Epoch 57/300\n",
      "2725/2725 [==============================] - 4s 1ms/step - loss: 0.0246 - mean_squared_error: 0.0246 - val_loss: 0.0243 - val_mean_squared_error: 0.0243\n",
      "Epoch 58/300\n",
      "2725/2725 [==============================] - 3s 1ms/step - loss: 0.0246 - mean_squared_error: 0.0246 - val_loss: 0.0238 - val_mean_squared_error: 0.0238\n",
      "Epoch 59/300\n",
      "2725/2725 [==============================] - 4s 1ms/step - loss: 0.0246 - mean_squared_error: 0.0246 - val_loss: 0.0236 - val_mean_squared_error: 0.0236\n",
      "Epoch 60/300\n",
      "2725/2725 [==============================] - 4s 1ms/step - loss: 0.0246 - mean_squared_error: 0.0246 - val_loss: 0.0238 - val_mean_squared_error: 0.0238\n",
      "Epoch 61/300\n",
      "2725/2725 [==============================] - 3s 1ms/step - loss: 0.0246 - mean_squared_error: 0.0246 - val_loss: 0.0244 - val_mean_squared_error: 0.0244\n",
      "Epoch 62/300\n",
      "2725/2725 [==============================] - 4s 1ms/step - loss: 0.0244 - mean_squared_error: 0.0244 - val_loss: 0.0237 - val_mean_squared_error: 0.0237\n",
      "Epoch 63/300\n",
      "2725/2725 [==============================] - 4s 1ms/step - loss: 0.0246 - mean_squared_error: 0.0246 - val_loss: 0.0245 - val_mean_squared_error: 0.0245\n",
      "Epoch 64/300\n",
      "2725/2725 [==============================] - 4s 1ms/step - loss: 0.0244 - mean_squared_error: 0.0244 - val_loss: 0.0238 - val_mean_squared_error: 0.0238\n",
      "Epoch 65/300\n",
      "2725/2725 [==============================] - 4s 1ms/step - loss: 0.0244 - mean_squared_error: 0.0244 - val_loss: 0.0236 - val_mean_squared_error: 0.0236\n",
      "Epoch 66/300\n",
      "2725/2725 [==============================] - 4s 1ms/step - loss: 0.0243 - mean_squared_error: 0.0243 - val_loss: 0.0244 - val_mean_squared_error: 0.0244\n",
      "Epoch 67/300\n",
      "2725/2725 [==============================] - 4s 1ms/step - loss: 0.0243 - mean_squared_error: 0.0243 - val_loss: 0.0233 - val_mean_squared_error: 0.0233\n",
      "Epoch 68/300\n",
      "2725/2725 [==============================] - 4s 1ms/step - loss: 0.0243 - mean_squared_error: 0.0243 - val_loss: 0.0238 - val_mean_squared_error: 0.0238\n",
      "Epoch 69/300\n",
      "2725/2725 [==============================] - 4s 1ms/step - loss: 0.0243 - mean_squared_error: 0.0243 - val_loss: 0.0236 - val_mean_squared_error: 0.0236\n",
      "Epoch 70/300\n",
      "2725/2725 [==============================] - 4s 1ms/step - loss: 0.0242 - mean_squared_error: 0.0242 - val_loss: 0.0240 - val_mean_squared_error: 0.0240\n",
      "Epoch 71/300\n",
      "2725/2725 [==============================] - 4s 1ms/step - loss: 0.0243 - mean_squared_error: 0.0243 - val_loss: 0.0252 - val_mean_squared_error: 0.0251\n",
      "Epoch 72/300\n",
      "2725/2725 [==============================] - 4s 2ms/step - loss: 0.0243 - mean_squared_error: 0.0243 - val_loss: 0.0233 - val_mean_squared_error: 0.0233\n",
      "Epoch 73/300\n",
      "2725/2725 [==============================] - 4s 1ms/step - loss: 0.0242 - mean_squared_error: 0.0242 - val_loss: 0.0234 - val_mean_squared_error: 0.0234\n",
      "Epoch 74/300\n",
      "2725/2725 [==============================] - 4s 1ms/step - loss: 0.0242 - mean_squared_error: 0.0242 - val_loss: 0.0236 - val_mean_squared_error: 0.0236\n",
      "Epoch 75/300\n",
      "2725/2725 [==============================] - 4s 1ms/step - loss: 0.0242 - mean_squared_error: 0.0242 - val_loss: 0.0245 - val_mean_squared_error: 0.0245\n",
      "Epoch 76/300\n",
      "2725/2725 [==============================] - 3s 1ms/step - loss: 0.0241 - mean_squared_error: 0.0241 - val_loss: 0.0235 - val_mean_squared_error: 0.0235\n",
      "Epoch 77/300\n",
      "2725/2725 [==============================] - 4s 1ms/step - loss: 0.0241 - mean_squared_error: 0.0241 - val_loss: 0.0243 - val_mean_squared_error: 0.0243\n",
      "Epoch 78/300\n",
      "2725/2725 [==============================] - 4s 1ms/step - loss: 0.0240 - mean_squared_error: 0.0240 - val_loss: 0.0240 - val_mean_squared_error: 0.0240\n",
      "Epoch 79/300\n",
      "2725/2725 [==============================] - 3s 1ms/step - loss: 0.0242 - mean_squared_error: 0.0242 - val_loss: 0.0231 - val_mean_squared_error: 0.0231\n",
      "Epoch 80/300\n",
      "2725/2725 [==============================] - 4s 2ms/step - loss: 0.0241 - mean_squared_error: 0.0241 - val_loss: 0.0233 - val_mean_squared_error: 0.0233\n",
      "Epoch 81/300\n",
      "2725/2725 [==============================] - 4s 1ms/step - loss: 0.0241 - mean_squared_error: 0.0241 - val_loss: 0.0232 - val_mean_squared_error: 0.0232\n",
      "Epoch 82/300\n",
      "2725/2725 [==============================] - 4s 1ms/step - loss: 0.0242 - mean_squared_error: 0.0242 - val_loss: 0.0236 - val_mean_squared_error: 0.0236\n",
      "Epoch 83/300\n",
      "2725/2725 [==============================] - 4s 1ms/step - loss: 0.0240 - mean_squared_error: 0.0240 - val_loss: 0.0237 - val_mean_squared_error: 0.0237\n",
      "Epoch 84/300\n",
      "2725/2725 [==============================] - 4s 1ms/step - loss: 0.0240 - mean_squared_error: 0.0240 - val_loss: 0.0235 - val_mean_squared_error: 0.0235\n",
      "Epoch 85/300\n",
      "2725/2725 [==============================] - 4s 1ms/step - loss: 0.0239 - mean_squared_error: 0.0239 - val_loss: 0.0239 - val_mean_squared_error: 0.0239\n",
      "Epoch 86/300\n",
      "2725/2725 [==============================] - 4s 1ms/step - loss: 0.0239 - mean_squared_error: 0.0239 - val_loss: 0.0240 - val_mean_squared_error: 0.0240\n",
      "Epoch 87/300\n",
      "2725/2725 [==============================] - 4s 1ms/step - loss: 0.0239 - mean_squared_error: 0.0239 - val_loss: 0.0233 - val_mean_squared_error: 0.0233\n",
      "Epoch 88/300\n",
      "2725/2725 [==============================] - 4s 1ms/step - loss: 0.0240 - mean_squared_error: 0.0240 - val_loss: 0.0235 - val_mean_squared_error: 0.0234\n",
      "Epoch 89/300\n",
      "2725/2725 [==============================] - 4s 1ms/step - loss: 0.0241 - mean_squared_error: 0.0241 - val_loss: 0.0230 - val_mean_squared_error: 0.0230\n",
      "Epoch 90/300\n",
      "2725/2725 [==============================] - 4s 1ms/step - loss: 0.0239 - mean_squared_error: 0.0239 - val_loss: 0.0242 - val_mean_squared_error: 0.0242\n",
      "Epoch 91/300\n",
      "2725/2725 [==============================] - 4s 1ms/step - loss: 0.0238 - mean_squared_error: 0.0238 - val_loss: 0.0232 - val_mean_squared_error: 0.0232\n",
      "Epoch 92/300\n",
      "2725/2725 [==============================] - 4s 1ms/step - loss: 0.0238 - mean_squared_error: 0.0238 - val_loss: 0.0234 - val_mean_squared_error: 0.0234\n",
      "Epoch 93/300\n",
      "2725/2725 [==============================] - 4s 1ms/step - loss: 0.0239 - mean_squared_error: 0.0239 - val_loss: 0.0237 - val_mean_squared_error: 0.0237\n",
      "Epoch 94/300\n",
      "2725/2725 [==============================] - 3s 1ms/step - loss: 0.0238 - mean_squared_error: 0.0238 - val_loss: 0.0237 - val_mean_squared_error: 0.0237\n",
      "Epoch 95/300\n",
      "2725/2725 [==============================] - 3s 1ms/step - loss: 0.0239 - mean_squared_error: 0.0239 - val_loss: 0.0230 - val_mean_squared_error: 0.0230\n",
      "Epoch 96/300\n",
      "2725/2725 [==============================] - 3s 1ms/step - loss: 0.0238 - mean_squared_error: 0.0238 - val_loss: 0.0234 - val_mean_squared_error: 0.0234\n",
      "Epoch 97/300\n",
      "2725/2725 [==============================] - 4s 1ms/step - loss: 0.0238 - mean_squared_error: 0.0238 - val_loss: 0.0235 - val_mean_squared_error: 0.0234\n",
      "Epoch 98/300\n",
      "2725/2725 [==============================] - 4s 1ms/step - loss: 0.0237 - mean_squared_error: 0.0237 - val_loss: 0.0227 - val_mean_squared_error: 0.0227\n",
      "Epoch 99/300\n",
      "2725/2725 [==============================] - 3s 1ms/step - loss: 0.0237 - mean_squared_error: 0.0237 - val_loss: 0.0228 - val_mean_squared_error: 0.0228\n",
      "Epoch 100/300\n",
      "2725/2725 [==============================] - 4s 1ms/step - loss: 0.0238 - mean_squared_error: 0.0238 - val_loss: 0.0229 - val_mean_squared_error: 0.0229\n",
      "Epoch 101/300\n",
      "2725/2725 [==============================] - 3s 1ms/step - loss: 0.0237 - mean_squared_error: 0.0237 - val_loss: 0.0237 - val_mean_squared_error: 0.0237\n",
      "Epoch 102/300\n",
      "2725/2725 [==============================] - 3s 1ms/step - loss: 0.0237 - mean_squared_error: 0.0237 - val_loss: 0.0230 - val_mean_squared_error: 0.0230\n",
      "Epoch 103/300\n",
      "2725/2725 [==============================] - 4s 1ms/step - loss: 0.0237 - mean_squared_error: 0.0237 - val_loss: 0.0239 - val_mean_squared_error: 0.0239\n",
      "Epoch 104/300\n",
      "2725/2725 [==============================] - 4s 1ms/step - loss: 0.0237 - mean_squared_error: 0.0237 - val_loss: 0.0228 - val_mean_squared_error: 0.0228\n",
      "Epoch 105/300\n",
      "2725/2725 [==============================] - 4s 1ms/step - loss: 0.0237 - mean_squared_error: 0.0237 - val_loss: 0.0228 - val_mean_squared_error: 0.0228\n",
      "Epoch 106/300\n",
      "2725/2725 [==============================] - 3s 1ms/step - loss: 0.0237 - mean_squared_error: 0.0237 - val_loss: 0.0228 - val_mean_squared_error: 0.0228\n",
      "Epoch 107/300\n",
      "2725/2725 [==============================] - 3s 1ms/step - loss: 0.0236 - mean_squared_error: 0.0236 - val_loss: 0.0232 - val_mean_squared_error: 0.0232\n",
      "Epoch 108/300\n",
      "2725/2725 [==============================] - 4s 1ms/step - loss: 0.0236 - mean_squared_error: 0.0236 - val_loss: 0.0231 - val_mean_squared_error: 0.0231\n",
      "Epoch 109/300\n",
      "2725/2725 [==============================] - 4s 1ms/step - loss: 0.0238 - mean_squared_error: 0.0238 - val_loss: 0.0230 - val_mean_squared_error: 0.0230\n",
      "Epoch 110/300\n",
      "2725/2725 [==============================] - 4s 1ms/step - loss: 0.0237 - mean_squared_error: 0.0237 - val_loss: 0.0226 - val_mean_squared_error: 0.0226\n",
      "Epoch 111/300\n",
      "2725/2725 [==============================] - 3s 1ms/step - loss: 0.0236 - mean_squared_error: 0.0236 - val_loss: 0.0230 - val_mean_squared_error: 0.0230\n",
      "Epoch 112/300\n",
      "2725/2725 [==============================] - 4s 1ms/step - loss: 0.0236 - mean_squared_error: 0.0236 - val_loss: 0.0227 - val_mean_squared_error: 0.0227\n",
      "Epoch 113/300\n",
      "2725/2725 [==============================] - 4s 1ms/step - loss: 0.0235 - mean_squared_error: 0.0235 - val_loss: 0.0234 - val_mean_squared_error: 0.0234\n",
      "Epoch 114/300\n",
      "2725/2725 [==============================] - 3s 1ms/step - loss: 0.0236 - mean_squared_error: 0.0236 - val_loss: 0.0230 - val_mean_squared_error: 0.0230\n",
      "Epoch 115/300\n",
      "2725/2725 [==============================] - 3s 1ms/step - loss: 0.0235 - mean_squared_error: 0.0235 - val_loss: 0.0230 - val_mean_squared_error: 0.0230\n",
      "Epoch 116/300\n",
      "2725/2725 [==============================] - 3s 1ms/step - loss: 0.0235 - mean_squared_error: 0.0235 - val_loss: 0.0229 - val_mean_squared_error: 0.0229\n",
      "Epoch 117/300\n",
      "2725/2725 [==============================] - 3s 1ms/step - loss: 0.0236 - mean_squared_error: 0.0236 - val_loss: 0.0234 - val_mean_squared_error: 0.0234\n",
      "Epoch 118/300\n",
      "2725/2725 [==============================] - 3s 1ms/step - loss: 0.0235 - mean_squared_error: 0.0235 - val_loss: 0.0228 - val_mean_squared_error: 0.0228\n",
      "Epoch 119/300\n",
      "2725/2725 [==============================] - 3s 1ms/step - loss: 0.0236 - mean_squared_error: 0.0236 - val_loss: 0.0231 - val_mean_squared_error: 0.0231\n",
      "Epoch 120/300\n",
      "2725/2725 [==============================] - 3s 1ms/step - loss: 0.0234 - mean_squared_error: 0.0234 - val_loss: 0.0232 - val_mean_squared_error: 0.0232\n",
      "Epoch 121/300\n",
      "2725/2725 [==============================] - 3s 1ms/step - loss: 0.0234 - mean_squared_error: 0.0234 - val_loss: 0.0233 - val_mean_squared_error: 0.0233\n",
      "Epoch 122/300\n",
      "2725/2725 [==============================] - 3s 1ms/step - loss: 0.0235 - mean_squared_error: 0.0235 - val_loss: 0.0228 - val_mean_squared_error: 0.0228\n",
      "Epoch 123/300\n",
      "2725/2725 [==============================] - 3s 1ms/step - loss: 0.0235 - mean_squared_error: 0.0235 - val_loss: 0.0228 - val_mean_squared_error: 0.0228\n",
      "Epoch 124/300\n",
      "2725/2725 [==============================] - 3s 1ms/step - loss: 0.0235 - mean_squared_error: 0.0235 - val_loss: 0.0230 - val_mean_squared_error: 0.0230\n",
      "Epoch 125/300\n",
      "2725/2725 [==============================] - 3s 1ms/step - loss: 0.0234 - mean_squared_error: 0.0234 - val_loss: 0.0230 - val_mean_squared_error: 0.0230\n",
      "Epoch 126/300\n",
      "2725/2725 [==============================] - 3s 1ms/step - loss: 0.0234 - mean_squared_error: 0.0234 - val_loss: 0.0230 - val_mean_squared_error: 0.0230\n",
      "Epoch 127/300\n",
      "2725/2725 [==============================] - 3s 1ms/step - loss: 0.0234 - mean_squared_error: 0.0234 - val_loss: 0.0230 - val_mean_squared_error: 0.0230\n",
      "Epoch 128/300\n",
      "2725/2725 [==============================] - 3s 1ms/step - loss: 0.0234 - mean_squared_error: 0.0234 - val_loss: 0.0233 - val_mean_squared_error: 0.0233\n",
      "Epoch 129/300\n",
      "2725/2725 [==============================] - 3s 1ms/step - loss: 0.0233 - mean_squared_error: 0.0233 - val_loss: 0.0227 - val_mean_squared_error: 0.0226\n",
      "Epoch 130/300\n",
      "2725/2725 [==============================] - 3s 1ms/step - loss: 0.0235 - mean_squared_error: 0.0235 - val_loss: 0.0226 - val_mean_squared_error: 0.0226\n",
      "Epoch 131/300\n",
      "2725/2725 [==============================] - 3s 1ms/step - loss: 0.0233 - mean_squared_error: 0.0233 - val_loss: 0.0232 - val_mean_squared_error: 0.0232\n",
      "Epoch 132/300\n",
      "2725/2725 [==============================] - 3s 1ms/step - loss: 0.0232 - mean_squared_error: 0.0232 - val_loss: 0.0230 - val_mean_squared_error: 0.0230\n",
      "Epoch 133/300\n",
      "2725/2725 [==============================] - 3s 1ms/step - loss: 0.0233 - mean_squared_error: 0.0233 - val_loss: 0.0226 - val_mean_squared_error: 0.0226\n",
      "Epoch 134/300\n",
      "2725/2725 [==============================] - 4s 1ms/step - loss: 0.0233 - mean_squared_error: 0.0233 - val_loss: 0.0226 - val_mean_squared_error: 0.0226\n",
      "Epoch 135/300\n",
      "2725/2725 [==============================] - 3s 1ms/step - loss: 0.0232 - mean_squared_error: 0.0232 - val_loss: 0.0227 - val_mean_squared_error: 0.0227\n",
      "Epoch 136/300\n",
      "2725/2725 [==============================] - 3s 1ms/step - loss: 0.0233 - mean_squared_error: 0.0233 - val_loss: 0.0228 - val_mean_squared_error: 0.0228\n",
      "Epoch 137/300\n",
      "2725/2725 [==============================] - 3s 1ms/step - loss: 0.0232 - mean_squared_error: 0.0232 - val_loss: 0.0227 - val_mean_squared_error: 0.0227\n",
      "Epoch 138/300\n",
      "2725/2725 [==============================] - 3s 1ms/step - loss: 0.0232 - mean_squared_error: 0.0232 - val_loss: 0.0230 - val_mean_squared_error: 0.0230\n",
      "Epoch 139/300\n",
      "2725/2725 [==============================] - 3s 1ms/step - loss: 0.0234 - mean_squared_error: 0.0234 - val_loss: 0.0232 - val_mean_squared_error: 0.0232\n",
      "Epoch 140/300\n",
      "2725/2725 [==============================] - 3s 1ms/step - loss: 0.0231 - mean_squared_error: 0.0231 - val_loss: 0.0233 - val_mean_squared_error: 0.0233\n",
      "Epoch 141/300\n",
      "2725/2725 [==============================] - 3s 1ms/step - loss: 0.0231 - mean_squared_error: 0.0231 - val_loss: 0.0223 - val_mean_squared_error: 0.0223\n",
      "Epoch 142/300\n",
      "2725/2725 [==============================] - 4s 1ms/step - loss: 0.0231 - mean_squared_error: 0.0231 - val_loss: 0.0231 - val_mean_squared_error: 0.0231\n",
      "Epoch 143/300\n",
      "2725/2725 [==============================] - 3s 1ms/step - loss: 0.0232 - mean_squared_error: 0.0232 - val_loss: 0.0227 - val_mean_squared_error: 0.0227\n",
      "Epoch 144/300\n",
      "2725/2725 [==============================] - 3s 1ms/step - loss: 0.0231 - mean_squared_error: 0.0231 - val_loss: 0.0226 - val_mean_squared_error: 0.0226\n",
      "Epoch 145/300\n",
      "2725/2725 [==============================] - 3s 1ms/step - loss: 0.0232 - mean_squared_error: 0.0232 - val_loss: 0.0223 - val_mean_squared_error: 0.0223\n",
      "Epoch 146/300\n",
      "2725/2725 [==============================] - 3s 1ms/step - loss: 0.0232 - mean_squared_error: 0.0232 - val_loss: 0.0225 - val_mean_squared_error: 0.0225\n",
      "Epoch 147/300\n",
      "2725/2725 [==============================] - 4s 1ms/step - loss: 0.0232 - mean_squared_error: 0.0232 - val_loss: 0.0231 - val_mean_squared_error: 0.0231\n",
      "Epoch 148/300\n",
      "2725/2725 [==============================] - 4s 1ms/step - loss: 0.0232 - mean_squared_error: 0.0232 - val_loss: 0.0227 - val_mean_squared_error: 0.0227\n",
      "Epoch 149/300\n",
      "2725/2725 [==============================] - 4s 1ms/step - loss: 0.0232 - mean_squared_error: 0.0232 - val_loss: 0.0233 - val_mean_squared_error: 0.0233\n",
      "Epoch 150/300\n",
      "2725/2725 [==============================] - 3s 1ms/step - loss: 0.0231 - mean_squared_error: 0.0231 - val_loss: 0.0228 - val_mean_squared_error: 0.0228\n",
      "Epoch 151/300\n",
      "2725/2725 [==============================] - 4s 1ms/step - loss: 0.0232 - mean_squared_error: 0.0232 - val_loss: 0.0235 - val_mean_squared_error: 0.0235\n",
      "Epoch 152/300\n",
      "2725/2725 [==============================] - 4s 1ms/step - loss: 0.0232 - mean_squared_error: 0.0232 - val_loss: 0.0229 - val_mean_squared_error: 0.0229\n",
      "Epoch 153/300\n",
      "2725/2725 [==============================] - 4s 1ms/step - loss: 0.0232 - mean_squared_error: 0.0232 - val_loss: 0.0229 - val_mean_squared_error: 0.0229\n",
      "Epoch 154/300\n",
      "2725/2725 [==============================] - 3s 1ms/step - loss: 0.0233 - mean_squared_error: 0.0233 - val_loss: 0.0226 - val_mean_squared_error: 0.0226\n",
      "Epoch 155/300\n",
      "2725/2725 [==============================] - 3s 1ms/step - loss: 0.0231 - mean_squared_error: 0.0231 - val_loss: 0.0221 - val_mean_squared_error: 0.0221\n",
      "Epoch 156/300\n",
      "2725/2725 [==============================] - 4s 1ms/step - loss: 0.0232 - mean_squared_error: 0.0232 - val_loss: 0.0237 - val_mean_squared_error: 0.0237\n",
      "Epoch 157/300\n",
      "2725/2725 [==============================] - 4s 1ms/step - loss: 0.0232 - mean_squared_error: 0.0232 - val_loss: 0.0229 - val_mean_squared_error: 0.0229\n",
      "Epoch 158/300\n",
      "2725/2725 [==============================] - 4s 1ms/step - loss: 0.0231 - mean_squared_error: 0.0231 - val_loss: 0.0225 - val_mean_squared_error: 0.0225\n",
      "Epoch 159/300\n",
      "2725/2725 [==============================] - 4s 1ms/step - loss: 0.0231 - mean_squared_error: 0.0231 - val_loss: 0.0223 - val_mean_squared_error: 0.0223\n",
      "Epoch 160/300\n",
      "2725/2725 [==============================] - 3s 1ms/step - loss: 0.0231 - mean_squared_error: 0.0230 - val_loss: 0.0229 - val_mean_squared_error: 0.0229\n",
      "Epoch 161/300\n",
      "2725/2725 [==============================] - 4s 1ms/step - loss: 0.0230 - mean_squared_error: 0.0230 - val_loss: 0.0223 - val_mean_squared_error: 0.0223\n",
      "Epoch 162/300\n",
      "2725/2725 [==============================] - 4s 1ms/step - loss: 0.0231 - mean_squared_error: 0.0231 - val_loss: 0.0225 - val_mean_squared_error: 0.0225\n",
      "Epoch 163/300\n",
      "2725/2725 [==============================] - 3s 1ms/step - loss: 0.0229 - mean_squared_error: 0.0229 - val_loss: 0.0225 - val_mean_squared_error: 0.0225\n",
      "Epoch 164/300\n",
      "2725/2725 [==============================] - 4s 1ms/step - loss: 0.0231 - mean_squared_error: 0.0231 - val_loss: 0.0225 - val_mean_squared_error: 0.0225\n",
      "Epoch 165/300\n",
      "2725/2725 [==============================] - 4s 1ms/step - loss: 0.0230 - mean_squared_error: 0.0230 - val_loss: 0.0224 - val_mean_squared_error: 0.0224\n",
      "Epoch 166/300\n",
      "2725/2725 [==============================] - 4s 1ms/step - loss: 0.0230 - mean_squared_error: 0.0230 - val_loss: 0.0225 - val_mean_squared_error: 0.0225\n",
      "Epoch 167/300\n",
      "2725/2725 [==============================] - 4s 1ms/step - loss: 0.0230 - mean_squared_error: 0.0230 - val_loss: 0.0240 - val_mean_squared_error: 0.0240\n",
      "Epoch 168/300\n",
      "2725/2725 [==============================] - 4s 1ms/step - loss: 0.0231 - mean_squared_error: 0.0231 - val_loss: 0.0231 - val_mean_squared_error: 0.0231\n",
      "Epoch 169/300\n",
      "2725/2725 [==============================] - 3s 1ms/step - loss: 0.0231 - mean_squared_error: 0.0231 - val_loss: 0.0220 - val_mean_squared_error: 0.0220\n",
      "Epoch 170/300\n",
      "2725/2725 [==============================] - 3s 1ms/step - loss: 0.0230 - mean_squared_error: 0.0230 - val_loss: 0.0226 - val_mean_squared_error: 0.0226\n",
      "Epoch 171/300\n",
      "2725/2725 [==============================] - 4s 1ms/step - loss: 0.0230 - mean_squared_error: 0.0230 - val_loss: 0.0227 - val_mean_squared_error: 0.0227\n",
      "Epoch 172/300\n",
      "2725/2725 [==============================] - 4s 1ms/step - loss: 0.0230 - mean_squared_error: 0.0230 - val_loss: 0.0225 - val_mean_squared_error: 0.0225\n",
      "Epoch 173/300\n",
      "2725/2725 [==============================] - 4s 1ms/step - loss: 0.0231 - mean_squared_error: 0.0231 - val_loss: 0.0226 - val_mean_squared_error: 0.0226\n",
      "Epoch 174/300\n",
      "2725/2725 [==============================] - 4s 1ms/step - loss: 0.0229 - mean_squared_error: 0.0229 - val_loss: 0.0220 - val_mean_squared_error: 0.0220\n",
      "Epoch 175/300\n",
      "2725/2725 [==============================] - 4s 2ms/step - loss: 0.0229 - mean_squared_error: 0.0229 - val_loss: 0.0224 - val_mean_squared_error: 0.0224\n",
      "Epoch 176/300\n",
      "2725/2725 [==============================] - 4s 1ms/step - loss: 0.0230 - mean_squared_error: 0.0230 - val_loss: 0.0228 - val_mean_squared_error: 0.0228\n",
      "Epoch 177/300\n",
      "2725/2725 [==============================] - 4s 1ms/step - loss: 0.0231 - mean_squared_error: 0.0231 - val_loss: 0.0226 - val_mean_squared_error: 0.0226\n",
      "Epoch 178/300\n",
      "2725/2725 [==============================] - 4s 1ms/step - loss: 0.0229 - mean_squared_error: 0.0229 - val_loss: 0.0222 - val_mean_squared_error: 0.0222\n",
      "Epoch 179/300\n",
      "2725/2725 [==============================] - 4s 1ms/step - loss: 0.0229 - mean_squared_error: 0.0229 - val_loss: 0.0231 - val_mean_squared_error: 0.0231\n",
      "Epoch 180/300\n",
      "2725/2725 [==============================] - 4s 1ms/step - loss: 0.0230 - mean_squared_error: 0.0230 - val_loss: 0.0223 - val_mean_squared_error: 0.0223\n",
      "Epoch 181/300\n",
      "2725/2725 [==============================] - 4s 1ms/step - loss: 0.0229 - mean_squared_error: 0.0229 - val_loss: 0.0224 - val_mean_squared_error: 0.0224\n",
      "Epoch 182/300\n",
      "2725/2725 [==============================] - 4s 1ms/step - loss: 0.0230 - mean_squared_error: 0.0230 - val_loss: 0.0224 - val_mean_squared_error: 0.0224\n",
      "Epoch 183/300\n",
      "2725/2725 [==============================] - 4s 1ms/step - loss: 0.0229 - mean_squared_error: 0.0229 - val_loss: 0.0225 - val_mean_squared_error: 0.0225\n",
      "Epoch 184/300\n",
      "2725/2725 [==============================] - 4s 1ms/step - loss: 0.0230 - mean_squared_error: 0.0230 - val_loss: 0.0228 - val_mean_squared_error: 0.0228\n",
      "Epoch 185/300\n",
      "2725/2725 [==============================] - 4s 1ms/step - loss: 0.0228 - mean_squared_error: 0.0228 - val_loss: 0.0227 - val_mean_squared_error: 0.0227\n",
      "Epoch 186/300\n",
      "2725/2725 [==============================] - 3s 1ms/step - loss: 0.0229 - mean_squared_error: 0.0229 - val_loss: 0.0229 - val_mean_squared_error: 0.0228\n",
      "Epoch 187/300\n",
      "2725/2725 [==============================] - 4s 1ms/step - loss: 0.0228 - mean_squared_error: 0.0228 - val_loss: 0.0222 - val_mean_squared_error: 0.0222\n",
      "Epoch 188/300\n",
      "2725/2725 [==============================] - 3s 1ms/step - loss: 0.0230 - mean_squared_error: 0.0230 - val_loss: 0.0231 - val_mean_squared_error: 0.0231\n",
      "Epoch 189/300\n",
      "2725/2725 [==============================] - 3s 1ms/step - loss: 0.0229 - mean_squared_error: 0.0229 - val_loss: 0.0224 - val_mean_squared_error: 0.0224\n",
      "Epoch 190/300\n",
      "2725/2725 [==============================] - 3s 1ms/step - loss: 0.0228 - mean_squared_error: 0.0228 - val_loss: 0.0223 - val_mean_squared_error: 0.0223\n",
      "Epoch 191/300\n",
      "2725/2725 [==============================] - 3s 1ms/step - loss: 0.0228 - mean_squared_error: 0.0228 - val_loss: 0.0221 - val_mean_squared_error: 0.0221\n",
      "Epoch 192/300\n",
      "2725/2725 [==============================] - 3s 1ms/step - loss: 0.0229 - mean_squared_error: 0.0229 - val_loss: 0.0227 - val_mean_squared_error: 0.0227\n",
      "Epoch 193/300\n",
      "2725/2725 [==============================] - 4s 1ms/step - loss: 0.0228 - mean_squared_error: 0.0228 - val_loss: 0.0220 - val_mean_squared_error: 0.0220\n",
      "Epoch 194/300\n",
      "2725/2725 [==============================] - 3s 1ms/step - loss: 0.0228 - mean_squared_error: 0.0228 - val_loss: 0.0224 - val_mean_squared_error: 0.0224\n",
      "Epoch 195/300\n",
      "2725/2725 [==============================] - 4s 1ms/step - loss: 0.0230 - mean_squared_error: 0.0230 - val_loss: 0.0231 - val_mean_squared_error: 0.0231\n",
      "Epoch 196/300\n",
      "2725/2725 [==============================] - 4s 1ms/step - loss: 0.0228 - mean_squared_error: 0.0228 - val_loss: 0.0222 - val_mean_squared_error: 0.0222\n",
      "Epoch 197/300\n",
      "2725/2725 [==============================] - 4s 1ms/step - loss: 0.0228 - mean_squared_error: 0.0228 - val_loss: 0.0225 - val_mean_squared_error: 0.0225\n",
      "Epoch 198/300\n",
      "2725/2725 [==============================] - 4s 2ms/step - loss: 0.0229 - mean_squared_error: 0.0229 - val_loss: 0.0220 - val_mean_squared_error: 0.0220\n",
      "Epoch 199/300\n",
      "2725/2725 [==============================] - 3s 1ms/step - loss: 0.0227 - mean_squared_error: 0.0227 - val_loss: 0.0222 - val_mean_squared_error: 0.0222\n",
      "Epoch 200/300\n",
      "2725/2725 [==============================] - 3s 1ms/step - loss: 0.0227 - mean_squared_error: 0.0227 - val_loss: 0.0225 - val_mean_squared_error: 0.0225\n",
      "Epoch 201/300\n",
      "2725/2725 [==============================] - 3s 1ms/step - loss: 0.0229 - mean_squared_error: 0.0229 - val_loss: 0.0221 - val_mean_squared_error: 0.0221\n",
      "Epoch 202/300\n",
      "2725/2725 [==============================] - 4s 1ms/step - loss: 0.0228 - mean_squared_error: 0.0228 - val_loss: 0.0223 - val_mean_squared_error: 0.0223\n",
      "Epoch 203/300\n",
      "2725/2725 [==============================] - 4s 1ms/step - loss: 0.0227 - mean_squared_error: 0.0227 - val_loss: 0.0225 - val_mean_squared_error: 0.0225\n",
      "Epoch 204/300\n",
      "2725/2725 [==============================] - 4s 1ms/step - loss: 0.0229 - mean_squared_error: 0.0229 - val_loss: 0.0221 - val_mean_squared_error: 0.0221\n",
      "Epoch 205/300\n",
      "2725/2725 [==============================] - 4s 1ms/step - loss: 0.0229 - mean_squared_error: 0.0229 - val_loss: 0.0222 - val_mean_squared_error: 0.0222\n",
      "Epoch 206/300\n",
      "2725/2725 [==============================] - 3s 1ms/step - loss: 0.0228 - mean_squared_error: 0.0228 - val_loss: 0.0224 - val_mean_squared_error: 0.0224\n",
      "Epoch 207/300\n",
      "2725/2725 [==============================] - 4s 1ms/step - loss: 0.0227 - mean_squared_error: 0.0227 - val_loss: 0.0222 - val_mean_squared_error: 0.0222\n",
      "Epoch 208/300\n",
      "2725/2725 [==============================] - 4s 2ms/step - loss: 0.0229 - mean_squared_error: 0.0229 - val_loss: 0.0222 - val_mean_squared_error: 0.0222\n",
      "Epoch 209/300\n",
      "2725/2725 [==============================] - 4s 1ms/step - loss: 0.0227 - mean_squared_error: 0.0227 - val_loss: 0.0223 - val_mean_squared_error: 0.0223\n",
      "Epoch 210/300\n",
      "2725/2725 [==============================] - 4s 1ms/step - loss: 0.0226 - mean_squared_error: 0.0226 - val_loss: 0.0227 - val_mean_squared_error: 0.0227\n",
      "Epoch 211/300\n",
      "2725/2725 [==============================] - 4s 1ms/step - loss: 0.0227 - mean_squared_error: 0.0227 - val_loss: 0.0226 - val_mean_squared_error: 0.0226\n",
      "Epoch 212/300\n",
      "2725/2725 [==============================] - 3s 1ms/step - loss: 0.0229 - mean_squared_error: 0.0229 - val_loss: 0.0221 - val_mean_squared_error: 0.0221\n",
      "Epoch 213/300\n",
      "2725/2725 [==============================] - 4s 1ms/step - loss: 0.0227 - mean_squared_error: 0.0227 - val_loss: 0.0227 - val_mean_squared_error: 0.0227\n",
      "Epoch 214/300\n",
      "2725/2725 [==============================] - 4s 1ms/step - loss: 0.0228 - mean_squared_error: 0.0228 - val_loss: 0.0230 - val_mean_squared_error: 0.0230\n",
      "Epoch 215/300\n",
      "2725/2725 [==============================] - 3s 1ms/step - loss: 0.0229 - mean_squared_error: 0.0229 - val_loss: 0.0223 - val_mean_squared_error: 0.0223\n",
      "Epoch 216/300\n",
      "2725/2725 [==============================] - 3s 1ms/step - loss: 0.0227 - mean_squared_error: 0.0227 - val_loss: 0.0224 - val_mean_squared_error: 0.0224\n",
      "Epoch 217/300\n",
      "2725/2725 [==============================] - 3s 1ms/step - loss: 0.0226 - mean_squared_error: 0.0226 - val_loss: 0.0223 - val_mean_squared_error: 0.0223\n",
      "Epoch 218/300\n",
      "2725/2725 [==============================] - 4s 1ms/step - loss: 0.0226 - mean_squared_error: 0.0226 - val_loss: 0.0224 - val_mean_squared_error: 0.0224\n",
      "Epoch 219/300\n",
      "2725/2725 [==============================] - 4s 1ms/step - loss: 0.0227 - mean_squared_error: 0.0227 - val_loss: 0.0222 - val_mean_squared_error: 0.0222\n",
      "Epoch 220/300\n",
      "2725/2725 [==============================] - 3s 1ms/step - loss: 0.0229 - mean_squared_error: 0.0229 - val_loss: 0.0224 - val_mean_squared_error: 0.0224\n",
      "Epoch 221/300\n",
      "2725/2725 [==============================] - 4s 1ms/step - loss: 0.0227 - mean_squared_error: 0.0227 - val_loss: 0.0219 - val_mean_squared_error: 0.0219\n",
      "Epoch 222/300\n",
      "2725/2725 [==============================] - 4s 1ms/step - loss: 0.0227 - mean_squared_error: 0.0227 - val_loss: 0.0221 - val_mean_squared_error: 0.0221\n",
      "Epoch 223/300\n",
      "2725/2725 [==============================] - 4s 1ms/step - loss: 0.0227 - mean_squared_error: 0.0227 - val_loss: 0.0222 - val_mean_squared_error: 0.0222\n",
      "Epoch 224/300\n",
      "2725/2725 [==============================] - 4s 1ms/step - loss: 0.0227 - mean_squared_error: 0.0227 - val_loss: 0.0222 - val_mean_squared_error: 0.0222\n",
      "Epoch 225/300\n",
      "2725/2725 [==============================] - 3s 1ms/step - loss: 0.0226 - mean_squared_error: 0.0226 - val_loss: 0.0226 - val_mean_squared_error: 0.0226\n",
      "Epoch 226/300\n",
      "2725/2725 [==============================] - 3s 1ms/step - loss: 0.0227 - mean_squared_error: 0.0227 - val_loss: 0.0224 - val_mean_squared_error: 0.0224\n",
      "Epoch 227/300\n",
      "2725/2725 [==============================] - 4s 1ms/step - loss: 0.0226 - mean_squared_error: 0.0226 - val_loss: 0.0222 - val_mean_squared_error: 0.0222\n",
      "Epoch 228/300\n",
      "2725/2725 [==============================] - 3s 1ms/step - loss: 0.0226 - mean_squared_error: 0.0226 - val_loss: 0.0224 - val_mean_squared_error: 0.0224\n",
      "Epoch 229/300\n",
      "2725/2725 [==============================] - 4s 1ms/step - loss: 0.0227 - mean_squared_error: 0.0227 - val_loss: 0.0225 - val_mean_squared_error: 0.0225\n",
      "Epoch 230/300\n",
      "2725/2725 [==============================] - 3s 1ms/step - loss: 0.0226 - mean_squared_error: 0.0226 - val_loss: 0.0222 - val_mean_squared_error: 0.0222\n",
      "Epoch 231/300\n",
      "2725/2725 [==============================] - 3s 1ms/step - loss: 0.0227 - mean_squared_error: 0.0227 - val_loss: 0.0221 - val_mean_squared_error: 0.0221\n",
      "Epoch 232/300\n",
      "2725/2725 [==============================] - 3s 1ms/step - loss: 0.0226 - mean_squared_error: 0.0226 - val_loss: 0.0222 - val_mean_squared_error: 0.0222\n",
      "Epoch 233/300\n",
      "2725/2725 [==============================] - 4s 1ms/step - loss: 0.0226 - mean_squared_error: 0.0226 - val_loss: 0.0226 - val_mean_squared_error: 0.0226\n",
      "Epoch 234/300\n",
      "2725/2725 [==============================] - 4s 1ms/step - loss: 0.0226 - mean_squared_error: 0.0226 - val_loss: 0.0221 - val_mean_squared_error: 0.0221\n",
      "Epoch 235/300\n",
      "2725/2725 [==============================] - 4s 1ms/step - loss: 0.0227 - mean_squared_error: 0.0227 - val_loss: 0.0227 - val_mean_squared_error: 0.0227\n",
      "Epoch 236/300\n",
      "2725/2725 [==============================] - 3s 1ms/step - loss: 0.0226 - mean_squared_error: 0.0226 - val_loss: 0.0223 - val_mean_squared_error: 0.0223\n",
      "Epoch 237/300\n",
      "2725/2725 [==============================] - 4s 1ms/step - loss: 0.0226 - mean_squared_error: 0.0226 - val_loss: 0.0227 - val_mean_squared_error: 0.0227\n",
      "Epoch 238/300\n",
      "2725/2725 [==============================] - 4s 1ms/step - loss: 0.0226 - mean_squared_error: 0.0226 - val_loss: 0.0224 - val_mean_squared_error: 0.0224\n",
      "Epoch 239/300\n",
      "2725/2725 [==============================] - 4s 1ms/step - loss: 0.0226 - mean_squared_error: 0.0226 - val_loss: 0.0221 - val_mean_squared_error: 0.0221\n",
      "Epoch 240/300\n",
      "2725/2725 [==============================] - 4s 1ms/step - loss: 0.0225 - mean_squared_error: 0.0225 - val_loss: 0.0219 - val_mean_squared_error: 0.0219\n",
      "Epoch 241/300\n",
      "2725/2725 [==============================] - 4s 1ms/step - loss: 0.0226 - mean_squared_error: 0.0226 - val_loss: 0.0222 - val_mean_squared_error: 0.0222\n",
      "Epoch 242/300\n",
      "2725/2725 [==============================] - 3s 1ms/step - loss: 0.0227 - mean_squared_error: 0.0227 - val_loss: 0.0221 - val_mean_squared_error: 0.0221\n",
      "Epoch 243/300\n",
      "2725/2725 [==============================] - 4s 1ms/step - loss: 0.0226 - mean_squared_error: 0.0226 - val_loss: 0.0219 - val_mean_squared_error: 0.0219\n",
      "Epoch 244/300\n",
      "2725/2725 [==============================] - 4s 1ms/step - loss: 0.0226 - mean_squared_error: 0.0226 - val_loss: 0.0222 - val_mean_squared_error: 0.0222\n",
      "Epoch 245/300\n",
      "2725/2725 [==============================] - 4s 1ms/step - loss: 0.0226 - mean_squared_error: 0.0226 - val_loss: 0.0222 - val_mean_squared_error: 0.0222\n",
      "Epoch 246/300\n",
      "2725/2725 [==============================] - 4s 1ms/step - loss: 0.0226 - mean_squared_error: 0.0226 - val_loss: 0.0219 - val_mean_squared_error: 0.0219\n",
      "Epoch 247/300\n",
      "2725/2725 [==============================] - 4s 1ms/step - loss: 0.0226 - mean_squared_error: 0.0226 - val_loss: 0.0220 - val_mean_squared_error: 0.0220\n",
      "Epoch 248/300\n",
      "2725/2725 [==============================] - 3s 1ms/step - loss: 0.0225 - mean_squared_error: 0.0225 - val_loss: 0.0222 - val_mean_squared_error: 0.0222\n",
      "Epoch 249/300\n",
      "2725/2725 [==============================] - 4s 1ms/step - loss: 0.0225 - mean_squared_error: 0.0225 - val_loss: 0.0219 - val_mean_squared_error: 0.0219\n",
      "Epoch 250/300\n",
      "2725/2725 [==============================] - 4s 1ms/step - loss: 0.0225 - mean_squared_error: 0.0225 - val_loss: 0.0219 - val_mean_squared_error: 0.0219\n",
      "Epoch 251/300\n",
      "2725/2725 [==============================] - 4s 1ms/step - loss: 0.0227 - mean_squared_error: 0.0227 - val_loss: 0.0224 - val_mean_squared_error: 0.0224\n",
      "Epoch 252/300\n",
      "2725/2725 [==============================] - 4s 1ms/step - loss: 0.0226 - mean_squared_error: 0.0226 - val_loss: 0.0222 - val_mean_squared_error: 0.0222\n",
      "Epoch 253/300\n",
      "2725/2725 [==============================] - 4s 1ms/step - loss: 0.0226 - mean_squared_error: 0.0226 - val_loss: 0.0219 - val_mean_squared_error: 0.0219\n",
      "Epoch 254/300\n",
      "2725/2725 [==============================] - 4s 1ms/step - loss: 0.0225 - mean_squared_error: 0.0225 - val_loss: 0.0225 - val_mean_squared_error: 0.0225\n",
      "Epoch 255/300\n",
      "2725/2725 [==============================] - 4s 1ms/step - loss: 0.0225 - mean_squared_error: 0.0225 - val_loss: 0.0219 - val_mean_squared_error: 0.0219\n",
      "Epoch 256/300\n",
      "2725/2725 [==============================] - 4s 1ms/step - loss: 0.0225 - mean_squared_error: 0.0225 - val_loss: 0.0219 - val_mean_squared_error: 0.0219\n",
      "Epoch 257/300\n",
      "2725/2725 [==============================] - 4s 1ms/step - loss: 0.0224 - mean_squared_error: 0.0224 - val_loss: 0.0219 - val_mean_squared_error: 0.0219\n",
      "Epoch 258/300\n",
      "2725/2725 [==============================] - 4s 1ms/step - loss: 0.0225 - mean_squared_error: 0.0225 - val_loss: 0.0224 - val_mean_squared_error: 0.0224\n",
      "Epoch 259/300\n",
      "2725/2725 [==============================] - 4s 1ms/step - loss: 0.0226 - mean_squared_error: 0.0226 - val_loss: 0.0222 - val_mean_squared_error: 0.0222\n",
      "Epoch 260/300\n",
      "2725/2725 [==============================] - 4s 2ms/step - loss: 0.0225 - mean_squared_error: 0.0225 - val_loss: 0.0222 - val_mean_squared_error: 0.0222\n",
      "Epoch 261/300\n",
      "2725/2725 [==============================] - 4s 1ms/step - loss: 0.0224 - mean_squared_error: 0.0224 - val_loss: 0.0218 - val_mean_squared_error: 0.0218\n",
      "Epoch 262/300\n",
      "2725/2725 [==============================] - 3s 1ms/step - loss: 0.0224 - mean_squared_error: 0.0224 - val_loss: 0.0219 - val_mean_squared_error: 0.0219\n",
      "Epoch 263/300\n",
      "2725/2725 [==============================] - 4s 1ms/step - loss: 0.0225 - mean_squared_error: 0.0225 - val_loss: 0.0223 - val_mean_squared_error: 0.0223\n",
      "Epoch 264/300\n",
      "2725/2725 [==============================] - 4s 1ms/step - loss: 0.0224 - mean_squared_error: 0.0224 - val_loss: 0.0222 - val_mean_squared_error: 0.0221\n",
      "Epoch 265/300\n",
      "2725/2725 [==============================] - 4s 1ms/step - loss: 0.0226 - mean_squared_error: 0.0226 - val_loss: 0.0220 - val_mean_squared_error: 0.0220\n",
      "Epoch 266/300\n",
      "2725/2725 [==============================] - 4s 1ms/step - loss: 0.0224 - mean_squared_error: 0.0224 - val_loss: 0.0221 - val_mean_squared_error: 0.0221\n",
      "Epoch 267/300\n",
      "2725/2725 [==============================] - 4s 1ms/step - loss: 0.0225 - mean_squared_error: 0.0225 - val_loss: 0.0222 - val_mean_squared_error: 0.0222\n",
      "Epoch 268/300\n",
      "2725/2725 [==============================] - 4s 1ms/step - loss: 0.0225 - mean_squared_error: 0.0225 - val_loss: 0.0219 - val_mean_squared_error: 0.0219\n",
      "Epoch 269/300\n",
      "2725/2725 [==============================] - 4s 1ms/step - loss: 0.0223 - mean_squared_error: 0.0223 - val_loss: 0.0223 - val_mean_squared_error: 0.0223\n",
      "Epoch 270/300\n",
      "2725/2725 [==============================] - 4s 1ms/step - loss: 0.0224 - mean_squared_error: 0.0224 - val_loss: 0.0229 - val_mean_squared_error: 0.0229\n",
      "Epoch 271/300\n",
      "2725/2725 [==============================] - 4s 1ms/step - loss: 0.0225 - mean_squared_error: 0.0225 - val_loss: 0.0219 - val_mean_squared_error: 0.0219\n",
      "Epoch 272/300\n",
      "2725/2725 [==============================] - 4s 1ms/step - loss: 0.0224 - mean_squared_error: 0.0224 - val_loss: 0.0225 - val_mean_squared_error: 0.0225\n",
      "Epoch 273/300\n",
      "2725/2725 [==============================] - 4s 1ms/step - loss: 0.0224 - mean_squared_error: 0.0224 - val_loss: 0.0222 - val_mean_squared_error: 0.0222\n",
      "Epoch 274/300\n",
      "2725/2725 [==============================] - 4s 1ms/step - loss: 0.0225 - mean_squared_error: 0.0226 - val_loss: 0.0219 - val_mean_squared_error: 0.0219\n",
      "Epoch 275/300\n",
      "2725/2725 [==============================] - 4s 1ms/step - loss: 0.0224 - mean_squared_error: 0.0224 - val_loss: 0.0219 - val_mean_squared_error: 0.0219\n",
      "Epoch 276/300\n",
      "2725/2725 [==============================] - 4s 1ms/step - loss: 0.0224 - mean_squared_error: 0.0224 - val_loss: 0.0220 - val_mean_squared_error: 0.0220\n",
      "Epoch 277/300\n",
      "2725/2725 [==============================] - 4s 1ms/step - loss: 0.0224 - mean_squared_error: 0.0224 - val_loss: 0.0222 - val_mean_squared_error: 0.0222\n",
      "Epoch 278/300\n",
      "2725/2725 [==============================] - 4s 1ms/step - loss: 0.0224 - mean_squared_error: 0.0224 - val_loss: 0.0219 - val_mean_squared_error: 0.0219\n",
      "Epoch 279/300\n",
      "2725/2725 [==============================] - 4s 1ms/step - loss: 0.0224 - mean_squared_error: 0.0224 - val_loss: 0.0223 - val_mean_squared_error: 0.0223\n",
      "Epoch 280/300\n",
      "2725/2725 [==============================] - 4s 1ms/step - loss: 0.0226 - mean_squared_error: 0.0226 - val_loss: 0.0221 - val_mean_squared_error: 0.0221\n",
      "Epoch 281/300\n",
      "2725/2725 [==============================] - 4s 1ms/step - loss: 0.0224 - mean_squared_error: 0.0224 - val_loss: 0.0220 - val_mean_squared_error: 0.0220\n",
      "Epoch 282/300\n",
      "2725/2725 [==============================] - 4s 1ms/step - loss: 0.0225 - mean_squared_error: 0.0225 - val_loss: 0.0222 - val_mean_squared_error: 0.0222\n",
      "Epoch 283/300\n",
      "2725/2725 [==============================] - 3s 1ms/step - loss: 0.0223 - mean_squared_error: 0.0223 - val_loss: 0.0220 - val_mean_squared_error: 0.0220\n",
      "Epoch 284/300\n",
      "2725/2725 [==============================] - 4s 1ms/step - loss: 0.0225 - mean_squared_error: 0.0225 - val_loss: 0.0220 - val_mean_squared_error: 0.0220\n",
      "Epoch 285/300\n",
      "2725/2725 [==============================] - 4s 1ms/step - loss: 0.0225 - mean_squared_error: 0.0225 - val_loss: 0.0232 - val_mean_squared_error: 0.0232\n",
      "Epoch 286/300\n",
      "2725/2725 [==============================] - 4s 1ms/step - loss: 0.0224 - mean_squared_error: 0.0224 - val_loss: 0.0221 - val_mean_squared_error: 0.0221\n",
      "Epoch 287/300\n",
      "2725/2725 [==============================] - 4s 1ms/step - loss: 0.0224 - mean_squared_error: 0.0224 - val_loss: 0.0224 - val_mean_squared_error: 0.0224\n",
      "Epoch 288/300\n",
      "2725/2725 [==============================] - 4s 1ms/step - loss: 0.0222 - mean_squared_error: 0.0222 - val_loss: 0.0222 - val_mean_squared_error: 0.0222\n",
      "Epoch 289/300\n",
      "2725/2725 [==============================] - 4s 1ms/step - loss: 0.0223 - mean_squared_error: 0.0223 - val_loss: 0.0220 - val_mean_squared_error: 0.0220\n",
      "Epoch 290/300\n",
      "2725/2725 [==============================] - 4s 1ms/step - loss: 0.0225 - mean_squared_error: 0.0225 - val_loss: 0.0219 - val_mean_squared_error: 0.0219\n",
      "Epoch 291/300\n",
      "2725/2725 [==============================] - 4s 1ms/step - loss: 0.0224 - mean_squared_error: 0.0224 - val_loss: 0.0225 - val_mean_squared_error: 0.0225\n",
      "Epoch 292/300\n",
      "2725/2725 [==============================] - 4s 1ms/step - loss: 0.0225 - mean_squared_error: 0.0225 - val_loss: 0.0234 - val_mean_squared_error: 0.0234\n",
      "Epoch 293/300\n",
      "2725/2725 [==============================] - 4s 1ms/step - loss: 0.0224 - mean_squared_error: 0.0224 - val_loss: 0.0227 - val_mean_squared_error: 0.0227\n",
      "Epoch 294/300\n",
      "2725/2725 [==============================] - 4s 1ms/step - loss: 0.0225 - mean_squared_error: 0.0225 - val_loss: 0.0219 - val_mean_squared_error: 0.0219\n",
      "Epoch 295/300\n",
      "2725/2725 [==============================] - 4s 1ms/step - loss: 0.0223 - mean_squared_error: 0.0223 - val_loss: 0.0220 - val_mean_squared_error: 0.0220\n",
      "Epoch 296/300\n",
      "2725/2725 [==============================] - 4s 1ms/step - loss: 0.0223 - mean_squared_error: 0.0223 - val_loss: 0.0217 - val_mean_squared_error: 0.0217\n",
      "Epoch 297/300\n",
      "2725/2725 [==============================] - 4s 1ms/step - loss: 0.0223 - mean_squared_error: 0.0223 - val_loss: 0.0225 - val_mean_squared_error: 0.0225\n",
      "Epoch 298/300\n",
      "2725/2725 [==============================] - 4s 1ms/step - loss: 0.0223 - mean_squared_error: 0.0223 - val_loss: 0.0223 - val_mean_squared_error: 0.0223\n",
      "Epoch 299/300\n",
      "2725/2725 [==============================] - 4s 1ms/step - loss: 0.0224 - mean_squared_error: 0.0224 - val_loss: 0.0220 - val_mean_squared_error: 0.0220\n",
      "Epoch 300/300\n",
      "2725/2725 [==============================] - 4s 1ms/step - loss: 0.0224 - mean_squared_error: 0.0224 - val_loss: 0.0220 - val_mean_squared_error: 0.0220\n"
     ]
    }
   ],
   "source": [
    "# reshape x_train and x_test\n",
    "# x_train = x_train.values.reshape(x_train.shape[0], x_train.shape[1], 1)\n",
    "with tf.device(\"cpu\") :\n",
    "    history_reg, model_reg = make_reg_model(\n",
    "        Dense(16, activation=\"sigmoid\", input_dim=x_train.shape[1]),\n",
    "        Dropout(0.1),\n",
    "        Dense(16, activation=\"relu\"),\n",
    "        # Dropout(0.1),\n",
    "        Dense(16, activation=\"relu\"),\n",
    "        # Dropout(0.1),\n",
    "        # Dense(16, activation=\"relu\"),\n",
    "        x=x_train.values ,y=y_reg_train,\n",
    "        last_activation=exp_relu,\n",
    "        epochs=300,\n",
    "        batch_size=64,\n",
    "        learning_rate=0.001\n",
    "    )"
   ],
   "metadata": {
    "collapsed": false,
    "pycharm": {
     "name": "#%%\n"
    }
   }
  },
  {
   "cell_type": "code",
   "execution_count": 26,
   "outputs": [
    {
     "data": {
      "text/plain": "<Figure size 504x360 with 1 Axes>",
      "image/png": "[encoded data removed]"
     },
     "metadata": {
      "needs_background": "light"
     },
     "output_type": "display_data"
    }
   ],
   "source": [
    "# Plot history\n",
    "plot_history_reg(history_reg, 'mean_squared_error')"
   ],
   "metadata": {
    "collapsed": false,
    "pycharm": {
     "name": "#%%\n"
    }
   }
  },
  {
   "cell_type": "markdown",
   "source": [
    "    # Compute MAPE on 2017 dataset before submitting"
   ],
   "metadata": {
    "collapsed": false
   }
  },
  {
   "cell_type": "markdown",
   "source": [
    "## classification"
   ],
   "metadata": {
    "collapsed": false
   }
  },
  {
   "cell_type": "code",
   "execution_count": 27,
   "outputs": [],
   "source": [
    "y_cls_pred = model_cls.predict(x_test)"
   ],
   "metadata": {
    "collapsed": false,
    "pycharm": {
     "name": "#%%\n"
    }
   }
  },
  {
   "cell_type": "code",
   "execution_count": 28,
   "outputs": [
    {
     "data": {
      "text/plain": "<Figure size 432x288 with 1 Axes>",
      "image/png": "[encoded data removed]"
     },
     "metadata": {
      "needs_background": "light"
     },
     "output_type": "display_data"
    }
   ],
   "source": [
    "plt.hist(y_cls_pred[:,0], color=\"cyan\", alpha=0.3, bins=100, label=\"not_raining\")\n",
    "plt.hist(y_cls_pred[:,1], color=\"magenta\", alpha=0.3, bins=100, label=\"raining\")\n",
    "plt.xlim([0,1])\n",
    "plt.legend()\n",
    "plt.show()"
   ],
   "metadata": {
    "collapsed": false,
    "pycharm": {
     "name": "#%%\n"
    }
   }
  },
  {
   "cell_type": "code",
   "execution_count": 29,
   "outputs": [],
   "source": [
    "y_cls_pred_bkp = np.array(y_cls_pred)"
   ],
   "metadata": {
    "collapsed": false,
    "pycharm": {
     "name": "#%%\n"
    }
   }
  },
  {
   "cell_type": "code",
   "execution_count": 30,
   "outputs": [],
   "source": [
    "y_cls_pred = np.array(y_cls_pred_bkp)"
   ],
   "metadata": {
    "collapsed": false,
    "pycharm": {
     "name": "#%%\n"
    }
   }
  },
  {
   "cell_type": "code",
   "execution_count": 31,
   "outputs": [],
   "source": [
    "cls_temp = y_cls_pred[:,0] < y_cls_pred[:,1]\n",
    "y_cls_pred = np.array([0 if c else 1 for c in cls_temp])"
   ],
   "metadata": {
    "collapsed": false,
    "pycharm": {
     "name": "#%%\n"
    }
   }
  },
  {
   "cell_type": "code",
   "execution_count": 32,
   "outputs": [
    {
     "data": {
      "text/plain": "<Figure size 432x288 with 1 Axes>",
      "image/png": "[encoded data removed]"
     },
     "metadata": {
      "needs_background": "light"
     },
     "output_type": "display_data"
    }
   ],
   "source": [
    "raining_ratio_pred = y_cls_pred.sum()/(len(y_cls_pred) - y_cls_pred.sum())\n",
    "plt.title(\"test set : ratio = {:.2f}\".format(raining_ratio_pred))\n",
    "sns.histplot(x=y_cls_pred,hue=y_cls_pred)\n",
    "plt.show()"
   ],
   "metadata": {
    "collapsed": false,
    "pycharm": {
     "name": "#%%\n"
    }
   }
  },
  {
   "cell_type": "markdown",
   "source": [
    "## regression"
   ],
   "metadata": {
    "collapsed": false
   }
  },
  {
   "cell_type": "code",
   "execution_count": 33,
   "outputs": [],
   "source": [
    "y_reg_pred = model_reg.predict(x_test)"
   ],
   "metadata": {
    "collapsed": false,
    "pycharm": {
     "name": "#%%\n"
    }
   }
  },
  {
   "cell_type": "markdown",
   "source": [
    "## merge"
   ],
   "metadata": {
    "collapsed": false
   }
  },
  {
   "cell_type": "code",
   "execution_count": 34,
   "outputs": [],
   "source": [
    "prediction_x_test[\"reg_pred\"] = y_reg_pred\n",
    "prediction_x_test[\"cls_pred\"] = y_cls_pred\n",
    "prediction_x_test[\"Prediction\"] = prediction_x_test[\"reg_pred\"] * prediction_x_test[\"cls_pred\"]"
   ],
   "metadata": {
    "collapsed": false,
    "pycharm": {
     "name": "#%%\n"
    }
   }
  },
  {
   "cell_type": "code",
   "execution_count": 35,
   "outputs": [
    {
     "data": {
      "text/plain": "<Figure size 1440x720 with 6 Axes>",
      "image/png": "[encoded data removed]"
     },
     "metadata": {
      "needs_background": "light"
     },
     "output_type": "display_data"
    }
   ],
   "source": [
    "box_plot(prediction_x_test)"
   ],
   "metadata": {
    "collapsed": false,
    "pycharm": {
     "name": "#%%\n"
    }
   }
  },
  {
   "cell_type": "code",
   "execution_count": 36,
   "outputs": [],
   "source": [
    "del x_train\n",
    "del y_cls_train\n",
    "del y_reg_train"
   ],
   "metadata": {
    "collapsed": false,
    "pycharm": {
     "name": "#%%\n"
    }
   }
  },
  {
   "cell_type": "code",
   "execution_count": 37,
   "outputs": [],
   "source": [
    "del x_test\n",
    "del y_cls_test\n",
    "del y_reg_test"
   ],
   "metadata": {
    "collapsed": false,
    "pycharm": {
     "name": "#%%\n"
    }
   }
  },
  {
   "cell_type": "markdown",
   "source": [
    "# Make a submission"
   ],
   "metadata": {
    "collapsed": false
   }
  },
  {
   "cell_type": "code",
   "execution_count": 39,
   "outputs": [],
   "source": [
    "test_set = pd.read_csv(\"../../preprocessed_data_Defi-IA-2022-Rain-Frogs/X_all_test_final_by_day.zip\")\n",
    "# test_set = pd.read_csv(\"../preprocessed_data_Defi-IA-2022-Rain-Frogs/X_all_test_final.zip\")"
   ],
   "metadata": {
    "collapsed": false,
    "pycharm": {
     "name": "#%%\n"
    }
   }
  },
  {
   "cell_type": "code",
   "execution_count": 40,
   "outputs": [],
   "source": [
    "test_set[\"cluster\"] = test_set[\"month\"].apply(lambda x : 0 if x in cluster_month_0 else 1)"
   ],
   "metadata": {
    "collapsed": false,
    "pycharm": {
     "name": "#%%\n"
    }
   }
  },
  {
   "cell_type": "markdown",
   "source": [
    "## create submission dataset"
   ],
   "metadata": {
    "collapsed": false
   }
  },
  {
   "cell_type": "code",
   "execution_count": 41,
   "outputs": [],
   "source": [
    "submission = pd.DataFrame(test_set[[\"Id\"]])"
   ],
   "metadata": {
    "collapsed": false,
    "pycharm": {
     "name": "#%%\n"
    }
   }
  },
  {
   "cell_type": "markdown",
   "source": [
    "## get same columns as before for test_set"
   ],
   "metadata": {
    "collapsed": false
   }
  },
  {
   "cell_type": "code",
   "execution_count": 42,
   "outputs": [],
   "source": [
    "test_set = test_set[columns]"
   ],
   "metadata": {
    "collapsed": false,
    "pycharm": {
     "name": "#%%\n"
    }
   }
  },
  {
   "cell_type": "markdown",
   "source": [
    "## normalize same way test_set"
   ],
   "metadata": {
    "collapsed": false
   }
  },
  {
   "cell_type": "code",
   "execution_count": 43,
   "outputs": [],
   "source": [
    "test_set = normalize(test_set,normalization_infos)"
   ],
   "metadata": {
    "collapsed": false,
    "pycharm": {
     "name": "#%%\n"
    }
   }
  },
  {
   "cell_type": "code",
   "execution_count": 44,
   "outputs": [
    {
     "data": {
      "text/plain": "   altitude (m)  latitude  longitude  month_cos  month_sin  \\\n0      0.152632      0.75   0.833333   0.000000   0.500000   \n1      0.152632      0.75   0.833333   0.750000   0.933013   \n2      0.152632      0.75   0.833333   0.933013   0.250000   \n3      0.152632      0.75   0.833333   0.250000   0.933013   \n4      0.152632      0.75   0.833333   0.066987   0.250000   \n\n   current hour precipitations (kg/m^2)  wind_direction_cos  \\\n0                               0.00000            0.335841   \n1                               0.00000            0.335841   \n2                               0.09375            0.335841   \n3                               0.00000            0.335841   \n4                               0.00000            0.335841   \n\n   wind_direction_sin  wind_speed (m/s)  wind_component_u (m/s)  ...  \\\n0            0.972284          0.096735                 0.43423  ...   \n1            0.972284          0.096735                 0.43423  ...   \n2            0.972284          0.096735                 0.43423  ...   \n3            0.972284          0.096735                 0.43423  ...   \n4            0.972284          0.096735                 0.43423  ...   \n\n   3D_Arpege_isobar_600hpa_Geopotential (m^2/s^2)  \\\n0                                        0.944588   \n1                                        0.987683   \n2                                        0.905300   \n3                                        0.894589   \n4                                        0.947055   \n\n   3D_Arpege_isobar_500hpa_Temperature (K)  \\\n0                                 0.580973   \n1                                 0.851050   \n2                                 0.271608   \n3                                 0.461949   \n4                                 0.602551   \n\n   3D_Arpege_isobar_500hpa_RelavtiveHumidity (%)  \\\n0                                       0.679873   \n1                                       0.243663   \n2                                       0.536040   \n3                                       0.822743   \n4                                       0.339574   \n\n   3D_Arpege_isobar_500hpa_WindSpeed (m/s)  \\\n0                                 0.158791   \n1                                 0.169768   \n2                                 0.349677   \n3                                 0.648840   \n4                                 0.163890   \n\n   3D_Arpege_isobar_500hpa_WindDirection (deg)  \\\n0                                     0.679938   \n1                                     0.688638   \n2                                     0.700741   \n3                                     0.583620   \n4                                     0.669567   \n\n   3D_Arpege_isobar_500hpa_WindComponentU (m/s)  \\\n0                                      0.513694   \n1                                      0.520906   \n2                                      0.613256   \n3                                      0.614184   \n4                                      0.503793   \n\n   3D_Arpege_isobar_500hpa_WindComponentV (m/s)  \\\n0                                      0.603836   \n1                                      0.601052   \n2                                      0.614223   \n3                                      0.950458   \n4                                      0.610642   \n\n   3D_Arpege_isobar_500hpa_VerticalVelocity (Pa/s)  \\\n0                                         0.584511   \n1                                         0.569387   \n2                                         0.542626   \n3                                         0.521686   \n4                                         0.536338   \n\n   3D_Arpege_isobar_500hpa_Geopotential (m^2/s^2)  cluster  \n0                                        0.948570      1.0  \n1                                        0.989601      0.0  \n2                                        0.909959      0.0  \n3                                        0.907201      1.0  \n4                                        0.950927      1.0  \n\n[5 rows x 98 columns]",
      "text/html": "<div>\n<style scoped>\n    .dataframe tbody tr th:only-of-type {\n        vertical-align: middle;\n    }\n\n    .dataframe tbody tr th {\n        vertical-align: top;\n    }\n\n    .dataframe thead th {\n        text-align: right;\n    }\n</style>\n<table border=\"1\" class=\"dataframe\">\n  <thead>\n    <tr style=\"text-align: right;\">\n      <th></th>\n      <th>altitude (m)</th>\n      <th>latitude</th>\n      <th>longitude</th>\n      <th>month_cos</th>\n      <th>month_sin</th>\n      <th>current hour precipitations (kg/m^2)</th>\n      <th>wind_direction_cos</th>\n      <th>wind_direction_sin</th>\n      <th>wind_speed (m/s)</th>\n      <th>wind_component_u (m/s)</th>\n      <th>...</th>\n      <th>3D_Arpege_isobar_600hpa_Geopotential (m^2/s^2)</th>\n      <th>3D_Arpege_isobar_500hpa_Temperature (K)</th>\n      <th>3D_Arpege_isobar_500hpa_RelavtiveHumidity (%)</th>\n      <th>3D_Arpege_isobar_500hpa_WindSpeed (m/s)</th>\n      <th>3D_Arpege_isobar_500hpa_WindDirection (deg)</th>\n      <th>3D_Arpege_isobar_500hpa_WindComponentU (m/s)</th>\n      <th>3D_Arpege_isobar_500hpa_WindComponentV (m/s)</th>\n      <th>3D_Arpege_isobar_500hpa_VerticalVelocity (Pa/s)</th>\n      <th>3D_Arpege_isobar_500hpa_Geopotential (m^2/s^2)</th>\n      <th>cluster</th>\n    </tr>\n  </thead>\n  <tbody>\n    <tr>\n      <th>0</th>\n      <td>0.152632</td>\n      <td>0.75</td>\n      <td>0.833333</td>\n      <td>0.000000</td>\n      <td>0.500000</td>\n      <td>0.00000</td>\n      <td>0.335841</td>\n      <td>0.972284</td>\n      <td>0.096735</td>\n      <td>0.43423</td>\n      <td>...</td>\n      <td>0.944588</td>\n      <td>0.580973</td>\n      <td>0.679873</td>\n      <td>0.158791</td>\n      <td>0.679938</td>\n      <td>0.513694</td>\n      <td>0.603836</td>\n      <td>0.584511</td>\n      <td>0.948570</td>\n      <td>1.0</td>\n    </tr>\n    <tr>\n      <th>1</th>\n      <td>0.152632</td>\n      <td>0.75</td>\n      <td>0.833333</td>\n      <td>0.750000</td>\n      <td>0.933013</td>\n      <td>0.00000</td>\n      <td>0.335841</td>\n      <td>0.972284</td>\n      <td>0.096735</td>\n      <td>0.43423</td>\n      <td>...</td>\n      <td>0.987683</td>\n      <td>0.851050</td>\n      <td>0.243663</td>\n      <td>0.169768</td>\n      <td>0.688638</td>\n      <td>0.520906</td>\n      <td>0.601052</td>\n      <td>0.569387</td>\n      <td>0.989601</td>\n      <td>0.0</td>\n    </tr>\n    <tr>\n      <th>2</th>\n      <td>0.152632</td>\n      <td>0.75</td>\n      <td>0.833333</td>\n      <td>0.933013</td>\n      <td>0.250000</td>\n      <td>0.09375</td>\n      <td>0.335841</td>\n      <td>0.972284</td>\n      <td>0.096735</td>\n      <td>0.43423</td>\n      <td>...</td>\n      <td>0.905300</td>\n      <td>0.271608</td>\n      <td>0.536040</td>\n      <td>0.349677</td>\n      <td>0.700741</td>\n      <td>0.613256</td>\n      <td>0.614223</td>\n      <td>0.542626</td>\n      <td>0.909959</td>\n      <td>0.0</td>\n    </tr>\n    <tr>\n      <th>3</th>\n      <td>0.152632</td>\n      <td>0.75</td>\n      <td>0.833333</td>\n      <td>0.250000</td>\n      <td>0.933013</td>\n      <td>0.00000</td>\n      <td>0.335841</td>\n      <td>0.972284</td>\n      <td>0.096735</td>\n      <td>0.43423</td>\n      <td>...</td>\n      <td>0.894589</td>\n      <td>0.461949</td>\n      <td>0.822743</td>\n      <td>0.648840</td>\n      <td>0.583620</td>\n      <td>0.614184</td>\n      <td>0.950458</td>\n      <td>0.521686</td>\n      <td>0.907201</td>\n      <td>1.0</td>\n    </tr>\n    <tr>\n      <th>4</th>\n      <td>0.152632</td>\n      <td>0.75</td>\n      <td>0.833333</td>\n      <td>0.066987</td>\n      <td>0.250000</td>\n      <td>0.00000</td>\n      <td>0.335841</td>\n      <td>0.972284</td>\n      <td>0.096735</td>\n      <td>0.43423</td>\n      <td>...</td>\n      <td>0.947055</td>\n      <td>0.602551</td>\n      <td>0.339574</td>\n      <td>0.163890</td>\n      <td>0.669567</td>\n      <td>0.503793</td>\n      <td>0.610642</td>\n      <td>0.536338</td>\n      <td>0.950927</td>\n      <td>1.0</td>\n    </tr>\n  </tbody>\n</table>\n<p>5 rows × 98 columns</p>\n</div>"
     },
     "execution_count": 44,
     "metadata": {},
     "output_type": "execute_result"
    }
   ],
   "source": [
    "test_set.head()"
   ],
   "metadata": {
    "collapsed": false,
    "pycharm": {
     "name": "#%%\n"
    }
   }
  },
  {
   "cell_type": "markdown",
   "source": [
    "## Predict test_set for submission"
   ],
   "metadata": {
    "collapsed": false
   }
  },
  {
   "cell_type": "code",
   "execution_count": 45,
   "outputs": [
    {
     "name": "stderr",
     "output_type": "stream",
     "text": [
      "2022-01-20 23:27:26.206820: W tensorflow/core/framework/cpu_allocator_impl.cc:82] Allocation of 92492400 exceeds 10% of free system memory.\n"
     ]
    }
   ],
   "source": [
    "y_cls_pred = model_cls.predict(test_set)"
   ],
   "metadata": {
    "collapsed": false,
    "pycharm": {
     "name": "#%%\n"
    }
   }
  },
  {
   "cell_type": "code",
   "execution_count": 46,
   "outputs": [
    {
     "name": "stderr",
     "output_type": "stream",
     "text": [
      "2022-01-20 23:27:29.163661: W tensorflow/core/framework/cpu_allocator_impl.cc:82] Allocation of 92492400 exceeds 10% of free system memory.\n"
     ]
    }
   ],
   "source": [
    "y_reg_pred = model_reg.predict(test_set)"
   ],
   "metadata": {
    "collapsed": false,
    "pycharm": {
     "name": "#%%\n"
    }
   }
  },
  {
   "cell_type": "code",
   "execution_count": 47,
   "outputs": [],
   "source": [
    "cls_temp = y_cls_pred[:,0] < y_cls_pred[:,1]\n",
    "y_cls_pred = np.array([0 if c else 1 for c in cls_temp])"
   ],
   "metadata": {
    "collapsed": false,
    "pycharm": {
     "name": "#%%\n"
    }
   }
  },
  {
   "cell_type": "code",
   "execution_count": 48,
   "outputs": [
    {
     "name": "stdout",
     "output_type": "stream",
     "text": [
      "1.4187411744200722\n"
     ]
    }
   ],
   "source": [
    "print(avg_raining_ratio)"
   ],
   "metadata": {
    "collapsed": false,
    "pycharm": {
     "name": "#%%\n"
    }
   }
  },
  {
   "cell_type": "code",
   "execution_count": 49,
   "outputs": [],
   "source": [
    "submission[\"cls_pred\"] = y_cls_pred\n",
    "submission[\"reg_pred\"] = y_reg_pred"
   ],
   "metadata": {
    "collapsed": false,
    "pycharm": {
     "name": "#%%\n"
    }
   }
  },
  {
   "cell_type": "code",
   "execution_count": 50,
   "outputs": [],
   "source": [
    "submission[\"Prediction\"] = submission[\"cls_pred\"] * submission[\"reg_pred\"]"
   ],
   "metadata": {
    "collapsed": false,
    "pycharm": {
     "name": "#%%\n"
    }
   }
  },
  {
   "cell_type": "code",
   "execution_count": 51,
   "outputs": [
    {
     "data": {
      "text/plain": "              Id  cls_pred  reg_pred  Prediction\n0     14047002_1         0  0.133110    0.000000\n1    14047002_10         1  0.054136    0.054136\n2   14047002_100         0  0.139755    0.000000\n3   14047002_101         0  0.064478    0.000000\n4   14047002_102         0  0.101193    0.000000\n5   14047002_103         0  0.180496    0.000000\n6   14047002_104         0  0.179578    0.000000\n7   14047002_105         1  0.049732    0.049732\n8   14047002_106         0  0.015540    0.000000\n9   14047002_107         1  0.352020    0.352020\n10  14047002_108         1  0.050168    0.050168\n11  14047002_109         0  0.037597    0.000000\n12   14047002_11         0  0.160240    0.000000\n13  14047002_110         1  0.065999    0.065999\n14  14047002_111         0  0.032565    0.000000\n15  14047002_112         0  0.039568    0.000000\n16  14047002_113         0  0.026234    0.000000\n17  14047002_114         0  0.019887    0.000000\n18  14047002_115         0  0.069559    0.000000\n19  14047002_116         1  0.053975    0.053975\n20  14047002_117         0  0.138196    0.000000\n21  14047002_118         0  0.026990    0.000000\n22  14047002_119         0  0.091914    0.000000\n23   14047002_12         1  0.082405    0.082405\n24  14047002_120         0  0.035681    0.000000",
      "text/html": "<div>\n<style scoped>\n    .dataframe tbody tr th:only-of-type {\n        vertical-align: middle;\n    }\n\n    .dataframe tbody tr th {\n        vertical-align: top;\n    }\n\n    .dataframe thead th {\n        text-align: right;\n    }\n</style>\n<table border=\"1\" class=\"dataframe\">\n  <thead>\n    <tr style=\"text-align: right;\">\n      <th></th>\n      <th>Id</th>\n      <th>cls_pred</th>\n      <th>reg_pred</th>\n      <th>Prediction</th>\n    </tr>\n  </thead>\n  <tbody>\n    <tr>\n      <th>0</th>\n      <td>14047002_1</td>\n      <td>0</td>\n      <td>0.133110</td>\n      <td>0.000000</td>\n    </tr>\n    <tr>\n      <th>1</th>\n      <td>14047002_10</td>\n      <td>1</td>\n      <td>0.054136</td>\n      <td>0.054136</td>\n    </tr>\n    <tr>\n      <th>2</th>\n      <td>14047002_100</td>\n      <td>0</td>\n      <td>0.139755</td>\n      <td>0.000000</td>\n    </tr>\n    <tr>\n      <th>3</th>\n      <td>14047002_101</td>\n      <td>0</td>\n      <td>0.064478</td>\n      <td>0.000000</td>\n    </tr>\n    <tr>\n      <th>4</th>\n      <td>14047002_102</td>\n      <td>0</td>\n      <td>0.101193</td>\n      <td>0.000000</td>\n    </tr>\n    <tr>\n      <th>5</th>\n      <td>14047002_103</td>\n      <td>0</td>\n      <td>0.180496</td>\n      <td>0.000000</td>\n    </tr>\n    <tr>\n      <th>6</th>\n      <td>14047002_104</td>\n      <td>0</td>\n      <td>0.179578</td>\n      <td>0.000000</td>\n    </tr>\n    <tr>\n      <th>7</th>\n      <td>14047002_105</td>\n      <td>1</td>\n      <td>0.049732</td>\n      <td>0.049732</td>\n    </tr>\n    <tr>\n      <th>8</th>\n      <td>14047002_106</td>\n      <td>0</td>\n      <td>0.015540</td>\n      <td>0.000000</td>\n    </tr>\n    <tr>\n      <th>9</th>\n      <td>14047002_107</td>\n      <td>1</td>\n      <td>0.352020</td>\n      <td>0.352020</td>\n    </tr>\n    <tr>\n      <th>10</th>\n      <td>14047002_108</td>\n      <td>1</td>\n      <td>0.050168</td>\n      <td>0.050168</td>\n    </tr>\n    <tr>\n      <th>11</th>\n      <td>14047002_109</td>\n      <td>0</td>\n      <td>0.037597</td>\n      <td>0.000000</td>\n    </tr>\n    <tr>\n      <th>12</th>\n      <td>14047002_11</td>\n      <td>0</td>\n      <td>0.160240</td>\n      <td>0.000000</td>\n    </tr>\n    <tr>\n      <th>13</th>\n      <td>14047002_110</td>\n      <td>1</td>\n      <td>0.065999</td>\n      <td>0.065999</td>\n    </tr>\n    <tr>\n      <th>14</th>\n      <td>14047002_111</td>\n      <td>0</td>\n      <td>0.032565</td>\n      <td>0.000000</td>\n    </tr>\n    <tr>\n      <th>15</th>\n      <td>14047002_112</td>\n      <td>0</td>\n      <td>0.039568</td>\n      <td>0.000000</td>\n    </tr>\n    <tr>\n      <th>16</th>\n      <td>14047002_113</td>\n      <td>0</td>\n      <td>0.026234</td>\n      <td>0.000000</td>\n    </tr>\n    <tr>\n      <th>17</th>\n      <td>14047002_114</td>\n      <td>0</td>\n      <td>0.019887</td>\n      <td>0.000000</td>\n    </tr>\n    <tr>\n      <th>18</th>\n      <td>14047002_115</td>\n      <td>0</td>\n      <td>0.069559</td>\n      <td>0.000000</td>\n    </tr>\n    <tr>\n      <th>19</th>\n      <td>14047002_116</td>\n      <td>1</td>\n      <td>0.053975</td>\n      <td>0.053975</td>\n    </tr>\n    <tr>\n      <th>20</th>\n      <td>14047002_117</td>\n      <td>0</td>\n      <td>0.138196</td>\n      <td>0.000000</td>\n    </tr>\n    <tr>\n      <th>21</th>\n      <td>14047002_118</td>\n      <td>0</td>\n      <td>0.026990</td>\n      <td>0.000000</td>\n    </tr>\n    <tr>\n      <th>22</th>\n      <td>14047002_119</td>\n      <td>0</td>\n      <td>0.091914</td>\n      <td>0.000000</td>\n    </tr>\n    <tr>\n      <th>23</th>\n      <td>14047002_12</td>\n      <td>1</td>\n      <td>0.082405</td>\n      <td>0.082405</td>\n    </tr>\n    <tr>\n      <th>24</th>\n      <td>14047002_120</td>\n      <td>0</td>\n      <td>0.035681</td>\n      <td>0.000000</td>\n    </tr>\n  </tbody>\n</table>\n</div>"
     },
     "execution_count": 51,
     "metadata": {},
     "output_type": "execute_result"
    }
   ],
   "source": [
    "submission.head(25)"
   ],
   "metadata": {
    "collapsed": false,
    "pycharm": {
     "name": "#%%\n"
    }
   }
  },
  {
   "cell_type": "code",
   "execution_count": 52,
   "outputs": [],
   "source": [
    "submission[[\"Id\",\"Prediction\"]].to_csv(\"./submission_ann_reg_cls.csv\", index=False)"
   ],
   "metadata": {
    "collapsed": false,
    "pycharm": {
     "name": "#%%\n"
    }
   }
  },
  {
   "cell_type": "code",
   "execution_count": 53,
   "outputs": [],
   "source": [
    "submission2 = submission.drop([\"Prediction\",\"cls_pred\"], axis=1)\n",
    "submission2.rename(columns={\"reg_pred\": \"Prediction\"}, inplace=True)"
   ],
   "metadata": {
    "collapsed": false,
    "pycharm": {
     "name": "#%%\n"
    }
   }
  },
  {
   "cell_type": "code",
   "execution_count": 54,
   "outputs": [
    {
     "data": {
      "text/plain": "             Id  Prediction\n0    14047002_1    0.133110\n1   14047002_10    0.054136\n2  14047002_100    0.139755\n3  14047002_101    0.064478\n4  14047002_102    0.101193",
      "text/html": "<div>\n<style scoped>\n    .dataframe tbody tr th:only-of-type {\n        vertical-align: middle;\n    }\n\n    .dataframe tbody tr th {\n        vertical-align: top;\n    }\n\n    .dataframe thead th {\n        text-align: right;\n    }\n</style>\n<table border=\"1\" class=\"dataframe\">\n  <thead>\n    <tr style=\"text-align: right;\">\n      <th></th>\n      <th>Id</th>\n      <th>Prediction</th>\n    </tr>\n  </thead>\n  <tbody>\n    <tr>\n      <th>0</th>\n      <td>14047002_1</td>\n      <td>0.133110</td>\n    </tr>\n    <tr>\n      <th>1</th>\n      <td>14047002_10</td>\n      <td>0.054136</td>\n    </tr>\n    <tr>\n      <th>2</th>\n      <td>14047002_100</td>\n      <td>0.139755</td>\n    </tr>\n    <tr>\n      <th>3</th>\n      <td>14047002_101</td>\n      <td>0.064478</td>\n    </tr>\n    <tr>\n      <th>4</th>\n      <td>14047002_102</td>\n      <td>0.101193</td>\n    </tr>\n  </tbody>\n</table>\n</div>"
     },
     "execution_count": 54,
     "metadata": {},
     "output_type": "execute_result"
    }
   ],
   "source": [
    "submission2.head()"
   ],
   "metadata": {
    "collapsed": false,
    "pycharm": {
     "name": "#%%\n"
    }
   }
  },
  {
   "cell_type": "code",
   "execution_count": 55,
   "outputs": [],
   "source": [
    "submission2[[\"Id\",\"Prediction\"]].to_csv(\"./submission_ann_reg.csv\", index=False)"
   ],
   "metadata": {
    "collapsed": false,
    "pycharm": {
     "name": "#%%\n"
    }
   }
  }
 ],
 "metadata": {
  "kernelspec": {
   "display_name": "Python 3",
   "language": "python",
   "name": "python3"
  },
  "language_info": {
   "codemirror_mode": {
    "name": "ipython",
    "version": 2
   },
   "file_extension": ".py",
   "mimetype": "text/x-python",
   "name": "python",
   "nbconvert_exporter": "python",
   "pygments_lexer": "ipython2",
   "version": "2.7.6"
  }
 },
 "nbformat": 4,
 "nbformat_minor": 0
}
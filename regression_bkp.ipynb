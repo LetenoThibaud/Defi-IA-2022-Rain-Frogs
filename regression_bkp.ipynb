{
 "cells": [
  {
   "cell_type": "code",
   "execution_count": 47,
   "metadata": {
    "collapsed": true
   },
   "outputs": [],
   "source": [
    "import pandas as pd\n",
    "from sklearn.linear_model import LinearRegression\n",
    "from sklearn.preprocessing import PolynomialFeatures\n",
    "from datetime import date\n",
    "import re\n",
    "import numpy as np\n",
    "import warnings\n",
    "from icecream import ic\n",
    "\n",
    "ic.configureOutput(includeContext=True)\n",
    "warnings.filterwarnings(\"ignore\")"
   ]
  },
  {
   "cell_type": "code",
   "execution_count": 48,
   "outputs": [],
   "source": [
    "# get the Data\n",
    "def get_data(path, displ=False):\n",
    "    ## import data\n",
    "    df = pd.read_csv(path, parse_dates=['date'], infer_datetime_format=True)\n",
    "\n",
    "    # sort data\n",
    "    df = df.sort_values(by=[\"number_sta\", \"date\"])\n",
    "\n",
    "    # set number_sta as category\n",
    "    df[\"number_sta\"] = df[\"number_sta\"].astype(\"category\")\n",
    "    if displ:\n",
    "        display(\"df :\", df.head())\n",
    "\n",
    "    return df"
   ],
   "metadata": {
    "collapsed": false,
    "pycharm": {
     "name": "#%%\n"
    }
   }
  },
  {
   "cell_type": "code",
   "execution_count": 49,
   "outputs": [],
   "source": [
    "def get_observations(x, displ=False):\n",
    "    ## shift X\n",
    "    #get the observation baseline\n",
    "    obs = x[{\"number_sta\", \"date\", \"precip\"}]\n",
    "    # obs.set_index('date', inplace=True)\n",
    "\n",
    "    #if any NaN on the day, then the value is NaN (24 values per day)\n",
    "    # obs = obs.groupby('number_sta').resample('D')#.agg(pd.Series.sum, min_count = 24)\n",
    "    obs['date'] = obs['date'].astype('category')\n",
    "    obs['number_sta'] = obs['number_sta'].astype('category')\n",
    "    obs['baseline_obs'] = obs.groupby(['number_sta'])['precip'].shift(1)\n",
    "\n",
    "    obs = obs.sort_values(by=[\"number_sta\", \"date\"])\n",
    "    del obs['precip']\n",
    "    obs = obs.rename(columns={'baseline_obs': 'precip'})\n",
    "    # obs_new = obs.reset_index()\n",
    "\n",
    "    if displ:\n",
    "        display(obs)\n",
    "\n",
    "    return obs"
   ],
   "metadata": {
    "collapsed": false,
    "pycharm": {
     "name": "#%%\n"
    }
   }
  },
  {
   "cell_type": "code",
   "execution_count": 54,
   "outputs": [],
   "source": [
    "x_df = get_data(path='../Train/Train/X_station_train.csv')\n",
    "y_df = get_data(path='../Train/Train/Y_train.csv')"
   ],
   "metadata": {
    "collapsed": false,
    "pycharm": {
     "name": "#%%\n"
    }
   }
  },
  {
   "cell_type": "code",
   "execution_count": 55,
   "outputs": [
    {
     "name": "stderr",
     "output_type": "stream",
     "text": [
      "ic| 987194678.py:1 in <module>\n",
      "    x_df:         number_sta                date    ff       t      td    hu     dd  \\\n",
      "          0         14066001 2016-01-01 00:00:00  3.05  279.28  277.97  91.4  200.0   \n",
      "          1         14066001 2016-01-01 01:00:00  2.57  278.76  277.45  91.4  190.0   \n",
      "          2         14066001 2016-01-01 02:00:00  2.26  278.27  277.02  91.7  181.0   \n",
      "          3         14066001 2016-01-01 03:00:00  2.62  277.98  276.95  93.0  159.0   \n",
      "          4         14066001 2016-01-01 04:00:00  2.99  277.32  276.72  95.9  171.0   \n",
      "          ...            ...                 ...   ...     ...     ...   ...    ...   \n",
      "          4409469   95690001 2017-12-30 19:00:00  9.10  286.68  283.44  80.8  239.0   \n",
      "          4409470   95690001 2017-12-30 20:00:00  8.58  286.39  283.21  81.1  231.0   \n",
      "          4409471   95690001 2017-12-30 21:00:00  8.74  286.28  283.40  82.6  226.0   \n",
      "          4409472   95690001 2017-12-30 22:00:00  9.04  286.21  283.29  82.4  224.0   \n",
      "          4409473   95690001 2017-12-30 23:00:00  9.11  285.92  282.42  79.4  221.0   \n",
      "          \n",
      "                   precip               Id  \n",
      "          0           0.0     14066001_0_0  \n",
      "          1           0.0     14066001_0_1  \n",
      "          2           0.0     14066001_0_2  \n",
      "          3           0.0     14066001_0_3  \n",
      "          4           0.0     14066001_0_4  \n",
      "          ...         ...              ...  \n",
      "          4409469     0.0  95690001_729_19  \n",
      "          4409470     0.0  95690001_729_20  \n",
      "          4409471     0.0  95690001_729_21  \n",
      "          4409472     0.0  95690001_729_22  \n",
      "          4409473     0.0  95690001_729_23  \n",
      "          \n",
      "          [4409474 rows x 9 columns]\n",
      "ic| 987194678.py:2 in <module>\n",
      "    y_df:              date number_sta  Ground_truth            Id\n",
      "          0      2016-01-02   14066001           3.4    14066001_0\n",
      "          249    2016-01-03   14066001          11.7    14066001_1\n",
      "          499    2016-01-04   14066001           0.6    14066001_2\n",
      "          749    2016-01-05   14066001           0.4    14066001_3\n",
      "          997    2016-01-06   14066001           3.0    14066001_4\n",
      "          ...           ...        ...           ...           ...\n",
      "          182747 2017-12-27   95690001           3.2  95690001_725\n",
      "          182997 2017-12-28   95690001           0.0  95690001_726\n",
      "          183247 2017-12-29   95690001           4.4  95690001_727\n",
      "          183497 2017-12-30   95690001           5.4  95690001_728\n",
      "          183746 2017-12-31   95690001           1.2  95690001_729\n",
      "          \n",
      "          [183747 rows x 4 columns]\n"
     ]
    },
    {
     "name": "stdout",
     "output_type": "stream",
     "text": [
      "        number_sta                date    ff       t      td    hu     dd  \\\n",
      "0         14066001 2016-01-01 00:00:00  3.05  279.28  277.97  91.4  200.0   \n",
      "1         14066001 2016-01-01 01:00:00  2.57  278.76  277.45  91.4  190.0   \n",
      "2         14066001 2016-01-01 02:00:00  2.26  278.27  277.02  91.7  181.0   \n",
      "3         14066001 2016-01-01 03:00:00  2.62  277.98  276.95  93.0  159.0   \n",
      "4         14066001 2016-01-01 04:00:00  2.99  277.32  276.72  95.9  171.0   \n",
      "...            ...                 ...   ...     ...     ...   ...    ...   \n",
      "4409469   95690001 2017-12-30 19:00:00  9.10  286.68  283.44  80.8  239.0   \n",
      "4409470   95690001 2017-12-30 20:00:00  8.58  286.39  283.21  81.1  231.0   \n",
      "4409471   95690001 2017-12-30 21:00:00  8.74  286.28  283.40  82.6  226.0   \n",
      "4409472   95690001 2017-12-30 22:00:00  9.04  286.21  283.29  82.4  224.0   \n",
      "4409473   95690001 2017-12-30 23:00:00  9.11  285.92  282.42  79.4  221.0   \n",
      "\n",
      "         precip               Id  \n",
      "0           0.0     14066001_0_0  \n",
      "1           0.0     14066001_0_1  \n",
      "2           0.0     14066001_0_2  \n",
      "3           0.0     14066001_0_3  \n",
      "4           0.0     14066001_0_4  \n",
      "...         ...              ...  \n",
      "4409469     0.0  95690001_729_19  \n",
      "4409470     0.0  95690001_729_20  \n",
      "4409471     0.0  95690001_729_21  \n",
      "4409472     0.0  95690001_729_22  \n",
      "4409473     0.0  95690001_729_23  \n",
      "\n",
      "[4409474 rows x 9 columns]\n",
      "             date number_sta  Ground_truth            Id\n",
      "0      2016-01-02   14066001           3.4    14066001_0\n",
      "249    2016-01-03   14066001          11.7    14066001_1\n",
      "499    2016-01-04   14066001           0.6    14066001_2\n",
      "749    2016-01-05   14066001           0.4    14066001_3\n",
      "997    2016-01-06   14066001           3.0    14066001_4\n",
      "...           ...        ...           ...           ...\n",
      "182747 2017-12-27   95690001           3.2  95690001_725\n",
      "182997 2017-12-28   95690001           0.0  95690001_726\n",
      "183247 2017-12-29   95690001           4.4  95690001_727\n",
      "183497 2017-12-30   95690001           5.4  95690001_728\n",
      "183746 2017-12-31   95690001           1.2  95690001_729\n",
      "\n",
      "[183747 rows x 4 columns]\n"
     ]
    }
   ],
   "source": [
    "print(ic(x_df))\n",
    "print(ic(y_df))"
   ],
   "metadata": {
    "collapsed": false,
    "pycharm": {
     "name": "#%%\n"
    }
   }
  },
  {
   "cell_type": "code",
   "execution_count": 27,
   "outputs": [
    {
     "name": "stdout",
     "output_type": "stream",
     "text": [
      "x_df :\n",
      "number_sta \t 0\n",
      "date \t 0\n",
      "ff \t 1750817\n",
      "t \t 231013\n",
      "td \t 1428352\n",
      "hu \t 1425877\n",
      "dd \t 1752650\n",
      "precip \t 310298\n",
      "Id \t 0\n",
      "\n",
      "After filling nans : \n",
      " number_sta    0\n",
      "date          0\n",
      "ff            0\n",
      "t             0\n",
      "td            0\n",
      "hu            0\n",
      "dd            0\n",
      "precip        0\n",
      "Id            0\n",
      "dtype: int64\n",
      "\n",
      "\n",
      "y_df :\n",
      "date \t 0\n",
      "number_sta \t 0\n",
      "Ground_truth \t 21640\n",
      "Id \t 0\n",
      "\n",
      "After filling nans : \n",
      " date            0\n",
      "number_sta      0\n",
      "Ground_truth    0\n",
      "Id              0\n",
      "dtype: int64\n",
      "x_df :\n",
      "number_sta \t 0\n",
      "date \t 0\n",
      "ff \t 1750817\n",
      "t \t 231013\n",
      "td \t 1428352\n",
      "hu \t 1425877\n",
      "dd \t 1752650\n",
      "precip \t 310298\n",
      "Id \t 0\n",
      "\n",
      "After filling nans : \n",
      " number_sta    0\n",
      "date          0\n",
      "ff            0\n",
      "t             0\n",
      "td            0\n",
      "hu            0\n",
      "dd            0\n",
      "precip        0\n",
      "Id            0\n",
      "dtype: int64\n",
      "\n",
      "\n",
      "y_df :\n",
      "date \t 0\n",
      "number_sta \t 0\n",
      "Ground_truth \t 21640\n",
      "Id \t 0\n",
      "\n",
      "After filling nans : \n",
      " date            0\n",
      "number_sta      0\n",
      "Ground_truth    0\n",
      "Id              0\n",
      "dtype: int64\n"
     ]
    }
   ],
   "source": [
    "print(\"x_df :\")\n",
    "for col in x_df.columns :\n",
    "    print(col,\"\\t\",x_df[col].isna().sum())\n",
    "    if x_df[col].isna().sum() :\n",
    "        x_df[col].fillna(value=x_df[col].mean(), inplace=True)\n",
    "print(\"\\nAfter filling nans :\",\"\\n\",x_df.isna().sum())\n",
    "\n",
    "print(\"\\n\\ny_df :\")\n",
    "for col in y_df.columns :\n",
    "    print(col,\"\\t\",y_df[col].isna().sum())\n",
    "    if y_df[col].isna().sum() :\n",
    "        y_df[col].fillna(value=y_df[col].mean(), inplace=True)\n",
    "print(\"\\nAfter filling nans :\",\"\\n\",y_df.isna().sum())"
   ],
   "metadata": {
    "collapsed": false,
    "pycharm": {
     "name": "#%%\n"
    }
   }
  },
  {
   "cell_type": "code",
   "execution_count": 28,
   "outputs": [
    {
     "name": "stdout",
     "output_type": "stream",
     "text": [
      "number_sta \t 0\n",
      "date \t 0\n",
      "precip \t 267\n",
      "\n",
      "After filling nans : \n",
      " number_sta    0\n",
      "date          0\n",
      "precip        0\n",
      "dtype: int64\n",
      "number_sta \t 0\n",
      "date \t 0\n",
      "precip \t 267\n",
      "\n",
      "After filling nans : \n",
      " number_sta    0\n",
      "date          0\n",
      "precip        0\n",
      "dtype: int64\n"
     ]
    }
   ],
   "source": [
    "obs = get_observations(x_df)\n",
    "for col in obs.columns :\n",
    "    print(col,\"\\t\",obs[col].isna().sum())\n",
    "    if obs[col].isna().sum() :\n",
    "        obs[col].fillna(value=obs[col].mean(), inplace=True)\n",
    "\n",
    "print(\"\\nAfter filling nans :\",\"\\n\",obs.isna().sum())"
   ],
   "metadata": {
    "collapsed": false,
    "pycharm": {
     "name": "#%%\n"
    }
   }
  },
  {
   "cell_type": "code",
   "execution_count": 29,
   "outputs": [
    {
     "data": {
      "text/plain": "        number_sta                date    ff       t      td    hu     dd  \\\n0         14066001 2016-01-01 00:00:00  3.05  279.28  277.97  91.4  200.0   \n1         14066001 2016-01-01 01:00:00  2.57  278.76  277.45  91.4  190.0   \n2         14066001 2016-01-01 02:00:00  2.26  278.27  277.02  91.7  181.0   \n3         14066001 2016-01-01 03:00:00  2.62  277.98  276.95  93.0  159.0   \n4         14066001 2016-01-01 04:00:00  2.99  277.32  276.72  95.9  171.0   \n...            ...                 ...   ...     ...     ...   ...    ...   \n4409469   95690001 2017-12-30 19:00:00  9.10  286.68  283.44  80.8  239.0   \n4409470   95690001 2017-12-30 20:00:00  8.58  286.39  283.21  81.1  231.0   \n4409471   95690001 2017-12-30 21:00:00  8.74  286.28  283.40  82.6  226.0   \n4409472   95690001 2017-12-30 22:00:00  9.04  286.21  283.29  82.4  224.0   \n4409473   95690001 2017-12-30 23:00:00  9.11  285.92  282.42  79.4  221.0   \n\n         precip               Id  \n0           0.0     14066001_0_0  \n1           0.0     14066001_0_1  \n2           0.0     14066001_0_2  \n3           0.0     14066001_0_3  \n4           0.0     14066001_0_4  \n...         ...              ...  \n4409469     0.0  95690001_729_19  \n4409470     0.0  95690001_729_20  \n4409471     0.0  95690001_729_21  \n4409472     0.0  95690001_729_22  \n4409473     0.0  95690001_729_23  \n\n[4409474 rows x 9 columns]",
      "text/html": "<div>\n<style scoped>\n    .dataframe tbody tr th:only-of-type {\n        vertical-align: middle;\n    }\n\n    .dataframe tbody tr th {\n        vertical-align: top;\n    }\n\n    .dataframe thead th {\n        text-align: right;\n    }\n</style>\n<table border=\"1\" class=\"dataframe\">\n  <thead>\n    <tr style=\"text-align: right;\">\n      <th></th>\n      <th>number_sta</th>\n      <th>date</th>\n      <th>ff</th>\n      <th>t</th>\n      <th>td</th>\n      <th>hu</th>\n      <th>dd</th>\n      <th>precip</th>\n      <th>Id</th>\n    </tr>\n  </thead>\n  <tbody>\n    <tr>\n      <th>0</th>\n      <td>14066001</td>\n      <td>2016-01-01 00:00:00</td>\n      <td>3.05</td>\n      <td>279.28</td>\n      <td>277.97</td>\n      <td>91.4</td>\n      <td>200.0</td>\n      <td>0.0</td>\n      <td>14066001_0_0</td>\n    </tr>\n    <tr>\n      <th>1</th>\n      <td>14066001</td>\n      <td>2016-01-01 01:00:00</td>\n      <td>2.57</td>\n      <td>278.76</td>\n      <td>277.45</td>\n      <td>91.4</td>\n      <td>190.0</td>\n      <td>0.0</td>\n      <td>14066001_0_1</td>\n    </tr>\n    <tr>\n      <th>2</th>\n      <td>14066001</td>\n      <td>2016-01-01 02:00:00</td>\n      <td>2.26</td>\n      <td>278.27</td>\n      <td>277.02</td>\n      <td>91.7</td>\n      <td>181.0</td>\n      <td>0.0</td>\n      <td>14066001_0_2</td>\n    </tr>\n    <tr>\n      <th>3</th>\n      <td>14066001</td>\n      <td>2016-01-01 03:00:00</td>\n      <td>2.62</td>\n      <td>277.98</td>\n      <td>276.95</td>\n      <td>93.0</td>\n      <td>159.0</td>\n      <td>0.0</td>\n      <td>14066001_0_3</td>\n    </tr>\n    <tr>\n      <th>4</th>\n      <td>14066001</td>\n      <td>2016-01-01 04:00:00</td>\n      <td>2.99</td>\n      <td>277.32</td>\n      <td>276.72</td>\n      <td>95.9</td>\n      <td>171.0</td>\n      <td>0.0</td>\n      <td>14066001_0_4</td>\n    </tr>\n    <tr>\n      <th>...</th>\n      <td>...</td>\n      <td>...</td>\n      <td>...</td>\n      <td>...</td>\n      <td>...</td>\n      <td>...</td>\n      <td>...</td>\n      <td>...</td>\n      <td>...</td>\n    </tr>\n    <tr>\n      <th>4409469</th>\n      <td>95690001</td>\n      <td>2017-12-30 19:00:00</td>\n      <td>9.10</td>\n      <td>286.68</td>\n      <td>283.44</td>\n      <td>80.8</td>\n      <td>239.0</td>\n      <td>0.0</td>\n      <td>95690001_729_19</td>\n    </tr>\n    <tr>\n      <th>4409470</th>\n      <td>95690001</td>\n      <td>2017-12-30 20:00:00</td>\n      <td>8.58</td>\n      <td>286.39</td>\n      <td>283.21</td>\n      <td>81.1</td>\n      <td>231.0</td>\n      <td>0.0</td>\n      <td>95690001_729_20</td>\n    </tr>\n    <tr>\n      <th>4409471</th>\n      <td>95690001</td>\n      <td>2017-12-30 21:00:00</td>\n      <td>8.74</td>\n      <td>286.28</td>\n      <td>283.40</td>\n      <td>82.6</td>\n      <td>226.0</td>\n      <td>0.0</td>\n      <td>95690001_729_21</td>\n    </tr>\n    <tr>\n      <th>4409472</th>\n      <td>95690001</td>\n      <td>2017-12-30 22:00:00</td>\n      <td>9.04</td>\n      <td>286.21</td>\n      <td>283.29</td>\n      <td>82.4</td>\n      <td>224.0</td>\n      <td>0.0</td>\n      <td>95690001_729_22</td>\n    </tr>\n    <tr>\n      <th>4409473</th>\n      <td>95690001</td>\n      <td>2017-12-30 23:00:00</td>\n      <td>9.11</td>\n      <td>285.92</td>\n      <td>282.42</td>\n      <td>79.4</td>\n      <td>221.0</td>\n      <td>0.0</td>\n      <td>95690001_729_23</td>\n    </tr>\n  </tbody>\n</table>\n<p>4409474 rows × 9 columns</p>\n</div>"
     },
     "metadata": {},
     "output_type": "display_data"
    },
    {
     "data": {
      "text/plain": "        number_sta                date    ff       t      td    hu     dd  \\\n0         14066001 2016-01-01 00:00:00  3.05  279.28  277.97  91.4  200.0   \n1         14066001 2016-01-01 01:00:00  2.57  278.76  277.45  91.4  190.0   \n2         14066001 2016-01-01 02:00:00  2.26  278.27  277.02  91.7  181.0   \n3         14066001 2016-01-01 03:00:00  2.62  277.98  276.95  93.0  159.0   \n4         14066001 2016-01-01 04:00:00  2.99  277.32  276.72  95.9  171.0   \n...            ...                 ...   ...     ...     ...   ...    ...   \n4409469   95690001 2017-12-30 19:00:00  9.10  286.68  283.44  80.8  239.0   \n4409470   95690001 2017-12-30 20:00:00  8.58  286.39  283.21  81.1  231.0   \n4409471   95690001 2017-12-30 21:00:00  8.74  286.28  283.40  82.6  226.0   \n4409472   95690001 2017-12-30 22:00:00  9.04  286.21  283.29  82.4  224.0   \n4409473   95690001 2017-12-30 23:00:00  9.11  285.92  282.42  79.4  221.0   \n\n         precip               Id  \n0           0.0     14066001_0_0  \n1           0.0     14066001_0_1  \n2           0.0     14066001_0_2  \n3           0.0     14066001_0_3  \n4           0.0     14066001_0_4  \n...         ...              ...  \n4409469     0.0  95690001_729_19  \n4409470     0.0  95690001_729_20  \n4409471     0.0  95690001_729_21  \n4409472     0.0  95690001_729_22  \n4409473     0.0  95690001_729_23  \n\n[4409474 rows x 9 columns]",
      "text/html": "<div>\n<style scoped>\n    .dataframe tbody tr th:only-of-type {\n        vertical-align: middle;\n    }\n\n    .dataframe tbody tr th {\n        vertical-align: top;\n    }\n\n    .dataframe thead th {\n        text-align: right;\n    }\n</style>\n<table border=\"1\" class=\"dataframe\">\n  <thead>\n    <tr style=\"text-align: right;\">\n      <th></th>\n      <th>number_sta</th>\n      <th>date</th>\n      <th>ff</th>\n      <th>t</th>\n      <th>td</th>\n      <th>hu</th>\n      <th>dd</th>\n      <th>precip</th>\n      <th>Id</th>\n    </tr>\n  </thead>\n  <tbody>\n    <tr>\n      <th>0</th>\n      <td>14066001</td>\n      <td>2016-01-01 00:00:00</td>\n      <td>3.05</td>\n      <td>279.28</td>\n      <td>277.97</td>\n      <td>91.4</td>\n      <td>200.0</td>\n      <td>0.0</td>\n      <td>14066001_0_0</td>\n    </tr>\n    <tr>\n      <th>1</th>\n      <td>14066001</td>\n      <td>2016-01-01 01:00:00</td>\n      <td>2.57</td>\n      <td>278.76</td>\n      <td>277.45</td>\n      <td>91.4</td>\n      <td>190.0</td>\n      <td>0.0</td>\n      <td>14066001_0_1</td>\n    </tr>\n    <tr>\n      <th>2</th>\n      <td>14066001</td>\n      <td>2016-01-01 02:00:00</td>\n      <td>2.26</td>\n      <td>278.27</td>\n      <td>277.02</td>\n      <td>91.7</td>\n      <td>181.0</td>\n      <td>0.0</td>\n      <td>14066001_0_2</td>\n    </tr>\n    <tr>\n      <th>3</th>\n      <td>14066001</td>\n      <td>2016-01-01 03:00:00</td>\n      <td>2.62</td>\n      <td>277.98</td>\n      <td>276.95</td>\n      <td>93.0</td>\n      <td>159.0</td>\n      <td>0.0</td>\n      <td>14066001_0_3</td>\n    </tr>\n    <tr>\n      <th>4</th>\n      <td>14066001</td>\n      <td>2016-01-01 04:00:00</td>\n      <td>2.99</td>\n      <td>277.32</td>\n      <td>276.72</td>\n      <td>95.9</td>\n      <td>171.0</td>\n      <td>0.0</td>\n      <td>14066001_0_4</td>\n    </tr>\n    <tr>\n      <th>...</th>\n      <td>...</td>\n      <td>...</td>\n      <td>...</td>\n      <td>...</td>\n      <td>...</td>\n      <td>...</td>\n      <td>...</td>\n      <td>...</td>\n      <td>...</td>\n    </tr>\n    <tr>\n      <th>4409469</th>\n      <td>95690001</td>\n      <td>2017-12-30 19:00:00</td>\n      <td>9.10</td>\n      <td>286.68</td>\n      <td>283.44</td>\n      <td>80.8</td>\n      <td>239.0</td>\n      <td>0.0</td>\n      <td>95690001_729_19</td>\n    </tr>\n    <tr>\n      <th>4409470</th>\n      <td>95690001</td>\n      <td>2017-12-30 20:00:00</td>\n      <td>8.58</td>\n      <td>286.39</td>\n      <td>283.21</td>\n      <td>81.1</td>\n      <td>231.0</td>\n      <td>0.0</td>\n      <td>95690001_729_20</td>\n    </tr>\n    <tr>\n      <th>4409471</th>\n      <td>95690001</td>\n      <td>2017-12-30 21:00:00</td>\n      <td>8.74</td>\n      <td>286.28</td>\n      <td>283.40</td>\n      <td>82.6</td>\n      <td>226.0</td>\n      <td>0.0</td>\n      <td>95690001_729_21</td>\n    </tr>\n    <tr>\n      <th>4409472</th>\n      <td>95690001</td>\n      <td>2017-12-30 22:00:00</td>\n      <td>9.04</td>\n      <td>286.21</td>\n      <td>283.29</td>\n      <td>82.4</td>\n      <td>224.0</td>\n      <td>0.0</td>\n      <td>95690001_729_22</td>\n    </tr>\n    <tr>\n      <th>4409473</th>\n      <td>95690001</td>\n      <td>2017-12-30 23:00:00</td>\n      <td>9.11</td>\n      <td>285.92</td>\n      <td>282.42</td>\n      <td>79.4</td>\n      <td>221.0</td>\n      <td>0.0</td>\n      <td>95690001_729_23</td>\n    </tr>\n  </tbody>\n</table>\n<p>4409474 rows × 9 columns</p>\n</div>"
     },
     "metadata": {},
     "output_type": "display_data"
    }
   ],
   "source": [
    "x_clean = clean_data(x_df, [\"date\"])\n",
    "x_df = clean_data(x_df)\n",
    "obs_clean = clean_data(obs, [\"date\"])\n",
    "display(x_df)"
   ],
   "metadata": {
    "collapsed": false,
    "pycharm": {
     "name": "#%%\n"
    }
   }
  },
  {
   "cell_type": "code",
   "execution_count": 30,
   "outputs": [
    {
     "name": "stdout",
     "output_type": "stream",
     "text": [
      "[]\n",
      "[]\n"
     ]
    }
   ],
   "source": [
    "obs_clean.reset_index(drop=True, inplace=True)\n",
    "x_clean.reset_index(drop=True, inplace=True)\n",
    "x_df.reset_index(drop=True, inplace=True)\n",
    "na_ids = np.where(pd.isnull(obs_clean).any(1))[0]\n",
    "print(na_ids)"
   ],
   "metadata": {
    "collapsed": false,
    "pycharm": {
     "name": "#%%\n"
    }
   }
  },
  {
   "cell_type": "code",
   "execution_count": 31,
   "outputs": [
    {
     "data": {
      "text/plain": "        number_sta    precip\n0         14066001  0.080944\n1         14066001  0.000000\n2         14066001  0.000000\n3         14066001  0.000000\n4         14066001  0.000000\n...            ...       ...\n4409469   95690001  0.000000\n4409470   95690001  0.000000\n4409471   95690001  0.000000\n4409472   95690001  0.000000\n4409473   95690001  0.000000\n\n[4409474 rows x 2 columns]",
      "text/html": "<div>\n<style scoped>\n    .dataframe tbody tr th:only-of-type {\n        vertical-align: middle;\n    }\n\n    .dataframe tbody tr th {\n        vertical-align: top;\n    }\n\n    .dataframe thead th {\n        text-align: right;\n    }\n</style>\n<table border=\"1\" class=\"dataframe\">\n  <thead>\n    <tr style=\"text-align: right;\">\n      <th></th>\n      <th>number_sta</th>\n      <th>precip</th>\n    </tr>\n  </thead>\n  <tbody>\n    <tr>\n      <th>0</th>\n      <td>14066001</td>\n      <td>0.080944</td>\n    </tr>\n    <tr>\n      <th>1</th>\n      <td>14066001</td>\n      <td>0.000000</td>\n    </tr>\n    <tr>\n      <th>2</th>\n      <td>14066001</td>\n      <td>0.000000</td>\n    </tr>\n    <tr>\n      <th>3</th>\n      <td>14066001</td>\n      <td>0.000000</td>\n    </tr>\n    <tr>\n      <th>4</th>\n      <td>14066001</td>\n      <td>0.000000</td>\n    </tr>\n    <tr>\n      <th>...</th>\n      <td>...</td>\n      <td>...</td>\n    </tr>\n    <tr>\n      <th>4409469</th>\n      <td>95690001</td>\n      <td>0.000000</td>\n    </tr>\n    <tr>\n      <th>4409470</th>\n      <td>95690001</td>\n      <td>0.000000</td>\n    </tr>\n    <tr>\n      <th>4409471</th>\n      <td>95690001</td>\n      <td>0.000000</td>\n    </tr>\n    <tr>\n      <th>4409472</th>\n      <td>95690001</td>\n      <td>0.000000</td>\n    </tr>\n    <tr>\n      <th>4409473</th>\n      <td>95690001</td>\n      <td>0.000000</td>\n    </tr>\n  </tbody>\n</table>\n<p>4409474 rows × 2 columns</p>\n</div>"
     },
     "metadata": {},
     "output_type": "display_data"
    },
    {
     "data": {
      "text/plain": "        number_sta    ff       t      td    hu     dd  precip               Id\n0         14066001  3.05  279.28  277.97  91.4  200.0     0.0     14066001_0_0\n1         14066001  2.57  278.76  277.45  91.4  190.0     0.0     14066001_0_1\n2         14066001  2.26  278.27  277.02  91.7  181.0     0.0     14066001_0_2\n3         14066001  2.62  277.98  276.95  93.0  159.0     0.0     14066001_0_3\n4         14066001  2.99  277.32  276.72  95.9  171.0     0.0     14066001_0_4\n...            ...   ...     ...     ...   ...    ...     ...              ...\n4409469   95690001  9.10  286.68  283.44  80.8  239.0     0.0  95690001_729_19\n4409470   95690001  8.58  286.39  283.21  81.1  231.0     0.0  95690001_729_20\n4409471   95690001  8.74  286.28  283.40  82.6  226.0     0.0  95690001_729_21\n4409472   95690001  9.04  286.21  283.29  82.4  224.0     0.0  95690001_729_22\n4409473   95690001  9.11  285.92  282.42  79.4  221.0     0.0  95690001_729_23\n\n[4409474 rows x 8 columns]",
      "text/html": "<div>\n<style scoped>\n    .dataframe tbody tr th:only-of-type {\n        vertical-align: middle;\n    }\n\n    .dataframe tbody tr th {\n        vertical-align: top;\n    }\n\n    .dataframe thead th {\n        text-align: right;\n    }\n</style>\n<table border=\"1\" class=\"dataframe\">\n  <thead>\n    <tr style=\"text-align: right;\">\n      <th></th>\n      <th>number_sta</th>\n      <th>ff</th>\n      <th>t</th>\n      <th>td</th>\n      <th>hu</th>\n      <th>dd</th>\n      <th>precip</th>\n      <th>Id</th>\n    </tr>\n  </thead>\n  <tbody>\n    <tr>\n      <th>0</th>\n      <td>14066001</td>\n      <td>3.05</td>\n      <td>279.28</td>\n      <td>277.97</td>\n      <td>91.4</td>\n      <td>200.0</td>\n      <td>0.0</td>\n      <td>14066001_0_0</td>\n    </tr>\n    <tr>\n      <th>1</th>\n      <td>14066001</td>\n      <td>2.57</td>\n      <td>278.76</td>\n      <td>277.45</td>\n      <td>91.4</td>\n      <td>190.0</td>\n      <td>0.0</td>\n      <td>14066001_0_1</td>\n    </tr>\n    <tr>\n      <th>2</th>\n      <td>14066001</td>\n      <td>2.26</td>\n      <td>278.27</td>\n      <td>277.02</td>\n      <td>91.7</td>\n      <td>181.0</td>\n      <td>0.0</td>\n      <td>14066001_0_2</td>\n    </tr>\n    <tr>\n      <th>3</th>\n      <td>14066001</td>\n      <td>2.62</td>\n      <td>277.98</td>\n      <td>276.95</td>\n      <td>93.0</td>\n      <td>159.0</td>\n      <td>0.0</td>\n      <td>14066001_0_3</td>\n    </tr>\n    <tr>\n      <th>4</th>\n      <td>14066001</td>\n      <td>2.99</td>\n      <td>277.32</td>\n      <td>276.72</td>\n      <td>95.9</td>\n      <td>171.0</td>\n      <td>0.0</td>\n      <td>14066001_0_4</td>\n    </tr>\n    <tr>\n      <th>...</th>\n      <td>...</td>\n      <td>...</td>\n      <td>...</td>\n      <td>...</td>\n      <td>...</td>\n      <td>...</td>\n      <td>...</td>\n      <td>...</td>\n    </tr>\n    <tr>\n      <th>4409469</th>\n      <td>95690001</td>\n      <td>9.10</td>\n      <td>286.68</td>\n      <td>283.44</td>\n      <td>80.8</td>\n      <td>239.0</td>\n      <td>0.0</td>\n      <td>95690001_729_19</td>\n    </tr>\n    <tr>\n      <th>4409470</th>\n      <td>95690001</td>\n      <td>8.58</td>\n      <td>286.39</td>\n      <td>283.21</td>\n      <td>81.1</td>\n      <td>231.0</td>\n      <td>0.0</td>\n      <td>95690001_729_20</td>\n    </tr>\n    <tr>\n      <th>4409471</th>\n      <td>95690001</td>\n      <td>8.74</td>\n      <td>286.28</td>\n      <td>283.40</td>\n      <td>82.6</td>\n      <td>226.0</td>\n      <td>0.0</td>\n      <td>95690001_729_21</td>\n    </tr>\n    <tr>\n      <th>4409472</th>\n      <td>95690001</td>\n      <td>9.04</td>\n      <td>286.21</td>\n      <td>283.29</td>\n      <td>82.4</td>\n      <td>224.0</td>\n      <td>0.0</td>\n      <td>95690001_729_22</td>\n    </tr>\n    <tr>\n      <th>4409473</th>\n      <td>95690001</td>\n      <td>9.11</td>\n      <td>285.92</td>\n      <td>282.42</td>\n      <td>79.4</td>\n      <td>221.0</td>\n      <td>0.0</td>\n      <td>95690001_729_23</td>\n    </tr>\n  </tbody>\n</table>\n<p>4409474 rows × 8 columns</p>\n</div>"
     },
     "metadata": {},
     "output_type": "display_data"
    },
    {
     "data": {
      "text/plain": "        number_sta                date    ff       t      td    hu     dd  \\\n0         14066001 2016-01-01 00:00:00  3.05  279.28  277.97  91.4  200.0   \n1         14066001 2016-01-01 01:00:00  2.57  278.76  277.45  91.4  190.0   \n2         14066001 2016-01-01 02:00:00  2.26  278.27  277.02  91.7  181.0   \n3         14066001 2016-01-01 03:00:00  2.62  277.98  276.95  93.0  159.0   \n4         14066001 2016-01-01 04:00:00  2.99  277.32  276.72  95.9  171.0   \n...            ...                 ...   ...     ...     ...   ...    ...   \n4409469   95690001 2017-12-30 19:00:00  9.10  286.68  283.44  80.8  239.0   \n4409470   95690001 2017-12-30 20:00:00  8.58  286.39  283.21  81.1  231.0   \n4409471   95690001 2017-12-30 21:00:00  8.74  286.28  283.40  82.6  226.0   \n4409472   95690001 2017-12-30 22:00:00  9.04  286.21  283.29  82.4  224.0   \n4409473   95690001 2017-12-30 23:00:00  9.11  285.92  282.42  79.4  221.0   \n\n         precip               Id  \n0           0.0     14066001_0_0  \n1           0.0     14066001_0_1  \n2           0.0     14066001_0_2  \n3           0.0     14066001_0_3  \n4           0.0     14066001_0_4  \n...         ...              ...  \n4409469     0.0  95690001_729_19  \n4409470     0.0  95690001_729_20  \n4409471     0.0  95690001_729_21  \n4409472     0.0  95690001_729_22  \n4409473     0.0  95690001_729_23  \n\n[4409474 rows x 9 columns]",
      "text/html": "<div>\n<style scoped>\n    .dataframe tbody tr th:only-of-type {\n        vertical-align: middle;\n    }\n\n    .dataframe tbody tr th {\n        vertical-align: top;\n    }\n\n    .dataframe thead th {\n        text-align: right;\n    }\n</style>\n<table border=\"1\" class=\"dataframe\">\n  <thead>\n    <tr style=\"text-align: right;\">\n      <th></th>\n      <th>number_sta</th>\n      <th>date</th>\n      <th>ff</th>\n      <th>t</th>\n      <th>td</th>\n      <th>hu</th>\n      <th>dd</th>\n      <th>precip</th>\n      <th>Id</th>\n    </tr>\n  </thead>\n  <tbody>\n    <tr>\n      <th>0</th>\n      <td>14066001</td>\n      <td>2016-01-01 00:00:00</td>\n      <td>3.05</td>\n      <td>279.28</td>\n      <td>277.97</td>\n      <td>91.4</td>\n      <td>200.0</td>\n      <td>0.0</td>\n      <td>14066001_0_0</td>\n    </tr>\n    <tr>\n      <th>1</th>\n      <td>14066001</td>\n      <td>2016-01-01 01:00:00</td>\n      <td>2.57</td>\n      <td>278.76</td>\n      <td>277.45</td>\n      <td>91.4</td>\n      <td>190.0</td>\n      <td>0.0</td>\n      <td>14066001_0_1</td>\n    </tr>\n    <tr>\n      <th>2</th>\n      <td>14066001</td>\n      <td>2016-01-01 02:00:00</td>\n      <td>2.26</td>\n      <td>278.27</td>\n      <td>277.02</td>\n      <td>91.7</td>\n      <td>181.0</td>\n      <td>0.0</td>\n      <td>14066001_0_2</td>\n    </tr>\n    <tr>\n      <th>3</th>\n      <td>14066001</td>\n      <td>2016-01-01 03:00:00</td>\n      <td>2.62</td>\n      <td>277.98</td>\n      <td>276.95</td>\n      <td>93.0</td>\n      <td>159.0</td>\n      <td>0.0</td>\n      <td>14066001_0_3</td>\n    </tr>\n    <tr>\n      <th>4</th>\n      <td>14066001</td>\n      <td>2016-01-01 04:00:00</td>\n      <td>2.99</td>\n      <td>277.32</td>\n      <td>276.72</td>\n      <td>95.9</td>\n      <td>171.0</td>\n      <td>0.0</td>\n      <td>14066001_0_4</td>\n    </tr>\n    <tr>\n      <th>...</th>\n      <td>...</td>\n      <td>...</td>\n      <td>...</td>\n      <td>...</td>\n      <td>...</td>\n      <td>...</td>\n      <td>...</td>\n      <td>...</td>\n      <td>...</td>\n    </tr>\n    <tr>\n      <th>4409469</th>\n      <td>95690001</td>\n      <td>2017-12-30 19:00:00</td>\n      <td>9.10</td>\n      <td>286.68</td>\n      <td>283.44</td>\n      <td>80.8</td>\n      <td>239.0</td>\n      <td>0.0</td>\n      <td>95690001_729_19</td>\n    </tr>\n    <tr>\n      <th>4409470</th>\n      <td>95690001</td>\n      <td>2017-12-30 20:00:00</td>\n      <td>8.58</td>\n      <td>286.39</td>\n      <td>283.21</td>\n      <td>81.1</td>\n      <td>231.0</td>\n      <td>0.0</td>\n      <td>95690001_729_20</td>\n    </tr>\n    <tr>\n      <th>4409471</th>\n      <td>95690001</td>\n      <td>2017-12-30 21:00:00</td>\n      <td>8.74</td>\n      <td>286.28</td>\n      <td>283.40</td>\n      <td>82.6</td>\n      <td>226.0</td>\n      <td>0.0</td>\n      <td>95690001_729_21</td>\n    </tr>\n    <tr>\n      <th>4409472</th>\n      <td>95690001</td>\n      <td>2017-12-30 22:00:00</td>\n      <td>9.04</td>\n      <td>286.21</td>\n      <td>283.29</td>\n      <td>82.4</td>\n      <td>224.0</td>\n      <td>0.0</td>\n      <td>95690001_729_22</td>\n    </tr>\n    <tr>\n      <th>4409473</th>\n      <td>95690001</td>\n      <td>2017-12-30 23:00:00</td>\n      <td>9.11</td>\n      <td>285.92</td>\n      <td>282.42</td>\n      <td>79.4</td>\n      <td>221.0</td>\n      <td>0.0</td>\n      <td>95690001_729_23</td>\n    </tr>\n  </tbody>\n</table>\n<p>4409474 rows × 9 columns</p>\n</div>"
     },
     "metadata": {},
     "output_type": "display_data"
    },
    {
     "data": {
      "text/plain": "        number_sta    precip\n0         14066001  0.080944\n1         14066001  0.000000\n2         14066001  0.000000\n3         14066001  0.000000\n4         14066001  0.000000\n...            ...       ...\n4409469   95690001  0.000000\n4409470   95690001  0.000000\n4409471   95690001  0.000000\n4409472   95690001  0.000000\n4409473   95690001  0.000000\n\n[4409474 rows x 2 columns]",
      "text/html": "<div>\n<style scoped>\n    .dataframe tbody tr th:only-of-type {\n        vertical-align: middle;\n    }\n\n    .dataframe tbody tr th {\n        vertical-align: top;\n    }\n\n    .dataframe thead th {\n        text-align: right;\n    }\n</style>\n<table border=\"1\" class=\"dataframe\">\n  <thead>\n    <tr style=\"text-align: right;\">\n      <th></th>\n      <th>number_sta</th>\n      <th>precip</th>\n    </tr>\n  </thead>\n  <tbody>\n    <tr>\n      <th>0</th>\n      <td>14066001</td>\n      <td>0.080944</td>\n    </tr>\n    <tr>\n      <th>1</th>\n      <td>14066001</td>\n      <td>0.000000</td>\n    </tr>\n    <tr>\n      <th>2</th>\n      <td>14066001</td>\n      <td>0.000000</td>\n    </tr>\n    <tr>\n      <th>3</th>\n      <td>14066001</td>\n      <td>0.000000</td>\n    </tr>\n    <tr>\n      <th>4</th>\n      <td>14066001</td>\n      <td>0.000000</td>\n    </tr>\n    <tr>\n      <th>...</th>\n      <td>...</td>\n      <td>...</td>\n    </tr>\n    <tr>\n      <th>4409469</th>\n      <td>95690001</td>\n      <td>0.000000</td>\n    </tr>\n    <tr>\n      <th>4409470</th>\n      <td>95690001</td>\n      <td>0.000000</td>\n    </tr>\n    <tr>\n      <th>4409471</th>\n      <td>95690001</td>\n      <td>0.000000</td>\n    </tr>\n    <tr>\n      <th>4409472</th>\n      <td>95690001</td>\n      <td>0.000000</td>\n    </tr>\n    <tr>\n      <th>4409473</th>\n      <td>95690001</td>\n      <td>0.000000</td>\n    </tr>\n  </tbody>\n</table>\n<p>4409474 rows × 2 columns</p>\n</div>"
     },
     "metadata": {},
     "output_type": "display_data"
    },
    {
     "data": {
      "text/plain": "        number_sta    ff       t      td    hu     dd  precip               Id\n0         14066001  3.05  279.28  277.97  91.4  200.0     0.0     14066001_0_0\n1         14066001  2.57  278.76  277.45  91.4  190.0     0.0     14066001_0_1\n2         14066001  2.26  278.27  277.02  91.7  181.0     0.0     14066001_0_2\n3         14066001  2.62  277.98  276.95  93.0  159.0     0.0     14066001_0_3\n4         14066001  2.99  277.32  276.72  95.9  171.0     0.0     14066001_0_4\n...            ...   ...     ...     ...   ...    ...     ...              ...\n4409469   95690001  9.10  286.68  283.44  80.8  239.0     0.0  95690001_729_19\n4409470   95690001  8.58  286.39  283.21  81.1  231.0     0.0  95690001_729_20\n4409471   95690001  8.74  286.28  283.40  82.6  226.0     0.0  95690001_729_21\n4409472   95690001  9.04  286.21  283.29  82.4  224.0     0.0  95690001_729_22\n4409473   95690001  9.11  285.92  282.42  79.4  221.0     0.0  95690001_729_23\n\n[4409474 rows x 8 columns]",
      "text/html": "<div>\n<style scoped>\n    .dataframe tbody tr th:only-of-type {\n        vertical-align: middle;\n    }\n\n    .dataframe tbody tr th {\n        vertical-align: top;\n    }\n\n    .dataframe thead th {\n        text-align: right;\n    }\n</style>\n<table border=\"1\" class=\"dataframe\">\n  <thead>\n    <tr style=\"text-align: right;\">\n      <th></th>\n      <th>number_sta</th>\n      <th>ff</th>\n      <th>t</th>\n      <th>td</th>\n      <th>hu</th>\n      <th>dd</th>\n      <th>precip</th>\n      <th>Id</th>\n    </tr>\n  </thead>\n  <tbody>\n    <tr>\n      <th>0</th>\n      <td>14066001</td>\n      <td>3.05</td>\n      <td>279.28</td>\n      <td>277.97</td>\n      <td>91.4</td>\n      <td>200.0</td>\n      <td>0.0</td>\n      <td>14066001_0_0</td>\n    </tr>\n    <tr>\n      <th>1</th>\n      <td>14066001</td>\n      <td>2.57</td>\n      <td>278.76</td>\n      <td>277.45</td>\n      <td>91.4</td>\n      <td>190.0</td>\n      <td>0.0</td>\n      <td>14066001_0_1</td>\n    </tr>\n    <tr>\n      <th>2</th>\n      <td>14066001</td>\n      <td>2.26</td>\n      <td>278.27</td>\n      <td>277.02</td>\n      <td>91.7</td>\n      <td>181.0</td>\n      <td>0.0</td>\n      <td>14066001_0_2</td>\n    </tr>\n    <tr>\n      <th>3</th>\n      <td>14066001</td>\n      <td>2.62</td>\n      <td>277.98</td>\n      <td>276.95</td>\n      <td>93.0</td>\n      <td>159.0</td>\n      <td>0.0</td>\n      <td>14066001_0_3</td>\n    </tr>\n    <tr>\n      <th>4</th>\n      <td>14066001</td>\n      <td>2.99</td>\n      <td>277.32</td>\n      <td>276.72</td>\n      <td>95.9</td>\n      <td>171.0</td>\n      <td>0.0</td>\n      <td>14066001_0_4</td>\n    </tr>\n    <tr>\n      <th>...</th>\n      <td>...</td>\n      <td>...</td>\n      <td>...</td>\n      <td>...</td>\n      <td>...</td>\n      <td>...</td>\n      <td>...</td>\n      <td>...</td>\n    </tr>\n    <tr>\n      <th>4409469</th>\n      <td>95690001</td>\n      <td>9.10</td>\n      <td>286.68</td>\n      <td>283.44</td>\n      <td>80.8</td>\n      <td>239.0</td>\n      <td>0.0</td>\n      <td>95690001_729_19</td>\n    </tr>\n    <tr>\n      <th>4409470</th>\n      <td>95690001</td>\n      <td>8.58</td>\n      <td>286.39</td>\n      <td>283.21</td>\n      <td>81.1</td>\n      <td>231.0</td>\n      <td>0.0</td>\n      <td>95690001_729_20</td>\n    </tr>\n    <tr>\n      <th>4409471</th>\n      <td>95690001</td>\n      <td>8.74</td>\n      <td>286.28</td>\n      <td>283.40</td>\n      <td>82.6</td>\n      <td>226.0</td>\n      <td>0.0</td>\n      <td>95690001_729_21</td>\n    </tr>\n    <tr>\n      <th>4409472</th>\n      <td>95690001</td>\n      <td>9.04</td>\n      <td>286.21</td>\n      <td>283.29</td>\n      <td>82.4</td>\n      <td>224.0</td>\n      <td>0.0</td>\n      <td>95690001_729_22</td>\n    </tr>\n    <tr>\n      <th>4409473</th>\n      <td>95690001</td>\n      <td>9.11</td>\n      <td>285.92</td>\n      <td>282.42</td>\n      <td>79.4</td>\n      <td>221.0</td>\n      <td>0.0</td>\n      <td>95690001_729_23</td>\n    </tr>\n  </tbody>\n</table>\n<p>4409474 rows × 8 columns</p>\n</div>"
     },
     "metadata": {},
     "output_type": "display_data"
    },
    {
     "data": {
      "text/plain": "        number_sta                date    ff       t      td    hu     dd  \\\n0         14066001 2016-01-01 00:00:00  3.05  279.28  277.97  91.4  200.0   \n1         14066001 2016-01-01 01:00:00  2.57  278.76  277.45  91.4  190.0   \n2         14066001 2016-01-01 02:00:00  2.26  278.27  277.02  91.7  181.0   \n3         14066001 2016-01-01 03:00:00  2.62  277.98  276.95  93.0  159.0   \n4         14066001 2016-01-01 04:00:00  2.99  277.32  276.72  95.9  171.0   \n...            ...                 ...   ...     ...     ...   ...    ...   \n4409469   95690001 2017-12-30 19:00:00  9.10  286.68  283.44  80.8  239.0   \n4409470   95690001 2017-12-30 20:00:00  8.58  286.39  283.21  81.1  231.0   \n4409471   95690001 2017-12-30 21:00:00  8.74  286.28  283.40  82.6  226.0   \n4409472   95690001 2017-12-30 22:00:00  9.04  286.21  283.29  82.4  224.0   \n4409473   95690001 2017-12-30 23:00:00  9.11  285.92  282.42  79.4  221.0   \n\n         precip               Id  \n0           0.0     14066001_0_0  \n1           0.0     14066001_0_1  \n2           0.0     14066001_0_2  \n3           0.0     14066001_0_3  \n4           0.0     14066001_0_4  \n...         ...              ...  \n4409469     0.0  95690001_729_19  \n4409470     0.0  95690001_729_20  \n4409471     0.0  95690001_729_21  \n4409472     0.0  95690001_729_22  \n4409473     0.0  95690001_729_23  \n\n[4409474 rows x 9 columns]",
      "text/html": "<div>\n<style scoped>\n    .dataframe tbody tr th:only-of-type {\n        vertical-align: middle;\n    }\n\n    .dataframe tbody tr th {\n        vertical-align: top;\n    }\n\n    .dataframe thead th {\n        text-align: right;\n    }\n</style>\n<table border=\"1\" class=\"dataframe\">\n  <thead>\n    <tr style=\"text-align: right;\">\n      <th></th>\n      <th>number_sta</th>\n      <th>date</th>\n      <th>ff</th>\n      <th>t</th>\n      <th>td</th>\n      <th>hu</th>\n      <th>dd</th>\n      <th>precip</th>\n      <th>Id</th>\n    </tr>\n  </thead>\n  <tbody>\n    <tr>\n      <th>0</th>\n      <td>14066001</td>\n      <td>2016-01-01 00:00:00</td>\n      <td>3.05</td>\n      <td>279.28</td>\n      <td>277.97</td>\n      <td>91.4</td>\n      <td>200.0</td>\n      <td>0.0</td>\n      <td>14066001_0_0</td>\n    </tr>\n    <tr>\n      <th>1</th>\n      <td>14066001</td>\n      <td>2016-01-01 01:00:00</td>\n      <td>2.57</td>\n      <td>278.76</td>\n      <td>277.45</td>\n      <td>91.4</td>\n      <td>190.0</td>\n      <td>0.0</td>\n      <td>14066001_0_1</td>\n    </tr>\n    <tr>\n      <th>2</th>\n      <td>14066001</td>\n      <td>2016-01-01 02:00:00</td>\n      <td>2.26</td>\n      <td>278.27</td>\n      <td>277.02</td>\n      <td>91.7</td>\n      <td>181.0</td>\n      <td>0.0</td>\n      <td>14066001_0_2</td>\n    </tr>\n    <tr>\n      <th>3</th>\n      <td>14066001</td>\n      <td>2016-01-01 03:00:00</td>\n      <td>2.62</td>\n      <td>277.98</td>\n      <td>276.95</td>\n      <td>93.0</td>\n      <td>159.0</td>\n      <td>0.0</td>\n      <td>14066001_0_3</td>\n    </tr>\n    <tr>\n      <th>4</th>\n      <td>14066001</td>\n      <td>2016-01-01 04:00:00</td>\n      <td>2.99</td>\n      <td>277.32</td>\n      <td>276.72</td>\n      <td>95.9</td>\n      <td>171.0</td>\n      <td>0.0</td>\n      <td>14066001_0_4</td>\n    </tr>\n    <tr>\n      <th>...</th>\n      <td>...</td>\n      <td>...</td>\n      <td>...</td>\n      <td>...</td>\n      <td>...</td>\n      <td>...</td>\n      <td>...</td>\n      <td>...</td>\n      <td>...</td>\n    </tr>\n    <tr>\n      <th>4409469</th>\n      <td>95690001</td>\n      <td>2017-12-30 19:00:00</td>\n      <td>9.10</td>\n      <td>286.68</td>\n      <td>283.44</td>\n      <td>80.8</td>\n      <td>239.0</td>\n      <td>0.0</td>\n      <td>95690001_729_19</td>\n    </tr>\n    <tr>\n      <th>4409470</th>\n      <td>95690001</td>\n      <td>2017-12-30 20:00:00</td>\n      <td>8.58</td>\n      <td>286.39</td>\n      <td>283.21</td>\n      <td>81.1</td>\n      <td>231.0</td>\n      <td>0.0</td>\n      <td>95690001_729_20</td>\n    </tr>\n    <tr>\n      <th>4409471</th>\n      <td>95690001</td>\n      <td>2017-12-30 21:00:00</td>\n      <td>8.74</td>\n      <td>286.28</td>\n      <td>283.40</td>\n      <td>82.6</td>\n      <td>226.0</td>\n      <td>0.0</td>\n      <td>95690001_729_21</td>\n    </tr>\n    <tr>\n      <th>4409472</th>\n      <td>95690001</td>\n      <td>2017-12-30 22:00:00</td>\n      <td>9.04</td>\n      <td>286.21</td>\n      <td>283.29</td>\n      <td>82.4</td>\n      <td>224.0</td>\n      <td>0.0</td>\n      <td>95690001_729_22</td>\n    </tr>\n    <tr>\n      <th>4409473</th>\n      <td>95690001</td>\n      <td>2017-12-30 23:00:00</td>\n      <td>9.11</td>\n      <td>285.92</td>\n      <td>282.42</td>\n      <td>79.4</td>\n      <td>221.0</td>\n      <td>0.0</td>\n      <td>95690001_729_23</td>\n    </tr>\n  </tbody>\n</table>\n<p>4409474 rows × 9 columns</p>\n</div>"
     },
     "metadata": {},
     "output_type": "display_data"
    }
   ],
   "source": [
    "obs_clean.dropna(inplace=True)\n",
    "x_clean.drop(index=na_ids, inplace=True)\n",
    "x_df.drop(index=na_ids, inplace=True)\n",
    "\n",
    "obs_clean.reset_index(drop=True, inplace=True)\n",
    "x_clean.reset_index(drop=True, inplace=True)\n",
    "x_df.reset_index(drop=True, inplace=True)\n",
    "\n",
    "display(obs_clean)\n",
    "display(x_clean)\n",
    "display(x_df)"
   ],
   "metadata": {
    "collapsed": false,
    "pycharm": {
     "name": "#%%\n"
    }
   }
  },
  {
   "cell_type": "code",
   "execution_count": 32,
   "outputs": [],
   "source": [
    "# obs_clean.set_index(\"number_sta\", inplace=True)\n",
    "# obs_clean = obs_clean[\"precip\"]\n",
    "# x_clean.reset_index(drop=True, inplace=True)\n",
    "# x_clean.set_index(\"number_sta\", inplace=True)"
   ],
   "metadata": {
    "collapsed": false,
    "pycharm": {
     "name": "#%%\n"
    }
   }
  },
  {
   "cell_type": "code",
   "execution_count": 33,
   "outputs": [],
   "source": [
    "# linear regression\n",
    "lin_reg = LinearRegression()\n",
    "lin_reg.fit(x_clean, obs_clean)\n",
    "prediction = lin_reg.predict(x_clean)"
   ],
   "metadata": {
    "collapsed": false,
    "pycharm": {
     "name": "#%%\n"
    }
   }
  },
  {
   "cell_type": "code",
   "execution_count": 34,
   "outputs": [
    {
     "name": "stdout",
     "output_type": "stream",
     "text": [
      "         number_sta    precip\n",
      "0          14066001  0.056030\n",
      "1          14066001  0.049153\n",
      "2          14066001  0.045084\n",
      "3          14066001  0.050650\n",
      "4          14066001  0.061778\n",
      "...             ...       ...\n",
      "4409469    95690000  0.116877\n",
      "4409470    95690000  0.111159\n",
      "4409471    95690000  0.116764\n",
      "4409472    95690000  0.119022\n",
      "4409473    95690000  0.109963\n",
      "\n",
      "[4409474 rows x 2 columns]\n",
      "         number_sta    precip\n",
      "0          14066001  0.056030\n",
      "1          14066001  0.049153\n",
      "2          14066001  0.045084\n",
      "3          14066001  0.050650\n",
      "4          14066001  0.061778\n",
      "...             ...       ...\n",
      "4409469    95690000  0.116877\n",
      "4409470    95690000  0.111159\n",
      "4409471    95690000  0.116764\n",
      "4409472    95690000  0.119022\n",
      "4409473    95690000  0.109963\n",
      "\n",
      "[4409474 rows x 2 columns]\n"
     ]
    }
   ],
   "source": [
    "prediction = pd.DataFrame(prediction, columns=[\"number_sta\",\"precip\"])\n",
    "prediction.iloc[:,0] = np.array(prediction.iloc[:,0],dtype=int)\n",
    "print(prediction)\n",
    "# prediction"
   ],
   "metadata": {
    "collapsed": false,
    "pycharm": {
     "name": "#%%\n"
    }
   }
  },
  {
   "cell_type": "code",
   "execution_count": 35,
   "outputs": [
    {
     "name": "stdout",
     "output_type": "stream",
     "text": [
      "         number_sta    precip                date\n",
      "0          14066001  0.056030 2016-01-01 00:00:00\n",
      "1          14066001  0.049153 2016-01-01 01:00:00\n",
      "2          14066001  0.045084 2016-01-01 02:00:00\n",
      "3          14066001  0.050650 2016-01-01 03:00:00\n",
      "4          14066001  0.061778 2016-01-01 04:00:00\n",
      "...             ...       ...                 ...\n",
      "4409469    95690000  0.116877 2017-12-30 19:00:00\n",
      "4409470    95690000  0.111159 2017-12-30 20:00:00\n",
      "4409471    95690000  0.116764 2017-12-30 21:00:00\n",
      "4409472    95690000  0.119022 2017-12-30 22:00:00\n",
      "4409473    95690000  0.109963 2017-12-30 23:00:00\n",
      "\n",
      "[4409474 rows x 3 columns]\n",
      "         number_sta    precip                date\n",
      "0          14066001  0.056030 2016-01-01 00:00:00\n",
      "1          14066001  0.049153 2016-01-01 01:00:00\n",
      "2          14066001  0.045084 2016-01-01 02:00:00\n",
      "3          14066001  0.050650 2016-01-01 03:00:00\n",
      "4          14066001  0.061778 2016-01-01 04:00:00\n",
      "...             ...       ...                 ...\n",
      "4409469    95690000  0.116877 2017-12-30 19:00:00\n",
      "4409470    95690000  0.111159 2017-12-30 20:00:00\n",
      "4409471    95690000  0.116764 2017-12-30 21:00:00\n",
      "4409472    95690000  0.119022 2017-12-30 22:00:00\n",
      "4409473    95690000  0.109963 2017-12-30 23:00:00\n",
      "\n",
      "[4409474 rows x 3 columns]\n"
     ]
    }
   ],
   "source": [
    "prediction[\"date\"] = x_df[\"date\"]\n",
    "# prediction[\"Id\"] = x_df[\"Id\"]\n",
    "print(prediction)"
   ],
   "metadata": {
    "collapsed": false,
    "pycharm": {
     "name": "#%%\n"
    }
   }
  },
  {
   "cell_type": "code",
   "execution_count": 44,
   "outputs": [
    {
     "ename": "KeyError",
     "evalue": "\"None of ['date'] are in the columns\"",
     "output_type": "error",
     "traceback": [
      "\u001B[0;31m---------------------------------------------------------------------------\u001B[0m",
      "\u001B[0;31mKeyError\u001B[0m                                  Traceback (most recent call last)",
      "\u001B[0;32m/tmp/ipykernel_303813/169760901.py\u001B[0m in \u001B[0;36m<module>\u001B[0;34m\u001B[0m\n\u001B[0;32m----> 1\u001B[0;31m \u001B[0mprediction\u001B[0m\u001B[0;34m.\u001B[0m\u001B[0mset_index\u001B[0m\u001B[0;34m(\u001B[0m\u001B[0;34m'date'\u001B[0m\u001B[0;34m,\u001B[0m\u001B[0minplace\u001B[0m \u001B[0;34m=\u001B[0m \u001B[0;32mTrue\u001B[0m\u001B[0;34m)\u001B[0m\u001B[0;34m\u001B[0m\u001B[0;34m\u001B[0m\u001B[0m\n\u001B[0m\u001B[1;32m      2\u001B[0m \u001B[0mic\u001B[0m\u001B[0;34m(\u001B[0m\u001B[0mprediction\u001B[0m\u001B[0;34m)\u001B[0m\u001B[0;34m\u001B[0m\u001B[0;34m\u001B[0m\u001B[0m\n",
      "\u001B[0;32m~/.local/lib/python3.8/site-packages/pandas/util/_decorators.py\u001B[0m in \u001B[0;36mwrapper\u001B[0;34m(*args, **kwargs)\u001B[0m\n\u001B[1;32m    309\u001B[0m                     \u001B[0mstacklevel\u001B[0m\u001B[0;34m=\u001B[0m\u001B[0mstacklevel\u001B[0m\u001B[0;34m,\u001B[0m\u001B[0;34m\u001B[0m\u001B[0;34m\u001B[0m\u001B[0m\n\u001B[1;32m    310\u001B[0m                 )\n\u001B[0;32m--> 311\u001B[0;31m             \u001B[0;32mreturn\u001B[0m \u001B[0mfunc\u001B[0m\u001B[0;34m(\u001B[0m\u001B[0;34m*\u001B[0m\u001B[0margs\u001B[0m\u001B[0;34m,\u001B[0m \u001B[0;34m**\u001B[0m\u001B[0mkwargs\u001B[0m\u001B[0;34m)\u001B[0m\u001B[0;34m\u001B[0m\u001B[0;34m\u001B[0m\u001B[0m\n\u001B[0m\u001B[1;32m    312\u001B[0m \u001B[0;34m\u001B[0m\u001B[0m\n\u001B[1;32m    313\u001B[0m         \u001B[0;32mreturn\u001B[0m \u001B[0mwrapper\u001B[0m\u001B[0;34m\u001B[0m\u001B[0;34m\u001B[0m\u001B[0m\n",
      "\u001B[0;32m~/.local/lib/python3.8/site-packages/pandas/core/frame.py\u001B[0m in \u001B[0;36mset_index\u001B[0;34m(self, keys, drop, append, inplace, verify_integrity)\u001B[0m\n\u001B[1;32m   5449\u001B[0m \u001B[0;34m\u001B[0m\u001B[0m\n\u001B[1;32m   5450\u001B[0m         \u001B[0;32mif\u001B[0m \u001B[0mmissing\u001B[0m\u001B[0;34m:\u001B[0m\u001B[0;34m\u001B[0m\u001B[0;34m\u001B[0m\u001B[0m\n\u001B[0;32m-> 5451\u001B[0;31m             \u001B[0;32mraise\u001B[0m \u001B[0mKeyError\u001B[0m\u001B[0;34m(\u001B[0m\u001B[0;34mf\"None of {missing} are in the columns\"\u001B[0m\u001B[0;34m)\u001B[0m\u001B[0;34m\u001B[0m\u001B[0;34m\u001B[0m\u001B[0m\n\u001B[0m\u001B[1;32m   5452\u001B[0m \u001B[0;34m\u001B[0m\u001B[0m\n\u001B[1;32m   5453\u001B[0m         \u001B[0;32mif\u001B[0m \u001B[0minplace\u001B[0m\u001B[0;34m:\u001B[0m\u001B[0;34m\u001B[0m\u001B[0;34m\u001B[0m\u001B[0m\n",
      "\u001B[0;31mKeyError\u001B[0m: \"None of ['date'] are in the columns\""
     ]
    }
   ],
   "source": [
    "prediction.set_index('date',inplace = True)\n",
    "ic(prediction)"
   ],
   "metadata": {
    "collapsed": false,
    "pycharm": {
     "name": "#%%\n"
    }
   }
  },
  {
   "cell_type": "code",
   "execution_count": 37,
   "outputs": [],
   "source": [
    "prediction_summed = prediction.groupby('number_sta').resample('D').agg(pd.Series.sum, min_count = 24)"
   ],
   "metadata": {
    "collapsed": false,
    "pycharm": {
     "name": "#%%\n"
    }
   }
  },
  {
   "cell_type": "code",
   "execution_count": 38,
   "outputs": [
    {
     "data": {
      "text/plain": "                         number_sta    precip\nnumber_sta date                              \n14066001   2016-01-01  3.375840e+08  1.436778\n           2016-01-02  3.375840e+08  3.595443\n           2016-01-03  3.375840e+08  6.567125\n           2016-01-04  3.375840e+08  1.888832\n           2016-01-05  3.375840e+08  1.764836\n...                             ...       ...\n95690000   2017-12-26  2.296560e+09  3.217714\n           2017-12-27  2.296560e+09  3.670035\n           2017-12-28  2.296560e+09  1.003673\n           2017-12-29  2.296560e+09  3.694025\n           2017-12-30  2.296560e+09  5.251946\n\n[191134 rows x 2 columns]",
      "text/html": "<div>\n<style scoped>\n    .dataframe tbody tr th:only-of-type {\n        vertical-align: middle;\n    }\n\n    .dataframe tbody tr th {\n        vertical-align: top;\n    }\n\n    .dataframe thead th {\n        text-align: right;\n    }\n</style>\n<table border=\"1\" class=\"dataframe\">\n  <thead>\n    <tr style=\"text-align: right;\">\n      <th></th>\n      <th></th>\n      <th>number_sta</th>\n      <th>precip</th>\n    </tr>\n    <tr>\n      <th>number_sta</th>\n      <th>date</th>\n      <th></th>\n      <th></th>\n    </tr>\n  </thead>\n  <tbody>\n    <tr>\n      <th rowspan=\"5\" valign=\"top\">14066001</th>\n      <th>2016-01-01</th>\n      <td>3.375840e+08</td>\n      <td>1.436778</td>\n    </tr>\n    <tr>\n      <th>2016-01-02</th>\n      <td>3.375840e+08</td>\n      <td>3.595443</td>\n    </tr>\n    <tr>\n      <th>2016-01-03</th>\n      <td>3.375840e+08</td>\n      <td>6.567125</td>\n    </tr>\n    <tr>\n      <th>2016-01-04</th>\n      <td>3.375840e+08</td>\n      <td>1.888832</td>\n    </tr>\n    <tr>\n      <th>2016-01-05</th>\n      <td>3.375840e+08</td>\n      <td>1.764836</td>\n    </tr>\n    <tr>\n      <th>...</th>\n      <th>...</th>\n      <td>...</td>\n      <td>...</td>\n    </tr>\n    <tr>\n      <th rowspan=\"5\" valign=\"top\">95690000</th>\n      <th>2017-12-26</th>\n      <td>2.296560e+09</td>\n      <td>3.217714</td>\n    </tr>\n    <tr>\n      <th>2017-12-27</th>\n      <td>2.296560e+09</td>\n      <td>3.670035</td>\n    </tr>\n    <tr>\n      <th>2017-12-28</th>\n      <td>2.296560e+09</td>\n      <td>1.003673</td>\n    </tr>\n    <tr>\n      <th>2017-12-29</th>\n      <td>2.296560e+09</td>\n      <td>3.694025</td>\n    </tr>\n    <tr>\n      <th>2017-12-30</th>\n      <td>2.296560e+09</td>\n      <td>5.251946</td>\n    </tr>\n  </tbody>\n</table>\n<p>191134 rows × 2 columns</p>\n</div>"
     },
     "metadata": {},
     "output_type": "display_data"
    },
    {
     "data": {
      "text/plain": "                         number_sta    precip\nnumber_sta date                              \n14066001   2016-01-01  3.375840e+08  1.436778\n           2016-01-02  3.375840e+08  3.595443\n           2016-01-03  3.375840e+08  6.567125\n           2016-01-04  3.375840e+08  1.888832\n           2016-01-05  3.375840e+08  1.764836\n...                             ...       ...\n95690000   2017-12-26  2.296560e+09  3.217714\n           2017-12-27  2.296560e+09  3.670035\n           2017-12-28  2.296560e+09  1.003673\n           2017-12-29  2.296560e+09  3.694025\n           2017-12-30  2.296560e+09  5.251946\n\n[191134 rows x 2 columns]",
      "text/html": "<div>\n<style scoped>\n    .dataframe tbody tr th:only-of-type {\n        vertical-align: middle;\n    }\n\n    .dataframe tbody tr th {\n        vertical-align: top;\n    }\n\n    .dataframe thead th {\n        text-align: right;\n    }\n</style>\n<table border=\"1\" class=\"dataframe\">\n  <thead>\n    <tr style=\"text-align: right;\">\n      <th></th>\n      <th></th>\n      <th>number_sta</th>\n      <th>precip</th>\n    </tr>\n    <tr>\n      <th>number_sta</th>\n      <th>date</th>\n      <th></th>\n      <th></th>\n    </tr>\n  </thead>\n  <tbody>\n    <tr>\n      <th rowspan=\"5\" valign=\"top\">14066001</th>\n      <th>2016-01-01</th>\n      <td>3.375840e+08</td>\n      <td>1.436778</td>\n    </tr>\n    <tr>\n      <th>2016-01-02</th>\n      <td>3.375840e+08</td>\n      <td>3.595443</td>\n    </tr>\n    <tr>\n      <th>2016-01-03</th>\n      <td>3.375840e+08</td>\n      <td>6.567125</td>\n    </tr>\n    <tr>\n      <th>2016-01-04</th>\n      <td>3.375840e+08</td>\n      <td>1.888832</td>\n    </tr>\n    <tr>\n      <th>2016-01-05</th>\n      <td>3.375840e+08</td>\n      <td>1.764836</td>\n    </tr>\n    <tr>\n      <th>...</th>\n      <th>...</th>\n      <td>...</td>\n      <td>...</td>\n    </tr>\n    <tr>\n      <th rowspan=\"5\" valign=\"top\">95690000</th>\n      <th>2017-12-26</th>\n      <td>2.296560e+09</td>\n      <td>3.217714</td>\n    </tr>\n    <tr>\n      <th>2017-12-27</th>\n      <td>2.296560e+09</td>\n      <td>3.670035</td>\n    </tr>\n    <tr>\n      <th>2017-12-28</th>\n      <td>2.296560e+09</td>\n      <td>1.003673</td>\n    </tr>\n    <tr>\n      <th>2017-12-29</th>\n      <td>2.296560e+09</td>\n      <td>3.694025</td>\n    </tr>\n    <tr>\n      <th>2017-12-30</th>\n      <td>2.296560e+09</td>\n      <td>5.251946</td>\n    </tr>\n  </tbody>\n</table>\n<p>191134 rows × 2 columns</p>\n</div>"
     },
     "metadata": {},
     "output_type": "display_data"
    }
   ],
   "source": [
    "display(prediction_summed)"
   ],
   "metadata": {
    "collapsed": false,
    "pycharm": {
     "name": "#%%\n"
    }
   }
  },
  {
   "cell_type": "code",
   "execution_count": 39,
   "outputs": [
    {
     "data": {
      "text/plain": "       number_sta       date    precip\n0        14066001 2016-01-01  1.436778\n1        14066001 2016-01-02  3.595443\n2        14066001 2016-01-03  6.567125\n3        14066001 2016-01-04  1.888832\n4        14066001 2016-01-05  1.764836\n...           ...        ...       ...\n191129   95690000 2017-12-26  3.217714\n191130   95690000 2017-12-27  3.670035\n191131   95690000 2017-12-28  1.003673\n191132   95690000 2017-12-29  3.694025\n191133   95690000 2017-12-30  5.251946\n\n[191134 rows x 3 columns]",
      "text/html": "<div>\n<style scoped>\n    .dataframe tbody tr th:only-of-type {\n        vertical-align: middle;\n    }\n\n    .dataframe tbody tr th {\n        vertical-align: top;\n    }\n\n    .dataframe thead th {\n        text-align: right;\n    }\n</style>\n<table border=\"1\" class=\"dataframe\">\n  <thead>\n    <tr style=\"text-align: right;\">\n      <th></th>\n      <th>number_sta</th>\n      <th>date</th>\n      <th>precip</th>\n    </tr>\n  </thead>\n  <tbody>\n    <tr>\n      <th>0</th>\n      <td>14066001</td>\n      <td>2016-01-01</td>\n      <td>1.436778</td>\n    </tr>\n    <tr>\n      <th>1</th>\n      <td>14066001</td>\n      <td>2016-01-02</td>\n      <td>3.595443</td>\n    </tr>\n    <tr>\n      <th>2</th>\n      <td>14066001</td>\n      <td>2016-01-03</td>\n      <td>6.567125</td>\n    </tr>\n    <tr>\n      <th>3</th>\n      <td>14066001</td>\n      <td>2016-01-04</td>\n      <td>1.888832</td>\n    </tr>\n    <tr>\n      <th>4</th>\n      <td>14066001</td>\n      <td>2016-01-05</td>\n      <td>1.764836</td>\n    </tr>\n    <tr>\n      <th>...</th>\n      <td>...</td>\n      <td>...</td>\n      <td>...</td>\n    </tr>\n    <tr>\n      <th>191129</th>\n      <td>95690000</td>\n      <td>2017-12-26</td>\n      <td>3.217714</td>\n    </tr>\n    <tr>\n      <th>191130</th>\n      <td>95690000</td>\n      <td>2017-12-27</td>\n      <td>3.670035</td>\n    </tr>\n    <tr>\n      <th>191131</th>\n      <td>95690000</td>\n      <td>2017-12-28</td>\n      <td>1.003673</td>\n    </tr>\n    <tr>\n      <th>191132</th>\n      <td>95690000</td>\n      <td>2017-12-29</td>\n      <td>3.694025</td>\n    </tr>\n    <tr>\n      <th>191133</th>\n      <td>95690000</td>\n      <td>2017-12-30</td>\n      <td>5.251946</td>\n    </tr>\n  </tbody>\n</table>\n<p>191134 rows × 3 columns</p>\n</div>"
     },
     "metadata": {},
     "output_type": "display_data"
    },
    {
     "data": {
      "text/plain": "       number_sta       date    precip\n0        14066001 2016-01-01  1.436778\n1        14066001 2016-01-02  3.595443\n2        14066001 2016-01-03  6.567125\n3        14066001 2016-01-04  1.888832\n4        14066001 2016-01-05  1.764836\n...           ...        ...       ...\n191129   95690000 2017-12-26  3.217714\n191130   95690000 2017-12-27  3.670035\n191131   95690000 2017-12-28  1.003673\n191132   95690000 2017-12-29  3.694025\n191133   95690000 2017-12-30  5.251946\n\n[191134 rows x 3 columns]",
      "text/html": "<div>\n<style scoped>\n    .dataframe tbody tr th:only-of-type {\n        vertical-align: middle;\n    }\n\n    .dataframe tbody tr th {\n        vertical-align: top;\n    }\n\n    .dataframe thead th {\n        text-align: right;\n    }\n</style>\n<table border=\"1\" class=\"dataframe\">\n  <thead>\n    <tr style=\"text-align: right;\">\n      <th></th>\n      <th>number_sta</th>\n      <th>date</th>\n      <th>precip</th>\n    </tr>\n  </thead>\n  <tbody>\n    <tr>\n      <th>0</th>\n      <td>14066001</td>\n      <td>2016-01-01</td>\n      <td>1.436778</td>\n    </tr>\n    <tr>\n      <th>1</th>\n      <td>14066001</td>\n      <td>2016-01-02</td>\n      <td>3.595443</td>\n    </tr>\n    <tr>\n      <th>2</th>\n      <td>14066001</td>\n      <td>2016-01-03</td>\n      <td>6.567125</td>\n    </tr>\n    <tr>\n      <th>3</th>\n      <td>14066001</td>\n      <td>2016-01-04</td>\n      <td>1.888832</td>\n    </tr>\n    <tr>\n      <th>4</th>\n      <td>14066001</td>\n      <td>2016-01-05</td>\n      <td>1.764836</td>\n    </tr>\n    <tr>\n      <th>...</th>\n      <td>...</td>\n      <td>...</td>\n      <td>...</td>\n    </tr>\n    <tr>\n      <th>191129</th>\n      <td>95690000</td>\n      <td>2017-12-26</td>\n      <td>3.217714</td>\n    </tr>\n    <tr>\n      <th>191130</th>\n      <td>95690000</td>\n      <td>2017-12-27</td>\n      <td>3.670035</td>\n    </tr>\n    <tr>\n      <th>191131</th>\n      <td>95690000</td>\n      <td>2017-12-28</td>\n      <td>1.003673</td>\n    </tr>\n    <tr>\n      <th>191132</th>\n      <td>95690000</td>\n      <td>2017-12-29</td>\n      <td>3.694025</td>\n    </tr>\n    <tr>\n      <th>191133</th>\n      <td>95690000</td>\n      <td>2017-12-30</td>\n      <td>5.251946</td>\n    </tr>\n  </tbody>\n</table>\n<p>191134 rows × 3 columns</p>\n</div>"
     },
     "metadata": {},
     "output_type": "display_data"
    }
   ],
   "source": [
    "p = pd.DataFrame(prediction_summed)\n",
    "del p[\"number_sta\"]\n",
    "p = p.reset_index()\n",
    "\n",
    "p[\"date\"] = pd.to_datetime(p[\"date\"])\n",
    "\n",
    "# p.columns = ['number_sta', 'date', 'precip']\n",
    "\n",
    "p['number_sta'] = p['number_sta'].astype('category')\n",
    "\n",
    "display(p)"
   ],
   "metadata": {
    "collapsed": false,
    "pycharm": {
     "name": "#%%\n"
    }
   }
  },
  {
   "cell_type": "code",
   "execution_count": 40,
   "outputs": [
    {
     "name": "stdout",
     "output_type": "stream",
     "text": [
      "             date number_sta  Ground_truth            Id\n",
      "0      2016-01-02   14066001           3.4    14066001_0\n",
      "249    2016-01-03   14066001          11.7    14066001_1\n",
      "499    2016-01-04   14066001           0.6    14066001_2\n",
      "749    2016-01-05   14066001           0.4    14066001_3\n",
      "997    2016-01-06   14066001           3.0    14066001_4\n",
      "...           ...        ...           ...           ...\n",
      "182747 2017-12-27   95690001           3.2  95690001_725\n",
      "182997 2017-12-28   95690001           0.0  95690001_726\n",
      "183247 2017-12-29   95690001           4.4  95690001_727\n",
      "183497 2017-12-30   95690001           5.4  95690001_728\n",
      "183746 2017-12-31   95690001           1.2  95690001_729\n",
      "\n",
      "[183747 rows x 4 columns]\n",
      "             date number_sta  Ground_truth            Id\n",
      "0      2016-01-02   14066001           3.4    14066001_0\n",
      "249    2016-01-03   14066001          11.7    14066001_1\n",
      "499    2016-01-04   14066001           0.6    14066001_2\n",
      "749    2016-01-05   14066001           0.4    14066001_3\n",
      "997    2016-01-06   14066001           3.0    14066001_4\n",
      "...           ...        ...           ...           ...\n",
      "182747 2017-12-27   95690001           3.2  95690001_725\n",
      "182997 2017-12-28   95690001           0.0  95690001_726\n",
      "183247 2017-12-29   95690001           4.4  95690001_727\n",
      "183497 2017-12-30   95690001           5.4  95690001_728\n",
      "183746 2017-12-31   95690001           1.2  95690001_729\n",
      "\n",
      "[183747 rows x 4 columns]\n"
     ]
    }
   ],
   "source": [
    "print(y_df)"
   ],
   "metadata": {
    "collapsed": false,
    "pycharm": {
     "name": "#%%\n"
    }
   }
  },
  {
   "cell_type": "code",
   "execution_count": 41,
   "outputs": [
    {
     "data": {
      "text/plain": "date            0\nnumber_sta      0\nGround_truth    0\nId              0\ndtype: int64"
     },
     "execution_count": 20,
     "metadata": {},
     "output_type": "execute_result"
    },
    {
     "data": {
      "text/plain": "date            0\nnumber_sta      0\nGround_truth    0\nId              0\ndtype: int64"
     },
     "execution_count": 41,
     "metadata": {},
     "output_type": "execute_result"
    }
   ],
   "source": [
    "y_df.isna().sum(axis=0)"
   ],
   "metadata": {
    "collapsed": false,
    "pycharm": {
     "name": "#%%\n"
    }
   }
  },
  {
   "cell_type": "code",
   "execution_count": 42,
   "outputs": [],
   "source": [
    "p.to_csv(\"prediction-ish.csv\")"
   ],
   "metadata": {
    "collapsed": false,
    "pycharm": {
     "name": "#%%\n"
    }
   }
  },
  {
   "cell_type": "code",
   "execution_count": 42,
   "outputs": [],
   "source": [
    "\"\"\"\n",
    "\n",
    "merge le X_test avec la baseline en utilisant l'id. Supprimer l'heure, puis sommer sur le jours. pd.merge() ; pd.DataFrame.add()\n",
    "\n",
    "faire un merge how=\"inner\" entre baseline et prédiction, sur l'Id\n",
    "\n",
    "\"\"\""
   ],
   "metadata": {
    "collapsed": false,
    "pycharm": {
     "name": "#%%\n"
    }
   }
  }
 ],
 "metadata": {
  "kernelspec": {
   "display_name": "Python 3",
   "language": "python",
   "name": "python3"
  },
  "language_info": {
   "codemirror_mode": {
    "name": "ipython",
    "version": 2
   },
   "file_extension": ".py",
   "mimetype": "text/x-python",
   "name": "python",
   "nbconvert_exporter": "python",
   "pygments_lexer": "ipython2",
   "version": "2.7.6"
  }
 },
 "nbformat": 4,
 "nbformat_minor": 0
}
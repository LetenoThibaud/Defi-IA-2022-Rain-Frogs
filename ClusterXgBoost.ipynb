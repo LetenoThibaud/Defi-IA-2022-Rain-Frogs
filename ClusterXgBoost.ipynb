{
  "nbformat": 4,
  "nbformat_minor": 0,
  "metadata": {
    "colab": {
      "name": "ClusterXgBoost.ipynb",
      "provenance": [],
      "collapsed_sections": [],
      "machine_shape": "hm"
    },
    "kernelspec": {
      "name": "python3",
      "display_name": "Python 3"
    },
    "language_info": {
      "name": "python"
    }
  },
  "cells": [
    {
      "cell_type": "code",
      "source": [
        "import pandas as pd\n",
        "import numpy as np\n",
        "import matplotlib.pyplot as plt\n",
        "import xgboost \n",
        "\n",
        "from sklearn.metrics import mean_squared_error\n",
        "\n",
        "\n",
        "from xgboost import XGBRegressor, XGBClassifier\n",
        "from sklearn.model_selection import train_test_split\n",
        "from sklearn.model_selection import cross_val_score, KFold\n",
        "from sklearn.metrics import mean_absolute_percentage_error\n",
        "from hyperopt import STATUS_OK, Trials, fmin, hp, tpe\n",
        "from sklearn.preprocessing import StandardScaler\n",
        "\n",
        "from time import time\n",
        "from google.colab import drive\n",
        "from time import perf_counter\n",
        "import pickle\n",
        "drive.mount('/gdrive')"
      ],
      "metadata": {
        "colab": {
          "base_uri": "https://localhost:8080/"
        },
        "id": "FE6RuuxcPRWq",
        "outputId": "36df7fd8-6637-468f-bda5-caaa4b960c4b"
      },
      "execution_count": 1,
      "outputs": [
        {
          "output_type": "stream",
          "name": "stdout",
          "text": [
            "Drive already mounted at /gdrive; to attempt to forcibly remount, call drive.mount(\"/gdrive\", force_remount=True).\n"
          ]
        }
      ]
    },
    {
      "cell_type": "code",
      "execution_count": 3,
      "metadata": {
        "id": "sNbq11lQOess"
      },
      "outputs": [],
      "source": [
        "path_df_2016=\"/gdrive/MyDrive/MLDM Project/data/X_all_2016_final.zip\"\n",
        "df_train = pd.read_csv(path_df_2016)\n",
        "\n",
        "# path_df_2017=\"/gdrive/MyDrive/MLDM Project/data/X_all_2016_final.zip\"\n",
        "# df_val = pd.read_csv(path_df_2017)"
      ]
    },
    {
      "cell_type": "code",
      "source": [
        "x_train, y_train = df_train.drop(\"ground_truth\", axis=1), df_train[\"ground_truth\"]\n",
        "x_train.drop([\"day\",\"Id\",\"station_id\",\"hour\",\"next hour precipitation (kg/m^2)\"], axis=1, inplace=True)\n",
        "# x_train.drop([\"day\",\"Id\"], axis=1, inplace=True)\n",
        "# x_train = pd.DataFrame(StandardScaler().fit_transform(x_train), columns=x_train.columns)\n",
        "del df_train\n",
        "\n",
        "# x_val, y_val = df_val.drop(\"ground_truth\", axis=1), df_val[\"ground_truth\"]\n",
        "# x_val.drop([\"day\",\"station_id\",\"hour\",\"next hour precipitation (kg/m^2)\"], axis=1, inplace=True)\n",
        "# # x_train.drop([\"day\",\"Id\"], axis=1, inplace=True)\n",
        "# # x_train = pd.DataFrame(StandardScaler().fit_transform(x_train), columns=x_train.columns)\n",
        "# del df_val"
      ],
      "metadata": {
        "id": "EdWoeba-PhiG"
      },
      "execution_count": 4,
      "outputs": []
    },
    {
      "cell_type": "code",
      "source": [
        "\n",
        "\n",
        "# \"novembre décembre janvier février mars avril\"\n",
        "# +\n",
        "# \"mai juin juillet août septembre octobre\"\n",
        "def data_cluster(X,y):\n",
        "  # cluster_1_index = X.loc[(df['A'] > 10) & (df['B'] < 15)]\n",
        "  cluster_1_index = X[(X[\"month\"]==1)].index.values\n",
        "  np.append(cluster_1_index,X[(X[\"month\"]==2)].index)\n",
        "  cluster_1_index = np.append(cluster_1_index,X[(X[\"month\"]==3)].index)\n",
        "  cluster_1_index= np.append(cluster_1_index,X[(X[\"month\"]==4)].index)\n",
        "  cluster_1_index= np.append(cluster_1_index,X[(X[\"month\"]==11)].index)\n",
        "  cluster_1_index= np.append(cluster_1_index,X[(X[\"month\"]==12)].index)\n",
        "\n",
        "\n",
        "  cluster_2_index = X[(X[\"month\"]==5)].index.values\n",
        "  cluster_2_index = np.append(cluster_2_index,X[(X[\"month\"]==6)].index)\n",
        "  cluster_2_index = np.append(cluster_2_index,X[(X[\"month\"]==7)].index)\n",
        "  cluster_2_index = np.append(cluster_2_index,X[(X[\"month\"]==8)].index)\n",
        "  cluster_2_index = np.append(cluster_2_index,X[(X[\"month\"]==9)].index)\n",
        "  cluster_2_index = np.append(cluster_2_index,X[(X[\"month\"]==10)].index)\n",
        "\n",
        "  # print(X['month'])\n",
        "  X_cluster1 = X.loc[cluster_1_index]\n",
        "  y_cluster1 = y.loc[cluster_1_index]\n",
        "\n",
        "  X_cluster2 = X.loc[cluster_2_index]\n",
        "  y_cluster2 = y.loc[cluster_2_index]\n",
        "\n",
        "  return X_cluster1, y_cluster1, X_cluster2, y_cluster2\n",
        "\n",
        "X_cluster1, y_cluster1, X_cluster2, y_cluster2 = data_cluster(x_train,y_train)\n",
        "month1 = X_cluster1['month']\n",
        "month2 = X_cluster2['month']\n",
        "\n",
        "X_cluster1.drop([\"month\"], axis=1, inplace=True)\n",
        "X_cluster2.drop([\"month\"], axis=1, inplace=True)"
      ],
      "metadata": {
        "id": "F7QLpIicPsPQ"
      },
      "execution_count": 5,
      "outputs": []
    },
    {
      "cell_type": "code",
      "source": [
        "\n",
        "\n",
        "X_cluster1 = pd.DataFrame(StandardScaler().fit_transform(X_cluster1), columns=X_cluster1.columns)\n",
        "X_cluster2 = pd.DataFrame(StandardScaler().fit_transform(X_cluster2), columns=X_cluster2.columns)"
      ],
      "metadata": {
        "id": "pd_cRFfGXNKl"
      },
      "execution_count": null,
      "outputs": []
    },
    {
      "cell_type": "code",
      "source": [
        "print(len(X_cluster1))\n",
        "print(len(X_cluster2))"
      ],
      "metadata": {
        "colab": {
          "base_uri": "https://localhost:8080/"
        },
        "id": "zr0zLo3OZiYF",
        "outputId": "1ff254b1-965f-4476-9a00-258f67174d72"
      },
      "execution_count": 26,
      "outputs": [
        {
          "output_type": "stream",
          "name": "stdout",
          "text": [
            "1185600\n",
            "1435200\n"
          ]
        }
      ]
    },
    {
      "cell_type": "code",
      "source": [
        "model_cluster1 = XGBRegressor(n_estimators=500, max_depth=18, gamma=3.430739184133814, min_child_weight = 8,reg_alpha=180, reg_lambda=0.7436396623675846, random_state=123)\n",
        "t1_start = perf_counter()\n",
        "model_cluster1.fit(X_cluster1[:500000],y_cluster1[:500000])\n",
        "t1_stop = perf_counter()\n",
        "print(-(t1_start-t1_stop))\n",
        "\n",
        "model_cluster2 = XGBRegressor(n_estimators=500, max_depth=18, gamma=3.430739184133814, min_child_weight = 8,reg_alpha=180, reg_lambda=0.7436396623675846, random_state=123)\n",
        "t1_start = perf_counter()\n",
        "model_cluster2.fit(X_cluster2[:500000],y_cluster2[:500000])\n",
        "t1_stop = perf_counter()\n",
        "print(-(t1_start-t1_stop))"
      ],
      "metadata": {
        "colab": {
          "base_uri": "https://localhost:8080/"
        },
        "id": "-1fzs4OOZLZP",
        "outputId": "500ceaa6-34f4-46b9-b1b8-202e83fbea0a"
      },
      "execution_count": 6,
      "outputs": [
        {
          "output_type": "stream",
          "name": "stdout",
          "text": [
            "[06:10:52] WARNING: /workspace/src/objective/regression_obj.cu:152: reg:linear is now deprecated in favor of reg:squarederror.\n",
            "10995.308667290003\n",
            "[09:14:09] WARNING: /workspace/src/objective/regression_obj.cu:152: reg:linear is now deprecated in favor of reg:squarederror.\n",
            "10964.055858565\n"
          ]
        }
      ]
    },
    {
      "cell_type": "code",
      "source": [
        "file_name_1 = \"xgb_reg_culster1.pkl\"\n",
        "file_name_2 = \"xgb_reg_culster2.pkl\"\n",
        "\n",
        "# save\n",
        "pickle.dump(model_cluster1, open(file_name_1, \"wb\"))\n",
        "pickle.dump(model_cluster2, open(file_name_2, \"wb\"))"
      ],
      "metadata": {
        "id": "WWVqRTFtc1Em"
      },
      "execution_count": 7,
      "outputs": []
    },
    {
      "cell_type": "markdown",
      "source": [
        "#Val"
      ],
      "metadata": {
        "id": "KwTfGpo8cAsM"
      }
    },
    {
      "cell_type": "code",
      "source": [
        "X_cluster1_val, y_cluster1_val, X_cluster2_val, y_cluster2_val = data_cluster(x_val, y_val)\n",
        "month1_val = X_cluster1_val['Id']\n",
        "month2_val = X_cluster2_val['Id']\n",
        "\n",
        "X_cluster1_val.drop([\"month\",\"Id\"], axis=1, inplace=True)\n",
        "X_cluster2_val.drop([\"month\",\"Id\"], axis=1, inplace=True)"
      ],
      "metadata": {
        "id": "L6ziCk0icCRk"
      },
      "execution_count": 8,
      "outputs": []
    },
    {
      "cell_type": "code",
      "source": [
        "def m_mape(y_true,y_predict):\n",
        "    n = len(y_true)\n",
        "    At = np.array(y_true) + 1\n",
        "    Ft = np.array(y_predict) + 1\n",
        "\n",
        "    res = ((100/n)*(np.sum(np.abs((Ft-At)/At))))\n",
        "    return res"
      ],
      "metadata": {
        "id": "GR4yQUdEd-dt"
      },
      "execution_count": 9,
      "outputs": []
    },
    {
      "cell_type": "code",
      "source": [
        "X_cluster1_val = X_cluster1_val[X_cluster1.columns]\n",
        "X_cluster2_val = X_cluster2_val[X_cluster2.columns]\n",
        "\n",
        "X_cluster1_val = pd.DataFrame(StandardScaler().fit_transform(X_cluster1_val), columns=X_cluster1_val.columns)\n",
        "X_cluster2_val = pd.DataFrame(StandardScaler().fit_transform(X_cluster2_val), columns=X_cluster2_val.columns)\n",
        "y_pred_cluster1_val = model_cluster1.predict(X_cluster1_val)\n",
        "y_pred_cluster2_val = model_cluster2.predict(X_cluster2_val) \n",
        "\n",
        "\n",
        "\n",
        "print(\"My MAPE cluster 1 =\", m_mape(y_cluster1_val,y_pred_cluster1_val))\n",
        "print(\"My MAPE cluster 2 =\", m_mape(y_cluster2_val,y_pred_cluster2_val))\n",
        "\n"
      ],
      "metadata": {
        "colab": {
          "base_uri": "https://localhost:8080/"
        },
        "id": "OhYkJpztdZCF",
        "outputId": "abe2d337-7582-4047-df1e-0657797a53e8"
      },
      "execution_count": 10,
      "outputs": [
        {
          "output_type": "stream",
          "name": "stdout",
          "text": [
            "My MAPE cluster 1 = 11.41637549837677\n",
            "My MAPE cluster 1 = 9.666196101058205\n"
          ]
        }
      ]
    },
    {
      "cell_type": "code",
      "source": [
        "display(y_cluster2_val)"
      ],
      "metadata": {
        "colab": {
          "base_uri": "https://localhost:8080/",
          "height": 226
        },
        "id": "S7L__yJS1o-b",
        "outputId": "423c6112-9b9e-4d90-fd26-a00417fd8c69"
      },
      "execution_count": 11,
      "outputs": [
        {
          "output_type": "display_data",
          "data": {
            "text/plain": [
              "2880       0.0\n",
              "2881       0.0\n",
              "2882       0.0\n",
              "2883       0.0\n",
              "2884       0.0\n",
              "          ... \n",
              "2845531    0.0\n",
              "2845532    0.0\n",
              "2845533    0.0\n",
              "2845534    0.0\n",
              "2845535    0.0\n",
              "Name: ground_truth, Length: 1435200, dtype: float64"
            ]
          },
          "metadata": {}
        }
      ]
    },
    {
      "cell_type": "code",
      "source": [
        "total = np.append(y_pred_cluster1_val,y_pred_cluster2_val)\n",
        "total_true = np.append(y_cluster1_val,y_pred_cluster2_val)\n",
        "print(\"My MAPE cluster =\", m_mape(total,total_true))\n",
        "# y_cluster1_val_pd=  pd.DataFrame(y_cluster1_val, columns=['Prediction']).reset_index()\n",
        "# y_cluster2_val_pd=  pd.DataFrame(y_cluster2_val, columns=['Prediction']).reset_index()\n",
        "# total_true = y_cluster1_val_pd[\"Prediction\"].append(y_pred_cluster2_val_pd['Prediction'], ignore_index = True)\n"
      ],
      "metadata": {
        "colab": {
          "base_uri": "https://localhost:8080/"
        },
        "id": "OEWUrmjne-xm",
        "outputId": "57cbc63b-9396-4a78-cd18-d23387a28719"
      },
      "execution_count": 16,
      "outputs": [
        {
          "output_type": "stream",
          "name": "stdout",
          "text": [
            "My MAPE cluster = 5.539531168489925\n"
          ]
        }
      ]
    },
    {
      "cell_type": "markdown",
      "source": [
        "# Test\n"
      ],
      "metadata": {
        "id": "mq5h1kVWboaq"
      }
    },
    {
      "cell_type": "code",
      "source": [
        "test_set = pd.read_csv(\"/gdrive/MyDrive/MLDM Project/data/X_all_test_final.zip\")"
      ],
      "metadata": {
        "id": "_wpEzPjpbn08"
      },
      "execution_count": 17,
      "outputs": []
    },
    {
      "cell_type": "code",
      "source": [
        "file_name_1 = \"xgb_reg_culster1.pkl\"\n",
        "file_name_2 = \"xgb_reg_culster2.pkl\"\n",
        "model_cluster1 = pickle.load(open(file_name_1, \"rb\"))\n",
        "model_cluster2 = pickle.load(open(file_name_2, \"rb\"))"
      ],
      "metadata": {
        "colab": {
          "base_uri": "https://localhost:8080/"
        },
        "id": "m1UHHXeA4_0W",
        "outputId": "341874fa-f141-4523-ac3f-6e70d5272c5c"
      },
      "execution_count": 7,
      "outputs": [
        {
          "output_type": "stream",
          "name": "stdout",
          "text": [
            "[13:01:10] WARNING: /workspace/src/objective/regression_obj.cu:152: reg:linear is now deprecated in favor of reg:squarederror.\n",
            "[13:01:10] WARNING: /workspace/src/objective/regression_obj.cu:152: reg:linear is now deprecated in favor of reg:squarederror.\n"
          ]
        }
      ]
    },
    {
      "cell_type": "code",
      "source": [
        ""
      ],
      "metadata": {
        "id": "d3QPsPnS69ud"
      },
      "execution_count": null,
      "outputs": []
    },
    {
      "cell_type": "code",
      "source": [
        "def data_cluster_test(X):\n",
        "  # cluster_1_index = X.loc[(df['A'] > 10) & (df['B'] < 15)]\n",
        "  cluster_1_index = X[(X[\"month\"]==1)].index.values\n",
        "  np.append(cluster_1_index,X[(X[\"month\"]==2)].index)\n",
        "  cluster_1_index = np.append(cluster_1_index,X[(X[\"month\"]==3)].index)\n",
        "  cluster_1_index= np.append(cluster_1_index,X[(X[\"month\"]==4)].index)\n",
        "  cluster_1_index= np.append(cluster_1_index,X[(X[\"month\"]==11)].index)\n",
        "  cluster_1_index= np.append(cluster_1_index,X[(X[\"month\"]==12)].index)\n",
        "\n",
        "\n",
        "  cluster_2_index = X[(X[\"month\"]==5)].index.values\n",
        "  cluster_2_index = np.append(cluster_2_index,X[(X[\"month\"]==6)].index)\n",
        "  cluster_2_index = np.append(cluster_2_index,X[(X[\"month\"]==7)].index)\n",
        "  cluster_2_index = np.append(cluster_2_index,X[(X[\"month\"]==8)].index)\n",
        "  cluster_2_index = np.append(cluster_2_index,X[(X[\"month\"]==9)].index)\n",
        "  cluster_2_index = np.append(cluster_2_index,X[(X[\"month\"]==10)].index)\n",
        "\n",
        "  X_cluster1 = X.loc[cluster_1_index]\n",
        "  X_cluster2 = X.loc[cluster_2_index]\n",
        "\n",
        "  return X_cluster1,X_cluster2\n"
      ],
      "metadata": {
        "id": "Mrz7_oWocCl-"
      },
      "execution_count": 18,
      "outputs": []
    },
    {
      "cell_type": "code",
      "source": [
        "\n",
        "X_cluster1_test, X_cluster2_test = data_cluster_test(test_set)\n",
        "\n",
        "month1 = X_cluster1_test['Id']\n",
        "month2 = X_cluster2_test['Id']\n",
        "\n",
        "X_cluster1_test.drop([\"month\"], axis=1, inplace=True)\n",
        "X_cluster2_test.drop([\"month\"], axis=1, inplace=True)\n"
      ],
      "metadata": {
        "id": "mqfE6Npnbsix"
      },
      "execution_count": 19,
      "outputs": []
    },
    {
      "cell_type": "code",
      "source": [
        "X_cluster1_test.columns"
      ],
      "metadata": {
        "colab": {
          "base_uri": "https://localhost:8080/"
        },
        "id": "q5RuU7226QdW",
        "outputId": "00ca6fed-bb51-434c-9b79-d2284d4a8f46"
      },
      "execution_count": 17,
      "outputs": [
        {
          "output_type": "execute_result",
          "data": {
            "text/plain": [
              "Index(['Id', 'current hour precipitations (kg/m^2)',\n",
              "       'next hour precipitation (kg/m^2)', 'station_id', 'altitude (m)',\n",
              "       'latitude', 'longitude', 'latitude_idx', 'longitude_idx', 'month_cos',\n",
              "       ...\n",
              "       '3D_Arpege_isobar_600hpa_VerticalVelocity (Pa/s)',\n",
              "       '3D_Arpege_isobar_600hpa_Geopotential (m^2/s^2)',\n",
              "       '3D_Arpege_isobar_500hpa_Temperature (K)',\n",
              "       '3D_Arpege_isobar_500hpa_RelavtiveHumidity (%)',\n",
              "       '3D_Arpege_isobar_500hpa_WindSpeed (m/s)',\n",
              "       '3D_Arpege_isobar_500hpa_WindDirection (deg)',\n",
              "       '3D_Arpege_isobar_500hpa_WindComponentU (m/s)',\n",
              "       '3D_Arpege_isobar_500hpa_WindComponentV (m/s)',\n",
              "       '3D_Arpege_isobar_500hpa_VerticalVelocity (Pa/s)',\n",
              "       '3D_Arpege_isobar_500hpa_Geopotential (m^2/s^2)'],\n",
              "      dtype='object', length=107)"
            ]
          },
          "metadata": {},
          "execution_count": 17
        }
      ]
    },
    {
      "cell_type": "code",
      "source": [
        "X_cluster1_test = test_set[X_cluster1.columns]\n",
        "X_cluster2_test = test_set[X_cluster2.columns]\n",
        "\n",
        "X_cluster1_test = pd.DataFrame(StandardScaler().fit_transform(X_cluster1_test), columns=X_cluster1_test.columns)\n",
        "X_cluster2_test = pd.DataFrame(StandardScaler().fit_transform(X_cluster2_test), columns=X_cluster2_test.columns)\n",
        "y_pred_cluster1_test = model_cluster1.predict(X_cluster1_test)\n",
        "y_pred_cluster2_test = model_cluster2.predict(X_cluster2_test) \n",
        "\n"
      ],
      "metadata": {
        "id": "o79IJiE-bsDG"
      },
      "execution_count": 20,
      "outputs": []
    },
    {
      "cell_type": "code",
      "source": [
        "month1_pd = pd.DataFrame(month1, columns=['Id']).reset_index()\n",
        "month2_pd = pd.DataFrame(month2, columns=['Id']).reset_index()\n",
        "\n",
        "display(type(month1))\n",
        "display(month1_pd)\n",
        "\n",
        "y_pred_cluster1_test_pd =  pd.DataFrame(y_pred_cluster1_test, columns=['Prediction']).reset_index()\n",
        "y_pred_cluster2_test_pd =  pd.DataFrame(y_pred_cluster2_test, columns=['Prediction']).reset_index()\n",
        "\n",
        "y_set_1 = pd.concat([month1_pd, y_pred_cluster1_test_pd], axis=1)\n",
        "print(len(y_set_1))\n",
        "y_set_1.drop([\"index\"], axis=1, inplace=True)\n",
        "y_set_2 = pd.concat([month2_pd, y_pred_cluster2_test_pd], axis=1)\n",
        "y_set_2.drop([\"index\"], axis=1, inplace=True)\n",
        "print(len(y_set_2))\n",
        "pred_merged = y_set_1.append(y_set_2, ignore_index = True)\n",
        "# print(len(y_set_1))\n",
        "df = pred_merged.groupby(\"Id\").agg({\"Prediction\": pd.Series.sum})\n",
        "\n",
        "# display(test)\n",
        "baseline = pd.read_csv(\"/gdrive/MyDrive/Baseline_observation_test.csv\")\n",
        "\n",
        "print(\"Remove Ids not in Baseline.\")\n",
        "submission = baseline.drop(\"Prediction\",axis=1).merge(df, how=\"left\", on=\"Id\")\n",
        "\n",
        "print(f\"\\nSum of NaNs :\\n\\n{submission.isna().sum()}\\n\\n\")\n",
        "if submission[\"Prediction\"].isna().sum() > 0:\n",
        "  print(\"fill nans with average.\")\n",
        "  submission[\"Prediction\"].fillna(submission[\"Prediction\"].mean(), inplace=True)\n",
        "\n",
        "if len(submission) != 85140:\n",
        "  print(\"Warning : len(df) != len(Baseline) i.e. {} != {}\".format(len(submission), 183498))\n",
        "\n",
        "display(submission)\n",
        "print(submission.describe())\n",
        "submission.to_csv('/gdrive/MyDrive/MLDM-Prediction/3Cluster_BIGfinal_xgboost_data_normalisee_Bigdata.csv', index=False)"
      ],
      "metadata": {
        "id": "PpsgIn3khA0r"
      },
      "execution_count": null,
      "outputs": []
    },
    {
      "cell_type": "code",
      "source": [
        "display(submission)\n",
        "print(submission['Prediction'].describe())"
      ],
      "metadata": {
        "colab": {
          "base_uri": "https://localhost:8080/",
          "height": 580
        },
        "id": "-W19av7H4D75",
        "outputId": "07d58dbc-1249-4eb8-eaaa-6f64c5dbe876"
      },
      "execution_count": 25,
      "outputs": [
        {
          "output_type": "display_data",
          "data": {
            "text/html": [
              "\n",
              "  <div id=\"df-83c9c303-745a-42ff-b312-8891ad7a9c39\">\n",
              "    <div class=\"colab-df-container\">\n",
              "      <div>\n",
              "<style scoped>\n",
              "    .dataframe tbody tr th:only-of-type {\n",
              "        vertical-align: middle;\n",
              "    }\n",
              "\n",
              "    .dataframe tbody tr th {\n",
              "        vertical-align: top;\n",
              "    }\n",
              "\n",
              "    .dataframe thead th {\n",
              "        text-align: right;\n",
              "    }\n",
              "</style>\n",
              "<table border=\"1\" class=\"dataframe\">\n",
              "  <thead>\n",
              "    <tr style=\"text-align: right;\">\n",
              "      <th></th>\n",
              "      <th>Id</th>\n",
              "      <th>Prediction</th>\n",
              "    </tr>\n",
              "  </thead>\n",
              "  <tbody>\n",
              "    <tr>\n",
              "      <th>0</th>\n",
              "      <td>14066001_149</td>\n",
              "      <td>3.686337</td>\n",
              "    </tr>\n",
              "    <tr>\n",
              "      <th>1</th>\n",
              "      <td>14126001_149</td>\n",
              "      <td>26.523808</td>\n",
              "    </tr>\n",
              "    <tr>\n",
              "      <th>2</th>\n",
              "      <td>14137001_149</td>\n",
              "      <td>7.938559</td>\n",
              "    </tr>\n",
              "    <tr>\n",
              "      <th>3</th>\n",
              "      <td>14216001_149</td>\n",
              "      <td>18.288322</td>\n",
              "    </tr>\n",
              "    <tr>\n",
              "      <th>4</th>\n",
              "      <td>14296001_149</td>\n",
              "      <td>2.363312</td>\n",
              "    </tr>\n",
              "    <tr>\n",
              "      <th>...</th>\n",
              "      <td>...</td>\n",
              "      <td>...</td>\n",
              "    </tr>\n",
              "    <tr>\n",
              "      <th>85135</th>\n",
              "      <td>86137003_293</td>\n",
              "      <td>3.248469</td>\n",
              "    </tr>\n",
              "    <tr>\n",
              "      <th>85136</th>\n",
              "      <td>86165005_293</td>\n",
              "      <td>2.456892</td>\n",
              "    </tr>\n",
              "    <tr>\n",
              "      <th>85137</th>\n",
              "      <td>86273001_293</td>\n",
              "      <td>0.021253</td>\n",
              "    </tr>\n",
              "    <tr>\n",
              "      <th>85138</th>\n",
              "      <td>91200002_293</td>\n",
              "      <td>-0.392913</td>\n",
              "    </tr>\n",
              "    <tr>\n",
              "      <th>85139</th>\n",
              "      <td>95690001_293</td>\n",
              "      <td>5.540813</td>\n",
              "    </tr>\n",
              "  </tbody>\n",
              "</table>\n",
              "<p>85140 rows × 2 columns</p>\n",
              "</div>\n",
              "      <button class=\"colab-df-convert\" onclick=\"convertToInteractive('df-83c9c303-745a-42ff-b312-8891ad7a9c39')\"\n",
              "              title=\"Convert this dataframe to an interactive table.\"\n",
              "              style=\"display:none;\">\n",
              "        \n",
              "  <svg xmlns=\"http://www.w3.org/2000/svg\" height=\"24px\"viewBox=\"0 0 24 24\"\n",
              "       width=\"24px\">\n",
              "    <path d=\"M0 0h24v24H0V0z\" fill=\"none\"/>\n",
              "    <path d=\"M18.56 5.44l.94 2.06.94-2.06 2.06-.94-2.06-.94-.94-2.06-.94 2.06-2.06.94zm-11 1L8.5 8.5l.94-2.06 2.06-.94-2.06-.94L8.5 2.5l-.94 2.06-2.06.94zm10 10l.94 2.06.94-2.06 2.06-.94-2.06-.94-.94-2.06-.94 2.06-2.06.94z\"/><path d=\"M17.41 7.96l-1.37-1.37c-.4-.4-.92-.59-1.43-.59-.52 0-1.04.2-1.43.59L10.3 9.45l-7.72 7.72c-.78.78-.78 2.05 0 2.83L4 21.41c.39.39.9.59 1.41.59.51 0 1.02-.2 1.41-.59l7.78-7.78 2.81-2.81c.8-.78.8-2.07 0-2.86zM5.41 20L4 18.59l7.72-7.72 1.47 1.35L5.41 20z\"/>\n",
              "  </svg>\n",
              "      </button>\n",
              "      \n",
              "  <style>\n",
              "    .colab-df-container {\n",
              "      display:flex;\n",
              "      flex-wrap:wrap;\n",
              "      gap: 12px;\n",
              "    }\n",
              "\n",
              "    .colab-df-convert {\n",
              "      background-color: #E8F0FE;\n",
              "      border: none;\n",
              "      border-radius: 50%;\n",
              "      cursor: pointer;\n",
              "      display: none;\n",
              "      fill: #1967D2;\n",
              "      height: 32px;\n",
              "      padding: 0 0 0 0;\n",
              "      width: 32px;\n",
              "    }\n",
              "\n",
              "    .colab-df-convert:hover {\n",
              "      background-color: #E2EBFA;\n",
              "      box-shadow: 0px 1px 2px rgba(60, 64, 67, 0.3), 0px 1px 3px 1px rgba(60, 64, 67, 0.15);\n",
              "      fill: #174EA6;\n",
              "    }\n",
              "\n",
              "    [theme=dark] .colab-df-convert {\n",
              "      background-color: #3B4455;\n",
              "      fill: #D2E3FC;\n",
              "    }\n",
              "\n",
              "    [theme=dark] .colab-df-convert:hover {\n",
              "      background-color: #434B5C;\n",
              "      box-shadow: 0px 1px 3px 1px rgba(0, 0, 0, 0.15);\n",
              "      filter: drop-shadow(0px 1px 2px rgba(0, 0, 0, 0.3));\n",
              "      fill: #FFFFFF;\n",
              "    }\n",
              "  </style>\n",
              "\n",
              "      <script>\n",
              "        const buttonEl =\n",
              "          document.querySelector('#df-83c9c303-745a-42ff-b312-8891ad7a9c39 button.colab-df-convert');\n",
              "        buttonEl.style.display =\n",
              "          google.colab.kernel.accessAllowed ? 'block' : 'none';\n",
              "\n",
              "        async function convertToInteractive(key) {\n",
              "          const element = document.querySelector('#df-83c9c303-745a-42ff-b312-8891ad7a9c39');\n",
              "          const dataTable =\n",
              "            await google.colab.kernel.invokeFunction('convertToInteractive',\n",
              "                                                     [key], {});\n",
              "          if (!dataTable) return;\n",
              "\n",
              "          const docLinkHtml = 'Like what you see? Visit the ' +\n",
              "            '<a target=\"_blank\" href=https://colab.research.google.com/notebooks/data_table.ipynb>data table notebook</a>'\n",
              "            + ' to learn more about interactive tables.';\n",
              "          element.innerHTML = '';\n",
              "          dataTable['output_type'] = 'display_data';\n",
              "          await google.colab.output.renderOutput(dataTable, element);\n",
              "          const docLink = document.createElement('div');\n",
              "          docLink.innerHTML = docLinkHtml;\n",
              "          element.appendChild(docLink);\n",
              "        }\n",
              "      </script>\n",
              "    </div>\n",
              "  </div>\n",
              "  "
            ],
            "text/plain": [
              "                 Id  Prediction\n",
              "0      14066001_149    3.686337\n",
              "1      14126001_149   26.523808\n",
              "2      14137001_149    7.938559\n",
              "3      14216001_149   18.288322\n",
              "4      14296001_149    2.363312\n",
              "...             ...         ...\n",
              "85135  86137003_293    3.248469\n",
              "85136  86165005_293    2.456892\n",
              "85137  86273001_293    0.021253\n",
              "85138  91200002_293   -0.392913\n",
              "85139  95690001_293    5.540813\n",
              "\n",
              "[85140 rows x 2 columns]"
            ]
          },
          "metadata": {}
        },
        {
          "output_type": "stream",
          "name": "stdout",
          "text": [
            "count    85140.000000\n",
            "mean         2.868358\n",
            "std          2.300141\n",
            "min         -0.941082\n",
            "25%          1.398938\n",
            "50%          2.654765\n",
            "75%          3.788360\n",
            "max         45.415848\n",
            "Name: Prediction, dtype: float64\n"
          ]
        }
      ]
    }
  ]
}
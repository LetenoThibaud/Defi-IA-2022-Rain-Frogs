{
 "cells": [
  {
   "cell_type": "code",
   "execution_count": 2,
   "metadata": {
    "collapsed": true
   },
   "outputs": [
    {
     "data": {
      "text/plain": "   number_sta                date    ff       t      td    hu     dd  precip  \\\n0    14066001 2016-01-01 00:00:00  3.05  279.28  277.97  91.4  200.0     0.0   \n1    14066001 2016-01-01 01:00:00  2.57  278.76  277.45  91.4  190.0     0.0   \n2    14066001 2016-01-01 02:00:00  2.26  278.27  277.02  91.7  181.0     0.0   \n3    14066001 2016-01-01 03:00:00  2.62  277.98  276.95  93.0  159.0     0.0   \n4    14066001 2016-01-01 04:00:00  2.99  277.32  276.72  95.9  171.0     0.0   \n\n             Id  \n0  14066001_0_0  \n1  14066001_0_1  \n2  14066001_0_2  \n3  14066001_0_3  \n4  14066001_0_4  ",
      "text/html": "<div>\n<style scoped>\n    .dataframe tbody tr th:only-of-type {\n        vertical-align: middle;\n    }\n\n    .dataframe tbody tr th {\n        vertical-align: top;\n    }\n\n    .dataframe thead th {\n        text-align: right;\n    }\n</style>\n<table border=\"1\" class=\"dataframe\">\n  <thead>\n    <tr style=\"text-align: right;\">\n      <th></th>\n      <th>number_sta</th>\n      <th>date</th>\n      <th>ff</th>\n      <th>t</th>\n      <th>td</th>\n      <th>hu</th>\n      <th>dd</th>\n      <th>precip</th>\n      <th>Id</th>\n    </tr>\n  </thead>\n  <tbody>\n    <tr>\n      <th>0</th>\n      <td>14066001</td>\n      <td>2016-01-01 00:00:00</td>\n      <td>3.05</td>\n      <td>279.28</td>\n      <td>277.97</td>\n      <td>91.4</td>\n      <td>200.0</td>\n      <td>0.0</td>\n      <td>14066001_0_0</td>\n    </tr>\n    <tr>\n      <th>1</th>\n      <td>14066001</td>\n      <td>2016-01-01 01:00:00</td>\n      <td>2.57</td>\n      <td>278.76</td>\n      <td>277.45</td>\n      <td>91.4</td>\n      <td>190.0</td>\n      <td>0.0</td>\n      <td>14066001_0_1</td>\n    </tr>\n    <tr>\n      <th>2</th>\n      <td>14066001</td>\n      <td>2016-01-01 02:00:00</td>\n      <td>2.26</td>\n      <td>278.27</td>\n      <td>277.02</td>\n      <td>91.7</td>\n      <td>181.0</td>\n      <td>0.0</td>\n      <td>14066001_0_2</td>\n    </tr>\n    <tr>\n      <th>3</th>\n      <td>14066001</td>\n      <td>2016-01-01 03:00:00</td>\n      <td>2.62</td>\n      <td>277.98</td>\n      <td>276.95</td>\n      <td>93.0</td>\n      <td>159.0</td>\n      <td>0.0</td>\n      <td>14066001_0_3</td>\n    </tr>\n    <tr>\n      <th>4</th>\n      <td>14066001</td>\n      <td>2016-01-01 04:00:00</td>\n      <td>2.99</td>\n      <td>277.32</td>\n      <td>276.72</td>\n      <td>95.9</td>\n      <td>171.0</td>\n      <td>0.0</td>\n      <td>14066001_0_4</td>\n    </tr>\n  </tbody>\n</table>\n</div>"
     },
     "metadata": {},
     "output_type": "display_data"
    },
    {
     "data": {
      "text/plain": "         number_sta                date     ff       t      td    hu     dd  \\\n4403495    14066001 2017-12-30 19:00:00   9.63  285.38  283.40  87.7  233.0   \n4403496    14066001 2017-12-30 20:00:00   9.80  285.70  283.16  84.6  230.0   \n4403497    14066001 2017-12-30 21:00:00  10.67  286.07  282.83  80.8  230.0   \n4403498    14066001 2017-12-30 22:00:00  10.02  286.53  283.01  79.4  230.0   \n4403499    14066001 2017-12-30 23:00:00  10.67  286.84  283.22  78.9  230.0   \n\n         precip               Id  \n4403495     0.2  14066001_729_19  \n4403496     0.0  14066001_729_20  \n4403497     0.0  14066001_729_21  \n4403498     0.0  14066001_729_22  \n4403499     0.0  14066001_729_23  ",
      "text/html": "<div>\n<style scoped>\n    .dataframe tbody tr th:only-of-type {\n        vertical-align: middle;\n    }\n\n    .dataframe tbody tr th {\n        vertical-align: top;\n    }\n\n    .dataframe thead th {\n        text-align: right;\n    }\n</style>\n<table border=\"1\" class=\"dataframe\">\n  <thead>\n    <tr style=\"text-align: right;\">\n      <th></th>\n      <th>number_sta</th>\n      <th>date</th>\n      <th>ff</th>\n      <th>t</th>\n      <th>td</th>\n      <th>hu</th>\n      <th>dd</th>\n      <th>precip</th>\n      <th>Id</th>\n    </tr>\n  </thead>\n  <tbody>\n    <tr>\n      <th>4403495</th>\n      <td>14066001</td>\n      <td>2017-12-30 19:00:00</td>\n      <td>9.63</td>\n      <td>285.38</td>\n      <td>283.40</td>\n      <td>87.7</td>\n      <td>233.0</td>\n      <td>0.2</td>\n      <td>14066001_729_19</td>\n    </tr>\n    <tr>\n      <th>4403496</th>\n      <td>14066001</td>\n      <td>2017-12-30 20:00:00</td>\n      <td>9.80</td>\n      <td>285.70</td>\n      <td>283.16</td>\n      <td>84.6</td>\n      <td>230.0</td>\n      <td>0.0</td>\n      <td>14066001_729_20</td>\n    </tr>\n    <tr>\n      <th>4403497</th>\n      <td>14066001</td>\n      <td>2017-12-30 21:00:00</td>\n      <td>10.67</td>\n      <td>286.07</td>\n      <td>282.83</td>\n      <td>80.8</td>\n      <td>230.0</td>\n      <td>0.0</td>\n      <td>14066001_729_21</td>\n    </tr>\n    <tr>\n      <th>4403498</th>\n      <td>14066001</td>\n      <td>2017-12-30 22:00:00</td>\n      <td>10.02</td>\n      <td>286.53</td>\n      <td>283.01</td>\n      <td>79.4</td>\n      <td>230.0</td>\n      <td>0.0</td>\n      <td>14066001_729_22</td>\n    </tr>\n    <tr>\n      <th>4403499</th>\n      <td>14066001</td>\n      <td>2017-12-30 23:00:00</td>\n      <td>10.67</td>\n      <td>286.84</td>\n      <td>283.22</td>\n      <td>78.9</td>\n      <td>230.0</td>\n      <td>0.0</td>\n      <td>14066001_729_23</td>\n    </tr>\n  </tbody>\n</table>\n</div>"
     },
     "metadata": {},
     "output_type": "display_data"
    },
    {
     "ename": "ValueError",
     "evalue": "This function does not handle missing values",
     "output_type": "error",
     "traceback": [
      "\u001B[1;31m---------------------------------------------------------------------------\u001B[0m",
      "\u001B[1;31mValueError\u001B[0m                                Traceback (most recent call last)",
      "\u001B[1;32m~\\AppData\\Local\\Temp/ipykernel_4660/1329000690.py\u001B[0m in \u001B[0;36m<module>\u001B[1;34m\u001B[0m\n\u001B[0;32m     16\u001B[0m \u001B[0mdata_precip\u001B[0m \u001B[1;33m=\u001B[0m \u001B[0md_sub_station\u001B[0m\u001B[1;33m[\u001B[0m\u001B[1;34m'precip'\u001B[0m\u001B[1;33m]\u001B[0m\u001B[1;33m\u001B[0m\u001B[1;33m\u001B[0m\u001B[0m\n\u001B[0;32m     17\u001B[0m \u001B[1;33m\u001B[0m\u001B[0m\n\u001B[1;32m---> 18\u001B[1;33m \u001B[0mdecomposition\u001B[0m \u001B[1;33m=\u001B[0m \u001B[0mseasonal_decompose\u001B[0m\u001B[1;33m(\u001B[0m\u001B[0mdata_precip\u001B[0m\u001B[1;33m,\u001B[0m \u001B[0mmodel\u001B[0m\u001B[1;33m=\u001B[0m\u001B[1;34m'multiplicative'\u001B[0m\u001B[1;33m)\u001B[0m\u001B[1;33m\u001B[0m\u001B[1;33m\u001B[0m\u001B[0m\n\u001B[0m\u001B[0;32m     19\u001B[0m \u001B[0mtrend\u001B[0m    \u001B[1;33m=\u001B[0m \u001B[0mdecomposition\u001B[0m\u001B[1;33m.\u001B[0m\u001B[0mtrend\u001B[0m\u001B[1;33m\u001B[0m\u001B[1;33m\u001B[0m\u001B[0m\n\u001B[0;32m     20\u001B[0m \u001B[0mseasonal\u001B[0m \u001B[1;33m=\u001B[0m \u001B[0mdecomposition\u001B[0m\u001B[1;33m.\u001B[0m\u001B[0mseasonal\u001B[0m\u001B[1;33m\u001B[0m\u001B[1;33m\u001B[0m\u001B[0m\n",
      "\u001B[1;32mc:\\users\\braz-\\appdata\\local\\programs\\python\\python39\\lib\\site-packages\\statsmodels\\tsa\\seasonal.py\u001B[0m in \u001B[0;36mseasonal_decompose\u001B[1;34m(x, model, filt, period, two_sided, extrapolate_trend)\u001B[0m\n\u001B[0;32m    144\u001B[0m \u001B[1;33m\u001B[0m\u001B[0m\n\u001B[0;32m    145\u001B[0m     \u001B[1;32mif\u001B[0m \u001B[1;32mnot\u001B[0m \u001B[0mnp\u001B[0m\u001B[1;33m.\u001B[0m\u001B[0mall\u001B[0m\u001B[1;33m(\u001B[0m\u001B[0mnp\u001B[0m\u001B[1;33m.\u001B[0m\u001B[0misfinite\u001B[0m\u001B[1;33m(\u001B[0m\u001B[0mx\u001B[0m\u001B[1;33m)\u001B[0m\u001B[1;33m)\u001B[0m\u001B[1;33m:\u001B[0m\u001B[1;33m\u001B[0m\u001B[1;33m\u001B[0m\u001B[0m\n\u001B[1;32m--> 146\u001B[1;33m         \u001B[1;32mraise\u001B[0m \u001B[0mValueError\u001B[0m\u001B[1;33m(\u001B[0m\u001B[1;34m\"This function does not handle missing values\"\u001B[0m\u001B[1;33m)\u001B[0m\u001B[1;33m\u001B[0m\u001B[1;33m\u001B[0m\u001B[0m\n\u001B[0m\u001B[0;32m    147\u001B[0m     \u001B[1;32mif\u001B[0m \u001B[0mmodel\u001B[0m\u001B[1;33m.\u001B[0m\u001B[0mstartswith\u001B[0m\u001B[1;33m(\u001B[0m\u001B[1;34m\"m\"\u001B[0m\u001B[1;33m)\u001B[0m\u001B[1;33m:\u001B[0m\u001B[1;33m\u001B[0m\u001B[1;33m\u001B[0m\u001B[0m\n\u001B[0;32m    148\u001B[0m         \u001B[1;32mif\u001B[0m \u001B[0mnp\u001B[0m\u001B[1;33m.\u001B[0m\u001B[0many\u001B[0m\u001B[1;33m(\u001B[0m\u001B[0mx\u001B[0m \u001B[1;33m<=\u001B[0m \u001B[1;36m0\u001B[0m\u001B[1;33m)\u001B[0m\u001B[1;33m:\u001B[0m\u001B[1;33m\u001B[0m\u001B[1;33m\u001B[0m\u001B[0m\n",
      "\u001B[1;31mValueError\u001B[0m: This function does not handle missing values"
     ]
    }
   ],
   "source": [
    "from statsmodels.tsa.seasonal import seasonal_decompose\n",
    "import pandas as pd\n",
    "import numpy as np\n",
    "import matplotlib.pyplot as plt\n",
    "from IPython.display import display\n",
    "\n",
    "#import data\n",
    "\n",
    "fname = '../Train/Train/X_station_train.csv'\n",
    "df = pd.read_csv(fname,parse_dates=['date'],infer_datetime_format=True)\n",
    "d_sub_station = df[df['number_sta'] == 14066001 ]\n",
    "#preview of time data for 1 station\n",
    "display(d_sub_station.head())\n",
    "display(d_sub_station.tail())"
   ]
  },
  {
   "cell_type": "markdown",
   "source": [
    "Process data to handle rows with missing values"
   ],
   "metadata": {
    "collapsed": false
   }
  },
  {
   "cell_type": "code",
   "execution_count": null,
   "outputs": [],
   "source": [
    "data_precip = d_sub_station['precip']\n",
    "\n",
    "#\n",
    "# decomposition = seasonal_decompose(data_precip, model='multiplicative')\n",
    "# trend    = decomposition.trend\n",
    "# seasonal = decomposition.seasonal\n",
    "# residual = decomposition.resid"
   ],
   "metadata": {
    "collapsed": false,
    "pycharm": {
     "name": "#%%\n"
    }
   }
  }
 ],
 "metadata": {
  "kernelspec": {
   "display_name": "Python 3",
   "language": "python",
   "name": "python3"
  },
  "language_info": {
   "codemirror_mode": {
    "name": "ipython",
    "version": 2
   },
   "file_extension": ".py",
   "mimetype": "text/x-python",
   "name": "python",
   "nbconvert_exporter": "python",
   "pygments_lexer": "ipython2",
   "version": "2.7.6"
  }
 },
 "nbformat": 4,
 "nbformat_minor": 0
}
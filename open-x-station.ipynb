{
 "cells": [
  {
   "cell_type": "markdown",
   "id": "4047acf0",
   "metadata": {
    "papermill": {
     "duration": 0.013178,
     "end_time": "2021-09-28T10:01:28.722238",
     "exception": false,
     "start_time": "2021-09-28T10:01:28.709060",
     "status": "completed"
    },
    "tags": []
   },
   "source": [
    "\n",
    "# Ground station observations (X_station)\n",
    "\n",
    "This notebook will help you explore the ground station observations. Hundreds of observation stations are built throughout the French territory and fitted with several weather sensors (temperature, wind...). \n",
    "Each parameter is measured every 1 hour and each file contains data for the geographical area 'NW' for North-West of France.  \n",
    "\n",
    "For more information about data, cf [documentation](https://meteofrance.github.io/meteonet/english/data/ground-observations/).\n",
    "\n",
    "## Data overview\n",
    "\n",
    "### Metadata parameters\n",
    "\n",
    "* **number_sta** : ground station number\n",
    "\n",
    "The date parameter is a datetime object with the format 'YYYY-MM-DD HH:mm:ss'.\n",
    "\n",
    "### Meteorological parameters\n",
    "\n",
    "* **dd** : wind direction in degrees\n",
    "\n",
    "* **ff** : wind speed in m.s<sup>-1</sup>\n",
    "\n",
    "* **precip** : precipitation during the reporting period in kg.m<sup>2</sup>\n",
    "\n",
    "* **hu** : humidity in %\n",
    "\n",
    "* **td** : dew point temperature** in Kelvin\n",
    "\n",
    "* **t** : temperature in Kelvin\n",
    "\n",
    "** : temperature for which it is needed to refresh an air volume at constant pressure and humidity to become it saturated (i.e. condensation temperature)"
   ]
  },
  {
   "cell_type": "markdown",
   "id": "d45ebde7",
   "metadata": {
    "papermill": {
     "duration": 0.012312,
     "end_time": "2021-09-28T10:01:28.748720",
     "exception": false,
     "start_time": "2021-09-28T10:01:28.736408",
     "status": "completed"
    },
    "tags": []
   },
   "source": [
    "# Note\n",
    "\n",
    "<font size=\"4.5\">To use <span style=\"color:blue\">**Cartopy**</span>, a library to plot data with basemaps (see cells below), it is necessary to <span style=\"color:red\">activate the internet connection</span> of that notebook (in edit mode, you can find on the right column, in the *Settings* section, a row entitled *Internet*, put the slider bar on **on**).  </font>\n",
    "\n",
    "<font size=\"4.5\">If it does not still work, check you use the latest environment (in the *Settings* section, click on **Preferences**). </font>"
   ]
  },
  {
   "cell_type": "code",
   "execution_count": 1,
   "id": "b68799c6",
   "metadata": {
    "execution": {
     "iopub.execute_input": "2021-09-28T10:01:28.778855Z",
     "iopub.status.busy": "2021-09-28T10:01:28.777024Z",
     "iopub.status.idle": "2021-09-28T10:01:28.789729Z",
     "shell.execute_reply": "2021-09-28T10:01:28.788952Z"
    },
    "papermill": {
     "duration": 0.029116,
     "end_time": "2021-09-28T10:01:28.789893",
     "exception": false,
     "start_time": "2021-09-28T10:01:28.760777",
     "status": "completed"
    },
    "tags": []
   },
   "outputs": [],
   "source": [
    "import pandas as pd\n",
    "import numpy as np\n",
    "import matplotlib.pyplot as plt"
   ]
  },
  {
   "cell_type": "code",
   "execution_count": 2,
   "id": "6ca246cc",
   "metadata": {
    "execution": {
     "iopub.execute_input": "2021-09-28T10:01:28.818213Z",
     "iopub.status.busy": "2021-09-28T10:01:28.817521Z",
     "iopub.status.idle": "2021-09-28T10:01:28.856562Z",
     "shell.execute_reply": "2021-09-28T10:01:28.857058Z"
    },
    "papermill": {
     "duration": 0.055014,
     "end_time": "2021-09-28T10:01:28.857253",
     "exception": false,
     "start_time": "2021-09-28T10:01:28.802239",
     "status": "completed"
    },
    "tags": []
   },
   "outputs": [
    {
     "ename": "TypeError",
     "evalue": "%d format: a number is required, not DataFrame",
     "output_type": "error",
     "traceback": [
      "\u001B[0;31m---------------------------------------------------------------------------\u001B[0m",
      "\u001B[0;31mTypeError\u001B[0m                                 Traceback (most recent call last)",
      "\u001B[0;32m/tmp/ipykernel_68871/2896781302.py\u001B[0m in \u001B[0;36m<module>\u001B[0;34m\u001B[0m\n\u001B[1;32m      5\u001B[0m \u001B[0mcoords_fname\u001B[0m  \u001B[0;34m=\u001B[0m \u001B[0;34m'../Other/Other/stations_coordinates.csv'\u001B[0m\u001B[0;34m\u001B[0m\u001B[0;34m\u001B[0m\u001B[0m\n\u001B[1;32m      6\u001B[0m \u001B[0mcoords\u001B[0m \u001B[0;34m=\u001B[0m \u001B[0mpd\u001B[0m\u001B[0;34m.\u001B[0m\u001B[0mread_csv\u001B[0m\u001B[0;34m(\u001B[0m\u001B[0mcoords_fname\u001B[0m\u001B[0;34m)\u001B[0m\u001B[0;34m\u001B[0m\u001B[0;34m\u001B[0m\u001B[0m\n\u001B[0;32m----> 7\u001B[0;31m \u001B[0mdisplay\u001B[0m\u001B[0;34m(\u001B[0m\u001B[0mcoords\u001B[0m\u001B[0;34m)\u001B[0m\u001B[0;34m\u001B[0m\u001B[0;34m\u001B[0m\u001B[0m\n\u001B[0m",
      "\u001B[0;32m~/.local/lib/python3.8/site-packages/tensorboard/notebook.py\u001B[0m in \u001B[0;36mdisplay\u001B[0;34m(port, height)\u001B[0m\n\u001B[1;32m    256\u001B[0m         \u001B[0;34m(\u001B[0m\u001B[0mcurrently\u001B[0m \u001B[0;36m800\u001B[0m\u001B[0;34m)\u001B[0m\u001B[0;34m.\u001B[0m\u001B[0;34m\u001B[0m\u001B[0;34m\u001B[0m\u001B[0m\n\u001B[1;32m    257\u001B[0m     \"\"\"\n\u001B[0;32m--> 258\u001B[0;31m     \u001B[0m_display\u001B[0m\u001B[0;34m(\u001B[0m\u001B[0mport\u001B[0m\u001B[0;34m=\u001B[0m\u001B[0mport\u001B[0m\u001B[0;34m,\u001B[0m \u001B[0mheight\u001B[0m\u001B[0;34m=\u001B[0m\u001B[0mheight\u001B[0m\u001B[0;34m,\u001B[0m \u001B[0mprint_message\u001B[0m\u001B[0;34m=\u001B[0m\u001B[0;32mTrue\u001B[0m\u001B[0;34m,\u001B[0m \u001B[0mdisplay_handle\u001B[0m\u001B[0;34m=\u001B[0m\u001B[0;32mNone\u001B[0m\u001B[0;34m)\u001B[0m\u001B[0;34m\u001B[0m\u001B[0;34m\u001B[0m\u001B[0m\n\u001B[0m\u001B[1;32m    259\u001B[0m \u001B[0;34m\u001B[0m\u001B[0m\n\u001B[1;32m    260\u001B[0m \u001B[0;34m\u001B[0m\u001B[0m\n",
      "\u001B[0;32m~/.local/lib/python3.8/site-packages/tensorboard/notebook.py\u001B[0m in \u001B[0;36m_display\u001B[0;34m(port, height, print_message, display_handle)\u001B[0m\n\u001B[1;32m    308\u001B[0m         \u001B[0m_CONTEXT_NONE\u001B[0m\u001B[0;34m:\u001B[0m \u001B[0m_display_cli\u001B[0m\u001B[0;34m,\u001B[0m\u001B[0;34m\u001B[0m\u001B[0;34m\u001B[0m\u001B[0m\n\u001B[1;32m    309\u001B[0m     }[_get_context()]\n\u001B[0;32m--> 310\u001B[0;31m     \u001B[0;32mreturn\u001B[0m \u001B[0mfn\u001B[0m\u001B[0;34m(\u001B[0m\u001B[0mport\u001B[0m\u001B[0;34m=\u001B[0m\u001B[0mport\u001B[0m\u001B[0;34m,\u001B[0m \u001B[0mheight\u001B[0m\u001B[0;34m=\u001B[0m\u001B[0mheight\u001B[0m\u001B[0;34m,\u001B[0m \u001B[0mdisplay_handle\u001B[0m\u001B[0;34m=\u001B[0m\u001B[0mdisplay_handle\u001B[0m\u001B[0;34m)\u001B[0m\u001B[0;34m\u001B[0m\u001B[0;34m\u001B[0m\u001B[0m\n\u001B[0m\u001B[1;32m    311\u001B[0m \u001B[0;34m\u001B[0m\u001B[0m\n\u001B[1;32m    312\u001B[0m \u001B[0;34m\u001B[0m\u001B[0m\n",
      "\u001B[0;32m~/.local/lib/python3.8/site-packages/tensorboard/notebook.py\u001B[0m in \u001B[0;36m_display_ipython\u001B[0;34m(port, height, display_handle)\u001B[0m\n\u001B[1;32m    395\u001B[0m             \u001B[0;34m(\u001B[0m\u001B[0;34m\"%JSON_ID%\"\u001B[0m\u001B[0;34m,\u001B[0m \u001B[0mjson\u001B[0m\u001B[0;34m.\u001B[0m\u001B[0mdumps\u001B[0m\u001B[0;34m(\u001B[0m\u001B[0mframe_id\u001B[0m\u001B[0;34m)\u001B[0m\u001B[0;34m)\u001B[0m\u001B[0;34m,\u001B[0m\u001B[0;34m\u001B[0m\u001B[0;34m\u001B[0m\u001B[0m\n\u001B[1;32m    396\u001B[0m             \u001B[0;34m(\u001B[0m\u001B[0;34m\"%HEIGHT%\"\u001B[0m\u001B[0;34m,\u001B[0m \u001B[0;34m\"%d\"\u001B[0m \u001B[0;34m%\u001B[0m \u001B[0mheight\u001B[0m\u001B[0;34m)\u001B[0m\u001B[0;34m,\u001B[0m\u001B[0;34m\u001B[0m\u001B[0;34m\u001B[0m\u001B[0m\n\u001B[0;32m--> 397\u001B[0;31m             \u001B[0;34m(\u001B[0m\u001B[0;34m\"%PORT%\"\u001B[0m\u001B[0;34m,\u001B[0m \u001B[0;34m\"%d\"\u001B[0m \u001B[0;34m%\u001B[0m \u001B[0mport\u001B[0m\u001B[0;34m)\u001B[0m\u001B[0;34m,\u001B[0m\u001B[0;34m\u001B[0m\u001B[0;34m\u001B[0m\u001B[0m\n\u001B[0m\u001B[1;32m    398\u001B[0m             \u001B[0;34m(\u001B[0m\u001B[0;34m\"%URL%\"\u001B[0m\u001B[0;34m,\u001B[0m \u001B[0mjson\u001B[0m\u001B[0;34m.\u001B[0m\u001B[0mdumps\u001B[0m\u001B[0;34m(\u001B[0m\u001B[0;34m\"/\"\u001B[0m\u001B[0;34m)\u001B[0m\u001B[0;34m)\u001B[0m\u001B[0;34m,\u001B[0m\u001B[0;34m\u001B[0m\u001B[0;34m\u001B[0m\u001B[0m\n\u001B[1;32m    399\u001B[0m         ]\n",
      "\u001B[0;31mTypeError\u001B[0m: %d format: a number is required, not DataFrame"
     ]
    }
   ],
   "source": [
    "from tensorboard.notebook import display\n",
    "\n",
    "#open the file with station coordinates (latitude/longitude)\n",
    "\n",
    "coords_fname  = '../Other/Other/stations_coordinates.csv'\n",
    "coords = pd.read_csv(coords_fname)\n",
    "display(coords)"
   ]
  },
  {
   "cell_type": "code",
   "execution_count": null,
   "id": "5621637d",
   "metadata": {
    "execution": {
     "iopub.execute_input": "2021-09-28T10:01:28.890175Z",
     "iopub.status.busy": "2021-09-28T10:01:28.889383Z",
     "iopub.status.idle": "2021-09-28T10:01:41.112157Z",
     "shell.execute_reply": "2021-09-28T10:01:41.111396Z",
     "shell.execute_reply.started": "2021-09-28T09:50:32.246745Z"
    },
    "papermill": {
     "duration": 12.241253,
     "end_time": "2021-09-28T10:01:41.112299",
     "exception": false,
     "start_time": "2021-09-28T10:01:28.871046",
     "status": "completed"
    },
    "tags": []
   },
   "outputs": [],
   "source": [
    "param = 'hu'\n",
    "fname = '../Train/Train/X_station_train.csv'\n",
    "df = pd.read_csv(fname,parse_dates=['date'],infer_datetime_format=True)"
   ]
  },
  {
   "cell_type": "markdown",
   "id": "f3944ead",
   "metadata": {
    "papermill": {
     "duration": 0.012737,
     "end_time": "2021-09-28T10:01:41.138328",
     "exception": false,
     "start_time": "2021-09-28T10:01:41.125591",
     "status": "completed"
    },
    "tags": []
   },
   "source": [
    "Let's have a look at the dataframe !"
   ]
  },
  {
   "cell_type": "code",
   "execution_count": null,
   "id": "267965d6",
   "metadata": {
    "execution": {
     "iopub.execute_input": "2021-09-28T10:01:41.180434Z",
     "iopub.status.busy": "2021-09-28T10:01:41.179748Z",
     "iopub.status.idle": "2021-09-28T10:01:41.195507Z",
     "shell.execute_reply": "2021-09-28T10:01:41.195953Z",
     "shell.execute_reply.started": "2021-09-28T09:50:53.582121Z"
    },
    "papermill": {
     "duration": 0.04475,
     "end_time": "2021-09-28T10:01:41.196148",
     "exception": false,
     "start_time": "2021-09-28T10:01:41.151398",
     "status": "completed"
    },
    "tags": []
   },
   "outputs": [],
   "source": [
    "display(df.head())\n",
    "display(df.tail())"
   ]
  },
  {
   "cell_type": "markdown",
   "id": "3a60b0e8",
   "metadata": {
    "papermill": {
     "duration": 0.013909,
     "end_time": "2021-09-28T10:01:41.224303",
     "exception": false,
     "start_time": "2021-09-28T10:01:41.210394",
     "status": "completed"
    },
    "tags": []
   },
   "source": [
    "## Plot a parameter for a given date \n",
    "\n",
    "Let's start by selecting a date and time and displaying a subpart of the dataframe."
   ]
  },
  {
   "cell_type": "code",
   "execution_count": null,
   "id": "c3e87a5c",
   "metadata": {
    "execution": {
     "iopub.execute_input": "2021-09-28T10:01:41.261916Z",
     "iopub.status.busy": "2021-09-28T10:01:41.261273Z",
     "iopub.status.idle": "2021-09-28T10:01:41.320531Z",
     "shell.execute_reply": "2021-09-28T10:01:41.319860Z",
     "shell.execute_reply.started": "2021-09-28T09:51:04.377857Z"
    },
    "papermill": {
     "duration": 0.082157,
     "end_time": "2021-09-28T10:01:41.320670",
     "exception": false,
     "start_time": "2021-09-28T10:01:41.238513",
     "status": "completed"
    },
    "tags": []
   },
   "outputs": [],
   "source": [
    "date = '2017-01-01T06:00:00'\n",
    "d_sub = df[df['date'] == date]\n",
    "\n",
    "display(d_sub.head())\n",
    "display(d_sub.tail())"
   ]
  },
  {
   "cell_type": "code",
   "execution_count": null,
   "id": "17f68bb3",
   "metadata": {
    "execution": {
     "iopub.execute_input": "2021-09-28T10:01:41.368295Z",
     "iopub.status.busy": "2021-09-28T10:01:41.355502Z",
     "iopub.status.idle": "2021-09-28T10:01:41.395915Z",
     "shell.execute_reply": "2021-09-28T10:01:41.395254Z",
     "shell.execute_reply.started": "2021-09-28T09:51:13.137291Z"
    },
    "papermill": {
     "duration": 0.059727,
     "end_time": "2021-09-28T10:01:41.396076",
     "exception": false,
     "start_time": "2021-09-28T10:01:41.336349",
     "status": "completed"
    },
    "tags": []
   },
   "outputs": [],
   "source": [
    "#get the station coordinates for the selected date\n",
    "d_sub = d_sub.merge(coords, on=['number_sta'], how='left')\n",
    "d_sub"
   ]
  },
  {
   "cell_type": "markdown",
   "id": "0cc4cc82",
   "metadata": {
    "papermill": {
     "duration": 0.015808,
     "end_time": "2021-09-28T10:01:41.429348",
     "exception": false,
     "start_time": "2021-09-28T10:01:41.413540",
     "status": "completed"
    },
    "tags": []
   },
   "source": [
    "Now, let's plot the data !"
   ]
  },
  {
   "cell_type": "markdown",
   "id": "1f4ddd5f",
   "metadata": {
    "papermill": {
     "duration": 0.015788,
     "end_time": "2021-09-28T10:01:41.461260",
     "exception": false,
     "start_time": "2021-09-28T10:01:41.445472",
     "status": "completed"
    },
    "tags": []
   },
   "source": [
    "### Simple scatter plot"
   ]
  },
  {
   "cell_type": "code",
   "execution_count": null,
   "id": "447d208e",
   "metadata": {
    "execution": {
     "iopub.execute_input": "2021-09-28T10:01:41.515413Z",
     "iopub.status.busy": "2021-09-28T10:01:41.514331Z",
     "iopub.status.idle": "2021-09-28T10:01:41.731660Z",
     "shell.execute_reply": "2021-09-28T10:01:41.731095Z",
     "shell.execute_reply.started": "2021-09-28T09:51:21.38973Z"
    },
    "papermill": {
     "duration": 0.254496,
     "end_time": "2021-09-28T10:01:41.731819",
     "exception": false,
     "start_time": "2021-09-28T10:01:41.477323",
     "status": "completed"
    },
    "tags": []
   },
   "outputs": [],
   "source": [
    "plt.scatter(d_sub['lon'], d_sub['lat'], c=d_sub[param], cmap='jet')\n",
    "plt.show()"
   ]
  },
  {
   "cell_type": "markdown",
   "id": "972d2bca",
   "metadata": {
    "papermill": {
     "duration": 0.017691,
     "end_time": "2021-09-28T10:01:41.768123",
     "exception": false,
     "start_time": "2021-09-28T10:01:41.750432",
     "status": "completed"
    },
    "tags": []
   },
   "source": [
    "### Plot with Cartopy"
   ]
  },
  {
   "cell_type": "code",
   "execution_count": null,
   "id": "42296fe0",
   "metadata": {
    "execution": {
     "iopub.execute_input": "2021-09-28T10:01:41.808868Z",
     "iopub.status.busy": "2021-09-28T10:01:41.807953Z",
     "iopub.status.idle": "2021-09-28T10:01:42.295497Z",
     "shell.execute_reply": "2021-09-28T10:01:42.294904Z",
     "shell.execute_reply.started": "2021-09-28T09:51:23.921958Z"
    },
    "papermill": {
     "duration": 0.509707,
     "end_time": "2021-09-28T10:01:42.295652",
     "exception": false,
     "start_time": "2021-09-28T10:01:41.785945",
     "status": "completed"
    },
    "tags": []
   },
   "outputs": [],
   "source": [
    "import cartopy.crs as ccrs\n",
    "import cartopy.feature as cfeature"
   ]
  },
  {
   "cell_type": "code",
   "execution_count": null,
   "id": "416487cf",
   "metadata": {
    "execution": {
     "iopub.execute_input": "2021-09-28T10:01:42.342029Z",
     "iopub.status.busy": "2021-09-28T10:01:42.341248Z",
     "iopub.status.idle": "2021-09-28T10:01:46.163261Z",
     "shell.execute_reply": "2021-09-28T10:01:46.162727Z",
     "shell.execute_reply.started": "2021-09-28T09:51:25.868869Z"
    },
    "papermill": {
     "duration": 3.849785,
     "end_time": "2021-09-28T10:01:46.163419",
     "exception": false,
     "start_time": "2021-09-28T10:01:42.313634",
     "status": "completed"
    },
    "tags": []
   },
   "outputs": [],
   "source": [
    "# Coordinates of studied area boundaries (in °N and °E)\n",
    "lllat = 46.25  #lower left latitude\n",
    "urlat = 51.896  #upper right latitude\n",
    "lllon = -5.842  #lower left longitude\n",
    "urlon = 2  #upper right longitude\n",
    "extent = [lllon, urlon, lllat, urlat]\n",
    "\n",
    "fig = plt.figure(figsize=(9,5))\n",
    "\n",
    "# Select projection\n",
    "ax = plt.axes(projection=ccrs.PlateCarree())\n",
    "\n",
    "# Plot the data\n",
    "plt.scatter(d_sub['lon'], d_sub['lat'], c=d_sub[param], cmap='jet')  # Plot\n",
    "\n",
    "# Add coastlines and borders\n",
    "ax.coastlines(resolution='50m', linewidth=1)\n",
    "ax.add_feature(cfeature.BORDERS.with_scale('50m'))\n",
    "\n",
    "# Adjust the plot to the area we defined \n",
    "#/!\\# this line causes a bug of the kaggle notebook and clears all the memory. That is why this line is commented and so\n",
    "# the plot is not completely adjusted to the data\n",
    "# Show only the area we defined\n",
    "#ax.set_extent(extent)\n",
    "\n",
    "plt.show()"
   ]
  },
  {
   "cell_type": "code",
   "execution_count": null,
   "id": "4a76c729",
   "metadata": {
    "papermill": {
     "duration": 0.019948,
     "end_time": "2021-09-28T10:01:46.203880",
     "exception": false,
     "start_time": "2021-09-28T10:01:46.183932",
     "status": "completed"
    },
    "tags": []
   },
   "outputs": [],
   "source": []
  }
 ],
 "metadata": {
  "kernelspec": {
   "display_name": "Python 3",
   "language": "python",
   "name": "python3"
  },
  "language_info": {
   "codemirror_mode": {
    "name": "ipython",
    "version": 3
   },
   "file_extension": ".py",
   "mimetype": "text/x-python",
   "name": "python",
   "nbconvert_exporter": "python",
   "pygments_lexer": "ipython3",
   "version": "3.7.10"
  },
  "papermill": {
   "default_parameters": {},
   "duration": 27.785826,
   "end_time": "2021-09-28T10:01:47.983643",
   "environment_variables": {},
   "exception": null,
   "input_path": "__notebook__.ipynb",
   "output_path": "__notebook__.ipynb",
   "parameters": {},
   "start_time": "2021-09-28T10:01:20.197817",
   "version": "2.3.3"
  }
 },
 "nbformat": 4,
 "nbformat_minor": 5
}
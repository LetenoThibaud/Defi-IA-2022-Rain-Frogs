{
 "cells": [
  {
   "cell_type": "code",
   "execution_count": 1,
   "metadata": {
    "collapsed": true
   },
   "outputs": [],
   "source": [
    "import pandas as pd\n",
    "from sklearn.linear_model import LinearRegression\n",
    "from sklearn.preprocessing import PolynomialFeatures\n",
    "from datetime import date\n",
    "import re\n",
    "import numpy as np\n",
    "import warnings\n",
    "\n",
    "warnings.filterwarnings(\"ignore\")"
   ]
  },
  {
   "cell_type": "code",
   "execution_count": 2,
   "outputs": [],
   "source": [
    "# get the Data\n",
    "def get_data(path, displ=False):\n",
    "    ## import data\n",
    "    df = pd.read_csv(path, parse_dates=['date'], infer_datetime_format=True)\n",
    "\n",
    "    # sort data\n",
    "    df = df.sort_values(by=[\"number_sta\", \"date\"])\n",
    "\n",
    "    # set number_sta as category\n",
    "    df[\"number_sta\"] = df[\"number_sta\"].astype(\"category\")\n",
    "    if displ:\n",
    "        display(\"df :\", df.head())\n",
    "\n",
    "    return df"
   ],
   "metadata": {
    "collapsed": false,
    "pycharm": {
     "name": "#%%\n"
    }
   }
  },
  {
   "cell_type": "code",
   "execution_count": 3,
   "outputs": [],
   "source": [
    "def get_observations(x, displ=False):\n",
    "    ## shift X\n",
    "    #get the observation baseline\n",
    "    obs = x[{\"number_sta\", \"date\", \"precip\"}]\n",
    "    # obs.set_index('date', inplace=True)\n",
    "\n",
    "    #if any NaN on the day, then the value is NaN (24 values per day)\n",
    "    # obs = obs.groupby('number_sta').resample('D')#.agg(pd.Series.sum, min_count = 24)\n",
    "    obs['date'] = obs['date'].astype('category')\n",
    "    obs['number_sta'] = obs['number_sta'].astype('category')\n",
    "    obs['baseline_obs'] = obs.groupby(['number_sta'])['precip'].shift(1)\n",
    "\n",
    "    obs = obs.sort_values(by=[\"number_sta\", \"date\"])\n",
    "    del obs['precip']\n",
    "    obs = obs.rename(columns={'baseline_obs': 'precip'})\n",
    "    # obs_new = obs.reset_index()\n",
    "\n",
    "    if displ:\n",
    "        display(obs)\n",
    "\n",
    "    return obs"
   ],
   "metadata": {
    "collapsed": false,
    "pycharm": {
     "name": "#%%\n"
    }
   }
  },
  {
   "cell_type": "code",
   "execution_count": 4,
   "outputs": [],
   "source": [
    "def clean_data(df, to_be_droped=[\"Id\"], remove_na=False, displ=False):\n",
    "    \"\"\"\n",
    "    Resolve NaN values, Remove unexplotable features.\n",
    "    : return : df : DataFrames, no NaN\n",
    "    \"\"\"\n",
    "    # remove nan, id and number_sta for now\n",
    "    for key in to_be_droped:\n",
    "        try:\n",
    "            df = df.drop(key, axis=1)\n",
    "        except KeyError:\n",
    "            print(\"Warning : \", \"'\" + key + \"'\", \"not found in df's columns.\")\n",
    "\n",
    "    #remove row with all Na\n",
    "    if remove_na:\n",
    "        if type(remove_na) == str :\n",
    "            df = df.dropna(axis=0, how=remove_na)\n",
    "        else :\n",
    "            df = df.dropna(axis=0, how=\"all\")\n",
    "\n",
    "    if displ:\n",
    "        display(\"df :\", df.head(5))\n",
    "\n",
    "    return df"
   ],
   "metadata": {
    "collapsed": false,
    "pycharm": {
     "name": "#%%\n"
    }
   }
  },
  {
   "cell_type": "code",
   "execution_count": 5,
   "outputs": [],
   "source": [
    "x_df = get_data(path='../Train/Train/X_station_train.csv').dropna(how=\"any\")\n",
    "y_df = get_data(path='../Train/Train/Y_train.csv')"
   ],
   "metadata": {
    "collapsed": false,
    "pycharm": {
     "name": "#%%\n"
    }
   }
  },
  {
   "cell_type": "code",
   "execution_count": 6,
   "outputs": [],
   "source": [
    "obs = get_observations(x_df)"
   ],
   "metadata": {
    "collapsed": false,
    "pycharm": {
     "name": "#%%\n"
    }
   }
  },
  {
   "cell_type": "code",
   "execution_count": 7,
   "outputs": [
    {
     "data": {
      "text/plain": "        number_sta                date    ff       t      td    hu     dd  \\\n0         14066001 2016-01-01 00:00:00  3.05  279.28  277.97  91.4  200.0   \n1         14066001 2016-01-01 01:00:00  2.57  278.76  277.45  91.4  190.0   \n2         14066001 2016-01-01 02:00:00  2.26  278.27  277.02  91.7  181.0   \n3         14066001 2016-01-01 03:00:00  2.62  277.98  276.95  93.0  159.0   \n4         14066001 2016-01-01 04:00:00  2.99  277.32  276.72  95.9  171.0   \n...            ...                 ...   ...     ...     ...   ...    ...   \n4409469   95690001 2017-12-30 19:00:00  9.10  286.68  283.44  80.8  239.0   \n4409470   95690001 2017-12-30 20:00:00  8.58  286.39  283.21  81.1  231.0   \n4409471   95690001 2017-12-30 21:00:00  8.74  286.28  283.40  82.6  226.0   \n4409472   95690001 2017-12-30 22:00:00  9.04  286.21  283.29  82.4  224.0   \n4409473   95690001 2017-12-30 23:00:00  9.11  285.92  282.42  79.4  221.0   \n\n         precip  \n0           0.0  \n1           0.0  \n2           0.0  \n3           0.0  \n4           0.0  \n...         ...  \n4409469     0.0  \n4409470     0.0  \n4409471     0.0  \n4409472     0.0  \n4409473     0.0  \n\n[2264105 rows x 8 columns]",
      "text/html": "<div>\n<style scoped>\n    .dataframe tbody tr th:only-of-type {\n        vertical-align: middle;\n    }\n\n    .dataframe tbody tr th {\n        vertical-align: top;\n    }\n\n    .dataframe thead th {\n        text-align: right;\n    }\n</style>\n<table border=\"1\" class=\"dataframe\">\n  <thead>\n    <tr style=\"text-align: right;\">\n      <th></th>\n      <th>number_sta</th>\n      <th>date</th>\n      <th>ff</th>\n      <th>t</th>\n      <th>td</th>\n      <th>hu</th>\n      <th>dd</th>\n      <th>precip</th>\n    </tr>\n  </thead>\n  <tbody>\n    <tr>\n      <th>0</th>\n      <td>14066001</td>\n      <td>2016-01-01 00:00:00</td>\n      <td>3.05</td>\n      <td>279.28</td>\n      <td>277.97</td>\n      <td>91.4</td>\n      <td>200.0</td>\n      <td>0.0</td>\n    </tr>\n    <tr>\n      <th>1</th>\n      <td>14066001</td>\n      <td>2016-01-01 01:00:00</td>\n      <td>2.57</td>\n      <td>278.76</td>\n      <td>277.45</td>\n      <td>91.4</td>\n      <td>190.0</td>\n      <td>0.0</td>\n    </tr>\n    <tr>\n      <th>2</th>\n      <td>14066001</td>\n      <td>2016-01-01 02:00:00</td>\n      <td>2.26</td>\n      <td>278.27</td>\n      <td>277.02</td>\n      <td>91.7</td>\n      <td>181.0</td>\n      <td>0.0</td>\n    </tr>\n    <tr>\n      <th>3</th>\n      <td>14066001</td>\n      <td>2016-01-01 03:00:00</td>\n      <td>2.62</td>\n      <td>277.98</td>\n      <td>276.95</td>\n      <td>93.0</td>\n      <td>159.0</td>\n      <td>0.0</td>\n    </tr>\n    <tr>\n      <th>4</th>\n      <td>14066001</td>\n      <td>2016-01-01 04:00:00</td>\n      <td>2.99</td>\n      <td>277.32</td>\n      <td>276.72</td>\n      <td>95.9</td>\n      <td>171.0</td>\n      <td>0.0</td>\n    </tr>\n    <tr>\n      <th>...</th>\n      <td>...</td>\n      <td>...</td>\n      <td>...</td>\n      <td>...</td>\n      <td>...</td>\n      <td>...</td>\n      <td>...</td>\n      <td>...</td>\n    </tr>\n    <tr>\n      <th>4409469</th>\n      <td>95690001</td>\n      <td>2017-12-30 19:00:00</td>\n      <td>9.10</td>\n      <td>286.68</td>\n      <td>283.44</td>\n      <td>80.8</td>\n      <td>239.0</td>\n      <td>0.0</td>\n    </tr>\n    <tr>\n      <th>4409470</th>\n      <td>95690001</td>\n      <td>2017-12-30 20:00:00</td>\n      <td>8.58</td>\n      <td>286.39</td>\n      <td>283.21</td>\n      <td>81.1</td>\n      <td>231.0</td>\n      <td>0.0</td>\n    </tr>\n    <tr>\n      <th>4409471</th>\n      <td>95690001</td>\n      <td>2017-12-30 21:00:00</td>\n      <td>8.74</td>\n      <td>286.28</td>\n      <td>283.40</td>\n      <td>82.6</td>\n      <td>226.0</td>\n      <td>0.0</td>\n    </tr>\n    <tr>\n      <th>4409472</th>\n      <td>95690001</td>\n      <td>2017-12-30 22:00:00</td>\n      <td>9.04</td>\n      <td>286.21</td>\n      <td>283.29</td>\n      <td>82.4</td>\n      <td>224.0</td>\n      <td>0.0</td>\n    </tr>\n    <tr>\n      <th>4409473</th>\n      <td>95690001</td>\n      <td>2017-12-30 23:00:00</td>\n      <td>9.11</td>\n      <td>285.92</td>\n      <td>282.42</td>\n      <td>79.4</td>\n      <td>221.0</td>\n      <td>0.0</td>\n    </tr>\n  </tbody>\n</table>\n<p>2264105 rows × 8 columns</p>\n</div>"
     },
     "metadata": {},
     "output_type": "display_data"
    }
   ],
   "source": [
    "x_clean = clean_data(x_df, [\"date\", \"Id\"])\n",
    "x_df = clean_data(x_df, [\"Id\"])\n",
    "obs_clean = clean_data(obs, [\"date\"])\n",
    "display(x_df)"
   ],
   "metadata": {
    "collapsed": false,
    "pycharm": {
     "name": "#%%\n"
    }
   }
  },
  {
   "cell_type": "code",
   "execution_count": 8,
   "outputs": [],
   "source": [
    "obs_clean.reset_index(drop=True, inplace=True)\n",
    "x_clean.reset_index(drop=True, inplace=True)\n",
    "x_df.reset_index(drop=True, inplace=True)\n",
    "na_ids = np.where(pd.isnull(obs_clean).any(1))[0]"
   ],
   "metadata": {
    "collapsed": false,
    "pycharm": {
     "name": "#%%\n"
    }
   }
  },
  {
   "cell_type": "code",
   "execution_count": 9,
   "outputs": [
    {
     "data": {
      "text/plain": "        number_sta  precip\n0         14066001     0.0\n1         14066001     0.0\n2         14066001     0.0\n3         14066001     0.0\n4         14066001     0.0\n...            ...     ...\n2263960   95690001     0.0\n2263961   95690001     0.0\n2263962   95690001     0.0\n2263963   95690001     0.0\n2263964   95690001     0.0\n\n[2263965 rows x 2 columns]",
      "text/html": "<div>\n<style scoped>\n    .dataframe tbody tr th:only-of-type {\n        vertical-align: middle;\n    }\n\n    .dataframe tbody tr th {\n        vertical-align: top;\n    }\n\n    .dataframe thead th {\n        text-align: right;\n    }\n</style>\n<table border=\"1\" class=\"dataframe\">\n  <thead>\n    <tr style=\"text-align: right;\">\n      <th></th>\n      <th>number_sta</th>\n      <th>precip</th>\n    </tr>\n  </thead>\n  <tbody>\n    <tr>\n      <th>0</th>\n      <td>14066001</td>\n      <td>0.0</td>\n    </tr>\n    <tr>\n      <th>1</th>\n      <td>14066001</td>\n      <td>0.0</td>\n    </tr>\n    <tr>\n      <th>2</th>\n      <td>14066001</td>\n      <td>0.0</td>\n    </tr>\n    <tr>\n      <th>3</th>\n      <td>14066001</td>\n      <td>0.0</td>\n    </tr>\n    <tr>\n      <th>4</th>\n      <td>14066001</td>\n      <td>0.0</td>\n    </tr>\n    <tr>\n      <th>...</th>\n      <td>...</td>\n      <td>...</td>\n    </tr>\n    <tr>\n      <th>2263960</th>\n      <td>95690001</td>\n      <td>0.0</td>\n    </tr>\n    <tr>\n      <th>2263961</th>\n      <td>95690001</td>\n      <td>0.0</td>\n    </tr>\n    <tr>\n      <th>2263962</th>\n      <td>95690001</td>\n      <td>0.0</td>\n    </tr>\n    <tr>\n      <th>2263963</th>\n      <td>95690001</td>\n      <td>0.0</td>\n    </tr>\n    <tr>\n      <th>2263964</th>\n      <td>95690001</td>\n      <td>0.0</td>\n    </tr>\n  </tbody>\n</table>\n<p>2263965 rows × 2 columns</p>\n</div>"
     },
     "metadata": {},
     "output_type": "display_data"
    },
    {
     "data": {
      "text/plain": "        number_sta    ff       t      td    hu     dd  precip\n0         14066001  2.57  278.76  277.45  91.4  190.0     0.0\n1         14066001  2.26  278.27  277.02  91.7  181.0     0.0\n2         14066001  2.62  277.98  276.95  93.0  159.0     0.0\n3         14066001  2.99  277.32  276.72  95.9  171.0     0.0\n4         14066001  2.50  277.18  276.83  97.5  164.0     0.0\n...            ...   ...     ...     ...   ...    ...     ...\n2263960   95690001  9.10  286.68  283.44  80.8  239.0     0.0\n2263961   95690001  8.58  286.39  283.21  81.1  231.0     0.0\n2263962   95690001  8.74  286.28  283.40  82.6  226.0     0.0\n2263963   95690001  9.04  286.21  283.29  82.4  224.0     0.0\n2263964   95690001  9.11  285.92  282.42  79.4  221.0     0.0\n\n[2263965 rows x 7 columns]",
      "text/html": "<div>\n<style scoped>\n    .dataframe tbody tr th:only-of-type {\n        vertical-align: middle;\n    }\n\n    .dataframe tbody tr th {\n        vertical-align: top;\n    }\n\n    .dataframe thead th {\n        text-align: right;\n    }\n</style>\n<table border=\"1\" class=\"dataframe\">\n  <thead>\n    <tr style=\"text-align: right;\">\n      <th></th>\n      <th>number_sta</th>\n      <th>ff</th>\n      <th>t</th>\n      <th>td</th>\n      <th>hu</th>\n      <th>dd</th>\n      <th>precip</th>\n    </tr>\n  </thead>\n  <tbody>\n    <tr>\n      <th>0</th>\n      <td>14066001</td>\n      <td>2.57</td>\n      <td>278.76</td>\n      <td>277.45</td>\n      <td>91.4</td>\n      <td>190.0</td>\n      <td>0.0</td>\n    </tr>\n    <tr>\n      <th>1</th>\n      <td>14066001</td>\n      <td>2.26</td>\n      <td>278.27</td>\n      <td>277.02</td>\n      <td>91.7</td>\n      <td>181.0</td>\n      <td>0.0</td>\n    </tr>\n    <tr>\n      <th>2</th>\n      <td>14066001</td>\n      <td>2.62</td>\n      <td>277.98</td>\n      <td>276.95</td>\n      <td>93.0</td>\n      <td>159.0</td>\n      <td>0.0</td>\n    </tr>\n    <tr>\n      <th>3</th>\n      <td>14066001</td>\n      <td>2.99</td>\n      <td>277.32</td>\n      <td>276.72</td>\n      <td>95.9</td>\n      <td>171.0</td>\n      <td>0.0</td>\n    </tr>\n    <tr>\n      <th>4</th>\n      <td>14066001</td>\n      <td>2.50</td>\n      <td>277.18</td>\n      <td>276.83</td>\n      <td>97.5</td>\n      <td>164.0</td>\n      <td>0.0</td>\n    </tr>\n    <tr>\n      <th>...</th>\n      <td>...</td>\n      <td>...</td>\n      <td>...</td>\n      <td>...</td>\n      <td>...</td>\n      <td>...</td>\n      <td>...</td>\n    </tr>\n    <tr>\n      <th>2263960</th>\n      <td>95690001</td>\n      <td>9.10</td>\n      <td>286.68</td>\n      <td>283.44</td>\n      <td>80.8</td>\n      <td>239.0</td>\n      <td>0.0</td>\n    </tr>\n    <tr>\n      <th>2263961</th>\n      <td>95690001</td>\n      <td>8.58</td>\n      <td>286.39</td>\n      <td>283.21</td>\n      <td>81.1</td>\n      <td>231.0</td>\n      <td>0.0</td>\n    </tr>\n    <tr>\n      <th>2263962</th>\n      <td>95690001</td>\n      <td>8.74</td>\n      <td>286.28</td>\n      <td>283.40</td>\n      <td>82.6</td>\n      <td>226.0</td>\n      <td>0.0</td>\n    </tr>\n    <tr>\n      <th>2263963</th>\n      <td>95690001</td>\n      <td>9.04</td>\n      <td>286.21</td>\n      <td>283.29</td>\n      <td>82.4</td>\n      <td>224.0</td>\n      <td>0.0</td>\n    </tr>\n    <tr>\n      <th>2263964</th>\n      <td>95690001</td>\n      <td>9.11</td>\n      <td>285.92</td>\n      <td>282.42</td>\n      <td>79.4</td>\n      <td>221.0</td>\n      <td>0.0</td>\n    </tr>\n  </tbody>\n</table>\n<p>2263965 rows × 7 columns</p>\n</div>"
     },
     "metadata": {},
     "output_type": "display_data"
    },
    {
     "data": {
      "text/plain": "        number_sta                date    ff       t      td    hu     dd  \\\n0         14066001 2016-01-01 01:00:00  2.57  278.76  277.45  91.4  190.0   \n1         14066001 2016-01-01 02:00:00  2.26  278.27  277.02  91.7  181.0   \n2         14066001 2016-01-01 03:00:00  2.62  277.98  276.95  93.0  159.0   \n3         14066001 2016-01-01 04:00:00  2.99  277.32  276.72  95.9  171.0   \n4         14066001 2016-01-01 05:00:00  2.50  277.18  276.83  97.5  164.0   \n...            ...                 ...   ...     ...     ...   ...    ...   \n2263960   95690001 2017-12-30 19:00:00  9.10  286.68  283.44  80.8  239.0   \n2263961   95690001 2017-12-30 20:00:00  8.58  286.39  283.21  81.1  231.0   \n2263962   95690001 2017-12-30 21:00:00  8.74  286.28  283.40  82.6  226.0   \n2263963   95690001 2017-12-30 22:00:00  9.04  286.21  283.29  82.4  224.0   \n2263964   95690001 2017-12-30 23:00:00  9.11  285.92  282.42  79.4  221.0   \n\n         precip  \n0           0.0  \n1           0.0  \n2           0.0  \n3           0.0  \n4           0.0  \n...         ...  \n2263960     0.0  \n2263961     0.0  \n2263962     0.0  \n2263963     0.0  \n2263964     0.0  \n\n[2263965 rows x 8 columns]",
      "text/html": "<div>\n<style scoped>\n    .dataframe tbody tr th:only-of-type {\n        vertical-align: middle;\n    }\n\n    .dataframe tbody tr th {\n        vertical-align: top;\n    }\n\n    .dataframe thead th {\n        text-align: right;\n    }\n</style>\n<table border=\"1\" class=\"dataframe\">\n  <thead>\n    <tr style=\"text-align: right;\">\n      <th></th>\n      <th>number_sta</th>\n      <th>date</th>\n      <th>ff</th>\n      <th>t</th>\n      <th>td</th>\n      <th>hu</th>\n      <th>dd</th>\n      <th>precip</th>\n    </tr>\n  </thead>\n  <tbody>\n    <tr>\n      <th>0</th>\n      <td>14066001</td>\n      <td>2016-01-01 01:00:00</td>\n      <td>2.57</td>\n      <td>278.76</td>\n      <td>277.45</td>\n      <td>91.4</td>\n      <td>190.0</td>\n      <td>0.0</td>\n    </tr>\n    <tr>\n      <th>1</th>\n      <td>14066001</td>\n      <td>2016-01-01 02:00:00</td>\n      <td>2.26</td>\n      <td>278.27</td>\n      <td>277.02</td>\n      <td>91.7</td>\n      <td>181.0</td>\n      <td>0.0</td>\n    </tr>\n    <tr>\n      <th>2</th>\n      <td>14066001</td>\n      <td>2016-01-01 03:00:00</td>\n      <td>2.62</td>\n      <td>277.98</td>\n      <td>276.95</td>\n      <td>93.0</td>\n      <td>159.0</td>\n      <td>0.0</td>\n    </tr>\n    <tr>\n      <th>3</th>\n      <td>14066001</td>\n      <td>2016-01-01 04:00:00</td>\n      <td>2.99</td>\n      <td>277.32</td>\n      <td>276.72</td>\n      <td>95.9</td>\n      <td>171.0</td>\n      <td>0.0</td>\n    </tr>\n    <tr>\n      <th>4</th>\n      <td>14066001</td>\n      <td>2016-01-01 05:00:00</td>\n      <td>2.50</td>\n      <td>277.18</td>\n      <td>276.83</td>\n      <td>97.5</td>\n      <td>164.0</td>\n      <td>0.0</td>\n    </tr>\n    <tr>\n      <th>...</th>\n      <td>...</td>\n      <td>...</td>\n      <td>...</td>\n      <td>...</td>\n      <td>...</td>\n      <td>...</td>\n      <td>...</td>\n      <td>...</td>\n    </tr>\n    <tr>\n      <th>2263960</th>\n      <td>95690001</td>\n      <td>2017-12-30 19:00:00</td>\n      <td>9.10</td>\n      <td>286.68</td>\n      <td>283.44</td>\n      <td>80.8</td>\n      <td>239.0</td>\n      <td>0.0</td>\n    </tr>\n    <tr>\n      <th>2263961</th>\n      <td>95690001</td>\n      <td>2017-12-30 20:00:00</td>\n      <td>8.58</td>\n      <td>286.39</td>\n      <td>283.21</td>\n      <td>81.1</td>\n      <td>231.0</td>\n      <td>0.0</td>\n    </tr>\n    <tr>\n      <th>2263962</th>\n      <td>95690001</td>\n      <td>2017-12-30 21:00:00</td>\n      <td>8.74</td>\n      <td>286.28</td>\n      <td>283.40</td>\n      <td>82.6</td>\n      <td>226.0</td>\n      <td>0.0</td>\n    </tr>\n    <tr>\n      <th>2263963</th>\n      <td>95690001</td>\n      <td>2017-12-30 22:00:00</td>\n      <td>9.04</td>\n      <td>286.21</td>\n      <td>283.29</td>\n      <td>82.4</td>\n      <td>224.0</td>\n      <td>0.0</td>\n    </tr>\n    <tr>\n      <th>2263964</th>\n      <td>95690001</td>\n      <td>2017-12-30 23:00:00</td>\n      <td>9.11</td>\n      <td>285.92</td>\n      <td>282.42</td>\n      <td>79.4</td>\n      <td>221.0</td>\n      <td>0.0</td>\n    </tr>\n  </tbody>\n</table>\n<p>2263965 rows × 8 columns</p>\n</div>"
     },
     "metadata": {},
     "output_type": "display_data"
    }
   ],
   "source": [
    "obs_clean.dropna(inplace=True)\n",
    "x_clean.drop(index=na_ids, inplace=True)\n",
    "x_df.drop(index=na_ids, inplace=True)\n",
    "\n",
    "obs_clean.reset_index(drop=True, inplace=True)\n",
    "x_clean.reset_index(drop=True, inplace=True)\n",
    "x_df.reset_index(drop=True, inplace=True)\n",
    "\n",
    "display(obs_clean)\n",
    "display(x_clean)\n",
    "display(x_df)"
   ],
   "metadata": {
    "collapsed": false,
    "pycharm": {
     "name": "#%%\n"
    }
   }
  },
  {
   "cell_type": "code",
   "execution_count": 10,
   "outputs": [],
   "source": [
    "# obs_clean.set_index(\"number_sta\", inplace=True)\n",
    "# obs_clean = obs_clean[\"precip\"]\n",
    "# x_clean.reset_index(drop=True, inplace=True)\n",
    "# x_clean.set_index(\"number_sta\", inplace=True)"
   ],
   "metadata": {
    "collapsed": false,
    "pycharm": {
     "name": "#%%\n"
    }
   }
  },
  {
   "cell_type": "code",
   "execution_count": 11,
   "outputs": [],
   "source": [
    "# linear regression\n",
    "lin_reg = LinearRegression()\n",
    "lin_reg.fit(x_clean, obs_clean)\n",
    "prediction = lin_reg.predict(x_clean)"
   ],
   "metadata": {
    "collapsed": false,
    "pycharm": {
     "name": "#%%\n"
    }
   }
  },
  {
   "cell_type": "code",
   "execution_count": 12,
   "outputs": [
    {
     "name": "stdout",
     "output_type": "stream",
     "text": [
      "         number_sta    precip\n",
      "0          14066001  0.062349\n",
      "1          14066001  0.057333\n",
      "2          14066001  0.067506\n",
      "3          14066001  0.089148\n",
      "4          14066001  0.088908\n",
      "...             ...       ...\n",
      "2263960    95690000  0.131871\n",
      "2263961    95690000  0.123784\n",
      "2263962    95690000  0.131579\n",
      "2263963    95690000  0.135426\n",
      "2263964    95690000  0.124015\n",
      "\n",
      "[2263965 rows x 2 columns]\n"
     ]
    }
   ],
   "source": [
    "prediction = pd.DataFrame(prediction, columns=[\"number_sta\",\"precip\"])\n",
    "prediction.iloc[:,0] = np.array(prediction.iloc[:,0],dtype=int)\n",
    "print(prediction)\n",
    "# prediction"
   ],
   "metadata": {
    "collapsed": false,
    "pycharm": {
     "name": "#%%\n"
    }
   }
  },
  {
   "cell_type": "code",
   "execution_count": 13,
   "outputs": [
    {
     "name": "stdout",
     "output_type": "stream",
     "text": [
      "         number_sta    precip                date\n",
      "0          14066001  0.062349 2016-01-01 01:00:00\n",
      "1          14066001  0.057333 2016-01-01 02:00:00\n",
      "2          14066001  0.067506 2016-01-01 03:00:00\n",
      "3          14066001  0.089148 2016-01-01 04:00:00\n",
      "4          14066001  0.088908 2016-01-01 05:00:00\n",
      "...             ...       ...                 ...\n",
      "2263960    95690000  0.131871 2017-12-30 19:00:00\n",
      "2263961    95690000  0.123784 2017-12-30 20:00:00\n",
      "2263962    95690000  0.131579 2017-12-30 21:00:00\n",
      "2263963    95690000  0.135426 2017-12-30 22:00:00\n",
      "2263964    95690000  0.124015 2017-12-30 23:00:00\n",
      "\n",
      "[2263965 rows x 3 columns]\n"
     ]
    }
   ],
   "source": [
    "prediction[\"date\"] = x_df[\"date\"]\n",
    "print(prediction)"
   ],
   "metadata": {
    "collapsed": false,
    "pycharm": {
     "name": "#%%\n"
    }
   }
  },
  {
   "cell_type": "code",
   "execution_count": 14,
   "outputs": [
    {
     "data": {
      "text/plain": "                     number_sta    precip\ndate                                     \n2016-01-01 01:00:00    14066001  0.062349\n2016-01-01 02:00:00    14066001  0.057333\n2016-01-01 03:00:00    14066001  0.067506\n2016-01-01 04:00:00    14066001  0.089148\n2016-01-01 05:00:00    14066001  0.088908\n...                         ...       ...\n2017-12-30 19:00:00    95690000  0.131871\n2017-12-30 20:00:00    95690000  0.123784\n2017-12-30 21:00:00    95690000  0.131579\n2017-12-30 22:00:00    95690000  0.135426\n2017-12-30 23:00:00    95690000  0.124015\n\n[2263965 rows x 2 columns]",
      "text/html": "<div>\n<style scoped>\n    .dataframe tbody tr th:only-of-type {\n        vertical-align: middle;\n    }\n\n    .dataframe tbody tr th {\n        vertical-align: top;\n    }\n\n    .dataframe thead th {\n        text-align: right;\n    }\n</style>\n<table border=\"1\" class=\"dataframe\">\n  <thead>\n    <tr style=\"text-align: right;\">\n      <th></th>\n      <th>number_sta</th>\n      <th>precip</th>\n    </tr>\n    <tr>\n      <th>date</th>\n      <th></th>\n      <th></th>\n    </tr>\n  </thead>\n  <tbody>\n    <tr>\n      <th>2016-01-01 01:00:00</th>\n      <td>14066001</td>\n      <td>0.062349</td>\n    </tr>\n    <tr>\n      <th>2016-01-01 02:00:00</th>\n      <td>14066001</td>\n      <td>0.057333</td>\n    </tr>\n    <tr>\n      <th>2016-01-01 03:00:00</th>\n      <td>14066001</td>\n      <td>0.067506</td>\n    </tr>\n    <tr>\n      <th>2016-01-01 04:00:00</th>\n      <td>14066001</td>\n      <td>0.089148</td>\n    </tr>\n    <tr>\n      <th>2016-01-01 05:00:00</th>\n      <td>14066001</td>\n      <td>0.088908</td>\n    </tr>\n    <tr>\n      <th>...</th>\n      <td>...</td>\n      <td>...</td>\n    </tr>\n    <tr>\n      <th>2017-12-30 19:00:00</th>\n      <td>95690000</td>\n      <td>0.131871</td>\n    </tr>\n    <tr>\n      <th>2017-12-30 20:00:00</th>\n      <td>95690000</td>\n      <td>0.123784</td>\n    </tr>\n    <tr>\n      <th>2017-12-30 21:00:00</th>\n      <td>95690000</td>\n      <td>0.131579</td>\n    </tr>\n    <tr>\n      <th>2017-12-30 22:00:00</th>\n      <td>95690000</td>\n      <td>0.135426</td>\n    </tr>\n    <tr>\n      <th>2017-12-30 23:00:00</th>\n      <td>95690000</td>\n      <td>0.124015</td>\n    </tr>\n  </tbody>\n</table>\n<p>2263965 rows × 2 columns</p>\n</div>"
     },
     "metadata": {},
     "output_type": "display_data"
    }
   ],
   "source": [
    "prediction.set_index('date',inplace = True)\n",
    "display(prediction)"
   ],
   "metadata": {
    "collapsed": false,
    "pycharm": {
     "name": "#%%\n"
    }
   }
  },
  {
   "cell_type": "code",
   "execution_count": 15,
   "outputs": [],
   "source": [
    "prediction_summed = prediction.groupby('number_sta').resample('D').agg(pd.Series.sum, min_count = 24)"
   ],
   "metadata": {
    "collapsed": false,
    "pycharm": {
     "name": "#%%\n"
    }
   }
  },
  {
   "cell_type": "code",
   "execution_count": 16,
   "outputs": [
    {
     "data": {
      "text/plain": "                         number_sta    precip\nnumber_sta date                              \n14066001   2016-01-01           NaN       NaN\n           2016-01-02  3.375840e+08  4.149822\n           2016-01-03  3.375840e+08  6.834120\n           2016-01-04  3.375840e+08  2.228985\n           2016-01-05  3.375840e+08  2.069809\n...                             ...       ...\n95690000   2017-12-26  2.296560e+09  3.722518\n           2017-12-27  2.296560e+09  4.310331\n           2017-12-28  2.296560e+09  1.094156\n           2017-12-29  2.296560e+09  4.130509\n           2017-12-30  2.296560e+09  5.871428\n\n[96601 rows x 2 columns]",
      "text/html": "<div>\n<style scoped>\n    .dataframe tbody tr th:only-of-type {\n        vertical-align: middle;\n    }\n\n    .dataframe tbody tr th {\n        vertical-align: top;\n    }\n\n    .dataframe thead th {\n        text-align: right;\n    }\n</style>\n<table border=\"1\" class=\"dataframe\">\n  <thead>\n    <tr style=\"text-align: right;\">\n      <th></th>\n      <th></th>\n      <th>number_sta</th>\n      <th>precip</th>\n    </tr>\n    <tr>\n      <th>number_sta</th>\n      <th>date</th>\n      <th></th>\n      <th></th>\n    </tr>\n  </thead>\n  <tbody>\n    <tr>\n      <th rowspan=\"5\" valign=\"top\">14066001</th>\n      <th>2016-01-01</th>\n      <td>NaN</td>\n      <td>NaN</td>\n    </tr>\n    <tr>\n      <th>2016-01-02</th>\n      <td>3.375840e+08</td>\n      <td>4.149822</td>\n    </tr>\n    <tr>\n      <th>2016-01-03</th>\n      <td>3.375840e+08</td>\n      <td>6.834120</td>\n    </tr>\n    <tr>\n      <th>2016-01-04</th>\n      <td>3.375840e+08</td>\n      <td>2.228985</td>\n    </tr>\n    <tr>\n      <th>2016-01-05</th>\n      <td>3.375840e+08</td>\n      <td>2.069809</td>\n    </tr>\n    <tr>\n      <th>...</th>\n      <th>...</th>\n      <td>...</td>\n      <td>...</td>\n    </tr>\n    <tr>\n      <th rowspan=\"5\" valign=\"top\">95690000</th>\n      <th>2017-12-26</th>\n      <td>2.296560e+09</td>\n      <td>3.722518</td>\n    </tr>\n    <tr>\n      <th>2017-12-27</th>\n      <td>2.296560e+09</td>\n      <td>4.310331</td>\n    </tr>\n    <tr>\n      <th>2017-12-28</th>\n      <td>2.296560e+09</td>\n      <td>1.094156</td>\n    </tr>\n    <tr>\n      <th>2017-12-29</th>\n      <td>2.296560e+09</td>\n      <td>4.130509</td>\n    </tr>\n    <tr>\n      <th>2017-12-30</th>\n      <td>2.296560e+09</td>\n      <td>5.871428</td>\n    </tr>\n  </tbody>\n</table>\n<p>96601 rows × 2 columns</p>\n</div>"
     },
     "metadata": {},
     "output_type": "display_data"
    }
   ],
   "source": [
    "display(prediction_summed)"
   ],
   "metadata": {
    "collapsed": false,
    "pycharm": {
     "name": "#%%\n"
    }
   }
  },
  {
   "cell_type": "code",
   "execution_count": 17,
   "outputs": [
    {
     "data": {
      "text/plain": "      number_sta       date    precip\n0       14066001 2016-01-01       NaN\n1       14066001 2016-01-02  4.149822\n2       14066001 2016-01-03  6.834120\n3       14066001 2016-01-04  2.228985\n4       14066001 2016-01-05  2.069809\n...          ...        ...       ...\n96596   95690000 2017-12-26  3.722518\n96597   95690000 2017-12-27  4.310331\n96598   95690000 2017-12-28  1.094156\n96599   95690000 2017-12-29  4.130509\n96600   95690000 2017-12-30  5.871428\n\n[96601 rows x 3 columns]",
      "text/html": "<div>\n<style scoped>\n    .dataframe tbody tr th:only-of-type {\n        vertical-align: middle;\n    }\n\n    .dataframe tbody tr th {\n        vertical-align: top;\n    }\n\n    .dataframe thead th {\n        text-align: right;\n    }\n</style>\n<table border=\"1\" class=\"dataframe\">\n  <thead>\n    <tr style=\"text-align: right;\">\n      <th></th>\n      <th>number_sta</th>\n      <th>date</th>\n      <th>precip</th>\n    </tr>\n  </thead>\n  <tbody>\n    <tr>\n      <th>0</th>\n      <td>14066001</td>\n      <td>2016-01-01</td>\n      <td>NaN</td>\n    </tr>\n    <tr>\n      <th>1</th>\n      <td>14066001</td>\n      <td>2016-01-02</td>\n      <td>4.149822</td>\n    </tr>\n    <tr>\n      <th>2</th>\n      <td>14066001</td>\n      <td>2016-01-03</td>\n      <td>6.834120</td>\n    </tr>\n    <tr>\n      <th>3</th>\n      <td>14066001</td>\n      <td>2016-01-04</td>\n      <td>2.228985</td>\n    </tr>\n    <tr>\n      <th>4</th>\n      <td>14066001</td>\n      <td>2016-01-05</td>\n      <td>2.069809</td>\n    </tr>\n    <tr>\n      <th>...</th>\n      <td>...</td>\n      <td>...</td>\n      <td>...</td>\n    </tr>\n    <tr>\n      <th>96596</th>\n      <td>95690000</td>\n      <td>2017-12-26</td>\n      <td>3.722518</td>\n    </tr>\n    <tr>\n      <th>96597</th>\n      <td>95690000</td>\n      <td>2017-12-27</td>\n      <td>4.310331</td>\n    </tr>\n    <tr>\n      <th>96598</th>\n      <td>95690000</td>\n      <td>2017-12-28</td>\n      <td>1.094156</td>\n    </tr>\n    <tr>\n      <th>96599</th>\n      <td>95690000</td>\n      <td>2017-12-29</td>\n      <td>4.130509</td>\n    </tr>\n    <tr>\n      <th>96600</th>\n      <td>95690000</td>\n      <td>2017-12-30</td>\n      <td>5.871428</td>\n    </tr>\n  </tbody>\n</table>\n<p>96601 rows × 3 columns</p>\n</div>"
     },
     "metadata": {},
     "output_type": "display_data"
    }
   ],
   "source": [
    "p = pd.DataFrame(prediction_summed)\n",
    "del p[\"number_sta\"]\n",
    "p = p.reset_index()\n",
    "\n",
    "p[\"date\"] = pd.to_datetime(p[\"date\"])\n",
    "\n",
    "p.columns = ['number_sta', 'date', 'precip']\n",
    "\n",
    "p['number_sta'] = p['number_sta'].astype('category')\n",
    "\n",
    "display(p)"
   ],
   "metadata": {
    "collapsed": false,
    "pycharm": {
     "name": "#%%\n"
    }
   }
  },
  {
   "cell_type": "code",
   "execution_count": 18,
   "outputs": [
    {
     "name": "stdout",
     "output_type": "stream",
     "text": [
      "             date number_sta  Ground_truth            Id\n",
      "0      2016-01-02   14066001           3.4    14066001_0\n",
      "249    2016-01-03   14066001          11.7    14066001_1\n",
      "499    2016-01-04   14066001           0.6    14066001_2\n",
      "749    2016-01-05   14066001           0.4    14066001_3\n",
      "997    2016-01-06   14066001           3.0    14066001_4\n",
      "...           ...        ...           ...           ...\n",
      "182747 2017-12-27   95690001           3.2  95690001_725\n",
      "182997 2017-12-28   95690001           0.0  95690001_726\n",
      "183247 2017-12-29   95690001           4.4  95690001_727\n",
      "183497 2017-12-30   95690001           5.4  95690001_728\n",
      "183746 2017-12-31   95690001           1.2  95690001_729\n",
      "\n",
      "[183747 rows x 4 columns]\n"
     ]
    }
   ],
   "source": [
    "print(y_df)"
   ],
   "metadata": {
    "collapsed": false,
    "pycharm": {
     "name": "#%%\n"
    }
   }
  },
  {
   "cell_type": "code",
   "execution_count": 19,
   "outputs": [
    {
     "data": {
      "text/plain": "date                0\nnumber_sta          0\nGround_truth    21640\nId                  0\ndtype: int64"
     },
     "execution_count": 19,
     "metadata": {},
     "output_type": "execute_result"
    }
   ],
   "source": [
    "y_df.isna().sum(axis=0)"
   ],
   "metadata": {
    "collapsed": false,
    "pycharm": {
     "name": "#%%\n"
    }
   }
  }
 ],
 "metadata": {
  "kernelspec": {
   "display_name": "Python 3",
   "language": "python",
   "name": "python3"
  },
  "language_info": {
   "codemirror_mode": {
    "name": "ipython",
    "version": 2
   },
   "file_extension": ".py",
   "mimetype": "text/x-python",
   "name": "python",
   "nbconvert_exporter": "python",
   "pygments_lexer": "ipython2",
   "version": "2.7.6"
  }
 },
 "nbformat": 4,
 "nbformat_minor": 0
}
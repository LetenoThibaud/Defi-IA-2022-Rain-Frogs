{
 "cells": [
  {
   "cell_type": "code",
   "execution_count": 5,
   "metadata": {
    "collapsed": true
   },
   "outputs": [],
   "source": [
    "import pandas as pd\n",
    "import matplotlib.pyplot as plt\n",
    "import seaborn as sns\n",
    "import itertools\n",
    "from sklearn import decomposition\n",
    "import numpy as np\n",
    "from sklearn.cluster import KMeans\n",
    "from IPython.display import display\n",
    "from sklearn.preprocessing import MinMaxScaler\n",
    "from sklearn.metrics import silhouette_score, calinski_harabasz_score\n",
    "import pickle\n",
    "\n",
    "import seaborn as sns"
   ]
  },
  {
   "cell_type": "code",
   "execution_count": 3,
   "outputs": [],
   "source": [
    "def get_data(path, remove_irrelevant=True):\n",
    "    data = pd.read_csv(path)\n",
    "    if remove_irrelevant:\n",
    "        del data['number_sta']\n",
    "        del data['Id']\n",
    "        # del data['hour']\n",
    "        del data['latitude']\n",
    "        del data['longitude']\n",
    "        del data['height_sta']\n",
    "        del data['ground_truth']\n",
    "    del data['date']\n",
    "    del data['timestamp']\n",
    "    print(data.columns.tolist())\n",
    "    return data\n",
    "\n",
    "def get_data_forecast(path):\n",
    "    data = pd.read_csv(path)\n",
    "    del data['Id']\n",
    "    del data['station_id']\n",
    "    del data['altitude (m)']\n",
    "    del data['latitude']\n",
    "    del data['longitude']\n",
    "    del data['latitude_idx']\n",
    "    del data['longitude_idx']\n",
    "    del data['month_cos']\n",
    "    del data['month_sin']\n",
    "    del data['day']\n",
    "    return data\n",
    "\n",
    "def get_barycenter_per_months(data, normalize = True):\n",
    "    barycenters = pd.DataFrame(columns=data.columns)\n",
    "    col = np.array(data.columns)\n",
    "    col = col[col != 'month']\n",
    "    if normalize :\n",
    "        data[col] = MinMaxScaler().fit_transform(data[col])\n",
    "    for i in range(12):\n",
    "        row = []\n",
    "        for column in barycenters.columns :\n",
    "            if column == 'month':\n",
    "                row.append(i+1)\n",
    "            else :\n",
    "                row.append(data[data['month']==i+1][column].mean())\n",
    "        barycenters.loc[len(barycenters.index)] = row\n",
    "    return  barycenters\n",
    "\n",
    "\n",
    "path_2016 = '../preprocessed_data_Defi-IA-2022-Rain-Frogs/X_all_2016_final_by_day.zip'\n",
    "path_2017 = '../preprocessed_data_Defi-IA-2022-Rain-Frogs/X_all_2017_final_by_day.zip'\n",
    "\n",
    "\"\"\"print(data_2016_forecast.shape, data_2016_forecast.columns)\n",
    "print(data_2017_forecast.shape, data_2017_forecast.columns)\"\"\"\n",
    "\n",
    "# path ='./preprocessed_data_Defi-IA-2022-Rain-Frogs/X_station_coord_2nn_imputed_by_day.csv'\n",
    "\n",
    "# data = pd.read_csv(path)\n",
    "data_2016 = get_data_forecast(path_2016)\n",
    "data_2017 = get_data_forecast(path_2017)\n",
    "data = data_2016.append(data_2017, ignore_index = True)\n",
    "\n",
    "barycenters = get_barycenter_per_months(data, True)\n"
   ],
   "metadata": {
    "collapsed": false,
    "pycharm": {
     "name": "#%%\n"
    }
   }
  },
  {
   "cell_type": "code",
   "execution_count": 7,
   "outputs": [],
   "source": [
    "# PCA\n",
    "pca = decomposition.PCA(n_components=2)\n",
    "pca.fit(barycenters)\n",
    "hc_features = pca.transform(barycenters)"
   ],
   "metadata": {
    "collapsed": false,
    "pycharm": {
     "name": "#%%\n"
    }
   }
  },
  {
   "cell_type": "code",
   "execution_count": 9,
   "outputs": [
    {
     "data": {
      "text/plain": "array([[ 5.52772643, -0.37877694],\n       [ 4.53076328, -0.3289611 ],\n       [ 3.52938966, -0.27777323],\n       [ 2.52152149, -0.18322613],\n       [ 1.48422958,  0.33677328],\n       [ 0.46973126,  0.55411099],\n       [-0.54173377,  0.67820981],\n       [-1.54267453,  0.63640066],\n       [-2.5161613 ,  0.23635212],\n       [-3.50747782, -0.09001259],\n       [-4.47175669, -0.58604598],\n       [-5.48355758, -0.59705086]])"
     },
     "execution_count": 9,
     "metadata": {},
     "output_type": "execute_result"
    }
   ],
   "source": [
    "hc_features"
   ],
   "metadata": {
    "collapsed": false,
    "pycharm": {
     "name": "#%%\n"
    }
   }
  },
  {
   "cell_type": "code",
   "execution_count": 22,
   "outputs": [
    {
     "data": {
      "text/plain": "<Figure size 432x288 with 1 Axes>",
      "image/png": "[encoded data removed]"
     },
     "metadata": {},
     "output_type": "display_data"
    }
   ],
   "source": [
    "cluster = [[\"cluster 1\", \"cluster 2\", \"cluster 3\"][i] for i in [1, 1, 1, 1, 0, 2, 2, 2, 2, 0, 1, 1]]\n",
    "text = [\"Jan.\",\n",
    "        \"Feb.\",\n",
    "        \"Mar.\",\n",
    "        \"Apr.\",\n",
    "        \"May\",\n",
    "        \"Jun.\",\n",
    "        \"Jul.\",\n",
    "        \"Aug.\",\n",
    "        \"Sep.\",\n",
    "        \"Oct.\",\n",
    "        \"Nov.\",\n",
    "        \"Dec.\"]\n",
    "sns.color_palette(\"tab10\")\n",
    "sns.scatterplot(x=hc_features[:,0]+0.01, y=hc_features[:,1]+0.05, hue=cluster, palette=\"tab10\")\n",
    "plt.xlabel(\"PC1\")\n",
    "plt.ylabel(\"PC2\")\n",
    "plt.title(\"2 main PCs of barycenters.\")\n",
    "plt.legend()\n",
    "for i in range(12) :\n",
    "    plt.text(x=hc_features[i,0], y=hc_features[i,1], s=text[i], c=[\"orange\",\"blue\",\"green\"][[1, 1, 1, 1, 0, 2, 2, 2, 2, 0, 1, 1][i]])\n",
    "plt.xticks([])\n",
    "plt.yticks([])\n",
    "plt.show()"
   ],
   "metadata": {
    "collapsed": false,
    "pycharm": {
     "name": "#%%\n"
    }
   }
  },
  {
   "cell_type": "code",
   "execution_count": 56,
   "outputs": [
    {
     "name": "stdout",
     "output_type": "stream",
     "text": [
      "[1 1 1 1 0 0 0 0 0 0 1 1]\n",
      "[1 1 1 1 0 2 2 2 2 0 1 1]\n",
      "[1 1 1 1 2 0 0 0 0 2 3 3]\n",
      "[1 1 3 3 0 2 2 2 2 0 4 4]\n",
      "[1 1 4 4 2 5 0 0 5 2 3 3]\n",
      "[3 3 2 2 6 0 5 5 0 4 1 1]\n",
      "[2 2 4 4 6 0 5 5 0 3 1 7]\n",
      "[2 2 8 4 6 0 5 5 0 3 1 7]\n",
      "[2 9 8 4 6 0 5 5 0 3 1 7]\n",
      "[ 2  9  8  4  6  0  5  5 10  3  1  7]\n"
     ]
    },
    {
     "data": {
      "text/plain": "<AxesSubplot:xlabel='Value of k', ylabel='Silhouette score'>"
     },
     "execution_count": 56,
     "metadata": {},
     "output_type": "execute_result"
    },
    {
     "data": {
      "text/plain": "<Figure size 432x288 with 1 Axes>",
      "image/png": "[encoded data removed]"
     },
     "metadata": {},
     "output_type": "display_data"
    }
   ],
   "source": [
    "def eval_clustering(barycenters):\n",
    "    column_except_month_cluster = np.array(barycenters.columns)\n",
    "    column_except_month_cluster = column_except_month_cluster[column_except_month_cluster != 'month']\n",
    "    silhouette_result = []\n",
    "    ch_score_result = []\n",
    "    for k in range(2,12):\n",
    "        kmeans = KMeans(n_clusters=k, random_state=0).fit(barycenters[column_except_month_cluster])\n",
    "        print(kmeans.labels_)\n",
    "\n",
    "        barycenters['cluster'] = kmeans.labels_\n",
    "\n",
    "        silhouette = silhouette_score(barycenters[column_except_month_cluster], barycenters['cluster'])\n",
    "        silhouette_result.append(silhouette)\n",
    "        ch_score = calinski_harabasz_score(barycenters[column_except_month_cluster], barycenters['cluster'])\n",
    "        ch_score_result.append(ch_score)\n",
    "\n",
    "    return silhouette_result, ch_score_result\n",
    "\n",
    "k_values = np.arange(2,12)\n",
    "silhouette_result, ch_score_result = eval_clustering(barycenters)\n",
    "\n",
    "silhouette_data_to_show = pd.DataFrame({'Value of k' : k_values, 'Silhouette score' : silhouette_result})\n",
    "ch_score_data_to_show = pd.DataFrame({'Value of k' : k_values, 'C-H score' : ch_score_result})\n",
    "\n",
    "sns.set_theme(style=\"whitegrid\")\n",
    "sns.barplot(x=\"Value of k\", y=\"Silhouette score\", data=silhouette_data_to_show)\n",
    "\n",
    "# sns.barplot(x=\"Value of k\", y=\"C-H score\", data=ch_score_data_to_show)"
   ],
   "metadata": {
    "collapsed": false,
    "pycharm": {
     "name": "#%%\n"
    }
   }
  },
  {
   "cell_type": "markdown",
   "source": [
    "**Petit dataset**\n",
    "- Avec normalisation\n",
    "Cluster 1 : Janvier Mars Avril\n",
    "Cluster 2 : Février Novembre Décembre\n",
    "Cluster 3 : Mai Août Octobre\n",
    "Cluster 4 : Juin Juillet Septembre\n",
    "```{1: 0, 2: 3, 3: 0, 4: 0, 5: 2, 6: 1, 7: 1, 8: 2, 9: 1, 10: 2, 11: 3, 12: 3}```\n",
    "\n",
    "- Sans normalisation\n",
    "Cluster 1 : Janvier Février Mars Avril Mai Octobre Novembre Décembre\n",
    "Cluster 2 : Juin Juillet Août Septembre\n",
    "```{1: 1, 2: 1, 3: 1, 4: 1, 5: 1, 6: 0, 7: 0, 8: 0, 9: 0, 10: 1, 11: 1, 12: 1}```\n",
    "\n",
    "Gros dataset :\n",
    "no norm [2 2 2 1 0 0 0 0 0 0 2 0]\n",
    "Cluster 1 : Janvier Février Mars Novembre\n",
    "Cluster 2 : Avril\n",
    "Cluster 3 : Mai Juin Juillet Août Septembre Octobre Décembre\n",
    "```{1: 2, 2: 2, 3: 2, 4: 1, 5: 0, 6: 0, 7: 0, 8: 0, 9: 0, 10: 0, 11: 2, 12: 0}```\n",
    "\n",
    "norm [1 1 1 1 0 0 0 0 0 0 1 1]\n",
    "Cluster 1 : Janvier Février Mars Avril Novembre Décembre\n",
    "Cluster 2 : Mai Juin Juillet Août Septembre Octobre\n",
    "```{1: 1, 2: 1, 3: 1, 4: 1, 5: 0, 6: 0, 7: 0, 8: 0, 9: 0, 10: 0, 11: 1, 12: 1}```\n"
   ],
   "metadata": {
    "collapsed": false,
    "pycharm": {
     "name": "#%% md\n"
    }
   }
  },
  {
   "cell_type": "code",
   "execution_count": 60,
   "outputs": [
    {
     "name": "stdout",
     "output_type": "stream",
     "text": [
      "{1: 1, 2: 1, 3: 1, 4: 1, 5: 0, 6: 0, 7: 0, 8: 0, 9: 0, 10: 0, 11: 1, 12: 1}\n"
     ]
    }
   ],
   "source": [
    "dico = dict()\n",
    "# values = [0, 3, 0, 0, 2, 1, 1, 2, 1, 2, 3, 3] # petit dataset normalisé\n",
    "# values = [1, 1, 1, 1, 1, 0, 0, 0, 0, 1, 1, 1] # petit dataset non normalisé\n",
    "# values = [2, 2, 2, 1, 0, 0, 0, 0, 0, 0, 2, 0] # gros dataset non normalisé\n",
    "values = [1, 1, 1, 1, 0, 0, 0, 0, 0, 0, 1, 1] # gros dataset normalisé\n",
    "\n",
    "for i in range(12):\n",
    "    dico[i+1] = values[i]\n",
    "\n",
    "print(dico)"
   ],
   "metadata": {
    "collapsed": false,
    "pycharm": {
     "name": "#%%\n"
    }
   }
  },
  {
   "cell_type": "code",
   "execution_count": 37,
   "outputs": [
    {
     "ename": "NameError",
     "evalue": "name 'dataset' is not defined",
     "output_type": "error",
     "traceback": [
      "\u001B[0;31m---------------------------------------------------------------------------\u001B[0m",
      "\u001B[0;31mNameError\u001B[0m                                 Traceback (most recent call last)",
      "\u001B[0;32m/tmp/ipykernel_4427/3820522136.py\u001B[0m in \u001B[0;36m<module>\u001B[0;34m\u001B[0m\n\u001B[0;32m----> 1\u001B[0;31m \u001B[0mfilename\u001B[0m \u001B[0;34m=\u001B[0m \u001B[0;34mf\"./results/\"\u001B[0m \u001B[0;34m+\u001B[0m \u001B[0mdataset\u001B[0m \u001B[0;34m+\u001B[0m \u001B[0madaptation\u001B[0m \u001B[0;34m+\u001B[0m \u001B[0malgo\u001B[0m \u001B[0;34m+\u001B[0m \u001B[0;34m\".pklz\"\u001B[0m\u001B[0;34m\u001B[0m\u001B[0;34m\u001B[0m\u001B[0m\n\u001B[0m\u001B[1;32m      2\u001B[0m \u001B[0mf\u001B[0m \u001B[0;34m=\u001B[0m \u001B[0mgzip\u001B[0m\u001B[0;34m.\u001B[0m\u001B[0mopen\u001B[0m\u001B[0;34m(\u001B[0m\u001B[0mfilename\u001B[0m\u001B[0;34m,\u001B[0m \u001B[0;34m\"wb\"\u001B[0m\u001B[0;34m)\u001B[0m\u001B[0;34m\u001B[0m\u001B[0;34m\u001B[0m\u001B[0m\n\u001B[1;32m      3\u001B[0m \u001B[0mpickle\u001B[0m\u001B[0;34m.\u001B[0m\u001B[0mdump\u001B[0m\u001B[0;34m(\u001B[0m\u001B[0mresults\u001B[0m\u001B[0;34m,\u001B[0m \u001B[0mf\u001B[0m\u001B[0;34m)\u001B[0m\u001B[0;34m\u001B[0m\u001B[0;34m\u001B[0m\u001B[0m\n\u001B[1;32m      4\u001B[0m \u001B[0mf\u001B[0m\u001B[0;34m.\u001B[0m\u001B[0mclose\u001B[0m\u001B[0;34m(\u001B[0m\u001B[0;34m)\u001B[0m\u001B[0;34m\u001B[0m\u001B[0;34m\u001B[0m\u001B[0m\n\u001B[1;32m      5\u001B[0m \u001B[0;34m\u001B[0m\u001B[0m\n",
      "\u001B[0;31mNameError\u001B[0m: name 'dataset' is not defined"
     ]
    }
   ],
   "source": [
    "filename = f\"./results/\" + dataset + adaptation + algo + \".pklz\"\n",
    "f = gzip.open(filename, \"wb\")\n",
    "pickle.dump(results, f)\n",
    "f.close()\n",
    "\n",
    "def get_degradation_rates(path, cluster):\n",
    "    with open(path, 'rb') as file:\n",
    "        full_dico = pickle.load(file)\n",
    "        dico = dict()\n",
    "        for key in full_dico.keys():\n",
    "            if key[:len(str(cluster)) + 1] == (str(cluster) + ':'):\n",
    "                dico[key[len(str(cluster)) + 1:]] = full_dico[key]\n",
    "    return dico"
   ],
   "metadata": {
    "collapsed": false,
    "pycharm": {
     "name": "#%%\n"
    }
   }
  },
  {
   "cell_type": "code",
   "execution_count": null,
   "outputs": [],
   "source": [],
   "metadata": {
    "collapsed": false,
    "pycharm": {
     "name": "#%%\n"
    }
   }
  }
 ],
 "metadata": {
  "kernelspec": {
   "display_name": "Python 3",
   "language": "python",
   "name": "python3"
  },
  "language_info": {
   "codemirror_mode": {
    "name": "ipython",
    "version": 2
   },
   "file_extension": ".py",
   "mimetype": "text/x-python",
   "name": "python",
   "nbconvert_exporter": "python",
   "pygments_lexer": "ipython2",
   "version": "2.7.6"
  }
 },
 "nbformat": 4,
 "nbformat_minor": 0
}
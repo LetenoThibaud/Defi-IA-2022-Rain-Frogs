{
 "cells": [
  {
   "cell_type": "code",
   "execution_count": 2,
   "outputs": [],
   "source": [
    "import pandas as pd\n",
    "import numpy as np\n",
    "import matplotlib.pyplot as plt"
   ],
   "metadata": {
    "collapsed": false,
    "pycharm": {
     "name": "#%%\n"
    }
   }
  },
  {
   "cell_type": "markdown",
   "source": [
    "# X_all_test\n"
   ],
   "metadata": {
    "collapsed": false
   }
  },
  {
   "cell_type": "code",
   "execution_count": 2,
   "outputs": [
    {
     "data": {
      "text/plain": "   station_id  altitude (m)  latitude  longitude  latitude_idx  longitude_idx  \\\n0    86118001           120        46          0           217            273   \n1    86118001           120        46          0           217            273   \n2    86118001           120        46          0           217            273   \n3    86118001           120        46          0           217            273   \n4    86118001           120        46          0           217            273   \n\n   month  month_cos  month_sin  day  ...  \\\n0      7       -1.0        0.0    1  ...   \n1      7       -1.0        0.0    1  ...   \n2      7       -1.0        0.0    1  ...   \n3      7       -1.0        0.0    1  ...   \n4      7       -1.0        0.0    1  ...   \n\n   3D_Arpege_isobar_500hpa_Temperature (K)  \\\n0                                253.42760   \n1                                253.43576   \n2                                253.48488   \n3                                253.57262   \n4                                253.62709   \n\n   3D_Arpege_isobar_500hpa_PseudoAdiabaticPotentialTemperature (K)  \\\n0                                          284.58140                 \n1                                          284.66498                 \n2                                          284.76785                 \n3                                          284.89150                 \n4                                          284.99512                 \n\n   3D_Arpege_isobar_500hpa_RelavtiveHumidity (%)  \\\n0                                      15.935472   \n1                                      20.216759   \n2                                      24.769560   \n3                                      29.092268   \n4                                      33.288578   \n\n   3D_Arpege_isobar_500hpa_WindSpeed (m/s)  \\\n0                                 5.843763   \n1                                 5.703158   \n2                                 5.187140   \n3                                 4.764898   \n4                                 4.690506   \n\n   3D_Arpege_isobar_500hpa_WindDirection (deg)  \\\n0                                    44.823340   \n1                                    45.653458   \n2                                    45.329548   \n3                                    43.618930   \n4                                    38.356937   \n\n   3D_Arpege_isobar_500hpa_WindComponentU (m/s)  \\\n0                                     -4.119983   \n1                                     -4.073028   \n2                                     -3.689022   \n3                                     -3.288254   \n4                                     -2.913704   \n\n   3D_Arpege_isobar_500hpa_WindComponentV (m/s)  \\\n0                                     -4.144466   \n1                                     -3.991674   \n2                                     -3.643088   \n3                                     -3.456242   \n4                                     -3.681483   \n\n   3D_Arpege_isobar_500hpa_VerticalVelocity (Pa/s)  \\\n0                                         0.024156   \n1                                         0.089902   \n2                                         0.114549   \n3                                         0.089390   \n4                                         0.068782   \n\n   3D_Arpege_isobar_500hpa_Geopotential (m^2/s^2)          Id  \n0                                       55295.285  86118001_1  \n1                                       55311.367  86118001_1  \n2                                       55296.350  86118001_1  \n3                                       55280.207  86118001_1  \n4                                       55297.290  86118001_1  \n\n[5 rows x 113 columns]",
      "text/html": "<div>\n<style scoped>\n    .dataframe tbody tr th:only-of-type {\n        vertical-align: middle;\n    }\n\n    .dataframe tbody tr th {\n        vertical-align: top;\n    }\n\n    .dataframe thead th {\n        text-align: right;\n    }\n</style>\n<table border=\"1\" class=\"dataframe\">\n  <thead>\n    <tr style=\"text-align: right;\">\n      <th></th>\n      <th>station_id</th>\n      <th>altitude (m)</th>\n      <th>latitude</th>\n      <th>longitude</th>\n      <th>latitude_idx</th>\n      <th>longitude_idx</th>\n      <th>month</th>\n      <th>month_cos</th>\n      <th>month_sin</th>\n      <th>day</th>\n      <th>...</th>\n      <th>3D_Arpege_isobar_500hpa_Temperature (K)</th>\n      <th>3D_Arpege_isobar_500hpa_PseudoAdiabaticPotentialTemperature (K)</th>\n      <th>3D_Arpege_isobar_500hpa_RelavtiveHumidity (%)</th>\n      <th>3D_Arpege_isobar_500hpa_WindSpeed (m/s)</th>\n      <th>3D_Arpege_isobar_500hpa_WindDirection (deg)</th>\n      <th>3D_Arpege_isobar_500hpa_WindComponentU (m/s)</th>\n      <th>3D_Arpege_isobar_500hpa_WindComponentV (m/s)</th>\n      <th>3D_Arpege_isobar_500hpa_VerticalVelocity (Pa/s)</th>\n      <th>3D_Arpege_isobar_500hpa_Geopotential (m^2/s^2)</th>\n      <th>Id</th>\n    </tr>\n  </thead>\n  <tbody>\n    <tr>\n      <th>0</th>\n      <td>86118001</td>\n      <td>120</td>\n      <td>46</td>\n      <td>0</td>\n      <td>217</td>\n      <td>273</td>\n      <td>7</td>\n      <td>-1.0</td>\n      <td>0.0</td>\n      <td>1</td>\n      <td>...</td>\n      <td>253.42760</td>\n      <td>284.58140</td>\n      <td>15.935472</td>\n      <td>5.843763</td>\n      <td>44.823340</td>\n      <td>-4.119983</td>\n      <td>-4.144466</td>\n      <td>0.024156</td>\n      <td>55295.285</td>\n      <td>86118001_1</td>\n    </tr>\n    <tr>\n      <th>1</th>\n      <td>86118001</td>\n      <td>120</td>\n      <td>46</td>\n      <td>0</td>\n      <td>217</td>\n      <td>273</td>\n      <td>7</td>\n      <td>-1.0</td>\n      <td>0.0</td>\n      <td>1</td>\n      <td>...</td>\n      <td>253.43576</td>\n      <td>284.66498</td>\n      <td>20.216759</td>\n      <td>5.703158</td>\n      <td>45.653458</td>\n      <td>-4.073028</td>\n      <td>-3.991674</td>\n      <td>0.089902</td>\n      <td>55311.367</td>\n      <td>86118001_1</td>\n    </tr>\n    <tr>\n      <th>2</th>\n      <td>86118001</td>\n      <td>120</td>\n      <td>46</td>\n      <td>0</td>\n      <td>217</td>\n      <td>273</td>\n      <td>7</td>\n      <td>-1.0</td>\n      <td>0.0</td>\n      <td>1</td>\n      <td>...</td>\n      <td>253.48488</td>\n      <td>284.76785</td>\n      <td>24.769560</td>\n      <td>5.187140</td>\n      <td>45.329548</td>\n      <td>-3.689022</td>\n      <td>-3.643088</td>\n      <td>0.114549</td>\n      <td>55296.350</td>\n      <td>86118001_1</td>\n    </tr>\n    <tr>\n      <th>3</th>\n      <td>86118001</td>\n      <td>120</td>\n      <td>46</td>\n      <td>0</td>\n      <td>217</td>\n      <td>273</td>\n      <td>7</td>\n      <td>-1.0</td>\n      <td>0.0</td>\n      <td>1</td>\n      <td>...</td>\n      <td>253.57262</td>\n      <td>284.89150</td>\n      <td>29.092268</td>\n      <td>4.764898</td>\n      <td>43.618930</td>\n      <td>-3.288254</td>\n      <td>-3.456242</td>\n      <td>0.089390</td>\n      <td>55280.207</td>\n      <td>86118001_1</td>\n    </tr>\n    <tr>\n      <th>4</th>\n      <td>86118001</td>\n      <td>120</td>\n      <td>46</td>\n      <td>0</td>\n      <td>217</td>\n      <td>273</td>\n      <td>7</td>\n      <td>-1.0</td>\n      <td>0.0</td>\n      <td>1</td>\n      <td>...</td>\n      <td>253.62709</td>\n      <td>284.99512</td>\n      <td>33.288578</td>\n      <td>4.690506</td>\n      <td>38.356937</td>\n      <td>-2.913704</td>\n      <td>-3.681483</td>\n      <td>0.068782</td>\n      <td>55297.290</td>\n      <td>86118001_1</td>\n    </tr>\n  </tbody>\n</table>\n<p>5 rows × 113 columns</p>\n</div>"
     },
     "execution_count": 2,
     "metadata": {},
     "output_type": "execute_result"
    }
   ],
   "source": [
    "df_test = pd.read_csv(\"X_all_test.csv\")\n",
    "df_test[\"Id\"] = df_test[\"station_id\"].astype(str) + \"_\" + df_test[\"day\"].astype(str)\n",
    "df_test.head(5)"
   ],
   "metadata": {
    "collapsed": false,
    "pycharm": {
     "name": "#%%\n"
    }
   }
  },
  {
   "cell_type": "code",
   "execution_count": 7,
   "outputs": [
    {
     "data": {
      "text/plain": "        station_id  altitude (m)  latitude  longitude  latitude_idx  \\\n289872    14047002            60        49          0           105   \n289873    14047002            60        49          0           105   \n289874    14047002            60        49          0           105   \n289875    14047002            60        49          0           105   \n289876    14047002            60        49          0           105   \n289877    14047002            60        49          0           105   \n289878    14047002            60        49          0           105   \n289879    14047002            60        49          0           105   \n289880    14047002            60        49          0           105   \n289881    14047002            60        49          0           105   \n289882    14047002            60        49          0           105   \n289883    14047002            60        49          0           105   \n289884    14047002            60        49          0           105   \n289885    14047002            60        49          0           105   \n289886    14047002            60        49          0           105   \n289887    14047002            60        49          0           105   \n289888    14047002            60        49          0           105   \n289889    14047002            60        49          0           105   \n289890    14047002            60        49          0           105   \n289891    14047002            60        49          0           105   \n289892    14047002            60        49          0           105   \n289893    14047002            60        49          0           105   \n289894    14047002            60        49          0           105   \n289895    14047002            60        49          0           105   \n\n        longitude_idx  month  month_cos  month_sin  day  ...  \\\n289872            205     12   0.866025       -0.5  100  ...   \n289873            205     12   0.866025       -0.5  100  ...   \n289874            205     12   0.866025       -0.5  100  ...   \n289875            205     12   0.866025       -0.5  100  ...   \n289876            205     12   0.866025       -0.5  100  ...   \n289877            205     12   0.866025       -0.5  100  ...   \n289878            205     12   0.866025       -0.5  100  ...   \n289879            205     12   0.866025       -0.5  100  ...   \n289880            205     12   0.866025       -0.5  100  ...   \n289881            205     12   0.866025       -0.5  100  ...   \n289882            205     12   0.866025       -0.5  100  ...   \n289883            205     12   0.866025       -0.5  100  ...   \n289884            205     12   0.866025       -0.5  100  ...   \n289885            205     12   0.866025       -0.5  100  ...   \n289886            205     12   0.866025       -0.5  100  ...   \n289887            205     12   0.866025       -0.5  100  ...   \n289888            205     12   0.866025       -0.5  100  ...   \n289889            205     12   0.866025       -0.5  100  ...   \n289890            205     12   0.866025       -0.5  100  ...   \n289891            205     12   0.866025       -0.5  100  ...   \n289892            205     12   0.866025       -0.5  100  ...   \n289893            205     12   0.866025       -0.5  100  ...   \n289894            205     12   0.866025       -0.5  100  ...   \n289895            205     12   0.866025       -0.5  100  ...   \n\n        3D_Arpege_isobar_500hpa_Temperature (K)  \\\n289872                                247.87756   \n289873                                247.13858   \n289874                                246.05858   \n289875                                244.82976   \n289876                                243.78592   \n289877                                243.43797   \n289878                                243.36390   \n289879                                243.53761   \n289880                                243.84985   \n289881                                244.03723   \n289882                                244.30887   \n289883                                244.23228   \n289884                                244.32344   \n289885                                244.58990   \n289886                                244.68105   \n289887                                244.63007   \n289888                                244.48106   \n289889                                244.43011   \n289890                                244.30928   \n289891                                243.95604   \n289892                                243.83522   \n289893                                243.64297   \n289894                                243.08101   \n289895                                242.88878   \n\n        3D_Arpege_isobar_500hpa_PseudoAdiabaticPotentialTemperature (K)  \\\n289872                                          281.85913                 \n289873                                          281.37490                 \n289874                                          280.77762                 \n289875                                          280.22452                 \n289876                                          279.69415                 \n289877                                          279.43506                 \n289878                                          279.37692                 \n289879                                          279.54144                 \n289880                                          279.70615                 \n289881                                          279.83420                 \n289882                                          279.96426                 \n289883                                          280.37677                 \n289884                                          280.45060                 \n289885                                          280.66638                 \n289886                                          280.74017                 \n289887                                          280.71622                 \n289888                                          280.64618                 \n289889                                          280.62222                 \n289890                                          280.47810                 \n289891                                          280.05676                 \n289892                                          279.91260                 \n289893                                          279.76630                 \n289894                                          279.33865                 \n289895                                          279.19235                 \n\n        3D_Arpege_isobar_500hpa_RelavtiveHumidity (%)  \\\n289872                                      22.516012   \n289873                                      14.019999   \n289874                                      13.221973   \n289875                                      25.680515   \n289876                                      33.203285   \n289877                                      26.382185   \n289878                                      25.011896   \n289879                                      32.759186   \n289880                                      30.916628   \n289881                                      33.147747   \n289882                                      30.960033   \n289883                                      84.930440   \n289884                                      87.117780   \n289885                                      93.511550   \n289886                                      95.698890   \n289887                                      96.506714   \n289888                                      98.868050   \n289889                                      99.675880   \n289890                                      91.169970   \n289891                                      66.306520   \n289892                                      57.800602   \n289893                                      53.253498   \n289894                                      39.961960   \n289895                                      35.414860   \n\n        3D_Arpege_isobar_500hpa_WindSpeed (m/s)  \\\n289872                                37.394640   \n289873                                36.824470   \n289874                                33.625730   \n289875                                27.515017   \n289876                                25.433311   \n289877                                24.516003   \n289878                                21.625181   \n289879                                19.934440   \n289880                                17.914314   \n289881                                15.280284   \n289882                                13.859718   \n289883                                14.591598   \n289884                                13.832688   \n289885                                11.614339   \n289886                                10.855428   \n289887                                11.232877   \n289888                                12.336187   \n289889                                12.713636   \n289890                                13.028963   \n289891                                13.950686   \n289892                                14.266012   \n289893                                15.435243   \n289894                                18.852993   \n289895                                20.022224   \n\n        3D_Arpege_isobar_500hpa_WindDirection (deg)  \\\n289872                                    245.59367   \n289873                                    247.35413   \n289874                                    250.92560   \n289875                                    258.19690   \n289876                                    265.51657   \n289877                                    271.94717   \n289878                                    276.43220   \n289879                                    273.72928   \n289880                                    268.00906   \n289881                                    259.65753   \n289882                                    251.67560   \n289883                                    247.46231   \n289884                                    244.61234   \n289885                                    236.28165   \n289886                                    233.43166   \n289887                                    233.06723   \n289888                                    232.00200   \n289889                                    231.63760   \n289890                                    230.16847   \n289891                                    225.87411   \n289892                                    224.40498   \n289893                                    240.24309   \n289894                                    286.53910   \n289895                                    302.37720   \n\n        3D_Arpege_isobar_500hpa_WindComponentU (m/s)  \\\n289872                                     34.053802   \n289873                                     33.981388   \n289874                                     31.775257   \n289875                                     26.929098   \n289876                                     25.357407   \n289877                                     24.500937   \n289878                                     21.489481   \n289879                                     19.892523   \n289880                                     17.902138   \n289881                                     15.029664   \n289882                                     13.158366   \n289883                                     13.478126   \n289884                                     12.511272   \n289885                                      9.685087   \n289886                                      8.718232   \n289887                                      8.972383   \n289888                                      9.715289   \n289889                                      9.969440   \n289890                                      9.972842   \n289891                                      9.982785   \n289892                                      9.986187   \n289893                                     11.392165   \n289894                                     15.501946   \n289895                                     16.907925   \n\n        3D_Arpege_isobar_500hpa_WindComponentV (m/s)  \\\n289872                                     15.451652   \n289873                                     14.176471   \n289874                                     10.992454   \n289875                                      5.630790   \n289876                                      1.989446   \n289877                                     -0.834746   \n289878                                     -2.422470   \n289879                                     -1.296040   \n289880                                      0.621075   \n289881                                      2.743166   \n289882                                      4.355891   \n289883                                      5.594150   \n289884                                      5.772113   \n289885                                      6.292311   \n289886                                      6.470274   \n289887                                      6.758688   \n289888                                      7.601744   \n289889                                      7.890157   \n289890                                      8.356931   \n289891                                      9.721346   \n289892                                     10.188120   \n289893                                      5.941080   \n289894                                     -6.473341   \n289895                                    -10.720383   \n\n        3D_Arpege_isobar_500hpa_VerticalVelocity (Pa/s)  \\\n289872                                         0.039372   \n289873                                        -0.227409   \n289874                                         0.019827   \n289875                                         0.250761   \n289876                                         0.157131   \n289877                                         0.133340   \n289878                                         0.376690   \n289879                                         0.513774   \n289880                                         0.284528   \n289881                                         0.021085   \n289882                                         0.120536   \n289883                                        -0.129782   \n289884                                        -0.162041   \n289885                                        -0.256337   \n289886                                        -0.288596   \n289887                                        -0.385087   \n289888                                        -0.667139   \n289889                                        -0.763630   \n289890                                        -0.636993   \n289891                                        -0.266823   \n289892                                        -0.140186   \n289893                                        -0.105536   \n289894                                        -0.004254   \n289895                                         0.030396   \n\n        3D_Arpege_isobar_500hpa_Geopotential (m^2/s^2)            Id  \n289872                                       53489.707  14047002_100  \n289873                                       53387.600  14047002_100  \n289874                                       53303.370  14047002_100  \n289875                                       53245.250  14047002_100  \n289876                                       53237.586  14047002_100  \n289877                                       53238.305  14047002_100  \n289878                                       53259.980  14047002_100  \n289879                                       53276.277  14047002_100  \n289880                                       53317.832  14047002_100  \n289881                                       53334.320  14047002_100  \n289882                                       53316.492  14047002_100  \n289883                                       53263.020  14047002_100  \n289884                                       53249.316  14047002_100  \n289885                                       53209.254  14047002_100  \n289886                                       53195.550  14047002_100  \n289887                                       53192.277  14047002_100  \n289888                                       53182.710  14047002_100  \n289889                                       53179.438  14047002_100  \n289890                                       53187.500  14047002_100  \n289891                                       53211.074  14047002_100  \n289892                                       53219.137  14047002_100  \n289893                                       53248.746  14047002_100  \n289894                                       53335.297  14047002_100  \n289895                                       53364.906  14047002_100  \n\n[24 rows x 113 columns]",
      "text/html": "<div>\n<style scoped>\n    .dataframe tbody tr th:only-of-type {\n        vertical-align: middle;\n    }\n\n    .dataframe tbody tr th {\n        vertical-align: top;\n    }\n\n    .dataframe thead th {\n        text-align: right;\n    }\n</style>\n<table border=\"1\" class=\"dataframe\">\n  <thead>\n    <tr style=\"text-align: right;\">\n      <th></th>\n      <th>station_id</th>\n      <th>altitude (m)</th>\n      <th>latitude</th>\n      <th>longitude</th>\n      <th>latitude_idx</th>\n      <th>longitude_idx</th>\n      <th>month</th>\n      <th>month_cos</th>\n      <th>month_sin</th>\n      <th>day</th>\n      <th>...</th>\n      <th>3D_Arpege_isobar_500hpa_Temperature (K)</th>\n      <th>3D_Arpege_isobar_500hpa_PseudoAdiabaticPotentialTemperature (K)</th>\n      <th>3D_Arpege_isobar_500hpa_RelavtiveHumidity (%)</th>\n      <th>3D_Arpege_isobar_500hpa_WindSpeed (m/s)</th>\n      <th>3D_Arpege_isobar_500hpa_WindDirection (deg)</th>\n      <th>3D_Arpege_isobar_500hpa_WindComponentU (m/s)</th>\n      <th>3D_Arpege_isobar_500hpa_WindComponentV (m/s)</th>\n      <th>3D_Arpege_isobar_500hpa_VerticalVelocity (Pa/s)</th>\n      <th>3D_Arpege_isobar_500hpa_Geopotential (m^2/s^2)</th>\n      <th>Id</th>\n    </tr>\n  </thead>\n  <tbody>\n    <tr>\n      <th>289872</th>\n      <td>14047002</td>\n      <td>60</td>\n      <td>49</td>\n      <td>0</td>\n      <td>105</td>\n      <td>205</td>\n      <td>12</td>\n      <td>0.866025</td>\n      <td>-0.5</td>\n      <td>100</td>\n      <td>...</td>\n      <td>247.87756</td>\n      <td>281.85913</td>\n      <td>22.516012</td>\n      <td>37.394640</td>\n      <td>245.59367</td>\n      <td>34.053802</td>\n      <td>15.451652</td>\n      <td>0.039372</td>\n      <td>53489.707</td>\n      <td>14047002_100</td>\n    </tr>\n    <tr>\n      <th>289873</th>\n      <td>14047002</td>\n      <td>60</td>\n      <td>49</td>\n      <td>0</td>\n      <td>105</td>\n      <td>205</td>\n      <td>12</td>\n      <td>0.866025</td>\n      <td>-0.5</td>\n      <td>100</td>\n      <td>...</td>\n      <td>247.13858</td>\n      <td>281.37490</td>\n      <td>14.019999</td>\n      <td>36.824470</td>\n      <td>247.35413</td>\n      <td>33.981388</td>\n      <td>14.176471</td>\n      <td>-0.227409</td>\n      <td>53387.600</td>\n      <td>14047002_100</td>\n    </tr>\n    <tr>\n      <th>289874</th>\n      <td>14047002</td>\n      <td>60</td>\n      <td>49</td>\n      <td>0</td>\n      <td>105</td>\n      <td>205</td>\n      <td>12</td>\n      <td>0.866025</td>\n      <td>-0.5</td>\n      <td>100</td>\n      <td>...</td>\n      <td>246.05858</td>\n      <td>280.77762</td>\n      <td>13.221973</td>\n      <td>33.625730</td>\n      <td>250.92560</td>\n      <td>31.775257</td>\n      <td>10.992454</td>\n      <td>0.019827</td>\n      <td>53303.370</td>\n      <td>14047002_100</td>\n    </tr>\n    <tr>\n      <th>289875</th>\n      <td>14047002</td>\n      <td>60</td>\n      <td>49</td>\n      <td>0</td>\n      <td>105</td>\n      <td>205</td>\n      <td>12</td>\n      <td>0.866025</td>\n      <td>-0.5</td>\n      <td>100</td>\n      <td>...</td>\n      <td>244.82976</td>\n      <td>280.22452</td>\n      <td>25.680515</td>\n      <td>27.515017</td>\n      <td>258.19690</td>\n      <td>26.929098</td>\n      <td>5.630790</td>\n      <td>0.250761</td>\n      <td>53245.250</td>\n      <td>14047002_100</td>\n    </tr>\n    <tr>\n      <th>289876</th>\n      <td>14047002</td>\n      <td>60</td>\n      <td>49</td>\n      <td>0</td>\n      <td>105</td>\n      <td>205</td>\n      <td>12</td>\n      <td>0.866025</td>\n      <td>-0.5</td>\n      <td>100</td>\n      <td>...</td>\n      <td>243.78592</td>\n      <td>279.69415</td>\n      <td>33.203285</td>\n      <td>25.433311</td>\n      <td>265.51657</td>\n      <td>25.357407</td>\n      <td>1.989446</td>\n      <td>0.157131</td>\n      <td>53237.586</td>\n      <td>14047002_100</td>\n    </tr>\n    <tr>\n      <th>289877</th>\n      <td>14047002</td>\n      <td>60</td>\n      <td>49</td>\n      <td>0</td>\n      <td>105</td>\n      <td>205</td>\n      <td>12</td>\n      <td>0.866025</td>\n      <td>-0.5</td>\n      <td>100</td>\n      <td>...</td>\n      <td>243.43797</td>\n      <td>279.43506</td>\n      <td>26.382185</td>\n      <td>24.516003</td>\n      <td>271.94717</td>\n      <td>24.500937</td>\n      <td>-0.834746</td>\n      <td>0.133340</td>\n      <td>53238.305</td>\n      <td>14047002_100</td>\n    </tr>\n    <tr>\n      <th>289878</th>\n      <td>14047002</td>\n      <td>60</td>\n      <td>49</td>\n      <td>0</td>\n      <td>105</td>\n      <td>205</td>\n      <td>12</td>\n      <td>0.866025</td>\n      <td>-0.5</td>\n      <td>100</td>\n      <td>...</td>\n      <td>243.36390</td>\n      <td>279.37692</td>\n      <td>25.011896</td>\n      <td>21.625181</td>\n      <td>276.43220</td>\n      <td>21.489481</td>\n      <td>-2.422470</td>\n      <td>0.376690</td>\n      <td>53259.980</td>\n      <td>14047002_100</td>\n    </tr>\n    <tr>\n      <th>289879</th>\n      <td>14047002</td>\n      <td>60</td>\n      <td>49</td>\n      <td>0</td>\n      <td>105</td>\n      <td>205</td>\n      <td>12</td>\n      <td>0.866025</td>\n      <td>-0.5</td>\n      <td>100</td>\n      <td>...</td>\n      <td>243.53761</td>\n      <td>279.54144</td>\n      <td>32.759186</td>\n      <td>19.934440</td>\n      <td>273.72928</td>\n      <td>19.892523</td>\n      <td>-1.296040</td>\n      <td>0.513774</td>\n      <td>53276.277</td>\n      <td>14047002_100</td>\n    </tr>\n    <tr>\n      <th>289880</th>\n      <td>14047002</td>\n      <td>60</td>\n      <td>49</td>\n      <td>0</td>\n      <td>105</td>\n      <td>205</td>\n      <td>12</td>\n      <td>0.866025</td>\n      <td>-0.5</td>\n      <td>100</td>\n      <td>...</td>\n      <td>243.84985</td>\n      <td>279.70615</td>\n      <td>30.916628</td>\n      <td>17.914314</td>\n      <td>268.00906</td>\n      <td>17.902138</td>\n      <td>0.621075</td>\n      <td>0.284528</td>\n      <td>53317.832</td>\n      <td>14047002_100</td>\n    </tr>\n    <tr>\n      <th>289881</th>\n      <td>14047002</td>\n      <td>60</td>\n      <td>49</td>\n      <td>0</td>\n      <td>105</td>\n      <td>205</td>\n      <td>12</td>\n      <td>0.866025</td>\n      <td>-0.5</td>\n      <td>100</td>\n      <td>...</td>\n      <td>244.03723</td>\n      <td>279.83420</td>\n      <td>33.147747</td>\n      <td>15.280284</td>\n      <td>259.65753</td>\n      <td>15.029664</td>\n      <td>2.743166</td>\n      <td>0.021085</td>\n      <td>53334.320</td>\n      <td>14047002_100</td>\n    </tr>\n    <tr>\n      <th>289882</th>\n      <td>14047002</td>\n      <td>60</td>\n      <td>49</td>\n      <td>0</td>\n      <td>105</td>\n      <td>205</td>\n      <td>12</td>\n      <td>0.866025</td>\n      <td>-0.5</td>\n      <td>100</td>\n      <td>...</td>\n      <td>244.30887</td>\n      <td>279.96426</td>\n      <td>30.960033</td>\n      <td>13.859718</td>\n      <td>251.67560</td>\n      <td>13.158366</td>\n      <td>4.355891</td>\n      <td>0.120536</td>\n      <td>53316.492</td>\n      <td>14047002_100</td>\n    </tr>\n    <tr>\n      <th>289883</th>\n      <td>14047002</td>\n      <td>60</td>\n      <td>49</td>\n      <td>0</td>\n      <td>105</td>\n      <td>205</td>\n      <td>12</td>\n      <td>0.866025</td>\n      <td>-0.5</td>\n      <td>100</td>\n      <td>...</td>\n      <td>244.23228</td>\n      <td>280.37677</td>\n      <td>84.930440</td>\n      <td>14.591598</td>\n      <td>247.46231</td>\n      <td>13.478126</td>\n      <td>5.594150</td>\n      <td>-0.129782</td>\n      <td>53263.020</td>\n      <td>14047002_100</td>\n    </tr>\n    <tr>\n      <th>289884</th>\n      <td>14047002</td>\n      <td>60</td>\n      <td>49</td>\n      <td>0</td>\n      <td>105</td>\n      <td>205</td>\n      <td>12</td>\n      <td>0.866025</td>\n      <td>-0.5</td>\n      <td>100</td>\n      <td>...</td>\n      <td>244.32344</td>\n      <td>280.45060</td>\n      <td>87.117780</td>\n      <td>13.832688</td>\n      <td>244.61234</td>\n      <td>12.511272</td>\n      <td>5.772113</td>\n      <td>-0.162041</td>\n      <td>53249.316</td>\n      <td>14047002_100</td>\n    </tr>\n    <tr>\n      <th>289885</th>\n      <td>14047002</td>\n      <td>60</td>\n      <td>49</td>\n      <td>0</td>\n      <td>105</td>\n      <td>205</td>\n      <td>12</td>\n      <td>0.866025</td>\n      <td>-0.5</td>\n      <td>100</td>\n      <td>...</td>\n      <td>244.58990</td>\n      <td>280.66638</td>\n      <td>93.511550</td>\n      <td>11.614339</td>\n      <td>236.28165</td>\n      <td>9.685087</td>\n      <td>6.292311</td>\n      <td>-0.256337</td>\n      <td>53209.254</td>\n      <td>14047002_100</td>\n    </tr>\n    <tr>\n      <th>289886</th>\n      <td>14047002</td>\n      <td>60</td>\n      <td>49</td>\n      <td>0</td>\n      <td>105</td>\n      <td>205</td>\n      <td>12</td>\n      <td>0.866025</td>\n      <td>-0.5</td>\n      <td>100</td>\n      <td>...</td>\n      <td>244.68105</td>\n      <td>280.74017</td>\n      <td>95.698890</td>\n      <td>10.855428</td>\n      <td>233.43166</td>\n      <td>8.718232</td>\n      <td>6.470274</td>\n      <td>-0.288596</td>\n      <td>53195.550</td>\n      <td>14047002_100</td>\n    </tr>\n    <tr>\n      <th>289887</th>\n      <td>14047002</td>\n      <td>60</td>\n      <td>49</td>\n      <td>0</td>\n      <td>105</td>\n      <td>205</td>\n      <td>12</td>\n      <td>0.866025</td>\n      <td>-0.5</td>\n      <td>100</td>\n      <td>...</td>\n      <td>244.63007</td>\n      <td>280.71622</td>\n      <td>96.506714</td>\n      <td>11.232877</td>\n      <td>233.06723</td>\n      <td>8.972383</td>\n      <td>6.758688</td>\n      <td>-0.385087</td>\n      <td>53192.277</td>\n      <td>14047002_100</td>\n    </tr>\n    <tr>\n      <th>289888</th>\n      <td>14047002</td>\n      <td>60</td>\n      <td>49</td>\n      <td>0</td>\n      <td>105</td>\n      <td>205</td>\n      <td>12</td>\n      <td>0.866025</td>\n      <td>-0.5</td>\n      <td>100</td>\n      <td>...</td>\n      <td>244.48106</td>\n      <td>280.64618</td>\n      <td>98.868050</td>\n      <td>12.336187</td>\n      <td>232.00200</td>\n      <td>9.715289</td>\n      <td>7.601744</td>\n      <td>-0.667139</td>\n      <td>53182.710</td>\n      <td>14047002_100</td>\n    </tr>\n    <tr>\n      <th>289889</th>\n      <td>14047002</td>\n      <td>60</td>\n      <td>49</td>\n      <td>0</td>\n      <td>105</td>\n      <td>205</td>\n      <td>12</td>\n      <td>0.866025</td>\n      <td>-0.5</td>\n      <td>100</td>\n      <td>...</td>\n      <td>244.43011</td>\n      <td>280.62222</td>\n      <td>99.675880</td>\n      <td>12.713636</td>\n      <td>231.63760</td>\n      <td>9.969440</td>\n      <td>7.890157</td>\n      <td>-0.763630</td>\n      <td>53179.438</td>\n      <td>14047002_100</td>\n    </tr>\n    <tr>\n      <th>289890</th>\n      <td>14047002</td>\n      <td>60</td>\n      <td>49</td>\n      <td>0</td>\n      <td>105</td>\n      <td>205</td>\n      <td>12</td>\n      <td>0.866025</td>\n      <td>-0.5</td>\n      <td>100</td>\n      <td>...</td>\n      <td>244.30928</td>\n      <td>280.47810</td>\n      <td>91.169970</td>\n      <td>13.028963</td>\n      <td>230.16847</td>\n      <td>9.972842</td>\n      <td>8.356931</td>\n      <td>-0.636993</td>\n      <td>53187.500</td>\n      <td>14047002_100</td>\n    </tr>\n    <tr>\n      <th>289891</th>\n      <td>14047002</td>\n      <td>60</td>\n      <td>49</td>\n      <td>0</td>\n      <td>105</td>\n      <td>205</td>\n      <td>12</td>\n      <td>0.866025</td>\n      <td>-0.5</td>\n      <td>100</td>\n      <td>...</td>\n      <td>243.95604</td>\n      <td>280.05676</td>\n      <td>66.306520</td>\n      <td>13.950686</td>\n      <td>225.87411</td>\n      <td>9.982785</td>\n      <td>9.721346</td>\n      <td>-0.266823</td>\n      <td>53211.074</td>\n      <td>14047002_100</td>\n    </tr>\n    <tr>\n      <th>289892</th>\n      <td>14047002</td>\n      <td>60</td>\n      <td>49</td>\n      <td>0</td>\n      <td>105</td>\n      <td>205</td>\n      <td>12</td>\n      <td>0.866025</td>\n      <td>-0.5</td>\n      <td>100</td>\n      <td>...</td>\n      <td>243.83522</td>\n      <td>279.91260</td>\n      <td>57.800602</td>\n      <td>14.266012</td>\n      <td>224.40498</td>\n      <td>9.986187</td>\n      <td>10.188120</td>\n      <td>-0.140186</td>\n      <td>53219.137</td>\n      <td>14047002_100</td>\n    </tr>\n    <tr>\n      <th>289893</th>\n      <td>14047002</td>\n      <td>60</td>\n      <td>49</td>\n      <td>0</td>\n      <td>105</td>\n      <td>205</td>\n      <td>12</td>\n      <td>0.866025</td>\n      <td>-0.5</td>\n      <td>100</td>\n      <td>...</td>\n      <td>243.64297</td>\n      <td>279.76630</td>\n      <td>53.253498</td>\n      <td>15.435243</td>\n      <td>240.24309</td>\n      <td>11.392165</td>\n      <td>5.941080</td>\n      <td>-0.105536</td>\n      <td>53248.746</td>\n      <td>14047002_100</td>\n    </tr>\n    <tr>\n      <th>289894</th>\n      <td>14047002</td>\n      <td>60</td>\n      <td>49</td>\n      <td>0</td>\n      <td>105</td>\n      <td>205</td>\n      <td>12</td>\n      <td>0.866025</td>\n      <td>-0.5</td>\n      <td>100</td>\n      <td>...</td>\n      <td>243.08101</td>\n      <td>279.33865</td>\n      <td>39.961960</td>\n      <td>18.852993</td>\n      <td>286.53910</td>\n      <td>15.501946</td>\n      <td>-6.473341</td>\n      <td>-0.004254</td>\n      <td>53335.297</td>\n      <td>14047002_100</td>\n    </tr>\n    <tr>\n      <th>289895</th>\n      <td>14047002</td>\n      <td>60</td>\n      <td>49</td>\n      <td>0</td>\n      <td>105</td>\n      <td>205</td>\n      <td>12</td>\n      <td>0.866025</td>\n      <td>-0.5</td>\n      <td>100</td>\n      <td>...</td>\n      <td>242.88878</td>\n      <td>279.19235</td>\n      <td>35.414860</td>\n      <td>20.022224</td>\n      <td>302.37720</td>\n      <td>16.907925</td>\n      <td>-10.720383</td>\n      <td>0.030396</td>\n      <td>53364.906</td>\n      <td>14047002_100</td>\n    </tr>\n  </tbody>\n</table>\n<p>24 rows × 113 columns</p>\n</div>"
     },
     "execution_count": 7,
     "metadata": {},
     "output_type": "execute_result"
    }
   ],
   "source": [
    "df_test[df_test[\"Id\"] == \"14047002_100\"]"
   ],
   "metadata": {
    "collapsed": false,
    "pycharm": {
     "name": "#%%\n"
    }
   }
  },
  {
   "cell_type": "code",
   "execution_count": 8,
   "outputs": [],
   "source": [
    "df_test.to_csv(\"./X_all_test_id.csv\")"
   ],
   "metadata": {
    "collapsed": false,
    "pycharm": {
     "name": "#%%\n"
    }
   }
  },
  {
   "cell_type": "code",
   "execution_count": 8,
   "outputs": [
    {
     "data": {
      "text/plain": "array([  6,  19,  29,  31,  39,  65,  99, 100, 107, 118, 134, 143, 148,\n       176, 204, 205, 223, 229, 234, 236, 251, 256, 274, 277, 281, 283,\n       293, 306, 317, 335, 346])"
     },
     "execution_count": 8,
     "metadata": {},
     "output_type": "execute_result"
    }
   ],
   "source": [
    "df_test[(df_test[\"station_id\"] == 14047002) & (df_test[\"month\"] == 12)][\"day\"].unique()"
   ],
   "metadata": {
    "collapsed": false,
    "pycharm": {
     "name": "#%%\n"
    }
   }
  },
  {
   "cell_type": "code",
   "execution_count": 9,
   "outputs": [
    {
     "name": "stdout",
     "output_type": "stream",
     "text": [
      "<class 'pandas.core.frame.DataFrame'>\n",
      "RangeIndex: 2831400 entries, 0 to 2831399\n",
      "Columns: 112 entries, station_id to 3D_Arpege_isobar_500hpa_Geopotential (m^2/s^2)\n",
      "dtypes: float64(103), int64(9)\n",
      "memory usage: 2.4 GB\n"
     ]
    }
   ],
   "source": [
    "df_test.info()"
   ],
   "metadata": {
    "collapsed": false,
    "pycharm": {
     "name": "#%%\n"
    }
   }
  },
  {
   "cell_type": "code",
   "execution_count": 11,
   "metadata": {
    "collapsed": true
   },
   "outputs": [],
   "source": [
    "columns_test = df_test.columns"
   ]
  },
  {
   "cell_type": "code",
   "execution_count": 12,
   "outputs": [
    {
     "name": "stdout",
     "output_type": "stream",
     "text": [
      "station_id                                                            altitude (m)                                                          latitude                                                              \n",
      "longitude                                                             latitude_idx                                                          longitude_idx                                                         \n",
      "month                                                                 month_cos                                                             month_sin                                                             \n",
      "day                                                                   hour                                                                  hour_cos                                                              \n",
      "hour_sin                                                              wind_speed (m/s)                                                      wind_direction (deg)                                                  \n",
      "wind_component_u (m/s)                                                wind_component_v (m/s)                                                temperature (K)                                                       \n",
      "humidity (%)                                                          dew_point (K)                                                         condensation (Bool)                                                   \n",
      "shore_distance (m)                                                    current hour precipitations (kg/m^2)                                  next hour precipitation (kg/m^2)                                      \n",
      "2D_Arome_WindSpeed (m/s)                                              2D_Arome_WindDirection (deg)                                          2D_Arome_WindComponentU (m/s)                                         \n",
      "2D_Arome_WindComponentV (m/s)                                         2D_Arome_Temperature (K)                                              2D_Arome_DewPoint (T)                                                 \n",
      "2D_Arome_RelavtiveHumidity (%)                                        2D_Arome_TotalPrecipitation (kg/m^2)                                  2D_Arome_MeaSeaLevelPressure (Pa)                                     \n",
      "2D_Arpege_WindSpeed (m/s)                                             2D_Arpege_WindDirection (deg)                                         2D_Arpege_WindComponentU (m/s)                                        \n",
      "2D_Arpege_WindComponentV (m/s)                                        2D_Arpege_Temperature (K)                                             2D_Arpege_DewPoint (T)                                                \n",
      "2D_Arpege_RelavtiveHumidity (%)                                       2D_Arpege_TotalPrecipitation (kg/m^2)                                 2D_Arpege_MeaSeaLevelPressure (Pa)                                    \n",
      "3D_Arpege_height_Pressure_20m (Pa)                                    3D_Arpege_height_Pressure_100m (Pa)                                   3D_Arpege_height_Pressure_500m (Pa)                                   \n",
      "3D_Arpege_height_Pressure_875m (Pa)                                   3D_Arpege_height_Pressure_1375m (Pa)                                  3D_Arpege_height_Pressure_2000m (Pa)                                  \n",
      "3D_Arpege_height_Pressure_3000m (Pa)                                  3D_Arpege_isobar_1000hpa_Temperature (K)                              3D_Arpege_isobar_1000hpa_PseudoAdiabaticPotentialTemperature (K)      \n",
      "3D_Arpege_isobar_1000hpa_RelavtiveHumidity (%)                        3D_Arpege_isobar_1000hpa_WindSpeed (m/s)                              3D_Arpege_isobar_1000hpa_WindDirection (deg)                          \n",
      "3D_Arpege_isobar_1000hpa_WindComponentU (m/s)                         3D_Arpege_isobar_1000hpa_WindComponentV (m/s)                         3D_Arpege_isobar_1000hpa_VerticalVelocity (Pa/s)                      \n",
      "3D_Arpege_isobar_1000hpa_Geopotential (m^2/s^2)                       3D_Arpege_isobar_950hpa_Temperature (K)                               3D_Arpege_isobar_950hpa_PseudoAdiabaticPotentialTemperature (K)       \n",
      "3D_Arpege_isobar_950hpa_RelavtiveHumidity (%)                         3D_Arpege_isobar_950hpa_WindSpeed (m/s)                               3D_Arpege_isobar_950hpa_WindDirection (deg)                           \n",
      "3D_Arpege_isobar_950hpa_WindComponentU (m/s)                          3D_Arpege_isobar_950hpa_WindComponentV (m/s)                          3D_Arpege_isobar_950hpa_VerticalVelocity (Pa/s)                       \n",
      "3D_Arpege_isobar_950hpa_Geopotential (m^2/s^2)                        3D_Arpege_isobar_925hpa_Temperature (K)                               3D_Arpege_isobar_925hpa_PseudoAdiabaticPotentialTemperature (K)       \n",
      "3D_Arpege_isobar_925hpa_RelavtiveHumidity (%)                         3D_Arpege_isobar_925hpa_WindSpeed (m/s)                               3D_Arpege_isobar_925hpa_WindDirection (deg)                           \n",
      "3D_Arpege_isobar_925hpa_WindComponentU (m/s)                          3D_Arpege_isobar_925hpa_WindComponentV (m/s)                          3D_Arpege_isobar_925hpa_VerticalVelocity (Pa/s)                       \n",
      "3D_Arpege_isobar_925hpa_Geopotential (m^2/s^2)                        3D_Arpege_isobar_850hpa_Temperature (K)                               3D_Arpege_isobar_850hpa_PseudoAdiabaticPotentialTemperature (K)       \n",
      "3D_Arpege_isobar_850hpa_RelavtiveHumidity (%)                         3D_Arpege_isobar_850hpa_WindSpeed (m/s)                               3D_Arpege_isobar_850hpa_WindDirection (deg)                           \n",
      "3D_Arpege_isobar_850hpa_WindComponentU (m/s)                          3D_Arpege_isobar_850hpa_WindComponentV (m/s)                          3D_Arpege_isobar_850hpa_VerticalVelocity (Pa/s)                       \n",
      "3D_Arpege_isobar_850hpa_Geopotential (m^2/s^2)                        3D_Arpege_isobar_700hpa_Temperature (K)                               3D_Arpege_isobar_700hpa_PseudoAdiabaticPotentialTemperature (K)       \n",
      "3D_Arpege_isobar_700hpa_RelavtiveHumidity (%)                         3D_Arpege_isobar_700hpa_WindSpeed (m/s)                               3D_Arpege_isobar_700hpa_WindDirection (deg)                           \n",
      "3D_Arpege_isobar_700hpa_WindComponentU (m/s)                          3D_Arpege_isobar_700hpa_WindComponentV (m/s)                          3D_Arpege_isobar_700hpa_VerticalVelocity (Pa/s)                       \n",
      "3D_Arpege_isobar_700hpa_Geopotential (m^2/s^2)                        3D_Arpege_isobar_600hpa_Temperature (K)                               3D_Arpege_isobar_600hpa_PseudoAdiabaticPotentialTemperature (K)       \n",
      "3D_Arpege_isobar_600hpa_RelavtiveHumidity (%)                         3D_Arpege_isobar_600hpa_WindSpeed (m/s)                               3D_Arpege_isobar_600hpa_WindDirection (deg)                           \n",
      "3D_Arpege_isobar_600hpa_WindComponentU (m/s)                          3D_Arpege_isobar_600hpa_WindComponentV (m/s)                          3D_Arpege_isobar_600hpa_VerticalVelocity (Pa/s)                       \n",
      "3D_Arpege_isobar_600hpa_Geopotential (m^2/s^2)                        3D_Arpege_isobar_500hpa_Temperature (K)                               3D_Arpege_isobar_500hpa_PseudoAdiabaticPotentialTemperature (K)       \n",
      "3D_Arpege_isobar_500hpa_RelavtiveHumidity (%)                         3D_Arpege_isobar_500hpa_WindSpeed (m/s)                               3D_Arpege_isobar_500hpa_WindDirection (deg)                           \n",
      "3D_Arpege_isobar_500hpa_WindComponentU (m/s)                          3D_Arpege_isobar_500hpa_WindComponentV (m/s)                          3D_Arpege_isobar_500hpa_VerticalVelocity (Pa/s)                       \n",
      "3D_Arpege_isobar_500hpa_Geopotential (m^2/s^2)                        "
     ]
    }
   ],
   "source": [
    "i = 0\n",
    "for col in columns_test:\n",
    "    print(col.ljust(70), end=\"\")\n",
    "    i += 1\n",
    "    if i % 3 == 0:\n",
    "        print()"
   ],
   "metadata": {
    "collapsed": false,
    "pycharm": {
     "name": "#%%\n"
    }
   }
  },
  {
   "cell_type": "code",
   "execution_count": 13,
   "outputs": [
    {
     "name": "stdout",
     "output_type": "stream",
     "text": [
      "station_id ------------------------------------------------------------ : 0 --------- ratio : 0.0\n",
      "altitude (m) ---------------------------------------------------------- : 0 --------- ratio : 0.0\n",
      "latitude -------------------------------------------------------------- : 0 --------- ratio : 0.0\n",
      "longitude ------------------------------------------------------------- : 0 --------- ratio : 0.0\n",
      "latitude_idx ---------------------------------------------------------- : 0 --------- ratio : 0.0\n",
      "longitude_idx --------------------------------------------------------- : 0 --------- ratio : 0.0\n",
      "month ----------------------------------------------------------------- : 0 --------- ratio : 0.0\n",
      "month_cos ------------------------------------------------------------- : 0 --------- ratio : 0.0\n",
      "month_sin ------------------------------------------------------------- : 0 --------- ratio : 0.0\n",
      "day ------------------------------------------------------------------- : 0 --------- ratio : 0.0\n",
      "hour ------------------------------------------------------------------ : 0 --------- ratio : 0.0\n",
      "hour_cos -------------------------------------------------------------- : 0 --------- ratio : 0.0\n",
      "hour_sin -------------------------------------------------------------- : 0 --------- ratio : 0.0\n",
      "wind_speed (m/s) ------------------------------------------------------ : 1540256 --- ratio : 0.54\n",
      "wind_direction (deg) -------------------------------------------------- : 1540662 --- ratio : 0.54\n",
      "wind_component_u (m/s) ------------------------------------------------ : 1540664 --- ratio : 0.54\n",
      "wind_component_v (m/s) ------------------------------------------------ : 1540664 --- ratio : 0.54\n",
      "temperature (K) ------------------------------------------------------- : 724355 ---- ratio : 0.26\n",
      "humidity (%) ---------------------------------------------------------- : 1435739 --- ratio : 0.51\n",
      "dew_point (K) --------------------------------------------------------- : 1436188 --- ratio : 0.51\n",
      "condensation (Bool) --------------------------------------------------- : 1436543 --- ratio : 0.51\n",
      "shore_distance (m) ---------------------------------------------------- : 0 --------- ratio : 0.0\n",
      "current hour precipitations (kg/m^2) ---------------------------------- : 751467 ---- ratio : 0.27\n",
      "next hour precipitation (kg/m^2) -------------------------------------- : 751467 ---- ratio : 0.27\n",
      "2D_Arome_WindSpeed (m/s) ---------------------------------------------- : 226200 ---- ratio : 0.08\n",
      "2D_Arome_WindDirection (deg) ------------------------------------------ : 226200 ---- ratio : 0.08\n",
      "2D_Arome_WindComponentU (m/s) ----------------------------------------- : 226200 ---- ratio : 0.08\n",
      "2D_Arome_WindComponentV (m/s) ----------------------------------------- : 210600 ---- ratio : 0.07\n",
      "2D_Arome_Temperature (K) ---------------------------------------------- : 171600 ---- ratio : 0.06\n",
      "2D_Arome_DewPoint (T) ------------------------------------------------- : 179400 ---- ratio : 0.06\n",
      "2D_Arome_RelavtiveHumidity (%) ---------------------------------------- : 179400 ---- ratio : 0.06\n",
      "2D_Arome_TotalPrecipitation (kg/m^2) ---------------------------------- : 195000 ---- ratio : 0.07\n",
      "2D_Arome_MeaSeaLevelPressure (Pa) ------------------------------------- : 148200 ---- ratio : 0.05\n",
      "2D_Arpege_WindSpeed (m/s) --------------------------------------------- : 23400 ----- ratio : 0.01\n",
      "2D_Arpege_WindDirection (deg) ----------------------------------------- : 23400 ----- ratio : 0.01\n",
      "2D_Arpege_WindComponentU (m/s) ---------------------------------------- : 23400 ----- ratio : 0.01\n",
      "2D_Arpege_WindComponentV (m/s) ---------------------------------------- : 23400 ----- ratio : 0.01\n",
      "2D_Arpege_Temperature (K) --------------------------------------------- : 23400 ----- ratio : 0.01\n",
      "2D_Arpege_DewPoint (T) ------------------------------------------------ : 23400 ----- ratio : 0.01\n",
      "2D_Arpege_RelavtiveHumidity (%) --------------------------------------- : 23400 ----- ratio : 0.01\n",
      "2D_Arpege_TotalPrecipitation (kg/m^2) --------------------------------- : 15600 ----- ratio : 0.01\n",
      "2D_Arpege_MeaSeaLevelPressure (Pa) ------------------------------------ : 15600 ----- ratio : 0.01\n",
      "3D_Arpege_height_Pressure_20m (Pa) ------------------------------------ : 14950 ----- ratio : 0.01\n",
      "3D_Arpege_height_Pressure_100m (Pa) ----------------------------------- : 14950 ----- ratio : 0.01\n",
      "3D_Arpege_height_Pressure_500m (Pa) ----------------------------------- : 14950 ----- ratio : 0.01\n",
      "3D_Arpege_height_Pressure_875m (Pa) ----------------------------------- : 14950 ----- ratio : 0.01\n",
      "3D_Arpege_height_Pressure_1375m (Pa) ---------------------------------- : 14950 ----- ratio : 0.01\n",
      "3D_Arpege_height_Pressure_2000m (Pa) ---------------------------------- : 14950 ----- ratio : 0.01\n",
      "3D_Arpege_height_Pressure_3000m (Pa) ---------------------------------- : 14950 ----- ratio : 0.01\n",
      "3D_Arpege_isobar_1000hpa_Temperature (K) ------------------------------ : 654550 ---- ratio : 0.23\n",
      "3D_Arpege_isobar_1000hpa_PseudoAdiabaticPotentialTemperature (K) ------ : 1013350 --- ratio : 0.36\n",
      "3D_Arpege_isobar_1000hpa_RelavtiveHumidity (%) ------------------------ : 654550 ---- ratio : 0.23\n",
      "3D_Arpege_isobar_1000hpa_WindSpeed (m/s) ------------------------------ : 654550 ---- ratio : 0.23\n",
      "3D_Arpege_isobar_1000hpa_WindDirection (deg) -------------------------- : 654550 ---- ratio : 0.23\n",
      "3D_Arpege_isobar_1000hpa_WindComponentU (m/s) ------------------------- : 654550 ---- ratio : 0.23\n",
      "3D_Arpege_isobar_1000hpa_WindComponentV (m/s) ------------------------- : 654550 ---- ratio : 0.23\n",
      "3D_Arpege_isobar_1000hpa_VerticalVelocity (Pa/s) ---------------------- : 654550 ---- ratio : 0.23\n",
      "3D_Arpege_isobar_1000hpa_Geopotential (m^2/s^2) ----------------------- : 654550 ---- ratio : 0.23\n",
      "3D_Arpege_isobar_950hpa_Temperature (K) ------------------------------- : 654550 ---- ratio : 0.23\n",
      "3D_Arpege_isobar_950hpa_PseudoAdiabaticPotentialTemperature (K) ------- : 1013350 --- ratio : 0.36\n",
      "3D_Arpege_isobar_950hpa_RelavtiveHumidity (%) ------------------------- : 654550 ---- ratio : 0.23\n",
      "3D_Arpege_isobar_950hpa_WindSpeed (m/s) ------------------------------- : 654550 ---- ratio : 0.23\n",
      "3D_Arpege_isobar_950hpa_WindDirection (deg) --------------------------- : 654550 ---- ratio : 0.23\n",
      "3D_Arpege_isobar_950hpa_WindComponentU (m/s) -------------------------- : 654550 ---- ratio : 0.23\n",
      "3D_Arpege_isobar_950hpa_WindComponentV (m/s) -------------------------- : 654550 ---- ratio : 0.23\n",
      "3D_Arpege_isobar_950hpa_VerticalVelocity (Pa/s) ----------------------- : 654550 ---- ratio : 0.23\n",
      "3D_Arpege_isobar_950hpa_Geopotential (m^2/s^2) ------------------------ : 654550 ---- ratio : 0.23\n",
      "3D_Arpege_isobar_925hpa_Temperature (K) ------------------------------- : 654550 ---- ratio : 0.23\n",
      "3D_Arpege_isobar_925hpa_PseudoAdiabaticPotentialTemperature (K) ------- : 1013350 --- ratio : 0.36\n",
      "3D_Arpege_isobar_925hpa_RelavtiveHumidity (%) ------------------------- : 654550 ---- ratio : 0.23\n",
      "3D_Arpege_isobar_925hpa_WindSpeed (m/s) ------------------------------- : 654550 ---- ratio : 0.23\n",
      "3D_Arpege_isobar_925hpa_WindDirection (deg) --------------------------- : 654550 ---- ratio : 0.23\n",
      "3D_Arpege_isobar_925hpa_WindComponentU (m/s) -------------------------- : 654550 ---- ratio : 0.23\n",
      "3D_Arpege_isobar_925hpa_WindComponentV (m/s) -------------------------- : 654550 ---- ratio : 0.23\n",
      "3D_Arpege_isobar_925hpa_VerticalVelocity (Pa/s) ----------------------- : 654550 ---- ratio : 0.23\n",
      "3D_Arpege_isobar_925hpa_Geopotential (m^2/s^2) ------------------------ : 654550 ---- ratio : 0.23\n",
      "3D_Arpege_isobar_850hpa_Temperature (K) ------------------------------- : 654550 ---- ratio : 0.23\n",
      "3D_Arpege_isobar_850hpa_PseudoAdiabaticPotentialTemperature (K) ------- : 1013350 --- ratio : 0.36\n",
      "3D_Arpege_isobar_850hpa_RelavtiveHumidity (%) ------------------------- : 654550 ---- ratio : 0.23\n",
      "3D_Arpege_isobar_850hpa_WindSpeed (m/s) ------------------------------- : 654550 ---- ratio : 0.23\n",
      "3D_Arpege_isobar_850hpa_WindDirection (deg) --------------------------- : 654550 ---- ratio : 0.23\n",
      "3D_Arpege_isobar_850hpa_WindComponentU (m/s) -------------------------- : 654550 ---- ratio : 0.23\n",
      "3D_Arpege_isobar_850hpa_WindComponentV (m/s) -------------------------- : 654550 ---- ratio : 0.23\n",
      "3D_Arpege_isobar_850hpa_VerticalVelocity (Pa/s) ----------------------- : 654550 ---- ratio : 0.23\n",
      "3D_Arpege_isobar_850hpa_Geopotential (m^2/s^2) ------------------------ : 654550 ---- ratio : 0.23\n",
      "3D_Arpege_isobar_700hpa_Temperature (K) ------------------------------- : 654550 ---- ratio : 0.23\n",
      "3D_Arpege_isobar_700hpa_PseudoAdiabaticPotentialTemperature (K) ------- : 1013350 --- ratio : 0.36\n",
      "3D_Arpege_isobar_700hpa_RelavtiveHumidity (%) ------------------------- : 654550 ---- ratio : 0.23\n",
      "3D_Arpege_isobar_700hpa_WindSpeed (m/s) ------------------------------- : 654550 ---- ratio : 0.23\n",
      "3D_Arpege_isobar_700hpa_WindDirection (deg) --------------------------- : 654550 ---- ratio : 0.23\n",
      "3D_Arpege_isobar_700hpa_WindComponentU (m/s) -------------------------- : 654550 ---- ratio : 0.23\n",
      "3D_Arpege_isobar_700hpa_WindComponentV (m/s) -------------------------- : 654550 ---- ratio : 0.23\n",
      "3D_Arpege_isobar_700hpa_VerticalVelocity (Pa/s) ----------------------- : 654550 ---- ratio : 0.23\n",
      "3D_Arpege_isobar_700hpa_Geopotential (m^2/s^2) ------------------------ : 654550 ---- ratio : 0.23\n",
      "3D_Arpege_isobar_600hpa_Temperature (K) ------------------------------- : 654550 ---- ratio : 0.23\n",
      "3D_Arpege_isobar_600hpa_PseudoAdiabaticPotentialTemperature (K) ------- : 1013350 --- ratio : 0.36\n",
      "3D_Arpege_isobar_600hpa_RelavtiveHumidity (%) ------------------------- : 654550 ---- ratio : 0.23\n",
      "3D_Arpege_isobar_600hpa_WindSpeed (m/s) ------------------------------- : 654550 ---- ratio : 0.23\n",
      "3D_Arpege_isobar_600hpa_WindDirection (deg) --------------------------- : 654550 ---- ratio : 0.23\n",
      "3D_Arpege_isobar_600hpa_WindComponentU (m/s) -------------------------- : 654550 ---- ratio : 0.23\n",
      "3D_Arpege_isobar_600hpa_WindComponentV (m/s) -------------------------- : 654550 ---- ratio : 0.23\n",
      "3D_Arpege_isobar_600hpa_VerticalVelocity (Pa/s) ----------------------- : 654550 ---- ratio : 0.23\n",
      "3D_Arpege_isobar_600hpa_Geopotential (m^2/s^2) ------------------------ : 654550 ---- ratio : 0.23\n",
      "3D_Arpege_isobar_500hpa_Temperature (K) ------------------------------- : 654550 ---- ratio : 0.23\n",
      "3D_Arpege_isobar_500hpa_PseudoAdiabaticPotentialTemperature (K) ------- : 1013350 --- ratio : 0.36\n",
      "3D_Arpege_isobar_500hpa_RelavtiveHumidity (%) ------------------------- : 654550 ---- ratio : 0.23\n",
      "3D_Arpege_isobar_500hpa_WindSpeed (m/s) ------------------------------- : 654550 ---- ratio : 0.23\n",
      "3D_Arpege_isobar_500hpa_WindDirection (deg) --------------------------- : 654550 ---- ratio : 0.23\n",
      "3D_Arpege_isobar_500hpa_WindComponentU (m/s) -------------------------- : 654550 ---- ratio : 0.23\n",
      "3D_Arpege_isobar_500hpa_WindComponentV (m/s) -------------------------- : 654550 ---- ratio : 0.23\n",
      "3D_Arpege_isobar_500hpa_VerticalVelocity (Pa/s) ----------------------- : 654550 ---- ratio : 0.23\n",
      "3D_Arpege_isobar_500hpa_Geopotential (m^2/s^2) ------------------------ : 654550 ---- ratio : 0.23\n"
     ]
    }
   ],
   "source": [
    "for col in columns_test:\n",
    "    total_na_test = df_test[col].isna().sum()\n",
    "    ratio_na_test = np.round(total_na_test / len(df_test), 2)\n",
    "    print(col, \"-\" * (70 - len(col)), \":\", total_na_test, \"-\" * (10 - len(str(total_na_test))), \"ratio :\",\n",
    "          ratio_na_test)"
   ],
   "metadata": {
    "collapsed": false,
    "pycharm": {
     "name": "#%%\n"
    }
   }
  },
  {
   "cell_type": "code",
   "execution_count": 6,
   "outputs": [
    {
     "data": {
      "text/plain": "         current hour precipitations (kg/m^2)  \\\n0                                         NaN   \n1                                         NaN   \n2                                         NaN   \n3                                         NaN   \n4                                         NaN   \n...                                       ...   \n2831395                                   NaN   \n2831396                                   NaN   \n2831397                                   NaN   \n2831398                                   NaN   \n2831399                                   NaN   \n\n         next hour precipitation (kg/m^2)  \n0                                     NaN  \n1                                     NaN  \n2                                     NaN  \n3                                     NaN  \n4                                     NaN  \n...                                   ...  \n2831395                               NaN  \n2831396                               NaN  \n2831397                               NaN  \n2831398                               NaN  \n2831399                               NaN  \n\n[2831400 rows x 2 columns]",
      "text/html": "<div>\n<style scoped>\n    .dataframe tbody tr th:only-of-type {\n        vertical-align: middle;\n    }\n\n    .dataframe tbody tr th {\n        vertical-align: top;\n    }\n\n    .dataframe thead th {\n        text-align: right;\n    }\n</style>\n<table border=\"1\" class=\"dataframe\">\n  <thead>\n    <tr style=\"text-align: right;\">\n      <th></th>\n      <th>current hour precipitations (kg/m^2)</th>\n      <th>next hour precipitation (kg/m^2)</th>\n    </tr>\n  </thead>\n  <tbody>\n    <tr>\n      <th>0</th>\n      <td>NaN</td>\n      <td>NaN</td>\n    </tr>\n    <tr>\n      <th>1</th>\n      <td>NaN</td>\n      <td>NaN</td>\n    </tr>\n    <tr>\n      <th>2</th>\n      <td>NaN</td>\n      <td>NaN</td>\n    </tr>\n    <tr>\n      <th>3</th>\n      <td>NaN</td>\n      <td>NaN</td>\n    </tr>\n    <tr>\n      <th>4</th>\n      <td>NaN</td>\n      <td>NaN</td>\n    </tr>\n    <tr>\n      <th>...</th>\n      <td>...</td>\n      <td>...</td>\n    </tr>\n    <tr>\n      <th>2831395</th>\n      <td>NaN</td>\n      <td>NaN</td>\n    </tr>\n    <tr>\n      <th>2831396</th>\n      <td>NaN</td>\n      <td>NaN</td>\n    </tr>\n    <tr>\n      <th>2831397</th>\n      <td>NaN</td>\n      <td>NaN</td>\n    </tr>\n    <tr>\n      <th>2831398</th>\n      <td>NaN</td>\n      <td>NaN</td>\n    </tr>\n    <tr>\n      <th>2831399</th>\n      <td>NaN</td>\n      <td>NaN</td>\n    </tr>\n  </tbody>\n</table>\n<p>2831400 rows × 2 columns</p>\n</div>"
     },
     "execution_count": 6,
     "metadata": {},
     "output_type": "execute_result"
    }
   ],
   "source": [
    "df_test[[\"current hour precipitations (kg/m^2)\", \"next hour precipitation (kg/m^2)\"]]"
   ],
   "metadata": {
    "collapsed": false,
    "pycharm": {
     "name": "#%%\n"
    }
   }
  },
  {
   "cell_type": "markdown",
   "source": [
    "# X_all_2017"
   ],
   "metadata": {
    "collapsed": false
   }
  },
  {
   "cell_type": "code",
   "execution_count": 2,
   "outputs": [],
   "source": [
    "df_2017 = pd.read_csv(\"X_all_2017.csv\")"
   ],
   "metadata": {
    "collapsed": false,
    "pycharm": {
     "name": "#%%\n"
    }
   }
  },
  {
   "cell_type": "code",
   "execution_count": 28,
   "outputs": [
    {
     "data": {
      "text/plain": "   station_id  altitude (m)  latitude  longitude  latitude_idx  longitude_idx  \\\n0    86118001           120        46          0           217            273   \n1    86118001           120        46          0           217            273   \n2    86118001           120        46          0           217            273   \n3    86118001           120        46          0           217            273   \n4    86118001           120        46          0           217            273   \n\n   month  month_cos  month_sin  day  ...  \\\n0      1        1.0        0.0    1  ...   \n1      1        1.0        0.0    1  ...   \n2      1        1.0        0.0    1  ...   \n3      1        1.0        0.0    1  ...   \n4      1        1.0        0.0    1  ...   \n\n   3D_Arpege_isobar_500hpa_Temperature (K)  \\\n0                                249.76094   \n1                                249.65944   \n2                                249.39796   \n3                                249.36409   \n4                                249.42436   \n\n   3D_Arpege_isobar_500hpa_PseudoAdiabaticPotentialTemperature (K)  \\\n0                                          283.11902                 \n1                                          283.10390                 \n2                                          283.04110                 \n3                                          283.03660                 \n4                                          283.06360                 \n\n   3D_Arpege_isobar_500hpa_RelavtiveHumidity (%)  \\\n0                                      42.759426   \n1                                      45.702080   \n2                                      52.035694   \n3                                      53.431810   \n4                                      53.002120   \n\n   3D_Arpege_isobar_500hpa_WindSpeed (m/s)  \\\n0                                 5.975164   \n1                                 6.045157   \n2                                 6.358003   \n3                                 6.715887   \n4                                 7.275373   \n\n   3D_Arpege_isobar_500hpa_WindDirection (deg)  \\\n0                                    316.96954   \n1                                    309.94705   \n2                                    304.65793   \n3                                    297.38170   \n4                                    290.83234   \n\n   3D_Arpege_isobar_500hpa_WindComponentU (m/s)  \\\n0                                      4.078451   \n1                                      4.635465   \n2                                      5.229194   \n3                                      5.962841   \n4                                      6.801197   \n\n   3D_Arpege_isobar_500hpa_WindComponentV (m/s)  \\\n0                                     -4.367962   \n1                                     -3.884725   \n2                                     -3.618646   \n3                                     -3.093526   \n4                                     -2.588032   \n\n   3D_Arpege_isobar_500hpa_VerticalVelocity (Pa/s)  \\\n0                                         0.142121   \n1                                        -0.048366   \n2                                        -0.081588   \n3                                         0.070717   \n4                                         0.064122   \n\n   3D_Arpege_isobar_500hpa_Geopotential (m^2/s^2)            Id  \n0                                       55587.668  86118001_366  \n1                                       55537.383  86118001_366  \n2                                       55472.984  86118001_366  \n3                                       55397.582  86118001_366  \n4                                       55333.258  86118001_366  \n\n[5 rows x 113 columns]",
      "text/html": "<div>\n<style scoped>\n    .dataframe tbody tr th:only-of-type {\n        vertical-align: middle;\n    }\n\n    .dataframe tbody tr th {\n        vertical-align: top;\n    }\n\n    .dataframe thead th {\n        text-align: right;\n    }\n</style>\n<table border=\"1\" class=\"dataframe\">\n  <thead>\n    <tr style=\"text-align: right;\">\n      <th></th>\n      <th>station_id</th>\n      <th>altitude (m)</th>\n      <th>latitude</th>\n      <th>longitude</th>\n      <th>latitude_idx</th>\n      <th>longitude_idx</th>\n      <th>month</th>\n      <th>month_cos</th>\n      <th>month_sin</th>\n      <th>day</th>\n      <th>...</th>\n      <th>3D_Arpege_isobar_500hpa_Temperature (K)</th>\n      <th>3D_Arpege_isobar_500hpa_PseudoAdiabaticPotentialTemperature (K)</th>\n      <th>3D_Arpege_isobar_500hpa_RelavtiveHumidity (%)</th>\n      <th>3D_Arpege_isobar_500hpa_WindSpeed (m/s)</th>\n      <th>3D_Arpege_isobar_500hpa_WindDirection (deg)</th>\n      <th>3D_Arpege_isobar_500hpa_WindComponentU (m/s)</th>\n      <th>3D_Arpege_isobar_500hpa_WindComponentV (m/s)</th>\n      <th>3D_Arpege_isobar_500hpa_VerticalVelocity (Pa/s)</th>\n      <th>3D_Arpege_isobar_500hpa_Geopotential (m^2/s^2)</th>\n      <th>Id</th>\n    </tr>\n  </thead>\n  <tbody>\n    <tr>\n      <th>0</th>\n      <td>86118001</td>\n      <td>120</td>\n      <td>46</td>\n      <td>0</td>\n      <td>217</td>\n      <td>273</td>\n      <td>1</td>\n      <td>1.0</td>\n      <td>0.0</td>\n      <td>1</td>\n      <td>...</td>\n      <td>249.76094</td>\n      <td>283.11902</td>\n      <td>42.759426</td>\n      <td>5.975164</td>\n      <td>316.96954</td>\n      <td>4.078451</td>\n      <td>-4.367962</td>\n      <td>0.142121</td>\n      <td>55587.668</td>\n      <td>86118001_366</td>\n    </tr>\n    <tr>\n      <th>1</th>\n      <td>86118001</td>\n      <td>120</td>\n      <td>46</td>\n      <td>0</td>\n      <td>217</td>\n      <td>273</td>\n      <td>1</td>\n      <td>1.0</td>\n      <td>0.0</td>\n      <td>1</td>\n      <td>...</td>\n      <td>249.65944</td>\n      <td>283.10390</td>\n      <td>45.702080</td>\n      <td>6.045157</td>\n      <td>309.94705</td>\n      <td>4.635465</td>\n      <td>-3.884725</td>\n      <td>-0.048366</td>\n      <td>55537.383</td>\n      <td>86118001_366</td>\n    </tr>\n    <tr>\n      <th>2</th>\n      <td>86118001</td>\n      <td>120</td>\n      <td>46</td>\n      <td>0</td>\n      <td>217</td>\n      <td>273</td>\n      <td>1</td>\n      <td>1.0</td>\n      <td>0.0</td>\n      <td>1</td>\n      <td>...</td>\n      <td>249.39796</td>\n      <td>283.04110</td>\n      <td>52.035694</td>\n      <td>6.358003</td>\n      <td>304.65793</td>\n      <td>5.229194</td>\n      <td>-3.618646</td>\n      <td>-0.081588</td>\n      <td>55472.984</td>\n      <td>86118001_366</td>\n    </tr>\n    <tr>\n      <th>3</th>\n      <td>86118001</td>\n      <td>120</td>\n      <td>46</td>\n      <td>0</td>\n      <td>217</td>\n      <td>273</td>\n      <td>1</td>\n      <td>1.0</td>\n      <td>0.0</td>\n      <td>1</td>\n      <td>...</td>\n      <td>249.36409</td>\n      <td>283.03660</td>\n      <td>53.431810</td>\n      <td>6.715887</td>\n      <td>297.38170</td>\n      <td>5.962841</td>\n      <td>-3.093526</td>\n      <td>0.070717</td>\n      <td>55397.582</td>\n      <td>86118001_366</td>\n    </tr>\n    <tr>\n      <th>4</th>\n      <td>86118001</td>\n      <td>120</td>\n      <td>46</td>\n      <td>0</td>\n      <td>217</td>\n      <td>273</td>\n      <td>1</td>\n      <td>1.0</td>\n      <td>0.0</td>\n      <td>1</td>\n      <td>...</td>\n      <td>249.42436</td>\n      <td>283.06360</td>\n      <td>53.002120</td>\n      <td>7.275373</td>\n      <td>290.83234</td>\n      <td>6.801197</td>\n      <td>-2.588032</td>\n      <td>0.064122</td>\n      <td>55333.258</td>\n      <td>86118001_366</td>\n    </tr>\n  </tbody>\n</table>\n<p>5 rows × 113 columns</p>\n</div>"
     },
     "execution_count": 28,
     "metadata": {},
     "output_type": "execute_result"
    }
   ],
   "source": [
    "def month_day_to_abs_day(month_day):\n",
    "    nb_day_in_month = np.array([31,28,31,30,31,30,31,31,30,31,30,31])\n",
    "    month,day = month_day.split('_')\n",
    "    month=int(month)\n",
    "    day=int(day)\n",
    "    abs_day = nb_day_in_month[:month-1].sum() + day + 366 - 1 # start count at 0\n",
    "    return abs_day\n",
    "\n",
    "df_2017[\"absolute_day\"] = df_2017[\"month\"].astype(str)+\"_\"+df_2017[\"day\"].astype(str)\n",
    "df_2017[\"absolute_day\"] = df_2017[\"absolute_day\"].apply(month_day_to_abs_day)\n",
    "df_2017[\"Id\"] = df_2017[\"station_id\"].astype(str)+\"_\"+df_2017[\"absolute_day\"].astype(str)\n",
    "del df_2017[\"absolute_day\"]\n",
    "df_2017.head(5)"
   ],
   "metadata": {
    "collapsed": false,
    "pycharm": {
     "name": "#%%\n"
    }
   }
  },
  {
   "cell_type": "code",
   "execution_count": 30,
   "outputs": [],
   "source": [
    "df_2017.to_csv(\"X_all_2017_id.csv\")"
   ],
   "metadata": {
    "collapsed": false,
    "pycharm": {
     "name": "#%%\n"
    }
   }
  },
  {
   "cell_type": "code",
   "execution_count": 15,
   "outputs": [
    {
     "name": "stdout",
     "output_type": "stream",
     "text": [
      "<class 'pandas.core.frame.DataFrame'>\n",
      "RangeIndex: 2847000 entries, 0 to 2846999\n",
      "Columns: 112 entries, station_id to 3D_Arpege_isobar_500hpa_Geopotential (m^2/s^2)\n",
      "dtypes: float64(103), int64(9)\n",
      "memory usage: 2.4 GB\n"
     ]
    }
   ],
   "source": [
    "df_2017.info()"
   ],
   "metadata": {
    "collapsed": false,
    "pycharm": {
     "name": "#%%\n"
    }
   }
  },
  {
   "cell_type": "code",
   "execution_count": 20,
   "outputs": [
    {
     "name": "stdout",
     "output_type": "stream",
     "text": [
      "station_id : 325\n",
      "altitude (m) : 170\n",
      "latitude : 5\n",
      "longitude : 7\n",
      "latitude_idx : 132\n",
      "longitude_idx : 176\n",
      "month : 12\n",
      "month_cos : 8\n",
      "month_sin : 8\n",
      "day : 31\n",
      "hour : 24\n",
      "hour_cos : 14\n",
      "hour_sin : 14\n",
      "wind_speed (m/s) : 3935\n",
      "wind_direction (deg) : 1074\n",
      "wind_component_u (m/s) : 190847\n",
      "wind_component_v (m/s) : 198535\n",
      "temperature (K) : 8125\n",
      "humidity (%) : 2025\n",
      "dew_point (K) : 6296\n",
      "condensation (Bool) : 3\n",
      "shore_distance (m) : 318\n",
      "current hour precipitations (kg/m^2) : 225\n",
      "next hour precipitation (kg/m^2) : 225\n",
      "2D_Arome_WindSpeed (m/s) : 1773255\n",
      "2D_Arome_WindDirection (deg) : 1397255\n",
      "2D_Arome_WindComponentU (m/s) : 1681363\n",
      "2D_Arome_WindComponentV (m/s) : 1671323\n",
      "2D_Arome_Temperature (K) : 832517\n",
      "2D_Arome_DewPoint (T) : 654634\n",
      "2D_Arome_RelavtiveHumidity (%) : 1686979\n",
      "2D_Arome_TotalPrecipitation (kg/m^2) : 519843\n",
      "2D_Arome_MeaSeaLevelPressure (Pa) : 505419\n",
      "2D_Arpege_WindSpeed (m/s) : 1987694\n",
      "2D_Arpege_WindDirection (deg) : 1920303\n",
      "2D_Arpege_WindComponentU (m/s) : 2034407\n",
      "2D_Arpege_WindComponentV (m/s) : 2039322\n",
      "2D_Arpege_Temperature (K) : 834853\n",
      "2D_Arpege_DewPoint (T) : 690875\n",
      "2D_Arpege_RelavtiveHumidity (%) : 1705842\n",
      "2D_Arpege_TotalPrecipitation (kg/m^2) : 1331066\n",
      "2D_Arpege_MeaSeaLevelPressure (Pa) : 520138\n",
      "3D_Arpege_height_Pressure_20m (Pa) : 662438\n",
      "3D_Arpege_height_Pressure_100m (Pa) : 657215\n",
      "3D_Arpege_height_Pressure_500m (Pa) : 630907\n",
      "3D_Arpege_height_Pressure_875m (Pa) : 610092\n",
      "3D_Arpege_height_Pressure_1375m (Pa) : 590271\n",
      "3D_Arpege_height_Pressure_2000m (Pa) : 578429\n",
      "3D_Arpege_height_Pressure_3000m (Pa) : 575557\n",
      "3D_Arpege_isobar_1000hpa_Temperature (K) : 775196\n",
      "3D_Arpege_isobar_1000hpa_PseudoAdiabaticPotentialTemperature (K) : 674673\n",
      "3D_Arpege_isobar_1000hpa_RelavtiveHumidity (%) : 1662361\n",
      "3D_Arpege_isobar_1000hpa_WindSpeed (m/s) : 1827113\n",
      "3D_Arpege_isobar_1000hpa_WindDirection (deg) : 1774683\n",
      "3D_Arpege_isobar_1000hpa_WindComponentU (m/s) : 1871757\n",
      "3D_Arpege_isobar_1000hpa_WindComponentV (m/s) : 1878860\n",
      "3D_Arpege_isobar_1000hpa_VerticalVelocity (Pa/s) : 1883298\n",
      "3D_Arpege_isobar_1000hpa_Geopotential (m^2/s^2) : 1796174\n",
      "3D_Arpege_isobar_950hpa_Temperature (K) : 727213\n",
      "3D_Arpege_isobar_950hpa_PseudoAdiabaticPotentialTemperature (K) : 641732\n",
      "3D_Arpege_isobar_950hpa_RelavtiveHumidity (%) : 1698261\n",
      "3D_Arpege_isobar_950hpa_WindSpeed (m/s) : 1832605\n",
      "3D_Arpege_isobar_950hpa_WindDirection (deg) : 1755469\n",
      "3D_Arpege_isobar_950hpa_WindComponentU (m/s) : 1869828\n",
      "3D_Arpege_isobar_950hpa_WindComponentV (m/s) : 1880426\n",
      "3D_Arpege_isobar_950hpa_VerticalVelocity (Pa/s) : 1881069\n",
      "3D_Arpege_isobar_950hpa_Geopotential (m^2/s^2) : 1537471\n",
      "3D_Arpege_isobar_925hpa_Temperature (K) : 716401\n",
      "3D_Arpege_isobar_925hpa_PseudoAdiabaticPotentialTemperature (K) : 638860\n",
      "3D_Arpege_isobar_925hpa_RelavtiveHumidity (%) : 1705448\n",
      "3D_Arpege_isobar_925hpa_WindSpeed (m/s) : 1835843\n",
      "3D_Arpege_isobar_925hpa_WindDirection (deg) : 1746346\n",
      "3D_Arpege_isobar_925hpa_WindComponentU (m/s) : 1870630\n",
      "3D_Arpege_isobar_925hpa_WindComponentV (m/s) : 1880969\n",
      "3D_Arpege_isobar_925hpa_VerticalVelocity (Pa/s) : 1880997\n",
      "3D_Arpege_isobar_925hpa_Geopotential (m^2/s^2) : 1438257\n",
      "3D_Arpege_isobar_850hpa_Temperature (K) : 721518\n",
      "3D_Arpege_isobar_850hpa_PseudoAdiabaticPotentialTemperature (K) : 616104\n",
      "3D_Arpege_isobar_850hpa_RelavtiveHumidity (%) : 1757868\n",
      "3D_Arpege_isobar_850hpa_WindSpeed (m/s) : 1833126\n",
      "3D_Arpege_isobar_850hpa_WindDirection (deg) : 1726902\n",
      "3D_Arpege_isobar_850hpa_WindComponentU (m/s) : 1867409\n",
      "3D_Arpege_isobar_850hpa_WindComponentV (m/s) : 1879058\n",
      "3D_Arpege_isobar_850hpa_VerticalVelocity (Pa/s) : 1881158\n",
      "3D_Arpege_isobar_850hpa_Geopotential (m^2/s^2) : 1273121\n",
      "3D_Arpege_isobar_700hpa_Temperature (K) : 708119\n",
      "3D_Arpege_isobar_700hpa_PseudoAdiabaticPotentialTemperature (K) : 541714\n",
      "3D_Arpege_isobar_700hpa_RelavtiveHumidity (%) : 1829631\n",
      "3D_Arpege_isobar_700hpa_WindSpeed (m/s) : 1823083\n",
      "3D_Arpege_isobar_700hpa_WindDirection (deg) : 1708527\n",
      "3D_Arpege_isobar_700hpa_WindComponentU (m/s) : 1860129\n",
      "3D_Arpege_isobar_700hpa_WindComponentV (m/s) : 1877395\n",
      "3D_Arpege_isobar_700hpa_VerticalVelocity (Pa/s) : 1881141\n",
      "3D_Arpege_isobar_700hpa_Geopotential (m^2/s^2) : 1107603\n",
      "3D_Arpege_isobar_600hpa_Temperature (K) : 718292\n",
      "3D_Arpege_isobar_600hpa_PseudoAdiabaticPotentialTemperature (K) : 484995\n",
      "3D_Arpege_isobar_600hpa_RelavtiveHumidity (%) : 1833719\n",
      "3D_Arpege_isobar_600hpa_WindSpeed (m/s) : 1822876\n",
      "3D_Arpege_isobar_600hpa_WindDirection (deg) : 1708485\n",
      "3D_Arpege_isobar_600hpa_WindComponentU (m/s) : 1859854\n",
      "3D_Arpege_isobar_600hpa_WindComponentV (m/s) : 1877449\n",
      "3D_Arpege_isobar_600hpa_VerticalVelocity (Pa/s) : 1881480\n",
      "3D_Arpege_isobar_600hpa_Geopotential (m^2/s^2) : 864245\n",
      "3D_Arpege_isobar_500hpa_Temperature (K) : 887026\n",
      "3D_Arpege_isobar_500hpa_PseudoAdiabaticPotentialTemperature (K) : 444373\n",
      "3D_Arpege_isobar_500hpa_RelavtiveHumidity (%) : 1827402\n",
      "3D_Arpege_isobar_500hpa_WindSpeed (m/s) : 1825292\n",
      "3D_Arpege_isobar_500hpa_WindDirection (deg) : 1711189\n",
      "3D_Arpege_isobar_500hpa_WindComponentU (m/s) : 1860410\n",
      "3D_Arpege_isobar_500hpa_WindComponentV (m/s) : 1877695\n",
      "3D_Arpege_isobar_500hpa_VerticalVelocity (Pa/s) : 1881857\n",
      "3D_Arpege_isobar_500hpa_Geopotential (m^2/s^2) : 979301\n"
     ]
    }
   ],
   "source": [
    "for col in df_2017.columns:\n",
    "    print(col, \":\", len(df_2017[col].unique()))"
   ],
   "metadata": {
    "collapsed": false,
    "pycharm": {
     "name": "#%%\n"
    }
   }
  },
  {
   "cell_type": "code",
   "execution_count": 16,
   "outputs": [],
   "source": [
    "columns_2017 = df_2017.columns"
   ],
   "metadata": {
    "collapsed": false,
    "pycharm": {
     "name": "#%%\n"
    }
   }
  },
  {
   "cell_type": "code",
   "execution_count": 17,
   "outputs": [
    {
     "name": "stdout",
     "output_type": "stream",
     "text": [
      "station_id                                                            altitude (m)                                                          latitude                                                              \n",
      "longitude                                                             latitude_idx                                                          longitude_idx                                                         \n",
      "month                                                                 month_cos                                                             month_sin                                                             \n",
      "day                                                                   hour                                                                  hour_cos                                                              \n",
      "hour_sin                                                              wind_speed (m/s)                                                      wind_direction (deg)                                                  \n",
      "wind_component_u (m/s)                                                wind_component_v (m/s)                                                temperature (K)                                                       \n",
      "humidity (%)                                                          dew_point (K)                                                         condensation (Bool)                                                   \n",
      "shore_distance (m)                                                    current hour precipitations (kg/m^2)                                  next hour precipitation (kg/m^2)                                      \n",
      "2D_Arome_WindSpeed (m/s)                                              2D_Arome_WindDirection (deg)                                          2D_Arome_WindComponentU (m/s)                                         \n",
      "2D_Arome_WindComponentV (m/s)                                         2D_Arome_Temperature (K)                                              2D_Arome_DewPoint (T)                                                 \n",
      "2D_Arome_RelavtiveHumidity (%)                                        2D_Arome_TotalPrecipitation (kg/m^2)                                  2D_Arome_MeaSeaLevelPressure (Pa)                                     \n",
      "2D_Arpege_WindSpeed (m/s)                                             2D_Arpege_WindDirection (deg)                                         2D_Arpege_WindComponentU (m/s)                                        \n",
      "2D_Arpege_WindComponentV (m/s)                                        2D_Arpege_Temperature (K)                                             2D_Arpege_DewPoint (T)                                                \n",
      "2D_Arpege_RelavtiveHumidity (%)                                       2D_Arpege_TotalPrecipitation (kg/m^2)                                 2D_Arpege_MeaSeaLevelPressure (Pa)                                    \n",
      "3D_Arpege_height_Pressure_20m (Pa)                                    3D_Arpege_height_Pressure_100m (Pa)                                   3D_Arpege_height_Pressure_500m (Pa)                                   \n",
      "3D_Arpege_height_Pressure_875m (Pa)                                   3D_Arpege_height_Pressure_1375m (Pa)                                  3D_Arpege_height_Pressure_2000m (Pa)                                  \n",
      "3D_Arpege_height_Pressure_3000m (Pa)                                  3D_Arpege_isobar_1000hpa_Temperature (K)                              3D_Arpege_isobar_1000hpa_PseudoAdiabaticPotentialTemperature (K)      \n",
      "3D_Arpege_isobar_1000hpa_RelavtiveHumidity (%)                        3D_Arpege_isobar_1000hpa_WindSpeed (m/s)                              3D_Arpege_isobar_1000hpa_WindDirection (deg)                          \n",
      "3D_Arpege_isobar_1000hpa_WindComponentU (m/s)                         3D_Arpege_isobar_1000hpa_WindComponentV (m/s)                         3D_Arpege_isobar_1000hpa_VerticalVelocity (Pa/s)                      \n",
      "3D_Arpege_isobar_1000hpa_Geopotential (m^2/s^2)                       3D_Arpege_isobar_950hpa_Temperature (K)                               3D_Arpege_isobar_950hpa_PseudoAdiabaticPotentialTemperature (K)       \n",
      "3D_Arpege_isobar_950hpa_RelavtiveHumidity (%)                         3D_Arpege_isobar_950hpa_WindSpeed (m/s)                               3D_Arpege_isobar_950hpa_WindDirection (deg)                           \n",
      "3D_Arpege_isobar_950hpa_WindComponentU (m/s)                          3D_Arpege_isobar_950hpa_WindComponentV (m/s)                          3D_Arpege_isobar_950hpa_VerticalVelocity (Pa/s)                       \n",
      "3D_Arpege_isobar_950hpa_Geopotential (m^2/s^2)                        3D_Arpege_isobar_925hpa_Temperature (K)                               3D_Arpege_isobar_925hpa_PseudoAdiabaticPotentialTemperature (K)       \n",
      "3D_Arpege_isobar_925hpa_RelavtiveHumidity (%)                         3D_Arpege_isobar_925hpa_WindSpeed (m/s)                               3D_Arpege_isobar_925hpa_WindDirection (deg)                           \n",
      "3D_Arpege_isobar_925hpa_WindComponentU (m/s)                          3D_Arpege_isobar_925hpa_WindComponentV (m/s)                          3D_Arpege_isobar_925hpa_VerticalVelocity (Pa/s)                       \n",
      "3D_Arpege_isobar_925hpa_Geopotential (m^2/s^2)                        3D_Arpege_isobar_850hpa_Temperature (K)                               3D_Arpege_isobar_850hpa_PseudoAdiabaticPotentialTemperature (K)       \n",
      "3D_Arpege_isobar_850hpa_RelavtiveHumidity (%)                         3D_Arpege_isobar_850hpa_WindSpeed (m/s)                               3D_Arpege_isobar_850hpa_WindDirection (deg)                           \n",
      "3D_Arpege_isobar_850hpa_WindComponentU (m/s)                          3D_Arpege_isobar_850hpa_WindComponentV (m/s)                          3D_Arpege_isobar_850hpa_VerticalVelocity (Pa/s)                       \n",
      "3D_Arpege_isobar_850hpa_Geopotential (m^2/s^2)                        3D_Arpege_isobar_700hpa_Temperature (K)                               3D_Arpege_isobar_700hpa_PseudoAdiabaticPotentialTemperature (K)       \n",
      "3D_Arpege_isobar_700hpa_RelavtiveHumidity (%)                         3D_Arpege_isobar_700hpa_WindSpeed (m/s)                               3D_Arpege_isobar_700hpa_WindDirection (deg)                           \n",
      "3D_Arpege_isobar_700hpa_WindComponentU (m/s)                          3D_Arpege_isobar_700hpa_WindComponentV (m/s)                          3D_Arpege_isobar_700hpa_VerticalVelocity (Pa/s)                       \n",
      "3D_Arpege_isobar_700hpa_Geopotential (m^2/s^2)                        3D_Arpege_isobar_600hpa_Temperature (K)                               3D_Arpege_isobar_600hpa_PseudoAdiabaticPotentialTemperature (K)       \n",
      "3D_Arpege_isobar_600hpa_RelavtiveHumidity (%)                         3D_Arpege_isobar_600hpa_WindSpeed (m/s)                               3D_Arpege_isobar_600hpa_WindDirection (deg)                           \n",
      "3D_Arpege_isobar_600hpa_WindComponentU (m/s)                          3D_Arpege_isobar_600hpa_WindComponentV (m/s)                          3D_Arpege_isobar_600hpa_VerticalVelocity (Pa/s)                       \n",
      "3D_Arpege_isobar_600hpa_Geopotential (m^2/s^2)                        3D_Arpege_isobar_500hpa_Temperature (K)                               3D_Arpege_isobar_500hpa_PseudoAdiabaticPotentialTemperature (K)       \n",
      "3D_Arpege_isobar_500hpa_RelavtiveHumidity (%)                         3D_Arpege_isobar_500hpa_WindSpeed (m/s)                               3D_Arpege_isobar_500hpa_WindDirection (deg)                           \n",
      "3D_Arpege_isobar_500hpa_WindComponentU (m/s)                          3D_Arpege_isobar_500hpa_WindComponentV (m/s)                          3D_Arpege_isobar_500hpa_VerticalVelocity (Pa/s)                       \n",
      "3D_Arpege_isobar_500hpa_Geopotential (m^2/s^2)                        "
     ]
    }
   ],
   "source": [
    "i = 0\n",
    "for col in columns_2017:\n",
    "    print(col.ljust(70), end=\"\")\n",
    "    i += 1\n",
    "    if i % 3 == 0:\n",
    "        print()"
   ],
   "metadata": {
    "collapsed": false,
    "pycharm": {
     "name": "#%%\n"
    }
   }
  },
  {
   "cell_type": "code",
   "execution_count": 18,
   "outputs": [
    {
     "name": "stdout",
     "output_type": "stream",
     "text": [
      "station_id ------------------------------------------------------------ : 0 --------- ratio : 0.0\n",
      "altitude (m) ---------------------------------------------------------- : 0 --------- ratio : 0.0\n",
      "latitude -------------------------------------------------------------- : 0 --------- ratio : 0.0\n",
      "longitude ------------------------------------------------------------- : 0 --------- ratio : 0.0\n",
      "latitude_idx ---------------------------------------------------------- : 0 --------- ratio : 0.0\n",
      "longitude_idx --------------------------------------------------------- : 0 --------- ratio : 0.0\n",
      "month ----------------------------------------------------------------- : 0 --------- ratio : 0.0\n",
      "month_cos ------------------------------------------------------------- : 0 --------- ratio : 0.0\n",
      "month_sin ------------------------------------------------------------- : 0 --------- ratio : 0.0\n",
      "day ------------------------------------------------------------------- : 0 --------- ratio : 0.0\n",
      "hour ------------------------------------------------------------------ : 0 --------- ratio : 0.0\n",
      "hour_cos -------------------------------------------------------------- : 0 --------- ratio : 0.0\n",
      "hour_sin -------------------------------------------------------------- : 0 --------- ratio : 0.0\n",
      "wind_speed (m/s) ------------------------------------------------------ : 1506624 --- ratio : 0.53\n",
      "wind_direction (deg) -------------------------------------------------- : 1507030 --- ratio : 0.53\n",
      "wind_component_u (m/s) ------------------------------------------------ : 1507030 --- ratio : 0.53\n",
      "wind_component_v (m/s) ------------------------------------------------ : 1507030 --- ratio : 0.53\n",
      "temperature (K) ------------------------------------------------------- : 759709 ---- ratio : 0.27\n",
      "humidity (%) ---------------------------------------------------------- : 1343326 --- ratio : 0.47\n",
      "dew_point (K) --------------------------------------------------------- : 1344237 --- ratio : 0.47\n",
      "condensation (Bool) --------------------------------------------------- : 1344239 --- ratio : 0.47\n",
      "shore_distance (m) ---------------------------------------------------- : 0 --------- ratio : 0.0\n",
      "current hour precipitations (kg/m^2) ---------------------------------- : 795743 ---- ratio : 0.28\n",
      "next hour precipitation (kg/m^2) -------------------------------------- : 795743 ---- ratio : 0.28\n",
      "2D_Arome_WindSpeed (m/s) ---------------------------------------------- : 273000 ---- ratio : 0.1\n",
      "2D_Arome_WindDirection (deg) ------------------------------------------ : 273000 ---- ratio : 0.1\n",
      "2D_Arome_WindComponentU (m/s) ----------------------------------------- : 273000 ---- ratio : 0.1\n",
      "2D_Arome_WindComponentV (m/s) ----------------------------------------- : 273000 ---- ratio : 0.1\n",
      "2D_Arome_Temperature (K) ---------------------------------------------- : 234000 ---- ratio : 0.08\n",
      "2D_Arome_DewPoint (T) ------------------------------------------------- : 234000 ---- ratio : 0.08\n",
      "2D_Arome_RelavtiveHumidity (%) ---------------------------------------- : 234000 ---- ratio : 0.08\n",
      "2D_Arome_TotalPrecipitation (kg/m^2) ---------------------------------- : 249600 ---- ratio : 0.09\n",
      "2D_Arome_MeaSeaLevelPressure (Pa) ------------------------------------- : 200200 ---- ratio : 0.07\n",
      "2D_Arpege_WindSpeed (m/s) --------------------------------------------- : 733200 ---- ratio : 0.26\n",
      "2D_Arpege_WindDirection (deg) ----------------------------------------- : 733200 ---- ratio : 0.26\n",
      "2D_Arpege_WindComponentU (m/s) ---------------------------------------- : 733200 ---- ratio : 0.26\n",
      "2D_Arpege_WindComponentV (m/s) ---------------------------------------- : 733200 ---- ratio : 0.26\n",
      "2D_Arpege_Temperature (K) --------------------------------------------- : 733200 ---- ratio : 0.26\n",
      "2D_Arpege_DewPoint (T) ------------------------------------------------ : 733200 ---- ratio : 0.26\n",
      "2D_Arpege_RelavtiveHumidity (%) --------------------------------------- : 733200 ---- ratio : 0.26\n",
      "2D_Arpege_TotalPrecipitation (kg/m^2) --------------------------------- : 733200 ---- ratio : 0.26\n",
      "2D_Arpege_MeaSeaLevelPressure (Pa) ------------------------------------ : 733200 ---- ratio : 0.26\n",
      "3D_Arpege_height_Pressure_20m (Pa) ------------------------------------ : 41925 ----- ratio : 0.01\n",
      "3D_Arpege_height_Pressure_100m (Pa) ----------------------------------- : 39325 ----- ratio : 0.01\n",
      "3D_Arpege_height_Pressure_500m (Pa) ----------------------------------- : 39000 ----- ratio : 0.01\n",
      "3D_Arpege_height_Pressure_875m (Pa) ----------------------------------- : 39325 ----- ratio : 0.01\n",
      "3D_Arpege_height_Pressure_1375m (Pa) ---------------------------------- : 40950 ----- ratio : 0.01\n",
      "3D_Arpege_height_Pressure_2000m (Pa) ---------------------------------- : 39000 ----- ratio : 0.01\n",
      "3D_Arpege_height_Pressure_3000m (Pa) ---------------------------------- : 38675 ----- ratio : 0.01\n",
      "3D_Arpege_isobar_1000hpa_Temperature (K) ------------------------------ : 901550 ---- ratio : 0.32\n",
      "3D_Arpege_isobar_1000hpa_PseudoAdiabaticPotentialTemperature (K) ------ : 901550 ---- ratio : 0.32\n",
      "3D_Arpege_isobar_1000hpa_RelavtiveHumidity (%) ------------------------ : 901550 ---- ratio : 0.32\n",
      "3D_Arpege_isobar_1000hpa_WindSpeed (m/s) ------------------------------ : 901550 ---- ratio : 0.32\n",
      "3D_Arpege_isobar_1000hpa_WindDirection (deg) -------------------------- : 901550 ---- ratio : 0.32\n",
      "3D_Arpege_isobar_1000hpa_WindComponentU (m/s) ------------------------- : 901550 ---- ratio : 0.32\n",
      "3D_Arpege_isobar_1000hpa_WindComponentV (m/s) ------------------------- : 901550 ---- ratio : 0.32\n",
      "3D_Arpege_isobar_1000hpa_VerticalVelocity (Pa/s) ---------------------- : 901550 ---- ratio : 0.32\n",
      "3D_Arpege_isobar_1000hpa_Geopotential (m^2/s^2) ----------------------- : 901550 ---- ratio : 0.32\n",
      "3D_Arpege_isobar_950hpa_Temperature (K) ------------------------------- : 901550 ---- ratio : 0.32\n",
      "3D_Arpege_isobar_950hpa_PseudoAdiabaticPotentialTemperature (K) ------- : 901550 ---- ratio : 0.32\n",
      "3D_Arpege_isobar_950hpa_RelavtiveHumidity (%) ------------------------- : 901550 ---- ratio : 0.32\n",
      "3D_Arpege_isobar_950hpa_WindSpeed (m/s) ------------------------------- : 901550 ---- ratio : 0.32\n",
      "3D_Arpege_isobar_950hpa_WindDirection (deg) --------------------------- : 901550 ---- ratio : 0.32\n",
      "3D_Arpege_isobar_950hpa_WindComponentU (m/s) -------------------------- : 901550 ---- ratio : 0.32\n",
      "3D_Arpege_isobar_950hpa_WindComponentV (m/s) -------------------------- : 901550 ---- ratio : 0.32\n",
      "3D_Arpege_isobar_950hpa_VerticalVelocity (Pa/s) ----------------------- : 901550 ---- ratio : 0.32\n",
      "3D_Arpege_isobar_950hpa_Geopotential (m^2/s^2) ------------------------ : 901550 ---- ratio : 0.32\n",
      "3D_Arpege_isobar_925hpa_Temperature (K) ------------------------------- : 901550 ---- ratio : 0.32\n",
      "3D_Arpege_isobar_925hpa_PseudoAdiabaticPotentialTemperature (K) ------- : 901550 ---- ratio : 0.32\n",
      "3D_Arpege_isobar_925hpa_RelavtiveHumidity (%) ------------------------- : 901550 ---- ratio : 0.32\n",
      "3D_Arpege_isobar_925hpa_WindSpeed (m/s) ------------------------------- : 901550 ---- ratio : 0.32\n",
      "3D_Arpege_isobar_925hpa_WindDirection (deg) --------------------------- : 901550 ---- ratio : 0.32\n",
      "3D_Arpege_isobar_925hpa_WindComponentU (m/s) -------------------------- : 901550 ---- ratio : 0.32\n",
      "3D_Arpege_isobar_925hpa_WindComponentV (m/s) -------------------------- : 901550 ---- ratio : 0.32\n",
      "3D_Arpege_isobar_925hpa_VerticalVelocity (Pa/s) ----------------------- : 901550 ---- ratio : 0.32\n",
      "3D_Arpege_isobar_925hpa_Geopotential (m^2/s^2) ------------------------ : 901550 ---- ratio : 0.32\n",
      "3D_Arpege_isobar_850hpa_Temperature (K) ------------------------------- : 901550 ---- ratio : 0.32\n",
      "3D_Arpege_isobar_850hpa_PseudoAdiabaticPotentialTemperature (K) ------- : 901550 ---- ratio : 0.32\n",
      "3D_Arpege_isobar_850hpa_RelavtiveHumidity (%) ------------------------- : 901550 ---- ratio : 0.32\n",
      "3D_Arpege_isobar_850hpa_WindSpeed (m/s) ------------------------------- : 901550 ---- ratio : 0.32\n",
      "3D_Arpege_isobar_850hpa_WindDirection (deg) --------------------------- : 901550 ---- ratio : 0.32\n",
      "3D_Arpege_isobar_850hpa_WindComponentU (m/s) -------------------------- : 901550 ---- ratio : 0.32\n",
      "3D_Arpege_isobar_850hpa_WindComponentV (m/s) -------------------------- : 901550 ---- ratio : 0.32\n",
      "3D_Arpege_isobar_850hpa_VerticalVelocity (Pa/s) ----------------------- : 901550 ---- ratio : 0.32\n",
      "3D_Arpege_isobar_850hpa_Geopotential (m^2/s^2) ------------------------ : 901550 ---- ratio : 0.32\n",
      "3D_Arpege_isobar_700hpa_Temperature (K) ------------------------------- : 901550 ---- ratio : 0.32\n",
      "3D_Arpege_isobar_700hpa_PseudoAdiabaticPotentialTemperature (K) ------- : 901550 ---- ratio : 0.32\n",
      "3D_Arpege_isobar_700hpa_RelavtiveHumidity (%) ------------------------- : 901550 ---- ratio : 0.32\n",
      "3D_Arpege_isobar_700hpa_WindSpeed (m/s) ------------------------------- : 901550 ---- ratio : 0.32\n",
      "3D_Arpege_isobar_700hpa_WindDirection (deg) --------------------------- : 901550 ---- ratio : 0.32\n",
      "3D_Arpege_isobar_700hpa_WindComponentU (m/s) -------------------------- : 901550 ---- ratio : 0.32\n",
      "3D_Arpege_isobar_700hpa_WindComponentV (m/s) -------------------------- : 901550 ---- ratio : 0.32\n",
      "3D_Arpege_isobar_700hpa_VerticalVelocity (Pa/s) ----------------------- : 901550 ---- ratio : 0.32\n",
      "3D_Arpege_isobar_700hpa_Geopotential (m^2/s^2) ------------------------ : 901550 ---- ratio : 0.32\n",
      "3D_Arpege_isobar_600hpa_Temperature (K) ------------------------------- : 901550 ---- ratio : 0.32\n",
      "3D_Arpege_isobar_600hpa_PseudoAdiabaticPotentialTemperature (K) ------- : 901550 ---- ratio : 0.32\n",
      "3D_Arpege_isobar_600hpa_RelavtiveHumidity (%) ------------------------- : 901550 ---- ratio : 0.32\n",
      "3D_Arpege_isobar_600hpa_WindSpeed (m/s) ------------------------------- : 901550 ---- ratio : 0.32\n",
      "3D_Arpege_isobar_600hpa_WindDirection (deg) --------------------------- : 901550 ---- ratio : 0.32\n",
      "3D_Arpege_isobar_600hpa_WindComponentU (m/s) -------------------------- : 901550 ---- ratio : 0.32\n",
      "3D_Arpege_isobar_600hpa_WindComponentV (m/s) -------------------------- : 901550 ---- ratio : 0.32\n",
      "3D_Arpege_isobar_600hpa_VerticalVelocity (Pa/s) ----------------------- : 901550 ---- ratio : 0.32\n",
      "3D_Arpege_isobar_600hpa_Geopotential (m^2/s^2) ------------------------ : 901550 ---- ratio : 0.32\n",
      "3D_Arpege_isobar_500hpa_Temperature (K) ------------------------------- : 901550 ---- ratio : 0.32\n",
      "3D_Arpege_isobar_500hpa_PseudoAdiabaticPotentialTemperature (K) ------- : 901550 ---- ratio : 0.32\n",
      "3D_Arpege_isobar_500hpa_RelavtiveHumidity (%) ------------------------- : 901550 ---- ratio : 0.32\n",
      "3D_Arpege_isobar_500hpa_WindSpeed (m/s) ------------------------------- : 901550 ---- ratio : 0.32\n",
      "3D_Arpege_isobar_500hpa_WindDirection (deg) --------------------------- : 901550 ---- ratio : 0.32\n",
      "3D_Arpege_isobar_500hpa_WindComponentU (m/s) -------------------------- : 901550 ---- ratio : 0.32\n",
      "3D_Arpege_isobar_500hpa_WindComponentV (m/s) -------------------------- : 901550 ---- ratio : 0.32\n",
      "3D_Arpege_isobar_500hpa_VerticalVelocity (Pa/s) ----------------------- : 901550 ---- ratio : 0.32\n",
      "3D_Arpege_isobar_500hpa_Geopotential (m^2/s^2) ------------------------ : 901550 ---- ratio : 0.32\n"
     ]
    }
   ],
   "source": [
    "for col in columns_2017:\n",
    "    total_na_2017 = df_2017[col].isna().sum()\n",
    "    ratio_na_2017 = np.round(total_na_2017 / len(df_2017), 2)\n",
    "    print(col, \"-\" * (70 - len(col)), \":\", total_na_2017, \"-\" * (10 - len(str(total_na_2017))), \"ratio :\",\n",
    "          ratio_na_2017)"
   ],
   "metadata": {
    "collapsed": false,
    "pycharm": {
     "name": "#%%\n"
    }
   }
  },
  {
   "cell_type": "markdown",
   "source": [
    "# X_all_2016"
   ],
   "metadata": {
    "collapsed": false
   }
  },
  {
   "cell_type": "code",
   "execution_count": 3,
   "outputs": [],
   "source": [
    "df_2016 = pd.read_csv(\"X_all_2016.csv\")"
   ],
   "metadata": {
    "collapsed": false,
    "pycharm": {
     "name": "#%%\n"
    }
   }
  },
  {
   "cell_type": "code",
   "execution_count": 12,
   "outputs": [],
   "source": [
    "df_2016[\"wind_direction_cos\"] = np.cos(df_2016[\"wind_direction (deg)\"]/360*2*np.pi)\n",
    "df_2016[\"wind_direction_sin\"] = np.sin(df_2016[\"wind_direction (deg)\"]/360*2*np.pi)\n",
    "df_2016.loc[df_2016[\"wind_speed (m/s)\"] == 0,\"wind_direction_cos\"] = 0"
   ],
   "metadata": {
    "collapsed": false,
    "pycharm": {
     "name": "#%%\n"
    }
   }
  },
  {
   "cell_type": "code",
   "execution_count": 14,
   "outputs": [
    {
     "data": {
      "text/plain": "         station_id  altitude (m)  latitude  longitude  latitude_idx  \\\n0          86118001           120        46          0           217   \n1          86118001           120        46          0           217   \n2          86118001           120        46          0           217   \n3          86118001           120        46          0           217   \n4          86118001           120        46          0           217   \n...             ...           ...       ...        ...           ...   \n2854795    95690001           126        49          1           112   \n2854796    95690001           126        49          1           112   \n2854797    95690001           126        49          1           112   \n2854798    95690001           126        49          1           112   \n2854799    95690001           126        49          1           112   \n\n         longitude_idx  month  month_cos  month_sin  day  ...  \\\n0                  273      1   1.000000        0.0    1  ...   \n1                  273      1   1.000000        0.0    1  ...   \n2                  273      1   1.000000        0.0    1  ...   \n3                  273      1   1.000000        0.0    1  ...   \n4                  273      1   1.000000        0.0    1  ...   \n...                ...    ...        ...        ...  ...  ...   \n2854795            307     12   0.866025       -0.5   31  ...   \n2854796            307     12   0.866025       -0.5   31  ...   \n2854797            307     12   0.866025       -0.5   31  ...   \n2854798            307     12   0.866025       -0.5   31  ...   \n2854799            307     12   0.866025       -0.5   31  ...   \n\n         3D_Arpege_isobar_500hpa_PseudoAdiabaticPotentialTemperature (K)  \\\n0                                                      NaN                 \n1                                                      NaN                 \n2                                                      NaN                 \n3                                                      NaN                 \n4                                                      NaN                 \n...                                                    ...                 \n2854795                                                NaN                 \n2854796                                                NaN                 \n2854797                                                NaN                 \n2854798                                                NaN                 \n2854799                                                NaN                 \n\n         3D_Arpege_isobar_500hpa_RelavtiveHumidity (%)  \\\n0                                                  NaN   \n1                                                  NaN   \n2                                                  NaN   \n3                                                  NaN   \n4                                                  NaN   \n...                                                ...   \n2854795                                            NaN   \n2854796                                            NaN   \n2854797                                            NaN   \n2854798                                            NaN   \n2854799                                            NaN   \n\n         3D_Arpege_isobar_500hpa_WindSpeed (m/s)  \\\n0                                            NaN   \n1                                            NaN   \n2                                            NaN   \n3                                            NaN   \n4                                            NaN   \n...                                          ...   \n2854795                                      NaN   \n2854796                                      NaN   \n2854797                                      NaN   \n2854798                                      NaN   \n2854799                                      NaN   \n\n         3D_Arpege_isobar_500hpa_WindDirection (deg)  \\\n0                                                NaN   \n1                                                NaN   \n2                                                NaN   \n3                                                NaN   \n4                                                NaN   \n...                                              ...   \n2854795                                          NaN   \n2854796                                          NaN   \n2854797                                          NaN   \n2854798                                          NaN   \n2854799                                          NaN   \n\n         3D_Arpege_isobar_500hpa_WindComponentU (m/s)  \\\n0                                                 NaN   \n1                                                 NaN   \n2                                                 NaN   \n3                                                 NaN   \n4                                                 NaN   \n...                                               ...   \n2854795                                           NaN   \n2854796                                           NaN   \n2854797                                           NaN   \n2854798                                           NaN   \n2854799                                           NaN   \n\n         3D_Arpege_isobar_500hpa_WindComponentV (m/s)  \\\n0                                                 NaN   \n1                                                 NaN   \n2                                                 NaN   \n3                                                 NaN   \n4                                                 NaN   \n...                                               ...   \n2854795                                           NaN   \n2854796                                           NaN   \n2854797                                           NaN   \n2854798                                           NaN   \n2854799                                           NaN   \n\n         3D_Arpege_isobar_500hpa_VerticalVelocity (Pa/s)  \\\n0                                                    NaN   \n1                                                    NaN   \n2                                                    NaN   \n3                                                    NaN   \n4                                                    NaN   \n...                                                  ...   \n2854795                                              NaN   \n2854796                                              NaN   \n2854797                                              NaN   \n2854798                                              NaN   \n2854799                                              NaN   \n\n         3D_Arpege_isobar_500hpa_Geopotential (m^2/s^2)  wind_direction_cos  \\\n0                                                   NaN                 NaN   \n1                                                   NaN                 NaN   \n2                                                   NaN                 NaN   \n3                                                   NaN                 NaN   \n4                                                   NaN                 NaN   \n...                                                 ...                 ...   \n2854795                                             NaN                 NaN   \n2854796                                             NaN                 NaN   \n2854797                                             NaN                 NaN   \n2854798                                             NaN                 NaN   \n2854799                                             NaN                 NaN   \n\n         wind_direction_sin  \n0                       NaN  \n1                       NaN  \n2                       NaN  \n3                       NaN  \n4                       NaN  \n...                     ...  \n2854795                 NaN  \n2854796                 NaN  \n2854797                 NaN  \n2854798                 NaN  \n2854799                 NaN  \n\n[2854800 rows x 114 columns]",
      "text/html": "<div>\n<style scoped>\n    .dataframe tbody tr th:only-of-type {\n        vertical-align: middle;\n    }\n\n    .dataframe tbody tr th {\n        vertical-align: top;\n    }\n\n    .dataframe thead th {\n        text-align: right;\n    }\n</style>\n<table border=\"1\" class=\"dataframe\">\n  <thead>\n    <tr style=\"text-align: right;\">\n      <th></th>\n      <th>station_id</th>\n      <th>altitude (m)</th>\n      <th>latitude</th>\n      <th>longitude</th>\n      <th>latitude_idx</th>\n      <th>longitude_idx</th>\n      <th>month</th>\n      <th>month_cos</th>\n      <th>month_sin</th>\n      <th>day</th>\n      <th>...</th>\n      <th>3D_Arpege_isobar_500hpa_PseudoAdiabaticPotentialTemperature (K)</th>\n      <th>3D_Arpege_isobar_500hpa_RelavtiveHumidity (%)</th>\n      <th>3D_Arpege_isobar_500hpa_WindSpeed (m/s)</th>\n      <th>3D_Arpege_isobar_500hpa_WindDirection (deg)</th>\n      <th>3D_Arpege_isobar_500hpa_WindComponentU (m/s)</th>\n      <th>3D_Arpege_isobar_500hpa_WindComponentV (m/s)</th>\n      <th>3D_Arpege_isobar_500hpa_VerticalVelocity (Pa/s)</th>\n      <th>3D_Arpege_isobar_500hpa_Geopotential (m^2/s^2)</th>\n      <th>wind_direction_cos</th>\n      <th>wind_direction_sin</th>\n    </tr>\n  </thead>\n  <tbody>\n    <tr>\n      <th>0</th>\n      <td>86118001</td>\n      <td>120</td>\n      <td>46</td>\n      <td>0</td>\n      <td>217</td>\n      <td>273</td>\n      <td>1</td>\n      <td>1.000000</td>\n      <td>0.0</td>\n      <td>1</td>\n      <td>...</td>\n      <td>NaN</td>\n      <td>NaN</td>\n      <td>NaN</td>\n      <td>NaN</td>\n      <td>NaN</td>\n      <td>NaN</td>\n      <td>NaN</td>\n      <td>NaN</td>\n      <td>NaN</td>\n      <td>NaN</td>\n    </tr>\n    <tr>\n      <th>1</th>\n      <td>86118001</td>\n      <td>120</td>\n      <td>46</td>\n      <td>0</td>\n      <td>217</td>\n      <td>273</td>\n      <td>1</td>\n      <td>1.000000</td>\n      <td>0.0</td>\n      <td>1</td>\n      <td>...</td>\n      <td>NaN</td>\n      <td>NaN</td>\n      <td>NaN</td>\n      <td>NaN</td>\n      <td>NaN</td>\n      <td>NaN</td>\n      <td>NaN</td>\n      <td>NaN</td>\n      <td>NaN</td>\n      <td>NaN</td>\n    </tr>\n    <tr>\n      <th>2</th>\n      <td>86118001</td>\n      <td>120</td>\n      <td>46</td>\n      <td>0</td>\n      <td>217</td>\n      <td>273</td>\n      <td>1</td>\n      <td>1.000000</td>\n      <td>0.0</td>\n      <td>1</td>\n      <td>...</td>\n      <td>NaN</td>\n      <td>NaN</td>\n      <td>NaN</td>\n      <td>NaN</td>\n      <td>NaN</td>\n      <td>NaN</td>\n      <td>NaN</td>\n      <td>NaN</td>\n      <td>NaN</td>\n      <td>NaN</td>\n    </tr>\n    <tr>\n      <th>3</th>\n      <td>86118001</td>\n      <td>120</td>\n      <td>46</td>\n      <td>0</td>\n      <td>217</td>\n      <td>273</td>\n      <td>1</td>\n      <td>1.000000</td>\n      <td>0.0</td>\n      <td>1</td>\n      <td>...</td>\n      <td>NaN</td>\n      <td>NaN</td>\n      <td>NaN</td>\n      <td>NaN</td>\n      <td>NaN</td>\n      <td>NaN</td>\n      <td>NaN</td>\n      <td>NaN</td>\n      <td>NaN</td>\n      <td>NaN</td>\n    </tr>\n    <tr>\n      <th>4</th>\n      <td>86118001</td>\n      <td>120</td>\n      <td>46</td>\n      <td>0</td>\n      <td>217</td>\n      <td>273</td>\n      <td>1</td>\n      <td>1.000000</td>\n      <td>0.0</td>\n      <td>1</td>\n      <td>...</td>\n      <td>NaN</td>\n      <td>NaN</td>\n      <td>NaN</td>\n      <td>NaN</td>\n      <td>NaN</td>\n      <td>NaN</td>\n      <td>NaN</td>\n      <td>NaN</td>\n      <td>NaN</td>\n      <td>NaN</td>\n    </tr>\n    <tr>\n      <th>...</th>\n      <td>...</td>\n      <td>...</td>\n      <td>...</td>\n      <td>...</td>\n      <td>...</td>\n      <td>...</td>\n      <td>...</td>\n      <td>...</td>\n      <td>...</td>\n      <td>...</td>\n      <td>...</td>\n      <td>...</td>\n      <td>...</td>\n      <td>...</td>\n      <td>...</td>\n      <td>...</td>\n      <td>...</td>\n      <td>...</td>\n      <td>...</td>\n      <td>...</td>\n      <td>...</td>\n    </tr>\n    <tr>\n      <th>2854795</th>\n      <td>95690001</td>\n      <td>126</td>\n      <td>49</td>\n      <td>1</td>\n      <td>112</td>\n      <td>307</td>\n      <td>12</td>\n      <td>0.866025</td>\n      <td>-0.5</td>\n      <td>31</td>\n      <td>...</td>\n      <td>NaN</td>\n      <td>NaN</td>\n      <td>NaN</td>\n      <td>NaN</td>\n      <td>NaN</td>\n      <td>NaN</td>\n      <td>NaN</td>\n      <td>NaN</td>\n      <td>NaN</td>\n      <td>NaN</td>\n    </tr>\n    <tr>\n      <th>2854796</th>\n      <td>95690001</td>\n      <td>126</td>\n      <td>49</td>\n      <td>1</td>\n      <td>112</td>\n      <td>307</td>\n      <td>12</td>\n      <td>0.866025</td>\n      <td>-0.5</td>\n      <td>31</td>\n      <td>...</td>\n      <td>NaN</td>\n      <td>NaN</td>\n      <td>NaN</td>\n      <td>NaN</td>\n      <td>NaN</td>\n      <td>NaN</td>\n      <td>NaN</td>\n      <td>NaN</td>\n      <td>NaN</td>\n      <td>NaN</td>\n    </tr>\n    <tr>\n      <th>2854797</th>\n      <td>95690001</td>\n      <td>126</td>\n      <td>49</td>\n      <td>1</td>\n      <td>112</td>\n      <td>307</td>\n      <td>12</td>\n      <td>0.866025</td>\n      <td>-0.5</td>\n      <td>31</td>\n      <td>...</td>\n      <td>NaN</td>\n      <td>NaN</td>\n      <td>NaN</td>\n      <td>NaN</td>\n      <td>NaN</td>\n      <td>NaN</td>\n      <td>NaN</td>\n      <td>NaN</td>\n      <td>NaN</td>\n      <td>NaN</td>\n    </tr>\n    <tr>\n      <th>2854798</th>\n      <td>95690001</td>\n      <td>126</td>\n      <td>49</td>\n      <td>1</td>\n      <td>112</td>\n      <td>307</td>\n      <td>12</td>\n      <td>0.866025</td>\n      <td>-0.5</td>\n      <td>31</td>\n      <td>...</td>\n      <td>NaN</td>\n      <td>NaN</td>\n      <td>NaN</td>\n      <td>NaN</td>\n      <td>NaN</td>\n      <td>NaN</td>\n      <td>NaN</td>\n      <td>NaN</td>\n      <td>NaN</td>\n      <td>NaN</td>\n    </tr>\n    <tr>\n      <th>2854799</th>\n      <td>95690001</td>\n      <td>126</td>\n      <td>49</td>\n      <td>1</td>\n      <td>112</td>\n      <td>307</td>\n      <td>12</td>\n      <td>0.866025</td>\n      <td>-0.5</td>\n      <td>31</td>\n      <td>...</td>\n      <td>NaN</td>\n      <td>NaN</td>\n      <td>NaN</td>\n      <td>NaN</td>\n      <td>NaN</td>\n      <td>NaN</td>\n      <td>NaN</td>\n      <td>NaN</td>\n      <td>NaN</td>\n      <td>NaN</td>\n    </tr>\n  </tbody>\n</table>\n<p>2854800 rows × 114 columns</p>\n</div>"
     },
     "execution_count": 14,
     "metadata": {},
     "output_type": "execute_result"
    }
   ],
   "source": [
    "df_2016"
   ],
   "metadata": {
    "collapsed": false,
    "pycharm": {
     "name": "#%%\n"
    }
   }
  },
  {
   "cell_type": "code",
   "execution_count": 13,
   "outputs": [
    {
     "data": {
      "text/plain": "   station_id  altitude (m)  latitude  longitude  latitude_idx  longitude_idx  \\\n0    86118001           120        46          0           217            273   \n1    86118001           120        46          0           217            273   \n2    86118001           120        46          0           217            273   \n3    86118001           120        46          0           217            273   \n4    86118001           120        46          0           217            273   \n\n   month  month_cos  month_sin  day  ...  \\\n0      1        1.0        0.0    1  ...   \n1      1        1.0        0.0    1  ...   \n2      1        1.0        0.0    1  ...   \n3      1        1.0        0.0    1  ...   \n4      1        1.0        0.0    1  ...   \n\n   3D_Arpege_isobar_500hpa_Temperature (K)  \\\n0                                      NaN   \n1                                      NaN   \n2                                      NaN   \n3                                      NaN   \n4                                      NaN   \n\n   3D_Arpege_isobar_500hpa_PseudoAdiabaticPotentialTemperature (K)  \\\n0                                                NaN                 \n1                                                NaN                 \n2                                                NaN                 \n3                                                NaN                 \n4                                                NaN                 \n\n   3D_Arpege_isobar_500hpa_RelavtiveHumidity (%)  \\\n0                                            NaN   \n1                                            NaN   \n2                                            NaN   \n3                                            NaN   \n4                                            NaN   \n\n   3D_Arpege_isobar_500hpa_WindSpeed (m/s)  \\\n0                                      NaN   \n1                                      NaN   \n2                                      NaN   \n3                                      NaN   \n4                                      NaN   \n\n   3D_Arpege_isobar_500hpa_WindDirection (deg)  \\\n0                                          NaN   \n1                                          NaN   \n2                                          NaN   \n3                                          NaN   \n4                                          NaN   \n\n   3D_Arpege_isobar_500hpa_WindComponentU (m/s)  \\\n0                                           NaN   \n1                                           NaN   \n2                                           NaN   \n3                                           NaN   \n4                                           NaN   \n\n   3D_Arpege_isobar_500hpa_WindComponentV (m/s)  \\\n0                                           NaN   \n1                                           NaN   \n2                                           NaN   \n3                                           NaN   \n4                                           NaN   \n\n   3D_Arpege_isobar_500hpa_VerticalVelocity (Pa/s)  \\\n0                                              NaN   \n1                                              NaN   \n2                                              NaN   \n3                                              NaN   \n4                                              NaN   \n\n   3D_Arpege_isobar_500hpa_Geopotential (m^2/s^2)          Id  \n0                                             NaN  86118001_0  \n1                                             NaN  86118001_0  \n2                                             NaN  86118001_0  \n3                                             NaN  86118001_0  \n4                                             NaN  86118001_0  \n\n[5 rows x 113 columns]",
      "text/html": "<div>\n<style scoped>\n    .dataframe tbody tr th:only-of-type {\n        vertical-align: middle;\n    }\n\n    .dataframe tbody tr th {\n        vertical-align: top;\n    }\n\n    .dataframe thead th {\n        text-align: right;\n    }\n</style>\n<table border=\"1\" class=\"dataframe\">\n  <thead>\n    <tr style=\"text-align: right;\">\n      <th></th>\n      <th>station_id</th>\n      <th>altitude (m)</th>\n      <th>latitude</th>\n      <th>longitude</th>\n      <th>latitude_idx</th>\n      <th>longitude_idx</th>\n      <th>month</th>\n      <th>month_cos</th>\n      <th>month_sin</th>\n      <th>day</th>\n      <th>...</th>\n      <th>3D_Arpege_isobar_500hpa_Temperature (K)</th>\n      <th>3D_Arpege_isobar_500hpa_PseudoAdiabaticPotentialTemperature (K)</th>\n      <th>3D_Arpege_isobar_500hpa_RelavtiveHumidity (%)</th>\n      <th>3D_Arpege_isobar_500hpa_WindSpeed (m/s)</th>\n      <th>3D_Arpege_isobar_500hpa_WindDirection (deg)</th>\n      <th>3D_Arpege_isobar_500hpa_WindComponentU (m/s)</th>\n      <th>3D_Arpege_isobar_500hpa_WindComponentV (m/s)</th>\n      <th>3D_Arpege_isobar_500hpa_VerticalVelocity (Pa/s)</th>\n      <th>3D_Arpege_isobar_500hpa_Geopotential (m^2/s^2)</th>\n      <th>Id</th>\n    </tr>\n  </thead>\n  <tbody>\n    <tr>\n      <th>0</th>\n      <td>86118001</td>\n      <td>120</td>\n      <td>46</td>\n      <td>0</td>\n      <td>217</td>\n      <td>273</td>\n      <td>1</td>\n      <td>1.0</td>\n      <td>0.0</td>\n      <td>1</td>\n      <td>...</td>\n      <td>NaN</td>\n      <td>NaN</td>\n      <td>NaN</td>\n      <td>NaN</td>\n      <td>NaN</td>\n      <td>NaN</td>\n      <td>NaN</td>\n      <td>NaN</td>\n      <td>NaN</td>\n      <td>86118001_0</td>\n    </tr>\n    <tr>\n      <th>1</th>\n      <td>86118001</td>\n      <td>120</td>\n      <td>46</td>\n      <td>0</td>\n      <td>217</td>\n      <td>273</td>\n      <td>1</td>\n      <td>1.0</td>\n      <td>0.0</td>\n      <td>1</td>\n      <td>...</td>\n      <td>NaN</td>\n      <td>NaN</td>\n      <td>NaN</td>\n      <td>NaN</td>\n      <td>NaN</td>\n      <td>NaN</td>\n      <td>NaN</td>\n      <td>NaN</td>\n      <td>NaN</td>\n      <td>86118001_0</td>\n    </tr>\n    <tr>\n      <th>2</th>\n      <td>86118001</td>\n      <td>120</td>\n      <td>46</td>\n      <td>0</td>\n      <td>217</td>\n      <td>273</td>\n      <td>1</td>\n      <td>1.0</td>\n      <td>0.0</td>\n      <td>1</td>\n      <td>...</td>\n      <td>NaN</td>\n      <td>NaN</td>\n      <td>NaN</td>\n      <td>NaN</td>\n      <td>NaN</td>\n      <td>NaN</td>\n      <td>NaN</td>\n      <td>NaN</td>\n      <td>NaN</td>\n      <td>86118001_0</td>\n    </tr>\n    <tr>\n      <th>3</th>\n      <td>86118001</td>\n      <td>120</td>\n      <td>46</td>\n      <td>0</td>\n      <td>217</td>\n      <td>273</td>\n      <td>1</td>\n      <td>1.0</td>\n      <td>0.0</td>\n      <td>1</td>\n      <td>...</td>\n      <td>NaN</td>\n      <td>NaN</td>\n      <td>NaN</td>\n      <td>NaN</td>\n      <td>NaN</td>\n      <td>NaN</td>\n      <td>NaN</td>\n      <td>NaN</td>\n      <td>NaN</td>\n      <td>86118001_0</td>\n    </tr>\n    <tr>\n      <th>4</th>\n      <td>86118001</td>\n      <td>120</td>\n      <td>46</td>\n      <td>0</td>\n      <td>217</td>\n      <td>273</td>\n      <td>1</td>\n      <td>1.0</td>\n      <td>0.0</td>\n      <td>1</td>\n      <td>...</td>\n      <td>NaN</td>\n      <td>NaN</td>\n      <td>NaN</td>\n      <td>NaN</td>\n      <td>NaN</td>\n      <td>NaN</td>\n      <td>NaN</td>\n      <td>NaN</td>\n      <td>NaN</td>\n      <td>86118001_0</td>\n    </tr>\n  </tbody>\n</table>\n<p>5 rows × 113 columns</p>\n</div>"
     },
     "execution_count": 13,
     "metadata": {},
     "output_type": "execute_result"
    }
   ],
   "source": [
    "def month_day_to_abs_day(month_day):\n",
    "    nb_day_in_month = np.array([31,29,31,30,31,30,31,31,30,31,30,31])\n",
    "    month,day = month_day.split('_')\n",
    "    month=int(month)\n",
    "    day=int(day)\n",
    "    abs_day = nb_day_in_month[:month-1].sum() + day - 1 # start count at 0\n",
    "    return abs_day\n",
    "\n",
    "df_2016[\"absolute_day\"] = df_2016[\"month\"].astype(str)+\"_\"+df_2016[\"day\"].astype(str)\n",
    "df_2016[\"absolute_day\"] = df_2016[\"absolute_day\"].apply(month_day_to_abs_day)\n",
    "df_2016[\"Id\"] = df_2016[\"station_id\"].astype(str)+\"_\"+df_2016[\"absolute_day\"].astype(str)\n",
    "del df_2016[\"absolute_day\"]\n",
    "df_2016.head(5)"
   ],
   "metadata": {
    "collapsed": false,
    "pycharm": {
     "name": "#%%\n"
    }
   }
  },
  {
   "cell_type": "code",
   "execution_count": 14,
   "outputs": [],
   "source": [
    "df_2016.to_csv(\"./X_all_2016_id.csv\")"
   ],
   "metadata": {
    "collapsed": false,
    "pycharm": {
     "name": "#%%\n"
    }
   }
  },
  {
   "cell_type": "code",
   "execution_count": 3,
   "outputs": [
    {
     "data": {
      "text/plain": "<Figure size 432x288 with 1 Axes>",
      "image/png": "[encoded data removed]"
     },
     "metadata": {
      "needs_background": "light"
     },
     "output_type": "display_data"
    }
   ],
   "source": [
    "na_col = df_2016.isna().sum(axis=0) / len(df_2016)\n",
    "proportion_na_columns = np.zeros(shape=(101))\n",
    "for v in na_col:\n",
    "    proportion_na_columns[int(v * 100)] += 1\n",
    "\n",
    "plt.plot(np.linspace(0, 1, 101), proportion_na_columns / len(df_2016.columns))\n",
    "plt.xlabel(\"nan ratio\")\n",
    "plt.ylabel(\"ratio of column with that much nan\")\n",
    "plt.title(\"proportion of nan in columns\")\n",
    "plt.show()"
   ],
   "metadata": {
    "collapsed": false,
    "pycharm": {
     "name": "#%%\n"
    }
   }
  },
  {
   "cell_type": "code",
   "execution_count": 4,
   "outputs": [],
   "source": [
    "df_2016_col_clean = df_2016.dropna(axis=1,thresh=int(0.6*len(df_2016)))\n",
    "del df_2016"
   ],
   "metadata": {
    "collapsed": false,
    "pycharm": {
     "name": "#%%\n"
    }
   }
  },
  {
   "cell_type": "code",
   "execution_count": 5,
   "outputs": [
    {
     "data": {
      "text/plain": "<Figure size 432x288 with 1 Axes>",
      "image/png": "[encoded data removed]"
     },
     "metadata": {
      "needs_background": "light"
     },
     "output_type": "display_data"
    }
   ],
   "source": [
    "na_col = df_2016_col_clean.isna().sum(axis=0) / len(df_2016_col_clean)\n",
    "proportion_na_columns = np.zeros(shape=(101))\n",
    "for v in na_col:\n",
    "    proportion_na_columns[int(v * 100)] += 1\n",
    "\n",
    "plt.plot(np.linspace(0, 1, 101), proportion_na_columns / len(df_2016_col_clean.columns))\n",
    "plt.xlabel(\"nan ratio\")\n",
    "plt.ylabel(\"ratio of column with that much nan\")\n",
    "plt.title(\"proportion of nan in columns\")\n",
    "plt.show()"
   ],
   "metadata": {
    "collapsed": false,
    "pycharm": {
     "name": "#%%\n"
    }
   }
  },
  {
   "cell_type": "code",
   "execution_count": 6,
   "outputs": [
    {
     "data": {
      "text/plain": "<Figure size 432x288 with 1 Axes>",
      "image/png": "[encoded data removed]"
     },
     "metadata": {
      "needs_background": "light"
     },
     "output_type": "display_data"
    }
   ],
   "source": [
    "na_row = df_2016_col_clean.isna().sum(axis=1) / len(df_2016_col_clean.columns)\n",
    "proportion_na_rows = np.zeros(shape=(101))\n",
    "for v in na_row:\n",
    "    proportion_na_rows[int(v*100)] += 1\n",
    "\n",
    "plt.plot(np.linspace(0, 1, 101), proportion_na_rows / len(df_2016_col_clean))\n",
    "plt.xlabel(\"nan ratio\")\n",
    "plt.ylabel(\"ratio of rows with that much nan\")\n",
    "plt.title(\"proportion of nan in rows\")\n",
    "plt.show()"
   ],
   "metadata": {
    "collapsed": false,
    "pycharm": {
     "name": "#%%\n"
    }
   }
  },
  {
   "cell_type": "code",
   "execution_count": 7,
   "outputs": [
    {
     "data": {
      "text/plain": "         station_id  altitude (m)  latitude  longitude  latitude_idx  \\\n24         86118001           120        46          0           217   \n25         86118001           120        46          0           217   \n26         86118001           120        46          0           217   \n27         86118001           120        46          0           217   \n28         86118001           120        46          0           217   \n...             ...           ...       ...        ...           ...   \n2854723    95690001           126        49          1           112   \n2854724    95690001           126        49          1           112   \n2854725    95690001           126        49          1           112   \n2854726    95690001           126        49          1           112   \n2854727    95690001           126        49          1           112   \n\n         longitude_idx  month  month_cos  month_sin  day  ...  \\\n24                 273      1   1.000000        0.0    2  ...   \n25                 273      1   1.000000        0.0    2  ...   \n26                 273      1   1.000000        0.0    2  ...   \n27                 273      1   1.000000        0.0    2  ...   \n28                 273      1   1.000000        0.0    2  ...   \n...                ...    ...        ...        ...  ...  ...   \n2854723            307     12   0.866025       -0.5   28  ...   \n2854724            307     12   0.866025       -0.5   28  ...   \n2854725            307     12   0.866025       -0.5   28  ...   \n2854726            307     12   0.866025       -0.5   28  ...   \n2854727            307     12   0.866025       -0.5   28  ...   \n\n         3D_Arpege_isobar_600hpa_Geopotential (m^2/s^2)  \\\n24                                            40876.900   \n25                                            40814.887   \n26                                            40782.156   \n27                                            40698.133   \n28                                            40663.492   \n...                                                 ...   \n2854723                                       43317.375   \n2854724                                       43310.170   \n2854725                                       43297.414   \n2854726                                       43260.117   \n2854727                                       43247.360   \n\n         3D_Arpege_isobar_500hpa_Temperature (K)  \\\n24                                     250.20723   \n25                                     249.20644   \n26                                     248.49222   \n27                                     247.78127   \n28                                     246.58347   \n...                                          ...   \n2854723                                248.60863   \n2854724                                248.46236   \n2854725                                248.41630   \n2854726                                248.28171   \n2854727                                248.23567   \n\n         3D_Arpege_isobar_500hpa_PseudoAdiabaticPotentialTemperature (K)  \\\n24                                               284.13953                 \n25                                               283.50360                 \n26                                               282.45390                 \n27                                               282.04575                 \n28                                               281.26940                 \n...                                                    ...                 \n2854723                                          282.55228                 \n2854724                                          282.51870                 \n2854725                                          282.54178                 \n2854726                                          282.60925                 \n2854727                                          282.63232                 \n\n         3D_Arpege_isobar_500hpa_RelavtiveHumidity (%)  \\\n24                                          100.000404   \n25                                           98.718750   \n26                                           45.420456   \n27                                           43.513460   \n28                                           33.328125   \n...                                                ...   \n2854723                                      48.964250   \n2854724                                      53.042847   \n2854725                                      56.798664   \n2854726                                      67.777210   \n2854727                                      71.533020   \n\n         3D_Arpege_isobar_500hpa_WindSpeed (m/s)  \\\n24                                     17.790064   \n25                                     18.012522   \n26                                     18.335869   \n27                                     21.294657   \n28                                     20.992092   \n...                                          ...   \n2854723                                 8.067749   \n2854724                                 7.950057   \n2854725                                 8.073887   \n2854726                                 8.435851   \n2854727                                 8.559680   \n\n         3D_Arpege_isobar_500hpa_WindDirection (deg)  \\\n24                                         211.09330   \n25                                         208.35088   \n26                                         213.29297   \n27                                         215.14986   \n28                                         220.65701   \n...                                              ...   \n2854723                                    258.21423   \n2854724                                    258.01285   \n2854725                                    256.81600   \n2854726                                    253.31750   \n2854727                                    252.12065   \n\n         3D_Arpege_isobar_500hpa_WindComponentU (m/s)  \\\n24                                           9.185622   \n25                                           8.552952   \n26                                          10.067105   \n27                                          12.261997   \n28                                          13.676830   \n...                                               ...   \n2854723                                      7.896779   \n2854724                                      7.774828   \n2854725                                      7.850402   \n2854726                                      8.071310   \n2854727                                      8.146884   \n\n         3D_Arpege_isobar_500hpa_WindComponentV (m/s)  \\\n24                                          15.235155   \n25                                          15.852805   \n26                                          15.320419   \n27                                          17.406713   \n28                                          15.925046   \n...                                               ...   \n2854723                                      1.646547   \n2854724                                      1.651653   \n2854725                                      1.850257   \n2854726                                      2.430790   \n2854727                                      2.629394   \n\n         3D_Arpege_isobar_500hpa_VerticalVelocity (Pa/s)  \\\n24                                             -0.607258   \n25                                             -0.464554   \n26                                              0.319423   \n27                                             -0.017849   \n28                                              0.052461   \n...                                                  ...   \n2854723                                        -0.284382   \n2854724                                        -0.295374   \n2854725                                        -0.238124   \n2854726                                        -0.070776   \n2854727                                        -0.013525   \n\n         3D_Arpege_isobar_500hpa_Geopotential (m^2/s^2)  \n24                                            54226.680  \n25                                            54129.710  \n26                                            54065.254  \n27                                            53945.754  \n28                                            53868.156  \n...                                                 ...  \n2854723                                       56646.375  \n2854724                                       56633.895  \n2854725                                       56618.574  \n2854726                                       56573.797  \n2854727                                       56558.480  \n\n[2535000 rows x 105 columns]",
      "text/html": "<div>\n<style scoped>\n    .dataframe tbody tr th:only-of-type {\n        vertical-align: middle;\n    }\n\n    .dataframe tbody tr th {\n        vertical-align: top;\n    }\n\n    .dataframe thead th {\n        text-align: right;\n    }\n</style>\n<table border=\"1\" class=\"dataframe\">\n  <thead>\n    <tr style=\"text-align: right;\">\n      <th></th>\n      <th>station_id</th>\n      <th>altitude (m)</th>\n      <th>latitude</th>\n      <th>longitude</th>\n      <th>latitude_idx</th>\n      <th>longitude_idx</th>\n      <th>month</th>\n      <th>month_cos</th>\n      <th>month_sin</th>\n      <th>day</th>\n      <th>...</th>\n      <th>3D_Arpege_isobar_600hpa_Geopotential (m^2/s^2)</th>\n      <th>3D_Arpege_isobar_500hpa_Temperature (K)</th>\n      <th>3D_Arpege_isobar_500hpa_PseudoAdiabaticPotentialTemperature (K)</th>\n      <th>3D_Arpege_isobar_500hpa_RelavtiveHumidity (%)</th>\n      <th>3D_Arpege_isobar_500hpa_WindSpeed (m/s)</th>\n      <th>3D_Arpege_isobar_500hpa_WindDirection (deg)</th>\n      <th>3D_Arpege_isobar_500hpa_WindComponentU (m/s)</th>\n      <th>3D_Arpege_isobar_500hpa_WindComponentV (m/s)</th>\n      <th>3D_Arpege_isobar_500hpa_VerticalVelocity (Pa/s)</th>\n      <th>3D_Arpege_isobar_500hpa_Geopotential (m^2/s^2)</th>\n    </tr>\n  </thead>\n  <tbody>\n    <tr>\n      <th>24</th>\n      <td>86118001</td>\n      <td>120</td>\n      <td>46</td>\n      <td>0</td>\n      <td>217</td>\n      <td>273</td>\n      <td>1</td>\n      <td>1.000000</td>\n      <td>0.0</td>\n      <td>2</td>\n      <td>...</td>\n      <td>40876.900</td>\n      <td>250.20723</td>\n      <td>284.13953</td>\n      <td>100.000404</td>\n      <td>17.790064</td>\n      <td>211.09330</td>\n      <td>9.185622</td>\n      <td>15.235155</td>\n      <td>-0.607258</td>\n      <td>54226.680</td>\n    </tr>\n    <tr>\n      <th>25</th>\n      <td>86118001</td>\n      <td>120</td>\n      <td>46</td>\n      <td>0</td>\n      <td>217</td>\n      <td>273</td>\n      <td>1</td>\n      <td>1.000000</td>\n      <td>0.0</td>\n      <td>2</td>\n      <td>...</td>\n      <td>40814.887</td>\n      <td>249.20644</td>\n      <td>283.50360</td>\n      <td>98.718750</td>\n      <td>18.012522</td>\n      <td>208.35088</td>\n      <td>8.552952</td>\n      <td>15.852805</td>\n      <td>-0.464554</td>\n      <td>54129.710</td>\n    </tr>\n    <tr>\n      <th>26</th>\n      <td>86118001</td>\n      <td>120</td>\n      <td>46</td>\n      <td>0</td>\n      <td>217</td>\n      <td>273</td>\n      <td>1</td>\n      <td>1.000000</td>\n      <td>0.0</td>\n      <td>2</td>\n      <td>...</td>\n      <td>40782.156</td>\n      <td>248.49222</td>\n      <td>282.45390</td>\n      <td>45.420456</td>\n      <td>18.335869</td>\n      <td>213.29297</td>\n      <td>10.067105</td>\n      <td>15.320419</td>\n      <td>0.319423</td>\n      <td>54065.254</td>\n    </tr>\n    <tr>\n      <th>27</th>\n      <td>86118001</td>\n      <td>120</td>\n      <td>46</td>\n      <td>0</td>\n      <td>217</td>\n      <td>273</td>\n      <td>1</td>\n      <td>1.000000</td>\n      <td>0.0</td>\n      <td>2</td>\n      <td>...</td>\n      <td>40698.133</td>\n      <td>247.78127</td>\n      <td>282.04575</td>\n      <td>43.513460</td>\n      <td>21.294657</td>\n      <td>215.14986</td>\n      <td>12.261997</td>\n      <td>17.406713</td>\n      <td>-0.017849</td>\n      <td>53945.754</td>\n    </tr>\n    <tr>\n      <th>28</th>\n      <td>86118001</td>\n      <td>120</td>\n      <td>46</td>\n      <td>0</td>\n      <td>217</td>\n      <td>273</td>\n      <td>1</td>\n      <td>1.000000</td>\n      <td>0.0</td>\n      <td>2</td>\n      <td>...</td>\n      <td>40663.492</td>\n      <td>246.58347</td>\n      <td>281.26940</td>\n      <td>33.328125</td>\n      <td>20.992092</td>\n      <td>220.65701</td>\n      <td>13.676830</td>\n      <td>15.925046</td>\n      <td>0.052461</td>\n      <td>53868.156</td>\n    </tr>\n    <tr>\n      <th>...</th>\n      <td>...</td>\n      <td>...</td>\n      <td>...</td>\n      <td>...</td>\n      <td>...</td>\n      <td>...</td>\n      <td>...</td>\n      <td>...</td>\n      <td>...</td>\n      <td>...</td>\n      <td>...</td>\n      <td>...</td>\n      <td>...</td>\n      <td>...</td>\n      <td>...</td>\n      <td>...</td>\n      <td>...</td>\n      <td>...</td>\n      <td>...</td>\n      <td>...</td>\n      <td>...</td>\n    </tr>\n    <tr>\n      <th>2854723</th>\n      <td>95690001</td>\n      <td>126</td>\n      <td>49</td>\n      <td>1</td>\n      <td>112</td>\n      <td>307</td>\n      <td>12</td>\n      <td>0.866025</td>\n      <td>-0.5</td>\n      <td>28</td>\n      <td>...</td>\n      <td>43317.375</td>\n      <td>248.60863</td>\n      <td>282.55228</td>\n      <td>48.964250</td>\n      <td>8.067749</td>\n      <td>258.21423</td>\n      <td>7.896779</td>\n      <td>1.646547</td>\n      <td>-0.284382</td>\n      <td>56646.375</td>\n    </tr>\n    <tr>\n      <th>2854724</th>\n      <td>95690001</td>\n      <td>126</td>\n      <td>49</td>\n      <td>1</td>\n      <td>112</td>\n      <td>307</td>\n      <td>12</td>\n      <td>0.866025</td>\n      <td>-0.5</td>\n      <td>28</td>\n      <td>...</td>\n      <td>43310.170</td>\n      <td>248.46236</td>\n      <td>282.51870</td>\n      <td>53.042847</td>\n      <td>7.950057</td>\n      <td>258.01285</td>\n      <td>7.774828</td>\n      <td>1.651653</td>\n      <td>-0.295374</td>\n      <td>56633.895</td>\n    </tr>\n    <tr>\n      <th>2854725</th>\n      <td>95690001</td>\n      <td>126</td>\n      <td>49</td>\n      <td>1</td>\n      <td>112</td>\n      <td>307</td>\n      <td>12</td>\n      <td>0.866025</td>\n      <td>-0.5</td>\n      <td>28</td>\n      <td>...</td>\n      <td>43297.414</td>\n      <td>248.41630</td>\n      <td>282.54178</td>\n      <td>56.798664</td>\n      <td>8.073887</td>\n      <td>256.81600</td>\n      <td>7.850402</td>\n      <td>1.850257</td>\n      <td>-0.238124</td>\n      <td>56618.574</td>\n    </tr>\n    <tr>\n      <th>2854726</th>\n      <td>95690001</td>\n      <td>126</td>\n      <td>49</td>\n      <td>1</td>\n      <td>112</td>\n      <td>307</td>\n      <td>12</td>\n      <td>0.866025</td>\n      <td>-0.5</td>\n      <td>28</td>\n      <td>...</td>\n      <td>43260.117</td>\n      <td>248.28171</td>\n      <td>282.60925</td>\n      <td>67.777210</td>\n      <td>8.435851</td>\n      <td>253.31750</td>\n      <td>8.071310</td>\n      <td>2.430790</td>\n      <td>-0.070776</td>\n      <td>56573.797</td>\n    </tr>\n    <tr>\n      <th>2854727</th>\n      <td>95690001</td>\n      <td>126</td>\n      <td>49</td>\n      <td>1</td>\n      <td>112</td>\n      <td>307</td>\n      <td>12</td>\n      <td>0.866025</td>\n      <td>-0.5</td>\n      <td>28</td>\n      <td>...</td>\n      <td>43247.360</td>\n      <td>248.23567</td>\n      <td>282.63232</td>\n      <td>71.533020</td>\n      <td>8.559680</td>\n      <td>252.12065</td>\n      <td>8.146884</td>\n      <td>2.629394</td>\n      <td>-0.013525</td>\n      <td>56558.480</td>\n    </tr>\n  </tbody>\n</table>\n<p>2535000 rows × 105 columns</p>\n</div>"
     },
     "execution_count": 7,
     "metadata": {},
     "output_type": "execute_result"
    }
   ],
   "source": [
    "df_2016_clean = df_2016_col_clean.dropna(axis=0, thresh=int(0.6*len(df_2016_col_clean.columns)))\n",
    "del df_2016_col_clean\n",
    "df_2016_clean"
   ],
   "metadata": {
    "collapsed": false,
    "pycharm": {
     "name": "#%%\n"
    }
   }
  },
  {
   "cell_type": "code",
   "execution_count": 8,
   "outputs": [
    {
     "data": {
      "text/plain": "<Figure size 432x288 with 1 Axes>",
      "image/png": "[encoded data removed]"
     },
     "metadata": {
      "needs_background": "light"
     },
     "output_type": "display_data"
    }
   ],
   "source": [
    "na_row = df_2016_clean.isna().sum(axis=1) / len(df_2016_clean.columns)\n",
    "proportion_na_rows = np.zeros(shape=(101))\n",
    "for v in na_row:\n",
    "    proportion_na_rows[int(v*100)] += 1\n",
    "\n",
    "plt.plot(np.linspace(0, 1, 101), proportion_na_rows / len(df_2016_clean))\n",
    "plt.xlabel(\"nan ratio\")\n",
    "plt.ylabel(\"ratio of rows with that much nan\")\n",
    "plt.title(\"proportion of nan in rows\")\n",
    "plt.show()"
   ],
   "metadata": {
    "collapsed": false,
    "pycharm": {
     "name": "#%%\n"
    }
   }
  },
  {
   "cell_type": "code",
   "execution_count": 10,
   "outputs": [
    {
     "name": "stdout",
     "output_type": "stream",
     "text": [
      "station_id ------------------------------------------------------------ : 0 --------- ratio : 0.0\n",
      "altitude (m) ---------------------------------------------------------- : 0 --------- ratio : 0.0\n",
      "latitude -------------------------------------------------------------- : 0 --------- ratio : 0.0\n",
      "longitude ------------------------------------------------------------- : 0 --------- ratio : 0.0\n",
      "latitude_idx ---------------------------------------------------------- : 0 --------- ratio : 0.0\n",
      "longitude_idx --------------------------------------------------------- : 0 --------- ratio : 0.0\n",
      "month ----------------------------------------------------------------- : 0 --------- ratio : 0.0\n",
      "month_cos ------------------------------------------------------------- : 0 --------- ratio : 0.0\n",
      "month_sin ------------------------------------------------------------- : 0 --------- ratio : 0.0\n",
      "day ------------------------------------------------------------------- : 0 --------- ratio : 0.0\n",
      "hour ------------------------------------------------------------------ : 0 --------- ratio : 0.0\n",
      "hour_cos -------------------------------------------------------------- : 0 --------- ratio : 0.0\n",
      "hour_sin -------------------------------------------------------------- : 0 --------- ratio : 0.0\n",
      "temperature (K) ------------------------------------------------------- : 681301 ---- ratio : 0.27\n",
      "shore_distance (m) ---------------------------------------------------- : 0 --------- ratio : 0.0\n",
      "current hour precipitations (kg/m^2) ---------------------------------- : 719785 ---- ratio : 0.28\n",
      "next hour precipitation (kg/m^2) -------------------------------------- : 719789 ---- ratio : 0.28\n",
      "2D_Arome_WindSpeed (m/s) ---------------------------------------------- : 7800 ------ ratio : 0.0\n",
      "2D_Arome_WindDirection (deg) ------------------------------------------ : 7800 ------ ratio : 0.0\n",
      "2D_Arome_WindComponentU (m/s) ----------------------------------------- : 7800 ------ ratio : 0.0\n",
      "2D_Arome_WindComponentV (m/s) ----------------------------------------- : 7800 ------ ratio : 0.0\n",
      "2D_Arome_Temperature (K) ---------------------------------------------- : 0 --------- ratio : 0.0\n",
      "2D_Arome_DewPoint (T) ------------------------------------------------- : 0 --------- ratio : 0.0\n",
      "2D_Arome_RelavtiveHumidity (%) ---------------------------------------- : 0 --------- ratio : 0.0\n",
      "2D_Arome_TotalPrecipitation (kg/m^2) ---------------------------------- : 7800 ------ ratio : 0.0\n",
      "2D_Arome_MeaSeaLevelPressure (Pa) ------------------------------------- : 0 --------- ratio : 0.0\n",
      "2D_Arpege_WindSpeed (m/s) --------------------------------------------- : 0 --------- ratio : 0.0\n",
      "2D_Arpege_WindDirection (deg) ----------------------------------------- : 0 --------- ratio : 0.0\n",
      "2D_Arpege_WindComponentU (m/s) ---------------------------------------- : 0 --------- ratio : 0.0\n",
      "2D_Arpege_WindComponentV (m/s) ---------------------------------------- : 0 --------- ratio : 0.0\n",
      "2D_Arpege_Temperature (K) --------------------------------------------- : 0 --------- ratio : 0.0\n",
      "2D_Arpege_DewPoint (T) ------------------------------------------------ : 0 --------- ratio : 0.0\n",
      "2D_Arpege_RelavtiveHumidity (%) --------------------------------------- : 0 --------- ratio : 0.0\n",
      "2D_Arpege_TotalPrecipitation (kg/m^2) --------------------------------- : 0 --------- ratio : 0.0\n",
      "2D_Arpege_MeaSeaLevelPressure (Pa) ------------------------------------ : 0 --------- ratio : 0.0\n",
      "3D_Arpege_height_Pressure_20m (Pa) ------------------------------------ : 0 --------- ratio : 0.0\n",
      "3D_Arpege_height_Pressure_100m (Pa) ----------------------------------- : 0 --------- ratio : 0.0\n",
      "3D_Arpege_height_Pressure_500m (Pa) ----------------------------------- : 0 --------- ratio : 0.0\n",
      "3D_Arpege_height_Pressure_875m (Pa) ----------------------------------- : 0 --------- ratio : 0.0\n",
      "3D_Arpege_height_Pressure_1375m (Pa) ---------------------------------- : 0 --------- ratio : 0.0\n",
      "3D_Arpege_height_Pressure_2000m (Pa) ---------------------------------- : 0 --------- ratio : 0.0\n",
      "3D_Arpege_height_Pressure_3000m (Pa) ---------------------------------- : 0 --------- ratio : 0.0\n",
      "3D_Arpege_isobar_1000hpa_Temperature (K) ------------------------------ : 0 --------- ratio : 0.0\n",
      "3D_Arpege_isobar_1000hpa_PseudoAdiabaticPotentialTemperature (K) ------ : 0 --------- ratio : 0.0\n",
      "3D_Arpege_isobar_1000hpa_RelavtiveHumidity (%) ------------------------ : 0 --------- ratio : 0.0\n",
      "3D_Arpege_isobar_1000hpa_WindSpeed (m/s) ------------------------------ : 0 --------- ratio : 0.0\n",
      "3D_Arpege_isobar_1000hpa_WindDirection (deg) -------------------------- : 0 --------- ratio : 0.0\n",
      "3D_Arpege_isobar_1000hpa_WindComponentU (m/s) ------------------------- : 0 --------- ratio : 0.0\n",
      "3D_Arpege_isobar_1000hpa_WindComponentV (m/s) ------------------------- : 0 --------- ratio : 0.0\n",
      "3D_Arpege_isobar_1000hpa_VerticalVelocity (Pa/s) ---------------------- : 0 --------- ratio : 0.0\n",
      "3D_Arpege_isobar_1000hpa_Geopotential (m^2/s^2) ----------------------- : 0 --------- ratio : 0.0\n",
      "3D_Arpege_isobar_950hpa_Temperature (K) ------------------------------- : 0 --------- ratio : 0.0\n",
      "3D_Arpege_isobar_950hpa_PseudoAdiabaticPotentialTemperature (K) ------- : 0 --------- ratio : 0.0\n",
      "3D_Arpege_isobar_950hpa_RelavtiveHumidity (%) ------------------------- : 0 --------- ratio : 0.0\n",
      "3D_Arpege_isobar_950hpa_WindSpeed (m/s) ------------------------------- : 0 --------- ratio : 0.0\n",
      "3D_Arpege_isobar_950hpa_WindDirection (deg) --------------------------- : 0 --------- ratio : 0.0\n",
      "3D_Arpege_isobar_950hpa_WindComponentU (m/s) -------------------------- : 0 --------- ratio : 0.0\n",
      "3D_Arpege_isobar_950hpa_WindComponentV (m/s) -------------------------- : 0 --------- ratio : 0.0\n",
      "3D_Arpege_isobar_950hpa_VerticalVelocity (Pa/s) ----------------------- : 0 --------- ratio : 0.0\n",
      "3D_Arpege_isobar_950hpa_Geopotential (m^2/s^2) ------------------------ : 0 --------- ratio : 0.0\n",
      "3D_Arpege_isobar_925hpa_Temperature (K) ------------------------------- : 0 --------- ratio : 0.0\n",
      "3D_Arpege_isobar_925hpa_PseudoAdiabaticPotentialTemperature (K) ------- : 0 --------- ratio : 0.0\n",
      "3D_Arpege_isobar_925hpa_RelavtiveHumidity (%) ------------------------- : 0 --------- ratio : 0.0\n",
      "3D_Arpege_isobar_925hpa_WindSpeed (m/s) ------------------------------- : 0 --------- ratio : 0.0\n",
      "3D_Arpege_isobar_925hpa_WindDirection (deg) --------------------------- : 0 --------- ratio : 0.0\n",
      "3D_Arpege_isobar_925hpa_WindComponentU (m/s) -------------------------- : 0 --------- ratio : 0.0\n",
      "3D_Arpege_isobar_925hpa_WindComponentV (m/s) -------------------------- : 0 --------- ratio : 0.0\n",
      "3D_Arpege_isobar_925hpa_VerticalVelocity (Pa/s) ----------------------- : 0 --------- ratio : 0.0\n",
      "3D_Arpege_isobar_925hpa_Geopotential (m^2/s^2) ------------------------ : 0 --------- ratio : 0.0\n",
      "3D_Arpege_isobar_850hpa_Temperature (K) ------------------------------- : 0 --------- ratio : 0.0\n",
      "3D_Arpege_isobar_850hpa_PseudoAdiabaticPotentialTemperature (K) ------- : 0 --------- ratio : 0.0\n",
      "3D_Arpege_isobar_850hpa_RelavtiveHumidity (%) ------------------------- : 0 --------- ratio : 0.0\n",
      "3D_Arpege_isobar_850hpa_WindSpeed (m/s) ------------------------------- : 0 --------- ratio : 0.0\n",
      "3D_Arpege_isobar_850hpa_WindDirection (deg) --------------------------- : 0 --------- ratio : 0.0\n",
      "3D_Arpege_isobar_850hpa_WindComponentU (m/s) -------------------------- : 0 --------- ratio : 0.0\n",
      "3D_Arpege_isobar_850hpa_WindComponentV (m/s) -------------------------- : 0 --------- ratio : 0.0\n",
      "3D_Arpege_isobar_850hpa_VerticalVelocity (Pa/s) ----------------------- : 0 --------- ratio : 0.0\n",
      "3D_Arpege_isobar_850hpa_Geopotential (m^2/s^2) ------------------------ : 0 --------- ratio : 0.0\n",
      "3D_Arpege_isobar_700hpa_Temperature (K) ------------------------------- : 0 --------- ratio : 0.0\n",
      "3D_Arpege_isobar_700hpa_PseudoAdiabaticPotentialTemperature (K) ------- : 0 --------- ratio : 0.0\n",
      "3D_Arpege_isobar_700hpa_RelavtiveHumidity (%) ------------------------- : 0 --------- ratio : 0.0\n",
      "3D_Arpege_isobar_700hpa_WindSpeed (m/s) ------------------------------- : 0 --------- ratio : 0.0\n",
      "3D_Arpege_isobar_700hpa_WindDirection (deg) --------------------------- : 0 --------- ratio : 0.0\n",
      "3D_Arpege_isobar_700hpa_WindComponentU (m/s) -------------------------- : 0 --------- ratio : 0.0\n",
      "3D_Arpege_isobar_700hpa_WindComponentV (m/s) -------------------------- : 0 --------- ratio : 0.0\n",
      "3D_Arpege_isobar_700hpa_VerticalVelocity (Pa/s) ----------------------- : 0 --------- ratio : 0.0\n",
      "3D_Arpege_isobar_700hpa_Geopotential (m^2/s^2) ------------------------ : 0 --------- ratio : 0.0\n",
      "3D_Arpege_isobar_600hpa_Temperature (K) ------------------------------- : 0 --------- ratio : 0.0\n",
      "3D_Arpege_isobar_600hpa_PseudoAdiabaticPotentialTemperature (K) ------- : 0 --------- ratio : 0.0\n",
      "3D_Arpege_isobar_600hpa_RelavtiveHumidity (%) ------------------------- : 0 --------- ratio : 0.0\n",
      "3D_Arpege_isobar_600hpa_WindSpeed (m/s) ------------------------------- : 0 --------- ratio : 0.0\n",
      "3D_Arpege_isobar_600hpa_WindDirection (deg) --------------------------- : 0 --------- ratio : 0.0\n",
      "3D_Arpege_isobar_600hpa_WindComponentU (m/s) -------------------------- : 0 --------- ratio : 0.0\n",
      "3D_Arpege_isobar_600hpa_WindComponentV (m/s) -------------------------- : 0 --------- ratio : 0.0\n",
      "3D_Arpege_isobar_600hpa_VerticalVelocity (Pa/s) ----------------------- : 0 --------- ratio : 0.0\n",
      "3D_Arpege_isobar_600hpa_Geopotential (m^2/s^2) ------------------------ : 0 --------- ratio : 0.0\n",
      "3D_Arpege_isobar_500hpa_Temperature (K) ------------------------------- : 0 --------- ratio : 0.0\n",
      "3D_Arpege_isobar_500hpa_PseudoAdiabaticPotentialTemperature (K) ------- : 0 --------- ratio : 0.0\n",
      "3D_Arpege_isobar_500hpa_RelavtiveHumidity (%) ------------------------- : 0 --------- ratio : 0.0\n",
      "3D_Arpege_isobar_500hpa_WindSpeed (m/s) ------------------------------- : 0 --------- ratio : 0.0\n",
      "3D_Arpege_isobar_500hpa_WindDirection (deg) --------------------------- : 0 --------- ratio : 0.0\n",
      "3D_Arpege_isobar_500hpa_WindComponentU (m/s) -------------------------- : 0 --------- ratio : 0.0\n",
      "3D_Arpege_isobar_500hpa_WindComponentV (m/s) -------------------------- : 0 --------- ratio : 0.0\n",
      "3D_Arpege_isobar_500hpa_VerticalVelocity (Pa/s) ----------------------- : 0 --------- ratio : 0.0\n",
      "3D_Arpege_isobar_500hpa_Geopotential (m^2/s^2) ------------------------ : 0 --------- ratio : 0.0\n"
     ]
    }
   ],
   "source": [
    "for col in df_2016_clean:\n",
    "    total_na_2016_clean = df_2016_clean[col].isna().sum()\n",
    "    ratio_na_2016_clean = np.round(total_na_2016_clean / len(df_2016_clean), 2)\n",
    "    print(col, \"-\" * (70 - len(col)), \":\", total_na_2016_clean, \"-\" * (10 - len(str(total_na_2016_clean))), \"ratio :\",\n",
    "          ratio_na_2016_clean)"
   ],
   "metadata": {
    "collapsed": false,
    "pycharm": {
     "name": "#%%\n"
    }
   }
  },
  {
   "cell_type": "code",
   "execution_count": 49,
   "outputs": [
    {
     "name": "stdout",
     "output_type": "stream",
     "text": [
      "<class 'pandas.core.frame.DataFrame'>\n",
      "RangeIndex: 2854800 entries, 0 to 2854799\n",
      "Columns: 112 entries, station_id to 3D_Arpege_isobar_500hpa_Geopotential (m^2/s^2)\n",
      "dtypes: float64(103), int64(9)\n",
      "memory usage: 2.4 GB\n"
     ]
    }
   ],
   "source": [
    "df_2016.info()"
   ],
   "metadata": {
    "collapsed": false,
    "pycharm": {
     "name": "#%%\n"
    }
   }
  },
  {
   "cell_type": "code",
   "execution_count": 50,
   "outputs": [
    {
     "name": "stdout",
     "output_type": "stream",
     "text": [
      "station_id : 325\n",
      "altitude (m) : 170\n",
      "latitude : 5\n",
      "longitude : 7\n",
      "latitude_idx : 132\n",
      "longitude_idx : 176\n",
      "month : 12\n",
      "month_cos : 8\n",
      "month_sin : 8\n",
      "day : 31\n",
      "hour : 24\n",
      "hour_cos : 14\n",
      "hour_sin : 14\n",
      "wind_speed (m/s) : 4344\n",
      "wind_direction (deg) : 1107\n",
      "wind_component_u (m/s) : 201684\n",
      "wind_component_v (m/s) : 205121\n",
      "temperature (K) : 9341\n",
      "humidity (%) : 2343\n",
      "dew_point (K) : 7205\n",
      "condensation (Bool) : 3\n",
      "shore_distance (m) : 318\n",
      "current hour precipitations (kg/m^2) : 221\n",
      "next hour precipitation (kg/m^2) : 221\n",
      "2D_Arome_WindSpeed (m/s) : 1968228\n",
      "2D_Arome_WindDirection (deg) : 1528285\n",
      "2D_Arome_WindComponentU (m/s) : 1862606\n",
      "2D_Arome_WindComponentV (m/s) : 1847169\n",
      "2D_Arome_Temperature (K) : 815192\n",
      "2D_Arome_DewPoint (T) : 645884\n",
      "2D_Arome_RelavtiveHumidity (%) : 1797760\n",
      "2D_Arome_TotalPrecipitation (kg/m^2) : 549396\n",
      "2D_Arome_MeaSeaLevelPressure (Pa) : 549436\n",
      "2D_Arpege_WindSpeed (m/s) : 2645797\n",
      "2D_Arpege_WindDirection (deg) : 2560685\n",
      "2D_Arpege_WindComponentU (m/s) : 2738697\n",
      "2D_Arpege_WindComponentV (m/s) : 2740783\n",
      "2D_Arpege_Temperature (K) : 870368\n",
      "2D_Arpege_DewPoint (T) : 717619\n",
      "2D_Arpege_RelavtiveHumidity (%) : 2204728\n",
      "2D_Arpege_TotalPrecipitation (kg/m^2) : 1660846\n",
      "2D_Arpege_MeaSeaLevelPressure (Pa) : 566643\n",
      "3D_Arpege_height_Pressure_20m (Pa) : 686552\n",
      "3D_Arpege_height_Pressure_100m (Pa) : 681765\n",
      "3D_Arpege_height_Pressure_500m (Pa) : 661199\n",
      "3D_Arpege_height_Pressure_875m (Pa) : 645897\n",
      "3D_Arpege_height_Pressure_1375m (Pa) : 631788\n",
      "3D_Arpege_height_Pressure_2000m (Pa) : 623791\n",
      "3D_Arpege_height_Pressure_3000m (Pa) : 622561\n",
      "3D_Arpege_isobar_1000hpa_Temperature (K) : 764250\n",
      "3D_Arpege_isobar_1000hpa_PseudoAdiabaticPotentialTemperature (K) : 652610\n",
      "3D_Arpege_isobar_1000hpa_RelavtiveHumidity (%) : 2110199\n",
      "3D_Arpege_isobar_1000hpa_WindSpeed (m/s) : 2356693\n",
      "3D_Arpege_isobar_1000hpa_WindDirection (deg) : 2292810\n",
      "3D_Arpege_isobar_1000hpa_WindComponentU (m/s) : 2434342\n",
      "3D_Arpege_isobar_1000hpa_WindComponentV (m/s) : 2438301\n",
      "3D_Arpege_isobar_1000hpa_VerticalVelocity (Pa/s) : 2446317\n",
      "3D_Arpege_isobar_1000hpa_Geopotential (m^2/s^2) : 2328228\n",
      "3D_Arpege_isobar_950hpa_Temperature (K) : 732389\n",
      "3D_Arpege_isobar_950hpa_PseudoAdiabaticPotentialTemperature (K) : 627710\n",
      "3D_Arpege_isobar_950hpa_RelavtiveHumidity (%) : 2148196\n",
      "3D_Arpege_isobar_950hpa_WindSpeed (m/s) : 2360023\n",
      "3D_Arpege_isobar_950hpa_WindDirection (deg) : 2269743\n",
      "3D_Arpege_isobar_950hpa_WindComponentU (m/s) : 2432716\n",
      "3D_Arpege_isobar_950hpa_WindComponentV (m/s) : 2440340\n",
      "3D_Arpege_isobar_950hpa_VerticalVelocity (Pa/s) : 2441913\n",
      "3D_Arpege_isobar_950hpa_Geopotential (m^2/s^2) : 1956322\n",
      "3D_Arpege_isobar_925hpa_Temperature (K) : 729493\n",
      "3D_Arpege_isobar_925hpa_PseudoAdiabaticPotentialTemperature (K) : 622895\n",
      "3D_Arpege_isobar_925hpa_RelavtiveHumidity (%) : 2148278\n",
      "3D_Arpege_isobar_925hpa_WindSpeed (m/s) : 2367187\n",
      "3D_Arpege_isobar_925hpa_WindDirection (deg) : 2254365\n",
      "3D_Arpege_isobar_925hpa_WindComponentU (m/s) : 2432599\n",
      "3D_Arpege_isobar_925hpa_WindComponentV (m/s) : 2441436\n",
      "3D_Arpege_isobar_925hpa_VerticalVelocity (Pa/s) : 2441380\n",
      "3D_Arpege_isobar_925hpa_Geopotential (m^2/s^2) : 1847656\n",
      "3D_Arpege_isobar_850hpa_Temperature (K) : 756540\n",
      "3D_Arpege_isobar_850hpa_PseudoAdiabaticPotentialTemperature (K) : 615819\n",
      "3D_Arpege_isobar_850hpa_RelavtiveHumidity (%) : 2231129\n",
      "3D_Arpege_isobar_850hpa_WindSpeed (m/s) : 2367688\n",
      "3D_Arpege_isobar_850hpa_WindDirection (deg) : 2217477\n",
      "3D_Arpege_isobar_850hpa_WindComponentU (m/s) : 2429417\n",
      "3D_Arpege_isobar_850hpa_WindComponentV (m/s) : 2441178\n",
      "3D_Arpege_isobar_850hpa_VerticalVelocity (Pa/s) : 2441692\n",
      "3D_Arpege_isobar_850hpa_Geopotential (m^2/s^2) : 1651158\n",
      "3D_Arpege_isobar_700hpa_Temperature (K) : 770527\n",
      "3D_Arpege_isobar_700hpa_PseudoAdiabaticPotentialTemperature (K) : 566977\n",
      "3D_Arpege_isobar_700hpa_RelavtiveHumidity (%) : 2358831\n",
      "3D_Arpege_isobar_700hpa_WindSpeed (m/s) : 2354324\n",
      "3D_Arpege_isobar_700hpa_WindDirection (deg) : 2181463\n",
      "3D_Arpege_isobar_700hpa_WindComponentU (m/s) : 2417329\n",
      "3D_Arpege_isobar_700hpa_WindComponentV (m/s) : 2438657\n",
      "3D_Arpege_isobar_700hpa_VerticalVelocity (Pa/s) : 2442326\n",
      "3D_Arpege_isobar_700hpa_Geopotential (m^2/s^2) : 1412545\n",
      "3D_Arpege_isobar_600hpa_Temperature (K) : 808016\n",
      "3D_Arpege_isobar_600hpa_PseudoAdiabaticPotentialTemperature (K) : 519581\n",
      "3D_Arpege_isobar_600hpa_RelavtiveHumidity (%) : 2371310\n",
      "3D_Arpege_isobar_600hpa_WindSpeed (m/s) : 2350588\n",
      "3D_Arpege_isobar_600hpa_WindDirection (deg) : 2168286\n",
      "3D_Arpege_isobar_600hpa_WindComponentU (m/s) : 2410966\n",
      "3D_Arpege_isobar_600hpa_WindComponentV (m/s) : 2439040\n",
      "3D_Arpege_isobar_600hpa_VerticalVelocity (Pa/s) : 2443123\n",
      "3D_Arpege_isobar_600hpa_Geopotential (m^2/s^2) : 1086326\n",
      "3D_Arpege_isobar_500hpa_Temperature (K) : 1041240\n",
      "3D_Arpege_isobar_500hpa_PseudoAdiabaticPotentialTemperature (K) : 476694\n",
      "3D_Arpege_isobar_500hpa_RelavtiveHumidity (%) : 2357272\n",
      "3D_Arpege_isobar_500hpa_WindSpeed (m/s) : 2353019\n",
      "3D_Arpege_isobar_500hpa_WindDirection (deg) : 2166523\n",
      "3D_Arpege_isobar_500hpa_WindComponentU (m/s) : 2410044\n",
      "3D_Arpege_isobar_500hpa_WindComponentV (m/s) : 2439884\n",
      "3D_Arpege_isobar_500hpa_VerticalVelocity (Pa/s) : 2444222\n",
      "3D_Arpege_isobar_500hpa_Geopotential (m^2/s^2) : 1226037\n"
     ]
    }
   ],
   "source": [
    "for col in df_2016.columns:\n",
    "    print(col, \":\", len(df_2016[col].unique()))"
   ],
   "metadata": {
    "collapsed": false,
    "pycharm": {
     "name": "#%%\n"
    }
   }
  },
  {
   "cell_type": "code",
   "execution_count": 51,
   "outputs": [],
   "source": [
    "columns_2016 = df_2016.columns"
   ],
   "metadata": {
    "collapsed": false,
    "pycharm": {
     "name": "#%%\n"
    }
   }
  },
  {
   "cell_type": "code",
   "execution_count": 22,
   "outputs": [
    {
     "name": "stdout",
     "output_type": "stream",
     "text": [
      "station_id                                                            altitude (m)                                                          latitude                                                              \n",
      "longitude                                                             latitude_idx                                                          longitude_idx                                                         \n",
      "month                                                                 month_cos                                                             month_sin                                                             \n",
      "day                                                                   hour                                                                  hour_cos                                                              \n",
      "hour_sin                                                              wind_speed (m/s)                                                      wind_direction (deg)                                                  \n",
      "wind_component_u (m/s)                                                wind_component_v (m/s)                                                temperature (K)                                                       \n",
      "humidity (%)                                                          dew_point (K)                                                         condensation (Bool)                                                   \n",
      "shore_distance (m)                                                    current hour precipitations (kg/m^2)                                  next hour precipitation (kg/m^2)                                      \n",
      "2D_Arome_WindSpeed (m/s)                                              2D_Arome_WindDirection (deg)                                          2D_Arome_WindComponentU (m/s)                                         \n",
      "2D_Arome_WindComponentV (m/s)                                         2D_Arome_Temperature (K)                                              2D_Arome_DewPoint (T)                                                 \n",
      "2D_Arome_RelavtiveHumidity (%)                                        2D_Arome_TotalPrecipitation (kg/m^2)                                  2D_Arome_MeaSeaLevelPressure (Pa)                                     \n",
      "2D_Arpege_WindSpeed (m/s)                                             2D_Arpege_WindDirection (deg)                                         2D_Arpege_WindComponentU (m/s)                                        \n",
      "2D_Arpege_WindComponentV (m/s)                                        2D_Arpege_Temperature (K)                                             2D_Arpege_DewPoint (T)                                                \n",
      "2D_Arpege_RelavtiveHumidity (%)                                       2D_Arpege_TotalPrecipitation (kg/m^2)                                 2D_Arpege_MeaSeaLevelPressure (Pa)                                    \n",
      "3D_Arpege_height_Pressure_20m (Pa)                                    3D_Arpege_height_Pressure_100m (Pa)                                   3D_Arpege_height_Pressure_500m (Pa)                                   \n",
      "3D_Arpege_height_Pressure_875m (Pa)                                   3D_Arpege_height_Pressure_1375m (Pa)                                  3D_Arpege_height_Pressure_2000m (Pa)                                  \n",
      "3D_Arpege_height_Pressure_3000m (Pa)                                  3D_Arpege_isobar_1000hpa_Temperature (K)                              3D_Arpege_isobar_1000hpa_PseudoAdiabaticPotentialTemperature (K)      \n",
      "3D_Arpege_isobar_1000hpa_RelavtiveHumidity (%)                        3D_Arpege_isobar_1000hpa_WindSpeed (m/s)                              3D_Arpege_isobar_1000hpa_WindDirection (deg)                          \n",
      "3D_Arpege_isobar_1000hpa_WindComponentU (m/s)                         3D_Arpege_isobar_1000hpa_WindComponentV (m/s)                         3D_Arpege_isobar_1000hpa_VerticalVelocity (Pa/s)                      \n",
      "3D_Arpege_isobar_1000hpa_Geopotential (m^2/s^2)                       3D_Arpege_isobar_950hpa_Temperature (K)                               3D_Arpege_isobar_950hpa_PseudoAdiabaticPotentialTemperature (K)       \n",
      "3D_Arpege_isobar_950hpa_RelavtiveHumidity (%)                         3D_Arpege_isobar_950hpa_WindSpeed (m/s)                               3D_Arpege_isobar_950hpa_WindDirection (deg)                           \n",
      "3D_Arpege_isobar_950hpa_WindComponentU (m/s)                          3D_Arpege_isobar_950hpa_WindComponentV (m/s)                          3D_Arpege_isobar_950hpa_VerticalVelocity (Pa/s)                       \n",
      "3D_Arpege_isobar_950hpa_Geopotential (m^2/s^2)                        3D_Arpege_isobar_925hpa_Temperature (K)                               3D_Arpege_isobar_925hpa_PseudoAdiabaticPotentialTemperature (K)       \n",
      "3D_Arpege_isobar_925hpa_RelavtiveHumidity (%)                         3D_Arpege_isobar_925hpa_WindSpeed (m/s)                               3D_Arpege_isobar_925hpa_WindDirection (deg)                           \n",
      "3D_Arpege_isobar_925hpa_WindComponentU (m/s)                          3D_Arpege_isobar_925hpa_WindComponentV (m/s)                          3D_Arpege_isobar_925hpa_VerticalVelocity (Pa/s)                       \n",
      "3D_Arpege_isobar_925hpa_Geopotential (m^2/s^2)                        3D_Arpege_isobar_850hpa_Temperature (K)                               3D_Arpege_isobar_850hpa_PseudoAdiabaticPotentialTemperature (K)       \n",
      "3D_Arpege_isobar_850hpa_RelavtiveHumidity (%)                         3D_Arpege_isobar_850hpa_WindSpeed (m/s)                               3D_Arpege_isobar_850hpa_WindDirection (deg)                           \n",
      "3D_Arpege_isobar_850hpa_WindComponentU (m/s)                          3D_Arpege_isobar_850hpa_WindComponentV (m/s)                          3D_Arpege_isobar_850hpa_VerticalVelocity (Pa/s)                       \n",
      "3D_Arpege_isobar_850hpa_Geopotential (m^2/s^2)                        3D_Arpege_isobar_700hpa_Temperature (K)                               3D_Arpege_isobar_700hpa_PseudoAdiabaticPotentialTemperature (K)       \n",
      "3D_Arpege_isobar_700hpa_RelavtiveHumidity (%)                         3D_Arpege_isobar_700hpa_WindSpeed (m/s)                               3D_Arpege_isobar_700hpa_WindDirection (deg)                           \n",
      "3D_Arpege_isobar_700hpa_WindComponentU (m/s)                          3D_Arpege_isobar_700hpa_WindComponentV (m/s)                          3D_Arpege_isobar_700hpa_VerticalVelocity (Pa/s)                       \n",
      "3D_Arpege_isobar_700hpa_Geopotential (m^2/s^2)                        3D_Arpege_isobar_600hpa_Temperature (K)                               3D_Arpege_isobar_600hpa_PseudoAdiabaticPotentialTemperature (K)       \n",
      "3D_Arpege_isobar_600hpa_RelavtiveHumidity (%)                         3D_Arpege_isobar_600hpa_WindSpeed (m/s)                               3D_Arpege_isobar_600hpa_WindDirection (deg)                           \n",
      "3D_Arpege_isobar_600hpa_WindComponentU (m/s)                          3D_Arpege_isobar_600hpa_WindComponentV (m/s)                          3D_Arpege_isobar_600hpa_VerticalVelocity (Pa/s)                       \n",
      "3D_Arpege_isobar_600hpa_Geopotential (m^2/s^2)                        3D_Arpege_isobar_500hpa_Temperature (K)                               3D_Arpege_isobar_500hpa_PseudoAdiabaticPotentialTemperature (K)       \n",
      "3D_Arpege_isobar_500hpa_RelavtiveHumidity (%)                         3D_Arpege_isobar_500hpa_WindSpeed (m/s)                               3D_Arpege_isobar_500hpa_WindDirection (deg)                           \n",
      "3D_Arpege_isobar_500hpa_WindComponentU (m/s)                          3D_Arpege_isobar_500hpa_WindComponentV (m/s)                          3D_Arpege_isobar_500hpa_VerticalVelocity (Pa/s)                       \n",
      "3D_Arpege_isobar_500hpa_Geopotential (m^2/s^2)                        "
     ]
    }
   ],
   "source": [
    "i = 0\n",
    "for col in columns_2016:\n",
    "    print(col.ljust(70), end=\"\")\n",
    "    i += 1\n",
    "    if i % 3 == 0:\n",
    "        print()"
   ],
   "metadata": {
    "collapsed": false,
    "pycharm": {
     "name": "#%%\n"
    }
   }
  },
  {
   "cell_type": "code",
   "execution_count": 23,
   "outputs": [
    {
     "name": "stdout",
     "output_type": "stream",
     "text": [
      "station_id ------------------------------------------------------------ : 0 --------- ratio : 0.0\n",
      "altitude (m) ---------------------------------------------------------- : 0 --------- ratio : 0.0\n",
      "latitude -------------------------------------------------------------- : 0 --------- ratio : 0.0\n",
      "longitude ------------------------------------------------------------- : 0 --------- ratio : 0.0\n",
      "latitude_idx ---------------------------------------------------------- : 0 --------- ratio : 0.0\n",
      "longitude_idx --------------------------------------------------------- : 0 --------- ratio : 0.0\n",
      "month ----------------------------------------------------------------- : 0 --------- ratio : 0.0\n",
      "month_cos ------------------------------------------------------------- : 0 --------- ratio : 0.0\n",
      "month_sin ------------------------------------------------------------- : 0 --------- ratio : 0.0\n",
      "day ------------------------------------------------------------------- : 0 --------- ratio : 0.0\n",
      "hour ------------------------------------------------------------------ : 0 --------- ratio : 0.0\n",
      "hour_cos -------------------------------------------------------------- : 0 --------- ratio : 0.0\n",
      "hour_sin -------------------------------------------------------------- : 0 --------- ratio : 0.0\n",
      "wind_speed (m/s) ------------------------------------------------------ : 1536519 --- ratio : 0.54\n",
      "wind_direction (deg) -------------------------------------------------- : 1537946 --- ratio : 0.54\n",
      "wind_component_u (m/s) ------------------------------------------------ : 1537950 --- ratio : 0.54\n",
      "wind_component_v (m/s) ------------------------------------------------ : 1537950 --- ratio : 0.54\n",
      "temperature (K) ------------------------------------------------------- : 763630 ---- ratio : 0.27\n",
      "humidity (%) ---------------------------------------------------------- : 1374877 --- ratio : 0.48\n",
      "dew_point (K) --------------------------------------------------------- : 1376441 --- ratio : 0.48\n",
      "condensation (Bool) --------------------------------------------------- : 1376441 --- ratio : 0.48\n",
      "shore_distance (m) ---------------------------------------------------- : 0 --------- ratio : 0.0\n",
      "current hour precipitations (kg/m^2) ---------------------------------- : 806881 ---- ratio : 0.28\n",
      "next hour precipitation (kg/m^2) -------------------------------------- : 806882 ---- ratio : 0.28\n",
      "2D_Arome_WindSpeed (m/s) ---------------------------------------------- : 15600 ----- ratio : 0.01\n",
      "2D_Arome_WindDirection (deg) ------------------------------------------ : 15600 ----- ratio : 0.01\n",
      "2D_Arome_WindComponentU (m/s) ----------------------------------------- : 15600 ----- ratio : 0.01\n",
      "2D_Arome_WindComponentV (m/s) ----------------------------------------- : 15600 ----- ratio : 0.01\n",
      "2D_Arome_Temperature (K) ---------------------------------------------- : 7800 ------ ratio : 0.0\n",
      "2D_Arome_DewPoint (T) ------------------------------------------------- : 7800 ------ ratio : 0.0\n",
      "2D_Arome_RelavtiveHumidity (%) ---------------------------------------- : 7800 ------ ratio : 0.0\n",
      "2D_Arome_TotalPrecipitation (kg/m^2) ---------------------------------- : 15600 ----- ratio : 0.01\n",
      "2D_Arome_MeaSeaLevelPressure (Pa) ------------------------------------- : 7800 ------ ratio : 0.0\n",
      "2D_Arpege_WindSpeed (m/s) --------------------------------------------- : 0 --------- ratio : 0.0\n",
      "2D_Arpege_WindDirection (deg) ----------------------------------------- : 0 --------- ratio : 0.0\n",
      "2D_Arpege_WindComponentU (m/s) ---------------------------------------- : 0 --------- ratio : 0.0\n",
      "2D_Arpege_WindComponentV (m/s) ---------------------------------------- : 0 --------- ratio : 0.0\n",
      "2D_Arpege_Temperature (K) --------------------------------------------- : 0 --------- ratio : 0.0\n",
      "2D_Arpege_DewPoint (T) ------------------------------------------------ : 0 --------- ratio : 0.0\n",
      "2D_Arpege_RelavtiveHumidity (%) --------------------------------------- : 0 --------- ratio : 0.0\n",
      "2D_Arpege_TotalPrecipitation (kg/m^2) --------------------------------- : 0 --------- ratio : 0.0\n",
      "2D_Arpege_MeaSeaLevelPressure (Pa) ------------------------------------ : 0 --------- ratio : 0.0\n",
      "3D_Arpege_height_Pressure_20m (Pa) ------------------------------------ : 7800 ------ ratio : 0.0\n",
      "3D_Arpege_height_Pressure_100m (Pa) ----------------------------------- : 7800 ------ ratio : 0.0\n",
      "3D_Arpege_height_Pressure_500m (Pa) ----------------------------------- : 7800 ------ ratio : 0.0\n",
      "3D_Arpege_height_Pressure_875m (Pa) ----------------------------------- : 7800 ------ ratio : 0.0\n",
      "3D_Arpege_height_Pressure_1375m (Pa) ---------------------------------- : 7800 ------ ratio : 0.0\n",
      "3D_Arpege_height_Pressure_2000m (Pa) ---------------------------------- : 7800 ------ ratio : 0.0\n",
      "3D_Arpege_height_Pressure_3000m (Pa) ---------------------------------- : 7800 ------ ratio : 0.0\n",
      "3D_Arpege_isobar_1000hpa_Temperature (K) ------------------------------ : 319800 ---- ratio : 0.11\n",
      "3D_Arpege_isobar_1000hpa_PseudoAdiabaticPotentialTemperature (K) ------ : 319800 ---- ratio : 0.11\n",
      "3D_Arpege_isobar_1000hpa_RelavtiveHumidity (%) ------------------------ : 319800 ---- ratio : 0.11\n",
      "3D_Arpege_isobar_1000hpa_WindSpeed (m/s) ------------------------------ : 319800 ---- ratio : 0.11\n",
      "3D_Arpege_isobar_1000hpa_WindDirection (deg) -------------------------- : 319800 ---- ratio : 0.11\n",
      "3D_Arpege_isobar_1000hpa_WindComponentU (m/s) ------------------------- : 319800 ---- ratio : 0.11\n",
      "3D_Arpege_isobar_1000hpa_WindComponentV (m/s) ------------------------- : 319800 ---- ratio : 0.11\n",
      "3D_Arpege_isobar_1000hpa_VerticalVelocity (Pa/s) ---------------------- : 319800 ---- ratio : 0.11\n",
      "3D_Arpege_isobar_1000hpa_Geopotential (m^2/s^2) ----------------------- : 319800 ---- ratio : 0.11\n",
      "3D_Arpege_isobar_950hpa_Temperature (K) ------------------------------- : 319800 ---- ratio : 0.11\n",
      "3D_Arpege_isobar_950hpa_PseudoAdiabaticPotentialTemperature (K) ------- : 319800 ---- ratio : 0.11\n",
      "3D_Arpege_isobar_950hpa_RelavtiveHumidity (%) ------------------------- : 319800 ---- ratio : 0.11\n",
      "3D_Arpege_isobar_950hpa_WindSpeed (m/s) ------------------------------- : 319800 ---- ratio : 0.11\n",
      "3D_Arpege_isobar_950hpa_WindDirection (deg) --------------------------- : 319800 ---- ratio : 0.11\n",
      "3D_Arpege_isobar_950hpa_WindComponentU (m/s) -------------------------- : 319800 ---- ratio : 0.11\n",
      "3D_Arpege_isobar_950hpa_WindComponentV (m/s) -------------------------- : 319800 ---- ratio : 0.11\n",
      "3D_Arpege_isobar_950hpa_VerticalVelocity (Pa/s) ----------------------- : 319800 ---- ratio : 0.11\n",
      "3D_Arpege_isobar_950hpa_Geopotential (m^2/s^2) ------------------------ : 319800 ---- ratio : 0.11\n",
      "3D_Arpege_isobar_925hpa_Temperature (K) ------------------------------- : 319800 ---- ratio : 0.11\n",
      "3D_Arpege_isobar_925hpa_PseudoAdiabaticPotentialTemperature (K) ------- : 319800 ---- ratio : 0.11\n",
      "3D_Arpege_isobar_925hpa_RelavtiveHumidity (%) ------------------------- : 319800 ---- ratio : 0.11\n",
      "3D_Arpege_isobar_925hpa_WindSpeed (m/s) ------------------------------- : 319800 ---- ratio : 0.11\n",
      "3D_Arpege_isobar_925hpa_WindDirection (deg) --------------------------- : 319800 ---- ratio : 0.11\n",
      "3D_Arpege_isobar_925hpa_WindComponentU (m/s) -------------------------- : 319800 ---- ratio : 0.11\n",
      "3D_Arpege_isobar_925hpa_WindComponentV (m/s) -------------------------- : 319800 ---- ratio : 0.11\n",
      "3D_Arpege_isobar_925hpa_VerticalVelocity (Pa/s) ----------------------- : 319800 ---- ratio : 0.11\n",
      "3D_Arpege_isobar_925hpa_Geopotential (m^2/s^2) ------------------------ : 319800 ---- ratio : 0.11\n",
      "3D_Arpege_isobar_850hpa_Temperature (K) ------------------------------- : 319800 ---- ratio : 0.11\n",
      "3D_Arpege_isobar_850hpa_PseudoAdiabaticPotentialTemperature (K) ------- : 319800 ---- ratio : 0.11\n",
      "3D_Arpege_isobar_850hpa_RelavtiveHumidity (%) ------------------------- : 319800 ---- ratio : 0.11\n",
      "3D_Arpege_isobar_850hpa_WindSpeed (m/s) ------------------------------- : 319800 ---- ratio : 0.11\n",
      "3D_Arpege_isobar_850hpa_WindDirection (deg) --------------------------- : 319800 ---- ratio : 0.11\n",
      "3D_Arpege_isobar_850hpa_WindComponentU (m/s) -------------------------- : 319800 ---- ratio : 0.11\n",
      "3D_Arpege_isobar_850hpa_WindComponentV (m/s) -------------------------- : 319800 ---- ratio : 0.11\n",
      "3D_Arpege_isobar_850hpa_VerticalVelocity (Pa/s) ----------------------- : 319800 ---- ratio : 0.11\n",
      "3D_Arpege_isobar_850hpa_Geopotential (m^2/s^2) ------------------------ : 319800 ---- ratio : 0.11\n",
      "3D_Arpege_isobar_700hpa_Temperature (K) ------------------------------- : 319800 ---- ratio : 0.11\n",
      "3D_Arpege_isobar_700hpa_PseudoAdiabaticPotentialTemperature (K) ------- : 319800 ---- ratio : 0.11\n",
      "3D_Arpege_isobar_700hpa_RelavtiveHumidity (%) ------------------------- : 319800 ---- ratio : 0.11\n",
      "3D_Arpege_isobar_700hpa_WindSpeed (m/s) ------------------------------- : 319800 ---- ratio : 0.11\n",
      "3D_Arpege_isobar_700hpa_WindDirection (deg) --------------------------- : 319800 ---- ratio : 0.11\n",
      "3D_Arpege_isobar_700hpa_WindComponentU (m/s) -------------------------- : 319800 ---- ratio : 0.11\n",
      "3D_Arpege_isobar_700hpa_WindComponentV (m/s) -------------------------- : 319800 ---- ratio : 0.11\n",
      "3D_Arpege_isobar_700hpa_VerticalVelocity (Pa/s) ----------------------- : 319800 ---- ratio : 0.11\n",
      "3D_Arpege_isobar_700hpa_Geopotential (m^2/s^2) ------------------------ : 319800 ---- ratio : 0.11\n",
      "3D_Arpege_isobar_600hpa_Temperature (K) ------------------------------- : 319800 ---- ratio : 0.11\n",
      "3D_Arpege_isobar_600hpa_PseudoAdiabaticPotentialTemperature (K) ------- : 319800 ---- ratio : 0.11\n",
      "3D_Arpege_isobar_600hpa_RelavtiveHumidity (%) ------------------------- : 319800 ---- ratio : 0.11\n",
      "3D_Arpege_isobar_600hpa_WindSpeed (m/s) ------------------------------- : 319800 ---- ratio : 0.11\n",
      "3D_Arpege_isobar_600hpa_WindDirection (deg) --------------------------- : 319800 ---- ratio : 0.11\n",
      "3D_Arpege_isobar_600hpa_WindComponentU (m/s) -------------------------- : 319800 ---- ratio : 0.11\n",
      "3D_Arpege_isobar_600hpa_WindComponentV (m/s) -------------------------- : 319800 ---- ratio : 0.11\n",
      "3D_Arpege_isobar_600hpa_VerticalVelocity (Pa/s) ----------------------- : 319800 ---- ratio : 0.11\n",
      "3D_Arpege_isobar_600hpa_Geopotential (m^2/s^2) ------------------------ : 319800 ---- ratio : 0.11\n",
      "3D_Arpege_isobar_500hpa_Temperature (K) ------------------------------- : 319800 ---- ratio : 0.11\n",
      "3D_Arpege_isobar_500hpa_PseudoAdiabaticPotentialTemperature (K) ------- : 319800 ---- ratio : 0.11\n",
      "3D_Arpege_isobar_500hpa_RelavtiveHumidity (%) ------------------------- : 319800 ---- ratio : 0.11\n",
      "3D_Arpege_isobar_500hpa_WindSpeed (m/s) ------------------------------- : 319800 ---- ratio : 0.11\n",
      "3D_Arpege_isobar_500hpa_WindDirection (deg) --------------------------- : 319800 ---- ratio : 0.11\n",
      "3D_Arpege_isobar_500hpa_WindComponentU (m/s) -------------------------- : 319800 ---- ratio : 0.11\n",
      "3D_Arpege_isobar_500hpa_WindComponentV (m/s) -------------------------- : 319800 ---- ratio : 0.11\n",
      "3D_Arpege_isobar_500hpa_VerticalVelocity (Pa/s) ----------------------- : 319800 ---- ratio : 0.11\n",
      "3D_Arpege_isobar_500hpa_Geopotential (m^2/s^2) ------------------------ : 319800 ---- ratio : 0.11\n"
     ]
    }
   ],
   "source": [
    "for col in columns_2016:\n",
    "    total_na_2016 = df_2016[col].isna().sum()\n",
    "    ratio_na_2016 = np.round(total_na_2016 / len(df_2016), 2)\n",
    "    print(col, \"-\" * (70 - len(col)), \":\", total_na_2016, \"-\" * (10 - len(str(total_na_2016))), \"ratio :\",\n",
    "          ratio_na_2016)"
   ],
   "metadata": {
    "collapsed": false,
    "pycharm": {
     "name": "#%%\n"
    }
   }
  },
  {
   "cell_type": "code",
   "execution_count": 24,
   "outputs": [
    {
     "data": {
      "text/plain": "0           86118001_1\n1           86118001_1\n2           86118001_1\n3           86118001_1\n4           86118001_1\n              ...     \n2854795    95690001_31\n2854796    95690001_31\n2854797    95690001_31\n2854798    95690001_31\n2854799    95690001_31\nName: Id, Length: 2854800, dtype: object"
     },
     "execution_count": 24,
     "metadata": {},
     "output_type": "execute_result"
    }
   ],
   "source": [
    "df_2016[\"Id\"] = df_2016[\"station_id\"].astype(str) + \"_\" + df_2016[\"day\"].astype(str)\n",
    "df_2016[\"Id\"]"
   ],
   "metadata": {
    "collapsed": false,
    "pycharm": {
     "name": "#%%\n"
    }
   }
  },
  {
   "cell_type": "markdown",
   "source": [
    "# X_all_test_imputed_by_day"
   ],
   "metadata": {
    "collapsed": false
   }
  },
  {
   "cell_type": "code",
   "execution_count": 8,
   "outputs": [],
   "source": [
    "df_test_by_day = pd.read_csv(\"./X_all_test_imputed_by_day.csv\")"
   ],
   "metadata": {
    "collapsed": false,
    "pycharm": {
     "name": "#%%\n"
    }
   }
  },
  {
   "cell_type": "code",
   "execution_count": 9,
   "outputs": [
    {
     "name": "stdout",
     "output_type": "stream",
     "text": [
      "<class 'pandas.core.frame.DataFrame'>\n",
      "RangeIndex: 117975 entries, 0 to 117974\n",
      "Columns: 109 entries, station_id to 3D_Arpege_isobar_500hpa_Geopotential (m^2/s^2)\n",
      "dtypes: float64(101), int64(8)\n",
      "memory usage: 98.1 MB\n"
     ]
    }
   ],
   "source": [
    "df_test_by_day.info()"
   ],
   "metadata": {
    "collapsed": false,
    "pycharm": {
     "name": "#%%\n"
    }
   }
  },
  {
   "cell_type": "code",
   "execution_count": 16,
   "outputs": [
    {
     "name": "stdout",
     "output_type": "stream",
     "text": [
      "station_id : 325\n",
      "altitude (m) : 170\n",
      "latitude : 5\n",
      "longitude : 7\n",
      "latitude_idx : 132\n",
      "longitude_idx : 176\n",
      "month : 13\n",
      "month_cos : 8\n",
      "month_sin : 7\n",
      "day : 363\n",
      "wind_speed (m/s) : 20791\n",
      "wind_direction (deg) : 9867\n",
      "wind_component_u (m/s) : 54185\n",
      "wind_component_v (m/s) : 54185\n",
      "temperature (K) : 47406\n",
      "humidity (%) : 14201\n",
      "dew_point (K) : 34418\n",
      "condensation (Bool) : 25\n",
      "shore_distance (m) : 318\n",
      "current hour precipitations (kg/m^2) : 593\n",
      "next hour precipitation (kg/m^2) : 583\n",
      "2D_Arome_WindSpeed (m/s) : 106491\n",
      "2D_Arome_WindDirection (deg) : 106490\n",
      "2D_Arome_WindComponentU (m/s) : 106496\n",
      "2D_Arome_WindComponentV (m/s) : 107133\n",
      "2D_Arome_Temperature (K) : 108467\n",
      "2D_Arome_DewPoint (T) : 108274\n",
      "2D_Arome_RelavtiveHumidity (%) : 108402\n",
      "2D_Arome_TotalPrecipitation (kg/m^2) : 73526\n",
      "2D_Arome_MeaSeaLevelPressure (Pa) : 109432\n",
      "2D_Arpege_WindSpeed (m/s) : 114617\n",
      "2D_Arpege_WindDirection (deg) : 114617\n",
      "2D_Arpege_WindComponentU (m/s) : 114619\n",
      "2D_Arpege_WindComponentV (m/s) : 114619\n",
      "2D_Arpege_Temperature (K) : 114510\n",
      "2D_Arpege_DewPoint (T) : 114464\n",
      "2D_Arpege_RelavtiveHumidity (%) : 114614\n",
      "2D_Arpege_TotalPrecipitation (kg/m^2) : 97614\n",
      "2D_Arpege_MeaSeaLevelPressure (Pa) : 114854\n",
      "3D_Arpege_height_Pressure_20m (Pa) : 115277\n",
      "3D_Arpege_height_Pressure_100m (Pa) : 115283\n",
      "3D_Arpege_height_Pressure_500m (Pa) : 115276\n",
      "3D_Arpege_height_Pressure_875m (Pa) : 115279\n",
      "3D_Arpege_height_Pressure_1375m (Pa) : 115285\n",
      "3D_Arpege_height_Pressure_2000m (Pa) : 115275\n",
      "3D_Arpege_height_Pressure_3000m (Pa) : 115270\n",
      "3D_Arpege_isobar_1000hpa_Temperature (K) : 89262\n",
      "3D_Arpege_isobar_1000hpa_PseudoAdiabaticPotentialTemperature (K) : 74636\n",
      "3D_Arpege_isobar_1000hpa_RelavtiveHumidity (%) : 89329\n",
      "3D_Arpege_isobar_1000hpa_WindSpeed (m/s) : 89334\n",
      "3D_Arpege_isobar_1000hpa_WindDirection (deg) : 89334\n",
      "3D_Arpege_isobar_1000hpa_WindComponentU (m/s) : 89334\n",
      "3D_Arpege_isobar_1000hpa_WindComponentV (m/s) : 89334\n",
      "3D_Arpege_isobar_1000hpa_VerticalVelocity (Pa/s) : 89334\n",
      "3D_Arpege_isobar_1000hpa_Geopotential (m^2/s^2) : 89332\n",
      "3D_Arpege_isobar_950hpa_Temperature (K) : 89257\n",
      "3D_Arpege_isobar_950hpa_PseudoAdiabaticPotentialTemperature (K) : 74629\n",
      "3D_Arpege_isobar_950hpa_RelavtiveHumidity (%) : 89333\n",
      "3D_Arpege_isobar_950hpa_WindSpeed (m/s) : 89332\n",
      "3D_Arpege_isobar_950hpa_WindDirection (deg) : 89331\n",
      "3D_Arpege_isobar_950hpa_WindComponentU (m/s) : 89334\n",
      "3D_Arpege_isobar_950hpa_WindComponentV (m/s) : 89334\n",
      "3D_Arpege_isobar_950hpa_VerticalVelocity (Pa/s) : 89334\n",
      "3D_Arpege_isobar_950hpa_Geopotential (m^2/s^2) : 89330\n",
      "3D_Arpege_isobar_925hpa_Temperature (K) : 89245\n",
      "3D_Arpege_isobar_925hpa_PseudoAdiabaticPotentialTemperature (K) : 74634\n",
      "3D_Arpege_isobar_925hpa_RelavtiveHumidity (%) : 89331\n",
      "3D_Arpege_isobar_925hpa_WindSpeed (m/s) : 89334\n",
      "3D_Arpege_isobar_925hpa_WindDirection (deg) : 89334\n",
      "3D_Arpege_isobar_925hpa_WindComponentU (m/s) : 89334\n",
      "3D_Arpege_isobar_925hpa_WindComponentV (m/s) : 89334\n",
      "3D_Arpege_isobar_925hpa_VerticalVelocity (Pa/s) : 89334\n",
      "3D_Arpege_isobar_925hpa_Geopotential (m^2/s^2) : 89323\n",
      "3D_Arpege_isobar_850hpa_Temperature (K) : 89248\n",
      "3D_Arpege_isobar_850hpa_PseudoAdiabaticPotentialTemperature (K) : 74622\n",
      "3D_Arpege_isobar_850hpa_RelavtiveHumidity (%) : 89334\n",
      "3D_Arpege_isobar_850hpa_WindSpeed (m/s) : 89332\n",
      "3D_Arpege_isobar_850hpa_WindDirection (deg) : 89331\n",
      "3D_Arpege_isobar_850hpa_WindComponentU (m/s) : 89333\n",
      "3D_Arpege_isobar_850hpa_WindComponentV (m/s) : 89333\n",
      "3D_Arpege_isobar_850hpa_VerticalVelocity (Pa/s) : 89334\n",
      "3D_Arpege_isobar_850hpa_Geopotential (m^2/s^2) : 89298\n",
      "3D_Arpege_isobar_700hpa_Temperature (K) : 89240\n",
      "3D_Arpege_isobar_700hpa_PseudoAdiabaticPotentialTemperature (K) : 74613\n",
      "3D_Arpege_isobar_700hpa_RelavtiveHumidity (%) : 89333\n",
      "3D_Arpege_isobar_700hpa_WindSpeed (m/s) : 89334\n",
      "3D_Arpege_isobar_700hpa_WindDirection (deg) : 89331\n",
      "3D_Arpege_isobar_700hpa_WindComponentU (m/s) : 89332\n",
      "3D_Arpege_isobar_700hpa_WindComponentV (m/s) : 89334\n",
      "3D_Arpege_isobar_700hpa_VerticalVelocity (Pa/s) : 89334\n",
      "3D_Arpege_isobar_700hpa_Geopotential (m^2/s^2) : 89281\n",
      "3D_Arpege_isobar_600hpa_Temperature (K) : 89251\n",
      "3D_Arpege_isobar_600hpa_PseudoAdiabaticPotentialTemperature (K) : 74588\n",
      "3D_Arpege_isobar_600hpa_RelavtiveHumidity (%) : 89334\n",
      "3D_Arpege_isobar_600hpa_WindSpeed (m/s) : 89334\n",
      "3D_Arpege_isobar_600hpa_WindDirection (deg) : 89331\n",
      "3D_Arpege_isobar_600hpa_WindComponentU (m/s) : 89332\n",
      "3D_Arpege_isobar_600hpa_WindComponentV (m/s) : 89334\n",
      "3D_Arpege_isobar_600hpa_VerticalVelocity (Pa/s) : 89334\n",
      "3D_Arpege_isobar_600hpa_Geopotential (m^2/s^2) : 89299\n",
      "3D_Arpege_isobar_500hpa_Temperature (K) : 89254\n",
      "3D_Arpege_isobar_500hpa_PseudoAdiabaticPotentialTemperature (K) : 74583\n",
      "3D_Arpege_isobar_500hpa_RelavtiveHumidity (%) : 89333\n",
      "3D_Arpege_isobar_500hpa_WindSpeed (m/s) : 89333\n",
      "3D_Arpege_isobar_500hpa_WindDirection (deg) : 89329\n",
      "3D_Arpege_isobar_500hpa_WindComponentU (m/s) : 89334\n",
      "3D_Arpege_isobar_500hpa_WindComponentV (m/s) : 89334\n",
      "3D_Arpege_isobar_500hpa_VerticalVelocity (Pa/s) : 89334\n",
      "3D_Arpege_isobar_500hpa_Geopotential (m^2/s^2) : 89311\n"
     ]
    }
   ],
   "source": [
    "for col in df_test_by_day.columns:\n",
    "    print(col, \":\", len(df_test_by_day[col].unique()))"
   ],
   "metadata": {
    "collapsed": false,
    "pycharm": {
     "name": "#%%\n"
    }
   }
  },
  {
   "cell_type": "markdown",
   "source": [
    "# X_all_2016_imputed_by_day"
   ],
   "metadata": {
    "collapsed": false
   }
  },
  {
   "cell_type": "code",
   "execution_count": 3,
   "outputs": [],
   "source": [
    "df_2016_by_day = pd.read_csv(\"./X_all_2016_imputed_by_day.csv\")"
   ],
   "metadata": {
    "collapsed": false,
    "pycharm": {
     "name": "#%%\n"
    }
   }
  },
  {
   "cell_type": "code",
   "execution_count": 5,
   "outputs": [
    {
     "name": "stdout",
     "output_type": "stream",
     "text": [
      "<class 'pandas.core.frame.DataFrame'>\n",
      "RangeIndex: 10075 entries, 0 to 10074\n",
      "Columns: 110 entries, station_id to timestamp\n",
      "dtypes: float64(102), int64(8)\n",
      "memory usage: 8.5 MB\n"
     ]
    }
   ],
   "source": [
    "df_2016_by_day.info()"
   ],
   "metadata": {
    "collapsed": false,
    "pycharm": {
     "name": "#%%\n"
    }
   }
  },
  {
   "cell_type": "code",
   "execution_count": 17,
   "outputs": [
    {
     "name": "stdout",
     "output_type": "stream",
     "text": [
      "station_id : 325\n",
      "altitude (m) : 170\n",
      "latitude : 5\n",
      "longitude : 7\n",
      "latitude_idx : 132\n",
      "longitude_idx : 176\n",
      "month : 1\n",
      "month_cos : 1\n",
      "month_sin : 1\n",
      "day : 31\n",
      "wind_speed (m/s) : 6932\n",
      "wind_direction (deg) : 6732\n",
      "wind_component_u (m/s) : 6952\n",
      "wind_component_v (m/s) : 6952\n",
      "temperature (K) : 9330\n",
      "humidity (%) : 7680\n",
      "dew_point (K) : 7942\n",
      "condensation (Bool) : 81\n",
      "shore_distance (m) : 318\n",
      "current hour precipitations (kg/m^2) : 1497\n",
      "next hour precipitation (kg/m^2) : 1469\n",
      "2D_Arome_WindSpeed (m/s) : 9862\n",
      "2D_Arome_WindDirection (deg) : 9862\n",
      "2D_Arome_WindComponentU (m/s) : 9862\n",
      "2D_Arome_WindComponentV (m/s) : 9862\n",
      "2D_Arome_Temperature (K) : 9861\n",
      "2D_Arome_DewPoint (T) : 9860\n",
      "2D_Arome_RelavtiveHumidity (%) : 9861\n",
      "2D_Arome_TotalPrecipitation (kg/m^2) : 9860\n",
      "2D_Arome_MeaSeaLevelPressure (Pa) : 9861\n",
      "2D_Arpege_WindSpeed (m/s) : 9858\n",
      "2D_Arpege_WindDirection (deg) : 9858\n",
      "2D_Arpege_WindComponentU (m/s) : 9858\n",
      "2D_Arpege_WindComponentV (m/s) : 9858\n",
      "2D_Arpege_Temperature (K) : 9858\n",
      "2D_Arpege_DewPoint (T) : 9858\n",
      "2D_Arpege_RelavtiveHumidity (%) : 9858\n",
      "2D_Arpege_TotalPrecipitation (kg/m^2) : 9858\n",
      "2D_Arpege_MeaSeaLevelPressure (Pa) : 9858\n",
      "3D_Arpege_height_Pressure_20m (Pa) : 9861\n",
      "3D_Arpege_height_Pressure_100m (Pa) : 9861\n",
      "3D_Arpege_height_Pressure_500m (Pa) : 9861\n",
      "3D_Arpege_height_Pressure_875m (Pa) : 9861\n",
      "3D_Arpege_height_Pressure_1375m (Pa) : 9860\n",
      "3D_Arpege_height_Pressure_2000m (Pa) : 9861\n",
      "3D_Arpege_height_Pressure_3000m (Pa) : 9861\n",
      "3D_Arpege_isobar_1000hpa_Temperature (K) : 9914\n",
      "3D_Arpege_isobar_1000hpa_PseudoAdiabaticPotentialTemperature (K) : 9914\n",
      "3D_Arpege_isobar_1000hpa_RelavtiveHumidity (%) : 9914\n",
      "3D_Arpege_isobar_1000hpa_WindSpeed (m/s) : 9914\n",
      "3D_Arpege_isobar_1000hpa_WindDirection (deg) : 9914\n",
      "3D_Arpege_isobar_1000hpa_WindComponentU (m/s) : 9914\n",
      "3D_Arpege_isobar_1000hpa_WindComponentV (m/s) : 9914\n",
      "3D_Arpege_isobar_1000hpa_VerticalVelocity (Pa/s) : 9914\n",
      "3D_Arpege_isobar_1000hpa_Geopotential (m^2/s^2) : 9914\n",
      "3D_Arpege_isobar_950hpa_Temperature (K) : 9914\n",
      "3D_Arpege_isobar_950hpa_PseudoAdiabaticPotentialTemperature (K) : 9914\n",
      "3D_Arpege_isobar_950hpa_RelavtiveHumidity (%) : 9914\n",
      "3D_Arpege_isobar_950hpa_WindSpeed (m/s) : 9914\n",
      "3D_Arpege_isobar_950hpa_WindDirection (deg) : 9914\n",
      "3D_Arpege_isobar_950hpa_WindComponentU (m/s) : 9914\n",
      "3D_Arpege_isobar_950hpa_WindComponentV (m/s) : 9914\n",
      "3D_Arpege_isobar_950hpa_VerticalVelocity (Pa/s) : 9914\n",
      "3D_Arpege_isobar_950hpa_Geopotential (m^2/s^2) : 9914\n",
      "3D_Arpege_isobar_925hpa_Temperature (K) : 9914\n",
      "3D_Arpege_isobar_925hpa_PseudoAdiabaticPotentialTemperature (K) : 9914\n",
      "3D_Arpege_isobar_925hpa_RelavtiveHumidity (%) : 9914\n",
      "3D_Arpege_isobar_925hpa_WindSpeed (m/s) : 9914\n",
      "3D_Arpege_isobar_925hpa_WindDirection (deg) : 9914\n",
      "3D_Arpege_isobar_925hpa_WindComponentU (m/s) : 9914\n",
      "3D_Arpege_isobar_925hpa_WindComponentV (m/s) : 9914\n",
      "3D_Arpege_isobar_925hpa_VerticalVelocity (Pa/s) : 9914\n",
      "3D_Arpege_isobar_925hpa_Geopotential (m^2/s^2) : 9914\n",
      "3D_Arpege_isobar_850hpa_Temperature (K) : 9914\n",
      "3D_Arpege_isobar_850hpa_PseudoAdiabaticPotentialTemperature (K) : 9914\n",
      "3D_Arpege_isobar_850hpa_RelavtiveHumidity (%) : 9914\n",
      "3D_Arpege_isobar_850hpa_WindSpeed (m/s) : 9914\n",
      "3D_Arpege_isobar_850hpa_WindDirection (deg) : 9914\n",
      "3D_Arpege_isobar_850hpa_WindComponentU (m/s) : 9914\n",
      "3D_Arpege_isobar_850hpa_WindComponentV (m/s) : 9914\n",
      "3D_Arpege_isobar_850hpa_VerticalVelocity (Pa/s) : 9914\n",
      "3D_Arpege_isobar_850hpa_Geopotential (m^2/s^2) : 9914\n",
      "3D_Arpege_isobar_700hpa_Temperature (K) : 9914\n",
      "3D_Arpege_isobar_700hpa_PseudoAdiabaticPotentialTemperature (K) : 9914\n",
      "3D_Arpege_isobar_700hpa_RelavtiveHumidity (%) : 9914\n",
      "3D_Arpege_isobar_700hpa_WindSpeed (m/s) : 9914\n",
      "3D_Arpege_isobar_700hpa_WindDirection (deg) : 9914\n",
      "3D_Arpege_isobar_700hpa_WindComponentU (m/s) : 9914\n",
      "3D_Arpege_isobar_700hpa_WindComponentV (m/s) : 9914\n",
      "3D_Arpege_isobar_700hpa_VerticalVelocity (Pa/s) : 9914\n",
      "3D_Arpege_isobar_700hpa_Geopotential (m^2/s^2) : 9914\n",
      "3D_Arpege_isobar_600hpa_Temperature (K) : 9914\n",
      "3D_Arpege_isobar_600hpa_PseudoAdiabaticPotentialTemperature (K) : 9914\n",
      "3D_Arpege_isobar_600hpa_RelavtiveHumidity (%) : 9914\n",
      "3D_Arpege_isobar_600hpa_WindSpeed (m/s) : 9914\n",
      "3D_Arpege_isobar_600hpa_WindDirection (deg) : 9914\n",
      "3D_Arpege_isobar_600hpa_WindComponentU (m/s) : 9914\n",
      "3D_Arpege_isobar_600hpa_WindComponentV (m/s) : 9914\n",
      "3D_Arpege_isobar_600hpa_VerticalVelocity (Pa/s) : 9914\n",
      "3D_Arpege_isobar_600hpa_Geopotential (m^2/s^2) : 9914\n",
      "3D_Arpege_isobar_500hpa_Temperature (K) : 9914\n",
      "3D_Arpege_isobar_500hpa_PseudoAdiabaticPotentialTemperature (K) : 9913\n",
      "3D_Arpege_isobar_500hpa_RelavtiveHumidity (%) : 9914\n",
      "3D_Arpege_isobar_500hpa_WindSpeed (m/s) : 9914\n",
      "3D_Arpege_isobar_500hpa_WindDirection (deg) : 9914\n",
      "3D_Arpege_isobar_500hpa_WindComponentU (m/s) : 9914\n",
      "3D_Arpege_isobar_500hpa_WindComponentV (m/s) : 9914\n",
      "3D_Arpege_isobar_500hpa_VerticalVelocity (Pa/s) : 9914\n",
      "3D_Arpege_isobar_500hpa_Geopotential (m^2/s^2) : 9914\n",
      "timestamp : 31\n"
     ]
    }
   ],
   "source": [
    "for col in df_2016_by_day.columns:\n",
    "    print(col, \":\", len(df_2016_by_day[col].unique()))"
   ],
   "metadata": {
    "collapsed": false,
    "pycharm": {
     "name": "#%%\n"
    }
   }
  },
  {
   "cell_type": "markdown",
   "source": [
    "# X_all_2017_imputed_by_day"
   ],
   "metadata": {
    "collapsed": false
   }
  },
  {
   "cell_type": "code",
   "execution_count": 6,
   "outputs": [],
   "source": [
    "df_2017_by_day = pd.read_csv(\"./X_all_2017_imputed_by_day.csv\")"
   ],
   "metadata": {
    "collapsed": false,
    "pycharm": {
     "name": "#%%\n"
    }
   }
  },
  {
   "cell_type": "code",
   "execution_count": 7,
   "outputs": [
    {
     "name": "stdout",
     "output_type": "stream",
     "text": [
      "<class 'pandas.core.frame.DataFrame'>\n",
      "RangeIndex: 10075 entries, 0 to 10074\n",
      "Columns: 110 entries, station_id to timestamp\n",
      "dtypes: float64(102), int64(8)\n",
      "memory usage: 8.5 MB\n"
     ]
    }
   ],
   "source": [
    "df_2017_by_day.info()"
   ],
   "metadata": {
    "collapsed": false,
    "pycharm": {
     "name": "#%%\n"
    }
   }
  },
  {
   "cell_type": "code",
   "execution_count": 18,
   "outputs": [
    {
     "name": "stdout",
     "output_type": "stream",
     "text": [
      "station_id : 325\n",
      "altitude (m) : 170\n",
      "latitude : 5\n",
      "longitude : 7\n",
      "latitude_idx : 132\n",
      "longitude_idx : 176\n",
      "month : 1\n",
      "month_cos : 1\n",
      "month_sin : 1\n",
      "day : 31\n",
      "wind_speed (m/s) : 6833\n",
      "wind_direction (deg) : 6622\n",
      "wind_component_u (m/s) : 6909\n",
      "wind_component_v (m/s) : 6909\n",
      "temperature (K) : 9194\n",
      "humidity (%) : 7593\n",
      "dew_point (K) : 7788\n",
      "condensation (Bool) : 97\n",
      "shore_distance (m) : 318\n",
      "current hour precipitations (kg/m^2) : 1576\n",
      "next hour precipitation (kg/m^2) : 1650\n",
      "2D_Arome_WindSpeed (m/s) : 9907\n",
      "2D_Arome_WindDirection (deg) : 9907\n",
      "2D_Arome_WindComponentU (m/s) : 9907\n",
      "2D_Arome_WindComponentV (m/s) : 9907\n",
      "2D_Arome_Temperature (K) : 9895\n",
      "2D_Arome_DewPoint (T) : 9895\n",
      "2D_Arome_RelavtiveHumidity (%) : 9895\n",
      "2D_Arome_TotalPrecipitation (kg/m^2) : 9889\n",
      "2D_Arome_MeaSeaLevelPressure (Pa) : 9890\n",
      "2D_Arpege_WindSpeed (m/s) : 9950\n",
      "2D_Arpege_WindDirection (deg) : 9950\n",
      "2D_Arpege_WindComponentU (m/s) : 9950\n",
      "2D_Arpege_WindComponentV (m/s) : 9950\n",
      "2D_Arpege_Temperature (K) : 9950\n",
      "2D_Arpege_DewPoint (T) : 9950\n",
      "2D_Arpege_RelavtiveHumidity (%) : 9950\n",
      "2D_Arpege_TotalPrecipitation (kg/m^2) : 9945\n",
      "2D_Arpege_MeaSeaLevelPressure (Pa) : 9950\n",
      "3D_Arpege_height_Pressure_20m (Pa) : 9877\n",
      "3D_Arpege_height_Pressure_100m (Pa) : 9877\n",
      "3D_Arpege_height_Pressure_500m (Pa) : 9877\n",
      "3D_Arpege_height_Pressure_875m (Pa) : 9877\n",
      "3D_Arpege_height_Pressure_1375m (Pa) : 9877\n",
      "3D_Arpege_height_Pressure_2000m (Pa) : 9877\n",
      "3D_Arpege_height_Pressure_3000m (Pa) : 9876\n",
      "3D_Arpege_isobar_1000hpa_Temperature (K) : 9948\n",
      "3D_Arpege_isobar_1000hpa_PseudoAdiabaticPotentialTemperature (K) : 9948\n",
      "3D_Arpege_isobar_1000hpa_RelavtiveHumidity (%) : 9948\n",
      "3D_Arpege_isobar_1000hpa_WindSpeed (m/s) : 9948\n",
      "3D_Arpege_isobar_1000hpa_WindDirection (deg) : 9948\n",
      "3D_Arpege_isobar_1000hpa_WindComponentU (m/s) : 9948\n",
      "3D_Arpege_isobar_1000hpa_WindComponentV (m/s) : 9948\n",
      "3D_Arpege_isobar_1000hpa_VerticalVelocity (Pa/s) : 9948\n",
      "3D_Arpege_isobar_1000hpa_Geopotential (m^2/s^2) : 9948\n",
      "3D_Arpege_isobar_950hpa_Temperature (K) : 9948\n",
      "3D_Arpege_isobar_950hpa_PseudoAdiabaticPotentialTemperature (K) : 9948\n",
      "3D_Arpege_isobar_950hpa_RelavtiveHumidity (%) : 9948\n",
      "3D_Arpege_isobar_950hpa_WindSpeed (m/s) : 9948\n",
      "3D_Arpege_isobar_950hpa_WindDirection (deg) : 9948\n",
      "3D_Arpege_isobar_950hpa_WindComponentU (m/s) : 9948\n",
      "3D_Arpege_isobar_950hpa_WindComponentV (m/s) : 9948\n",
      "3D_Arpege_isobar_950hpa_VerticalVelocity (Pa/s) : 9948\n",
      "3D_Arpege_isobar_950hpa_Geopotential (m^2/s^2) : 9948\n",
      "3D_Arpege_isobar_925hpa_Temperature (K) : 9948\n",
      "3D_Arpege_isobar_925hpa_PseudoAdiabaticPotentialTemperature (K) : 9947\n",
      "3D_Arpege_isobar_925hpa_RelavtiveHumidity (%) : 9948\n",
      "3D_Arpege_isobar_925hpa_WindSpeed (m/s) : 9948\n",
      "3D_Arpege_isobar_925hpa_WindDirection (deg) : 9948\n",
      "3D_Arpege_isobar_925hpa_WindComponentU (m/s) : 9948\n",
      "3D_Arpege_isobar_925hpa_WindComponentV (m/s) : 9948\n",
      "3D_Arpege_isobar_925hpa_VerticalVelocity (Pa/s) : 9948\n",
      "3D_Arpege_isobar_925hpa_Geopotential (m^2/s^2) : 9948\n",
      "3D_Arpege_isobar_850hpa_Temperature (K) : 9948\n",
      "3D_Arpege_isobar_850hpa_PseudoAdiabaticPotentialTemperature (K) : 9948\n",
      "3D_Arpege_isobar_850hpa_RelavtiveHumidity (%) : 9948\n",
      "3D_Arpege_isobar_850hpa_WindSpeed (m/s) : 9948\n",
      "3D_Arpege_isobar_850hpa_WindDirection (deg) : 9948\n",
      "3D_Arpege_isobar_850hpa_WindComponentU (m/s) : 9948\n",
      "3D_Arpege_isobar_850hpa_WindComponentV (m/s) : 9948\n",
      "3D_Arpege_isobar_850hpa_VerticalVelocity (Pa/s) : 9948\n",
      "3D_Arpege_isobar_850hpa_Geopotential (m^2/s^2) : 9948\n",
      "3D_Arpege_isobar_700hpa_Temperature (K) : 9948\n",
      "3D_Arpege_isobar_700hpa_PseudoAdiabaticPotentialTemperature (K) : 9948\n",
      "3D_Arpege_isobar_700hpa_RelavtiveHumidity (%) : 9948\n",
      "3D_Arpege_isobar_700hpa_WindSpeed (m/s) : 9948\n",
      "3D_Arpege_isobar_700hpa_WindDirection (deg) : 9948\n",
      "3D_Arpege_isobar_700hpa_WindComponentU (m/s) : 9948\n",
      "3D_Arpege_isobar_700hpa_WindComponentV (m/s) : 9948\n",
      "3D_Arpege_isobar_700hpa_VerticalVelocity (Pa/s) : 9948\n",
      "3D_Arpege_isobar_700hpa_Geopotential (m^2/s^2) : 9948\n",
      "3D_Arpege_isobar_600hpa_Temperature (K) : 9948\n",
      "3D_Arpege_isobar_600hpa_PseudoAdiabaticPotentialTemperature (K) : 9948\n",
      "3D_Arpege_isobar_600hpa_RelavtiveHumidity (%) : 9948\n",
      "3D_Arpege_isobar_600hpa_WindSpeed (m/s) : 9948\n",
      "3D_Arpege_isobar_600hpa_WindDirection (deg) : 9948\n",
      "3D_Arpege_isobar_600hpa_WindComponentU (m/s) : 9948\n",
      "3D_Arpege_isobar_600hpa_WindComponentV (m/s) : 9948\n",
      "3D_Arpege_isobar_600hpa_VerticalVelocity (Pa/s) : 9948\n",
      "3D_Arpege_isobar_600hpa_Geopotential (m^2/s^2) : 9948\n",
      "3D_Arpege_isobar_500hpa_Temperature (K) : 9948\n",
      "3D_Arpege_isobar_500hpa_PseudoAdiabaticPotentialTemperature (K) : 9947\n",
      "3D_Arpege_isobar_500hpa_RelavtiveHumidity (%) : 9948\n",
      "3D_Arpege_isobar_500hpa_WindSpeed (m/s) : 9948\n",
      "3D_Arpege_isobar_500hpa_WindDirection (deg) : 9948\n",
      "3D_Arpege_isobar_500hpa_WindComponentU (m/s) : 9948\n",
      "3D_Arpege_isobar_500hpa_WindComponentV (m/s) : 9948\n",
      "3D_Arpege_isobar_500hpa_VerticalVelocity (Pa/s) : 9948\n",
      "3D_Arpege_isobar_500hpa_Geopotential (m^2/s^2) : 9948\n",
      "timestamp : 31\n"
     ]
    }
   ],
   "source": [
    "for col in df_2017_by_day.columns:\n",
    "    print(col, \":\", len(df_2017_by_day[col].unique()))"
   ],
   "metadata": {
    "collapsed": false,
    "pycharm": {
     "name": "#%%\n"
    }
   }
  },
  {
   "cell_type": "markdown",
   "source": [
    "# X_all_2016_imputed"
   ],
   "metadata": {
    "collapsed": false
   }
  },
  {
   "cell_type": "code",
   "execution_count": 2,
   "outputs": [],
   "source": [
    "df_2016_imputed = pd.read_csv(\"X_all_2016_imputed.csv\")"
   ],
   "metadata": {
    "collapsed": false,
    "pycharm": {
     "name": "#%%\n"
    }
   }
  },
  {
   "cell_type": "code",
   "execution_count": 3,
   "outputs": [
    {
     "name": "stdout",
     "output_type": "stream",
     "text": [
      "<class 'pandas.core.frame.DataFrame'>\n",
      "RangeIndex: 2854800 entries, 0 to 2854799\n",
      "Columns: 113 entries, station_id to timestamp\n",
      "dtypes: float64(103), int64(10)\n",
      "memory usage: 2.4 GB\n"
     ]
    }
   ],
   "source": [
    "df_2016_imputed.info()"
   ],
   "metadata": {
    "collapsed": false,
    "pycharm": {
     "name": "#%%\n"
    }
   }
  },
  {
   "cell_type": "code",
   "execution_count": 4,
   "outputs": [
    {
     "name": "stdout",
     "output_type": "stream",
     "text": [
      "station_id : 325\n",
      "altitude (m) : 170\n",
      "latitude : 5\n",
      "longitude : 7\n",
      "latitude_idx : 132\n",
      "longitude_idx : 176\n",
      "month : 12\n",
      "month_cos : 8\n",
      "month_sin : 8\n",
      "day : 31\n",
      "hour : 24\n",
      "hour_cos : 14\n",
      "hour_sin : 14\n",
      "wind_speed (m/s) : 7697\n",
      "wind_direction (deg) : 2376\n",
      "wind_component_u (m/s) : 674228\n",
      "wind_component_v (m/s) : 677519\n",
      "temperature (K) : 15623\n",
      "humidity (%) : 3736\n",
      "dew_point (K) : 11933\n",
      "condensation (Bool) : 3\n",
      "shore_distance (m) : 318\n",
      "current hour precipitations (kg/m^2) : 379\n",
      "next hour precipitation (kg/m^2) : 381\n",
      "2D_Arome_WindSpeed (m/s) : 1972569\n",
      "2D_Arome_WindDirection (deg) : 1532543\n",
      "2D_Arome_WindComponentU (m/s) : 1866975\n",
      "2D_Arome_WindComponentV (m/s) : 1851508\n",
      "2D_Arome_Temperature (K) : 817292\n",
      "2D_Arome_DewPoint (T) : 647973\n",
      "2D_Arome_RelavtiveHumidity (%) : 1800079\n",
      "2D_Arome_TotalPrecipitation (kg/m^2) : 549775\n",
      "2D_Arome_MeaSeaLevelPressure (Pa) : 551080\n",
      "2D_Arpege_WindSpeed (m/s) : 2645797\n",
      "2D_Arpege_WindDirection (deg) : 2560685\n",
      "2D_Arpege_WindComponentU (m/s) : 2738697\n",
      "2D_Arpege_WindComponentV (m/s) : 2740783\n",
      "2D_Arpege_Temperature (K) : 870368\n",
      "2D_Arpege_DewPoint (T) : 717619\n",
      "2D_Arpege_RelavtiveHumidity (%) : 2204728\n",
      "2D_Arpege_TotalPrecipitation (kg/m^2) : 1660846\n",
      "2D_Arpege_MeaSeaLevelPressure (Pa) : 566643\n",
      "3D_Arpege_height_Pressure_20m (Pa) : 688278\n",
      "3D_Arpege_height_Pressure_100m (Pa) : 683530\n",
      "3D_Arpege_height_Pressure_500m (Pa) : 662962\n",
      "3D_Arpege_height_Pressure_875m (Pa) : 647694\n",
      "3D_Arpege_height_Pressure_1375m (Pa) : 633643\n",
      "3D_Arpege_height_Pressure_2000m (Pa) : 625668\n",
      "3D_Arpege_height_Pressure_3000m (Pa) : 624405\n",
      "3D_Arpege_isobar_1000hpa_Temperature (K) : 837611\n",
      "3D_Arpege_isobar_1000hpa_PseudoAdiabaticPotentialTemperature (K) : 724015\n",
      "3D_Arpege_isobar_1000hpa_RelavtiveHumidity (%) : 2193217\n",
      "3D_Arpege_isobar_1000hpa_WindSpeed (m/s) : 2444369\n",
      "3D_Arpege_isobar_1000hpa_WindDirection (deg) : 2379153\n",
      "3D_Arpege_isobar_1000hpa_WindComponentU (m/s) : 2523244\n",
      "3D_Arpege_isobar_1000hpa_WindComponentV (m/s) : 2527258\n",
      "3D_Arpege_isobar_1000hpa_VerticalVelocity (Pa/s) : 2535435\n",
      "3D_Arpege_isobar_1000hpa_Geopotential (m^2/s^2) : 2413620\n",
      "3D_Arpege_isobar_950hpa_Temperature (K) : 805980\n",
      "3D_Arpege_isobar_950hpa_PseudoAdiabaticPotentialTemperature (K) : 699375\n",
      "3D_Arpege_isobar_950hpa_RelavtiveHumidity (%) : 2232037\n",
      "3D_Arpege_isobar_950hpa_WindSpeed (m/s) : 2447148\n",
      "3D_Arpege_isobar_950hpa_WindDirection (deg) : 2355713\n",
      "3D_Arpege_isobar_950hpa_WindComponentU (m/s) : 2521374\n",
      "3D_Arpege_isobar_950hpa_WindComponentV (m/s) : 2529322\n",
      "3D_Arpege_isobar_950hpa_VerticalVelocity (Pa/s) : 2530988\n",
      "3D_Arpege_isobar_950hpa_Geopotential (m^2/s^2) : 2038877\n",
      "3D_Arpege_isobar_925hpa_Temperature (K) : 802753\n",
      "3D_Arpege_isobar_925hpa_PseudoAdiabaticPotentialTemperature (K) : 694696\n",
      "3D_Arpege_isobar_925hpa_RelavtiveHumidity (%) : 2232329\n",
      "3D_Arpege_isobar_925hpa_WindSpeed (m/s) : 2454563\n",
      "3D_Arpege_isobar_925hpa_WindDirection (deg) : 2340084\n",
      "3D_Arpege_isobar_925hpa_WindComponentU (m/s) : 2521213\n",
      "3D_Arpege_isobar_925hpa_WindComponentV (m/s) : 2530474\n",
      "3D_Arpege_isobar_925hpa_VerticalVelocity (Pa/s) : 2530427\n",
      "3D_Arpege_isobar_925hpa_Geopotential (m^2/s^2) : 1923282\n",
      "3D_Arpege_isobar_850hpa_Temperature (K) : 830079\n",
      "3D_Arpege_isobar_850hpa_PseudoAdiabaticPotentialTemperature (K) : 687705\n",
      "3D_Arpege_isobar_850hpa_RelavtiveHumidity (%) : 2316683\n",
      "3D_Arpege_isobar_850hpa_WindSpeed (m/s) : 2454847\n",
      "3D_Arpege_isobar_850hpa_WindDirection (deg) : 2302352\n",
      "3D_Arpege_isobar_850hpa_WindComponentU (m/s) : 2517767\n",
      "3D_Arpege_isobar_850hpa_WindComponentV (m/s) : 2530151\n",
      "3D_Arpege_isobar_850hpa_VerticalVelocity (Pa/s) : 2530713\n",
      "3D_Arpege_isobar_850hpa_Geopotential (m^2/s^2) : 1714799\n",
      "3D_Arpege_isobar_700hpa_Temperature (K) : 842862\n",
      "3D_Arpege_isobar_700hpa_PseudoAdiabaticPotentialTemperature (K) : 638230\n",
      "3D_Arpege_isobar_700hpa_RelavtiveHumidity (%) : 2446551\n",
      "3D_Arpege_isobar_700hpa_WindSpeed (m/s) : 2440659\n",
      "3D_Arpege_isobar_700hpa_WindDirection (deg) : 2265578\n",
      "3D_Arpege_isobar_700hpa_WindComponentU (m/s) : 2505215\n",
      "3D_Arpege_isobar_700hpa_WindComponentV (m/s) : 2527502\n",
      "3D_Arpege_isobar_700hpa_VerticalVelocity (Pa/s) : 2531427\n",
      "3D_Arpege_isobar_700hpa_Geopotential (m^2/s^2) : 1486312\n",
      "3D_Arpege_isobar_600hpa_Temperature (K) : 880061\n",
      "3D_Arpege_isobar_600hpa_PseudoAdiabaticPotentialTemperature (K) : 590721\n",
      "3D_Arpege_isobar_600hpa_RelavtiveHumidity (%) : 2459217\n",
      "3D_Arpege_isobar_600hpa_WindSpeed (m/s) : 2436721\n",
      "3D_Arpege_isobar_600hpa_WindDirection (deg) : 2252182\n",
      "3D_Arpege_isobar_600hpa_WindComponentU (m/s) : 2498498\n",
      "3D_Arpege_isobar_600hpa_WindComponentV (m/s) : 2527768\n",
      "3D_Arpege_isobar_600hpa_VerticalVelocity (Pa/s) : 2532179\n",
      "3D_Arpege_isobar_600hpa_Geopotential (m^2/s^2) : 1160493\n",
      "3D_Arpege_isobar_500hpa_Temperature (K) : 1111906\n",
      "3D_Arpege_isobar_500hpa_PseudoAdiabaticPotentialTemperature (K) : 546843\n",
      "3D_Arpege_isobar_500hpa_RelavtiveHumidity (%) : 2444996\n",
      "3D_Arpege_isobar_500hpa_WindSpeed (m/s) : 2439431\n",
      "3D_Arpege_isobar_500hpa_WindDirection (deg) : 2250478\n",
      "3D_Arpege_isobar_500hpa_WindComponentU (m/s) : 2497658\n",
      "3D_Arpege_isobar_500hpa_WindComponentV (m/s) : 2528687\n",
      "3D_Arpege_isobar_500hpa_VerticalVelocity (Pa/s) : 2533311\n",
      "3D_Arpege_isobar_500hpa_Geopotential (m^2/s^2) : 1301489\n",
      "timestamp : 8784\n"
     ]
    }
   ],
   "source": [
    "for col in df_2016_imputed.columns:\n",
    "    print(col, \":\", len(df_2016_imputed[col].unique()))"
   ],
   "metadata": {
    "collapsed": false,
    "pycharm": {
     "name": "#%%\n"
    }
   }
  },
  {
   "cell_type": "code",
   "execution_count": 5,
   "outputs": [],
   "source": [
    "del df_2016_imputed[\"timestamp\"]"
   ],
   "metadata": {
    "collapsed": false,
    "pycharm": {
     "name": "#%%\n"
    }
   }
  },
  {
   "cell_type": "code",
   "execution_count": 6,
   "outputs": [],
   "source": [
    "df_2016_imputed.to_csv(\"./X_all_2016_imputed.zip\")"
   ],
   "metadata": {
    "collapsed": false,
    "pycharm": {
     "name": "#%%\n"
    }
   }
  },
  {
   "cell_type": "markdown",
   "source": [
    "# Retrieve prediction 2016 and 2017"
   ],
   "metadata": {
    "collapsed": false
   }
  },
  {
   "cell_type": "code",
   "execution_count": 3,
   "outputs": [],
   "source": [
    "df_2016_imputed = pd.read_csv(\"./X_all_2016_id.csv\")"
   ],
   "metadata": {
    "collapsed": false,
    "pycharm": {
     "name": "#%%\n"
    }
   }
  },
  {
   "cell_type": "code",
   "execution_count": 7,
   "outputs": [],
   "source": [
    "# def get_abs_day()\n",
    "df_2016_imputed = df_2016_imputed[[\"Id\",\"hour\", \"current hour precipitations (kg/m^2)\"]]\n",
    "df_2016_imputed[\"absolute_day\"] = df_2016_imputed[\"Id\"].apply(lambda d : int(d.split('_')[1]))\n",
    "df_2016_imputed[\"station_id\"]   = df_2016_imputed[\"Id\"].apply(lambda d : int(d.split('_')[0]))\n",
    "df_2016_imputed[\"year\"] = 2016"
   ],
   "metadata": {
    "collapsed": false,
    "pycharm": {
     "name": "#%%\n"
    }
   }
  },
  {
   "cell_type": "code",
   "execution_count": 12,
   "outputs": [],
   "source": [
    "df_2017_imputed = pd.read_csv(\"./X_all_2017_id.csv\")"
   ],
   "metadata": {
    "collapsed": false,
    "pycharm": {
     "name": "#%%\n"
    }
   }
  },
  {
   "cell_type": "code",
   "execution_count": 13,
   "outputs": [],
   "source": [
    "df_2017_imputed = df_2017_imputed[[\"Id\",\"hour\", \"current hour precipitations (kg/m^2)\"]]\n",
    "df_2017_imputed[\"absolute_day\"] = df_2017_imputed[\"Id\"].apply(lambda d : int(d.split('_')[1]))\n",
    "df_2017_imputed[\"station_id\"]   = df_2017_imputed[\"Id\"].apply(lambda d : int(d.split('_')[0]))\n",
    "df_2017_imputed[\"year\"] = 2017"
   ],
   "metadata": {
    "collapsed": false,
    "pycharm": {
     "name": "#%%\n"
    }
   }
  },
  {
   "cell_type": "code",
   "execution_count": 14,
   "outputs": [],
   "source": [
    "df_2016_imputed[\"Id\"] = df_2016_imputed[\"Id\"].astype(str) + \"_\" + df_2016_imputed[\"hour\"].astype(str)\n",
    "df_2017_imputed[\"Id\"] = df_2017_imputed[\"Id\"].astype(str) + \"_\" + df_2017_imputed[\"hour\"].astype(str)\n",
    "df_2016_2017 = pd.concat([df_2016_imputed,df_2017_imputed], ignore_index=True)\n",
    "del df_2016_imputed\n",
    "del df_2017_imputed"
   ],
   "metadata": {
    "collapsed": false,
    "pycharm": {
     "name": "#%%\n"
    }
   }
  },
  {
   "cell_type": "code",
   "execution_count": 15,
   "outputs": [],
   "source": [
    "days = list(df_2016_2017[\"absolute_day\"].unique())"
   ],
   "metadata": {
    "collapsed": false,
    "pycharm": {
     "name": "#%%\n"
    }
   }
  },
  {
   "cell_type": "code",
   "execution_count": 16,
   "outputs": [
    {
     "data": {
      "text/plain": "<Figure size 432x288 with 1 Axes>",
      "image/png": "[encoded data removed]"
     },
     "metadata": {
      "needs_background": "light"
     },
     "output_type": "display_data"
    },
    {
     "name": "stdout",
     "output_type": "stream",
     "text": [
      "missing days are :\n",
      "\n"
     ]
    }
   ],
   "source": [
    "days_count = np.zeros(366+365)\n",
    "for day in days:\n",
    "    days_count[day] += 1\n",
    "days_count = days_count/days_count.max()\n",
    "plt.scatter(np.linspace(0,366+365-1,366+365),days_count,alpha=0.8,s=4*(1.1-days_count),c=[\"red\" if d == 0 else \"green\" for d in days_count])\n",
    "plt.xlabel(\"day\")\n",
    "plt.ylabel(\"appearance\")\n",
    "plt.title(\"Missing days are marked as 0\")\n",
    "plt.show()\n",
    "\n",
    "def get_date(d):\n",
    "    months_days = [31,28,31,30,31,30,31,31,30,31,30,31]\n",
    "    year = 2016 + d//366\n",
    "    if year == 2016 :\n",
    "        months_days[1] += 1\n",
    "    d = d%366\n",
    "    for i in range(12):\n",
    "        if d-months_days[i] > 0 :\n",
    "            d -= months_days[i]\n",
    "        else:\n",
    "            break\n",
    "    month = i+1\n",
    "    day = d\n",
    "    return str(year)+\":\"+str(month).rjust(2)+\":\"+str(day).rjust(2)\n",
    "\n",
    "\n",
    "print(\"missing days are :\")\n",
    "missing_days = np.where(days_count==0)[0]+1\n",
    "missing_days_date = []\n",
    "for day in missing_days :\n",
    "    missing_days_date.append(get_date(day))\n",
    "print(\"\\t-\\t\".join(missing_days_date))"
   ],
   "metadata": {
    "collapsed": false,
    "pycharm": {
     "name": "#%%\n"
    }
   }
  },
  {
   "cell_type": "code",
   "execution_count": 17,
   "outputs": [],
   "source": [
    "df_2016_2017[\"predict_abs_day\"] = df_2016_2017[\"absolute_day\"]-1\n",
    "# df_2016_2017.loc[df_2016_2017[\"predict_abs_day\"] == 365,\"year\"] = 2016\n",
    "df_2016_2017[\"predict_Id\"] = df_2016_2017[\"station_id\"].astype(str) + \"_\" + df_2016_2017[\"predict_abs_day\"].astype(str) + \"_\" + df_2016_2017[\"hour\"].astype(str)"
   ],
   "metadata": {
    "collapsed": false,
    "pycharm": {
     "name": "#%%\n"
    }
   }
  },
  {
   "cell_type": "code",
   "execution_count": 18,
   "outputs": [],
   "source": [
    "df_predict = pd.DataFrame(df_2016_2017[[\"predict_Id\",\"current hour precipitations (kg/m^2)\"]])\n",
    "df_predict.rename(columns = {\"predict_Id\":\"Id\",\"current hour precipitations (kg/m^2)\":\"ground_truth\"}, inplace=True)"
   ],
   "metadata": {
    "collapsed": false,
    "pycharm": {
     "name": "#%%\n"
    }
   }
  },
  {
   "cell_type": "code",
   "execution_count": 19,
   "outputs": [],
   "source": [
    "del df_2016_2017"
   ],
   "metadata": {
    "collapsed": false,
    "pycharm": {
     "name": "#%%\n"
    }
   }
  },
  {
   "cell_type": "code",
   "execution_count": 20,
   "outputs": [],
   "source": [
    "df_2016_clean = pd.read_csv(\"./X_all_2016_imputed.zip\")"
   ],
   "metadata": {
    "collapsed": false,
    "pycharm": {
     "name": "#%%\n"
    }
   }
  },
  {
   "cell_type": "code",
   "execution_count": 21,
   "outputs": [
    {
     "data": {
      "text/plain": "                   Id  month  day  hour\n0          86118001_1      1    2     0\n1          86118001_1      1    2     1\n2          86118001_1      1    2     2\n3          86118001_1      1    2     3\n4          86118001_1      1    2     4\n...               ...    ...  ...   ...\n2846995  95690001_365     12   31    19\n2846996  95690001_365     12   31    20\n2846997  95690001_365     12   31    21\n2846998  95690001_365     12   31    22\n2846999  95690001_365     12   31    23\n\n[2847000 rows x 4 columns]",
      "text/html": "<div>\n<style scoped>\n    .dataframe tbody tr th:only-of-type {\n        vertical-align: middle;\n    }\n\n    .dataframe tbody tr th {\n        vertical-align: top;\n    }\n\n    .dataframe thead th {\n        text-align: right;\n    }\n</style>\n<table border=\"1\" class=\"dataframe\">\n  <thead>\n    <tr style=\"text-align: right;\">\n      <th></th>\n      <th>Id</th>\n      <th>month</th>\n      <th>day</th>\n      <th>hour</th>\n    </tr>\n  </thead>\n  <tbody>\n    <tr>\n      <th>0</th>\n      <td>86118001_1</td>\n      <td>1</td>\n      <td>2</td>\n      <td>0</td>\n    </tr>\n    <tr>\n      <th>1</th>\n      <td>86118001_1</td>\n      <td>1</td>\n      <td>2</td>\n      <td>1</td>\n    </tr>\n    <tr>\n      <th>2</th>\n      <td>86118001_1</td>\n      <td>1</td>\n      <td>2</td>\n      <td>2</td>\n    </tr>\n    <tr>\n      <th>3</th>\n      <td>86118001_1</td>\n      <td>1</td>\n      <td>2</td>\n      <td>3</td>\n    </tr>\n    <tr>\n      <th>4</th>\n      <td>86118001_1</td>\n      <td>1</td>\n      <td>2</td>\n      <td>4</td>\n    </tr>\n    <tr>\n      <th>...</th>\n      <td>...</td>\n      <td>...</td>\n      <td>...</td>\n      <td>...</td>\n    </tr>\n    <tr>\n      <th>2846995</th>\n      <td>95690001_365</td>\n      <td>12</td>\n      <td>31</td>\n      <td>19</td>\n    </tr>\n    <tr>\n      <th>2846996</th>\n      <td>95690001_365</td>\n      <td>12</td>\n      <td>31</td>\n      <td>20</td>\n    </tr>\n    <tr>\n      <th>2846997</th>\n      <td>95690001_365</td>\n      <td>12</td>\n      <td>31</td>\n      <td>21</td>\n    </tr>\n    <tr>\n      <th>2846998</th>\n      <td>95690001_365</td>\n      <td>12</td>\n      <td>31</td>\n      <td>22</td>\n    </tr>\n    <tr>\n      <th>2846999</th>\n      <td>95690001_365</td>\n      <td>12</td>\n      <td>31</td>\n      <td>23</td>\n    </tr>\n  </tbody>\n</table>\n<p>2847000 rows × 4 columns</p>\n</div>"
     },
     "execution_count": 21,
     "metadata": {},
     "output_type": "execute_result"
    }
   ],
   "source": [
    "df_2016_clean[[\"Id\",\"month\",\"day\",\"hour\"]]"
   ],
   "metadata": {
    "collapsed": false,
    "pycharm": {
     "name": "#%%\n"
    }
   }
  },
  {
   "cell_type": "code",
   "execution_count": 22,
   "outputs": [],
   "source": [
    "df_2016_clean[\"Id\"] = df_2016_clean[\"Id\"].astype(str) + \"_\" + df_2016_clean[\"hour\"].astype(str)"
   ],
   "metadata": {
    "collapsed": false,
    "pycharm": {
     "name": "#%%\n"
    }
   }
  },
  {
   "cell_type": "code",
   "execution_count": 11,
   "outputs": [
    {
     "name": "stdout",
     "output_type": "stream",
     "text": [
      "before merge inner, len = : 2847000\n"
     ]
    },
    {
     "ename": "MemoryError",
     "evalue": "Unable to allocate 49.9 GiB for an array with shape (98, 68328000) and data type float64",
     "output_type": "error",
     "traceback": [
      "\u001B[0;31m---------------------------------------------------------------------------\u001B[0m",
      "\u001B[0;31mMemoryError\u001B[0m                               Traceback (most recent call last)",
      "\u001B[0;32m/tmp/ipykernel_272353/1376707667.py\u001B[0m in \u001B[0;36m<module>\u001B[0;34m\u001B[0m\n\u001B[1;32m      1\u001B[0m \u001B[0mprint\u001B[0m\u001B[0;34m(\u001B[0m\u001B[0;34m\"before merge inner, len = :\"\u001B[0m\u001B[0;34m,\u001B[0m\u001B[0mlen\u001B[0m\u001B[0;34m(\u001B[0m\u001B[0mdf_2016_clean\u001B[0m\u001B[0;34m)\u001B[0m\u001B[0;34m)\u001B[0m\u001B[0;34m\u001B[0m\u001B[0;34m\u001B[0m\u001B[0m\n\u001B[0;32m----> 2\u001B[0;31m \u001B[0mdf_2016_clean\u001B[0m \u001B[0;34m=\u001B[0m \u001B[0mpd\u001B[0m\u001B[0;34m.\u001B[0m\u001B[0mmerge\u001B[0m\u001B[0;34m(\u001B[0m\u001B[0mdf_2016_clean\u001B[0m\u001B[0;34m,\u001B[0m\u001B[0mdf_2016_predict\u001B[0m\u001B[0;34m,\u001B[0m \u001B[0mhow\u001B[0m\u001B[0;34m=\u001B[0m\u001B[0;34m\"left\"\u001B[0m\u001B[0;34m,\u001B[0m \u001B[0mon\u001B[0m\u001B[0;34m=\u001B[0m\u001B[0;34m\"Id\"\u001B[0m\u001B[0;34m)\u001B[0m\u001B[0;34m\u001B[0m\u001B[0;34m\u001B[0m\u001B[0m\n\u001B[0m\u001B[1;32m      3\u001B[0m \u001B[0mprint\u001B[0m\u001B[0;34m(\u001B[0m\u001B[0;34m\"after merge inner, len = :\"\u001B[0m\u001B[0;34m,\u001B[0m\u001B[0mlen\u001B[0m\u001B[0;34m(\u001B[0m\u001B[0mdf_2016_clean\u001B[0m\u001B[0;34m)\u001B[0m\u001B[0;34m)\u001B[0m\u001B[0;34m\u001B[0m\u001B[0;34m\u001B[0m\u001B[0m\n",
      "\u001B[0;32m~/.local/lib/python3.8/site-packages/pandas/core/reshape/merge.py\u001B[0m in \u001B[0;36mmerge\u001B[0;34m(left, right, how, on, left_on, right_on, left_index, right_index, sort, suffixes, copy, indicator, validate)\u001B[0m\n\u001B[1;32m    119\u001B[0m         \u001B[0mvalidate\u001B[0m\u001B[0;34m=\u001B[0m\u001B[0mvalidate\u001B[0m\u001B[0;34m,\u001B[0m\u001B[0;34m\u001B[0m\u001B[0;34m\u001B[0m\u001B[0m\n\u001B[1;32m    120\u001B[0m     )\n\u001B[0;32m--> 121\u001B[0;31m     \u001B[0;32mreturn\u001B[0m \u001B[0mop\u001B[0m\u001B[0;34m.\u001B[0m\u001B[0mget_result\u001B[0m\u001B[0;34m(\u001B[0m\u001B[0;34m)\u001B[0m\u001B[0;34m\u001B[0m\u001B[0;34m\u001B[0m\u001B[0m\n\u001B[0m\u001B[1;32m    122\u001B[0m \u001B[0;34m\u001B[0m\u001B[0m\n\u001B[1;32m    123\u001B[0m \u001B[0;34m\u001B[0m\u001B[0m\n",
      "\u001B[0;32m~/.local/lib/python3.8/site-packages/pandas/core/reshape/merge.py\u001B[0m in \u001B[0;36mget_result\u001B[0;34m(self)\u001B[0m\n\u001B[1;32m    722\u001B[0m         \u001B[0mrindexers\u001B[0m \u001B[0;34m=\u001B[0m \u001B[0;34m{\u001B[0m\u001B[0;36m1\u001B[0m\u001B[0;34m:\u001B[0m \u001B[0mright_indexer\u001B[0m\u001B[0;34m}\u001B[0m \u001B[0;32mif\u001B[0m \u001B[0mright_indexer\u001B[0m \u001B[0;32mis\u001B[0m \u001B[0;32mnot\u001B[0m \u001B[0;32mNone\u001B[0m \u001B[0;32melse\u001B[0m \u001B[0;34m{\u001B[0m\u001B[0;34m}\u001B[0m\u001B[0;34m\u001B[0m\u001B[0;34m\u001B[0m\u001B[0m\n\u001B[1;32m    723\u001B[0m \u001B[0;34m\u001B[0m\u001B[0m\n\u001B[0;32m--> 724\u001B[0;31m         result_data = concatenate_managers(\n\u001B[0m\u001B[1;32m    725\u001B[0m             \u001B[0;34m[\u001B[0m\u001B[0;34m(\u001B[0m\u001B[0mself\u001B[0m\u001B[0;34m.\u001B[0m\u001B[0mleft\u001B[0m\u001B[0;34m.\u001B[0m\u001B[0m_mgr\u001B[0m\u001B[0;34m,\u001B[0m \u001B[0mlindexers\u001B[0m\u001B[0;34m)\u001B[0m\u001B[0;34m,\u001B[0m \u001B[0;34m(\u001B[0m\u001B[0mself\u001B[0m\u001B[0;34m.\u001B[0m\u001B[0mright\u001B[0m\u001B[0;34m.\u001B[0m\u001B[0m_mgr\u001B[0m\u001B[0;34m,\u001B[0m \u001B[0mrindexers\u001B[0m\u001B[0;34m)\u001B[0m\u001B[0;34m]\u001B[0m\u001B[0;34m,\u001B[0m\u001B[0;34m\u001B[0m\u001B[0;34m\u001B[0m\u001B[0m\n\u001B[1;32m    726\u001B[0m             \u001B[0maxes\u001B[0m\u001B[0;34m=\u001B[0m\u001B[0;34m[\u001B[0m\u001B[0mllabels\u001B[0m\u001B[0;34m.\u001B[0m\u001B[0mappend\u001B[0m\u001B[0;34m(\u001B[0m\u001B[0mrlabels\u001B[0m\u001B[0;34m)\u001B[0m\u001B[0;34m,\u001B[0m \u001B[0mjoin_index\u001B[0m\u001B[0;34m]\u001B[0m\u001B[0;34m,\u001B[0m\u001B[0;34m\u001B[0m\u001B[0;34m\u001B[0m\u001B[0m\n",
      "\u001B[0;32m~/.local/lib/python3.8/site-packages/pandas/core/internals/concat.py\u001B[0m in \u001B[0;36mconcatenate_managers\u001B[0;34m(mgrs_indexers, axes, concat_axis, copy)\u001B[0m\n\u001B[1;32m    224\u001B[0m             \u001B[0mfastpath\u001B[0m \u001B[0;34m=\u001B[0m \u001B[0mblk\u001B[0m\u001B[0;34m.\u001B[0m\u001B[0mvalues\u001B[0m\u001B[0;34m.\u001B[0m\u001B[0mdtype\u001B[0m \u001B[0;34m==\u001B[0m \u001B[0mvalues\u001B[0m\u001B[0;34m.\u001B[0m\u001B[0mdtype\u001B[0m\u001B[0;34m\u001B[0m\u001B[0;34m\u001B[0m\u001B[0m\n\u001B[1;32m    225\u001B[0m         \u001B[0;32melse\u001B[0m\u001B[0;34m:\u001B[0m\u001B[0;34m\u001B[0m\u001B[0;34m\u001B[0m\u001B[0m\n\u001B[0;32m--> 226\u001B[0;31m             \u001B[0mvalues\u001B[0m \u001B[0;34m=\u001B[0m \u001B[0m_concatenate_join_units\u001B[0m\u001B[0;34m(\u001B[0m\u001B[0mjoin_units\u001B[0m\u001B[0;34m,\u001B[0m \u001B[0mconcat_axis\u001B[0m\u001B[0;34m,\u001B[0m \u001B[0mcopy\u001B[0m\u001B[0;34m=\u001B[0m\u001B[0mcopy\u001B[0m\u001B[0;34m)\u001B[0m\u001B[0;34m\u001B[0m\u001B[0;34m\u001B[0m\u001B[0m\n\u001B[0m\u001B[1;32m    227\u001B[0m             \u001B[0mfastpath\u001B[0m \u001B[0;34m=\u001B[0m \u001B[0;32mFalse\u001B[0m\u001B[0;34m\u001B[0m\u001B[0;34m\u001B[0m\u001B[0m\n\u001B[1;32m    228\u001B[0m \u001B[0;34m\u001B[0m\u001B[0m\n",
      "\u001B[0;32m~/.local/lib/python3.8/site-packages/pandas/core/internals/concat.py\u001B[0m in \u001B[0;36m_concatenate_join_units\u001B[0;34m(join_units, concat_axis, copy)\u001B[0m\n\u001B[1;32m    488\u001B[0m     \u001B[0mupcasted_na\u001B[0m \u001B[0;34m=\u001B[0m \u001B[0m_dtype_to_na_value\u001B[0m\u001B[0;34m(\u001B[0m\u001B[0mempty_dtype\u001B[0m\u001B[0;34m,\u001B[0m \u001B[0mhas_none_blocks\u001B[0m\u001B[0;34m)\u001B[0m\u001B[0;34m\u001B[0m\u001B[0;34m\u001B[0m\u001B[0m\n\u001B[1;32m    489\u001B[0m \u001B[0;34m\u001B[0m\u001B[0m\n\u001B[0;32m--> 490\u001B[0;31m     to_concat = [\n\u001B[0m\u001B[1;32m    491\u001B[0m         \u001B[0mju\u001B[0m\u001B[0;34m.\u001B[0m\u001B[0mget_reindexed_values\u001B[0m\u001B[0;34m(\u001B[0m\u001B[0mempty_dtype\u001B[0m\u001B[0;34m=\u001B[0m\u001B[0mempty_dtype\u001B[0m\u001B[0;34m,\u001B[0m \u001B[0mupcasted_na\u001B[0m\u001B[0;34m=\u001B[0m\u001B[0mupcasted_na\u001B[0m\u001B[0;34m)\u001B[0m\u001B[0;34m\u001B[0m\u001B[0;34m\u001B[0m\u001B[0m\n\u001B[1;32m    492\u001B[0m         \u001B[0;32mfor\u001B[0m \u001B[0mju\u001B[0m \u001B[0;32min\u001B[0m \u001B[0mjoin_units\u001B[0m\u001B[0;34m\u001B[0m\u001B[0;34m\u001B[0m\u001B[0m\n",
      "\u001B[0;32m~/.local/lib/python3.8/site-packages/pandas/core/internals/concat.py\u001B[0m in \u001B[0;36m<listcomp>\u001B[0;34m(.0)\u001B[0m\n\u001B[1;32m    489\u001B[0m \u001B[0;34m\u001B[0m\u001B[0m\n\u001B[1;32m    490\u001B[0m     to_concat = [\n\u001B[0;32m--> 491\u001B[0;31m         \u001B[0mju\u001B[0m\u001B[0;34m.\u001B[0m\u001B[0mget_reindexed_values\u001B[0m\u001B[0;34m(\u001B[0m\u001B[0mempty_dtype\u001B[0m\u001B[0;34m=\u001B[0m\u001B[0mempty_dtype\u001B[0m\u001B[0;34m,\u001B[0m \u001B[0mupcasted_na\u001B[0m\u001B[0;34m=\u001B[0m\u001B[0mupcasted_na\u001B[0m\u001B[0;34m)\u001B[0m\u001B[0;34m\u001B[0m\u001B[0;34m\u001B[0m\u001B[0m\n\u001B[0m\u001B[1;32m    492\u001B[0m         \u001B[0;32mfor\u001B[0m \u001B[0mju\u001B[0m \u001B[0;32min\u001B[0m \u001B[0mjoin_units\u001B[0m\u001B[0;34m\u001B[0m\u001B[0;34m\u001B[0m\u001B[0m\n\u001B[1;32m    493\u001B[0m     ]\n",
      "\u001B[0;32m~/.local/lib/python3.8/site-packages/pandas/core/internals/concat.py\u001B[0m in \u001B[0;36mget_reindexed_values\u001B[0;34m(self, empty_dtype, upcasted_na)\u001B[0m\n\u001B[1;32m    468\u001B[0m         \u001B[0;32melse\u001B[0m\u001B[0;34m:\u001B[0m\u001B[0;34m\u001B[0m\u001B[0;34m\u001B[0m\u001B[0m\n\u001B[1;32m    469\u001B[0m             \u001B[0;32mfor\u001B[0m \u001B[0max\u001B[0m\u001B[0;34m,\u001B[0m \u001B[0mindexer\u001B[0m \u001B[0;32min\u001B[0m \u001B[0mself\u001B[0m\u001B[0;34m.\u001B[0m\u001B[0mindexers\u001B[0m\u001B[0;34m.\u001B[0m\u001B[0mitems\u001B[0m\u001B[0;34m(\u001B[0m\u001B[0;34m)\u001B[0m\u001B[0;34m:\u001B[0m\u001B[0;34m\u001B[0m\u001B[0;34m\u001B[0m\u001B[0m\n\u001B[0;32m--> 470\u001B[0;31m                 \u001B[0mvalues\u001B[0m \u001B[0;34m=\u001B[0m \u001B[0malgos\u001B[0m\u001B[0;34m.\u001B[0m\u001B[0mtake_nd\u001B[0m\u001B[0;34m(\u001B[0m\u001B[0mvalues\u001B[0m\u001B[0;34m,\u001B[0m \u001B[0mindexer\u001B[0m\u001B[0;34m,\u001B[0m \u001B[0maxis\u001B[0m\u001B[0;34m=\u001B[0m\u001B[0max\u001B[0m\u001B[0;34m)\u001B[0m\u001B[0;34m\u001B[0m\u001B[0;34m\u001B[0m\u001B[0m\n\u001B[0m\u001B[1;32m    471\u001B[0m \u001B[0;34m\u001B[0m\u001B[0m\n\u001B[1;32m    472\u001B[0m         \u001B[0;32mreturn\u001B[0m \u001B[0mvalues\u001B[0m\u001B[0;34m\u001B[0m\u001B[0;34m\u001B[0m\u001B[0m\n",
      "\u001B[0;32m~/.local/lib/python3.8/site-packages/pandas/core/array_algos/take.py\u001B[0m in \u001B[0;36mtake_nd\u001B[0;34m(arr, indexer, axis, fill_value, allow_fill)\u001B[0m\n\u001B[1;32m    106\u001B[0m \u001B[0;34m\u001B[0m\u001B[0m\n\u001B[1;32m    107\u001B[0m     \u001B[0marr\u001B[0m \u001B[0;34m=\u001B[0m \u001B[0mnp\u001B[0m\u001B[0;34m.\u001B[0m\u001B[0masarray\u001B[0m\u001B[0;34m(\u001B[0m\u001B[0marr\u001B[0m\u001B[0;34m)\u001B[0m\u001B[0;34m\u001B[0m\u001B[0;34m\u001B[0m\u001B[0m\n\u001B[0;32m--> 108\u001B[0;31m     \u001B[0;32mreturn\u001B[0m \u001B[0m_take_nd_ndarray\u001B[0m\u001B[0;34m(\u001B[0m\u001B[0marr\u001B[0m\u001B[0;34m,\u001B[0m \u001B[0mindexer\u001B[0m\u001B[0;34m,\u001B[0m \u001B[0maxis\u001B[0m\u001B[0;34m,\u001B[0m \u001B[0mfill_value\u001B[0m\u001B[0;34m,\u001B[0m \u001B[0mallow_fill\u001B[0m\u001B[0;34m)\u001B[0m\u001B[0;34m\u001B[0m\u001B[0;34m\u001B[0m\u001B[0m\n\u001B[0m\u001B[1;32m    109\u001B[0m \u001B[0;34m\u001B[0m\u001B[0m\n\u001B[1;32m    110\u001B[0m \u001B[0;34m\u001B[0m\u001B[0m\n",
      "\u001B[0;32m~/.local/lib/python3.8/site-packages/pandas/core/array_algos/take.py\u001B[0m in \u001B[0;36m_take_nd_ndarray\u001B[0;34m(arr, indexer, axis, fill_value, allow_fill)\u001B[0m\n\u001B[1;32m    147\u001B[0m         \u001B[0mout\u001B[0m \u001B[0;34m=\u001B[0m \u001B[0mnp\u001B[0m\u001B[0;34m.\u001B[0m\u001B[0mempty\u001B[0m\u001B[0;34m(\u001B[0m\u001B[0mout_shape\u001B[0m\u001B[0;34m,\u001B[0m \u001B[0mdtype\u001B[0m\u001B[0;34m=\u001B[0m\u001B[0mdtype\u001B[0m\u001B[0;34m,\u001B[0m \u001B[0morder\u001B[0m\u001B[0;34m=\u001B[0m\u001B[0;34m\"F\"\u001B[0m\u001B[0;34m)\u001B[0m\u001B[0;34m\u001B[0m\u001B[0;34m\u001B[0m\u001B[0m\n\u001B[1;32m    148\u001B[0m     \u001B[0;32melse\u001B[0m\u001B[0;34m:\u001B[0m\u001B[0;34m\u001B[0m\u001B[0;34m\u001B[0m\u001B[0m\n\u001B[0;32m--> 149\u001B[0;31m         \u001B[0mout\u001B[0m \u001B[0;34m=\u001B[0m \u001B[0mnp\u001B[0m\u001B[0;34m.\u001B[0m\u001B[0mempty\u001B[0m\u001B[0;34m(\u001B[0m\u001B[0mout_shape\u001B[0m\u001B[0;34m,\u001B[0m \u001B[0mdtype\u001B[0m\u001B[0;34m=\u001B[0m\u001B[0mdtype\u001B[0m\u001B[0;34m)\u001B[0m\u001B[0;34m\u001B[0m\u001B[0;34m\u001B[0m\u001B[0m\n\u001B[0m\u001B[1;32m    150\u001B[0m \u001B[0;34m\u001B[0m\u001B[0m\n\u001B[1;32m    151\u001B[0m     func = _get_take_nd_function(\n",
      "\u001B[0;31mMemoryError\u001B[0m: Unable to allocate 49.9 GiB for an array with shape (98, 68328000) and data type float64"
     ]
    }
   ],
   "source": [
    "print(\"before merge inner, len = :\",len(df_2016_clean))\n",
    "df_2016_clean = pd.merge(df_2016_clean,df_predict, how=\"left\", on=\"Id\")\n",
    "print(\"after merge inner, len = :\",len(df_2016_clean))"
   ],
   "metadata": {
    "collapsed": false,
    "pycharm": {
     "name": "#%%\n"
    }
   }
  },
  {
   "cell_type": "code",
   "execution_count": 3,
   "outputs": [
    {
     "ename": "NameError",
     "evalue": "name 'df_2016_clean' is not defined",
     "output_type": "error",
     "traceback": [
      "\u001B[0;31m---------------------------------------------------------------------------\u001B[0m",
      "\u001B[0;31mNameError\u001B[0m                                 Traceback (most recent call last)",
      "\u001B[0;32m/tmp/ipykernel_151572/3069548541.py\u001B[0m in \u001B[0;36m<module>\u001B[0;34m\u001B[0m\n\u001B[0;32m----> 1\u001B[0;31m \u001B[0mdf_2016_clean\u001B[0m\u001B[0;34m.\u001B[0m\u001B[0mto_csv\u001B[0m\u001B[0;34m(\u001B[0m\u001B[0;34m\"./X_all_2016_final.zip\"\u001B[0m\u001B[0;34m)\u001B[0m\u001B[0;34m\u001B[0m\u001B[0;34m\u001B[0m\u001B[0m\n\u001B[0m",
      "\u001B[0;31mNameError\u001B[0m: name 'df_2016_clean' is not defined"
     ]
    }
   ],
   "source": [
    "df_2016_clean.to_csv(\"./X_all_2016_final.zip\")"
   ],
   "metadata": {
    "collapsed": false,
    "pycharm": {
     "name": "#%%\n"
    }
   }
  },
  {
   "cell_type": "code",
   "execution_count": null,
   "outputs": [],
   "source": [
    "del df_2016_clean\n",
    "del df_2016_predict"
   ],
   "metadata": {
    "collapsed": false,
    "pycharm": {
     "name": "#%%\n"
    }
   }
  },
  {
   "cell_type": "code",
   "execution_count": null,
   "outputs": [],
   "source": [
    "### 2017\n",
    "df_2017_predict = df_2016_2017.loc[df_2016_2017[\"year\"] == 2017, [\"predict_Id\",\"current hour precipitations (kg/m^2)\"]]\n",
    "df_2017_predict.rename(columns = {\"predict_Id\":\"Id\",\"current hour precipitations (kg/m^2)\":\"ground_truth\"}, inplace=True)"
   ],
   "metadata": {
    "collapsed": false,
    "pycharm": {
     "name": "#%%\n"
    }
   }
  },
  {
   "cell_type": "code",
   "execution_count": null,
   "outputs": [],
   "source": [
    "df_2017_clean = pd.read_csv(\"./X_all_2017_imputed.zip\")"
   ],
   "metadata": {
    "collapsed": false,
    "pycharm": {
     "name": "#%%\n"
    }
   }
  },
  {
   "cell_type": "code",
   "execution_count": null,
   "outputs": [],
   "source": [
    "print(\"before merge inner, len = :\",len(df_2017_clean))\n",
    "df_2017_clean = pd.merge(df_2017_clean,df_2017_predict, how=\"inner\", on=\"Id\")\n",
    "print(\"after merge inner, len = :\",len(df_2017_clean))"
   ],
   "metadata": {
    "collapsed": false,
    "pycharm": {
     "name": "#%%\n"
    }
   }
  },
  {
   "cell_type": "code",
   "execution_count": null,
   "outputs": [],
   "source": [
    "df_2017_clean.to_csv(\"./X_all_2017_final.zip\")"
   ],
   "metadata": {
    "collapsed": false,
    "pycharm": {
     "name": "#%%\n"
    }
   }
  },
  {
   "cell_type": "code",
   "execution_count": null,
   "outputs": [],
   "source": [
    "del df_2017_clean\n",
    "del df_2017_predict"
   ],
   "metadata": {
    "collapsed": false,
    "pycharm": {
     "name": "#%%\n"
    }
   }
  },
  {
   "cell_type": "markdown",
   "source": [
    "# another attempt merge prediction with DF"
   ],
   "metadata": {
    "collapsed": false
   }
  },
  {
   "cell_type": "code",
   "execution_count": 2,
   "outputs": [
    {
     "data": {
      "text/plain": "           Id  hour  current hour precipitations (kg/m^2)\n0  86118001_0     0                                   0.0\n1  86118001_0     1                                   0.0",
      "text/html": "<div>\n<style scoped>\n    .dataframe tbody tr th:only-of-type {\n        vertical-align: middle;\n    }\n\n    .dataframe tbody tr th {\n        vertical-align: top;\n    }\n\n    .dataframe thead th {\n        text-align: right;\n    }\n</style>\n<table border=\"1\" class=\"dataframe\">\n  <thead>\n    <tr style=\"text-align: right;\">\n      <th></th>\n      <th>Id</th>\n      <th>hour</th>\n      <th>current hour precipitations (kg/m^2)</th>\n    </tr>\n  </thead>\n  <tbody>\n    <tr>\n      <th>0</th>\n      <td>86118001_0</td>\n      <td>0</td>\n      <td>0.0</td>\n    </tr>\n    <tr>\n      <th>1</th>\n      <td>86118001_0</td>\n      <td>1</td>\n      <td>0.0</td>\n    </tr>\n  </tbody>\n</table>\n</div>"
     },
     "execution_count": 2,
     "metadata": {},
     "output_type": "execute_result"
    }
   ],
   "source": [
    "df1 = pd.read_csv(\"y_2016_unshifted.csv\")\n",
    "df1.head(2)"
   ],
   "metadata": {
    "collapsed": false,
    "pycharm": {
     "name": "#%%\n"
    }
   }
  },
  {
   "cell_type": "code",
   "execution_count": 3,
   "outputs": [
    {
     "data": {
      "text/plain": "             Id  hour  current hour precipitations (kg/m^2)\n0  86118001_366     0                                   0.0\n1  86118001_366     1                                   0.0",
      "text/html": "<div>\n<style scoped>\n    .dataframe tbody tr th:only-of-type {\n        vertical-align: middle;\n    }\n\n    .dataframe tbody tr th {\n        vertical-align: top;\n    }\n\n    .dataframe thead th {\n        text-align: right;\n    }\n</style>\n<table border=\"1\" class=\"dataframe\">\n  <thead>\n    <tr style=\"text-align: right;\">\n      <th></th>\n      <th>Id</th>\n      <th>hour</th>\n      <th>current hour precipitations (kg/m^2)</th>\n    </tr>\n  </thead>\n  <tbody>\n    <tr>\n      <th>0</th>\n      <td>86118001_366</td>\n      <td>0</td>\n      <td>0.0</td>\n    </tr>\n    <tr>\n      <th>1</th>\n      <td>86118001_366</td>\n      <td>1</td>\n      <td>0.0</td>\n    </tr>\n  </tbody>\n</table>\n</div>"
     },
     "execution_count": 3,
     "metadata": {},
     "output_type": "execute_result"
    }
   ],
   "source": [
    "df2 = pd.read_csv(\"y_2017_unshifted.csv\")\n",
    "df2.head(2)"
   ],
   "metadata": {
    "collapsed": false,
    "pycharm": {
     "name": "#%%\n"
    }
   }
  },
  {
   "cell_type": "code",
   "execution_count": 4,
   "outputs": [
    {
     "data": {
      "text/plain": "             Id  hour  current hour precipitations (kg/m^2)\n0  86118001_0_0     0                                   0.0\n1  86118001_0_1     1                                   0.0",
      "text/html": "<div>\n<style scoped>\n    .dataframe tbody tr th:only-of-type {\n        vertical-align: middle;\n    }\n\n    .dataframe tbody tr th {\n        vertical-align: top;\n    }\n\n    .dataframe thead th {\n        text-align: right;\n    }\n</style>\n<table border=\"1\" class=\"dataframe\">\n  <thead>\n    <tr style=\"text-align: right;\">\n      <th></th>\n      <th>Id</th>\n      <th>hour</th>\n      <th>current hour precipitations (kg/m^2)</th>\n    </tr>\n  </thead>\n  <tbody>\n    <tr>\n      <th>0</th>\n      <td>86118001_0_0</td>\n      <td>0</td>\n      <td>0.0</td>\n    </tr>\n    <tr>\n      <th>1</th>\n      <td>86118001_0_1</td>\n      <td>1</td>\n      <td>0.0</td>\n    </tr>\n  </tbody>\n</table>\n</div>"
     },
     "execution_count": 4,
     "metadata": {},
     "output_type": "execute_result"
    }
   ],
   "source": [
    "df1[\"Id\"] = df1[\"Id\"].astype(str) + \"_\" + df1[\"hour\"].astype(str)\n",
    "df2[\"Id\"] = df2[\"Id\"].astype(str) + \"_\" + df2[\"hour\"].astype(str)\n",
    "df = pd.concat([df1,df2],ignore_index=True)\n",
    "df.head(2)"
   ],
   "metadata": {
    "collapsed": false,
    "pycharm": {
     "name": "#%%\n"
    }
   }
  },
  {
   "cell_type": "code",
   "execution_count": 5,
   "outputs": [],
   "source": [
    "del df1\n",
    "del df2"
   ],
   "metadata": {
    "collapsed": false,
    "pycharm": {
     "name": "#%%\n"
    }
   }
  },
  {
   "cell_type": "code",
   "execution_count": 5,
   "outputs": [
    {
     "data": {
      "text/plain": "             Id  hour  prediction\n0  86118001_0_0     0         0.0\n1  86118001_0_1     1         0.0",
      "text/html": "<div>\n<style scoped>\n    .dataframe tbody tr th:only-of-type {\n        vertical-align: middle;\n    }\n\n    .dataframe tbody tr th {\n        vertical-align: top;\n    }\n\n    .dataframe thead th {\n        text-align: right;\n    }\n</style>\n<table border=\"1\" class=\"dataframe\">\n  <thead>\n    <tr style=\"text-align: right;\">\n      <th></th>\n      <th>Id</th>\n      <th>hour</th>\n      <th>prediction</th>\n    </tr>\n  </thead>\n  <tbody>\n    <tr>\n      <th>0</th>\n      <td>86118001_0_0</td>\n      <td>0</td>\n      <td>0.0</td>\n    </tr>\n    <tr>\n      <th>1</th>\n      <td>86118001_0_1</td>\n      <td>1</td>\n      <td>0.0</td>\n    </tr>\n  </tbody>\n</table>\n</div>"
     },
     "execution_count": 5,
     "metadata": {},
     "output_type": "execute_result"
    }
   ],
   "source": [
    "df.rename(columns={\"current hour precipitations (kg/m^2)\" : \"prediction\"}, inplace=True)\n",
    "df.head(2)"
   ],
   "metadata": {
    "collapsed": false,
    "pycharm": {
     "name": "#%%\n"
    }
   }
  },
  {
   "cell_type": "code",
   "execution_count": 6,
   "outputs": [],
   "source": [
    "del df[\"hour\"]"
   ],
   "metadata": {
    "collapsed": false,
    "pycharm": {
     "name": "#%%\n"
    }
   }
  },
  {
   "cell_type": "code",
   "execution_count": 7,
   "outputs": [
    {
     "data": {
      "text/plain": "             Id  prediction     Id_shifted\n0  86118001_0_0         0.0  86118001_-1_0\n1  86118001_0_1         0.0  86118001_-1_1",
      "text/html": "<div>\n<style scoped>\n    .dataframe tbody tr th:only-of-type {\n        vertical-align: middle;\n    }\n\n    .dataframe tbody tr th {\n        vertical-align: top;\n    }\n\n    .dataframe thead th {\n        text-align: right;\n    }\n</style>\n<table border=\"1\" class=\"dataframe\">\n  <thead>\n    <tr style=\"text-align: right;\">\n      <th></th>\n      <th>Id</th>\n      <th>prediction</th>\n      <th>Id_shifted</th>\n    </tr>\n  </thead>\n  <tbody>\n    <tr>\n      <th>0</th>\n      <td>86118001_0_0</td>\n      <td>0.0</td>\n      <td>86118001_-1_0</td>\n    </tr>\n    <tr>\n      <th>1</th>\n      <td>86118001_0_1</td>\n      <td>0.0</td>\n      <td>86118001_-1_1</td>\n    </tr>\n  </tbody>\n</table>\n</div>"
     },
     "execution_count": 7,
     "metadata": {},
     "output_type": "execute_result"
    }
   ],
   "source": [
    "def shift_day(index : str):\n",
    "    id_day_hour = index.split(\"_\")\n",
    "    station_id = id_day_hour[0]\n",
    "    absolute_day = int(id_day_hour[1])\n",
    "    hour = id_day_hour[2]\n",
    "    absolute_day -= 1\n",
    "    absolute_day = str(absolute_day)\n",
    "    id_day_hour_shifted = '_'.join([station_id,absolute_day,hour])\n",
    "    return id_day_hour_shifted\n",
    "\n",
    "df[\"Id_shifted\"] = df[\"Id\"].apply(shift_day)\n",
    "df.head(2)"
   ],
   "metadata": {
    "collapsed": false,
    "pycharm": {
     "name": "#%%\n"
    }
   }
  },
  {
   "cell_type": "code",
   "execution_count": 8,
   "outputs": [],
   "source": [
    "del df[\"Id\"]"
   ],
   "metadata": {
    "collapsed": false,
    "pycharm": {
     "name": "#%%\n"
    }
   }
  },
  {
   "cell_type": "code",
   "execution_count": 9,
   "outputs": [
    {
     "data": {
      "text/plain": "         prediction          Id_full\n0               0.0    86118001_-1_0\n1               0.0    86118001_-1_1\n2               0.0    86118001_-1_2\n3               0.0    86118001_-1_3\n4               0.5    86118001_-1_4\n...             ...              ...\n5701795         0.0  95690001_729_19\n5701796         0.0  95690001_729_20\n5701797         0.0  95690001_729_21\n5701798         0.0  95690001_729_22\n5701799         0.0  95690001_729_23\n\n[5701800 rows x 2 columns]",
      "text/html": "<div>\n<style scoped>\n    .dataframe tbody tr th:only-of-type {\n        vertical-align: middle;\n    }\n\n    .dataframe tbody tr th {\n        vertical-align: top;\n    }\n\n    .dataframe thead th {\n        text-align: right;\n    }\n</style>\n<table border=\"1\" class=\"dataframe\">\n  <thead>\n    <tr style=\"text-align: right;\">\n      <th></th>\n      <th>prediction</th>\n      <th>Id_full</th>\n    </tr>\n  </thead>\n  <tbody>\n    <tr>\n      <th>0</th>\n      <td>0.0</td>\n      <td>86118001_-1_0</td>\n    </tr>\n    <tr>\n      <th>1</th>\n      <td>0.0</td>\n      <td>86118001_-1_1</td>\n    </tr>\n    <tr>\n      <th>2</th>\n      <td>0.0</td>\n      <td>86118001_-1_2</td>\n    </tr>\n    <tr>\n      <th>3</th>\n      <td>0.0</td>\n      <td>86118001_-1_3</td>\n    </tr>\n    <tr>\n      <th>4</th>\n      <td>0.5</td>\n      <td>86118001_-1_4</td>\n    </tr>\n    <tr>\n      <th>...</th>\n      <td>...</td>\n      <td>...</td>\n    </tr>\n    <tr>\n      <th>5701795</th>\n      <td>0.0</td>\n      <td>95690001_729_19</td>\n    </tr>\n    <tr>\n      <th>5701796</th>\n      <td>0.0</td>\n      <td>95690001_729_20</td>\n    </tr>\n    <tr>\n      <th>5701797</th>\n      <td>0.0</td>\n      <td>95690001_729_21</td>\n    </tr>\n    <tr>\n      <th>5701798</th>\n      <td>0.0</td>\n      <td>95690001_729_22</td>\n    </tr>\n    <tr>\n      <th>5701799</th>\n      <td>0.0</td>\n      <td>95690001_729_23</td>\n    </tr>\n  </tbody>\n</table>\n<p>5701800 rows × 2 columns</p>\n</div>"
     },
     "execution_count": 9,
     "metadata": {},
     "output_type": "execute_result"
    }
   ],
   "source": [
    "df.rename(columns={\"Id_shifted\" : \"Id_full\"}, inplace=True)\n",
    "df"
   ],
   "metadata": {
    "collapsed": false,
    "pycharm": {
     "name": "#%%\n"
    }
   }
  },
  {
   "cell_type": "markdown",
   "source": [
    "## merge with df_2016"
   ],
   "metadata": {
    "collapsed": false,
    "pycharm": {
     "name": "#%% md\n"
    }
   }
  },
  {
   "cell_type": "code",
   "execution_count": 11,
   "outputs": [
    {
     "name": "stdout",
     "output_type": "stream",
     "text": [
      "<class 'pandas.core.frame.DataFrame'>\n",
      "RangeIndex: 2847000 entries, 0 to 2846999\n",
      "Columns: 109 entries, Unnamed: 0 to wind_direction_sin\n",
      "dtypes: float64(98), int64(10), object(1)\n",
      "memory usage: 2.3+ GB\n",
      "None\n",
      "\n",
      "\n"
     ]
    },
    {
     "data": {
      "text/plain": "   Unnamed: 0  station_id  altitude (m)  latitude  longitude  latitude_idx  \\\n0          24    86118001           120        46          0           217   \n1          25    86118001           120        46          0           217   \n2          26    86118001           120        46          0           217   \n3          27    86118001           120        46          0           217   \n4          28    86118001           120        46          0           217   \n\n   longitude_idx  month  month_cos  month_sin  ...  \\\n0            273      1        1.0        0.0  ...   \n1            273      1        1.0        0.0  ...   \n2            273      1        1.0        0.0  ...   \n3            273      1        1.0        0.0  ...   \n4            273      1        1.0        0.0  ...   \n\n   3D_Arpege_isobar_500hpa_RelavtiveHumidity (%)  \\\n0                                     100.000404   \n1                                      98.718750   \n2                                      45.420456   \n3                                      43.513460   \n4                                      33.328125   \n\n   3D_Arpege_isobar_500hpa_WindSpeed (m/s)  \\\n0                                17.790064   \n1                                18.012522   \n2                                18.335869   \n3                                21.294657   \n4                                20.992092   \n\n   3D_Arpege_isobar_500hpa_WindDirection (deg)  \\\n0                                    211.09330   \n1                                    208.35088   \n2                                    213.29297   \n3                                    215.14986   \n4                                    220.65701   \n\n   3D_Arpege_isobar_500hpa_WindComponentU (m/s)  \\\n0                                      9.185622   \n1                                      8.552952   \n2                                     10.067105   \n3                                     12.261997   \n4                                     13.676830   \n\n   3D_Arpege_isobar_500hpa_WindComponentV (m/s)  \\\n0                                     15.235155   \n1                                     15.852805   \n2                                     15.320419   \n3                                     17.406713   \n4                                     15.925046   \n\n   3D_Arpege_isobar_500hpa_VerticalVelocity (Pa/s)  \\\n0                                        -0.607258   \n1                                        -0.464554   \n2                                         0.319423   \n3                                        -0.017849   \n4                                         0.052461   \n\n   3D_Arpege_isobar_500hpa_Geopotential (m^2/s^2)          Id  \\\n0                                       54226.680  86118001_1   \n1                                       54129.710  86118001_1   \n2                                       54065.254  86118001_1   \n3                                       53945.754  86118001_1   \n4                                       53868.156  86118001_1   \n\n   wind_direction_cos  wind_direction_sin  \n0           -0.688355           -0.725374  \n1           -0.688355           -0.725374  \n2           -0.688355           -0.725374  \n3           -0.688355           -0.725374  \n4           -0.688355           -0.725374  \n\n[5 rows x 109 columns]",
      "text/html": "<div>\n<style scoped>\n    .dataframe tbody tr th:only-of-type {\n        vertical-align: middle;\n    }\n\n    .dataframe tbody tr th {\n        vertical-align: top;\n    }\n\n    .dataframe thead th {\n        text-align: right;\n    }\n</style>\n<table border=\"1\" class=\"dataframe\">\n  <thead>\n    <tr style=\"text-align: right;\">\n      <th></th>\n      <th>Unnamed: 0</th>\n      <th>station_id</th>\n      <th>altitude (m)</th>\n      <th>latitude</th>\n      <th>longitude</th>\n      <th>latitude_idx</th>\n      <th>longitude_idx</th>\n      <th>month</th>\n      <th>month_cos</th>\n      <th>month_sin</th>\n      <th>...</th>\n      <th>3D_Arpege_isobar_500hpa_RelavtiveHumidity (%)</th>\n      <th>3D_Arpege_isobar_500hpa_WindSpeed (m/s)</th>\n      <th>3D_Arpege_isobar_500hpa_WindDirection (deg)</th>\n      <th>3D_Arpege_isobar_500hpa_WindComponentU (m/s)</th>\n      <th>3D_Arpege_isobar_500hpa_WindComponentV (m/s)</th>\n      <th>3D_Arpege_isobar_500hpa_VerticalVelocity (Pa/s)</th>\n      <th>3D_Arpege_isobar_500hpa_Geopotential (m^2/s^2)</th>\n      <th>Id</th>\n      <th>wind_direction_cos</th>\n      <th>wind_direction_sin</th>\n    </tr>\n  </thead>\n  <tbody>\n    <tr>\n      <th>0</th>\n      <td>24</td>\n      <td>86118001</td>\n      <td>120</td>\n      <td>46</td>\n      <td>0</td>\n      <td>217</td>\n      <td>273</td>\n      <td>1</td>\n      <td>1.0</td>\n      <td>0.0</td>\n      <td>...</td>\n      <td>100.000404</td>\n      <td>17.790064</td>\n      <td>211.09330</td>\n      <td>9.185622</td>\n      <td>15.235155</td>\n      <td>-0.607258</td>\n      <td>54226.680</td>\n      <td>86118001_1</td>\n      <td>-0.688355</td>\n      <td>-0.725374</td>\n    </tr>\n    <tr>\n      <th>1</th>\n      <td>25</td>\n      <td>86118001</td>\n      <td>120</td>\n      <td>46</td>\n      <td>0</td>\n      <td>217</td>\n      <td>273</td>\n      <td>1</td>\n      <td>1.0</td>\n      <td>0.0</td>\n      <td>...</td>\n      <td>98.718750</td>\n      <td>18.012522</td>\n      <td>208.35088</td>\n      <td>8.552952</td>\n      <td>15.852805</td>\n      <td>-0.464554</td>\n      <td>54129.710</td>\n      <td>86118001_1</td>\n      <td>-0.688355</td>\n      <td>-0.725374</td>\n    </tr>\n    <tr>\n      <th>2</th>\n      <td>26</td>\n      <td>86118001</td>\n      <td>120</td>\n      <td>46</td>\n      <td>0</td>\n      <td>217</td>\n      <td>273</td>\n      <td>1</td>\n      <td>1.0</td>\n      <td>0.0</td>\n      <td>...</td>\n      <td>45.420456</td>\n      <td>18.335869</td>\n      <td>213.29297</td>\n      <td>10.067105</td>\n      <td>15.320419</td>\n      <td>0.319423</td>\n      <td>54065.254</td>\n      <td>86118001_1</td>\n      <td>-0.688355</td>\n      <td>-0.725374</td>\n    </tr>\n    <tr>\n      <th>3</th>\n      <td>27</td>\n      <td>86118001</td>\n      <td>120</td>\n      <td>46</td>\n      <td>0</td>\n      <td>217</td>\n      <td>273</td>\n      <td>1</td>\n      <td>1.0</td>\n      <td>0.0</td>\n      <td>...</td>\n      <td>43.513460</td>\n      <td>21.294657</td>\n      <td>215.14986</td>\n      <td>12.261997</td>\n      <td>17.406713</td>\n      <td>-0.017849</td>\n      <td>53945.754</td>\n      <td>86118001_1</td>\n      <td>-0.688355</td>\n      <td>-0.725374</td>\n    </tr>\n    <tr>\n      <th>4</th>\n      <td>28</td>\n      <td>86118001</td>\n      <td>120</td>\n      <td>46</td>\n      <td>0</td>\n      <td>217</td>\n      <td>273</td>\n      <td>1</td>\n      <td>1.0</td>\n      <td>0.0</td>\n      <td>...</td>\n      <td>33.328125</td>\n      <td>20.992092</td>\n      <td>220.65701</td>\n      <td>13.676830</td>\n      <td>15.925046</td>\n      <td>0.052461</td>\n      <td>53868.156</td>\n      <td>86118001_1</td>\n      <td>-0.688355</td>\n      <td>-0.725374</td>\n    </tr>\n  </tbody>\n</table>\n<p>5 rows × 109 columns</p>\n</div>"
     },
     "execution_count": 11,
     "metadata": {},
     "output_type": "execute_result"
    }
   ],
   "source": [
    "df2016 = pd.read_csv(\"X_all_2016_imputed.zip\")\n",
    "print(df2016.info())\n",
    "print(\"\\n\")\n",
    "df2016.head(5)"
   ],
   "metadata": {
    "collapsed": false,
    "pycharm": {
     "name": "#%%\n"
    }
   }
  },
  {
   "cell_type": "code",
   "execution_count": 12,
   "outputs": [],
   "source": [
    "del df2016[\"Unnamed: 0\"]"
   ],
   "metadata": {
    "collapsed": false,
    "pycharm": {
     "name": "#%%\n"
    }
   }
  },
  {
   "cell_type": "code",
   "execution_count": 13,
   "outputs": [
    {
     "data": {
      "text/plain": "         station_id  altitude (m)  latitude  longitude  latitude_idx  \\\n0          86118001           120        46          0           217   \n1          86118001           120        46          0           217   \n2          86118001           120        46          0           217   \n3          86118001           120        46          0           217   \n4          86118001           120        46          0           217   \n...             ...           ...       ...        ...           ...   \n2846995    95690001           126        49          1           112   \n2846996    95690001           126        49          1           112   \n2846997    95690001           126        49          1           112   \n2846998    95690001           126        49          1           112   \n2846999    95690001           126        49          1           112   \n\n         longitude_idx  month  month_cos  month_sin  day  ...  \\\n0                  273      1   1.000000        0.0    2  ...   \n1                  273      1   1.000000        0.0    2  ...   \n2                  273      1   1.000000        0.0    2  ...   \n3                  273      1   1.000000        0.0    2  ...   \n4                  273      1   1.000000        0.0    2  ...   \n...                ...    ...        ...        ...  ...  ...   \n2846995            307     12   0.866025       -0.5   31  ...   \n2846996            307     12   0.866025       -0.5   31  ...   \n2846997            307     12   0.866025       -0.5   31  ...   \n2846998            307     12   0.866025       -0.5   31  ...   \n2846999            307     12   0.866025       -0.5   31  ...   \n\n         3D_Arpege_isobar_500hpa_WindSpeed (m/s)  \\\n0                                      17.790064   \n1                                      18.012522   \n2                                      18.335869   \n3                                      21.294657   \n4                                      20.992092   \n...                                          ...   \n2846995                                14.114431   \n2846996                                13.959733   \n2846997                                13.550469   \n2846998                                10.648723   \n2846999                                 9.870132   \n\n         3D_Arpege_isobar_500hpa_WindDirection (deg)  \\\n0                                         211.093300   \n1                                         208.350880   \n2                                         213.292970   \n3                                         215.149860   \n4                                         220.657010   \n...                                              ...   \n2846995                                   235.471285   \n2846996                                   244.607675   \n2846997                                   248.416775   \n2846998                                   260.030825   \n2846999                                   265.658465   \n\n         3D_Arpege_isobar_500hpa_WindComponentU (m/s)  \\\n0                                            9.185622   \n1                                            8.552952   \n2                                           10.067105   \n3                                           12.261997   \n4                                           13.676830   \n...                                               ...   \n2846995                                     11.373971   \n2846996                                     12.515270   \n2846997                                     12.538167   \n2846998                                     10.435218   \n2846999                                      9.814314   \n\n         3D_Arpege_isobar_500hpa_WindComponentV (m/s)  \\\n0                                           15.235155   \n1                                           15.852805   \n2                                           15.320419   \n3                                           17.406713   \n4                                           15.925046   \n...                                               ...   \n2846995                                      7.875728   \n2846996                                      5.945273   \n2846997                                      5.053542   \n2846998                                      1.917787   \n2846999                                      0.776295   \n\n         3D_Arpege_isobar_500hpa_VerticalVelocity (Pa/s)  \\\n0                                              -0.607258   \n1                                              -0.464554   \n2                                               0.319423   \n3                                              -0.017849   \n4                                               0.052461   \n...                                                  ...   \n2846995                                        -0.218099   \n2846996                                        -0.152149   \n2846997                                        -0.108746   \n2846998                                         0.099898   \n2846999                                         0.083318   \n\n         3D_Arpege_isobar_500hpa_Geopotential (m^2/s^2)            Id  \\\n0                                            54226.6800    86118001_1   \n1                                            54129.7100    86118001_1   \n2                                            54065.2540    86118001_1   \n3                                            53945.7540    86118001_1   \n4                                            53868.1560    86118001_1   \n...                                                 ...           ...   \n2846995                                      56747.5570  95690001_365   \n2846996                                      56761.2620  95690001_365   \n2846997                                      56766.6770  95690001_365   \n2846998                                      56781.7755  95690001_365   \n2846999                                      56788.0900  95690001_365   \n\n         wind_direction_cos  wind_direction_sin          Id_full  \n0                 -0.688355           -0.725374     86118001_1_0  \n1                 -0.688355           -0.725374     86118001_1_1  \n2                 -0.688355           -0.725374     86118001_1_2  \n3                 -0.688355           -0.725374     86118001_1_3  \n4                 -0.688355           -0.725374     86118001_1_4  \n...                     ...                 ...              ...  \n2846995            0.529919            0.848048  95690001_365_19  \n2846996            0.529919            0.848048  95690001_365_20  \n2846997            0.529919            0.848048  95690001_365_21  \n2846998            0.529919            0.848048  95690001_365_22  \n2846999            0.529919            0.848048  95690001_365_23  \n\n[2847000 rows x 109 columns]",
      "text/html": "<div>\n<style scoped>\n    .dataframe tbody tr th:only-of-type {\n        vertical-align: middle;\n    }\n\n    .dataframe tbody tr th {\n        vertical-align: top;\n    }\n\n    .dataframe thead th {\n        text-align: right;\n    }\n</style>\n<table border=\"1\" class=\"dataframe\">\n  <thead>\n    <tr style=\"text-align: right;\">\n      <th></th>\n      <th>station_id</th>\n      <th>altitude (m)</th>\n      <th>latitude</th>\n      <th>longitude</th>\n      <th>latitude_idx</th>\n      <th>longitude_idx</th>\n      <th>month</th>\n      <th>month_cos</th>\n      <th>month_sin</th>\n      <th>day</th>\n      <th>...</th>\n      <th>3D_Arpege_isobar_500hpa_WindSpeed (m/s)</th>\n      <th>3D_Arpege_isobar_500hpa_WindDirection (deg)</th>\n      <th>3D_Arpege_isobar_500hpa_WindComponentU (m/s)</th>\n      <th>3D_Arpege_isobar_500hpa_WindComponentV (m/s)</th>\n      <th>3D_Arpege_isobar_500hpa_VerticalVelocity (Pa/s)</th>\n      <th>3D_Arpege_isobar_500hpa_Geopotential (m^2/s^2)</th>\n      <th>Id</th>\n      <th>wind_direction_cos</th>\n      <th>wind_direction_sin</th>\n      <th>Id_full</th>\n    </tr>\n  </thead>\n  <tbody>\n    <tr>\n      <th>0</th>\n      <td>86118001</td>\n      <td>120</td>\n      <td>46</td>\n      <td>0</td>\n      <td>217</td>\n      <td>273</td>\n      <td>1</td>\n      <td>1.000000</td>\n      <td>0.0</td>\n      <td>2</td>\n      <td>...</td>\n      <td>17.790064</td>\n      <td>211.093300</td>\n      <td>9.185622</td>\n      <td>15.235155</td>\n      <td>-0.607258</td>\n      <td>54226.6800</td>\n      <td>86118001_1</td>\n      <td>-0.688355</td>\n      <td>-0.725374</td>\n      <td>86118001_1_0</td>\n    </tr>\n    <tr>\n      <th>1</th>\n      <td>86118001</td>\n      <td>120</td>\n      <td>46</td>\n      <td>0</td>\n      <td>217</td>\n      <td>273</td>\n      <td>1</td>\n      <td>1.000000</td>\n      <td>0.0</td>\n      <td>2</td>\n      <td>...</td>\n      <td>18.012522</td>\n      <td>208.350880</td>\n      <td>8.552952</td>\n      <td>15.852805</td>\n      <td>-0.464554</td>\n      <td>54129.7100</td>\n      <td>86118001_1</td>\n      <td>-0.688355</td>\n      <td>-0.725374</td>\n      <td>86118001_1_1</td>\n    </tr>\n    <tr>\n      <th>2</th>\n      <td>86118001</td>\n      <td>120</td>\n      <td>46</td>\n      <td>0</td>\n      <td>217</td>\n      <td>273</td>\n      <td>1</td>\n      <td>1.000000</td>\n      <td>0.0</td>\n      <td>2</td>\n      <td>...</td>\n      <td>18.335869</td>\n      <td>213.292970</td>\n      <td>10.067105</td>\n      <td>15.320419</td>\n      <td>0.319423</td>\n      <td>54065.2540</td>\n      <td>86118001_1</td>\n      <td>-0.688355</td>\n      <td>-0.725374</td>\n      <td>86118001_1_2</td>\n    </tr>\n    <tr>\n      <th>3</th>\n      <td>86118001</td>\n      <td>120</td>\n      <td>46</td>\n      <td>0</td>\n      <td>217</td>\n      <td>273</td>\n      <td>1</td>\n      <td>1.000000</td>\n      <td>0.0</td>\n      <td>2</td>\n      <td>...</td>\n      <td>21.294657</td>\n      <td>215.149860</td>\n      <td>12.261997</td>\n      <td>17.406713</td>\n      <td>-0.017849</td>\n      <td>53945.7540</td>\n      <td>86118001_1</td>\n      <td>-0.688355</td>\n      <td>-0.725374</td>\n      <td>86118001_1_3</td>\n    </tr>\n    <tr>\n      <th>4</th>\n      <td>86118001</td>\n      <td>120</td>\n      <td>46</td>\n      <td>0</td>\n      <td>217</td>\n      <td>273</td>\n      <td>1</td>\n      <td>1.000000</td>\n      <td>0.0</td>\n      <td>2</td>\n      <td>...</td>\n      <td>20.992092</td>\n      <td>220.657010</td>\n      <td>13.676830</td>\n      <td>15.925046</td>\n      <td>0.052461</td>\n      <td>53868.1560</td>\n      <td>86118001_1</td>\n      <td>-0.688355</td>\n      <td>-0.725374</td>\n      <td>86118001_1_4</td>\n    </tr>\n    <tr>\n      <th>...</th>\n      <td>...</td>\n      <td>...</td>\n      <td>...</td>\n      <td>...</td>\n      <td>...</td>\n      <td>...</td>\n      <td>...</td>\n      <td>...</td>\n      <td>...</td>\n      <td>...</td>\n      <td>...</td>\n      <td>...</td>\n      <td>...</td>\n      <td>...</td>\n      <td>...</td>\n      <td>...</td>\n      <td>...</td>\n      <td>...</td>\n      <td>...</td>\n      <td>...</td>\n      <td>...</td>\n    </tr>\n    <tr>\n      <th>2846995</th>\n      <td>95690001</td>\n      <td>126</td>\n      <td>49</td>\n      <td>1</td>\n      <td>112</td>\n      <td>307</td>\n      <td>12</td>\n      <td>0.866025</td>\n      <td>-0.5</td>\n      <td>31</td>\n      <td>...</td>\n      <td>14.114431</td>\n      <td>235.471285</td>\n      <td>11.373971</td>\n      <td>7.875728</td>\n      <td>-0.218099</td>\n      <td>56747.5570</td>\n      <td>95690001_365</td>\n      <td>0.529919</td>\n      <td>0.848048</td>\n      <td>95690001_365_19</td>\n    </tr>\n    <tr>\n      <th>2846996</th>\n      <td>95690001</td>\n      <td>126</td>\n      <td>49</td>\n      <td>1</td>\n      <td>112</td>\n      <td>307</td>\n      <td>12</td>\n      <td>0.866025</td>\n      <td>-0.5</td>\n      <td>31</td>\n      <td>...</td>\n      <td>13.959733</td>\n      <td>244.607675</td>\n      <td>12.515270</td>\n      <td>5.945273</td>\n      <td>-0.152149</td>\n      <td>56761.2620</td>\n      <td>95690001_365</td>\n      <td>0.529919</td>\n      <td>0.848048</td>\n      <td>95690001_365_20</td>\n    </tr>\n    <tr>\n      <th>2846997</th>\n      <td>95690001</td>\n      <td>126</td>\n      <td>49</td>\n      <td>1</td>\n      <td>112</td>\n      <td>307</td>\n      <td>12</td>\n      <td>0.866025</td>\n      <td>-0.5</td>\n      <td>31</td>\n      <td>...</td>\n      <td>13.550469</td>\n      <td>248.416775</td>\n      <td>12.538167</td>\n      <td>5.053542</td>\n      <td>-0.108746</td>\n      <td>56766.6770</td>\n      <td>95690001_365</td>\n      <td>0.529919</td>\n      <td>0.848048</td>\n      <td>95690001_365_21</td>\n    </tr>\n    <tr>\n      <th>2846998</th>\n      <td>95690001</td>\n      <td>126</td>\n      <td>49</td>\n      <td>1</td>\n      <td>112</td>\n      <td>307</td>\n      <td>12</td>\n      <td>0.866025</td>\n      <td>-0.5</td>\n      <td>31</td>\n      <td>...</td>\n      <td>10.648723</td>\n      <td>260.030825</td>\n      <td>10.435218</td>\n      <td>1.917787</td>\n      <td>0.099898</td>\n      <td>56781.7755</td>\n      <td>95690001_365</td>\n      <td>0.529919</td>\n      <td>0.848048</td>\n      <td>95690001_365_22</td>\n    </tr>\n    <tr>\n      <th>2846999</th>\n      <td>95690001</td>\n      <td>126</td>\n      <td>49</td>\n      <td>1</td>\n      <td>112</td>\n      <td>307</td>\n      <td>12</td>\n      <td>0.866025</td>\n      <td>-0.5</td>\n      <td>31</td>\n      <td>...</td>\n      <td>9.870132</td>\n      <td>265.658465</td>\n      <td>9.814314</td>\n      <td>0.776295</td>\n      <td>0.083318</td>\n      <td>56788.0900</td>\n      <td>95690001_365</td>\n      <td>0.529919</td>\n      <td>0.848048</td>\n      <td>95690001_365_23</td>\n    </tr>\n  </tbody>\n</table>\n<p>2847000 rows × 109 columns</p>\n</div>"
     },
     "execution_count": 13,
     "metadata": {},
     "output_type": "execute_result"
    }
   ],
   "source": [
    "df2016[\"Id_full\"] = df2016[\"Id\"].astype(str) + \"_\" + df2016[\"hour\"].astype(str)\n",
    "df2016"
   ],
   "metadata": {
    "collapsed": false,
    "pycharm": {
     "name": "#%%\n"
    }
   }
  },
  {
   "cell_type": "code",
   "execution_count": 14,
   "outputs": [
    {
     "data": {
      "text/plain": "         station_id  altitude (m)  latitude  longitude  latitude_idx  \\\n0          86118001           120        46          0           217   \n1          86118001           120        46          0           217   \n2          86118001           120        46          0           217   \n3          86118001           120        46          0           217   \n4          86118001           120        46          0           217   \n...             ...           ...       ...        ...           ...   \n2846995    95690001           126        49          1           112   \n2846996    95690001           126        49          1           112   \n2846997    95690001           126        49          1           112   \n2846998    95690001           126        49          1           112   \n2846999    95690001           126        49          1           112   \n\n         longitude_idx  month  month_cos  month_sin  day  ...  \\\n0                  273      1   1.000000        0.0    2  ...   \n1                  273      1   1.000000        0.0    2  ...   \n2                  273      1   1.000000        0.0    2  ...   \n3                  273      1   1.000000        0.0    2  ...   \n4                  273      1   1.000000        0.0    2  ...   \n...                ...    ...        ...        ...  ...  ...   \n2846995            307     12   0.866025       -0.5   31  ...   \n2846996            307     12   0.866025       -0.5   31  ...   \n2846997            307     12   0.866025       -0.5   31  ...   \n2846998            307     12   0.866025       -0.5   31  ...   \n2846999            307     12   0.866025       -0.5   31  ...   \n\n         3D_Arpege_isobar_500hpa_WindDirection (deg)  \\\n0                                         211.093300   \n1                                         208.350880   \n2                                         213.292970   \n3                                         215.149860   \n4                                         220.657010   \n...                                              ...   \n2846995                                   235.471285   \n2846996                                   244.607675   \n2846997                                   248.416775   \n2846998                                   260.030825   \n2846999                                   265.658465   \n\n         3D_Arpege_isobar_500hpa_WindComponentU (m/s)  \\\n0                                            9.185622   \n1                                            8.552952   \n2                                           10.067105   \n3                                           12.261997   \n4                                           13.676830   \n...                                               ...   \n2846995                                     11.373971   \n2846996                                     12.515270   \n2846997                                     12.538167   \n2846998                                     10.435218   \n2846999                                      9.814314   \n\n         3D_Arpege_isobar_500hpa_WindComponentV (m/s)  \\\n0                                           15.235155   \n1                                           15.852805   \n2                                           15.320419   \n3                                           17.406713   \n4                                           15.925046   \n...                                               ...   \n2846995                                      7.875728   \n2846996                                      5.945273   \n2846997                                      5.053542   \n2846998                                      1.917787   \n2846999                                      0.776295   \n\n         3D_Arpege_isobar_500hpa_VerticalVelocity (Pa/s)  \\\n0                                              -0.607258   \n1                                              -0.464554   \n2                                               0.319423   \n3                                              -0.017849   \n4                                               0.052461   \n...                                                  ...   \n2846995                                        -0.218099   \n2846996                                        -0.152149   \n2846997                                        -0.108746   \n2846998                                         0.099898   \n2846999                                         0.083318   \n\n         3D_Arpege_isobar_500hpa_Geopotential (m^2/s^2)            Id  \\\n0                                            54226.6800    86118001_1   \n1                                            54129.7100    86118001_1   \n2                                            54065.2540    86118001_1   \n3                                            53945.7540    86118001_1   \n4                                            53868.1560    86118001_1   \n...                                                 ...           ...   \n2846995                                      56747.5570  95690001_365   \n2846996                                      56761.2620  95690001_365   \n2846997                                      56766.6770  95690001_365   \n2846998                                      56781.7755  95690001_365   \n2846999                                      56788.0900  95690001_365   \n\n         wind_direction_cos  wind_direction_sin          Id_full  prediction  \n0                 -0.688355           -0.725374     86118001_1_0         0.0  \n1                 -0.688355           -0.725374     86118001_1_1         0.0  \n2                 -0.688355           -0.725374     86118001_1_2         0.0  \n3                 -0.688355           -0.725374     86118001_1_3         0.0  \n4                 -0.688355           -0.725374     86118001_1_4         0.0  \n...                     ...                 ...              ...         ...  \n2846995            0.529919            0.848048  95690001_365_19         0.0  \n2846996            0.529919            0.848048  95690001_365_20         0.0  \n2846997            0.529919            0.848048  95690001_365_21         0.0  \n2846998            0.529919            0.848048  95690001_365_22         0.0  \n2846999            0.529919            0.848048  95690001_365_23         0.0  \n\n[2847000 rows x 110 columns]",
      "text/html": "<div>\n<style scoped>\n    .dataframe tbody tr th:only-of-type {\n        vertical-align: middle;\n    }\n\n    .dataframe tbody tr th {\n        vertical-align: top;\n    }\n\n    .dataframe thead th {\n        text-align: right;\n    }\n</style>\n<table border=\"1\" class=\"dataframe\">\n  <thead>\n    <tr style=\"text-align: right;\">\n      <th></th>\n      <th>station_id</th>\n      <th>altitude (m)</th>\n      <th>latitude</th>\n      <th>longitude</th>\n      <th>latitude_idx</th>\n      <th>longitude_idx</th>\n      <th>month</th>\n      <th>month_cos</th>\n      <th>month_sin</th>\n      <th>day</th>\n      <th>...</th>\n      <th>3D_Arpege_isobar_500hpa_WindDirection (deg)</th>\n      <th>3D_Arpege_isobar_500hpa_WindComponentU (m/s)</th>\n      <th>3D_Arpege_isobar_500hpa_WindComponentV (m/s)</th>\n      <th>3D_Arpege_isobar_500hpa_VerticalVelocity (Pa/s)</th>\n      <th>3D_Arpege_isobar_500hpa_Geopotential (m^2/s^2)</th>\n      <th>Id</th>\n      <th>wind_direction_cos</th>\n      <th>wind_direction_sin</th>\n      <th>Id_full</th>\n      <th>prediction</th>\n    </tr>\n  </thead>\n  <tbody>\n    <tr>\n      <th>0</th>\n      <td>86118001</td>\n      <td>120</td>\n      <td>46</td>\n      <td>0</td>\n      <td>217</td>\n      <td>273</td>\n      <td>1</td>\n      <td>1.000000</td>\n      <td>0.0</td>\n      <td>2</td>\n      <td>...</td>\n      <td>211.093300</td>\n      <td>9.185622</td>\n      <td>15.235155</td>\n      <td>-0.607258</td>\n      <td>54226.6800</td>\n      <td>86118001_1</td>\n      <td>-0.688355</td>\n      <td>-0.725374</td>\n      <td>86118001_1_0</td>\n      <td>0.0</td>\n    </tr>\n    <tr>\n      <th>1</th>\n      <td>86118001</td>\n      <td>120</td>\n      <td>46</td>\n      <td>0</td>\n      <td>217</td>\n      <td>273</td>\n      <td>1</td>\n      <td>1.000000</td>\n      <td>0.0</td>\n      <td>2</td>\n      <td>...</td>\n      <td>208.350880</td>\n      <td>8.552952</td>\n      <td>15.852805</td>\n      <td>-0.464554</td>\n      <td>54129.7100</td>\n      <td>86118001_1</td>\n      <td>-0.688355</td>\n      <td>-0.725374</td>\n      <td>86118001_1_1</td>\n      <td>0.0</td>\n    </tr>\n    <tr>\n      <th>2</th>\n      <td>86118001</td>\n      <td>120</td>\n      <td>46</td>\n      <td>0</td>\n      <td>217</td>\n      <td>273</td>\n      <td>1</td>\n      <td>1.000000</td>\n      <td>0.0</td>\n      <td>2</td>\n      <td>...</td>\n      <td>213.292970</td>\n      <td>10.067105</td>\n      <td>15.320419</td>\n      <td>0.319423</td>\n      <td>54065.2540</td>\n      <td>86118001_1</td>\n      <td>-0.688355</td>\n      <td>-0.725374</td>\n      <td>86118001_1_2</td>\n      <td>0.0</td>\n    </tr>\n    <tr>\n      <th>3</th>\n      <td>86118001</td>\n      <td>120</td>\n      <td>46</td>\n      <td>0</td>\n      <td>217</td>\n      <td>273</td>\n      <td>1</td>\n      <td>1.000000</td>\n      <td>0.0</td>\n      <td>2</td>\n      <td>...</td>\n      <td>215.149860</td>\n      <td>12.261997</td>\n      <td>17.406713</td>\n      <td>-0.017849</td>\n      <td>53945.7540</td>\n      <td>86118001_1</td>\n      <td>-0.688355</td>\n      <td>-0.725374</td>\n      <td>86118001_1_3</td>\n      <td>0.0</td>\n    </tr>\n    <tr>\n      <th>4</th>\n      <td>86118001</td>\n      <td>120</td>\n      <td>46</td>\n      <td>0</td>\n      <td>217</td>\n      <td>273</td>\n      <td>1</td>\n      <td>1.000000</td>\n      <td>0.0</td>\n      <td>2</td>\n      <td>...</td>\n      <td>220.657010</td>\n      <td>13.676830</td>\n      <td>15.925046</td>\n      <td>0.052461</td>\n      <td>53868.1560</td>\n      <td>86118001_1</td>\n      <td>-0.688355</td>\n      <td>-0.725374</td>\n      <td>86118001_1_4</td>\n      <td>0.0</td>\n    </tr>\n    <tr>\n      <th>...</th>\n      <td>...</td>\n      <td>...</td>\n      <td>...</td>\n      <td>...</td>\n      <td>...</td>\n      <td>...</td>\n      <td>...</td>\n      <td>...</td>\n      <td>...</td>\n      <td>...</td>\n      <td>...</td>\n      <td>...</td>\n      <td>...</td>\n      <td>...</td>\n      <td>...</td>\n      <td>...</td>\n      <td>...</td>\n      <td>...</td>\n      <td>...</td>\n      <td>...</td>\n      <td>...</td>\n    </tr>\n    <tr>\n      <th>2846995</th>\n      <td>95690001</td>\n      <td>126</td>\n      <td>49</td>\n      <td>1</td>\n      <td>112</td>\n      <td>307</td>\n      <td>12</td>\n      <td>0.866025</td>\n      <td>-0.5</td>\n      <td>31</td>\n      <td>...</td>\n      <td>235.471285</td>\n      <td>11.373971</td>\n      <td>7.875728</td>\n      <td>-0.218099</td>\n      <td>56747.5570</td>\n      <td>95690001_365</td>\n      <td>0.529919</td>\n      <td>0.848048</td>\n      <td>95690001_365_19</td>\n      <td>0.0</td>\n    </tr>\n    <tr>\n      <th>2846996</th>\n      <td>95690001</td>\n      <td>126</td>\n      <td>49</td>\n      <td>1</td>\n      <td>112</td>\n      <td>307</td>\n      <td>12</td>\n      <td>0.866025</td>\n      <td>-0.5</td>\n      <td>31</td>\n      <td>...</td>\n      <td>244.607675</td>\n      <td>12.515270</td>\n      <td>5.945273</td>\n      <td>-0.152149</td>\n      <td>56761.2620</td>\n      <td>95690001_365</td>\n      <td>0.529919</td>\n      <td>0.848048</td>\n      <td>95690001_365_20</td>\n      <td>0.0</td>\n    </tr>\n    <tr>\n      <th>2846997</th>\n      <td>95690001</td>\n      <td>126</td>\n      <td>49</td>\n      <td>1</td>\n      <td>112</td>\n      <td>307</td>\n      <td>12</td>\n      <td>0.866025</td>\n      <td>-0.5</td>\n      <td>31</td>\n      <td>...</td>\n      <td>248.416775</td>\n      <td>12.538167</td>\n      <td>5.053542</td>\n      <td>-0.108746</td>\n      <td>56766.6770</td>\n      <td>95690001_365</td>\n      <td>0.529919</td>\n      <td>0.848048</td>\n      <td>95690001_365_21</td>\n      <td>0.0</td>\n    </tr>\n    <tr>\n      <th>2846998</th>\n      <td>95690001</td>\n      <td>126</td>\n      <td>49</td>\n      <td>1</td>\n      <td>112</td>\n      <td>307</td>\n      <td>12</td>\n      <td>0.866025</td>\n      <td>-0.5</td>\n      <td>31</td>\n      <td>...</td>\n      <td>260.030825</td>\n      <td>10.435218</td>\n      <td>1.917787</td>\n      <td>0.099898</td>\n      <td>56781.7755</td>\n      <td>95690001_365</td>\n      <td>0.529919</td>\n      <td>0.848048</td>\n      <td>95690001_365_22</td>\n      <td>0.0</td>\n    </tr>\n    <tr>\n      <th>2846999</th>\n      <td>95690001</td>\n      <td>126</td>\n      <td>49</td>\n      <td>1</td>\n      <td>112</td>\n      <td>307</td>\n      <td>12</td>\n      <td>0.866025</td>\n      <td>-0.5</td>\n      <td>31</td>\n      <td>...</td>\n      <td>265.658465</td>\n      <td>9.814314</td>\n      <td>0.776295</td>\n      <td>0.083318</td>\n      <td>56788.0900</td>\n      <td>95690001_365</td>\n      <td>0.529919</td>\n      <td>0.848048</td>\n      <td>95690001_365_23</td>\n      <td>0.0</td>\n    </tr>\n  </tbody>\n</table>\n<p>2847000 rows × 110 columns</p>\n</div>"
     },
     "execution_count": 14,
     "metadata": {},
     "output_type": "execute_result"
    }
   ],
   "source": [
    "df2016 = df2016.merge(df, how=\"left\", on=\"Id_full\",)\n",
    "df2016"
   ],
   "metadata": {
    "collapsed": false,
    "pycharm": {
     "name": "#%%\n"
    }
   }
  },
  {
   "cell_type": "code",
   "execution_count": 15,
   "outputs": [],
   "source": [
    "cols = list(df2016.columns)\n",
    "for c in [\"Id\", \"Id_full\", \"prediction\",\"current hour precipitations (kg/m^2)\",\"next hour precipitation (kg/m^2)\", \"wind_direction_cos\", \"wind_direction_sin\", \"station_id\",\"altitude (m)\",\"latitude\",\"longitude\",\"latitude_idx\",\"longitude_idx\",\"month\",\"month_cos\",\"month_sin\",\"day\",\"hour\",\"hour_cos\",\"hour_sin\",\"wind_speed (m/s)\",\"wind_direction (deg)\",\"wind_component_u (m/s)\",\"wind_component_v (m/s)\"] :\n",
    "    if c in cols :\n",
    "        cols.remove(c)\n",
    "    else :\n",
    "        print(c)"
   ],
   "metadata": {
    "collapsed": false,
    "pycharm": {
     "name": "#%%\n"
    }
   }
  },
  {
   "cell_type": "code",
   "execution_count": 16,
   "outputs": [],
   "source": [
    "cols = [\"Id\", \"Id_full\",\"station_id\",\"altitude (m)\",\"latitude\",\"longitude\",\"latitude_idx\",\"longitude_idx\",\"month\",\"month_cos\",\"month_sin\",\"day\",\"hour\",\"hour_cos\",\"hour_sin\", \"prediction\",\"current hour precipitations (kg/m^2)\",\"next hour precipitation (kg/m^2)\", \"wind_direction_cos\", \"wind_direction_sin\",\"wind_speed (m/s)\",\"wind_direction (deg)\",\"wind_component_u (m/s)\",\"wind_component_v (m/s)\"] + cols"
   ],
   "metadata": {
    "collapsed": false,
    "pycharm": {
     "name": "#%%\n"
    }
   }
  },
  {
   "cell_type": "code",
   "execution_count": 17,
   "outputs": [],
   "source": [
    "df2016 = df2016[cols]"
   ],
   "metadata": {
    "collapsed": false,
    "pycharm": {
     "name": "#%%\n"
    }
   }
  },
  {
   "cell_type": "code",
   "execution_count": 18,
   "outputs": [],
   "source": [
    "del df2016[\"Id_full\"]"
   ],
   "metadata": {
    "collapsed": false,
    "pycharm": {
     "name": "#%%\n"
    }
   }
  },
  {
   "cell_type": "code",
   "execution_count": 19,
   "outputs": [
    {
     "data": {
      "text/plain": "                   Id  station_id  altitude (m)  latitude  longitude  \\\n0          86118001_1    86118001           120        46          0   \n1          86118001_1    86118001           120        46          0   \n2          86118001_1    86118001           120        46          0   \n3          86118001_1    86118001           120        46          0   \n4          86118001_1    86118001           120        46          0   \n...               ...         ...           ...       ...        ...   \n2846995  95690001_365    95690001           126        49          1   \n2846996  95690001_365    95690001           126        49          1   \n2846997  95690001_365    95690001           126        49          1   \n2846998  95690001_365    95690001           126        49          1   \n2846999  95690001_365    95690001           126        49          1   \n\n         latitude_idx  longitude_idx  month  month_cos  month_sin  ...  \\\n0                 217            273      1   1.000000        0.0  ...   \n1                 217            273      1   1.000000        0.0  ...   \n2                 217            273      1   1.000000        0.0  ...   \n3                 217            273      1   1.000000        0.0  ...   \n4                 217            273      1   1.000000        0.0  ...   \n...               ...            ...    ...        ...        ...  ...   \n2846995           112            307     12   0.866025       -0.5  ...   \n2846996           112            307     12   0.866025       -0.5  ...   \n2846997           112            307     12   0.866025       -0.5  ...   \n2846998           112            307     12   0.866025       -0.5  ...   \n2846999           112            307     12   0.866025       -0.5  ...   \n\n         3D_Arpege_isobar_600hpa_VerticalVelocity (Pa/s)  \\\n0                                              -1.175103   \n1                                              -0.644209   \n2                                              -0.387046   \n3                                               0.100895   \n4                                               0.181133   \n...                                                  ...   \n2846995                                         0.084614   \n2846996                                         0.072862   \n2846997                                         0.067116   \n2846998                                         0.045537   \n2846999                                         0.036397   \n\n         3D_Arpege_isobar_600hpa_Geopotential (m^2/s^2)  \\\n0                                            40876.9000   \n1                                            40814.8870   \n2                                            40782.1560   \n3                                            40698.1330   \n4                                            40663.4920   \n...                                                 ...   \n2846995                                      42742.9430   \n2846996                                      42761.4450   \n2846997                                      42764.9025   \n2846998                                      42755.0300   \n2846999                                      42778.0570   \n\n         3D_Arpege_isobar_500hpa_Temperature (K)  \\\n0                                     250.207230   \n1                                     249.206440   \n2                                     248.492220   \n3                                     247.781270   \n4                                     246.583470   \n...                                          ...   \n2846995                               262.650085   \n2846996                               262.851320   \n2846997                               262.947210   \n2846998                               263.296975   \n2846999                               263.107225   \n\n         3D_Arpege_isobar_500hpa_RelavtiveHumidity (%)  \\\n0                                           100.000404   \n1                                            98.718750   \n2                                            45.420456   \n3                                            43.513460   \n4                                            33.328125   \n...                                                ...   \n2846995                                      83.527902   \n2846996                                      81.203030   \n2846997                                      74.044660   \n2846998                                      22.528765   \n2846999                                      15.242555   \n\n         3D_Arpege_isobar_500hpa_WindSpeed (m/s)  \\\n0                                      17.790064   \n1                                      18.012522   \n2                                      18.335869   \n3                                      21.294657   \n4                                      20.992092   \n...                                          ...   \n2846995                                14.114431   \n2846996                                13.959733   \n2846997                                13.550469   \n2846998                                10.648723   \n2846999                                 9.870132   \n\n         3D_Arpege_isobar_500hpa_WindDirection (deg)  \\\n0                                         211.093300   \n1                                         208.350880   \n2                                         213.292970   \n3                                         215.149860   \n4                                         220.657010   \n...                                              ...   \n2846995                                   235.471285   \n2846996                                   244.607675   \n2846997                                   248.416775   \n2846998                                   260.030825   \n2846999                                   265.658465   \n\n         3D_Arpege_isobar_500hpa_WindComponentU (m/s)  \\\n0                                            9.185622   \n1                                            8.552952   \n2                                           10.067105   \n3                                           12.261997   \n4                                           13.676830   \n...                                               ...   \n2846995                                     11.373971   \n2846996                                     12.515270   \n2846997                                     12.538167   \n2846998                                     10.435218   \n2846999                                      9.814314   \n\n         3D_Arpege_isobar_500hpa_WindComponentV (m/s)  \\\n0                                           15.235155   \n1                                           15.852805   \n2                                           15.320419   \n3                                           17.406713   \n4                                           15.925046   \n...                                               ...   \n2846995                                      7.875728   \n2846996                                      5.945273   \n2846997                                      5.053542   \n2846998                                      1.917787   \n2846999                                      0.776295   \n\n         3D_Arpege_isobar_500hpa_VerticalVelocity (Pa/s)  \\\n0                                              -0.607258   \n1                                              -0.464554   \n2                                               0.319423   \n3                                              -0.017849   \n4                                               0.052461   \n...                                                  ...   \n2846995                                        -0.218099   \n2846996                                        -0.152149   \n2846997                                        -0.108746   \n2846998                                         0.099898   \n2846999                                         0.083318   \n\n         3D_Arpege_isobar_500hpa_Geopotential (m^2/s^2)  \n0                                            54226.6800  \n1                                            54129.7100  \n2                                            54065.2540  \n3                                            53945.7540  \n4                                            53868.1560  \n...                                                 ...  \n2846995                                      56747.5570  \n2846996                                      56761.2620  \n2846997                                      56766.6770  \n2846998                                      56781.7755  \n2846999                                      56788.0900  \n\n[2847000 rows x 109 columns]",
      "text/html": "<div>\n<style scoped>\n    .dataframe tbody tr th:only-of-type {\n        vertical-align: middle;\n    }\n\n    .dataframe tbody tr th {\n        vertical-align: top;\n    }\n\n    .dataframe thead th {\n        text-align: right;\n    }\n</style>\n<table border=\"1\" class=\"dataframe\">\n  <thead>\n    <tr style=\"text-align: right;\">\n      <th></th>\n      <th>Id</th>\n      <th>station_id</th>\n      <th>altitude (m)</th>\n      <th>latitude</th>\n      <th>longitude</th>\n      <th>latitude_idx</th>\n      <th>longitude_idx</th>\n      <th>month</th>\n      <th>month_cos</th>\n      <th>month_sin</th>\n      <th>...</th>\n      <th>3D_Arpege_isobar_600hpa_VerticalVelocity (Pa/s)</th>\n      <th>3D_Arpege_isobar_600hpa_Geopotential (m^2/s^2)</th>\n      <th>3D_Arpege_isobar_500hpa_Temperature (K)</th>\n      <th>3D_Arpege_isobar_500hpa_RelavtiveHumidity (%)</th>\n      <th>3D_Arpege_isobar_500hpa_WindSpeed (m/s)</th>\n      <th>3D_Arpege_isobar_500hpa_WindDirection (deg)</th>\n      <th>3D_Arpege_isobar_500hpa_WindComponentU (m/s)</th>\n      <th>3D_Arpege_isobar_500hpa_WindComponentV (m/s)</th>\n      <th>3D_Arpege_isobar_500hpa_VerticalVelocity (Pa/s)</th>\n      <th>3D_Arpege_isobar_500hpa_Geopotential (m^2/s^2)</th>\n    </tr>\n  </thead>\n  <tbody>\n    <tr>\n      <th>0</th>\n      <td>86118001_1</td>\n      <td>86118001</td>\n      <td>120</td>\n      <td>46</td>\n      <td>0</td>\n      <td>217</td>\n      <td>273</td>\n      <td>1</td>\n      <td>1.000000</td>\n      <td>0.0</td>\n      <td>...</td>\n      <td>-1.175103</td>\n      <td>40876.9000</td>\n      <td>250.207230</td>\n      <td>100.000404</td>\n      <td>17.790064</td>\n      <td>211.093300</td>\n      <td>9.185622</td>\n      <td>15.235155</td>\n      <td>-0.607258</td>\n      <td>54226.6800</td>\n    </tr>\n    <tr>\n      <th>1</th>\n      <td>86118001_1</td>\n      <td>86118001</td>\n      <td>120</td>\n      <td>46</td>\n      <td>0</td>\n      <td>217</td>\n      <td>273</td>\n      <td>1</td>\n      <td>1.000000</td>\n      <td>0.0</td>\n      <td>...</td>\n      <td>-0.644209</td>\n      <td>40814.8870</td>\n      <td>249.206440</td>\n      <td>98.718750</td>\n      <td>18.012522</td>\n      <td>208.350880</td>\n      <td>8.552952</td>\n      <td>15.852805</td>\n      <td>-0.464554</td>\n      <td>54129.7100</td>\n    </tr>\n    <tr>\n      <th>2</th>\n      <td>86118001_1</td>\n      <td>86118001</td>\n      <td>120</td>\n      <td>46</td>\n      <td>0</td>\n      <td>217</td>\n      <td>273</td>\n      <td>1</td>\n      <td>1.000000</td>\n      <td>0.0</td>\n      <td>...</td>\n      <td>-0.387046</td>\n      <td>40782.1560</td>\n      <td>248.492220</td>\n      <td>45.420456</td>\n      <td>18.335869</td>\n      <td>213.292970</td>\n      <td>10.067105</td>\n      <td>15.320419</td>\n      <td>0.319423</td>\n      <td>54065.2540</td>\n    </tr>\n    <tr>\n      <th>3</th>\n      <td>86118001_1</td>\n      <td>86118001</td>\n      <td>120</td>\n      <td>46</td>\n      <td>0</td>\n      <td>217</td>\n      <td>273</td>\n      <td>1</td>\n      <td>1.000000</td>\n      <td>0.0</td>\n      <td>...</td>\n      <td>0.100895</td>\n      <td>40698.1330</td>\n      <td>247.781270</td>\n      <td>43.513460</td>\n      <td>21.294657</td>\n      <td>215.149860</td>\n      <td>12.261997</td>\n      <td>17.406713</td>\n      <td>-0.017849</td>\n      <td>53945.7540</td>\n    </tr>\n    <tr>\n      <th>4</th>\n      <td>86118001_1</td>\n      <td>86118001</td>\n      <td>120</td>\n      <td>46</td>\n      <td>0</td>\n      <td>217</td>\n      <td>273</td>\n      <td>1</td>\n      <td>1.000000</td>\n      <td>0.0</td>\n      <td>...</td>\n      <td>0.181133</td>\n      <td>40663.4920</td>\n      <td>246.583470</td>\n      <td>33.328125</td>\n      <td>20.992092</td>\n      <td>220.657010</td>\n      <td>13.676830</td>\n      <td>15.925046</td>\n      <td>0.052461</td>\n      <td>53868.1560</td>\n    </tr>\n    <tr>\n      <th>...</th>\n      <td>...</td>\n      <td>...</td>\n      <td>...</td>\n      <td>...</td>\n      <td>...</td>\n      <td>...</td>\n      <td>...</td>\n      <td>...</td>\n      <td>...</td>\n      <td>...</td>\n      <td>...</td>\n      <td>...</td>\n      <td>...</td>\n      <td>...</td>\n      <td>...</td>\n      <td>...</td>\n      <td>...</td>\n      <td>...</td>\n      <td>...</td>\n      <td>...</td>\n      <td>...</td>\n    </tr>\n    <tr>\n      <th>2846995</th>\n      <td>95690001_365</td>\n      <td>95690001</td>\n      <td>126</td>\n      <td>49</td>\n      <td>1</td>\n      <td>112</td>\n      <td>307</td>\n      <td>12</td>\n      <td>0.866025</td>\n      <td>-0.5</td>\n      <td>...</td>\n      <td>0.084614</td>\n      <td>42742.9430</td>\n      <td>262.650085</td>\n      <td>83.527902</td>\n      <td>14.114431</td>\n      <td>235.471285</td>\n      <td>11.373971</td>\n      <td>7.875728</td>\n      <td>-0.218099</td>\n      <td>56747.5570</td>\n    </tr>\n    <tr>\n      <th>2846996</th>\n      <td>95690001_365</td>\n      <td>95690001</td>\n      <td>126</td>\n      <td>49</td>\n      <td>1</td>\n      <td>112</td>\n      <td>307</td>\n      <td>12</td>\n      <td>0.866025</td>\n      <td>-0.5</td>\n      <td>...</td>\n      <td>0.072862</td>\n      <td>42761.4450</td>\n      <td>262.851320</td>\n      <td>81.203030</td>\n      <td>13.959733</td>\n      <td>244.607675</td>\n      <td>12.515270</td>\n      <td>5.945273</td>\n      <td>-0.152149</td>\n      <td>56761.2620</td>\n    </tr>\n    <tr>\n      <th>2846997</th>\n      <td>95690001_365</td>\n      <td>95690001</td>\n      <td>126</td>\n      <td>49</td>\n      <td>1</td>\n      <td>112</td>\n      <td>307</td>\n      <td>12</td>\n      <td>0.866025</td>\n      <td>-0.5</td>\n      <td>...</td>\n      <td>0.067116</td>\n      <td>42764.9025</td>\n      <td>262.947210</td>\n      <td>74.044660</td>\n      <td>13.550469</td>\n      <td>248.416775</td>\n      <td>12.538167</td>\n      <td>5.053542</td>\n      <td>-0.108746</td>\n      <td>56766.6770</td>\n    </tr>\n    <tr>\n      <th>2846998</th>\n      <td>95690001_365</td>\n      <td>95690001</td>\n      <td>126</td>\n      <td>49</td>\n      <td>1</td>\n      <td>112</td>\n      <td>307</td>\n      <td>12</td>\n      <td>0.866025</td>\n      <td>-0.5</td>\n      <td>...</td>\n      <td>0.045537</td>\n      <td>42755.0300</td>\n      <td>263.296975</td>\n      <td>22.528765</td>\n      <td>10.648723</td>\n      <td>260.030825</td>\n      <td>10.435218</td>\n      <td>1.917787</td>\n      <td>0.099898</td>\n      <td>56781.7755</td>\n    </tr>\n    <tr>\n      <th>2846999</th>\n      <td>95690001_365</td>\n      <td>95690001</td>\n      <td>126</td>\n      <td>49</td>\n      <td>1</td>\n      <td>112</td>\n      <td>307</td>\n      <td>12</td>\n      <td>0.866025</td>\n      <td>-0.5</td>\n      <td>...</td>\n      <td>0.036397</td>\n      <td>42778.0570</td>\n      <td>263.107225</td>\n      <td>15.242555</td>\n      <td>9.870132</td>\n      <td>265.658465</td>\n      <td>9.814314</td>\n      <td>0.776295</td>\n      <td>0.083318</td>\n      <td>56788.0900</td>\n    </tr>\n  </tbody>\n</table>\n<p>2847000 rows × 109 columns</p>\n</div>"
     },
     "execution_count": 19,
     "metadata": {},
     "output_type": "execute_result"
    }
   ],
   "source": [
    "df2016"
   ],
   "metadata": {
    "collapsed": false,
    "pycharm": {
     "name": "#%%\n"
    }
   }
  },
  {
   "cell_type": "code",
   "execution_count": 20,
   "outputs": [
    {
     "name": "stdout",
     "output_type": "stream",
     "text": [
      "nb of entry in df2017 before removing nans : 2847000\n",
      "nb of entry in df2017 after removing nans : 2847000\n",
      "removed : 0.0 %\n"
     ]
    }
   ],
   "source": [
    "print(\"nb of entry in df2017 before removing nans :\", old_len := len(df2016))\n",
    "df2016 = df2016.dropna(axis=0, how=\"any\")\n",
    "print(\"nb of entry in df2017 after removing nans :\", new_len := len(df2016))\n",
    "print(\"removed :\",round((new_len - old_len)/new_len*100,2),\"%\")"
   ],
   "metadata": {
    "collapsed": false,
    "pycharm": {
     "name": "#%%\n"
    }
   }
  },
  {
   "cell_type": "code",
   "execution_count": 21,
   "outputs": [],
   "source": [
    "df2016.to_csv(\"./X_all_2016_final.zip\")"
   ],
   "metadata": {
    "collapsed": false,
    "pycharm": {
     "name": "#%%\n"
    }
   }
  },
  {
   "cell_type": "code",
   "execution_count": 22,
   "outputs": [],
   "source": [
    "del df2016"
   ],
   "metadata": {
    "collapsed": false,
    "pycharm": {
     "name": "#%%\n"
    }
   }
  },
  {
   "cell_type": "markdown",
   "source": [
    "# merge with 2017"
   ],
   "metadata": {
    "collapsed": false
   }
  },
  {
   "cell_type": "code",
   "execution_count": 10,
   "outputs": [
    {
     "name": "stdout",
     "output_type": "stream",
     "text": [
      "<class 'pandas.core.frame.DataFrame'>\n",
      "RangeIndex: 2609306 entries, 0 to 2609305\n",
      "Columns: 109 entries, Unnamed: 0 to wind_direction_sin\n",
      "dtypes: float64(98), int64(10), object(1)\n",
      "memory usage: 2.1+ GB\n",
      "None\n",
      "\n",
      "\n"
     ]
    },
    {
     "data": {
      "text/plain": "   Unnamed: 0  station_id  altitude (m)  latitude  longitude  latitude_idx  \\\n0           0    86118001           120        46          0           217   \n1           1    86118001           120        46          0           217   \n2           2    86118001           120        46          0           217   \n3           3    86118001           120        46          0           217   \n4           4    86118001           120        46          0           217   \n\n   longitude_idx  month  month_cos  month_sin  ...  \\\n0            273      1        1.0        0.0  ...   \n1            273      1        1.0        0.0  ...   \n2            273      1        1.0        0.0  ...   \n3            273      1        1.0        0.0  ...   \n4            273      1        1.0        0.0  ...   \n\n   3D_Arpege_isobar_500hpa_RelavtiveHumidity (%)  \\\n0                                      42.759426   \n1                                      45.702080   \n2                                      52.035694   \n3                                      53.431810   \n4                                      53.002120   \n\n   3D_Arpege_isobar_500hpa_WindSpeed (m/s)  \\\n0                                 5.975164   \n1                                 6.045157   \n2                                 6.358003   \n3                                 6.715887   \n4                                 7.275373   \n\n   3D_Arpege_isobar_500hpa_WindDirection (deg)  \\\n0                                    316.96954   \n1                                    309.94705   \n2                                    304.65793   \n3                                    297.38170   \n4                                    290.83234   \n\n   3D_Arpege_isobar_500hpa_WindComponentU (m/s)  \\\n0                                      4.078451   \n1                                      4.635465   \n2                                      5.229194   \n3                                      5.962841   \n4                                      6.801197   \n\n   3D_Arpege_isobar_500hpa_WindComponentV (m/s)  \\\n0                                     -4.367962   \n1                                     -3.884725   \n2                                     -3.618646   \n3                                     -3.093526   \n4                                     -2.588032   \n\n   3D_Arpege_isobar_500hpa_VerticalVelocity (Pa/s)  \\\n0                                         0.142121   \n1                                        -0.048366   \n2                                        -0.081588   \n3                                         0.070717   \n4                                         0.064122   \n\n   3D_Arpege_isobar_500hpa_Geopotential (m^2/s^2)            Id  \\\n0                                       55587.668  86118001_366   \n1                                       55537.383  86118001_366   \n2                                       55472.984  86118001_366   \n3                                       55397.582  86118001_366   \n4                                       55333.258  86118001_366   \n\n   wind_direction_cos  wind_direction_sin  \n0           -0.993572           -0.113203  \n1           -0.993572           -0.113203  \n2           -0.993572           -0.113203  \n3           -0.993572           -0.113203  \n4           -0.993572           -0.113203  \n\n[5 rows x 109 columns]",
      "text/html": "<div>\n<style scoped>\n    .dataframe tbody tr th:only-of-type {\n        vertical-align: middle;\n    }\n\n    .dataframe tbody tr th {\n        vertical-align: top;\n    }\n\n    .dataframe thead th {\n        text-align: right;\n    }\n</style>\n<table border=\"1\" class=\"dataframe\">\n  <thead>\n    <tr style=\"text-align: right;\">\n      <th></th>\n      <th>Unnamed: 0</th>\n      <th>station_id</th>\n      <th>altitude (m)</th>\n      <th>latitude</th>\n      <th>longitude</th>\n      <th>latitude_idx</th>\n      <th>longitude_idx</th>\n      <th>month</th>\n      <th>month_cos</th>\n      <th>month_sin</th>\n      <th>...</th>\n      <th>3D_Arpege_isobar_500hpa_RelavtiveHumidity (%)</th>\n      <th>3D_Arpege_isobar_500hpa_WindSpeed (m/s)</th>\n      <th>3D_Arpege_isobar_500hpa_WindDirection (deg)</th>\n      <th>3D_Arpege_isobar_500hpa_WindComponentU (m/s)</th>\n      <th>3D_Arpege_isobar_500hpa_WindComponentV (m/s)</th>\n      <th>3D_Arpege_isobar_500hpa_VerticalVelocity (Pa/s)</th>\n      <th>3D_Arpege_isobar_500hpa_Geopotential (m^2/s^2)</th>\n      <th>Id</th>\n      <th>wind_direction_cos</th>\n      <th>wind_direction_sin</th>\n    </tr>\n  </thead>\n  <tbody>\n    <tr>\n      <th>0</th>\n      <td>0</td>\n      <td>86118001</td>\n      <td>120</td>\n      <td>46</td>\n      <td>0</td>\n      <td>217</td>\n      <td>273</td>\n      <td>1</td>\n      <td>1.0</td>\n      <td>0.0</td>\n      <td>...</td>\n      <td>42.759426</td>\n      <td>5.975164</td>\n      <td>316.96954</td>\n      <td>4.078451</td>\n      <td>-4.367962</td>\n      <td>0.142121</td>\n      <td>55587.668</td>\n      <td>86118001_366</td>\n      <td>-0.993572</td>\n      <td>-0.113203</td>\n    </tr>\n    <tr>\n      <th>1</th>\n      <td>1</td>\n      <td>86118001</td>\n      <td>120</td>\n      <td>46</td>\n      <td>0</td>\n      <td>217</td>\n      <td>273</td>\n      <td>1</td>\n      <td>1.0</td>\n      <td>0.0</td>\n      <td>...</td>\n      <td>45.702080</td>\n      <td>6.045157</td>\n      <td>309.94705</td>\n      <td>4.635465</td>\n      <td>-3.884725</td>\n      <td>-0.048366</td>\n      <td>55537.383</td>\n      <td>86118001_366</td>\n      <td>-0.993572</td>\n      <td>-0.113203</td>\n    </tr>\n    <tr>\n      <th>2</th>\n      <td>2</td>\n      <td>86118001</td>\n      <td>120</td>\n      <td>46</td>\n      <td>0</td>\n      <td>217</td>\n      <td>273</td>\n      <td>1</td>\n      <td>1.0</td>\n      <td>0.0</td>\n      <td>...</td>\n      <td>52.035694</td>\n      <td>6.358003</td>\n      <td>304.65793</td>\n      <td>5.229194</td>\n      <td>-3.618646</td>\n      <td>-0.081588</td>\n      <td>55472.984</td>\n      <td>86118001_366</td>\n      <td>-0.993572</td>\n      <td>-0.113203</td>\n    </tr>\n    <tr>\n      <th>3</th>\n      <td>3</td>\n      <td>86118001</td>\n      <td>120</td>\n      <td>46</td>\n      <td>0</td>\n      <td>217</td>\n      <td>273</td>\n      <td>1</td>\n      <td>1.0</td>\n      <td>0.0</td>\n      <td>...</td>\n      <td>53.431810</td>\n      <td>6.715887</td>\n      <td>297.38170</td>\n      <td>5.962841</td>\n      <td>-3.093526</td>\n      <td>0.070717</td>\n      <td>55397.582</td>\n      <td>86118001_366</td>\n      <td>-0.993572</td>\n      <td>-0.113203</td>\n    </tr>\n    <tr>\n      <th>4</th>\n      <td>4</td>\n      <td>86118001</td>\n      <td>120</td>\n      <td>46</td>\n      <td>0</td>\n      <td>217</td>\n      <td>273</td>\n      <td>1</td>\n      <td>1.0</td>\n      <td>0.0</td>\n      <td>...</td>\n      <td>53.002120</td>\n      <td>7.275373</td>\n      <td>290.83234</td>\n      <td>6.801197</td>\n      <td>-2.588032</td>\n      <td>0.064122</td>\n      <td>55333.258</td>\n      <td>86118001_366</td>\n      <td>-0.993572</td>\n      <td>-0.113203</td>\n    </tr>\n  </tbody>\n</table>\n<p>5 rows × 109 columns</p>\n</div>"
     },
     "execution_count": 10,
     "metadata": {},
     "output_type": "execute_result"
    }
   ],
   "source": [
    "df2017 = pd.read_csv(\"X_all_2017_imputed.zip\")\n",
    "print(df2017.info())\n",
    "print(\"\\n\")\n",
    "df2017.head(5)"
   ],
   "metadata": {
    "collapsed": false,
    "pycharm": {
     "name": "#%%\n"
    }
   }
  },
  {
   "cell_type": "code",
   "execution_count": 11,
   "outputs": [],
   "source": [
    "del df2017[\"Unnamed: 0\"]"
   ],
   "metadata": {
    "collapsed": false,
    "pycharm": {
     "name": "#%%\n"
    }
   }
  },
  {
   "cell_type": "code",
   "execution_count": 12,
   "outputs": [
    {
     "data": {
      "text/plain": "         station_id  altitude (m)  latitude  longitude  latitude_idx  \\\n0          86118001           120        46          0           217   \n1          86118001           120        46          0           217   \n2          86118001           120        46          0           217   \n3          86118001           120        46          0           217   \n4          86118001           120        46          0           217   \n...             ...           ...       ...        ...           ...   \n2609301    95690001           126        49          1           112   \n2609302    95690001           126        49          1           112   \n2609303    95690001           126        49          1           112   \n2609304    95690001           126        49          1           112   \n2609305    95690001           126        49          1           112   \n\n         longitude_idx  month  month_cos  month_sin  day  ...  \\\n0                  273      1   1.000000        0.0    1  ...   \n1                  273      1   1.000000        0.0    1  ...   \n2                  273      1   1.000000        0.0    1  ...   \n3                  273      1   1.000000        0.0    1  ...   \n4                  273      1   1.000000        0.0    1  ...   \n...                ...    ...        ...        ...  ...  ...   \n2609301            307     12   0.866025       -0.5   31  ...   \n2609302            307     12   0.866025       -0.5   31  ...   \n2609303            307     12   0.866025       -0.5   31  ...   \n2609304            307     12   0.866025       -0.5   31  ...   \n2609305            307     12   0.866025       -0.5   31  ...   \n\n         3D_Arpege_isobar_500hpa_WindSpeed (m/s)  \\\n0                                       5.975164   \n1                                       6.045157   \n2                                       6.358003   \n3                                       6.715887   \n4                                       7.275373   \n...                                          ...   \n2609301                                31.740730   \n2609302                                29.927760   \n2609303                                30.037146   \n2609304                                30.356890   \n2609305                                30.466276   \n\n         3D_Arpege_isobar_500hpa_WindDirection (deg)  \\\n0                                          316.96954   \n1                                          309.94705   \n2                                          304.65793   \n3                                          297.38170   \n4                                          290.83234   \n...                                              ...   \n2609301                                    240.09735   \n2609302                                    244.68650   \n2609303                                    249.74359   \n2609304                                    264.52588   \n2609305                                    269.58300   \n\n         3D_Arpege_isobar_500hpa_WindComponentU (m/s)  \\\n0                                            4.078451   \n1                                            4.635465   \n2                                            5.229194   \n3                                            5.962841   \n4                                            6.801197   \n...                                               ...   \n2609301                                     26.849648   \n2609302                                     27.054330   \n2609303                                     27.746878   \n2609304                                     29.771248   \n2609305                                     30.463795   \n\n         3D_Arpege_isobar_500hpa_WindComponentV (m/s)  \\\n0                                           -4.367962   \n1                                           -3.884725   \n2                                           -3.618646   \n3                                           -3.093526   \n4                                           -2.588032   \n...                                               ...   \n2609301                                     16.052774   \n2609302                                     12.796629   \n2609303                                     10.242420   \n2609304                                      2.776271   \n2609305                                      0.222063   \n\n         3D_Arpege_isobar_500hpa_VerticalVelocity (Pa/s)  \\\n0                                               0.142121   \n1                                              -0.048366   \n2                                              -0.081588   \n3                                               0.070717   \n4                                               0.064122   \n...                                                  ...   \n2609301                                         0.371245   \n2609302                                         0.578458   \n2609303                                         0.566701   \n2609304                                         0.532335   \n2609305                                         0.520578   \n\n         3D_Arpege_isobar_500hpa_Geopotential (m^2/s^2)            Id  \\\n0                                             55587.668  86118001_366   \n1                                             55537.383  86118001_366   \n2                                             55472.984  86118001_366   \n3                                             55397.582  86118001_366   \n4                                             55333.258  86118001_366   \n...                                                 ...           ...   \n2609301                                       52842.984  95690001_730   \n2609302                                       52783.984  95690001_730   \n2609303                                       52781.390  95690001_730   \n2609304                                       52773.810  95690001_730   \n2609305                                       52771.223  95690001_730   \n\n         wind_direction_cos  wind_direction_sin          Id_full  \n0                 -0.993572           -0.113203   86118001_366_0  \n1                 -0.993572           -0.113203   86118001_366_1  \n2                 -0.993572           -0.113203   86118001_366_2  \n3                 -0.993572           -0.113203   86118001_366_3  \n4                 -0.993572           -0.113203   86118001_366_4  \n...                     ...                 ...              ...  \n2609301           -0.725374           -0.688355  95690001_730_19  \n2609302           -0.725374           -0.688355  95690001_730_20  \n2609303           -0.725374           -0.688355  95690001_730_21  \n2609304           -0.725374           -0.688355  95690001_730_22  \n2609305           -0.725374           -0.688355  95690001_730_23  \n\n[2609306 rows x 109 columns]",
      "text/html": "<div>\n<style scoped>\n    .dataframe tbody tr th:only-of-type {\n        vertical-align: middle;\n    }\n\n    .dataframe tbody tr th {\n        vertical-align: top;\n    }\n\n    .dataframe thead th {\n        text-align: right;\n    }\n</style>\n<table border=\"1\" class=\"dataframe\">\n  <thead>\n    <tr style=\"text-align: right;\">\n      <th></th>\n      <th>station_id</th>\n      <th>altitude (m)</th>\n      <th>latitude</th>\n      <th>longitude</th>\n      <th>latitude_idx</th>\n      <th>longitude_idx</th>\n      <th>month</th>\n      <th>month_cos</th>\n      <th>month_sin</th>\n      <th>day</th>\n      <th>...</th>\n      <th>3D_Arpege_isobar_500hpa_WindSpeed (m/s)</th>\n      <th>3D_Arpege_isobar_500hpa_WindDirection (deg)</th>\n      <th>3D_Arpege_isobar_500hpa_WindComponentU (m/s)</th>\n      <th>3D_Arpege_isobar_500hpa_WindComponentV (m/s)</th>\n      <th>3D_Arpege_isobar_500hpa_VerticalVelocity (Pa/s)</th>\n      <th>3D_Arpege_isobar_500hpa_Geopotential (m^2/s^2)</th>\n      <th>Id</th>\n      <th>wind_direction_cos</th>\n      <th>wind_direction_sin</th>\n      <th>Id_full</th>\n    </tr>\n  </thead>\n  <tbody>\n    <tr>\n      <th>0</th>\n      <td>86118001</td>\n      <td>120</td>\n      <td>46</td>\n      <td>0</td>\n      <td>217</td>\n      <td>273</td>\n      <td>1</td>\n      <td>1.000000</td>\n      <td>0.0</td>\n      <td>1</td>\n      <td>...</td>\n      <td>5.975164</td>\n      <td>316.96954</td>\n      <td>4.078451</td>\n      <td>-4.367962</td>\n      <td>0.142121</td>\n      <td>55587.668</td>\n      <td>86118001_366</td>\n      <td>-0.993572</td>\n      <td>-0.113203</td>\n      <td>86118001_366_0</td>\n    </tr>\n    <tr>\n      <th>1</th>\n      <td>86118001</td>\n      <td>120</td>\n      <td>46</td>\n      <td>0</td>\n      <td>217</td>\n      <td>273</td>\n      <td>1</td>\n      <td>1.000000</td>\n      <td>0.0</td>\n      <td>1</td>\n      <td>...</td>\n      <td>6.045157</td>\n      <td>309.94705</td>\n      <td>4.635465</td>\n      <td>-3.884725</td>\n      <td>-0.048366</td>\n      <td>55537.383</td>\n      <td>86118001_366</td>\n      <td>-0.993572</td>\n      <td>-0.113203</td>\n      <td>86118001_366_1</td>\n    </tr>\n    <tr>\n      <th>2</th>\n      <td>86118001</td>\n      <td>120</td>\n      <td>46</td>\n      <td>0</td>\n      <td>217</td>\n      <td>273</td>\n      <td>1</td>\n      <td>1.000000</td>\n      <td>0.0</td>\n      <td>1</td>\n      <td>...</td>\n      <td>6.358003</td>\n      <td>304.65793</td>\n      <td>5.229194</td>\n      <td>-3.618646</td>\n      <td>-0.081588</td>\n      <td>55472.984</td>\n      <td>86118001_366</td>\n      <td>-0.993572</td>\n      <td>-0.113203</td>\n      <td>86118001_366_2</td>\n    </tr>\n    <tr>\n      <th>3</th>\n      <td>86118001</td>\n      <td>120</td>\n      <td>46</td>\n      <td>0</td>\n      <td>217</td>\n      <td>273</td>\n      <td>1</td>\n      <td>1.000000</td>\n      <td>0.0</td>\n      <td>1</td>\n      <td>...</td>\n      <td>6.715887</td>\n      <td>297.38170</td>\n      <td>5.962841</td>\n      <td>-3.093526</td>\n      <td>0.070717</td>\n      <td>55397.582</td>\n      <td>86118001_366</td>\n      <td>-0.993572</td>\n      <td>-0.113203</td>\n      <td>86118001_366_3</td>\n    </tr>\n    <tr>\n      <th>4</th>\n      <td>86118001</td>\n      <td>120</td>\n      <td>46</td>\n      <td>0</td>\n      <td>217</td>\n      <td>273</td>\n      <td>1</td>\n      <td>1.000000</td>\n      <td>0.0</td>\n      <td>1</td>\n      <td>...</td>\n      <td>7.275373</td>\n      <td>290.83234</td>\n      <td>6.801197</td>\n      <td>-2.588032</td>\n      <td>0.064122</td>\n      <td>55333.258</td>\n      <td>86118001_366</td>\n      <td>-0.993572</td>\n      <td>-0.113203</td>\n      <td>86118001_366_4</td>\n    </tr>\n    <tr>\n      <th>...</th>\n      <td>...</td>\n      <td>...</td>\n      <td>...</td>\n      <td>...</td>\n      <td>...</td>\n      <td>...</td>\n      <td>...</td>\n      <td>...</td>\n      <td>...</td>\n      <td>...</td>\n      <td>...</td>\n      <td>...</td>\n      <td>...</td>\n      <td>...</td>\n      <td>...</td>\n      <td>...</td>\n      <td>...</td>\n      <td>...</td>\n      <td>...</td>\n      <td>...</td>\n      <td>...</td>\n    </tr>\n    <tr>\n      <th>2609301</th>\n      <td>95690001</td>\n      <td>126</td>\n      <td>49</td>\n      <td>1</td>\n      <td>112</td>\n      <td>307</td>\n      <td>12</td>\n      <td>0.866025</td>\n      <td>-0.5</td>\n      <td>31</td>\n      <td>...</td>\n      <td>31.740730</td>\n      <td>240.09735</td>\n      <td>26.849648</td>\n      <td>16.052774</td>\n      <td>0.371245</td>\n      <td>52842.984</td>\n      <td>95690001_730</td>\n      <td>-0.725374</td>\n      <td>-0.688355</td>\n      <td>95690001_730_19</td>\n    </tr>\n    <tr>\n      <th>2609302</th>\n      <td>95690001</td>\n      <td>126</td>\n      <td>49</td>\n      <td>1</td>\n      <td>112</td>\n      <td>307</td>\n      <td>12</td>\n      <td>0.866025</td>\n      <td>-0.5</td>\n      <td>31</td>\n      <td>...</td>\n      <td>29.927760</td>\n      <td>244.68650</td>\n      <td>27.054330</td>\n      <td>12.796629</td>\n      <td>0.578458</td>\n      <td>52783.984</td>\n      <td>95690001_730</td>\n      <td>-0.725374</td>\n      <td>-0.688355</td>\n      <td>95690001_730_20</td>\n    </tr>\n    <tr>\n      <th>2609303</th>\n      <td>95690001</td>\n      <td>126</td>\n      <td>49</td>\n      <td>1</td>\n      <td>112</td>\n      <td>307</td>\n      <td>12</td>\n      <td>0.866025</td>\n      <td>-0.5</td>\n      <td>31</td>\n      <td>...</td>\n      <td>30.037146</td>\n      <td>249.74359</td>\n      <td>27.746878</td>\n      <td>10.242420</td>\n      <td>0.566701</td>\n      <td>52781.390</td>\n      <td>95690001_730</td>\n      <td>-0.725374</td>\n      <td>-0.688355</td>\n      <td>95690001_730_21</td>\n    </tr>\n    <tr>\n      <th>2609304</th>\n      <td>95690001</td>\n      <td>126</td>\n      <td>49</td>\n      <td>1</td>\n      <td>112</td>\n      <td>307</td>\n      <td>12</td>\n      <td>0.866025</td>\n      <td>-0.5</td>\n      <td>31</td>\n      <td>...</td>\n      <td>30.356890</td>\n      <td>264.52588</td>\n      <td>29.771248</td>\n      <td>2.776271</td>\n      <td>0.532335</td>\n      <td>52773.810</td>\n      <td>95690001_730</td>\n      <td>-0.725374</td>\n      <td>-0.688355</td>\n      <td>95690001_730_22</td>\n    </tr>\n    <tr>\n      <th>2609305</th>\n      <td>95690001</td>\n      <td>126</td>\n      <td>49</td>\n      <td>1</td>\n      <td>112</td>\n      <td>307</td>\n      <td>12</td>\n      <td>0.866025</td>\n      <td>-0.5</td>\n      <td>31</td>\n      <td>...</td>\n      <td>30.466276</td>\n      <td>269.58300</td>\n      <td>30.463795</td>\n      <td>0.222063</td>\n      <td>0.520578</td>\n      <td>52771.223</td>\n      <td>95690001_730</td>\n      <td>-0.725374</td>\n      <td>-0.688355</td>\n      <td>95690001_730_23</td>\n    </tr>\n  </tbody>\n</table>\n<p>2609306 rows × 109 columns</p>\n</div>"
     },
     "execution_count": 12,
     "metadata": {},
     "output_type": "execute_result"
    }
   ],
   "source": [
    "df2017[\"Id_full\"] = df2017[\"Id\"].astype(str) + \"_\" + df2017[\"hour\"].astype(str)\n",
    "df2017"
   ],
   "metadata": {
    "collapsed": false,
    "pycharm": {
     "name": "#%%\n"
    }
   }
  },
  {
   "cell_type": "code",
   "execution_count": 13,
   "outputs": [
    {
     "data": {
      "text/plain": "         station_id  altitude (m)  latitude  longitude  latitude_idx  \\\n0          86118001           120        46          0           217   \n1          86118001           120        46          0           217   \n2          86118001           120        46          0           217   \n3          86118001           120        46          0           217   \n4          86118001           120        46          0           217   \n...             ...           ...       ...        ...           ...   \n2609301    95690001           126        49          1           112   \n2609302    95690001           126        49          1           112   \n2609303    95690001           126        49          1           112   \n2609304    95690001           126        49          1           112   \n2609305    95690001           126        49          1           112   \n\n         longitude_idx  month  month_cos  month_sin  day  ...  \\\n0                  273      1   1.000000        0.0    1  ...   \n1                  273      1   1.000000        0.0    1  ...   \n2                  273      1   1.000000        0.0    1  ...   \n3                  273      1   1.000000        0.0    1  ...   \n4                  273      1   1.000000        0.0    1  ...   \n...                ...    ...        ...        ...  ...  ...   \n2609301            307     12   0.866025       -0.5   31  ...   \n2609302            307     12   0.866025       -0.5   31  ...   \n2609303            307     12   0.866025       -0.5   31  ...   \n2609304            307     12   0.866025       -0.5   31  ...   \n2609305            307     12   0.866025       -0.5   31  ...   \n\n         3D_Arpege_isobar_500hpa_WindDirection (deg)  \\\n0                                          316.96954   \n1                                          309.94705   \n2                                          304.65793   \n3                                          297.38170   \n4                                          290.83234   \n...                                              ...   \n2609301                                    240.09735   \n2609302                                    244.68650   \n2609303                                    249.74359   \n2609304                                    264.52588   \n2609305                                    269.58300   \n\n         3D_Arpege_isobar_500hpa_WindComponentU (m/s)  \\\n0                                            4.078451   \n1                                            4.635465   \n2                                            5.229194   \n3                                            5.962841   \n4                                            6.801197   \n...                                               ...   \n2609301                                     26.849648   \n2609302                                     27.054330   \n2609303                                     27.746878   \n2609304                                     29.771248   \n2609305                                     30.463795   \n\n         3D_Arpege_isobar_500hpa_WindComponentV (m/s)  \\\n0                                           -4.367962   \n1                                           -3.884725   \n2                                           -3.618646   \n3                                           -3.093526   \n4                                           -2.588032   \n...                                               ...   \n2609301                                     16.052774   \n2609302                                     12.796629   \n2609303                                     10.242420   \n2609304                                      2.776271   \n2609305                                      0.222063   \n\n         3D_Arpege_isobar_500hpa_VerticalVelocity (Pa/s)  \\\n0                                               0.142121   \n1                                              -0.048366   \n2                                              -0.081588   \n3                                               0.070717   \n4                                               0.064122   \n...                                                  ...   \n2609301                                         0.371245   \n2609302                                         0.578458   \n2609303                                         0.566701   \n2609304                                         0.532335   \n2609305                                         0.520578   \n\n         3D_Arpege_isobar_500hpa_Geopotential (m^2/s^2)            Id  \\\n0                                             55587.668  86118001_366   \n1                                             55537.383  86118001_366   \n2                                             55472.984  86118001_366   \n3                                             55397.582  86118001_366   \n4                                             55333.258  86118001_366   \n...                                                 ...           ...   \n2609301                                       52842.984  95690001_730   \n2609302                                       52783.984  95690001_730   \n2609303                                       52781.390  95690001_730   \n2609304                                       52773.810  95690001_730   \n2609305                                       52771.223  95690001_730   \n\n         wind_direction_cos  wind_direction_sin          Id_full  prediction  \n0                 -0.993572           -0.113203   86118001_366_0         0.0  \n1                 -0.993572           -0.113203   86118001_366_1         0.0  \n2                 -0.993572           -0.113203   86118001_366_2         0.0  \n3                 -0.993572           -0.113203   86118001_366_3         0.0  \n4                 -0.993572           -0.113203   86118001_366_4         0.0  \n...                     ...                 ...              ...         ...  \n2609301           -0.725374           -0.688355  95690001_730_19         NaN  \n2609302           -0.725374           -0.688355  95690001_730_20         NaN  \n2609303           -0.725374           -0.688355  95690001_730_21         NaN  \n2609304           -0.725374           -0.688355  95690001_730_22         NaN  \n2609305           -0.725374           -0.688355  95690001_730_23         NaN  \n\n[2609306 rows x 110 columns]",
      "text/html": "<div>\n<style scoped>\n    .dataframe tbody tr th:only-of-type {\n        vertical-align: middle;\n    }\n\n    .dataframe tbody tr th {\n        vertical-align: top;\n    }\n\n    .dataframe thead th {\n        text-align: right;\n    }\n</style>\n<table border=\"1\" class=\"dataframe\">\n  <thead>\n    <tr style=\"text-align: right;\">\n      <th></th>\n      <th>station_id</th>\n      <th>altitude (m)</th>\n      <th>latitude</th>\n      <th>longitude</th>\n      <th>latitude_idx</th>\n      <th>longitude_idx</th>\n      <th>month</th>\n      <th>month_cos</th>\n      <th>month_sin</th>\n      <th>day</th>\n      <th>...</th>\n      <th>3D_Arpege_isobar_500hpa_WindDirection (deg)</th>\n      <th>3D_Arpege_isobar_500hpa_WindComponentU (m/s)</th>\n      <th>3D_Arpege_isobar_500hpa_WindComponentV (m/s)</th>\n      <th>3D_Arpege_isobar_500hpa_VerticalVelocity (Pa/s)</th>\n      <th>3D_Arpege_isobar_500hpa_Geopotential (m^2/s^2)</th>\n      <th>Id</th>\n      <th>wind_direction_cos</th>\n      <th>wind_direction_sin</th>\n      <th>Id_full</th>\n      <th>prediction</th>\n    </tr>\n  </thead>\n  <tbody>\n    <tr>\n      <th>0</th>\n      <td>86118001</td>\n      <td>120</td>\n      <td>46</td>\n      <td>0</td>\n      <td>217</td>\n      <td>273</td>\n      <td>1</td>\n      <td>1.000000</td>\n      <td>0.0</td>\n      <td>1</td>\n      <td>...</td>\n      <td>316.96954</td>\n      <td>4.078451</td>\n      <td>-4.367962</td>\n      <td>0.142121</td>\n      <td>55587.668</td>\n      <td>86118001_366</td>\n      <td>-0.993572</td>\n      <td>-0.113203</td>\n      <td>86118001_366_0</td>\n      <td>0.0</td>\n    </tr>\n    <tr>\n      <th>1</th>\n      <td>86118001</td>\n      <td>120</td>\n      <td>46</td>\n      <td>0</td>\n      <td>217</td>\n      <td>273</td>\n      <td>1</td>\n      <td>1.000000</td>\n      <td>0.0</td>\n      <td>1</td>\n      <td>...</td>\n      <td>309.94705</td>\n      <td>4.635465</td>\n      <td>-3.884725</td>\n      <td>-0.048366</td>\n      <td>55537.383</td>\n      <td>86118001_366</td>\n      <td>-0.993572</td>\n      <td>-0.113203</td>\n      <td>86118001_366_1</td>\n      <td>0.0</td>\n    </tr>\n    <tr>\n      <th>2</th>\n      <td>86118001</td>\n      <td>120</td>\n      <td>46</td>\n      <td>0</td>\n      <td>217</td>\n      <td>273</td>\n      <td>1</td>\n      <td>1.000000</td>\n      <td>0.0</td>\n      <td>1</td>\n      <td>...</td>\n      <td>304.65793</td>\n      <td>5.229194</td>\n      <td>-3.618646</td>\n      <td>-0.081588</td>\n      <td>55472.984</td>\n      <td>86118001_366</td>\n      <td>-0.993572</td>\n      <td>-0.113203</td>\n      <td>86118001_366_2</td>\n      <td>0.0</td>\n    </tr>\n    <tr>\n      <th>3</th>\n      <td>86118001</td>\n      <td>120</td>\n      <td>46</td>\n      <td>0</td>\n      <td>217</td>\n      <td>273</td>\n      <td>1</td>\n      <td>1.000000</td>\n      <td>0.0</td>\n      <td>1</td>\n      <td>...</td>\n      <td>297.38170</td>\n      <td>5.962841</td>\n      <td>-3.093526</td>\n      <td>0.070717</td>\n      <td>55397.582</td>\n      <td>86118001_366</td>\n      <td>-0.993572</td>\n      <td>-0.113203</td>\n      <td>86118001_366_3</td>\n      <td>0.0</td>\n    </tr>\n    <tr>\n      <th>4</th>\n      <td>86118001</td>\n      <td>120</td>\n      <td>46</td>\n      <td>0</td>\n      <td>217</td>\n      <td>273</td>\n      <td>1</td>\n      <td>1.000000</td>\n      <td>0.0</td>\n      <td>1</td>\n      <td>...</td>\n      <td>290.83234</td>\n      <td>6.801197</td>\n      <td>-2.588032</td>\n      <td>0.064122</td>\n      <td>55333.258</td>\n      <td>86118001_366</td>\n      <td>-0.993572</td>\n      <td>-0.113203</td>\n      <td>86118001_366_4</td>\n      <td>0.0</td>\n    </tr>\n    <tr>\n      <th>...</th>\n      <td>...</td>\n      <td>...</td>\n      <td>...</td>\n      <td>...</td>\n      <td>...</td>\n      <td>...</td>\n      <td>...</td>\n      <td>...</td>\n      <td>...</td>\n      <td>...</td>\n      <td>...</td>\n      <td>...</td>\n      <td>...</td>\n      <td>...</td>\n      <td>...</td>\n      <td>...</td>\n      <td>...</td>\n      <td>...</td>\n      <td>...</td>\n      <td>...</td>\n      <td>...</td>\n    </tr>\n    <tr>\n      <th>2609301</th>\n      <td>95690001</td>\n      <td>126</td>\n      <td>49</td>\n      <td>1</td>\n      <td>112</td>\n      <td>307</td>\n      <td>12</td>\n      <td>0.866025</td>\n      <td>-0.5</td>\n      <td>31</td>\n      <td>...</td>\n      <td>240.09735</td>\n      <td>26.849648</td>\n      <td>16.052774</td>\n      <td>0.371245</td>\n      <td>52842.984</td>\n      <td>95690001_730</td>\n      <td>-0.725374</td>\n      <td>-0.688355</td>\n      <td>95690001_730_19</td>\n      <td>NaN</td>\n    </tr>\n    <tr>\n      <th>2609302</th>\n      <td>95690001</td>\n      <td>126</td>\n      <td>49</td>\n      <td>1</td>\n      <td>112</td>\n      <td>307</td>\n      <td>12</td>\n      <td>0.866025</td>\n      <td>-0.5</td>\n      <td>31</td>\n      <td>...</td>\n      <td>244.68650</td>\n      <td>27.054330</td>\n      <td>12.796629</td>\n      <td>0.578458</td>\n      <td>52783.984</td>\n      <td>95690001_730</td>\n      <td>-0.725374</td>\n      <td>-0.688355</td>\n      <td>95690001_730_20</td>\n      <td>NaN</td>\n    </tr>\n    <tr>\n      <th>2609303</th>\n      <td>95690001</td>\n      <td>126</td>\n      <td>49</td>\n      <td>1</td>\n      <td>112</td>\n      <td>307</td>\n      <td>12</td>\n      <td>0.866025</td>\n      <td>-0.5</td>\n      <td>31</td>\n      <td>...</td>\n      <td>249.74359</td>\n      <td>27.746878</td>\n      <td>10.242420</td>\n      <td>0.566701</td>\n      <td>52781.390</td>\n      <td>95690001_730</td>\n      <td>-0.725374</td>\n      <td>-0.688355</td>\n      <td>95690001_730_21</td>\n      <td>NaN</td>\n    </tr>\n    <tr>\n      <th>2609304</th>\n      <td>95690001</td>\n      <td>126</td>\n      <td>49</td>\n      <td>1</td>\n      <td>112</td>\n      <td>307</td>\n      <td>12</td>\n      <td>0.866025</td>\n      <td>-0.5</td>\n      <td>31</td>\n      <td>...</td>\n      <td>264.52588</td>\n      <td>29.771248</td>\n      <td>2.776271</td>\n      <td>0.532335</td>\n      <td>52773.810</td>\n      <td>95690001_730</td>\n      <td>-0.725374</td>\n      <td>-0.688355</td>\n      <td>95690001_730_22</td>\n      <td>NaN</td>\n    </tr>\n    <tr>\n      <th>2609305</th>\n      <td>95690001</td>\n      <td>126</td>\n      <td>49</td>\n      <td>1</td>\n      <td>112</td>\n      <td>307</td>\n      <td>12</td>\n      <td>0.866025</td>\n      <td>-0.5</td>\n      <td>31</td>\n      <td>...</td>\n      <td>269.58300</td>\n      <td>30.463795</td>\n      <td>0.222063</td>\n      <td>0.520578</td>\n      <td>52771.223</td>\n      <td>95690001_730</td>\n      <td>-0.725374</td>\n      <td>-0.688355</td>\n      <td>95690001_730_23</td>\n      <td>NaN</td>\n    </tr>\n  </tbody>\n</table>\n<p>2609306 rows × 110 columns</p>\n</div>"
     },
     "execution_count": 13,
     "metadata": {},
     "output_type": "execute_result"
    }
   ],
   "source": [
    "df2017 = df2017.merge(df, how=\"left\", on=\"Id_full\",)\n",
    "df2017"
   ],
   "metadata": {
    "collapsed": false,
    "pycharm": {
     "name": "#%%\n"
    }
   }
  },
  {
   "cell_type": "code",
   "execution_count": 14,
   "outputs": [],
   "source": [
    "cols = list(df2017.columns)\n",
    "for c in [\"Id\", \"Id_full\", \"prediction\",\"current hour precipitations (kg/m^2)\",\"next hour precipitation (kg/m^2)\", \"wind_direction_cos\", \"wind_direction_sin\", \"station_id\",\"altitude (m)\",\"latitude\",\"longitude\",\"latitude_idx\",\"longitude_idx\",\"month\",\"month_cos\",\"month_sin\",\"day\",\"hour\",\"hour_cos\",\"hour_sin\",\"wind_speed (m/s)\",\"wind_direction (deg)\",\"wind_component_u (m/s)\",\"wind_component_v (m/s)\"] :\n",
    "    if c in cols :\n",
    "        cols.remove(c)\n",
    "    else :\n",
    "        print(c)"
   ],
   "metadata": {
    "collapsed": false,
    "pycharm": {
     "name": "#%%\n"
    }
   }
  },
  {
   "cell_type": "code",
   "execution_count": 15,
   "outputs": [],
   "source": [
    "cols = [\"Id\", \"Id_full\",\"station_id\",\"altitude (m)\",\"latitude\",\"longitude\",\"latitude_idx\",\"longitude_idx\",\"month\",\"month_cos\",\"month_sin\",\"day\",\"hour\",\"hour_cos\",\"hour_sin\", \"prediction\",\"current hour precipitations (kg/m^2)\",\"next hour precipitation (kg/m^2)\", \"wind_direction_cos\", \"wind_direction_sin\",\"wind_speed (m/s)\",\"wind_direction (deg)\",\"wind_component_u (m/s)\",\"wind_component_v (m/s)\"] + cols"
   ],
   "metadata": {
    "collapsed": false,
    "pycharm": {
     "name": "#%%\n"
    }
   }
  },
  {
   "cell_type": "code",
   "execution_count": 16,
   "outputs": [],
   "source": [
    "df2017 = df2017[cols]"
   ],
   "metadata": {
    "collapsed": false,
    "pycharm": {
     "name": "#%%\n"
    }
   }
  },
  {
   "cell_type": "code",
   "execution_count": 17,
   "outputs": [],
   "source": [
    "del df2017[\"Id_full\"]"
   ],
   "metadata": {
    "collapsed": false,
    "pycharm": {
     "name": "#%%\n"
    }
   }
  },
  {
   "cell_type": "code",
   "execution_count": 18,
   "outputs": [
    {
     "data": {
      "text/plain": "                   Id  station_id  altitude (m)  latitude  longitude  \\\n0        86118001_366    86118001           120        46          0   \n1        86118001_366    86118001           120        46          0   \n2        86118001_366    86118001           120        46          0   \n3        86118001_366    86118001           120        46          0   \n4        86118001_366    86118001           120        46          0   \n...               ...         ...           ...       ...        ...   \n2609301  95690001_730    95690001           126        49          1   \n2609302  95690001_730    95690001           126        49          1   \n2609303  95690001_730    95690001           126        49          1   \n2609304  95690001_730    95690001           126        49          1   \n2609305  95690001_730    95690001           126        49          1   \n\n         latitude_idx  longitude_idx  month  month_cos  month_sin  ...  \\\n0                 217            273      1   1.000000        0.0  ...   \n1                 217            273      1   1.000000        0.0  ...   \n2                 217            273      1   1.000000        0.0  ...   \n3                 217            273      1   1.000000        0.0  ...   \n4                 217            273      1   1.000000        0.0  ...   \n...               ...            ...    ...        ...        ...  ...   \n2609301           112            307     12   0.866025       -0.5  ...   \n2609302           112            307     12   0.866025       -0.5  ...   \n2609303           112            307     12   0.866025       -0.5  ...   \n2609304           112            307     12   0.866025       -0.5  ...   \n2609305           112            307     12   0.866025       -0.5  ...   \n\n         3D_Arpege_isobar_600hpa_VerticalVelocity (Pa/s)  \\\n0                                               0.079983   \n1                                              -0.074762   \n2                                              -0.169430   \n3                                              -0.012015   \n4                                               0.014366   \n...                                                  ...   \n2609301                                         0.173478   \n2609302                                         0.162019   \n2609303                                         0.221380   \n2609304                                         0.394896   \n2609305                                         0.454256   \n\n         3D_Arpege_isobar_600hpa_Geopotential (m^2/s^2)  \\\n0                                             42245.730   \n1                                             42199.535   \n2                                             42140.250   \n3                                             42064.863   \n4                                             41997.496   \n...                                                 ...   \n2609301                                       39788.130   \n2609302                                       39773.210   \n2609303                                       39786.188   \n2609304                                       39824.120   \n2609305                                       39837.100   \n\n         3D_Arpege_isobar_500hpa_Temperature (K)  \\\n0                                      249.76094   \n1                                      249.65944   \n2                                      249.39796   \n3                                      249.36409   \n4                                      249.42436   \n...                                          ...   \n2609301                                244.07333   \n2609302                                242.91550   \n2609303                                242.67664   \n2609304                                241.97844   \n2609305                                241.73960   \n\n         3D_Arpege_isobar_500hpa_RelavtiveHumidity (%)  \\\n0                                            42.759426   \n1                                            45.702080   \n2                                            52.035694   \n3                                            53.431810   \n4                                            53.002120   \n...                                                ...   \n2609301                                      41.395695   \n2609302                                      26.763308   \n2609303                                      25.166044   \n2609304                                      20.497122   \n2609305                                      18.899862   \n\n         3D_Arpege_isobar_500hpa_WindSpeed (m/s)  \\\n0                                       5.975164   \n1                                       6.045157   \n2                                       6.358003   \n3                                       6.715887   \n4                                       7.275373   \n...                                          ...   \n2609301                                31.740730   \n2609302                                29.927760   \n2609303                                30.037146   \n2609304                                30.356890   \n2609305                                30.466276   \n\n         3D_Arpege_isobar_500hpa_WindDirection (deg)  \\\n0                                          316.96954   \n1                                          309.94705   \n2                                          304.65793   \n3                                          297.38170   \n4                                          290.83234   \n...                                              ...   \n2609301                                    240.09735   \n2609302                                    244.68650   \n2609303                                    249.74359   \n2609304                                    264.52588   \n2609305                                    269.58300   \n\n         3D_Arpege_isobar_500hpa_WindComponentU (m/s)  \\\n0                                            4.078451   \n1                                            4.635465   \n2                                            5.229194   \n3                                            5.962841   \n4                                            6.801197   \n...                                               ...   \n2609301                                     26.849648   \n2609302                                     27.054330   \n2609303                                     27.746878   \n2609304                                     29.771248   \n2609305                                     30.463795   \n\n         3D_Arpege_isobar_500hpa_WindComponentV (m/s)  \\\n0                                           -4.367962   \n1                                           -3.884725   \n2                                           -3.618646   \n3                                           -3.093526   \n4                                           -2.588032   \n...                                               ...   \n2609301                                     16.052774   \n2609302                                     12.796629   \n2609303                                     10.242420   \n2609304                                      2.776271   \n2609305                                      0.222063   \n\n         3D_Arpege_isobar_500hpa_VerticalVelocity (Pa/s)  \\\n0                                               0.142121   \n1                                              -0.048366   \n2                                              -0.081588   \n3                                               0.070717   \n4                                               0.064122   \n...                                                  ...   \n2609301                                         0.371245   \n2609302                                         0.578458   \n2609303                                         0.566701   \n2609304                                         0.532335   \n2609305                                         0.520578   \n\n         3D_Arpege_isobar_500hpa_Geopotential (m^2/s^2)  \n0                                             55587.668  \n1                                             55537.383  \n2                                             55472.984  \n3                                             55397.582  \n4                                             55333.258  \n...                                                 ...  \n2609301                                       52842.984  \n2609302                                       52783.984  \n2609303                                       52781.390  \n2609304                                       52773.810  \n2609305                                       52771.223  \n\n[2609306 rows x 109 columns]",
      "text/html": "<div>\n<style scoped>\n    .dataframe tbody tr th:only-of-type {\n        vertical-align: middle;\n    }\n\n    .dataframe tbody tr th {\n        vertical-align: top;\n    }\n\n    .dataframe thead th {\n        text-align: right;\n    }\n</style>\n<table border=\"1\" class=\"dataframe\">\n  <thead>\n    <tr style=\"text-align: right;\">\n      <th></th>\n      <th>Id</th>\n      <th>station_id</th>\n      <th>altitude (m)</th>\n      <th>latitude</th>\n      <th>longitude</th>\n      <th>latitude_idx</th>\n      <th>longitude_idx</th>\n      <th>month</th>\n      <th>month_cos</th>\n      <th>month_sin</th>\n      <th>...</th>\n      <th>3D_Arpege_isobar_600hpa_VerticalVelocity (Pa/s)</th>\n      <th>3D_Arpege_isobar_600hpa_Geopotential (m^2/s^2)</th>\n      <th>3D_Arpege_isobar_500hpa_Temperature (K)</th>\n      <th>3D_Arpege_isobar_500hpa_RelavtiveHumidity (%)</th>\n      <th>3D_Arpege_isobar_500hpa_WindSpeed (m/s)</th>\n      <th>3D_Arpege_isobar_500hpa_WindDirection (deg)</th>\n      <th>3D_Arpege_isobar_500hpa_WindComponentU (m/s)</th>\n      <th>3D_Arpege_isobar_500hpa_WindComponentV (m/s)</th>\n      <th>3D_Arpege_isobar_500hpa_VerticalVelocity (Pa/s)</th>\n      <th>3D_Arpege_isobar_500hpa_Geopotential (m^2/s^2)</th>\n    </tr>\n  </thead>\n  <tbody>\n    <tr>\n      <th>0</th>\n      <td>86118001_366</td>\n      <td>86118001</td>\n      <td>120</td>\n      <td>46</td>\n      <td>0</td>\n      <td>217</td>\n      <td>273</td>\n      <td>1</td>\n      <td>1.000000</td>\n      <td>0.0</td>\n      <td>...</td>\n      <td>0.079983</td>\n      <td>42245.730</td>\n      <td>249.76094</td>\n      <td>42.759426</td>\n      <td>5.975164</td>\n      <td>316.96954</td>\n      <td>4.078451</td>\n      <td>-4.367962</td>\n      <td>0.142121</td>\n      <td>55587.668</td>\n    </tr>\n    <tr>\n      <th>1</th>\n      <td>86118001_366</td>\n      <td>86118001</td>\n      <td>120</td>\n      <td>46</td>\n      <td>0</td>\n      <td>217</td>\n      <td>273</td>\n      <td>1</td>\n      <td>1.000000</td>\n      <td>0.0</td>\n      <td>...</td>\n      <td>-0.074762</td>\n      <td>42199.535</td>\n      <td>249.65944</td>\n      <td>45.702080</td>\n      <td>6.045157</td>\n      <td>309.94705</td>\n      <td>4.635465</td>\n      <td>-3.884725</td>\n      <td>-0.048366</td>\n      <td>55537.383</td>\n    </tr>\n    <tr>\n      <th>2</th>\n      <td>86118001_366</td>\n      <td>86118001</td>\n      <td>120</td>\n      <td>46</td>\n      <td>0</td>\n      <td>217</td>\n      <td>273</td>\n      <td>1</td>\n      <td>1.000000</td>\n      <td>0.0</td>\n      <td>...</td>\n      <td>-0.169430</td>\n      <td>42140.250</td>\n      <td>249.39796</td>\n      <td>52.035694</td>\n      <td>6.358003</td>\n      <td>304.65793</td>\n      <td>5.229194</td>\n      <td>-3.618646</td>\n      <td>-0.081588</td>\n      <td>55472.984</td>\n    </tr>\n    <tr>\n      <th>3</th>\n      <td>86118001_366</td>\n      <td>86118001</td>\n      <td>120</td>\n      <td>46</td>\n      <td>0</td>\n      <td>217</td>\n      <td>273</td>\n      <td>1</td>\n      <td>1.000000</td>\n      <td>0.0</td>\n      <td>...</td>\n      <td>-0.012015</td>\n      <td>42064.863</td>\n      <td>249.36409</td>\n      <td>53.431810</td>\n      <td>6.715887</td>\n      <td>297.38170</td>\n      <td>5.962841</td>\n      <td>-3.093526</td>\n      <td>0.070717</td>\n      <td>55397.582</td>\n    </tr>\n    <tr>\n      <th>4</th>\n      <td>86118001_366</td>\n      <td>86118001</td>\n      <td>120</td>\n      <td>46</td>\n      <td>0</td>\n      <td>217</td>\n      <td>273</td>\n      <td>1</td>\n      <td>1.000000</td>\n      <td>0.0</td>\n      <td>...</td>\n      <td>0.014366</td>\n      <td>41997.496</td>\n      <td>249.42436</td>\n      <td>53.002120</td>\n      <td>7.275373</td>\n      <td>290.83234</td>\n      <td>6.801197</td>\n      <td>-2.588032</td>\n      <td>0.064122</td>\n      <td>55333.258</td>\n    </tr>\n    <tr>\n      <th>...</th>\n      <td>...</td>\n      <td>...</td>\n      <td>...</td>\n      <td>...</td>\n      <td>...</td>\n      <td>...</td>\n      <td>...</td>\n      <td>...</td>\n      <td>...</td>\n      <td>...</td>\n      <td>...</td>\n      <td>...</td>\n      <td>...</td>\n      <td>...</td>\n      <td>...</td>\n      <td>...</td>\n      <td>...</td>\n      <td>...</td>\n      <td>...</td>\n      <td>...</td>\n      <td>...</td>\n    </tr>\n    <tr>\n      <th>2609301</th>\n      <td>95690001_730</td>\n      <td>95690001</td>\n      <td>126</td>\n      <td>49</td>\n      <td>1</td>\n      <td>112</td>\n      <td>307</td>\n      <td>12</td>\n      <td>0.866025</td>\n      <td>-0.5</td>\n      <td>...</td>\n      <td>0.173478</td>\n      <td>39788.130</td>\n      <td>244.07333</td>\n      <td>41.395695</td>\n      <td>31.740730</td>\n      <td>240.09735</td>\n      <td>26.849648</td>\n      <td>16.052774</td>\n      <td>0.371245</td>\n      <td>52842.984</td>\n    </tr>\n    <tr>\n      <th>2609302</th>\n      <td>95690001_730</td>\n      <td>95690001</td>\n      <td>126</td>\n      <td>49</td>\n      <td>1</td>\n      <td>112</td>\n      <td>307</td>\n      <td>12</td>\n      <td>0.866025</td>\n      <td>-0.5</td>\n      <td>...</td>\n      <td>0.162019</td>\n      <td>39773.210</td>\n      <td>242.91550</td>\n      <td>26.763308</td>\n      <td>29.927760</td>\n      <td>244.68650</td>\n      <td>27.054330</td>\n      <td>12.796629</td>\n      <td>0.578458</td>\n      <td>52783.984</td>\n    </tr>\n    <tr>\n      <th>2609303</th>\n      <td>95690001_730</td>\n      <td>95690001</td>\n      <td>126</td>\n      <td>49</td>\n      <td>1</td>\n      <td>112</td>\n      <td>307</td>\n      <td>12</td>\n      <td>0.866025</td>\n      <td>-0.5</td>\n      <td>...</td>\n      <td>0.221380</td>\n      <td>39786.188</td>\n      <td>242.67664</td>\n      <td>25.166044</td>\n      <td>30.037146</td>\n      <td>249.74359</td>\n      <td>27.746878</td>\n      <td>10.242420</td>\n      <td>0.566701</td>\n      <td>52781.390</td>\n    </tr>\n    <tr>\n      <th>2609304</th>\n      <td>95690001_730</td>\n      <td>95690001</td>\n      <td>126</td>\n      <td>49</td>\n      <td>1</td>\n      <td>112</td>\n      <td>307</td>\n      <td>12</td>\n      <td>0.866025</td>\n      <td>-0.5</td>\n      <td>...</td>\n      <td>0.394896</td>\n      <td>39824.120</td>\n      <td>241.97844</td>\n      <td>20.497122</td>\n      <td>30.356890</td>\n      <td>264.52588</td>\n      <td>29.771248</td>\n      <td>2.776271</td>\n      <td>0.532335</td>\n      <td>52773.810</td>\n    </tr>\n    <tr>\n      <th>2609305</th>\n      <td>95690001_730</td>\n      <td>95690001</td>\n      <td>126</td>\n      <td>49</td>\n      <td>1</td>\n      <td>112</td>\n      <td>307</td>\n      <td>12</td>\n      <td>0.866025</td>\n      <td>-0.5</td>\n      <td>...</td>\n      <td>0.454256</td>\n      <td>39837.100</td>\n      <td>241.73960</td>\n      <td>18.899862</td>\n      <td>30.466276</td>\n      <td>269.58300</td>\n      <td>30.463795</td>\n      <td>0.222063</td>\n      <td>0.520578</td>\n      <td>52771.223</td>\n    </tr>\n  </tbody>\n</table>\n<p>2609306 rows × 109 columns</p>\n</div>"
     },
     "execution_count": 18,
     "metadata": {},
     "output_type": "execute_result"
    }
   ],
   "source": [
    "df2017"
   ],
   "metadata": {
    "collapsed": false,
    "pycharm": {
     "name": "#%%\n"
    }
   }
  },
  {
   "cell_type": "code",
   "execution_count": 19,
   "outputs": [
    {
     "name": "stdout",
     "output_type": "stream",
     "text": [
      "nb of entry in df2017 before removing nans : 2609306\n",
      "nb of entry in df2017 after removing nans : 2601506\n",
      "removed : -0.3 %\n"
     ]
    }
   ],
   "source": [
    "print(\"nb of entry in df2017 before removing nans :\", old_len := len(df2017))\n",
    "df2017 = df2017.dropna(axis=0, how=\"any\")\n",
    "print(\"nb of entry in df2017 after removing nans :\", new_len := len(df2017))\n",
    "print(\"removed :\",round((new_len - old_len)/new_len*100,2),\"%\")"
   ],
   "metadata": {
    "collapsed": false,
    "pycharm": {
     "name": "#%%\n"
    }
   }
  },
  {
   "cell_type": "code",
   "execution_count": 21,
   "outputs": [],
   "source": [
    "df2017.to_csv(\"./X_all_2017_final.zip\")"
   ],
   "metadata": {
    "collapsed": false,
    "pycharm": {
     "name": "#%%\n"
    }
   }
  },
  {
   "cell_type": "code",
   "execution_count": 22,
   "outputs": [],
   "source": [
    "del df2017"
   ],
   "metadata": {
    "collapsed": false,
    "pycharm": {
     "name": "#%%\n"
    }
   }
  },
  {
   "cell_type": "code",
   "execution_count": 23,
   "outputs": [],
   "source": [
    "df17 = pd.DataFrame(df2017[[\"Id\",\"hour\",\"current hour precipitations (kg/m^2)\"]])\n",
    "df17[\"Id\"] = df17[\"Id\"].astype(str) + '_' + df17[\"hour\"].astype(str)\n",
    "df = pd.merge(df17[[\"Id\",\"current hour precipitations (kg/m^2)\"]], df2[[\"Id\",\"current hour precipitations (kg/m^2)\"]], how=\"inner\", on=\"Id\")\n",
    "del df17\n",
    "del df2"
   ],
   "metadata": {
    "collapsed": false,
    "pycharm": {
     "name": "#%%\n"
    }
   }
  },
  {
   "cell_type": "code",
   "execution_count": 24,
   "outputs": [],
   "source": [
    "del df2017"
   ],
   "metadata": {
    "collapsed": false,
    "pycharm": {
     "name": "#%%\n"
    }
   }
  },
  {
   "cell_type": "code",
   "execution_count": 25,
   "outputs": [],
   "source": [
    "df[\"check\"] = df[\"current hour precipitations (kg/m^2)_x\"] == df[\"current hour precipitations (kg/m^2)_y\"]"
   ],
   "metadata": {
    "collapsed": false,
    "pycharm": {
     "name": "#%%\n"
    }
   }
  },
  {
   "cell_type": "code",
   "execution_count": 26,
   "outputs": [
    {
     "data": {
      "text/plain": "               Id  current hour precipitations (kg/m^2)_x  \\\n0  86118001_366_0                                     0.0   \n1  86118001_366_1                                     0.0   \n2  86118001_366_2                                     0.0   \n3  86118001_366_3                                     0.0   \n4  86118001_366_4                                     0.0   \n\n   current hour precipitations (kg/m^2)_y  check  \n0                                     0.0   True  \n1                                     0.0   True  \n2                                     0.0   True  \n3                                     0.0   True  \n4                                     0.0   True  ",
      "text/html": "<div>\n<style scoped>\n    .dataframe tbody tr th:only-of-type {\n        vertical-align: middle;\n    }\n\n    .dataframe tbody tr th {\n        vertical-align: top;\n    }\n\n    .dataframe thead th {\n        text-align: right;\n    }\n</style>\n<table border=\"1\" class=\"dataframe\">\n  <thead>\n    <tr style=\"text-align: right;\">\n      <th></th>\n      <th>Id</th>\n      <th>current hour precipitations (kg/m^2)_x</th>\n      <th>current hour precipitations (kg/m^2)_y</th>\n      <th>check</th>\n    </tr>\n  </thead>\n  <tbody>\n    <tr>\n      <th>0</th>\n      <td>86118001_366_0</td>\n      <td>0.0</td>\n      <td>0.0</td>\n      <td>True</td>\n    </tr>\n    <tr>\n      <th>1</th>\n      <td>86118001_366_1</td>\n      <td>0.0</td>\n      <td>0.0</td>\n      <td>True</td>\n    </tr>\n    <tr>\n      <th>2</th>\n      <td>86118001_366_2</td>\n      <td>0.0</td>\n      <td>0.0</td>\n      <td>True</td>\n    </tr>\n    <tr>\n      <th>3</th>\n      <td>86118001_366_3</td>\n      <td>0.0</td>\n      <td>0.0</td>\n      <td>True</td>\n    </tr>\n    <tr>\n      <th>4</th>\n      <td>86118001_366_4</td>\n      <td>0.0</td>\n      <td>0.0</td>\n      <td>True</td>\n    </tr>\n  </tbody>\n</table>\n</div>"
     },
     "execution_count": 26,
     "metadata": {},
     "output_type": "execute_result"
    }
   ],
   "source": [
    "df.head()"
   ],
   "metadata": {
    "collapsed": false,
    "pycharm": {
     "name": "#%%\n"
    }
   }
  },
  {
   "cell_type": "code",
   "execution_count": 32,
   "outputs": [
    {
     "data": {
      "text/plain": "2415064"
     },
     "execution_count": 32,
     "metadata": {},
     "output_type": "execute_result"
    }
   ],
   "source": [
    "df[\"check\"].sum()"
   ],
   "metadata": {
    "collapsed": false,
    "pycharm": {
     "name": "#%%\n"
    }
   }
  },
  {
   "cell_type": "code",
   "execution_count": 33,
   "outputs": [
    {
     "data": {
      "text/plain": "0.9283330501640203"
     },
     "execution_count": 33,
     "metadata": {},
     "output_type": "execute_result"
    }
   ],
   "source": [
    "df[\"check\"].sum() / len(df)"
   ],
   "metadata": {
    "collapsed": false,
    "pycharm": {
     "name": "#%%\n"
    }
   }
  },
  {
   "cell_type": "code",
   "execution_count": 34,
   "outputs": [
    {
     "data": {
      "text/plain": "0.6645070141612924"
     },
     "execution_count": 34,
     "metadata": {},
     "output_type": "execute_result"
    }
   ],
   "source": [
    "df[df[\"current hour precipitations (kg/m^2)_y\"]!=0][\"check\"].sum()\n",
    "df[df[\"current hour precipitations (kg/m^2)_y\"]!=0][\"check\"].sum() / len(df[df[\"current hour precipitations (kg/m^2)_y\"]!=0])"
   ],
   "metadata": {
    "collapsed": false,
    "pycharm": {
     "name": "#%%\n"
    }
   }
  },
  {
   "cell_type": "code",
   "execution_count": null,
   "outputs": [],
   "source": [],
   "metadata": {
    "collapsed": false,
    "pycharm": {
     "name": "#%%\n"
    }
   }
  }
 ],
 "metadata": {
  "kernelspec": {
   "display_name": "Python 3",
   "language": "python",
   "name": "python3"
  },
  "language_info": {
   "codemirror_mode": {
    "name": "ipython",
    "version": 2
   },
   "file_extension": ".py",
   "mimetype": "text/x-python",
   "name": "python",
   "nbconvert_exporter": "python",
   "pygments_lexer": "ipython2",
   "version": "2.7.6"
  }
 },
 "nbformat": 4,
 "nbformat_minor": 0
}
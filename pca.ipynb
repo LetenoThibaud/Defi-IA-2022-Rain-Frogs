{
 "cells": [
  {
   "cell_type": "code",
   "execution_count": 3,
   "metadata": {
    "collapsed": true
   },
   "outputs": [],
   "source": [
    "import numpy as np\n",
    "import pandas as pd\n",
    "from sklearn import decomposition\n",
    "import matplotlib.pyplot as plt"
   ]
  },
  {
   "cell_type": "code",
   "execution_count": 11,
   "outputs": [
    {
     "data": {
      "text/plain": "<Figure size 432x288 with 1 Axes>",
      "image/png": "[encoded data removed]"
     },
     "metadata": {
      "needs_background": "light"
     },
     "output_type": "display_data"
    }
   ],
   "source": [
    "np.random.seed(5)\n",
    "\n",
    "X = pd.read_csv('../preprocessed_data_Defi-IA-2022-Rain-Frogs/X_station_coord_2nn_imputed_by_day.csv')\n",
    "y_train = X['ground_truth']\n",
    "del X['ground_truth']\n",
    "del X['date']\n",
    "del X['timestamp']\n",
    "del X['number_sta']\n",
    "del X['Id']\n",
    "\n",
    "pca = decomposition.PCA()\n",
    "pca.fit(X)\n",
    "hc_features = pca.transform(X)\n",
    "\n",
    "plt.scatter(hc_features[:, 0], hc_features[:, 1])\n",
    "plt.show()"
   ],
   "metadata": {
    "collapsed": false,
    "pycharm": {
     "name": "#%%\n"
    }
   }
  },
  {
   "cell_type": "code",
   "execution_count": 43,
   "outputs": [
    {
     "name": "stdout",
     "output_type": "stream",
     "text": [
      "Linear Composition of each hand crafter feature : (/!\\ absolute value and rounded 2 dp)\n"
     ]
    },
    {
     "data": {
      "text/plain": "   explained_variance_ratio  wind_speed  temperature  dew_point  humidity  \\\n0                    0.5268        0.01         0.01       0.01      0.01   \n1                    0.4540        0.00         0.01       0.00      0.00   \n2                    0.0111        0.01         0.35       0.14      0.92   \n3                    0.0045        0.05         0.64       0.66      0.33   \n4                    0.0016        0.11         0.02       0.02      0.07   \n5                    0.0010        0.05         0.09       0.15      0.09   \n6                    0.0004        0.87         0.05       0.08      0.02   \n7                    0.0002        0.38         0.48       0.47      0.11   \n8                    0.0002        0.23         0.48       0.54      0.10   \n9                    0.0001        0.15         0.03       0.03      0.00   \n\n   wind_direction  precip  month  latitude  longitude  height_sta  \n0            1.00    0.01   0.00      0.00       0.00        0.04  \n1            0.04    0.00   0.00      0.00       0.01        1.00  \n2            0.01    0.08   0.01      0.01       0.01        0.01  \n3            0.02    0.05   0.19      0.00       0.02        0.01  \n4            0.01    0.97   0.22      0.00       0.02        0.00  \n5            0.00    0.22   0.95      0.00       0.02        0.00  \n6            0.01    0.09   0.09      0.09       0.46        0.01  \n7            0.00    0.03   0.01      0.10       0.62        0.00  \n8            0.00    0.02   0.03      0.13       0.63        0.00  \n9            0.00    0.01   0.01      0.98       0.10        0.00  ",
      "text/html": "<div>\n<style scoped>\n    .dataframe tbody tr th:only-of-type {\n        vertical-align: middle;\n    }\n\n    .dataframe tbody tr th {\n        vertical-align: top;\n    }\n\n    .dataframe thead th {\n        text-align: right;\n    }\n</style>\n<table border=\"1\" class=\"dataframe\">\n  <thead>\n    <tr style=\"text-align: right;\">\n      <th></th>\n      <th>explained_variance_ratio</th>\n      <th>wind_speed</th>\n      <th>temperature</th>\n      <th>dew_point</th>\n      <th>humidity</th>\n      <th>wind_direction</th>\n      <th>precip</th>\n      <th>month</th>\n      <th>latitude</th>\n      <th>longitude</th>\n      <th>height_sta</th>\n    </tr>\n  </thead>\n  <tbody>\n    <tr>\n      <th>0</th>\n      <td>0.5268</td>\n      <td>0.01</td>\n      <td>0.01</td>\n      <td>0.01</td>\n      <td>0.01</td>\n      <td>1.00</td>\n      <td>0.01</td>\n      <td>0.00</td>\n      <td>0.00</td>\n      <td>0.00</td>\n      <td>0.04</td>\n    </tr>\n    <tr>\n      <th>1</th>\n      <td>0.4540</td>\n      <td>0.00</td>\n      <td>0.01</td>\n      <td>0.00</td>\n      <td>0.00</td>\n      <td>0.04</td>\n      <td>0.00</td>\n      <td>0.00</td>\n      <td>0.00</td>\n      <td>0.01</td>\n      <td>1.00</td>\n    </tr>\n    <tr>\n      <th>2</th>\n      <td>0.0111</td>\n      <td>0.01</td>\n      <td>0.35</td>\n      <td>0.14</td>\n      <td>0.92</td>\n      <td>0.01</td>\n      <td>0.08</td>\n      <td>0.01</td>\n      <td>0.01</td>\n      <td>0.01</td>\n      <td>0.01</td>\n    </tr>\n    <tr>\n      <th>3</th>\n      <td>0.0045</td>\n      <td>0.05</td>\n      <td>0.64</td>\n      <td>0.66</td>\n      <td>0.33</td>\n      <td>0.02</td>\n      <td>0.05</td>\n      <td>0.19</td>\n      <td>0.00</td>\n      <td>0.02</td>\n      <td>0.01</td>\n    </tr>\n    <tr>\n      <th>4</th>\n      <td>0.0016</td>\n      <td>0.11</td>\n      <td>0.02</td>\n      <td>0.02</td>\n      <td>0.07</td>\n      <td>0.01</td>\n      <td>0.97</td>\n      <td>0.22</td>\n      <td>0.00</td>\n      <td>0.02</td>\n      <td>0.00</td>\n    </tr>\n    <tr>\n      <th>5</th>\n      <td>0.0010</td>\n      <td>0.05</td>\n      <td>0.09</td>\n      <td>0.15</td>\n      <td>0.09</td>\n      <td>0.00</td>\n      <td>0.22</td>\n      <td>0.95</td>\n      <td>0.00</td>\n      <td>0.02</td>\n      <td>0.00</td>\n    </tr>\n    <tr>\n      <th>6</th>\n      <td>0.0004</td>\n      <td>0.87</td>\n      <td>0.05</td>\n      <td>0.08</td>\n      <td>0.02</td>\n      <td>0.01</td>\n      <td>0.09</td>\n      <td>0.09</td>\n      <td>0.09</td>\n      <td>0.46</td>\n      <td>0.01</td>\n    </tr>\n    <tr>\n      <th>7</th>\n      <td>0.0002</td>\n      <td>0.38</td>\n      <td>0.48</td>\n      <td>0.47</td>\n      <td>0.11</td>\n      <td>0.00</td>\n      <td>0.03</td>\n      <td>0.01</td>\n      <td>0.10</td>\n      <td>0.62</td>\n      <td>0.00</td>\n    </tr>\n    <tr>\n      <th>8</th>\n      <td>0.0002</td>\n      <td>0.23</td>\n      <td>0.48</td>\n      <td>0.54</td>\n      <td>0.10</td>\n      <td>0.00</td>\n      <td>0.02</td>\n      <td>0.03</td>\n      <td>0.13</td>\n      <td>0.63</td>\n      <td>0.00</td>\n    </tr>\n    <tr>\n      <th>9</th>\n      <td>0.0001</td>\n      <td>0.15</td>\n      <td>0.03</td>\n      <td>0.03</td>\n      <td>0.00</td>\n      <td>0.00</td>\n      <td>0.01</td>\n      <td>0.01</td>\n      <td>0.98</td>\n      <td>0.10</td>\n      <td>0.00</td>\n    </tr>\n  </tbody>\n</table>\n</div>"
     },
     "execution_count": 43,
     "metadata": {},
     "output_type": "execute_result"
    }
   ],
   "source": [
    "linear_comp = pd.DataFrame(columns = X.columns, data = np.abs(np.round(pca.components_,2)))\n",
    "linear_comp[\"explained_variance_ratio\"] = np.round(pca.explained_variance_ratio_,4)\n",
    "linear_comp = linear_comp.reindex(columns = ['explained_variance_ratio'] + list(linear_comp.columns[:-1]))\n",
    "# linear_comp.set_index(\"explained_variance_ratio\", inplace=True)\n",
    "print(\"Linear Composition of each hand crafter feature : (/!\\ absolute value and rounded 2 dp)\")\n",
    "linear_comp"
   ],
   "metadata": {
    "collapsed": false,
    "pycharm": {
     "name": "#%%\n"
    }
   }
  },
  {
   "cell_type": "code",
   "execution_count": 52,
   "outputs": [
    {
     "name": "stdout",
     "output_type": "stream",
     "text": [
      "weighted sum :\n",
      "     wind_speed : 0.006\n",
      "    temperature : 0.017\n",
      "      dew_point : 0.01\n",
      "       humidity : 0.017\n",
      " wind_direction : 0.545\n",
      "         precip : 0.008\n",
      "          month : 0.002\n",
      "       latitude : 0.0\n",
      "      longitude : 0.005\n",
      "     height_sta : 0.475\n"
     ]
    }
   ],
   "source": [
    "print(\"weighted sum :\")\n",
    "for col in linear_comp.columns[1:]:\n",
    "    print(col.rjust(15), \":\", np.round(np.sum(linear_comp[col] * linear_comp[\"explained_variance_ratio\"]),3))"
   ],
   "metadata": {
    "collapsed": false,
    "pycharm": {
     "name": "#%%\n"
    }
   }
  },
  {
   "cell_type": "code",
   "execution_count": null,
   "outputs": [],
   "source": [],
   "metadata": {
    "collapsed": false,
    "pycharm": {
     "name": "#%%\n"
    }
   }
  }
 ],
 "metadata": {
  "kernelspec": {
   "display_name": "Python 3",
   "language": "python",
   "name": "python3"
  },
  "language_info": {
   "codemirror_mode": {
    "name": "ipython",
    "version": 2
   },
   "file_extension": ".py",
   "mimetype": "text/x-python",
   "name": "python",
   "nbconvert_exporter": "python",
   "pygments_lexer": "ipython2",
   "version": "2.7.6"
  }
 },
 "nbformat": 4,
 "nbformat_minor": 0
}
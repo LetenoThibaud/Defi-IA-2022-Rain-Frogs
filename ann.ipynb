{
 "cells": [
  {
   "cell_type": "code",
   "execution_count": 4,
   "outputs": [],
   "source": [
    "from pprint import pprint\n",
    "import os\n",
    "import numpy as np\n",
    "import pandas as pd\n",
    "import tensorflow as tf\n",
    "from tensorflow.keras import Model\n",
    "from tensorflow.keras import Sequential, activations\n",
    "from tensorflow.keras.optimizers import Adam\n",
    "from sklearn.preprocessing import StandardScaler\n",
    "from tensorflow.keras.layers import Dense, Dropout, Conv1D\n",
    "from sklearn.model_selection import train_test_split\n",
    "from tensorflow.keras.losses import MeanSquaredLogarithmicError, MeanSquaredError\n",
    "\n",
    "import matplotlib.pyplot as plt\n",
    "import seaborn as sns"
   ],
   "metadata": {
    "collapsed": false,
    "pycharm": {
     "name": "#%%\n"
    }
   }
  },
  {
   "cell_type": "code",
   "execution_count": 5,
   "outputs": [],
   "source": [
    "os.environ['CUDA_VISIBLE_DEVICES'] = '-1'"
   ],
   "metadata": {
    "collapsed": false,
    "pycharm": {
     "name": "#%%\n"
    }
   }
  },
  {
   "cell_type": "code",
   "execution_count": 6,
   "outputs": [],
   "source": [
    "def get_variables_and_size():\n",
    "    from sys import getsizeof\n",
    "    names = []\n",
    "    sizes = []\n",
    "    types = []\n",
    "    for name in dir():\n",
    "        # Print the item if it doesn't start with '__'\n",
    "        if not name.startswith('__'):\n",
    "            value = eval(name)\n",
    "            names.append(name)\n",
    "            sizes.append(getsizeof(value))\n",
    "            types.append(type(value))\n",
    "    sort_indexes = np.argsort(sizes)[::-1]\n",
    "    names = np.array(names)[sort_indexes]\n",
    "    sizes = np.array(sizes)[sort_indexes]\n",
    "    types = np.array(types)[sort_indexes]\n",
    "    for n,s,t in zip(names,sizes,types):\n",
    "        print(n, \"\\n\\tsize :\", s, \"\\n\\ttype :\", t)"
   ],
   "metadata": {
    "collapsed": false,
    "pycharm": {
     "name": "#%%\n"
    }
   }
  },
  {
   "cell_type": "code",
   "execution_count": 7,
   "outputs": [],
   "source": [
    "def get_normalization_infos(*x_s, columns):\n",
    "    normalization_infos = pd.DataFrame(data=[[1000 for _ in range(len(columns))],[0 for _ in range(len(columns))]],\n",
    "                                     index=[\"min\",\"max\"],\n",
    "                                     columns=columns)\n",
    "    for x in x_s :\n",
    "        for col in columns:\n",
    "            min_value = min(normalization_infos[col][\"min\"], x[col].min())\n",
    "            max_value = max(normalization_infos[col][\"max\"], x[col].max())\n",
    "            normalization_infos[col] = [min_value, max_value]\n",
    "\n",
    "    normalization_infos.loc[\"spread\"] = normalization_infos.apply(lambda c : c[\"max\"] - c[\"min\"], axis=0)\n",
    "\n",
    "    return normalization_infos\n",
    "\n",
    "def normalize(x : pd.DataFrame, normalization_infos : pd.DataFrame):\n",
    "    for col in x.columns:\n",
    "        x[col] = (x[col] - normalization_infos[col][\"min\"])/normalization_infos[col][\"spread\"]\n",
    "    return x"
   ],
   "metadata": {
    "collapsed": false,
    "pycharm": {
     "name": "#%%\n"
    }
   }
  },
  {
   "cell_type": "code",
   "execution_count": 8,
   "outputs": [],
   "source": [
    "def m_mape(y_true,y_predict):\n",
    "    n = len(y_true)\n",
    "    y_true = np.array(y_true) + 1\n",
    "    y_predict = np.array(y_predict) + 1\n",
    "\n",
    "    res = ((100/n)*(np.sum(np.abs((y_predict-y_true)/y_true))))\n",
    "    return res"
   ],
   "metadata": {
    "collapsed": false,
    "pycharm": {
     "name": "#%%\n"
    }
   }
  },
  {
   "cell_type": "code",
   "execution_count": 9,
   "outputs": [],
   "source": [
    "def box_plot(prediction_df):\n",
    "    y_upper_bound = np.mean([prediction_df[\"ground_truth\"].max(), prediction_df[\"Prediction\"].max()])\n",
    "    mape_score = m_mape(prediction_df[\"ground_truth\"],prediction_df[\"Prediction\"])\n",
    "\n",
    "    plt.figure(figsize=(20,10))\n",
    "    plt.suptitle(\"Prediction on 2017 data.\")\n",
    "\n",
    "    plt.subplot(2,3,1)\n",
    "    plt.title(\"ground_truth\")\n",
    "    plt.boxplot(prediction_df[\"ground_truth\"])\n",
    "    plt.ylim([-0.01,y_upper_bound])\n",
    "\n",
    "    plt.subplot(2,3,2)\n",
    "    plt.title(\"Prediction. MAPE : {:.2f}\".format(mape_score))\n",
    "    plt.boxplot(prediction_df[\"Prediction\"])\n",
    "    plt.ylim([-0.01,y_upper_bound])\n",
    "\n",
    "    plt.subplot(2,3,3)\n",
    "    plt.boxplot(prediction_df[\"reg_pred\"])\n",
    "    plt.title(\"Regression only. MAPE : {:.2f}\".format(m_mape(prediction_df[\"ground_truth\"],prediction_df[\"reg_pred\"])))\n",
    "    plt.ylim([-0.01, y_upper_bound])\n",
    "\n",
    "    plt.subplot(2,3,4)\n",
    "    plt.hist(prediction_df[prediction_df[\"ground_truth\"]<y_upper_bound][\"ground_truth\"], bins=100)\n",
    "    plt.xlim([0,y_upper_bound])\n",
    "    plt.ylim([0,len(prediction_df)])\n",
    "\n",
    "    plt.subplot(2,3,5)\n",
    "    plt.hist(prediction_df[prediction_df[\"Prediction\"]<y_upper_bound][\"Prediction\"], bins=100)\n",
    "    plt.xlim([0,y_upper_bound])\n",
    "    plt.ylim([0,len(prediction_df)])\n",
    "\n",
    "    plt.subplot(2,3,6)\n",
    "    plt.hist(prediction_df[prediction_df[\"reg_pred\"]<y_upper_bound][\"reg_pred\"], bins=100)\n",
    "    plt.xlim([0,y_upper_bound])\n",
    "    plt.ylim([0,len(prediction_df)])\n",
    "\n",
    "    plt.show()"
   ],
   "metadata": {
    "collapsed": false,
    "pycharm": {
     "name": "#%%\n"
    }
   }
  },
  {
   "cell_type": "code",
   "execution_count": 10,
   "outputs": [],
   "source": [
    "# Creating model using the Sequential in tensorflow\n",
    "def build_model_classf(*layers, loss ='binary_crossentropy', metrics = (\"AUC\",\"accuracy\"), learning_rate=0.001, last_activation=\"softmax\"):\n",
    "    model = Sequential()\n",
    "    model.add(layers[0])\n",
    "    for layer in layers[1:]:\n",
    "        model.add(layer)\n",
    "    model.add(Dense(2, activation=last_activation))\n",
    "\n",
    "    model.compile(\n",
    "        loss=loss,\n",
    "        optimizer=Adam(learning_rate=learning_rate),\n",
    "        metrics=metrics\n",
    "    )\n",
    "\n",
    "    print(model.summary())\n",
    "    return model\n",
    "\n",
    "def make_cls_model(*layers,x,y,x_val=None,y_val=None,val_split=0.15, epochs=15, batch_size=64, learning_rate=0.001, last_activation=\"softmax\"):\n",
    "    # build the model\n",
    "    model_cls = build_model_classf(*layers, learning_rate=learning_rate, last_activation=last_activation)\n",
    "    # train the model\n",
    "    if x_val is None :\n",
    "        history_cls = model_cls.fit(\n",
    "            x=x,\n",
    "            y=y,\n",
    "            epochs=epochs,\n",
    "            batch_size=batch_size,\n",
    "            validation_split=val_split\n",
    "            # validation_data=(x_test,y_cls_test)\n",
    "            )\n",
    "    else :\n",
    "        history_cls = model_cls.fit(\n",
    "            x=x,\n",
    "            y=y,\n",
    "            epochs=epochs,\n",
    "            batch_size=batch_size,\n",
    "            # validation_split=0.15\n",
    "            validation_data=(x_val,y_val)\n",
    "            )\n",
    "    return history_cls,model_cls\n",
    "\n",
    "def plot_history_cls(history, loss, key1, key2):\n",
    "    plt.figure(figsize=(17,5))\n",
    "    plt.subplot(1,3,1)\n",
    "    plt.title(\"loss : {}\".format(loss))\n",
    "    plt.plot(history.history[\"loss\"], c=\"cyan\")\n",
    "    plt.plot(history.history[\"val_loss\"], c=\"orange\")\n",
    "    plt.xlabel(\"Epochs\")\n",
    "    plt.xticks(np.linspace(0,len(history.history[\"loss\"]),10,dtype=int))\n",
    "    # plt.ylabel(\"loss\")\n",
    "    plt.legend([\"loss\", \"val_loss\"])\n",
    "\n",
    "    plt.subplot(1,3,2)\n",
    "    plt.title(\"metric : {}\".format(key1))\n",
    "    plt.plot(history.history[key1])\n",
    "    plt.plot(history.history['val_'+key1])\n",
    "    plt.xlabel(\"Epochs\")\n",
    "    plt.xticks(np.linspace(0,len(history.history[\"loss\"]),10,dtype=int))\n",
    "    # plt.ylabel(key1)\n",
    "    plt.legend([key1, 'val_'+key1])\n",
    "\n",
    "    plt.subplot(1,3,3)\n",
    "    plt.title(\"metric : {}\".format(key2))\n",
    "    plt.plot(history.history[key2.lower()])\n",
    "    plt.plot(history.history['val_'+key2.lower()])\n",
    "    plt.xlabel(\"Epochs\")\n",
    "    plt.xticks(np.linspace(0,len(history.history[\"loss\"]),10,dtype=int))\n",
    "    # plt.ylabel(key2)\n",
    "    plt.legend([key2, 'val_'+key2])\n",
    "\n",
    "    plt.suptitle(\"Classification results\")\n",
    "    plt.show()"
   ],
   "metadata": {
    "collapsed": false,
    "pycharm": {
     "name": "#%%\n"
    }
   }
  },
  {
   "cell_type": "code",
   "execution_count": 11,
   "outputs": [],
   "source": [
    "# Creating model using the Sequential in tensorflow\n",
    "def build_model_regrs(*layers, metric = MeanSquaredError(), learning_rate=0.001, last_activation=\"relu\"):\n",
    "    model = Sequential()\n",
    "    model.add(layers[0])\n",
    "    for layer in layers[1:]:\n",
    "        model.add(layer)\n",
    "    model.add(Dense(1, activation=last_activation))\n",
    "\n",
    "    model.compile(\n",
    "        loss=metric,\n",
    "        optimizer=Adam(learning_rate=learning_rate),\n",
    "        metrics=[metric]\n",
    "    )\n",
    "\n",
    "    # print(model.summary())\n",
    "    return model\n",
    "\n",
    "def make_reg_model(*layers,x,y,x_val=None,y_val=None,val_split=0.15, epochs=15, batch_size=64, learning_rate=0.001, last_activation=\"relu\"):\n",
    "    # build the model\n",
    "    model_reg = build_model_regrs(*layers, learning_rate=learning_rate, last_activation=last_activation)\n",
    "    # train the model\n",
    "    if x_val is None :\n",
    "        history_reg = model_reg.fit(\n",
    "            x=x,\n",
    "            y=y,\n",
    "            epochs=epochs,\n",
    "            batch_size=batch_size,\n",
    "            validation_split=val_split\n",
    "            # validation_data=(x_test,y_cls_test)\n",
    "            )\n",
    "    else :\n",
    "        history_reg = model_reg.fit(\n",
    "            x=x,\n",
    "            y=y,\n",
    "            epochs=epochs,\n",
    "            batch_size=batch_size,\n",
    "            # validation_split=0.15\n",
    "            validation_data=(x_val,y_val)\n",
    "            )\n",
    "    return history_reg,model_reg\n",
    "\n",
    "def plot_history_reg(history, loss : str):\n",
    "    plt.figure(figsize=(7,5))\n",
    "    plt.title(\"loss : {}\".format(loss))\n",
    "    plt.plot(history.history[\"loss\"], c=\"cyan\")\n",
    "    plt.plot(history.history[\"val_loss\"], c=\"orange\")\n",
    "    plt.xlabel(\"Epochs\")\n",
    "    plt.xticks(np.linspace(0,len(history.history[\"loss\"]),10,dtype=int))\n",
    "    # plt.ylabel(\"loss\")\n",
    "    plt.legend([\"loss\", \"val_loss\"])\n",
    "    plt.show()"
   ],
   "metadata": {
    "collapsed": false,
    "pycharm": {
     "name": "#%%\n"
    }
   }
  },
  {
   "cell_type": "code",
   "execution_count": 12,
   "outputs": [],
   "source": [
    "# custom activation functions\n",
    "exp_relu = lambda x : activations.exponential(activations.relu(x)) - 1\n",
    "square_relu = lambda x : activations.relu(x)**2"
   ],
   "metadata": {
    "collapsed": false,
    "pycharm": {
     "name": "#%%\n"
    }
   }
  },
  {
   "cell_type": "markdown",
   "source": [
    "# Load the dataset"
   ],
   "metadata": {
    "collapsed": false
   }
  },
  {
   "cell_type": "code",
   "execution_count": 13,
   "outputs": [],
   "source": [
    "df_train = pd.read_csv(\"../preprocessed_data_Defi-IA-2022-Rain-Frogs/X_all_2016_final_by_day.zip\")\n",
    "# df_train = pd.read_csv(\"../preprocessed_data_Defi-IA-2022-Rain-Frogs/X_all_2016_final.zip\")\n",
    "df_train[\"raining\"] = df_train[\"ground_truth\"].apply(lambda x : 0 if (x==0) else 1)\n",
    "df_train[\"not_raining\"] = 1-df_train[\"raining\"]\n",
    "\n",
    "x_train, y_reg_train, y_cls_train = df_train.drop([\"ground_truth\",\"not_raining\",\"raining\"], axis=1), df_train[\"ground_truth\"], df_train[[\"not_raining\",\"raining\"]].to_numpy()\n",
    "del df_train"
   ],
   "metadata": {
    "collapsed": false,
    "pycharm": {
     "name": "#%%\n"
    }
   }
  },
  {
   "cell_type": "code",
   "execution_count": 14,
   "outputs": [],
   "source": [
    "df_test = pd.read_csv(\"../preprocessed_data_Defi-IA-2022-Rain-Frogs/X_all_2017_final_by_day.zip\")\n",
    "# df_test = pd.read_csv(\"../preprocessed_data_Defi-IA-2022-Rain-Frogs/X_all_2017_final.zip\")\n",
    "# get rows for computing MAPE on test\n",
    "prediction_x_test = pd.DataFrame(df_test[[\"Id\",\"ground_truth\"]])\n",
    "\n",
    "df_test[\"raining\"] = df_test[\"ground_truth\"].apply(lambda x : 0 if (x==0) else 1)\n",
    "df_test[\"not_raining\"] = 1-df_test[\"raining\"]\n",
    "\n",
    "x_test, y_reg_test, y_cls_test = df_test.drop([\"ground_truth\",\"not_raining\",\"raining\"], axis=1), df_test[\"ground_truth\"], df_test[[\"not_raining\",\"raining\"]].to_numpy()\n",
    "del df_test"
   ],
   "metadata": {
    "collapsed": false,
    "pycharm": {
     "name": "#%%\n"
    }
   }
  },
  {
   "cell_type": "markdown",
   "source": [
    "# Add classification label (raining or not)"
   ],
   "metadata": {
    "collapsed": false
   }
  },
  {
   "cell_type": "code",
   "execution_count": 15,
   "outputs": [],
   "source": [
    "# define the unnecessary columns\n",
    "cols_to_drop = {\"day\",\"Id\", \"station_id\",\"month\",\"longitude_idx\",\"latitude_idx\", \"next hour precipitation (kg/m^2)\", \"wind_direction (deg)\"}"
   ],
   "metadata": {
    "collapsed": false,
    "pycharm": {
     "name": "#%%\n"
    }
   }
  },
  {
   "cell_type": "code",
   "execution_count": 16,
   "outputs": [],
   "source": [
    "#drop unnecessary columns\n",
    "x_train.drop(list(set(x_train.columns)&cols_to_drop), axis=1, inplace=True)"
   ],
   "metadata": {
    "collapsed": false,
    "pycharm": {
     "name": "#%%\n"
    }
   }
  },
  {
   "cell_type": "code",
   "execution_count": 17,
   "outputs": [],
   "source": [
    "#drop unnecessary columns\n",
    "x_test.drop(list(set(x_test.columns)&cols_to_drop), axis=1, inplace=True)"
   ],
   "metadata": {
    "collapsed": false,
    "pycharm": {
     "name": "#%%\n"
    }
   }
  },
  {
   "cell_type": "markdown",
   "source": [
    "\n",
    "# get same columns on both datasets"
   ],
   "metadata": {
    "collapsed": false
   }
  },
  {
   "cell_type": "code",
   "execution_count": 18,
   "outputs": [],
   "source": [
    "columns = list(x_train.columns)\n",
    "x_train = x_train[columns]\n",
    "x_test = x_test[columns]"
   ],
   "metadata": {
    "collapsed": false,
    "pycharm": {
     "name": "#%%\n"
    }
   }
  },
  {
   "cell_type": "markdown",
   "source": [
    "# normalize both dataset with 2016 min and min-max values"
   ],
   "metadata": {
    "collapsed": false
   }
  },
  {
   "cell_type": "code",
   "execution_count": 19,
   "outputs": [],
   "source": [
    "normalization_infos = get_normalization_infos(x_train, x_test, columns=columns)\n",
    "x_train = normalize(x_train, normalization_infos)\n",
    "x_test = normalize(x_test, normalization_infos)"
   ],
   "metadata": {
    "collapsed": false,
    "pycharm": {
     "name": "#%%\n"
    }
   }
  },
  {
   "cell_type": "markdown",
   "source": [
    "# see if the data is balanced raining-wise"
   ],
   "metadata": {
    "collapsed": false
   }
  },
  {
   "cell_type": "code",
   "execution_count": 20,
   "outputs": [
    {
     "data": {
      "text/plain": "<Figure size 720x360 with 2 Axes>",
      "image/png": "[encoded data removed]"
     },
     "metadata": {
      "needs_background": "light"
     },
     "output_type": "display_data"
    }
   ],
   "source": [
    "raining_ratio1 = y_cls_train[:,1].sum()/y_cls_train[:,0].sum()\n",
    "raining_ratio2 = y_cls_test[:,1].sum()/y_cls_test[:,0].sum()\n",
    "avg_raining_ratio = (raining_ratio1+raining_ratio2)/2\n",
    "\n",
    "plt.figure(figsize = (10,5))\n",
    "plt.subplot(1,2,1)\n",
    "sns.histplot(x=y_cls_train[:,1],hue=y_cls_train[:,1])\n",
    "plt.title(\"2016 (train set) : ratio = {:.2f}\".format(raining_ratio1))\n",
    "plt.subplot(1,2,2)\n",
    "sns.histplot(x=y_cls_test[:,1], hue=y_cls_test[:,1])\n",
    "plt.title(\"2017 (test set) : ratio = {:.2f}\".format(raining_ratio2))\n",
    "plt.suptitle(\"Days w/ and w/o rain. avg_raining_ratio : {:.2f}\".format(avg_raining_ratio))\n",
    "plt.show()"
   ],
   "metadata": {
    "collapsed": false,
    "pycharm": {
     "name": "#%%\n"
    }
   }
  },
  {
   "cell_type": "markdown",
   "source": [
    "ratio 2016 and 2017 ==> **Unbalanced**"
   ],
   "metadata": {
    "collapsed": false
   }
  },
  {
   "cell_type": "markdown",
   "source": [
    "# Classification Model (raining or not)\n",
    "source : https://thinkingneuron.com/how-to-use-artificial-neural-networks-for-classification-in-python/"
   ],
   "metadata": {
    "collapsed": false
   }
  },
  {
   "cell_type": "code",
   "execution_count": 21,
   "outputs": [
    {
     "name": "stderr",
     "output_type": "stream",
     "text": [
      "2022-01-09 18:38:13.126217: E tensorflow/stream_executor/cuda/cuda_driver.cc:271] failed call to cuInit: CUDA_ERROR_NO_DEVICE: no CUDA-capable device is detected\n",
      "2022-01-09 18:38:13.126262: I tensorflow/stream_executor/cuda/cuda_diagnostics.cc:169] retrieving CUDA diagnostic information for host: Y540\n",
      "2022-01-09 18:38:13.126274: I tensorflow/stream_executor/cuda/cuda_diagnostics.cc:176] hostname: Y540\n",
      "2022-01-09 18:38:13.126389: I tensorflow/stream_executor/cuda/cuda_diagnostics.cc:200] libcuda reported version is: 495.29.5\n",
      "2022-01-09 18:38:13.126416: I tensorflow/stream_executor/cuda/cuda_diagnostics.cc:204] kernel reported version is: 495.29.5\n",
      "2022-01-09 18:38:13.126423: I tensorflow/stream_executor/cuda/cuda_diagnostics.cc:310] kernel version seems to match DSO: 495.29.5\n",
      "2022-01-09 18:38:13.126937: I tensorflow/core/platform/cpu_feature_guard.cc:151] This TensorFlow binary is optimized with oneAPI Deep Neural Network Library (oneDNN) to use the following CPU instructions in performance-critical operations:  AVX2 FMA\n",
      "To enable them in other operations, rebuild TensorFlow with the appropriate compiler flags.\n"
     ]
    },
    {
     "name": "stdout",
     "output_type": "stream",
     "text": [
      "Model: \"sequential\"\n",
      "_________________________________________________________________\n",
      " Layer (type)                Output Shape              Param #   \n",
      "=================================================================\n",
      " dense (Dense)               (None, 64)                6272      \n",
      "                                                                 \n",
      " dropout (Dropout)           (None, 64)                0         \n",
      "                                                                 \n",
      " dense_1 (Dense)             (None, 32)                2080      \n",
      "                                                                 \n",
      " dense_2 (Dense)             (None, 32)                1056      \n",
      "                                                                 \n",
      " dense_3 (Dense)             (None, 32)                1056      \n",
      "                                                                 \n",
      " dense_4 (Dense)             (None, 2)                 66        \n",
      "                                                                 \n",
      "=================================================================\n",
      "Total params: 10,530\n",
      "Trainable params: 10,530\n",
      "Non-trainable params: 0\n",
      "_________________________________________________________________\n",
      "None\n",
      "Epoch 1/100\n",
      "1576/1576 [==============================] - 4s 2ms/step - loss: 0.6265 - auc: 0.7059 - accuracy: 0.6529 - val_loss: 0.5934 - val_auc: 0.7591 - val_accuracy: 0.6934\n",
      "Epoch 2/100\n",
      "1576/1576 [==============================] - 3s 2ms/step - loss: 0.6037 - auc: 0.7368 - accuracy: 0.6763 - val_loss: 0.5776 - val_auc: 0.7664 - val_accuracy: 0.6980\n",
      "Epoch 3/100\n",
      "1576/1576 [==============================] - 3s 2ms/step - loss: 0.5951 - auc: 0.7475 - accuracy: 0.6865 - val_loss: 0.5744 - val_auc: 0.7722 - val_accuracy: 0.6994\n",
      "Epoch 4/100\n",
      "1576/1576 [==============================] - 3s 2ms/step - loss: 0.5902 - auc: 0.7532 - accuracy: 0.6908 - val_loss: 0.5661 - val_auc: 0.7788 - val_accuracy: 0.7069\n",
      "Epoch 5/100\n",
      "1576/1576 [==============================] - 3s 2ms/step - loss: 0.5865 - auc: 0.7574 - accuracy: 0.6941 - val_loss: 0.5615 - val_auc: 0.7844 - val_accuracy: 0.7126\n",
      "Epoch 6/100\n",
      "1576/1576 [==============================] - 3s 2ms/step - loss: 0.5841 - auc: 0.7600 - accuracy: 0.6971 - val_loss: 0.5621 - val_auc: 0.7837 - val_accuracy: 0.7076\n",
      "Epoch 7/100\n",
      "1576/1576 [==============================] - 3s 2ms/step - loss: 0.5825 - auc: 0.7617 - accuracy: 0.6980 - val_loss: 0.5551 - val_auc: 0.7896 - val_accuracy: 0.7150\n",
      "Epoch 8/100\n",
      "1576/1576 [==============================] - 3s 2ms/step - loss: 0.5801 - auc: 0.7643 - accuracy: 0.6991 - val_loss: 0.5606 - val_auc: 0.7844 - val_accuracy: 0.7141\n",
      "Epoch 9/100\n",
      "1576/1576 [==============================] - 3s 2ms/step - loss: 0.5781 - auc: 0.7663 - accuracy: 0.7016 - val_loss: 0.5516 - val_auc: 0.7932 - val_accuracy: 0.7204\n",
      "Epoch 10/100\n",
      "1576/1576 [==============================] - 3s 2ms/step - loss: 0.5759 - auc: 0.7685 - accuracy: 0.7031 - val_loss: 0.5568 - val_auc: 0.7910 - val_accuracy: 0.7155\n",
      "Epoch 11/100\n",
      "1576/1576 [==============================] - 3s 2ms/step - loss: 0.5743 - auc: 0.7703 - accuracy: 0.7022 - val_loss: 0.5498 - val_auc: 0.7952 - val_accuracy: 0.7179\n",
      "Epoch 12/100\n",
      "1576/1576 [==============================] - 3s 2ms/step - loss: 0.5719 - auc: 0.7728 - accuracy: 0.7056 - val_loss: 0.5502 - val_auc: 0.7942 - val_accuracy: 0.7169\n",
      "Epoch 13/100\n",
      "1576/1576 [==============================] - 3s 2ms/step - loss: 0.5707 - auc: 0.7738 - accuracy: 0.7050 - val_loss: 0.5493 - val_auc: 0.7949 - val_accuracy: 0.7171\n",
      "Epoch 14/100\n",
      "1576/1576 [==============================] - 3s 2ms/step - loss: 0.5678 - auc: 0.7768 - accuracy: 0.7061 - val_loss: 0.5473 - val_auc: 0.7976 - val_accuracy: 0.7173\n",
      "Epoch 15/100\n",
      "1576/1576 [==============================] - 3s 2ms/step - loss: 0.5665 - auc: 0.7781 - accuracy: 0.7094 - val_loss: 0.5441 - val_auc: 0.7995 - val_accuracy: 0.7211\n",
      "Epoch 16/100\n",
      "1576/1576 [==============================] - 3s 2ms/step - loss: 0.5641 - auc: 0.7805 - accuracy: 0.7110 - val_loss: 0.5448 - val_auc: 0.7983 - val_accuracy: 0.7196\n",
      "Epoch 17/100\n",
      "1576/1576 [==============================] - 3s 2ms/step - loss: 0.5632 - auc: 0.7815 - accuracy: 0.7119 - val_loss: 0.5434 - val_auc: 0.7997 - val_accuracy: 0.7205\n",
      "Epoch 18/100\n",
      "1576/1576 [==============================] - 3s 2ms/step - loss: 0.5611 - auc: 0.7833 - accuracy: 0.7116 - val_loss: 0.5402 - val_auc: 0.8034 - val_accuracy: 0.7242\n",
      "Epoch 19/100\n",
      "1576/1576 [==============================] - 3s 2ms/step - loss: 0.5586 - auc: 0.7859 - accuracy: 0.7151 - val_loss: 0.5412 - val_auc: 0.8015 - val_accuracy: 0.7225\n",
      "Epoch 20/100\n",
      "1576/1576 [==============================] - 3s 2ms/step - loss: 0.5564 - auc: 0.7878 - accuracy: 0.7158 - val_loss: 0.5397 - val_auc: 0.8033 - val_accuracy: 0.7217\n",
      "Epoch 21/100\n",
      "1576/1576 [==============================] - 3s 2ms/step - loss: 0.5548 - auc: 0.7890 - accuracy: 0.7150 - val_loss: 0.5390 - val_auc: 0.8043 - val_accuracy: 0.7217\n",
      "Epoch 22/100\n",
      "1576/1576 [==============================] - 3s 2ms/step - loss: 0.5522 - auc: 0.7913 - accuracy: 0.7163 - val_loss: 0.5388 - val_auc: 0.8038 - val_accuracy: 0.7235\n",
      "Epoch 23/100\n",
      "1576/1576 [==============================] - 3s 2ms/step - loss: 0.5505 - auc: 0.7929 - accuracy: 0.7174 - val_loss: 0.5328 - val_auc: 0.8081 - val_accuracy: 0.7274\n",
      "Epoch 24/100\n",
      "1576/1576 [==============================] - 3s 2ms/step - loss: 0.5498 - auc: 0.7933 - accuracy: 0.7178 - val_loss: 0.5392 - val_auc: 0.8052 - val_accuracy: 0.7268\n",
      "Epoch 25/100\n",
      "1576/1576 [==============================] - 3s 2ms/step - loss: 0.5472 - auc: 0.7958 - accuracy: 0.7210 - val_loss: 0.5336 - val_auc: 0.8082 - val_accuracy: 0.7275\n",
      "Epoch 26/100\n",
      "1576/1576 [==============================] - 3s 2ms/step - loss: 0.5455 - auc: 0.7972 - accuracy: 0.7208 - val_loss: 0.5338 - val_auc: 0.8081 - val_accuracy: 0.7254\n",
      "Epoch 27/100\n",
      "1576/1576 [==============================] - 3s 2ms/step - loss: 0.5443 - auc: 0.7986 - accuracy: 0.7226 - val_loss: 0.5292 - val_auc: 0.8115 - val_accuracy: 0.7312\n",
      "Epoch 28/100\n",
      "1576/1576 [==============================] - 3s 2ms/step - loss: 0.5418 - auc: 0.8004 - accuracy: 0.7230 - val_loss: 0.5261 - val_auc: 0.8143 - val_accuracy: 0.7326\n",
      "Epoch 29/100\n",
      "1576/1576 [==============================] - 3s 2ms/step - loss: 0.5400 - auc: 0.8018 - accuracy: 0.7241 - val_loss: 0.5317 - val_auc: 0.8113 - val_accuracy: 0.7318\n",
      "Epoch 30/100\n",
      "1576/1576 [==============================] - 3s 2ms/step - loss: 0.5385 - auc: 0.8032 - accuracy: 0.7251 - val_loss: 0.5297 - val_auc: 0.8114 - val_accuracy: 0.7294\n",
      "Epoch 31/100\n",
      "1576/1576 [==============================] - 3s 2ms/step - loss: 0.5371 - auc: 0.8043 - accuracy: 0.7267 - val_loss: 0.5287 - val_auc: 0.8129 - val_accuracy: 0.7340\n",
      "Epoch 32/100\n",
      "1576/1576 [==============================] - 3s 2ms/step - loss: 0.5362 - auc: 0.8053 - accuracy: 0.7278 - val_loss: 0.5277 - val_auc: 0.8135 - val_accuracy: 0.7384\n",
      "Epoch 33/100\n",
      "1576/1576 [==============================] - 3s 2ms/step - loss: 0.5348 - auc: 0.8063 - accuracy: 0.7281 - val_loss: 0.5265 - val_auc: 0.8138 - val_accuracy: 0.7324\n",
      "Epoch 34/100\n",
      "1576/1576 [==============================] - 3s 2ms/step - loss: 0.5340 - auc: 0.8071 - accuracy: 0.7298 - val_loss: 0.5260 - val_auc: 0.8150 - val_accuracy: 0.7370\n",
      "Epoch 35/100\n",
      "1576/1576 [==============================] - 3s 2ms/step - loss: 0.5331 - auc: 0.8076 - accuracy: 0.7290 - val_loss: 0.5205 - val_auc: 0.8188 - val_accuracy: 0.7387\n",
      "Epoch 36/100\n",
      "1576/1576 [==============================] - 3s 2ms/step - loss: 0.5315 - auc: 0.8092 - accuracy: 0.7305 - val_loss: 0.5172 - val_auc: 0.8217 - val_accuracy: 0.7425\n",
      "Epoch 37/100\n",
      "1576/1576 [==============================] - 3s 2ms/step - loss: 0.5294 - auc: 0.8109 - accuracy: 0.7315 - val_loss: 0.5189 - val_auc: 0.8208 - val_accuracy: 0.7382\n",
      "Epoch 38/100\n",
      "1576/1576 [==============================] - 3s 2ms/step - loss: 0.5285 - auc: 0.8114 - accuracy: 0.7318 - val_loss: 0.5223 - val_auc: 0.8180 - val_accuracy: 0.7404\n",
      "Epoch 39/100\n",
      "1576/1576 [==============================] - 3s 2ms/step - loss: 0.5272 - auc: 0.8127 - accuracy: 0.7336 - val_loss: 0.5256 - val_auc: 0.8155 - val_accuracy: 0.7372\n",
      "Epoch 40/100\n",
      "1576/1576 [==============================] - 3s 2ms/step - loss: 0.5268 - auc: 0.8131 - accuracy: 0.7345 - val_loss: 0.5183 - val_auc: 0.8207 - val_accuracy: 0.7410\n",
      "Epoch 41/100\n",
      "1576/1576 [==============================] - 3s 2ms/step - loss: 0.5268 - auc: 0.8131 - accuracy: 0.7344 - val_loss: 0.5186 - val_auc: 0.8210 - val_accuracy: 0.7459\n",
      "Epoch 42/100\n",
      "1576/1576 [==============================] - 3s 2ms/step - loss: 0.5254 - auc: 0.8142 - accuracy: 0.7350 - val_loss: 0.5150 - val_auc: 0.8237 - val_accuracy: 0.7423\n",
      "Epoch 43/100\n",
      "1576/1576 [==============================] - 3s 2ms/step - loss: 0.5257 - auc: 0.8141 - accuracy: 0.7353 - val_loss: 0.5130 - val_auc: 0.8252 - val_accuracy: 0.7459\n",
      "Epoch 44/100\n",
      "1576/1576 [==============================] - 3s 2ms/step - loss: 0.5241 - auc: 0.8153 - accuracy: 0.7364 - val_loss: 0.5262 - val_auc: 0.8150 - val_accuracy: 0.7351\n",
      "Epoch 45/100\n",
      "1576/1576 [==============================] - 3s 2ms/step - loss: 0.5217 - auc: 0.8173 - accuracy: 0.7365 - val_loss: 0.5151 - val_auc: 0.8236 - val_accuracy: 0.7463\n",
      "Epoch 46/100\n",
      "1576/1576 [==============================] - 3s 2ms/step - loss: 0.5224 - auc: 0.8168 - accuracy: 0.7372 - val_loss: 0.5167 - val_auc: 0.8220 - val_accuracy: 0.7420\n",
      "Epoch 47/100\n",
      "1576/1576 [==============================] - 3s 2ms/step - loss: 0.5203 - auc: 0.8185 - accuracy: 0.7385 - val_loss: 0.5131 - val_auc: 0.8252 - val_accuracy: 0.7469\n",
      "Epoch 48/100\n",
      "1576/1576 [==============================] - 3s 2ms/step - loss: 0.5191 - auc: 0.8193 - accuracy: 0.7384 - val_loss: 0.5115 - val_auc: 0.8262 - val_accuracy: 0.7436\n",
      "Epoch 49/100\n",
      "1576/1576 [==============================] - 3s 2ms/step - loss: 0.5184 - auc: 0.8199 - accuracy: 0.7398 - val_loss: 0.5121 - val_auc: 0.8259 - val_accuracy: 0.7442\n",
      "Epoch 50/100\n",
      "1576/1576 [==============================] - 3s 2ms/step - loss: 0.5182 - auc: 0.8201 - accuracy: 0.7393 - val_loss: 0.5130 - val_auc: 0.8259 - val_accuracy: 0.7470\n",
      "Epoch 51/100\n",
      "1576/1576 [==============================] - 3s 2ms/step - loss: 0.5176 - auc: 0.8204 - accuracy: 0.7404 - val_loss: 0.5084 - val_auc: 0.8279 - val_accuracy: 0.7472\n",
      "Epoch 52/100\n",
      "1576/1576 [==============================] - 3s 2ms/step - loss: 0.5171 - auc: 0.8209 - accuracy: 0.7399 - val_loss: 0.5087 - val_auc: 0.8280 - val_accuracy: 0.7476\n",
      "Epoch 53/100\n",
      "1576/1576 [==============================] - 3s 2ms/step - loss: 0.5163 - auc: 0.8218 - accuracy: 0.7419 - val_loss: 0.5151 - val_auc: 0.8233 - val_accuracy: 0.7472\n",
      "Epoch 54/100\n",
      "1576/1576 [==============================] - 3s 2ms/step - loss: 0.5149 - auc: 0.8227 - accuracy: 0.7426 - val_loss: 0.5079 - val_auc: 0.8298 - val_accuracy: 0.7515\n",
      "Epoch 55/100\n",
      "1576/1576 [==============================] - 3s 2ms/step - loss: 0.5149 - auc: 0.8225 - accuracy: 0.7414 - val_loss: 0.5066 - val_auc: 0.8299 - val_accuracy: 0.7519\n",
      "Epoch 56/100\n",
      "1576/1576 [==============================] - 3s 2ms/step - loss: 0.5133 - auc: 0.8239 - accuracy: 0.7430 - val_loss: 0.5090 - val_auc: 0.8281 - val_accuracy: 0.7489\n",
      "Epoch 57/100\n",
      "1576/1576 [==============================] - 3s 2ms/step - loss: 0.5129 - auc: 0.8244 - accuracy: 0.7435 - val_loss: 0.5097 - val_auc: 0.8280 - val_accuracy: 0.7493\n",
      "Epoch 58/100\n",
      "1576/1576 [==============================] - 3s 2ms/step - loss: 0.5120 - auc: 0.8253 - accuracy: 0.7438 - val_loss: 0.5049 - val_auc: 0.8315 - val_accuracy: 0.7506\n",
      "Epoch 59/100\n",
      "1576/1576 [==============================] - 3s 2ms/step - loss: 0.5116 - auc: 0.8254 - accuracy: 0.7441 - val_loss: 0.5065 - val_auc: 0.8304 - val_accuracy: 0.7505\n",
      "Epoch 60/100\n",
      "1576/1576 [==============================] - 3s 2ms/step - loss: 0.5109 - auc: 0.8259 - accuracy: 0.7447 - val_loss: 0.5122 - val_auc: 0.8251 - val_accuracy: 0.7444\n",
      "Epoch 61/100\n",
      "1576/1576 [==============================] - 3s 2ms/step - loss: 0.5102 - auc: 0.8263 - accuracy: 0.7445 - val_loss: 0.5042 - val_auc: 0.8317 - val_accuracy: 0.7549\n",
      "Epoch 62/100\n",
      "1576/1576 [==============================] - 3s 2ms/step - loss: 0.5084 - auc: 0.8278 - accuracy: 0.7460 - val_loss: 0.5126 - val_auc: 0.8269 - val_accuracy: 0.7490\n",
      "Epoch 63/100\n",
      "1576/1576 [==============================] - 3s 2ms/step - loss: 0.5087 - auc: 0.8277 - accuracy: 0.7460 - val_loss: 0.5131 - val_auc: 0.8262 - val_accuracy: 0.7452\n",
      "Epoch 64/100\n",
      "1576/1576 [==============================] - 3s 2ms/step - loss: 0.5074 - auc: 0.8285 - accuracy: 0.7475 - val_loss: 0.5104 - val_auc: 0.8268 - val_accuracy: 0.7491\n",
      "Epoch 65/100\n",
      "1576/1576 [==============================] - 3s 2ms/step - loss: 0.5071 - auc: 0.8290 - accuracy: 0.7481 - val_loss: 0.5004 - val_auc: 0.8349 - val_accuracy: 0.7555\n",
      "Epoch 66/100\n",
      "1576/1576 [==============================] - 3s 2ms/step - loss: 0.5068 - auc: 0.8289 - accuracy: 0.7461 - val_loss: 0.5067 - val_auc: 0.8292 - val_accuracy: 0.7491\n",
      "Epoch 67/100\n",
      "1576/1576 [==============================] - 3s 2ms/step - loss: 0.5069 - auc: 0.8291 - accuracy: 0.7486 - val_loss: 0.5034 - val_auc: 0.8334 - val_accuracy: 0.7558\n",
      "Epoch 68/100\n",
      "1576/1576 [==============================] - 3s 2ms/step - loss: 0.5061 - auc: 0.8298 - accuracy: 0.7480 - val_loss: 0.5028 - val_auc: 0.8326 - val_accuracy: 0.7531\n",
      "Epoch 69/100\n",
      "1576/1576 [==============================] - 3s 2ms/step - loss: 0.5051 - auc: 0.8303 - accuracy: 0.7489 - val_loss: 0.5036 - val_auc: 0.8328 - val_accuracy: 0.7550\n",
      "Epoch 70/100\n",
      "1576/1576 [==============================] - 3s 2ms/step - loss: 0.5044 - auc: 0.8307 - accuracy: 0.7478 - val_loss: 0.5067 - val_auc: 0.8306 - val_accuracy: 0.7521\n",
      "Epoch 71/100\n",
      "1576/1576 [==============================] - 3s 2ms/step - loss: 0.5039 - auc: 0.8312 - accuracy: 0.7497 - val_loss: 0.4989 - val_auc: 0.8360 - val_accuracy: 0.7570\n",
      "Epoch 72/100\n",
      "1576/1576 [==============================] - 3s 2ms/step - loss: 0.5032 - auc: 0.8318 - accuracy: 0.7504 - val_loss: 0.5036 - val_auc: 0.8331 - val_accuracy: 0.7526\n",
      "Epoch 73/100\n",
      "1576/1576 [==============================] - 3s 2ms/step - loss: 0.5036 - auc: 0.8314 - accuracy: 0.7494 - val_loss: 0.5080 - val_auc: 0.8283 - val_accuracy: 0.7514\n",
      "Epoch 74/100\n",
      "1576/1576 [==============================] - 3s 2ms/step - loss: 0.5023 - auc: 0.8325 - accuracy: 0.7504 - val_loss: 0.5021 - val_auc: 0.8335 - val_accuracy: 0.7587\n",
      "Epoch 75/100\n",
      "1576/1576 [==============================] - 3s 2ms/step - loss: 0.5013 - auc: 0.8332 - accuracy: 0.7508 - val_loss: 0.4995 - val_auc: 0.8355 - val_accuracy: 0.7566\n",
      "Epoch 76/100\n",
      "1576/1576 [==============================] - 3s 2ms/step - loss: 0.5009 - auc: 0.8334 - accuracy: 0.7512 - val_loss: 0.5062 - val_auc: 0.8320 - val_accuracy: 0.7506\n",
      "Epoch 77/100\n",
      "1576/1576 [==============================] - 3s 2ms/step - loss: 0.5005 - auc: 0.8337 - accuracy: 0.7508 - val_loss: 0.4993 - val_auc: 0.8357 - val_accuracy: 0.7587\n",
      "Epoch 78/100\n",
      "1576/1576 [==============================] - 3s 2ms/step - loss: 0.4998 - auc: 0.8344 - accuracy: 0.7520 - val_loss: 0.4993 - val_auc: 0.8355 - val_accuracy: 0.7562\n",
      "Epoch 79/100\n",
      "1576/1576 [==============================] - 3s 2ms/step - loss: 0.4982 - auc: 0.8355 - accuracy: 0.7530 - val_loss: 0.4966 - val_auc: 0.8373 - val_accuracy: 0.7580\n",
      "Epoch 80/100\n",
      "1576/1576 [==============================] - 3s 2ms/step - loss: 0.4986 - auc: 0.8351 - accuracy: 0.7525 - val_loss: 0.4950 - val_auc: 0.8387 - val_accuracy: 0.7597\n",
      "Epoch 81/100\n",
      "1576/1576 [==============================] - 3s 2ms/step - loss: 0.4985 - auc: 0.8354 - accuracy: 0.7534 - val_loss: 0.4931 - val_auc: 0.8406 - val_accuracy: 0.7602\n",
      "Epoch 82/100\n",
      "1576/1576 [==============================] - 3s 2ms/step - loss: 0.4975 - auc: 0.8361 - accuracy: 0.7536 - val_loss: 0.4979 - val_auc: 0.8366 - val_accuracy: 0.7556\n",
      "Epoch 83/100\n",
      "1576/1576 [==============================] - 3s 2ms/step - loss: 0.4986 - auc: 0.8354 - accuracy: 0.7544 - val_loss: 0.5019 - val_auc: 0.8338 - val_accuracy: 0.7556\n",
      "Epoch 84/100\n",
      "1576/1576 [==============================] - 3s 2ms/step - loss: 0.4968 - auc: 0.8366 - accuracy: 0.7540 - val_loss: 0.5053 - val_auc: 0.8329 - val_accuracy: 0.7532\n",
      "Epoch 85/100\n",
      "1576/1576 [==============================] - 3s 2ms/step - loss: 0.4960 - auc: 0.8371 - accuracy: 0.7541 - val_loss: 0.5010 - val_auc: 0.8367 - val_accuracy: 0.7565\n",
      "Epoch 86/100\n",
      "1576/1576 [==============================] - 3s 2ms/step - loss: 0.4951 - auc: 0.8378 - accuracy: 0.7550 - val_loss: 0.4950 - val_auc: 0.8396 - val_accuracy: 0.7621\n",
      "Epoch 87/100\n",
      "1576/1576 [==============================] - 3s 2ms/step - loss: 0.4957 - auc: 0.8376 - accuracy: 0.7553 - val_loss: 0.4960 - val_auc: 0.8378 - val_accuracy: 0.7596\n",
      "Epoch 88/100\n",
      "1576/1576 [==============================] - 3s 2ms/step - loss: 0.4943 - auc: 0.8384 - accuracy: 0.7561 - val_loss: 0.4944 - val_auc: 0.8406 - val_accuracy: 0.7580\n",
      "Epoch 89/100\n",
      "1576/1576 [==============================] - 3s 2ms/step - loss: 0.4958 - auc: 0.8372 - accuracy: 0.7532 - val_loss: 0.4984 - val_auc: 0.8364 - val_accuracy: 0.7560\n",
      "Epoch 90/100\n",
      "1576/1576 [==============================] - 3s 2ms/step - loss: 0.4945 - auc: 0.8381 - accuracy: 0.7545 - val_loss: 0.5013 - val_auc: 0.8342 - val_accuracy: 0.7568\n",
      "Epoch 91/100\n",
      "1576/1576 [==============================] - 3s 2ms/step - loss: 0.4947 - auc: 0.8384 - accuracy: 0.7565 - val_loss: 0.5005 - val_auc: 0.8340 - val_accuracy: 0.7508\n",
      "Epoch 92/100\n",
      "1576/1576 [==============================] - 3s 2ms/step - loss: 0.4937 - auc: 0.8389 - accuracy: 0.7562 - val_loss: 0.4987 - val_auc: 0.8363 - val_accuracy: 0.7533\n",
      "Epoch 93/100\n",
      "1576/1576 [==============================] - 3s 2ms/step - loss: 0.4928 - auc: 0.8395 - accuracy: 0.7561 - val_loss: 0.4986 - val_auc: 0.8374 - val_accuracy: 0.7595\n",
      "Epoch 94/100\n",
      "1576/1576 [==============================] - 3s 2ms/step - loss: 0.4921 - auc: 0.8400 - accuracy: 0.7575 - val_loss: 0.4943 - val_auc: 0.8391 - val_accuracy: 0.7565\n",
      "Epoch 95/100\n",
      "1576/1576 [==============================] - 3s 2ms/step - loss: 0.4909 - auc: 0.8411 - accuracy: 0.7579 - val_loss: 0.4935 - val_auc: 0.8405 - val_accuracy: 0.7604\n",
      "Epoch 96/100\n",
      "1576/1576 [==============================] - 3s 2ms/step - loss: 0.4915 - auc: 0.8405 - accuracy: 0.7574 - val_loss: 0.4975 - val_auc: 0.8365 - val_accuracy: 0.7549\n",
      "Epoch 97/100\n",
      "1576/1576 [==============================] - 3s 2ms/step - loss: 0.4918 - auc: 0.8403 - accuracy: 0.7576 - val_loss: 0.4986 - val_auc: 0.8367 - val_accuracy: 0.7573\n",
      "Epoch 98/100\n",
      "1576/1576 [==============================] - 3s 2ms/step - loss: 0.4912 - auc: 0.8406 - accuracy: 0.7574 - val_loss: 0.4967 - val_auc: 0.8380 - val_accuracy: 0.7563\n",
      "Epoch 99/100\n",
      "1576/1576 [==============================] - 3s 2ms/step - loss: 0.4904 - auc: 0.8412 - accuracy: 0.7585 - val_loss: 0.4949 - val_auc: 0.8393 - val_accuracy: 0.7586\n",
      "Epoch 100/100\n",
      "1576/1576 [==============================] - 3s 2ms/step - loss: 0.4912 - auc: 0.8407 - accuracy: 0.7578 - val_loss: 0.4999 - val_auc: 0.8357 - val_accuracy: 0.7541\n"
     ]
    }
   ],
   "source": [
    "with tf.device(\"cpu\"):\n",
    "    history_cls, model_cls = make_cls_model(\n",
    "        Dense(64, activation=\"sigmoid\",input_dim=x_train.shape[1]),\n",
    "        Dropout(0.1),\n",
    "        Dense(32, activation=\"relu\"),\n",
    "        # Dropout(0.1),\n",
    "        Dense(32, activation=\"relu\"),\n",
    "        # Dropout(0.1),\n",
    "        Dense(32, activation=\"relu\"),\n",
    "        last_activation=\"sigmoid\",\n",
    "        x=x_train.values ,y=y_cls_train,\n",
    "        epochs=100,\n",
    "        batch_size=64,\n",
    "        learning_rate=0.001\n",
    "    )"
   ],
   "metadata": {
    "collapsed": false,
    "pycharm": {
     "name": "#%%\n"
    }
   }
  },
  {
   "cell_type": "code",
   "execution_count": 22,
   "outputs": [
    {
     "data": {
      "text/plain": "<Figure size 1224x360 with 3 Axes>",
      "image/png": "[encoded data removed]"
     },
     "metadata": {
      "needs_background": "light"
     },
     "output_type": "display_data"
    }
   ],
   "source": [
    "# Plot history\n",
    "plot_history_cls(history_cls, loss = \"binary_crossentropy\", key1 = 'accuracy', key2 = 'AUC')"
   ],
   "metadata": {
    "collapsed": false,
    "pycharm": {
     "name": "#%%\n"
    }
   }
  },
  {
   "cell_type": "markdown",
   "source": [
    "# Regression Model (how much rain if > 0)\n",
    "source : https://www.analyticsvidhya.com/blog/2021/08/a-walk-through-of-regression-analysis-using-artificial-neural-networks-in-tensorflow/"
   ],
   "metadata": {
    "collapsed": false
   }
  },
  {
   "cell_type": "code",
   "execution_count": 39,
   "outputs": [
    {
     "name": "stdout",
     "output_type": "stream",
     "text": [
      "Epoch 1/200\n",
      "1576/1576 [==============================] - 3s 2ms/step - loss: 0.0324 - mean_squared_error: 0.0324 - val_loss: 0.0296 - val_mean_squared_error: 0.0298\n",
      "Epoch 2/200\n",
      "1576/1576 [==============================] - 2s 2ms/step - loss: 0.0315 - mean_squared_error: 0.0315 - val_loss: 0.0290 - val_mean_squared_error: 0.0291\n",
      "Epoch 3/200\n",
      "1576/1576 [==============================] - 2s 1ms/step - loss: 0.0311 - mean_squared_error: 0.0311 - val_loss: 0.0285 - val_mean_squared_error: 0.0286\n",
      "Epoch 4/200\n",
      "1576/1576 [==============================] - 2s 1ms/step - loss: 0.0308 - mean_squared_error: 0.0308 - val_loss: 0.0281 - val_mean_squared_error: 0.0283\n",
      "Epoch 5/200\n",
      "1576/1576 [==============================] - 2s 2ms/step - loss: 0.0302 - mean_squared_error: 0.0302 - val_loss: 0.0293 - val_mean_squared_error: 0.0295\n",
      "Epoch 6/200\n",
      "1576/1576 [==============================] - 2s 1ms/step - loss: 0.0300 - mean_squared_error: 0.0300 - val_loss: 0.0270 - val_mean_squared_error: 0.0271\n",
      "Epoch 7/200\n",
      "1576/1576 [==============================] - 2s 1ms/step - loss: 0.0297 - mean_squared_error: 0.0297 - val_loss: 0.0271 - val_mean_squared_error: 0.0273\n",
      "Epoch 8/200\n",
      "1576/1576 [==============================] - 2s 2ms/step - loss: 0.0294 - mean_squared_error: 0.0294 - val_loss: 0.0282 - val_mean_squared_error: 0.0284\n",
      "Epoch 9/200\n",
      "1576/1576 [==============================] - 2s 2ms/step - loss: 0.0291 - mean_squared_error: 0.0291 - val_loss: 0.0267 - val_mean_squared_error: 0.0269\n",
      "Epoch 10/200\n",
      "1576/1576 [==============================] - 2s 2ms/step - loss: 0.0293 - mean_squared_error: 0.0293 - val_loss: 0.0270 - val_mean_squared_error: 0.0271\n",
      "Epoch 11/200\n",
      "1576/1576 [==============================] - 2s 1ms/step - loss: 0.0287 - mean_squared_error: 0.0287 - val_loss: 0.0270 - val_mean_squared_error: 0.0272\n",
      "Epoch 12/200\n",
      "1576/1576 [==============================] - 2s 2ms/step - loss: 0.0284 - mean_squared_error: 0.0284 - val_loss: 0.0267 - val_mean_squared_error: 0.0269\n",
      "Epoch 13/200\n",
      "1576/1576 [==============================] - 2s 2ms/step - loss: 0.0282 - mean_squared_error: 0.0282 - val_loss: 0.0265 - val_mean_squared_error: 0.0266\n",
      "Epoch 14/200\n",
      "1576/1576 [==============================] - 3s 2ms/step - loss: 0.0281 - mean_squared_error: 0.0281 - val_loss: 0.0255 - val_mean_squared_error: 0.0257\n",
      "Epoch 15/200\n",
      "1576/1576 [==============================] - 2s 1ms/step - loss: 0.0279 - mean_squared_error: 0.0279 - val_loss: 0.0260 - val_mean_squared_error: 0.0262\n",
      "Epoch 16/200\n",
      "1576/1576 [==============================] - 2s 1ms/step - loss: 0.0275 - mean_squared_error: 0.0275 - val_loss: 0.0258 - val_mean_squared_error: 0.0260\n",
      "Epoch 17/200\n",
      "1576/1576 [==============================] - 2s 2ms/step - loss: 0.0274 - mean_squared_error: 0.0274 - val_loss: 0.0259 - val_mean_squared_error: 0.0261\n",
      "Epoch 18/200\n",
      "1576/1576 [==============================] - 2s 2ms/step - loss: 0.0273 - mean_squared_error: 0.0273 - val_loss: 0.0263 - val_mean_squared_error: 0.0265\n",
      "Epoch 19/200\n",
      "1576/1576 [==============================] - 2s 2ms/step - loss: 0.0270 - mean_squared_error: 0.0270 - val_loss: 0.0247 - val_mean_squared_error: 0.0249\n",
      "Epoch 20/200\n",
      "1576/1576 [==============================] - 2s 1ms/step - loss: 0.0268 - mean_squared_error: 0.0268 - val_loss: 0.0247 - val_mean_squared_error: 0.0249\n",
      "Epoch 21/200\n",
      "1576/1576 [==============================] - 2s 2ms/step - loss: 0.0267 - mean_squared_error: 0.0267 - val_loss: 0.0245 - val_mean_squared_error: 0.0247\n",
      "Epoch 22/200\n",
      "1576/1576 [==============================] - 2s 1ms/step - loss: 0.0267 - mean_squared_error: 0.0267 - val_loss: 0.0244 - val_mean_squared_error: 0.0245\n",
      "Epoch 23/200\n",
      "1576/1576 [==============================] - 2s 1ms/step - loss: 0.0264 - mean_squared_error: 0.0264 - val_loss: 0.0244 - val_mean_squared_error: 0.0246\n",
      "Epoch 24/200\n",
      "1576/1576 [==============================] - 2s 2ms/step - loss: 0.0262 - mean_squared_error: 0.0262 - val_loss: 0.0239 - val_mean_squared_error: 0.0241\n",
      "Epoch 25/200\n",
      "1576/1576 [==============================] - 2s 2ms/step - loss: 0.0263 - mean_squared_error: 0.0263 - val_loss: 0.0240 - val_mean_squared_error: 0.0242\n",
      "Epoch 26/200\n",
      "1576/1576 [==============================] - 2s 2ms/step - loss: 0.0262 - mean_squared_error: 0.0262 - val_loss: 0.0237 - val_mean_squared_error: 0.0239\n",
      "Epoch 27/200\n",
      "1576/1576 [==============================] - 2s 2ms/step - loss: 0.0258 - mean_squared_error: 0.0258 - val_loss: 0.0239 - val_mean_squared_error: 0.0241\n",
      "Epoch 28/200\n",
      "1576/1576 [==============================] - 3s 2ms/step - loss: 0.0260 - mean_squared_error: 0.0260 - val_loss: 0.0241 - val_mean_squared_error: 0.0242\n",
      "Epoch 29/200\n",
      "1576/1576 [==============================] - 2s 1ms/step - loss: 0.0256 - mean_squared_error: 0.0256 - val_loss: 0.0235 - val_mean_squared_error: 0.0237\n",
      "Epoch 30/200\n",
      "1576/1576 [==============================] - 2s 2ms/step - loss: 0.0253 - mean_squared_error: 0.0253 - val_loss: 0.0235 - val_mean_squared_error: 0.0237\n",
      "Epoch 31/200\n",
      "1576/1576 [==============================] - 2s 1ms/step - loss: 0.0254 - mean_squared_error: 0.0254 - val_loss: 0.0238 - val_mean_squared_error: 0.0239\n",
      "Epoch 32/200\n",
      "1576/1576 [==============================] - 2s 1ms/step - loss: 0.0254 - mean_squared_error: 0.0254 - val_loss: 0.0235 - val_mean_squared_error: 0.0236\n",
      "Epoch 33/200\n",
      "1576/1576 [==============================] - 2s 2ms/step - loss: 0.0252 - mean_squared_error: 0.0252 - val_loss: 0.0262 - val_mean_squared_error: 0.0264\n",
      "Epoch 34/200\n",
      "1576/1576 [==============================] - 2s 2ms/step - loss: 0.0249 - mean_squared_error: 0.0249 - val_loss: 0.0237 - val_mean_squared_error: 0.0239\n",
      "Epoch 35/200\n",
      "1576/1576 [==============================] - 2s 2ms/step - loss: 0.0250 - mean_squared_error: 0.0250 - val_loss: 0.0228 - val_mean_squared_error: 0.0230\n",
      "Epoch 36/200\n",
      "1576/1576 [==============================] - 2s 1ms/step - loss: 0.0248 - mean_squared_error: 0.0248 - val_loss: 0.0227 - val_mean_squared_error: 0.0229\n",
      "Epoch 37/200\n",
      "1576/1576 [==============================] - 2s 1ms/step - loss: 0.0247 - mean_squared_error: 0.0247 - val_loss: 0.0229 - val_mean_squared_error: 0.0231\n",
      "Epoch 38/200\n",
      "1576/1576 [==============================] - 2s 1ms/step - loss: 0.0248 - mean_squared_error: 0.0248 - val_loss: 0.0231 - val_mean_squared_error: 0.0232\n",
      "Epoch 39/200\n",
      "1576/1576 [==============================] - 2s 1ms/step - loss: 0.0247 - mean_squared_error: 0.0247 - val_loss: 0.0225 - val_mean_squared_error: 0.0226\n",
      "Epoch 40/200\n",
      "1576/1576 [==============================] - 2s 1ms/step - loss: 0.0245 - mean_squared_error: 0.0245 - val_loss: 0.0237 - val_mean_squared_error: 0.0238\n",
      "Epoch 41/200\n",
      "1576/1576 [==============================] - 2s 1ms/step - loss: 0.0245 - mean_squared_error: 0.0245 - val_loss: 0.0235 - val_mean_squared_error: 0.0237\n",
      "Epoch 42/200\n",
      "1576/1576 [==============================] - 2s 1ms/step - loss: 0.0245 - mean_squared_error: 0.0245 - val_loss: 0.0229 - val_mean_squared_error: 0.0231\n",
      "Epoch 43/200\n",
      "1576/1576 [==============================] - 2s 1ms/step - loss: 0.0242 - mean_squared_error: 0.0242 - val_loss: 0.0221 - val_mean_squared_error: 0.0223\n",
      "Epoch 44/200\n",
      "1576/1576 [==============================] - 2s 1ms/step - loss: 0.0241 - mean_squared_error: 0.0241 - val_loss: 0.0225 - val_mean_squared_error: 0.0226\n",
      "Epoch 45/200\n",
      "1576/1576 [==============================] - 2s 2ms/step - loss: 0.0241 - mean_squared_error: 0.0241 - val_loss: 0.0221 - val_mean_squared_error: 0.0222\n",
      "Epoch 46/200\n",
      "1576/1576 [==============================] - 2s 2ms/step - loss: 0.0240 - mean_squared_error: 0.0240 - val_loss: 0.0225 - val_mean_squared_error: 0.0227\n",
      "Epoch 47/200\n",
      "1576/1576 [==============================] - 2s 1ms/step - loss: 0.0239 - mean_squared_error: 0.0238 - val_loss: 0.0226 - val_mean_squared_error: 0.0227\n",
      "Epoch 48/200\n",
      "1576/1576 [==============================] - 2s 1ms/step - loss: 0.0238 - mean_squared_error: 0.0238 - val_loss: 0.0222 - val_mean_squared_error: 0.0224\n",
      "Epoch 49/200\n",
      "1576/1576 [==============================] - 2s 1ms/step - loss: 0.0239 - mean_squared_error: 0.0239 - val_loss: 0.0219 - val_mean_squared_error: 0.0221\n",
      "Epoch 50/200\n",
      "1576/1576 [==============================] - 2s 1ms/step - loss: 0.0236 - mean_squared_error: 0.0236 - val_loss: 0.0217 - val_mean_squared_error: 0.0219\n",
      "Epoch 51/200\n",
      "1576/1576 [==============================] - 2s 1ms/step - loss: 0.0237 - mean_squared_error: 0.0237 - val_loss: 0.0231 - val_mean_squared_error: 0.0233\n",
      "Epoch 52/200\n",
      "1576/1576 [==============================] - 2s 1ms/step - loss: 0.0236 - mean_squared_error: 0.0236 - val_loss: 0.0221 - val_mean_squared_error: 0.0222\n",
      "Epoch 53/200\n",
      "1576/1576 [==============================] - 2s 1ms/step - loss: 0.0234 - mean_squared_error: 0.0234 - val_loss: 0.0216 - val_mean_squared_error: 0.0218\n",
      "Epoch 54/200\n",
      "1576/1576 [==============================] - 2s 1ms/step - loss: 0.0234 - mean_squared_error: 0.0234 - val_loss: 0.0218 - val_mean_squared_error: 0.0219\n",
      "Epoch 55/200\n",
      "1576/1576 [==============================] - 2s 2ms/step - loss: 0.0233 - mean_squared_error: 0.0233 - val_loss: 0.0227 - val_mean_squared_error: 0.0229\n",
      "Epoch 56/200\n",
      "1576/1576 [==============================] - 2s 2ms/step - loss: 0.0233 - mean_squared_error: 0.0233 - val_loss: 0.0218 - val_mean_squared_error: 0.0219\n",
      "Epoch 57/200\n",
      "1576/1576 [==============================] - 2s 2ms/step - loss: 0.0230 - mean_squared_error: 0.0230 - val_loss: 0.0214 - val_mean_squared_error: 0.0216\n",
      "Epoch 58/200\n",
      "1576/1576 [==============================] - 2s 1ms/step - loss: 0.0229 - mean_squared_error: 0.0229 - val_loss: 0.0213 - val_mean_squared_error: 0.0215\n",
      "Epoch 59/200\n",
      "1576/1576 [==============================] - 2s 1ms/step - loss: 0.0230 - mean_squared_error: 0.0230 - val_loss: 0.0237 - val_mean_squared_error: 0.0239\n",
      "Epoch 60/200\n",
      "1576/1576 [==============================] - 2s 1ms/step - loss: 0.0229 - mean_squared_error: 0.0230 - val_loss: 0.0215 - val_mean_squared_error: 0.0216\n",
      "Epoch 61/200\n",
      "1576/1576 [==============================] - 2s 1ms/step - loss: 0.0230 - mean_squared_error: 0.0230 - val_loss: 0.0213 - val_mean_squared_error: 0.0215\n",
      "Epoch 62/200\n",
      "1576/1576 [==============================] - 2s 1ms/step - loss: 0.0228 - mean_squared_error: 0.0228 - val_loss: 0.0218 - val_mean_squared_error: 0.0220\n",
      "Epoch 63/200\n",
      "1576/1576 [==============================] - 2s 1ms/step - loss: 0.0229 - mean_squared_error: 0.0229 - val_loss: 0.0207 - val_mean_squared_error: 0.0209\n",
      "Epoch 64/200\n",
      "1576/1576 [==============================] - 2s 1ms/step - loss: 0.0227 - mean_squared_error: 0.0227 - val_loss: 0.0211 - val_mean_squared_error: 0.0212\n",
      "Epoch 65/200\n",
      "1576/1576 [==============================] - 2s 1ms/step - loss: 0.0227 - mean_squared_error: 0.0227 - val_loss: 0.0209 - val_mean_squared_error: 0.0211\n",
      "Epoch 66/200\n",
      "1576/1576 [==============================] - 2s 1ms/step - loss: 0.0226 - mean_squared_error: 0.0226 - val_loss: 0.0209 - val_mean_squared_error: 0.0211\n",
      "Epoch 67/200\n",
      "1576/1576 [==============================] - 2s 1ms/step - loss: 0.0224 - mean_squared_error: 0.0224 - val_loss: 0.0205 - val_mean_squared_error: 0.0207\n",
      "Epoch 68/200\n",
      "1576/1576 [==============================] - 2s 1ms/step - loss: 0.0224 - mean_squared_error: 0.0224 - val_loss: 0.0207 - val_mean_squared_error: 0.0209\n",
      "Epoch 69/200\n",
      "1576/1576 [==============================] - 2s 1ms/step - loss: 0.0225 - mean_squared_error: 0.0225 - val_loss: 0.0209 - val_mean_squared_error: 0.0210\n",
      "Epoch 70/200\n",
      "1576/1576 [==============================] - 2s 1ms/step - loss: 0.0225 - mean_squared_error: 0.0225 - val_loss: 0.0207 - val_mean_squared_error: 0.0209\n",
      "Epoch 71/200\n",
      "1576/1576 [==============================] - 2s 1ms/step - loss: 0.0222 - mean_squared_error: 0.0222 - val_loss: 0.0210 - val_mean_squared_error: 0.0212\n",
      "Epoch 72/200\n",
      "1576/1576 [==============================] - 2s 1ms/step - loss: 0.0223 - mean_squared_error: 0.0223 - val_loss: 0.0207 - val_mean_squared_error: 0.0208\n",
      "Epoch 73/200\n",
      "1576/1576 [==============================] - 2s 1ms/step - loss: 0.0222 - mean_squared_error: 0.0222 - val_loss: 0.0208 - val_mean_squared_error: 0.0210\n",
      "Epoch 74/200\n",
      "1576/1576 [==============================] - 2s 2ms/step - loss: 0.0222 - mean_squared_error: 0.0222 - val_loss: 0.0210 - val_mean_squared_error: 0.0212\n",
      "Epoch 75/200\n",
      "1576/1576 [==============================] - 2s 1ms/step - loss: 0.0223 - mean_squared_error: 0.0223 - val_loss: 0.0205 - val_mean_squared_error: 0.0207\n",
      "Epoch 76/200\n",
      "1576/1576 [==============================] - 2s 1ms/step - loss: 0.0219 - mean_squared_error: 0.0219 - val_loss: 0.0202 - val_mean_squared_error: 0.0204\n",
      "Epoch 77/200\n",
      "1576/1576 [==============================] - 2s 2ms/step - loss: 0.0221 - mean_squared_error: 0.0221 - val_loss: 0.0207 - val_mean_squared_error: 0.0209\n",
      "Epoch 78/200\n",
      "1576/1576 [==============================] - 2s 1ms/step - loss: 0.0220 - mean_squared_error: 0.0220 - val_loss: 0.0209 - val_mean_squared_error: 0.0211\n",
      "Epoch 79/200\n",
      "1576/1576 [==============================] - 2s 1ms/step - loss: 0.0220 - mean_squared_error: 0.0220 - val_loss: 0.0204 - val_mean_squared_error: 0.0205\n",
      "Epoch 80/200\n",
      "1576/1576 [==============================] - 2s 1ms/step - loss: 0.0218 - mean_squared_error: 0.0218 - val_loss: 0.0214 - val_mean_squared_error: 0.0216\n",
      "Epoch 81/200\n",
      "1576/1576 [==============================] - 2s 1ms/step - loss: 0.0220 - mean_squared_error: 0.0220 - val_loss: 0.0203 - val_mean_squared_error: 0.0204\n",
      "Epoch 82/200\n",
      "1576/1576 [==============================] - 3s 2ms/step - loss: 0.0220 - mean_squared_error: 0.0220 - val_loss: 0.0198 - val_mean_squared_error: 0.0201\n",
      "Epoch 83/200\n",
      "1576/1576 [==============================] - 2s 2ms/step - loss: 0.0217 - mean_squared_error: 0.0217 - val_loss: 0.0206 - val_mean_squared_error: 0.0207\n",
      "Epoch 84/200\n",
      "1576/1576 [==============================] - 2s 2ms/step - loss: 0.0218 - mean_squared_error: 0.0218 - val_loss: 0.0203 - val_mean_squared_error: 0.0205\n",
      "Epoch 85/200\n",
      "1576/1576 [==============================] - 2s 1ms/step - loss: 0.0216 - mean_squared_error: 0.0216 - val_loss: 0.0214 - val_mean_squared_error: 0.0216\n",
      "Epoch 86/200\n",
      "1576/1576 [==============================] - 3s 2ms/step - loss: 0.0217 - mean_squared_error: 0.0217 - val_loss: 0.0206 - val_mean_squared_error: 0.0208\n",
      "Epoch 87/200\n",
      "1576/1576 [==============================] - 2s 1ms/step - loss: 0.0218 - mean_squared_error: 0.0218 - val_loss: 0.0210 - val_mean_squared_error: 0.0211\n",
      "Epoch 88/200\n",
      "1576/1576 [==============================] - 2s 1ms/step - loss: 0.0217 - mean_squared_error: 0.0217 - val_loss: 0.0209 - val_mean_squared_error: 0.0211\n",
      "Epoch 89/200\n",
      "1576/1576 [==============================] - 2s 1ms/step - loss: 0.0214 - mean_squared_error: 0.0214 - val_loss: 0.0198 - val_mean_squared_error: 0.0200\n",
      "Epoch 90/200\n",
      "1576/1576 [==============================] - 2s 1ms/step - loss: 0.0217 - mean_squared_error: 0.0217 - val_loss: 0.0211 - val_mean_squared_error: 0.0212\n",
      "Epoch 91/200\n",
      "1576/1576 [==============================] - 2s 1ms/step - loss: 0.0214 - mean_squared_error: 0.0214 - val_loss: 0.0206 - val_mean_squared_error: 0.0208\n",
      "Epoch 92/200\n",
      "1576/1576 [==============================] - 2s 1ms/step - loss: 0.0215 - mean_squared_error: 0.0215 - val_loss: 0.0198 - val_mean_squared_error: 0.0200\n",
      "Epoch 93/200\n",
      "1576/1576 [==============================] - 2s 1ms/step - loss: 0.0216 - mean_squared_error: 0.0215 - val_loss: 0.0204 - val_mean_squared_error: 0.0205\n",
      "Epoch 94/200\n",
      "1576/1576 [==============================] - 2s 1ms/step - loss: 0.0215 - mean_squared_error: 0.0215 - val_loss: 0.0207 - val_mean_squared_error: 0.0209\n",
      "Epoch 95/200\n",
      "1576/1576 [==============================] - 2s 1ms/step - loss: 0.0214 - mean_squared_error: 0.0214 - val_loss: 0.0201 - val_mean_squared_error: 0.0203\n",
      "Epoch 96/200\n",
      "1576/1576 [==============================] - 2s 1ms/step - loss: 0.0214 - mean_squared_error: 0.0214 - val_loss: 0.0198 - val_mean_squared_error: 0.0199\n",
      "Epoch 97/200\n",
      "1576/1576 [==============================] - 2s 1ms/step - loss: 0.0211 - mean_squared_error: 0.0211 - val_loss: 0.0195 - val_mean_squared_error: 0.0197\n",
      "Epoch 98/200\n",
      "1576/1576 [==============================] - 2s 1ms/step - loss: 0.0212 - mean_squared_error: 0.0212 - val_loss: 0.0209 - val_mean_squared_error: 0.0211\n",
      "Epoch 99/200\n",
      "1576/1576 [==============================] - 2s 1ms/step - loss: 0.0213 - mean_squared_error: 0.0213 - val_loss: 0.0215 - val_mean_squared_error: 0.0216\n",
      "Epoch 100/200\n",
      "1576/1576 [==============================] - 2s 1ms/step - loss: 0.0212 - mean_squared_error: 0.0212 - val_loss: 0.0199 - val_mean_squared_error: 0.0201\n",
      "Epoch 101/200\n",
      "1576/1576 [==============================] - 2s 1ms/step - loss: 0.0211 - mean_squared_error: 0.0211 - val_loss: 0.0192 - val_mean_squared_error: 0.0194\n",
      "Epoch 102/200\n",
      "1576/1576 [==============================] - 2s 1ms/step - loss: 0.0211 - mean_squared_error: 0.0211 - val_loss: 0.0202 - val_mean_squared_error: 0.0204\n",
      "Epoch 103/200\n",
      "1576/1576 [==============================] - 2s 1ms/step - loss: 0.0211 - mean_squared_error: 0.0211 - val_loss: 0.0202 - val_mean_squared_error: 0.0203\n",
      "Epoch 104/200\n",
      "1576/1576 [==============================] - 2s 2ms/step - loss: 0.0209 - mean_squared_error: 0.0209 - val_loss: 0.0202 - val_mean_squared_error: 0.0204\n",
      "Epoch 105/200\n",
      "1576/1576 [==============================] - 2s 2ms/step - loss: 0.0212 - mean_squared_error: 0.0212 - val_loss: 0.0199 - val_mean_squared_error: 0.0201\n",
      "Epoch 106/200\n",
      "1576/1576 [==============================] - 3s 2ms/step - loss: 0.0212 - mean_squared_error: 0.0212 - val_loss: 0.0195 - val_mean_squared_error: 0.0196\n",
      "Epoch 107/200\n",
      "1576/1576 [==============================] - 2s 2ms/step - loss: 0.0208 - mean_squared_error: 0.0208 - val_loss: 0.0202 - val_mean_squared_error: 0.0203\n",
      "Epoch 108/200\n",
      "1576/1576 [==============================] - 2s 2ms/step - loss: 0.0209 - mean_squared_error: 0.0209 - val_loss: 0.0205 - val_mean_squared_error: 0.0206\n",
      "Epoch 109/200\n",
      "1576/1576 [==============================] - 2s 2ms/step - loss: 0.0211 - mean_squared_error: 0.0211 - val_loss: 0.0205 - val_mean_squared_error: 0.0207\n",
      "Epoch 110/200\n",
      "1576/1576 [==============================] - 2s 2ms/step - loss: 0.0210 - mean_squared_error: 0.0210 - val_loss: 0.0191 - val_mean_squared_error: 0.0193\n",
      "Epoch 111/200\n",
      "1576/1576 [==============================] - 3s 2ms/step - loss: 0.0208 - mean_squared_error: 0.0208 - val_loss: 0.0201 - val_mean_squared_error: 0.0203\n",
      "Epoch 112/200\n",
      "1576/1576 [==============================] - 3s 2ms/step - loss: 0.0208 - mean_squared_error: 0.0207 - val_loss: 0.0218 - val_mean_squared_error: 0.0219\n",
      "Epoch 113/200\n",
      "1576/1576 [==============================] - 3s 2ms/step - loss: 0.0208 - mean_squared_error: 0.0208 - val_loss: 0.0200 - val_mean_squared_error: 0.0202\n",
      "Epoch 114/200\n",
      "1576/1576 [==============================] - 2s 2ms/step - loss: 0.0205 - mean_squared_error: 0.0205 - val_loss: 0.0203 - val_mean_squared_error: 0.0205\n",
      "Epoch 115/200\n",
      "1576/1576 [==============================] - 2s 2ms/step - loss: 0.0206 - mean_squared_error: 0.0206 - val_loss: 0.0198 - val_mean_squared_error: 0.0199\n",
      "Epoch 116/200\n",
      "1576/1576 [==============================] - 2s 1ms/step - loss: 0.0208 - mean_squared_error: 0.0208 - val_loss: 0.0194 - val_mean_squared_error: 0.0195\n",
      "Epoch 117/200\n",
      "1576/1576 [==============================] - 3s 2ms/step - loss: 0.0205 - mean_squared_error: 0.0205 - val_loss: 0.0205 - val_mean_squared_error: 0.0207\n",
      "Epoch 118/200\n",
      "1576/1576 [==============================] - 3s 2ms/step - loss: 0.0207 - mean_squared_error: 0.0207 - val_loss: 0.0211 - val_mean_squared_error: 0.0212\n",
      "Epoch 119/200\n",
      "1576/1576 [==============================] - 2s 1ms/step - loss: 0.0205 - mean_squared_error: 0.0205 - val_loss: 0.0198 - val_mean_squared_error: 0.0200\n",
      "Epoch 120/200\n",
      "1576/1576 [==============================] - 2s 2ms/step - loss: 0.0206 - mean_squared_error: 0.0206 - val_loss: 0.0198 - val_mean_squared_error: 0.0200\n",
      "Epoch 121/200\n",
      "1576/1576 [==============================] - 2s 2ms/step - loss: 0.0207 - mean_squared_error: 0.0207 - val_loss: 0.0191 - val_mean_squared_error: 0.0193\n",
      "Epoch 122/200\n",
      "1576/1576 [==============================] - 3s 2ms/step - loss: 0.0208 - mean_squared_error: 0.0208 - val_loss: 0.0196 - val_mean_squared_error: 0.0198\n",
      "Epoch 123/200\n",
      "1576/1576 [==============================] - 2s 2ms/step - loss: 0.0204 - mean_squared_error: 0.0204 - val_loss: 0.0187 - val_mean_squared_error: 0.0189\n",
      "Epoch 124/200\n",
      "1576/1576 [==============================] - 2s 2ms/step - loss: 0.0206 - mean_squared_error: 0.0206 - val_loss: 0.0196 - val_mean_squared_error: 0.0197\n",
      "Epoch 125/200\n",
      "1576/1576 [==============================] - 3s 2ms/step - loss: 0.0204 - mean_squared_error: 0.0204 - val_loss: 0.0193 - val_mean_squared_error: 0.0195\n",
      "Epoch 126/200\n",
      "1576/1576 [==============================] - 3s 2ms/step - loss: 0.0205 - mean_squared_error: 0.0205 - val_loss: 0.0191 - val_mean_squared_error: 0.0193\n",
      "Epoch 127/200\n",
      "1576/1576 [==============================] - 3s 2ms/step - loss: 0.0204 - mean_squared_error: 0.0204 - val_loss: 0.0199 - val_mean_squared_error: 0.0201\n",
      "Epoch 128/200\n",
      "1576/1576 [==============================] - 2s 2ms/step - loss: 0.0202 - mean_squared_error: 0.0202 - val_loss: 0.0191 - val_mean_squared_error: 0.0193\n",
      "Epoch 129/200\n",
      "1576/1576 [==============================] - 2s 2ms/step - loss: 0.0203 - mean_squared_error: 0.0203 - val_loss: 0.0193 - val_mean_squared_error: 0.0195\n",
      "Epoch 130/200\n",
      "1576/1576 [==============================] - 2s 2ms/step - loss: 0.0202 - mean_squared_error: 0.0202 - val_loss: 0.0209 - val_mean_squared_error: 0.0211\n",
      "Epoch 131/200\n",
      "1576/1576 [==============================] - 2s 2ms/step - loss: 0.0205 - mean_squared_error: 0.0205 - val_loss: 0.0189 - val_mean_squared_error: 0.0191\n",
      "Epoch 132/200\n",
      "1576/1576 [==============================] - 2s 2ms/step - loss: 0.0204 - mean_squared_error: 0.0204 - val_loss: 0.0207 - val_mean_squared_error: 0.0209\n",
      "Epoch 133/200\n",
      "1576/1576 [==============================] - 2s 1ms/step - loss: 0.0202 - mean_squared_error: 0.0202 - val_loss: 0.0201 - val_mean_squared_error: 0.0202\n",
      "Epoch 134/200\n",
      "1576/1576 [==============================] - 2s 2ms/step - loss: 0.0205 - mean_squared_error: 0.0205 - val_loss: 0.0187 - val_mean_squared_error: 0.0188\n",
      "Epoch 135/200\n",
      "1576/1576 [==============================] - 2s 2ms/step - loss: 0.0204 - mean_squared_error: 0.0204 - val_loss: 0.0187 - val_mean_squared_error: 0.0188\n",
      "Epoch 136/200\n",
      "1576/1576 [==============================] - 2s 2ms/step - loss: 0.0200 - mean_squared_error: 0.0200 - val_loss: 0.0189 - val_mean_squared_error: 0.0191\n",
      "Epoch 137/200\n",
      "1576/1576 [==============================] - 2s 1ms/step - loss: 0.0200 - mean_squared_error: 0.0200 - val_loss: 0.0187 - val_mean_squared_error: 0.0189\n",
      "Epoch 138/200\n",
      "1576/1576 [==============================] - 2s 1ms/step - loss: 0.0200 - mean_squared_error: 0.0200 - val_loss: 0.0198 - val_mean_squared_error: 0.0200\n",
      "Epoch 139/200\n",
      "1576/1576 [==============================] - 2s 1ms/step - loss: 0.0200 - mean_squared_error: 0.0200 - val_loss: 0.0195 - val_mean_squared_error: 0.0197\n",
      "Epoch 140/200\n",
      "1576/1576 [==============================] - 2s 1ms/step - loss: 0.0200 - mean_squared_error: 0.0200 - val_loss: 0.0188 - val_mean_squared_error: 0.0189\n",
      "Epoch 141/200\n",
      "1576/1576 [==============================] - 2s 1ms/step - loss: 0.0205 - mean_squared_error: 0.0205 - val_loss: 0.0187 - val_mean_squared_error: 0.0189\n",
      "Epoch 142/200\n",
      "1576/1576 [==============================] - 2s 1ms/step - loss: 0.0201 - mean_squared_error: 0.0201 - val_loss: 0.0195 - val_mean_squared_error: 0.0197\n",
      "Epoch 143/200\n",
      "1576/1576 [==============================] - 2s 2ms/step - loss: 0.0203 - mean_squared_error: 0.0203 - val_loss: 0.0187 - val_mean_squared_error: 0.0188\n",
      "Epoch 144/200\n",
      "1576/1576 [==============================] - 2s 1ms/step - loss: 0.0199 - mean_squared_error: 0.0199 - val_loss: 0.0194 - val_mean_squared_error: 0.0196\n",
      "Epoch 145/200\n",
      "1576/1576 [==============================] - 2s 1ms/step - loss: 0.0200 - mean_squared_error: 0.0200 - val_loss: 0.0197 - val_mean_squared_error: 0.0198\n",
      "Epoch 146/200\n",
      "1576/1576 [==============================] - 2s 1ms/step - loss: 0.0201 - mean_squared_error: 0.0201 - val_loss: 0.0194 - val_mean_squared_error: 0.0195\n",
      "Epoch 147/200\n",
      "1576/1576 [==============================] - 2s 1ms/step - loss: 0.0199 - mean_squared_error: 0.0199 - val_loss: 0.0185 - val_mean_squared_error: 0.0186\n",
      "Epoch 148/200\n",
      "1576/1576 [==============================] - 2s 2ms/step - loss: 0.0198 - mean_squared_error: 0.0198 - val_loss: 0.0196 - val_mean_squared_error: 0.0198\n",
      "Epoch 149/200\n",
      "1576/1576 [==============================] - 2s 1ms/step - loss: 0.0199 - mean_squared_error: 0.0199 - val_loss: 0.0188 - val_mean_squared_error: 0.0189\n",
      "Epoch 150/200\n",
      "1576/1576 [==============================] - 2s 1ms/step - loss: 0.0199 - mean_squared_error: 0.0199 - val_loss: 0.0209 - val_mean_squared_error: 0.0210\n",
      "Epoch 151/200\n",
      "1576/1576 [==============================] - 2s 1ms/step - loss: 0.0200 - mean_squared_error: 0.0200 - val_loss: 0.0188 - val_mean_squared_error: 0.0189\n",
      "Epoch 152/200\n",
      "1576/1576 [==============================] - 2s 1ms/step - loss: 0.0200 - mean_squared_error: 0.0200 - val_loss: 0.0196 - val_mean_squared_error: 0.0197\n",
      "Epoch 153/200\n",
      "1576/1576 [==============================] - 2s 1ms/step - loss: 0.0195 - mean_squared_error: 0.0195 - val_loss: 0.0184 - val_mean_squared_error: 0.0185\n",
      "Epoch 154/200\n",
      "1576/1576 [==============================] - 2s 1ms/step - loss: 0.0195 - mean_squared_error: 0.0195 - val_loss: 0.0184 - val_mean_squared_error: 0.0186\n",
      "Epoch 155/200\n",
      "1576/1576 [==============================] - 2s 1ms/step - loss: 0.0199 - mean_squared_error: 0.0199 - val_loss: 0.0192 - val_mean_squared_error: 0.0193\n",
      "Epoch 156/200\n",
      "1576/1576 [==============================] - 2s 1ms/step - loss: 0.0195 - mean_squared_error: 0.0195 - val_loss: 0.0192 - val_mean_squared_error: 0.0194\n",
      "Epoch 157/200\n",
      "1576/1576 [==============================] - 2s 2ms/step - loss: 0.0196 - mean_squared_error: 0.0196 - val_loss: 0.0190 - val_mean_squared_error: 0.0191\n",
      "Epoch 158/200\n",
      "1576/1576 [==============================] - 2s 2ms/step - loss: 0.0196 - mean_squared_error: 0.0196 - val_loss: 0.0182 - val_mean_squared_error: 0.0184\n",
      "Epoch 159/200\n",
      "1576/1576 [==============================] - 2s 1ms/step - loss: 0.0197 - mean_squared_error: 0.0197 - val_loss: 0.0187 - val_mean_squared_error: 0.0189\n",
      "Epoch 160/200\n",
      "1576/1576 [==============================] - 2s 2ms/step - loss: 0.0196 - mean_squared_error: 0.0196 - val_loss: 0.0190 - val_mean_squared_error: 0.0191\n",
      "Epoch 161/200\n",
      "1576/1576 [==============================] - 2s 1ms/step - loss: 0.0194 - mean_squared_error: 0.0194 - val_loss: 0.0191 - val_mean_squared_error: 0.0192\n",
      "Epoch 162/200\n",
      "1576/1576 [==============================] - 2s 1ms/step - loss: 0.0195 - mean_squared_error: 0.0195 - val_loss: 0.0188 - val_mean_squared_error: 0.0190\n",
      "Epoch 163/200\n",
      "1576/1576 [==============================] - 2s 1ms/step - loss: 0.0195 - mean_squared_error: 0.0195 - val_loss: 0.0186 - val_mean_squared_error: 0.0188\n",
      "Epoch 164/200\n",
      "1576/1576 [==============================] - 2s 1ms/step - loss: 0.0194 - mean_squared_error: 0.0194 - val_loss: 0.0195 - val_mean_squared_error: 0.0197\n",
      "Epoch 165/200\n",
      "1576/1576 [==============================] - 2s 1ms/step - loss: 0.0196 - mean_squared_error: 0.0196 - val_loss: 0.0188 - val_mean_squared_error: 0.0190\n",
      "Epoch 166/200\n",
      "1576/1576 [==============================] - 2s 1ms/step - loss: 0.0192 - mean_squared_error: 0.0192 - val_loss: 0.0200 - val_mean_squared_error: 0.0202\n",
      "Epoch 167/200\n",
      "1576/1576 [==============================] - 2s 1ms/step - loss: 0.0193 - mean_squared_error: 0.0193 - val_loss: 0.0182 - val_mean_squared_error: 0.0183\n",
      "Epoch 168/200\n",
      "1576/1576 [==============================] - 2s 1ms/step - loss: 0.0193 - mean_squared_error: 0.0193 - val_loss: 0.0184 - val_mean_squared_error: 0.0186\n",
      "Epoch 169/200\n",
      "1576/1576 [==============================] - 2s 1ms/step - loss: 0.0196 - mean_squared_error: 0.0196 - val_loss: 0.0193 - val_mean_squared_error: 0.0195\n",
      "Epoch 170/200\n",
      "1576/1576 [==============================] - 2s 1ms/step - loss: 0.0191 - mean_squared_error: 0.0191 - val_loss: 0.0186 - val_mean_squared_error: 0.0187\n",
      "Epoch 171/200\n",
      "1576/1576 [==============================] - 2s 1ms/step - loss: 0.0195 - mean_squared_error: 0.0195 - val_loss: 0.0180 - val_mean_squared_error: 0.0182\n",
      "Epoch 172/200\n",
      "1576/1576 [==============================] - 2s 1ms/step - loss: 0.0192 - mean_squared_error: 0.0192 - val_loss: 0.0187 - val_mean_squared_error: 0.0188\n",
      "Epoch 173/200\n",
      "1576/1576 [==============================] - 2s 1ms/step - loss: 0.0192 - mean_squared_error: 0.0192 - val_loss: 0.0185 - val_mean_squared_error: 0.0186\n",
      "Epoch 174/200\n",
      "1576/1576 [==============================] - 2s 1ms/step - loss: 0.0192 - mean_squared_error: 0.0192 - val_loss: 0.0192 - val_mean_squared_error: 0.0194\n",
      "Epoch 175/200\n",
      "1576/1576 [==============================] - 2s 2ms/step - loss: 0.0191 - mean_squared_error: 0.0191 - val_loss: 0.0184 - val_mean_squared_error: 0.0186\n",
      "Epoch 176/200\n",
      "1576/1576 [==============================] - 2s 1ms/step - loss: 0.0193 - mean_squared_error: 0.0193 - val_loss: 0.0183 - val_mean_squared_error: 0.0184\n",
      "Epoch 177/200\n",
      "1576/1576 [==============================] - 2s 2ms/step - loss: 0.0191 - mean_squared_error: 0.0191 - val_loss: 0.0188 - val_mean_squared_error: 0.0189\n",
      "Epoch 178/200\n",
      "1576/1576 [==============================] - 2s 2ms/step - loss: 0.0191 - mean_squared_error: 0.0191 - val_loss: 0.0187 - val_mean_squared_error: 0.0188\n",
      "Epoch 179/200\n",
      "1576/1576 [==============================] - 2s 2ms/step - loss: 0.0191 - mean_squared_error: 0.0190 - val_loss: 0.0186 - val_mean_squared_error: 0.0188\n",
      "Epoch 180/200\n",
      "1576/1576 [==============================] - 2s 1ms/step - loss: 0.0192 - mean_squared_error: 0.0192 - val_loss: 0.0193 - val_mean_squared_error: 0.0194\n",
      "Epoch 181/200\n",
      "1576/1576 [==============================] - 2s 1ms/step - loss: 0.0197 - mean_squared_error: 0.0197 - val_loss: 0.0185 - val_mean_squared_error: 0.0187\n",
      "Epoch 182/200\n",
      "1576/1576 [==============================] - 3s 2ms/step - loss: 0.0193 - mean_squared_error: 0.0193 - val_loss: 0.0185 - val_mean_squared_error: 0.0187\n",
      "Epoch 183/200\n",
      "1576/1576 [==============================] - 2s 2ms/step - loss: 0.0192 - mean_squared_error: 0.0192 - val_loss: 0.0196 - val_mean_squared_error: 0.0198\n",
      "Epoch 184/200\n",
      "1576/1576 [==============================] - 3s 2ms/step - loss: 0.0192 - mean_squared_error: 0.0192 - val_loss: 0.0182 - val_mean_squared_error: 0.0184\n",
      "Epoch 185/200\n",
      "1576/1576 [==============================] - 2s 2ms/step - loss: 0.0190 - mean_squared_error: 0.0190 - val_loss: 0.0184 - val_mean_squared_error: 0.0185\n",
      "Epoch 186/200\n",
      "1576/1576 [==============================] - 3s 2ms/step - loss: 0.0191 - mean_squared_error: 0.0191 - val_loss: 0.0198 - val_mean_squared_error: 0.0200\n",
      "Epoch 187/200\n",
      "1576/1576 [==============================] - 2s 2ms/step - loss: 0.0194 - mean_squared_error: 0.0194 - val_loss: 0.0183 - val_mean_squared_error: 0.0184\n",
      "Epoch 188/200\n",
      "1576/1576 [==============================] - 3s 2ms/step - loss: 0.0190 - mean_squared_error: 0.0190 - val_loss: 0.0186 - val_mean_squared_error: 0.0188\n",
      "Epoch 189/200\n",
      "1576/1576 [==============================] - 2s 2ms/step - loss: 0.0190 - mean_squared_error: 0.0190 - val_loss: 0.0185 - val_mean_squared_error: 0.0186\n",
      "Epoch 190/200\n",
      "1576/1576 [==============================] - 2s 2ms/step - loss: 0.0188 - mean_squared_error: 0.0188 - val_loss: 0.0190 - val_mean_squared_error: 0.0191\n",
      "Epoch 191/200\n",
      "1576/1576 [==============================] - 2s 2ms/step - loss: 0.0189 - mean_squared_error: 0.0189 - val_loss: 0.0185 - val_mean_squared_error: 0.0186\n",
      "Epoch 192/200\n",
      "1576/1576 [==============================] - 2s 2ms/step - loss: 0.0190 - mean_squared_error: 0.0190 - val_loss: 0.0183 - val_mean_squared_error: 0.0184\n",
      "Epoch 193/200\n",
      "1576/1576 [==============================] - 2s 2ms/step - loss: 0.0188 - mean_squared_error: 0.0188 - val_loss: 0.0191 - val_mean_squared_error: 0.0192\n",
      "Epoch 194/200\n",
      "1576/1576 [==============================] - 2s 1ms/step - loss: 0.0191 - mean_squared_error: 0.0191 - val_loss: 0.0192 - val_mean_squared_error: 0.0193\n",
      "Epoch 195/200\n",
      "1576/1576 [==============================] - 2s 1ms/step - loss: 0.0188 - mean_squared_error: 0.0188 - val_loss: 0.0178 - val_mean_squared_error: 0.0179\n",
      "Epoch 196/200\n",
      "1576/1576 [==============================] - 2s 1ms/step - loss: 0.0190 - mean_squared_error: 0.0190 - val_loss: 0.0197 - val_mean_squared_error: 0.0199\n",
      "Epoch 197/200\n",
      "1576/1576 [==============================] - 2s 1ms/step - loss: 0.0187 - mean_squared_error: 0.0187 - val_loss: 0.0187 - val_mean_squared_error: 0.0189\n",
      "Epoch 198/200\n",
      "1576/1576 [==============================] - 2s 1ms/step - loss: 0.0187 - mean_squared_error: 0.0187 - val_loss: 0.0178 - val_mean_squared_error: 0.0180\n",
      "Epoch 199/200\n",
      "1576/1576 [==============================] - 2s 2ms/step - loss: 0.0186 - mean_squared_error: 0.0186 - val_loss: 0.0183 - val_mean_squared_error: 0.0185\n",
      "Epoch 200/200\n",
      "1576/1576 [==============================] - 2s 2ms/step - loss: 0.0187 - mean_squared_error: 0.0187 - val_loss: 0.0183 - val_mean_squared_error: 0.0184\n"
     ]
    }
   ],
   "source": [
    "# reshape x_train and x_test\n",
    "# x_train = x_train.values.reshape(x_train.shape[0], x_train.shape[1], 1)\n",
    "with tf.device(\"cpu\") :\n",
    "    history_reg, model_reg = make_reg_model(\n",
    "        Dense(64, activation=\"sigmoid\", input_dim=x_train.shape[1]),\n",
    "        Dropout(0.1),\n",
    "        Dense(32, activation=\"relu\"),\n",
    "        # Dropout(0.1),\n",
    "        Dense(32, activation=\"relu\"),\n",
    "        # Dropout(0.1),\n",
    "        Dense(32, activation=\"relu\"),\n",
    "        x=x_train.values ,y=y_reg_train,\n",
    "        last_activation=square_relu,\n",
    "        epochs=200,\n",
    "        batch_size=64,\n",
    "        learning_rate=0.001\n",
    "    )"
   ],
   "metadata": {
    "collapsed": false,
    "pycharm": {
     "name": "#%%\n"
    }
   }
  },
  {
   "cell_type": "code",
   "execution_count": 40,
   "outputs": [
    {
     "data": {
      "text/plain": "<Figure size 504x360 with 1 Axes>",
      "image/png": "[encoded data removed]"
     },
     "metadata": {
      "needs_background": "light"
     },
     "output_type": "display_data"
    }
   ],
   "source": [
    "# Plot history\n",
    "plot_history_reg(history_reg, 'mean_squared_error')"
   ],
   "metadata": {
    "collapsed": false,
    "pycharm": {
     "name": "#%%\n"
    }
   }
  },
  {
   "cell_type": "markdown",
   "source": [
    "    # Compute MAPE on 2017 dataset before submitting"
   ],
   "metadata": {
    "collapsed": false
   }
  },
  {
   "cell_type": "markdown",
   "source": [
    "## classification"
   ],
   "metadata": {
    "collapsed": false
   }
  },
  {
   "cell_type": "code",
   "execution_count": 41,
   "outputs": [],
   "source": [
    "y_cls_pred = model_cls.predict(x_test)"
   ],
   "metadata": {
    "collapsed": false,
    "pycharm": {
     "name": "#%%\n"
    }
   }
  },
  {
   "cell_type": "code",
   "execution_count": 42,
   "outputs": [
    {
     "data": {
      "text/plain": "<Figure size 432x288 with 1 Axes>",
      "image/png": "[encoded data removed]"
     },
     "metadata": {
      "needs_background": "light"
     },
     "output_type": "display_data"
    }
   ],
   "source": [
    "plt.hist(y_cls_pred[:,0], color=\"cyan\", alpha=0.3, bins=100, label=\"not_raining\")\n",
    "plt.hist(y_cls_pred[:,1], color=\"magenta\", alpha=0.3, bins=100, label=\"raining\")\n",
    "plt.xlim([0,1])\n",
    "plt.legend()\n",
    "plt.show()"
   ],
   "metadata": {
    "collapsed": false,
    "pycharm": {
     "name": "#%%\n"
    }
   }
  },
  {
   "cell_type": "code",
   "execution_count": 43,
   "outputs": [],
   "source": [
    "y_cls_pred_bkp = np.array(y_cls_pred)"
   ],
   "metadata": {
    "collapsed": false,
    "pycharm": {
     "name": "#%%\n"
    }
   }
  },
  {
   "cell_type": "code",
   "execution_count": 49,
   "outputs": [],
   "source": [
    "y_cls_pred = np.array(y_cls_pred_bkp)"
   ],
   "metadata": {
    "collapsed": false,
    "pycharm": {
     "name": "#%%\n"
    }
   }
  },
  {
   "cell_type": "code",
   "execution_count": 50,
   "outputs": [],
   "source": [
    "cls_temp = y_cls_pred[:,0] < 0.5*y_cls_pred[:,1]\n",
    "y_cls_pred = np.array([0 if c else 1 for c in cls_temp])"
   ],
   "metadata": {
    "collapsed": false,
    "pycharm": {
     "name": "#%%\n"
    }
   }
  },
  {
   "cell_type": "code",
   "execution_count": 51,
   "outputs": [
    {
     "data": {
      "text/plain": "<Figure size 432x288 with 1 Axes>",
      "image/png": "[encoded data removed]"
     },
     "metadata": {
      "needs_background": "light"
     },
     "output_type": "display_data"
    }
   ],
   "source": [
    "raining_ratio_pred = y_cls_pred.sum()/(len(y_cls_pred) - y_cls_pred.sum())\n",
    "plt.title(\"2016 (train set) : ratio = {:.2f}\".format(raining_ratio_pred))\n",
    "sns.histplot(x=y_cls_pred,hue=y_cls_pred)\n",
    "plt.show()"
   ],
   "metadata": {
    "collapsed": false,
    "pycharm": {
     "name": "#%%\n"
    }
   }
  },
  {
   "cell_type": "markdown",
   "source": [
    "## regression"
   ],
   "metadata": {
    "collapsed": false
   }
  },
  {
   "cell_type": "code",
   "execution_count": 52,
   "outputs": [],
   "source": [
    "y_reg_pred = model_reg.predict(x_test)"
   ],
   "metadata": {
    "collapsed": false,
    "pycharm": {
     "name": "#%%\n"
    }
   }
  },
  {
   "cell_type": "markdown",
   "source": [
    "## merge"
   ],
   "metadata": {
    "collapsed": false
   }
  },
  {
   "cell_type": "code",
   "execution_count": 53,
   "outputs": [],
   "source": [
    "prediction_x_test[\"reg_pred\"] = pd.Series(y_reg_pred.T[0])\n",
    "prediction_x_test[\"cls_pred\"] = y_cls_pred\n",
    "prediction_x_test[\"Prediction\"] = prediction_x_test[\"reg_pred\"] * prediction_x_test[\"cls_pred\"]"
   ],
   "metadata": {
    "collapsed": false,
    "pycharm": {
     "name": "#%%\n"
    }
   }
  },
  {
   "cell_type": "code",
   "execution_count": 54,
   "outputs": [
    {
     "data": {
      "text/plain": "<Figure size 1440x720 with 6 Axes>",
      "image/png": "[encoded data removed]"
     },
     "metadata": {
      "needs_background": "light"
     },
     "output_type": "display_data"
    }
   ],
   "source": [
    "box_plot(prediction_x_test)"
   ],
   "metadata": {
    "collapsed": false,
    "pycharm": {
     "name": "#%%\n"
    }
   }
  },
  {
   "cell_type": "code",
   "execution_count": 21,
   "outputs": [],
   "source": [
    "del x_train\n",
    "del y_cls_train\n",
    "del y_reg_train"
   ],
   "metadata": {
    "collapsed": false,
    "pycharm": {
     "name": "#%%\n"
    }
   }
  },
  {
   "cell_type": "code",
   "execution_count": 29,
   "outputs": [],
   "source": [
    "del x_test\n",
    "del y_cls_test\n",
    "del y_reg_test"
   ],
   "metadata": {
    "collapsed": false,
    "pycharm": {
     "name": "#%%\n"
    }
   }
  },
  {
   "cell_type": "markdown",
   "source": [
    "# Make a submission"
   ],
   "metadata": {
    "collapsed": false
   }
  },
  {
   "cell_type": "code",
   "execution_count": null,
   "outputs": [],
   "source": [
    "test_set = pd.read_csv(\"../preprocessed_data_Defi-IA-2022-Rain-Frogs/X_all_test_final_by_day.zip\")\n",
    "# test_set = pd.read_csv(\"../preprocessed_data_Defi-IA-2022-Rain-Frogs/X_all_test_final.zip\")"
   ],
   "metadata": {
    "collapsed": false,
    "pycharm": {
     "name": "#%%\n"
    }
   }
  },
  {
   "cell_type": "markdown",
   "source": [
    "## create submission dataset"
   ],
   "metadata": {
    "collapsed": false
   }
  },
  {
   "cell_type": "code",
   "execution_count": null,
   "outputs": [],
   "source": [
    "submission = pd.DataFrame(test_set[[\"Id\"]])"
   ],
   "metadata": {
    "collapsed": false,
    "pycharm": {
     "name": "#%%\n"
    }
   }
  },
  {
   "cell_type": "markdown",
   "source": [
    "## get same columns as before for test_set"
   ],
   "metadata": {
    "collapsed": false
   }
  },
  {
   "cell_type": "code",
   "execution_count": null,
   "outputs": [],
   "source": [
    "test_set = test_set[columns]"
   ],
   "metadata": {
    "collapsed": false,
    "pycharm": {
     "name": "#%%\n"
    }
   }
  },
  {
   "cell_type": "markdown",
   "source": [
    "## normalize same way test_set"
   ],
   "metadata": {
    "collapsed": false
   }
  },
  {
   "cell_type": "code",
   "execution_count": null,
   "outputs": [],
   "source": [
    "test_set = normalize(test_set,normalization_infos)"
   ],
   "metadata": {
    "collapsed": false,
    "pycharm": {
     "name": "#%%\n"
    }
   }
  },
  {
   "cell_type": "code",
   "execution_count": null,
   "outputs": [],
   "source": [
    "test_set.head()"
   ],
   "metadata": {
    "collapsed": false,
    "pycharm": {
     "name": "#%%\n"
    }
   }
  },
  {
   "cell_type": "markdown",
   "source": [
    "## Predict test_set for submission"
   ],
   "metadata": {
    "collapsed": false
   }
  },
  {
   "cell_type": "code",
   "execution_count": null,
   "outputs": [],
   "source": [
    "y_cls_pred = model_cls.predict(test_set)"
   ],
   "metadata": {
    "collapsed": false,
    "pycharm": {
     "name": "#%%\n"
    }
   }
  },
  {
   "cell_type": "code",
   "execution_count": null,
   "outputs": [],
   "source": [
    "y_reg_pred = model_reg.predict(test_set)"
   ],
   "metadata": {
    "collapsed": false,
    "pycharm": {
     "name": "#%%\n"
    }
   }
  },
  {
   "cell_type": "code",
   "execution_count": null,
   "outputs": [],
   "source": [
    "cls_temp = y_cls_pred[:,0] < y_cls_pred[:,1]\n",
    "y_cls_pred = np.array([[0,1] if c else [1,0] for c in cls_temp])"
   ],
   "metadata": {
    "collapsed": false,
    "pycharm": {
     "name": "#%%\n"
    }
   }
  },
  {
   "cell_type": "code",
   "execution_count": null,
   "outputs": [],
   "source": [
    "sns.histplot(x=y_cls_pred[:,1], hue=y_cls_pred[:,1])\n",
    "plt.show()"
   ],
   "metadata": {
    "collapsed": false,
    "pycharm": {
     "name": "#%%\n"
    }
   }
  },
  {
   "cell_type": "code",
   "execution_count": null,
   "outputs": [],
   "source": [
    "print(avg_raining_ratio)"
   ],
   "metadata": {
    "collapsed": false,
    "pycharm": {
     "name": "#%%\n"
    }
   }
  },
  {
   "cell_type": "code",
   "execution_count": null,
   "outputs": [],
   "source": [
    "submission[\"cls_pred\"] = pd.Series(y_cls_pred.T[0])\n",
    "submission[\"reg_pred\"] = y_reg_pred"
   ],
   "metadata": {
    "collapsed": false,
    "pycharm": {
     "name": "#%%\n"
    }
   }
  },
  {
   "cell_type": "code",
   "execution_count": null,
   "outputs": [],
   "source": [
    "submission[\"Prediction\"] = submission[\"cls_pred\"] * submission[\"reg_pred\"]"
   ],
   "metadata": {
    "collapsed": false,
    "pycharm": {
     "name": "#%%\n"
    }
   }
  },
  {
   "cell_type": "code",
   "execution_count": null,
   "outputs": [],
   "source": [
    "submission.head(50)"
   ],
   "metadata": {
    "collapsed": false,
    "pycharm": {
     "name": "#%%\n"
    }
   }
  },
  {
   "cell_type": "code",
   "execution_count": null,
   "outputs": [],
   "source": [
    "submission[[\"Id\",\"Prediction\"]].to_csv(\"../submissions/submission_ann.csv\", index=False)"
   ],
   "metadata": {
    "collapsed": false,
    "pycharm": {
     "name": "#%%\n"
    }
   }
  },
  {
   "cell_type": "markdown",
   "source": [
    "lon_idx lat_idx id month penser à normaliser les datasets avec les valeurs max d'un des dataset"
   ],
   "metadata": {
    "collapsed": false
   }
  }
 ],
 "metadata": {
  "kernelspec": {
   "display_name": "Python 3",
   "language": "python",
   "name": "python3"
  },
  "language_info": {
   "codemirror_mode": {
    "name": "ipython",
    "version": 2
   },
   "file_extension": ".py",
   "mimetype": "text/x-python",
   "name": "python",
   "nbconvert_exporter": "python",
   "pygments_lexer": "ipython2",
   "version": "2.7.6"
  }
 },
 "nbformat": 4,
 "nbformat_minor": 0
}
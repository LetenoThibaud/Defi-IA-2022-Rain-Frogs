{
 "cells": [
  {
   "cell_type": "markdown",
   "source": [
    "source : https://www.analyticsvidhya.com/blog/2021/08/a-walk-through-of-regression-analysis-using-artificial-neural-networks-in-tensorflow/"
   ],
   "metadata": {
    "collapsed": false,
    "pycharm": {
     "name": "#%% md\n"
    }
   }
  },
  {
   "cell_type": "code",
   "execution_count": 1,
   "outputs": [],
   "source": [
    "import math\n",
    "import pandas as pd\n",
    "import tensorflow as tf\n",
    "import matplotlib.pyplot as plt\n",
    "from tensorflow.keras import Model\n",
    "from tensorflow.keras import Sequential\n",
    "from tensorflow.keras.optimizers import Adam\n",
    "from sklearn.preprocessing import StandardScaler\n",
    "from tensorflow.keras.layers import Dense, Dropout\n",
    "from sklearn.model_selection import train_test_split\n",
    "from tensorflow.keras.losses import MeanSquaredLogarithmicError"
   ],
   "metadata": {
    "collapsed": false,
    "pycharm": {
     "name": "#%%\n"
    }
   }
  },
  {
   "cell_type": "code",
   "execution_count": 2,
   "outputs": [
    {
     "name": "stdout",
     "output_type": "stream",
     "text": [
      "Num GPUs Available:  0\n"
     ]
    },
    {
     "name": "stderr",
     "output_type": "stream",
     "text": [
      "2022-01-05 19:29:54.223829: I tensorflow/stream_executor/cuda/cuda_gpu_executor.cc:939] successful NUMA node read from SysFS had negative value (-1), but there must be at least one NUMA node, so returning NUMA node zero\n",
      "2022-01-05 19:29:54.307049: W tensorflow/stream_executor/platform/default/dso_loader.cc:64] Could not load dynamic library 'libcudnn.so.8'; dlerror: libcudnn.so.8: cannot open shared object file: No such file or directory\n",
      "2022-01-05 19:29:54.307065: W tensorflow/core/common_runtime/gpu/gpu_device.cc:1850] Cannot dlopen some GPU libraries. Please make sure the missing libraries mentioned above are installed properly if you would like to use GPU. Follow the guide at https://www.tensorflow.org/install/gpu for how to download and setup the required libraries for your platform.\n",
      "Skipping registering GPU devices...\n"
     ]
    }
   ],
   "source": [
    "print(\"Num GPUs Available: \", len(tf.config.list_physical_devices('GPU')))"
   ],
   "metadata": {
    "collapsed": false,
    "pycharm": {
     "name": "#%%\n"
    }
   }
  },
  {
   "cell_type": "code",
   "execution_count": 17,
   "outputs": [],
   "source": [
    "df_train = pd.read_csv(\"../preprocessed_data_Defi-IA-2022-Rain-Frogs/X_all_2016_final.zip\")"
   ],
   "metadata": {
    "collapsed": false,
    "pycharm": {
     "name": "#%%\n"
    }
   }
  },
  {
   "cell_type": "code",
   "execution_count": 3,
   "outputs": [],
   "source": [
    "df_test = pd.read_csv(\"../preprocessed_data_Defi-IA-2022-Rain-Frogs/X_all_2017_final.zip\")"
   ],
   "metadata": {
    "collapsed": false,
    "pycharm": {
     "name": "#%%\n"
    }
   }
  },
  {
   "cell_type": "code",
   "execution_count": 19,
   "outputs": [],
   "source": [
    "x_train, y_train = df_train.drop(\"ground_truth\", axis=1), df_train[\"ground_truth\"]\n",
    "x_train.drop([\"day\",\"Id\"], axis=1, inplace=True)\n",
    "x_train = pd.DataFrame(StandardScaler().fit_transform(x_train), columns=x_train.columns)\n",
    "\n",
    "y_train = y_train.apply(lambda x : x+1)\n",
    "\n",
    "del df_train"
   ],
   "metadata": {
    "collapsed": false,
    "pycharm": {
     "name": "#%%\n"
    }
   }
  },
  {
   "cell_type": "code",
   "execution_count": 5,
   "outputs": [],
   "source": [
    "x_test, y_test = df_test.drop(\"ground_truth\", axis=1), df_test[\"ground_truth\"]\n",
    "x_test.drop([\"day\",\"Id\"], axis=1, inplace=True)\n",
    "x_test = pd.DataFrame(StandardScaler().fit_transform(x_test), columns=x_test.columns)\n",
    "\n",
    "y_test = y_test.apply(lambda x : x+1)\n",
    "\n",
    "del df_test"
   ],
   "metadata": {
    "collapsed": false,
    "pycharm": {
     "name": "#%%\n"
    }
   }
  },
  {
   "cell_type": "code",
   "execution_count": 8,
   "outputs": [],
   "source": [
    "# Creating model using the Sequential in tensorflow\n",
    "def build_model_using_sequential(*hidden_units, input_dim=106, msle = MeanSquaredLogarithmicError()):\n",
    "    model = Sequential()\n",
    "    model.add(Dense(hidden_units[0], input_dim=input_dim, activation=\"relu\",))\n",
    "    for hu in hidden_units[1:]:\n",
    "        model.add(Dropout(0.2))\n",
    "        model.add(Dense(hu, activation=\"relu\"))\n",
    "    model.add(Dense(1, activation='linear'))\n",
    "\n",
    "    model.compile(\n",
    "        loss=msle,\n",
    "        optimizer=Adam(learning_rate=0.01),\n",
    "        metrics=[msle]\n",
    "    )\n",
    "\n",
    "    print(model.summary())\n",
    "    return model"
   ],
   "metadata": {
    "collapsed": false,
    "pycharm": {
     "name": "#%%\n"
    }
   }
  },
  {
   "cell_type": "code",
   "execution_count": 9,
   "outputs": [
    {
     "name": "stderr",
     "output_type": "stream",
     "text": [
      "2022-01-05 19:31:58.865483: I tensorflow/core/platform/cpu_feature_guard.cc:151] This TensorFlow binary is optimized with oneAPI Deep Neural Network Library (oneDNN) to use the following CPU instructions in performance-critical operations:  AVX2 FMA\n",
      "To enable them in other operations, rebuild TensorFlow with the appropriate compiler flags.\n"
     ]
    },
    {
     "name": "stdout",
     "output_type": "stream",
     "text": [
      "Model: \"sequential\"\n",
      "_________________________________________________________________\n",
      " Layer (type)                Output Shape              Param #   \n",
      "=================================================================\n",
      " dense (Dense)               (None, 16)                1712      \n",
      "                                                                 \n",
      " dropout (Dropout)           (None, 16)                0         \n",
      "                                                                 \n",
      " dense_1 (Dense)             (None, 16)                272       \n",
      "                                                                 \n",
      " dropout_1 (Dropout)         (None, 16)                0         \n",
      "                                                                 \n",
      " dense_2 (Dense)             (None, 16)                272       \n",
      "                                                                 \n",
      " dense_3 (Dense)             (None, 1)                 17        \n",
      "                                                                 \n",
      "=================================================================\n",
      "Total params: 2,273\n",
      "Trainable params: 2,273\n",
      "Non-trainable params: 0\n",
      "_________________________________________________________________\n",
      "None\n"
     ]
    }
   ],
   "source": [
    "# build the model\n",
    "model = build_model_using_sequential(16,16,16,input_dim=x_train.shape[1])"
   ],
   "metadata": {
    "collapsed": false,
    "pycharm": {
     "name": "#%%\n"
    }
   }
  },
  {
   "cell_type": "code",
   "execution_count": 10,
   "outputs": [
    {
     "name": "stderr",
     "output_type": "stream",
     "text": [
      "2022-01-05 19:31:59.971007: W tensorflow/core/framework/cpu_allocator_impl.cc:82] Allocation of 1207128000 exceeds 10% of free system memory.\n"
     ]
    },
    {
     "name": "stdout",
     "output_type": "stream",
     "text": [
      "Epoch 1/25\n",
      "44448/44485 [============================>.] - ETA: 0s - loss: 0.0153 - mean_squared_logarithmic_error: 0.0153"
     ]
    },
    {
     "name": "stderr",
     "output_type": "stream",
     "text": [
      "2022-01-05 19:32:51.553621: W tensorflow/core/framework/cpu_allocator_impl.cc:82] Allocation of 2206077088 exceeds 10% of free system memory.\n"
     ]
    },
    {
     "name": "stdout",
     "output_type": "stream",
     "text": [
      "44485/44485 [==============================] - 78s 2ms/step - loss: 0.0152 - mean_squared_logarithmic_error: 0.0152 - val_loss: 0.0151 - val_mean_squared_logarithmic_error: 0.0151\n",
      "Epoch 2/25\n",
      "44485/44485 [==============================] - 72s 2ms/step - loss: 0.0154 - mean_squared_logarithmic_error: 0.0154 - val_loss: 0.0151 - val_mean_squared_logarithmic_error: 0.0151\n",
      "Epoch 3/25\n",
      "44485/44485 [==============================] - 72s 2ms/step - loss: 0.0154 - mean_squared_logarithmic_error: 0.0154 - val_loss: 0.0151 - val_mean_squared_logarithmic_error: 0.0151\n",
      "Epoch 4/25\n",
      "44485/44485 [==============================] - 73s 2ms/step - loss: 0.0154 - mean_squared_logarithmic_error: 0.0154 - val_loss: 0.0151 - val_mean_squared_logarithmic_error: 0.0151\n",
      "Epoch 5/25\n",
      "44485/44485 [==============================] - 63s 1ms/step - loss: 0.0154 - mean_squared_logarithmic_error: 0.0154 - val_loss: 0.0151 - val_mean_squared_logarithmic_error: 0.0151\n",
      "Epoch 6/25\n",
      "44485/44485 [==============================] - 71s 2ms/step - loss: 0.0154 - mean_squared_logarithmic_error: 0.0154 - val_loss: 0.0151 - val_mean_squared_logarithmic_error: 0.0151\n",
      "Epoch 7/25\n",
      "44485/44485 [==============================] - 72s 2ms/step - loss: 0.0154 - mean_squared_logarithmic_error: 0.0154 - val_loss: 0.0151 - val_mean_squared_logarithmic_error: 0.0151\n",
      "Epoch 8/25\n",
      "44485/44485 [==============================] - 58s 1ms/step - loss: 0.0154 - mean_squared_logarithmic_error: 0.0154 - val_loss: 0.0151 - val_mean_squared_logarithmic_error: 0.0151\n",
      "Epoch 9/25\n",
      "44485/44485 [==============================] - 73s 2ms/step - loss: 0.0154 - mean_squared_logarithmic_error: 0.0154 - val_loss: 0.0151 - val_mean_squared_logarithmic_error: 0.0151\n",
      "Epoch 10/25\n",
      "44485/44485 [==============================] - 73s 2ms/step - loss: 0.0154 - mean_squared_logarithmic_error: 0.0154 - val_loss: 0.0151 - val_mean_squared_logarithmic_error: 0.0151\n",
      "Epoch 11/25\n",
      "44485/44485 [==============================] - 75s 2ms/step - loss: 0.0154 - mean_squared_logarithmic_error: 0.0154 - val_loss: 0.0151 - val_mean_squared_logarithmic_error: 0.0151\n",
      "Epoch 12/25\n",
      "44485/44485 [==============================] - 68s 2ms/step - loss: 0.0154 - mean_squared_logarithmic_error: 0.0154 - val_loss: 0.0151 - val_mean_squared_logarithmic_error: 0.0151\n",
      "Epoch 13/25\n",
      "44485/44485 [==============================] - 79s 2ms/step - loss: 0.0154 - mean_squared_logarithmic_error: 0.0154 - val_loss: 0.0151 - val_mean_squared_logarithmic_error: 0.0151\n",
      "Epoch 14/25\n",
      "44485/44485 [==============================] - 87s 2ms/step - loss: 0.0154 - mean_squared_logarithmic_error: 0.0154 - val_loss: 0.0151 - val_mean_squared_logarithmic_error: 0.0151\n",
      "Epoch 15/25\n",
      "44485/44485 [==============================] - 89s 2ms/step - loss: 0.0154 - mean_squared_logarithmic_error: 0.0154 - val_loss: 0.0151 - val_mean_squared_logarithmic_error: 0.0151\n",
      "Epoch 16/25\n",
      "44485/44485 [==============================] - 81s 2ms/step - loss: 0.0154 - mean_squared_logarithmic_error: 0.0154 - val_loss: 0.0152 - val_mean_squared_logarithmic_error: 0.0152\n",
      "Epoch 17/25\n",
      "44485/44485 [==============================] - 87s 2ms/step - loss: 0.0154 - mean_squared_logarithmic_error: 0.0154 - val_loss: 0.0151 - val_mean_squared_logarithmic_error: 0.0151\n",
      "Epoch 18/25\n",
      "44485/44485 [==============================] - 90s 2ms/step - loss: 0.0154 - mean_squared_logarithmic_error: 0.0154 - val_loss: 0.0151 - val_mean_squared_logarithmic_error: 0.0151\n",
      "Epoch 19/25\n",
      "44485/44485 [==============================] - 85s 2ms/step - loss: 0.0154 - mean_squared_logarithmic_error: 0.0154 - val_loss: 0.0151 - val_mean_squared_logarithmic_error: 0.0151\n",
      "Epoch 20/25\n",
      "44485/44485 [==============================] - 91s 2ms/step - loss: 0.0154 - mean_squared_logarithmic_error: 0.0154 - val_loss: 0.0151 - val_mean_squared_logarithmic_error: 0.0151\n",
      "Epoch 21/25\n",
      "44485/44485 [==============================] - 72s 2ms/step - loss: 0.0154 - mean_squared_logarithmic_error: 0.0154 - val_loss: 0.0151 - val_mean_squared_logarithmic_error: 0.0151\n",
      "Epoch 22/25\n",
      "44485/44485 [==============================] - 64s 1ms/step - loss: 0.0154 - mean_squared_logarithmic_error: 0.0154 - val_loss: 0.0151 - val_mean_squared_logarithmic_error: 0.0151\n",
      "Epoch 23/25\n",
      "44485/44485 [==============================] - 71s 2ms/step - loss: 0.0154 - mean_squared_logarithmic_error: 0.0154 - val_loss: 0.0151 - val_mean_squared_logarithmic_error: 0.0151\n",
      "Epoch 24/25\n",
      "44485/44485 [==============================] - 84s 2ms/step - loss: 0.0154 - mean_squared_logarithmic_error: 0.0154 - val_loss: 0.0151 - val_mean_squared_logarithmic_error: 0.0151\n",
      "Epoch 25/25\n",
      "44485/44485 [==============================] - 96s 2ms/step - loss: 0.0154 - mean_squared_logarithmic_error: 0.0154 - val_loss: 0.0152 - val_mean_squared_logarithmic_error: 0.0152\n"
     ]
    }
   ],
   "source": [
    "with tf.device(\"gpu\"):\n",
    "    # train the model\n",
    "    history = model.fit(\n",
    "        x=x_train.values,\n",
    "        y=y_train.values,\n",
    "        epochs=25,\n",
    "        batch_size=64,\n",
    "        validation_data=(x_test,y_test)\n",
    "    )"
   ],
   "metadata": {
    "collapsed": false,
    "pycharm": {
     "name": "#%%\n"
    }
   }
  },
  {
   "cell_type": "code",
   "execution_count": 11,
   "outputs": [
    {
     "data": {
      "text/plain": "<Figure size 432x288 with 1 Axes>",
      "image/png": "[encoded data removed]"
     },
     "metadata": {
      "needs_background": "light"
     },
     "output_type": "display_data"
    }
   ],
   "source": [
    "def plot_history(history, key):\n",
    "    plt.plot(history.history[key])\n",
    "    plt.plot(history.history['val_'+key])\n",
    "    plt.xlabel(\"Epochs\")\n",
    "    plt.ylabel(key)\n",
    "    plt.legend([key, 'val_'+key])\n",
    "    plt.show()\n",
    "# Plot the history\n",
    "plot_history(history, 'mean_squared_logarithmic_error')"
   ],
   "metadata": {
    "collapsed": false,
    "pycharm": {
     "name": "#%%\n"
    }
   }
  },
  {
   "cell_type": "code",
   "execution_count": 12,
   "outputs": [],
   "source": [
    "del df_test\n",
    "del df_train"
   ],
   "metadata": {
    "collapsed": false,
    "pycharm": {
     "name": "#%%\n"
    }
   }
  },
  {
   "cell_type": "code",
   "execution_count": 13,
   "outputs": [],
   "source": [
    "test_set = pd.read_csv(\"../preprocessed_data_Defi-IA-2022-Rain-Frogs/X_all_test_final.zip\")"
   ],
   "metadata": {
    "collapsed": false,
    "pycharm": {
     "name": "#%%\n"
    }
   }
  },
  {
   "cell_type": "code",
   "execution_count": 16,
   "outputs": [],
   "source": [
    "submission = test_set[[\"Id\"]]"
   ],
   "metadata": {
    "collapsed": false,
    "pycharm": {
     "name": "#%%\n"
    }
   }
  },
  {
   "cell_type": "code",
   "execution_count": 24,
   "outputs": [],
   "source": [
    "test_set.drop(\"Unnamed: 0\", axis=1, inplace=True)"
   ],
   "metadata": {
    "collapsed": false,
    "pycharm": {
     "name": "#%%\n"
    }
   }
  },
  {
   "cell_type": "code",
   "execution_count": 21,
   "outputs": [
    {
     "data": {
      "text/plain": "   current hour precipitations (kg/m^2)  next hour precipitation (kg/m^2)  \\\n0                                   0.0                               0.0   \n1                                   0.0                               0.0   \n2                                   0.0                               0.0   \n3                                   0.0                               0.1   \n4                                   0.1                               0.0   \n\n   station_id  altitude (m)  latitude  longitude  latitude_idx  longitude_idx  \\\n0    86118001           120        46          0           217            273   \n1    86118001           120        46          0           217            273   \n2    86118001           120        46          0           217            273   \n3    86118001           120        46          0           217            273   \n4    86118001           120        46          0           217            273   \n\n   month  month_cos  ...  3D_Arpege_isobar_600hpa_VerticalVelocity (Pa/s)  \\\n0      7       -1.0  ...                                         0.050313   \n1      7       -1.0  ...                                         0.116777   \n2      7       -1.0  ...                                         0.034255   \n3      7       -1.0  ...                                         0.044748   \n4      7       -1.0  ...                                         0.112990   \n\n   3D_Arpege_isobar_600hpa_Geopotential (m^2/s^2)  \\\n0                                       41769.363   \n1                                       41779.273   \n2                                       41759.110   \n3                                       41738.992   \n4                                       41751.055   \n\n   3D_Arpege_isobar_500hpa_Temperature (K)  \\\n0                                253.42760   \n1                                253.43576   \n2                                253.48488   \n3                                253.57262   \n4                                253.62709   \n\n   3D_Arpege_isobar_500hpa_RelavtiveHumidity (%)  \\\n0                                      15.935472   \n1                                      20.216759   \n2                                      24.769560   \n3                                      29.092268   \n4                                      33.288578   \n\n   3D_Arpege_isobar_500hpa_WindSpeed (m/s)  \\\n0                                 5.843763   \n1                                 5.703158   \n2                                 5.187140   \n3                                 4.764898   \n4                                 4.690506   \n\n   3D_Arpege_isobar_500hpa_WindDirection (deg)  \\\n0                                    44.823340   \n1                                    45.653458   \n2                                    45.329548   \n3                                    43.618930   \n4                                    38.356937   \n\n   3D_Arpege_isobar_500hpa_WindComponentU (m/s)  \\\n0                                     -4.119983   \n1                                     -4.073028   \n2                                     -3.689022   \n3                                     -3.288254   \n4                                     -2.913704   \n\n   3D_Arpege_isobar_500hpa_WindComponentV (m/s)  \\\n0                                     -4.144466   \n1                                     -3.991674   \n2                                     -3.643088   \n3                                     -3.456242   \n4                                     -3.681483   \n\n   3D_Arpege_isobar_500hpa_VerticalVelocity (Pa/s)  \\\n0                                         0.024156   \n1                                         0.089902   \n2                                         0.114549   \n3                                         0.089390   \n4                                         0.068782   \n\n   3D_Arpege_isobar_500hpa_Geopotential (m^2/s^2)  \n0                                       55295.285  \n1                                       55311.367  \n2                                       55296.350  \n3                                       55280.207  \n4                                       55297.290  \n\n[5 rows x 107 columns]",
      "text/html": "<div>\n<style scoped>\n    .dataframe tbody tr th:only-of-type {\n        vertical-align: middle;\n    }\n\n    .dataframe tbody tr th {\n        vertical-align: top;\n    }\n\n    .dataframe thead th {\n        text-align: right;\n    }\n</style>\n<table border=\"1\" class=\"dataframe\">\n  <thead>\n    <tr style=\"text-align: right;\">\n      <th></th>\n      <th>current hour precipitations (kg/m^2)</th>\n      <th>next hour precipitation (kg/m^2)</th>\n      <th>station_id</th>\n      <th>altitude (m)</th>\n      <th>latitude</th>\n      <th>longitude</th>\n      <th>latitude_idx</th>\n      <th>longitude_idx</th>\n      <th>month</th>\n      <th>month_cos</th>\n      <th>...</th>\n      <th>3D_Arpege_isobar_600hpa_VerticalVelocity (Pa/s)</th>\n      <th>3D_Arpege_isobar_600hpa_Geopotential (m^2/s^2)</th>\n      <th>3D_Arpege_isobar_500hpa_Temperature (K)</th>\n      <th>3D_Arpege_isobar_500hpa_RelavtiveHumidity (%)</th>\n      <th>3D_Arpege_isobar_500hpa_WindSpeed (m/s)</th>\n      <th>3D_Arpege_isobar_500hpa_WindDirection (deg)</th>\n      <th>3D_Arpege_isobar_500hpa_WindComponentU (m/s)</th>\n      <th>3D_Arpege_isobar_500hpa_WindComponentV (m/s)</th>\n      <th>3D_Arpege_isobar_500hpa_VerticalVelocity (Pa/s)</th>\n      <th>3D_Arpege_isobar_500hpa_Geopotential (m^2/s^2)</th>\n    </tr>\n  </thead>\n  <tbody>\n    <tr>\n      <th>0</th>\n      <td>0.0</td>\n      <td>0.0</td>\n      <td>86118001</td>\n      <td>120</td>\n      <td>46</td>\n      <td>0</td>\n      <td>217</td>\n      <td>273</td>\n      <td>7</td>\n      <td>-1.0</td>\n      <td>...</td>\n      <td>0.050313</td>\n      <td>41769.363</td>\n      <td>253.42760</td>\n      <td>15.935472</td>\n      <td>5.843763</td>\n      <td>44.823340</td>\n      <td>-4.119983</td>\n      <td>-4.144466</td>\n      <td>0.024156</td>\n      <td>55295.285</td>\n    </tr>\n    <tr>\n      <th>1</th>\n      <td>0.0</td>\n      <td>0.0</td>\n      <td>86118001</td>\n      <td>120</td>\n      <td>46</td>\n      <td>0</td>\n      <td>217</td>\n      <td>273</td>\n      <td>7</td>\n      <td>-1.0</td>\n      <td>...</td>\n      <td>0.116777</td>\n      <td>41779.273</td>\n      <td>253.43576</td>\n      <td>20.216759</td>\n      <td>5.703158</td>\n      <td>45.653458</td>\n      <td>-4.073028</td>\n      <td>-3.991674</td>\n      <td>0.089902</td>\n      <td>55311.367</td>\n    </tr>\n    <tr>\n      <th>2</th>\n      <td>0.0</td>\n      <td>0.0</td>\n      <td>86118001</td>\n      <td>120</td>\n      <td>46</td>\n      <td>0</td>\n      <td>217</td>\n      <td>273</td>\n      <td>7</td>\n      <td>-1.0</td>\n      <td>...</td>\n      <td>0.034255</td>\n      <td>41759.110</td>\n      <td>253.48488</td>\n      <td>24.769560</td>\n      <td>5.187140</td>\n      <td>45.329548</td>\n      <td>-3.689022</td>\n      <td>-3.643088</td>\n      <td>0.114549</td>\n      <td>55296.350</td>\n    </tr>\n    <tr>\n      <th>3</th>\n      <td>0.0</td>\n      <td>0.1</td>\n      <td>86118001</td>\n      <td>120</td>\n      <td>46</td>\n      <td>0</td>\n      <td>217</td>\n      <td>273</td>\n      <td>7</td>\n      <td>-1.0</td>\n      <td>...</td>\n      <td>0.044748</td>\n      <td>41738.992</td>\n      <td>253.57262</td>\n      <td>29.092268</td>\n      <td>4.764898</td>\n      <td>43.618930</td>\n      <td>-3.288254</td>\n      <td>-3.456242</td>\n      <td>0.089390</td>\n      <td>55280.207</td>\n    </tr>\n    <tr>\n      <th>4</th>\n      <td>0.1</td>\n      <td>0.0</td>\n      <td>86118001</td>\n      <td>120</td>\n      <td>46</td>\n      <td>0</td>\n      <td>217</td>\n      <td>273</td>\n      <td>7</td>\n      <td>-1.0</td>\n      <td>...</td>\n      <td>0.112990</td>\n      <td>41751.055</td>\n      <td>253.62709</td>\n      <td>33.288578</td>\n      <td>4.690506</td>\n      <td>38.356937</td>\n      <td>-2.913704</td>\n      <td>-3.681483</td>\n      <td>0.068782</td>\n      <td>55297.290</td>\n    </tr>\n  </tbody>\n</table>\n<p>5 rows × 107 columns</p>\n</div>"
     },
     "execution_count": 21,
     "metadata": {},
     "output_type": "execute_result"
    }
   ],
   "source": [
    "test_set.drop([\"day\",\"Id\"], axis=1, inplace=True)\n",
    "test_set.head()"
   ],
   "metadata": {
    "collapsed": false,
    "pycharm": {
     "name": "#%%\n"
    }
   }
  },
  {
   "cell_type": "code",
   "execution_count": 25,
   "outputs": [
    {
     "name": "stderr",
     "output_type": "stream",
     "text": [
      "2022-01-05 20:42:58.169356: W tensorflow/core/framework/cpu_allocator_impl.cc:82] Allocation of 2401027200 exceeds 10% of free system memory.\n"
     ]
    }
   ],
   "source": [
    "y_pred = model.predict(test_set)"
   ],
   "metadata": {
    "collapsed": false,
    "pycharm": {
     "name": "#%%\n"
    }
   }
  },
  {
   "cell_type": "code",
   "execution_count": 28,
   "outputs": [
    {
     "data": {
      "text/plain": "array([[1.037151],\n       [1.037151],\n       [1.037151],\n       ...,\n       [1.037151],\n       [1.037151],\n       [1.037151]], dtype=float32)"
     },
     "execution_count": 28,
     "metadata": {},
     "output_type": "execute_result"
    }
   ],
   "source": [
    "y_pred"
   ],
   "metadata": {
    "collapsed": false,
    "pycharm": {
     "name": "#%%\n"
    }
   }
  },
  {
   "cell_type": "code",
   "execution_count": 31,
   "outputs": [],
   "source": [
    "submission = pd.concat([submission, pd.DataFrame({\"Prediction\" : list(y_pred)})])"
   ],
   "metadata": {
    "collapsed": false,
    "pycharm": {
     "name": "#%%\n"
    }
   }
  },
  {
   "cell_type": "code",
   "execution_count": 32,
   "outputs": [
    {
     "data": {
      "text/plain": "                 Id  Prediction\n0        86118001_1    1.037151\n1        86118001_1    1.037151\n2        86118001_1    1.037151\n3        86118001_1    1.037151\n4        86118001_1    1.037151\n...             ...         ...\n2831395         NaN  [1.037151]\n2831396         NaN  [1.037151]\n2831397         NaN  [1.037151]\n2831398         NaN  [1.037151]\n2831399         NaN  [1.037151]\n\n[5662800 rows x 2 columns]",
      "text/html": "<div>\n<style scoped>\n    .dataframe tbody tr th:only-of-type {\n        vertical-align: middle;\n    }\n\n    .dataframe tbody tr th {\n        vertical-align: top;\n    }\n\n    .dataframe thead th {\n        text-align: right;\n    }\n</style>\n<table border=\"1\" class=\"dataframe\">\n  <thead>\n    <tr style=\"text-align: right;\">\n      <th></th>\n      <th>Id</th>\n      <th>Prediction</th>\n    </tr>\n  </thead>\n  <tbody>\n    <tr>\n      <th>0</th>\n      <td>86118001_1</td>\n      <td>1.037151</td>\n    </tr>\n    <tr>\n      <th>1</th>\n      <td>86118001_1</td>\n      <td>1.037151</td>\n    </tr>\n    <tr>\n      <th>2</th>\n      <td>86118001_1</td>\n      <td>1.037151</td>\n    </tr>\n    <tr>\n      <th>3</th>\n      <td>86118001_1</td>\n      <td>1.037151</td>\n    </tr>\n    <tr>\n      <th>4</th>\n      <td>86118001_1</td>\n      <td>1.037151</td>\n    </tr>\n    <tr>\n      <th>...</th>\n      <td>...</td>\n      <td>...</td>\n    </tr>\n    <tr>\n      <th>2831395</th>\n      <td>NaN</td>\n      <td>[1.037151]</td>\n    </tr>\n    <tr>\n      <th>2831396</th>\n      <td>NaN</td>\n      <td>[1.037151]</td>\n    </tr>\n    <tr>\n      <th>2831397</th>\n      <td>NaN</td>\n      <td>[1.037151]</td>\n    </tr>\n    <tr>\n      <th>2831398</th>\n      <td>NaN</td>\n      <td>[1.037151]</td>\n    </tr>\n    <tr>\n      <th>2831399</th>\n      <td>NaN</td>\n      <td>[1.037151]</td>\n    </tr>\n  </tbody>\n</table>\n<p>5662800 rows × 2 columns</p>\n</div>"
     },
     "execution_count": 32,
     "metadata": {},
     "output_type": "execute_result"
    }
   ],
   "source": [
    "submission"
   ],
   "metadata": {
    "collapsed": false,
    "pycharm": {
     "name": "#%%\n"
    }
   }
  },
  {
   "cell_type": "code",
   "execution_count": 33,
   "outputs": [],
   "source": [
    "submission.to_csv(\"../submissions/submission_ann.csv\", index=False)"
   ],
   "metadata": {
    "collapsed": false,
    "pycharm": {
     "name": "#%%\n"
    }
   }
  }
 ],
 "metadata": {
  "kernelspec": {
   "display_name": "Python 3",
   "language": "python",
   "name": "python3"
  },
  "language_info": {
   "codemirror_mode": {
    "name": "ipython",
    "version": 2
   },
   "file_extension": ".py",
   "mimetype": "text/x-python",
   "name": "python",
   "nbconvert_exporter": "python",
   "pygments_lexer": "ipython2",
   "version": "2.7.6"
  }
 },
 "nbformat": 4,
 "nbformat_minor": 0
}
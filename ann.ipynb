{
 "cells": [
  {
   "cell_type": "code",
   "execution_count": 2,
   "outputs": [],
   "source": [
    "from pprint import pprint\n",
    "import numpy as np\n",
    "import pandas as pd\n",
    "import tensorflow as tf\n",
    "from tensorflow.keras import Model\n",
    "from tensorflow.keras import Sequential\n",
    "from tensorflow.keras.optimizers import Adam\n",
    "from sklearn.preprocessing import StandardScaler\n",
    "from tensorflow.keras.layers import Dense, Dropout\n",
    "from sklearn.model_selection import train_test_split\n",
    "from tensorflow.keras.losses import MeanSquaredLogarithmicError, MeanSquaredError\n",
    "\n",
    "import matplotlib.pyplot as plt\n",
    "import seaborn as sns"
   ],
   "metadata": {
    "collapsed": false,
    "pycharm": {
     "name": "#%%\n"
    }
   }
  },
  {
   "cell_type": "code",
   "execution_count": 1,
   "outputs": [],
   "source": [
    "def get_variables_and_size():\n",
    "    from sys import getsizeof\n",
    "    names = []\n",
    "    sizes = []\n",
    "    types = []\n",
    "    for name in dir():\n",
    "        # Print the item if it doesn't start with '__'\n",
    "        if not name.startswith('__'):\n",
    "            value = eval(name)\n",
    "            names.append(name)\n",
    "            sizes.append(getsizeof(value))\n",
    "            types.append(type(value))\n",
    "    sort_indexes = np.argsort(sizes)[::-1]\n",
    "    names = np.array(names)[sort_indexes]\n",
    "    sizes = np.array(sizes)[sort_indexes]\n",
    "    types = np.array(types)[sort_indexes]\n",
    "    for n,s,t in zip(names,sizes,types):\n",
    "        print(n, \"\\n\\tsize :\", s, \"\\n\\ttype :\", t)"
   ],
   "metadata": {
    "collapsed": false,
    "pycharm": {
     "name": "#%%\n"
    }
   }
  },
  {
   "cell_type": "markdown",
   "source": [
    "# Load the dataset"
   ],
   "metadata": {
    "collapsed": false
   }
  },
  {
   "cell_type": "code",
   "execution_count": 3,
   "outputs": [],
   "source": [
    "df_train = pd.read_csv(\"../preprocessed_data_Defi-IA-2022-Rain-Frogs/X_all_2016_final_by_day.zip\")\n",
    "# df_train = pd.read_csv(\"../preprocessed_data_Defi-IA-2022-Rain-Frogs/X_all_2016_final.zip\")\n",
    "df_train[\"raining\"] = df_train[\"ground_truth\"].apply(lambda x : 0 if (x==0) else 1)\n",
    "df_train[\"not_raining\"] = 1-df_train[\"raining\"]\n",
    "\n",
    "x_train, y_reg_train, y_cls_train = df_train.drop([\"ground_truth\",\"not_raining\",\"raining\"], axis=1), df_train[\"ground_truth\"], df_train[[\"not_raining\",\"raining\"]].to_numpy()\n",
    "del df_train"
   ],
   "metadata": {
    "collapsed": false,
    "pycharm": {
     "name": "#%%\n"
    }
   }
  },
  {
   "cell_type": "code",
   "execution_count": 4,
   "outputs": [],
   "source": [
    "df_test = pd.read_csv(\"../preprocessed_data_Defi-IA-2022-Rain-Frogs/X_all_2017_final_by_day.zip\")\n",
    "# df_test = pd.read_csv(\"../preprocessed_data_Defi-IA-2022-Rain-Frogs/X_all_2017_final.zip\")\n",
    "# get rows for computing MAPE on test\n",
    "prediction_x_test = pd.DataFrame(df_test[[\"Id\",\"ground_truth\"]])\n",
    "\n",
    "df_test[\"raining\"] = df_test[\"ground_truth\"].apply(lambda x : 0 if (x==0) else 1)\n",
    "df_test[\"not_raining\"] = 1-df_test[\"raining\"]\n",
    "\n",
    "x_test, y_reg_test, y_cls_test = df_test.drop([\"ground_truth\",\"not_raining\",\"raining\"], axis=1), df_test[\"ground_truth\"], df_test[[\"not_raining\",\"raining\"]].to_numpy()\n",
    "del df_test"
   ],
   "metadata": {
    "collapsed": false,
    "pycharm": {
     "name": "#%%\n"
    }
   }
  },
  {
   "cell_type": "markdown",
   "source": [
    "# Add classification label (raining or not)"
   ],
   "metadata": {
    "collapsed": false
   }
  },
  {
   "cell_type": "code",
   "execution_count": 5,
   "outputs": [],
   "source": [
    "# define the unnecessary columns\n",
    "cols_to_drop = {\"day\",\"Id\", \"station_id\",\"month\",\"longitude_idx\",\"latitude_idx\", \"next hour precipitation (kg/m^2)\", \"wind_direction (deg)\"}"
   ],
   "metadata": {
    "collapsed": false,
    "pycharm": {
     "name": "#%%\n"
    }
   }
  },
  {
   "cell_type": "code",
   "execution_count": 6,
   "outputs": [],
   "source": [
    "#drop unnecessary columns\n",
    "x_train.drop(list(set(x_train.columns)&cols_to_drop), axis=1, inplace=True)"
   ],
   "metadata": {
    "collapsed": false,
    "pycharm": {
     "name": "#%%\n"
    }
   }
  },
  {
   "cell_type": "code",
   "execution_count": 7,
   "outputs": [],
   "source": [
    "#drop unnecessary columns\n",
    "x_test.drop(list(set(x_test.columns)&cols_to_drop), axis=1, inplace=True)"
   ],
   "metadata": {
    "collapsed": false,
    "pycharm": {
     "name": "#%%\n"
    }
   }
  },
  {
   "cell_type": "markdown",
   "source": [
    "\n",
    "# get same columns on both datasets"
   ],
   "metadata": {
    "collapsed": false
   }
  },
  {
   "cell_type": "code",
   "execution_count": 8,
   "outputs": [],
   "source": [
    "columns = list(x_train.columns)\n",
    "x_train = x_train[columns]\n",
    "x_test = x_test[columns]"
   ],
   "metadata": {
    "collapsed": false,
    "pycharm": {
     "name": "#%%\n"
    }
   }
  },
  {
   "cell_type": "markdown",
   "source": [
    "# normalize both dataset with 2016 min and min-max values"
   ],
   "metadata": {
    "collapsed": false
   }
  },
  {
   "cell_type": "code",
   "execution_count": 9,
   "outputs": [],
   "source": [
    "def get_normalization_infos(*x_s, columns):\n",
    "    normalization_infos = pd.DataFrame(data=[[1000 for _ in range(len(columns))],[0 for _ in range(len(columns))]],\n",
    "                                     index=[\"min\",\"max\"],\n",
    "                                     columns=columns)\n",
    "    for x in x_s :\n",
    "        for col in columns:\n",
    "            min_value = min(normalization_infos[col][\"min\"], x[col].min())\n",
    "            max_value = max(normalization_infos[col][\"max\"], x[col].max())\n",
    "            normalization_infos[col] = [min_value, max_value]\n",
    "\n",
    "    normalization_infos.loc[\"spread\"] = normalization_infos.apply(lambda c : c[\"max\"] - c[\"min\"], axis=0)\n",
    "\n",
    "    return normalization_infos\n",
    "\n",
    "normalization_infos = get_normalization_infos(x_train, x_test, columns=columns)"
   ],
   "metadata": {
    "collapsed": false,
    "pycharm": {
     "name": "#%%\n"
    }
   }
  },
  {
   "cell_type": "code",
   "execution_count": 10,
   "outputs": [],
   "source": [
    "def normalize(x : pd.DataFrame, normalization_infos : pd.DataFrame):\n",
    "    for col in x.columns:\n",
    "        x[col] = (x[col] - normalization_infos[col][\"min\"])/normalization_infos[col][\"spread\"]\n",
    "    return x\n",
    "\n",
    "x_train = normalize(x_train, normalization_infos)\n",
    "x_test = normalize(x_test, normalization_infos)"
   ],
   "metadata": {
    "collapsed": false,
    "pycharm": {
     "name": "#%%\n"
    }
   }
  },
  {
   "cell_type": "markdown",
   "source": [
    "# see if the data is balanced raining-wise"
   ],
   "metadata": {
    "collapsed": false,
    "pycharm": {
     "name": "#%% md\n"
    }
   }
  },
  {
   "cell_type": "code",
   "execution_count": 11,
   "outputs": [
    {
     "data": {
      "text/plain": "<Figure size 720x360 with 2 Axes>",
      "image/png": "[encoded data removed]"
     },
     "metadata": {
      "needs_background": "light"
     },
     "output_type": "display_data"
    }
   ],
   "source": [
    "raining_ratio1 = y_cls_train[:,1].sum()/y_cls_train[:,0].sum()\n",
    "raining_ratio2 = y_cls_test[:,1].sum()/y_cls_test[:,0].sum()\n",
    "avg_raining_ratio = (raining_ratio1+raining_ratio2)/2\n",
    "\n",
    "plt.figure(figsize = (10,5))\n",
    "plt.subplot(1,2,1)\n",
    "sns.histplot(x=y_cls_train[:,1],hue=y_cls_train[:,1])\n",
    "plt.title(\"2016 (train set) : ratio = {:.2f}\".format(raining_ratio1))\n",
    "plt.subplot(1,2,2)\n",
    "sns.histplot(x=y_cls_test[:,1], hue=y_cls_test[:,1])\n",
    "plt.title(\"2017 (test set) : ratio = {:.2f}\".format(raining_ratio2))\n",
    "plt.suptitle(\"Days w/ and w/o rain. avg_raining_ratio : {:.2f}\".format(avg_raining_ratio))\n",
    "plt.show()"
   ],
   "metadata": {
    "collapsed": false,
    "pycharm": {
     "name": "#%%\n"
    }
   }
  },
  {
   "cell_type": "markdown",
   "source": [
    "ratio = 0.13 for both 2016 and 2017 ==> **Unbalanced**"
   ],
   "metadata": {
    "collapsed": false
   }
  },
  {
   "cell_type": "markdown",
   "source": [
    "# Classification Model (raining or not)\n",
    "source : https://thinkingneuron.com/how-to-use-artificial-neural-networks-for-classification-in-python/"
   ],
   "metadata": {
    "collapsed": false
   }
  },
  {
   "cell_type": "code",
   "execution_count": 12,
   "outputs": [],
   "source": [
    "# Creating model using the Sequential in tensorflow\n",
    "def build_model_classf(*hidden_units, input_dim=106, loss ='binary_crossentropy', metrics = (\"AUC\",\"accuracy\")):\n",
    "    model = Sequential()\n",
    "    model.add(Dense(hidden_units[0], input_dim=input_dim, activation=\"relu\",))\n",
    "    for hu in hidden_units[1:]:\n",
    "        model.add(Dropout(0.2))\n",
    "        model.add(Dense(hu, activation=\"relu\"))\n",
    "    model.add(Dense(2, activation='softmax'))\n",
    "\n",
    "    model.compile(\n",
    "        loss=loss,\n",
    "        optimizer=Adam(learning_rate=0.001),\n",
    "        metrics=metrics\n",
    "    )\n",
    "\n",
    "    print(model.summary())\n",
    "    return model"
   ],
   "metadata": {
    "collapsed": false,
    "pycharm": {
     "name": "#%%\n"
    }
   }
  },
  {
   "cell_type": "code",
   "execution_count": 13,
   "outputs": [
    {
     "name": "stdout",
     "output_type": "stream",
     "text": [
      "Model: \"sequential\"\n",
      "_________________________________________________________________\n",
      " Layer (type)                Output Shape              Param #   \n",
      "=================================================================\n",
      " dense (Dense)               (None, 32)                3136      \n",
      "                                                                 \n",
      " dropout (Dropout)           (None, 32)                0         \n",
      "                                                                 \n",
      " dense_1 (Dense)             (None, 16)                528       \n",
      "                                                                 \n",
      " dropout_1 (Dropout)         (None, 16)                0         \n",
      "                                                                 \n",
      " dense_2 (Dense)             (None, 16)                272       \n",
      "                                                                 \n",
      " dense_3 (Dense)             (None, 2)                 34        \n",
      "                                                                 \n",
      "=================================================================\n",
      "Total params: 3,970\n",
      "Trainable params: 3,970\n",
      "Non-trainable params: 0\n",
      "_________________________________________________________________\n",
      "None\n"
     ]
    },
    {
     "name": "stderr",
     "output_type": "stream",
     "text": [
      "2022-01-08 23:39:53.675184: I tensorflow/stream_executor/cuda/cuda_gpu_executor.cc:939] successful NUMA node read from SysFS had negative value (-1), but there must be at least one NUMA node, so returning NUMA node zero\n",
      "2022-01-08 23:39:53.718441: W tensorflow/stream_executor/platform/default/dso_loader.cc:64] Could not load dynamic library 'libcudnn.so.8'; dlerror: libcudnn.so.8: cannot open shared object file: No such file or directory\n",
      "2022-01-08 23:39:53.718467: W tensorflow/core/common_runtime/gpu/gpu_device.cc:1850] Cannot dlopen some GPU libraries. Please make sure the missing libraries mentioned above are installed properly if you would like to use GPU. Follow the guide at https://www.tensorflow.org/install/gpu for how to download and setup the required libraries for your platform.\n",
      "Skipping registering GPU devices...\n",
      "2022-01-08 23:39:53.718765: I tensorflow/core/platform/cpu_feature_guard.cc:151] This TensorFlow binary is optimized with oneAPI Deep Neural Network Library (oneDNN) to use the following CPU instructions in performance-critical operations:  AVX2 FMA\n",
      "To enable them in other operations, rebuild TensorFlow with the appropriate compiler flags.\n"
     ]
    }
   ],
   "source": [
    "# build the model\n",
    "model_cls = build_model_classf(32,16,16,input_dim=x_train.shape[1])"
   ],
   "metadata": {
    "collapsed": false,
    "pycharm": {
     "name": "#%%\n"
    }
   }
  },
  {
   "cell_type": "code",
   "execution_count": 14,
   "outputs": [
    {
     "name": "stdout",
     "output_type": "stream",
     "text": [
      "Epoch 1/25\n",
      "1823/1854 [============================>.] - ETA: 0s - loss: 0.6176 - auc: 0.7200 - accuracy: 0.6655"
     ]
    },
    {
     "name": "stderr",
     "output_type": "stream",
     "text": [
      "2022-01-08 23:39:58.461079: W tensorflow/core/framework/cpu_allocator_impl.cc:82] Allocation of 84833872 exceeds 10% of free system memory.\n"
     ]
    },
    {
     "name": "stdout",
     "output_type": "stream",
     "text": [
      "1854/1854 [==============================] - 6s 3ms/step - loss: 0.6173 - auc: 0.7205 - accuracy: 0.6659 - val_loss: 0.6257 - val_auc: 0.7102 - val_accuracy: 0.6521\n",
      "Epoch 2/25\n",
      "1854/1854 [==============================] - 4s 2ms/step - loss: 0.5972 - auc: 0.7453 - accuracy: 0.6857 - val_loss: 0.6268 - val_auc: 0.7101 - val_accuracy: 0.6522\n",
      "Epoch 3/25\n",
      "1854/1854 [==============================] - 4s 2ms/step - loss: 0.5904 - auc: 0.7532 - accuracy: 0.6911 - val_loss: 0.6248 - val_auc: 0.7095 - val_accuracy: 0.6510\n",
      "Epoch 4/25\n",
      "1854/1854 [==============================] - 4s 2ms/step - loss: 0.5863 - auc: 0.7578 - accuracy: 0.6937 - val_loss: 0.6356 - val_auc: 0.7024 - val_accuracy: 0.6508\n",
      "Epoch 5/25\n",
      "1854/1854 [==============================] - 4s 2ms/step - loss: 0.5834 - auc: 0.7610 - accuracy: 0.6970 - val_loss: 0.6365 - val_auc: 0.7084 - val_accuracy: 0.6530\n",
      "Epoch 6/25\n",
      "1854/1854 [==============================] - 4s 2ms/step - loss: 0.5816 - auc: 0.7632 - accuracy: 0.6988 - val_loss: 0.6408 - val_auc: 0.6999 - val_accuracy: 0.6480\n",
      "Epoch 7/25\n",
      "1854/1854 [==============================] - 4s 2ms/step - loss: 0.5793 - auc: 0.7654 - accuracy: 0.7008 - val_loss: 0.6285 - val_auc: 0.7025 - val_accuracy: 0.6476\n",
      "Epoch 8/25\n",
      "1854/1854 [==============================] - 4s 2ms/step - loss: 0.5774 - auc: 0.7674 - accuracy: 0.7027 - val_loss: 0.6365 - val_auc: 0.7038 - val_accuracy: 0.6528\n",
      "Epoch 9/25\n",
      "1854/1854 [==============================] - 4s 2ms/step - loss: 0.5767 - auc: 0.7681 - accuracy: 0.7032 - val_loss: 0.6352 - val_auc: 0.7097 - val_accuracy: 0.6531\n",
      "Epoch 10/25\n",
      "1854/1854 [==============================] - 4s 2ms/step - loss: 0.5753 - auc: 0.7694 - accuracy: 0.7047 - val_loss: 0.6399 - val_auc: 0.7056 - val_accuracy: 0.6511\n",
      "Epoch 11/25\n",
      "1854/1854 [==============================] - 4s 2ms/step - loss: 0.5727 - auc: 0.7721 - accuracy: 0.7073 - val_loss: 0.6319 - val_auc: 0.6985 - val_accuracy: 0.6489\n",
      "Epoch 12/25\n",
      "1854/1854 [==============================] - 4s 2ms/step - loss: 0.5734 - auc: 0.7713 - accuracy: 0.7070 - val_loss: 0.6449 - val_auc: 0.6951 - val_accuracy: 0.6474\n",
      "Epoch 13/25\n",
      "1854/1854 [==============================] - 4s 2ms/step - loss: 0.5722 - auc: 0.7724 - accuracy: 0.7076 - val_loss: 0.6348 - val_auc: 0.7077 - val_accuracy: 0.6569\n",
      "Epoch 14/25\n",
      "1854/1854 [==============================] - 4s 2ms/step - loss: 0.5709 - auc: 0.7737 - accuracy: 0.7080 - val_loss: 0.6347 - val_auc: 0.7045 - val_accuracy: 0.6559\n",
      "Epoch 15/25\n",
      "1854/1854 [==============================] - 4s 2ms/step - loss: 0.5699 - auc: 0.7745 - accuracy: 0.7083 - val_loss: 0.6401 - val_auc: 0.7029 - val_accuracy: 0.6547\n",
      "Epoch 16/25\n",
      "1854/1854 [==============================] - 4s 2ms/step - loss: 0.5689 - auc: 0.7757 - accuracy: 0.7099 - val_loss: 0.6332 - val_auc: 0.7043 - val_accuracy: 0.6541\n",
      "Epoch 17/25\n",
      "1854/1854 [==============================] - 4s 2ms/step - loss: 0.5699 - auc: 0.7748 - accuracy: 0.7094 - val_loss: 0.6267 - val_auc: 0.7092 - val_accuracy: 0.6557\n",
      "Epoch 18/25\n",
      "1854/1854 [==============================] - 4s 2ms/step - loss: 0.5684 - auc: 0.7762 - accuracy: 0.7099 - val_loss: 0.6306 - val_auc: 0.7097 - val_accuracy: 0.6544\n",
      "Epoch 19/25\n",
      "1854/1854 [==============================] - 4s 2ms/step - loss: 0.5678 - auc: 0.7767 - accuracy: 0.7115 - val_loss: 0.6305 - val_auc: 0.7030 - val_accuracy: 0.6539\n",
      "Epoch 20/25\n",
      "1854/1854 [==============================] - 4s 2ms/step - loss: 0.5670 - auc: 0.7776 - accuracy: 0.7120 - val_loss: 0.6362 - val_auc: 0.6991 - val_accuracy: 0.6489\n",
      "Epoch 21/25\n",
      "1854/1854 [==============================] - 4s 2ms/step - loss: 0.5664 - auc: 0.7779 - accuracy: 0.7113 - val_loss: 0.6391 - val_auc: 0.6996 - val_accuracy: 0.6515\n",
      "Epoch 22/25\n",
      "1854/1854 [==============================] - 4s 2ms/step - loss: 0.5656 - auc: 0.7790 - accuracy: 0.7117 - val_loss: 0.6366 - val_auc: 0.7034 - val_accuracy: 0.6540\n",
      "Epoch 23/25\n",
      "1854/1854 [==============================] - 4s 2ms/step - loss: 0.5652 - auc: 0.7793 - accuracy: 0.7124 - val_loss: 0.6382 - val_auc: 0.7005 - val_accuracy: 0.6464\n",
      "Epoch 24/25\n",
      "1854/1854 [==============================] - 5s 3ms/step - loss: 0.5653 - auc: 0.7792 - accuracy: 0.7124 - val_loss: 0.6374 - val_auc: 0.6983 - val_accuracy: 0.6486\n",
      "Epoch 25/25\n",
      "1854/1854 [==============================] - 4s 2ms/step - loss: 0.5643 - auc: 0.7800 - accuracy: 0.7119 - val_loss: 0.6342 - val_auc: 0.7029 - val_accuracy: 0.6563\n"
     ]
    }
   ],
   "source": [
    "# train the model\n",
    "history_cls = model_cls.fit(\n",
    "    x=x_train.values,\n",
    "    y=y_cls_train,\n",
    "    epochs=25,\n",
    "    batch_size=64,\n",
    "    # validation_split=0.15\n",
    "    validation_data=(x_test,y_cls_test)\n",
    "    )"
   ],
   "metadata": {
    "collapsed": false,
    "pycharm": {
     "name": "#%%\n"
    }
   }
  },
  {
   "cell_type": "code",
   "execution_count": 15,
   "outputs": [],
   "source": [
    "def plot_history_cls(history, loss, key1, key2):\n",
    "    plt.figure(figsize=(17,5))\n",
    "    plt.subplot(1,3,1)\n",
    "    plt.title(\"loss : {}\".format(loss))\n",
    "    plt.plot(history.history[\"loss\"], c=\"cyan\")\n",
    "    plt.plot(history.history[\"val_loss\"], c=\"orange\")\n",
    "    plt.xlabel(\"Epochs\")\n",
    "    plt.xticks(list(range(len(history.history[\"loss\"]))))\n",
    "    # plt.ylabel(\"loss\")\n",
    "    plt.legend([\"loss\", \"val_loss\"])\n",
    "\n",
    "    plt.subplot(1,3,2)\n",
    "    plt.title(\"metric : {}\".format(key1))\n",
    "    plt.plot(history.history[key1])\n",
    "    plt.plot(history.history['val_'+key1])\n",
    "    plt.xlabel(\"Epochs\")\n",
    "    plt.xticks(list(range(len(history.history[\"loss\"]))))\n",
    "    # plt.ylabel(key1)\n",
    "    plt.legend([key1, 'val_'+key1])\n",
    "\n",
    "    plt.subplot(1,3,3)\n",
    "    plt.title(\"metric : {}\".format(key2))\n",
    "    plt.plot(history.history[key2.lower()])\n",
    "    plt.plot(history.history['val_'+key2.lower()])\n",
    "    plt.xlabel(\"Epochs\")\n",
    "    plt.xticks(list(range(len(history.history[\"loss\"]))))\n",
    "    # plt.ylabel(key2)\n",
    "    plt.legend([key2, 'val_'+key2])\n",
    "\n",
    "    plt.suptitle(\"Classification results\")\n",
    "    plt.show()"
   ],
   "metadata": {
    "collapsed": false,
    "pycharm": {
     "name": "#%%\n"
    }
   }
  },
  {
   "cell_type": "code",
   "execution_count": 16,
   "outputs": [
    {
     "data": {
      "text/plain": "<Figure size 1224x360 with 3 Axes>",
      "image/png": "[encoded data removed]"
     },
     "metadata": {
      "needs_background": "light"
     },
     "output_type": "display_data"
    }
   ],
   "source": [
    "# Plot the history\n",
    "plot_history_cls(history_cls, loss = \"binary_crossentropy\", key1 = 'accuracy', key2 = 'AUC')"
   ],
   "metadata": {
    "collapsed": false,
    "pycharm": {
     "name": "#%%\n"
    }
   }
  },
  {
   "cell_type": "markdown",
   "source": [
    "# Regression Model (how much rain if > 0)\n",
    "source : https://www.analyticsvidhya.com/blog/2021/08/a-walk-through-of-regression-analysis-using-artificial-neural-networks-in-tensorflow/"
   ],
   "metadata": {
    "collapsed": false
   }
  },
  {
   "cell_type": "code",
   "execution_count": 17,
   "outputs": [],
   "source": [
    "# Creating model using the Sequential in tensorflow\n",
    "def build_model_regrs(*hidden_units, input_dim=106, metric = MeanSquaredError()):\n",
    "    model = Sequential()\n",
    "    model.add(Dense(hidden_units[0], input_dim=input_dim, activation=\"relu\",))\n",
    "    for hu in hidden_units[1:]:\n",
    "        model.add(Dropout(0.2))\n",
    "        model.add(Dense(hu, activation=\"relu\"))\n",
    "    model.add(Dense(1, activation='relu'))\n",
    "\n",
    "    model.compile(\n",
    "        loss=metric,\n",
    "        optimizer=Adam(learning_rate=0.001),\n",
    "        metrics=[metric]\n",
    "    )\n",
    "\n",
    "    print(model.summary())\n",
    "    return model"
   ],
   "metadata": {
    "collapsed": false,
    "pycharm": {
     "name": "#%%\n"
    }
   }
  },
  {
   "cell_type": "code",
   "execution_count": 18,
   "outputs": [
    {
     "name": "stdout",
     "output_type": "stream",
     "text": [
      "Model: \"sequential_1\"\n",
      "_________________________________________________________________\n",
      " Layer (type)                Output Shape              Param #   \n",
      "=================================================================\n",
      " dense_4 (Dense)             (None, 32)                3136      \n",
      "                                                                 \n",
      " dropout_2 (Dropout)         (None, 32)                0         \n",
      "                                                                 \n",
      " dense_5 (Dense)             (None, 16)                528       \n",
      "                                                                 \n",
      " dropout_3 (Dropout)         (None, 16)                0         \n",
      "                                                                 \n",
      " dense_6 (Dense)             (None, 16)                272       \n",
      "                                                                 \n",
      " dense_7 (Dense)             (None, 1)                 17        \n",
      "                                                                 \n",
      "=================================================================\n",
      "Total params: 3,953\n",
      "Trainable params: 3,953\n",
      "Non-trainable params: 0\n",
      "_________________________________________________________________\n",
      "None\n"
     ]
    }
   ],
   "source": [
    "# build the model\n",
    "model_reg = build_model_regrs(32,16,16,input_dim=x_train.shape[1])"
   ],
   "metadata": {
    "collapsed": false,
    "pycharm": {
     "name": "#%%\n"
    }
   }
  },
  {
   "cell_type": "code",
   "execution_count": 19,
   "outputs": [
    {
     "name": "stdout",
     "output_type": "stream",
     "text": [
      "Epoch 1/25\n",
      "1820/1854 [============================>.] - ETA: 0s - loss: 0.0328 - mean_squared_error: 0.0328"
     ]
    },
    {
     "name": "stderr",
     "output_type": "stream",
     "text": [
      "2022-01-08 23:41:40.358809: W tensorflow/core/framework/cpu_allocator_impl.cc:82] Allocation of 84833872 exceeds 10% of free system memory.\n"
     ]
    },
    {
     "name": "stdout",
     "output_type": "stream",
     "text": [
      "1854/1854 [==============================] - 4s 2ms/step - loss: 0.0327 - mean_squared_error: 0.0327 - val_loss: 0.0290 - val_mean_squared_error: 0.0290\n",
      "Epoch 2/25\n",
      "1854/1854 [==============================] - 3s 2ms/step - loss: 0.0312 - mean_squared_error: 0.0312 - val_loss: 0.0290 - val_mean_squared_error: 0.0290\n",
      "Epoch 3/25\n",
      "1854/1854 [==============================] - 3s 2ms/step - loss: 0.0307 - mean_squared_error: 0.0308 - val_loss: 0.0293 - val_mean_squared_error: 0.0293\n",
      "Epoch 4/25\n",
      "1854/1854 [==============================] - 3s 2ms/step - loss: 0.0304 - mean_squared_error: 0.0304 - val_loss: 0.0289 - val_mean_squared_error: 0.0289\n",
      "Epoch 5/25\n",
      "1854/1854 [==============================] - 3s 2ms/step - loss: 0.0304 - mean_squared_error: 0.0304 - val_loss: 0.0294 - val_mean_squared_error: 0.0294\n",
      "Epoch 6/25\n",
      "1854/1854 [==============================] - 4s 2ms/step - loss: 0.0301 - mean_squared_error: 0.0301 - val_loss: 0.0286 - val_mean_squared_error: 0.0286\n",
      "Epoch 7/25\n",
      "1854/1854 [==============================] - 3s 2ms/step - loss: 0.0298 - mean_squared_error: 0.0298 - val_loss: 0.0290 - val_mean_squared_error: 0.0290\n",
      "Epoch 8/25\n",
      "1854/1854 [==============================] - 3s 2ms/step - loss: 0.0300 - mean_squared_error: 0.0300 - val_loss: 0.0291 - val_mean_squared_error: 0.0291\n",
      "Epoch 9/25\n",
      "1854/1854 [==============================] - 3s 2ms/step - loss: 0.0298 - mean_squared_error: 0.0298 - val_loss: 0.0288 - val_mean_squared_error: 0.0288\n",
      "Epoch 10/25\n",
      "1854/1854 [==============================] - 3s 2ms/step - loss: 0.0296 - mean_squared_error: 0.0296 - val_loss: 0.0293 - val_mean_squared_error: 0.0293\n",
      "Epoch 11/25\n",
      "1854/1854 [==============================] - 3s 2ms/step - loss: 0.0295 - mean_squared_error: 0.0295 - val_loss: 0.0298 - val_mean_squared_error: 0.0298\n",
      "Epoch 12/25\n",
      "1854/1854 [==============================] - 4s 2ms/step - loss: 0.0294 - mean_squared_error: 0.0294 - val_loss: 0.0290 - val_mean_squared_error: 0.0290\n",
      "Epoch 13/25\n",
      "1854/1854 [==============================] - 3s 2ms/step - loss: 0.0293 - mean_squared_error: 0.0293 - val_loss: 0.0299 - val_mean_squared_error: 0.0299\n",
      "Epoch 14/25\n",
      "1854/1854 [==============================] - 3s 2ms/step - loss: 0.0294 - mean_squared_error: 0.0294 - val_loss: 0.0294 - val_mean_squared_error: 0.0294\n",
      "Epoch 15/25\n",
      "1854/1854 [==============================] - 3s 2ms/step - loss: 0.0293 - mean_squared_error: 0.0293 - val_loss: 0.0296 - val_mean_squared_error: 0.0296\n",
      "Epoch 16/25\n",
      "1854/1854 [==============================] - 3s 2ms/step - loss: 0.0292 - mean_squared_error: 0.0292 - val_loss: 0.0302 - val_mean_squared_error: 0.0302\n",
      "Epoch 17/25\n",
      "1854/1854 [==============================] - 3s 2ms/step - loss: 0.0293 - mean_squared_error: 0.0293 - val_loss: 0.0298 - val_mean_squared_error: 0.0298\n",
      "Epoch 18/25\n",
      "1854/1854 [==============================] - 3s 2ms/step - loss: 0.0293 - mean_squared_error: 0.0293 - val_loss: 0.0320 - val_mean_squared_error: 0.0320\n",
      "Epoch 19/25\n",
      "1854/1854 [==============================] - 3s 2ms/step - loss: 0.0293 - mean_squared_error: 0.0293 - val_loss: 0.0304 - val_mean_squared_error: 0.0303\n",
      "Epoch 20/25\n",
      "1854/1854 [==============================] - 3s 2ms/step - loss: 0.0292 - mean_squared_error: 0.0292 - val_loss: 0.0314 - val_mean_squared_error: 0.0314\n",
      "Epoch 21/25\n",
      "1854/1854 [==============================] - 3s 2ms/step - loss: 0.0291 - mean_squared_error: 0.0291 - val_loss: 0.0302 - val_mean_squared_error: 0.0302\n",
      "Epoch 22/25\n",
      "1854/1854 [==============================] - 3s 2ms/step - loss: 0.0290 - mean_squared_error: 0.0290 - val_loss: 0.0300 - val_mean_squared_error: 0.0300\n",
      "Epoch 23/25\n",
      "1854/1854 [==============================] - 3s 2ms/step - loss: 0.0289 - mean_squared_error: 0.0289 - val_loss: 0.0293 - val_mean_squared_error: 0.0292\n",
      "Epoch 24/25\n",
      "1854/1854 [==============================] - 3s 2ms/step - loss: 0.0292 - mean_squared_error: 0.0291 - val_loss: 0.0294 - val_mean_squared_error: 0.0294\n",
      "Epoch 25/25\n",
      "1854/1854 [==============================] - 3s 2ms/step - loss: 0.0289 - mean_squared_error: 0.0289 - val_loss: 0.0296 - val_mean_squared_error: 0.0296\n"
     ]
    }
   ],
   "source": [
    "# train the model\n",
    "history_reg = model_reg.fit(\n",
    "    x=x_train.values,\n",
    "    y=y_reg_train.values,\n",
    "    epochs=25,\n",
    "    batch_size=64,\n",
    "    # validation_split=0.15\n",
    "    validation_data=(x_test,y_reg_test)\n",
    ")"
   ],
   "metadata": {
    "collapsed": false,
    "pycharm": {
     "name": "#%%\n"
    }
   }
  },
  {
   "cell_type": "code",
   "execution_count": 20,
   "outputs": [
    {
     "data": {
      "text/plain": "<Figure size 504x360 with 1 Axes>",
      "image/png": "[encoded data removed]"
     },
     "metadata": {
      "needs_background": "light"
     },
     "output_type": "display_data"
    }
   ],
   "source": [
    "def plot_history_reg(history, loss : str):\n",
    "    plt.figure(figsize=(7,5))\n",
    "    plt.title(\"loss : {}\".format(loss))\n",
    "    plt.plot(history.history[\"loss\"], c=\"cyan\")\n",
    "    plt.plot(history.history[\"val_loss\"], c=\"orange\")\n",
    "    plt.xlabel(\"Epochs\")\n",
    "    plt.xticks(list(range(len(history.history[\"loss\"]))))\n",
    "    # plt.ylabel(\"loss\")\n",
    "    plt.legend([\"loss\", \"val_loss\"])\n",
    "    plt.show()\n",
    "# Plot the history\n",
    "plot_history_reg(history_reg, 'mean_squared_error')"
   ],
   "metadata": {
    "collapsed": false,
    "pycharm": {
     "name": "#%%\n"
    }
   }
  },
  {
   "cell_type": "markdown",
   "source": [
    "# Compute MAPE on 2017 dataset before submitting"
   ],
   "metadata": {
    "collapsed": false
   }
  },
  {
   "cell_type": "code",
   "execution_count": 20,
   "outputs": [],
   "source": [
    "del x_train\n",
    "del y_cls_train\n",
    "del y_reg_train"
   ],
   "metadata": {
    "collapsed": false,
    "pycharm": {
     "name": "#%%\n"
    }
   }
  },
  {
   "cell_type": "code",
   "execution_count": 21,
   "outputs": [
    {
     "name": "stderr",
     "output_type": "stream",
     "text": [
      "2022-01-08 23:43:29.923884: W tensorflow/core/framework/cpu_allocator_impl.cc:82] Allocation of 84833872 exceeds 10% of free system memory.\n"
     ]
    }
   ],
   "source": [
    "y_cls_pred = model_cls.predict(x_test)"
   ],
   "metadata": {
    "collapsed": false,
    "pycharm": {
     "name": "#%%\n"
    }
   }
  },
  {
   "cell_type": "code",
   "execution_count": 22,
   "outputs": [
    {
     "name": "stderr",
     "output_type": "stream",
     "text": [
      "2022-01-08 23:43:32.650173: W tensorflow/core/framework/cpu_allocator_impl.cc:82] Allocation of 84833872 exceeds 10% of free system memory.\n"
     ]
    }
   ],
   "source": [
    "y_reg_pred = model_reg.predict(x_test)"
   ],
   "metadata": {
    "collapsed": false,
    "pycharm": {
     "name": "#%%\n"
    }
   }
  },
  {
   "cell_type": "code",
   "execution_count": 23,
   "outputs": [
    {
     "data": {
      "text/plain": "<Figure size 432x288 with 1 Axes>",
      "image/png": "[encoded data removed]"
     },
     "metadata": {
      "needs_background": "light"
     },
     "output_type": "display_data"
    }
   ],
   "source": [
    "plt.hist(y_cls_pred[:,0], color=\"cyan\", alpha=0.3, bins=100)\n",
    "plt.hist(y_cls_pred[:,1], color=\"magenta\", alpha=0.3, bins=100)\n",
    "plt.xlim([0,1])\n",
    "plt.show()"
   ],
   "metadata": {
    "collapsed": false,
    "pycharm": {
     "name": "#%%\n"
    }
   }
  },
  {
   "cell_type": "code",
   "execution_count": 24,
   "outputs": [],
   "source": [
    "cls_temp = y_cls_pred[:,0] < y_cls_pred[:,1]\n",
    "y_cls_pred = np.array([[0,1] if c else [1,0] for c in cls_temp])"
   ],
   "metadata": {
    "collapsed": false,
    "pycharm": {
     "name": "#%%\n"
    }
   }
  },
  {
   "cell_type": "code",
   "execution_count": 25,
   "outputs": [
    {
     "data": {
      "text/plain": "<Figure size 432x288 with 1 Axes>",
      "image/png": "[encoded data removed]"
     },
     "metadata": {
      "needs_background": "light"
     },
     "output_type": "display_data"
    }
   ],
   "source": [
    "raining_ratio_pred = y_cls_pred[:,1].sum()/y_cls_pred[:,0].sum()\n",
    "plt.title(\"2016 (train set) : ratio = {:.2f}\".format(raining_ratio_pred))\n",
    "sns.histplot(x=y_cls_pred[:,1],hue=y_cls_pred[:,1])\n",
    "plt.show()"
   ],
   "metadata": {
    "collapsed": false,
    "pycharm": {
     "name": "#%%\n"
    }
   }
  },
  {
   "cell_type": "code",
   "execution_count": 26,
   "outputs": [
    {
     "data": {
      "text/plain": "0.69625604"
     },
     "execution_count": 26,
     "metadata": {},
     "output_type": "execute_result"
    }
   ],
   "source": [
    "y_reg_pred.max()"
   ],
   "metadata": {
    "collapsed": false,
    "pycharm": {
     "name": "#%%\n"
    }
   }
  },
  {
   "cell_type": "markdown",
   "source": [
    "# define threshold to split y_reg_pred in order to retrieve same raining_ratio as for 2017"
   ],
   "metadata": {
    "collapsed": false,
    "pycharm": {
     "name": "#%% md\n"
    }
   }
  },
  {
   "cell_type": "code",
   "execution_count": null,
   "outputs": [],
   "source": [
    "def dichotomie(a,b,e,f):\n",
    "    delta = 1\n",
    "    while delta > e:\n",
    "        m = a + (b - a) / 2\n",
    "        delta = abs(b - a)\n",
    "        print(\"{:15} , {:15} , {:15} , {:15} , {:15} , {:15} , {:15} \".format(a,b,m,f(a),f(b),f(m),delta) )\n",
    "        if f(m) == 0:\n",
    "            return m\n",
    "        elif f(a) * f(m)  > 0:\n",
    "            a = m\n",
    "        else:\n",
    "            b = m\n",
    "    return a, b, delta"
   ],
   "metadata": {
    "collapsed": false,
    "pycharm": {
     "name": "#%%\n"
    }
   }
  },
  {
   "cell_type": "code",
   "execution_count": 25,
   "outputs": [
    {
     "data": {
      "text/plain": "<Figure size 432x288 with 1 Axes>",
      "image/png": "[encoded data removed]"
     },
     "metadata": {
      "needs_background": "light"
     },
     "output_type": "display_data"
    }
   ],
   "source": [
    "plt.hist(y_cls_pred, bins=100, range=(0,1))\n",
    "plt.show()"
   ],
   "metadata": {
    "collapsed": false,
    "pycharm": {
     "name": "#%%\n"
    }
   }
  },
  {
   "cell_type": "code",
   "execution_count": 26,
   "outputs": [
    {
     "name": "stdout",
     "output_type": "stream",
     "text": [
      "x_test raining ratio : 0.13\n"
     ]
    },
    {
     "data": {
      "text/plain": "<Figure size 432x288 with 1 Axes>",
      "image/png": "[encoded data removed]"
     },
     "metadata": {
      "needs_background": "light"
     },
     "output_type": "display_data"
    }
   ],
   "source": [
    "print(\"x_test raining ratio : {:.2f}\".format(avg_raining_ratio))\n",
    "thld = 0.65\n",
    "array = np.array([0 if y <= thld else 1 for y in y_cls_pred])\n",
    "ratio = array.sum()/(len(array)-array.sum())\n",
    "plt.hist(array)\n",
    "plt.title(\"ratio : {:.2f}, thld : {:.2f}\".format(ratio, thld))\n",
    "plt.show()    # train the model\n",
    "history_cls = model_cls.fit(\n",
    "    x=x_train.values,\n",
    "    y=y_cls_train,\n",
    "    epochs=5,\n",
    "    batch_size=64,\n",
    "    # validation_split=0.15\n",
    "    validation_data=(x_test,y_cls_test)\n",
    ")"
   ],
   "metadata": {
    "collapsed": false,
    "pycharm": {
     "name": "#%%\n"
    }
   }
  },
  {
   "cell_type": "markdown",
   "source": [
    "==> keep ratio = 0.12 and thld = 0.18"
   ],
   "metadata": {
    "collapsed": false
   }
  },
  {
   "cell_type": "code",
   "execution_count": 27,
   "outputs": [],
   "source": [
    "y_cls_pred_bkp = np.array(y_cls_pred)"
   ],
   "metadata": {
    "collapsed": false,
    "pycharm": {
     "name": "#%%\n"
    }
   }
  },
  {
   "cell_type": "code",
   "execution_count": 28,
   "outputs": [],
   "source": [
    "y_cls_pred = np.array([0 if y <= thld else 1 for y in y_cls_pred])"
   ],
   "metadata": {
    "collapsed": false,
    "pycharm": {
     "name": "#%%\n"
    }
   }
  },
  {
   "cell_type": "code",
   "execution_count": 26,
   "outputs": [],
   "source": [
    "prediction_x_test[\"reg_pred\"] = pd.Series(y_reg_pred.T[0])"
   ],
   "metadata": {
    "collapsed": false,
    "pycharm": {
     "name": "#%%\n"
    }
   }
  },
  {
   "cell_type": "code",
   "execution_count": 27,
   "outputs": [
    {
     "ename": "ValueError",
     "evalue": "Wrong number of items passed 2, placement implies 1",
     "output_type": "error",
     "traceback": [
      "\u001B[0;31m---------------------------------------------------------------------------\u001B[0m",
      "\u001B[0;31mKeyError\u001B[0m                                  Traceback (most recent call last)",
      "\u001B[0;32m~/.local/lib/python3.8/site-packages/pandas/core/indexes/base.py\u001B[0m in \u001B[0;36mget_loc\u001B[0;34m(self, key, method, tolerance)\u001B[0m\n\u001B[1;32m   3360\u001B[0m             \u001B[0;32mtry\u001B[0m\u001B[0;34m:\u001B[0m\u001B[0;34m\u001B[0m\u001B[0;34m\u001B[0m\u001B[0m\n\u001B[0;32m-> 3361\u001B[0;31m                 \u001B[0;32mreturn\u001B[0m \u001B[0mself\u001B[0m\u001B[0;34m.\u001B[0m\u001B[0m_engine\u001B[0m\u001B[0;34m.\u001B[0m\u001B[0mget_loc\u001B[0m\u001B[0;34m(\u001B[0m\u001B[0mcasted_key\u001B[0m\u001B[0;34m)\u001B[0m\u001B[0;34m\u001B[0m\u001B[0;34m\u001B[0m\u001B[0m\n\u001B[0m\u001B[1;32m   3362\u001B[0m             \u001B[0;32mexcept\u001B[0m \u001B[0mKeyError\u001B[0m \u001B[0;32mas\u001B[0m \u001B[0merr\u001B[0m\u001B[0;34m:\u001B[0m\u001B[0;34m\u001B[0m\u001B[0;34m\u001B[0m\u001B[0m\n",
      "\u001B[0;32m~/.local/lib/python3.8/site-packages/pandas/_libs/index.pyx\u001B[0m in \u001B[0;36mpandas._libs.index.IndexEngine.get_loc\u001B[0;34m()\u001B[0m\n",
      "\u001B[0;32m~/.local/lib/python3.8/site-packages/pandas/_libs/index.pyx\u001B[0m in \u001B[0;36mpandas._libs.index.IndexEngine.get_loc\u001B[0;34m()\u001B[0m\n",
      "\u001B[0;32mpandas/_libs/hashtable_class_helper.pxi\u001B[0m in \u001B[0;36mpandas._libs.hashtable.PyObjectHashTable.get_item\u001B[0;34m()\u001B[0m\n",
      "\u001B[0;32mpandas/_libs/hashtable_class_helper.pxi\u001B[0m in \u001B[0;36mpandas._libs.hashtable.PyObjectHashTable.get_item\u001B[0;34m()\u001B[0m\n",
      "\u001B[0;31mKeyError\u001B[0m: 'cls_pred'",
      "\nThe above exception was the direct cause of the following exception:\n",
      "\u001B[0;31mKeyError\u001B[0m                                  Traceback (most recent call last)",
      "\u001B[0;32m~/.local/lib/python3.8/site-packages/pandas/core/frame.py\u001B[0m in \u001B[0;36m_set_item_mgr\u001B[0;34m(self, key, value)\u001B[0m\n\u001B[1;32m   3750\u001B[0m         \u001B[0;32mtry\u001B[0m\u001B[0;34m:\u001B[0m\u001B[0;34m\u001B[0m\u001B[0;34m\u001B[0m\u001B[0m\n\u001B[0;32m-> 3751\u001B[0;31m             \u001B[0mloc\u001B[0m \u001B[0;34m=\u001B[0m \u001B[0mself\u001B[0m\u001B[0;34m.\u001B[0m\u001B[0m_info_axis\u001B[0m\u001B[0;34m.\u001B[0m\u001B[0mget_loc\u001B[0m\u001B[0;34m(\u001B[0m\u001B[0mkey\u001B[0m\u001B[0;34m)\u001B[0m\u001B[0;34m\u001B[0m\u001B[0;34m\u001B[0m\u001B[0m\n\u001B[0m\u001B[1;32m   3752\u001B[0m         \u001B[0;32mexcept\u001B[0m \u001B[0mKeyError\u001B[0m\u001B[0;34m:\u001B[0m\u001B[0;34m\u001B[0m\u001B[0;34m\u001B[0m\u001B[0m\n",
      "\u001B[0;32m~/.local/lib/python3.8/site-packages/pandas/core/indexes/base.py\u001B[0m in \u001B[0;36mget_loc\u001B[0;34m(self, key, method, tolerance)\u001B[0m\n\u001B[1;32m   3362\u001B[0m             \u001B[0;32mexcept\u001B[0m \u001B[0mKeyError\u001B[0m \u001B[0;32mas\u001B[0m \u001B[0merr\u001B[0m\u001B[0;34m:\u001B[0m\u001B[0;34m\u001B[0m\u001B[0;34m\u001B[0m\u001B[0m\n\u001B[0;32m-> 3363\u001B[0;31m                 \u001B[0;32mraise\u001B[0m \u001B[0mKeyError\u001B[0m\u001B[0;34m(\u001B[0m\u001B[0mkey\u001B[0m\u001B[0;34m)\u001B[0m \u001B[0;32mfrom\u001B[0m \u001B[0merr\u001B[0m\u001B[0;34m\u001B[0m\u001B[0;34m\u001B[0m\u001B[0m\n\u001B[0m\u001B[1;32m   3364\u001B[0m \u001B[0;34m\u001B[0m\u001B[0m\n",
      "\u001B[0;31mKeyError\u001B[0m: 'cls_pred'",
      "\nDuring handling of the above exception, another exception occurred:\n",
      "\u001B[0;31mValueError\u001B[0m                                Traceback (most recent call last)",
      "\u001B[0;32m/tmp/ipykernel_177292/845824993.py\u001B[0m in \u001B[0;36m<module>\u001B[0;34m\u001B[0m\n\u001B[0;32m----> 1\u001B[0;31m \u001B[0mprediction_x_test\u001B[0m\u001B[0;34m[\u001B[0m\u001B[0;34m\"cls_pred\"\u001B[0m\u001B[0;34m]\u001B[0m \u001B[0;34m=\u001B[0m \u001B[0my_cls_pred\u001B[0m\u001B[0;34m\u001B[0m\u001B[0;34m\u001B[0m\u001B[0m\n\u001B[0m",
      "\u001B[0;32m~/.local/lib/python3.8/site-packages/pandas/core/frame.py\u001B[0m in \u001B[0;36m__setitem__\u001B[0;34m(self, key, value)\u001B[0m\n\u001B[1;32m   3610\u001B[0m         \u001B[0;32melse\u001B[0m\u001B[0;34m:\u001B[0m\u001B[0;34m\u001B[0m\u001B[0;34m\u001B[0m\u001B[0m\n\u001B[1;32m   3611\u001B[0m             \u001B[0;31m# set column\u001B[0m\u001B[0;34m\u001B[0m\u001B[0;34m\u001B[0m\u001B[0;34m\u001B[0m\u001B[0m\n\u001B[0;32m-> 3612\u001B[0;31m             \u001B[0mself\u001B[0m\u001B[0;34m.\u001B[0m\u001B[0m_set_item\u001B[0m\u001B[0;34m(\u001B[0m\u001B[0mkey\u001B[0m\u001B[0;34m,\u001B[0m \u001B[0mvalue\u001B[0m\u001B[0;34m)\u001B[0m\u001B[0;34m\u001B[0m\u001B[0;34m\u001B[0m\u001B[0m\n\u001B[0m\u001B[1;32m   3613\u001B[0m \u001B[0;34m\u001B[0m\u001B[0m\n\u001B[1;32m   3614\u001B[0m     \u001B[0;32mdef\u001B[0m \u001B[0m_setitem_slice\u001B[0m\u001B[0;34m(\u001B[0m\u001B[0mself\u001B[0m\u001B[0;34m,\u001B[0m \u001B[0mkey\u001B[0m\u001B[0;34m:\u001B[0m \u001B[0mslice\u001B[0m\u001B[0;34m,\u001B[0m \u001B[0mvalue\u001B[0m\u001B[0;34m)\u001B[0m\u001B[0;34m:\u001B[0m\u001B[0;34m\u001B[0m\u001B[0;34m\u001B[0m\u001B[0m\n",
      "\u001B[0;32m~/.local/lib/python3.8/site-packages/pandas/core/frame.py\u001B[0m in \u001B[0;36m_set_item\u001B[0;34m(self, key, value)\u001B[0m\n\u001B[1;32m   3795\u001B[0m                     \u001B[0mvalue\u001B[0m \u001B[0;34m=\u001B[0m \u001B[0mnp\u001B[0m\u001B[0;34m.\u001B[0m\u001B[0mtile\u001B[0m\u001B[0;34m(\u001B[0m\u001B[0mvalue\u001B[0m\u001B[0;34m,\u001B[0m \u001B[0;34m(\u001B[0m\u001B[0mlen\u001B[0m\u001B[0;34m(\u001B[0m\u001B[0mexisting_piece\u001B[0m\u001B[0;34m.\u001B[0m\u001B[0mcolumns\u001B[0m\u001B[0;34m)\u001B[0m\u001B[0;34m,\u001B[0m \u001B[0;36m1\u001B[0m\u001B[0;34m)\u001B[0m\u001B[0;34m)\u001B[0m\u001B[0;34m.\u001B[0m\u001B[0mT\u001B[0m\u001B[0;34m\u001B[0m\u001B[0;34m\u001B[0m\u001B[0m\n\u001B[1;32m   3796\u001B[0m \u001B[0;34m\u001B[0m\u001B[0m\n\u001B[0;32m-> 3797\u001B[0;31m         \u001B[0mself\u001B[0m\u001B[0;34m.\u001B[0m\u001B[0m_set_item_mgr\u001B[0m\u001B[0;34m(\u001B[0m\u001B[0mkey\u001B[0m\u001B[0;34m,\u001B[0m \u001B[0mvalue\u001B[0m\u001B[0;34m)\u001B[0m\u001B[0;34m\u001B[0m\u001B[0;34m\u001B[0m\u001B[0m\n\u001B[0m\u001B[1;32m   3798\u001B[0m \u001B[0;34m\u001B[0m\u001B[0m\n\u001B[1;32m   3799\u001B[0m     def _set_value(\n",
      "\u001B[0;32m~/.local/lib/python3.8/site-packages/pandas/core/frame.py\u001B[0m in \u001B[0;36m_set_item_mgr\u001B[0;34m(self, key, value)\u001B[0m\n\u001B[1;32m   3752\u001B[0m         \u001B[0;32mexcept\u001B[0m \u001B[0mKeyError\u001B[0m\u001B[0;34m:\u001B[0m\u001B[0;34m\u001B[0m\u001B[0;34m\u001B[0m\u001B[0m\n\u001B[1;32m   3753\u001B[0m             \u001B[0;31m# This item wasn't present, just insert at end\u001B[0m\u001B[0;34m\u001B[0m\u001B[0;34m\u001B[0m\u001B[0;34m\u001B[0m\u001B[0m\n\u001B[0;32m-> 3754\u001B[0;31m             \u001B[0mself\u001B[0m\u001B[0;34m.\u001B[0m\u001B[0m_mgr\u001B[0m\u001B[0;34m.\u001B[0m\u001B[0minsert\u001B[0m\u001B[0;34m(\u001B[0m\u001B[0mlen\u001B[0m\u001B[0;34m(\u001B[0m\u001B[0mself\u001B[0m\u001B[0;34m.\u001B[0m\u001B[0m_info_axis\u001B[0m\u001B[0;34m)\u001B[0m\u001B[0;34m,\u001B[0m \u001B[0mkey\u001B[0m\u001B[0;34m,\u001B[0m \u001B[0mvalue\u001B[0m\u001B[0;34m)\u001B[0m\u001B[0;34m\u001B[0m\u001B[0;34m\u001B[0m\u001B[0m\n\u001B[0m\u001B[1;32m   3755\u001B[0m         \u001B[0;32melse\u001B[0m\u001B[0;34m:\u001B[0m\u001B[0;34m\u001B[0m\u001B[0;34m\u001B[0m\u001B[0m\n\u001B[1;32m   3756\u001B[0m             \u001B[0mself\u001B[0m\u001B[0;34m.\u001B[0m\u001B[0m_iset_item_mgr\u001B[0m\u001B[0;34m(\u001B[0m\u001B[0mloc\u001B[0m\u001B[0;34m,\u001B[0m \u001B[0mvalue\u001B[0m\u001B[0;34m)\u001B[0m\u001B[0;34m\u001B[0m\u001B[0;34m\u001B[0m\u001B[0m\n",
      "\u001B[0;32m~/.local/lib/python3.8/site-packages/pandas/core/internals/managers.py\u001B[0m in \u001B[0;36minsert\u001B[0;34m(self, loc, item, value)\u001B[0m\n\u001B[1;32m   1160\u001B[0m             \u001B[0mvalue\u001B[0m \u001B[0;34m=\u001B[0m \u001B[0mensure_block_shape\u001B[0m\u001B[0;34m(\u001B[0m\u001B[0mvalue\u001B[0m\u001B[0;34m,\u001B[0m \u001B[0mndim\u001B[0m\u001B[0;34m=\u001B[0m\u001B[0mself\u001B[0m\u001B[0;34m.\u001B[0m\u001B[0mndim\u001B[0m\u001B[0;34m)\u001B[0m\u001B[0;34m\u001B[0m\u001B[0;34m\u001B[0m\u001B[0m\n\u001B[1;32m   1161\u001B[0m \u001B[0;34m\u001B[0m\u001B[0m\n\u001B[0;32m-> 1162\u001B[0;31m         \u001B[0mblock\u001B[0m \u001B[0;34m=\u001B[0m \u001B[0mnew_block\u001B[0m\u001B[0;34m(\u001B[0m\u001B[0mvalues\u001B[0m\u001B[0;34m=\u001B[0m\u001B[0mvalue\u001B[0m\u001B[0;34m,\u001B[0m \u001B[0mndim\u001B[0m\u001B[0;34m=\u001B[0m\u001B[0mself\u001B[0m\u001B[0;34m.\u001B[0m\u001B[0mndim\u001B[0m\u001B[0;34m,\u001B[0m \u001B[0mplacement\u001B[0m\u001B[0;34m=\u001B[0m\u001B[0mslice\u001B[0m\u001B[0;34m(\u001B[0m\u001B[0mloc\u001B[0m\u001B[0;34m,\u001B[0m \u001B[0mloc\u001B[0m \u001B[0;34m+\u001B[0m \u001B[0;36m1\u001B[0m\u001B[0;34m)\u001B[0m\u001B[0;34m)\u001B[0m\u001B[0;34m\u001B[0m\u001B[0;34m\u001B[0m\u001B[0m\n\u001B[0m\u001B[1;32m   1163\u001B[0m \u001B[0;34m\u001B[0m\u001B[0m\n\u001B[1;32m   1164\u001B[0m         \u001B[0;32mfor\u001B[0m \u001B[0mblkno\u001B[0m\u001B[0;34m,\u001B[0m \u001B[0mcount\u001B[0m \u001B[0;32min\u001B[0m \u001B[0m_fast_count_smallints\u001B[0m\u001B[0;34m(\u001B[0m\u001B[0mself\u001B[0m\u001B[0;34m.\u001B[0m\u001B[0mblknos\u001B[0m\u001B[0;34m[\u001B[0m\u001B[0mloc\u001B[0m\u001B[0;34m:\u001B[0m\u001B[0;34m]\u001B[0m\u001B[0;34m)\u001B[0m\u001B[0;34m:\u001B[0m\u001B[0;34m\u001B[0m\u001B[0;34m\u001B[0m\u001B[0m\n",
      "\u001B[0;32m~/.local/lib/python3.8/site-packages/pandas/core/internals/blocks.py\u001B[0m in \u001B[0;36mnew_block\u001B[0;34m(values, placement, ndim, klass)\u001B[0m\n\u001B[1;32m   1935\u001B[0m \u001B[0;34m\u001B[0m\u001B[0m\n\u001B[1;32m   1936\u001B[0m     \u001B[0mvalues\u001B[0m\u001B[0;34m,\u001B[0m \u001B[0m_\u001B[0m \u001B[0;34m=\u001B[0m \u001B[0mextract_pandas_array\u001B[0m\u001B[0;34m(\u001B[0m\u001B[0mvalues\u001B[0m\u001B[0;34m,\u001B[0m \u001B[0;32mNone\u001B[0m\u001B[0;34m,\u001B[0m \u001B[0mndim\u001B[0m\u001B[0;34m)\u001B[0m\u001B[0;34m\u001B[0m\u001B[0;34m\u001B[0m\u001B[0m\n\u001B[0;32m-> 1937\u001B[0;31m     \u001B[0mcheck_ndim\u001B[0m\u001B[0;34m(\u001B[0m\u001B[0mvalues\u001B[0m\u001B[0;34m,\u001B[0m \u001B[0mplacement\u001B[0m\u001B[0;34m,\u001B[0m \u001B[0mndim\u001B[0m\u001B[0;34m)\u001B[0m\u001B[0;34m\u001B[0m\u001B[0;34m\u001B[0m\u001B[0m\n\u001B[0m\u001B[1;32m   1938\u001B[0m \u001B[0;34m\u001B[0m\u001B[0m\n\u001B[1;32m   1939\u001B[0m     \u001B[0;32mif\u001B[0m \u001B[0mklass\u001B[0m \u001B[0;32mis\u001B[0m \u001B[0;32mNone\u001B[0m\u001B[0;34m:\u001B[0m\u001B[0;34m\u001B[0m\u001B[0;34m\u001B[0m\u001B[0m\n",
      "\u001B[0;32m~/.local/lib/python3.8/site-packages/pandas/core/internals/blocks.py\u001B[0m in \u001B[0;36mcheck_ndim\u001B[0;34m(values, placement, ndim)\u001B[0m\n\u001B[1;32m   1977\u001B[0m             )\n\u001B[1;32m   1978\u001B[0m         \u001B[0;32mif\u001B[0m \u001B[0mlen\u001B[0m\u001B[0;34m(\u001B[0m\u001B[0mplacement\u001B[0m\u001B[0;34m)\u001B[0m \u001B[0;34m!=\u001B[0m \u001B[0mlen\u001B[0m\u001B[0;34m(\u001B[0m\u001B[0mvalues\u001B[0m\u001B[0;34m)\u001B[0m\u001B[0;34m:\u001B[0m\u001B[0;34m\u001B[0m\u001B[0;34m\u001B[0m\u001B[0m\n\u001B[0;32m-> 1979\u001B[0;31m             raise ValueError(\n\u001B[0m\u001B[1;32m   1980\u001B[0m                 \u001B[0;34mf\"Wrong number of items passed {len(values)}, \"\u001B[0m\u001B[0;34m\u001B[0m\u001B[0;34m\u001B[0m\u001B[0m\n\u001B[1;32m   1981\u001B[0m                 \u001B[0;34mf\"placement implies {len(placement)}\"\u001B[0m\u001B[0;34m\u001B[0m\u001B[0;34m\u001B[0m\u001B[0m\n",
      "\u001B[0;31mValueError\u001B[0m: Wrong number of items passed 2, placement implies 1"
     ]
    }
   ],
   "source": [
    "prediction_x_test[\"cls_pred\"] = y_cls_pred"
   ],
   "metadata": {
    "collapsed": false,
    "pycharm": {
     "name": "#%%\n"
    }
   }
  },
  {
   "cell_type": "code",
   "execution_count": 28,
   "outputs": [
    {
     "ename": "KeyError",
     "evalue": "'cls_pred'",
     "output_type": "error",
     "traceback": [
      "\u001B[0;31m---------------------------------------------------------------------------\u001B[0m",
      "\u001B[0;31mKeyError\u001B[0m                                  Traceback (most recent call last)",
      "\u001B[0;32m~/.local/lib/python3.8/site-packages/pandas/core/indexes/base.py\u001B[0m in \u001B[0;36mget_loc\u001B[0;34m(self, key, method, tolerance)\u001B[0m\n\u001B[1;32m   3360\u001B[0m             \u001B[0;32mtry\u001B[0m\u001B[0;34m:\u001B[0m\u001B[0;34m\u001B[0m\u001B[0;34m\u001B[0m\u001B[0m\n\u001B[0;32m-> 3361\u001B[0;31m                 \u001B[0;32mreturn\u001B[0m \u001B[0mself\u001B[0m\u001B[0;34m.\u001B[0m\u001B[0m_engine\u001B[0m\u001B[0;34m.\u001B[0m\u001B[0mget_loc\u001B[0m\u001B[0;34m(\u001B[0m\u001B[0mcasted_key\u001B[0m\u001B[0;34m)\u001B[0m\u001B[0;34m\u001B[0m\u001B[0;34m\u001B[0m\u001B[0m\n\u001B[0m\u001B[1;32m   3362\u001B[0m             \u001B[0;32mexcept\u001B[0m \u001B[0mKeyError\u001B[0m \u001B[0;32mas\u001B[0m \u001B[0merr\u001B[0m\u001B[0;34m:\u001B[0m\u001B[0;34m\u001B[0m\u001B[0;34m\u001B[0m\u001B[0m\n",
      "\u001B[0;32m~/.local/lib/python3.8/site-packages/pandas/_libs/index.pyx\u001B[0m in \u001B[0;36mpandas._libs.index.IndexEngine.get_loc\u001B[0;34m()\u001B[0m\n",
      "\u001B[0;32m~/.local/lib/python3.8/site-packages/pandas/_libs/index.pyx\u001B[0m in \u001B[0;36mpandas._libs.index.IndexEngine.get_loc\u001B[0;34m()\u001B[0m\n",
      "\u001B[0;32mpandas/_libs/hashtable_class_helper.pxi\u001B[0m in \u001B[0;36mpandas._libs.hashtable.PyObjectHashTable.get_item\u001B[0;34m()\u001B[0m\n",
      "\u001B[0;32mpandas/_libs/hashtable_class_helper.pxi\u001B[0m in \u001B[0;36mpandas._libs.hashtable.PyObjectHashTable.get_item\u001B[0;34m()\u001B[0m\n",
      "\u001B[0;31mKeyError\u001B[0m: 'cls_pred'",
      "\nThe above exception was the direct cause of the following exception:\n",
      "\u001B[0;31mKeyError\u001B[0m                                  Traceback (most recent call last)",
      "\u001B[0;32m/tmp/ipykernel_177292/202110387.py\u001B[0m in \u001B[0;36m<module>\u001B[0;34m\u001B[0m\n\u001B[0;32m----> 1\u001B[0;31m \u001B[0mprediction_x_test\u001B[0m\u001B[0;34m[\u001B[0m\u001B[0;34m\"Prediction\"\u001B[0m\u001B[0;34m]\u001B[0m \u001B[0;34m=\u001B[0m \u001B[0mprediction_x_test\u001B[0m\u001B[0;34m[\u001B[0m\u001B[0;34m\"reg_pred\"\u001B[0m\u001B[0;34m]\u001B[0m \u001B[0;34m*\u001B[0m \u001B[0mprediction_x_test\u001B[0m\u001B[0;34m[\u001B[0m\u001B[0;34m\"cls_pred\"\u001B[0m\u001B[0;34m]\u001B[0m\u001B[0;34m\u001B[0m\u001B[0;34m\u001B[0m\u001B[0m\n\u001B[0m",
      "\u001B[0;32m~/.local/lib/python3.8/site-packages/pandas/core/frame.py\u001B[0m in \u001B[0;36m__getitem__\u001B[0;34m(self, key)\u001B[0m\n\u001B[1;32m   3456\u001B[0m             \u001B[0;32mif\u001B[0m \u001B[0mself\u001B[0m\u001B[0;34m.\u001B[0m\u001B[0mcolumns\u001B[0m\u001B[0;34m.\u001B[0m\u001B[0mnlevels\u001B[0m \u001B[0;34m>\u001B[0m \u001B[0;36m1\u001B[0m\u001B[0;34m:\u001B[0m\u001B[0;34m\u001B[0m\u001B[0;34m\u001B[0m\u001B[0m\n\u001B[1;32m   3457\u001B[0m                 \u001B[0;32mreturn\u001B[0m \u001B[0mself\u001B[0m\u001B[0;34m.\u001B[0m\u001B[0m_getitem_multilevel\u001B[0m\u001B[0;34m(\u001B[0m\u001B[0mkey\u001B[0m\u001B[0;34m)\u001B[0m\u001B[0;34m\u001B[0m\u001B[0;34m\u001B[0m\u001B[0m\n\u001B[0;32m-> 3458\u001B[0;31m             \u001B[0mindexer\u001B[0m \u001B[0;34m=\u001B[0m \u001B[0mself\u001B[0m\u001B[0;34m.\u001B[0m\u001B[0mcolumns\u001B[0m\u001B[0;34m.\u001B[0m\u001B[0mget_loc\u001B[0m\u001B[0;34m(\u001B[0m\u001B[0mkey\u001B[0m\u001B[0;34m)\u001B[0m\u001B[0;34m\u001B[0m\u001B[0;34m\u001B[0m\u001B[0m\n\u001B[0m\u001B[1;32m   3459\u001B[0m             \u001B[0;32mif\u001B[0m \u001B[0mis_integer\u001B[0m\u001B[0;34m(\u001B[0m\u001B[0mindexer\u001B[0m\u001B[0;34m)\u001B[0m\u001B[0;34m:\u001B[0m\u001B[0;34m\u001B[0m\u001B[0;34m\u001B[0m\u001B[0m\n\u001B[1;32m   3460\u001B[0m                 \u001B[0mindexer\u001B[0m \u001B[0;34m=\u001B[0m \u001B[0;34m[\u001B[0m\u001B[0mindexer\u001B[0m\u001B[0;34m]\u001B[0m\u001B[0;34m\u001B[0m\u001B[0;34m\u001B[0m\u001B[0m\n",
      "\u001B[0;32m~/.local/lib/python3.8/site-packages/pandas/core/indexes/base.py\u001B[0m in \u001B[0;36mget_loc\u001B[0;34m(self, key, method, tolerance)\u001B[0m\n\u001B[1;32m   3361\u001B[0m                 \u001B[0;32mreturn\u001B[0m \u001B[0mself\u001B[0m\u001B[0;34m.\u001B[0m\u001B[0m_engine\u001B[0m\u001B[0;34m.\u001B[0m\u001B[0mget_loc\u001B[0m\u001B[0;34m(\u001B[0m\u001B[0mcasted_key\u001B[0m\u001B[0;34m)\u001B[0m\u001B[0;34m\u001B[0m\u001B[0;34m\u001B[0m\u001B[0m\n\u001B[1;32m   3362\u001B[0m             \u001B[0;32mexcept\u001B[0m \u001B[0mKeyError\u001B[0m \u001B[0;32mas\u001B[0m \u001B[0merr\u001B[0m\u001B[0;34m:\u001B[0m\u001B[0;34m\u001B[0m\u001B[0;34m\u001B[0m\u001B[0m\n\u001B[0;32m-> 3363\u001B[0;31m                 \u001B[0;32mraise\u001B[0m \u001B[0mKeyError\u001B[0m\u001B[0;34m(\u001B[0m\u001B[0mkey\u001B[0m\u001B[0;34m)\u001B[0m \u001B[0;32mfrom\u001B[0m \u001B[0merr\u001B[0m\u001B[0;34m\u001B[0m\u001B[0;34m\u001B[0m\u001B[0m\n\u001B[0m\u001B[1;32m   3364\u001B[0m \u001B[0;34m\u001B[0m\u001B[0m\n\u001B[1;32m   3365\u001B[0m         \u001B[0;32mif\u001B[0m \u001B[0mis_scalar\u001B[0m\u001B[0;34m(\u001B[0m\u001B[0mkey\u001B[0m\u001B[0;34m)\u001B[0m \u001B[0;32mand\u001B[0m \u001B[0misna\u001B[0m\u001B[0;34m(\u001B[0m\u001B[0mkey\u001B[0m\u001B[0;34m)\u001B[0m \u001B[0;32mand\u001B[0m \u001B[0;32mnot\u001B[0m \u001B[0mself\u001B[0m\u001B[0;34m.\u001B[0m\u001B[0mhasnans\u001B[0m\u001B[0;34m:\u001B[0m\u001B[0;34m\u001B[0m\u001B[0;34m\u001B[0m\u001B[0m\n",
      "\u001B[0;31mKeyError\u001B[0m: 'cls_pred'"
     ]
    }
   ],
   "source": [
    "prediction_x_test[\"Prediction\"] = prediction_x_test[\"reg_pred\"] * prediction_x_test[\"cls_pred\"]"
   ],
   "metadata": {
    "collapsed": false,
    "pycharm": {
     "name": "#%%\n"
    }
   }
  },
  {
   "cell_type": "code",
   "execution_count": 32,
   "outputs": [
    {
     "data": {
      "text/plain": "             Id  ground_truth  reg_pred  cls_pred  Prediction\n0  86118001_366           0.0   0.06694         0         0.0\n1  86118001_366           0.0   0.06694         0         0.0\n2  86118001_366           0.0   0.06694         0         0.0\n3  86118001_366           0.0   0.06694         0         0.0\n4  86118001_366           0.0   0.06694         0         0.0",
      "text/html": "<div>\n<style scoped>\n    .dataframe tbody tr th:only-of-type {\n        vertical-align: middle;\n    }\n\n    .dataframe tbody tr th {\n        vertical-align: top;\n    }\n\n    .dataframe thead th {\n        text-align: right;\n    }\n</style>\n<table border=\"1\" class=\"dataframe\">\n  <thead>\n    <tr style=\"text-align: right;\">\n      <th></th>\n      <th>Id</th>\n      <th>ground_truth</th>\n      <th>reg_pred</th>\n      <th>cls_pred</th>\n      <th>Prediction</th>\n    </tr>\n  </thead>\n  <tbody>\n    <tr>\n      <th>0</th>\n      <td>86118001_366</td>\n      <td>0.0</td>\n      <td>0.06694</td>\n      <td>0</td>\n      <td>0.0</td>\n    </tr>\n    <tr>\n      <th>1</th>\n      <td>86118001_366</td>\n      <td>0.0</td>\n      <td>0.06694</td>\n      <td>0</td>\n      <td>0.0</td>\n    </tr>\n    <tr>\n      <th>2</th>\n      <td>86118001_366</td>\n      <td>0.0</td>\n      <td>0.06694</td>\n      <td>0</td>\n      <td>0.0</td>\n    </tr>\n    <tr>\n      <th>3</th>\n      <td>86118001_366</td>\n      <td>0.0</td>\n      <td>0.06694</td>\n      <td>0</td>\n      <td>0.0</td>\n    </tr>\n    <tr>\n      <th>4</th>\n      <td>86118001_366</td>\n      <td>0.0</td>\n      <td>0.06694</td>\n      <td>0</td>\n      <td>0.0</td>\n    </tr>\n  </tbody>\n</table>\n</div>"
     },
     "execution_count": 32,
     "metadata": {},
     "output_type": "execute_result"
    }
   ],
   "source": [
    "prediction_x_test.head()"
   ],
   "metadata": {
    "collapsed": false,
    "pycharm": {
     "name": "#%%\n"
    }
   }
  },
  {
   "cell_type": "code",
   "execution_count": 33,
   "outputs": [],
   "source": [
    "def m_mape(y_true,y_predict):\n",
    "    n = len(y_true)\n",
    "    y_true = np.array(y_true) + 1\n",
    "    y_predict = np.array(y_predict) + 1\n",
    "\n",
    "    res = ((100/n)*(np.sum(np.abs((y_predict-y_true)/y_true))))\n",
    "    return res"
   ],
   "metadata": {
    "collapsed": false,
    "pycharm": {
     "name": "#%%\n"
    }
   }
  },
  {
   "cell_type": "code",
   "execution_count": 34,
   "outputs": [
    {
     "data": {
      "text/plain": "3.6189836717722814"
     },
     "execution_count": 34,
     "metadata": {},
     "output_type": "execute_result"
    }
   ],
   "source": [
    "m_mape(prediction_x_test[\"ground_truth\"],prediction_x_test[\"Prediction\"])"
   ],
   "metadata": {
    "collapsed": false,
    "pycharm": {
     "name": "#%%\n"
    }
   }
  },
  {
   "cell_type": "code",
   "execution_count": 35,
   "outputs": [
    {
     "data": {
      "text/plain": "<Figure size 864x360 with 2 Axes>",
      "image/png": "[encoded data removed]"
     },
     "metadata": {
      "needs_background": "light"
     },
     "output_type": "display_data"
    }
   ],
   "source": [
    "plt.figure(figsize=(12,5))\n",
    "plt.suptitle(\"box plots\")\n",
    "plt.subplot(1,2,1)\n",
    "plt.title(\"ground_truth\")\n",
    "plt.boxplot(prediction_x_test[\"ground_truth\"])\n",
    "plt.ylim([0,1])\n",
    "plt.subplot(1,2,2)\n",
    "plt.title(\"prediction\")\n",
    "plt.boxplot(prediction_x_test[\"Prediction\"])\n",
    "plt.ylim([0,1])\n",
    "plt.show()"
   ],
   "metadata": {
    "collapsed": false,
    "pycharm": {
     "name": "#%%\n"
    }
   }
  },
  {
   "cell_type": "code",
   "execution_count": 35,
   "outputs": [],
   "source": [],
   "metadata": {
    "collapsed": false,
    "pycharm": {
     "name": "#%%\n"
    }
   }
  },
  {
   "cell_type": "code",
   "execution_count": 36,
   "outputs": [
    {
     "name": "stdout",
     "output_type": "stream",
     "text": [
      "0.0 0.0 0.0\n"
     ]
    }
   ],
   "source": [
    "print(prediction_x_test[\"Prediction\"].min(),prediction_x_test[\"Prediction\"].mean(),prediction_x_test[\"Prediction\"].max())"
   ],
   "metadata": {
    "collapsed": false,
    "pycharm": {
     "name": "#%%\n"
    }
   }
  },
  {
   "cell_type": "code",
   "execution_count": null,
   "outputs": [],
   "source": [
    "del x_train\n",
    "del y_cls_train\n",
    "del y_reg_train\n",
    "\n",
    "del x_test\n",
    "del y_cls_test\n",
    "del y_reg_test"
   ],
   "metadata": {
    "collapsed": false,
    "pycharm": {
     "name": "#%%\n"
    }
   }
  },
  {
   "cell_type": "markdown",
   "source": [
    "# Make a submission"
   ],
   "metadata": {
    "collapsed": false
   }
  },
  {
   "cell_type": "code",
   "execution_count": 29,
   "outputs": [],
   "source": [
    "test_set = pd.read_csv(\"../preprocessed_data_Defi-IA-2022-Rain-Frogs/X_all_test_final_by_day.zip\")\n",
    "# test_set = pd.read_csv(\"../preprocessed_data_Defi-IA-2022-Rain-Frogs/X_all_test_final.zip\")"
   ],
   "metadata": {
    "collapsed": false,
    "pycharm": {
     "name": "#%%\n"
    }
   }
  },
  {
   "cell_type": "markdown",
   "source": [
    "## create submission dataset"
   ],
   "metadata": {
    "collapsed": false
   }
  },
  {
   "cell_type": "code",
   "execution_count": 30,
   "outputs": [],
   "source": [
    "submission = pd.DataFrame(test_set[[\"Id\"]])"
   ],
   "metadata": {
    "collapsed": false,
    "pycharm": {
     "name": "#%%\n"
    }
   }
  },
  {
   "cell_type": "markdown",
   "source": [
    "## get same columns as before for test_set"
   ],
   "metadata": {
    "collapsed": false
   }
  },
  {
   "cell_type": "code",
   "execution_count": 31,
   "outputs": [],
   "source": [
    "test_set = test_set[columns]"
   ],
   "metadata": {
    "collapsed": false,
    "pycharm": {
     "name": "#%%\n"
    }
   }
  },
  {
   "cell_type": "markdown",
   "source": [
    "## normalize same way test_set"
   ],
   "metadata": {
    "collapsed": false
   }
  },
  {
   "cell_type": "code",
   "execution_count": 32,
   "outputs": [],
   "source": [
    "test_set = normalize(test_set,normalization_infos)"
   ],
   "metadata": {
    "collapsed": false,
    "pycharm": {
     "name": "#%%\n"
    }
   }
  },
  {
   "cell_type": "code",
   "execution_count": 33,
   "outputs": [
    {
     "data": {
      "text/plain": "   altitude (m)  latitude  longitude  month_cos  month_sin  \\\n0      0.152632      0.75   0.833333   0.000000   0.500000   \n1      0.152632      0.75   0.833333   0.750000   0.933013   \n2      0.152632      0.75   0.833333   0.933013   0.250000   \n3      0.152632      0.75   0.833333   0.250000   0.933013   \n4      0.152632      0.75   0.833333   0.066987   0.250000   \n\n   current hour precipitations (kg/m^2)  wind_direction_cos  \\\n0                               0.00000            0.335841   \n1                               0.00000            0.335841   \n2                               0.09375            0.335841   \n3                               0.00000            0.335841   \n4                               0.00000            0.335841   \n\n   wind_direction_sin  wind_speed (m/s)  wind_component_u (m/s)  ...  \\\n0            0.972284          0.096735                 0.43423  ...   \n1            0.972284          0.096735                 0.43423  ...   \n2            0.972284          0.096735                 0.43423  ...   \n3            0.972284          0.096735                 0.43423  ...   \n4            0.972284          0.096735                 0.43423  ...   \n\n   3D_Arpege_isobar_600hpa_VerticalVelocity (Pa/s)  \\\n0                                         0.609439   \n1                                         0.592835   \n2                                         0.538019   \n3                                         0.519587   \n4                                         0.607175   \n\n   3D_Arpege_isobar_600hpa_Geopotential (m^2/s^2)  \\\n0                                        0.944588   \n1                                        0.987683   \n2                                        0.905300   \n3                                        0.894589   \n4                                        0.947055   \n\n   3D_Arpege_isobar_500hpa_Temperature (K)  \\\n0                                 0.580973   \n1                                 0.851050   \n2                                 0.271608   \n3                                 0.461949   \n4                                 0.602551   \n\n   3D_Arpege_isobar_500hpa_RelavtiveHumidity (%)  \\\n0                                       0.679873   \n1                                       0.243663   \n2                                       0.536040   \n3                                       0.822743   \n4                                       0.339574   \n\n   3D_Arpege_isobar_500hpa_WindSpeed (m/s)  \\\n0                                 0.158791   \n1                                 0.169768   \n2                                 0.349677   \n3                                 0.648840   \n4                                 0.163890   \n\n   3D_Arpege_isobar_500hpa_WindDirection (deg)  \\\n0                                     0.679938   \n1                                     0.688638   \n2                                     0.700741   \n3                                     0.583620   \n4                                     0.669567   \n\n   3D_Arpege_isobar_500hpa_WindComponentU (m/s)  \\\n0                                      0.513694   \n1                                      0.520906   \n2                                      0.613256   \n3                                      0.614184   \n4                                      0.503793   \n\n   3D_Arpege_isobar_500hpa_WindComponentV (m/s)  \\\n0                                      0.603836   \n1                                      0.601052   \n2                                      0.614223   \n3                                      0.950458   \n4                                      0.610642   \n\n   3D_Arpege_isobar_500hpa_VerticalVelocity (Pa/s)  \\\n0                                         0.584511   \n1                                         0.569387   \n2                                         0.542626   \n3                                         0.521686   \n4                                         0.536338   \n\n   3D_Arpege_isobar_500hpa_Geopotential (m^2/s^2)  \n0                                        0.948570  \n1                                        0.989601  \n2                                        0.909959  \n3                                        0.907201  \n4                                        0.950927  \n\n[5 rows x 97 columns]",
      "text/html": "<div>\n<style scoped>\n    .dataframe tbody tr th:only-of-type {\n        vertical-align: middle;\n    }\n\n    .dataframe tbody tr th {\n        vertical-align: top;\n    }\n\n    .dataframe thead th {\n        text-align: right;\n    }\n</style>\n<table border=\"1\" class=\"dataframe\">\n  <thead>\n    <tr style=\"text-align: right;\">\n      <th></th>\n      <th>altitude (m)</th>\n      <th>latitude</th>\n      <th>longitude</th>\n      <th>month_cos</th>\n      <th>month_sin</th>\n      <th>current hour precipitations (kg/m^2)</th>\n      <th>wind_direction_cos</th>\n      <th>wind_direction_sin</th>\n      <th>wind_speed (m/s)</th>\n      <th>wind_component_u (m/s)</th>\n      <th>...</th>\n      <th>3D_Arpege_isobar_600hpa_VerticalVelocity (Pa/s)</th>\n      <th>3D_Arpege_isobar_600hpa_Geopotential (m^2/s^2)</th>\n      <th>3D_Arpege_isobar_500hpa_Temperature (K)</th>\n      <th>3D_Arpege_isobar_500hpa_RelavtiveHumidity (%)</th>\n      <th>3D_Arpege_isobar_500hpa_WindSpeed (m/s)</th>\n      <th>3D_Arpege_isobar_500hpa_WindDirection (deg)</th>\n      <th>3D_Arpege_isobar_500hpa_WindComponentU (m/s)</th>\n      <th>3D_Arpege_isobar_500hpa_WindComponentV (m/s)</th>\n      <th>3D_Arpege_isobar_500hpa_VerticalVelocity (Pa/s)</th>\n      <th>3D_Arpege_isobar_500hpa_Geopotential (m^2/s^2)</th>\n    </tr>\n  </thead>\n  <tbody>\n    <tr>\n      <th>0</th>\n      <td>0.152632</td>\n      <td>0.75</td>\n      <td>0.833333</td>\n      <td>0.000000</td>\n      <td>0.500000</td>\n      <td>0.00000</td>\n      <td>0.335841</td>\n      <td>0.972284</td>\n      <td>0.096735</td>\n      <td>0.43423</td>\n      <td>...</td>\n      <td>0.609439</td>\n      <td>0.944588</td>\n      <td>0.580973</td>\n      <td>0.679873</td>\n      <td>0.158791</td>\n      <td>0.679938</td>\n      <td>0.513694</td>\n      <td>0.603836</td>\n      <td>0.584511</td>\n      <td>0.948570</td>\n    </tr>\n    <tr>\n      <th>1</th>\n      <td>0.152632</td>\n      <td>0.75</td>\n      <td>0.833333</td>\n      <td>0.750000</td>\n      <td>0.933013</td>\n      <td>0.00000</td>\n      <td>0.335841</td>\n      <td>0.972284</td>\n      <td>0.096735</td>\n      <td>0.43423</td>\n      <td>...</td>\n      <td>0.592835</td>\n      <td>0.987683</td>\n      <td>0.851050</td>\n      <td>0.243663</td>\n      <td>0.169768</td>\n      <td>0.688638</td>\n      <td>0.520906</td>\n      <td>0.601052</td>\n      <td>0.569387</td>\n      <td>0.989601</td>\n    </tr>\n    <tr>\n      <th>2</th>\n      <td>0.152632</td>\n      <td>0.75</td>\n      <td>0.833333</td>\n      <td>0.933013</td>\n      <td>0.250000</td>\n      <td>0.09375</td>\n      <td>0.335841</td>\n      <td>0.972284</td>\n      <td>0.096735</td>\n      <td>0.43423</td>\n      <td>...</td>\n      <td>0.538019</td>\n      <td>0.905300</td>\n      <td>0.271608</td>\n      <td>0.536040</td>\n      <td>0.349677</td>\n      <td>0.700741</td>\n      <td>0.613256</td>\n      <td>0.614223</td>\n      <td>0.542626</td>\n      <td>0.909959</td>\n    </tr>\n    <tr>\n      <th>3</th>\n      <td>0.152632</td>\n      <td>0.75</td>\n      <td>0.833333</td>\n      <td>0.250000</td>\n      <td>0.933013</td>\n      <td>0.00000</td>\n      <td>0.335841</td>\n      <td>0.972284</td>\n      <td>0.096735</td>\n      <td>0.43423</td>\n      <td>...</td>\n      <td>0.519587</td>\n      <td>0.894589</td>\n      <td>0.461949</td>\n      <td>0.822743</td>\n      <td>0.648840</td>\n      <td>0.583620</td>\n      <td>0.614184</td>\n      <td>0.950458</td>\n      <td>0.521686</td>\n      <td>0.907201</td>\n    </tr>\n    <tr>\n      <th>4</th>\n      <td>0.152632</td>\n      <td>0.75</td>\n      <td>0.833333</td>\n      <td>0.066987</td>\n      <td>0.250000</td>\n      <td>0.00000</td>\n      <td>0.335841</td>\n      <td>0.972284</td>\n      <td>0.096735</td>\n      <td>0.43423</td>\n      <td>...</td>\n      <td>0.607175</td>\n      <td>0.947055</td>\n      <td>0.602551</td>\n      <td>0.339574</td>\n      <td>0.163890</td>\n      <td>0.669567</td>\n      <td>0.503793</td>\n      <td>0.610642</td>\n      <td>0.536338</td>\n      <td>0.950927</td>\n    </tr>\n  </tbody>\n</table>\n<p>5 rows × 97 columns</p>\n</div>"
     },
     "execution_count": 33,
     "metadata": {},
     "output_type": "execute_result"
    }
   ],
   "source": [
    "test_set.head()"
   ],
   "metadata": {
    "collapsed": false,
    "pycharm": {
     "name": "#%%\n"
    }
   }
  },
  {
   "cell_type": "markdown",
   "source": [
    "## Predict test_set for submission"
   ],
   "metadata": {
    "collapsed": false
   }
  },
  {
   "cell_type": "code",
   "execution_count": 34,
   "outputs": [
    {
     "name": "stderr",
     "output_type": "stream",
     "text": [
      "2022-01-08 23:44:29.413483: W tensorflow/core/framework/cpu_allocator_impl.cc:82] Allocation of 91548600 exceeds 10% of free system memory.\n"
     ]
    }
   ],
   "source": [
    "y_cls_pred = model_cls.predict(test_set)"
   ],
   "metadata": {
    "collapsed": false,
    "pycharm": {
     "name": "#%%\n"
    }
   }
  },
  {
   "cell_type": "code",
   "execution_count": 35,
   "outputs": [],
   "source": [
    "y_reg_pred = model_reg.predict(test_set)"
   ],
   "metadata": {
    "collapsed": false,
    "pycharm": {
     "name": "#%%\n"
    }
   }
  },
  {
   "cell_type": "code",
   "execution_count": 36,
   "outputs": [],
   "source": [
    "cls_temp = y_cls_pred[:,0] < y_cls_pred[:,1]\n",
    "y_cls_pred = np.array([[0,1] if c else [1,0] for c in cls_temp])"
   ],
   "metadata": {
    "collapsed": false,
    "pycharm": {
     "name": "#%%\n"
    }
   }
  },
  {
   "cell_type": "code",
   "execution_count": 37,
   "outputs": [
    {
     "data": {
      "text/plain": "<Figure size 432x288 with 1 Axes>",
      "image/png": "[encoded data removed]"
     },
     "metadata": {
      "needs_background": "light"
     },
     "output_type": "display_data"
    }
   ],
   "source": [
    "sns.histplot(x=y_cls_pred[:,1], hue=y_cls_pred[:,1])\n",
    "plt.show()"
   ],
   "metadata": {
    "collapsed": false,
    "pycharm": {
     "name": "#%%\n"
    }
   }
  },
  {
   "cell_type": "code",
   "execution_count": 38,
   "outputs": [
    {
     "name": "stdout",
     "output_type": "stream",
     "text": [
      "1.4240234351648864\n"
     ]
    }
   ],
   "source": [
    "print(avg_raining_ratio)"
   ],
   "metadata": {
    "collapsed": false,
    "pycharm": {
     "name": "#%%\n"
    }
   }
  },
  {
   "cell_type": "code",
   "execution_count": 39,
   "outputs": [],
   "source": [
    "submission[\"cls_pred\"] = pd.Series(y_cls_pred.T[0])\n",
    "submission[\"reg_pred\"] = y_reg_pred"
   ],
   "metadata": {
    "collapsed": false,
    "pycharm": {
     "name": "#%%\n"
    }
   }
  },
  {
   "cell_type": "code",
   "execution_count": 40,
   "outputs": [],
   "source": [
    "submission[\"Prediction\"] = submission[\"cls_pred\"] * submission[\"reg_pred\"]"
   ],
   "metadata": {
    "collapsed": false,
    "pycharm": {
     "name": "#%%\n"
    }
   }
  },
  {
   "cell_type": "code",
   "execution_count": 41,
   "outputs": [
    {
     "data": {
      "text/plain": "              Id  cls_pred  reg_pred  Prediction\n0     14047002_1         0  0.052582    0.000000\n1    14047002_10         1  0.062519    0.062519\n2   14047002_100         0  0.152618    0.000000\n3   14047002_101         0  0.130004    0.000000\n4   14047002_102         0  0.056390    0.000000\n5   14047002_103         0  0.130004    0.000000\n6   14047002_104         0  0.130004    0.000000\n7   14047002_105         0  0.229559    0.000000\n8   14047002_106         0  0.130004    0.000000\n9   14047002_107         0  0.122883    0.000000\n10  14047002_108         0  0.036324    0.000000\n11  14047002_109         1  0.053672    0.053672\n12   14047002_11         0  0.161488    0.000000\n13  14047002_110         1  0.037426    0.037426\n14  14047002_111         0  0.051974    0.000000\n15  14047002_112         0  0.049096    0.000000\n16  14047002_113         0  0.037417    0.000000\n17  14047002_114         0  0.121086    0.000000\n18  14047002_115         0  0.130004    0.000000\n19  14047002_116         1  0.130004    0.130004\n20  14047002_117         0  0.130004    0.000000\n21  14047002_118         0  0.118575    0.000000\n22  14047002_119         0  0.160933    0.000000\n23   14047002_12         1  0.041068    0.041068\n24  14047002_120         0  0.051288    0.000000\n25  14047002_121         0  0.078038    0.000000\n26  14047002_122         0  0.047697    0.000000\n27  14047002_123         0  0.118502    0.000000\n28  14047002_124         0  0.049336    0.000000\n29  14047002_125         0  0.035250    0.000000\n30  14047002_126         0  0.130004    0.000000\n31  14047002_127         0  0.130004    0.000000\n32  14047002_128         1  0.046040    0.046040\n33  14047002_129         1  0.044337    0.044337\n34   14047002_13         1  0.031220    0.031220\n35  14047002_130         0  0.118213    0.000000\n36  14047002_131         0  0.156288    0.000000\n37  14047002_132         0  0.095445    0.000000\n38  14047002_133         0  0.080157    0.000000\n39  14047002_134         0  0.038967    0.000000\n40  14047002_135         1  0.046523    0.046523\n41  14047002_136         0  0.057612    0.000000\n42  14047002_137         0  0.074231    0.000000\n43  14047002_138         0  0.098501    0.000000\n44  14047002_139         0  0.130004    0.000000\n45   14047002_14         0  0.052432    0.000000\n46  14047002_140         0  0.058886    0.000000\n47  14047002_141         0  0.040504    0.000000\n48  14047002_142         0  0.059599    0.000000\n49  14047002_143         0  0.060801    0.000000",
      "text/html": "<div>\n<style scoped>\n    .dataframe tbody tr th:only-of-type {\n        vertical-align: middle;\n    }\n\n    .dataframe tbody tr th {\n        vertical-align: top;\n    }\n\n    .dataframe thead th {\n        text-align: right;\n    }\n</style>\n<table border=\"1\" class=\"dataframe\">\n  <thead>\n    <tr style=\"text-align: right;\">\n      <th></th>\n      <th>Id</th>\n      <th>cls_pred</th>\n      <th>reg_pred</th>\n      <th>Prediction</th>\n    </tr>\n  </thead>\n  <tbody>\n    <tr>\n      <th>0</th>\n      <td>14047002_1</td>\n      <td>0</td>\n      <td>0.052582</td>\n      <td>0.000000</td>\n    </tr>\n    <tr>\n      <th>1</th>\n      <td>14047002_10</td>\n      <td>1</td>\n      <td>0.062519</td>\n      <td>0.062519</td>\n    </tr>\n    <tr>\n      <th>2</th>\n      <td>14047002_100</td>\n      <td>0</td>\n      <td>0.152618</td>\n      <td>0.000000</td>\n    </tr>\n    <tr>\n      <th>3</th>\n      <td>14047002_101</td>\n      <td>0</td>\n      <td>0.130004</td>\n      <td>0.000000</td>\n    </tr>\n    <tr>\n      <th>4</th>\n      <td>14047002_102</td>\n      <td>0</td>\n      <td>0.056390</td>\n      <td>0.000000</td>\n    </tr>\n    <tr>\n      <th>5</th>\n      <td>14047002_103</td>\n      <td>0</td>\n      <td>0.130004</td>\n      <td>0.000000</td>\n    </tr>\n    <tr>\n      <th>6</th>\n      <td>14047002_104</td>\n      <td>0</td>\n      <td>0.130004</td>\n      <td>0.000000</td>\n    </tr>\n    <tr>\n      <th>7</th>\n      <td>14047002_105</td>\n      <td>0</td>\n      <td>0.229559</td>\n      <td>0.000000</td>\n    </tr>\n    <tr>\n      <th>8</th>\n      <td>14047002_106</td>\n      <td>0</td>\n      <td>0.130004</td>\n      <td>0.000000</td>\n    </tr>\n    <tr>\n      <th>9</th>\n      <td>14047002_107</td>\n      <td>0</td>\n      <td>0.122883</td>\n      <td>0.000000</td>\n    </tr>\n    <tr>\n      <th>10</th>\n      <td>14047002_108</td>\n      <td>0</td>\n      <td>0.036324</td>\n      <td>0.000000</td>\n    </tr>\n    <tr>\n      <th>11</th>\n      <td>14047002_109</td>\n      <td>1</td>\n      <td>0.053672</td>\n      <td>0.053672</td>\n    </tr>\n    <tr>\n      <th>12</th>\n      <td>14047002_11</td>\n      <td>0</td>\n      <td>0.161488</td>\n      <td>0.000000</td>\n    </tr>\n    <tr>\n      <th>13</th>\n      <td>14047002_110</td>\n      <td>1</td>\n      <td>0.037426</td>\n      <td>0.037426</td>\n    </tr>\n    <tr>\n      <th>14</th>\n      <td>14047002_111</td>\n      <td>0</td>\n      <td>0.051974</td>\n      <td>0.000000</td>\n    </tr>\n    <tr>\n      <th>15</th>\n      <td>14047002_112</td>\n      <td>0</td>\n      <td>0.049096</td>\n      <td>0.000000</td>\n    </tr>\n    <tr>\n      <th>16</th>\n      <td>14047002_113</td>\n      <td>0</td>\n      <td>0.037417</td>\n      <td>0.000000</td>\n    </tr>\n    <tr>\n      <th>17</th>\n      <td>14047002_114</td>\n      <td>0</td>\n      <td>0.121086</td>\n      <td>0.000000</td>\n    </tr>\n    <tr>\n      <th>18</th>\n      <td>14047002_115</td>\n      <td>0</td>\n      <td>0.130004</td>\n      <td>0.000000</td>\n    </tr>\n    <tr>\n      <th>19</th>\n      <td>14047002_116</td>\n      <td>1</td>\n      <td>0.130004</td>\n      <td>0.130004</td>\n    </tr>\n    <tr>\n      <th>20</th>\n      <td>14047002_117</td>\n      <td>0</td>\n      <td>0.130004</td>\n      <td>0.000000</td>\n    </tr>\n    <tr>\n      <th>21</th>\n      <td>14047002_118</td>\n      <td>0</td>\n      <td>0.118575</td>\n      <td>0.000000</td>\n    </tr>\n    <tr>\n      <th>22</th>\n      <td>14047002_119</td>\n      <td>0</td>\n      <td>0.160933</td>\n      <td>0.000000</td>\n    </tr>\n    <tr>\n      <th>23</th>\n      <td>14047002_12</td>\n      <td>1</td>\n      <td>0.041068</td>\n      <td>0.041068</td>\n    </tr>\n    <tr>\n      <th>24</th>\n      <td>14047002_120</td>\n      <td>0</td>\n      <td>0.051288</td>\n      <td>0.000000</td>\n    </tr>\n    <tr>\n      <th>25</th>\n      <td>14047002_121</td>\n      <td>0</td>\n      <td>0.078038</td>\n      <td>0.000000</td>\n    </tr>\n    <tr>\n      <th>26</th>\n      <td>14047002_122</td>\n      <td>0</td>\n      <td>0.047697</td>\n      <td>0.000000</td>\n    </tr>\n    <tr>\n      <th>27</th>\n      <td>14047002_123</td>\n      <td>0</td>\n      <td>0.118502</td>\n      <td>0.000000</td>\n    </tr>\n    <tr>\n      <th>28</th>\n      <td>14047002_124</td>\n      <td>0</td>\n      <td>0.049336</td>\n      <td>0.000000</td>\n    </tr>\n    <tr>\n      <th>29</th>\n      <td>14047002_125</td>\n      <td>0</td>\n      <td>0.035250</td>\n      <td>0.000000</td>\n    </tr>\n    <tr>\n      <th>30</th>\n      <td>14047002_126</td>\n      <td>0</td>\n      <td>0.130004</td>\n      <td>0.000000</td>\n    </tr>\n    <tr>\n      <th>31</th>\n      <td>14047002_127</td>\n      <td>0</td>\n      <td>0.130004</td>\n      <td>0.000000</td>\n    </tr>\n    <tr>\n      <th>32</th>\n      <td>14047002_128</td>\n      <td>1</td>\n      <td>0.046040</td>\n      <td>0.046040</td>\n    </tr>\n    <tr>\n      <th>33</th>\n      <td>14047002_129</td>\n      <td>1</td>\n      <td>0.044337</td>\n      <td>0.044337</td>\n    </tr>\n    <tr>\n      <th>34</th>\n      <td>14047002_13</td>\n      <td>1</td>\n      <td>0.031220</td>\n      <td>0.031220</td>\n    </tr>\n    <tr>\n      <th>35</th>\n      <td>14047002_130</td>\n      <td>0</td>\n      <td>0.118213</td>\n      <td>0.000000</td>\n    </tr>\n    <tr>\n      <th>36</th>\n      <td>14047002_131</td>\n      <td>0</td>\n      <td>0.156288</td>\n      <td>0.000000</td>\n    </tr>\n    <tr>\n      <th>37</th>\n      <td>14047002_132</td>\n      <td>0</td>\n      <td>0.095445</td>\n      <td>0.000000</td>\n    </tr>\n    <tr>\n      <th>38</th>\n      <td>14047002_133</td>\n      <td>0</td>\n      <td>0.080157</td>\n      <td>0.000000</td>\n    </tr>\n    <tr>\n      <th>39</th>\n      <td>14047002_134</td>\n      <td>0</td>\n      <td>0.038967</td>\n      <td>0.000000</td>\n    </tr>\n    <tr>\n      <th>40</th>\n      <td>14047002_135</td>\n      <td>1</td>\n      <td>0.046523</td>\n      <td>0.046523</td>\n    </tr>\n    <tr>\n      <th>41</th>\n      <td>14047002_136</td>\n      <td>0</td>\n      <td>0.057612</td>\n      <td>0.000000</td>\n    </tr>\n    <tr>\n      <th>42</th>\n      <td>14047002_137</td>\n      <td>0</td>\n      <td>0.074231</td>\n      <td>0.000000</td>\n    </tr>\n    <tr>\n      <th>43</th>\n      <td>14047002_138</td>\n      <td>0</td>\n      <td>0.098501</td>\n      <td>0.000000</td>\n    </tr>\n    <tr>\n      <th>44</th>\n      <td>14047002_139</td>\n      <td>0</td>\n      <td>0.130004</td>\n      <td>0.000000</td>\n    </tr>\n    <tr>\n      <th>45</th>\n      <td>14047002_14</td>\n      <td>0</td>\n      <td>0.052432</td>\n      <td>0.000000</td>\n    </tr>\n    <tr>\n      <th>46</th>\n      <td>14047002_140</td>\n      <td>0</td>\n      <td>0.058886</td>\n      <td>0.000000</td>\n    </tr>\n    <tr>\n      <th>47</th>\n      <td>14047002_141</td>\n      <td>0</td>\n      <td>0.040504</td>\n      <td>0.000000</td>\n    </tr>\n    <tr>\n      <th>48</th>\n      <td>14047002_142</td>\n      <td>0</td>\n      <td>0.059599</td>\n      <td>0.000000</td>\n    </tr>\n    <tr>\n      <th>49</th>\n      <td>14047002_143</td>\n      <td>0</td>\n      <td>0.060801</td>\n      <td>0.000000</td>\n    </tr>\n  </tbody>\n</table>\n</div>"
     },
     "execution_count": 41,
     "metadata": {},
     "output_type": "execute_result"
    }
   ],
   "source": [
    "submission.head(50)"
   ],
   "metadata": {
    "collapsed": false,
    "pycharm": {
     "name": "#%%\n"
    }
   }
  },
  {
   "cell_type": "code",
   "execution_count": 42,
   "outputs": [],
   "source": [
    "submission[[\"Id\",\"Prediction\"]].to_csv(\"../submissions/submission_ann.csv\", index=False)"
   ],
   "metadata": {
    "collapsed": false,
    "pycharm": {
     "name": "#%%\n"
    }
   }
  },
  {
   "cell_type": "markdown",
   "source": [
    "lon_idx lat_idx id month penser à normaliser les datasets avec les valeurs max d'un des dataset"
   ],
   "metadata": {
    "collapsed": false
   }
  }
 ],
 "metadata": {
  "kernelspec": {
   "display_name": "Python 3",
   "language": "python",
   "name": "python3"
  },
  "language_info": {
   "codemirror_mode": {
    "name": "ipython",
    "version": 2
   },
   "file_extension": ".py",
   "mimetype": "text/x-python",
   "name": "python",
   "nbconvert_exporter": "python",
   "pygments_lexer": "ipython2",
   "version": "2.7.6"
  }
 },
 "nbformat": 4,
 "nbformat_minor": 0
}
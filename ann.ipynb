{
 "cells": [
  {
   "cell_type": "code",
   "execution_count": 1,
   "outputs": [],
   "source": [
    "from pprint import pprint\n",
    "import numpy as np\n",
    "import pandas as pd\n",
    "import tensorflow as tf\n",
    "from tensorflow.keras import Model\n",
    "from tensorflow.keras import Sequential, activations\n",
    "from tensorflow.keras.optimizers import Adam\n",
    "from sklearn.preprocessing import StandardScaler\n",
    "from tensorflow.keras.layers import Dense, Dropout\n",
    "from sklearn.model_selection import train_test_split\n",
    "from tensorflow.keras.losses import MeanSquaredLogarithmicError, MeanSquaredError\n",
    "\n",
    "import matplotlib.pyplot as plt\n",
    "import seaborn as sns"
   ],
   "metadata": {
    "collapsed": false,
    "pycharm": {
     "name": "#%%\n"
    }
   }
  },
  {
   "cell_type": "code",
   "execution_count": 2,
   "outputs": [],
   "source": [
    "def get_variables_and_size():\n",
    "    from sys import getsizeof\n",
    "    names = []\n",
    "    sizes = []\n",
    "    types = []\n",
    "    for name in dir():\n",
    "        # Print the item if it doesn't start with '__'\n",
    "        if not name.startswith('__'):\n",
    "            value = eval(name)\n",
    "            names.append(name)\n",
    "            sizes.append(getsizeof(value))\n",
    "            types.append(type(value))\n",
    "    sort_indexes = np.argsort(sizes)[::-1]\n",
    "    names = np.array(names)[sort_indexes]\n",
    "    sizes = np.array(sizes)[sort_indexes]\n",
    "    types = np.array(types)[sort_indexes]\n",
    "    for n,s,t in zip(names,sizes,types):\n",
    "        print(n, \"\\n\\tsize :\", s, \"\\n\\ttype :\", t)"
   ],
   "metadata": {
    "collapsed": false,
    "pycharm": {
     "name": "#%%\n"
    }
   }
  },
  {
   "cell_type": "code",
   "execution_count": 3,
   "outputs": [],
   "source": [
    "def m_mape(y_true,y_predict):\n",
    "    n = len(y_true)\n",
    "    y_true = np.array(y_true) + 1\n",
    "    y_predict = np.array(y_predict) + 1\n",
    "\n",
    "    res = ((100/n)*(np.sum(np.abs((y_predict-y_true)/y_true))))\n",
    "    return res"
   ],
   "metadata": {
    "collapsed": false,
    "pycharm": {
     "name": "#%%\n"
    }
   }
  },
  {
   "cell_type": "code",
   "execution_count": 4,
   "outputs": [],
   "source": [
    "def box_plot(prediction_df):\n",
    "    y_upper_bound = min(prediction_df[\"ground_truth\"].max(), prediction_df[\"Prediction\"].max())\n",
    "    mape_score = m_mape(prediction_df[\"ground_truth\"],prediction_df[\"Prediction\"])\n",
    "\n",
    "    plt.figure(figsize=(20,10))\n",
    "    plt.suptitle(\"Prediction on 2017 data.\")\n",
    "\n",
    "    plt.subplot(2,3,1)\n",
    "    plt.title(\"ground_truth\")\n",
    "    plt.boxplot(prediction_df[\"ground_truth\"])\n",
    "    plt.ylim([-0.01,y_upper_bound])\n",
    "\n",
    "    plt.subplot(2,3,2)\n",
    "    plt.title(\"Prediction. MAPE : {:.2f}\".format(mape_score))\n",
    "    plt.boxplot(prediction_df[\"Prediction\"])\n",
    "    plt.ylim([-0.01,y_upper_bound])\n",
    "\n",
    "    plt.subplot(2,3,3)\n",
    "    plt.boxplot(prediction_df[\"reg_pred\"])\n",
    "    plt.title(\"Regression only. MAPE : {:.2f}\".format(m_mape(prediction_df[\"ground_truth\"],prediction_df[\"reg_pred\"])))\n",
    "    plt.ylim([-0.01, y_upper_bound])\n",
    "\n",
    "    plt.subplot(2,3,4)\n",
    "    plt.hist(prediction_df[\"ground_truth\"], bins=100)\n",
    "\n",
    "    plt.subplot(2,3,5)\n",
    "    plt.hist(prediction_df[\"Prediction\"], bins=100)\n",
    "\n",
    "    plt.subplot(2,3,6)\n",
    "    plt.hist(prediction_df[\"reg_pred\"], bins=100)\n",
    "\n",
    "    plt.show()"
   ],
   "metadata": {
    "collapsed": false,
    "pycharm": {
     "name": "#%%\n"
    }
   }
  },
  {
   "cell_type": "code",
   "execution_count": 5,
   "outputs": [],
   "source": [
    "# Creating model using the Sequential in tensorflow\n",
    "def build_model_classf(*layers, loss ='binary_crossentropy', metrics = (\"AUC\",\"accuracy\"), learning_rate=0.001, last_activation=\"softmax\"):\n",
    "    model = Sequential()\n",
    "    model.add(layers[0])\n",
    "    for layer in layers[1:]:\n",
    "        model.add(layer)\n",
    "    model.add(Dense(2, activation=last_activation))\n",
    "\n",
    "    model.compile(\n",
    "        loss=loss,\n",
    "        optimizer=Adam(learning_rate=learning_rate),\n",
    "        metrics=metrics\n",
    "    )\n",
    "\n",
    "    print(model.summary())\n",
    "    return model\n",
    "\n",
    "def make_cls_model(*layers,x,y,x_val=None,y_val=None,val_split=0.15, epochs=15, batch_size=64, learning_rate=0.001, last_activation=\"softmax\"):\n",
    "    # build the model\n",
    "    model_cls = build_model_classf(*layers, learning_rate=learning_rate, last_activation=last_activation)\n",
    "    # train the model\n",
    "    if x_val is None :\n",
    "        history_cls = model_cls.fit(\n",
    "            x=x.values,\n",
    "            y=y,\n",
    "            epochs=epochs,\n",
    "            batch_size=batch_size,\n",
    "            validation_split=val_split\n",
    "            # validation_data=(x_test,y_cls_test)\n",
    "            )\n",
    "    else :\n",
    "        history_cls = model_cls.fit(\n",
    "            x=x.values,\n",
    "            y=y,\n",
    "            epochs=epochs,\n",
    "            batch_size=batch_size,\n",
    "            # validation_split=0.15\n",
    "            validation_data=(x_val,y_val)\n",
    "            )\n",
    "    return history_cls,model_cls\n",
    "\n",
    "def plot_history_cls(history, loss, key1, key2):\n",
    "    plt.figure(figsize=(17,5))\n",
    "    plt.subplot(1,3,1)\n",
    "    plt.title(\"loss : {}\".format(loss))\n",
    "    plt.plot(history.history[\"loss\"], c=\"cyan\")\n",
    "    plt.plot(history.history[\"val_loss\"], c=\"orange\")\n",
    "    plt.xlabel(\"Epochs\")\n",
    "    plt.xticks(np.linspace(0,len(history.history[\"loss\"]),10,dtype=int))\n",
    "    # plt.ylabel(\"loss\")\n",
    "    plt.legend([\"loss\", \"val_loss\"])\n",
    "\n",
    "    plt.subplot(1,3,2)\n",
    "    plt.title(\"metric : {}\".format(key1))\n",
    "    plt.plot(history.history[key1])\n",
    "    plt.plot(history.history['val_'+key1])\n",
    "    plt.xlabel(\"Epochs\")\n",
    "    plt.xticks(np.linspace(0,len(history.history[\"loss\"]),10,dtype=int))\n",
    "    # plt.ylabel(key1)\n",
    "    plt.legend([key1, 'val_'+key1])\n",
    "\n",
    "    plt.subplot(1,3,3)\n",
    "    plt.title(\"metric : {}\".format(key2))\n",
    "    plt.plot(history.history[key2.lower()])\n",
    "    plt.plot(history.history['val_'+key2.lower()])\n",
    "    plt.xlabel(\"Epochs\")\n",
    "    plt.xticks(np.linspace(0,len(history.history[\"loss\"]),10,dtype=int))\n",
    "    # plt.ylabel(key2)\n",
    "    plt.legend([key2, 'val_'+key2])\n",
    "\n",
    "    plt.suptitle(\"Classification results\")\n",
    "    plt.show()"
   ],
   "metadata": {
    "collapsed": false,
    "pycharm": {
     "name": "#%%\n"
    }
   }
  },
  {
   "cell_type": "code",
   "execution_count": 6,
   "outputs": [],
   "source": [
    "# Creating model using the Sequential in tensorflow\n",
    "def build_model_regrs(*layers, metric = MeanSquaredError(), learning_rate=0.001, last_activation=\"relu\"):\n",
    "    model = Sequential()\n",
    "    model.add(layers[0])\n",
    "    for layer in layers[1:]:\n",
    "        model.add(layer)\n",
    "    model.add(Dense(1, activation=last_activation))\n",
    "\n",
    "    model.compile(\n",
    "        loss=metric,\n",
    "        optimizer=Adam(learning_rate=learning_rate),\n",
    "        metrics=[metric]\n",
    "    )\n",
    "\n",
    "    print(model.summary())\n",
    "    return model\n",
    "\n",
    "def make_reg_model(*layers,x,y,x_val=None,y_val=None,val_split=0.15, epochs=15, batch_size=64, learning_rate=0.001, last_activation=\"relu\"):\n",
    "    # build the model\n",
    "    model_reg = build_model_regrs(*layers, learning_rate=learning_rate, last_activation=last_activation)\n",
    "    # train the model\n",
    "    if x_val is None :\n",
    "        history_reg = model_reg.fit(\n",
    "            x=x.values,\n",
    "            y=y,\n",
    "            epochs=epochs,\n",
    "            batch_size=batch_size,\n",
    "            validation_split=val_split\n",
    "            # validation_data=(x_test,y_cls_test)\n",
    "            )\n",
    "    else :\n",
    "        history_reg = model_reg.fit(\n",
    "            x=x.values,\n",
    "            y=y,\n",
    "            epochs=epochs,\n",
    "            batch_size=batch_size,\n",
    "            # validation_split=0.15\n",
    "            validation_data=(x_val,y_val)\n",
    "            )\n",
    "    return history_reg,model_reg\n",
    "\n",
    "def plot_history_reg(history, loss : str):\n",
    "    plt.figure(figsize=(7,5))\n",
    "    plt.title(\"loss : {}\".format(loss))\n",
    "    plt.plot(history.history[\"loss\"], c=\"cyan\")\n",
    "    plt.plot(history.history[\"val_loss\"], c=\"orange\")\n",
    "    plt.xlabel(\"Epochs\")\n",
    "    plt.xticks(np.linspace(0,len(history.history[\"loss\"]),10,dtype=int))\n",
    "    # plt.ylabel(\"loss\")\n",
    "    plt.legend([\"loss\", \"val_loss\"])\n",
    "    plt.show()"
   ],
   "metadata": {
    "collapsed": false,
    "pycharm": {
     "name": "#%%\n"
    }
   }
  },
  {
   "cell_type": "code",
   "execution_count": 7,
   "outputs": [],
   "source": [
    "# custom activation functions\n",
    "exp_relu = lambda x : np.exp(activations.relu(x)) - 1\n",
    "square_relu = lambda x : activations.relu(x)**2"
   ],
   "metadata": {
    "collapsed": false,
    "pycharm": {
     "name": "#%%\n"
    }
   }
  },
  {
   "cell_type": "markdown",
   "source": [
    "# Load the dataset"
   ],
   "metadata": {
    "collapsed": false
   }
  },
  {
   "cell_type": "code",
   "execution_count": 8,
   "outputs": [],
   "source": [
    "df_train = pd.read_csv(\"../preprocessed_data_Defi-IA-2022-Rain-Frogs/X_all_2016_final_by_day.zip\")\n",
    "# df_train = pd.read_csv(\"../preprocessed_data_Defi-IA-2022-Rain-Frogs/X_all_2016_final.zip\")\n",
    "df_train[\"raining\"] = df_train[\"ground_truth\"].apply(lambda x : 0 if (x==0) else 1)\n",
    "df_train[\"not_raining\"] = 1-df_train[\"raining\"]\n",
    "\n",
    "x_train, y_reg_train, y_cls_train = df_train.drop([\"ground_truth\",\"not_raining\",\"raining\"], axis=1), df_train[\"ground_truth\"], df_train[[\"not_raining\",\"raining\"]].to_numpy()\n",
    "del df_train"
   ],
   "metadata": {
    "collapsed": false,
    "pycharm": {
     "name": "#%%\n"
    }
   }
  },
  {
   "cell_type": "code",
   "execution_count": 9,
   "outputs": [],
   "source": [
    "df_test = pd.read_csv(\"../preprocessed_data_Defi-IA-2022-Rain-Frogs/X_all_2017_final_by_day.zip\")\n",
    "# df_test = pd.read_csv(\"../preprocessed_data_Defi-IA-2022-Rain-Frogs/X_all_2017_final.zip\")\n",
    "# get rows for computing MAPE on test\n",
    "prediction_x_test = pd.DataFrame(df_test[[\"Id\",\"ground_truth\"]])\n",
    "\n",
    "df_test[\"raining\"] = df_test[\"ground_truth\"].apply(lambda x : 0 if (x==0) else 1)\n",
    "df_test[\"not_raining\"] = 1-df_test[\"raining\"]\n",
    "\n",
    "x_test, y_reg_test, y_cls_test = df_test.drop([\"ground_truth\",\"not_raining\",\"raining\"], axis=1), df_test[\"ground_truth\"], df_test[[\"not_raining\",\"raining\"]].to_numpy()\n",
    "del df_test"
   ],
   "metadata": {
    "collapsed": false,
    "pycharm": {
     "name": "#%%\n"
    }
   }
  },
  {
   "cell_type": "markdown",
   "source": [
    "# Add classification label (raining or not)"
   ],
   "metadata": {
    "collapsed": false
   }
  },
  {
   "cell_type": "code",
   "execution_count": 10,
   "outputs": [],
   "source": [
    "# define the unnecessary columns\n",
    "cols_to_drop = {\"day\",\"Id\", \"station_id\",\"month\",\"longitude_idx\",\"latitude_idx\", \"next hour precipitation (kg/m^2)\", \"wind_direction (deg)\"}"
   ],
   "metadata": {
    "collapsed": false,
    "pycharm": {
     "name": "#%%\n"
    }
   }
  },
  {
   "cell_type": "code",
   "execution_count": 11,
   "outputs": [],
   "source": [
    "#drop unnecessary columns\n",
    "x_train.drop(list(set(x_train.columns)&cols_to_drop), axis=1, inplace=True)"
   ],
   "metadata": {
    "collapsed": false,
    "pycharm": {
     "name": "#%%\n"
    }
   }
  },
  {
   "cell_type": "code",
   "execution_count": 12,
   "outputs": [],
   "source": [
    "#drop unnecessary columns\n",
    "x_test.drop(list(set(x_test.columns)&cols_to_drop), axis=1, inplace=True)"
   ],
   "metadata": {
    "collapsed": false,
    "pycharm": {
     "name": "#%%\n"
    }
   }
  },
  {
   "cell_type": "markdown",
   "source": [
    "\n",
    "# get same columns on both datasets"
   ],
   "metadata": {
    "collapsed": false
   }
  },
  {
   "cell_type": "code",
   "execution_count": 13,
   "outputs": [],
   "source": [
    "columns = list(x_train.columns)\n",
    "x_train = x_train[columns]\n",
    "x_test = x_test[columns]"
   ],
   "metadata": {
    "collapsed": false,
    "pycharm": {
     "name": "#%%\n"
    }
   }
  },
  {
   "cell_type": "markdown",
   "source": [
    "# normalize both dataset with 2016 min and min-max values"
   ],
   "metadata": {
    "collapsed": false
   }
  },
  {
   "cell_type": "code",
   "execution_count": 14,
   "outputs": [],
   "source": [
    "def get_normalization_infos(*x_s, columns):\n",
    "    normalization_infos = pd.DataFrame(data=[[1000 for _ in range(len(columns))],[0 for _ in range(len(columns))]],\n",
    "                                     index=[\"min\",\"max\"],\n",
    "                                     columns=columns)\n",
    "    for x in x_s :\n",
    "        for col in columns:\n",
    "            min_value = min(normalization_infos[col][\"min\"], x[col].min())\n",
    "            max_value = max(normalization_infos[col][\"max\"], x[col].max())\n",
    "            normalization_infos[col] = [min_value, max_value]\n",
    "\n",
    "    normalization_infos.loc[\"spread\"] = normalization_infos.apply(lambda c : c[\"max\"] - c[\"min\"], axis=0)\n",
    "\n",
    "    return normalization_infos\n",
    "\n",
    "normalization_infos = get_normalization_infos(x_train, x_test, columns=columns)"
   ],
   "metadata": {
    "collapsed": false,
    "pycharm": {
     "name": "#%%\n"
    }
   }
  },
  {
   "cell_type": "code",
   "execution_count": 15,
   "outputs": [],
   "source": [
    "def normalize(x : pd.DataFrame, normalization_infos : pd.DataFrame):\n",
    "    for col in x.columns:\n",
    "        x[col] = (x[col] - normalization_infos[col][\"min\"])/normalization_infos[col][\"spread\"]\n",
    "    return x\n",
    "\n",
    "x_train = normalize(x_train, normalization_infos)\n",
    "x_test = normalize(x_test, normalization_infos)"
   ],
   "metadata": {
    "collapsed": false,
    "pycharm": {
     "name": "#%%\n"
    }
   }
  },
  {
   "cell_type": "markdown",
   "source": [
    "# see if the data is balanced raining-wise"
   ],
   "metadata": {
    "collapsed": false
   }
  },
  {
   "cell_type": "code",
   "execution_count": 16,
   "outputs": [
    {
     "data": {
      "text/plain": "<Figure size 720x360 with 2 Axes>",
      "image/png": "[encoded data removed]"
     },
     "metadata": {
      "needs_background": "light"
     },
     "output_type": "display_data"
    }
   ],
   "source": [
    "raining_ratio1 = y_cls_train[:,1].sum()/y_cls_train[:,0].sum()\n",
    "raining_ratio2 = y_cls_test[:,1].sum()/y_cls_test[:,0].sum()\n",
    "avg_raining_ratio = (raining_ratio1+raining_ratio2)/2\n",
    "\n",
    "plt.figure(figsize = (10,5))\n",
    "plt.subplot(1,2,1)\n",
    "sns.histplot(x=y_cls_train[:,1],hue=y_cls_train[:,1])\n",
    "plt.title(\"2016 (train set) : ratio = {:.2f}\".format(raining_ratio1))\n",
    "plt.subplot(1,2,2)\n",
    "sns.histplot(x=y_cls_test[:,1], hue=y_cls_test[:,1])\n",
    "plt.title(\"2017 (test set) : ratio = {:.2f}\".format(raining_ratio2))\n",
    "plt.suptitle(\"Days w/ and w/o rain. avg_raining_ratio : {:.2f}\".format(avg_raining_ratio))\n",
    "plt.show()"
   ],
   "metadata": {
    "collapsed": false,
    "pycharm": {
     "name": "#%%\n"
    }
   }
  },
  {
   "cell_type": "markdown",
   "source": [
    "ratio = 0.13 for both 2016 and 2017 ==> **Unbalanced**"
   ],
   "metadata": {
    "collapsed": false
   }
  },
  {
   "cell_type": "markdown",
   "source": [
    "# Classification Model (raining or not)\n",
    "source : https://thinkingneuron.com/how-to-use-artificial-neural-networks-for-classification-in-python/"
   ],
   "metadata": {
    "collapsed": false
   }
  },
  {
   "cell_type": "code",
   "execution_count": 17,
   "outputs": [
    {
     "name": "stderr",
     "output_type": "stream",
     "text": [
      "2022-01-09 12:52:15.494196: I tensorflow/stream_executor/cuda/cuda_gpu_executor.cc:939] successful NUMA node read from SysFS had negative value (-1), but there must be at least one NUMA node, so returning NUMA node zero\n",
      "2022-01-09 12:52:15.539346: W tensorflow/stream_executor/platform/default/dso_loader.cc:64] Could not load dynamic library 'libcudnn.so.8'; dlerror: libcudnn.so.8: cannot open shared object file: No such file or directory\n",
      "2022-01-09 12:52:15.539365: W tensorflow/core/common_runtime/gpu/gpu_device.cc:1850] Cannot dlopen some GPU libraries. Please make sure the missing libraries mentioned above are installed properly if you would like to use GPU. Follow the guide at https://www.tensorflow.org/install/gpu for how to download and setup the required libraries for your platform.\n",
      "Skipping registering GPU devices...\n",
      "2022-01-09 12:52:15.540045: I tensorflow/core/platform/cpu_feature_guard.cc:151] This TensorFlow binary is optimized with oneAPI Deep Neural Network Library (oneDNN) to use the following CPU instructions in performance-critical operations:  AVX2 FMA\n",
      "To enable them in other operations, rebuild TensorFlow with the appropriate compiler flags.\n"
     ]
    },
    {
     "name": "stdout",
     "output_type": "stream",
     "text": [
      "Model: \"sequential\"\n",
      "_________________________________________________________________\n",
      " Layer (type)                Output Shape              Param #   \n",
      "=================================================================\n",
      " dense (Dense)               (None, 128)               12544     \n",
      "                                                                 \n",
      " dropout (Dropout)           (None, 128)               0         \n",
      "                                                                 \n",
      " dense_1 (Dense)             (None, 64)                8256      \n",
      "                                                                 \n",
      " dense_2 (Dense)             (None, 32)                2080      \n",
      "                                                                 \n",
      " dense_3 (Dense)             (None, 32)                1056      \n",
      "                                                                 \n",
      " dense_4 (Dense)             (None, 16)                528       \n",
      "                                                                 \n",
      " dense_5 (Dense)             (None, 2)                 34        \n",
      "                                                                 \n",
      "=================================================================\n",
      "Total params: 24,498\n",
      "Trainable params: 24,498\n",
      "Non-trainable params: 0\n",
      "_________________________________________________________________\n",
      "None\n",
      "Epoch 1/15\n",
      "788/788 [==============================] - 4s 3ms/step - loss: 0.6094 - auc: 0.7301 - accuracy: 0.6720 - val_loss: 0.5744 - val_auc: 0.7711 - val_accuracy: 0.7030\n",
      "Epoch 2/15\n",
      "788/788 [==============================] - 2s 3ms/step - loss: 0.5898 - auc: 0.7540 - accuracy: 0.6934 - val_loss: 0.5662 - val_auc: 0.7796 - val_accuracy: 0.7033\n",
      "Epoch 3/15\n",
      "788/788 [==============================] - 2s 3ms/step - loss: 0.5830 - auc: 0.7616 - accuracy: 0.6992 - val_loss: 0.5640 - val_auc: 0.7806 - val_accuracy: 0.7031\n",
      "Epoch 4/15\n",
      "788/788 [==============================] - 2s 2ms/step - loss: 0.5770 - auc: 0.7681 - accuracy: 0.7042 - val_loss: 0.5485 - val_auc: 0.7956 - val_accuracy: 0.7179\n",
      "Epoch 5/15\n",
      "788/788 [==============================] - 2s 3ms/step - loss: 0.5724 - auc: 0.7729 - accuracy: 0.7073 - val_loss: 0.5510 - val_auc: 0.7945 - val_accuracy: 0.7227\n",
      "Epoch 6/15\n",
      "788/788 [==============================] - 2s 3ms/step - loss: 0.5667 - auc: 0.7785 - accuracy: 0.7105 - val_loss: 0.5463 - val_auc: 0.7969 - val_accuracy: 0.7204\n",
      "Epoch 7/15\n",
      "788/788 [==============================] - 2s 2ms/step - loss: 0.5634 - auc: 0.7815 - accuracy: 0.7127 - val_loss: 0.5436 - val_auc: 0.7998 - val_accuracy: 0.7204\n",
      "Epoch 8/15\n",
      "788/788 [==============================] - 2s 2ms/step - loss: 0.5598 - auc: 0.7850 - accuracy: 0.7143 - val_loss: 0.5444 - val_auc: 0.8003 - val_accuracy: 0.7203\n",
      "Epoch 9/15\n",
      "788/788 [==============================] - 2s 3ms/step - loss: 0.5572 - auc: 0.7874 - accuracy: 0.7156 - val_loss: 0.5421 - val_auc: 0.8006 - val_accuracy: 0.7265\n",
      "Epoch 10/15\n",
      "788/788 [==============================] - 2s 2ms/step - loss: 0.5542 - auc: 0.7900 - accuracy: 0.7165 - val_loss: 0.5372 - val_auc: 0.8063 - val_accuracy: 0.7282\n",
      "Epoch 11/15\n",
      "788/788 [==============================] - 2s 2ms/step - loss: 0.5501 - auc: 0.7938 - accuracy: 0.7201 - val_loss: 0.5318 - val_auc: 0.8103 - val_accuracy: 0.7351\n",
      "Epoch 12/15\n",
      "788/788 [==============================] - 2s 3ms/step - loss: 0.5476 - auc: 0.7961 - accuracy: 0.7221 - val_loss: 0.5364 - val_auc: 0.8102 - val_accuracy: 0.7359\n",
      "Epoch 13/15\n",
      "788/788 [==============================] - 2s 2ms/step - loss: 0.5449 - auc: 0.7986 - accuracy: 0.7234 - val_loss: 0.5344 - val_auc: 0.8091 - val_accuracy: 0.7313\n",
      "Epoch 14/15\n",
      "788/788 [==============================] - 2s 3ms/step - loss: 0.5421 - auc: 0.8010 - accuracy: 0.7257 - val_loss: 0.5270 - val_auc: 0.8137 - val_accuracy: 0.7331\n",
      "Epoch 15/15\n",
      "788/788 [==============================] - 2s 2ms/step - loss: 0.5397 - auc: 0.8028 - accuracy: 0.7266 - val_loss: 0.5272 - val_auc: 0.8130 - val_accuracy: 0.7346\n"
     ]
    }
   ],
   "source": [
    "history_cls, model_cls = make_cls_model(\n",
    "    Dense(128, activation=\"relu\",input_dim=x_train.shape[1]),\n",
    "    Dropout(0.1),\n",
    "    Dense(64, activation=\"relu\"),\n",
    "    # Dropout(0.2),\n",
    "    Dense(32, activation=\"relu\"),\n",
    "    # Dropout(0.2),\n",
    "    Dense(32, activation=\"relu\"),\n",
    "    # Dropout(0.2),\n",
    "    Dense(16, activation=\"relu\"),\n",
    "    x=x_train,y=y_cls_train,\n",
    "    epochs=15,\n",
    "    batch_size=128\n",
    ")"
   ],
   "metadata": {
    "collapsed": false,
    "pycharm": {
     "name": "#%%\n"
    }
   }
  },
  {
   "cell_type": "code",
   "execution_count": 18,
   "outputs": [
    {
     "data": {
      "text/plain": "<Figure size 1224x360 with 3 Axes>",
      "image/png": "[encoded data removed]"
     },
     "metadata": {
      "needs_background": "light"
     },
     "output_type": "display_data"
    }
   ],
   "source": [
    "# Plot history\n",
    "plot_history_cls(history_cls, loss = \"binary_crossentropy\", key1 = 'accuracy', key2 = 'AUC')"
   ],
   "metadata": {
    "collapsed": false,
    "pycharm": {
     "name": "#%%\n"
    }
   }
  },
  {
   "cell_type": "markdown",
   "source": [
    "# Regression Model (how much rain if > 0)\n",
    "source : https://www.analyticsvidhya.com/blog/2021/08/a-walk-through-of-regression-analysis-using-artificial-neural-networks-in-tensorflow/"
   ],
   "metadata": {
    "collapsed": false
   }
  },
  {
   "cell_type": "code",
   "execution_count": 19,
   "outputs": [
    {
     "name": "stdout",
     "output_type": "stream",
     "text": [
      "Model: \"sequential_1\"\n",
      "_________________________________________________________________\n",
      " Layer (type)                Output Shape              Param #   \n",
      "=================================================================\n",
      " dense_6 (Dense)             (None, 128)               12544     \n",
      "                                                                 \n",
      " dropout_1 (Dropout)         (None, 128)               0         \n",
      "                                                                 \n",
      " dense_7 (Dense)             (None, 64)                8256      \n",
      "                                                                 \n",
      " dense_8 (Dense)             (None, 32)                2080      \n",
      "                                                                 \n",
      " dense_9 (Dense)             (None, 32)                1056      \n",
      "                                                                 \n",
      " dense_10 (Dense)            (None, 16)                528       \n",
      "                                                                 \n",
      " dense_11 (Dense)            (None, 1)                 17        \n",
      "                                                                 \n",
      "=================================================================\n",
      "Total params: 24,481\n",
      "Trainable params: 24,481\n",
      "Non-trainable params: 0\n",
      "_________________________________________________________________\n",
      "None\n",
      "Epoch 1/30\n",
      "788/788 [==============================] - 2s 2ms/step - loss: 0.0322 - mean_squared_error: 0.0322 - val_loss: 0.0290 - val_mean_squared_error: 0.0293\n",
      "Epoch 2/30\n",
      "788/788 [==============================] - 2s 2ms/step - loss: 0.0309 - mean_squared_error: 0.0309 - val_loss: 0.0277 - val_mean_squared_error: 0.0280\n",
      "Epoch 3/30\n",
      "788/788 [==============================] - 2s 2ms/step - loss: 0.0303 - mean_squared_error: 0.0303 - val_loss: 0.0294 - val_mean_squared_error: 0.0297\n",
      "Epoch 4/30\n",
      "788/788 [==============================] - 2s 2ms/step - loss: 0.0297 - mean_squared_error: 0.0297 - val_loss: 0.0279 - val_mean_squared_error: 0.0282\n",
      "Epoch 5/30\n",
      "788/788 [==============================] - 2s 2ms/step - loss: 0.0292 - mean_squared_error: 0.0292 - val_loss: 0.0260 - val_mean_squared_error: 0.0263\n",
      "Epoch 6/30\n",
      "788/788 [==============================] - 2s 2ms/step - loss: 0.0288 - mean_squared_error: 0.0288 - val_loss: 0.0270 - val_mean_squared_error: 0.0274\n",
      "Epoch 7/30\n",
      "788/788 [==============================] - 2s 2ms/step - loss: 0.0282 - mean_squared_error: 0.0283 - val_loss: 0.0249 - val_mean_squared_error: 0.0252\n",
      "Epoch 8/30\n",
      "788/788 [==============================] - 2s 2ms/step - loss: 0.0279 - mean_squared_error: 0.0279 - val_loss: 0.0247 - val_mean_squared_error: 0.0250\n",
      "Epoch 9/30\n",
      "788/788 [==============================] - 2s 2ms/step - loss: 0.0274 - mean_squared_error: 0.0274 - val_loss: 0.0247 - val_mean_squared_error: 0.0250\n",
      "Epoch 10/30\n",
      "788/788 [==============================] - 2s 2ms/step - loss: 0.0271 - mean_squared_error: 0.0271 - val_loss: 0.0246 - val_mean_squared_error: 0.0250\n",
      "Epoch 11/30\n",
      "788/788 [==============================] - 2s 2ms/step - loss: 0.0268 - mean_squared_error: 0.0268 - val_loss: 0.0240 - val_mean_squared_error: 0.0243\n",
      "Epoch 12/30\n",
      "788/788 [==============================] - 2s 2ms/step - loss: 0.0265 - mean_squared_error: 0.0265 - val_loss: 0.0237 - val_mean_squared_error: 0.0241\n",
      "Epoch 13/30\n",
      "788/788 [==============================] - 2s 2ms/step - loss: 0.0261 - mean_squared_error: 0.0261 - val_loss: 0.0236 - val_mean_squared_error: 0.0239\n",
      "Epoch 14/30\n",
      "788/788 [==============================] - 2s 2ms/step - loss: 0.0259 - mean_squared_error: 0.0259 - val_loss: 0.0237 - val_mean_squared_error: 0.0240\n",
      "Epoch 15/30\n",
      "788/788 [==============================] - 2s 2ms/step - loss: 0.0256 - mean_squared_error: 0.0256 - val_loss: 0.0231 - val_mean_squared_error: 0.0235\n",
      "Epoch 16/30\n",
      "788/788 [==============================] - 2s 2ms/step - loss: 0.0254 - mean_squared_error: 0.0254 - val_loss: 0.0228 - val_mean_squared_error: 0.0232\n",
      "Epoch 17/30\n",
      "788/788 [==============================] - 2s 2ms/step - loss: 0.0252 - mean_squared_error: 0.0252 - val_loss: 0.0228 - val_mean_squared_error: 0.0232\n",
      "Epoch 18/30\n",
      "788/788 [==============================] - 2s 2ms/step - loss: 0.0248 - mean_squared_error: 0.0248 - val_loss: 0.0223 - val_mean_squared_error: 0.0226\n",
      "Epoch 19/30\n",
      "788/788 [==============================] - 2s 2ms/step - loss: 0.0247 - mean_squared_error: 0.0247 - val_loss: 0.0224 - val_mean_squared_error: 0.0228\n",
      "Epoch 20/30\n",
      "788/788 [==============================] - 2s 2ms/step - loss: 0.0244 - mean_squared_error: 0.0244 - val_loss: 0.0219 - val_mean_squared_error: 0.0222\n",
      "Epoch 21/30\n",
      "788/788 [==============================] - 2s 2ms/step - loss: 0.0245 - mean_squared_error: 0.0245 - val_loss: 0.0223 - val_mean_squared_error: 0.0226\n",
      "Epoch 22/30\n",
      "788/788 [==============================] - 2s 2ms/step - loss: 0.0240 - mean_squared_error: 0.0240 - val_loss: 0.0215 - val_mean_squared_error: 0.0219\n",
      "Epoch 23/30\n",
      "788/788 [==============================] - 2s 2ms/step - loss: 0.0239 - mean_squared_error: 0.0239 - val_loss: 0.0217 - val_mean_squared_error: 0.0219\n",
      "Epoch 24/30\n",
      "788/788 [==============================] - 2s 2ms/step - loss: 0.0238 - mean_squared_error: 0.0239 - val_loss: 0.0222 - val_mean_squared_error: 0.0226\n",
      "Epoch 25/30\n",
      "788/788 [==============================] - 2s 2ms/step - loss: 0.0236 - mean_squared_error: 0.0236 - val_loss: 0.0215 - val_mean_squared_error: 0.0218\n",
      "Epoch 26/30\n",
      "788/788 [==============================] - 2s 2ms/step - loss: 0.0236 - mean_squared_error: 0.0236 - val_loss: 0.0214 - val_mean_squared_error: 0.0217\n",
      "Epoch 27/30\n",
      "788/788 [==============================] - 2s 2ms/step - loss: 0.0231 - mean_squared_error: 0.0231 - val_loss: 0.0211 - val_mean_squared_error: 0.0214\n",
      "Epoch 28/30\n",
      "788/788 [==============================] - 2s 2ms/step - loss: 0.0232 - mean_squared_error: 0.0232 - val_loss: 0.0213 - val_mean_squared_error: 0.0217\n",
      "Epoch 29/30\n",
      "788/788 [==============================] - 2s 2ms/step - loss: 0.0228 - mean_squared_error: 0.0228 - val_loss: 0.0212 - val_mean_squared_error: 0.0216\n",
      "Epoch 30/30\n",
      "788/788 [==============================] - 2s 2ms/step - loss: 0.0229 - mean_squared_error: 0.0229 - val_loss: 0.0214 - val_mean_squared_error: 0.0218\n"
     ]
    }
   ],
   "source": [
    "history_reg, model_reg = make_reg_model(\n",
    "    Dense(128, activation=\"relu\",input_dim=x_train.shape[1]),\n",
    "    Dropout(0.1),\n",
    "    Dense(64, activation=\"relu\"),\n",
    "    # Dropout(0.1),\n",
    "    Dense(32, activation=\"relu\"),\n",
    "    # Dropout(0.1),\n",
    "    Dense(32, activation=\"relu\"),\n",
    "    # Dropout(0.1),\n",
    "    Dense(16, activation=\"relu\"),\n",
    "    x=x_train,y=y_reg_train,\n",
    "    last_activation=square_relu,\n",
    "    epochs=30,\n",
    "    batch_size=128,\n",
    "    learning_rate=0.0001\n",
    ")"
   ],
   "metadata": {
    "collapsed": false,
    "pycharm": {
     "name": "#%%\n"
    }
   }
  },
  {
   "cell_type": "code",
   "execution_count": 20,
   "outputs": [
    {
     "data": {
      "text/plain": "<Figure size 504x360 with 1 Axes>",
      "image/png": "[encoded data removed]"
     },
     "metadata": {
      "needs_background": "light"
     },
     "output_type": "display_data"
    }
   ],
   "source": [
    "# Plot history\n",
    "plot_history_reg(history_reg, 'mean_squared_error')"
   ],
   "metadata": {
    "collapsed": false,
    "pycharm": {
     "name": "#%%\n"
    }
   }
  },
  {
   "cell_type": "markdown",
   "source": [
    "# Compute MAPE on 2017 dataset before submitting"
   ],
   "metadata": {
    "collapsed": false
   }
  },
  {
   "cell_type": "code",
   "execution_count": 21,
   "outputs": [],
   "source": [
    "del x_train\n",
    "del y_cls_train\n",
    "del y_reg_train"
   ],
   "metadata": {
    "collapsed": false,
    "pycharm": {
     "name": "#%%\n"
    }
   }
  },
  {
   "cell_type": "code",
   "execution_count": 22,
   "outputs": [],
   "source": [
    "y_cls_pred = model_cls.predict(x_test)"
   ],
   "metadata": {
    "collapsed": false,
    "pycharm": {
     "name": "#%%\n"
    }
   }
  },
  {
   "cell_type": "code",
   "execution_count": 23,
   "outputs": [],
   "source": [
    "y_reg_pred = model_reg.predict(x_test)"
   ],
   "metadata": {
    "collapsed": false,
    "pycharm": {
     "name": "#%%\n"
    }
   }
  },
  {
   "cell_type": "code",
   "execution_count": 24,
   "outputs": [
    {
     "data": {
      "text/plain": "<Figure size 432x288 with 1 Axes>",
      "image/png": "[encoded data removed]"
     },
     "metadata": {
      "needs_background": "light"
     },
     "output_type": "display_data"
    }
   ],
   "source": [
    "plt.hist(y_cls_pred[:,0], color=\"cyan\", alpha=0.3, bins=100, label=\"not_raining\")\n",
    "plt.hist(y_cls_pred[:,1], color=\"magenta\", alpha=0.3, bins=100, label=\"raining\")\n",
    "plt.xlim([0,1])\n",
    "plt.legend()\n",
    "plt.show()"
   ],
   "metadata": {
    "collapsed": false,
    "pycharm": {
     "name": "#%%\n"
    }
   }
  },
  {
   "cell_type": "code",
   "execution_count": 25,
   "outputs": [],
   "source": [
    "cls_temp = y_cls_pred[:,0] < y_cls_pred[:,1]\n",
    "y_cls_pred = np.array([0 if c else 1 for c in cls_temp])"
   ],
   "metadata": {
    "collapsed": false,
    "pycharm": {
     "name": "#%%\n"
    }
   }
  },
  {
   "cell_type": "code",
   "execution_count": 26,
   "outputs": [
    {
     "data": {
      "text/plain": "<Figure size 432x288 with 1 Axes>",
      "image/png": "[encoded data removed]"
     },
     "metadata": {
      "needs_background": "light"
     },
     "output_type": "display_data"
    }
   ],
   "source": [
    "raining_ratio_pred = y_cls_pred.sum()/(len(y_cls_pred) - y_cls_pred.sum())\n",
    "plt.title(\"2016 (train set) : ratio = {:.2f}\".format(raining_ratio_pred))\n",
    "sns.histplot(x=y_cls_pred,hue=y_cls_pred)\n",
    "plt.show()"
   ],
   "metadata": {
    "collapsed": false,
    "pycharm": {
     "name": "#%%\n"
    }
   }
  },
  {
   "cell_type": "code",
   "execution_count": 27,
   "outputs": [],
   "source": [
    "prediction_x_test[\"reg_pred\"] = pd.Series(y_reg_pred.T[0])\n",
    "prediction_x_test[\"cls_pred\"] = y_cls_pred\n",
    "prediction_x_test[\"Prediction\"] = prediction_x_test[\"reg_pred\"] * prediction_x_test[\"cls_pred\"]"
   ],
   "metadata": {
    "collapsed": false,
    "pycharm": {
     "name": "#%%\n"
    }
   }
  },
  {
   "cell_type": "code",
   "execution_count": 28,
   "outputs": [
    {
     "data": {
      "text/plain": "<Figure size 1440x720 with 6 Axes>",
      "image/png": "[encoded data removed]"
     },
     "metadata": {
      "needs_background": "light"
     },
     "output_type": "display_data"
    }
   ],
   "source": [
    "box_plot(prediction_x_test)"
   ],
   "metadata": {
    "collapsed": false,
    "pycharm": {
     "name": "#%%\n"
    }
   }
  },
  {
   "cell_type": "code",
   "execution_count": null,
   "outputs": [],
   "source": [
    "del x_train\n",
    "del y_cls_train\n",
    "del y_reg_train\n",
    "\n",
    "del x_test\n",
    "del y_cls_test\n",
    "del y_reg_test"
   ],
   "metadata": {
    "collapsed": false,
    "pycharm": {
     "name": "#%%\n"
    }
   }
  },
  {
   "cell_type": "markdown",
   "source": [
    "# Make a submission"
   ],
   "metadata": {
    "collapsed": false
   }
  },
  {
   "cell_type": "code",
   "execution_count": null,
   "outputs": [],
   "source": [
    "test_set = pd.read_csv(\"../preprocessed_data_Defi-IA-2022-Rain-Frogs/X_all_test_final_by_day.zip\")\n",
    "# test_set = pd.read_csv(\"../preprocessed_data_Defi-IA-2022-Rain-Frogs/X_all_test_final.zip\")"
   ],
   "metadata": {
    "collapsed": false,
    "pycharm": {
     "name": "#%%\n"
    }
   }
  },
  {
   "cell_type": "markdown",
   "source": [
    "## create submission dataset"
   ],
   "metadata": {
    "collapsed": false
   }
  },
  {
   "cell_type": "code",
   "execution_count": null,
   "outputs": [],
   "source": [
    "submission = pd.DataFrame(test_set[[\"Id\"]])"
   ],
   "metadata": {
    "collapsed": false,
    "pycharm": {
     "name": "#%%\n"
    }
   }
  },
  {
   "cell_type": "markdown",
   "source": [
    "## get same columns as before for test_set"
   ],
   "metadata": {
    "collapsed": false
   }
  },
  {
   "cell_type": "code",
   "execution_count": null,
   "outputs": [],
   "source": [
    "test_set = test_set[columns]"
   ],
   "metadata": {
    "collapsed": false,
    "pycharm": {
     "name": "#%%\n"
    }
   }
  },
  {
   "cell_type": "markdown",
   "source": [
    "## normalize same way test_set"
   ],
   "metadata": {
    "collapsed": false
   }
  },
  {
   "cell_type": "code",
   "execution_count": null,
   "outputs": [],
   "source": [
    "test_set = normalize(test_set,normalization_infos)"
   ],
   "metadata": {
    "collapsed": false,
    "pycharm": {
     "name": "#%%\n"
    }
   }
  },
  {
   "cell_type": "code",
   "execution_count": null,
   "outputs": [],
   "source": [
    "test_set.head()"
   ],
   "metadata": {
    "collapsed": false,
    "pycharm": {
     "name": "#%%\n"
    }
   }
  },
  {
   "cell_type": "markdown",
   "source": [
    "## Predict test_set for submission"
   ],
   "metadata": {
    "collapsed": false
   }
  },
  {
   "cell_type": "code",
   "execution_count": null,
   "outputs": [],
   "source": [
    "y_cls_pred = model_cls.predict(test_set)"
   ],
   "metadata": {
    "collapsed": false,
    "pycharm": {
     "name": "#%%\n"
    }
   }
  },
  {
   "cell_type": "code",
   "execution_count": null,
   "outputs": [],
   "source": [
    "y_reg_pred = model_reg.predict(test_set)"
   ],
   "metadata": {
    "collapsed": false,
    "pycharm": {
     "name": "#%%\n"
    }
   }
  },
  {
   "cell_type": "code",
   "execution_count": null,
   "outputs": [],
   "source": [
    "cls_temp = y_cls_pred[:,0] < y_cls_pred[:,1]\n",
    "y_cls_pred = np.array([[0,1] if c else [1,0] for c in cls_temp])"
   ],
   "metadata": {
    "collapsed": false,
    "pycharm": {
     "name": "#%%\n"
    }
   }
  },
  {
   "cell_type": "code",
   "execution_count": null,
   "outputs": [],
   "source": [
    "sns.histplot(x=y_cls_pred[:,1], hue=y_cls_pred[:,1])\n",
    "plt.show()"
   ],
   "metadata": {
    "collapsed": false,
    "pycharm": {
     "name": "#%%\n"
    }
   }
  },
  {
   "cell_type": "code",
   "execution_count": null,
   "outputs": [],
   "source": [
    "print(avg_raining_ratio)"
   ],
   "metadata": {
    "collapsed": false,
    "pycharm": {
     "name": "#%%\n"
    }
   }
  },
  {
   "cell_type": "code",
   "execution_count": null,
   "outputs": [],
   "source": [
    "submission[\"cls_pred\"] = pd.Series(y_cls_pred.T[0])\n",
    "submission[\"reg_pred\"] = y_reg_pred"
   ],
   "metadata": {
    "collapsed": false,
    "pycharm": {
     "name": "#%%\n"
    }
   }
  },
  {
   "cell_type": "code",
   "execution_count": null,
   "outputs": [],
   "source": [
    "submission[\"Prediction\"] = submission[\"cls_pred\"] * submission[\"reg_pred\"]"
   ],
   "metadata": {
    "collapsed": false,
    "pycharm": {
     "name": "#%%\n"
    }
   }
  },
  {
   "cell_type": "code",
   "execution_count": null,
   "outputs": [],
   "source": [
    "submission.head(50)"
   ],
   "metadata": {
    "collapsed": false,
    "pycharm": {
     "name": "#%%\n"
    }
   }
  },
  {
   "cell_type": "code",
   "execution_count": null,
   "outputs": [],
   "source": [
    "submission[[\"Id\",\"Prediction\"]].to_csv(\"../submissions/submission_ann.csv\", index=False)"
   ],
   "metadata": {
    "collapsed": false,
    "pycharm": {
     "name": "#%%\n"
    }
   }
  },
  {
   "cell_type": "markdown",
   "source": [
    "lon_idx lat_idx id month penser à normaliser les datasets avec les valeurs max d'un des dataset"
   ],
   "metadata": {
    "collapsed": false
   }
  }
 ],
 "metadata": {
  "kernelspec": {
   "display_name": "Python 3",
   "language": "python",
   "name": "python3"
  },
  "language_info": {
   "codemirror_mode": {
    "name": "ipython",
    "version": 2
   },
   "file_extension": ".py",
   "mimetype": "text/x-python",
   "name": "python",
   "nbconvert_exporter": "python",
   "pygments_lexer": "ipython2",
   "version": "2.7.6"
  }
 },
 "nbformat": 4,
 "nbformat_minor": 0
}
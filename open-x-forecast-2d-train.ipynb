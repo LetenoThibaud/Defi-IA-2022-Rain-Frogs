{
 "cells": [
  {
   "cell_type": "markdown",
   "id": "1c0f92eb",
   "metadata": {
    "papermill": {
     "duration": 0.014605,
     "end_time": "2021-10-07T08:50:25.555573",
     "exception": false,
     "start_time": "2021-10-07T08:50:25.540968",
     "status": "completed"
    },
    "tags": []
   },
   "source": [
    "# Weather models : 2D parameters\n",
    "\n",
    "The aim of this notebook is to indicate how to read the 2D data from weather models.\n",
    "There are 2 weather models:\n",
    "* a fine-mesh french weather model called 'AROME' (spatial resolution of 0.025°)\n",
    "* a large-mesh french weather model called 'ARPEGE' (spatial resolution of 0.1°)\n",
    "\n",
    "Per model and day, you have the model run of 00h with range forecasts from 00h to 24h. The time step is 1h.\n",
    "\n",
    "Here are the different weather parameters:\n",
    "\n",
    "* at 2m: temperature (in K), dew point temperature** (in K) and relative humidity (in %)\n",
    "* at 10m: wind speed (in m.s<sup>-1</sup>), wind direction (in degrees), U and V wind components*** (in m.s<sup>-1</sup>)\n",
    "* at the sea level: mean sea level pressure (in Pa)\n",
    "* at the ground level: total precipitation (in kg m<sup>-2</sup> which is equivalent to mm) **since the beginning of the model run**\n",
    "\n",
    "For more information about data, cf [documentation](https://meteofrance.github.io/meteonet/english/data/weather-models/).\n",
    "\n",
    "** : temperature for which it is needed to refresh an air volume at constant pressure and humidity to become it saturated (i.e. condensation temperature)\n",
    "\n",
    "*** : horizontal wind speed components, U : from west to east and V : from south to north. "
   ]
  },
  {
   "cell_type": "markdown",
   "id": "f1d005c6",
   "metadata": {
    "papermill": {
     "duration": 0.013189,
     "end_time": "2021-10-07T08:50:25.582570",
     "exception": false,
     "start_time": "2021-10-07T08:50:25.569381",
     "status": "completed"
    },
    "tags": []
   },
   "source": [
    "# Note\n",
    "\n",
    "<font size=\"4.5\">To use <span style=\"color:blue\">**Cartopy**</span>, a library to plot data with basemaps (see cells below), it is necessary to <span style=\"color:red\">activate the internet connection</span> of that notebook (in edit mode, you can find on the right column, in the *Settings* section, a row entitled *Internet*, put the slider bar on **on**).  </font>\n",
    "\n",
    "<font size=\"4.5\">If it does not still work, check you use the latest environment (in the *Settings* section, click on **Preferences**).</font>"
   ]
  },
  {
   "cell_type": "code",
   "execution_count": 2,
   "id": "e98111b7",
   "metadata": {
    "_cell_guid": "b1076dfc-b9ad-4769-8c92-a6c4dae69d19",
    "_uuid": "8f2839f25d086af736a60e9eeb907d3b93b6e0e5",
    "execution": {
     "iopub.execute_input": "2021-10-07T08:50:25.632436Z",
     "iopub.status.busy": "2021-10-07T08:50:25.631597Z",
     "iopub.status.idle": "2021-10-07T08:50:26.803258Z",
     "shell.execute_reply": "2021-10-07T08:50:26.803766Z",
     "shell.execute_reply.started": "2021-10-07T08:21:23.152633Z"
    },
    "papermill": {
     "duration": 1.204341,
     "end_time": "2021-10-07T08:50:26.804124",
     "exception": false,
     "start_time": "2021-10-07T08:50:25.599783",
     "status": "completed"
    },
    "tags": []
   },
   "outputs": [],
   "source": [
    "import xarray as xr\n",
    "import numpy as np\n",
    "import matplotlib.pyplot as plt\n",
    "import datetime as dt"
   ]
  },
  {
   "cell_type": "code",
   "execution_count": 3,
   "id": "2820edc6",
   "metadata": {
    "execution": {
     "iopub.execute_input": "2021-10-07T08:50:26.835912Z",
     "iopub.status.busy": "2021-10-07T08:50:26.834930Z",
     "iopub.status.idle": "2021-10-07T08:50:26.838810Z",
     "shell.execute_reply": "2021-10-07T08:50:26.839323Z",
     "shell.execute_reply.started": "2021-10-07T08:21:24.517634Z"
    },
    "papermill": {
     "duration": 0.021493,
     "end_time": "2021-10-07T08:50:26.839485",
     "exception": false,
     "start_time": "2021-10-07T08:50:26.817992",
     "status": "completed"
    },
    "tags": []
   },
   "outputs": [],
   "source": [
    "model = 'arome'  #weather model (arome or arpege)\n",
    "param = \"tp\"   #parameter name in the file (cf cells below to know the parameter names -> exploration of metadata)\n",
    "file_date = dt.datetime(2017, 2, 14) # Day example "
   ]
  },
  {
   "cell_type": "code",
   "execution_count": 6,
   "id": "8e7e3e57",
   "metadata": {
    "execution": {
     "iopub.execute_input": "2021-10-07T08:50:26.870514Z",
     "iopub.status.busy": "2021-10-07T08:50:26.869559Z",
     "iopub.status.idle": "2021-10-07T08:50:27.074064Z",
     "shell.execute_reply": "2021-10-07T08:50:27.073440Z",
     "shell.execute_reply.started": "2021-10-07T08:21:24.523259Z"
    },
    "papermill": {
     "duration": 0.221142,
     "end_time": "2021-10-07T08:50:27.074213",
     "exception": false,
     "start_time": "2021-10-07T08:50:26.853071",
     "status": "completed"
    },
    "tags": []
   },
   "outputs": [],
   "source": [
    "fname = \"../Train/Train/X_forecast/2D_%s_%s.nc\" %(model,file_date.strftime('%Y%m%d'))\n",
    "data = xr.open_dataset(fname)"
   ]
  },
  {
   "cell_type": "code",
   "execution_count": 7,
   "id": "39403bcc",
   "metadata": {
    "execution": {
     "iopub.execute_input": "2021-10-07T08:50:27.111104Z",
     "iopub.status.busy": "2021-10-07T08:50:27.110085Z",
     "iopub.status.idle": "2021-10-07T08:50:27.138332Z",
     "shell.execute_reply": "2021-10-07T08:50:27.138832Z",
     "shell.execute_reply.started": "2021-10-07T08:21:24.73614Z"
    },
    "papermill": {
     "duration": 0.051382,
     "end_time": "2021-10-07T08:50:27.139145",
     "exception": false,
     "start_time": "2021-10-07T08:50:27.087763",
     "status": "completed"
    },
    "tags": []
   },
   "outputs": [
    {
     "data": {
      "text/plain": "<xarray.Dataset>\nDimensions:     (latitude: 227, longitude: 315, valid_time: 25, Id: 25)\nCoordinates:\n    time        datetime64[ns] ...\n  * latitude    (latitude) float32 51.9 51.87 51.85 51.82 ... 46.3 46.27 46.25\n  * longitude   (longitude) float32 -5.842 -5.817 -5.792 ... 1.958 1.983 2.008\n  * valid_time  (valid_time) datetime64[ns] 2017-02-14 ... 2017-02-15\n  * Id          (Id) object '409_0' '409_1' '409_2' ... '409_23' '409_24'\nData variables:\n    ws          (valid_time, latitude, longitude) float32 ...\n    p3031       (valid_time, latitude, longitude) float32 ...\n    u10         (valid_time, latitude, longitude) float32 ...\n    v10         (valid_time, latitude, longitude) float32 ...\n    t2m         (valid_time, latitude, longitude) float32 ...\n    d2m         (valid_time, latitude, longitude) float32 ...\n    r           (valid_time, latitude, longitude) float32 ...\n    tp          (valid_time, latitude, longitude) float32 ...\n    msl         (valid_time, latitude, longitude) float32 ...\nAttributes:\n    GRIB_edition:            1\n    GRIB_centre:             lfpw\n    GRIB_centreDescription:  French Weather Service - Toulouse\n    GRIB_subCentre:          0\n    Conventions:             CF-1.7\n    institution:             French Weather Service - Toulouse\n    history:                 2021-09-30T18:02:47 GRIB to CDM+CF via cfgrib-0....",
      "text/html": "<div><svg style=\"position: absolute; width: 0; height: 0; overflow: hidden\">\n<defs>\n<symbol id=\"icon-database\" viewBox=\"0 0 32 32\">\n<path d=\"M16 0c-8.837 0-16 2.239-16 5v4c0 2.761 7.163 5 16 5s16-2.239 16-5v-4c0-2.761-7.163-5-16-5z\"></path>\n<path d=\"M16 17c-8.837 0-16-2.239-16-5v6c0 2.761 7.163 5 16 5s16-2.239 16-5v-6c0 2.761-7.163 5-16 5z\"></path>\n<path d=\"M16 26c-8.837 0-16-2.239-16-5v6c0 2.761 7.163 5 16 5s16-2.239 16-5v-6c0 2.761-7.163 5-16 5z\"></path>\n</symbol>\n<symbol id=\"icon-file-text2\" viewBox=\"0 0 32 32\">\n<path d=\"M28.681 7.159c-0.694-0.947-1.662-2.053-2.724-3.116s-2.169-2.030-3.116-2.724c-1.612-1.182-2.393-1.319-2.841-1.319h-15.5c-1.378 0-2.5 1.121-2.5 2.5v27c0 1.378 1.122 2.5 2.5 2.5h23c1.378 0 2.5-1.122 2.5-2.5v-19.5c0-0.448-0.137-1.23-1.319-2.841zM24.543 5.457c0.959 0.959 1.712 1.825 2.268 2.543h-4.811v-4.811c0.718 0.556 1.584 1.309 2.543 2.268zM28 29.5c0 0.271-0.229 0.5-0.5 0.5h-23c-0.271 0-0.5-0.229-0.5-0.5v-27c0-0.271 0.229-0.5 0.5-0.5 0 0 15.499-0 15.5 0v7c0 0.552 0.448 1 1 1h7v19.5z\"></path>\n<path d=\"M23 26h-14c-0.552 0-1-0.448-1-1s0.448-1 1-1h14c0.552 0 1 0.448 1 1s-0.448 1-1 1z\"></path>\n<path d=\"M23 22h-14c-0.552 0-1-0.448-1-1s0.448-1 1-1h14c0.552 0 1 0.448 1 1s-0.448 1-1 1z\"></path>\n<path d=\"M23 18h-14c-0.552 0-1-0.448-1-1s0.448-1 1-1h14c0.552 0 1 0.448 1 1s-0.448 1-1 1z\"></path>\n</symbol>\n</defs>\n</svg>\n<style>/* CSS stylesheet for displaying xarray objects in jupyterlab.\n *\n */\n\n:root {\n  --xr-font-color0: var(--jp-content-font-color0, rgba(0, 0, 0, 1));\n  --xr-font-color2: var(--jp-content-font-color2, rgba(0, 0, 0, 0.54));\n  --xr-font-color3: var(--jp-content-font-color3, rgba(0, 0, 0, 0.38));\n  --xr-border-color: var(--jp-border-color2, #e0e0e0);\n  --xr-disabled-color: var(--jp-layout-color3, #bdbdbd);\n  --xr-background-color: var(--jp-layout-color0, white);\n  --xr-background-color-row-even: var(--jp-layout-color1, white);\n  --xr-background-color-row-odd: var(--jp-layout-color2, #eeeeee);\n}\n\nhtml[theme=dark],\nbody.vscode-dark {\n  --xr-font-color0: rgba(255, 255, 255, 1);\n  --xr-font-color2: rgba(255, 255, 255, 0.54);\n  --xr-font-color3: rgba(255, 255, 255, 0.38);\n  --xr-border-color: #1F1F1F;\n  --xr-disabled-color: #515151;\n  --xr-background-color: #111111;\n  --xr-background-color-row-even: #111111;\n  --xr-background-color-row-odd: #313131;\n}\n\n.xr-wrap {\n  display: block !important;\n  min-width: 300px;\n  max-width: 700px;\n}\n\n.xr-text-repr-fallback {\n  /* fallback to plain text repr when CSS is not injected (untrusted notebook) */\n  display: none;\n}\n\n.xr-header {\n  padding-top: 6px;\n  padding-bottom: 6px;\n  margin-bottom: 4px;\n  border-bottom: solid 1px var(--xr-border-color);\n}\n\n.xr-header > div,\n.xr-header > ul {\n  display: inline;\n  margin-top: 0;\n  margin-bottom: 0;\n}\n\n.xr-obj-type,\n.xr-array-name {\n  margin-left: 2px;\n  margin-right: 10px;\n}\n\n.xr-obj-type {\n  color: var(--xr-font-color2);\n}\n\n.xr-sections {\n  padding-left: 0 !important;\n  display: grid;\n  grid-template-columns: 150px auto auto 1fr 20px 20px;\n}\n\n.xr-section-item {\n  display: contents;\n}\n\n.xr-section-item input {\n  display: none;\n}\n\n.xr-section-item input + label {\n  color: var(--xr-disabled-color);\n}\n\n.xr-section-item input:enabled + label {\n  cursor: pointer;\n  color: var(--xr-font-color2);\n}\n\n.xr-section-item input:enabled + label:hover {\n  color: var(--xr-font-color0);\n}\n\n.xr-section-summary {\n  grid-column: 1;\n  color: var(--xr-font-color2);\n  font-weight: 500;\n}\n\n.xr-section-summary > span {\n  display: inline-block;\n  padding-left: 0.5em;\n}\n\n.xr-section-summary-in:disabled + label {\n  color: var(--xr-font-color2);\n}\n\n.xr-section-summary-in + label:before {\n  display: inline-block;\n  content: '►';\n  font-size: 11px;\n  width: 15px;\n  text-align: center;\n}\n\n.xr-section-summary-in:disabled + label:before {\n  color: var(--xr-disabled-color);\n}\n\n.xr-section-summary-in:checked + label:before {\n  content: '▼';\n}\n\n.xr-section-summary-in:checked + label > span {\n  display: none;\n}\n\n.xr-section-summary,\n.xr-section-inline-details {\n  padding-top: 4px;\n  padding-bottom: 4px;\n}\n\n.xr-section-inline-details {\n  grid-column: 2 / -1;\n}\n\n.xr-section-details {\n  display: none;\n  grid-column: 1 / -1;\n  margin-bottom: 5px;\n}\n\n.xr-section-summary-in:checked ~ .xr-section-details {\n  display: contents;\n}\n\n.xr-array-wrap {\n  grid-column: 1 / -1;\n  display: grid;\n  grid-template-columns: 20px auto;\n}\n\n.xr-array-wrap > label {\n  grid-column: 1;\n  vertical-align: top;\n}\n\n.xr-preview {\n  color: var(--xr-font-color3);\n}\n\n.xr-array-preview,\n.xr-array-data {\n  padding: 0 5px !important;\n  grid-column: 2;\n}\n\n.xr-array-data,\n.xr-array-in:checked ~ .xr-array-preview {\n  display: none;\n}\n\n.xr-array-in:checked ~ .xr-array-data,\n.xr-array-preview {\n  display: inline-block;\n}\n\n.xr-dim-list {\n  display: inline-block !important;\n  list-style: none;\n  padding: 0 !important;\n  margin: 0;\n}\n\n.xr-dim-list li {\n  display: inline-block;\n  padding: 0;\n  margin: 0;\n}\n\n.xr-dim-list:before {\n  content: '(';\n}\n\n.xr-dim-list:after {\n  content: ')';\n}\n\n.xr-dim-list li:not(:last-child):after {\n  content: ',';\n  padding-right: 5px;\n}\n\n.xr-has-index {\n  font-weight: bold;\n}\n\n.xr-var-list,\n.xr-var-item {\n  display: contents;\n}\n\n.xr-var-item > div,\n.xr-var-item label,\n.xr-var-item > .xr-var-name span {\n  background-color: var(--xr-background-color-row-even);\n  margin-bottom: 0;\n}\n\n.xr-var-item > .xr-var-name:hover span {\n  padding-right: 5px;\n}\n\n.xr-var-list > li:nth-child(odd) > div,\n.xr-var-list > li:nth-child(odd) > label,\n.xr-var-list > li:nth-child(odd) > .xr-var-name span {\n  background-color: var(--xr-background-color-row-odd);\n}\n\n.xr-var-name {\n  grid-column: 1;\n}\n\n.xr-var-dims {\n  grid-column: 2;\n}\n\n.xr-var-dtype {\n  grid-column: 3;\n  text-align: right;\n  color: var(--xr-font-color2);\n}\n\n.xr-var-preview {\n  grid-column: 4;\n}\n\n.xr-var-name,\n.xr-var-dims,\n.xr-var-dtype,\n.xr-preview,\n.xr-attrs dt {\n  white-space: nowrap;\n  overflow: hidden;\n  text-overflow: ellipsis;\n  padding-right: 10px;\n}\n\n.xr-var-name:hover,\n.xr-var-dims:hover,\n.xr-var-dtype:hover,\n.xr-attrs dt:hover {\n  overflow: visible;\n  width: auto;\n  z-index: 1;\n}\n\n.xr-var-attrs,\n.xr-var-data {\n  display: none;\n  background-color: var(--xr-background-color) !important;\n  padding-bottom: 5px !important;\n}\n\n.xr-var-attrs-in:checked ~ .xr-var-attrs,\n.xr-var-data-in:checked ~ .xr-var-data {\n  display: block;\n}\n\n.xr-var-data > table {\n  float: right;\n}\n\n.xr-var-name span,\n.xr-var-data,\n.xr-attrs {\n  padding-left: 25px !important;\n}\n\n.xr-attrs,\n.xr-var-attrs,\n.xr-var-data {\n  grid-column: 1 / -1;\n}\n\ndl.xr-attrs {\n  padding: 0;\n  margin: 0;\n  display: grid;\n  grid-template-columns: 125px auto;\n}\n\n.xr-attrs dt,\n.xr-attrs dd {\n  padding: 0;\n  margin: 0;\n  float: left;\n  padding-right: 10px;\n  width: auto;\n}\n\n.xr-attrs dt {\n  font-weight: normal;\n  grid-column: 1;\n}\n\n.xr-attrs dt:hover span {\n  display: inline-block;\n  background: var(--xr-background-color);\n  padding-right: 10px;\n}\n\n.xr-attrs dd {\n  grid-column: 2;\n  white-space: pre-wrap;\n  word-break: break-all;\n}\n\n.xr-icon-database,\n.xr-icon-file-text2 {\n  display: inline-block;\n  vertical-align: middle;\n  width: 1em;\n  height: 1.5em !important;\n  stroke-width: 0;\n  stroke: currentColor;\n  fill: currentColor;\n}\n</style><pre class='xr-text-repr-fallback'>&lt;xarray.Dataset&gt;\nDimensions:     (latitude: 227, longitude: 315, valid_time: 25, Id: 25)\nCoordinates:\n    time        datetime64[ns] 2017-02-14\n  * latitude    (latitude) float32 51.9 51.87 51.85 51.82 ... 46.3 46.27 46.25\n  * longitude   (longitude) float32 -5.842 -5.817 -5.792 ... 1.958 1.983 2.008\n  * valid_time  (valid_time) datetime64[ns] 2017-02-14 ... 2017-02-15\n  * Id          (Id) object &#x27;409_0&#x27; &#x27;409_1&#x27; &#x27;409_2&#x27; ... &#x27;409_23&#x27; &#x27;409_24&#x27;\nData variables:\n    ws          (valid_time, latitude, longitude) float32 ...\n    p3031       (valid_time, latitude, longitude) float32 ...\n    u10         (valid_time, latitude, longitude) float32 ...\n    v10         (valid_time, latitude, longitude) float32 ...\n    t2m         (valid_time, latitude, longitude) float32 ...\n    d2m         (valid_time, latitude, longitude) float32 ...\n    r           (valid_time, latitude, longitude) float32 ...\n    tp          (valid_time, latitude, longitude) float32 ...\n    msl         (valid_time, latitude, longitude) float32 ...\nAttributes:\n    GRIB_edition:            1\n    GRIB_centre:             lfpw\n    GRIB_centreDescription:  French Weather Service - Toulouse\n    GRIB_subCentre:          0\n    Conventions:             CF-1.7\n    institution:             French Weather Service - Toulouse\n    history:                 2021-09-30T18:02:47 GRIB to CDM+CF via cfgrib-0....</pre><div class='xr-wrap' style='display:none'><div class='xr-header'><div class='xr-obj-type'>xarray.Dataset</div></div><ul class='xr-sections'><li class='xr-section-item'><input id='section-8de45536-9367-44ef-867b-54cbe9f7854b' class='xr-section-summary-in' type='checkbox' disabled ><label for='section-8de45536-9367-44ef-867b-54cbe9f7854b' class='xr-section-summary'  title='Expand/collapse section'>Dimensions:</label><div class='xr-section-inline-details'><ul class='xr-dim-list'><li><span class='xr-has-index'>latitude</span>: 227</li><li><span class='xr-has-index'>longitude</span>: 315</li><li><span class='xr-has-index'>valid_time</span>: 25</li><li><span class='xr-has-index'>Id</span>: 25</li></ul></div><div class='xr-section-details'></div></li><li class='xr-section-item'><input id='section-fe8d7902-e9a9-4124-b72b-1331c40f6637' class='xr-section-summary-in' type='checkbox'  checked><label for='section-fe8d7902-e9a9-4124-b72b-1331c40f6637' class='xr-section-summary' >Coordinates: <span>(5)</span></label><div class='xr-section-inline-details'></div><div class='xr-section-details'><ul class='xr-var-list'><li class='xr-var-item'><div class='xr-var-name'><span>time</span></div><div class='xr-var-dims'>()</div><div class='xr-var-dtype'>datetime64[ns]</div><div class='xr-var-preview xr-preview'>...</div><input id='attrs-70dab94a-073f-4a98-8056-f968a84bd84b' class='xr-var-attrs-in' type='checkbox' ><label for='attrs-70dab94a-073f-4a98-8056-f968a84bd84b' title='Show/Hide attributes'><svg class='icon xr-icon-file-text2'><use xlink:href='#icon-file-text2'></use></svg></label><input id='data-8cf72ec4-8190-424b-8587-b4f3a23a7d02' class='xr-var-data-in' type='checkbox'><label for='data-8cf72ec4-8190-424b-8587-b4f3a23a7d02' title='Show/Hide data repr'><svg class='icon xr-icon-database'><use xlink:href='#icon-database'></use></svg></label><div class='xr-var-attrs'><dl class='xr-attrs'><dt><span>long_name :</span></dt><dd>initial time of forecast</dd><dt><span>standard_name :</span></dt><dd>forecast_reference_time</dd></dl></div><div class='xr-var-data'><pre>array(&#x27;2017-02-14T00:00:00.000000000&#x27;, dtype=&#x27;datetime64[ns]&#x27;)</pre></div></li><li class='xr-var-item'><div class='xr-var-name'><span class='xr-has-index'>latitude</span></div><div class='xr-var-dims'>(latitude)</div><div class='xr-var-dtype'>float32</div><div class='xr-var-preview xr-preview'>51.9 51.87 51.85 ... 46.27 46.25</div><input id='attrs-b0a883ff-13d1-4297-a68d-ddf2a883b416' class='xr-var-attrs-in' type='checkbox' disabled><label for='attrs-b0a883ff-13d1-4297-a68d-ddf2a883b416' title='Show/Hide attributes'><svg class='icon xr-icon-file-text2'><use xlink:href='#icon-file-text2'></use></svg></label><input id='data-fef34795-a43c-4c38-94c2-4fa2d71dc632' class='xr-var-data-in' type='checkbox'><label for='data-fef34795-a43c-4c38-94c2-4fa2d71dc632' title='Show/Hide data repr'><svg class='icon xr-icon-database'><use xlink:href='#icon-database'></use></svg></label><div class='xr-var-attrs'><dl class='xr-attrs'></dl></div><div class='xr-var-data'><pre>array([51.896, 51.871, 51.846, ..., 46.296, 46.271, 46.246], dtype=float32)</pre></div></li><li class='xr-var-item'><div class='xr-var-name'><span class='xr-has-index'>longitude</span></div><div class='xr-var-dims'>(longitude)</div><div class='xr-var-dtype'>float32</div><div class='xr-var-preview xr-preview'>-5.842 -5.817 ... 1.983 2.008</div><input id='attrs-c96613cb-870f-40cb-9c10-a926b2601e7f' class='xr-var-attrs-in' type='checkbox' disabled><label for='attrs-c96613cb-870f-40cb-9c10-a926b2601e7f' title='Show/Hide attributes'><svg class='icon xr-icon-file-text2'><use xlink:href='#icon-file-text2'></use></svg></label><input id='data-40e9bdae-d67f-4189-b6d9-30971c19de9a' class='xr-var-data-in' type='checkbox'><label for='data-40e9bdae-d67f-4189-b6d9-30971c19de9a' title='Show/Hide data repr'><svg class='icon xr-icon-database'><use xlink:href='#icon-database'></use></svg></label><div class='xr-var-attrs'><dl class='xr-attrs'></dl></div><div class='xr-var-data'><pre>array([-5.842, -5.817, -5.792, ...,  1.958,  1.983,  2.008], dtype=float32)</pre></div></li><li class='xr-var-item'><div class='xr-var-name'><span class='xr-has-index'>valid_time</span></div><div class='xr-var-dims'>(valid_time)</div><div class='xr-var-dtype'>datetime64[ns]</div><div class='xr-var-preview xr-preview'>2017-02-14 ... 2017-02-15</div><input id='attrs-9ec2a0ae-f5b1-4b01-9347-2ff8de03728c' class='xr-var-attrs-in' type='checkbox' ><label for='attrs-9ec2a0ae-f5b1-4b01-9347-2ff8de03728c' title='Show/Hide attributes'><svg class='icon xr-icon-file-text2'><use xlink:href='#icon-file-text2'></use></svg></label><input id='data-d0134fde-a17b-4546-8bd2-fd0d6b531dca' class='xr-var-data-in' type='checkbox'><label for='data-d0134fde-a17b-4546-8bd2-fd0d6b531dca' title='Show/Hide data repr'><svg class='icon xr-icon-database'><use xlink:href='#icon-database'></use></svg></label><div class='xr-var-attrs'><dl class='xr-attrs'><dt><span>standard_name :</span></dt><dd>time</dd><dt><span>long_name :</span></dt><dd>time</dd></dl></div><div class='xr-var-data'><pre>array([&#x27;2017-02-14T00:00:00.000000000&#x27;, &#x27;2017-02-14T01:00:00.000000000&#x27;,\n       &#x27;2017-02-14T02:00:00.000000000&#x27;, &#x27;2017-02-14T03:00:00.000000000&#x27;,\n       &#x27;2017-02-14T04:00:00.000000000&#x27;, &#x27;2017-02-14T05:00:00.000000000&#x27;,\n       &#x27;2017-02-14T06:00:00.000000000&#x27;, &#x27;2017-02-14T07:00:00.000000000&#x27;,\n       &#x27;2017-02-14T08:00:00.000000000&#x27;, &#x27;2017-02-14T09:00:00.000000000&#x27;,\n       &#x27;2017-02-14T10:00:00.000000000&#x27;, &#x27;2017-02-14T11:00:00.000000000&#x27;,\n       &#x27;2017-02-14T12:00:00.000000000&#x27;, &#x27;2017-02-14T13:00:00.000000000&#x27;,\n       &#x27;2017-02-14T14:00:00.000000000&#x27;, &#x27;2017-02-14T15:00:00.000000000&#x27;,\n       &#x27;2017-02-14T16:00:00.000000000&#x27;, &#x27;2017-02-14T17:00:00.000000000&#x27;,\n       &#x27;2017-02-14T18:00:00.000000000&#x27;, &#x27;2017-02-14T19:00:00.000000000&#x27;,\n       &#x27;2017-02-14T20:00:00.000000000&#x27;, &#x27;2017-02-14T21:00:00.000000000&#x27;,\n       &#x27;2017-02-14T22:00:00.000000000&#x27;, &#x27;2017-02-14T23:00:00.000000000&#x27;,\n       &#x27;2017-02-15T00:00:00.000000000&#x27;], dtype=&#x27;datetime64[ns]&#x27;)</pre></div></li><li class='xr-var-item'><div class='xr-var-name'><span class='xr-has-index'>Id</span></div><div class='xr-var-dims'>(Id)</div><div class='xr-var-dtype'>object</div><div class='xr-var-preview xr-preview'>&#x27;409_0&#x27; &#x27;409_1&#x27; ... &#x27;409_24&#x27;</div><input id='attrs-a05f916a-a03d-4b08-8493-7982411e4f51' class='xr-var-attrs-in' type='checkbox' disabled><label for='attrs-a05f916a-a03d-4b08-8493-7982411e4f51' title='Show/Hide attributes'><svg class='icon xr-icon-file-text2'><use xlink:href='#icon-file-text2'></use></svg></label><input id='data-cfd6fd96-63ad-40aa-99a4-94291d5e5962' class='xr-var-data-in' type='checkbox'><label for='data-cfd6fd96-63ad-40aa-99a4-94291d5e5962' title='Show/Hide data repr'><svg class='icon xr-icon-database'><use xlink:href='#icon-database'></use></svg></label><div class='xr-var-attrs'><dl class='xr-attrs'></dl></div><div class='xr-var-data'><pre>array([&#x27;409_0&#x27;, &#x27;409_1&#x27;, &#x27;409_2&#x27;, &#x27;409_3&#x27;, &#x27;409_4&#x27;, &#x27;409_5&#x27;, &#x27;409_6&#x27;, &#x27;409_7&#x27;,\n       &#x27;409_8&#x27;, &#x27;409_9&#x27;, &#x27;409_10&#x27;, &#x27;409_11&#x27;, &#x27;409_12&#x27;, &#x27;409_13&#x27;, &#x27;409_14&#x27;,\n       &#x27;409_15&#x27;, &#x27;409_16&#x27;, &#x27;409_17&#x27;, &#x27;409_18&#x27;, &#x27;409_19&#x27;, &#x27;409_20&#x27;, &#x27;409_21&#x27;,\n       &#x27;409_22&#x27;, &#x27;409_23&#x27;, &#x27;409_24&#x27;], dtype=object)</pre></div></li></ul></div></li><li class='xr-section-item'><input id='section-306f96b0-914e-423c-aa3b-daa4425bc1d0' class='xr-section-summary-in' type='checkbox'  checked><label for='section-306f96b0-914e-423c-aa3b-daa4425bc1d0' class='xr-section-summary' >Data variables: <span>(9)</span></label><div class='xr-section-inline-details'></div><div class='xr-section-details'><ul class='xr-var-list'><li class='xr-var-item'><div class='xr-var-name'><span>ws</span></div><div class='xr-var-dims'>(valid_time, latitude, longitude)</div><div class='xr-var-dtype'>float32</div><div class='xr-var-preview xr-preview'>...</div><input id='attrs-81dde4bd-6570-4116-8b85-32d20d4fedb8' class='xr-var-attrs-in' type='checkbox' ><label for='attrs-81dde4bd-6570-4116-8b85-32d20d4fedb8' title='Show/Hide attributes'><svg class='icon xr-icon-file-text2'><use xlink:href='#icon-file-text2'></use></svg></label><input id='data-76f7e6b4-4ae1-4812-b2dc-c75584871b5a' class='xr-var-data-in' type='checkbox'><label for='data-76f7e6b4-4ae1-4812-b2dc-c75584871b5a' title='Show/Hide data repr'><svg class='icon xr-icon-database'><use xlink:href='#icon-database'></use></svg></label><div class='xr-var-attrs'><dl class='xr-attrs'><dt><span>long_name :</span></dt><dd>Wind speed</dd><dt><span>units :</span></dt><dd>m s**-1</dd></dl></div><div class='xr-var-data'><pre>[1787625 values with dtype=float32]</pre></div></li><li class='xr-var-item'><div class='xr-var-name'><span>p3031</span></div><div class='xr-var-dims'>(valid_time, latitude, longitude)</div><div class='xr-var-dtype'>float32</div><div class='xr-var-preview xr-preview'>...</div><input id='attrs-579437ef-80d9-4e44-a751-afdd59dc403d' class='xr-var-attrs-in' type='checkbox' ><label for='attrs-579437ef-80d9-4e44-a751-afdd59dc403d' title='Show/Hide attributes'><svg class='icon xr-icon-file-text2'><use xlink:href='#icon-file-text2'></use></svg></label><input id='data-20be0665-8ea5-42d6-8fa5-5b066eef08f4' class='xr-var-data-in' type='checkbox'><label for='data-20be0665-8ea5-42d6-8fa5-5b066eef08f4' title='Show/Hide data repr'><svg class='icon xr-icon-database'><use xlink:href='#icon-database'></use></svg></label><div class='xr-var-attrs'><dl class='xr-attrs'><dt><span>long_name :</span></dt><dd>Wind direction</dd><dt><span>units :</span></dt><dd>Degree true</dd></dl></div><div class='xr-var-data'><pre>[1787625 values with dtype=float32]</pre></div></li><li class='xr-var-item'><div class='xr-var-name'><span>u10</span></div><div class='xr-var-dims'>(valid_time, latitude, longitude)</div><div class='xr-var-dtype'>float32</div><div class='xr-var-preview xr-preview'>...</div><input id='attrs-1dfb56ee-dbcb-49c1-871c-8e1a64426e1e' class='xr-var-attrs-in' type='checkbox' ><label for='attrs-1dfb56ee-dbcb-49c1-871c-8e1a64426e1e' title='Show/Hide attributes'><svg class='icon xr-icon-file-text2'><use xlink:href='#icon-file-text2'></use></svg></label><input id='data-fb37dd4e-765f-4c83-b146-583f2b09a00b' class='xr-var-data-in' type='checkbox'><label for='data-fb37dd4e-765f-4c83-b146-583f2b09a00b' title='Show/Hide data repr'><svg class='icon xr-icon-database'><use xlink:href='#icon-database'></use></svg></label><div class='xr-var-attrs'><dl class='xr-attrs'><dt><span>long_name :</span></dt><dd>10 metre U wind component</dd><dt><span>units :</span></dt><dd>m s**-1</dd></dl></div><div class='xr-var-data'><pre>[1787625 values with dtype=float32]</pre></div></li><li class='xr-var-item'><div class='xr-var-name'><span>v10</span></div><div class='xr-var-dims'>(valid_time, latitude, longitude)</div><div class='xr-var-dtype'>float32</div><div class='xr-var-preview xr-preview'>...</div><input id='attrs-5f3546dc-685f-4526-a571-3bdfb9b37194' class='xr-var-attrs-in' type='checkbox' ><label for='attrs-5f3546dc-685f-4526-a571-3bdfb9b37194' title='Show/Hide attributes'><svg class='icon xr-icon-file-text2'><use xlink:href='#icon-file-text2'></use></svg></label><input id='data-af542d9d-79df-4554-9ce7-629562b3eb89' class='xr-var-data-in' type='checkbox'><label for='data-af542d9d-79df-4554-9ce7-629562b3eb89' title='Show/Hide data repr'><svg class='icon xr-icon-database'><use xlink:href='#icon-database'></use></svg></label><div class='xr-var-attrs'><dl class='xr-attrs'><dt><span>long_name :</span></dt><dd>10 metre V wind component</dd><dt><span>units :</span></dt><dd>m s**-1</dd></dl></div><div class='xr-var-data'><pre>[1787625 values with dtype=float32]</pre></div></li><li class='xr-var-item'><div class='xr-var-name'><span>t2m</span></div><div class='xr-var-dims'>(valid_time, latitude, longitude)</div><div class='xr-var-dtype'>float32</div><div class='xr-var-preview xr-preview'>...</div><input id='attrs-9e096417-b807-4f62-80e6-e3135245894e' class='xr-var-attrs-in' type='checkbox' ><label for='attrs-9e096417-b807-4f62-80e6-e3135245894e' title='Show/Hide attributes'><svg class='icon xr-icon-file-text2'><use xlink:href='#icon-file-text2'></use></svg></label><input id='data-37e90937-d9c3-410b-90ea-0241b1dfdbfd' class='xr-var-data-in' type='checkbox'><label for='data-37e90937-d9c3-410b-90ea-0241b1dfdbfd' title='Show/Hide data repr'><svg class='icon xr-icon-database'><use xlink:href='#icon-database'></use></svg></label><div class='xr-var-attrs'><dl class='xr-attrs'><dt><span>long_name :</span></dt><dd>2 metre temperature</dd><dt><span>units :</span></dt><dd>K</dd></dl></div><div class='xr-var-data'><pre>[1787625 values with dtype=float32]</pre></div></li><li class='xr-var-item'><div class='xr-var-name'><span>d2m</span></div><div class='xr-var-dims'>(valid_time, latitude, longitude)</div><div class='xr-var-dtype'>float32</div><div class='xr-var-preview xr-preview'>...</div><input id='attrs-a2000e14-6eca-442a-9d81-eaea59336ac0' class='xr-var-attrs-in' type='checkbox' ><label for='attrs-a2000e14-6eca-442a-9d81-eaea59336ac0' title='Show/Hide attributes'><svg class='icon xr-icon-file-text2'><use xlink:href='#icon-file-text2'></use></svg></label><input id='data-99c2b288-2fb2-460b-aa21-613bdd6ee982' class='xr-var-data-in' type='checkbox'><label for='data-99c2b288-2fb2-460b-aa21-613bdd6ee982' title='Show/Hide data repr'><svg class='icon xr-icon-database'><use xlink:href='#icon-database'></use></svg></label><div class='xr-var-attrs'><dl class='xr-attrs'><dt><span>long_name :</span></dt><dd>2 metre dewpoint temperature</dd><dt><span>units :</span></dt><dd>K</dd></dl></div><div class='xr-var-data'><pre>[1787625 values with dtype=float32]</pre></div></li><li class='xr-var-item'><div class='xr-var-name'><span>r</span></div><div class='xr-var-dims'>(valid_time, latitude, longitude)</div><div class='xr-var-dtype'>float32</div><div class='xr-var-preview xr-preview'>...</div><input id='attrs-dc1da72e-7d20-441e-80c8-68bae2764196' class='xr-var-attrs-in' type='checkbox' ><label for='attrs-dc1da72e-7d20-441e-80c8-68bae2764196' title='Show/Hide attributes'><svg class='icon xr-icon-file-text2'><use xlink:href='#icon-file-text2'></use></svg></label><input id='data-eb74db4d-8e56-4d52-9613-f097bdff4919' class='xr-var-data-in' type='checkbox'><label for='data-eb74db4d-8e56-4d52-9613-f097bdff4919' title='Show/Hide data repr'><svg class='icon xr-icon-database'><use xlink:href='#icon-database'></use></svg></label><div class='xr-var-attrs'><dl class='xr-attrs'><dt><span>long_name :</span></dt><dd>Relative humidity</dd><dt><span>units :</span></dt><dd>%</dd></dl></div><div class='xr-var-data'><pre>[1787625 values with dtype=float32]</pre></div></li><li class='xr-var-item'><div class='xr-var-name'><span>tp</span></div><div class='xr-var-dims'>(valid_time, latitude, longitude)</div><div class='xr-var-dtype'>float32</div><div class='xr-var-preview xr-preview'>...</div><input id='attrs-889e4894-4c86-4e4b-88ab-8d8247fd981e' class='xr-var-attrs-in' type='checkbox' ><label for='attrs-889e4894-4c86-4e4b-88ab-8d8247fd981e' title='Show/Hide attributes'><svg class='icon xr-icon-file-text2'><use xlink:href='#icon-file-text2'></use></svg></label><input id='data-8e5fcf88-3360-4ba2-ae7d-f0ec8c8d93fb' class='xr-var-data-in' type='checkbox'><label for='data-8e5fcf88-3360-4ba2-ae7d-f0ec8c8d93fb' title='Show/Hide data repr'><svg class='icon xr-icon-database'><use xlink:href='#icon-database'></use></svg></label><div class='xr-var-attrs'><dl class='xr-attrs'><dt><span>long_name :</span></dt><dd>Total Precipitation</dd><dt><span>units :</span></dt><dd>kg m**-2</dd></dl></div><div class='xr-var-data'><pre>[1787625 values with dtype=float32]</pre></div></li><li class='xr-var-item'><div class='xr-var-name'><span>msl</span></div><div class='xr-var-dims'>(valid_time, latitude, longitude)</div><div class='xr-var-dtype'>float32</div><div class='xr-var-preview xr-preview'>...</div><input id='attrs-39e062ea-e6ec-431a-b7d6-db7591bf25d7' class='xr-var-attrs-in' type='checkbox' ><label for='attrs-39e062ea-e6ec-431a-b7d6-db7591bf25d7' title='Show/Hide attributes'><svg class='icon xr-icon-file-text2'><use xlink:href='#icon-file-text2'></use></svg></label><input id='data-7abed42e-1991-4a72-8b12-eab7e70c246b' class='xr-var-data-in' type='checkbox'><label for='data-7abed42e-1991-4a72-8b12-eab7e70c246b' title='Show/Hide data repr'><svg class='icon xr-icon-database'><use xlink:href='#icon-database'></use></svg></label><div class='xr-var-attrs'><dl class='xr-attrs'><dt><span>long_name :</span></dt><dd>Mean sea level pressure</dd><dt><span>units :</span></dt><dd>Pa</dd></dl></div><div class='xr-var-data'><pre>[1787625 values with dtype=float32]</pre></div></li></ul></div></li><li class='xr-section-item'><input id='section-5665401c-a77c-4cab-ab63-0fd0ab552cad' class='xr-section-summary-in' type='checkbox'  checked><label for='section-5665401c-a77c-4cab-ab63-0fd0ab552cad' class='xr-section-summary' >Attributes: <span>(7)</span></label><div class='xr-section-inline-details'></div><div class='xr-section-details'><dl class='xr-attrs'><dt><span>GRIB_edition :</span></dt><dd>1</dd><dt><span>GRIB_centre :</span></dt><dd>lfpw</dd><dt><span>GRIB_centreDescription :</span></dt><dd>French Weather Service - Toulouse</dd><dt><span>GRIB_subCentre :</span></dt><dd>0</dd><dt><span>Conventions :</span></dt><dd>CF-1.7</dd><dt><span>institution :</span></dt><dd>French Weather Service - Toulouse</dd><dt><span>history :</span></dt><dd>2021-09-30T18:02:47 GRIB to CDM+CF via cfgrib-0.9.8.3/ecCodes-2.18.0 with {&quot;source&quot;: &quot;/scratch/labia/larvorg/meteonet/challenge_data/weather_models/untar_2D/201702/AROME/10m/arome_10m_NW_20170214000000.grib&quot;, &quot;filter_by_keys&quot;: {}, &quot;encode_cf&quot;: [&quot;parameter&quot;, &quot;time&quot;, &quot;geography&quot;, &quot;vertical&quot;]}</dd></dl></div></li></ul></div></div>"
     },
     "execution_count": 7,
     "metadata": {},
     "output_type": "execute_result"
    }
   ],
   "source": [
    "data"
   ]
  },
  {
   "cell_type": "code",
   "execution_count": 8,
   "id": "2ae5c45a",
   "metadata": {
    "execution": {
     "iopub.execute_input": "2021-10-07T08:50:27.185397Z",
     "iopub.status.busy": "2021-10-07T08:50:27.184400Z",
     "iopub.status.idle": "2021-10-07T08:50:27.199550Z",
     "shell.execute_reply": "2021-10-07T08:50:27.200367Z",
     "shell.execute_reply.started": "2021-10-01T15:41:57.836631Z"
    },
    "papermill": {
     "duration": 0.042114,
     "end_time": "2021-10-07T08:50:27.200607",
     "exception": false,
     "start_time": "2021-10-07T08:50:27.158493",
     "status": "completed"
    },
    "tags": []
   },
   "outputs": [
    {
     "data": {
      "text/plain": "<xarray.DataArray 'longitude' (longitude: 315)>\narray([-5.842, -5.817, -5.792, ...,  1.958,  1.983,  2.008], dtype=float32)\nCoordinates:\n    time       datetime64[ns] 2017-02-14\n  * longitude  (longitude) float32 -5.842 -5.817 -5.792 ... 1.958 1.983 2.008",
      "text/html": "<div><svg style=\"position: absolute; width: 0; height: 0; overflow: hidden\">\n<defs>\n<symbol id=\"icon-database\" viewBox=\"0 0 32 32\">\n<path d=\"M16 0c-8.837 0-16 2.239-16 5v4c0 2.761 7.163 5 16 5s16-2.239 16-5v-4c0-2.761-7.163-5-16-5z\"></path>\n<path d=\"M16 17c-8.837 0-16-2.239-16-5v6c0 2.761 7.163 5 16 5s16-2.239 16-5v-6c0 2.761-7.163 5-16 5z\"></path>\n<path d=\"M16 26c-8.837 0-16-2.239-16-5v6c0 2.761 7.163 5 16 5s16-2.239 16-5v-6c0 2.761-7.163 5-16 5z\"></path>\n</symbol>\n<symbol id=\"icon-file-text2\" viewBox=\"0 0 32 32\">\n<path d=\"M28.681 7.159c-0.694-0.947-1.662-2.053-2.724-3.116s-2.169-2.030-3.116-2.724c-1.612-1.182-2.393-1.319-2.841-1.319h-15.5c-1.378 0-2.5 1.121-2.5 2.5v27c0 1.378 1.122 2.5 2.5 2.5h23c1.378 0 2.5-1.122 2.5-2.5v-19.5c0-0.448-0.137-1.23-1.319-2.841zM24.543 5.457c0.959 0.959 1.712 1.825 2.268 2.543h-4.811v-4.811c0.718 0.556 1.584 1.309 2.543 2.268zM28 29.5c0 0.271-0.229 0.5-0.5 0.5h-23c-0.271 0-0.5-0.229-0.5-0.5v-27c0-0.271 0.229-0.5 0.5-0.5 0 0 15.499-0 15.5 0v7c0 0.552 0.448 1 1 1h7v19.5z\"></path>\n<path d=\"M23 26h-14c-0.552 0-1-0.448-1-1s0.448-1 1-1h14c0.552 0 1 0.448 1 1s-0.448 1-1 1z\"></path>\n<path d=\"M23 22h-14c-0.552 0-1-0.448-1-1s0.448-1 1-1h14c0.552 0 1 0.448 1 1s-0.448 1-1 1z\"></path>\n<path d=\"M23 18h-14c-0.552 0-1-0.448-1-1s0.448-1 1-1h14c0.552 0 1 0.448 1 1s-0.448 1-1 1z\"></path>\n</symbol>\n</defs>\n</svg>\n<style>/* CSS stylesheet for displaying xarray objects in jupyterlab.\n *\n */\n\n:root {\n  --xr-font-color0: var(--jp-content-font-color0, rgba(0, 0, 0, 1));\n  --xr-font-color2: var(--jp-content-font-color2, rgba(0, 0, 0, 0.54));\n  --xr-font-color3: var(--jp-content-font-color3, rgba(0, 0, 0, 0.38));\n  --xr-border-color: var(--jp-border-color2, #e0e0e0);\n  --xr-disabled-color: var(--jp-layout-color3, #bdbdbd);\n  --xr-background-color: var(--jp-layout-color0, white);\n  --xr-background-color-row-even: var(--jp-layout-color1, white);\n  --xr-background-color-row-odd: var(--jp-layout-color2, #eeeeee);\n}\n\nhtml[theme=dark],\nbody.vscode-dark {\n  --xr-font-color0: rgba(255, 255, 255, 1);\n  --xr-font-color2: rgba(255, 255, 255, 0.54);\n  --xr-font-color3: rgba(255, 255, 255, 0.38);\n  --xr-border-color: #1F1F1F;\n  --xr-disabled-color: #515151;\n  --xr-background-color: #111111;\n  --xr-background-color-row-even: #111111;\n  --xr-background-color-row-odd: #313131;\n}\n\n.xr-wrap {\n  display: block !important;\n  min-width: 300px;\n  max-width: 700px;\n}\n\n.xr-text-repr-fallback {\n  /* fallback to plain text repr when CSS is not injected (untrusted notebook) */\n  display: none;\n}\n\n.xr-header {\n  padding-top: 6px;\n  padding-bottom: 6px;\n  margin-bottom: 4px;\n  border-bottom: solid 1px var(--xr-border-color);\n}\n\n.xr-header > div,\n.xr-header > ul {\n  display: inline;\n  margin-top: 0;\n  margin-bottom: 0;\n}\n\n.xr-obj-type,\n.xr-array-name {\n  margin-left: 2px;\n  margin-right: 10px;\n}\n\n.xr-obj-type {\n  color: var(--xr-font-color2);\n}\n\n.xr-sections {\n  padding-left: 0 !important;\n  display: grid;\n  grid-template-columns: 150px auto auto 1fr 20px 20px;\n}\n\n.xr-section-item {\n  display: contents;\n}\n\n.xr-section-item input {\n  display: none;\n}\n\n.xr-section-item input + label {\n  color: var(--xr-disabled-color);\n}\n\n.xr-section-item input:enabled + label {\n  cursor: pointer;\n  color: var(--xr-font-color2);\n}\n\n.xr-section-item input:enabled + label:hover {\n  color: var(--xr-font-color0);\n}\n\n.xr-section-summary {\n  grid-column: 1;\n  color: var(--xr-font-color2);\n  font-weight: 500;\n}\n\n.xr-section-summary > span {\n  display: inline-block;\n  padding-left: 0.5em;\n}\n\n.xr-section-summary-in:disabled + label {\n  color: var(--xr-font-color2);\n}\n\n.xr-section-summary-in + label:before {\n  display: inline-block;\n  content: '►';\n  font-size: 11px;\n  width: 15px;\n  text-align: center;\n}\n\n.xr-section-summary-in:disabled + label:before {\n  color: var(--xr-disabled-color);\n}\n\n.xr-section-summary-in:checked + label:before {\n  content: '▼';\n}\n\n.xr-section-summary-in:checked + label > span {\n  display: none;\n}\n\n.xr-section-summary,\n.xr-section-inline-details {\n  padding-top: 4px;\n  padding-bottom: 4px;\n}\n\n.xr-section-inline-details {\n  grid-column: 2 / -1;\n}\n\n.xr-section-details {\n  display: none;\n  grid-column: 1 / -1;\n  margin-bottom: 5px;\n}\n\n.xr-section-summary-in:checked ~ .xr-section-details {\n  display: contents;\n}\n\n.xr-array-wrap {\n  grid-column: 1 / -1;\n  display: grid;\n  grid-template-columns: 20px auto;\n}\n\n.xr-array-wrap > label {\n  grid-column: 1;\n  vertical-align: top;\n}\n\n.xr-preview {\n  color: var(--xr-font-color3);\n}\n\n.xr-array-preview,\n.xr-array-data {\n  padding: 0 5px !important;\n  grid-column: 2;\n}\n\n.xr-array-data,\n.xr-array-in:checked ~ .xr-array-preview {\n  display: none;\n}\n\n.xr-array-in:checked ~ .xr-array-data,\n.xr-array-preview {\n  display: inline-block;\n}\n\n.xr-dim-list {\n  display: inline-block !important;\n  list-style: none;\n  padding: 0 !important;\n  margin: 0;\n}\n\n.xr-dim-list li {\n  display: inline-block;\n  padding: 0;\n  margin: 0;\n}\n\n.xr-dim-list:before {\n  content: '(';\n}\n\n.xr-dim-list:after {\n  content: ')';\n}\n\n.xr-dim-list li:not(:last-child):after {\n  content: ',';\n  padding-right: 5px;\n}\n\n.xr-has-index {\n  font-weight: bold;\n}\n\n.xr-var-list,\n.xr-var-item {\n  display: contents;\n}\n\n.xr-var-item > div,\n.xr-var-item label,\n.xr-var-item > .xr-var-name span {\n  background-color: var(--xr-background-color-row-even);\n  margin-bottom: 0;\n}\n\n.xr-var-item > .xr-var-name:hover span {\n  padding-right: 5px;\n}\n\n.xr-var-list > li:nth-child(odd) > div,\n.xr-var-list > li:nth-child(odd) > label,\n.xr-var-list > li:nth-child(odd) > .xr-var-name span {\n  background-color: var(--xr-background-color-row-odd);\n}\n\n.xr-var-name {\n  grid-column: 1;\n}\n\n.xr-var-dims {\n  grid-column: 2;\n}\n\n.xr-var-dtype {\n  grid-column: 3;\n  text-align: right;\n  color: var(--xr-font-color2);\n}\n\n.xr-var-preview {\n  grid-column: 4;\n}\n\n.xr-var-name,\n.xr-var-dims,\n.xr-var-dtype,\n.xr-preview,\n.xr-attrs dt {\n  white-space: nowrap;\n  overflow: hidden;\n  text-overflow: ellipsis;\n  padding-right: 10px;\n}\n\n.xr-var-name:hover,\n.xr-var-dims:hover,\n.xr-var-dtype:hover,\n.xr-attrs dt:hover {\n  overflow: visible;\n  width: auto;\n  z-index: 1;\n}\n\n.xr-var-attrs,\n.xr-var-data {\n  display: none;\n  background-color: var(--xr-background-color) !important;\n  padding-bottom: 5px !important;\n}\n\n.xr-var-attrs-in:checked ~ .xr-var-attrs,\n.xr-var-data-in:checked ~ .xr-var-data {\n  display: block;\n}\n\n.xr-var-data > table {\n  float: right;\n}\n\n.xr-var-name span,\n.xr-var-data,\n.xr-attrs {\n  padding-left: 25px !important;\n}\n\n.xr-attrs,\n.xr-var-attrs,\n.xr-var-data {\n  grid-column: 1 / -1;\n}\n\ndl.xr-attrs {\n  padding: 0;\n  margin: 0;\n  display: grid;\n  grid-template-columns: 125px auto;\n}\n\n.xr-attrs dt,\n.xr-attrs dd {\n  padding: 0;\n  margin: 0;\n  float: left;\n  padding-right: 10px;\n  width: auto;\n}\n\n.xr-attrs dt {\n  font-weight: normal;\n  grid-column: 1;\n}\n\n.xr-attrs dt:hover span {\n  display: inline-block;\n  background: var(--xr-background-color);\n  padding-right: 10px;\n}\n\n.xr-attrs dd {\n  grid-column: 2;\n  white-space: pre-wrap;\n  word-break: break-all;\n}\n\n.xr-icon-database,\n.xr-icon-file-text2 {\n  display: inline-block;\n  vertical-align: middle;\n  width: 1em;\n  height: 1.5em !important;\n  stroke-width: 0;\n  stroke: currentColor;\n  fill: currentColor;\n}\n</style><pre class='xr-text-repr-fallback'>&lt;xarray.DataArray &#x27;longitude&#x27; (longitude: 315)&gt;\narray([-5.842, -5.817, -5.792, ...,  1.958,  1.983,  2.008], dtype=float32)\nCoordinates:\n    time       datetime64[ns] 2017-02-14\n  * longitude  (longitude) float32 -5.842 -5.817 -5.792 ... 1.958 1.983 2.008</pre><div class='xr-wrap' style='display:none'><div class='xr-header'><div class='xr-obj-type'>xarray.DataArray</div><div class='xr-array-name'>'longitude'</div><ul class='xr-dim-list'><li><span class='xr-has-index'>longitude</span>: 315</li></ul></div><ul class='xr-sections'><li class='xr-section-item'><div class='xr-array-wrap'><input id='section-c531dc9a-874a-4498-9f4b-5b34ab0ccf04' class='xr-array-in' type='checkbox' checked><label for='section-c531dc9a-874a-4498-9f4b-5b34ab0ccf04' title='Show/hide data repr'><svg class='icon xr-icon-database'><use xlink:href='#icon-database'></use></svg></label><div class='xr-array-preview xr-preview'><span>-5.842 -5.817 -5.792 -5.767 -5.742 ... 1.908 1.933 1.958 1.983 2.008</span></div><div class='xr-array-data'><pre>array([-5.842, -5.817, -5.792, ...,  1.958,  1.983,  2.008], dtype=float32)</pre></div></div></li><li class='xr-section-item'><input id='section-fb1175a4-9973-494a-be72-4be67f663679' class='xr-section-summary-in' type='checkbox'  checked><label for='section-fb1175a4-9973-494a-be72-4be67f663679' class='xr-section-summary' >Coordinates: <span>(2)</span></label><div class='xr-section-inline-details'></div><div class='xr-section-details'><ul class='xr-var-list'><li class='xr-var-item'><div class='xr-var-name'><span>time</span></div><div class='xr-var-dims'>()</div><div class='xr-var-dtype'>datetime64[ns]</div><div class='xr-var-preview xr-preview'>2017-02-14</div><input id='attrs-cdc4a7d2-2508-40dd-b4a7-a2bda643d9cd' class='xr-var-attrs-in' type='checkbox' ><label for='attrs-cdc4a7d2-2508-40dd-b4a7-a2bda643d9cd' title='Show/Hide attributes'><svg class='icon xr-icon-file-text2'><use xlink:href='#icon-file-text2'></use></svg></label><input id='data-62636b4e-b4ac-4bf2-94b9-a4cbb29b6e9e' class='xr-var-data-in' type='checkbox'><label for='data-62636b4e-b4ac-4bf2-94b9-a4cbb29b6e9e' title='Show/Hide data repr'><svg class='icon xr-icon-database'><use xlink:href='#icon-database'></use></svg></label><div class='xr-var-attrs'><dl class='xr-attrs'><dt><span>long_name :</span></dt><dd>initial time of forecast</dd><dt><span>standard_name :</span></dt><dd>forecast_reference_time</dd></dl></div><div class='xr-var-data'><pre>array(&#x27;2017-02-14T00:00:00.000000000&#x27;, dtype=&#x27;datetime64[ns]&#x27;)</pre></div></li><li class='xr-var-item'><div class='xr-var-name'><span class='xr-has-index'>longitude</span></div><div class='xr-var-dims'>(longitude)</div><div class='xr-var-dtype'>float32</div><div class='xr-var-preview xr-preview'>-5.842 -5.817 ... 1.983 2.008</div><input id='attrs-22cca288-f193-4074-88ca-c1f4e2f9febf' class='xr-var-attrs-in' type='checkbox' disabled><label for='attrs-22cca288-f193-4074-88ca-c1f4e2f9febf' title='Show/Hide attributes'><svg class='icon xr-icon-file-text2'><use xlink:href='#icon-file-text2'></use></svg></label><input id='data-559bcabd-9837-4958-afce-74c5853df485' class='xr-var-data-in' type='checkbox'><label for='data-559bcabd-9837-4958-afce-74c5853df485' title='Show/Hide data repr'><svg class='icon xr-icon-database'><use xlink:href='#icon-database'></use></svg></label><div class='xr-var-attrs'><dl class='xr-attrs'></dl></div><div class='xr-var-data'><pre>array([-5.842, -5.817, -5.792, ...,  1.958,  1.983,  2.008], dtype=float32)</pre></div></li></ul></div></li><li class='xr-section-item'><input id='section-ea64e937-306b-463a-9c10-a4bbbc513155' class='xr-section-summary-in' type='checkbox' disabled ><label for='section-ea64e937-306b-463a-9c10-a4bbbc513155' class='xr-section-summary'  title='Expand/collapse section'>Attributes: <span>(0)</span></label><div class='xr-section-inline-details'></div><div class='xr-section-details'><dl class='xr-attrs'></dl></div></li></ul></div></div>"
     },
     "execution_count": 8,
     "metadata": {},
     "output_type": "execute_result"
    }
   ],
   "source": [
    "coord = 'longitude'\n",
    "data[coord]"
   ]
  },
  {
   "cell_type": "code",
   "execution_count": 9,
   "id": "dfb322f5",
   "metadata": {
    "execution": {
     "iopub.execute_input": "2021-10-07T08:50:27.248093Z",
     "iopub.status.busy": "2021-10-07T08:50:27.247406Z",
     "iopub.status.idle": "2021-10-07T08:50:27.249772Z",
     "shell.execute_reply": "2021-10-07T08:50:27.250372Z",
     "shell.execute_reply.started": "2021-10-01T15:41:58.178882Z"
    },
    "papermill": {
     "duration": 0.030062,
     "end_time": "2021-10-07T08:50:27.250529",
     "exception": false,
     "start_time": "2021-10-07T08:50:27.220467",
     "status": "completed"
    },
    "tags": []
   },
   "outputs": [
    {
     "data": {
      "text/plain": "array([-5.842, -5.817, -5.792, -5.767, -5.742, -5.717, -5.692, -5.667,\n       -5.642, -5.617], dtype=float32)"
     },
     "execution_count": 9,
     "metadata": {},
     "output_type": "execute_result"
    }
   ],
   "source": [
    "data[coord].values[0:10]"
   ]
  },
  {
   "cell_type": "code",
   "execution_count": 10,
   "id": "4993ff09",
   "metadata": {
    "execution": {
     "iopub.execute_input": "2021-10-07T08:50:27.285743Z",
     "iopub.status.busy": "2021-10-07T08:50:27.285147Z",
     "iopub.status.idle": "2021-10-07T08:50:27.294049Z",
     "shell.execute_reply": "2021-10-07T08:50:27.294616Z",
     "shell.execute_reply.started": "2021-10-01T15:41:58.598973Z"
    },
    "papermill": {
     "duration": 0.028152,
     "end_time": "2021-10-07T08:50:27.294790",
     "exception": false,
     "start_time": "2021-10-07T08:50:27.266638",
     "status": "completed"
    },
    "tags": []
   },
   "outputs": [
    {
     "data": {
      "text/plain": "<xarray.DataArray 'time' ()>\narray('2017-02-14T00:00:00.000000000', dtype='datetime64[ns]')\nCoordinates:\n    time     datetime64[ns] 2017-02-14\nAttributes:\n    long_name:      initial time of forecast\n    standard_name:  forecast_reference_time",
      "text/html": "<div><svg style=\"position: absolute; width: 0; height: 0; overflow: hidden\">\n<defs>\n<symbol id=\"icon-database\" viewBox=\"0 0 32 32\">\n<path d=\"M16 0c-8.837 0-16 2.239-16 5v4c0 2.761 7.163 5 16 5s16-2.239 16-5v-4c0-2.761-7.163-5-16-5z\"></path>\n<path d=\"M16 17c-8.837 0-16-2.239-16-5v6c0 2.761 7.163 5 16 5s16-2.239 16-5v-6c0 2.761-7.163 5-16 5z\"></path>\n<path d=\"M16 26c-8.837 0-16-2.239-16-5v6c0 2.761 7.163 5 16 5s16-2.239 16-5v-6c0 2.761-7.163 5-16 5z\"></path>\n</symbol>\n<symbol id=\"icon-file-text2\" viewBox=\"0 0 32 32\">\n<path d=\"M28.681 7.159c-0.694-0.947-1.662-2.053-2.724-3.116s-2.169-2.030-3.116-2.724c-1.612-1.182-2.393-1.319-2.841-1.319h-15.5c-1.378 0-2.5 1.121-2.5 2.5v27c0 1.378 1.122 2.5 2.5 2.5h23c1.378 0 2.5-1.122 2.5-2.5v-19.5c0-0.448-0.137-1.23-1.319-2.841zM24.543 5.457c0.959 0.959 1.712 1.825 2.268 2.543h-4.811v-4.811c0.718 0.556 1.584 1.309 2.543 2.268zM28 29.5c0 0.271-0.229 0.5-0.5 0.5h-23c-0.271 0-0.5-0.229-0.5-0.5v-27c0-0.271 0.229-0.5 0.5-0.5 0 0 15.499-0 15.5 0v7c0 0.552 0.448 1 1 1h7v19.5z\"></path>\n<path d=\"M23 26h-14c-0.552 0-1-0.448-1-1s0.448-1 1-1h14c0.552 0 1 0.448 1 1s-0.448 1-1 1z\"></path>\n<path d=\"M23 22h-14c-0.552 0-1-0.448-1-1s0.448-1 1-1h14c0.552 0 1 0.448 1 1s-0.448 1-1 1z\"></path>\n<path d=\"M23 18h-14c-0.552 0-1-0.448-1-1s0.448-1 1-1h14c0.552 0 1 0.448 1 1s-0.448 1-1 1z\"></path>\n</symbol>\n</defs>\n</svg>\n<style>/* CSS stylesheet for displaying xarray objects in jupyterlab.\n *\n */\n\n:root {\n  --xr-font-color0: var(--jp-content-font-color0, rgba(0, 0, 0, 1));\n  --xr-font-color2: var(--jp-content-font-color2, rgba(0, 0, 0, 0.54));\n  --xr-font-color3: var(--jp-content-font-color3, rgba(0, 0, 0, 0.38));\n  --xr-border-color: var(--jp-border-color2, #e0e0e0);\n  --xr-disabled-color: var(--jp-layout-color3, #bdbdbd);\n  --xr-background-color: var(--jp-layout-color0, white);\n  --xr-background-color-row-even: var(--jp-layout-color1, white);\n  --xr-background-color-row-odd: var(--jp-layout-color2, #eeeeee);\n}\n\nhtml[theme=dark],\nbody.vscode-dark {\n  --xr-font-color0: rgba(255, 255, 255, 1);\n  --xr-font-color2: rgba(255, 255, 255, 0.54);\n  --xr-font-color3: rgba(255, 255, 255, 0.38);\n  --xr-border-color: #1F1F1F;\n  --xr-disabled-color: #515151;\n  --xr-background-color: #111111;\n  --xr-background-color-row-even: #111111;\n  --xr-background-color-row-odd: #313131;\n}\n\n.xr-wrap {\n  display: block !important;\n  min-width: 300px;\n  max-width: 700px;\n}\n\n.xr-text-repr-fallback {\n  /* fallback to plain text repr when CSS is not injected (untrusted notebook) */\n  display: none;\n}\n\n.xr-header {\n  padding-top: 6px;\n  padding-bottom: 6px;\n  margin-bottom: 4px;\n  border-bottom: solid 1px var(--xr-border-color);\n}\n\n.xr-header > div,\n.xr-header > ul {\n  display: inline;\n  margin-top: 0;\n  margin-bottom: 0;\n}\n\n.xr-obj-type,\n.xr-array-name {\n  margin-left: 2px;\n  margin-right: 10px;\n}\n\n.xr-obj-type {\n  color: var(--xr-font-color2);\n}\n\n.xr-sections {\n  padding-left: 0 !important;\n  display: grid;\n  grid-template-columns: 150px auto auto 1fr 20px 20px;\n}\n\n.xr-section-item {\n  display: contents;\n}\n\n.xr-section-item input {\n  display: none;\n}\n\n.xr-section-item input + label {\n  color: var(--xr-disabled-color);\n}\n\n.xr-section-item input:enabled + label {\n  cursor: pointer;\n  color: var(--xr-font-color2);\n}\n\n.xr-section-item input:enabled + label:hover {\n  color: var(--xr-font-color0);\n}\n\n.xr-section-summary {\n  grid-column: 1;\n  color: var(--xr-font-color2);\n  font-weight: 500;\n}\n\n.xr-section-summary > span {\n  display: inline-block;\n  padding-left: 0.5em;\n}\n\n.xr-section-summary-in:disabled + label {\n  color: var(--xr-font-color2);\n}\n\n.xr-section-summary-in + label:before {\n  display: inline-block;\n  content: '►';\n  font-size: 11px;\n  width: 15px;\n  text-align: center;\n}\n\n.xr-section-summary-in:disabled + label:before {\n  color: var(--xr-disabled-color);\n}\n\n.xr-section-summary-in:checked + label:before {\n  content: '▼';\n}\n\n.xr-section-summary-in:checked + label > span {\n  display: none;\n}\n\n.xr-section-summary,\n.xr-section-inline-details {\n  padding-top: 4px;\n  padding-bottom: 4px;\n}\n\n.xr-section-inline-details {\n  grid-column: 2 / -1;\n}\n\n.xr-section-details {\n  display: none;\n  grid-column: 1 / -1;\n  margin-bottom: 5px;\n}\n\n.xr-section-summary-in:checked ~ .xr-section-details {\n  display: contents;\n}\n\n.xr-array-wrap {\n  grid-column: 1 / -1;\n  display: grid;\n  grid-template-columns: 20px auto;\n}\n\n.xr-array-wrap > label {\n  grid-column: 1;\n  vertical-align: top;\n}\n\n.xr-preview {\n  color: var(--xr-font-color3);\n}\n\n.xr-array-preview,\n.xr-array-data {\n  padding: 0 5px !important;\n  grid-column: 2;\n}\n\n.xr-array-data,\n.xr-array-in:checked ~ .xr-array-preview {\n  display: none;\n}\n\n.xr-array-in:checked ~ .xr-array-data,\n.xr-array-preview {\n  display: inline-block;\n}\n\n.xr-dim-list {\n  display: inline-block !important;\n  list-style: none;\n  padding: 0 !important;\n  margin: 0;\n}\n\n.xr-dim-list li {\n  display: inline-block;\n  padding: 0;\n  margin: 0;\n}\n\n.xr-dim-list:before {\n  content: '(';\n}\n\n.xr-dim-list:after {\n  content: ')';\n}\n\n.xr-dim-list li:not(:last-child):after {\n  content: ',';\n  padding-right: 5px;\n}\n\n.xr-has-index {\n  font-weight: bold;\n}\n\n.xr-var-list,\n.xr-var-item {\n  display: contents;\n}\n\n.xr-var-item > div,\n.xr-var-item label,\n.xr-var-item > .xr-var-name span {\n  background-color: var(--xr-background-color-row-even);\n  margin-bottom: 0;\n}\n\n.xr-var-item > .xr-var-name:hover span {\n  padding-right: 5px;\n}\n\n.xr-var-list > li:nth-child(odd) > div,\n.xr-var-list > li:nth-child(odd) > label,\n.xr-var-list > li:nth-child(odd) > .xr-var-name span {\n  background-color: var(--xr-background-color-row-odd);\n}\n\n.xr-var-name {\n  grid-column: 1;\n}\n\n.xr-var-dims {\n  grid-column: 2;\n}\n\n.xr-var-dtype {\n  grid-column: 3;\n  text-align: right;\n  color: var(--xr-font-color2);\n}\n\n.xr-var-preview {\n  grid-column: 4;\n}\n\n.xr-var-name,\n.xr-var-dims,\n.xr-var-dtype,\n.xr-preview,\n.xr-attrs dt {\n  white-space: nowrap;\n  overflow: hidden;\n  text-overflow: ellipsis;\n  padding-right: 10px;\n}\n\n.xr-var-name:hover,\n.xr-var-dims:hover,\n.xr-var-dtype:hover,\n.xr-attrs dt:hover {\n  overflow: visible;\n  width: auto;\n  z-index: 1;\n}\n\n.xr-var-attrs,\n.xr-var-data {\n  display: none;\n  background-color: var(--xr-background-color) !important;\n  padding-bottom: 5px !important;\n}\n\n.xr-var-attrs-in:checked ~ .xr-var-attrs,\n.xr-var-data-in:checked ~ .xr-var-data {\n  display: block;\n}\n\n.xr-var-data > table {\n  float: right;\n}\n\n.xr-var-name span,\n.xr-var-data,\n.xr-attrs {\n  padding-left: 25px !important;\n}\n\n.xr-attrs,\n.xr-var-attrs,\n.xr-var-data {\n  grid-column: 1 / -1;\n}\n\ndl.xr-attrs {\n  padding: 0;\n  margin: 0;\n  display: grid;\n  grid-template-columns: 125px auto;\n}\n\n.xr-attrs dt,\n.xr-attrs dd {\n  padding: 0;\n  margin: 0;\n  float: left;\n  padding-right: 10px;\n  width: auto;\n}\n\n.xr-attrs dt {\n  font-weight: normal;\n  grid-column: 1;\n}\n\n.xr-attrs dt:hover span {\n  display: inline-block;\n  background: var(--xr-background-color);\n  padding-right: 10px;\n}\n\n.xr-attrs dd {\n  grid-column: 2;\n  white-space: pre-wrap;\n  word-break: break-all;\n}\n\n.xr-icon-database,\n.xr-icon-file-text2 {\n  display: inline-block;\n  vertical-align: middle;\n  width: 1em;\n  height: 1.5em !important;\n  stroke-width: 0;\n  stroke: currentColor;\n  fill: currentColor;\n}\n</style><pre class='xr-text-repr-fallback'>&lt;xarray.DataArray &#x27;time&#x27; ()&gt;\narray(&#x27;2017-02-14T00:00:00.000000000&#x27;, dtype=&#x27;datetime64[ns]&#x27;)\nCoordinates:\n    time     datetime64[ns] 2017-02-14\nAttributes:\n    long_name:      initial time of forecast\n    standard_name:  forecast_reference_time</pre><div class='xr-wrap' style='display:none'><div class='xr-header'><div class='xr-obj-type'>xarray.DataArray</div><div class='xr-array-name'>'time'</div></div><ul class='xr-sections'><li class='xr-section-item'><div class='xr-array-wrap'><input id='section-7ce7dfe7-3e19-431c-a6bf-026d7739b9e7' class='xr-array-in' type='checkbox' checked><label for='section-7ce7dfe7-3e19-431c-a6bf-026d7739b9e7' title='Show/hide data repr'><svg class='icon xr-icon-database'><use xlink:href='#icon-database'></use></svg></label><div class='xr-array-preview xr-preview'><span>2017-02-14</span></div><div class='xr-array-data'><pre>array(&#x27;2017-02-14T00:00:00.000000000&#x27;, dtype=&#x27;datetime64[ns]&#x27;)</pre></div></div></li><li class='xr-section-item'><input id='section-b0a3db5d-01c0-40b7-8e05-5a791277d59c' class='xr-section-summary-in' type='checkbox'  checked><label for='section-b0a3db5d-01c0-40b7-8e05-5a791277d59c' class='xr-section-summary' >Coordinates: <span>(1)</span></label><div class='xr-section-inline-details'></div><div class='xr-section-details'><ul class='xr-var-list'><li class='xr-var-item'><div class='xr-var-name'><span>time</span></div><div class='xr-var-dims'>()</div><div class='xr-var-dtype'>datetime64[ns]</div><div class='xr-var-preview xr-preview'>2017-02-14</div><input id='attrs-4003bf06-3a6e-4daa-a267-b1a29e174227' class='xr-var-attrs-in' type='checkbox' ><label for='attrs-4003bf06-3a6e-4daa-a267-b1a29e174227' title='Show/Hide attributes'><svg class='icon xr-icon-file-text2'><use xlink:href='#icon-file-text2'></use></svg></label><input id='data-5e362373-d9e3-4b90-8bba-8f525e0e9288' class='xr-var-data-in' type='checkbox'><label for='data-5e362373-d9e3-4b90-8bba-8f525e0e9288' title='Show/Hide data repr'><svg class='icon xr-icon-database'><use xlink:href='#icon-database'></use></svg></label><div class='xr-var-attrs'><dl class='xr-attrs'><dt><span>long_name :</span></dt><dd>initial time of forecast</dd><dt><span>standard_name :</span></dt><dd>forecast_reference_time</dd></dl></div><div class='xr-var-data'><pre>array(&#x27;2017-02-14T00:00:00.000000000&#x27;, dtype=&#x27;datetime64[ns]&#x27;)</pre></div></li></ul></div></li><li class='xr-section-item'><input id='section-77793ae4-02a4-40b0-803e-9825f5ba892c' class='xr-section-summary-in' type='checkbox'  checked><label for='section-77793ae4-02a4-40b0-803e-9825f5ba892c' class='xr-section-summary' >Attributes: <span>(2)</span></label><div class='xr-section-inline-details'></div><div class='xr-section-details'><dl class='xr-attrs'><dt><span>long_name :</span></dt><dd>initial time of forecast</dd><dt><span>standard_name :</span></dt><dd>forecast_reference_time</dd></dl></div></li></ul></div></div>"
     },
     "execution_count": 10,
     "metadata": {},
     "output_type": "execute_result"
    }
   ],
   "source": [
    "run_date = data['time']\n",
    "#run_date.values     #get the values\n",
    "run_date"
   ]
  },
  {
   "cell_type": "code",
   "execution_count": 11,
   "id": "08a4224a",
   "metadata": {
    "execution": {
     "iopub.execute_input": "2021-10-07T08:50:27.333069Z",
     "iopub.status.busy": "2021-10-07T08:50:27.332463Z",
     "iopub.status.idle": "2021-10-07T08:50:27.348492Z",
     "shell.execute_reply": "2021-10-07T08:50:27.349037Z",
     "shell.execute_reply.started": "2021-10-01T15:41:59.006712Z"
    },
    "papermill": {
     "duration": 0.036391,
     "end_time": "2021-10-07T08:50:27.349205",
     "exception": false,
     "start_time": "2021-10-07T08:50:27.312814",
     "status": "completed"
    },
    "tags": []
   },
   "outputs": [
    {
     "data": {
      "text/plain": "<xarray.DataArray 'valid_time' (valid_time: 25)>\narray(['2017-02-14T00:00:00.000000000', '2017-02-14T01:00:00.000000000',\n       '2017-02-14T02:00:00.000000000', '2017-02-14T03:00:00.000000000',\n       '2017-02-14T04:00:00.000000000', '2017-02-14T05:00:00.000000000',\n       '2017-02-14T06:00:00.000000000', '2017-02-14T07:00:00.000000000',\n       '2017-02-14T08:00:00.000000000', '2017-02-14T09:00:00.000000000',\n       '2017-02-14T10:00:00.000000000', '2017-02-14T11:00:00.000000000',\n       '2017-02-14T12:00:00.000000000', '2017-02-14T13:00:00.000000000',\n       '2017-02-14T14:00:00.000000000', '2017-02-14T15:00:00.000000000',\n       '2017-02-14T16:00:00.000000000', '2017-02-14T17:00:00.000000000',\n       '2017-02-14T18:00:00.000000000', '2017-02-14T19:00:00.000000000',\n       '2017-02-14T20:00:00.000000000', '2017-02-14T21:00:00.000000000',\n       '2017-02-14T22:00:00.000000000', '2017-02-14T23:00:00.000000000',\n       '2017-02-15T00:00:00.000000000'], dtype='datetime64[ns]')\nCoordinates:\n    time        datetime64[ns] 2017-02-14\n  * valid_time  (valid_time) datetime64[ns] 2017-02-14 ... 2017-02-15\nAttributes:\n    standard_name:  time\n    long_name:      time",
      "text/html": "<div><svg style=\"position: absolute; width: 0; height: 0; overflow: hidden\">\n<defs>\n<symbol id=\"icon-database\" viewBox=\"0 0 32 32\">\n<path d=\"M16 0c-8.837 0-16 2.239-16 5v4c0 2.761 7.163 5 16 5s16-2.239 16-5v-4c0-2.761-7.163-5-16-5z\"></path>\n<path d=\"M16 17c-8.837 0-16-2.239-16-5v6c0 2.761 7.163 5 16 5s16-2.239 16-5v-6c0 2.761-7.163 5-16 5z\"></path>\n<path d=\"M16 26c-8.837 0-16-2.239-16-5v6c0 2.761 7.163 5 16 5s16-2.239 16-5v-6c0 2.761-7.163 5-16 5z\"></path>\n</symbol>\n<symbol id=\"icon-file-text2\" viewBox=\"0 0 32 32\">\n<path d=\"M28.681 7.159c-0.694-0.947-1.662-2.053-2.724-3.116s-2.169-2.030-3.116-2.724c-1.612-1.182-2.393-1.319-2.841-1.319h-15.5c-1.378 0-2.5 1.121-2.5 2.5v27c0 1.378 1.122 2.5 2.5 2.5h23c1.378 0 2.5-1.122 2.5-2.5v-19.5c0-0.448-0.137-1.23-1.319-2.841zM24.543 5.457c0.959 0.959 1.712 1.825 2.268 2.543h-4.811v-4.811c0.718 0.556 1.584 1.309 2.543 2.268zM28 29.5c0 0.271-0.229 0.5-0.5 0.5h-23c-0.271 0-0.5-0.229-0.5-0.5v-27c0-0.271 0.229-0.5 0.5-0.5 0 0 15.499-0 15.5 0v7c0 0.552 0.448 1 1 1h7v19.5z\"></path>\n<path d=\"M23 26h-14c-0.552 0-1-0.448-1-1s0.448-1 1-1h14c0.552 0 1 0.448 1 1s-0.448 1-1 1z\"></path>\n<path d=\"M23 22h-14c-0.552 0-1-0.448-1-1s0.448-1 1-1h14c0.552 0 1 0.448 1 1s-0.448 1-1 1z\"></path>\n<path d=\"M23 18h-14c-0.552 0-1-0.448-1-1s0.448-1 1-1h14c0.552 0 1 0.448 1 1s-0.448 1-1 1z\"></path>\n</symbol>\n</defs>\n</svg>\n<style>/* CSS stylesheet for displaying xarray objects in jupyterlab.\n *\n */\n\n:root {\n  --xr-font-color0: var(--jp-content-font-color0, rgba(0, 0, 0, 1));\n  --xr-font-color2: var(--jp-content-font-color2, rgba(0, 0, 0, 0.54));\n  --xr-font-color3: var(--jp-content-font-color3, rgba(0, 0, 0, 0.38));\n  --xr-border-color: var(--jp-border-color2, #e0e0e0);\n  --xr-disabled-color: var(--jp-layout-color3, #bdbdbd);\n  --xr-background-color: var(--jp-layout-color0, white);\n  --xr-background-color-row-even: var(--jp-layout-color1, white);\n  --xr-background-color-row-odd: var(--jp-layout-color2, #eeeeee);\n}\n\nhtml[theme=dark],\nbody.vscode-dark {\n  --xr-font-color0: rgba(255, 255, 255, 1);\n  --xr-font-color2: rgba(255, 255, 255, 0.54);\n  --xr-font-color3: rgba(255, 255, 255, 0.38);\n  --xr-border-color: #1F1F1F;\n  --xr-disabled-color: #515151;\n  --xr-background-color: #111111;\n  --xr-background-color-row-even: #111111;\n  --xr-background-color-row-odd: #313131;\n}\n\n.xr-wrap {\n  display: block !important;\n  min-width: 300px;\n  max-width: 700px;\n}\n\n.xr-text-repr-fallback {\n  /* fallback to plain text repr when CSS is not injected (untrusted notebook) */\n  display: none;\n}\n\n.xr-header {\n  padding-top: 6px;\n  padding-bottom: 6px;\n  margin-bottom: 4px;\n  border-bottom: solid 1px var(--xr-border-color);\n}\n\n.xr-header > div,\n.xr-header > ul {\n  display: inline;\n  margin-top: 0;\n  margin-bottom: 0;\n}\n\n.xr-obj-type,\n.xr-array-name {\n  margin-left: 2px;\n  margin-right: 10px;\n}\n\n.xr-obj-type {\n  color: var(--xr-font-color2);\n}\n\n.xr-sections {\n  padding-left: 0 !important;\n  display: grid;\n  grid-template-columns: 150px auto auto 1fr 20px 20px;\n}\n\n.xr-section-item {\n  display: contents;\n}\n\n.xr-section-item input {\n  display: none;\n}\n\n.xr-section-item input + label {\n  color: var(--xr-disabled-color);\n}\n\n.xr-section-item input:enabled + label {\n  cursor: pointer;\n  color: var(--xr-font-color2);\n}\n\n.xr-section-item input:enabled + label:hover {\n  color: var(--xr-font-color0);\n}\n\n.xr-section-summary {\n  grid-column: 1;\n  color: var(--xr-font-color2);\n  font-weight: 500;\n}\n\n.xr-section-summary > span {\n  display: inline-block;\n  padding-left: 0.5em;\n}\n\n.xr-section-summary-in:disabled + label {\n  color: var(--xr-font-color2);\n}\n\n.xr-section-summary-in + label:before {\n  display: inline-block;\n  content: '►';\n  font-size: 11px;\n  width: 15px;\n  text-align: center;\n}\n\n.xr-section-summary-in:disabled + label:before {\n  color: var(--xr-disabled-color);\n}\n\n.xr-section-summary-in:checked + label:before {\n  content: '▼';\n}\n\n.xr-section-summary-in:checked + label > span {\n  display: none;\n}\n\n.xr-section-summary,\n.xr-section-inline-details {\n  padding-top: 4px;\n  padding-bottom: 4px;\n}\n\n.xr-section-inline-details {\n  grid-column: 2 / -1;\n}\n\n.xr-section-details {\n  display: none;\n  grid-column: 1 / -1;\n  margin-bottom: 5px;\n}\n\n.xr-section-summary-in:checked ~ .xr-section-details {\n  display: contents;\n}\n\n.xr-array-wrap {\n  grid-column: 1 / -1;\n  display: grid;\n  grid-template-columns: 20px auto;\n}\n\n.xr-array-wrap > label {\n  grid-column: 1;\n  vertical-align: top;\n}\n\n.xr-preview {\n  color: var(--xr-font-color3);\n}\n\n.xr-array-preview,\n.xr-array-data {\n  padding: 0 5px !important;\n  grid-column: 2;\n}\n\n.xr-array-data,\n.xr-array-in:checked ~ .xr-array-preview {\n  display: none;\n}\n\n.xr-array-in:checked ~ .xr-array-data,\n.xr-array-preview {\n  display: inline-block;\n}\n\n.xr-dim-list {\n  display: inline-block !important;\n  list-style: none;\n  padding: 0 !important;\n  margin: 0;\n}\n\n.xr-dim-list li {\n  display: inline-block;\n  padding: 0;\n  margin: 0;\n}\n\n.xr-dim-list:before {\n  content: '(';\n}\n\n.xr-dim-list:after {\n  content: ')';\n}\n\n.xr-dim-list li:not(:last-child):after {\n  content: ',';\n  padding-right: 5px;\n}\n\n.xr-has-index {\n  font-weight: bold;\n}\n\n.xr-var-list,\n.xr-var-item {\n  display: contents;\n}\n\n.xr-var-item > div,\n.xr-var-item label,\n.xr-var-item > .xr-var-name span {\n  background-color: var(--xr-background-color-row-even);\n  margin-bottom: 0;\n}\n\n.xr-var-item > .xr-var-name:hover span {\n  padding-right: 5px;\n}\n\n.xr-var-list > li:nth-child(odd) > div,\n.xr-var-list > li:nth-child(odd) > label,\n.xr-var-list > li:nth-child(odd) > .xr-var-name span {\n  background-color: var(--xr-background-color-row-odd);\n}\n\n.xr-var-name {\n  grid-column: 1;\n}\n\n.xr-var-dims {\n  grid-column: 2;\n}\n\n.xr-var-dtype {\n  grid-column: 3;\n  text-align: right;\n  color: var(--xr-font-color2);\n}\n\n.xr-var-preview {\n  grid-column: 4;\n}\n\n.xr-var-name,\n.xr-var-dims,\n.xr-var-dtype,\n.xr-preview,\n.xr-attrs dt {\n  white-space: nowrap;\n  overflow: hidden;\n  text-overflow: ellipsis;\n  padding-right: 10px;\n}\n\n.xr-var-name:hover,\n.xr-var-dims:hover,\n.xr-var-dtype:hover,\n.xr-attrs dt:hover {\n  overflow: visible;\n  width: auto;\n  z-index: 1;\n}\n\n.xr-var-attrs,\n.xr-var-data {\n  display: none;\n  background-color: var(--xr-background-color) !important;\n  padding-bottom: 5px !important;\n}\n\n.xr-var-attrs-in:checked ~ .xr-var-attrs,\n.xr-var-data-in:checked ~ .xr-var-data {\n  display: block;\n}\n\n.xr-var-data > table {\n  float: right;\n}\n\n.xr-var-name span,\n.xr-var-data,\n.xr-attrs {\n  padding-left: 25px !important;\n}\n\n.xr-attrs,\n.xr-var-attrs,\n.xr-var-data {\n  grid-column: 1 / -1;\n}\n\ndl.xr-attrs {\n  padding: 0;\n  margin: 0;\n  display: grid;\n  grid-template-columns: 125px auto;\n}\n\n.xr-attrs dt,\n.xr-attrs dd {\n  padding: 0;\n  margin: 0;\n  float: left;\n  padding-right: 10px;\n  width: auto;\n}\n\n.xr-attrs dt {\n  font-weight: normal;\n  grid-column: 1;\n}\n\n.xr-attrs dt:hover span {\n  display: inline-block;\n  background: var(--xr-background-color);\n  padding-right: 10px;\n}\n\n.xr-attrs dd {\n  grid-column: 2;\n  white-space: pre-wrap;\n  word-break: break-all;\n}\n\n.xr-icon-database,\n.xr-icon-file-text2 {\n  display: inline-block;\n  vertical-align: middle;\n  width: 1em;\n  height: 1.5em !important;\n  stroke-width: 0;\n  stroke: currentColor;\n  fill: currentColor;\n}\n</style><pre class='xr-text-repr-fallback'>&lt;xarray.DataArray &#x27;valid_time&#x27; (valid_time: 25)&gt;\narray([&#x27;2017-02-14T00:00:00.000000000&#x27;, &#x27;2017-02-14T01:00:00.000000000&#x27;,\n       &#x27;2017-02-14T02:00:00.000000000&#x27;, &#x27;2017-02-14T03:00:00.000000000&#x27;,\n       &#x27;2017-02-14T04:00:00.000000000&#x27;, &#x27;2017-02-14T05:00:00.000000000&#x27;,\n       &#x27;2017-02-14T06:00:00.000000000&#x27;, &#x27;2017-02-14T07:00:00.000000000&#x27;,\n       &#x27;2017-02-14T08:00:00.000000000&#x27;, &#x27;2017-02-14T09:00:00.000000000&#x27;,\n       &#x27;2017-02-14T10:00:00.000000000&#x27;, &#x27;2017-02-14T11:00:00.000000000&#x27;,\n       &#x27;2017-02-14T12:00:00.000000000&#x27;, &#x27;2017-02-14T13:00:00.000000000&#x27;,\n       &#x27;2017-02-14T14:00:00.000000000&#x27;, &#x27;2017-02-14T15:00:00.000000000&#x27;,\n       &#x27;2017-02-14T16:00:00.000000000&#x27;, &#x27;2017-02-14T17:00:00.000000000&#x27;,\n       &#x27;2017-02-14T18:00:00.000000000&#x27;, &#x27;2017-02-14T19:00:00.000000000&#x27;,\n       &#x27;2017-02-14T20:00:00.000000000&#x27;, &#x27;2017-02-14T21:00:00.000000000&#x27;,\n       &#x27;2017-02-14T22:00:00.000000000&#x27;, &#x27;2017-02-14T23:00:00.000000000&#x27;,\n       &#x27;2017-02-15T00:00:00.000000000&#x27;], dtype=&#x27;datetime64[ns]&#x27;)\nCoordinates:\n    time        datetime64[ns] 2017-02-14\n  * valid_time  (valid_time) datetime64[ns] 2017-02-14 ... 2017-02-15\nAttributes:\n    standard_name:  time\n    long_name:      time</pre><div class='xr-wrap' style='display:none'><div class='xr-header'><div class='xr-obj-type'>xarray.DataArray</div><div class='xr-array-name'>'valid_time'</div><ul class='xr-dim-list'><li><span class='xr-has-index'>valid_time</span>: 25</li></ul></div><ul class='xr-sections'><li class='xr-section-item'><div class='xr-array-wrap'><input id='section-070c969a-b3f0-4911-a50c-62cbab575bca' class='xr-array-in' type='checkbox' checked><label for='section-070c969a-b3f0-4911-a50c-62cbab575bca' title='Show/hide data repr'><svg class='icon xr-icon-database'><use xlink:href='#icon-database'></use></svg></label><div class='xr-array-preview xr-preview'><span>2017-02-14 2017-02-14T01:00:00 ... 2017-02-14T23:00:00 2017-02-15</span></div><div class='xr-array-data'><pre>array([&#x27;2017-02-14T00:00:00.000000000&#x27;, &#x27;2017-02-14T01:00:00.000000000&#x27;,\n       &#x27;2017-02-14T02:00:00.000000000&#x27;, &#x27;2017-02-14T03:00:00.000000000&#x27;,\n       &#x27;2017-02-14T04:00:00.000000000&#x27;, &#x27;2017-02-14T05:00:00.000000000&#x27;,\n       &#x27;2017-02-14T06:00:00.000000000&#x27;, &#x27;2017-02-14T07:00:00.000000000&#x27;,\n       &#x27;2017-02-14T08:00:00.000000000&#x27;, &#x27;2017-02-14T09:00:00.000000000&#x27;,\n       &#x27;2017-02-14T10:00:00.000000000&#x27;, &#x27;2017-02-14T11:00:00.000000000&#x27;,\n       &#x27;2017-02-14T12:00:00.000000000&#x27;, &#x27;2017-02-14T13:00:00.000000000&#x27;,\n       &#x27;2017-02-14T14:00:00.000000000&#x27;, &#x27;2017-02-14T15:00:00.000000000&#x27;,\n       &#x27;2017-02-14T16:00:00.000000000&#x27;, &#x27;2017-02-14T17:00:00.000000000&#x27;,\n       &#x27;2017-02-14T18:00:00.000000000&#x27;, &#x27;2017-02-14T19:00:00.000000000&#x27;,\n       &#x27;2017-02-14T20:00:00.000000000&#x27;, &#x27;2017-02-14T21:00:00.000000000&#x27;,\n       &#x27;2017-02-14T22:00:00.000000000&#x27;, &#x27;2017-02-14T23:00:00.000000000&#x27;,\n       &#x27;2017-02-15T00:00:00.000000000&#x27;], dtype=&#x27;datetime64[ns]&#x27;)</pre></div></div></li><li class='xr-section-item'><input id='section-c358996a-0b8d-4299-a4b6-b1d4dc1bcd7f' class='xr-section-summary-in' type='checkbox'  checked><label for='section-c358996a-0b8d-4299-a4b6-b1d4dc1bcd7f' class='xr-section-summary' >Coordinates: <span>(2)</span></label><div class='xr-section-inline-details'></div><div class='xr-section-details'><ul class='xr-var-list'><li class='xr-var-item'><div class='xr-var-name'><span>time</span></div><div class='xr-var-dims'>()</div><div class='xr-var-dtype'>datetime64[ns]</div><div class='xr-var-preview xr-preview'>2017-02-14</div><input id='attrs-c96bf8d1-e8e1-49e9-a8ed-4cc0e7d4d9e7' class='xr-var-attrs-in' type='checkbox' ><label for='attrs-c96bf8d1-e8e1-49e9-a8ed-4cc0e7d4d9e7' title='Show/Hide attributes'><svg class='icon xr-icon-file-text2'><use xlink:href='#icon-file-text2'></use></svg></label><input id='data-48d1fa44-6816-46fb-951b-4e6c557f9d13' class='xr-var-data-in' type='checkbox'><label for='data-48d1fa44-6816-46fb-951b-4e6c557f9d13' title='Show/Hide data repr'><svg class='icon xr-icon-database'><use xlink:href='#icon-database'></use></svg></label><div class='xr-var-attrs'><dl class='xr-attrs'><dt><span>long_name :</span></dt><dd>initial time of forecast</dd><dt><span>standard_name :</span></dt><dd>forecast_reference_time</dd></dl></div><div class='xr-var-data'><pre>array(&#x27;2017-02-14T00:00:00.000000000&#x27;, dtype=&#x27;datetime64[ns]&#x27;)</pre></div></li><li class='xr-var-item'><div class='xr-var-name'><span class='xr-has-index'>valid_time</span></div><div class='xr-var-dims'>(valid_time)</div><div class='xr-var-dtype'>datetime64[ns]</div><div class='xr-var-preview xr-preview'>2017-02-14 ... 2017-02-15</div><input id='attrs-e553385e-b085-4d2b-9125-8fd98ee96093' class='xr-var-attrs-in' type='checkbox' ><label for='attrs-e553385e-b085-4d2b-9125-8fd98ee96093' title='Show/Hide attributes'><svg class='icon xr-icon-file-text2'><use xlink:href='#icon-file-text2'></use></svg></label><input id='data-1fa779da-bde6-4441-8e9b-a3fb9b8cb94c' class='xr-var-data-in' type='checkbox'><label for='data-1fa779da-bde6-4441-8e9b-a3fb9b8cb94c' title='Show/Hide data repr'><svg class='icon xr-icon-database'><use xlink:href='#icon-database'></use></svg></label><div class='xr-var-attrs'><dl class='xr-attrs'><dt><span>standard_name :</span></dt><dd>time</dd><dt><span>long_name :</span></dt><dd>time</dd></dl></div><div class='xr-var-data'><pre>array([&#x27;2017-02-14T00:00:00.000000000&#x27;, &#x27;2017-02-14T01:00:00.000000000&#x27;,\n       &#x27;2017-02-14T02:00:00.000000000&#x27;, &#x27;2017-02-14T03:00:00.000000000&#x27;,\n       &#x27;2017-02-14T04:00:00.000000000&#x27;, &#x27;2017-02-14T05:00:00.000000000&#x27;,\n       &#x27;2017-02-14T06:00:00.000000000&#x27;, &#x27;2017-02-14T07:00:00.000000000&#x27;,\n       &#x27;2017-02-14T08:00:00.000000000&#x27;, &#x27;2017-02-14T09:00:00.000000000&#x27;,\n       &#x27;2017-02-14T10:00:00.000000000&#x27;, &#x27;2017-02-14T11:00:00.000000000&#x27;,\n       &#x27;2017-02-14T12:00:00.000000000&#x27;, &#x27;2017-02-14T13:00:00.000000000&#x27;,\n       &#x27;2017-02-14T14:00:00.000000000&#x27;, &#x27;2017-02-14T15:00:00.000000000&#x27;,\n       &#x27;2017-02-14T16:00:00.000000000&#x27;, &#x27;2017-02-14T17:00:00.000000000&#x27;,\n       &#x27;2017-02-14T18:00:00.000000000&#x27;, &#x27;2017-02-14T19:00:00.000000000&#x27;,\n       &#x27;2017-02-14T20:00:00.000000000&#x27;, &#x27;2017-02-14T21:00:00.000000000&#x27;,\n       &#x27;2017-02-14T22:00:00.000000000&#x27;, &#x27;2017-02-14T23:00:00.000000000&#x27;,\n       &#x27;2017-02-15T00:00:00.000000000&#x27;], dtype=&#x27;datetime64[ns]&#x27;)</pre></div></li></ul></div></li><li class='xr-section-item'><input id='section-5a20279a-534f-4ff1-894f-7a526bb3451e' class='xr-section-summary-in' type='checkbox'  checked><label for='section-5a20279a-534f-4ff1-894f-7a526bb3451e' class='xr-section-summary' >Attributes: <span>(2)</span></label><div class='xr-section-inline-details'></div><div class='xr-section-details'><dl class='xr-attrs'><dt><span>standard_name :</span></dt><dd>time</dd><dt><span>long_name :</span></dt><dd>time</dd></dl></div></li></ul></div></div>"
     },
     "execution_count": 11,
     "metadata": {},
     "output_type": "execute_result"
    }
   ],
   "source": [
    "range_forecasts_dates = data['valid_time']\n",
    "range_forecasts_dates"
   ]
  },
  {
   "cell_type": "code",
   "execution_count": 12,
   "id": "2dbe50d3",
   "metadata": {
    "execution": {
     "iopub.execute_input": "2021-10-07T08:50:27.389894Z",
     "iopub.status.busy": "2021-10-07T08:50:27.389277Z",
     "iopub.status.idle": "2021-10-07T08:50:27.521426Z",
     "shell.execute_reply": "2021-10-07T08:50:27.520725Z",
     "shell.execute_reply.started": "2021-10-01T15:41:59.434975Z"
    },
    "papermill": {
     "duration": 0.152879,
     "end_time": "2021-10-07T08:50:27.521597",
     "exception": false,
     "start_time": "2021-10-07T08:50:27.368718",
     "status": "completed"
    },
    "tags": []
   },
   "outputs": [
    {
     "data": {
      "text/plain": "<xarray.DataArray 'tp' (valid_time: 25, latitude: 227, longitude: 315)>\narray([[[     nan,      nan, ...,      nan,      nan],\n        [     nan,      nan, ...,      nan,      nan],\n        ...,\n        [     nan,      nan, ...,      nan,      nan],\n        [     nan,      nan, ...,      nan,      nan]],\n\n       [[0.      , 0.      , ..., 0.      , 0.      ],\n        [0.      , 0.      , ..., 0.      , 0.      ],\n        ...,\n        [0.      , 0.      , ..., 1.701402, 1.816074],\n        [0.      , 0.      , ..., 1.728984, 1.736585]],\n\n       ...,\n\n       [[1.488129, 1.477705, ..., 0.013465, 0.014334],\n        [1.708569, 1.70314 , ..., 0.016289, 0.014986],\n        ...,\n        [1.564795, 1.735934, ..., 4.642478, 4.875079],\n        [1.932266, 2.003936, ..., 4.721749, 4.645953]],\n\n       [[1.488129, 1.477705, ..., 0.013465, 0.014334],\n        [1.708569, 1.70314 , ..., 0.016289, 0.014986],\n        ...,\n        [4.020469, 4.513689, ..., 4.642478, 4.875079],\n        [4.687   , 4.672666, ..., 4.721749, 4.645953]]], dtype=float32)\nCoordinates:\n    time        datetime64[ns] 2017-02-14\n  * latitude    (latitude) float32 51.9 51.87 51.85 51.82 ... 46.3 46.27 46.25\n  * longitude   (longitude) float32 -5.842 -5.817 -5.792 ... 1.958 1.983 2.008\n  * valid_time  (valid_time) datetime64[ns] 2017-02-14 ... 2017-02-15\nAttributes:\n    long_name:  Total Precipitation\n    units:      kg m**-2",
      "text/html": "<div><svg style=\"position: absolute; width: 0; height: 0; overflow: hidden\">\n<defs>\n<symbol id=\"icon-database\" viewBox=\"0 0 32 32\">\n<path d=\"M16 0c-8.837 0-16 2.239-16 5v4c0 2.761 7.163 5 16 5s16-2.239 16-5v-4c0-2.761-7.163-5-16-5z\"></path>\n<path d=\"M16 17c-8.837 0-16-2.239-16-5v6c0 2.761 7.163 5 16 5s16-2.239 16-5v-6c0 2.761-7.163 5-16 5z\"></path>\n<path d=\"M16 26c-8.837 0-16-2.239-16-5v6c0 2.761 7.163 5 16 5s16-2.239 16-5v-6c0 2.761-7.163 5-16 5z\"></path>\n</symbol>\n<symbol id=\"icon-file-text2\" viewBox=\"0 0 32 32\">\n<path d=\"M28.681 7.159c-0.694-0.947-1.662-2.053-2.724-3.116s-2.169-2.030-3.116-2.724c-1.612-1.182-2.393-1.319-2.841-1.319h-15.5c-1.378 0-2.5 1.121-2.5 2.5v27c0 1.378 1.122 2.5 2.5 2.5h23c1.378 0 2.5-1.122 2.5-2.5v-19.5c0-0.448-0.137-1.23-1.319-2.841zM24.543 5.457c0.959 0.959 1.712 1.825 2.268 2.543h-4.811v-4.811c0.718 0.556 1.584 1.309 2.543 2.268zM28 29.5c0 0.271-0.229 0.5-0.5 0.5h-23c-0.271 0-0.5-0.229-0.5-0.5v-27c0-0.271 0.229-0.5 0.5-0.5 0 0 15.499-0 15.5 0v7c0 0.552 0.448 1 1 1h7v19.5z\"></path>\n<path d=\"M23 26h-14c-0.552 0-1-0.448-1-1s0.448-1 1-1h14c0.552 0 1 0.448 1 1s-0.448 1-1 1z\"></path>\n<path d=\"M23 22h-14c-0.552 0-1-0.448-1-1s0.448-1 1-1h14c0.552 0 1 0.448 1 1s-0.448 1-1 1z\"></path>\n<path d=\"M23 18h-14c-0.552 0-1-0.448-1-1s0.448-1 1-1h14c0.552 0 1 0.448 1 1s-0.448 1-1 1z\"></path>\n</symbol>\n</defs>\n</svg>\n<style>/* CSS stylesheet for displaying xarray objects in jupyterlab.\n *\n */\n\n:root {\n  --xr-font-color0: var(--jp-content-font-color0, rgba(0, 0, 0, 1));\n  --xr-font-color2: var(--jp-content-font-color2, rgba(0, 0, 0, 0.54));\n  --xr-font-color3: var(--jp-content-font-color3, rgba(0, 0, 0, 0.38));\n  --xr-border-color: var(--jp-border-color2, #e0e0e0);\n  --xr-disabled-color: var(--jp-layout-color3, #bdbdbd);\n  --xr-background-color: var(--jp-layout-color0, white);\n  --xr-background-color-row-even: var(--jp-layout-color1, white);\n  --xr-background-color-row-odd: var(--jp-layout-color2, #eeeeee);\n}\n\nhtml[theme=dark],\nbody.vscode-dark {\n  --xr-font-color0: rgba(255, 255, 255, 1);\n  --xr-font-color2: rgba(255, 255, 255, 0.54);\n  --xr-font-color3: rgba(255, 255, 255, 0.38);\n  --xr-border-color: #1F1F1F;\n  --xr-disabled-color: #515151;\n  --xr-background-color: #111111;\n  --xr-background-color-row-even: #111111;\n  --xr-background-color-row-odd: #313131;\n}\n\n.xr-wrap {\n  display: block !important;\n  min-width: 300px;\n  max-width: 700px;\n}\n\n.xr-text-repr-fallback {\n  /* fallback to plain text repr when CSS is not injected (untrusted notebook) */\n  display: none;\n}\n\n.xr-header {\n  padding-top: 6px;\n  padding-bottom: 6px;\n  margin-bottom: 4px;\n  border-bottom: solid 1px var(--xr-border-color);\n}\n\n.xr-header > div,\n.xr-header > ul {\n  display: inline;\n  margin-top: 0;\n  margin-bottom: 0;\n}\n\n.xr-obj-type,\n.xr-array-name {\n  margin-left: 2px;\n  margin-right: 10px;\n}\n\n.xr-obj-type {\n  color: var(--xr-font-color2);\n}\n\n.xr-sections {\n  padding-left: 0 !important;\n  display: grid;\n  grid-template-columns: 150px auto auto 1fr 20px 20px;\n}\n\n.xr-section-item {\n  display: contents;\n}\n\n.xr-section-item input {\n  display: none;\n}\n\n.xr-section-item input + label {\n  color: var(--xr-disabled-color);\n}\n\n.xr-section-item input:enabled + label {\n  cursor: pointer;\n  color: var(--xr-font-color2);\n}\n\n.xr-section-item input:enabled + label:hover {\n  color: var(--xr-font-color0);\n}\n\n.xr-section-summary {\n  grid-column: 1;\n  color: var(--xr-font-color2);\n  font-weight: 500;\n}\n\n.xr-section-summary > span {\n  display: inline-block;\n  padding-left: 0.5em;\n}\n\n.xr-section-summary-in:disabled + label {\n  color: var(--xr-font-color2);\n}\n\n.xr-section-summary-in + label:before {\n  display: inline-block;\n  content: '►';\n  font-size: 11px;\n  width: 15px;\n  text-align: center;\n}\n\n.xr-section-summary-in:disabled + label:before {\n  color: var(--xr-disabled-color);\n}\n\n.xr-section-summary-in:checked + label:before {\n  content: '▼';\n}\n\n.xr-section-summary-in:checked + label > span {\n  display: none;\n}\n\n.xr-section-summary,\n.xr-section-inline-details {\n  padding-top: 4px;\n  padding-bottom: 4px;\n}\n\n.xr-section-inline-details {\n  grid-column: 2 / -1;\n}\n\n.xr-section-details {\n  display: none;\n  grid-column: 1 / -1;\n  margin-bottom: 5px;\n}\n\n.xr-section-summary-in:checked ~ .xr-section-details {\n  display: contents;\n}\n\n.xr-array-wrap {\n  grid-column: 1 / -1;\n  display: grid;\n  grid-template-columns: 20px auto;\n}\n\n.xr-array-wrap > label {\n  grid-column: 1;\n  vertical-align: top;\n}\n\n.xr-preview {\n  color: var(--xr-font-color3);\n}\n\n.xr-array-preview,\n.xr-array-data {\n  padding: 0 5px !important;\n  grid-column: 2;\n}\n\n.xr-array-data,\n.xr-array-in:checked ~ .xr-array-preview {\n  display: none;\n}\n\n.xr-array-in:checked ~ .xr-array-data,\n.xr-array-preview {\n  display: inline-block;\n}\n\n.xr-dim-list {\n  display: inline-block !important;\n  list-style: none;\n  padding: 0 !important;\n  margin: 0;\n}\n\n.xr-dim-list li {\n  display: inline-block;\n  padding: 0;\n  margin: 0;\n}\n\n.xr-dim-list:before {\n  content: '(';\n}\n\n.xr-dim-list:after {\n  content: ')';\n}\n\n.xr-dim-list li:not(:last-child):after {\n  content: ',';\n  padding-right: 5px;\n}\n\n.xr-has-index {\n  font-weight: bold;\n}\n\n.xr-var-list,\n.xr-var-item {\n  display: contents;\n}\n\n.xr-var-item > div,\n.xr-var-item label,\n.xr-var-item > .xr-var-name span {\n  background-color: var(--xr-background-color-row-even);\n  margin-bottom: 0;\n}\n\n.xr-var-item > .xr-var-name:hover span {\n  padding-right: 5px;\n}\n\n.xr-var-list > li:nth-child(odd) > div,\n.xr-var-list > li:nth-child(odd) > label,\n.xr-var-list > li:nth-child(odd) > .xr-var-name span {\n  background-color: var(--xr-background-color-row-odd);\n}\n\n.xr-var-name {\n  grid-column: 1;\n}\n\n.xr-var-dims {\n  grid-column: 2;\n}\n\n.xr-var-dtype {\n  grid-column: 3;\n  text-align: right;\n  color: var(--xr-font-color2);\n}\n\n.xr-var-preview {\n  grid-column: 4;\n}\n\n.xr-var-name,\n.xr-var-dims,\n.xr-var-dtype,\n.xr-preview,\n.xr-attrs dt {\n  white-space: nowrap;\n  overflow: hidden;\n  text-overflow: ellipsis;\n  padding-right: 10px;\n}\n\n.xr-var-name:hover,\n.xr-var-dims:hover,\n.xr-var-dtype:hover,\n.xr-attrs dt:hover {\n  overflow: visible;\n  width: auto;\n  z-index: 1;\n}\n\n.xr-var-attrs,\n.xr-var-data {\n  display: none;\n  background-color: var(--xr-background-color) !important;\n  padding-bottom: 5px !important;\n}\n\n.xr-var-attrs-in:checked ~ .xr-var-attrs,\n.xr-var-data-in:checked ~ .xr-var-data {\n  display: block;\n}\n\n.xr-var-data > table {\n  float: right;\n}\n\n.xr-var-name span,\n.xr-var-data,\n.xr-attrs {\n  padding-left: 25px !important;\n}\n\n.xr-attrs,\n.xr-var-attrs,\n.xr-var-data {\n  grid-column: 1 / -1;\n}\n\ndl.xr-attrs {\n  padding: 0;\n  margin: 0;\n  display: grid;\n  grid-template-columns: 125px auto;\n}\n\n.xr-attrs dt,\n.xr-attrs dd {\n  padding: 0;\n  margin: 0;\n  float: left;\n  padding-right: 10px;\n  width: auto;\n}\n\n.xr-attrs dt {\n  font-weight: normal;\n  grid-column: 1;\n}\n\n.xr-attrs dt:hover span {\n  display: inline-block;\n  background: var(--xr-background-color);\n  padding-right: 10px;\n}\n\n.xr-attrs dd {\n  grid-column: 2;\n  white-space: pre-wrap;\n  word-break: break-all;\n}\n\n.xr-icon-database,\n.xr-icon-file-text2 {\n  display: inline-block;\n  vertical-align: middle;\n  width: 1em;\n  height: 1.5em !important;\n  stroke-width: 0;\n  stroke: currentColor;\n  fill: currentColor;\n}\n</style><pre class='xr-text-repr-fallback'>&lt;xarray.DataArray &#x27;tp&#x27; (valid_time: 25, latitude: 227, longitude: 315)&gt;\narray([[[     nan,      nan, ...,      nan,      nan],\n        [     nan,      nan, ...,      nan,      nan],\n        ...,\n        [     nan,      nan, ...,      nan,      nan],\n        [     nan,      nan, ...,      nan,      nan]],\n\n       [[0.      , 0.      , ..., 0.      , 0.      ],\n        [0.      , 0.      , ..., 0.      , 0.      ],\n        ...,\n        [0.      , 0.      , ..., 1.701402, 1.816074],\n        [0.      , 0.      , ..., 1.728984, 1.736585]],\n\n       ...,\n\n       [[1.488129, 1.477705, ..., 0.013465, 0.014334],\n        [1.708569, 1.70314 , ..., 0.016289, 0.014986],\n        ...,\n        [1.564795, 1.735934, ..., 4.642478, 4.875079],\n        [1.932266, 2.003936, ..., 4.721749, 4.645953]],\n\n       [[1.488129, 1.477705, ..., 0.013465, 0.014334],\n        [1.708569, 1.70314 , ..., 0.016289, 0.014986],\n        ...,\n        [4.020469, 4.513689, ..., 4.642478, 4.875079],\n        [4.687   , 4.672666, ..., 4.721749, 4.645953]]], dtype=float32)\nCoordinates:\n    time        datetime64[ns] 2017-02-14\n  * latitude    (latitude) float32 51.9 51.87 51.85 51.82 ... 46.3 46.27 46.25\n  * longitude   (longitude) float32 -5.842 -5.817 -5.792 ... 1.958 1.983 2.008\n  * valid_time  (valid_time) datetime64[ns] 2017-02-14 ... 2017-02-15\nAttributes:\n    long_name:  Total Precipitation\n    units:      kg m**-2</pre><div class='xr-wrap' style='display:none'><div class='xr-header'><div class='xr-obj-type'>xarray.DataArray</div><div class='xr-array-name'>'tp'</div><ul class='xr-dim-list'><li><span class='xr-has-index'>valid_time</span>: 25</li><li><span class='xr-has-index'>latitude</span>: 227</li><li><span class='xr-has-index'>longitude</span>: 315</li></ul></div><ul class='xr-sections'><li class='xr-section-item'><div class='xr-array-wrap'><input id='section-87b59037-923b-4dd9-8af1-aeecb4137f6e' class='xr-array-in' type='checkbox' checked><label for='section-87b59037-923b-4dd9-8af1-aeecb4137f6e' title='Show/hide data repr'><svg class='icon xr-icon-database'><use xlink:href='#icon-database'></use></svg></label><div class='xr-array-preview xr-preview'><span>nan nan nan nan nan nan nan ... 5.27 5.27 5.37 5.294 4.996 4.722 4.646</span></div><div class='xr-array-data'><pre>array([[[     nan,      nan, ...,      nan,      nan],\n        [     nan,      nan, ...,      nan,      nan],\n        ...,\n        [     nan,      nan, ...,      nan,      nan],\n        [     nan,      nan, ...,      nan,      nan]],\n\n       [[0.      , 0.      , ..., 0.      , 0.      ],\n        [0.      , 0.      , ..., 0.      , 0.      ],\n        ...,\n        [0.      , 0.      , ..., 1.701402, 1.816074],\n        [0.      , 0.      , ..., 1.728984, 1.736585]],\n\n       ...,\n\n       [[1.488129, 1.477705, ..., 0.013465, 0.014334],\n        [1.708569, 1.70314 , ..., 0.016289, 0.014986],\n        ...,\n        [1.564795, 1.735934, ..., 4.642478, 4.875079],\n        [1.932266, 2.003936, ..., 4.721749, 4.645953]],\n\n       [[1.488129, 1.477705, ..., 0.013465, 0.014334],\n        [1.708569, 1.70314 , ..., 0.016289, 0.014986],\n        ...,\n        [4.020469, 4.513689, ..., 4.642478, 4.875079],\n        [4.687   , 4.672666, ..., 4.721749, 4.645953]]], dtype=float32)</pre></div></div></li><li class='xr-section-item'><input id='section-52557a0a-eacf-472f-aa0d-581372ec4619' class='xr-section-summary-in' type='checkbox'  checked><label for='section-52557a0a-eacf-472f-aa0d-581372ec4619' class='xr-section-summary' >Coordinates: <span>(4)</span></label><div class='xr-section-inline-details'></div><div class='xr-section-details'><ul class='xr-var-list'><li class='xr-var-item'><div class='xr-var-name'><span>time</span></div><div class='xr-var-dims'>()</div><div class='xr-var-dtype'>datetime64[ns]</div><div class='xr-var-preview xr-preview'>2017-02-14</div><input id='attrs-86e82d24-ca54-4365-8084-522181532130' class='xr-var-attrs-in' type='checkbox' ><label for='attrs-86e82d24-ca54-4365-8084-522181532130' title='Show/Hide attributes'><svg class='icon xr-icon-file-text2'><use xlink:href='#icon-file-text2'></use></svg></label><input id='data-d06e3e5b-d500-4832-ae1d-c62727aef0bb' class='xr-var-data-in' type='checkbox'><label for='data-d06e3e5b-d500-4832-ae1d-c62727aef0bb' title='Show/Hide data repr'><svg class='icon xr-icon-database'><use xlink:href='#icon-database'></use></svg></label><div class='xr-var-attrs'><dl class='xr-attrs'><dt><span>long_name :</span></dt><dd>initial time of forecast</dd><dt><span>standard_name :</span></dt><dd>forecast_reference_time</dd></dl></div><div class='xr-var-data'><pre>array(&#x27;2017-02-14T00:00:00.000000000&#x27;, dtype=&#x27;datetime64[ns]&#x27;)</pre></div></li><li class='xr-var-item'><div class='xr-var-name'><span class='xr-has-index'>latitude</span></div><div class='xr-var-dims'>(latitude)</div><div class='xr-var-dtype'>float32</div><div class='xr-var-preview xr-preview'>51.9 51.87 51.85 ... 46.27 46.25</div><input id='attrs-05dd1163-c323-4ed7-9aa3-e9891d077c98' class='xr-var-attrs-in' type='checkbox' disabled><label for='attrs-05dd1163-c323-4ed7-9aa3-e9891d077c98' title='Show/Hide attributes'><svg class='icon xr-icon-file-text2'><use xlink:href='#icon-file-text2'></use></svg></label><input id='data-03d52f7d-56a4-44fb-a492-481d32033dbd' class='xr-var-data-in' type='checkbox'><label for='data-03d52f7d-56a4-44fb-a492-481d32033dbd' title='Show/Hide data repr'><svg class='icon xr-icon-database'><use xlink:href='#icon-database'></use></svg></label><div class='xr-var-attrs'><dl class='xr-attrs'></dl></div><div class='xr-var-data'><pre>array([51.896, 51.871, 51.846, ..., 46.296, 46.271, 46.246], dtype=float32)</pre></div></li><li class='xr-var-item'><div class='xr-var-name'><span class='xr-has-index'>longitude</span></div><div class='xr-var-dims'>(longitude)</div><div class='xr-var-dtype'>float32</div><div class='xr-var-preview xr-preview'>-5.842 -5.817 ... 1.983 2.008</div><input id='attrs-8135001d-b8e1-4a0c-a170-8ce3841bb9da' class='xr-var-attrs-in' type='checkbox' disabled><label for='attrs-8135001d-b8e1-4a0c-a170-8ce3841bb9da' title='Show/Hide attributes'><svg class='icon xr-icon-file-text2'><use xlink:href='#icon-file-text2'></use></svg></label><input id='data-b31fcbc6-e806-4c34-acfe-7ecf5e2c75ef' class='xr-var-data-in' type='checkbox'><label for='data-b31fcbc6-e806-4c34-acfe-7ecf5e2c75ef' title='Show/Hide data repr'><svg class='icon xr-icon-database'><use xlink:href='#icon-database'></use></svg></label><div class='xr-var-attrs'><dl class='xr-attrs'></dl></div><div class='xr-var-data'><pre>array([-5.842, -5.817, -5.792, ...,  1.958,  1.983,  2.008], dtype=float32)</pre></div></li><li class='xr-var-item'><div class='xr-var-name'><span class='xr-has-index'>valid_time</span></div><div class='xr-var-dims'>(valid_time)</div><div class='xr-var-dtype'>datetime64[ns]</div><div class='xr-var-preview xr-preview'>2017-02-14 ... 2017-02-15</div><input id='attrs-a0f53fb3-7d95-4dd0-b5ee-790fd295158c' class='xr-var-attrs-in' type='checkbox' ><label for='attrs-a0f53fb3-7d95-4dd0-b5ee-790fd295158c' title='Show/Hide attributes'><svg class='icon xr-icon-file-text2'><use xlink:href='#icon-file-text2'></use></svg></label><input id='data-0b037d6d-cf3e-474c-8aa4-fee11203e97e' class='xr-var-data-in' type='checkbox'><label for='data-0b037d6d-cf3e-474c-8aa4-fee11203e97e' title='Show/Hide data repr'><svg class='icon xr-icon-database'><use xlink:href='#icon-database'></use></svg></label><div class='xr-var-attrs'><dl class='xr-attrs'><dt><span>standard_name :</span></dt><dd>time</dd><dt><span>long_name :</span></dt><dd>time</dd></dl></div><div class='xr-var-data'><pre>array([&#x27;2017-02-14T00:00:00.000000000&#x27;, &#x27;2017-02-14T01:00:00.000000000&#x27;,\n       &#x27;2017-02-14T02:00:00.000000000&#x27;, &#x27;2017-02-14T03:00:00.000000000&#x27;,\n       &#x27;2017-02-14T04:00:00.000000000&#x27;, &#x27;2017-02-14T05:00:00.000000000&#x27;,\n       &#x27;2017-02-14T06:00:00.000000000&#x27;, &#x27;2017-02-14T07:00:00.000000000&#x27;,\n       &#x27;2017-02-14T08:00:00.000000000&#x27;, &#x27;2017-02-14T09:00:00.000000000&#x27;,\n       &#x27;2017-02-14T10:00:00.000000000&#x27;, &#x27;2017-02-14T11:00:00.000000000&#x27;,\n       &#x27;2017-02-14T12:00:00.000000000&#x27;, &#x27;2017-02-14T13:00:00.000000000&#x27;,\n       &#x27;2017-02-14T14:00:00.000000000&#x27;, &#x27;2017-02-14T15:00:00.000000000&#x27;,\n       &#x27;2017-02-14T16:00:00.000000000&#x27;, &#x27;2017-02-14T17:00:00.000000000&#x27;,\n       &#x27;2017-02-14T18:00:00.000000000&#x27;, &#x27;2017-02-14T19:00:00.000000000&#x27;,\n       &#x27;2017-02-14T20:00:00.000000000&#x27;, &#x27;2017-02-14T21:00:00.000000000&#x27;,\n       &#x27;2017-02-14T22:00:00.000000000&#x27;, &#x27;2017-02-14T23:00:00.000000000&#x27;,\n       &#x27;2017-02-15T00:00:00.000000000&#x27;], dtype=&#x27;datetime64[ns]&#x27;)</pre></div></li></ul></div></li><li class='xr-section-item'><input id='section-1f47bd0b-f807-4c5f-a291-5729997b9966' class='xr-section-summary-in' type='checkbox'  checked><label for='section-1f47bd0b-f807-4c5f-a291-5729997b9966' class='xr-section-summary' >Attributes: <span>(2)</span></label><div class='xr-section-inline-details'></div><div class='xr-section-details'><dl class='xr-attrs'><dt><span>long_name :</span></dt><dd>Total Precipitation</dd><dt><span>units :</span></dt><dd>kg m**-2</dd></dl></div></li></ul></div></div>"
     },
     "execution_count": 12,
     "metadata": {},
     "output_type": "execute_result"
    }
   ],
   "source": [
    "d = data[param]     #param : parameter name defined at the beginning of the Notebook \n",
    "d_vals=d.values     #get the values\n",
    "###examples to get the information from attributes\n",
    "#d.units                      #unit\n",
    "#d.long_name                      #long name\n",
    "d"
   ]
  },
  {
   "cell_type": "markdown",
   "id": "9914b363",
   "metadata": {
    "papermill": {
     "duration": 0.019094,
     "end_time": "2021-10-07T08:50:27.560389",
     "exception": false,
     "start_time": "2021-10-07T08:50:27.541295",
     "status": "completed"
    },
    "tags": []
   },
   "source": [
    "The structure of the parameter (3 dimensions):\n",
    "* number of steps or range forecasts\n",
    "* number of points in latitude\n",
    "* number of points in longitude  "
   ]
  },
  {
   "cell_type": "code",
   "execution_count": 13,
   "id": "9b738952",
   "metadata": {
    "execution": {
     "iopub.execute_input": "2021-10-07T08:50:27.604924Z",
     "iopub.status.busy": "2021-10-07T08:50:27.604186Z",
     "iopub.status.idle": "2021-10-07T08:50:27.607865Z",
     "shell.execute_reply": "2021-10-07T08:50:27.607348Z",
     "shell.execute_reply.started": "2021-10-01T15:42:00.481868Z"
    },
    "papermill": {
     "duration": 0.028239,
     "end_time": "2021-10-07T08:50:27.608029",
     "exception": false,
     "start_time": "2021-10-07T08:50:27.579790",
     "status": "completed"
    },
    "tags": []
   },
   "outputs": [
    {
     "data": {
      "text/plain": "(25, 227, 315)"
     },
     "execution_count": 13,
     "metadata": {},
     "output_type": "execute_result"
    }
   ],
   "source": [
    "d_vals.shape"
   ]
  },
  {
   "cell_type": "code",
   "execution_count": 14,
   "id": "90ebd06b",
   "metadata": {
    "execution": {
     "iopub.execute_input": "2021-10-07T08:50:27.652323Z",
     "iopub.status.busy": "2021-10-07T08:50:27.651648Z",
     "iopub.status.idle": "2021-10-07T08:50:28.051150Z",
     "shell.execute_reply": "2021-10-07T08:50:28.051637Z",
     "shell.execute_reply.started": "2021-10-01T15:42:00.968549Z"
    },
    "papermill": {
     "duration": 0.423893,
     "end_time": "2021-10-07T08:50:28.051819",
     "exception": false,
     "start_time": "2021-10-07T08:50:27.627926",
     "status": "completed"
    },
    "tags": []
   },
   "outputs": [],
   "source": [
    "import cartopy.crs as ccrs\n",
    "import cartopy.feature as cfeature"
   ]
  },
  {
   "cell_type": "code",
   "execution_count": 15,
   "id": "cd47e362",
   "metadata": {
    "execution": {
     "iopub.execute_input": "2021-10-07T08:50:28.097514Z",
     "iopub.status.busy": "2021-10-07T08:50:28.096647Z",
     "iopub.status.idle": "2021-10-07T08:50:28.099414Z",
     "shell.execute_reply": "2021-10-07T08:50:28.098906Z",
     "shell.execute_reply.started": "2021-10-01T15:42:01.360611Z"
    },
    "papermill": {
     "duration": 0.027535,
     "end_time": "2021-10-07T08:50:28.099546",
     "exception": false,
     "start_time": "2021-10-07T08:50:28.072011",
     "status": "completed"
    },
    "tags": []
   },
   "outputs": [],
   "source": [
    "forecast_date = dt.datetime(2017, 2, 14,12,0)"
   ]
  },
  {
   "cell_type": "code",
   "execution_count": 16,
   "id": "4dbd5820",
   "metadata": {
    "execution": {
     "iopub.execute_input": "2021-10-07T08:50:28.149234Z",
     "iopub.status.busy": "2021-10-07T08:50:28.148578Z",
     "iopub.status.idle": "2021-10-07T08:50:29.590921Z",
     "shell.execute_reply": "2021-10-07T08:50:29.591411Z",
     "shell.execute_reply.started": "2021-10-01T15:42:01.961756Z"
    },
    "papermill": {
     "duration": 1.472313,
     "end_time": "2021-10-07T08:50:29.591573",
     "exception": false,
     "start_time": "2021-10-07T08:50:28.119260",
     "status": "completed"
    },
    "tags": []
   },
   "outputs": [
    {
     "ename": "TypeError",
     "evalue": "draw_wrapper() got an unexpected keyword argument 'inframe'",
     "output_type": "error",
     "traceback": [
      "\u001B[0;31m---------------------------------------------------------------------------\u001B[0m",
      "\u001B[0;31mTypeError\u001B[0m                                 Traceback (most recent call last)",
      "\u001B[0;32m~/.local/lib/python3.8/site-packages/IPython/core/formatters.py\u001B[0m in \u001B[0;36m__call__\u001B[0;34m(self, obj)\u001B[0m\n\u001B[1;32m    339\u001B[0m                 \u001B[0;32mpass\u001B[0m\u001B[0;34m\u001B[0m\u001B[0;34m\u001B[0m\u001B[0m\n\u001B[1;32m    340\u001B[0m             \u001B[0;32melse\u001B[0m\u001B[0;34m:\u001B[0m\u001B[0;34m\u001B[0m\u001B[0;34m\u001B[0m\u001B[0m\n\u001B[0;32m--> 341\u001B[0;31m                 \u001B[0;32mreturn\u001B[0m \u001B[0mprinter\u001B[0m\u001B[0;34m(\u001B[0m\u001B[0mobj\u001B[0m\u001B[0;34m)\u001B[0m\u001B[0;34m\u001B[0m\u001B[0;34m\u001B[0m\u001B[0m\n\u001B[0m\u001B[1;32m    342\u001B[0m             \u001B[0;31m# Finally look for special method names\u001B[0m\u001B[0;34m\u001B[0m\u001B[0;34m\u001B[0m\u001B[0;34m\u001B[0m\u001B[0m\n\u001B[1;32m    343\u001B[0m             \u001B[0mmethod\u001B[0m \u001B[0;34m=\u001B[0m \u001B[0mget_real_method\u001B[0m\u001B[0;34m(\u001B[0m\u001B[0mobj\u001B[0m\u001B[0;34m,\u001B[0m \u001B[0mself\u001B[0m\u001B[0;34m.\u001B[0m\u001B[0mprint_method\u001B[0m\u001B[0;34m)\u001B[0m\u001B[0;34m\u001B[0m\u001B[0;34m\u001B[0m\u001B[0m\n",
      "\u001B[0;32m~/.local/lib/python3.8/site-packages/IPython/core/pylabtools.py\u001B[0m in \u001B[0;36mprint_figure\u001B[0;34m(fig, fmt, bbox_inches, base64, **kwargs)\u001B[0m\n\u001B[1;32m    149\u001B[0m         \u001B[0mFigureCanvasBase\u001B[0m\u001B[0;34m(\u001B[0m\u001B[0mfig\u001B[0m\u001B[0;34m)\u001B[0m\u001B[0;34m\u001B[0m\u001B[0;34m\u001B[0m\u001B[0m\n\u001B[1;32m    150\u001B[0m \u001B[0;34m\u001B[0m\u001B[0m\n\u001B[0;32m--> 151\u001B[0;31m     \u001B[0mfig\u001B[0m\u001B[0;34m.\u001B[0m\u001B[0mcanvas\u001B[0m\u001B[0;34m.\u001B[0m\u001B[0mprint_figure\u001B[0m\u001B[0;34m(\u001B[0m\u001B[0mbytes_io\u001B[0m\u001B[0;34m,\u001B[0m \u001B[0;34m**\u001B[0m\u001B[0mkw\u001B[0m\u001B[0;34m)\u001B[0m\u001B[0;34m\u001B[0m\u001B[0;34m\u001B[0m\u001B[0m\n\u001B[0m\u001B[1;32m    152\u001B[0m     \u001B[0mdata\u001B[0m \u001B[0;34m=\u001B[0m \u001B[0mbytes_io\u001B[0m\u001B[0;34m.\u001B[0m\u001B[0mgetvalue\u001B[0m\u001B[0;34m(\u001B[0m\u001B[0;34m)\u001B[0m\u001B[0;34m\u001B[0m\u001B[0;34m\u001B[0m\u001B[0m\n\u001B[1;32m    153\u001B[0m     \u001B[0;32mif\u001B[0m \u001B[0mfmt\u001B[0m \u001B[0;34m==\u001B[0m \u001B[0;34m'svg'\u001B[0m\u001B[0;34m:\u001B[0m\u001B[0;34m\u001B[0m\u001B[0;34m\u001B[0m\u001B[0m\n",
      "\u001B[0;32m~/.local/lib/python3.8/site-packages/matplotlib/backend_bases.py\u001B[0m in \u001B[0;36mprint_figure\u001B[0;34m(self, filename, dpi, facecolor, edgecolor, orientation, format, bbox_inches, pad_inches, bbox_extra_artists, backend, **kwargs)\u001B[0m\n\u001B[1;32m   2293\u001B[0m                 )\n\u001B[1;32m   2294\u001B[0m                 \u001B[0;32mwith\u001B[0m \u001B[0mgetattr\u001B[0m\u001B[0;34m(\u001B[0m\u001B[0mrenderer\u001B[0m\u001B[0;34m,\u001B[0m \u001B[0;34m\"_draw_disabled\"\u001B[0m\u001B[0;34m,\u001B[0m \u001B[0mnullcontext\u001B[0m\u001B[0;34m)\u001B[0m\u001B[0;34m(\u001B[0m\u001B[0;34m)\u001B[0m\u001B[0;34m:\u001B[0m\u001B[0;34m\u001B[0m\u001B[0;34m\u001B[0m\u001B[0m\n\u001B[0;32m-> 2295\u001B[0;31m                     \u001B[0mself\u001B[0m\u001B[0;34m.\u001B[0m\u001B[0mfigure\u001B[0m\u001B[0;34m.\u001B[0m\u001B[0mdraw\u001B[0m\u001B[0;34m(\u001B[0m\u001B[0mrenderer\u001B[0m\u001B[0;34m)\u001B[0m\u001B[0;34m\u001B[0m\u001B[0;34m\u001B[0m\u001B[0m\n\u001B[0m\u001B[1;32m   2296\u001B[0m \u001B[0;34m\u001B[0m\u001B[0m\n\u001B[1;32m   2297\u001B[0m             \u001B[0;32mif\u001B[0m \u001B[0mbbox_inches\u001B[0m\u001B[0;34m:\u001B[0m\u001B[0;34m\u001B[0m\u001B[0;34m\u001B[0m\u001B[0m\n",
      "\u001B[0;32m~/.local/lib/python3.8/site-packages/matplotlib/artist.py\u001B[0m in \u001B[0;36mdraw_wrapper\u001B[0;34m(artist, renderer, *args, **kwargs)\u001B[0m\n\u001B[1;32m     71\u001B[0m     \u001B[0;34m@\u001B[0m\u001B[0mwraps\u001B[0m\u001B[0;34m(\u001B[0m\u001B[0mdraw\u001B[0m\u001B[0;34m)\u001B[0m\u001B[0;34m\u001B[0m\u001B[0;34m\u001B[0m\u001B[0m\n\u001B[1;32m     72\u001B[0m     \u001B[0;32mdef\u001B[0m \u001B[0mdraw_wrapper\u001B[0m\u001B[0;34m(\u001B[0m\u001B[0martist\u001B[0m\u001B[0;34m,\u001B[0m \u001B[0mrenderer\u001B[0m\u001B[0;34m,\u001B[0m \u001B[0;34m*\u001B[0m\u001B[0margs\u001B[0m\u001B[0;34m,\u001B[0m \u001B[0;34m**\u001B[0m\u001B[0mkwargs\u001B[0m\u001B[0;34m)\u001B[0m\u001B[0;34m:\u001B[0m\u001B[0;34m\u001B[0m\u001B[0;34m\u001B[0m\u001B[0m\n\u001B[0;32m---> 73\u001B[0;31m         \u001B[0mresult\u001B[0m \u001B[0;34m=\u001B[0m \u001B[0mdraw\u001B[0m\u001B[0;34m(\u001B[0m\u001B[0martist\u001B[0m\u001B[0;34m,\u001B[0m \u001B[0mrenderer\u001B[0m\u001B[0;34m,\u001B[0m \u001B[0;34m*\u001B[0m\u001B[0margs\u001B[0m\u001B[0;34m,\u001B[0m \u001B[0;34m**\u001B[0m\u001B[0mkwargs\u001B[0m\u001B[0;34m)\u001B[0m\u001B[0;34m\u001B[0m\u001B[0;34m\u001B[0m\u001B[0m\n\u001B[0m\u001B[1;32m     74\u001B[0m         \u001B[0;32mif\u001B[0m \u001B[0mrenderer\u001B[0m\u001B[0;34m.\u001B[0m\u001B[0m_rasterizing\u001B[0m\u001B[0;34m:\u001B[0m\u001B[0;34m\u001B[0m\u001B[0;34m\u001B[0m\u001B[0m\n\u001B[1;32m     75\u001B[0m             \u001B[0mrenderer\u001B[0m\u001B[0;34m.\u001B[0m\u001B[0mstop_rasterizing\u001B[0m\u001B[0;34m(\u001B[0m\u001B[0;34m)\u001B[0m\u001B[0;34m\u001B[0m\u001B[0;34m\u001B[0m\u001B[0m\n",
      "\u001B[0;32m~/.local/lib/python3.8/site-packages/matplotlib/artist.py\u001B[0m in \u001B[0;36mdraw_wrapper\u001B[0;34m(artist, renderer)\u001B[0m\n\u001B[1;32m     48\u001B[0m                 \u001B[0mrenderer\u001B[0m\u001B[0;34m.\u001B[0m\u001B[0mstart_filter\u001B[0m\u001B[0;34m(\u001B[0m\u001B[0;34m)\u001B[0m\u001B[0;34m\u001B[0m\u001B[0;34m\u001B[0m\u001B[0m\n\u001B[1;32m     49\u001B[0m \u001B[0;34m\u001B[0m\u001B[0m\n\u001B[0;32m---> 50\u001B[0;31m             \u001B[0;32mreturn\u001B[0m \u001B[0mdraw\u001B[0m\u001B[0;34m(\u001B[0m\u001B[0martist\u001B[0m\u001B[0;34m,\u001B[0m \u001B[0mrenderer\u001B[0m\u001B[0;34m)\u001B[0m\u001B[0;34m\u001B[0m\u001B[0;34m\u001B[0m\u001B[0m\n\u001B[0m\u001B[1;32m     51\u001B[0m         \u001B[0;32mfinally\u001B[0m\u001B[0;34m:\u001B[0m\u001B[0;34m\u001B[0m\u001B[0;34m\u001B[0m\u001B[0m\n\u001B[1;32m     52\u001B[0m             \u001B[0;32mif\u001B[0m \u001B[0martist\u001B[0m\u001B[0;34m.\u001B[0m\u001B[0mget_agg_filter\u001B[0m\u001B[0;34m(\u001B[0m\u001B[0;34m)\u001B[0m \u001B[0;32mis\u001B[0m \u001B[0;32mnot\u001B[0m \u001B[0;32mNone\u001B[0m\u001B[0;34m:\u001B[0m\u001B[0;34m\u001B[0m\u001B[0;34m\u001B[0m\u001B[0m\n",
      "\u001B[0;32m~/.local/lib/python3.8/site-packages/matplotlib/figure.py\u001B[0m in \u001B[0;36mdraw\u001B[0;34m(self, renderer)\u001B[0m\n\u001B[1;32m   2808\u001B[0m \u001B[0;34m\u001B[0m\u001B[0m\n\u001B[1;32m   2809\u001B[0m             \u001B[0mself\u001B[0m\u001B[0;34m.\u001B[0m\u001B[0mpatch\u001B[0m\u001B[0;34m.\u001B[0m\u001B[0mdraw\u001B[0m\u001B[0;34m(\u001B[0m\u001B[0mrenderer\u001B[0m\u001B[0;34m)\u001B[0m\u001B[0;34m\u001B[0m\u001B[0;34m\u001B[0m\u001B[0m\n\u001B[0;32m-> 2810\u001B[0;31m             mimage._draw_list_compositing_images(\n\u001B[0m\u001B[1;32m   2811\u001B[0m                 renderer, self, artists, self.suppressComposite)\n\u001B[1;32m   2812\u001B[0m \u001B[0;34m\u001B[0m\u001B[0m\n",
      "\u001B[0;32m~/.local/lib/python3.8/site-packages/matplotlib/image.py\u001B[0m in \u001B[0;36m_draw_list_compositing_images\u001B[0;34m(renderer, parent, artists, suppress_composite)\u001B[0m\n\u001B[1;32m    130\u001B[0m     \u001B[0;32mif\u001B[0m \u001B[0mnot_composite\u001B[0m \u001B[0;32mor\u001B[0m \u001B[0;32mnot\u001B[0m \u001B[0mhas_images\u001B[0m\u001B[0;34m:\u001B[0m\u001B[0;34m\u001B[0m\u001B[0;34m\u001B[0m\u001B[0m\n\u001B[1;32m    131\u001B[0m         \u001B[0;32mfor\u001B[0m \u001B[0ma\u001B[0m \u001B[0;32min\u001B[0m \u001B[0martists\u001B[0m\u001B[0;34m:\u001B[0m\u001B[0;34m\u001B[0m\u001B[0;34m\u001B[0m\u001B[0m\n\u001B[0;32m--> 132\u001B[0;31m             \u001B[0ma\u001B[0m\u001B[0;34m.\u001B[0m\u001B[0mdraw\u001B[0m\u001B[0;34m(\u001B[0m\u001B[0mrenderer\u001B[0m\u001B[0;34m)\u001B[0m\u001B[0;34m\u001B[0m\u001B[0;34m\u001B[0m\u001B[0m\n\u001B[0m\u001B[1;32m    133\u001B[0m     \u001B[0;32melse\u001B[0m\u001B[0;34m:\u001B[0m\u001B[0;34m\u001B[0m\u001B[0;34m\u001B[0m\u001B[0m\n\u001B[1;32m    134\u001B[0m         \u001B[0;31m# Composite any adjacent images together\u001B[0m\u001B[0;34m\u001B[0m\u001B[0;34m\u001B[0m\u001B[0;34m\u001B[0m\u001B[0m\n",
      "\u001B[0;32m~/.local/lib/python3.8/site-packages/matplotlib/artist.py\u001B[0m in \u001B[0;36mdraw_wrapper\u001B[0;34m(artist, renderer)\u001B[0m\n\u001B[1;32m     48\u001B[0m                 \u001B[0mrenderer\u001B[0m\u001B[0;34m.\u001B[0m\u001B[0mstart_filter\u001B[0m\u001B[0;34m(\u001B[0m\u001B[0;34m)\u001B[0m\u001B[0;34m\u001B[0m\u001B[0;34m\u001B[0m\u001B[0m\n\u001B[1;32m     49\u001B[0m \u001B[0;34m\u001B[0m\u001B[0m\n\u001B[0;32m---> 50\u001B[0;31m             \u001B[0;32mreturn\u001B[0m \u001B[0mdraw\u001B[0m\u001B[0;34m(\u001B[0m\u001B[0martist\u001B[0m\u001B[0;34m,\u001B[0m \u001B[0mrenderer\u001B[0m\u001B[0;34m)\u001B[0m\u001B[0;34m\u001B[0m\u001B[0;34m\u001B[0m\u001B[0m\n\u001B[0m\u001B[1;32m     51\u001B[0m         \u001B[0;32mfinally\u001B[0m\u001B[0;34m:\u001B[0m\u001B[0;34m\u001B[0m\u001B[0;34m\u001B[0m\u001B[0m\n\u001B[1;32m     52\u001B[0m             \u001B[0;32mif\u001B[0m \u001B[0martist\u001B[0m\u001B[0;34m.\u001B[0m\u001B[0mget_agg_filter\u001B[0m\u001B[0;34m(\u001B[0m\u001B[0;34m)\u001B[0m \u001B[0;32mis\u001B[0m \u001B[0;32mnot\u001B[0m \u001B[0;32mNone\u001B[0m\u001B[0;34m:\u001B[0m\u001B[0;34m\u001B[0m\u001B[0;34m\u001B[0m\u001B[0m\n",
      "\u001B[0;32m/usr/lib/python3/dist-packages/cartopy/mpl/geoaxes.py\u001B[0m in \u001B[0;36mdraw\u001B[0;34m(self, renderer, inframe)\u001B[0m\n\u001B[1;32m    385\u001B[0m         \u001B[0mself\u001B[0m\u001B[0;34m.\u001B[0m\u001B[0m_done_img_factory\u001B[0m \u001B[0;34m=\u001B[0m \u001B[0;32mTrue\u001B[0m\u001B[0;34m\u001B[0m\u001B[0;34m\u001B[0m\u001B[0m\n\u001B[1;32m    386\u001B[0m \u001B[0;34m\u001B[0m\u001B[0m\n\u001B[0;32m--> 387\u001B[0;31m         return matplotlib.axes.Axes.draw(self, renderer=renderer,\n\u001B[0m\u001B[1;32m    388\u001B[0m                                          inframe=inframe)\n\u001B[1;32m    389\u001B[0m \u001B[0;34m\u001B[0m\u001B[0m\n",
      "\u001B[0;31mTypeError\u001B[0m: draw_wrapper() got an unexpected keyword argument 'inframe'"
     ]
    },
    {
     "data": {
      "text/plain": "<Figure size 648x720 with 2 Axes>"
     },
     "metadata": {
      "needs_background": "light"
     },
     "output_type": "display_data"
    }
   ],
   "source": [
    "# Coordinates of studied area boundaries (in °N and °E)\n",
    "lllat = 46.25  #lower left latitude\n",
    "urlat = 51.896  #upper right latitude\n",
    "lllon = -5.842  #lower left longitude\n",
    "urlon = 2  #upper right longitude\n",
    "extent = [lllon, urlon, lllat, urlat]\n",
    "\n",
    "fig=plt.figure(figsize=(9,10))\n",
    "\n",
    "# Select projection\n",
    "ax = plt.axes(projection=ccrs.PlateCarree())\n",
    "\n",
    "#plot the data and the background map (coastlines and borders)\n",
    "img = ax.imshow(data.sel(valid_time=forecast_date)[param], interpolation='none', origin='upper', extent=extent)\n",
    "ax.coastlines(resolution='50m', linewidth=1)\n",
    "ax.add_feature(cfeature.BORDERS.with_scale('50m'))\n",
    "\n",
    "\n",
    "plt.colorbar(img, orientation= 'horizontal').set_label(d.long_name+ ' (in '+d.units+ ')')\n",
    "plt.title(model +\" model - \"+str(forecast_date))\n",
    "plt.show()"
   ]
  },
  {
   "cell_type": "code",
   "execution_count": null,
   "id": "670b3c6c",
   "metadata": {
    "papermill": {
     "duration": 0.024025,
     "end_time": "2021-10-07T08:50:29.640725",
     "exception": false,
     "start_time": "2021-10-07T08:50:29.616700",
     "status": "completed"
    },
    "tags": []
   },
   "outputs": [],
   "source": []
  }
 ],
 "metadata": {
  "kernelspec": {
   "display_name": "Python 3",
   "language": "python",
   "name": "python3"
  },
  "language_info": {
   "codemirror_mode": {
    "name": "ipython",
    "version": 3
   },
   "file_extension": ".py",
   "mimetype": "text/x-python",
   "name": "python",
   "nbconvert_exporter": "python",
   "pygments_lexer": "ipython3",
   "version": "3.7.10"
  },
  "papermill": {
   "default_parameters": {},
   "duration": 13.748829,
   "end_time": "2021-10-07T08:50:31.309301",
   "environment_variables": {},
   "exception": null,
   "input_path": "__notebook__.ipynb",
   "output_path": "__notebook__.ipynb",
   "parameters": {},
   "start_time": "2021-10-07T08:50:17.560472",
   "version": "2.3.3"
  }
 },
 "nbformat": 4,
 "nbformat_minor": 5
}
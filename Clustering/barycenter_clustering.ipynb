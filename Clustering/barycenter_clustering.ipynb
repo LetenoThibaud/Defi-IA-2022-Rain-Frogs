{
 "cells": [
  {
   "cell_type": "code",
   "execution_count": 1,
   "metadata": {
    "collapsed": true
   },
   "outputs": [],
   "source": [
    "import pandas as pd\n",
    "import matplotlib.pyplot as plt\n",
    "import seaborn as sns\n",
    "import itertools\n",
    "from sklearn import decomposition\n",
    "import numpy as np\n",
    "from sklearn.cluster import KMeans\n",
    "from IPython.display import display\n",
    "from sklearn.preprocessing import MinMaxScaler\n",
    "from sklearn.metrics import silhouette_score, calinski_harabasz_score\n",
    "import pickle\n",
    "\n",
    "import seaborn as sns"
   ]
  },
  {
   "cell_type": "code",
   "execution_count": 22,
   "outputs": [],
   "source": [
    "def get_data(path, remove_irrelevant=True):\n",
    "    data = pd.read_csv(path)\n",
    "    if remove_irrelevant:\n",
    "        del data['number_sta']\n",
    "        del data['Id']\n",
    "        # del data['hour']\n",
    "        del data['latitude']\n",
    "        del data['longitude']\n",
    "        del data['height_sta']\n",
    "        del data['ground_truth']\n",
    "    del data['date']\n",
    "    del data['timestamp']\n",
    "    print(data.columns.tolist())\n",
    "    return data\n",
    "\n",
    "def get_data_forecast(path):\n",
    "    data = pd.read_csv(path)\n",
    "    del data['Id']\n",
    "    del data['station_id']\n",
    "    del data['altitude (m)']\n",
    "    del data['latitude']\n",
    "    del data['longitude']\n",
    "    del data['latitude_idx']\n",
    "    del data['longitude_idx']\n",
    "    del data['month_cos']\n",
    "    del data['month_sin']\n",
    "    del data['day']\n",
    "    return data\n",
    "\n",
    "def get_barycenter_per_months(data, normalize = True):\n",
    "    barycenters = pd.DataFrame(columns=data.columns)\n",
    "    col = np.array(data.columns)\n",
    "    col = col[col != 'month']\n",
    "    if normalize :\n",
    "        data[col] = MinMaxScaler().fit_transform(data[col])\n",
    "    for i in range(12):\n",
    "        row = []\n",
    "        for column in barycenters.columns :\n",
    "            if column == 'month':\n",
    "                row.append(i+1)\n",
    "            else :\n",
    "                row.append(data[data['month']==i+1][column].mean())\n",
    "        barycenters.loc[len(barycenters.index)] = row\n",
    "    return  barycenters\n",
    "\n",
    "def eval_clustering(barycenters):\n",
    "    column_except_month_cluster = np.array(barycenters.columns)\n",
    "    column_except_month_cluster = column_except_month_cluster[column_except_month_cluster != 'month']\n",
    "    silhouette_result = []\n",
    "    ch_score_result = []\n",
    "    for k in range(2,12):\n",
    "        kmeans = KMeans(n_clusters=k, random_state=0).fit(barycenters[column_except_month_cluster])\n",
    "        print(k, kmeans.labels_)\n",
    "\n",
    "        barycenters['cluster'] = kmeans.labels_\n",
    "\n",
    "        silhouette = silhouette_score(barycenters[column_except_month_cluster], barycenters['cluster'])\n",
    "        silhouette_result.append(silhouette)\n",
    "        ch_score = calinski_harabasz_score(barycenters[column_except_month_cluster], barycenters['cluster'])\n",
    "        ch_score_result.append(ch_score)\n",
    "\n",
    "    return silhouette_result, ch_score_result\n",
    "\n",
    "def get_normalization_infos(*x_s, columns):\n",
    "    normalization_infos = pd.DataFrame(data=[[1000 for _ in range(len(columns))],[0 for _ in range(len(columns))]],\n",
    "                                       index=[\"min\",\"max\"],\n",
    "                                       columns=columns)\n",
    "    for x in x_s :\n",
    "        for col in columns:\n",
    "            min_value = min(normalization_infos[col][\"min\"], x[col].min())\n",
    "            max_value = max(normalization_infos[col][\"max\"], x[col].max())\n",
    "            normalization_infos[col] = [min_value, max_value]\n",
    "\n",
    "    normalization_infos.loc[\"spread\"] = normalization_infos.apply(lambda c : c[\"max\"] - c[\"min\"], axis=0)\n",
    "\n",
    "    return normalization_infos\n",
    "\n",
    "\n",
    "def normalize(x : pd.DataFrame, normalization_infos : pd.DataFrame):\n",
    "    for col in x.columns:\n",
    "        x[col] = (x[col] - normalization_infos[col][\"min\"])/normalization_infos[col][\"spread\"]\n",
    "    return x"
   ],
   "metadata": {
    "collapsed": false,
    "pycharm": {
     "name": "#%%\n"
    }
   }
  },
  {
   "cell_type": "markdown",
   "source": [
    "# Clustering on dataset with forecasting"
   ],
   "metadata": {
    "collapsed": false,
    "pycharm": {
     "name": "#%% md\n"
    }
   }
  },
  {
   "cell_type": "code",
   "execution_count": 28,
   "outputs": [
    {
     "name": "stdout",
     "output_type": "stream",
     "text": [
      "2 [1 1 1 1 0 0 0 0 0 0 1 1]\n",
      "3 [1 1 1 1 0 2 2 2 2 0 1 1]\n",
      "4 [1 1 1 1 2 0 0 0 0 2 3 3]\n",
      "5 [1 1 3 3 0 2 2 2 2 0 4 4]\n",
      "6 [1 1 4 4 2 5 0 0 5 2 3 3]\n",
      "7 [3 3 2 2 6 0 5 5 0 4 1 1]\n",
      "8 [2 2 4 4 6 0 5 5 0 3 1 7]\n",
      "9 [2 2 8 4 6 0 5 5 0 3 1 7]\n",
      "10 [2 9 8 4 6 0 5 5 0 3 1 7]\n",
      "11 [ 2  9  8  4  6  0  5  5 10  3  1  7]\n"
     ]
    },
    {
     "data": {
      "text/plain": "<AxesSubplot:xlabel='Value of k', ylabel='Silhouette score'>"
     },
     "execution_count": 27,
     "metadata": {},
     "output_type": "execute_result"
    },
    {
     "data": {
      "text/plain": "<Figure size 432x288 with 1 Axes>",
      "image/png": "[encoded data removed]"
     },
     "metadata": {},
     "output_type": "display_data"
    },
    {
     "ename": "KeyboardInterrupt",
     "evalue": "",
     "output_type": "error",
     "traceback": [
      "\u001B[0;31m---------------------------------------------------------------------------\u001B[0m",
      "\u001B[0;31mKeyboardInterrupt\u001B[0m                         Traceback (most recent call last)",
      "\u001B[0;32m/tmp/ipykernel_6853/3630722120.py\u001B[0m in \u001B[0;36m<module>\u001B[0;34m\u001B[0m\n\u001B[1;32m      6\u001B[0m \u001B[0mdata\u001B[0m \u001B[0;34m=\u001B[0m \u001B[0mdata_2016\u001B[0m\u001B[0;34m.\u001B[0m\u001B[0mappend\u001B[0m\u001B[0;34m(\u001B[0m\u001B[0mdata_2017\u001B[0m\u001B[0;34m,\u001B[0m \u001B[0mignore_index\u001B[0m \u001B[0;34m=\u001B[0m \u001B[0;32mTrue\u001B[0m\u001B[0;34m)\u001B[0m\u001B[0;34m\u001B[0m\u001B[0;34m\u001B[0m\u001B[0m\n\u001B[1;32m      7\u001B[0m \u001B[0;34m\u001B[0m\u001B[0m\n\u001B[0;32m----> 8\u001B[0;31m \u001B[0mbarycenters\u001B[0m \u001B[0;34m=\u001B[0m \u001B[0mget_barycenter_per_months\u001B[0m\u001B[0;34m(\u001B[0m\u001B[0mdata\u001B[0m\u001B[0;34m,\u001B[0m \u001B[0;32mTrue\u001B[0m\u001B[0;34m)\u001B[0m\u001B[0;34m\u001B[0m\u001B[0;34m\u001B[0m\u001B[0m\n\u001B[0m\u001B[1;32m      9\u001B[0m \u001B[0;34m\u001B[0m\u001B[0m\n\u001B[1;32m     10\u001B[0m \u001B[0mk_values\u001B[0m \u001B[0;34m=\u001B[0m \u001B[0mnp\u001B[0m\u001B[0;34m.\u001B[0m\u001B[0marange\u001B[0m\u001B[0;34m(\u001B[0m\u001B[0;36m2\u001B[0m\u001B[0;34m,\u001B[0m\u001B[0;36m12\u001B[0m\u001B[0;34m)\u001B[0m\u001B[0;34m\u001B[0m\u001B[0;34m\u001B[0m\u001B[0m\n",
      "\u001B[0;32m/tmp/ipykernel_6853/331923853.py\u001B[0m in \u001B[0;36mget_barycenter_per_months\u001B[0;34m(data, normalize)\u001B[0m\n\u001B[1;32m     40\u001B[0m                 \u001B[0mrow\u001B[0m\u001B[0;34m.\u001B[0m\u001B[0mappend\u001B[0m\u001B[0;34m(\u001B[0m\u001B[0mi\u001B[0m\u001B[0;34m+\u001B[0m\u001B[0;36m1\u001B[0m\u001B[0;34m)\u001B[0m\u001B[0;34m\u001B[0m\u001B[0;34m\u001B[0m\u001B[0m\n\u001B[1;32m     41\u001B[0m             \u001B[0;32melse\u001B[0m \u001B[0;34m:\u001B[0m\u001B[0;34m\u001B[0m\u001B[0;34m\u001B[0m\u001B[0m\n\u001B[0;32m---> 42\u001B[0;31m                 \u001B[0mrow\u001B[0m\u001B[0;34m.\u001B[0m\u001B[0mappend\u001B[0m\u001B[0;34m(\u001B[0m\u001B[0mdata\u001B[0m\u001B[0;34m[\u001B[0m\u001B[0mdata\u001B[0m\u001B[0;34m[\u001B[0m\u001B[0;34m'month'\u001B[0m\u001B[0;34m]\u001B[0m\u001B[0;34m==\u001B[0m\u001B[0mi\u001B[0m\u001B[0;34m+\u001B[0m\u001B[0;36m1\u001B[0m\u001B[0;34m]\u001B[0m\u001B[0;34m[\u001B[0m\u001B[0mcolumn\u001B[0m\u001B[0;34m]\u001B[0m\u001B[0;34m.\u001B[0m\u001B[0mmean\u001B[0m\u001B[0;34m(\u001B[0m\u001B[0;34m)\u001B[0m\u001B[0;34m)\u001B[0m\u001B[0;34m\u001B[0m\u001B[0;34m\u001B[0m\u001B[0m\n\u001B[0m\u001B[1;32m     43\u001B[0m         \u001B[0mbarycenters\u001B[0m\u001B[0;34m.\u001B[0m\u001B[0mloc\u001B[0m\u001B[0;34m[\u001B[0m\u001B[0mlen\u001B[0m\u001B[0;34m(\u001B[0m\u001B[0mbarycenters\u001B[0m\u001B[0;34m.\u001B[0m\u001B[0mindex\u001B[0m\u001B[0;34m)\u001B[0m\u001B[0;34m]\u001B[0m \u001B[0;34m=\u001B[0m \u001B[0mrow\u001B[0m\u001B[0;34m\u001B[0m\u001B[0;34m\u001B[0m\u001B[0m\n\u001B[1;32m     44\u001B[0m     \u001B[0;32mreturn\u001B[0m  \u001B[0mbarycenters\u001B[0m\u001B[0;34m\u001B[0m\u001B[0;34m\u001B[0m\u001B[0m\n",
      "\u001B[0;32m~/.local/lib/python3.8/site-packages/pandas/core/frame.py\u001B[0m in \u001B[0;36m__getitem__\u001B[0;34m(self, key)\u001B[0m\n\u001B[1;32m   3447\u001B[0m         \u001B[0;31m# Do we have a (boolean) 1d indexer?\u001B[0m\u001B[0;34m\u001B[0m\u001B[0;34m\u001B[0m\u001B[0;34m\u001B[0m\u001B[0m\n\u001B[1;32m   3448\u001B[0m         \u001B[0;32mif\u001B[0m \u001B[0mcom\u001B[0m\u001B[0;34m.\u001B[0m\u001B[0mis_bool_indexer\u001B[0m\u001B[0;34m(\u001B[0m\u001B[0mkey\u001B[0m\u001B[0;34m)\u001B[0m\u001B[0;34m:\u001B[0m\u001B[0;34m\u001B[0m\u001B[0;34m\u001B[0m\u001B[0m\n\u001B[0;32m-> 3449\u001B[0;31m             \u001B[0;32mreturn\u001B[0m \u001B[0mself\u001B[0m\u001B[0;34m.\u001B[0m\u001B[0m_getitem_bool_array\u001B[0m\u001B[0;34m(\u001B[0m\u001B[0mkey\u001B[0m\u001B[0;34m)\u001B[0m\u001B[0;34m\u001B[0m\u001B[0;34m\u001B[0m\u001B[0m\n\u001B[0m\u001B[1;32m   3450\u001B[0m \u001B[0;34m\u001B[0m\u001B[0m\n\u001B[1;32m   3451\u001B[0m         \u001B[0;31m# We are left with two options: a single key, and a collection of keys,\u001B[0m\u001B[0;34m\u001B[0m\u001B[0;34m\u001B[0m\u001B[0;34m\u001B[0m\u001B[0m\n",
      "\u001B[0;32m~/.local/lib/python3.8/site-packages/pandas/core/frame.py\u001B[0m in \u001B[0;36m_getitem_bool_array\u001B[0;34m(self, key)\u001B[0m\n\u001B[1;32m   3501\u001B[0m         \u001B[0;31m# be reindexed to match DataFrame rows\u001B[0m\u001B[0;34m\u001B[0m\u001B[0;34m\u001B[0m\u001B[0;34m\u001B[0m\u001B[0m\n\u001B[1;32m   3502\u001B[0m         \u001B[0mkey\u001B[0m \u001B[0;34m=\u001B[0m \u001B[0mcheck_bool_indexer\u001B[0m\u001B[0;34m(\u001B[0m\u001B[0mself\u001B[0m\u001B[0;34m.\u001B[0m\u001B[0mindex\u001B[0m\u001B[0;34m,\u001B[0m \u001B[0mkey\u001B[0m\u001B[0;34m)\u001B[0m\u001B[0;34m\u001B[0m\u001B[0;34m\u001B[0m\u001B[0m\n\u001B[0;32m-> 3503\u001B[0;31m         \u001B[0mindexer\u001B[0m \u001B[0;34m=\u001B[0m \u001B[0mkey\u001B[0m\u001B[0;34m.\u001B[0m\u001B[0mnonzero\u001B[0m\u001B[0;34m(\u001B[0m\u001B[0;34m)\u001B[0m\u001B[0;34m[\u001B[0m\u001B[0;36m0\u001B[0m\u001B[0;34m]\u001B[0m\u001B[0;34m\u001B[0m\u001B[0;34m\u001B[0m\u001B[0m\n\u001B[0m\u001B[1;32m   3504\u001B[0m         \u001B[0;32mreturn\u001B[0m \u001B[0mself\u001B[0m\u001B[0;34m.\u001B[0m\u001B[0m_take_with_is_copy\u001B[0m\u001B[0;34m(\u001B[0m\u001B[0mindexer\u001B[0m\u001B[0;34m,\u001B[0m \u001B[0maxis\u001B[0m\u001B[0;34m=\u001B[0m\u001B[0;36m0\u001B[0m\u001B[0;34m)\u001B[0m\u001B[0;34m\u001B[0m\u001B[0;34m\u001B[0m\u001B[0m\n\u001B[1;32m   3505\u001B[0m \u001B[0;34m\u001B[0m\u001B[0m\n",
      "\u001B[0;31mKeyboardInterrupt\u001B[0m: "
     ]
    }
   ],
   "source": [
    "path_2016 = './preprocessed_data_Defi-IA-2022-Rain-Frogs/X_all_2016_final_by_day.zip'\n",
    "path_2017 = './preprocessed_data_Defi-IA-2022-Rain-Frogs/X_all_2017_final_by_day.zip'\n",
    "\n",
    "data_2016 = get_data_forecast(path_2016)\n",
    "data_2017 = get_data_forecast(path_2017)\n",
    "data = data_2016.append(data_2017, ignore_index = True)\n",
    "\n",
    "barycenters = get_barycenter_per_months(data, True)\n",
    "\n",
    "k_values = np.arange(2,12)\n",
    "silhouette_result, ch_score_result = eval_clustering(barycenters)\n",
    "\n",
    "silhouette_data_to_show = pd.DataFrame({'Value of k' : k_values, 'Silhouette score' : silhouette_result})\n",
    "ch_score_data_to_show = pd.DataFrame({'Value of k' : k_values, 'C-H score' : ch_score_result})\n",
    "\n",
    "sns.set_theme(style=\"whitegrid\")\n",
    "sns.barplot(x=\"Value of k\", y=\"Silhouette score\", data=silhouette_data_to_show)"
   ],
   "metadata": {
    "collapsed": false,
    "pycharm": {
     "name": "#%%\n"
    }
   }
  },
  {
   "cell_type": "markdown",
   "source": [
    "# Clustering on dataset X_station"
   ],
   "metadata": {
    "collapsed": false,
    "pycharm": {
     "name": "#%% md\n"
    }
   }
  },
  {
   "cell_type": "code",
   "execution_count": 26,
   "outputs": [
    {
     "name": "stdout",
     "output_type": "stream",
     "text": [
      "['wind_speed', 'temperature', 'dew_point', 'humidity', 'wind_direction', 'precip', 'month']\n",
      "2 [1 1 1 1 0 0 0 0 0 1 1 1]\n",
      "3 [1 1 1 2 2 0 0 0 0 2 1 1]\n",
      "4 [1 1 2 2 3 0 0 0 0 3 1 1]\n",
      "5 [1 1 3 3 4 2 2 2 4 0 1 1]\n",
      "6 [0 5 3 3 1 4 4 4 1 2 5 0]\n",
      "7 [3 5 1 1 0 6 2 2 6 4 5 3]\n",
      "8 [4 1 3 6 0 5 2 2 5 7 1 4]\n",
      "9 [0 6 3 7 2 4 8 1 4 5 6 0]\n",
      "10 [0 9 6 2 8 1 4 7 1 3 5 0]\n",
      "11 [10  2  9  0  3  6  7  1  6  4  8  5]\n"
     ]
    },
    {
     "data": {
      "text/plain": "<AxesSubplot:xlabel='Value of k', ylabel='Silhouette score'>"
     },
     "execution_count": 26,
     "metadata": {},
     "output_type": "execute_result"
    },
    {
     "data": {
      "text/plain": "<Figure size 432x288 with 1 Axes>",
      "image/png": "[encoded data removed]"
     },
     "metadata": {},
     "output_type": "display_data"
    }
   ],
   "source": [
    "path ='./preprocessed_data_Defi-IA-2022-Rain-Frogs/X_station_coord_2nn_imputed_by_day.csv'\n",
    "data = get_data(path)\n",
    "\n",
    "barycenters = get_barycenter_per_months(data, True)\n",
    "\n",
    "k_values = np.arange(2,12)\n",
    "silhouette_result, ch_score_result = eval_clustering(barycenters)\n",
    "\n",
    "silhouette_data_to_show = pd.DataFrame({'Value of k' : k_values, 'Silhouette score' : silhouette_result})\n",
    "ch_score_data_to_show = pd.DataFrame({'Value of k' : k_values, 'C-H score' : ch_score_result})\n",
    "\n",
    "sns.set_theme(style=\"whitegrid\")\n",
    "sns.barplot(x=\"Value of k\", y=\"Silhouette score\", data=silhouette_data_to_show)"
   ],
   "metadata": {
    "collapsed": false,
    "pycharm": {
     "name": "#%%\n"
    }
   }
  },
  {
   "cell_type": "markdown",
   "source": [
    "**Petit dataset**\n",
    "- Avec normalisation\n",
    "Cluster 1 : Janvier Mars Avril\n",
    "Cluster 2 : Février Novembre Décembre\n",
    "Cluster 3 : Mai Août Octobre\n",
    "Cluster 4 : Juin Juillet Septembre\n",
    "```{1: 0, 2: 3, 3: 0, 4: 0, 5: 2, 6: 1, 7: 1, 8: 2, 9: 1, 10: 2, 11: 3, 12: 3}```\n",
    "\n",
    "- Sans normalisation\n",
    "Cluster 1 : Janvier Février Mars Avril Mai Octobre Novembre Décembre\n",
    "Cluster 2 : Juin Juillet Août Septembre\n",
    "```{1: 1, 2: 1, 3: 1, 4: 1, 5: 1, 6: 0, 7: 0, 8: 0, 9: 0, 10: 1, 11: 1, 12: 1}```\n",
    "\n",
    "**Gros dataset**\n",
    "- Sans normalisation\n",
    "Cluster 1 : Janvier Février Mars Novembre\n",
    "Cluster 2 : Avril\n",
    "Cluster 3 : Mai Juin Juillet Août Septembre Octobre Décembre\n",
    "```{1: 2, 2: 2, 3: 2, 4: 1, 5: 0, 6: 0, 7: 0, 8: 0, 9: 0, 10: 0, 11: 2, 12: 0}```\n",
    "\n",
    "- Avec normalisation\n",
    "Cluster 1 : Janvier Février Mars Avril Novembre Décembre\n",
    "Cluster 2 : Mai Juin Juillet Août Septembre Octobre\n",
    "```{1: 1, 2: 1, 3: 1, 4: 1, 5: 0, 6: 0, 7: 0, 8: 0, 9: 0, 10: 0, 11: 1, 12: 1}```\n"
   ],
   "metadata": {
    "collapsed": false,
    "pycharm": {
     "name": "#%% md\n"
    }
   }
  }
 ],
 "metadata": {
  "kernelspec": {
   "display_name": "Python 3",
   "language": "python",
   "name": "python3"
  },
  "language_info": {
   "codemirror_mode": {
    "name": "ipython",
    "version": 2
   },
   "file_extension": ".py",
   "mimetype": "text/x-python",
   "name": "python",
   "nbconvert_exporter": "python",
   "pygments_lexer": "ipython2",
   "version": "2.7.6"
  }
 },
 "nbformat": 4,
 "nbformat_minor": 0
}
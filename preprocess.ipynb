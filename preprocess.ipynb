{
 "cells": [
  {
   "cell_type": "code",
   "execution_count": 4,
   "metadata": {
    "collapsed": true
   },
   "outputs": [],
   "source": [
    "#! /usr/bin/env python3\n",
    "\n",
    "import imports\n",
    "\n",
    "warnings.filterwarnings(\"ignore\")\n",
    "ic.configureOutput(includeContext=True)\n",
    "\n",
    "\n",
    "def get_data_train(path):\n",
    "    ## import data\n",
    "    df = pd.read_csv(path, parse_dates=['date'], infer_datetime_format=True)\n",
    "\n",
    "    # sort data\n",
    "    df = df.sort_values(by=[\"number_sta\", \"date\"])\n",
    "\n",
    "    # set number_sta as category\n",
    "    df[\"number_sta\"] = df[\"number_sta\"].astype(\"category\")\n",
    "\n",
    "    return df\n",
    "\n",
    "\n",
    "def get_data_test(path):\n",
    "    ## import data\n",
    "    df = pd.read_csv(path)\n",
    "    return df\n",
    "\n",
    "\n",
    "def get_observations(x, displ=False):\n",
    "    ## shift X\n",
    "    # get the observation baseline\n",
    "    obs = x[{\"number_sta\", \"date\", \"precip\"}]\n",
    "    # obs.set_index('date', inplace=True)\n",
    "\n",
    "    # if any NaN on the day, then the value is NaN (24 values per day)\n",
    "    # obs = obs.groupby('number_sta').resample('D')#.agg(pd.Series.sum, min_count = 24)\n",
    "    obs['date'] = obs['date'].astype('category')\n",
    "    obs['number_sta'] = obs['number_sta'].astype('category')\n",
    "    obs['baseline_obs'] = obs.groupby(['number_sta'])['precip'].shift(1)\n",
    "\n",
    "    obs = obs.sort_values(by=[\"number_sta\", \"date\"])\n",
    "    del obs['precip']\n",
    "    obs = obs.rename(columns={'baseline_obs': 'precip'})\n",
    "    # obs_new = obs.reset_index()\n",
    "\n",
    "    if displ:\n",
    "        display(obs)\n",
    "\n",
    "    return obs"
   ]
  },
  {
   "cell_type": "code",
   "execution_count": 8,
   "outputs": [],
   "source": [
    "def preprocess_merge_x_y(x, y=None, sort=True, data_type=\"train\", verbose=False, save_path=False):\n",
    "    t_total = time.time()\n",
    "    #acquire data from file if input is a file path\n",
    "    if type(x) == str:\n",
    "        t = time.time()\n",
    "        if verbose: print(\"type x is str, try to retrieve from path\")\n",
    "        # differentiate x_train from x_test\n",
    "        x = get_data_train(path=x) if data_type == \"train\" else get_data_test(path=x)\n",
    "        if verbose: print(f\"elapsed : {time.time() - t:.2f}s ; total : {time.time() - t_total:.2f}s\")\n",
    "    if type(y) == str:\n",
    "        t = time.time()\n",
    "        if verbose: print(\"type y is str, try to retrieve from path\")\n",
    "        # differentiate y_train from y_test\n",
    "        y = get_data_train(path=y) if data_type == \"train\" else get_data_test(path=y)\n",
    "        if verbose: print(f\"elapsed : {time.time() - t:.2f}s ; total : {time.time() - t_total:.2f}s\")\n",
    "\n",
    "    #preprocess x\n",
    "    t = time.time()\n",
    "    if verbose: print(\"\\npreprocess x...\")\n",
    "    if verbose: print(\"\\tprocess Id\")\n",
    "    x[\"Id\"] = x[\"Id\"].apply(lambda id: \"_\".join(id.split(\"_\")[:2]))\n",
    "    #only proceed if number_sta is in columns, i.e. if x_train supposedly\n",
    "    if \"number_sta\" not in x.columns :\n",
    "        x[\"number_sta\"] = x[\"Id\"].apply(lambda id : int(id.split(\"_\")[0]))\n",
    "    if verbose: print(\"\\tset astype category\")\n",
    "    x[\"Id\"]         = x[\"Id\"].astype(\"category\")\n",
    "    x[\"number_sta\"] = x[\"number_sta\"].astype(\"category\")\n",
    "    if \"month\" in x.columns :\n",
    "        x[\"month\"]  = x[\"month\"].astype(\"category\")\n",
    "    #only proceed if date is in columns, i.e. if x_train supposedly\n",
    "    if \"date\" in x.columns :\n",
    "        if verbose: print(\"\\tdrop date\")\n",
    "        x = x.drop(\"date\", axis=1)\n",
    "    if verbose: print(\"\\taggregate\")\n",
    "    x = x.drop(\"number_sta\", axis=1).groupby(\"Id\").agg(pd.Series.sum)\n",
    "    if verbose: print(f\"elapsed : {time.time() - t:.2f}s ; total : {time.time() - t_total:.2f}s\")\n",
    "\n",
    "    #preprocess y\n",
    "    if type(y) != type(None):\n",
    "        t = time.time()\n",
    "        if verbose: print(\"\\npreprocess y\")\n",
    "        if verbose: print(\"\\tset astype category\")\n",
    "        y[\"number_sta\"] = y[\"number_sta\"].astype(\"category\")\n",
    "        y[\"Id\"] = y[\"Id\"].astype(\"category\")\n",
    "        #only proceed if date is in columns, i.e. if y_train supposedly\n",
    "        if \"date\" in y.columns :\n",
    "            if verbose: print(\"\\tdrop date\")\n",
    "            y = y.drop(\"date\", axis=1)\n",
    "        if verbose: print(f\"elapsed : {time.time() - t:.2f}s ; total : {time.time() - t_total:.2f}s\")\n",
    "\n",
    "        #merge x and y\n",
    "        t = time.time()\n",
    "        if verbose: print(\"merge x and y\")\n",
    "        x = x.merge(y, how=\"left\", on=\"Id\")\n",
    "        # we should get x and y with the same number of columns, else push warning.\n",
    "        if len(x) != len(y):\n",
    "            if verbose: print(\"DimensionWarning : len(x) != len(y) : {} != {}\".format(len(x), len(y)))\n",
    "        if verbose: print(f\"elapsed : {time.time() - t:.2f}s ; total : {time.time() - t_total:.2f}s\")\n",
    "    else :\n",
    "        x = x.reset_index()\n",
    "\n",
    "    #get day\n",
    "    t = time.time()\n",
    "    if verbose: print(\"\\nget day\")\n",
    "    x[\"day\"] = x[\"Id\"].apply(lambda id: int(id.split(\"_\")[1]))\n",
    "    if verbose: print(f\"elapsed : {time.time() - t:.2f}s ; total : {time.time() - t_total:.2f}s\")\n",
    "\n",
    "    if \"number_sta\" not in x.columns :\n",
    "        x[\"number_sta\"] = x[\"Id\"].apply(lambda id : int(id.split(\"_\")[0]))\n",
    "\n",
    "    #sort\n",
    "    if sort:\n",
    "        t = time.time()\n",
    "        if verbose: print(\"sorting by number_sta then day\")\n",
    "        x.sort_values([\"number_sta\", \"day\"], inplace=True)\n",
    "        if verbose: print(f\"elapsed : {time.time() - t:.2f}s ; total : {time.time() - t_total:.2f}s\")\n",
    "\n",
    "    if verbose: print(f\"total time elapsed : {time.time() - t_total:.2f}s\")\n",
    "\n",
    "    #save in file\n",
    "    if save_path:\n",
    "        if not os.path.exists(\"/\".join(save_path.split(\"/\")[:-1])):\n",
    "            os.mkdir(\"/\".join(save_path.split(\"/\")[:-1]))\n",
    "        #if verbose : print(f\"\\nfile saved as '{save_path}'\")\n",
    "        #x.to_csv(save_path)\n",
    "    return x"
   ],
   "metadata": {
    "collapsed": false,
    "pycharm": {
     "name": "#%%\n"
    }
   }
  },
  {
   "cell_type": "code",
   "execution_count": 9,
   "outputs": [],
   "source": [
    "x_train = preprocess_merge_x_y(x = '../Train/Train/X_station_train.csv',\n",
    "                               y = '../Train/Train/Y_train.csv',\n",
    "                               sort      = True,\n",
    "                               data_type = \"train\",\n",
    "                               verbose   = False,\n",
    "                               save_path = \"../preprocessed/aggregated/X_station.csv\")"
   ],
   "metadata": {
    "collapsed": false,
    "pycharm": {
     "name": "#%%\n"
    }
   }
  },
  {
   "cell_type": "code",
   "execution_count": 7,
   "outputs": [],
   "source": [
    "x_test = preprocess_merge_x_y(x = \"../Test/Test/X_station_test.csv\",\n",
    "                              data_type = \"test\",\n",
    "                              verbose   = False,\n",
    "                              save_path = \"../preprocessed/aggregated/X_test.csv\")"
   ],
   "metadata": {
    "collapsed": false,
    "pycharm": {
     "name": "#%%\n"
    }
   }
  },
  {
   "cell_type": "code",
   "execution_count": 7,
   "outputs": [],
   "source": [],
   "metadata": {
    "collapsed": false,
    "pycharm": {
     "name": "#%%\n"
    }
   }
  },
  {
   "cell_type": "code",
   "execution_count": 7,
   "outputs": [],
   "source": [],
   "metadata": {
    "collapsed": false,
    "pycharm": {
     "name": "#%%\n"
    }
   }
  },
  {
   "cell_type": "code",
   "execution_count": 7,
   "outputs": [],
   "source": [],
   "metadata": {
    "collapsed": false,
    "pycharm": {
     "name": "#%%\n"
    }
   }
  },
  {
   "cell_type": "code",
   "execution_count": 7,
   "outputs": [],
   "source": [],
   "metadata": {
    "collapsed": false,
    "pycharm": {
     "name": "#%%\n"
    }
   }
  },
  {
   "cell_type": "code",
   "execution_count": 7,
   "outputs": [],
   "source": [],
   "metadata": {
    "collapsed": false,
    "pycharm": {
     "name": "#%%\n"
    }
   }
  },
  {
   "cell_type": "code",
   "execution_count": 7,
   "outputs": [],
   "source": [],
   "metadata": {
    "collapsed": false,
    "pycharm": {
     "name": "#%%\n"
    }
   }
  },
  {
   "cell_type": "code",
   "execution_count": 7,
   "outputs": [],
   "source": [],
   "metadata": {
    "collapsed": false,
    "pycharm": {
     "name": "#%%\n"
    }
   }
  },
  {
   "cell_type": "code",
   "execution_count": 7,
   "outputs": [],
   "source": [],
   "metadata": {
    "collapsed": false,
    "pycharm": {
     "name": "#%%\n"
    }
   }
  },
  {
   "cell_type": "code",
   "execution_count": 7,
   "outputs": [],
   "source": [],
   "metadata": {
    "collapsed": false,
    "pycharm": {
     "name": "#%%\n"
    }
   }
  },
  {
   "cell_type": "code",
   "execution_count": 7,
   "outputs": [],
   "source": [],
   "metadata": {
    "collapsed": false,
    "pycharm": {
     "name": "#%%\n"
    }
   }
  },
  {
   "cell_type": "code",
   "execution_count": 7,
   "outputs": [],
   "source": [],
   "metadata": {
    "collapsed": false,
    "pycharm": {
     "name": "#%%\n"
    }
   }
  },
  {
   "cell_type": "code",
   "execution_count": 7,
   "outputs": [],
   "source": [],
   "metadata": {
    "collapsed": false,
    "pycharm": {
     "name": "#%%\n"
    }
   }
  },
  {
   "cell_type": "code",
   "execution_count": 7,
   "outputs": [],
   "source": [],
   "metadata": {
    "collapsed": false,
    "pycharm": {
     "name": "#%%\n"
    }
   }
  },
  {
   "cell_type": "code",
   "execution_count": 7,
   "outputs": [],
   "source": [],
   "metadata": {
    "collapsed": false,
    "pycharm": {
     "name": "#%%\n"
    }
   }
  },
  {
   "cell_type": "code",
   "execution_count": 7,
   "outputs": [],
   "source": [],
   "metadata": {
    "collapsed": false,
    "pycharm": {
     "name": "#%%\n"
    }
   }
  },
  {
   "cell_type": "code",
   "execution_count": 7,
   "outputs": [],
   "source": [],
   "metadata": {
    "collapsed": false,
    "pycharm": {
     "name": "#%%\n"
    }
   }
  },
  {
   "cell_type": "code",
   "execution_count": 7,
   "outputs": [],
   "source": [],
   "metadata": {
    "collapsed": false,
    "pycharm": {
     "name": "#%%\n"
    }
   }
  },
  {
   "cell_type": "code",
   "execution_count": 7,
   "outputs": [],
   "source": [],
   "metadata": {
    "collapsed": false,
    "pycharm": {
     "name": "#%%\n"
    }
   }
  },
  {
   "cell_type": "code",
   "execution_count": 7,
   "outputs": [],
   "source": [],
   "metadata": {
    "collapsed": false,
    "pycharm": {
     "name": "#%%\n"
    }
   }
  },
  {
   "cell_type": "code",
   "execution_count": 7,
   "outputs": [],
   "source": [],
   "metadata": {
    "collapsed": false,
    "pycharm": {
     "name": "#%%\n"
    }
   }
  },
  {
   "cell_type": "code",
   "execution_count": 7,
   "outputs": [],
   "source": [],
   "metadata": {
    "collapsed": false,
    "pycharm": {
     "name": "#%%\n"
    }
   }
  },
  {
   "cell_type": "code",
   "execution_count": 7,
   "outputs": [],
   "source": [],
   "metadata": {
    "collapsed": false,
    "pycharm": {
     "name": "#%%\n"
    }
   }
  },
  {
   "cell_type": "code",
   "execution_count": 7,
   "outputs": [],
   "source": [],
   "metadata": {
    "collapsed": false,
    "pycharm": {
     "name": "#%%\n"
    }
   }
  },
  {
   "cell_type": "code",
   "execution_count": 7,
   "outputs": [],
   "source": [],
   "metadata": {
    "collapsed": false,
    "pycharm": {
     "name": "#%%\n"
    }
   }
  },
  {
   "cell_type": "code",
   "execution_count": 7,
   "outputs": [],
   "source": [],
   "metadata": {
    "collapsed": false,
    "pycharm": {
     "name": "#%%\n"
    }
   }
  },
  {
   "cell_type": "code",
   "execution_count": 7,
   "outputs": [],
   "source": [],
   "metadata": {
    "collapsed": false,
    "pycharm": {
     "name": "#%%\n"
    }
   }
  },
  {
   "cell_type": "code",
   "execution_count": 7,
   "outputs": [],
   "source": [],
   "metadata": {
    "collapsed": false,
    "pycharm": {
     "name": "#%%\n"
    }
   }
  }
 ],
 "metadata": {
  "kernelspec": {
   "display_name": "Python 3",
   "language": "python",
   "name": "python3"
  },
  "language_info": {
   "codemirror_mode": {
    "name": "ipython",
    "version": 2
   },
   "file_extension": ".py",
   "mimetype": "text/x-python",
   "name": "python",
   "nbconvert_exporter": "python",
   "pygments_lexer": "ipython2",
   "version": "2.7.6"
  }
 },
 "nbformat": 4,
 "nbformat_minor": 0
}
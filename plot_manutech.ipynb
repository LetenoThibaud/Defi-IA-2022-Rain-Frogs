{
 "cells": [
  {
   "cell_type": "code",
   "execution_count": 1,
   "outputs": [],
   "source": [
    "import numpy as np"
   ],
   "metadata": {
    "collapsed": false,
    "pycharm": {
     "name": "#%%\n"
    }
   }
  },
  {
   "cell_type": "code",
   "execution_count": 2,
   "outputs": [],
   "source": [
    "import pandas as pd\n",
    "\n",
    "def get_normalization_infos(*x_s, columns):\n",
    "    normalization_infos = pd.DataFrame(data=[[1000 for _ in range(len(columns))],[0 for _ in range(len(columns))]],\n",
    "                                       index=[\"min\",\"max\"],\n",
    "                                       columns=columns)\n",
    "    for x in x_s :\n",
    "        for col in columns:\n",
    "            min_value = min(normalization_infos[col][\"min\"], x[col].min())\n",
    "            max_value = max(normalization_infos[col][\"max\"], x[col].max())\n",
    "            normalization_infos[col] = [min_value, max_value]\n",
    "\n",
    "    normalization_infos.loc[\"spread\"] = normalization_infos.apply(lambda c : c[\"max\"] - c[\"min\"], axis=0)\n",
    "\n",
    "    return normalization_infos\n",
    "\n",
    "\n",
    "def normalize(x : pd.DataFrame, normalization_infos : pd.DataFrame):\n",
    "    for col in x.columns:\n",
    "        x[col] = (x[col] - normalization_infos[col][\"min\"])/normalization_infos[col][\"spread\"]\n",
    "    return x\n",
    "\n",
    "cols_to_drop = {\"day\",\"Id\", \"station_id\",\"longitude_idx\",\"latitude_idx\", \"next hour precipitation (kg/m^2)\", \"wind_direction (deg)\"}\n",
    "\n",
    "df_2016 = pd.read_csv(\"../preprocessed_data_Defi-IA-2022-Rain-Frogs/X_all_2016_final_by_day.zip\")\n",
    "df_2017 = pd.read_csv(\"../preprocessed_data_Defi-IA-2022-Rain-Frogs/X_all_2017_final_by_day.zip\")\n",
    "x_train = pd.concat([df_2016, df_2017], axis=0)\n",
    "\n",
    "del df_2017\n",
    "del df_2016\n",
    "\n",
    "x_train[\"raining\"] = x_train[\"ground_truth\"].apply(lambda x : 0 if (x==0) else 1)\n",
    "#drop unnecessary columns\n",
    "x_train.drop(list(set(x_train.columns)&cols_to_drop), axis=1, inplace=True)\n",
    "\n",
    "x_train = x_train[['raining', 'ground_truth', 'month']]\n",
    "\n",
    "# {1: 0, 2: 3, 3: 0, 4: 0, 5: 2, 6: 1, 7: 1, 8: 2, 9: 1, 10: 2, 11: 3, 12: 3}\n",
    "\n",
    "# [1 1 1 1 0 2 2 2 2 0 1 1]\n",
    "\n",
    "\"\"\"1, 3, 4, 6, 7, 9\n",
    "[5, 8, 10]\n",
    "[2, 11, 11]\n",
    "\n",
    "Cluster 1 : January, February, March, April, November, December\n",
    "Cluster 2 : May, October\n",
    "Cluster 3 : June, July, August, September\"\"\"\n",
    "\n",
    "cluster1 = x_train[x_train['month'].isin([1, 2, 3, 4, 11, 12])]\n",
    "cluster2 = x_train[x_train['month'].isin([5, 10])]\n",
    "cluster3 = x_train[x_train['month'].isin([6, 7, 8, 9])]"
   ],
   "metadata": {
    "collapsed": false,
    "pycharm": {
     "name": "#%%\n"
    }
   }
  },
  {
   "cell_type": "code",
   "execution_count": 21,
   "outputs": [
    {
     "data": {
      "text/plain": "<Figure size 720x720 with 3 Axes>",
      "image/png": "[encoded data removed]"
     },
     "metadata": {
      "needs_background": "light"
     },
     "output_type": "display_data"
    }
   ],
   "source": [
    "\n",
    "import matplotlib.pyplot as plt\n",
    "\n",
    "fig = plt.figure(figsize=(10,10))\n",
    "\n",
    "ax1 = fig.add_subplot(2, 2, 1)\n",
    "ax2 = fig.add_subplot(2, 2, 2, sharey=ax1)\n",
    "ax3 = fig.add_subplot(2, 2, 3, sharey=ax1)\n",
    "\n",
    "ax1.hist(c1[\"ground_truth\"], bins=100)\n",
    "ax1.set_title(\"Cluster 1\")\n",
    "ax1.set_xlim([0,2])\n",
    "ax1.set_xlabel(\"rain (kg/m^2\")\n",
    "ax1.set_ylabel(\"number of days\")\n",
    "\n",
    "ax2.hist(c2[\"ground_truth\"], bins=100)\n",
    "ax2.set_xlim([0,2])\n",
    "ax2.set_title(\"Cluster 2\")\n",
    "ax2.set_xlabel(\"rain (kg/m^2\")\n",
    "# ax2.set_ylabel(\"number of days\")\n",
    "\n",
    "ax3.hist(c3[\"ground_truth\"], bins=100)\n",
    "ax3.set_xlim([0,2])\n",
    "ax3.set_title(\"Cluster 3\")\n",
    "ax3.set_xlabel(\"rain (kg/m^2\")\n",
    "ax3.set_ylabel(\"number of days\")\n",
    "\n",
    "plt.show()"
   ],
   "metadata": {
    "collapsed": false,
    "pycharm": {
     "name": "#%%\n"
    }
   }
  },
  {
   "cell_type": "code",
   "execution_count": 17,
   "outputs": [],
   "source": [
    "import seaborn as sns"
   ],
   "metadata": {
    "collapsed": false,
    "pycharm": {
     "name": "#%%\n"
    }
   }
  },
  {
   "cell_type": "code",
   "execution_count": 4,
   "outputs": [],
   "source": [
    "colors = [\"\"]\n",
    "\n",
    "c1 = cluster1[cluster1[\"ground_truth\"]!=0]\n",
    "#c1[\"color\"] = c1[\"month\"].apply(lambda x : sns.color_palette(\"Paired\")[x-1])\n",
    "c2 = cluster2[cluster2[\"ground_truth\"]!=0]\n",
    "#c2[\"color\"] = c2[\"month\"].apply(lambda x : sns.color_palette(\"Paired\")[x-1])\n",
    "c3 = cluster3[cluster3[\"ground_truth\"]!=0]\n",
    "#c3[\"color\"] = c3[\"month\"].apply(lambda x : sns.color_palette(\"Paired\")[x-1])"
   ],
   "metadata": {
    "collapsed": false,
    "pycharm": {
     "name": "#%%\n"
    }
   }
  },
  {
   "cell_type": "code",
   "execution_count": 5,
   "outputs": [
    {
     "data": {
      "text/plain": "   raining  ground_truth  month\n1        1      0.150000      1\n2        1      0.029167      4\n3        1      0.195833      4\n4        1      0.141667      4\n5        1      0.008333      4",
      "text/html": "<div>\n<style scoped>\n    .dataframe tbody tr th:only-of-type {\n        vertical-align: middle;\n    }\n\n    .dataframe tbody tr th {\n        vertical-align: top;\n    }\n\n    .dataframe thead th {\n        text-align: right;\n    }\n</style>\n<table border=\"1\" class=\"dataframe\">\n  <thead>\n    <tr style=\"text-align: right;\">\n      <th></th>\n      <th>raining</th>\n      <th>ground_truth</th>\n      <th>month</th>\n    </tr>\n  </thead>\n  <tbody>\n    <tr>\n      <th>1</th>\n      <td>1</td>\n      <td>0.150000</td>\n      <td>1</td>\n    </tr>\n    <tr>\n      <th>2</th>\n      <td>1</td>\n      <td>0.029167</td>\n      <td>4</td>\n    </tr>\n    <tr>\n      <th>3</th>\n      <td>1</td>\n      <td>0.195833</td>\n      <td>4</td>\n    </tr>\n    <tr>\n      <th>4</th>\n      <td>1</td>\n      <td>0.141667</td>\n      <td>4</td>\n    </tr>\n    <tr>\n      <th>5</th>\n      <td>1</td>\n      <td>0.008333</td>\n      <td>4</td>\n    </tr>\n  </tbody>\n</table>\n</div>"
     },
     "execution_count": 5,
     "metadata": {},
     "output_type": "execute_result"
    }
   ],
   "source": [
    "c1.head()"
   ],
   "metadata": {
    "collapsed": false,
    "pycharm": {
     "name": "#%%\n"
    }
   }
  },
  {
   "cell_type": "code",
   "execution_count": 6,
   "outputs": [
    {
     "ename": "NameError",
     "evalue": "name 'sns' is not defined",
     "output_type": "error",
     "traceback": [
      "\u001B[0;31m---------------------------------------------------------------------------\u001B[0m",
      "\u001B[0;31mNameError\u001B[0m                                 Traceback (most recent call last)",
      "\u001B[0;32m/tmp/ipykernel_389519/2856941482.py\u001B[0m in \u001B[0;36m<module>\u001B[0;34m\u001B[0m\n\u001B[1;32m      1\u001B[0m \u001B[0mplt\u001B[0m\u001B[0;34m.\u001B[0m\u001B[0mfigure\u001B[0m\u001B[0;34m(\u001B[0m\u001B[0mfigsize\u001B[0m\u001B[0;34m=\u001B[0m\u001B[0;34m(\u001B[0m\u001B[0;36m10\u001B[0m\u001B[0;34m,\u001B[0m\u001B[0;36m10\u001B[0m\u001B[0;34m)\u001B[0m\u001B[0;34m)\u001B[0m\u001B[0;34m\u001B[0m\u001B[0;34m\u001B[0m\u001B[0m\n\u001B[1;32m      2\u001B[0m \u001B[0mplt\u001B[0m\u001B[0;34m.\u001B[0m\u001B[0msubplot\u001B[0m\u001B[0;34m(\u001B[0m\u001B[0;36m2\u001B[0m\u001B[0;34m,\u001B[0m\u001B[0;36m2\u001B[0m\u001B[0;34m,\u001B[0m\u001B[0;36m1\u001B[0m\u001B[0;34m)\u001B[0m\u001B[0;34m\u001B[0m\u001B[0;34m\u001B[0m\u001B[0m\n\u001B[0;32m----> 3\u001B[0;31m \u001B[0msns\u001B[0m\u001B[0;34m.\u001B[0m\u001B[0mhistplot\u001B[0m\u001B[0;34m(\u001B[0m\u001B[0mdata\u001B[0m\u001B[0;34m=\u001B[0m\u001B[0mc1\u001B[0m\u001B[0;34m[\u001B[0m\u001B[0;34m\"ground_truth\"\u001B[0m\u001B[0;34m]\u001B[0m\u001B[0;34m,\u001B[0m \u001B[0mcolor\u001B[0m\u001B[0;34m=\u001B[0m\u001B[0mc1\u001B[0m\u001B[0;34m[\u001B[0m\u001B[0;34m\"color\"\u001B[0m\u001B[0;34m]\u001B[0m\u001B[0;34m.\u001B[0m\u001B[0mvalues\u001B[0m\u001B[0;34m,\u001B[0m \u001B[0mbins\u001B[0m\u001B[0;34m=\u001B[0m\u001B[0;36m100\u001B[0m\u001B[0;34m)\u001B[0m\u001B[0;34m\u001B[0m\u001B[0;34m\u001B[0m\u001B[0m\n\u001B[0m\u001B[1;32m      4\u001B[0m \u001B[0;34m\u001B[0m\u001B[0m\n\u001B[1;32m      5\u001B[0m \u001B[0mplt\u001B[0m\u001B[0;34m.\u001B[0m\u001B[0mshow\u001B[0m\u001B[0;34m(\u001B[0m\u001B[0;34m)\u001B[0m\u001B[0;34m\u001B[0m\u001B[0;34m\u001B[0m\u001B[0m\n",
      "\u001B[0;31mNameError\u001B[0m: name 'sns' is not defined"
     ]
    },
    {
     "data": {
      "text/plain": "<Figure size 720x720 with 1 Axes>",
      "image/png": "[encoded data removed]"
     },
     "metadata": {
      "needs_background": "light"
     },
     "output_type": "display_data"
    }
   ],
   "source": [
    "plt.figure(figsize=(10,10))\n",
    "plt.subplot(2,2,1)\n",
    "sns.histplot(data=c1[\"ground_truth\"], color=c1[\"color\"].values, bins=100)\n",
    "\n",
    "plt.show()"
   ],
   "metadata": {
    "collapsed": false,
    "pycharm": {
     "name": "#%%\n"
    }
   }
  },
  {
   "cell_type": "code",
   "execution_count": 38,
   "outputs": [],
   "source": [
    "def hist_to_line(cluster):\n",
    "    count = np.zeros(shape=(100))\n",
    "    for i in range(len(cluster)) :\n",
    "        index = int(cluster[\"ground_truth\"].values[i]*25)\n",
    "        count[index] += 1\n",
    "    return count"
   ],
   "metadata": {
    "collapsed": false,
    "pycharm": {
     "name": "#%%\n"
    }
   }
  },
  {
   "cell_type": "code",
   "execution_count": 39,
   "outputs": [],
   "source": [
    "c1_count = hist_to_line(c1)\n",
    "c2_count = hist_to_line(c2)\n",
    "c3_count = hist_to_line(c3)"
   ],
   "metadata": {
    "collapsed": false,
    "pycharm": {
     "name": "#%%\n"
    }
   }
  },
  {
   "cell_type": "code",
   "execution_count": 45,
   "outputs": [
    {
     "data": {
      "text/plain": "<Figure size 720x720 with 3 Axes>",
      "image/png": "[encoded data removed]"
     },
     "metadata": {
      "needs_background": "light"
     },
     "output_type": "display_data"
    }
   ],
   "source": [
    "plt.figure(figsize=(10,10))\n",
    "plt.subplot(2,2,1)\n",
    "plt.title(\"Cluster 1\")\n",
    "plt.ylabel(\"days count\")\n",
    "plt.xlabel(\"rain (kg/m^2)\")\n",
    "sns.barplot(x=np.arange(100),y=c1_count)\n",
    "plt.xticks(ticks=[0,10,20,30,40,50,60,70,80,90], labels=np.round(np.linspace(0,100,10)/25,1))\n",
    "plt.xlim([0,50])\n",
    "plt.ylim([2,10000])\n",
    "\n",
    "plt.subplot(2,2,2)\n",
    "plt.title(\"Cluster 2\")\n",
    "plt.ylabel(\"days count\")\n",
    "plt.xlabel(\"rain (kg/m^2)\")\n",
    "sns.barplot(x=np.arange(100),y=c2_count)\n",
    "plt.xticks(ticks=[0,10,20,30,40,50,60,70,80,90], labels=np.round(np.linspace(0,100,10)/25,1))\n",
    "plt.xlim([0,50])\n",
    "plt.ylim([2,10000])\n",
    "\n",
    "plt.subplot(2,2,3)\n",
    "plt.title(\"Cluster 2\")\n",
    "plt.ylabel(\"days count\")\n",
    "plt.xlabel(\"rain (kg/m^2)\")\n",
    "sns.barplot(x=np.arange(100),y=c2_count)\n",
    "plt.xticks(ticks=[0,10,20,30,40,50,60,70,80,90], labels=np.round(np.linspace(0,100,10)/25,1))\n",
    "plt.xlim([0,50])\n",
    "plt.ylim([2,10000])\n",
    "plt.show()"
   ],
   "metadata": {
    "collapsed": false,
    "pycharm": {
     "name": "#%%\n"
    }
   }
  },
  {
   "cell_type": "code",
   "execution_count": null,
   "outputs": [],
   "source": [
    "plt."
   ],
   "metadata": {
    "collapsed": false,
    "pycharm": {
     "name": "#%%\n"
    }
   }
  }
 ],
 "metadata": {
  "kernelspec": {
   "display_name": "Python 3",
   "language": "python",
   "name": "python3"
  },
  "language_info": {
   "codemirror_mode": {
    "name": "ipython",
    "version": 2
   },
   "file_extension": ".py",
   "mimetype": "text/x-python",
   "name": "python",
   "nbconvert_exporter": "python",
   "pygments_lexer": "ipython2",
   "version": "2.7.6"
  }
 },
 "nbformat": 4,
 "nbformat_minor": 0
}
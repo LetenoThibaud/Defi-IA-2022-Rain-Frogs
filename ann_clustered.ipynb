{
 "cells": [
  {
   "cell_type": "code",
   "execution_count": 1,
   "outputs": [],
   "source": [
    "from pprint import pprint\n",
    "import os\n",
    "import numpy as np\n",
    "import pandas as pd\n",
    "import tensorflow as tf\n",
    "from tensorflow.keras import Model\n",
    "from tensorflow.keras import Sequential, activations\n",
    "from tensorflow.keras.optimizers import Adam\n",
    "from sklearn.preprocessing import StandardScaler\n",
    "from tensorflow.keras.layers import Dense, Dropout, Conv1D\n",
    "from sklearn.model_selection import train_test_split\n",
    "from tensorflow.keras.losses import MeanSquaredLogarithmicError, MeanSquaredError\n",
    "\n",
    "import matplotlib.pyplot as plt\n",
    "import seaborn as sns"
   ],
   "metadata": {
    "collapsed": false,
    "pycharm": {
     "name": "#%%\n"
    }
   }
  },
  {
   "cell_type": "code",
   "execution_count": 2,
   "outputs": [],
   "source": [
    "os.environ['CUDA_VISIBLE_DEVICES'] = '-1'"
   ],
   "metadata": {
    "collapsed": false,
    "pycharm": {
     "name": "#%%\n"
    }
   }
  },
  {
   "cell_type": "code",
   "execution_count": 3,
   "outputs": [],
   "source": [
    "def get_variables_and_size():\n",
    "    from sys import getsizeof\n",
    "    names = []\n",
    "    sizes = []\n",
    "    types = []\n",
    "    for name in dir():\n",
    "        # Print the item if it doesn't start with '__'\n",
    "        if not name.startswith('__'):\n",
    "            value = eval(name)\n",
    "            names.append(name)\n",
    "            sizes.append(getsizeof(value))\n",
    "            types.append(type(value))\n",
    "    sort_indexes = np.argsort(sizes)[::-1]\n",
    "    names = np.array(names)[sort_indexes]\n",
    "    sizes = np.array(sizes)[sort_indexes]\n",
    "    types = np.array(types)[sort_indexes]\n",
    "    for n,s,t in zip(names,sizes,types):\n",
    "        print(n, \"\\n\\tsize :\", s, \"\\n\\ttype :\", t)"
   ],
   "metadata": {
    "collapsed": false,
    "pycharm": {
     "name": "#%%\n"
    }
   }
  },
  {
   "cell_type": "code",
   "execution_count": 4,
   "outputs": [],
   "source": [
    "def get_normalization_infos(*x_s, columns):\n",
    "    normalization_infos = pd.DataFrame(data=[[1000 for _ in range(len(columns))],[0 for _ in range(len(columns))]],\n",
    "                                     index=[\"min\",\"max\"],\n",
    "                                     columns=columns)\n",
    "    for x in x_s :\n",
    "        for col in columns:\n",
    "            min_value = min(normalization_infos[col][\"min\"], x[col].min())\n",
    "            max_value = max(normalization_infos[col][\"max\"], x[col].max())\n",
    "            normalization_infos[col] = [min_value, max_value]\n",
    "\n",
    "    normalization_infos.loc[\"spread\"] = normalization_infos.apply(lambda c : c[\"max\"] - c[\"min\"], axis=0)\n",
    "\n",
    "    return normalization_infos\n",
    "\n",
    "def normalize(x : pd.DataFrame, normalization_infos : pd.DataFrame):\n",
    "    for col in x.columns:\n",
    "        x[col] = (x[col] - normalization_infos[col][\"min\"])/normalization_infos[col][\"spread\"]\n",
    "    return x"
   ],
   "metadata": {
    "collapsed": false,
    "pycharm": {
     "name": "#%%\n"
    }
   }
  },
  {
   "cell_type": "code",
   "execution_count": 5,
   "outputs": [],
   "source": [
    "def m_mape(y_true,y_predict):\n",
    "    n = len(y_true)\n",
    "    y_true = np.array(y_true) + 1\n",
    "    y_predict = np.array(y_predict) + 1\n",
    "\n",
    "    res = ((100/n)*(np.sum(np.abs((y_predict-y_true)/y_true))))\n",
    "    return res"
   ],
   "metadata": {
    "collapsed": false,
    "pycharm": {
     "name": "#%%\n"
    }
   }
  },
  {
   "cell_type": "code",
   "execution_count": 6,
   "outputs": [],
   "source": [
    "def box_plot(prediction_df, plot_title = \"test set\"):\n",
    "    y_upper_bound = np.mean([prediction_df[\"ground_truth\"].max(), prediction_df[\"Prediction\"].max()])\n",
    "    mape_score = m_mape(prediction_df[\"ground_truth\"],prediction_df[\"Prediction\"])\n",
    "\n",
    "    plt.figure(figsize=(20,10))\n",
    "    plt.suptitle(plot_title)\n",
    "\n",
    "    plt.subplot(2,3,1)\n",
    "    plt.title(\"ground_truth\")\n",
    "    plt.boxplot(prediction_df[\"ground_truth\"])\n",
    "    plt.ylim([-0.01,y_upper_bound])\n",
    "\n",
    "    plt.subplot(2,3,2)\n",
    "    plt.title(\"Prediction. MAPE : {:.2f}\".format(mape_score))\n",
    "    plt.boxplot(prediction_df[\"Prediction\"])\n",
    "    plt.ylim([-0.01,y_upper_bound])\n",
    "\n",
    "    plt.subplot(2,3,3)\n",
    "    plt.boxplot(prediction_df[\"reg_pred\"])\n",
    "    plt.title(\"Regression only. MAPE : {:.2f}\".format(m_mape(prediction_df[\"ground_truth\"],prediction_df[\"reg_pred\"])))\n",
    "    plt.ylim([-0.01, y_upper_bound])\n",
    "\n",
    "    plt.subplot(2,3,4)\n",
    "    plt.hist(prediction_df[prediction_df[\"ground_truth\"]<y_upper_bound][\"ground_truth\"], bins=100)\n",
    "    plt.xlim([0,y_upper_bound])\n",
    "    plt.ylim([0,len(prediction_df)])\n",
    "\n",
    "    plt.subplot(2,3,5)\n",
    "    plt.hist(prediction_df[prediction_df[\"Prediction\"]<y_upper_bound][\"Prediction\"], bins=100)\n",
    "    plt.xlim([0,y_upper_bound])\n",
    "    plt.ylim([0,len(prediction_df)])\n",
    "\n",
    "    plt.subplot(2,3,6)\n",
    "    plt.hist(prediction_df[prediction_df[\"reg_pred\"]<y_upper_bound][\"reg_pred\"], bins=100)\n",
    "    plt.xlim([0,y_upper_bound])\n",
    "    plt.ylim([0,len(prediction_df)])\n",
    "\n",
    "    plt.show()"
   ],
   "metadata": {
    "collapsed": false,
    "pycharm": {
     "name": "#%%\n"
    }
   }
  },
  {
   "cell_type": "code",
   "execution_count": 7,
   "outputs": [],
   "source": [
    "# Creating model using the Sequential in tensorflow\n",
    "def build_model_classf(*layers, loss ='binary_crossentropy', metrics = (\"AUC\",\"accuracy\"), learning_rate=0.001, last_activation=\"softmax\"):\n",
    "    model = Sequential()\n",
    "    model.add(layers[0])\n",
    "    for layer in layers[1:]:\n",
    "        model.add(layer)\n",
    "    model.add(Dense(2, activation=last_activation))\n",
    "\n",
    "    model.compile(\n",
    "        loss=loss,\n",
    "        optimizer=Adam(learning_rate=learning_rate),\n",
    "        metrics=metrics\n",
    "    )\n",
    "\n",
    "    print(model.summary())\n",
    "    return model\n",
    "\n",
    "def make_cls_model(*layers,x,y,x_val=None,y_val=None,val_split=0.15, epochs=15, batch_size=64, learning_rate=0.001, last_activation=\"softmax\"):\n",
    "    # build the model\n",
    "    model_cls = build_model_classf(*layers, learning_rate=learning_rate, last_activation=last_activation)\n",
    "    # train the model\n",
    "    if x_val is None :\n",
    "        history_cls = model_cls.fit(\n",
    "            x=x,\n",
    "            y=y,\n",
    "            epochs=epochs,\n",
    "            batch_size=batch_size,\n",
    "            validation_split=val_split\n",
    "            # validation_data=(x_test,y_cls_test)\n",
    "            )\n",
    "    else :\n",
    "        history_cls = model_cls.fit(\n",
    "            x=x,\n",
    "            y=y,\n",
    "            epochs=epochs,\n",
    "            batch_size=batch_size,\n",
    "            # validation_split=0.15\n",
    "            validation_data=(x_val,y_val)\n",
    "            )\n",
    "    return history_cls,model_cls\n",
    "\n",
    "def plot_history_cls(history, loss, key1, key2):\n",
    "    plt.figure(figsize=(17,5))\n",
    "    plt.subplot(1,3,1)\n",
    "    plt.title(\"loss : {}\".format(loss))\n",
    "    plt.plot(history.history[\"loss\"], c=\"cyan\")\n",
    "    plt.plot(history.history[\"val_loss\"], c=\"orange\")\n",
    "    plt.xlabel(\"Epochs\")\n",
    "    plt.xticks(np.linspace(0,len(history.history[\"loss\"]),10,dtype=int))\n",
    "    # plt.ylabel(\"loss\")\n",
    "    plt.legend([\"loss\", \"val_loss\"])\n",
    "\n",
    "    plt.subplot(1,3,2)\n",
    "    plt.title(\"metric : {}\".format(key1))\n",
    "    plt.plot(history.history[key1])\n",
    "    plt.plot(history.history['val_'+key1])\n",
    "    plt.xlabel(\"Epochs\")\n",
    "    plt.xticks(np.linspace(0,len(history.history[\"loss\"]),10,dtype=int))\n",
    "    # plt.ylabel(key1)\n",
    "    plt.legend([key1, 'val_'+key1])\n",
    "\n",
    "    plt.subplot(1,3,3)\n",
    "    plt.title(\"metric : {}\".format(key2))\n",
    "    plt.plot(history.history[key2.lower()])\n",
    "    plt.plot(history.history['val_'+key2.lower()])\n",
    "    plt.xlabel(\"Epochs\")\n",
    "    plt.xticks(np.linspace(0,len(history.history[\"loss\"]),10,dtype=int))\n",
    "    # plt.ylabel(key2)\n",
    "    plt.legend([key2, 'val_'+key2])\n",
    "\n",
    "    plt.suptitle(\"Classification results\")\n",
    "    plt.show()"
   ],
   "metadata": {
    "collapsed": false,
    "pycharm": {
     "name": "#%%\n"
    }
   }
  },
  {
   "cell_type": "code",
   "execution_count": 8,
   "outputs": [],
   "source": [
    "# Creating model using the Sequential in tensorflow\n",
    "def build_model_regrs(*layers, metric = MeanSquaredError(), learning_rate=0.001, last_activation=\"relu\"):\n",
    "    model = Sequential()\n",
    "    model.add(layers[0])\n",
    "    for layer in layers[1:]:\n",
    "        model.add(layer)\n",
    "    model.add(Dense(1, activation=last_activation))\n",
    "\n",
    "    model.compile(\n",
    "        loss=metric,\n",
    "        optimizer=Adam(learning_rate=learning_rate),\n",
    "        metrics=[metric]\n",
    "    )\n",
    "\n",
    "    # print(model.summary())\n",
    "    return model\n",
    "\n",
    "def make_reg_model(*layers,x,y,x_val=None,y_val=None,val_split=0.15, epochs=15, batch_size=64, learning_rate=0.001, last_activation=\"relu\"):\n",
    "    # build the model\n",
    "    model_reg = build_model_regrs(*layers, learning_rate=learning_rate, last_activation=last_activation)\n",
    "    # train the model\n",
    "    if x_val is None :\n",
    "        history_reg = model_reg.fit(\n",
    "            x=x,\n",
    "            y=y,\n",
    "            epochs=epochs,\n",
    "            batch_size=batch_size,\n",
    "            validation_split=val_split\n",
    "            # validation_data=(x_test,y_cls_test)\n",
    "            )\n",
    "    else :\n",
    "        history_reg = model_reg.fit(\n",
    "            x=x,\n",
    "            y=y,\n",
    "            epochs=epochs,\n",
    "            batch_size=batch_size,\n",
    "            # validation_split=0.15\n",
    "            validation_data=(x_val,y_val)\n",
    "            )\n",
    "    return history_reg,model_reg\n",
    "\n",
    "def plot_history_reg(history, loss : str):\n",
    "    plt.figure(figsize=(7,5))\n",
    "    plt.title(\"loss : {}\".format(loss))\n",
    "    plt.plot(history.history[\"loss\"], c=\"cyan\")\n",
    "    plt.plot(history.history[\"val_loss\"], c=\"orange\")\n",
    "    plt.xlabel(\"Epochs\")\n",
    "    plt.xticks(np.linspace(0,len(history.history[\"loss\"]),10,dtype=int))\n",
    "    # plt.ylabel(\"loss\")\n",
    "    plt.legend([\"loss\", \"val_loss\"])\n",
    "    plt.show()"
   ],
   "metadata": {
    "collapsed": false,
    "pycharm": {
     "name": "#%%\n"
    }
   }
  },
  {
   "cell_type": "code",
   "execution_count": 9,
   "outputs": [],
   "source": [
    "# custom activation functions\n",
    "exp_relu = lambda x : activations.exponential(activations.relu(x)) - 1\n",
    "square_relu = lambda x : activations.relu(x)**2"
   ],
   "metadata": {
    "collapsed": false,
    "pycharm": {
     "name": "#%%\n"
    }
   }
  },
  {
   "cell_type": "code",
   "execution_count": 10,
   "outputs": [],
   "source": [
    "cluster_month_0 = [11,12,1,2,3,4]\n",
    "cluster_month_1 = [5,6,7,8,9,10]"
   ],
   "metadata": {
    "collapsed": false,
    "pycharm": {
     "name": "#%%\n"
    }
   }
  },
  {
   "cell_type": "markdown",
   "source": [
    "# Load the dataset"
   ],
   "metadata": {
    "collapsed": false
   }
  },
  {
   "cell_type": "code",
   "execution_count": 11,
   "outputs": [],
   "source": [
    "df_train = pd.read_csv(\"../preprocessed_data_Defi-IA-2022-Rain-Frogs/X_all_2016_final_by_day.zip\")\n",
    "# df_train = pd.read_csv(\"../preprocessed_data_Defi-IA-2022-Rain-Frogs/X_all_2016_final.zip\")\n",
    "df_train[\"raining\"] = df_train[\"ground_truth\"].apply(lambda x : 0 if (x==0) else 1)\n",
    "df_train[\"not_raining\"] = 1-df_train[\"raining\"]\n",
    "\n",
    "x_2016, y_reg_2016, y_cls_2016 = df_train, df_train[\"ground_truth\"], df_train[[\"not_raining\",\"raining\"]].to_numpy()\n",
    "del df_train"
   ],
   "metadata": {
    "collapsed": false,
    "pycharm": {
     "name": "#%%\n"
    }
   }
  },
  {
   "cell_type": "code",
   "execution_count": 12,
   "outputs": [],
   "source": [
    "df_test = pd.read_csv(\"../preprocessed_data_Defi-IA-2022-Rain-Frogs/X_all_2017_final_by_day.zip\")\n",
    "# df_test = pd.read_csv(\"../preprocessed_data_Defi-IA-2022-Rain-Frogs/X_all_2017_final.zip\")\n",
    "\n",
    "df_test[\"raining\"] = df_test[\"ground_truth\"].apply(lambda x : 0 if (x==0) else 1)\n",
    "df_test[\"not_raining\"] = 1-df_test[\"raining\"]\n",
    "\n",
    "x_2017, y_reg_2017, y_cls_2017 = df_test, df_test[\"ground_truth\"], df_test[[\"not_raining\",\"raining\"]].to_numpy()\n",
    "del df_test"
   ],
   "metadata": {
    "collapsed": false,
    "pycharm": {
     "name": "#%%\n"
    }
   }
  },
  {
   "cell_type": "markdown",
   "source": [
    "# merge 2016, 2017"
   ],
   "metadata": {
    "collapsed": false
   }
  },
  {
   "cell_type": "code",
   "execution_count": 13,
   "outputs": [],
   "source": [
    "x = pd.concat([x_2016,x_2017])\n",
    "y_cls = np.concatenate([y_cls_2016, y_cls_2017])\n",
    "y_reg = np.concatenate([y_reg_2016, y_reg_2017])"
   ],
   "metadata": {
    "collapsed": false,
    "pycharm": {
     "name": "#%%\n"
    }
   }
  },
  {
   "cell_type": "markdown",
   "source": [
    "# split cluster 0 (c0) - cluster 1 (c1)"
   ],
   "metadata": {
    "collapsed": false
   }
  },
  {
   "cell_type": "code",
   "execution_count": 14,
   "outputs": [],
   "source": [
    "x[\"cluster\"] = x[\"month\"].apply(lambda x : 0 if x in cluster_month_0 else 1)"
   ],
   "metadata": {
    "collapsed": false,
    "pycharm": {
     "name": "#%%\n"
    }
   }
  },
  {
   "cell_type": "code",
   "execution_count": 15,
   "outputs": [],
   "source": [
    "x_c0 = x[x[\"cluster\"] == 0]\n",
    "x_c1 = x[x[\"cluster\"] == 1]\n",
    "\n",
    "y_cls_c0 = y_cls[x[\"cluster\"] == 0]\n",
    "y_cls_c1 = y_cls[x[\"cluster\"] == 1]\n",
    "\n",
    "y_reg_c0 = y_reg[x[\"cluster\"] == 0]\n",
    "y_reg_c1 = y_reg[x[\"cluster\"] == 1]"
   ],
   "metadata": {
    "collapsed": false,
    "pycharm": {
     "name": "#%%\n"
    }
   }
  },
  {
   "cell_type": "markdown",
   "source": [
    "# train test split"
   ],
   "metadata": {
    "collapsed": false,
    "pycharm": {
     "name": "#%% md\n"
    }
   }
  },
  {
   "cell_type": "code",
   "execution_count": 16,
   "outputs": [],
   "source": [
    "x_train_c0, x_test_c0, y_cls_train_c0, y_cls_test_c0, y_reg_train_c0, y_reg_test_c0 = train_test_split(x_c0,y_cls_c0,y_reg_c0, test_size=0.1,random_state=42)\n",
    "x_train_c1, x_test_c1, y_cls_train_c1, y_cls_test_c1, y_reg_train_c1, y_reg_test_c1 = train_test_split(x_c1,y_cls_c1,y_reg_c1, test_size=0.1,random_state=42)"
   ],
   "metadata": {
    "collapsed": false,
    "pycharm": {
     "name": "#%%\n"
    }
   }
  },
  {
   "cell_type": "code",
   "execution_count": 17,
   "outputs": [],
   "source": [
    "# get rows for computing MAPE on test\n",
    "prediction_x_test_c0 = pd.DataFrame(x_test_c0[[\"Id\",\"ground_truth\", \"month\"]])\n",
    "prediction_x_test_c1 = pd.DataFrame(x_test_c1[[\"Id\",\"ground_truth\", \"month\"]])"
   ],
   "metadata": {
    "collapsed": false,
    "pycharm": {
     "name": "#%%\n"
    }
   }
  },
  {
   "cell_type": "markdown",
   "source": [
    "# drop unnecessary columns"
   ],
   "metadata": {
    "collapsed": false
   }
  },
  {
   "cell_type": "code",
   "execution_count": 18,
   "outputs": [],
   "source": [
    "# define the unnecessary columns\n",
    "cols_to_drop = {\"day\",\"Id\", \"station_id\",\"month\",\"longitude_idx\",\"latitude_idx\", \"next hour precipitation (kg/m^2)\", \"wind_direction (deg)\", \"ground_truth\",\"not_raining\",\"raining\", \"cluster\"}"
   ],
   "metadata": {
    "collapsed": false,
    "pycharm": {
     "name": "#%%\n"
    }
   }
  },
  {
   "cell_type": "code",
   "execution_count": 19,
   "outputs": [],
   "source": [
    "#drop unnecessary columns\n",
    "x_train_c0.drop(list(set(x_train_c0.columns)&cols_to_drop), axis=1, inplace=True)\n",
    "x_train_c1.drop(list(set(x_train_c1.columns)&cols_to_drop), axis=1, inplace=True)"
   ],
   "metadata": {
    "collapsed": false,
    "pycharm": {
     "name": "#%%\n"
    }
   }
  },
  {
   "cell_type": "code",
   "execution_count": 20,
   "outputs": [],
   "source": [
    "#drop unnecessary columns\n",
    "x_test_c0.drop(list(set(x_test_c0.columns)&cols_to_drop), axis=1, inplace=True)\n",
    "x_test_c1.drop(list(set(x_test_c1.columns)&cols_to_drop), axis=1, inplace=True)"
   ],
   "metadata": {
    "collapsed": false,
    "pycharm": {
     "name": "#%%\n"
    }
   }
  },
  {
   "cell_type": "markdown",
   "source": [
    "\n",
    "# get same columns on both datasets"
   ],
   "metadata": {
    "collapsed": false
   }
  },
  {
   "cell_type": "code",
   "execution_count": 21,
   "outputs": [],
   "source": [
    "columns = list(x_train_c0.columns)\n",
    "x_train_c0 = x_train_c0[columns]\n",
    "x_test_c0 = x_test_c0[columns]\n",
    "x_train_c1 = x_train_c1[columns]\n",
    "x_test_c1 = x_test_c1[columns]"
   ],
   "metadata": {
    "collapsed": false,
    "pycharm": {
     "name": "#%%\n"
    }
   }
  },
  {
   "cell_type": "markdown",
   "source": [
    "# normalize both dataset with 2016 min and min-max values"
   ],
   "metadata": {
    "collapsed": false
   }
  },
  {
   "cell_type": "code",
   "execution_count": 22,
   "outputs": [],
   "source": [
    "normalization_infos = get_normalization_infos(x_train_c0, x_test_c0, x_train_c1, x_test_c1, columns=columns)\n",
    "x_train_c0 = normalize(x_train_c0, normalization_infos)\n",
    "x_test_c0 = normalize(x_test_c0, normalization_infos)\n",
    "x_train_c1 = normalize(x_train_c1, normalization_infos)\n",
    "x_test_c1 = normalize(x_test_c1, normalization_infos)"
   ],
   "metadata": {
    "collapsed": false,
    "pycharm": {
     "name": "#%%\n"
    }
   }
  },
  {
   "cell_type": "markdown",
   "source": [
    "# see if the data is balanced raining-wise"
   ],
   "metadata": {
    "collapsed": false
   }
  },
  {
   "cell_type": "code",
   "execution_count": 23,
   "outputs": [
    {
     "data": {
      "text/plain": "<Figure size 1440x360 with 4 Axes>",
      "image/png": "[encoded data removed]"
     },
     "metadata": {
      "needs_background": "light"
     },
     "output_type": "display_data"
    }
   ],
   "source": [
    "raining_ratio1_c0 = y_cls_train_c0[:,1].sum()/y_cls_train_c0[:,0].sum()\n",
    "raining_ratio2_c0 = y_cls_test_c0[:,1].sum()/y_cls_test_c0[:,0].sum()\n",
    "raining_ratio1_c1 = y_cls_train_c1[:,1].sum()/y_cls_train_c1[:,0].sum()\n",
    "raining_ratio2_c1 = y_cls_test_c1[:,1].sum()/y_cls_test_c1[:,0].sum()\n",
    "avg_raining_ratio_c0 = (raining_ratio1_c0+raining_ratio2_c0)/2\n",
    "avg_raining_ratio_c1 = (raining_ratio1_c1+raining_ratio2_c1)/2\n",
    "\n",
    "plt.figure(figsize = (20,5))\n",
    "plt.subplot(1,4,1)\n",
    "sns.histplot(x=y_cls_train_c0[:,1],hue=y_cls_train_c0[:,1], bins=10)\n",
    "plt.title(\"train set c0 : ratio = {:.2f}\".format(raining_ratio1_c0))\n",
    "plt.subplot(1,4,2)\n",
    "sns.histplot(x=y_cls_test_c0[:,1], hue=y_cls_test_c0[:,1], bins=10)\n",
    "plt.title(\"test set c0 : ratio = {:.2f}\".format(raining_ratio2_c0))\n",
    "plt.subplot(1,4,3)\n",
    "sns.histplot(x=y_cls_train_c1[:,1],hue=y_cls_train_c1[:,1], bins=10)\n",
    "plt.title(\"train set c1 : ratio = {:.2f}\".format(raining_ratio1_c1))\n",
    "plt.subplot(1,4,4)\n",
    "sns.histplot(x=y_cls_test_c1[:,1], hue=y_cls_test_c1[:,1], bins=10)\n",
    "plt.title(\"test set c1 : ratio = {:.2f}\".format(raining_ratio2_c1))\n",
    "plt.suptitle(\"Days w/ and w/o rain. avg_raining_ratio_c0 : {:.2f} - avg_raining_ratio_c1 : {:.2f}\".format(avg_raining_ratio_c0, avg_raining_ratio_c1))\n",
    "plt.show()"
   ],
   "metadata": {
    "collapsed": false,
    "pycharm": {
     "name": "#%%\n"
    }
   }
  },
  {
   "cell_type": "markdown",
   "source": [
    "c0 ==> **Unbalanced**\n",
    "C1 ==> nearly banalced"
   ],
   "metadata": {
    "collapsed": false
   }
  },
  {
   "cell_type": "markdown",
   "source": [
    "------------------------------------------------------------------------------------------\n",
    "# **cluster 0**\n",
    "------------------------------------------------------------------------------------------"
   ],
   "metadata": {
    "collapsed": false
   }
  },
  {
   "cell_type": "markdown",
   "source": [
    "# Classification Model (raining or not)\n",
    "source : https://thinkingneuron.com/how-to-use-artificial-neural-networks-for-classification-in-python/"
   ],
   "metadata": {
    "collapsed": false
   }
  },
  {
   "cell_type": "code",
   "execution_count": 24,
   "outputs": [
    {
     "name": "stderr",
     "output_type": "stream",
     "text": [
      "2022-01-09 20:41:22.561865: E tensorflow/stream_executor/cuda/cuda_driver.cc:271] failed call to cuInit: CUDA_ERROR_NO_DEVICE: no CUDA-capable device is detected\n",
      "2022-01-09 20:41:22.561906: I tensorflow/stream_executor/cuda/cuda_diagnostics.cc:169] retrieving CUDA diagnostic information for host: Y540\n",
      "2022-01-09 20:41:22.561915: I tensorflow/stream_executor/cuda/cuda_diagnostics.cc:176] hostname: Y540\n",
      "2022-01-09 20:41:22.561998: I tensorflow/stream_executor/cuda/cuda_diagnostics.cc:200] libcuda reported version is: 495.29.5\n",
      "2022-01-09 20:41:22.562023: I tensorflow/stream_executor/cuda/cuda_diagnostics.cc:204] kernel reported version is: 495.29.5\n",
      "2022-01-09 20:41:22.562029: I tensorflow/stream_executor/cuda/cuda_diagnostics.cc:310] kernel version seems to match DSO: 495.29.5\n",
      "2022-01-09 20:41:22.562544: I tensorflow/core/platform/cpu_feature_guard.cc:151] This TensorFlow binary is optimized with oneAPI Deep Neural Network Library (oneDNN) to use the following CPU instructions in performance-critical operations:  AVX2 FMA\n",
      "To enable them in other operations, rebuild TensorFlow with the appropriate compiler flags.\n"
     ]
    },
    {
     "name": "stdout",
     "output_type": "stream",
     "text": [
      "Model: \"sequential\"\n",
      "_________________________________________________________________\n",
      " Layer (type)                Output Shape              Param #   \n",
      "=================================================================\n",
      " dense (Dense)               (None, 64)                6272      \n",
      "                                                                 \n",
      " dropout (Dropout)           (None, 64)                0         \n",
      "                                                                 \n",
      " dense_1 (Dense)             (None, 32)                2080      \n",
      "                                                                 \n",
      " dense_2 (Dense)             (None, 32)                1056      \n",
      "                                                                 \n",
      " dense_3 (Dense)             (None, 32)                1056      \n",
      "                                                                 \n",
      " dense_4 (Dense)             (None, 2)                 66        \n",
      "                                                                 \n",
      "=================================================================\n",
      "Total params: 10,530\n",
      "Trainable params: 10,530\n",
      "Non-trainable params: 0\n",
      "_________________________________________________________________\n",
      "None\n",
      "Epoch 1/300\n",
      "1321/1321 [==============================] - 4s 2ms/step - loss: 0.5958 - auc: 0.7471 - accuracy: 0.6917 - val_loss: 0.5734 - val_auc: 0.7730 - val_accuracy: 0.7095\n",
      "Epoch 2/300\n",
      "1321/1321 [==============================] - 2s 2ms/step - loss: 0.5802 - auc: 0.7646 - accuracy: 0.7066 - val_loss: 0.5792 - val_auc: 0.7703 - val_accuracy: 0.7159\n",
      "Epoch 3/300\n",
      "1321/1321 [==============================] - 2s 2ms/step - loss: 0.5759 - auc: 0.7691 - accuracy: 0.7108 - val_loss: 0.5653 - val_auc: 0.7812 - val_accuracy: 0.7182\n",
      "Epoch 4/300\n",
      "1321/1321 [==============================] - 2s 2ms/step - loss: 0.5727 - auc: 0.7724 - accuracy: 0.7131 - val_loss: 0.5667 - val_auc: 0.7812 - val_accuracy: 0.7201\n",
      "Epoch 5/300\n",
      "1321/1321 [==============================] - 2s 2ms/step - loss: 0.5709 - auc: 0.7742 - accuracy: 0.7130 - val_loss: 0.5632 - val_auc: 0.7831 - val_accuracy: 0.7169\n",
      "Epoch 6/300\n",
      "1321/1321 [==============================] - 2s 2ms/step - loss: 0.5678 - auc: 0.7773 - accuracy: 0.7167 - val_loss: 0.5552 - val_auc: 0.7898 - val_accuracy: 0.7256\n",
      "Epoch 7/300\n",
      "1321/1321 [==============================] - 2s 2ms/step - loss: 0.5661 - auc: 0.7789 - accuracy: 0.7178 - val_loss: 0.5531 - val_auc: 0.7918 - val_accuracy: 0.7292\n",
      "Epoch 8/300\n",
      "1321/1321 [==============================] - 2s 2ms/step - loss: 0.5636 - auc: 0.7814 - accuracy: 0.7190 - val_loss: 0.5509 - val_auc: 0.7936 - val_accuracy: 0.7301\n",
      "Epoch 9/300\n",
      "1321/1321 [==============================] - 2s 2ms/step - loss: 0.5614 - auc: 0.7836 - accuracy: 0.7211 - val_loss: 0.5621 - val_auc: 0.7851 - val_accuracy: 0.7202\n",
      "Epoch 10/300\n",
      "1321/1321 [==============================] - 2s 2ms/step - loss: 0.5585 - auc: 0.7866 - accuracy: 0.7227 - val_loss: 0.5465 - val_auc: 0.7975 - val_accuracy: 0.7317\n",
      "Epoch 11/300\n",
      "1321/1321 [==============================] - 2s 2ms/step - loss: 0.5572 - auc: 0.7877 - accuracy: 0.7231 - val_loss: 0.5495 - val_auc: 0.7982 - val_accuracy: 0.7310\n",
      "Epoch 12/300\n",
      "1321/1321 [==============================] - 2s 2ms/step - loss: 0.5548 - auc: 0.7900 - accuracy: 0.7246 - val_loss: 0.5450 - val_auc: 0.7999 - val_accuracy: 0.7332\n",
      "Epoch 13/300\n",
      "1321/1321 [==============================] - 3s 2ms/step - loss: 0.5519 - auc: 0.7928 - accuracy: 0.7265 - val_loss: 0.5440 - val_auc: 0.8003 - val_accuracy: 0.7335\n",
      "Epoch 14/300\n",
      "1321/1321 [==============================] - 3s 2ms/step - loss: 0.5501 - auc: 0.7945 - accuracy: 0.7273 - val_loss: 0.5410 - val_auc: 0.8029 - val_accuracy: 0.7297\n",
      "Epoch 15/300\n",
      "1321/1321 [==============================] - 3s 2ms/step - loss: 0.5489 - auc: 0.7956 - accuracy: 0.7280 - val_loss: 0.5385 - val_auc: 0.8049 - val_accuracy: 0.7335\n",
      "Epoch 16/300\n",
      "1321/1321 [==============================] - 2s 2ms/step - loss: 0.5464 - auc: 0.7979 - accuracy: 0.7289 - val_loss: 0.5338 - val_auc: 0.8091 - val_accuracy: 0.7398\n",
      "Epoch 17/300\n",
      "1321/1321 [==============================] - 3s 2ms/step - loss: 0.5440 - auc: 0.8001 - accuracy: 0.7300 - val_loss: 0.5334 - val_auc: 0.8092 - val_accuracy: 0.7352\n",
      "Epoch 18/300\n",
      "1321/1321 [==============================] - 3s 2ms/step - loss: 0.5424 - auc: 0.8016 - accuracy: 0.7317 - val_loss: 0.5317 - val_auc: 0.8129 - val_accuracy: 0.7408\n",
      "Epoch 19/300\n",
      "1321/1321 [==============================] - 3s 2ms/step - loss: 0.5400 - auc: 0.8037 - accuracy: 0.7322 - val_loss: 0.5282 - val_auc: 0.8143 - val_accuracy: 0.7416\n",
      "Epoch 20/300\n",
      "1321/1321 [==============================] - 3s 2ms/step - loss: 0.5386 - auc: 0.8049 - accuracy: 0.7346 - val_loss: 0.5262 - val_auc: 0.8158 - val_accuracy: 0.7417\n",
      "Epoch 21/300\n",
      "1321/1321 [==============================] - 3s 2ms/step - loss: 0.5370 - auc: 0.8062 - accuracy: 0.7350 - val_loss: 0.5276 - val_auc: 0.8142 - val_accuracy: 0.7381\n",
      "Epoch 22/300\n",
      "1321/1321 [==============================] - 3s 2ms/step - loss: 0.5357 - auc: 0.8074 - accuracy: 0.7348 - val_loss: 0.5243 - val_auc: 0.8180 - val_accuracy: 0.7457\n",
      "Epoch 23/300\n",
      "1321/1321 [==============================] - 3s 2ms/step - loss: 0.5335 - auc: 0.8093 - accuracy: 0.7361 - val_loss: 0.5262 - val_auc: 0.8186 - val_accuracy: 0.7461\n",
      "Epoch 24/300\n",
      "1321/1321 [==============================] - 3s 2ms/step - loss: 0.5325 - auc: 0.8102 - accuracy: 0.7362 - val_loss: 0.5272 - val_auc: 0.8171 - val_accuracy: 0.7404\n",
      "Epoch 25/300\n",
      "1321/1321 [==============================] - 3s 2ms/step - loss: 0.5301 - auc: 0.8123 - accuracy: 0.7403 - val_loss: 0.5267 - val_auc: 0.8171 - val_accuracy: 0.7412\n",
      "Epoch 26/300\n",
      "1321/1321 [==============================] - 3s 2ms/step - loss: 0.5296 - auc: 0.8125 - accuracy: 0.7379 - val_loss: 0.5218 - val_auc: 0.8193 - val_accuracy: 0.7443\n",
      "Epoch 27/300\n",
      "1321/1321 [==============================] - 3s 2ms/step - loss: 0.5280 - auc: 0.8137 - accuracy: 0.7389 - val_loss: 0.5177 - val_auc: 0.8225 - val_accuracy: 0.7478\n",
      "Epoch 28/300\n",
      "1321/1321 [==============================] - 3s 2ms/step - loss: 0.5273 - auc: 0.8145 - accuracy: 0.7397 - val_loss: 0.5155 - val_auc: 0.8258 - val_accuracy: 0.7530\n",
      "Epoch 29/300\n",
      "1321/1321 [==============================] - 3s 2ms/step - loss: 0.5251 - auc: 0.8162 - accuracy: 0.7408 - val_loss: 0.5127 - val_auc: 0.8275 - val_accuracy: 0.7524\n",
      "Epoch 30/300\n",
      "1321/1321 [==============================] - 3s 2ms/step - loss: 0.5227 - auc: 0.8182 - accuracy: 0.7450 - val_loss: 0.5150 - val_auc: 0.8280 - val_accuracy: 0.7552\n",
      "Epoch 31/300\n",
      "1321/1321 [==============================] - 3s 2ms/step - loss: 0.5233 - auc: 0.8178 - accuracy: 0.7434 - val_loss: 0.5104 - val_auc: 0.8282 - val_accuracy: 0.7533\n",
      "Epoch 32/300\n",
      "1321/1321 [==============================] - 3s 2ms/step - loss: 0.5204 - auc: 0.8201 - accuracy: 0.7461 - val_loss: 0.5091 - val_auc: 0.8293 - val_accuracy: 0.7548\n",
      "Epoch 33/300\n",
      "1321/1321 [==============================] - 3s 2ms/step - loss: 0.5198 - auc: 0.8206 - accuracy: 0.7457 - val_loss: 0.5155 - val_auc: 0.8255 - val_accuracy: 0.7506\n",
      "Epoch 34/300\n",
      "1321/1321 [==============================] - 3s 2ms/step - loss: 0.5185 - auc: 0.8216 - accuracy: 0.7453 - val_loss: 0.5098 - val_auc: 0.8296 - val_accuracy: 0.7535\n",
      "Epoch 35/300\n",
      "1321/1321 [==============================] - 3s 2ms/step - loss: 0.5171 - auc: 0.8228 - accuracy: 0.7469 - val_loss: 0.5090 - val_auc: 0.8298 - val_accuracy: 0.7549\n",
      "Epoch 36/300\n",
      "1321/1321 [==============================] - 3s 2ms/step - loss: 0.5158 - auc: 0.8237 - accuracy: 0.7466 - val_loss: 0.5079 - val_auc: 0.8301 - val_accuracy: 0.7526\n",
      "Epoch 37/300\n",
      "1321/1321 [==============================] - 3s 2ms/step - loss: 0.5154 - auc: 0.8240 - accuracy: 0.7470 - val_loss: 0.5040 - val_auc: 0.8329 - val_accuracy: 0.7573\n",
      "Epoch 38/300\n",
      "1321/1321 [==============================] - 3s 2ms/step - loss: 0.5147 - auc: 0.8244 - accuracy: 0.7481 - val_loss: 0.5062 - val_auc: 0.8314 - val_accuracy: 0.7545\n",
      "Epoch 39/300\n",
      "1321/1321 [==============================] - 3s 2ms/step - loss: 0.5124 - auc: 0.8261 - accuracy: 0.7482 - val_loss: 0.5032 - val_auc: 0.8334 - val_accuracy: 0.7535\n",
      "Epoch 40/300\n",
      "1321/1321 [==============================] - 3s 2ms/step - loss: 0.5117 - auc: 0.8267 - accuracy: 0.7486 - val_loss: 0.5111 - val_auc: 0.8298 - val_accuracy: 0.7528\n",
      "Epoch 41/300\n",
      "1321/1321 [==============================] - 3s 2ms/step - loss: 0.5104 - auc: 0.8279 - accuracy: 0.7505 - val_loss: 0.5045 - val_auc: 0.8337 - val_accuracy: 0.7557\n",
      "Epoch 42/300\n",
      "1321/1321 [==============================] - 3s 2ms/step - loss: 0.5102 - auc: 0.8281 - accuracy: 0.7506 - val_loss: 0.5010 - val_auc: 0.8356 - val_accuracy: 0.7580\n",
      "Epoch 43/300\n",
      "1321/1321 [==============================] - 3s 2ms/step - loss: 0.5090 - auc: 0.8290 - accuracy: 0.7513 - val_loss: 0.5000 - val_auc: 0.8359 - val_accuracy: 0.7600\n",
      "Epoch 44/300\n",
      "1321/1321 [==============================] - 3s 2ms/step - loss: 0.5084 - auc: 0.8295 - accuracy: 0.7513 - val_loss: 0.5007 - val_auc: 0.8354 - val_accuracy: 0.7565\n",
      "Epoch 45/300\n",
      "1321/1321 [==============================] - 3s 2ms/step - loss: 0.5065 - auc: 0.8308 - accuracy: 0.7535 - val_loss: 0.4971 - val_auc: 0.8379 - val_accuracy: 0.7568\n",
      "Epoch 46/300\n",
      "1321/1321 [==============================] - 3s 2ms/step - loss: 0.5056 - auc: 0.8314 - accuracy: 0.7521 - val_loss: 0.5001 - val_auc: 0.8362 - val_accuracy: 0.7574\n",
      "Epoch 47/300\n",
      "1321/1321 [==============================] - 3s 2ms/step - loss: 0.5053 - auc: 0.8317 - accuracy: 0.7535 - val_loss: 0.4993 - val_auc: 0.8371 - val_accuracy: 0.7584\n",
      "Epoch 48/300\n",
      "1321/1321 [==============================] - 3s 2ms/step - loss: 0.5035 - auc: 0.8330 - accuracy: 0.7552 - val_loss: 0.4940 - val_auc: 0.8402 - val_accuracy: 0.7589\n",
      "Epoch 49/300\n",
      "1321/1321 [==============================] - 3s 2ms/step - loss: 0.5028 - auc: 0.8336 - accuracy: 0.7554 - val_loss: 0.4940 - val_auc: 0.8402 - val_accuracy: 0.7591\n",
      "Epoch 50/300\n",
      "1321/1321 [==============================] - 3s 2ms/step - loss: 0.5018 - auc: 0.8345 - accuracy: 0.7548 - val_loss: 0.4964 - val_auc: 0.8383 - val_accuracy: 0.7583\n",
      "Epoch 51/300\n",
      "1321/1321 [==============================] - 3s 2ms/step - loss: 0.5007 - auc: 0.8351 - accuracy: 0.7547 - val_loss: 0.4939 - val_auc: 0.8402 - val_accuracy: 0.7617\n",
      "Epoch 52/300\n",
      "1321/1321 [==============================] - 3s 2ms/step - loss: 0.4992 - auc: 0.8364 - accuracy: 0.7577 - val_loss: 0.4925 - val_auc: 0.8414 - val_accuracy: 0.7628\n",
      "Epoch 53/300\n",
      "1321/1321 [==============================] - 3s 2ms/step - loss: 0.4985 - auc: 0.8367 - accuracy: 0.7566 - val_loss: 0.4918 - val_auc: 0.8418 - val_accuracy: 0.7621\n",
      "Epoch 54/300\n",
      "1321/1321 [==============================] - 3s 2ms/step - loss: 0.4984 - auc: 0.8369 - accuracy: 0.7571 - val_loss: 0.4894 - val_auc: 0.8446 - val_accuracy: 0.7622\n",
      "Epoch 55/300\n",
      "1321/1321 [==============================] - 3s 2ms/step - loss: 0.4973 - auc: 0.8377 - accuracy: 0.7588 - val_loss: 0.4896 - val_auc: 0.8445 - val_accuracy: 0.7653\n",
      "Epoch 56/300\n",
      "1321/1321 [==============================] - 3s 2ms/step - loss: 0.4960 - auc: 0.8385 - accuracy: 0.7591 - val_loss: 0.4875 - val_auc: 0.8448 - val_accuracy: 0.7634\n",
      "Epoch 57/300\n",
      "1321/1321 [==============================] - 3s 2ms/step - loss: 0.4950 - auc: 0.8393 - accuracy: 0.7590 - val_loss: 0.4907 - val_auc: 0.8428 - val_accuracy: 0.7616\n",
      "Epoch 58/300\n",
      "1321/1321 [==============================] - 3s 2ms/step - loss: 0.4936 - auc: 0.8404 - accuracy: 0.7608 - val_loss: 0.4887 - val_auc: 0.8442 - val_accuracy: 0.7640\n",
      "Epoch 59/300\n",
      "1321/1321 [==============================] - 3s 2ms/step - loss: 0.4941 - auc: 0.8400 - accuracy: 0.7605 - val_loss: 0.4858 - val_auc: 0.8464 - val_accuracy: 0.7642\n",
      "Epoch 60/300\n",
      "1321/1321 [==============================] - 3s 2ms/step - loss: 0.4919 - auc: 0.8416 - accuracy: 0.7612 - val_loss: 0.4869 - val_auc: 0.8452 - val_accuracy: 0.7630\n",
      "Epoch 61/300\n",
      "1321/1321 [==============================] - 3s 2ms/step - loss: 0.4921 - auc: 0.8414 - accuracy: 0.7612 - val_loss: 0.4928 - val_auc: 0.8422 - val_accuracy: 0.7614\n",
      "Epoch 62/300\n",
      "1321/1321 [==============================] - 3s 2ms/step - loss: 0.4919 - auc: 0.8416 - accuracy: 0.7623 - val_loss: 0.4848 - val_auc: 0.8465 - val_accuracy: 0.7643\n",
      "Epoch 63/300\n",
      "1321/1321 [==============================] - 3s 2ms/step - loss: 0.4910 - auc: 0.8422 - accuracy: 0.7624 - val_loss: 0.4859 - val_auc: 0.8459 - val_accuracy: 0.7644\n",
      "Epoch 64/300\n",
      "1321/1321 [==============================] - 3s 2ms/step - loss: 0.4904 - auc: 0.8426 - accuracy: 0.7616 - val_loss: 0.4880 - val_auc: 0.8444 - val_accuracy: 0.7652\n",
      "Epoch 65/300\n",
      "1321/1321 [==============================] - 3s 2ms/step - loss: 0.4884 - auc: 0.8441 - accuracy: 0.7641 - val_loss: 0.4850 - val_auc: 0.8469 - val_accuracy: 0.7669\n",
      "Epoch 66/300\n",
      "1321/1321 [==============================] - 3s 2ms/step - loss: 0.4890 - auc: 0.8439 - accuracy: 0.7632 - val_loss: 0.4838 - val_auc: 0.8481 - val_accuracy: 0.7699\n",
      "Epoch 67/300\n",
      "1321/1321 [==============================] - 3s 2ms/step - loss: 0.4877 - auc: 0.8446 - accuracy: 0.7640 - val_loss: 0.4850 - val_auc: 0.8465 - val_accuracy: 0.7652\n",
      "Epoch 68/300\n",
      "1321/1321 [==============================] - 3s 2ms/step - loss: 0.4864 - auc: 0.8457 - accuracy: 0.7644 - val_loss: 0.4836 - val_auc: 0.8474 - val_accuracy: 0.7663\n",
      "Epoch 69/300\n",
      "1321/1321 [==============================] - 3s 2ms/step - loss: 0.4861 - auc: 0.8456 - accuracy: 0.7638 - val_loss: 0.4797 - val_auc: 0.8503 - val_accuracy: 0.7710\n",
      "Epoch 70/300\n",
      "1321/1321 [==============================] - 3s 2ms/step - loss: 0.4879 - auc: 0.8447 - accuracy: 0.7641 - val_loss: 0.4816 - val_auc: 0.8504 - val_accuracy: 0.7661\n",
      "Epoch 71/300\n",
      "1321/1321 [==============================] - 3s 2ms/step - loss: 0.4846 - auc: 0.8469 - accuracy: 0.7653 - val_loss: 0.4796 - val_auc: 0.8501 - val_accuracy: 0.7707\n",
      "Epoch 72/300\n",
      "1321/1321 [==============================] - 3s 2ms/step - loss: 0.4847 - auc: 0.8469 - accuracy: 0.7646 - val_loss: 0.4800 - val_auc: 0.8503 - val_accuracy: 0.7701\n",
      "Epoch 73/300\n",
      "1321/1321 [==============================] - 3s 2ms/step - loss: 0.4834 - auc: 0.8477 - accuracy: 0.7663 - val_loss: 0.4779 - val_auc: 0.8514 - val_accuracy: 0.7703\n",
      "Epoch 74/300\n",
      "1321/1321 [==============================] - 3s 2ms/step - loss: 0.4834 - auc: 0.8476 - accuracy: 0.7660 - val_loss: 0.4781 - val_auc: 0.8516 - val_accuracy: 0.7720\n",
      "Epoch 75/300\n",
      "1321/1321 [==============================] - 3s 2ms/step - loss: 0.4820 - auc: 0.8485 - accuracy: 0.7658 - val_loss: 0.4876 - val_auc: 0.8456 - val_accuracy: 0.7659\n",
      "Epoch 76/300\n",
      "1321/1321 [==============================] - 3s 2ms/step - loss: 0.4814 - auc: 0.8491 - accuracy: 0.7669 - val_loss: 0.4812 - val_auc: 0.8494 - val_accuracy: 0.7697\n",
      "Epoch 77/300\n",
      "1321/1321 [==============================] - 3s 2ms/step - loss: 0.4811 - auc: 0.8493 - accuracy: 0.7695 - val_loss: 0.4803 - val_auc: 0.8502 - val_accuracy: 0.7700\n",
      "Epoch 78/300\n",
      "1321/1321 [==============================] - 3s 2ms/step - loss: 0.4804 - auc: 0.8497 - accuracy: 0.7683 - val_loss: 0.4746 - val_auc: 0.8539 - val_accuracy: 0.7724\n",
      "Epoch 79/300\n",
      "1321/1321 [==============================] - 3s 2ms/step - loss: 0.4788 - auc: 0.8508 - accuracy: 0.7687 - val_loss: 0.4860 - val_auc: 0.8465 - val_accuracy: 0.7669\n",
      "Epoch 80/300\n",
      "1321/1321 [==============================] - 3s 2ms/step - loss: 0.4786 - auc: 0.8509 - accuracy: 0.7681 - val_loss: 0.4732 - val_auc: 0.8547 - val_accuracy: 0.7738\n",
      "Epoch 81/300\n",
      "1321/1321 [==============================] - 3s 2ms/step - loss: 0.4789 - auc: 0.8508 - accuracy: 0.7692 - val_loss: 0.4743 - val_auc: 0.8540 - val_accuracy: 0.7720\n",
      "Epoch 82/300\n",
      "1321/1321 [==============================] - 3s 2ms/step - loss: 0.4779 - auc: 0.8514 - accuracy: 0.7687 - val_loss: 0.4742 - val_auc: 0.8547 - val_accuracy: 0.7736\n",
      "Epoch 83/300\n",
      "1321/1321 [==============================] - 3s 2ms/step - loss: 0.4771 - auc: 0.8518 - accuracy: 0.7698 - val_loss: 0.4742 - val_auc: 0.8542 - val_accuracy: 0.7755\n",
      "Epoch 84/300\n",
      "1321/1321 [==============================] - 3s 2ms/step - loss: 0.4770 - auc: 0.8521 - accuracy: 0.7700 - val_loss: 0.4739 - val_auc: 0.8544 - val_accuracy: 0.7744\n",
      "Epoch 85/300\n",
      "1321/1321 [==============================] - 3s 2ms/step - loss: 0.4773 - auc: 0.8518 - accuracy: 0.7698 - val_loss: 0.4723 - val_auc: 0.8554 - val_accuracy: 0.7762\n",
      "Epoch 86/300\n",
      "1321/1321 [==============================] - 3s 2ms/step - loss: 0.4763 - auc: 0.8525 - accuracy: 0.7696 - val_loss: 0.4756 - val_auc: 0.8538 - val_accuracy: 0.7743\n",
      "Epoch 87/300\n",
      "1321/1321 [==============================] - 3s 2ms/step - loss: 0.4748 - auc: 0.8537 - accuracy: 0.7723 - val_loss: 0.4721 - val_auc: 0.8554 - val_accuracy: 0.7772\n",
      "Epoch 88/300\n",
      "1321/1321 [==============================] - 3s 2ms/step - loss: 0.4757 - auc: 0.8531 - accuracy: 0.7714 - val_loss: 0.4700 - val_auc: 0.8571 - val_accuracy: 0.7770\n",
      "Epoch 89/300\n",
      "1321/1321 [==============================] - 3s 2ms/step - loss: 0.4743 - auc: 0.8538 - accuracy: 0.7717 - val_loss: 0.4749 - val_auc: 0.8538 - val_accuracy: 0.7735\n",
      "Epoch 90/300\n",
      "1321/1321 [==============================] - 3s 2ms/step - loss: 0.4747 - auc: 0.8535 - accuracy: 0.7697 - val_loss: 0.4720 - val_auc: 0.8559 - val_accuracy: 0.7736\n",
      "Epoch 91/300\n",
      "1321/1321 [==============================] - 3s 2ms/step - loss: 0.4727 - auc: 0.8551 - accuracy: 0.7725 - val_loss: 0.4687 - val_auc: 0.8580 - val_accuracy: 0.7778\n",
      "Epoch 92/300\n",
      "1321/1321 [==============================] - 3s 2ms/step - loss: 0.4715 - auc: 0.8557 - accuracy: 0.7730 - val_loss: 0.4710 - val_auc: 0.8560 - val_accuracy: 0.7746\n",
      "Epoch 93/300\n",
      "1321/1321 [==============================] - 3s 2ms/step - loss: 0.4731 - auc: 0.8548 - accuracy: 0.7732 - val_loss: 0.4670 - val_auc: 0.8586 - val_accuracy: 0.7750\n",
      "Epoch 94/300\n",
      "1321/1321 [==============================] - 3s 2ms/step - loss: 0.4716 - auc: 0.8556 - accuracy: 0.7724 - val_loss: 0.4741 - val_auc: 0.8548 - val_accuracy: 0.7760\n",
      "Epoch 95/300\n",
      "1321/1321 [==============================] - 3s 2ms/step - loss: 0.4714 - auc: 0.8560 - accuracy: 0.7730 - val_loss: 0.4685 - val_auc: 0.8583 - val_accuracy: 0.7758\n",
      "Epoch 96/300\n",
      "1321/1321 [==============================] - 3s 2ms/step - loss: 0.4713 - auc: 0.8560 - accuracy: 0.7741 - val_loss: 0.4739 - val_auc: 0.8544 - val_accuracy: 0.7733\n",
      "Epoch 97/300\n",
      "1321/1321 [==============================] - 3s 2ms/step - loss: 0.4696 - auc: 0.8572 - accuracy: 0.7751 - val_loss: 0.4685 - val_auc: 0.8577 - val_accuracy: 0.7760\n",
      "Epoch 98/300\n",
      "1321/1321 [==============================] - 3s 2ms/step - loss: 0.4695 - auc: 0.8571 - accuracy: 0.7745 - val_loss: 0.4690 - val_auc: 0.8577 - val_accuracy: 0.7768\n",
      "Epoch 99/300\n",
      "1321/1321 [==============================] - 3s 2ms/step - loss: 0.4694 - auc: 0.8573 - accuracy: 0.7756 - val_loss: 0.4653 - val_auc: 0.8598 - val_accuracy: 0.7781\n",
      "Epoch 100/300\n",
      "1321/1321 [==============================] - 3s 2ms/step - loss: 0.4689 - auc: 0.8576 - accuracy: 0.7751 - val_loss: 0.4702 - val_auc: 0.8571 - val_accuracy: 0.7748\n",
      "Epoch 101/300\n",
      "1321/1321 [==============================] - 3s 2ms/step - loss: 0.4687 - auc: 0.8576 - accuracy: 0.7744 - val_loss: 0.4646 - val_auc: 0.8608 - val_accuracy: 0.7807\n",
      "Epoch 102/300\n",
      "1321/1321 [==============================] - 3s 2ms/step - loss: 0.4677 - auc: 0.8584 - accuracy: 0.7753 - val_loss: 0.4678 - val_auc: 0.8589 - val_accuracy: 0.7783\n",
      "Epoch 103/300\n",
      "1321/1321 [==============================] - 3s 2ms/step - loss: 0.4683 - auc: 0.8580 - accuracy: 0.7751 - val_loss: 0.4727 - val_auc: 0.8555 - val_accuracy: 0.7746\n",
      "Epoch 104/300\n",
      "1321/1321 [==============================] - 3s 2ms/step - loss: 0.4670 - auc: 0.8586 - accuracy: 0.7758 - val_loss: 0.4706 - val_auc: 0.8576 - val_accuracy: 0.7759\n",
      "Epoch 105/300\n",
      "1321/1321 [==============================] - 3s 2ms/step - loss: 0.4662 - auc: 0.8594 - accuracy: 0.7768 - val_loss: 0.4686 - val_auc: 0.8583 - val_accuracy: 0.7770\n",
      "Epoch 106/300\n",
      "1321/1321 [==============================] - 3s 2ms/step - loss: 0.4664 - auc: 0.8593 - accuracy: 0.7764 - val_loss: 0.4708 - val_auc: 0.8566 - val_accuracy: 0.7746\n",
      "Epoch 107/300\n",
      "1321/1321 [==============================] - 3s 2ms/step - loss: 0.4654 - auc: 0.8599 - accuracy: 0.7763 - val_loss: 0.4658 - val_auc: 0.8605 - val_accuracy: 0.7792\n",
      "Epoch 108/300\n",
      "1321/1321 [==============================] - 3s 2ms/step - loss: 0.4660 - auc: 0.8597 - accuracy: 0.7775 - val_loss: 0.4632 - val_auc: 0.8617 - val_accuracy: 0.7793\n",
      "Epoch 109/300\n",
      "1321/1321 [==============================] - 3s 2ms/step - loss: 0.4648 - auc: 0.8603 - accuracy: 0.7768 - val_loss: 0.4704 - val_auc: 0.8573 - val_accuracy: 0.7744\n",
      "Epoch 110/300\n",
      "1321/1321 [==============================] - 3s 2ms/step - loss: 0.4634 - auc: 0.8612 - accuracy: 0.7778 - val_loss: 0.4680 - val_auc: 0.8591 - val_accuracy: 0.7810\n",
      "Epoch 111/300\n",
      "1321/1321 [==============================] - 3s 2ms/step - loss: 0.4634 - auc: 0.8611 - accuracy: 0.7768 - val_loss: 0.4633 - val_auc: 0.8615 - val_accuracy: 0.7819\n",
      "Epoch 112/300\n",
      "1321/1321 [==============================] - 3s 2ms/step - loss: 0.4643 - auc: 0.8606 - accuracy: 0.7771 - val_loss: 0.4645 - val_auc: 0.8610 - val_accuracy: 0.7808\n",
      "Epoch 113/300\n",
      "1321/1321 [==============================] - 3s 2ms/step - loss: 0.4627 - auc: 0.8617 - accuracy: 0.7775 - val_loss: 0.4653 - val_auc: 0.8602 - val_accuracy: 0.7766\n",
      "Epoch 114/300\n",
      "1321/1321 [==============================] - 3s 2ms/step - loss: 0.4628 - auc: 0.8616 - accuracy: 0.7784 - val_loss: 0.4719 - val_auc: 0.8561 - val_accuracy: 0.7759\n",
      "Epoch 115/300\n",
      "1321/1321 [==============================] - 3s 2ms/step - loss: 0.4626 - auc: 0.8617 - accuracy: 0.7798 - val_loss: 0.4643 - val_auc: 0.8617 - val_accuracy: 0.7804\n",
      "Epoch 116/300\n",
      "1321/1321 [==============================] - 3s 2ms/step - loss: 0.4625 - auc: 0.8619 - accuracy: 0.7780 - val_loss: 0.4627 - val_auc: 0.8620 - val_accuracy: 0.7817\n",
      "Epoch 117/300\n",
      "1321/1321 [==============================] - 3s 2ms/step - loss: 0.4612 - auc: 0.8626 - accuracy: 0.7785 - val_loss: 0.4629 - val_auc: 0.8619 - val_accuracy: 0.7816\n",
      "Epoch 118/300\n",
      "1321/1321 [==============================] - 3s 2ms/step - loss: 0.4618 - auc: 0.8622 - accuracy: 0.7788 - val_loss: 0.4648 - val_auc: 0.8606 - val_accuracy: 0.7765\n",
      "Epoch 119/300\n",
      "1321/1321 [==============================] - 3s 2ms/step - loss: 0.4614 - auc: 0.8627 - accuracy: 0.7799 - val_loss: 0.4664 - val_auc: 0.8593 - val_accuracy: 0.7779\n",
      "Epoch 120/300\n",
      "1321/1321 [==============================] - 3s 2ms/step - loss: 0.4619 - auc: 0.8622 - accuracy: 0.7791 - val_loss: 0.4615 - val_auc: 0.8631 - val_accuracy: 0.7809\n",
      "Epoch 121/300\n",
      "1321/1321 [==============================] - 3s 2ms/step - loss: 0.4605 - auc: 0.8630 - accuracy: 0.7791 - val_loss: 0.4640 - val_auc: 0.8609 - val_accuracy: 0.7802\n",
      "Epoch 122/300\n",
      "1321/1321 [==============================] - 3s 2ms/step - loss: 0.4615 - auc: 0.8624 - accuracy: 0.7794 - val_loss: 0.4612 - val_auc: 0.8630 - val_accuracy: 0.7817\n",
      "Epoch 123/300\n",
      "1321/1321 [==============================] - 3s 2ms/step - loss: 0.4605 - auc: 0.8631 - accuracy: 0.7790 - val_loss: 0.4616 - val_auc: 0.8624 - val_accuracy: 0.7790\n",
      "Epoch 124/300\n",
      "1321/1321 [==============================] - 3s 2ms/step - loss: 0.4598 - auc: 0.8637 - accuracy: 0.7801 - val_loss: 0.4646 - val_auc: 0.8605 - val_accuracy: 0.7788\n",
      "Epoch 125/300\n",
      "1321/1321 [==============================] - 3s 2ms/step - loss: 0.4582 - auc: 0.8647 - accuracy: 0.7806 - val_loss: 0.4655 - val_auc: 0.8599 - val_accuracy: 0.7777\n",
      "Epoch 126/300\n",
      "1321/1321 [==============================] - 3s 2ms/step - loss: 0.4589 - auc: 0.8640 - accuracy: 0.7800 - val_loss: 0.4623 - val_auc: 0.8624 - val_accuracy: 0.7797\n",
      "Epoch 127/300\n",
      "1321/1321 [==============================] - 3s 2ms/step - loss: 0.4588 - auc: 0.8642 - accuracy: 0.7797 - val_loss: 0.4663 - val_auc: 0.8600 - val_accuracy: 0.7791\n",
      "Epoch 128/300\n",
      "1321/1321 [==============================] - 3s 2ms/step - loss: 0.4582 - auc: 0.8645 - accuracy: 0.7812 - val_loss: 0.4636 - val_auc: 0.8618 - val_accuracy: 0.7807\n",
      "Epoch 129/300\n",
      "1321/1321 [==============================] - 3s 2ms/step - loss: 0.4575 - auc: 0.8650 - accuracy: 0.7820 - val_loss: 0.4612 - val_auc: 0.8634 - val_accuracy: 0.7840\n",
      "Epoch 130/300\n",
      "1321/1321 [==============================] - 3s 2ms/step - loss: 0.4566 - auc: 0.8655 - accuracy: 0.7813 - val_loss: 0.4605 - val_auc: 0.8639 - val_accuracy: 0.7844\n",
      "Epoch 131/300\n",
      "1321/1321 [==============================] - 3s 2ms/step - loss: 0.4566 - auc: 0.8655 - accuracy: 0.7806 - val_loss: 0.4618 - val_auc: 0.8624 - val_accuracy: 0.7808\n",
      "Epoch 132/300\n",
      "1321/1321 [==============================] - 3s 2ms/step - loss: 0.4561 - auc: 0.8659 - accuracy: 0.7816 - val_loss: 0.4614 - val_auc: 0.8629 - val_accuracy: 0.7811\n",
      "Epoch 133/300\n",
      "1321/1321 [==============================] - 3s 2ms/step - loss: 0.4559 - auc: 0.8660 - accuracy: 0.7824 - val_loss: 0.4672 - val_auc: 0.8595 - val_accuracy: 0.7787\n",
      "Epoch 134/300\n",
      "1321/1321 [==============================] - 3s 2ms/step - loss: 0.4566 - auc: 0.8656 - accuracy: 0.7821 - val_loss: 0.4625 - val_auc: 0.8629 - val_accuracy: 0.7805\n",
      "Epoch 135/300\n",
      "1321/1321 [==============================] - 3s 2ms/step - loss: 0.4564 - auc: 0.8658 - accuracy: 0.7821 - val_loss: 0.4611 - val_auc: 0.8634 - val_accuracy: 0.7819\n",
      "Epoch 136/300\n",
      "1321/1321 [==============================] - 3s 2ms/step - loss: 0.4545 - auc: 0.8669 - accuracy: 0.7838 - val_loss: 0.4639 - val_auc: 0.8625 - val_accuracy: 0.7787\n",
      "Epoch 137/300\n",
      "1321/1321 [==============================] - 3s 2ms/step - loss: 0.4549 - auc: 0.8666 - accuracy: 0.7822 - val_loss: 0.4586 - val_auc: 0.8648 - val_accuracy: 0.7846\n",
      "Epoch 138/300\n",
      "1321/1321 [==============================] - 3s 2ms/step - loss: 0.4559 - auc: 0.8659 - accuracy: 0.7824 - val_loss: 0.4599 - val_auc: 0.8640 - val_accuracy: 0.7827\n",
      "Epoch 139/300\n",
      "1321/1321 [==============================] - 3s 2ms/step - loss: 0.4557 - auc: 0.8661 - accuracy: 0.7816 - val_loss: 0.4585 - val_auc: 0.8649 - val_accuracy: 0.7836\n",
      "Epoch 140/300\n",
      "1321/1321 [==============================] - 3s 2ms/step - loss: 0.4544 - auc: 0.8671 - accuracy: 0.7832 - val_loss: 0.4642 - val_auc: 0.8614 - val_accuracy: 0.7810\n",
      "Epoch 141/300\n",
      "1321/1321 [==============================] - 3s 2ms/step - loss: 0.4541 - auc: 0.8673 - accuracy: 0.7848 - val_loss: 0.4601 - val_auc: 0.8633 - val_accuracy: 0.7809\n",
      "Epoch 142/300\n",
      "1321/1321 [==============================] - 3s 2ms/step - loss: 0.4541 - auc: 0.8673 - accuracy: 0.7823 - val_loss: 0.4619 - val_auc: 0.8624 - val_accuracy: 0.7794\n",
      "Epoch 143/300\n",
      "1321/1321 [==============================] - 3s 2ms/step - loss: 0.4540 - auc: 0.8673 - accuracy: 0.7836 - val_loss: 0.4577 - val_auc: 0.8652 - val_accuracy: 0.7816\n",
      "Epoch 144/300\n",
      "1321/1321 [==============================] - 3s 2ms/step - loss: 0.4527 - auc: 0.8682 - accuracy: 0.7846 - val_loss: 0.4603 - val_auc: 0.8637 - val_accuracy: 0.7820\n",
      "Epoch 145/300\n",
      "1321/1321 [==============================] - 3s 2ms/step - loss: 0.4532 - auc: 0.8678 - accuracy: 0.7829 - val_loss: 0.4605 - val_auc: 0.8635 - val_accuracy: 0.7795\n",
      "Epoch 146/300\n",
      "1321/1321 [==============================] - 3s 2ms/step - loss: 0.4522 - auc: 0.8682 - accuracy: 0.7833 - val_loss: 0.4605 - val_auc: 0.8633 - val_accuracy: 0.7807\n",
      "Epoch 147/300\n",
      "1321/1321 [==============================] - 3s 2ms/step - loss: 0.4524 - auc: 0.8684 - accuracy: 0.7852 - val_loss: 0.4567 - val_auc: 0.8667 - val_accuracy: 0.7859\n",
      "Epoch 148/300\n",
      "1321/1321 [==============================] - 3s 2ms/step - loss: 0.4521 - auc: 0.8684 - accuracy: 0.7843 - val_loss: 0.4621 - val_auc: 0.8626 - val_accuracy: 0.7805\n",
      "Epoch 149/300\n",
      "1321/1321 [==============================] - 3s 2ms/step - loss: 0.4520 - auc: 0.8685 - accuracy: 0.7845 - val_loss: 0.4562 - val_auc: 0.8664 - val_accuracy: 0.7846\n",
      "Epoch 150/300\n",
      "1321/1321 [==============================] - 3s 2ms/step - loss: 0.4517 - auc: 0.8688 - accuracy: 0.7845 - val_loss: 0.4588 - val_auc: 0.8647 - val_accuracy: 0.7825\n",
      "Epoch 151/300\n",
      "1321/1321 [==============================] - 3s 2ms/step - loss: 0.4521 - auc: 0.8685 - accuracy: 0.7837 - val_loss: 0.4538 - val_auc: 0.8678 - val_accuracy: 0.7854\n",
      "Epoch 152/300\n",
      "1321/1321 [==============================] - 3s 2ms/step - loss: 0.4515 - auc: 0.8688 - accuracy: 0.7843 - val_loss: 0.4649 - val_auc: 0.8602 - val_accuracy: 0.7764\n",
      "Epoch 153/300\n",
      "1321/1321 [==============================] - 3s 2ms/step - loss: 0.4510 - auc: 0.8690 - accuracy: 0.7852 - val_loss: 0.4621 - val_auc: 0.8630 - val_accuracy: 0.7796\n",
      "Epoch 154/300\n",
      "1321/1321 [==============================] - 3s 2ms/step - loss: 0.4500 - auc: 0.8698 - accuracy: 0.7852 - val_loss: 0.4579 - val_auc: 0.8653 - val_accuracy: 0.7838\n",
      "Epoch 155/300\n",
      "1321/1321 [==============================] - 3s 2ms/step - loss: 0.4510 - auc: 0.8691 - accuracy: 0.7831 - val_loss: 0.4564 - val_auc: 0.8663 - val_accuracy: 0.7846\n",
      "Epoch 156/300\n",
      "1321/1321 [==============================] - 3s 2ms/step - loss: 0.4506 - auc: 0.8692 - accuracy: 0.7844 - val_loss: 0.4580 - val_auc: 0.8655 - val_accuracy: 0.7850\n",
      "Epoch 157/300\n",
      "1321/1321 [==============================] - 3s 2ms/step - loss: 0.4490 - auc: 0.8702 - accuracy: 0.7848 - val_loss: 0.4595 - val_auc: 0.8641 - val_accuracy: 0.7836\n",
      "Epoch 158/300\n",
      "1321/1321 [==============================] - 3s 2ms/step - loss: 0.4507 - auc: 0.8693 - accuracy: 0.7841 - val_loss: 0.4602 - val_auc: 0.8651 - val_accuracy: 0.7842\n",
      "Epoch 159/300\n",
      "1321/1321 [==============================] - 3s 2ms/step - loss: 0.4488 - auc: 0.8705 - accuracy: 0.7857 - val_loss: 0.4553 - val_auc: 0.8668 - val_accuracy: 0.7842\n",
      "Epoch 160/300\n",
      "1321/1321 [==============================] - 3s 2ms/step - loss: 0.4473 - auc: 0.8712 - accuracy: 0.7862 - val_loss: 0.4591 - val_auc: 0.8645 - val_accuracy: 0.7835\n",
      "Epoch 161/300\n",
      "1321/1321 [==============================] - 3s 2ms/step - loss: 0.4484 - auc: 0.8707 - accuracy: 0.7855 - val_loss: 0.4585 - val_auc: 0.8648 - val_accuracy: 0.7805\n",
      "Epoch 162/300\n",
      "1321/1321 [==============================] - 3s 2ms/step - loss: 0.4486 - auc: 0.8705 - accuracy: 0.7841 - val_loss: 0.4551 - val_auc: 0.8670 - val_accuracy: 0.7854\n",
      "Epoch 163/300\n",
      "1321/1321 [==============================] - 3s 2ms/step - loss: 0.4484 - auc: 0.8706 - accuracy: 0.7855 - val_loss: 0.4548 - val_auc: 0.8674 - val_accuracy: 0.7881\n",
      "Epoch 164/300\n",
      "1321/1321 [==============================] - 3s 2ms/step - loss: 0.4473 - auc: 0.8713 - accuracy: 0.7873 - val_loss: 0.4523 - val_auc: 0.8688 - val_accuracy: 0.7867\n",
      "Epoch 165/300\n",
      "1321/1321 [==============================] - 3s 2ms/step - loss: 0.4478 - auc: 0.8710 - accuracy: 0.7866 - val_loss: 0.4593 - val_auc: 0.8643 - val_accuracy: 0.7794\n",
      "Epoch 166/300\n",
      "1321/1321 [==============================] - 3s 2ms/step - loss: 0.4469 - auc: 0.8717 - accuracy: 0.7868 - val_loss: 0.4566 - val_auc: 0.8670 - val_accuracy: 0.7866\n",
      "Epoch 167/300\n",
      "1321/1321 [==============================] - 3s 2ms/step - loss: 0.4473 - auc: 0.8714 - accuracy: 0.7862 - val_loss: 0.4589 - val_auc: 0.8653 - val_accuracy: 0.7821\n",
      "Epoch 168/300\n",
      "1321/1321 [==============================] - 3s 2ms/step - loss: 0.4470 - auc: 0.8713 - accuracy: 0.7856 - val_loss: 0.4533 - val_auc: 0.8683 - val_accuracy: 0.7860\n",
      "Epoch 169/300\n",
      "1321/1321 [==============================] - 3s 2ms/step - loss: 0.4457 - auc: 0.8723 - accuracy: 0.7863 - val_loss: 0.4548 - val_auc: 0.8674 - val_accuracy: 0.7852\n",
      "Epoch 170/300\n",
      "1321/1321 [==============================] - 3s 2ms/step - loss: 0.4470 - auc: 0.8717 - accuracy: 0.7863 - val_loss: 0.4581 - val_auc: 0.8648 - val_accuracy: 0.7811\n",
      "Epoch 171/300\n",
      "1321/1321 [==============================] - 3s 2ms/step - loss: 0.4463 - auc: 0.8720 - accuracy: 0.7867 - val_loss: 0.4578 - val_auc: 0.8655 - val_accuracy: 0.7843\n",
      "Epoch 172/300\n",
      "1321/1321 [==============================] - 3s 2ms/step - loss: 0.4459 - auc: 0.8723 - accuracy: 0.7868 - val_loss: 0.4554 - val_auc: 0.8671 - val_accuracy: 0.7856\n",
      "Epoch 173/300\n",
      "1321/1321 [==============================] - 3s 2ms/step - loss: 0.4452 - auc: 0.8727 - accuracy: 0.7880 - val_loss: 0.4533 - val_auc: 0.8684 - val_accuracy: 0.7856\n",
      "Epoch 174/300\n",
      "1321/1321 [==============================] - 3s 2ms/step - loss: 0.4477 - auc: 0.8710 - accuracy: 0.7865 - val_loss: 0.4550 - val_auc: 0.8670 - val_accuracy: 0.7843\n",
      "Epoch 175/300\n",
      "1321/1321 [==============================] - 3s 2ms/step - loss: 0.4445 - auc: 0.8732 - accuracy: 0.7896 - val_loss: 0.4508 - val_auc: 0.8701 - val_accuracy: 0.7878\n",
      "Epoch 176/300\n",
      "1321/1321 [==============================] - 3s 2ms/step - loss: 0.4452 - auc: 0.8727 - accuracy: 0.7866 - val_loss: 0.4598 - val_auc: 0.8638 - val_accuracy: 0.7797\n",
      "Epoch 177/300\n",
      "1321/1321 [==============================] - 3s 2ms/step - loss: 0.4441 - auc: 0.8732 - accuracy: 0.7869 - val_loss: 0.4536 - val_auc: 0.8685 - val_accuracy: 0.7856\n",
      "Epoch 178/300\n",
      "1321/1321 [==============================] - 3s 2ms/step - loss: 0.4451 - auc: 0.8727 - accuracy: 0.7880 - val_loss: 0.4519 - val_auc: 0.8693 - val_accuracy: 0.7891\n",
      "Epoch 179/300\n",
      "1321/1321 [==============================] - 3s 2ms/step - loss: 0.4444 - auc: 0.8730 - accuracy: 0.7867 - val_loss: 0.4537 - val_auc: 0.8677 - val_accuracy: 0.7853\n",
      "Epoch 180/300\n",
      "1321/1321 [==============================] - 3s 2ms/step - loss: 0.4446 - auc: 0.8731 - accuracy: 0.7865 - val_loss: 0.4538 - val_auc: 0.8682 - val_accuracy: 0.7854\n",
      "Epoch 181/300\n",
      "1321/1321 [==============================] - 3s 2ms/step - loss: 0.4443 - auc: 0.8732 - accuracy: 0.7890 - val_loss: 0.4553 - val_auc: 0.8671 - val_accuracy: 0.7838\n",
      "Epoch 182/300\n",
      "1321/1321 [==============================] - 3s 2ms/step - loss: 0.4442 - auc: 0.8732 - accuracy: 0.7881 - val_loss: 0.4557 - val_auc: 0.8669 - val_accuracy: 0.7821\n",
      "Epoch 183/300\n",
      "1321/1321 [==============================] - 3s 2ms/step - loss: 0.4448 - auc: 0.8728 - accuracy: 0.7879 - val_loss: 0.4511 - val_auc: 0.8700 - val_accuracy: 0.7890\n",
      "Epoch 184/300\n",
      "1321/1321 [==============================] - 3s 2ms/step - loss: 0.4430 - auc: 0.8741 - accuracy: 0.7902 - val_loss: 0.4554 - val_auc: 0.8673 - val_accuracy: 0.7860\n",
      "Epoch 185/300\n",
      "1321/1321 [==============================] - 3s 2ms/step - loss: 0.4416 - auc: 0.8748 - accuracy: 0.7885 - val_loss: 0.4524 - val_auc: 0.8691 - val_accuracy: 0.7864\n",
      "Epoch 186/300\n",
      "1321/1321 [==============================] - 3s 2ms/step - loss: 0.4432 - auc: 0.8740 - accuracy: 0.7890 - val_loss: 0.4533 - val_auc: 0.8690 - val_accuracy: 0.7844\n",
      "Epoch 187/300\n",
      "1321/1321 [==============================] - 3s 2ms/step - loss: 0.4435 - auc: 0.8736 - accuracy: 0.7883 - val_loss: 0.4539 - val_auc: 0.8677 - val_accuracy: 0.7834\n",
      "Epoch 188/300\n",
      "1321/1321 [==============================] - 3s 2ms/step - loss: 0.4430 - auc: 0.8740 - accuracy: 0.7888 - val_loss: 0.4509 - val_auc: 0.8699 - val_accuracy: 0.7878\n",
      "Epoch 189/300\n",
      "1321/1321 [==============================] - 3s 2ms/step - loss: 0.4420 - auc: 0.8745 - accuracy: 0.7896 - val_loss: 0.4508 - val_auc: 0.8708 - val_accuracy: 0.7888\n",
      "Epoch 190/300\n",
      "1321/1321 [==============================] - 3s 2ms/step - loss: 0.4407 - auc: 0.8753 - accuracy: 0.7895 - val_loss: 0.4490 - val_auc: 0.8709 - val_accuracy: 0.7895\n",
      "Epoch 191/300\n",
      "1321/1321 [==============================] - 3s 2ms/step - loss: 0.4419 - auc: 0.8746 - accuracy: 0.7894 - val_loss: 0.4480 - val_auc: 0.8718 - val_accuracy: 0.7904\n",
      "Epoch 192/300\n",
      "1321/1321 [==============================] - 3s 3ms/step - loss: 0.4405 - auc: 0.8755 - accuracy: 0.7900 - val_loss: 0.4494 - val_auc: 0.8709 - val_accuracy: 0.7887\n",
      "Epoch 193/300\n",
      "1321/1321 [==============================] - 3s 2ms/step - loss: 0.4412 - auc: 0.8750 - accuracy: 0.7885 - val_loss: 0.4524 - val_auc: 0.8690 - val_accuracy: 0.7886\n",
      "Epoch 194/300\n",
      "1321/1321 [==============================] - 3s 3ms/step - loss: 0.4418 - auc: 0.8746 - accuracy: 0.7890 - val_loss: 0.4551 - val_auc: 0.8671 - val_accuracy: 0.7856\n",
      "Epoch 195/300\n",
      "1321/1321 [==============================] - 3s 2ms/step - loss: 0.4415 - auc: 0.8749 - accuracy: 0.7888 - val_loss: 0.4512 - val_auc: 0.8698 - val_accuracy: 0.7872\n",
      "Epoch 196/300\n",
      "1321/1321 [==============================] - 3s 2ms/step - loss: 0.4413 - auc: 0.8749 - accuracy: 0.7889 - val_loss: 0.4566 - val_auc: 0.8661 - val_accuracy: 0.7860\n",
      "Epoch 197/300\n",
      "1321/1321 [==============================] - 3s 2ms/step - loss: 0.4407 - auc: 0.8755 - accuracy: 0.7909 - val_loss: 0.4475 - val_auc: 0.8719 - val_accuracy: 0.7901\n",
      "Epoch 198/300\n",
      "1321/1321 [==============================] - 3s 2ms/step - loss: 0.4403 - auc: 0.8757 - accuracy: 0.7904 - val_loss: 0.4483 - val_auc: 0.8717 - val_accuracy: 0.7866\n",
      "Epoch 199/300\n",
      "1321/1321 [==============================] - 3s 2ms/step - loss: 0.4401 - auc: 0.8759 - accuracy: 0.7906 - val_loss: 0.4536 - val_auc: 0.8683 - val_accuracy: 0.7848\n",
      "Epoch 200/300\n",
      "1321/1321 [==============================] - 3s 2ms/step - loss: 0.4398 - auc: 0.8758 - accuracy: 0.7903 - val_loss: 0.4495 - val_auc: 0.8709 - val_accuracy: 0.7888\n",
      "Epoch 201/300\n",
      "1321/1321 [==============================] - 3s 2ms/step - loss: 0.4412 - auc: 0.8753 - accuracy: 0.7898 - val_loss: 0.4538 - val_auc: 0.8681 - val_accuracy: 0.7867\n",
      "Epoch 202/300\n",
      "1321/1321 [==============================] - 3s 2ms/step - loss: 0.4399 - auc: 0.8760 - accuracy: 0.7911 - val_loss: 0.4510 - val_auc: 0.8700 - val_accuracy: 0.7882\n",
      "Epoch 203/300\n",
      "1321/1321 [==============================] - 3s 2ms/step - loss: 0.4404 - auc: 0.8756 - accuracy: 0.7899 - val_loss: 0.4526 - val_auc: 0.8692 - val_accuracy: 0.7848\n",
      "Epoch 204/300\n",
      "1321/1321 [==============================] - 3s 2ms/step - loss: 0.4402 - auc: 0.8757 - accuracy: 0.7900 - val_loss: 0.4531 - val_auc: 0.8686 - val_accuracy: 0.7858\n",
      "Epoch 205/300\n",
      "1321/1321 [==============================] - 3s 2ms/step - loss: 0.4404 - auc: 0.8755 - accuracy: 0.7903 - val_loss: 0.4552 - val_auc: 0.8675 - val_accuracy: 0.7846\n",
      "Epoch 206/300\n",
      "1321/1321 [==============================] - 3s 2ms/step - loss: 0.4384 - auc: 0.8767 - accuracy: 0.7911 - val_loss: 0.4525 - val_auc: 0.8692 - val_accuracy: 0.7890\n",
      "Epoch 207/300\n",
      "1321/1321 [==============================] - 3s 2ms/step - loss: 0.4406 - auc: 0.8754 - accuracy: 0.7899 - val_loss: 0.4504 - val_auc: 0.8706 - val_accuracy: 0.7864\n",
      "Epoch 208/300\n",
      "1321/1321 [==============================] - 3s 2ms/step - loss: 0.4384 - auc: 0.8768 - accuracy: 0.7928 - val_loss: 0.4527 - val_auc: 0.8689 - val_accuracy: 0.7855\n",
      "Epoch 209/300\n",
      "1321/1321 [==============================] - 3s 2ms/step - loss: 0.4389 - auc: 0.8765 - accuracy: 0.7916 - val_loss: 0.4530 - val_auc: 0.8681 - val_accuracy: 0.7842\n",
      "Epoch 210/300\n",
      "1321/1321 [==============================] - 3s 2ms/step - loss: 0.4391 - auc: 0.8763 - accuracy: 0.7907 - val_loss: 0.4497 - val_auc: 0.8709 - val_accuracy: 0.7882\n",
      "Epoch 211/300\n",
      "1321/1321 [==============================] - 3s 2ms/step - loss: 0.4386 - auc: 0.8769 - accuracy: 0.7926 - val_loss: 0.4529 - val_auc: 0.8690 - val_accuracy: 0.7888\n",
      "Epoch 212/300\n",
      "1321/1321 [==============================] - 3s 2ms/step - loss: 0.4365 - auc: 0.8778 - accuracy: 0.7919 - val_loss: 0.4505 - val_auc: 0.8703 - val_accuracy: 0.7868\n",
      "Epoch 213/300\n",
      "1321/1321 [==============================] - 3s 2ms/step - loss: 0.4394 - auc: 0.8762 - accuracy: 0.7908 - val_loss: 0.4488 - val_auc: 0.8711 - val_accuracy: 0.7865\n",
      "Epoch 214/300\n",
      "1321/1321 [==============================] - 3s 2ms/step - loss: 0.4368 - auc: 0.8778 - accuracy: 0.7925 - val_loss: 0.4570 - val_auc: 0.8663 - val_accuracy: 0.7843\n",
      "Epoch 215/300\n",
      "1321/1321 [==============================] - 3s 2ms/step - loss: 0.4368 - auc: 0.8780 - accuracy: 0.7934 - val_loss: 0.4556 - val_auc: 0.8669 - val_accuracy: 0.7826\n",
      "Epoch 216/300\n",
      "1321/1321 [==============================] - 3s 2ms/step - loss: 0.4363 - auc: 0.8780 - accuracy: 0.7925 - val_loss: 0.4498 - val_auc: 0.8709 - val_accuracy: 0.7890\n",
      "Epoch 217/300\n",
      "1321/1321 [==============================] - 3s 2ms/step - loss: 0.4375 - auc: 0.8772 - accuracy: 0.7916 - val_loss: 0.4531 - val_auc: 0.8686 - val_accuracy: 0.7868\n",
      "Epoch 218/300\n",
      "1321/1321 [==============================] - 3s 2ms/step - loss: 0.4370 - auc: 0.8776 - accuracy: 0.7926 - val_loss: 0.4557 - val_auc: 0.8683 - val_accuracy: 0.7849\n",
      "Epoch 219/300\n",
      "1321/1321 [==============================] - 3s 2ms/step - loss: 0.4371 - auc: 0.8776 - accuracy: 0.7923 - val_loss: 0.4506 - val_auc: 0.8704 - val_accuracy: 0.7908\n",
      "Epoch 220/300\n",
      "1321/1321 [==============================] - 3s 2ms/step - loss: 0.4354 - auc: 0.8786 - accuracy: 0.7921 - val_loss: 0.4491 - val_auc: 0.8712 - val_accuracy: 0.7883\n",
      "Epoch 221/300\n",
      "1321/1321 [==============================] - 3s 2ms/step - loss: 0.4366 - auc: 0.8779 - accuracy: 0.7935 - val_loss: 0.4508 - val_auc: 0.8701 - val_accuracy: 0.7880\n",
      "Epoch 222/300\n",
      "1321/1321 [==============================] - 3s 2ms/step - loss: 0.4360 - auc: 0.8783 - accuracy: 0.7930 - val_loss: 0.4533 - val_auc: 0.8684 - val_accuracy: 0.7862\n",
      "Epoch 223/300\n",
      "1321/1321 [==============================] - 3s 2ms/step - loss: 0.4360 - auc: 0.8781 - accuracy: 0.7924 - val_loss: 0.4495 - val_auc: 0.8708 - val_accuracy: 0.7876\n",
      "Epoch 224/300\n",
      "1321/1321 [==============================] - 3s 2ms/step - loss: 0.4355 - auc: 0.8785 - accuracy: 0.7935 - val_loss: 0.4478 - val_auc: 0.8723 - val_accuracy: 0.7901\n",
      "Epoch 225/300\n",
      "1321/1321 [==============================] - 3s 2ms/step - loss: 0.4343 - auc: 0.8794 - accuracy: 0.7949 - val_loss: 0.4534 - val_auc: 0.8685 - val_accuracy: 0.7853\n",
      "Epoch 226/300\n",
      "1321/1321 [==============================] - 3s 2ms/step - loss: 0.4352 - auc: 0.8787 - accuracy: 0.7924 - val_loss: 0.4523 - val_auc: 0.8689 - val_accuracy: 0.7825\n",
      "Epoch 227/300\n",
      "1321/1321 [==============================] - 3s 2ms/step - loss: 0.4358 - auc: 0.8785 - accuracy: 0.7942 - val_loss: 0.4474 - val_auc: 0.8721 - val_accuracy: 0.7933\n",
      "Epoch 228/300\n",
      "1321/1321 [==============================] - 3s 2ms/step - loss: 0.4361 - auc: 0.8783 - accuracy: 0.7913 - val_loss: 0.4485 - val_auc: 0.8720 - val_accuracy: 0.7922\n",
      "Epoch 229/300\n",
      "1321/1321 [==============================] - 3s 2ms/step - loss: 0.4348 - auc: 0.8791 - accuracy: 0.7938 - val_loss: 0.4528 - val_auc: 0.8687 - val_accuracy: 0.7858\n",
      "Epoch 230/300\n",
      "1321/1321 [==============================] - 3s 2ms/step - loss: 0.4339 - auc: 0.8797 - accuracy: 0.7954 - val_loss: 0.4506 - val_auc: 0.8707 - val_accuracy: 0.7899\n",
      "Epoch 231/300\n",
      "1321/1321 [==============================] - 3s 2ms/step - loss: 0.4345 - auc: 0.8793 - accuracy: 0.7945 - val_loss: 0.4478 - val_auc: 0.8725 - val_accuracy: 0.7909\n",
      "Epoch 232/300\n",
      "1321/1321 [==============================] - 3s 2ms/step - loss: 0.4342 - auc: 0.8796 - accuracy: 0.7945 - val_loss: 0.4511 - val_auc: 0.8701 - val_accuracy: 0.7876\n",
      "Epoch 233/300\n",
      "1321/1321 [==============================] - 3s 2ms/step - loss: 0.4350 - auc: 0.8789 - accuracy: 0.7940 - val_loss: 0.4466 - val_auc: 0.8727 - val_accuracy: 0.7925\n",
      "Epoch 234/300\n",
      "1321/1321 [==============================] - 3s 2ms/step - loss: 0.4340 - auc: 0.8794 - accuracy: 0.7942 - val_loss: 0.4460 - val_auc: 0.8736 - val_accuracy: 0.7910\n",
      "Epoch 235/300\n",
      "1321/1321 [==============================] - 3s 2ms/step - loss: 0.4337 - auc: 0.8795 - accuracy: 0.7941 - val_loss: 0.4489 - val_auc: 0.8714 - val_accuracy: 0.7887\n",
      "Epoch 236/300\n",
      "1321/1321 [==============================] - 3s 2ms/step - loss: 0.4347 - auc: 0.8792 - accuracy: 0.7939 - val_loss: 0.4480 - val_auc: 0.8717 - val_accuracy: 0.7909\n",
      "Epoch 237/300\n",
      "1321/1321 [==============================] - 3s 2ms/step - loss: 0.4342 - auc: 0.8794 - accuracy: 0.7936 - val_loss: 0.4473 - val_auc: 0.8725 - val_accuracy: 0.7907\n",
      "Epoch 238/300\n",
      "1321/1321 [==============================] - 3s 2ms/step - loss: 0.4334 - auc: 0.8799 - accuracy: 0.7933 - val_loss: 0.4510 - val_auc: 0.8701 - val_accuracy: 0.7872\n",
      "Epoch 239/300\n",
      "1321/1321 [==============================] - 3s 2ms/step - loss: 0.4332 - auc: 0.8798 - accuracy: 0.7937 - val_loss: 0.4535 - val_auc: 0.8690 - val_accuracy: 0.7866\n",
      "Epoch 240/300\n",
      "1321/1321 [==============================] - 3s 2ms/step - loss: 0.4321 - auc: 0.8804 - accuracy: 0.7941 - val_loss: 0.4492 - val_auc: 0.8711 - val_accuracy: 0.7903\n",
      "Epoch 241/300\n",
      "1321/1321 [==============================] - 3s 2ms/step - loss: 0.4334 - auc: 0.8794 - accuracy: 0.7920 - val_loss: 0.4468 - val_auc: 0.8725 - val_accuracy: 0.7898\n",
      "Epoch 242/300\n",
      "1321/1321 [==============================] - 3s 2ms/step - loss: 0.4327 - auc: 0.8802 - accuracy: 0.7945 - val_loss: 0.4551 - val_auc: 0.8675 - val_accuracy: 0.7849\n",
      "Epoch 243/300\n",
      "1321/1321 [==============================] - 3s 2ms/step - loss: 0.4335 - auc: 0.8798 - accuracy: 0.7940 - val_loss: 0.4500 - val_auc: 0.8711 - val_accuracy: 0.7899\n",
      "Epoch 244/300\n",
      "1321/1321 [==============================] - 3s 2ms/step - loss: 0.4324 - auc: 0.8804 - accuracy: 0.7940 - val_loss: 0.4495 - val_auc: 0.8710 - val_accuracy: 0.7886\n",
      "Epoch 245/300\n",
      "1321/1321 [==============================] - 3s 2ms/step - loss: 0.4342 - auc: 0.8792 - accuracy: 0.7935 - val_loss: 0.4475 - val_auc: 0.8724 - val_accuracy: 0.7905\n",
      "Epoch 246/300\n",
      "1321/1321 [==============================] - 3s 2ms/step - loss: 0.4333 - auc: 0.8798 - accuracy: 0.7942 - val_loss: 0.4498 - val_auc: 0.8707 - val_accuracy: 0.7891\n",
      "Epoch 247/300\n",
      "1321/1321 [==============================] - 3s 2ms/step - loss: 0.4320 - auc: 0.8806 - accuracy: 0.7947 - val_loss: 0.4507 - val_auc: 0.8706 - val_accuracy: 0.7885\n",
      "Epoch 248/300\n",
      "1321/1321 [==============================] - 3s 2ms/step - loss: 0.4319 - auc: 0.8806 - accuracy: 0.7935 - val_loss: 0.4491 - val_auc: 0.8716 - val_accuracy: 0.7884\n",
      "Epoch 249/300\n",
      "1321/1321 [==============================] - 3s 2ms/step - loss: 0.4328 - auc: 0.8800 - accuracy: 0.7944 - val_loss: 0.4473 - val_auc: 0.8721 - val_accuracy: 0.7882\n",
      "Epoch 250/300\n",
      "1321/1321 [==============================] - 3s 2ms/step - loss: 0.4320 - auc: 0.8806 - accuracy: 0.7934 - val_loss: 0.4498 - val_auc: 0.8706 - val_accuracy: 0.7880\n",
      "Epoch 251/300\n",
      "1321/1321 [==============================] - 3s 2ms/step - loss: 0.4313 - auc: 0.8809 - accuracy: 0.7942 - val_loss: 0.4474 - val_auc: 0.8719 - val_accuracy: 0.7893\n",
      "Epoch 252/300\n",
      "1321/1321 [==============================] - 3s 2ms/step - loss: 0.4317 - auc: 0.8809 - accuracy: 0.7951 - val_loss: 0.4471 - val_auc: 0.8725 - val_accuracy: 0.7929\n",
      "Epoch 253/300\n",
      "1321/1321 [==============================] - 3s 2ms/step - loss: 0.4312 - auc: 0.8809 - accuracy: 0.7948 - val_loss: 0.4461 - val_auc: 0.8724 - val_accuracy: 0.7881\n",
      "Epoch 254/300\n",
      "1321/1321 [==============================] - 3s 2ms/step - loss: 0.4314 - auc: 0.8809 - accuracy: 0.7957 - val_loss: 0.4469 - val_auc: 0.8731 - val_accuracy: 0.7927\n",
      "Epoch 255/300\n",
      "1321/1321 [==============================] - 3s 2ms/step - loss: 0.4304 - auc: 0.8814 - accuracy: 0.7950 - val_loss: 0.4445 - val_auc: 0.8741 - val_accuracy: 0.7925\n",
      "Epoch 256/300\n",
      "1321/1321 [==============================] - 3s 2ms/step - loss: 0.4316 - auc: 0.8809 - accuracy: 0.7945 - val_loss: 0.4490 - val_auc: 0.8715 - val_accuracy: 0.7886\n",
      "Epoch 257/300\n",
      "1321/1321 [==============================] - 3s 2ms/step - loss: 0.4306 - auc: 0.8814 - accuracy: 0.7951 - val_loss: 0.4474 - val_auc: 0.8724 - val_accuracy: 0.7911\n",
      "Epoch 258/300\n",
      "1321/1321 [==============================] - 3s 2ms/step - loss: 0.4313 - auc: 0.8811 - accuracy: 0.7946 - val_loss: 0.4441 - val_auc: 0.8745 - val_accuracy: 0.7904\n",
      "Epoch 259/300\n",
      "1321/1321 [==============================] - 3s 2ms/step - loss: 0.4295 - auc: 0.8821 - accuracy: 0.7951 - val_loss: 0.4464 - val_auc: 0.8731 - val_accuracy: 0.7921\n",
      "Epoch 260/300\n",
      "1321/1321 [==============================] - 3s 2ms/step - loss: 0.4308 - auc: 0.8814 - accuracy: 0.7959 - val_loss: 0.4483 - val_auc: 0.8720 - val_accuracy: 0.7911\n",
      "Epoch 261/300\n",
      "1321/1321 [==============================] - 3s 2ms/step - loss: 0.4299 - auc: 0.8816 - accuracy: 0.7944 - val_loss: 0.4473 - val_auc: 0.8722 - val_accuracy: 0.7898\n",
      "Epoch 262/300\n",
      "1321/1321 [==============================] - 3s 2ms/step - loss: 0.4312 - auc: 0.8810 - accuracy: 0.7944 - val_loss: 0.4450 - val_auc: 0.8743 - val_accuracy: 0.7931\n",
      "Epoch 263/300\n",
      "1321/1321 [==============================] - 3s 2ms/step - loss: 0.4292 - auc: 0.8822 - accuracy: 0.7955 - val_loss: 0.4456 - val_auc: 0.8740 - val_accuracy: 0.7908\n",
      "Epoch 264/300\n",
      "1321/1321 [==============================] - 3s 2ms/step - loss: 0.4296 - auc: 0.8821 - accuracy: 0.7958 - val_loss: 0.4442 - val_auc: 0.8739 - val_accuracy: 0.7891\n",
      "Epoch 265/300\n",
      "1321/1321 [==============================] - 3s 2ms/step - loss: 0.4295 - auc: 0.8821 - accuracy: 0.7959 - val_loss: 0.4465 - val_auc: 0.8731 - val_accuracy: 0.7908\n",
      "Epoch 266/300\n",
      "1321/1321 [==============================] - 3s 2ms/step - loss: 0.4285 - auc: 0.8824 - accuracy: 0.7956 - val_loss: 0.4469 - val_auc: 0.8723 - val_accuracy: 0.7905\n",
      "Epoch 267/300\n",
      "1321/1321 [==============================] - 3s 2ms/step - loss: 0.4283 - auc: 0.8828 - accuracy: 0.7961 - val_loss: 0.4472 - val_auc: 0.8727 - val_accuracy: 0.7866\n",
      "Epoch 268/300\n",
      "1321/1321 [==============================] - 3s 2ms/step - loss: 0.4285 - auc: 0.8827 - accuracy: 0.7968 - val_loss: 0.4491 - val_auc: 0.8721 - val_accuracy: 0.7885\n",
      "Epoch 269/300\n",
      "1321/1321 [==============================] - 3s 2ms/step - loss: 0.4281 - auc: 0.8828 - accuracy: 0.7958 - val_loss: 0.4535 - val_auc: 0.8701 - val_accuracy: 0.7862\n",
      "Epoch 270/300\n",
      "1321/1321 [==============================] - 3s 2ms/step - loss: 0.4291 - auc: 0.8822 - accuracy: 0.7961 - val_loss: 0.4474 - val_auc: 0.8729 - val_accuracy: 0.7878\n",
      "Epoch 271/300\n",
      "1321/1321 [==============================] - 3s 2ms/step - loss: 0.4293 - auc: 0.8822 - accuracy: 0.7961 - val_loss: 0.4463 - val_auc: 0.8728 - val_accuracy: 0.7904\n",
      "Epoch 272/300\n",
      "1321/1321 [==============================] - 3s 2ms/step - loss: 0.4289 - auc: 0.8823 - accuracy: 0.7964 - val_loss: 0.4462 - val_auc: 0.8728 - val_accuracy: 0.7907\n",
      "Epoch 273/300\n",
      "1321/1321 [==============================] - 3s 2ms/step - loss: 0.4283 - auc: 0.8828 - accuracy: 0.7964 - val_loss: 0.4481 - val_auc: 0.8725 - val_accuracy: 0.7899\n",
      "Epoch 274/300\n",
      "1321/1321 [==============================] - 3s 2ms/step - loss: 0.4274 - auc: 0.8830 - accuracy: 0.7958 - val_loss: 0.4430 - val_auc: 0.8748 - val_accuracy: 0.7940\n",
      "Epoch 275/300\n",
      "1321/1321 [==============================] - 3s 2ms/step - loss: 0.4268 - auc: 0.8837 - accuracy: 0.7975 - val_loss: 0.4489 - val_auc: 0.8717 - val_accuracy: 0.7907\n",
      "Epoch 276/300\n",
      "1321/1321 [==============================] - 3s 2ms/step - loss: 0.4269 - auc: 0.8834 - accuracy: 0.7969 - val_loss: 0.4461 - val_auc: 0.8738 - val_accuracy: 0.7898\n",
      "Epoch 277/300\n",
      "1321/1321 [==============================] - 3s 2ms/step - loss: 0.4277 - auc: 0.8832 - accuracy: 0.7971 - val_loss: 0.4453 - val_auc: 0.8734 - val_accuracy: 0.7884\n",
      "Epoch 278/300\n",
      "1321/1321 [==============================] - 3s 2ms/step - loss: 0.4280 - auc: 0.8829 - accuracy: 0.7957 - val_loss: 0.4482 - val_auc: 0.8721 - val_accuracy: 0.7907\n",
      "Epoch 279/300\n",
      "1321/1321 [==============================] - 3s 2ms/step - loss: 0.4277 - auc: 0.8832 - accuracy: 0.7983 - val_loss: 0.4460 - val_auc: 0.8734 - val_accuracy: 0.7891\n",
      "Epoch 280/300\n",
      "1321/1321 [==============================] - 3s 2ms/step - loss: 0.4279 - auc: 0.8828 - accuracy: 0.7975 - val_loss: 0.4429 - val_auc: 0.8748 - val_accuracy: 0.7895\n",
      "Epoch 281/300\n",
      "1321/1321 [==============================] - 3s 2ms/step - loss: 0.4285 - auc: 0.8827 - accuracy: 0.7964 - val_loss: 0.4455 - val_auc: 0.8736 - val_accuracy: 0.7915\n",
      "Epoch 282/300\n",
      "1321/1321 [==============================] - 3s 2ms/step - loss: 0.4266 - auc: 0.8838 - accuracy: 0.7977 - val_loss: 0.4474 - val_auc: 0.8723 - val_accuracy: 0.7886\n",
      "Epoch 283/300\n",
      "1321/1321 [==============================] - 3s 2ms/step - loss: 0.4279 - auc: 0.8827 - accuracy: 0.7963 - val_loss: 0.4513 - val_auc: 0.8705 - val_accuracy: 0.7870\n",
      "Epoch 284/300\n",
      "1321/1321 [==============================] - 3s 2ms/step - loss: 0.4276 - auc: 0.8832 - accuracy: 0.7969 - val_loss: 0.4443 - val_auc: 0.8747 - val_accuracy: 0.7928\n",
      "Epoch 285/300\n",
      "1321/1321 [==============================] - 3s 2ms/step - loss: 0.4270 - auc: 0.8835 - accuracy: 0.7961 - val_loss: 0.4421 - val_auc: 0.8760 - val_accuracy: 0.7935\n",
      "Epoch 286/300\n",
      "1321/1321 [==============================] - 3s 2ms/step - loss: 0.4288 - auc: 0.8825 - accuracy: 0.7975 - val_loss: 0.4452 - val_auc: 0.8738 - val_accuracy: 0.7901\n",
      "Epoch 287/300\n",
      "1321/1321 [==============================] - 3s 2ms/step - loss: 0.4264 - auc: 0.8837 - accuracy: 0.7966 - val_loss: 0.4464 - val_auc: 0.8733 - val_accuracy: 0.7905\n",
      "Epoch 288/300\n",
      "1321/1321 [==============================] - 3s 2ms/step - loss: 0.4264 - auc: 0.8838 - accuracy: 0.7961 - val_loss: 0.4481 - val_auc: 0.8719 - val_accuracy: 0.7892\n",
      "Epoch 289/300\n",
      "1321/1321 [==============================] - 3s 2ms/step - loss: 0.4254 - auc: 0.8844 - accuracy: 0.7987 - val_loss: 0.4495 - val_auc: 0.8712 - val_accuracy: 0.7890\n",
      "Epoch 290/300\n",
      "1321/1321 [==============================] - 3s 2ms/step - loss: 0.4267 - auc: 0.8836 - accuracy: 0.7966 - val_loss: 0.4485 - val_auc: 0.8721 - val_accuracy: 0.7913\n",
      "Epoch 291/300\n",
      "1321/1321 [==============================] - 3s 2ms/step - loss: 0.4270 - auc: 0.8835 - accuracy: 0.7974 - val_loss: 0.4408 - val_auc: 0.8761 - val_accuracy: 0.7933\n",
      "Epoch 292/300\n",
      "1321/1321 [==============================] - 3s 2ms/step - loss: 0.4264 - auc: 0.8837 - accuracy: 0.7974 - val_loss: 0.4427 - val_auc: 0.8751 - val_accuracy: 0.7941\n",
      "Epoch 293/300\n",
      "1321/1321 [==============================] - 3s 2ms/step - loss: 0.4256 - auc: 0.8843 - accuracy: 0.7969 - val_loss: 0.4447 - val_auc: 0.8739 - val_accuracy: 0.7928\n",
      "Epoch 294/300\n",
      "1321/1321 [==============================] - 3s 2ms/step - loss: 0.4255 - auc: 0.8842 - accuracy: 0.7975 - val_loss: 0.4481 - val_auc: 0.8729 - val_accuracy: 0.7891\n",
      "Epoch 295/300\n",
      "1321/1321 [==============================] - 3s 2ms/step - loss: 0.4241 - auc: 0.8853 - accuracy: 0.7976 - val_loss: 0.4458 - val_auc: 0.8740 - val_accuracy: 0.7922\n",
      "Epoch 296/300\n",
      "1321/1321 [==============================] - 3s 2ms/step - loss: 0.4252 - auc: 0.8846 - accuracy: 0.7972 - val_loss: 0.4431 - val_auc: 0.8749 - val_accuracy: 0.7924\n",
      "Epoch 297/300\n",
      "1321/1321 [==============================] - 2s 2ms/step - loss: 0.4234 - auc: 0.8857 - accuracy: 0.7983 - val_loss: 0.4453 - val_auc: 0.8738 - val_accuracy: 0.7929\n",
      "Epoch 298/300\n",
      "1321/1321 [==============================] - 2s 2ms/step - loss: 0.4256 - auc: 0.8844 - accuracy: 0.7982 - val_loss: 0.4448 - val_auc: 0.8741 - val_accuracy: 0.7915\n",
      "Epoch 299/300\n",
      "1321/1321 [==============================] - 3s 2ms/step - loss: 0.4269 - auc: 0.8836 - accuracy: 0.7977 - val_loss: 0.4449 - val_auc: 0.8742 - val_accuracy: 0.7900\n",
      "Epoch 300/300\n",
      "1321/1321 [==============================] - 3s 2ms/step - loss: 0.4263 - auc: 0.8839 - accuracy: 0.7982 - val_loss: 0.4485 - val_auc: 0.8717 - val_accuracy: 0.7918\n"
     ]
    }
   ],
   "source": [
    "with tf.device(\"cpu\"):\n",
    "    history_cls_c0, model_cls_c0 = make_cls_model(\n",
    "        Dense(64, activation=\"sigmoid\",input_dim=x_train_c0.shape[1]),\n",
    "        Dropout(0.1),\n",
    "        Dense(32, activation=\"relu\"),\n",
    "        # Dropout(0.1),\n",
    "        Dense(32, activation=\"relu\"),\n",
    "        # Dropout(0.1),\n",
    "        Dense(32, activation=\"relu\"),\n",
    "        last_activation=\"sigmoid\",\n",
    "        x=x_train_c0.values ,y=y_cls_train_c0,\n",
    "        epochs=300,\n",
    "        batch_size=64,\n",
    "        learning_rate=0.001\n",
    "    )"
   ],
   "metadata": {
    "collapsed": false,
    "pycharm": {
     "name": "#%%\n"
    }
   }
  },
  {
   "cell_type": "code",
   "execution_count": 25,
   "outputs": [
    {
     "data": {
      "text/plain": "<Figure size 1224x360 with 3 Axes>",
      "image/png": "[encoded data removed]"
     },
     "metadata": {
      "needs_background": "light"
     },
     "output_type": "display_data"
    }
   ],
   "source": [
    "# Plot history\n",
    "plot_history_cls(history_cls_c0, loss = \"binary_crossentropy\", key1 = 'accuracy', key2 = 'AUC')"
   ],
   "metadata": {
    "collapsed": false,
    "pycharm": {
     "name": "#%%\n"
    }
   }
  },
  {
   "cell_type": "markdown",
   "source": [
    "# Regression Model (how much rain if > 0)\n",
    "source : https://www.analyticsvidhya.com/blog/2021/08/a-walk-through-of-regression-analysis-using-artificial-neural-networks-in-tensorflow/"
   ],
   "metadata": {
    "collapsed": false
   }
  },
  {
   "cell_type": "code",
   "execution_count": 26,
   "outputs": [
    {
     "name": "stdout",
     "output_type": "stream",
     "text": [
      "Epoch 1/300\n",
      "1321/1321 [==============================] - 3s 2ms/step - loss: 0.0310 - mean_squared_error: 0.0310 - val_loss: 0.0299 - val_mean_squared_error: 0.0300\n",
      "Epoch 2/300\n",
      "1321/1321 [==============================] - 2s 2ms/step - loss: 0.0298 - mean_squared_error: 0.0298 - val_loss: 0.0294 - val_mean_squared_error: 0.0295\n",
      "Epoch 3/300\n",
      "1321/1321 [==============================] - 2s 2ms/step - loss: 0.0293 - mean_squared_error: 0.0293 - val_loss: 0.0294 - val_mean_squared_error: 0.0295\n",
      "Epoch 4/300\n",
      "1321/1321 [==============================] - 2s 2ms/step - loss: 0.0289 - mean_squared_error: 0.0289 - val_loss: 0.0286 - val_mean_squared_error: 0.0287\n",
      "Epoch 5/300\n",
      "1321/1321 [==============================] - 2s 2ms/step - loss: 0.0286 - mean_squared_error: 0.0286 - val_loss: 0.0291 - val_mean_squared_error: 0.0292\n",
      "Epoch 6/300\n",
      "1321/1321 [==============================] - 2s 2ms/step - loss: 0.0284 - mean_squared_error: 0.0284 - val_loss: 0.0280 - val_mean_squared_error: 0.0281\n",
      "Epoch 7/300\n",
      "1321/1321 [==============================] - 2s 2ms/step - loss: 0.0282 - mean_squared_error: 0.0282 - val_loss: 0.0285 - val_mean_squared_error: 0.0286\n",
      "Epoch 8/300\n",
      "1321/1321 [==============================] - 2s 2ms/step - loss: 0.0280 - mean_squared_error: 0.0280 - val_loss: 0.0276 - val_mean_squared_error: 0.0276\n",
      "Epoch 9/300\n",
      "1321/1321 [==============================] - 2s 2ms/step - loss: 0.0279 - mean_squared_error: 0.0279 - val_loss: 0.0275 - val_mean_squared_error: 0.0275\n",
      "Epoch 10/300\n",
      "1321/1321 [==============================] - 2s 2ms/step - loss: 0.0276 - mean_squared_error: 0.0276 - val_loss: 0.0271 - val_mean_squared_error: 0.0271\n",
      "Epoch 11/300\n",
      "1321/1321 [==============================] - 2s 2ms/step - loss: 0.0275 - mean_squared_error: 0.0275 - val_loss: 0.0270 - val_mean_squared_error: 0.0271\n",
      "Epoch 12/300\n",
      "1321/1321 [==============================] - 2s 2ms/step - loss: 0.0274 - mean_squared_error: 0.0274 - val_loss: 0.0273 - val_mean_squared_error: 0.0274\n",
      "Epoch 13/300\n",
      "1321/1321 [==============================] - 2s 2ms/step - loss: 0.0271 - mean_squared_error: 0.0271 - val_loss: 0.0266 - val_mean_squared_error: 0.0266\n",
      "Epoch 14/300\n",
      "1321/1321 [==============================] - 2s 2ms/step - loss: 0.0269 - mean_squared_error: 0.0269 - val_loss: 0.0263 - val_mean_squared_error: 0.0264\n",
      "Epoch 15/300\n",
      "1321/1321 [==============================] - 2s 2ms/step - loss: 0.0268 - mean_squared_error: 0.0269 - val_loss: 0.0265 - val_mean_squared_error: 0.0265\n",
      "Epoch 16/300\n",
      "1321/1321 [==============================] - 2s 2ms/step - loss: 0.0265 - mean_squared_error: 0.0265 - val_loss: 0.0268 - val_mean_squared_error: 0.0269\n",
      "Epoch 17/300\n",
      "1321/1321 [==============================] - 2s 2ms/step - loss: 0.0264 - mean_squared_error: 0.0264 - val_loss: 0.0259 - val_mean_squared_error: 0.0260\n",
      "Epoch 18/300\n",
      "1321/1321 [==============================] - 2s 2ms/step - loss: 0.0262 - mean_squared_error: 0.0262 - val_loss: 0.0258 - val_mean_squared_error: 0.0258\n",
      "Epoch 19/300\n",
      "1321/1321 [==============================] - 2s 2ms/step - loss: 0.0260 - mean_squared_error: 0.0260 - val_loss: 0.0260 - val_mean_squared_error: 0.0261\n",
      "Epoch 20/300\n",
      "1321/1321 [==============================] - 2s 2ms/step - loss: 0.0258 - mean_squared_error: 0.0258 - val_loss: 0.0265 - val_mean_squared_error: 0.0266\n",
      "Epoch 21/300\n",
      "1321/1321 [==============================] - 2s 2ms/step - loss: 0.0255 - mean_squared_error: 0.0255 - val_loss: 0.0247 - val_mean_squared_error: 0.0248\n",
      "Epoch 22/300\n",
      "1321/1321 [==============================] - 2s 2ms/step - loss: 0.0254 - mean_squared_error: 0.0254 - val_loss: 0.0266 - val_mean_squared_error: 0.0267\n",
      "Epoch 23/300\n",
      "1321/1321 [==============================] - 2s 1ms/step - loss: 0.0252 - mean_squared_error: 0.0252 - val_loss: 0.0254 - val_mean_squared_error: 0.0256\n",
      "Epoch 24/300\n",
      "1321/1321 [==============================] - 2s 1ms/step - loss: 0.0250 - mean_squared_error: 0.0250 - val_loss: 0.0249 - val_mean_squared_error: 0.0250\n",
      "Epoch 25/300\n",
      "1321/1321 [==============================] - 2s 2ms/step - loss: 0.0248 - mean_squared_error: 0.0248 - val_loss: 0.0241 - val_mean_squared_error: 0.0243\n",
      "Epoch 26/300\n",
      "1321/1321 [==============================] - 2s 2ms/step - loss: 0.0247 - mean_squared_error: 0.0247 - val_loss: 0.0239 - val_mean_squared_error: 0.0240\n",
      "Epoch 27/300\n",
      "1321/1321 [==============================] - 2s 2ms/step - loss: 0.0244 - mean_squared_error: 0.0244 - val_loss: 0.0241 - val_mean_squared_error: 0.0242\n",
      "Epoch 28/300\n",
      "1321/1321 [==============================] - 2s 2ms/step - loss: 0.0242 - mean_squared_error: 0.0242 - val_loss: 0.0246 - val_mean_squared_error: 0.0247\n",
      "Epoch 29/300\n",
      "1321/1321 [==============================] - 2s 2ms/step - loss: 0.0240 - mean_squared_error: 0.0240 - val_loss: 0.0236 - val_mean_squared_error: 0.0237\n",
      "Epoch 30/300\n",
      "1321/1321 [==============================] - 2s 2ms/step - loss: 0.0237 - mean_squared_error: 0.0237 - val_loss: 0.0236 - val_mean_squared_error: 0.0238\n",
      "Epoch 31/300\n",
      "1321/1321 [==============================] - 2s 2ms/step - loss: 0.0237 - mean_squared_error: 0.0237 - val_loss: 0.0231 - val_mean_squared_error: 0.0231\n",
      "Epoch 32/300\n",
      "1321/1321 [==============================] - 2s 2ms/step - loss: 0.0236 - mean_squared_error: 0.0236 - val_loss: 0.0231 - val_mean_squared_error: 0.0231\n",
      "Epoch 33/300\n",
      "1321/1321 [==============================] - 2s 1ms/step - loss: 0.0233 - mean_squared_error: 0.0233 - val_loss: 0.0228 - val_mean_squared_error: 0.0229\n",
      "Epoch 34/300\n",
      "1321/1321 [==============================] - 2s 1ms/step - loss: 0.0232 - mean_squared_error: 0.0232 - val_loss: 0.0225 - val_mean_squared_error: 0.0225\n",
      "Epoch 35/300\n",
      "1321/1321 [==============================] - 2s 1ms/step - loss: 0.0230 - mean_squared_error: 0.0230 - val_loss: 0.0238 - val_mean_squared_error: 0.0239\n",
      "Epoch 36/300\n",
      "1321/1321 [==============================] - 2s 1ms/step - loss: 0.0229 - mean_squared_error: 0.0229 - val_loss: 0.0220 - val_mean_squared_error: 0.0221\n",
      "Epoch 37/300\n",
      "1321/1321 [==============================] - 2s 1ms/step - loss: 0.0226 - mean_squared_error: 0.0226 - val_loss: 0.0223 - val_mean_squared_error: 0.0223\n",
      "Epoch 38/300\n",
      "1321/1321 [==============================] - 2s 1ms/step - loss: 0.0226 - mean_squared_error: 0.0226 - val_loss: 0.0218 - val_mean_squared_error: 0.0218\n",
      "Epoch 39/300\n",
      "1321/1321 [==============================] - 2s 1ms/step - loss: 0.0225 - mean_squared_error: 0.0225 - val_loss: 0.0225 - val_mean_squared_error: 0.0226\n",
      "Epoch 40/300\n",
      "1321/1321 [==============================] - 2s 1ms/step - loss: 0.0222 - mean_squared_error: 0.0222 - val_loss: 0.0230 - val_mean_squared_error: 0.0231\n",
      "Epoch 41/300\n",
      "1321/1321 [==============================] - 2s 1ms/step - loss: 0.0220 - mean_squared_error: 0.0220 - val_loss: 0.0213 - val_mean_squared_error: 0.0213\n",
      "Epoch 42/300\n",
      "1321/1321 [==============================] - 2s 2ms/step - loss: 0.0221 - mean_squared_error: 0.0221 - val_loss: 0.0215 - val_mean_squared_error: 0.0215\n",
      "Epoch 43/300\n",
      "1321/1321 [==============================] - 2s 1ms/step - loss: 0.0221 - mean_squared_error: 0.0221 - val_loss: 0.0214 - val_mean_squared_error: 0.0215\n",
      "Epoch 44/300\n",
      "1321/1321 [==============================] - 2s 1ms/step - loss: 0.0217 - mean_squared_error: 0.0217 - val_loss: 0.0222 - val_mean_squared_error: 0.0222\n",
      "Epoch 45/300\n",
      "1321/1321 [==============================] - 2s 1ms/step - loss: 0.0217 - mean_squared_error: 0.0217 - val_loss: 0.0211 - val_mean_squared_error: 0.0211\n",
      "Epoch 46/300\n",
      "1321/1321 [==============================] - 2s 1ms/step - loss: 0.0214 - mean_squared_error: 0.0214 - val_loss: 0.0207 - val_mean_squared_error: 0.0207\n",
      "Epoch 47/300\n",
      "1321/1321 [==============================] - 2s 1ms/step - loss: 0.0214 - mean_squared_error: 0.0214 - val_loss: 0.0212 - val_mean_squared_error: 0.0212\n",
      "Epoch 48/300\n",
      "1321/1321 [==============================] - 2s 1ms/step - loss: 0.0214 - mean_squared_error: 0.0214 - val_loss: 0.0206 - val_mean_squared_error: 0.0206\n",
      "Epoch 49/300\n",
      "1321/1321 [==============================] - 2s 1ms/step - loss: 0.0212 - mean_squared_error: 0.0212 - val_loss: 0.0205 - val_mean_squared_error: 0.0206\n",
      "Epoch 50/300\n",
      "1321/1321 [==============================] - 2s 1ms/step - loss: 0.0210 - mean_squared_error: 0.0210 - val_loss: 0.0206 - val_mean_squared_error: 0.0206\n",
      "Epoch 51/300\n",
      "1321/1321 [==============================] - 2s 1ms/step - loss: 0.0210 - mean_squared_error: 0.0210 - val_loss: 0.0200 - val_mean_squared_error: 0.0200\n",
      "Epoch 52/300\n",
      "1321/1321 [==============================] - 2s 1ms/step - loss: 0.0209 - mean_squared_error: 0.0209 - val_loss: 0.0204 - val_mean_squared_error: 0.0205\n",
      "Epoch 53/300\n",
      "1321/1321 [==============================] - 2s 1ms/step - loss: 0.0209 - mean_squared_error: 0.0209 - val_loss: 0.0203 - val_mean_squared_error: 0.0204\n",
      "Epoch 54/300\n",
      "1321/1321 [==============================] - 2s 1ms/step - loss: 0.0207 - mean_squared_error: 0.0207 - val_loss: 0.0198 - val_mean_squared_error: 0.0198\n",
      "Epoch 55/300\n",
      "1321/1321 [==============================] - 2s 1ms/step - loss: 0.0209 - mean_squared_error: 0.0209 - val_loss: 0.0206 - val_mean_squared_error: 0.0206\n",
      "Epoch 56/300\n",
      "1321/1321 [==============================] - 2s 1ms/step - loss: 0.0207 - mean_squared_error: 0.0207 - val_loss: 0.0201 - val_mean_squared_error: 0.0201\n",
      "Epoch 57/300\n",
      "1321/1321 [==============================] - 2s 1ms/step - loss: 0.0206 - mean_squared_error: 0.0206 - val_loss: 0.0199 - val_mean_squared_error: 0.0199\n",
      "Epoch 58/300\n",
      "1321/1321 [==============================] - 2s 1ms/step - loss: 0.0206 - mean_squared_error: 0.0206 - val_loss: 0.0199 - val_mean_squared_error: 0.0200\n",
      "Epoch 59/300\n",
      "1321/1321 [==============================] - 2s 2ms/step - loss: 0.0203 - mean_squared_error: 0.0203 - val_loss: 0.0201 - val_mean_squared_error: 0.0201\n",
      "Epoch 60/300\n",
      "1321/1321 [==============================] - 2s 1ms/step - loss: 0.0204 - mean_squared_error: 0.0204 - val_loss: 0.0195 - val_mean_squared_error: 0.0195\n",
      "Epoch 61/300\n",
      "1321/1321 [==============================] - 2s 1ms/step - loss: 0.0203 - mean_squared_error: 0.0203 - val_loss: 0.0196 - val_mean_squared_error: 0.0196\n",
      "Epoch 62/300\n",
      "1321/1321 [==============================] - 2s 2ms/step - loss: 0.0203 - mean_squared_error: 0.0203 - val_loss: 0.0196 - val_mean_squared_error: 0.0196\n",
      "Epoch 63/300\n",
      "1321/1321 [==============================] - 2s 2ms/step - loss: 0.0203 - mean_squared_error: 0.0203 - val_loss: 0.0192 - val_mean_squared_error: 0.0192\n",
      "Epoch 64/300\n",
      "1321/1321 [==============================] - 2s 2ms/step - loss: 0.0199 - mean_squared_error: 0.0199 - val_loss: 0.0192 - val_mean_squared_error: 0.0192\n",
      "Epoch 65/300\n",
      "1321/1321 [==============================] - 2s 2ms/step - loss: 0.0201 - mean_squared_error: 0.0201 - val_loss: 0.0203 - val_mean_squared_error: 0.0203\n",
      "Epoch 66/300\n",
      "1321/1321 [==============================] - 2s 2ms/step - loss: 0.0198 - mean_squared_error: 0.0198 - val_loss: 0.0191 - val_mean_squared_error: 0.0191\n",
      "Epoch 67/300\n",
      "1321/1321 [==============================] - 2s 2ms/step - loss: 0.0198 - mean_squared_error: 0.0198 - val_loss: 0.0193 - val_mean_squared_error: 0.0193\n",
      "Epoch 68/300\n",
      "1321/1321 [==============================] - 2s 2ms/step - loss: 0.0200 - mean_squared_error: 0.0200 - val_loss: 0.0201 - val_mean_squared_error: 0.0201\n",
      "Epoch 69/300\n",
      "1321/1321 [==============================] - 2s 2ms/step - loss: 0.0197 - mean_squared_error: 0.0197 - val_loss: 0.0190 - val_mean_squared_error: 0.0190\n",
      "Epoch 70/300\n",
      "1321/1321 [==============================] - 2s 2ms/step - loss: 0.0197 - mean_squared_error: 0.0197 - val_loss: 0.0190 - val_mean_squared_error: 0.0190\n",
      "Epoch 71/300\n",
      "1321/1321 [==============================] - 3s 2ms/step - loss: 0.0195 - mean_squared_error: 0.0196 - val_loss: 0.0196 - val_mean_squared_error: 0.0196\n",
      "Epoch 72/300\n",
      "1321/1321 [==============================] - 3s 2ms/step - loss: 0.0195 - mean_squared_error: 0.0195 - val_loss: 0.0192 - val_mean_squared_error: 0.0192\n",
      "Epoch 73/300\n",
      "1321/1321 [==============================] - 3s 2ms/step - loss: 0.0195 - mean_squared_error: 0.0195 - val_loss: 0.0187 - val_mean_squared_error: 0.0187\n",
      "Epoch 74/300\n",
      "1321/1321 [==============================] - 3s 2ms/step - loss: 0.0195 - mean_squared_error: 0.0195 - val_loss: 0.0193 - val_mean_squared_error: 0.0193\n",
      "Epoch 75/300\n",
      "1321/1321 [==============================] - 3s 2ms/step - loss: 0.0194 - mean_squared_error: 0.0194 - val_loss: 0.0193 - val_mean_squared_error: 0.0193\n",
      "Epoch 76/300\n",
      "1321/1321 [==============================] - 3s 2ms/step - loss: 0.0193 - mean_squared_error: 0.0193 - val_loss: 0.0196 - val_mean_squared_error: 0.0196\n",
      "Epoch 77/300\n",
      "1321/1321 [==============================] - 3s 2ms/step - loss: 0.0192 - mean_squared_error: 0.0192 - val_loss: 0.0188 - val_mean_squared_error: 0.0188\n",
      "Epoch 78/300\n",
      "1321/1321 [==============================] - 3s 2ms/step - loss: 0.0192 - mean_squared_error: 0.0192 - val_loss: 0.0187 - val_mean_squared_error: 0.0186\n",
      "Epoch 79/300\n",
      "1321/1321 [==============================] - 2s 2ms/step - loss: 0.0192 - mean_squared_error: 0.0192 - val_loss: 0.0189 - val_mean_squared_error: 0.0189\n",
      "Epoch 80/300\n",
      "1321/1321 [==============================] - 3s 2ms/step - loss: 0.0190 - mean_squared_error: 0.0190 - val_loss: 0.0195 - val_mean_squared_error: 0.0195\n",
      "Epoch 81/300\n",
      "1321/1321 [==============================] - 3s 2ms/step - loss: 0.0192 - mean_squared_error: 0.0192 - val_loss: 0.0190 - val_mean_squared_error: 0.0190\n",
      "Epoch 82/300\n",
      "1321/1321 [==============================] - 2s 2ms/step - loss: 0.0191 - mean_squared_error: 0.0191 - val_loss: 0.0185 - val_mean_squared_error: 0.0184\n",
      "Epoch 83/300\n",
      "1321/1321 [==============================] - 3s 2ms/step - loss: 0.0188 - mean_squared_error: 0.0188 - val_loss: 0.0182 - val_mean_squared_error: 0.0182\n",
      "Epoch 84/300\n",
      "1321/1321 [==============================] - 2s 2ms/step - loss: 0.0190 - mean_squared_error: 0.0190 - val_loss: 0.0185 - val_mean_squared_error: 0.0185\n",
      "Epoch 85/300\n",
      "1321/1321 [==============================] - 2s 2ms/step - loss: 0.0188 - mean_squared_error: 0.0188 - val_loss: 0.0186 - val_mean_squared_error: 0.0185\n",
      "Epoch 86/300\n",
      "1321/1321 [==============================] - 2s 2ms/step - loss: 0.0189 - mean_squared_error: 0.0189 - val_loss: 0.0185 - val_mean_squared_error: 0.0185\n",
      "Epoch 87/300\n",
      "1321/1321 [==============================] - 2s 2ms/step - loss: 0.0187 - mean_squared_error: 0.0187 - val_loss: 0.0182 - val_mean_squared_error: 0.0182\n",
      "Epoch 88/300\n",
      "1321/1321 [==============================] - 2s 1ms/step - loss: 0.0189 - mean_squared_error: 0.0189 - val_loss: 0.0190 - val_mean_squared_error: 0.0190\n",
      "Epoch 89/300\n",
      "1321/1321 [==============================] - 2s 1ms/step - loss: 0.0187 - mean_squared_error: 0.0187 - val_loss: 0.0186 - val_mean_squared_error: 0.0186\n",
      "Epoch 90/300\n",
      "1321/1321 [==============================] - 2s 2ms/step - loss: 0.0189 - mean_squared_error: 0.0189 - val_loss: 0.0180 - val_mean_squared_error: 0.0180\n",
      "Epoch 91/300\n",
      "1321/1321 [==============================] - 2s 2ms/step - loss: 0.0185 - mean_squared_error: 0.0185 - val_loss: 0.0184 - val_mean_squared_error: 0.0183\n",
      "Epoch 92/300\n",
      "1321/1321 [==============================] - 2s 2ms/step - loss: 0.0186 - mean_squared_error: 0.0186 - val_loss: 0.0184 - val_mean_squared_error: 0.0184\n",
      "Epoch 93/300\n",
      "1321/1321 [==============================] - 2s 2ms/step - loss: 0.0186 - mean_squared_error: 0.0186 - val_loss: 0.0182 - val_mean_squared_error: 0.0182\n",
      "Epoch 94/300\n",
      "1321/1321 [==============================] - 2s 2ms/step - loss: 0.0185 - mean_squared_error: 0.0185 - val_loss: 0.0185 - val_mean_squared_error: 0.0184\n",
      "Epoch 95/300\n",
      "1321/1321 [==============================] - 2s 2ms/step - loss: 0.0183 - mean_squared_error: 0.0183 - val_loss: 0.0180 - val_mean_squared_error: 0.0180\n",
      "Epoch 96/300\n",
      "1321/1321 [==============================] - 2s 2ms/step - loss: 0.0184 - mean_squared_error: 0.0183 - val_loss: 0.0185 - val_mean_squared_error: 0.0186\n",
      "Epoch 97/300\n",
      "1321/1321 [==============================] - 2s 2ms/step - loss: 0.0184 - mean_squared_error: 0.0184 - val_loss: 0.0180 - val_mean_squared_error: 0.0181\n",
      "Epoch 98/300\n",
      "1321/1321 [==============================] - 2s 2ms/step - loss: 0.0183 - mean_squared_error: 0.0183 - val_loss: 0.0182 - val_mean_squared_error: 0.0181\n",
      "Epoch 99/300\n",
      "1321/1321 [==============================] - 2s 2ms/step - loss: 0.0183 - mean_squared_error: 0.0183 - val_loss: 0.0183 - val_mean_squared_error: 0.0183\n",
      "Epoch 100/300\n",
      "1321/1321 [==============================] - 2s 2ms/step - loss: 0.0184 - mean_squared_error: 0.0184 - val_loss: 0.0178 - val_mean_squared_error: 0.0178\n",
      "Epoch 101/300\n",
      "1321/1321 [==============================] - 2s 2ms/step - loss: 0.0183 - mean_squared_error: 0.0183 - val_loss: 0.0176 - val_mean_squared_error: 0.0176\n",
      "Epoch 102/300\n",
      "1321/1321 [==============================] - 2s 1ms/step - loss: 0.0183 - mean_squared_error: 0.0183 - val_loss: 0.0180 - val_mean_squared_error: 0.0180\n",
      "Epoch 103/300\n",
      "1321/1321 [==============================] - 2s 2ms/step - loss: 0.0182 - mean_squared_error: 0.0182 - val_loss: 0.0175 - val_mean_squared_error: 0.0174\n",
      "Epoch 104/300\n",
      "1321/1321 [==============================] - 2s 1ms/step - loss: 0.0181 - mean_squared_error: 0.0181 - val_loss: 0.0178 - val_mean_squared_error: 0.0178\n",
      "Epoch 105/300\n",
      "1321/1321 [==============================] - 2s 1ms/step - loss: 0.0180 - mean_squared_error: 0.0180 - val_loss: 0.0184 - val_mean_squared_error: 0.0183\n",
      "Epoch 106/300\n",
      "1321/1321 [==============================] - 2s 1ms/step - loss: 0.0180 - mean_squared_error: 0.0180 - val_loss: 0.0177 - val_mean_squared_error: 0.0177\n",
      "Epoch 107/300\n",
      "1321/1321 [==============================] - 2s 1ms/step - loss: 0.0180 - mean_squared_error: 0.0180 - val_loss: 0.0185 - val_mean_squared_error: 0.0184\n",
      "Epoch 108/300\n",
      "1321/1321 [==============================] - 2s 1ms/step - loss: 0.0179 - mean_squared_error: 0.0179 - val_loss: 0.0179 - val_mean_squared_error: 0.0178\n",
      "Epoch 109/300\n",
      "1321/1321 [==============================] - 2s 1ms/step - loss: 0.0178 - mean_squared_error: 0.0178 - val_loss: 0.0181 - val_mean_squared_error: 0.0180\n",
      "Epoch 110/300\n",
      "1321/1321 [==============================] - 2s 1ms/step - loss: 0.0179 - mean_squared_error: 0.0179 - val_loss: 0.0176 - val_mean_squared_error: 0.0176\n",
      "Epoch 111/300\n",
      "1321/1321 [==============================] - 2s 1ms/step - loss: 0.0179 - mean_squared_error: 0.0179 - val_loss: 0.0175 - val_mean_squared_error: 0.0175\n",
      "Epoch 112/300\n",
      "1321/1321 [==============================] - 2s 1ms/step - loss: 0.0178 - mean_squared_error: 0.0178 - val_loss: 0.0178 - val_mean_squared_error: 0.0178\n",
      "Epoch 113/300\n",
      "1321/1321 [==============================] - 2s 1ms/step - loss: 0.0179 - mean_squared_error: 0.0179 - val_loss: 0.0176 - val_mean_squared_error: 0.0176\n",
      "Epoch 114/300\n",
      "1321/1321 [==============================] - 2s 1ms/step - loss: 0.0175 - mean_squared_error: 0.0175 - val_loss: 0.0177 - val_mean_squared_error: 0.0178\n",
      "Epoch 115/300\n",
      "1321/1321 [==============================] - 2s 1ms/step - loss: 0.0177 - mean_squared_error: 0.0177 - val_loss: 0.0177 - val_mean_squared_error: 0.0177\n",
      "Epoch 116/300\n",
      "1321/1321 [==============================] - 2s 1ms/step - loss: 0.0179 - mean_squared_error: 0.0179 - val_loss: 0.0177 - val_mean_squared_error: 0.0177\n",
      "Epoch 117/300\n",
      "1321/1321 [==============================] - 2s 1ms/step - loss: 0.0177 - mean_squared_error: 0.0177 - val_loss: 0.0173 - val_mean_squared_error: 0.0173\n",
      "Epoch 118/300\n",
      "1321/1321 [==============================] - 2s 1ms/step - loss: 0.0176 - mean_squared_error: 0.0176 - val_loss: 0.0173 - val_mean_squared_error: 0.0173\n",
      "Epoch 119/300\n",
      "1321/1321 [==============================] - 2s 1ms/step - loss: 0.0177 - mean_squared_error: 0.0177 - val_loss: 0.0182 - val_mean_squared_error: 0.0182\n",
      "Epoch 120/300\n",
      "1321/1321 [==============================] - 2s 1ms/step - loss: 0.0177 - mean_squared_error: 0.0177 - val_loss: 0.0171 - val_mean_squared_error: 0.0171\n",
      "Epoch 121/300\n",
      "1321/1321 [==============================] - 3s 2ms/step - loss: 0.0177 - mean_squared_error: 0.0177 - val_loss: 0.0175 - val_mean_squared_error: 0.0175\n",
      "Epoch 122/300\n",
      "1321/1321 [==============================] - 2s 2ms/step - loss: 0.0176 - mean_squared_error: 0.0176 - val_loss: 0.0176 - val_mean_squared_error: 0.0175\n",
      "Epoch 123/300\n",
      "1321/1321 [==============================] - 3s 2ms/step - loss: 0.0175 - mean_squared_error: 0.0175 - val_loss: 0.0176 - val_mean_squared_error: 0.0176\n",
      "Epoch 124/300\n",
      "1321/1321 [==============================] - 2s 2ms/step - loss: 0.0173 - mean_squared_error: 0.0173 - val_loss: 0.0174 - val_mean_squared_error: 0.0173\n",
      "Epoch 125/300\n",
      "1321/1321 [==============================] - 2s 2ms/step - loss: 0.0175 - mean_squared_error: 0.0175 - val_loss: 0.0194 - val_mean_squared_error: 0.0194\n",
      "Epoch 126/300\n",
      "1321/1321 [==============================] - 2s 2ms/step - loss: 0.0174 - mean_squared_error: 0.0174 - val_loss: 0.0177 - val_mean_squared_error: 0.0177\n",
      "Epoch 127/300\n",
      "1321/1321 [==============================] - 2s 2ms/step - loss: 0.0174 - mean_squared_error: 0.0174 - val_loss: 0.0172 - val_mean_squared_error: 0.0172\n",
      "Epoch 128/300\n",
      "1321/1321 [==============================] - 2s 2ms/step - loss: 0.0175 - mean_squared_error: 0.0175 - val_loss: 0.0175 - val_mean_squared_error: 0.0174\n",
      "Epoch 129/300\n",
      "1321/1321 [==============================] - 2s 1ms/step - loss: 0.0172 - mean_squared_error: 0.0172 - val_loss: 0.0176 - val_mean_squared_error: 0.0176\n",
      "Epoch 130/300\n",
      "1321/1321 [==============================] - 2s 2ms/step - loss: 0.0174 - mean_squared_error: 0.0174 - val_loss: 0.0176 - val_mean_squared_error: 0.0175\n",
      "Epoch 131/300\n",
      "1321/1321 [==============================] - 2s 2ms/step - loss: 0.0172 - mean_squared_error: 0.0172 - val_loss: 0.0171 - val_mean_squared_error: 0.0170\n",
      "Epoch 132/300\n",
      "1321/1321 [==============================] - 2s 2ms/step - loss: 0.0172 - mean_squared_error: 0.0172 - val_loss: 0.0171 - val_mean_squared_error: 0.0171\n",
      "Epoch 133/300\n",
      "1321/1321 [==============================] - 2s 2ms/step - loss: 0.0170 - mean_squared_error: 0.0170 - val_loss: 0.0173 - val_mean_squared_error: 0.0172\n",
      "Epoch 134/300\n",
      "1321/1321 [==============================] - 2s 1ms/step - loss: 0.0171 - mean_squared_error: 0.0171 - val_loss: 0.0169 - val_mean_squared_error: 0.0169\n",
      "Epoch 135/300\n",
      "1321/1321 [==============================] - 2s 2ms/step - loss: 0.0172 - mean_squared_error: 0.0171 - val_loss: 0.0172 - val_mean_squared_error: 0.0172\n",
      "Epoch 136/300\n",
      "1321/1321 [==============================] - 2s 2ms/step - loss: 0.0170 - mean_squared_error: 0.0170 - val_loss: 0.0171 - val_mean_squared_error: 0.0171\n",
      "Epoch 137/300\n",
      "1321/1321 [==============================] - 2s 2ms/step - loss: 0.0172 - mean_squared_error: 0.0172 - val_loss: 0.0169 - val_mean_squared_error: 0.0169\n",
      "Epoch 138/300\n",
      "1321/1321 [==============================] - 2s 2ms/step - loss: 0.0171 - mean_squared_error: 0.0171 - val_loss: 0.0173 - val_mean_squared_error: 0.0172\n",
      "Epoch 139/300\n",
      "1321/1321 [==============================] - 2s 2ms/step - loss: 0.0170 - mean_squared_error: 0.0170 - val_loss: 0.0168 - val_mean_squared_error: 0.0167\n",
      "Epoch 140/300\n",
      "1321/1321 [==============================] - 2s 2ms/step - loss: 0.0170 - mean_squared_error: 0.0170 - val_loss: 0.0175 - val_mean_squared_error: 0.0174\n",
      "Epoch 141/300\n",
      "1321/1321 [==============================] - 2s 2ms/step - loss: 0.0170 - mean_squared_error: 0.0170 - val_loss: 0.0169 - val_mean_squared_error: 0.0169\n",
      "Epoch 142/300\n",
      "1321/1321 [==============================] - 2s 2ms/step - loss: 0.0168 - mean_squared_error: 0.0168 - val_loss: 0.0166 - val_mean_squared_error: 0.0166\n",
      "Epoch 143/300\n",
      "1321/1321 [==============================] - 2s 2ms/step - loss: 0.0169 - mean_squared_error: 0.0169 - val_loss: 0.0172 - val_mean_squared_error: 0.0172\n",
      "Epoch 144/300\n",
      "1321/1321 [==============================] - 2s 2ms/step - loss: 0.0169 - mean_squared_error: 0.0169 - val_loss: 0.0165 - val_mean_squared_error: 0.0165\n",
      "Epoch 145/300\n",
      "1321/1321 [==============================] - 2s 2ms/step - loss: 0.0167 - mean_squared_error: 0.0167 - val_loss: 0.0172 - val_mean_squared_error: 0.0172\n",
      "Epoch 146/300\n",
      "1321/1321 [==============================] - 2s 2ms/step - loss: 0.0169 - mean_squared_error: 0.0169 - val_loss: 0.0169 - val_mean_squared_error: 0.0168\n",
      "Epoch 147/300\n",
      "1321/1321 [==============================] - 3s 2ms/step - loss: 0.0169 - mean_squared_error: 0.0169 - val_loss: 0.0166 - val_mean_squared_error: 0.0165\n",
      "Epoch 148/300\n",
      "1321/1321 [==============================] - 2s 2ms/step - loss: 0.0169 - mean_squared_error: 0.0169 - val_loss: 0.0165 - val_mean_squared_error: 0.0165\n",
      "Epoch 149/300\n",
      "1321/1321 [==============================] - 2s 2ms/step - loss: 0.0167 - mean_squared_error: 0.0167 - val_loss: 0.0169 - val_mean_squared_error: 0.0168\n",
      "Epoch 150/300\n",
      "1321/1321 [==============================] - 3s 2ms/step - loss: 0.0166 - mean_squared_error: 0.0166 - val_loss: 0.0166 - val_mean_squared_error: 0.0166\n",
      "Epoch 151/300\n",
      "1321/1321 [==============================] - 2s 2ms/step - loss: 0.0167 - mean_squared_error: 0.0167 - val_loss: 0.0173 - val_mean_squared_error: 0.0173\n",
      "Epoch 152/300\n",
      "1321/1321 [==============================] - 3s 2ms/step - loss: 0.0167 - mean_squared_error: 0.0167 - val_loss: 0.0169 - val_mean_squared_error: 0.0169\n",
      "Epoch 153/300\n",
      "1321/1321 [==============================] - 2s 2ms/step - loss: 0.0169 - mean_squared_error: 0.0169 - val_loss: 0.0163 - val_mean_squared_error: 0.0163\n",
      "Epoch 154/300\n",
      "1321/1321 [==============================] - 2s 2ms/step - loss: 0.0166 - mean_squared_error: 0.0166 - val_loss: 0.0171 - val_mean_squared_error: 0.0170\n",
      "Epoch 155/300\n",
      "1321/1321 [==============================] - 3s 2ms/step - loss: 0.0166 - mean_squared_error: 0.0166 - val_loss: 0.0169 - val_mean_squared_error: 0.0168\n",
      "Epoch 156/300\n",
      "1321/1321 [==============================] - 2s 2ms/step - loss: 0.0168 - mean_squared_error: 0.0168 - val_loss: 0.0171 - val_mean_squared_error: 0.0171\n",
      "Epoch 157/300\n",
      "1321/1321 [==============================] - 2s 2ms/step - loss: 0.0166 - mean_squared_error: 0.0166 - val_loss: 0.0172 - val_mean_squared_error: 0.0171\n",
      "Epoch 158/300\n",
      "1321/1321 [==============================] - 2s 2ms/step - loss: 0.0167 - mean_squared_error: 0.0167 - val_loss: 0.0162 - val_mean_squared_error: 0.0162\n",
      "Epoch 159/300\n",
      "1321/1321 [==============================] - 3s 2ms/step - loss: 0.0165 - mean_squared_error: 0.0165 - val_loss: 0.0169 - val_mean_squared_error: 0.0169\n",
      "Epoch 160/300\n",
      "1321/1321 [==============================] - 3s 2ms/step - loss: 0.0166 - mean_squared_error: 0.0166 - val_loss: 0.0163 - val_mean_squared_error: 0.0163\n",
      "Epoch 161/300\n",
      "1321/1321 [==============================] - 3s 2ms/step - loss: 0.0165 - mean_squared_error: 0.0165 - val_loss: 0.0165 - val_mean_squared_error: 0.0165\n",
      "Epoch 162/300\n",
      "1321/1321 [==============================] - 3s 2ms/step - loss: 0.0165 - mean_squared_error: 0.0165 - val_loss: 0.0163 - val_mean_squared_error: 0.0163\n",
      "Epoch 163/300\n",
      "1321/1321 [==============================] - 3s 2ms/step - loss: 0.0165 - mean_squared_error: 0.0165 - val_loss: 0.0166 - val_mean_squared_error: 0.0166\n",
      "Epoch 164/300\n",
      "1321/1321 [==============================] - 3s 2ms/step - loss: 0.0165 - mean_squared_error: 0.0165 - val_loss: 0.0173 - val_mean_squared_error: 0.0173\n",
      "Epoch 165/300\n",
      "1321/1321 [==============================] - 3s 2ms/step - loss: 0.0164 - mean_squared_error: 0.0164 - val_loss: 0.0164 - val_mean_squared_error: 0.0163\n",
      "Epoch 166/300\n",
      "1321/1321 [==============================] - 3s 2ms/step - loss: 0.0165 - mean_squared_error: 0.0165 - val_loss: 0.0161 - val_mean_squared_error: 0.0161\n",
      "Epoch 167/300\n",
      "1321/1321 [==============================] - 3s 2ms/step - loss: 0.0164 - mean_squared_error: 0.0164 - val_loss: 0.0160 - val_mean_squared_error: 0.0160\n",
      "Epoch 168/300\n",
      "1321/1321 [==============================] - 3s 2ms/step - loss: 0.0163 - mean_squared_error: 0.0163 - val_loss: 0.0160 - val_mean_squared_error: 0.0160\n",
      "Epoch 169/300\n",
      "1321/1321 [==============================] - 2s 2ms/step - loss: 0.0163 - mean_squared_error: 0.0163 - val_loss: 0.0163 - val_mean_squared_error: 0.0163\n",
      "Epoch 170/300\n",
      "1321/1321 [==============================] - 2s 2ms/step - loss: 0.0164 - mean_squared_error: 0.0164 - val_loss: 0.0163 - val_mean_squared_error: 0.0163\n",
      "Epoch 171/300\n",
      "1321/1321 [==============================] - 2s 2ms/step - loss: 0.0162 - mean_squared_error: 0.0162 - val_loss: 0.0162 - val_mean_squared_error: 0.0162\n",
      "Epoch 172/300\n",
      "1321/1321 [==============================] - 2s 2ms/step - loss: 0.0163 - mean_squared_error: 0.0163 - val_loss: 0.0165 - val_mean_squared_error: 0.0164\n",
      "Epoch 173/300\n",
      "1321/1321 [==============================] - 2s 2ms/step - loss: 0.0162 - mean_squared_error: 0.0162 - val_loss: 0.0165 - val_mean_squared_error: 0.0165\n",
      "Epoch 174/300\n",
      "1321/1321 [==============================] - 2s 2ms/step - loss: 0.0162 - mean_squared_error: 0.0162 - val_loss: 0.0167 - val_mean_squared_error: 0.0167\n",
      "Epoch 175/300\n",
      "1321/1321 [==============================] - 2s 2ms/step - loss: 0.0162 - mean_squared_error: 0.0162 - val_loss: 0.0164 - val_mean_squared_error: 0.0163\n",
      "Epoch 176/300\n",
      "1321/1321 [==============================] - 2s 2ms/step - loss: 0.0161 - mean_squared_error: 0.0161 - val_loss: 0.0164 - val_mean_squared_error: 0.0163\n",
      "Epoch 177/300\n",
      "1321/1321 [==============================] - 2s 1ms/step - loss: 0.0163 - mean_squared_error: 0.0163 - val_loss: 0.0161 - val_mean_squared_error: 0.0160\n",
      "Epoch 178/300\n",
      "1321/1321 [==============================] - 2s 1ms/step - loss: 0.0162 - mean_squared_error: 0.0162 - val_loss: 0.0165 - val_mean_squared_error: 0.0165\n",
      "Epoch 179/300\n",
      "1321/1321 [==============================] - 2s 1ms/step - loss: 0.0164 - mean_squared_error: 0.0164 - val_loss: 0.0160 - val_mean_squared_error: 0.0160\n",
      "Epoch 180/300\n",
      "1321/1321 [==============================] - 2s 1ms/step - loss: 0.0161 - mean_squared_error: 0.0161 - val_loss: 0.0160 - val_mean_squared_error: 0.0159\n",
      "Epoch 181/300\n",
      "1321/1321 [==============================] - 2s 2ms/step - loss: 0.0160 - mean_squared_error: 0.0160 - val_loss: 0.0164 - val_mean_squared_error: 0.0164\n",
      "Epoch 182/300\n",
      "1321/1321 [==============================] - 2s 1ms/step - loss: 0.0160 - mean_squared_error: 0.0160 - val_loss: 0.0163 - val_mean_squared_error: 0.0163\n",
      "Epoch 183/300\n",
      "1321/1321 [==============================] - 2s 2ms/step - loss: 0.0160 - mean_squared_error: 0.0160 - val_loss: 0.0160 - val_mean_squared_error: 0.0160\n",
      "Epoch 184/300\n",
      "1321/1321 [==============================] - 2s 2ms/step - loss: 0.0161 - mean_squared_error: 0.0161 - val_loss: 0.0163 - val_mean_squared_error: 0.0162\n",
      "Epoch 185/300\n",
      "1321/1321 [==============================] - 2s 1ms/step - loss: 0.0159 - mean_squared_error: 0.0159 - val_loss: 0.0169 - val_mean_squared_error: 0.0169\n",
      "Epoch 186/300\n",
      "1321/1321 [==============================] - 2s 2ms/step - loss: 0.0157 - mean_squared_error: 0.0157 - val_loss: 0.0166 - val_mean_squared_error: 0.0165\n",
      "Epoch 187/300\n",
      "1321/1321 [==============================] - 2s 2ms/step - loss: 0.0160 - mean_squared_error: 0.0160 - val_loss: 0.0168 - val_mean_squared_error: 0.0168\n",
      "Epoch 188/300\n",
      "1321/1321 [==============================] - 2s 2ms/step - loss: 0.0160 - mean_squared_error: 0.0160 - val_loss: 0.0156 - val_mean_squared_error: 0.0156\n",
      "Epoch 189/300\n",
      "1321/1321 [==============================] - 2s 2ms/step - loss: 0.0159 - mean_squared_error: 0.0159 - val_loss: 0.0165 - val_mean_squared_error: 0.0165\n",
      "Epoch 190/300\n",
      "1321/1321 [==============================] - 2s 2ms/step - loss: 0.0159 - mean_squared_error: 0.0159 - val_loss: 0.0159 - val_mean_squared_error: 0.0159\n",
      "Epoch 191/300\n",
      "1321/1321 [==============================] - 2s 2ms/step - loss: 0.0157 - mean_squared_error: 0.0157 - val_loss: 0.0162 - val_mean_squared_error: 0.0161\n",
      "Epoch 192/300\n",
      "1321/1321 [==============================] - 2s 2ms/step - loss: 0.0159 - mean_squared_error: 0.0159 - val_loss: 0.0159 - val_mean_squared_error: 0.0159\n",
      "Epoch 193/300\n",
      "1321/1321 [==============================] - 2s 2ms/step - loss: 0.0159 - mean_squared_error: 0.0159 - val_loss: 0.0163 - val_mean_squared_error: 0.0163\n",
      "Epoch 194/300\n",
      "1321/1321 [==============================] - 3s 2ms/step - loss: 0.0158 - mean_squared_error: 0.0158 - val_loss: 0.0157 - val_mean_squared_error: 0.0157\n",
      "Epoch 195/300\n",
      "1321/1321 [==============================] - 3s 2ms/step - loss: 0.0158 - mean_squared_error: 0.0158 - val_loss: 0.0156 - val_mean_squared_error: 0.0156\n",
      "Epoch 196/300\n",
      "1321/1321 [==============================] - 3s 2ms/step - loss: 0.0158 - mean_squared_error: 0.0158 - val_loss: 0.0159 - val_mean_squared_error: 0.0158\n",
      "Epoch 197/300\n",
      "1321/1321 [==============================] - 3s 2ms/step - loss: 0.0157 - mean_squared_error: 0.0157 - val_loss: 0.0158 - val_mean_squared_error: 0.0158\n",
      "Epoch 198/300\n",
      "1321/1321 [==============================] - 3s 2ms/step - loss: 0.0157 - mean_squared_error: 0.0157 - val_loss: 0.0159 - val_mean_squared_error: 0.0159\n",
      "Epoch 199/300\n",
      "1321/1321 [==============================] - 3s 2ms/step - loss: 0.0156 - mean_squared_error: 0.0156 - val_loss: 0.0159 - val_mean_squared_error: 0.0158\n",
      "Epoch 200/300\n",
      "1321/1321 [==============================] - 3s 2ms/step - loss: 0.0155 - mean_squared_error: 0.0155 - val_loss: 0.0156 - val_mean_squared_error: 0.0156\n",
      "Epoch 201/300\n",
      "1321/1321 [==============================] - 3s 2ms/step - loss: 0.0158 - mean_squared_error: 0.0158 - val_loss: 0.0162 - val_mean_squared_error: 0.0162\n",
      "Epoch 202/300\n",
      "1321/1321 [==============================] - 2s 2ms/step - loss: 0.0155 - mean_squared_error: 0.0155 - val_loss: 0.0157 - val_mean_squared_error: 0.0156\n",
      "Epoch 203/300\n",
      "1321/1321 [==============================] - 3s 3ms/step - loss: 0.0159 - mean_squared_error: 0.0159 - val_loss: 0.0161 - val_mean_squared_error: 0.0161\n",
      "Epoch 204/300\n",
      "1321/1321 [==============================] - 3s 2ms/step - loss: 0.0157 - mean_squared_error: 0.0157 - val_loss: 0.0156 - val_mean_squared_error: 0.0156\n",
      "Epoch 205/300\n",
      "1321/1321 [==============================] - 3s 2ms/step - loss: 0.0158 - mean_squared_error: 0.0158 - val_loss: 0.0168 - val_mean_squared_error: 0.0168\n",
      "Epoch 206/300\n",
      "1321/1321 [==============================] - 3s 2ms/step - loss: 0.0157 - mean_squared_error: 0.0157 - val_loss: 0.0158 - val_mean_squared_error: 0.0158\n",
      "Epoch 207/300\n",
      "1321/1321 [==============================] - 2s 2ms/step - loss: 0.0156 - mean_squared_error: 0.0156 - val_loss: 0.0168 - val_mean_squared_error: 0.0167\n",
      "Epoch 208/300\n",
      "1321/1321 [==============================] - 3s 2ms/step - loss: 0.0158 - mean_squared_error: 0.0158 - val_loss: 0.0162 - val_mean_squared_error: 0.0162\n",
      "Epoch 209/300\n",
      "1321/1321 [==============================] - 3s 2ms/step - loss: 0.0154 - mean_squared_error: 0.0154 - val_loss: 0.0158 - val_mean_squared_error: 0.0157\n",
      "Epoch 210/300\n",
      "1321/1321 [==============================] - 3s 2ms/step - loss: 0.0156 - mean_squared_error: 0.0156 - val_loss: 0.0152 - val_mean_squared_error: 0.0152\n",
      "Epoch 211/300\n",
      "1321/1321 [==============================] - 4s 3ms/step - loss: 0.0157 - mean_squared_error: 0.0157 - val_loss: 0.0158 - val_mean_squared_error: 0.0157\n",
      "Epoch 212/300\n",
      "1321/1321 [==============================] - 3s 3ms/step - loss: 0.0156 - mean_squared_error: 0.0156 - val_loss: 0.0158 - val_mean_squared_error: 0.0157\n",
      "Epoch 213/300\n",
      "1321/1321 [==============================] - 2s 2ms/step - loss: 0.0157 - mean_squared_error: 0.0157 - val_loss: 0.0157 - val_mean_squared_error: 0.0156\n",
      "Epoch 214/300\n",
      "1321/1321 [==============================] - 2s 2ms/step - loss: 0.0156 - mean_squared_error: 0.0156 - val_loss: 0.0155 - val_mean_squared_error: 0.0154\n",
      "Epoch 215/300\n",
      "1321/1321 [==============================] - 2s 2ms/step - loss: 0.0155 - mean_squared_error: 0.0154 - val_loss: 0.0159 - val_mean_squared_error: 0.0159\n",
      "Epoch 216/300\n",
      "1321/1321 [==============================] - 2s 2ms/step - loss: 0.0155 - mean_squared_error: 0.0155 - val_loss: 0.0157 - val_mean_squared_error: 0.0157\n",
      "Epoch 217/300\n",
      "1321/1321 [==============================] - 2s 2ms/step - loss: 0.0155 - mean_squared_error: 0.0155 - val_loss: 0.0167 - val_mean_squared_error: 0.0167\n",
      "Epoch 218/300\n",
      "1321/1321 [==============================] - 2s 2ms/step - loss: 0.0157 - mean_squared_error: 0.0157 - val_loss: 0.0152 - val_mean_squared_error: 0.0152\n",
      "Epoch 219/300\n",
      "1321/1321 [==============================] - 2s 2ms/step - loss: 0.0154 - mean_squared_error: 0.0154 - val_loss: 0.0157 - val_mean_squared_error: 0.0157\n",
      "Epoch 220/300\n",
      "1321/1321 [==============================] - 2s 2ms/step - loss: 0.0156 - mean_squared_error: 0.0156 - val_loss: 0.0159 - val_mean_squared_error: 0.0158\n",
      "Epoch 221/300\n",
      "1321/1321 [==============================] - 2s 2ms/step - loss: 0.0155 - mean_squared_error: 0.0155 - val_loss: 0.0152 - val_mean_squared_error: 0.0152\n",
      "Epoch 222/300\n",
      "1321/1321 [==============================] - 2s 2ms/step - loss: 0.0153 - mean_squared_error: 0.0153 - val_loss: 0.0157 - val_mean_squared_error: 0.0156\n",
      "Epoch 223/300\n",
      "1321/1321 [==============================] - 2s 2ms/step - loss: 0.0154 - mean_squared_error: 0.0154 - val_loss: 0.0154 - val_mean_squared_error: 0.0153\n",
      "Epoch 224/300\n",
      "1321/1321 [==============================] - 2s 2ms/step - loss: 0.0153 - mean_squared_error: 0.0153 - val_loss: 0.0154 - val_mean_squared_error: 0.0153\n",
      "Epoch 225/300\n",
      "1321/1321 [==============================] - 2s 2ms/step - loss: 0.0152 - mean_squared_error: 0.0152 - val_loss: 0.0155 - val_mean_squared_error: 0.0155\n",
      "Epoch 226/300\n",
      "1321/1321 [==============================] - 2s 2ms/step - loss: 0.0152 - mean_squared_error: 0.0152 - val_loss: 0.0154 - val_mean_squared_error: 0.0154\n",
      "Epoch 227/300\n",
      "1321/1321 [==============================] - 2s 2ms/step - loss: 0.0154 - mean_squared_error: 0.0154 - val_loss: 0.0157 - val_mean_squared_error: 0.0157\n",
      "Epoch 228/300\n",
      "1321/1321 [==============================] - 2s 2ms/step - loss: 0.0152 - mean_squared_error: 0.0152 - val_loss: 0.0155 - val_mean_squared_error: 0.0154\n",
      "Epoch 229/300\n",
      "1321/1321 [==============================] - 2s 2ms/step - loss: 0.0152 - mean_squared_error: 0.0152 - val_loss: 0.0154 - val_mean_squared_error: 0.0154\n",
      "Epoch 230/300\n",
      "1321/1321 [==============================] - 2s 2ms/step - loss: 0.0151 - mean_squared_error: 0.0151 - val_loss: 0.0153 - val_mean_squared_error: 0.0153\n",
      "Epoch 231/300\n",
      "1321/1321 [==============================] - 2s 2ms/step - loss: 0.0154 - mean_squared_error: 0.0154 - val_loss: 0.0158 - val_mean_squared_error: 0.0158\n",
      "Epoch 232/300\n",
      "1321/1321 [==============================] - 2s 2ms/step - loss: 0.0154 - mean_squared_error: 0.0154 - val_loss: 0.0162 - val_mean_squared_error: 0.0162\n",
      "Epoch 233/300\n",
      "1321/1321 [==============================] - 2s 2ms/step - loss: 0.0151 - mean_squared_error: 0.0151 - val_loss: 0.0155 - val_mean_squared_error: 0.0155\n",
      "Epoch 234/300\n",
      "1321/1321 [==============================] - 2s 2ms/step - loss: 0.0151 - mean_squared_error: 0.0151 - val_loss: 0.0155 - val_mean_squared_error: 0.0155\n",
      "Epoch 235/300\n",
      "1321/1321 [==============================] - 2s 2ms/step - loss: 0.0153 - mean_squared_error: 0.0153 - val_loss: 0.0157 - val_mean_squared_error: 0.0156\n",
      "Epoch 236/300\n",
      "1321/1321 [==============================] - 2s 2ms/step - loss: 0.0153 - mean_squared_error: 0.0153 - val_loss: 0.0161 - val_mean_squared_error: 0.0160\n",
      "Epoch 237/300\n",
      "1321/1321 [==============================] - 2s 2ms/step - loss: 0.0152 - mean_squared_error: 0.0152 - val_loss: 0.0154 - val_mean_squared_error: 0.0154\n",
      "Epoch 238/300\n",
      "1321/1321 [==============================] - 2s 2ms/step - loss: 0.0152 - mean_squared_error: 0.0152 - val_loss: 0.0158 - val_mean_squared_error: 0.0158\n",
      "Epoch 239/300\n",
      "1321/1321 [==============================] - 2s 2ms/step - loss: 0.0154 - mean_squared_error: 0.0154 - val_loss: 0.0164 - val_mean_squared_error: 0.0163\n",
      "Epoch 240/300\n",
      "1321/1321 [==============================] - 2s 2ms/step - loss: 0.0154 - mean_squared_error: 0.0154 - val_loss: 0.0154 - val_mean_squared_error: 0.0154\n",
      "Epoch 241/300\n",
      "1321/1321 [==============================] - 3s 2ms/step - loss: 0.0151 - mean_squared_error: 0.0151 - val_loss: 0.0153 - val_mean_squared_error: 0.0153\n",
      "Epoch 242/300\n",
      "1321/1321 [==============================] - 3s 2ms/step - loss: 0.0153 - mean_squared_error: 0.0153 - val_loss: 0.0152 - val_mean_squared_error: 0.0151\n",
      "Epoch 243/300\n",
      "1321/1321 [==============================] - 3s 2ms/step - loss: 0.0152 - mean_squared_error: 0.0152 - val_loss: 0.0151 - val_mean_squared_error: 0.0150\n",
      "Epoch 244/300\n",
      "1321/1321 [==============================] - 2s 2ms/step - loss: 0.0152 - mean_squared_error: 0.0151 - val_loss: 0.0153 - val_mean_squared_error: 0.0152\n",
      "Epoch 245/300\n",
      "1321/1321 [==============================] - 3s 2ms/step - loss: 0.0153 - mean_squared_error: 0.0153 - val_loss: 0.0153 - val_mean_squared_error: 0.0153\n",
      "Epoch 246/300\n",
      "1321/1321 [==============================] - 2s 2ms/step - loss: 0.0150 - mean_squared_error: 0.0150 - val_loss: 0.0157 - val_mean_squared_error: 0.0157\n",
      "Epoch 247/300\n",
      "1321/1321 [==============================] - 2s 2ms/step - loss: 0.0152 - mean_squared_error: 0.0152 - val_loss: 0.0157 - val_mean_squared_error: 0.0157\n",
      "Epoch 248/300\n",
      "1321/1321 [==============================] - 2s 2ms/step - loss: 0.0150 - mean_squared_error: 0.0150 - val_loss: 0.0151 - val_mean_squared_error: 0.0151\n",
      "Epoch 249/300\n",
      "1321/1321 [==============================] - 2s 2ms/step - loss: 0.0151 - mean_squared_error: 0.0151 - val_loss: 0.0150 - val_mean_squared_error: 0.0150\n",
      "Epoch 250/300\n",
      "1321/1321 [==============================] - 2s 2ms/step - loss: 0.0151 - mean_squared_error: 0.0151 - val_loss: 0.0151 - val_mean_squared_error: 0.0151\n",
      "Epoch 251/300\n",
      "1321/1321 [==============================] - 2s 2ms/step - loss: 0.0150 - mean_squared_error: 0.0150 - val_loss: 0.0160 - val_mean_squared_error: 0.0160\n",
      "Epoch 252/300\n",
      "1321/1321 [==============================] - 2s 2ms/step - loss: 0.0152 - mean_squared_error: 0.0152 - val_loss: 0.0155 - val_mean_squared_error: 0.0155\n",
      "Epoch 253/300\n",
      "1321/1321 [==============================] - 2s 2ms/step - loss: 0.0150 - mean_squared_error: 0.0150 - val_loss: 0.0157 - val_mean_squared_error: 0.0157\n",
      "Epoch 254/300\n",
      "1321/1321 [==============================] - 2s 2ms/step - loss: 0.0150 - mean_squared_error: 0.0150 - val_loss: 0.0153 - val_mean_squared_error: 0.0153\n",
      "Epoch 255/300\n",
      "1321/1321 [==============================] - 2s 2ms/step - loss: 0.0150 - mean_squared_error: 0.0150 - val_loss: 0.0151 - val_mean_squared_error: 0.0151\n",
      "Epoch 256/300\n",
      "1321/1321 [==============================] - 2s 2ms/step - loss: 0.0150 - mean_squared_error: 0.0150 - val_loss: 0.0158 - val_mean_squared_error: 0.0158\n",
      "Epoch 257/300\n",
      "1321/1321 [==============================] - 2s 2ms/step - loss: 0.0150 - mean_squared_error: 0.0150 - val_loss: 0.0151 - val_mean_squared_error: 0.0151\n",
      "Epoch 258/300\n",
      "1321/1321 [==============================] - 2s 2ms/step - loss: 0.0149 - mean_squared_error: 0.0149 - val_loss: 0.0151 - val_mean_squared_error: 0.0150\n",
      "Epoch 259/300\n",
      "1321/1321 [==============================] - 2s 2ms/step - loss: 0.0151 - mean_squared_error: 0.0151 - val_loss: 0.0151 - val_mean_squared_error: 0.0150\n",
      "Epoch 260/300\n",
      "1321/1321 [==============================] - 2s 2ms/step - loss: 0.0148 - mean_squared_error: 0.0148 - val_loss: 0.0155 - val_mean_squared_error: 0.0154\n",
      "Epoch 261/300\n",
      "1321/1321 [==============================] - 2s 2ms/step - loss: 0.0150 - mean_squared_error: 0.0150 - val_loss: 0.0146 - val_mean_squared_error: 0.0145\n",
      "Epoch 262/300\n",
      "1321/1321 [==============================] - 2s 2ms/step - loss: 0.0148 - mean_squared_error: 0.0148 - val_loss: 0.0152 - val_mean_squared_error: 0.0151\n",
      "Epoch 263/300\n",
      "1321/1321 [==============================] - 2s 2ms/step - loss: 0.0149 - mean_squared_error: 0.0149 - val_loss: 0.0153 - val_mean_squared_error: 0.0152\n",
      "Epoch 264/300\n",
      "1321/1321 [==============================] - 2s 2ms/step - loss: 0.0149 - mean_squared_error: 0.0149 - val_loss: 0.0150 - val_mean_squared_error: 0.0150\n",
      "Epoch 265/300\n",
      "1321/1321 [==============================] - 2s 2ms/step - loss: 0.0147 - mean_squared_error: 0.0147 - val_loss: 0.0152 - val_mean_squared_error: 0.0152\n",
      "Epoch 266/300\n",
      "1321/1321 [==============================] - 2s 2ms/step - loss: 0.0149 - mean_squared_error: 0.0149 - val_loss: 0.0151 - val_mean_squared_error: 0.0151\n",
      "Epoch 267/300\n",
      "1321/1321 [==============================] - 2s 2ms/step - loss: 0.0148 - mean_squared_error: 0.0148 - val_loss: 0.0146 - val_mean_squared_error: 0.0146\n",
      "Epoch 268/300\n",
      "1321/1321 [==============================] - 2s 2ms/step - loss: 0.0148 - mean_squared_error: 0.0148 - val_loss: 0.0156 - val_mean_squared_error: 0.0155\n",
      "Epoch 269/300\n",
      "1321/1321 [==============================] - 2s 2ms/step - loss: 0.0148 - mean_squared_error: 0.0148 - val_loss: 0.0154 - val_mean_squared_error: 0.0153\n",
      "Epoch 270/300\n",
      "1321/1321 [==============================] - 2s 2ms/step - loss: 0.0147 - mean_squared_error: 0.0147 - val_loss: 0.0149 - val_mean_squared_error: 0.0149\n",
      "Epoch 271/300\n",
      "1321/1321 [==============================] - 2s 2ms/step - loss: 0.0147 - mean_squared_error: 0.0147 - val_loss: 0.0156 - val_mean_squared_error: 0.0156\n",
      "Epoch 272/300\n",
      "1321/1321 [==============================] - 2s 2ms/step - loss: 0.0147 - mean_squared_error: 0.0147 - val_loss: 0.0171 - val_mean_squared_error: 0.0171\n",
      "Epoch 273/300\n",
      "1321/1321 [==============================] - 2s 2ms/step - loss: 0.0147 - mean_squared_error: 0.0147 - val_loss: 0.0149 - val_mean_squared_error: 0.0149\n",
      "Epoch 274/300\n",
      "1321/1321 [==============================] - 2s 2ms/step - loss: 0.0148 - mean_squared_error: 0.0148 - val_loss: 0.0150 - val_mean_squared_error: 0.0150\n",
      "Epoch 275/300\n",
      "1321/1321 [==============================] - 2s 2ms/step - loss: 0.0147 - mean_squared_error: 0.0147 - val_loss: 0.0151 - val_mean_squared_error: 0.0151\n",
      "Epoch 276/300\n",
      "1321/1321 [==============================] - 2s 2ms/step - loss: 0.0147 - mean_squared_error: 0.0147 - val_loss: 0.0153 - val_mean_squared_error: 0.0152\n",
      "Epoch 277/300\n",
      "1321/1321 [==============================] - 2s 2ms/step - loss: 0.0148 - mean_squared_error: 0.0148 - val_loss: 0.0149 - val_mean_squared_error: 0.0149\n",
      "Epoch 278/300\n",
      "1321/1321 [==============================] - 2s 2ms/step - loss: 0.0149 - mean_squared_error: 0.0149 - val_loss: 0.0149 - val_mean_squared_error: 0.0149\n",
      "Epoch 279/300\n",
      "1321/1321 [==============================] - 2s 2ms/step - loss: 0.0148 - mean_squared_error: 0.0148 - val_loss: 0.0152 - val_mean_squared_error: 0.0151\n",
      "Epoch 280/300\n",
      "1321/1321 [==============================] - 2s 2ms/step - loss: 0.0148 - mean_squared_error: 0.0148 - val_loss: 0.0151 - val_mean_squared_error: 0.0151\n",
      "Epoch 281/300\n",
      "1321/1321 [==============================] - 2s 2ms/step - loss: 0.0145 - mean_squared_error: 0.0145 - val_loss: 0.0153 - val_mean_squared_error: 0.0152\n",
      "Epoch 282/300\n",
      "1321/1321 [==============================] - 2s 2ms/step - loss: 0.0147 - mean_squared_error: 0.0147 - val_loss: 0.0152 - val_mean_squared_error: 0.0151\n",
      "Epoch 283/300\n",
      "1321/1321 [==============================] - 2s 2ms/step - loss: 0.0148 - mean_squared_error: 0.0148 - val_loss: 0.0156 - val_mean_squared_error: 0.0155\n",
      "Epoch 284/300\n",
      "1321/1321 [==============================] - 2s 2ms/step - loss: 0.0147 - mean_squared_error: 0.0147 - val_loss: 0.0152 - val_mean_squared_error: 0.0152\n",
      "Epoch 285/300\n",
      "1321/1321 [==============================] - 2s 2ms/step - loss: 0.0145 - mean_squared_error: 0.0145 - val_loss: 0.0149 - val_mean_squared_error: 0.0149\n",
      "Epoch 286/300\n",
      "1321/1321 [==============================] - 2s 2ms/step - loss: 0.0147 - mean_squared_error: 0.0147 - val_loss: 0.0154 - val_mean_squared_error: 0.0154\n",
      "Epoch 287/300\n",
      "1321/1321 [==============================] - 2s 2ms/step - loss: 0.0147 - mean_squared_error: 0.0147 - val_loss: 0.0149 - val_mean_squared_error: 0.0149\n",
      "Epoch 288/300\n",
      "1321/1321 [==============================] - 2s 2ms/step - loss: 0.0146 - mean_squared_error: 0.0146 - val_loss: 0.0149 - val_mean_squared_error: 0.0149\n",
      "Epoch 289/300\n",
      "1321/1321 [==============================] - 2s 2ms/step - loss: 0.0145 - mean_squared_error: 0.0145 - val_loss: 0.0151 - val_mean_squared_error: 0.0151\n",
      "Epoch 290/300\n",
      "1321/1321 [==============================] - 2s 2ms/step - loss: 0.0146 - mean_squared_error: 0.0146 - val_loss: 0.0150 - val_mean_squared_error: 0.0150\n",
      "Epoch 291/300\n",
      "1321/1321 [==============================] - 2s 2ms/step - loss: 0.0148 - mean_squared_error: 0.0148 - val_loss: 0.0153 - val_mean_squared_error: 0.0153\n",
      "Epoch 292/300\n",
      "1321/1321 [==============================] - 2s 2ms/step - loss: 0.0145 - mean_squared_error: 0.0145 - val_loss: 0.0150 - val_mean_squared_error: 0.0150\n",
      "Epoch 293/300\n",
      "1321/1321 [==============================] - 2s 2ms/step - loss: 0.0145 - mean_squared_error: 0.0145 - val_loss: 0.0147 - val_mean_squared_error: 0.0147\n",
      "Epoch 294/300\n",
      "1321/1321 [==============================] - 3s 2ms/step - loss: 0.0145 - mean_squared_error: 0.0146 - val_loss: 0.0147 - val_mean_squared_error: 0.0147\n",
      "Epoch 295/300\n",
      "1321/1321 [==============================] - 3s 2ms/step - loss: 0.0147 - mean_squared_error: 0.0147 - val_loss: 0.0151 - val_mean_squared_error: 0.0151\n",
      "Epoch 296/300\n",
      "1321/1321 [==============================] - 3s 2ms/step - loss: 0.0145 - mean_squared_error: 0.0145 - val_loss: 0.0150 - val_mean_squared_error: 0.0149\n",
      "Epoch 297/300\n",
      "1321/1321 [==============================] - 2s 2ms/step - loss: 0.0144 - mean_squared_error: 0.0144 - val_loss: 0.0148 - val_mean_squared_error: 0.0148\n",
      "Epoch 298/300\n",
      "1321/1321 [==============================] - 2s 2ms/step - loss: 0.0145 - mean_squared_error: 0.0145 - val_loss: 0.0151 - val_mean_squared_error: 0.0151\n",
      "Epoch 299/300\n",
      "1321/1321 [==============================] - 3s 2ms/step - loss: 0.0147 - mean_squared_error: 0.0147 - val_loss: 0.0149 - val_mean_squared_error: 0.0148\n",
      "Epoch 300/300\n",
      "1321/1321 [==============================] - 2s 2ms/step - loss: 0.0144 - mean_squared_error: 0.0144 - val_loss: 0.0145 - val_mean_squared_error: 0.0145\n"
     ]
    }
   ],
   "source": [
    "# reshape x_train and x_test\n",
    "# x_train = x_train.values.reshape(x_train.shape[0], x_train.shape[1], 1)\n",
    "with tf.device(\"cpu\") :\n",
    "    history_reg_c0, model_reg_c0 = make_reg_model(\n",
    "        Dense(64, activation=\"sigmoid\", input_dim=x_train_c0.shape[1]),\n",
    "        Dropout(0.1),\n",
    "        Dense(32, activation=\"relu\"),\n",
    "        # Dropout(0.1),\n",
    "        Dense(32, activation=\"relu\"),\n",
    "        # Dropout(0.1),\n",
    "        Dense(32, activation=\"relu\"),\n",
    "        x=x_train_c0.values ,y=y_reg_train_c0,\n",
    "        last_activation=square_relu,\n",
    "        epochs=300,\n",
    "        batch_size=64,\n",
    "        learning_rate=0.001\n",
    "    )"
   ],
   "metadata": {
    "collapsed": false,
    "pycharm": {
     "name": "#%%\n"
    }
   }
  },
  {
   "cell_type": "code",
   "execution_count": 27,
   "outputs": [
    {
     "data": {
      "text/plain": "<Figure size 504x360 with 1 Axes>",
      "image/png": "[encoded data removed]"
     },
     "metadata": {
      "needs_background": "light"
     },
     "output_type": "display_data"
    }
   ],
   "source": [
    "# Plot history\n",
    "plot_history_reg(history_reg_c0, 'mean_squared_error')"
   ],
   "metadata": {
    "collapsed": false,
    "pycharm": {
     "name": "#%%\n"
    }
   }
  },
  {
   "cell_type": "markdown",
   "source": [
    "# Compute MAPE on test set"
   ],
   "metadata": {
    "collapsed": false
   }
  },
  {
   "cell_type": "markdown",
   "source": [
    "## classification"
   ],
   "metadata": {
    "collapsed": false
   }
  },
  {
   "cell_type": "code",
   "execution_count": 28,
   "outputs": [],
   "source": [
    "y_cls_pred_c0 = model_cls_c0.predict(x_test_c0)"
   ],
   "metadata": {
    "collapsed": false,
    "pycharm": {
     "name": "#%%\n"
    }
   }
  },
  {
   "cell_type": "code",
   "execution_count": 29,
   "outputs": [
    {
     "data": {
      "text/plain": "<Figure size 432x288 with 1 Axes>",
      "image/png": "[encoded data removed]"
     },
     "metadata": {
      "needs_background": "light"
     },
     "output_type": "display_data"
    }
   ],
   "source": [
    "plt.hist(y_cls_pred_c0[:,0], color=\"cyan\", alpha=0.3, bins=100, label=\"not_raining\")\n",
    "plt.hist(y_cls_pred_c0[:,1], color=\"magenta\", alpha=0.3, bins=100, label=\"raining\")\n",
    "plt.xlim([0,1])\n",
    "plt.legend()\n",
    "plt.show()"
   ],
   "metadata": {
    "collapsed": false,
    "pycharm": {
     "name": "#%%\n"
    }
   }
  },
  {
   "cell_type": "code",
   "execution_count": 30,
   "outputs": [],
   "source": [
    "y_cls_pred_bkp_c0 = np.array(y_cls_pred_c0)"
   ],
   "metadata": {
    "collapsed": false,
    "pycharm": {
     "name": "#%%\n"
    }
   }
  },
  {
   "cell_type": "code",
   "execution_count": 31,
   "outputs": [],
   "source": [
    "y_cls_pred_c0 = np.array(y_cls_pred_bkp_c0)"
   ],
   "metadata": {
    "collapsed": false,
    "pycharm": {
     "name": "#%%\n"
    }
   }
  },
  {
   "cell_type": "code",
   "execution_count": 32,
   "outputs": [],
   "source": [
    "cls_temp_c0 = y_cls_pred_c0[:,0] < y_cls_pred_c0[:,1]\n",
    "y_cls_pred_c0 = np.array([0 if c else 1 for c in cls_temp_c0])"
   ],
   "metadata": {
    "collapsed": false,
    "pycharm": {
     "name": "#%%\n"
    }
   }
  },
  {
   "cell_type": "code",
   "execution_count": 33,
   "outputs": [
    {
     "data": {
      "text/plain": "<Figure size 432x288 with 1 Axes>",
      "image/png": "[encoded data removed]"
     },
     "metadata": {
      "needs_background": "light"
     },
     "output_type": "display_data"
    }
   ],
   "source": [
    "raining_ratio_pred_c0 = y_cls_pred_c0.sum()/(len(y_cls_pred_c0) - y_cls_pred_c0.sum())\n",
    "plt.title(\"test set - prediction : ratio = {:.2f}\".format(raining_ratio_pred_c0))\n",
    "sns.histplot(x=y_cls_pred_c0,hue=y_cls_pred_c0)\n",
    "plt.show()"
   ],
   "metadata": {
    "collapsed": false,
    "pycharm": {
     "name": "#%%\n"
    }
   }
  },
  {
   "cell_type": "markdown",
   "source": [
    "## regression"
   ],
   "metadata": {
    "collapsed": false
   }
  },
  {
   "cell_type": "code",
   "execution_count": 34,
   "outputs": [],
   "source": [
    "y_reg_pred_c0 = model_reg_c0.predict(x_test_c0)"
   ],
   "metadata": {
    "collapsed": false,
    "pycharm": {
     "name": "#%%\n"
    }
   }
  },
  {
   "cell_type": "markdown",
   "source": [
    "## merge"
   ],
   "metadata": {
    "collapsed": false
   }
  },
  {
   "cell_type": "code",
   "execution_count": 35,
   "outputs": [],
   "source": [
    "prediction_x_test_c0[\"reg_pred\"] = y_reg_pred_c0\n",
    "prediction_x_test_c0[\"cls_pred\"] = y_cls_pred_c0\n",
    "prediction_x_test_c0[\"Prediction\"] = prediction_x_test_c0[\"reg_pred\"] * prediction_x_test_c0[\"cls_pred\"]"
   ],
   "metadata": {
    "collapsed": false,
    "pycharm": {
     "name": "#%%\n"
    }
   }
  },
  {
   "cell_type": "code",
   "execution_count": 36,
   "outputs": [
    {
     "data": {
      "text/plain": "<Figure size 1440x720 with 6 Axes>",
      "image/png": "[encoded data removed]"
     },
     "metadata": {
      "needs_background": "light"
     },
     "output_type": "display_data"
    }
   ],
   "source": [
    "box_plot(prediction_x_test_c0, plot_title=\"Prediction test set c0\")"
   ],
   "metadata": {
    "collapsed": false,
    "pycharm": {
     "name": "#%%\n"
    }
   }
  },
  {
   "cell_type": "markdown",
   "source": [
    "-------------------------------------------\n",
    "# cluster 1\n",
    "-------------------------------------------"
   ],
   "metadata": {
    "collapsed": false
   }
  },
  {
   "cell_type": "markdown",
   "source": [
    "# Classification Model (raining or not)\n",
    "source : https://thinkingneuron.com/how-to-use-artificial-neural-networks-for-classification-in-python/"
   ],
   "metadata": {
    "collapsed": false
   }
  },
  {
   "cell_type": "code",
   "execution_count": 37,
   "outputs": [
    {
     "name": "stdout",
     "output_type": "stream",
     "text": [
      "Model: \"sequential_2\"\n",
      "_________________________________________________________________\n",
      " Layer (type)                Output Shape              Param #   \n",
      "=================================================================\n",
      " dense_10 (Dense)            (None, 64)                6272      \n",
      "                                                                 \n",
      " dropout_2 (Dropout)         (None, 64)                0         \n",
      "                                                                 \n",
      " dense_11 (Dense)            (None, 32)                2080      \n",
      "                                                                 \n",
      " dense_12 (Dense)            (None, 32)                1056      \n",
      "                                                                 \n",
      " dense_13 (Dense)            (None, 32)                1056      \n",
      "                                                                 \n",
      " dense_14 (Dense)            (None, 2)                 66        \n",
      "                                                                 \n",
      "=================================================================\n",
      "Total params: 10,530\n",
      "Trainable params: 10,530\n",
      "Non-trainable params: 0\n",
      "_________________________________________________________________\n",
      "None\n",
      "Epoch 1/300\n",
      "1404/1404 [==============================] - 4s 2ms/step - loss: 0.6413 - auc: 0.6801 - accuracy: 0.6280 - val_loss: 0.6189 - val_auc: 0.7143 - val_accuracy: 0.6514\n",
      "Epoch 2/300\n",
      "1404/1404 [==============================] - 3s 2ms/step - loss: 0.6257 - auc: 0.7051 - accuracy: 0.6497 - val_loss: 0.6329 - val_auc: 0.6916 - val_accuracy: 0.6354\n",
      "Epoch 3/300\n",
      "1404/1404 [==============================] - 3s 2ms/step - loss: 0.6228 - auc: 0.7090 - accuracy: 0.6518 - val_loss: 0.6126 - val_auc: 0.7229 - val_accuracy: 0.6584\n",
      "Epoch 4/300\n",
      "1404/1404 [==============================] - 3s 2ms/step - loss: 0.6195 - auc: 0.7132 - accuracy: 0.6532 - val_loss: 0.6130 - val_auc: 0.7232 - val_accuracy: 0.6599\n",
      "Epoch 5/300\n",
      "1404/1404 [==============================] - 3s 2ms/step - loss: 0.6181 - auc: 0.7152 - accuracy: 0.6567 - val_loss: 0.6117 - val_auc: 0.7256 - val_accuracy: 0.6621\n",
      "Epoch 6/300\n",
      "1404/1404 [==============================] - 3s 2ms/step - loss: 0.6162 - auc: 0.7179 - accuracy: 0.6582 - val_loss: 0.6089 - val_auc: 0.7276 - val_accuracy: 0.6636\n",
      "Epoch 7/300\n",
      "1404/1404 [==============================] - 3s 2ms/step - loss: 0.6141 - auc: 0.7208 - accuracy: 0.6600 - val_loss: 0.6073 - val_auc: 0.7291 - val_accuracy: 0.6640\n",
      "Epoch 8/300\n",
      "1404/1404 [==============================] - 3s 2ms/step - loss: 0.6126 - auc: 0.7228 - accuracy: 0.6619 - val_loss: 0.6035 - val_auc: 0.7348 - val_accuracy: 0.6703\n",
      "Epoch 9/300\n",
      "1404/1404 [==============================] - 3s 2ms/step - loss: 0.6113 - auc: 0.7244 - accuracy: 0.6628 - val_loss: 0.6022 - val_auc: 0.7372 - val_accuracy: 0.6729\n",
      "Epoch 10/300\n",
      "1404/1404 [==============================] - 3s 2ms/step - loss: 0.6091 - auc: 0.7269 - accuracy: 0.6644 - val_loss: 0.5998 - val_auc: 0.7386 - val_accuracy: 0.6749\n",
      "Epoch 11/300\n",
      "1404/1404 [==============================] - 4s 3ms/step - loss: 0.6070 - auc: 0.7293 - accuracy: 0.6669 - val_loss: 0.6022 - val_auc: 0.7377 - val_accuracy: 0.6738\n",
      "Epoch 12/300\n",
      "1404/1404 [==============================] - 3s 2ms/step - loss: 0.6058 - auc: 0.7309 - accuracy: 0.6679 - val_loss: 0.6045 - val_auc: 0.7331 - val_accuracy: 0.6697\n",
      "Epoch 13/300\n",
      "1404/1404 [==============================] - 3s 2ms/step - loss: 0.6037 - auc: 0.7334 - accuracy: 0.6687 - val_loss: 0.5949 - val_auc: 0.7444 - val_accuracy: 0.6790\n",
      "Epoch 14/300\n",
      "1404/1404 [==============================] - 3s 2ms/step - loss: 0.6017 - auc: 0.7359 - accuracy: 0.6721 - val_loss: 0.5929 - val_auc: 0.7472 - val_accuracy: 0.6818\n",
      "Epoch 15/300\n",
      "1404/1404 [==============================] - 3s 2ms/step - loss: 0.6007 - auc: 0.7375 - accuracy: 0.6737 - val_loss: 0.5921 - val_auc: 0.7473 - val_accuracy: 0.6792\n",
      "Epoch 16/300\n",
      "1404/1404 [==============================] - 3s 2ms/step - loss: 0.5984 - auc: 0.7398 - accuracy: 0.6747 - val_loss: 0.5920 - val_auc: 0.7488 - val_accuracy: 0.6820\n",
      "Epoch 17/300\n",
      "1404/1404 [==============================] - 3s 2ms/step - loss: 0.5970 - auc: 0.7416 - accuracy: 0.6757 - val_loss: 0.5890 - val_auc: 0.7517 - val_accuracy: 0.6872\n",
      "Epoch 18/300\n",
      "1404/1404 [==============================] - 3s 2ms/step - loss: 0.5951 - auc: 0.7434 - accuracy: 0.6778 - val_loss: 0.5904 - val_auc: 0.7524 - val_accuracy: 0.6869\n",
      "Epoch 19/300\n",
      "1404/1404 [==============================] - 3s 2ms/step - loss: 0.5942 - auc: 0.7450 - accuracy: 0.6787 - val_loss: 0.5860 - val_auc: 0.7541 - val_accuracy: 0.6862\n",
      "Epoch 20/300\n",
      "1404/1404 [==============================] - 3s 2ms/step - loss: 0.5922 - auc: 0.7468 - accuracy: 0.6796 - val_loss: 0.5839 - val_auc: 0.7562 - val_accuracy: 0.6879\n",
      "Epoch 21/300\n",
      "1404/1404 [==============================] - 3s 2ms/step - loss: 0.5909 - auc: 0.7488 - accuracy: 0.6816 - val_loss: 0.5835 - val_auc: 0.7582 - val_accuracy: 0.6903\n",
      "Epoch 22/300\n",
      "1404/1404 [==============================] - 3s 2ms/step - loss: 0.5888 - auc: 0.7511 - accuracy: 0.6845 - val_loss: 0.5814 - val_auc: 0.7595 - val_accuracy: 0.6915\n",
      "Epoch 23/300\n",
      "1404/1404 [==============================] - 3s 2ms/step - loss: 0.5866 - auc: 0.7535 - accuracy: 0.6849 - val_loss: 0.5791 - val_auc: 0.7621 - val_accuracy: 0.6910\n",
      "Epoch 24/300\n",
      "1404/1404 [==============================] - 3s 2ms/step - loss: 0.5859 - auc: 0.7541 - accuracy: 0.6851 - val_loss: 0.5763 - val_auc: 0.7644 - val_accuracy: 0.6927\n",
      "Epoch 25/300\n",
      "1404/1404 [==============================] - 3s 2ms/step - loss: 0.5835 - auc: 0.7565 - accuracy: 0.6872 - val_loss: 0.5798 - val_auc: 0.7604 - val_accuracy: 0.6869\n",
      "Epoch 26/300\n",
      "1404/1404 [==============================] - 3s 2ms/step - loss: 0.5823 - auc: 0.7579 - accuracy: 0.6885 - val_loss: 0.5785 - val_auc: 0.7636 - val_accuracy: 0.6909\n",
      "Epoch 27/300\n",
      "1404/1404 [==============================] - 3s 2ms/step - loss: 0.5807 - auc: 0.7599 - accuracy: 0.6893 - val_loss: 0.5852 - val_auc: 0.7566 - val_accuracy: 0.6839\n",
      "Epoch 28/300\n",
      "1404/1404 [==============================] - 3s 2ms/step - loss: 0.5792 - auc: 0.7615 - accuracy: 0.6928 - val_loss: 0.5736 - val_auc: 0.7668 - val_accuracy: 0.6960\n",
      "Epoch 29/300\n",
      "1404/1404 [==============================] - 3s 2ms/step - loss: 0.5778 - auc: 0.7631 - accuracy: 0.6935 - val_loss: 0.5760 - val_auc: 0.7654 - val_accuracy: 0.6949\n",
      "Epoch 30/300\n",
      "1404/1404 [==============================] - 3s 2ms/step - loss: 0.5762 - auc: 0.7646 - accuracy: 0.6934 - val_loss: 0.5707 - val_auc: 0.7728 - val_accuracy: 0.6990\n",
      "Epoch 31/300\n",
      "1404/1404 [==============================] - 3s 2ms/step - loss: 0.5748 - auc: 0.7657 - accuracy: 0.6942 - val_loss: 0.5704 - val_auc: 0.7710 - val_accuracy: 0.6997\n",
      "Epoch 32/300\n",
      "1404/1404 [==============================] - 3s 2ms/step - loss: 0.5748 - auc: 0.7664 - accuracy: 0.6958 - val_loss: 0.5686 - val_auc: 0.7729 - val_accuracy: 0.6999\n",
      "Epoch 33/300\n",
      "1404/1404 [==============================] - 3s 2ms/step - loss: 0.5722 - auc: 0.7687 - accuracy: 0.6971 - val_loss: 0.5657 - val_auc: 0.7747 - val_accuracy: 0.7022\n",
      "Epoch 34/300\n",
      "1404/1404 [==============================] - 3s 2ms/step - loss: 0.5709 - auc: 0.7702 - accuracy: 0.6991 - val_loss: 0.5639 - val_auc: 0.7773 - val_accuracy: 0.7045\n",
      "Epoch 35/300\n",
      "1404/1404 [==============================] - 3s 2ms/step - loss: 0.5701 - auc: 0.7706 - accuracy: 0.6976 - val_loss: 0.5633 - val_auc: 0.7801 - val_accuracy: 0.7072\n",
      "Epoch 36/300\n",
      "1404/1404 [==============================] - 3s 2ms/step - loss: 0.5689 - auc: 0.7721 - accuracy: 0.6993 - val_loss: 0.5608 - val_auc: 0.7806 - val_accuracy: 0.7062\n",
      "Epoch 37/300\n",
      "1404/1404 [==============================] - 3s 2ms/step - loss: 0.5680 - auc: 0.7730 - accuracy: 0.7013 - val_loss: 0.5587 - val_auc: 0.7821 - val_accuracy: 0.7050\n",
      "Epoch 38/300\n",
      "1404/1404 [==============================] - 3s 2ms/step - loss: 0.5667 - auc: 0.7744 - accuracy: 0.7004 - val_loss: 0.5588 - val_auc: 0.7820 - val_accuracy: 0.7103\n",
      "Epoch 39/300\n",
      "1404/1404 [==============================] - 3s 2ms/step - loss: 0.5646 - auc: 0.7766 - accuracy: 0.7038 - val_loss: 0.5603 - val_auc: 0.7812 - val_accuracy: 0.7060\n",
      "Epoch 40/300\n",
      "1404/1404 [==============================] - 3s 2ms/step - loss: 0.5650 - auc: 0.7762 - accuracy: 0.7028 - val_loss: 0.5580 - val_auc: 0.7830 - val_accuracy: 0.7061\n",
      "Epoch 41/300\n",
      "1404/1404 [==============================] - 3s 2ms/step - loss: 0.5633 - auc: 0.7779 - accuracy: 0.7043 - val_loss: 0.5757 - val_auc: 0.7654 - val_accuracy: 0.6917\n",
      "Epoch 42/300\n",
      "1404/1404 [==============================] - 3s 2ms/step - loss: 0.5611 - auc: 0.7803 - accuracy: 0.7066 - val_loss: 0.5539 - val_auc: 0.7876 - val_accuracy: 0.7131\n",
      "Epoch 43/300\n",
      "1404/1404 [==============================] - 3s 2ms/step - loss: 0.5610 - auc: 0.7801 - accuracy: 0.7057 - val_loss: 0.5523 - val_auc: 0.7883 - val_accuracy: 0.7123\n",
      "Epoch 44/300\n",
      "1404/1404 [==============================] - 3s 2ms/step - loss: 0.5595 - auc: 0.7818 - accuracy: 0.7064 - val_loss: 0.5539 - val_auc: 0.7883 - val_accuracy: 0.7123\n",
      "Epoch 45/300\n",
      "1404/1404 [==============================] - 3s 2ms/step - loss: 0.5591 - auc: 0.7821 - accuracy: 0.7071 - val_loss: 0.5541 - val_auc: 0.7871 - val_accuracy: 0.7103\n",
      "Epoch 46/300\n",
      "1404/1404 [==============================] - 3s 2ms/step - loss: 0.5580 - auc: 0.7832 - accuracy: 0.7081 - val_loss: 0.5489 - val_auc: 0.7926 - val_accuracy: 0.7164\n",
      "Epoch 47/300\n",
      "1404/1404 [==============================] - 3s 2ms/step - loss: 0.5568 - auc: 0.7843 - accuracy: 0.7090 - val_loss: 0.5516 - val_auc: 0.7894 - val_accuracy: 0.7140\n",
      "Epoch 48/300\n",
      "1404/1404 [==============================] - 3s 2ms/step - loss: 0.5550 - auc: 0.7859 - accuracy: 0.7099 - val_loss: 0.5514 - val_auc: 0.7900 - val_accuracy: 0.7132\n",
      "Epoch 49/300\n",
      "1404/1404 [==============================] - 3s 2ms/step - loss: 0.5553 - auc: 0.7859 - accuracy: 0.7105 - val_loss: 0.5459 - val_auc: 0.7945 - val_accuracy: 0.7178\n",
      "Epoch 50/300\n",
      "1404/1404 [==============================] - 3s 2ms/step - loss: 0.5534 - auc: 0.7877 - accuracy: 0.7126 - val_loss: 0.5550 - val_auc: 0.7866 - val_accuracy: 0.7111\n",
      "Epoch 51/300\n",
      "1404/1404 [==============================] - 3s 2ms/step - loss: 0.5522 - auc: 0.7887 - accuracy: 0.7132 - val_loss: 0.5510 - val_auc: 0.7910 - val_accuracy: 0.7169\n",
      "Epoch 52/300\n",
      "1404/1404 [==============================] - 3s 2ms/step - loss: 0.5529 - auc: 0.7883 - accuracy: 0.7122 - val_loss: 0.5441 - val_auc: 0.7967 - val_accuracy: 0.7178\n",
      "Epoch 53/300\n",
      "1404/1404 [==============================] - 3s 2ms/step - loss: 0.5512 - auc: 0.7897 - accuracy: 0.7140 - val_loss: 0.5446 - val_auc: 0.7965 - val_accuracy: 0.7192\n",
      "Epoch 54/300\n",
      "1404/1404 [==============================] - 3s 2ms/step - loss: 0.5499 - auc: 0.7912 - accuracy: 0.7153 - val_loss: 0.5477 - val_auc: 0.7943 - val_accuracy: 0.7158\n",
      "Epoch 55/300\n",
      "1404/1404 [==============================] - 3s 2ms/step - loss: 0.5490 - auc: 0.7916 - accuracy: 0.7140 - val_loss: 0.5466 - val_auc: 0.7949 - val_accuracy: 0.7178\n",
      "Epoch 56/300\n",
      "1404/1404 [==============================] - 3s 2ms/step - loss: 0.5491 - auc: 0.7915 - accuracy: 0.7151 - val_loss: 0.5457 - val_auc: 0.7952 - val_accuracy: 0.7183\n",
      "Epoch 57/300\n",
      "1404/1404 [==============================] - 3s 2ms/step - loss: 0.5478 - auc: 0.7930 - accuracy: 0.7165 - val_loss: 0.5414 - val_auc: 0.7992 - val_accuracy: 0.7207\n",
      "Epoch 58/300\n",
      "1404/1404 [==============================] - 3s 2ms/step - loss: 0.5465 - auc: 0.7941 - accuracy: 0.7183 - val_loss: 0.5434 - val_auc: 0.7966 - val_accuracy: 0.7179\n",
      "Epoch 59/300\n",
      "1404/1404 [==============================] - 3s 2ms/step - loss: 0.5460 - auc: 0.7948 - accuracy: 0.7190 - val_loss: 0.5422 - val_auc: 0.7983 - val_accuracy: 0.7194\n",
      "Epoch 60/300\n",
      "1404/1404 [==============================] - 3s 2ms/step - loss: 0.5458 - auc: 0.7951 - accuracy: 0.7185 - val_loss: 0.5407 - val_auc: 0.7997 - val_accuracy: 0.7187\n",
      "Epoch 61/300\n",
      "1404/1404 [==============================] - 3s 2ms/step - loss: 0.5450 - auc: 0.7956 - accuracy: 0.7177 - val_loss: 0.5367 - val_auc: 0.8040 - val_accuracy: 0.7228\n",
      "Epoch 62/300\n",
      "1404/1404 [==============================] - 3s 2ms/step - loss: 0.5446 - auc: 0.7958 - accuracy: 0.7187 - val_loss: 0.5400 - val_auc: 0.8002 - val_accuracy: 0.7224\n",
      "Epoch 63/300\n",
      "1404/1404 [==============================] - 3s 2ms/step - loss: 0.5434 - auc: 0.7973 - accuracy: 0.7204 - val_loss: 0.5423 - val_auc: 0.7986 - val_accuracy: 0.7188\n",
      "Epoch 64/300\n",
      "1404/1404 [==============================] - 3s 2ms/step - loss: 0.5426 - auc: 0.7980 - accuracy: 0.7206 - val_loss: 0.5507 - val_auc: 0.7915 - val_accuracy: 0.7106\n",
      "Epoch 65/300\n",
      "1404/1404 [==============================] - 3s 2ms/step - loss: 0.5412 - auc: 0.7990 - accuracy: 0.7211 - val_loss: 0.5393 - val_auc: 0.8012 - val_accuracy: 0.7229\n",
      "Epoch 66/300\n",
      "1404/1404 [==============================] - 3s 2ms/step - loss: 0.5404 - auc: 0.7997 - accuracy: 0.7223 - val_loss: 0.5420 - val_auc: 0.7992 - val_accuracy: 0.7220\n",
      "Epoch 67/300\n",
      "1404/1404 [==============================] - 3s 2ms/step - loss: 0.5397 - auc: 0.8004 - accuracy: 0.7220 - val_loss: 0.5358 - val_auc: 0.8044 - val_accuracy: 0.7259\n",
      "Epoch 68/300\n",
      "1404/1404 [==============================] - 4s 3ms/step - loss: 0.5394 - auc: 0.8003 - accuracy: 0.7224 - val_loss: 0.5362 - val_auc: 0.8041 - val_accuracy: 0.7245\n",
      "Epoch 69/300\n",
      "1404/1404 [==============================] - 3s 2ms/step - loss: 0.5387 - auc: 0.8015 - accuracy: 0.7246 - val_loss: 0.5344 - val_auc: 0.8065 - val_accuracy: 0.7275\n",
      "Epoch 70/300\n",
      "1404/1404 [==============================] - 3s 2ms/step - loss: 0.5379 - auc: 0.8023 - accuracy: 0.7253 - val_loss: 0.5390 - val_auc: 0.8026 - val_accuracy: 0.7250\n",
      "Epoch 71/300\n",
      "1404/1404 [==============================] - 3s 2ms/step - loss: 0.5365 - auc: 0.8034 - accuracy: 0.7242 - val_loss: 0.5335 - val_auc: 0.8062 - val_accuracy: 0.7266\n",
      "Epoch 72/300\n",
      "1404/1404 [==============================] - 3s 2ms/step - loss: 0.5362 - auc: 0.8036 - accuracy: 0.7245 - val_loss: 0.5340 - val_auc: 0.8063 - val_accuracy: 0.7289\n",
      "Epoch 73/300\n",
      "1404/1404 [==============================] - 3s 2ms/step - loss: 0.5364 - auc: 0.8035 - accuracy: 0.7250 - val_loss: 0.5390 - val_auc: 0.8017 - val_accuracy: 0.7239\n",
      "Epoch 74/300\n",
      "1404/1404 [==============================] - 3s 2ms/step - loss: 0.5365 - auc: 0.8035 - accuracy: 0.7255 - val_loss: 0.5321 - val_auc: 0.8086 - val_accuracy: 0.7280\n",
      "Epoch 75/300\n",
      "1404/1404 [==============================] - 3s 2ms/step - loss: 0.5348 - auc: 0.8050 - accuracy: 0.7278 - val_loss: 0.5320 - val_auc: 0.8080 - val_accuracy: 0.7255\n",
      "Epoch 76/300\n",
      "1404/1404 [==============================] - 3s 2ms/step - loss: 0.5345 - auc: 0.8052 - accuracy: 0.7272 - val_loss: 0.5311 - val_auc: 0.8083 - val_accuracy: 0.7285\n",
      "Epoch 77/300\n",
      "1404/1404 [==============================] - 3s 2ms/step - loss: 0.5332 - auc: 0.8062 - accuracy: 0.7280 - val_loss: 0.5342 - val_auc: 0.8067 - val_accuracy: 0.7277\n",
      "Epoch 78/300\n",
      "1404/1404 [==============================] - 3s 2ms/step - loss: 0.5328 - auc: 0.8065 - accuracy: 0.7282 - val_loss: 0.5327 - val_auc: 0.8074 - val_accuracy: 0.7274\n",
      "Epoch 79/300\n",
      "1404/1404 [==============================] - 3s 2ms/step - loss: 0.5319 - auc: 0.8077 - accuracy: 0.7283 - val_loss: 0.5290 - val_auc: 0.8109 - val_accuracy: 0.7294\n",
      "Epoch 80/300\n",
      "1404/1404 [==============================] - 3s 2ms/step - loss: 0.5325 - auc: 0.8071 - accuracy: 0.7284 - val_loss: 0.5294 - val_auc: 0.8101 - val_accuracy: 0.7314\n",
      "Epoch 81/300\n",
      "1404/1404 [==============================] - 3s 2ms/step - loss: 0.5321 - auc: 0.8076 - accuracy: 0.7292 - val_loss: 0.5329 - val_auc: 0.8074 - val_accuracy: 0.7295\n",
      "Epoch 82/300\n",
      "1404/1404 [==============================] - 3s 2ms/step - loss: 0.5306 - auc: 0.8087 - accuracy: 0.7300 - val_loss: 0.5297 - val_auc: 0.8105 - val_accuracy: 0.7318\n",
      "Epoch 83/300\n",
      "1404/1404 [==============================] - 3s 2ms/step - loss: 0.5297 - auc: 0.8093 - accuracy: 0.7296 - val_loss: 0.5275 - val_auc: 0.8113 - val_accuracy: 0.7326\n",
      "Epoch 84/300\n",
      "1404/1404 [==============================] - 3s 2ms/step - loss: 0.5283 - auc: 0.8106 - accuracy: 0.7310 - val_loss: 0.5281 - val_auc: 0.8110 - val_accuracy: 0.7299\n",
      "Epoch 85/300\n",
      "1404/1404 [==============================] - 3s 2ms/step - loss: 0.5293 - auc: 0.8095 - accuracy: 0.7297 - val_loss: 0.5260 - val_auc: 0.8130 - val_accuracy: 0.7319\n",
      "Epoch 86/300\n",
      "1404/1404 [==============================] - 3s 2ms/step - loss: 0.5277 - auc: 0.8111 - accuracy: 0.7322 - val_loss: 0.5267 - val_auc: 0.8133 - val_accuracy: 0.7334\n",
      "Epoch 87/300\n",
      "1404/1404 [==============================] - 3s 2ms/step - loss: 0.5276 - auc: 0.8113 - accuracy: 0.7316 - val_loss: 0.5265 - val_auc: 0.8131 - val_accuracy: 0.7334\n",
      "Epoch 88/300\n",
      "1404/1404 [==============================] - 3s 2ms/step - loss: 0.5270 - auc: 0.8115 - accuracy: 0.7317 - val_loss: 0.5261 - val_auc: 0.8130 - val_accuracy: 0.7339\n",
      "Epoch 89/300\n",
      "1404/1404 [==============================] - 3s 2ms/step - loss: 0.5274 - auc: 0.8117 - accuracy: 0.7334 - val_loss: 0.5220 - val_auc: 0.8167 - val_accuracy: 0.7372\n",
      "Epoch 90/300\n",
      "1404/1404 [==============================] - 3s 2ms/step - loss: 0.5255 - auc: 0.8131 - accuracy: 0.7334 - val_loss: 0.5239 - val_auc: 0.8154 - val_accuracy: 0.7327\n",
      "Epoch 91/300\n",
      "1404/1404 [==============================] - 3s 2ms/step - loss: 0.5236 - auc: 0.8146 - accuracy: 0.7342 - val_loss: 0.5262 - val_auc: 0.8134 - val_accuracy: 0.7349\n",
      "Epoch 92/300\n",
      "1404/1404 [==============================] - 3s 2ms/step - loss: 0.5248 - auc: 0.8138 - accuracy: 0.7339 - val_loss: 0.5279 - val_auc: 0.8116 - val_accuracy: 0.7289\n",
      "Epoch 93/300\n",
      "1404/1404 [==============================] - 3s 2ms/step - loss: 0.5245 - auc: 0.8137 - accuracy: 0.7321 - val_loss: 0.5281 - val_auc: 0.8115 - val_accuracy: 0.7316\n",
      "Epoch 94/300\n",
      "1404/1404 [==============================] - 3s 2ms/step - loss: 0.5244 - auc: 0.8140 - accuracy: 0.7337 - val_loss: 0.5220 - val_auc: 0.8168 - val_accuracy: 0.7347\n",
      "Epoch 95/300\n",
      "1404/1404 [==============================] - 3s 2ms/step - loss: 0.5243 - auc: 0.8139 - accuracy: 0.7329 - val_loss: 0.5202 - val_auc: 0.8180 - val_accuracy: 0.7347\n",
      "Epoch 96/300\n",
      "1404/1404 [==============================] - 3s 2ms/step - loss: 0.5228 - auc: 0.8152 - accuracy: 0.7360 - val_loss: 0.5232 - val_auc: 0.8153 - val_accuracy: 0.7320\n",
      "Epoch 97/300\n",
      "1404/1404 [==============================] - 3s 2ms/step - loss: 0.5224 - auc: 0.8158 - accuracy: 0.7366 - val_loss: 0.5220 - val_auc: 0.8163 - val_accuracy: 0.7335\n",
      "Epoch 98/300\n",
      "1404/1404 [==============================] - 3s 2ms/step - loss: 0.5220 - auc: 0.8158 - accuracy: 0.7361 - val_loss: 0.5196 - val_auc: 0.8180 - val_accuracy: 0.7356\n",
      "Epoch 99/300\n",
      "1404/1404 [==============================] - 3s 2ms/step - loss: 0.5217 - auc: 0.8165 - accuracy: 0.7368 - val_loss: 0.5189 - val_auc: 0.8191 - val_accuracy: 0.7363\n",
      "Epoch 100/300\n",
      "1404/1404 [==============================] - 3s 2ms/step - loss: 0.5209 - auc: 0.8170 - accuracy: 0.7369 - val_loss: 0.5222 - val_auc: 0.8166 - val_accuracy: 0.7345\n",
      "Epoch 101/300\n",
      "1404/1404 [==============================] - 3s 2ms/step - loss: 0.5197 - auc: 0.8178 - accuracy: 0.7368 - val_loss: 0.5210 - val_auc: 0.8176 - val_accuracy: 0.7335\n",
      "Epoch 102/300\n",
      "1404/1404 [==============================] - 3s 2ms/step - loss: 0.5209 - auc: 0.8170 - accuracy: 0.7366 - val_loss: 0.5186 - val_auc: 0.8192 - val_accuracy: 0.7368\n",
      "Epoch 103/300\n",
      "1404/1404 [==============================] - 3s 2ms/step - loss: 0.5200 - auc: 0.8177 - accuracy: 0.7372 - val_loss: 0.5148 - val_auc: 0.8225 - val_accuracy: 0.7395\n",
      "Epoch 104/300\n",
      "1404/1404 [==============================] - 3s 2ms/step - loss: 0.5187 - auc: 0.8189 - accuracy: 0.7381 - val_loss: 0.5220 - val_auc: 0.8162 - val_accuracy: 0.7313\n",
      "Epoch 105/300\n",
      "1404/1404 [==============================] - 3s 2ms/step - loss: 0.5199 - auc: 0.8178 - accuracy: 0.7370 - val_loss: 0.5231 - val_auc: 0.8147 - val_accuracy: 0.7311\n",
      "Epoch 106/300\n",
      "1404/1404 [==============================] - 3s 2ms/step - loss: 0.5186 - auc: 0.8186 - accuracy: 0.7378 - val_loss: 0.5217 - val_auc: 0.8192 - val_accuracy: 0.7378\n",
      "Epoch 107/300\n",
      "1404/1404 [==============================] - 3s 2ms/step - loss: 0.5194 - auc: 0.8182 - accuracy: 0.7387 - val_loss: 0.5154 - val_auc: 0.8220 - val_accuracy: 0.7414\n",
      "Epoch 108/300\n",
      "1404/1404 [==============================] - 3s 2ms/step - loss: 0.5181 - auc: 0.8193 - accuracy: 0.7385 - val_loss: 0.5236 - val_auc: 0.8153 - val_accuracy: 0.7339\n",
      "Epoch 109/300\n",
      "1404/1404 [==============================] - 3s 2ms/step - loss: 0.5171 - auc: 0.8205 - accuracy: 0.7401 - val_loss: 0.5149 - val_auc: 0.8222 - val_accuracy: 0.7396\n",
      "Epoch 110/300\n",
      "1404/1404 [==============================] - 3s 2ms/step - loss: 0.5164 - auc: 0.8206 - accuracy: 0.7405 - val_loss: 0.5174 - val_auc: 0.8204 - val_accuracy: 0.7406\n",
      "Epoch 111/300\n",
      "1404/1404 [==============================] - 3s 2ms/step - loss: 0.5162 - auc: 0.8210 - accuracy: 0.7397 - val_loss: 0.5192 - val_auc: 0.8192 - val_accuracy: 0.7371\n",
      "Epoch 112/300\n",
      "1404/1404 [==============================] - 3s 2ms/step - loss: 0.5158 - auc: 0.8210 - accuracy: 0.7397 - val_loss: 0.5151 - val_auc: 0.8224 - val_accuracy: 0.7399\n",
      "Epoch 113/300\n",
      "1404/1404 [==============================] - 3s 2ms/step - loss: 0.5156 - auc: 0.8212 - accuracy: 0.7402 - val_loss: 0.5159 - val_auc: 0.8218 - val_accuracy: 0.7428\n",
      "Epoch 114/300\n",
      "1404/1404 [==============================] - 3s 2ms/step - loss: 0.5144 - auc: 0.8221 - accuracy: 0.7395 - val_loss: 0.5184 - val_auc: 0.8195 - val_accuracy: 0.7366\n",
      "Epoch 115/300\n",
      "1404/1404 [==============================] - 3s 2ms/step - loss: 0.5130 - auc: 0.8236 - accuracy: 0.7421 - val_loss: 0.5161 - val_auc: 0.8210 - val_accuracy: 0.7377\n",
      "Epoch 116/300\n",
      "1404/1404 [==============================] - 3s 2ms/step - loss: 0.5145 - auc: 0.8221 - accuracy: 0.7410 - val_loss: 0.5116 - val_auc: 0.8247 - val_accuracy: 0.7409\n",
      "Epoch 117/300\n",
      "1404/1404 [==============================] - 3s 2ms/step - loss: 0.5122 - auc: 0.8240 - accuracy: 0.7422 - val_loss: 0.5124 - val_auc: 0.8241 - val_accuracy: 0.7417\n",
      "Epoch 118/300\n",
      "1404/1404 [==============================] - 3s 2ms/step - loss: 0.5143 - auc: 0.8224 - accuracy: 0.7406 - val_loss: 0.5131 - val_auc: 0.8242 - val_accuracy: 0.7424\n",
      "Epoch 119/300\n",
      "1404/1404 [==============================] - 3s 2ms/step - loss: 0.5133 - auc: 0.8231 - accuracy: 0.7415 - val_loss: 0.5159 - val_auc: 0.8221 - val_accuracy: 0.7394\n",
      "Epoch 120/300\n",
      "1404/1404 [==============================] - 3s 2ms/step - loss: 0.5104 - auc: 0.8254 - accuracy: 0.7428 - val_loss: 0.5127 - val_auc: 0.8238 - val_accuracy: 0.7410\n",
      "Epoch 121/300\n",
      "1404/1404 [==============================] - 3s 2ms/step - loss: 0.5121 - auc: 0.8243 - accuracy: 0.7417 - val_loss: 0.5136 - val_auc: 0.8228 - val_accuracy: 0.7357\n",
      "Epoch 122/300\n",
      "1404/1404 [==============================] - 3s 2ms/step - loss: 0.5116 - auc: 0.8248 - accuracy: 0.7428 - val_loss: 0.5112 - val_auc: 0.8257 - val_accuracy: 0.7418\n",
      "Epoch 123/300\n",
      "1404/1404 [==============================] - 3s 2ms/step - loss: 0.5114 - auc: 0.8249 - accuracy: 0.7433 - val_loss: 0.5091 - val_auc: 0.8266 - val_accuracy: 0.7433\n",
      "Epoch 124/300\n",
      "1404/1404 [==============================] - 3s 2ms/step - loss: 0.5116 - auc: 0.8245 - accuracy: 0.7417 - val_loss: 0.5133 - val_auc: 0.8238 - val_accuracy: 0.7408\n",
      "Epoch 125/300\n",
      "1404/1404 [==============================] - 3s 2ms/step - loss: 0.5110 - auc: 0.8248 - accuracy: 0.7420 - val_loss: 0.5127 - val_auc: 0.8239 - val_accuracy: 0.7400\n",
      "Epoch 126/300\n",
      "1404/1404 [==============================] - 3s 2ms/step - loss: 0.5112 - auc: 0.8245 - accuracy: 0.7418 - val_loss: 0.5114 - val_auc: 0.8251 - val_accuracy: 0.7414\n",
      "Epoch 127/300\n",
      "1404/1404 [==============================] - 3s 2ms/step - loss: 0.5104 - auc: 0.8254 - accuracy: 0.7428 - val_loss: 0.5092 - val_auc: 0.8267 - val_accuracy: 0.7463\n",
      "Epoch 128/300\n",
      "1404/1404 [==============================] - 3s 2ms/step - loss: 0.5099 - auc: 0.8259 - accuracy: 0.7430 - val_loss: 0.5064 - val_auc: 0.8295 - val_accuracy: 0.7456\n",
      "Epoch 129/300\n",
      "1404/1404 [==============================] - 3s 2ms/step - loss: 0.5097 - auc: 0.8262 - accuracy: 0.7431 - val_loss: 0.5079 - val_auc: 0.8276 - val_accuracy: 0.7427\n",
      "Epoch 130/300\n",
      "1404/1404 [==============================] - 3s 2ms/step - loss: 0.5080 - auc: 0.8277 - accuracy: 0.7460 - val_loss: 0.5123 - val_auc: 0.8238 - val_accuracy: 0.7400\n",
      "Epoch 131/300\n",
      "1404/1404 [==============================] - 3s 2ms/step - loss: 0.5087 - auc: 0.8270 - accuracy: 0.7439 - val_loss: 0.5107 - val_auc: 0.8254 - val_accuracy: 0.7415\n",
      "Epoch 132/300\n",
      "1404/1404 [==============================] - 3s 2ms/step - loss: 0.5096 - auc: 0.8260 - accuracy: 0.7437 - val_loss: 0.5085 - val_auc: 0.8276 - val_accuracy: 0.7468\n",
      "Epoch 133/300\n",
      "1404/1404 [==============================] - 3s 2ms/step - loss: 0.5088 - auc: 0.8267 - accuracy: 0.7437 - val_loss: 0.5076 - val_auc: 0.8278 - val_accuracy: 0.7420\n",
      "Epoch 134/300\n",
      "1404/1404 [==============================] - 3s 2ms/step - loss: 0.5079 - auc: 0.8273 - accuracy: 0.7442 - val_loss: 0.5050 - val_auc: 0.8301 - val_accuracy: 0.7458\n",
      "Epoch 135/300\n",
      "1404/1404 [==============================] - 3s 2ms/step - loss: 0.5064 - auc: 0.8286 - accuracy: 0.7455 - val_loss: 0.5084 - val_auc: 0.8278 - val_accuracy: 0.7433\n",
      "Epoch 136/300\n",
      "1404/1404 [==============================] - 3s 2ms/step - loss: 0.5077 - auc: 0.8276 - accuracy: 0.7447 - val_loss: 0.5076 - val_auc: 0.8282 - val_accuracy: 0.7442\n",
      "Epoch 137/300\n",
      "1404/1404 [==============================] - 3s 2ms/step - loss: 0.5054 - auc: 0.8295 - accuracy: 0.7474 - val_loss: 0.5066 - val_auc: 0.8295 - val_accuracy: 0.7453\n",
      "Epoch 138/300\n",
      "1404/1404 [==============================] - 3s 2ms/step - loss: 0.5058 - auc: 0.8292 - accuracy: 0.7459 - val_loss: 0.5066 - val_auc: 0.8292 - val_accuracy: 0.7462\n",
      "Epoch 139/300\n",
      "1404/1404 [==============================] - 3s 2ms/step - loss: 0.5052 - auc: 0.8297 - accuracy: 0.7471 - val_loss: 0.5077 - val_auc: 0.8276 - val_accuracy: 0.7424\n",
      "Epoch 140/300\n",
      "1404/1404 [==============================] - 3s 2ms/step - loss: 0.5066 - auc: 0.8284 - accuracy: 0.7450 - val_loss: 0.5059 - val_auc: 0.8305 - val_accuracy: 0.7477\n",
      "Epoch 141/300\n",
      "1404/1404 [==============================] - 3s 2ms/step - loss: 0.5065 - auc: 0.8288 - accuracy: 0.7463 - val_loss: 0.5082 - val_auc: 0.8272 - val_accuracy: 0.7427\n",
      "Epoch 142/300\n",
      "1404/1404 [==============================] - 3s 2ms/step - loss: 0.5054 - auc: 0.8294 - accuracy: 0.7470 - val_loss: 0.5062 - val_auc: 0.8290 - val_accuracy: 0.7433\n",
      "Epoch 143/300\n",
      "1404/1404 [==============================] - 3s 2ms/step - loss: 0.5053 - auc: 0.8297 - accuracy: 0.7460 - val_loss: 0.5057 - val_auc: 0.8300 - val_accuracy: 0.7468\n",
      "Epoch 144/300\n",
      "1404/1404 [==============================] - 3s 2ms/step - loss: 0.5056 - auc: 0.8294 - accuracy: 0.7467 - val_loss: 0.5071 - val_auc: 0.8285 - val_accuracy: 0.7431\n",
      "Epoch 145/300\n",
      "1404/1404 [==============================] - 3s 2ms/step - loss: 0.5052 - auc: 0.8298 - accuracy: 0.7486 - val_loss: 0.5065 - val_auc: 0.8288 - val_accuracy: 0.7444\n",
      "Epoch 146/300\n",
      "1404/1404 [==============================] - 3s 2ms/step - loss: 0.5047 - auc: 0.8302 - accuracy: 0.7486 - val_loss: 0.5109 - val_auc: 0.8250 - val_accuracy: 0.7402\n",
      "Epoch 147/300\n",
      "1404/1404 [==============================] - 3s 2ms/step - loss: 0.5042 - auc: 0.8305 - accuracy: 0.7470 - val_loss: 0.5064 - val_auc: 0.8288 - val_accuracy: 0.7429\n",
      "Epoch 148/300\n",
      "1404/1404 [==============================] - 3s 2ms/step - loss: 0.5042 - auc: 0.8307 - accuracy: 0.7481 - val_loss: 0.5058 - val_auc: 0.8292 - val_accuracy: 0.7455\n",
      "Epoch 149/300\n",
      "1404/1404 [==============================] - 3s 2ms/step - loss: 0.5032 - auc: 0.8309 - accuracy: 0.7474 - val_loss: 0.5053 - val_auc: 0.8295 - val_accuracy: 0.7444\n",
      "Epoch 150/300\n",
      "1404/1404 [==============================] - 3s 2ms/step - loss: 0.5033 - auc: 0.8310 - accuracy: 0.7483 - val_loss: 0.5044 - val_auc: 0.8307 - val_accuracy: 0.7468\n",
      "Epoch 151/300\n",
      "1404/1404 [==============================] - 3s 2ms/step - loss: 0.5038 - auc: 0.8305 - accuracy: 0.7466 - val_loss: 0.5050 - val_auc: 0.8305 - val_accuracy: 0.7484\n",
      "Epoch 152/300\n",
      "1404/1404 [==============================] - 3s 2ms/step - loss: 0.5032 - auc: 0.8314 - accuracy: 0.7486 - val_loss: 0.5018 - val_auc: 0.8321 - val_accuracy: 0.7450\n",
      "Epoch 153/300\n",
      "1404/1404 [==============================] - 3s 2ms/step - loss: 0.5023 - auc: 0.8320 - accuracy: 0.7490 - val_loss: 0.5018 - val_auc: 0.8328 - val_accuracy: 0.7491\n",
      "Epoch 154/300\n",
      "1404/1404 [==============================] - 3s 2ms/step - loss: 0.5031 - auc: 0.8314 - accuracy: 0.7494 - val_loss: 0.5013 - val_auc: 0.8331 - val_accuracy: 0.7484\n",
      "Epoch 155/300\n",
      "1404/1404 [==============================] - 3s 2ms/step - loss: 0.5014 - auc: 0.8325 - accuracy: 0.7487 - val_loss: 0.5069 - val_auc: 0.8285 - val_accuracy: 0.7450\n",
      "Epoch 156/300\n",
      "1404/1404 [==============================] - 3s 2ms/step - loss: 0.5021 - auc: 0.8320 - accuracy: 0.7487 - val_loss: 0.5037 - val_auc: 0.8312 - val_accuracy: 0.7468\n",
      "Epoch 157/300\n",
      "1404/1404 [==============================] - 3s 2ms/step - loss: 0.5014 - auc: 0.8326 - accuracy: 0.7493 - val_loss: 0.5026 - val_auc: 0.8315 - val_accuracy: 0.7476\n",
      "Epoch 158/300\n",
      "1404/1404 [==============================] - 3s 2ms/step - loss: 0.5024 - auc: 0.8318 - accuracy: 0.7489 - val_loss: 0.5007 - val_auc: 0.8334 - val_accuracy: 0.7480\n",
      "Epoch 159/300\n",
      "1404/1404 [==============================] - 3s 2ms/step - loss: 0.5011 - auc: 0.8329 - accuracy: 0.7490 - val_loss: 0.5066 - val_auc: 0.8288 - val_accuracy: 0.7462\n",
      "Epoch 160/300\n",
      "1404/1404 [==============================] - 3s 2ms/step - loss: 0.5009 - auc: 0.8327 - accuracy: 0.7481 - val_loss: 0.5023 - val_auc: 0.8322 - val_accuracy: 0.7472\n",
      "Epoch 161/300\n",
      "1404/1404 [==============================] - 3s 2ms/step - loss: 0.5019 - auc: 0.8322 - accuracy: 0.7497 - val_loss: 0.5040 - val_auc: 0.8318 - val_accuracy: 0.7487\n",
      "Epoch 162/300\n",
      "1404/1404 [==============================] - 3s 2ms/step - loss: 0.5006 - auc: 0.8332 - accuracy: 0.7478 - val_loss: 0.5037 - val_auc: 0.8312 - val_accuracy: 0.7452\n",
      "Epoch 163/300\n",
      "1404/1404 [==============================] - 3s 2ms/step - loss: 0.4996 - auc: 0.8339 - accuracy: 0.7503 - val_loss: 0.5014 - val_auc: 0.8331 - val_accuracy: 0.7493\n",
      "Epoch 164/300\n",
      "1404/1404 [==============================] - 3s 2ms/step - loss: 0.4992 - auc: 0.8342 - accuracy: 0.7506 - val_loss: 0.4992 - val_auc: 0.8349 - val_accuracy: 0.7520\n",
      "Epoch 165/300\n",
      "1404/1404 [==============================] - 3s 2ms/step - loss: 0.4996 - auc: 0.8341 - accuracy: 0.7515 - val_loss: 0.5040 - val_auc: 0.8309 - val_accuracy: 0.7458\n",
      "Epoch 166/300\n",
      "1404/1404 [==============================] - 3s 2ms/step - loss: 0.4985 - auc: 0.8348 - accuracy: 0.7516 - val_loss: 0.5047 - val_auc: 0.8297 - val_accuracy: 0.7446\n",
      "Epoch 167/300\n",
      "1404/1404 [==============================] - 3s 2ms/step - loss: 0.4989 - auc: 0.8344 - accuracy: 0.7511 - val_loss: 0.5013 - val_auc: 0.8328 - val_accuracy: 0.7482\n",
      "Epoch 168/300\n",
      "1404/1404 [==============================] - 3s 2ms/step - loss: 0.4987 - auc: 0.8348 - accuracy: 0.7514 - val_loss: 0.4992 - val_auc: 0.8348 - val_accuracy: 0.7520\n",
      "Epoch 169/300\n",
      "1404/1404 [==============================] - 3s 2ms/step - loss: 0.4981 - auc: 0.8352 - accuracy: 0.7513 - val_loss: 0.5019 - val_auc: 0.8329 - val_accuracy: 0.7498\n",
      "Epoch 170/300\n",
      "1404/1404 [==============================] - 3s 2ms/step - loss: 0.4986 - auc: 0.8349 - accuracy: 0.7525 - val_loss: 0.5028 - val_auc: 0.8319 - val_accuracy: 0.7477\n",
      "Epoch 171/300\n",
      "1404/1404 [==============================] - 3s 2ms/step - loss: 0.4980 - auc: 0.8352 - accuracy: 0.7510 - val_loss: 0.4993 - val_auc: 0.8343 - val_accuracy: 0.7480\n",
      "Epoch 172/300\n",
      "1404/1404 [==============================] - 3s 2ms/step - loss: 0.4973 - auc: 0.8357 - accuracy: 0.7510 - val_loss: 0.5011 - val_auc: 0.8339 - val_accuracy: 0.7493\n",
      "Epoch 173/300\n",
      "1404/1404 [==============================] - 3s 2ms/step - loss: 0.4983 - auc: 0.8349 - accuracy: 0.7514 - val_loss: 0.5020 - val_auc: 0.8332 - val_accuracy: 0.7480\n",
      "Epoch 174/300\n",
      "1404/1404 [==============================] - 3s 2ms/step - loss: 0.4978 - auc: 0.8351 - accuracy: 0.7508 - val_loss: 0.5028 - val_auc: 0.8317 - val_accuracy: 0.7456\n",
      "Epoch 175/300\n",
      "1404/1404 [==============================] - 3s 2ms/step - loss: 0.4971 - auc: 0.8354 - accuracy: 0.7509 - val_loss: 0.5002 - val_auc: 0.8337 - val_accuracy: 0.7512\n",
      "Epoch 176/300\n",
      "1404/1404 [==============================] - 3s 2ms/step - loss: 0.4965 - auc: 0.8364 - accuracy: 0.7527 - val_loss: 0.5039 - val_auc: 0.8310 - val_accuracy: 0.7474\n",
      "Epoch 177/300\n",
      "1404/1404 [==============================] - 3s 2ms/step - loss: 0.4970 - auc: 0.8358 - accuracy: 0.7521 - val_loss: 0.4987 - val_auc: 0.8351 - val_accuracy: 0.7492\n",
      "Epoch 178/300\n",
      "1404/1404 [==============================] - 3s 2ms/step - loss: 0.4970 - auc: 0.8361 - accuracy: 0.7521 - val_loss: 0.5000 - val_auc: 0.8340 - val_accuracy: 0.7481\n",
      "Epoch 179/300\n",
      "1404/1404 [==============================] - 3s 2ms/step - loss: 0.4962 - auc: 0.8366 - accuracy: 0.7534 - val_loss: 0.5000 - val_auc: 0.8344 - val_accuracy: 0.7494\n",
      "Epoch 180/300\n",
      "1404/1404 [==============================] - 3s 2ms/step - loss: 0.4968 - auc: 0.8362 - accuracy: 0.7518 - val_loss: 0.4998 - val_auc: 0.8339 - val_accuracy: 0.7504\n",
      "Epoch 181/300\n",
      "1404/1404 [==============================] - 3s 2ms/step - loss: 0.4967 - auc: 0.8360 - accuracy: 0.7512 - val_loss: 0.4993 - val_auc: 0.8342 - val_accuracy: 0.7516\n",
      "Epoch 182/300\n",
      "1404/1404 [==============================] - 3s 2ms/step - loss: 0.4951 - auc: 0.8373 - accuracy: 0.7529 - val_loss: 0.4993 - val_auc: 0.8345 - val_accuracy: 0.7468\n",
      "Epoch 183/300\n",
      "1404/1404 [==============================] - 3s 2ms/step - loss: 0.4944 - auc: 0.8380 - accuracy: 0.7541 - val_loss: 0.4976 - val_auc: 0.8352 - val_accuracy: 0.7488\n",
      "Epoch 184/300\n",
      "1404/1404 [==============================] - 3s 2ms/step - loss: 0.4950 - auc: 0.8373 - accuracy: 0.7532 - val_loss: 0.4969 - val_auc: 0.8358 - val_accuracy: 0.7466\n",
      "Epoch 185/300\n",
      "1404/1404 [==============================] - 3s 2ms/step - loss: 0.4953 - auc: 0.8375 - accuracy: 0.7535 - val_loss: 0.4957 - val_auc: 0.8371 - val_accuracy: 0.7495\n",
      "Epoch 186/300\n",
      "1404/1404 [==============================] - 3s 2ms/step - loss: 0.4956 - auc: 0.8369 - accuracy: 0.7530 - val_loss: 0.4967 - val_auc: 0.8364 - val_accuracy: 0.7507\n",
      "Epoch 187/300\n",
      "1404/1404 [==============================] - 3s 2ms/step - loss: 0.4943 - auc: 0.8376 - accuracy: 0.7526 - val_loss: 0.4988 - val_auc: 0.8345 - val_accuracy: 0.7513\n",
      "Epoch 188/300\n",
      "1404/1404 [==============================] - 3s 2ms/step - loss: 0.4937 - auc: 0.8383 - accuracy: 0.7528 - val_loss: 0.4981 - val_auc: 0.8355 - val_accuracy: 0.7516\n",
      "Epoch 189/300\n",
      "1404/1404 [==============================] - 3s 2ms/step - loss: 0.4932 - auc: 0.8388 - accuracy: 0.7541 - val_loss: 0.4983 - val_auc: 0.8350 - val_accuracy: 0.7530\n",
      "Epoch 190/300\n",
      "1404/1404 [==============================] - 3s 2ms/step - loss: 0.4944 - auc: 0.8379 - accuracy: 0.7541 - val_loss: 0.4991 - val_auc: 0.8348 - val_accuracy: 0.7501\n",
      "Epoch 191/300\n",
      "1404/1404 [==============================] - 3s 2ms/step - loss: 0.4938 - auc: 0.8383 - accuracy: 0.7543 - val_loss: 0.5035 - val_auc: 0.8314 - val_accuracy: 0.7484\n",
      "Epoch 192/300\n",
      "1404/1404 [==============================] - 3s 2ms/step - loss: 0.4941 - auc: 0.8383 - accuracy: 0.7548 - val_loss: 0.4993 - val_auc: 0.8344 - val_accuracy: 0.7504\n",
      "Epoch 193/300\n",
      "1404/1404 [==============================] - 3s 2ms/step - loss: 0.4927 - auc: 0.8392 - accuracy: 0.7553 - val_loss: 0.5020 - val_auc: 0.8331 - val_accuracy: 0.7487\n",
      "Epoch 194/300\n",
      "1404/1404 [==============================] - 3s 2ms/step - loss: 0.4933 - auc: 0.8387 - accuracy: 0.7533 - val_loss: 0.4987 - val_auc: 0.8347 - val_accuracy: 0.7490\n",
      "Epoch 195/300\n",
      "1404/1404 [==============================] - 3s 2ms/step - loss: 0.4933 - auc: 0.8389 - accuracy: 0.7539 - val_loss: 0.4953 - val_auc: 0.8380 - val_accuracy: 0.7502\n",
      "Epoch 196/300\n",
      "1404/1404 [==============================] - 3s 2ms/step - loss: 0.4936 - auc: 0.8387 - accuracy: 0.7555 - val_loss: 0.5002 - val_auc: 0.8342 - val_accuracy: 0.7504\n",
      "Epoch 197/300\n",
      "1404/1404 [==============================] - 3s 2ms/step - loss: 0.4926 - auc: 0.8391 - accuracy: 0.7548 - val_loss: 0.4962 - val_auc: 0.8368 - val_accuracy: 0.7518\n",
      "Epoch 198/300\n",
      "1404/1404 [==============================] - 3s 2ms/step - loss: 0.4914 - auc: 0.8400 - accuracy: 0.7545 - val_loss: 0.5009 - val_auc: 0.8330 - val_accuracy: 0.7485\n",
      "Epoch 199/300\n",
      "1404/1404 [==============================] - 3s 2ms/step - loss: 0.4928 - auc: 0.8389 - accuracy: 0.7543 - val_loss: 0.5006 - val_auc: 0.8341 - val_accuracy: 0.7494\n",
      "Epoch 200/300\n",
      "1404/1404 [==============================] - 3s 2ms/step - loss: 0.4920 - auc: 0.8394 - accuracy: 0.7550 - val_loss: 0.5033 - val_auc: 0.8313 - val_accuracy: 0.7448\n",
      "Epoch 201/300\n",
      "1404/1404 [==============================] - 3s 2ms/step - loss: 0.4920 - auc: 0.8396 - accuracy: 0.7544 - val_loss: 0.4955 - val_auc: 0.8374 - val_accuracy: 0.7530\n",
      "Epoch 202/300\n",
      "1404/1404 [==============================] - 3s 2ms/step - loss: 0.4911 - auc: 0.8405 - accuracy: 0.7563 - val_loss: 0.4962 - val_auc: 0.8366 - val_accuracy: 0.7528\n",
      "Epoch 203/300\n",
      "1404/1404 [==============================] - 3s 2ms/step - loss: 0.4906 - auc: 0.8411 - accuracy: 0.7570 - val_loss: 0.4949 - val_auc: 0.8377 - val_accuracy: 0.7520\n",
      "Epoch 204/300\n",
      "1404/1404 [==============================] - 3s 2ms/step - loss: 0.4901 - auc: 0.8410 - accuracy: 0.7556 - val_loss: 0.5007 - val_auc: 0.8340 - val_accuracy: 0.7505\n",
      "Epoch 205/300\n",
      "1404/1404 [==============================] - 3s 2ms/step - loss: 0.4892 - auc: 0.8419 - accuracy: 0.7579 - val_loss: 0.4952 - val_auc: 0.8372 - val_accuracy: 0.7515\n",
      "Epoch 206/300\n",
      "1404/1404 [==============================] - 3s 2ms/step - loss: 0.4892 - auc: 0.8417 - accuracy: 0.7579 - val_loss: 0.4936 - val_auc: 0.8386 - val_accuracy: 0.7528\n",
      "Epoch 207/300\n",
      "1404/1404 [==============================] - 3s 2ms/step - loss: 0.4927 - auc: 0.8392 - accuracy: 0.7544 - val_loss: 0.4998 - val_auc: 0.8338 - val_accuracy: 0.7505\n",
      "Epoch 208/300\n",
      "1404/1404 [==============================] - 3s 2ms/step - loss: 0.4909 - auc: 0.8406 - accuracy: 0.7565 - val_loss: 0.4980 - val_auc: 0.8354 - val_accuracy: 0.7501\n",
      "Epoch 209/300\n",
      "1404/1404 [==============================] - 3s 2ms/step - loss: 0.4904 - auc: 0.8411 - accuracy: 0.7562 - val_loss: 0.4934 - val_auc: 0.8393 - val_accuracy: 0.7567\n",
      "Epoch 210/300\n",
      "1404/1404 [==============================] - 3s 2ms/step - loss: 0.4895 - auc: 0.8417 - accuracy: 0.7573 - val_loss: 0.4929 - val_auc: 0.8392 - val_accuracy: 0.7518\n",
      "Epoch 211/300\n",
      "1404/1404 [==============================] - 4s 3ms/step - loss: 0.4894 - auc: 0.8416 - accuracy: 0.7578 - val_loss: 0.4940 - val_auc: 0.8382 - val_accuracy: 0.7509\n",
      "Epoch 212/300\n",
      "1404/1404 [==============================] - 3s 2ms/step - loss: 0.4911 - auc: 0.8404 - accuracy: 0.7565 - val_loss: 0.4976 - val_auc: 0.8356 - val_accuracy: 0.7519\n",
      "Epoch 213/300\n",
      "1404/1404 [==============================] - 3s 2ms/step - loss: 0.4887 - auc: 0.8422 - accuracy: 0.7571 - val_loss: 0.5031 - val_auc: 0.8328 - val_accuracy: 0.7485\n",
      "Epoch 214/300\n",
      "1404/1404 [==============================] - 3s 2ms/step - loss: 0.4903 - auc: 0.8408 - accuracy: 0.7571 - val_loss: 0.4946 - val_auc: 0.8380 - val_accuracy: 0.7508\n",
      "Epoch 215/300\n",
      "1404/1404 [==============================] - 3s 2ms/step - loss: 0.4899 - auc: 0.8415 - accuracy: 0.7569 - val_loss: 0.4953 - val_auc: 0.8379 - val_accuracy: 0.7533\n",
      "Epoch 216/300\n",
      "1404/1404 [==============================] - 3s 2ms/step - loss: 0.4892 - auc: 0.8418 - accuracy: 0.7570 - val_loss: 0.4942 - val_auc: 0.8386 - val_accuracy: 0.7535\n",
      "Epoch 217/300\n",
      "1404/1404 [==============================] - 3s 2ms/step - loss: 0.4891 - auc: 0.8417 - accuracy: 0.7568 - val_loss: 0.4937 - val_auc: 0.8392 - val_accuracy: 0.7554\n",
      "Epoch 218/300\n",
      "1404/1404 [==============================] - 3s 2ms/step - loss: 0.4885 - auc: 0.8423 - accuracy: 0.7582 - val_loss: 0.4915 - val_auc: 0.8406 - val_accuracy: 0.7540\n",
      "Epoch 219/300\n",
      "1404/1404 [==============================] - 3s 2ms/step - loss: 0.4892 - auc: 0.8415 - accuracy: 0.7573 - val_loss: 0.4920 - val_auc: 0.8396 - val_accuracy: 0.7553\n",
      "Epoch 220/300\n",
      "1404/1404 [==============================] - 3s 2ms/step - loss: 0.4896 - auc: 0.8415 - accuracy: 0.7566 - val_loss: 0.4959 - val_auc: 0.8376 - val_accuracy: 0.7519\n",
      "Epoch 221/300\n",
      "1404/1404 [==============================] - 3s 2ms/step - loss: 0.4886 - auc: 0.8419 - accuracy: 0.7569 - val_loss: 0.4950 - val_auc: 0.8379 - val_accuracy: 0.7561\n",
      "Epoch 222/300\n",
      "1404/1404 [==============================] - 3s 2ms/step - loss: 0.4884 - auc: 0.8423 - accuracy: 0.7573 - val_loss: 0.4968 - val_auc: 0.8364 - val_accuracy: 0.7519\n",
      "Epoch 223/300\n",
      "1404/1404 [==============================] - 3s 2ms/step - loss: 0.4880 - auc: 0.8427 - accuracy: 0.7583 - val_loss: 0.4975 - val_auc: 0.8360 - val_accuracy: 0.7517\n",
      "Epoch 224/300\n",
      "1404/1404 [==============================] - 3s 2ms/step - loss: 0.4890 - auc: 0.8418 - accuracy: 0.7558 - val_loss: 0.4948 - val_auc: 0.8382 - val_accuracy: 0.7523\n",
      "Epoch 225/300\n",
      "1404/1404 [==============================] - 3s 2ms/step - loss: 0.4882 - auc: 0.8425 - accuracy: 0.7568 - val_loss: 0.4912 - val_auc: 0.8410 - val_accuracy: 0.7561\n",
      "Epoch 226/300\n",
      "1404/1404 [==============================] - 3s 2ms/step - loss: 0.4872 - auc: 0.8429 - accuracy: 0.7572 - val_loss: 0.4965 - val_auc: 0.8374 - val_accuracy: 0.7521\n",
      "Epoch 227/300\n",
      "1404/1404 [==============================] - 3s 2ms/step - loss: 0.4888 - auc: 0.8419 - accuracy: 0.7565 - val_loss: 0.4909 - val_auc: 0.8410 - val_accuracy: 0.7551\n",
      "Epoch 228/300\n",
      "1404/1404 [==============================] - 3s 2ms/step - loss: 0.4868 - auc: 0.8433 - accuracy: 0.7574 - val_loss: 0.4920 - val_auc: 0.8400 - val_accuracy: 0.7544\n",
      "Epoch 229/300\n",
      "1404/1404 [==============================] - 3s 2ms/step - loss: 0.4868 - auc: 0.8435 - accuracy: 0.7590 - val_loss: 0.4913 - val_auc: 0.8409 - val_accuracy: 0.7558\n",
      "Epoch 230/300\n",
      "1404/1404 [==============================] - 3s 2ms/step - loss: 0.4867 - auc: 0.8436 - accuracy: 0.7593 - val_loss: 0.4896 - val_auc: 0.8416 - val_accuracy: 0.7559\n",
      "Epoch 231/300\n",
      "1404/1404 [==============================] - 3s 2ms/step - loss: 0.4871 - auc: 0.8434 - accuracy: 0.7586 - val_loss: 0.4945 - val_auc: 0.8388 - val_accuracy: 0.7549\n",
      "Epoch 232/300\n",
      "1404/1404 [==============================] - 3s 2ms/step - loss: 0.4869 - auc: 0.8433 - accuracy: 0.7589 - val_loss: 0.4929 - val_auc: 0.8392 - val_accuracy: 0.7523\n",
      "Epoch 233/300\n",
      "1404/1404 [==============================] - 3s 2ms/step - loss: 0.4863 - auc: 0.8439 - accuracy: 0.7588 - val_loss: 0.4935 - val_auc: 0.8393 - val_accuracy: 0.7563\n",
      "Epoch 234/300\n",
      "1404/1404 [==============================] - 3s 2ms/step - loss: 0.4864 - auc: 0.8441 - accuracy: 0.7593 - val_loss: 0.4965 - val_auc: 0.8372 - val_accuracy: 0.7539\n",
      "Epoch 235/300\n",
      "1404/1404 [==============================] - 3s 2ms/step - loss: 0.4869 - auc: 0.8435 - accuracy: 0.7585 - val_loss: 0.4953 - val_auc: 0.8381 - val_accuracy: 0.7512\n",
      "Epoch 236/300\n",
      "1404/1404 [==============================] - 3s 2ms/step - loss: 0.4855 - auc: 0.8443 - accuracy: 0.7582 - val_loss: 0.4929 - val_auc: 0.8400 - val_accuracy: 0.7561\n",
      "Epoch 237/300\n",
      "1404/1404 [==============================] - 3s 2ms/step - loss: 0.4847 - auc: 0.8451 - accuracy: 0.7602 - val_loss: 0.4909 - val_auc: 0.8412 - val_accuracy: 0.7538\n",
      "Epoch 238/300\n",
      "1404/1404 [==============================] - 3s 2ms/step - loss: 0.4854 - auc: 0.8446 - accuracy: 0.7606 - val_loss: 0.4934 - val_auc: 0.8396 - val_accuracy: 0.7531\n",
      "Epoch 239/300\n",
      "1404/1404 [==============================] - 4s 2ms/step - loss: 0.4843 - auc: 0.8455 - accuracy: 0.7619 - val_loss: 0.4929 - val_auc: 0.8400 - val_accuracy: 0.7543\n",
      "Epoch 240/300\n",
      "1404/1404 [==============================] - 3s 2ms/step - loss: 0.4853 - auc: 0.8447 - accuracy: 0.7598 - val_loss: 0.4931 - val_auc: 0.8400 - val_accuracy: 0.7569\n",
      "Epoch 241/300\n",
      "1404/1404 [==============================] - 3s 2ms/step - loss: 0.4856 - auc: 0.8444 - accuracy: 0.7606 - val_loss: 0.4904 - val_auc: 0.8416 - val_accuracy: 0.7557\n",
      "Epoch 242/300\n",
      "1404/1404 [==============================] - 3s 2ms/step - loss: 0.4831 - auc: 0.8460 - accuracy: 0.7612 - val_loss: 0.4943 - val_auc: 0.8385 - val_accuracy: 0.7551\n",
      "Epoch 243/300\n",
      "1404/1404 [==============================] - 4s 3ms/step - loss: 0.4847 - auc: 0.8447 - accuracy: 0.7587 - val_loss: 0.4949 - val_auc: 0.8384 - val_accuracy: 0.7508\n",
      "Epoch 244/300\n",
      "1404/1404 [==============================] - 3s 2ms/step - loss: 0.4856 - auc: 0.8444 - accuracy: 0.7600 - val_loss: 0.4971 - val_auc: 0.8366 - val_accuracy: 0.7537\n",
      "Epoch 245/300\n",
      "1404/1404 [==============================] - 3s 2ms/step - loss: 0.4846 - auc: 0.8450 - accuracy: 0.7608 - val_loss: 0.4905 - val_auc: 0.8417 - val_accuracy: 0.7585\n",
      "Epoch 246/300\n",
      "1404/1404 [==============================] - 3s 2ms/step - loss: 0.4849 - auc: 0.8448 - accuracy: 0.7597 - val_loss: 0.4909 - val_auc: 0.8415 - val_accuracy: 0.7538\n",
      "Epoch 247/300\n",
      "1404/1404 [==============================] - 3s 2ms/step - loss: 0.4848 - auc: 0.8449 - accuracy: 0.7589 - val_loss: 0.4884 - val_auc: 0.8430 - val_accuracy: 0.7568\n",
      "Epoch 248/300\n",
      "1404/1404 [==============================] - 4s 3ms/step - loss: 0.4839 - auc: 0.8456 - accuracy: 0.7597 - val_loss: 0.4906 - val_auc: 0.8417 - val_accuracy: 0.7576\n",
      "Epoch 249/300\n",
      "1404/1404 [==============================] - 3s 2ms/step - loss: 0.4846 - auc: 0.8450 - accuracy: 0.7588 - val_loss: 0.4895 - val_auc: 0.8416 - val_accuracy: 0.7550\n",
      "Epoch 250/300\n",
      "1404/1404 [==============================] - 3s 2ms/step - loss: 0.4842 - auc: 0.8455 - accuracy: 0.7613 - val_loss: 0.4912 - val_auc: 0.8411 - val_accuracy: 0.7583\n",
      "Epoch 251/300\n",
      "1404/1404 [==============================] - 3s 2ms/step - loss: 0.4836 - auc: 0.8458 - accuracy: 0.7602 - val_loss: 0.4957 - val_auc: 0.8381 - val_accuracy: 0.7550\n",
      "Epoch 252/300\n",
      "1404/1404 [==============================] - 4s 3ms/step - loss: 0.4833 - auc: 0.8460 - accuracy: 0.7622 - val_loss: 0.4884 - val_auc: 0.8434 - val_accuracy: 0.7581\n",
      "Epoch 253/300\n",
      "1404/1404 [==============================] - 3s 2ms/step - loss: 0.4829 - auc: 0.8462 - accuracy: 0.7617 - val_loss: 0.4937 - val_auc: 0.8401 - val_accuracy: 0.7552\n",
      "Epoch 254/300\n",
      "1404/1404 [==============================] - 3s 2ms/step - loss: 0.4839 - auc: 0.8458 - accuracy: 0.7605 - val_loss: 0.4926 - val_auc: 0.8398 - val_accuracy: 0.7527\n",
      "Epoch 255/300\n",
      "1404/1404 [==============================] - 3s 2ms/step - loss: 0.4832 - auc: 0.8462 - accuracy: 0.7614 - val_loss: 0.4946 - val_auc: 0.8390 - val_accuracy: 0.7516\n",
      "Epoch 256/300\n",
      "1404/1404 [==============================] - 3s 2ms/step - loss: 0.4834 - auc: 0.8461 - accuracy: 0.7614 - val_loss: 0.4900 - val_auc: 0.8426 - val_accuracy: 0.7563\n",
      "Epoch 257/300\n",
      "1404/1404 [==============================] - 3s 2ms/step - loss: 0.4822 - auc: 0.8467 - accuracy: 0.7623 - val_loss: 0.4906 - val_auc: 0.8421 - val_accuracy: 0.7567\n",
      "Epoch 258/300\n",
      "1404/1404 [==============================] - 3s 2ms/step - loss: 0.4819 - auc: 0.8468 - accuracy: 0.7611 - val_loss: 0.4918 - val_auc: 0.8411 - val_accuracy: 0.7553\n",
      "Epoch 259/300\n",
      "1404/1404 [==============================] - 3s 2ms/step - loss: 0.4844 - auc: 0.8451 - accuracy: 0.7594 - val_loss: 0.4881 - val_auc: 0.8430 - val_accuracy: 0.7563\n",
      "Epoch 260/300\n",
      "1404/1404 [==============================] - 4s 3ms/step - loss: 0.4825 - auc: 0.8467 - accuracy: 0.7620 - val_loss: 0.4915 - val_auc: 0.8408 - val_accuracy: 0.7560\n",
      "Epoch 261/300\n",
      "1404/1404 [==============================] - 3s 2ms/step - loss: 0.4818 - auc: 0.8472 - accuracy: 0.7621 - val_loss: 0.4947 - val_auc: 0.8384 - val_accuracy: 0.7526\n",
      "Epoch 262/300\n",
      "1404/1404 [==============================] - 3s 2ms/step - loss: 0.4823 - auc: 0.8466 - accuracy: 0.7623 - val_loss: 0.4935 - val_auc: 0.8398 - val_accuracy: 0.7548\n",
      "Epoch 263/300\n",
      "1404/1404 [==============================] - 3s 2ms/step - loss: 0.4811 - auc: 0.8477 - accuracy: 0.7633 - val_loss: 0.4906 - val_auc: 0.8419 - val_accuracy: 0.7574\n",
      "Epoch 264/300\n",
      "1404/1404 [==============================] - 3s 2ms/step - loss: 0.4828 - auc: 0.8467 - accuracy: 0.7622 - val_loss: 0.4883 - val_auc: 0.8437 - val_accuracy: 0.7576\n",
      "Epoch 265/300\n",
      "1404/1404 [==============================] - 3s 2ms/step - loss: 0.4823 - auc: 0.8465 - accuracy: 0.7614 - val_loss: 0.4939 - val_auc: 0.8391 - val_accuracy: 0.7551\n",
      "Epoch 266/300\n",
      "1404/1404 [==============================] - 4s 3ms/step - loss: 0.4823 - auc: 0.8467 - accuracy: 0.7618 - val_loss: 0.4946 - val_auc: 0.8397 - val_accuracy: 0.7552\n",
      "Epoch 267/300\n",
      "1404/1404 [==============================] - 3s 2ms/step - loss: 0.4816 - auc: 0.8471 - accuracy: 0.7616 - val_loss: 0.4905 - val_auc: 0.8420 - val_accuracy: 0.7559\n",
      "Epoch 268/300\n",
      "1404/1404 [==============================] - 3s 2ms/step - loss: 0.4813 - auc: 0.8475 - accuracy: 0.7634 - val_loss: 0.4893 - val_auc: 0.8429 - val_accuracy: 0.7557\n",
      "Epoch 269/300\n",
      "1404/1404 [==============================] - 3s 2ms/step - loss: 0.4805 - auc: 0.8483 - accuracy: 0.7629 - val_loss: 0.4877 - val_auc: 0.8437 - val_accuracy: 0.7578\n",
      "Epoch 270/300\n",
      "1404/1404 [==============================] - 3s 2ms/step - loss: 0.4806 - auc: 0.8481 - accuracy: 0.7633 - val_loss: 0.4920 - val_auc: 0.8409 - val_accuracy: 0.7555\n",
      "Epoch 271/300\n",
      "1404/1404 [==============================] - 4s 3ms/step - loss: 0.4807 - auc: 0.8479 - accuracy: 0.7639 - val_loss: 0.4900 - val_auc: 0.8425 - val_accuracy: 0.7585\n",
      "Epoch 272/300\n",
      "1404/1404 [==============================] - 3s 2ms/step - loss: 0.4812 - auc: 0.8475 - accuracy: 0.7629 - val_loss: 0.4926 - val_auc: 0.8408 - val_accuracy: 0.7582\n",
      "Epoch 273/300\n",
      "1404/1404 [==============================] - 3s 2ms/step - loss: 0.4804 - auc: 0.8480 - accuracy: 0.7625 - val_loss: 0.4905 - val_auc: 0.8423 - val_accuracy: 0.7574\n",
      "Epoch 274/300\n",
      "1404/1404 [==============================] - 3s 2ms/step - loss: 0.4800 - auc: 0.8484 - accuracy: 0.7642 - val_loss: 0.4882 - val_auc: 0.8435 - val_accuracy: 0.7573\n",
      "Epoch 275/300\n",
      "1404/1404 [==============================] - 3s 2ms/step - loss: 0.4806 - auc: 0.8480 - accuracy: 0.7628 - val_loss: 0.4901 - val_auc: 0.8424 - val_accuracy: 0.7554\n",
      "Epoch 276/300\n",
      "1404/1404 [==============================] - 3s 2ms/step - loss: 0.4805 - auc: 0.8478 - accuracy: 0.7628 - val_loss: 0.4890 - val_auc: 0.8436 - val_accuracy: 0.7593\n",
      "Epoch 277/300\n",
      "1404/1404 [==============================] - 3s 2ms/step - loss: 0.4794 - auc: 0.8488 - accuracy: 0.7633 - val_loss: 0.4920 - val_auc: 0.8411 - val_accuracy: 0.7574\n",
      "Epoch 278/300\n",
      "1404/1404 [==============================] - 3s 2ms/step - loss: 0.4799 - auc: 0.8488 - accuracy: 0.7645 - val_loss: 0.4892 - val_auc: 0.8429 - val_accuracy: 0.7574\n",
      "Epoch 279/300\n",
      "1404/1404 [==============================] - 3s 2ms/step - loss: 0.4798 - auc: 0.8485 - accuracy: 0.7629 - val_loss: 0.4930 - val_auc: 0.8403 - val_accuracy: 0.7557\n",
      "Epoch 280/300\n",
      "1404/1404 [==============================] - 3s 2ms/step - loss: 0.4807 - auc: 0.8480 - accuracy: 0.7634 - val_loss: 0.4912 - val_auc: 0.8412 - val_accuracy: 0.7541\n",
      "Epoch 281/300\n",
      "1404/1404 [==============================] - 3s 2ms/step - loss: 0.4794 - auc: 0.8487 - accuracy: 0.7641 - val_loss: 0.4905 - val_auc: 0.8423 - val_accuracy: 0.7557\n",
      "Epoch 282/300\n",
      "1404/1404 [==============================] - 3s 2ms/step - loss: 0.4803 - auc: 0.8481 - accuracy: 0.7618 - val_loss: 0.4901 - val_auc: 0.8420 - val_accuracy: 0.7566\n",
      "Epoch 283/300\n",
      "1404/1404 [==============================] - 3s 2ms/step - loss: 0.4790 - auc: 0.8492 - accuracy: 0.7636 - val_loss: 0.4863 - val_auc: 0.8450 - val_accuracy: 0.7596\n",
      "Epoch 284/300\n",
      "1404/1404 [==============================] - 3s 2ms/step - loss: 0.4803 - auc: 0.8486 - accuracy: 0.7642 - val_loss: 0.4882 - val_auc: 0.8435 - val_accuracy: 0.7595\n",
      "Epoch 285/300\n",
      "1404/1404 [==============================] - 3s 2ms/step - loss: 0.4801 - auc: 0.8484 - accuracy: 0.7635 - val_loss: 0.4874 - val_auc: 0.8443 - val_accuracy: 0.7607\n",
      "Epoch 286/300\n",
      "1404/1404 [==============================] - 3s 2ms/step - loss: 0.4791 - auc: 0.8491 - accuracy: 0.7643 - val_loss: 0.4878 - val_auc: 0.8444 - val_accuracy: 0.7592\n",
      "Epoch 287/300\n",
      "1404/1404 [==============================] - 3s 2ms/step - loss: 0.4791 - auc: 0.8491 - accuracy: 0.7645 - val_loss: 0.4907 - val_auc: 0.8425 - val_accuracy: 0.7564\n",
      "Epoch 288/300\n",
      "1404/1404 [==============================] - 3s 2ms/step - loss: 0.4800 - auc: 0.8486 - accuracy: 0.7647 - val_loss: 0.4902 - val_auc: 0.8419 - val_accuracy: 0.7581\n",
      "Epoch 289/300\n",
      "1404/1404 [==============================] - 3s 2ms/step - loss: 0.4781 - auc: 0.8494 - accuracy: 0.7629 - val_loss: 0.4857 - val_auc: 0.8459 - val_accuracy: 0.7618\n",
      "Epoch 290/300\n",
      "1404/1404 [==============================] - 3s 2ms/step - loss: 0.4782 - auc: 0.8497 - accuracy: 0.7641 - val_loss: 0.4874 - val_auc: 0.8446 - val_accuracy: 0.7588\n",
      "Epoch 291/300\n",
      "1404/1404 [==============================] - 3s 2ms/step - loss: 0.4801 - auc: 0.8483 - accuracy: 0.7635 - val_loss: 0.4873 - val_auc: 0.8441 - val_accuracy: 0.7587\n",
      "Epoch 292/300\n",
      "1404/1404 [==============================] - 3s 2ms/step - loss: 0.4788 - auc: 0.8492 - accuracy: 0.7647 - val_loss: 0.4848 - val_auc: 0.8457 - val_accuracy: 0.7602\n",
      "Epoch 293/300\n",
      "1404/1404 [==============================] - 3s 2ms/step - loss: 0.4787 - auc: 0.8493 - accuracy: 0.7632 - val_loss: 0.4877 - val_auc: 0.8440 - val_accuracy: 0.7590\n",
      "Epoch 294/300\n",
      "1404/1404 [==============================] - 3s 2ms/step - loss: 0.4789 - auc: 0.8492 - accuracy: 0.7645 - val_loss: 0.4911 - val_auc: 0.8415 - val_accuracy: 0.7564\n",
      "Epoch 295/300\n",
      "1404/1404 [==============================] - 3s 2ms/step - loss: 0.4784 - auc: 0.8494 - accuracy: 0.7633 - val_loss: 0.4880 - val_auc: 0.8435 - val_accuracy: 0.7603\n",
      "Epoch 296/300\n",
      "1404/1404 [==============================] - 3s 2ms/step - loss: 0.4784 - auc: 0.8493 - accuracy: 0.7629 - val_loss: 0.4867 - val_auc: 0.8450 - val_accuracy: 0.7595\n",
      "Epoch 297/300\n",
      "1404/1404 [==============================] - 3s 2ms/step - loss: 0.4785 - auc: 0.8496 - accuracy: 0.7646 - val_loss: 0.4869 - val_auc: 0.8446 - val_accuracy: 0.7608\n",
      "Epoch 298/300\n",
      "1404/1404 [==============================] - 3s 2ms/step - loss: 0.4781 - auc: 0.8496 - accuracy: 0.7639 - val_loss: 0.4876 - val_auc: 0.8439 - val_accuracy: 0.7591\n",
      "Epoch 299/300\n",
      "1404/1404 [==============================] - 3s 2ms/step - loss: 0.4773 - auc: 0.8502 - accuracy: 0.7640 - val_loss: 0.4878 - val_auc: 0.8437 - val_accuracy: 0.7609\n",
      "Epoch 300/300\n",
      "1404/1404 [==============================] - 3s 2ms/step - loss: 0.4775 - auc: 0.8504 - accuracy: 0.7654 - val_loss: 0.4890 - val_auc: 0.8429 - val_accuracy: 0.7598\n"
     ]
    }
   ],
   "source": [
    "with tf.device(\"cpu\"):\n",
    "    history_cls_c1, model_cls_c1 = make_cls_model(\n",
    "        Dense(64, activation=\"sigmoid\",input_dim=x_train_c1.shape[1]),\n",
    "        Dropout(0.1),\n",
    "        Dense(32, activation=\"relu\"),\n",
    "        # Dropout(0.1),\n",
    "        Dense(32, activation=\"relu\"),\n",
    "        # Dropout(0.1),\n",
    "        Dense(32, activation=\"relu\"),\n",
    "        last_activation=\"sigmoid\",\n",
    "        x=x_train_c1.values ,y=y_cls_train_c1,\n",
    "        epochs=300,\n",
    "        batch_size=64,\n",
    "        learning_rate=0.001\n",
    "    )"
   ],
   "metadata": {
    "collapsed": false,
    "pycharm": {
     "name": "#%%\n"
    }
   }
  },
  {
   "cell_type": "code",
   "execution_count": null,
   "outputs": [
    {
     "data": {
      "text/plain": "<Figure size 1224x360 with 3 Axes>",
      "image/png": "[encoded data removed]"
     },
     "metadata": {
      "needs_background": "light"
     },
     "output_type": "display_data"
    }
   ],
   "source": [
    "# Plot history\n",
    "plot_history_cls(history_cls_c1, loss = \"binary_crossentropy\", key1 = 'accuracy', key2 = 'AUC')"
   ],
   "metadata": {
    "collapsed": false,
    "pycharm": {
     "name": "#%%\n"
    }
   }
  },
  {
   "cell_type": "markdown",
   "source": [
    "# Regression Model (how much rain if > 0)\n",
    "source : https://www.analyticsvidhya.com/blog/2021/08/a-walk-through-of-regression-analysis-using-artificial-neural-networks-in-tensorflow/"
   ],
   "metadata": {
    "collapsed": false
   }
  },
  {
   "cell_type": "code",
   "execution_count": 39,
   "outputs": [
    {
     "name": "stdout",
     "output_type": "stream",
     "text": [
      "Epoch 1/300\n",
      "1404/1404 [==============================] - 3s 2ms/step - loss: 0.0287 - mean_squared_error: 0.0287 - val_loss: 0.0323 - val_mean_squared_error: 0.0322\n",
      "Epoch 2/300\n",
      "1404/1404 [==============================] - 3s 2ms/step - loss: 0.0280 - mean_squared_error: 0.0280 - val_loss: 0.0317 - val_mean_squared_error: 0.0316\n",
      "Epoch 3/300\n",
      "1404/1404 [==============================] - 3s 2ms/step - loss: 0.0278 - mean_squared_error: 0.0278 - val_loss: 0.0315 - val_mean_squared_error: 0.0315\n",
      "Epoch 4/300\n",
      "1404/1404 [==============================] - 3s 2ms/step - loss: 0.0276 - mean_squared_error: 0.0276 - val_loss: 0.0314 - val_mean_squared_error: 0.0314\n",
      "Epoch 5/300\n",
      "1404/1404 [==============================] - 3s 2ms/step - loss: 0.0274 - mean_squared_error: 0.0274 - val_loss: 0.0311 - val_mean_squared_error: 0.0310\n",
      "Epoch 6/300\n",
      "1404/1404 [==============================] - 3s 2ms/step - loss: 0.0272 - mean_squared_error: 0.0272 - val_loss: 0.0307 - val_mean_squared_error: 0.0307\n",
      "Epoch 7/300\n",
      "1404/1404 [==============================] - 3s 2ms/step - loss: 0.0271 - mean_squared_error: 0.0271 - val_loss: 0.0307 - val_mean_squared_error: 0.0307\n",
      "Epoch 8/300\n",
      "1404/1404 [==============================] - 3s 2ms/step - loss: 0.0269 - mean_squared_error: 0.0269 - val_loss: 0.0306 - val_mean_squared_error: 0.0306\n",
      "Epoch 9/300\n",
      "1404/1404 [==============================] - 3s 2ms/step - loss: 0.0268 - mean_squared_error: 0.0268 - val_loss: 0.0302 - val_mean_squared_error: 0.0302\n",
      "Epoch 10/300\n",
      "1404/1404 [==============================] - 3s 2ms/step - loss: 0.0266 - mean_squared_error: 0.0266 - val_loss: 0.0313 - val_mean_squared_error: 0.0312\n",
      "Epoch 11/300\n",
      "1404/1404 [==============================] - 3s 2ms/step - loss: 0.0265 - mean_squared_error: 0.0265 - val_loss: 0.0299 - val_mean_squared_error: 0.0299\n",
      "Epoch 12/300\n",
      "1404/1404 [==============================] - 2s 2ms/step - loss: 0.0263 - mean_squared_error: 0.0263 - val_loss: 0.0294 - val_mean_squared_error: 0.0294\n",
      "Epoch 13/300\n",
      "1404/1404 [==============================] - 2s 2ms/step - loss: 0.0262 - mean_squared_error: 0.0262 - val_loss: 0.0297 - val_mean_squared_error: 0.0297\n",
      "Epoch 14/300\n",
      "1404/1404 [==============================] - 2s 2ms/step - loss: 0.0260 - mean_squared_error: 0.0260 - val_loss: 0.0291 - val_mean_squared_error: 0.0291\n",
      "Epoch 15/300\n",
      "1404/1404 [==============================] - 2s 2ms/step - loss: 0.0260 - mean_squared_error: 0.0260 - val_loss: 0.0295 - val_mean_squared_error: 0.0295\n",
      "Epoch 16/300\n",
      "1404/1404 [==============================] - 2s 2ms/step - loss: 0.0258 - mean_squared_error: 0.0258 - val_loss: 0.0291 - val_mean_squared_error: 0.0291\n",
      "Epoch 17/300\n",
      "1404/1404 [==============================] - 2s 2ms/step - loss: 0.0258 - mean_squared_error: 0.0258 - val_loss: 0.0288 - val_mean_squared_error: 0.0288\n",
      "Epoch 18/300\n",
      "1404/1404 [==============================] - 2s 2ms/step - loss: 0.0256 - mean_squared_error: 0.0256 - val_loss: 0.0291 - val_mean_squared_error: 0.0291\n",
      "Epoch 19/300\n",
      "1404/1404 [==============================] - 2s 2ms/step - loss: 0.0256 - mean_squared_error: 0.0256 - val_loss: 0.0290 - val_mean_squared_error: 0.0290\n",
      "Epoch 20/300\n",
      "1404/1404 [==============================] - 2s 2ms/step - loss: 0.0255 - mean_squared_error: 0.0255 - val_loss: 0.0290 - val_mean_squared_error: 0.0290\n",
      "Epoch 21/300\n",
      "1404/1404 [==============================] - 2s 2ms/step - loss: 0.0252 - mean_squared_error: 0.0252 - val_loss: 0.0287 - val_mean_squared_error: 0.0287\n",
      "Epoch 22/300\n",
      "1404/1404 [==============================] - 2s 2ms/step - loss: 0.0252 - mean_squared_error: 0.0252 - val_loss: 0.0290 - val_mean_squared_error: 0.0290\n",
      "Epoch 23/300\n",
      "1404/1404 [==============================] - 2s 2ms/step - loss: 0.0251 - mean_squared_error: 0.0251 - val_loss: 0.0286 - val_mean_squared_error: 0.0286\n",
      "Epoch 24/300\n",
      "1404/1404 [==============================] - 2s 2ms/step - loss: 0.0250 - mean_squared_error: 0.0250 - val_loss: 0.0289 - val_mean_squared_error: 0.0289\n",
      "Epoch 25/300\n",
      "1404/1404 [==============================] - 2s 2ms/step - loss: 0.0249 - mean_squared_error: 0.0249 - val_loss: 0.0296 - val_mean_squared_error: 0.0296\n",
      "Epoch 26/300\n",
      "1404/1404 [==============================] - 2s 2ms/step - loss: 0.0249 - mean_squared_error: 0.0249 - val_loss: 0.0280 - val_mean_squared_error: 0.0280\n",
      "Epoch 27/300\n",
      "1404/1404 [==============================] - 2s 2ms/step - loss: 0.0248 - mean_squared_error: 0.0248 - val_loss: 0.0302 - val_mean_squared_error: 0.0302\n",
      "Epoch 28/300\n",
      "1404/1404 [==============================] - 2s 2ms/step - loss: 0.0249 - mean_squared_error: 0.0249 - val_loss: 0.0281 - val_mean_squared_error: 0.0281\n",
      "Epoch 29/300\n",
      "1404/1404 [==============================] - 2s 2ms/step - loss: 0.0247 - mean_squared_error: 0.0247 - val_loss: 0.0277 - val_mean_squared_error: 0.0277\n",
      "Epoch 30/300\n",
      "1404/1404 [==============================] - 2s 2ms/step - loss: 0.0246 - mean_squared_error: 0.0246 - val_loss: 0.0275 - val_mean_squared_error: 0.0274\n",
      "Epoch 31/300\n",
      "1404/1404 [==============================] - 2s 2ms/step - loss: 0.0245 - mean_squared_error: 0.0245 - val_loss: 0.0278 - val_mean_squared_error: 0.0277\n",
      "Epoch 32/300\n",
      "1404/1404 [==============================] - 2s 2ms/step - loss: 0.0244 - mean_squared_error: 0.0244 - val_loss: 0.0278 - val_mean_squared_error: 0.0278\n",
      "Epoch 33/300\n",
      "1404/1404 [==============================] - 2s 2ms/step - loss: 0.0245 - mean_squared_error: 0.0245 - val_loss: 0.0272 - val_mean_squared_error: 0.0271\n",
      "Epoch 34/300\n",
      "1404/1404 [==============================] - 2s 2ms/step - loss: 0.0242 - mean_squared_error: 0.0242 - val_loss: 0.0276 - val_mean_squared_error: 0.0276\n",
      "Epoch 35/300\n",
      "1404/1404 [==============================] - 2s 2ms/step - loss: 0.0242 - mean_squared_error: 0.0242 - val_loss: 0.0280 - val_mean_squared_error: 0.0280\n",
      "Epoch 36/300\n",
      "1404/1404 [==============================] - 3s 2ms/step - loss: 0.0241 - mean_squared_error: 0.0241 - val_loss: 0.0279 - val_mean_squared_error: 0.0278\n",
      "Epoch 37/300\n",
      "1404/1404 [==============================] - 3s 2ms/step - loss: 0.0241 - mean_squared_error: 0.0241 - val_loss: 0.0269 - val_mean_squared_error: 0.0269\n",
      "Epoch 38/300\n",
      "1404/1404 [==============================] - 3s 2ms/step - loss: 0.0239 - mean_squared_error: 0.0239 - val_loss: 0.0269 - val_mean_squared_error: 0.0269\n",
      "Epoch 39/300\n",
      "1404/1404 [==============================] - 3s 2ms/step - loss: 0.0238 - mean_squared_error: 0.0238 - val_loss: 0.0271 - val_mean_squared_error: 0.0271\n",
      "Epoch 40/300\n",
      "1404/1404 [==============================] - 3s 2ms/step - loss: 0.0237 - mean_squared_error: 0.0237 - val_loss: 0.0275 - val_mean_squared_error: 0.0275\n",
      "Epoch 41/300\n",
      "1404/1404 [==============================] - 2s 2ms/step - loss: 0.0237 - mean_squared_error: 0.0237 - val_loss: 0.0265 - val_mean_squared_error: 0.0265\n",
      "Epoch 42/300\n",
      "1404/1404 [==============================] - 2s 2ms/step - loss: 0.0237 - mean_squared_error: 0.0237 - val_loss: 0.0270 - val_mean_squared_error: 0.0270\n",
      "Epoch 43/300\n",
      "1404/1404 [==============================] - 3s 2ms/step - loss: 0.0236 - mean_squared_error: 0.0236 - val_loss: 0.0271 - val_mean_squared_error: 0.0271\n",
      "Epoch 44/300\n",
      "1404/1404 [==============================] - 3s 2ms/step - loss: 0.0237 - mean_squared_error: 0.0237 - val_loss: 0.0264 - val_mean_squared_error: 0.0264\n",
      "Epoch 45/300\n",
      "1404/1404 [==============================] - 3s 2ms/step - loss: 0.0235 - mean_squared_error: 0.0235 - val_loss: 0.0265 - val_mean_squared_error: 0.0265\n",
      "Epoch 46/300\n",
      "1404/1404 [==============================] - 3s 2ms/step - loss: 0.0233 - mean_squared_error: 0.0233 - val_loss: 0.0271 - val_mean_squared_error: 0.0271\n",
      "Epoch 47/300\n",
      "1404/1404 [==============================] - 3s 2ms/step - loss: 0.0234 - mean_squared_error: 0.0234 - val_loss: 0.0269 - val_mean_squared_error: 0.0268\n",
      "Epoch 48/300\n",
      "1404/1404 [==============================] - 3s 2ms/step - loss: 0.0233 - mean_squared_error: 0.0233 - val_loss: 0.0262 - val_mean_squared_error: 0.0262\n",
      "Epoch 49/300\n",
      "1404/1404 [==============================] - 3s 2ms/step - loss: 0.0232 - mean_squared_error: 0.0232 - val_loss: 0.0264 - val_mean_squared_error: 0.0263\n",
      "Epoch 50/300\n",
      "1404/1404 [==============================] - 3s 2ms/step - loss: 0.0231 - mean_squared_error: 0.0231 - val_loss: 0.0261 - val_mean_squared_error: 0.0261\n",
      "Epoch 51/300\n",
      "1404/1404 [==============================] - 3s 2ms/step - loss: 0.0230 - mean_squared_error: 0.0230 - val_loss: 0.0261 - val_mean_squared_error: 0.0261\n",
      "Epoch 52/300\n",
      "1404/1404 [==============================] - 3s 2ms/step - loss: 0.0230 - mean_squared_error: 0.0230 - val_loss: 0.0258 - val_mean_squared_error: 0.0258\n",
      "Epoch 53/300\n",
      "1404/1404 [==============================] - 3s 2ms/step - loss: 0.0230 - mean_squared_error: 0.0230 - val_loss: 0.0257 - val_mean_squared_error: 0.0257\n",
      "Epoch 54/300\n",
      "1404/1404 [==============================] - 3s 2ms/step - loss: 0.0229 - mean_squared_error: 0.0229 - val_loss: 0.0256 - val_mean_squared_error: 0.0256\n",
      "Epoch 55/300\n",
      "1404/1404 [==============================] - 3s 2ms/step - loss: 0.0229 - mean_squared_error: 0.0229 - val_loss: 0.0254 - val_mean_squared_error: 0.0254\n",
      "Epoch 56/300\n",
      "1404/1404 [==============================] - 3s 2ms/step - loss: 0.0228 - mean_squared_error: 0.0228 - val_loss: 0.0254 - val_mean_squared_error: 0.0254\n",
      "Epoch 57/300\n",
      "1404/1404 [==============================] - 3s 2ms/step - loss: 0.0228 - mean_squared_error: 0.0228 - val_loss: 0.0263 - val_mean_squared_error: 0.0263\n",
      "Epoch 58/300\n",
      "1404/1404 [==============================] - 3s 2ms/step - loss: 0.0227 - mean_squared_error: 0.0227 - val_loss: 0.0257 - val_mean_squared_error: 0.0257\n",
      "Epoch 59/300\n",
      "1404/1404 [==============================] - 2s 2ms/step - loss: 0.0227 - mean_squared_error: 0.0227 - val_loss: 0.0270 - val_mean_squared_error: 0.0270\n",
      "Epoch 60/300\n",
      "1404/1404 [==============================] - 3s 2ms/step - loss: 0.0227 - mean_squared_error: 0.0227 - val_loss: 0.0251 - val_mean_squared_error: 0.0251\n",
      "Epoch 61/300\n",
      "1404/1404 [==============================] - 3s 2ms/step - loss: 0.0225 - mean_squared_error: 0.0225 - val_loss: 0.0255 - val_mean_squared_error: 0.0255\n",
      "Epoch 62/300\n",
      "1404/1404 [==============================] - 3s 2ms/step - loss: 0.0225 - mean_squared_error: 0.0225 - val_loss: 0.0258 - val_mean_squared_error: 0.0258\n",
      "Epoch 63/300\n",
      "1404/1404 [==============================] - 3s 2ms/step - loss: 0.0223 - mean_squared_error: 0.0223 - val_loss: 0.0251 - val_mean_squared_error: 0.0251\n",
      "Epoch 64/300\n",
      "1404/1404 [==============================] - 3s 2ms/step - loss: 0.0224 - mean_squared_error: 0.0224 - val_loss: 0.0277 - val_mean_squared_error: 0.0277\n",
      "Epoch 65/300\n",
      "1404/1404 [==============================] - 3s 2ms/step - loss: 0.0223 - mean_squared_error: 0.0223 - val_loss: 0.0252 - val_mean_squared_error: 0.0252\n",
      "Epoch 66/300\n",
      "1404/1404 [==============================] - 3s 2ms/step - loss: 0.0222 - mean_squared_error: 0.0222 - val_loss: 0.0250 - val_mean_squared_error: 0.0249\n",
      "Epoch 67/300\n",
      "1404/1404 [==============================] - 3s 2ms/step - loss: 0.0222 - mean_squared_error: 0.0222 - val_loss: 0.0250 - val_mean_squared_error: 0.0250\n",
      "Epoch 68/300\n",
      "1404/1404 [==============================] - 3s 2ms/step - loss: 0.0221 - mean_squared_error: 0.0221 - val_loss: 0.0250 - val_mean_squared_error: 0.0250\n",
      "Epoch 69/300\n",
      "1404/1404 [==============================] - 3s 2ms/step - loss: 0.0221 - mean_squared_error: 0.0221 - val_loss: 0.0247 - val_mean_squared_error: 0.0247\n",
      "Epoch 70/300\n",
      "1404/1404 [==============================] - 3s 2ms/step - loss: 0.0221 - mean_squared_error: 0.0221 - val_loss: 0.0249 - val_mean_squared_error: 0.0249\n",
      "Epoch 71/300\n",
      "1404/1404 [==============================] - 3s 2ms/step - loss: 0.0221 - mean_squared_error: 0.0221 - val_loss: 0.0249 - val_mean_squared_error: 0.0249\n",
      "Epoch 72/300\n",
      "1404/1404 [==============================] - 3s 2ms/step - loss: 0.0219 - mean_squared_error: 0.0219 - val_loss: 0.0254 - val_mean_squared_error: 0.0254\n",
      "Epoch 73/300\n",
      "1404/1404 [==============================] - 3s 2ms/step - loss: 0.0219 - mean_squared_error: 0.0219 - val_loss: 0.0251 - val_mean_squared_error: 0.0251\n",
      "Epoch 74/300\n",
      "1404/1404 [==============================] - 3s 2ms/step - loss: 0.0219 - mean_squared_error: 0.0219 - val_loss: 0.0245 - val_mean_squared_error: 0.0245\n",
      "Epoch 75/300\n",
      "1404/1404 [==============================] - 3s 2ms/step - loss: 0.0218 - mean_squared_error: 0.0218 - val_loss: 0.0247 - val_mean_squared_error: 0.0247\n",
      "Epoch 76/300\n",
      "1404/1404 [==============================] - 3s 2ms/step - loss: 0.0217 - mean_squared_error: 0.0217 - val_loss: 0.0246 - val_mean_squared_error: 0.0245\n",
      "Epoch 77/300\n",
      "1404/1404 [==============================] - 3s 2ms/step - loss: 0.0217 - mean_squared_error: 0.0217 - val_loss: 0.0251 - val_mean_squared_error: 0.0251\n",
      "Epoch 78/300\n",
      "1404/1404 [==============================] - 2s 2ms/step - loss: 0.0216 - mean_squared_error: 0.0216 - val_loss: 0.0248 - val_mean_squared_error: 0.0248\n",
      "Epoch 79/300\n",
      "1404/1404 [==============================] - 2s 2ms/step - loss: 0.0216 - mean_squared_error: 0.0216 - val_loss: 0.0243 - val_mean_squared_error: 0.0243\n",
      "Epoch 80/300\n",
      "1404/1404 [==============================] - 2s 2ms/step - loss: 0.0216 - mean_squared_error: 0.0216 - val_loss: 0.0242 - val_mean_squared_error: 0.0242\n",
      "Epoch 81/300\n",
      "1404/1404 [==============================] - 2s 2ms/step - loss: 0.0215 - mean_squared_error: 0.0215 - val_loss: 0.0244 - val_mean_squared_error: 0.0244\n",
      "Epoch 82/300\n",
      "1404/1404 [==============================] - 2s 2ms/step - loss: 0.0214 - mean_squared_error: 0.0214 - val_loss: 0.0242 - val_mean_squared_error: 0.0241\n",
      "Epoch 83/300\n",
      "1404/1404 [==============================] - 2s 2ms/step - loss: 0.0215 - mean_squared_error: 0.0215 - val_loss: 0.0246 - val_mean_squared_error: 0.0246\n",
      "Epoch 84/300\n",
      "1404/1404 [==============================] - 2s 2ms/step - loss: 0.0214 - mean_squared_error: 0.0214 - val_loss: 0.0241 - val_mean_squared_error: 0.0241\n",
      "Epoch 85/300\n",
      "1404/1404 [==============================] - 2s 2ms/step - loss: 0.0214 - mean_squared_error: 0.0214 - val_loss: 0.0247 - val_mean_squared_error: 0.0247\n",
      "Epoch 86/300\n",
      "1404/1404 [==============================] - 2s 2ms/step - loss: 0.0214 - mean_squared_error: 0.0214 - val_loss: 0.0249 - val_mean_squared_error: 0.0249\n",
      "Epoch 87/300\n",
      "1404/1404 [==============================] - 2s 2ms/step - loss: 0.0214 - mean_squared_error: 0.0214 - val_loss: 0.0246 - val_mean_squared_error: 0.0246\n",
      "Epoch 88/300\n",
      "1404/1404 [==============================] - 2s 2ms/step - loss: 0.0212 - mean_squared_error: 0.0212 - val_loss: 0.0242 - val_mean_squared_error: 0.0242\n",
      "Epoch 89/300\n",
      "1404/1404 [==============================] - 2s 2ms/step - loss: 0.0213 - mean_squared_error: 0.0213 - val_loss: 0.0246 - val_mean_squared_error: 0.0245\n",
      "Epoch 90/300\n",
      "1404/1404 [==============================] - 2s 2ms/step - loss: 0.0213 - mean_squared_error: 0.0213 - val_loss: 0.0245 - val_mean_squared_error: 0.0245\n",
      "Epoch 91/300\n",
      "1404/1404 [==============================] - 2s 2ms/step - loss: 0.0212 - mean_squared_error: 0.0212 - val_loss: 0.0240 - val_mean_squared_error: 0.0239\n",
      "Epoch 92/300\n",
      "1404/1404 [==============================] - 2s 2ms/step - loss: 0.0211 - mean_squared_error: 0.0211 - val_loss: 0.0246 - val_mean_squared_error: 0.0246\n",
      "Epoch 93/300\n",
      "1404/1404 [==============================] - 2s 2ms/step - loss: 0.0211 - mean_squared_error: 0.0211 - val_loss: 0.0241 - val_mean_squared_error: 0.0241\n",
      "Epoch 94/300\n",
      "1404/1404 [==============================] - 2s 2ms/step - loss: 0.0210 - mean_squared_error: 0.0210 - val_loss: 0.0240 - val_mean_squared_error: 0.0240\n",
      "Epoch 95/300\n",
      "1404/1404 [==============================] - 2s 2ms/step - loss: 0.0211 - mean_squared_error: 0.0211 - val_loss: 0.0238 - val_mean_squared_error: 0.0238\n",
      "Epoch 96/300\n",
      "1404/1404 [==============================] - 2s 2ms/step - loss: 0.0211 - mean_squared_error: 0.0211 - val_loss: 0.0247 - val_mean_squared_error: 0.0246\n",
      "Epoch 97/300\n",
      "1404/1404 [==============================] - 2s 2ms/step - loss: 0.0209 - mean_squared_error: 0.0209 - val_loss: 0.0242 - val_mean_squared_error: 0.0242\n",
      "Epoch 98/300\n",
      "1404/1404 [==============================] - 2s 2ms/step - loss: 0.0208 - mean_squared_error: 0.0208 - val_loss: 0.0243 - val_mean_squared_error: 0.0243\n",
      "Epoch 99/300\n",
      "1404/1404 [==============================] - 2s 2ms/step - loss: 0.0210 - mean_squared_error: 0.0210 - val_loss: 0.0247 - val_mean_squared_error: 0.0247\n",
      "Epoch 100/300\n",
      "1404/1404 [==============================] - 2s 2ms/step - loss: 0.0209 - mean_squared_error: 0.0209 - val_loss: 0.0238 - val_mean_squared_error: 0.0238\n",
      "Epoch 101/300\n",
      "1404/1404 [==============================] - 2s 2ms/step - loss: 0.0208 - mean_squared_error: 0.0208 - val_loss: 0.0236 - val_mean_squared_error: 0.0236\n",
      "Epoch 102/300\n",
      "1404/1404 [==============================] - 3s 2ms/step - loss: 0.0208 - mean_squared_error: 0.0208 - val_loss: 0.0237 - val_mean_squared_error: 0.0237\n",
      "Epoch 103/300\n",
      "1404/1404 [==============================] - 3s 2ms/step - loss: 0.0208 - mean_squared_error: 0.0208 - val_loss: 0.0240 - val_mean_squared_error: 0.0240\n",
      "Epoch 104/300\n",
      "1404/1404 [==============================] - 3s 2ms/step - loss: 0.0206 - mean_squared_error: 0.0206 - val_loss: 0.0243 - val_mean_squared_error: 0.0243\n",
      "Epoch 105/300\n",
      "1404/1404 [==============================] - 3s 2ms/step - loss: 0.0206 - mean_squared_error: 0.0206 - val_loss: 0.0239 - val_mean_squared_error: 0.0239\n",
      "Epoch 106/300\n",
      "1404/1404 [==============================] - 3s 2ms/step - loss: 0.0207 - mean_squared_error: 0.0207 - val_loss: 0.0241 - val_mean_squared_error: 0.0241\n",
      "Epoch 107/300\n",
      "1404/1404 [==============================] - 3s 2ms/step - loss: 0.0205 - mean_squared_error: 0.0205 - val_loss: 0.0238 - val_mean_squared_error: 0.0238\n",
      "Epoch 108/300\n",
      "1404/1404 [==============================] - 3s 2ms/step - loss: 0.0207 - mean_squared_error: 0.0207 - val_loss: 0.0237 - val_mean_squared_error: 0.0237\n",
      "Epoch 109/300\n",
      "1404/1404 [==============================] - 3s 2ms/step - loss: 0.0205 - mean_squared_error: 0.0205 - val_loss: 0.0237 - val_mean_squared_error: 0.0237\n",
      "Epoch 110/300\n",
      "1404/1404 [==============================] - 3s 2ms/step - loss: 0.0206 - mean_squared_error: 0.0206 - val_loss: 0.0238 - val_mean_squared_error: 0.0238\n",
      "Epoch 111/300\n",
      "1404/1404 [==============================] - 3s 2ms/step - loss: 0.0205 - mean_squared_error: 0.0205 - val_loss: 0.0234 - val_mean_squared_error: 0.0234\n",
      "Epoch 112/300\n",
      "1404/1404 [==============================] - 3s 2ms/step - loss: 0.0204 - mean_squared_error: 0.0204 - val_loss: 0.0235 - val_mean_squared_error: 0.0235\n",
      "Epoch 113/300\n",
      "1404/1404 [==============================] - 3s 2ms/step - loss: 0.0204 - mean_squared_error: 0.0204 - val_loss: 0.0233 - val_mean_squared_error: 0.0233\n",
      "Epoch 114/300\n",
      "1404/1404 [==============================] - 3s 2ms/step - loss: 0.0205 - mean_squared_error: 0.0205 - val_loss: 0.0233 - val_mean_squared_error: 0.0232\n",
      "Epoch 115/300\n",
      "1404/1404 [==============================] - 3s 2ms/step - loss: 0.0204 - mean_squared_error: 0.0204 - val_loss: 0.0235 - val_mean_squared_error: 0.0235\n",
      "Epoch 116/300\n",
      "1404/1404 [==============================] - 3s 2ms/step - loss: 0.0204 - mean_squared_error: 0.0204 - val_loss: 0.0232 - val_mean_squared_error: 0.0232\n",
      "Epoch 117/300\n",
      "1404/1404 [==============================] - 3s 2ms/step - loss: 0.0201 - mean_squared_error: 0.0201 - val_loss: 0.0235 - val_mean_squared_error: 0.0235\n",
      "Epoch 118/300\n",
      "1404/1404 [==============================] - 3s 2ms/step - loss: 0.0202 - mean_squared_error: 0.0202 - val_loss: 0.0240 - val_mean_squared_error: 0.0240\n",
      "Epoch 119/300\n",
      "1404/1404 [==============================] - 3s 2ms/step - loss: 0.0202 - mean_squared_error: 0.0202 - val_loss: 0.0237 - val_mean_squared_error: 0.0236\n",
      "Epoch 120/300\n",
      "1404/1404 [==============================] - 3s 2ms/step - loss: 0.0204 - mean_squared_error: 0.0204 - val_loss: 0.0233 - val_mean_squared_error: 0.0233\n",
      "Epoch 121/300\n",
      "1404/1404 [==============================] - 3s 2ms/step - loss: 0.0201 - mean_squared_error: 0.0201 - val_loss: 0.0233 - val_mean_squared_error: 0.0233\n",
      "Epoch 122/300\n",
      "1404/1404 [==============================] - 2s 2ms/step - loss: 0.0200 - mean_squared_error: 0.0200 - val_loss: 0.0234 - val_mean_squared_error: 0.0234\n",
      "Epoch 123/300\n",
      "1404/1404 [==============================] - 2s 2ms/step - loss: 0.0201 - mean_squared_error: 0.0201 - val_loss: 0.0239 - val_mean_squared_error: 0.0239\n",
      "Epoch 124/300\n",
      "1404/1404 [==============================] - 2s 2ms/step - loss: 0.0203 - mean_squared_error: 0.0203 - val_loss: 0.0234 - val_mean_squared_error: 0.0234\n",
      "Epoch 125/300\n",
      "1404/1404 [==============================] - 2s 2ms/step - loss: 0.0200 - mean_squared_error: 0.0200 - val_loss: 0.0232 - val_mean_squared_error: 0.0232\n",
      "Epoch 126/300\n",
      "1404/1404 [==============================] - 2s 2ms/step - loss: 0.0200 - mean_squared_error: 0.0200 - val_loss: 0.0231 - val_mean_squared_error: 0.0231\n",
      "Epoch 127/300\n",
      "1404/1404 [==============================] - 2s 2ms/step - loss: 0.0199 - mean_squared_error: 0.0199 - val_loss: 0.0234 - val_mean_squared_error: 0.0234\n",
      "Epoch 128/300\n",
      "1404/1404 [==============================] - 3s 2ms/step - loss: 0.0201 - mean_squared_error: 0.0201 - val_loss: 0.0231 - val_mean_squared_error: 0.0230\n",
      "Epoch 129/300\n",
      "1404/1404 [==============================] - 2s 2ms/step - loss: 0.0199 - mean_squared_error: 0.0199 - val_loss: 0.0234 - val_mean_squared_error: 0.0234\n",
      "Epoch 130/300\n",
      "1404/1404 [==============================] - 2s 2ms/step - loss: 0.0200 - mean_squared_error: 0.0200 - val_loss: 0.0237 - val_mean_squared_error: 0.0236\n",
      "Epoch 131/300\n",
      "1404/1404 [==============================] - 2s 2ms/step - loss: 0.0198 - mean_squared_error: 0.0198 - val_loss: 0.0228 - val_mean_squared_error: 0.0228\n",
      "Epoch 132/300\n",
      "1404/1404 [==============================] - 2s 2ms/step - loss: 0.0201 - mean_squared_error: 0.0201 - val_loss: 0.0239 - val_mean_squared_error: 0.0239\n",
      "Epoch 133/300\n",
      "1404/1404 [==============================] - 3s 2ms/step - loss: 0.0197 - mean_squared_error: 0.0197 - val_loss: 0.0232 - val_mean_squared_error: 0.0231\n",
      "Epoch 134/300\n",
      "1404/1404 [==============================] - 3s 2ms/step - loss: 0.0199 - mean_squared_error: 0.0199 - val_loss: 0.0231 - val_mean_squared_error: 0.0230\n",
      "Epoch 135/300\n",
      "1404/1404 [==============================] - 3s 2ms/step - loss: 0.0197 - mean_squared_error: 0.0197 - val_loss: 0.0232 - val_mean_squared_error: 0.0232\n",
      "Epoch 136/300\n",
      "1404/1404 [==============================] - 3s 2ms/step - loss: 0.0198 - mean_squared_error: 0.0198 - val_loss: 0.0233 - val_mean_squared_error: 0.0233\n",
      "Epoch 137/300\n",
      "1404/1404 [==============================] - 3s 2ms/step - loss: 0.0197 - mean_squared_error: 0.0197 - val_loss: 0.0228 - val_mean_squared_error: 0.0228\n",
      "Epoch 138/300\n",
      "1404/1404 [==============================] - 2s 2ms/step - loss: 0.0198 - mean_squared_error: 0.0198 - val_loss: 0.0229 - val_mean_squared_error: 0.0229\n",
      "Epoch 139/300\n",
      "1404/1404 [==============================] - 4s 3ms/step - loss: 0.0199 - mean_squared_error: 0.0199 - val_loss: 0.0232 - val_mean_squared_error: 0.0232\n",
      "Epoch 140/300\n",
      "1404/1404 [==============================] - 3s 2ms/step - loss: 0.0195 - mean_squared_error: 0.0195 - val_loss: 0.0233 - val_mean_squared_error: 0.0233\n",
      "Epoch 141/300\n",
      "1404/1404 [==============================] - 3s 2ms/step - loss: 0.0198 - mean_squared_error: 0.0198 - val_loss: 0.0245 - val_mean_squared_error: 0.0244\n",
      "Epoch 142/300\n",
      "1404/1404 [==============================] - 3s 2ms/step - loss: 0.0196 - mean_squared_error: 0.0196 - val_loss: 0.0230 - val_mean_squared_error: 0.0230\n",
      "Epoch 143/300\n",
      "1404/1404 [==============================] - 3s 2ms/step - loss: 0.0196 - mean_squared_error: 0.0196 - val_loss: 0.0233 - val_mean_squared_error: 0.0233\n",
      "Epoch 144/300\n",
      "1404/1404 [==============================] - 2s 2ms/step - loss: 0.0198 - mean_squared_error: 0.0198 - val_loss: 0.0227 - val_mean_squared_error: 0.0227\n",
      "Epoch 145/300\n",
      "1404/1404 [==============================] - 3s 2ms/step - loss: 0.0197 - mean_squared_error: 0.0197 - val_loss: 0.0231 - val_mean_squared_error: 0.0231\n",
      "Epoch 146/300\n",
      "1404/1404 [==============================] - 3s 2ms/step - loss: 0.0196 - mean_squared_error: 0.0196 - val_loss: 0.0230 - val_mean_squared_error: 0.0230\n",
      "Epoch 147/300\n",
      "1404/1404 [==============================] - 2s 2ms/step - loss: 0.0199 - mean_squared_error: 0.0199 - val_loss: 0.0230 - val_mean_squared_error: 0.0230\n",
      "Epoch 148/300\n",
      "1404/1404 [==============================] - 3s 2ms/step - loss: 0.0197 - mean_squared_error: 0.0197 - val_loss: 0.0228 - val_mean_squared_error: 0.0228\n",
      "Epoch 149/300\n",
      "1404/1404 [==============================] - 3s 2ms/step - loss: 0.0195 - mean_squared_error: 0.0195 - val_loss: 0.0230 - val_mean_squared_error: 0.0230\n",
      "Epoch 150/300\n",
      "1404/1404 [==============================] - 3s 2ms/step - loss: 0.0195 - mean_squared_error: 0.0195 - val_loss: 0.0231 - val_mean_squared_error: 0.0231\n",
      "Epoch 151/300\n",
      "1404/1404 [==============================] - 2s 2ms/step - loss: 0.0195 - mean_squared_error: 0.0195 - val_loss: 0.0236 - val_mean_squared_error: 0.0236\n",
      "Epoch 152/300\n",
      "1404/1404 [==============================] - 2s 2ms/step - loss: 0.0196 - mean_squared_error: 0.0196 - val_loss: 0.0229 - val_mean_squared_error: 0.0229\n",
      "Epoch 153/300\n",
      "1404/1404 [==============================] - 3s 2ms/step - loss: 0.0195 - mean_squared_error: 0.0195 - val_loss: 0.0226 - val_mean_squared_error: 0.0226\n",
      "Epoch 154/300\n",
      "1404/1404 [==============================] - 3s 2ms/step - loss: 0.0195 - mean_squared_error: 0.0195 - val_loss: 0.0229 - val_mean_squared_error: 0.0229\n",
      "Epoch 155/300\n",
      "1404/1404 [==============================] - 3s 2ms/step - loss: 0.0195 - mean_squared_error: 0.0195 - val_loss: 0.0229 - val_mean_squared_error: 0.0229\n",
      "Epoch 156/300\n",
      "1404/1404 [==============================] - 3s 2ms/step - loss: 0.0193 - mean_squared_error: 0.0193 - val_loss: 0.0226 - val_mean_squared_error: 0.0225\n",
      "Epoch 157/300\n",
      "1404/1404 [==============================] - 3s 2ms/step - loss: 0.0193 - mean_squared_error: 0.0193 - val_loss: 0.0237 - val_mean_squared_error: 0.0237\n",
      "Epoch 158/300\n",
      "1404/1404 [==============================] - 3s 2ms/step - loss: 0.0195 - mean_squared_error: 0.0195 - val_loss: 0.0230 - val_mean_squared_error: 0.0230\n",
      "Epoch 159/300\n",
      "1404/1404 [==============================] - 3s 2ms/step - loss: 0.0193 - mean_squared_error: 0.0193 - val_loss: 0.0226 - val_mean_squared_error: 0.0226\n",
      "Epoch 160/300\n",
      "1404/1404 [==============================] - 3s 2ms/step - loss: 0.0193 - mean_squared_error: 0.0193 - val_loss: 0.0226 - val_mean_squared_error: 0.0226\n",
      "Epoch 161/300\n",
      "1404/1404 [==============================] - 2s 2ms/step - loss: 0.0192 - mean_squared_error: 0.0192 - val_loss: 0.0228 - val_mean_squared_error: 0.0228\n",
      "Epoch 162/300\n",
      "1404/1404 [==============================] - 3s 2ms/step - loss: 0.0192 - mean_squared_error: 0.0192 - val_loss: 0.0230 - val_mean_squared_error: 0.0229\n",
      "Epoch 163/300\n",
      "1404/1404 [==============================] - 3s 2ms/step - loss: 0.0192 - mean_squared_error: 0.0192 - val_loss: 0.0231 - val_mean_squared_error: 0.0231\n",
      "Epoch 164/300\n",
      "1404/1404 [==============================] - 3s 2ms/step - loss: 0.0192 - mean_squared_error: 0.0192 - val_loss: 0.0244 - val_mean_squared_error: 0.0244\n",
      "Epoch 165/300\n",
      "1404/1404 [==============================] - 3s 2ms/step - loss: 0.0192 - mean_squared_error: 0.0192 - val_loss: 0.0228 - val_mean_squared_error: 0.0228\n",
      "Epoch 166/300\n",
      "1404/1404 [==============================] - 2s 2ms/step - loss: 0.0192 - mean_squared_error: 0.0192 - val_loss: 0.0227 - val_mean_squared_error: 0.0226\n",
      "Epoch 167/300\n",
      "1404/1404 [==============================] - 3s 2ms/step - loss: 0.0193 - mean_squared_error: 0.0193 - val_loss: 0.0226 - val_mean_squared_error: 0.0226\n",
      "Epoch 168/300\n",
      "1404/1404 [==============================] - 3s 2ms/step - loss: 0.0190 - mean_squared_error: 0.0190 - val_loss: 0.0232 - val_mean_squared_error: 0.0232\n",
      "Epoch 169/300\n",
      "1404/1404 [==============================] - 2s 2ms/step - loss: 0.0192 - mean_squared_error: 0.0192 - val_loss: 0.0230 - val_mean_squared_error: 0.0230\n",
      "Epoch 170/300\n",
      "1404/1404 [==============================] - 2s 2ms/step - loss: 0.0191 - mean_squared_error: 0.0191 - val_loss: 0.0231 - val_mean_squared_error: 0.0231\n",
      "Epoch 171/300\n",
      "1404/1404 [==============================] - 2s 2ms/step - loss: 0.0191 - mean_squared_error: 0.0191 - val_loss: 0.0222 - val_mean_squared_error: 0.0221\n",
      "Epoch 172/300\n",
      "1404/1404 [==============================] - 2s 2ms/step - loss: 0.0191 - mean_squared_error: 0.0191 - val_loss: 0.0228 - val_mean_squared_error: 0.0228\n",
      "Epoch 173/300\n",
      "1404/1404 [==============================] - 2s 2ms/step - loss: 0.0191 - mean_squared_error: 0.0191 - val_loss: 0.0226 - val_mean_squared_error: 0.0226\n",
      "Epoch 174/300\n",
      "1404/1404 [==============================] - 2s 2ms/step - loss: 0.0189 - mean_squared_error: 0.0189 - val_loss: 0.0229 - val_mean_squared_error: 0.0229\n",
      "Epoch 175/300\n",
      "1404/1404 [==============================] - 2s 2ms/step - loss: 0.0192 - mean_squared_error: 0.0192 - val_loss: 0.0225 - val_mean_squared_error: 0.0225\n",
      "Epoch 176/300\n",
      "1404/1404 [==============================] - 2s 2ms/step - loss: 0.0191 - mean_squared_error: 0.0191 - val_loss: 0.0228 - val_mean_squared_error: 0.0228\n",
      "Epoch 177/300\n",
      "1404/1404 [==============================] - 2s 2ms/step - loss: 0.0191 - mean_squared_error: 0.0191 - val_loss: 0.0228 - val_mean_squared_error: 0.0228\n",
      "Epoch 178/300\n",
      "1404/1404 [==============================] - 2s 2ms/step - loss: 0.0191 - mean_squared_error: 0.0191 - val_loss: 0.0228 - val_mean_squared_error: 0.0227\n",
      "Epoch 179/300\n",
      "1404/1404 [==============================] - 2s 2ms/step - loss: 0.0191 - mean_squared_error: 0.0191 - val_loss: 0.0231 - val_mean_squared_error: 0.0231\n",
      "Epoch 180/300\n",
      "1404/1404 [==============================] - 2s 2ms/step - loss: 0.0189 - mean_squared_error: 0.0189 - val_loss: 0.0230 - val_mean_squared_error: 0.0230\n",
      "Epoch 181/300\n",
      "1404/1404 [==============================] - 2s 2ms/step - loss: 0.0189 - mean_squared_error: 0.0189 - val_loss: 0.0226 - val_mean_squared_error: 0.0226\n",
      "Epoch 182/300\n",
      "1404/1404 [==============================] - 2s 2ms/step - loss: 0.0188 - mean_squared_error: 0.0188 - val_loss: 0.0225 - val_mean_squared_error: 0.0225\n",
      "Epoch 183/300\n",
      "1404/1404 [==============================] - 3s 2ms/step - loss: 0.0190 - mean_squared_error: 0.0190 - val_loss: 0.0230 - val_mean_squared_error: 0.0230\n",
      "Epoch 184/300\n",
      "1404/1404 [==============================] - 2s 2ms/step - loss: 0.0191 - mean_squared_error: 0.0191 - val_loss: 0.0228 - val_mean_squared_error: 0.0228\n",
      "Epoch 185/300\n",
      "1404/1404 [==============================] - 3s 2ms/step - loss: 0.0190 - mean_squared_error: 0.0190 - val_loss: 0.0225 - val_mean_squared_error: 0.0225\n",
      "Epoch 186/300\n",
      "1404/1404 [==============================] - 3s 2ms/step - loss: 0.0185 - mean_squared_error: 0.0185 - val_loss: 0.0229 - val_mean_squared_error: 0.0229\n",
      "Epoch 187/300\n",
      "1404/1404 [==============================] - 3s 2ms/step - loss: 0.0188 - mean_squared_error: 0.0188 - val_loss: 0.0230 - val_mean_squared_error: 0.0230\n",
      "Epoch 188/300\n",
      "1404/1404 [==============================] - 2s 2ms/step - loss: 0.0187 - mean_squared_error: 0.0187 - val_loss: 0.0226 - val_mean_squared_error: 0.0226\n",
      "Epoch 189/300\n",
      "1404/1404 [==============================] - 2s 2ms/step - loss: 0.0188 - mean_squared_error: 0.0188 - val_loss: 0.0224 - val_mean_squared_error: 0.0224\n",
      "Epoch 190/300\n",
      "1404/1404 [==============================] - 2s 2ms/step - loss: 0.0188 - mean_squared_error: 0.0188 - val_loss: 0.0229 - val_mean_squared_error: 0.0229\n",
      "Epoch 191/300\n",
      "1404/1404 [==============================] - 2s 2ms/step - loss: 0.0188 - mean_squared_error: 0.0188 - val_loss: 0.0224 - val_mean_squared_error: 0.0224\n",
      "Epoch 192/300\n",
      "1404/1404 [==============================] - 3s 2ms/step - loss: 0.0189 - mean_squared_error: 0.0189 - val_loss: 0.0227 - val_mean_squared_error: 0.0227\n",
      "Epoch 193/300\n",
      "1404/1404 [==============================] - 2s 2ms/step - loss: 0.0187 - mean_squared_error: 0.0187 - val_loss: 0.0223 - val_mean_squared_error: 0.0223\n",
      "Epoch 194/300\n",
      "1404/1404 [==============================] - 2s 2ms/step - loss: 0.0186 - mean_squared_error: 0.0186 - val_loss: 0.0223 - val_mean_squared_error: 0.0223\n",
      "Epoch 195/300\n",
      "1404/1404 [==============================] - 2s 2ms/step - loss: 0.0186 - mean_squared_error: 0.0186 - val_loss: 0.0224 - val_mean_squared_error: 0.0224\n",
      "Epoch 196/300\n",
      "1404/1404 [==============================] - 2s 2ms/step - loss: 0.0186 - mean_squared_error: 0.0186 - val_loss: 0.0231 - val_mean_squared_error: 0.0231\n",
      "Epoch 197/300\n",
      "1404/1404 [==============================] - 2s 2ms/step - loss: 0.0188 - mean_squared_error: 0.0188 - val_loss: 0.0224 - val_mean_squared_error: 0.0224\n",
      "Epoch 198/300\n",
      "1404/1404 [==============================] - 2s 2ms/step - loss: 0.0186 - mean_squared_error: 0.0186 - val_loss: 0.0220 - val_mean_squared_error: 0.0220\n",
      "Epoch 199/300\n",
      "1404/1404 [==============================] - 2s 2ms/step - loss: 0.0185 - mean_squared_error: 0.0185 - val_loss: 0.0227 - val_mean_squared_error: 0.0227\n",
      "Epoch 200/300\n",
      "1404/1404 [==============================] - 2s 2ms/step - loss: 0.0184 - mean_squared_error: 0.0184 - val_loss: 0.0227 - val_mean_squared_error: 0.0227\n",
      "Epoch 201/300\n",
      "1404/1404 [==============================] - 2s 2ms/step - loss: 0.0187 - mean_squared_error: 0.0187 - val_loss: 0.0230 - val_mean_squared_error: 0.0230\n",
      "Epoch 202/300\n",
      "1404/1404 [==============================] - 2s 2ms/step - loss: 0.0187 - mean_squared_error: 0.0187 - val_loss: 0.0220 - val_mean_squared_error: 0.0220\n",
      "Epoch 203/300\n",
      "1404/1404 [==============================] - 2s 2ms/step - loss: 0.0190 - mean_squared_error: 0.0190 - val_loss: 0.0223 - val_mean_squared_error: 0.0223\n",
      "Epoch 204/300\n",
      "1404/1404 [==============================] - 2s 2ms/step - loss: 0.0185 - mean_squared_error: 0.0185 - val_loss: 0.0221 - val_mean_squared_error: 0.0221\n",
      "Epoch 205/300\n",
      "1404/1404 [==============================] - 2s 2ms/step - loss: 0.0185 - mean_squared_error: 0.0185 - val_loss: 0.0231 - val_mean_squared_error: 0.0231\n",
      "Epoch 206/300\n",
      "1404/1404 [==============================] - 2s 2ms/step - loss: 0.0183 - mean_squared_error: 0.0183 - val_loss: 0.0234 - val_mean_squared_error: 0.0234\n",
      "Epoch 207/300\n",
      "1404/1404 [==============================] - 2s 2ms/step - loss: 0.0188 - mean_squared_error: 0.0188 - val_loss: 0.0226 - val_mean_squared_error: 0.0226\n",
      "Epoch 208/300\n",
      "1404/1404 [==============================] - 3s 2ms/step - loss: 0.0185 - mean_squared_error: 0.0185 - val_loss: 0.0229 - val_mean_squared_error: 0.0229\n",
      "Epoch 209/300\n",
      "1404/1404 [==============================] - 3s 2ms/step - loss: 0.0183 - mean_squared_error: 0.0183 - val_loss: 0.0219 - val_mean_squared_error: 0.0219\n",
      "Epoch 210/300\n",
      "1404/1404 [==============================] - 3s 2ms/step - loss: 0.0185 - mean_squared_error: 0.0185 - val_loss: 0.0219 - val_mean_squared_error: 0.0219\n",
      "Epoch 211/300\n",
      "1404/1404 [==============================] - 2s 2ms/step - loss: 0.0185 - mean_squared_error: 0.0185 - val_loss: 0.0224 - val_mean_squared_error: 0.0224\n",
      "Epoch 212/300\n",
      "1404/1404 [==============================] - 3s 2ms/step - loss: 0.0184 - mean_squared_error: 0.0184 - val_loss: 0.0218 - val_mean_squared_error: 0.0218\n",
      "Epoch 213/300\n",
      "1404/1404 [==============================] - 2s 2ms/step - loss: 0.0184 - mean_squared_error: 0.0184 - val_loss: 0.0221 - val_mean_squared_error: 0.0221\n",
      "Epoch 214/300\n",
      "1404/1404 [==============================] - 2s 2ms/step - loss: 0.0185 - mean_squared_error: 0.0185 - val_loss: 0.0219 - val_mean_squared_error: 0.0219\n",
      "Epoch 215/300\n",
      "1404/1404 [==============================] - 2s 2ms/step - loss: 0.0183 - mean_squared_error: 0.0183 - val_loss: 0.0218 - val_mean_squared_error: 0.0218\n",
      "Epoch 216/300\n",
      "1404/1404 [==============================] - 2s 2ms/step - loss: 0.0184 - mean_squared_error: 0.0184 - val_loss: 0.0222 - val_mean_squared_error: 0.0222\n",
      "Epoch 217/300\n",
      "1404/1404 [==============================] - 3s 2ms/step - loss: 0.0183 - mean_squared_error: 0.0183 - val_loss: 0.0218 - val_mean_squared_error: 0.0218\n",
      "Epoch 218/300\n",
      "1404/1404 [==============================] - 3s 2ms/step - loss: 0.0184 - mean_squared_error: 0.0184 - val_loss: 0.0222 - val_mean_squared_error: 0.0221\n",
      "Epoch 219/300\n",
      "1404/1404 [==============================] - 3s 2ms/step - loss: 0.0183 - mean_squared_error: 0.0183 - val_loss: 0.0223 - val_mean_squared_error: 0.0223\n",
      "Epoch 220/300\n",
      "1404/1404 [==============================] - 3s 2ms/step - loss: 0.0184 - mean_squared_error: 0.0184 - val_loss: 0.0219 - val_mean_squared_error: 0.0219\n",
      "Epoch 221/300\n",
      "1404/1404 [==============================] - 3s 2ms/step - loss: 0.0184 - mean_squared_error: 0.0184 - val_loss: 0.0219 - val_mean_squared_error: 0.0219\n",
      "Epoch 222/300\n",
      "1404/1404 [==============================] - 3s 2ms/step - loss: 0.0184 - mean_squared_error: 0.0184 - val_loss: 0.0228 - val_mean_squared_error: 0.0228\n",
      "Epoch 223/300\n",
      "1404/1404 [==============================] - 3s 2ms/step - loss: 0.0184 - mean_squared_error: 0.0184 - val_loss: 0.0225 - val_mean_squared_error: 0.0225\n",
      "Epoch 224/300\n",
      "1404/1404 [==============================] - 3s 2ms/step - loss: 0.0182 - mean_squared_error: 0.0182 - val_loss: 0.0217 - val_mean_squared_error: 0.0217\n",
      "Epoch 225/300\n",
      "1404/1404 [==============================] - 3s 2ms/step - loss: 0.0183 - mean_squared_error: 0.0183 - val_loss: 0.0219 - val_mean_squared_error: 0.0219\n",
      "Epoch 226/300\n",
      "1404/1404 [==============================] - 3s 2ms/step - loss: 0.0182 - mean_squared_error: 0.0182 - val_loss: 0.0220 - val_mean_squared_error: 0.0220\n",
      "Epoch 227/300\n",
      "1404/1404 [==============================] - 3s 2ms/step - loss: 0.0181 - mean_squared_error: 0.0181 - val_loss: 0.0221 - val_mean_squared_error: 0.0221\n",
      "Epoch 228/300\n",
      "1404/1404 [==============================] - 3s 2ms/step - loss: 0.0183 - mean_squared_error: 0.0183 - val_loss: 0.0225 - val_mean_squared_error: 0.0225\n",
      "Epoch 229/300\n",
      "1404/1404 [==============================] - 3s 2ms/step - loss: 0.0181 - mean_squared_error: 0.0181 - val_loss: 0.0228 - val_mean_squared_error: 0.0228\n",
      "Epoch 230/300\n",
      "1404/1404 [==============================] - 3s 2ms/step - loss: 0.0182 - mean_squared_error: 0.0182 - val_loss: 0.0217 - val_mean_squared_error: 0.0217\n",
      "Epoch 231/300\n",
      "1404/1404 [==============================] - 3s 2ms/step - loss: 0.0183 - mean_squared_error: 0.0183 - val_loss: 0.0223 - val_mean_squared_error: 0.0223\n",
      "Epoch 232/300\n",
      "1404/1404 [==============================] - 3s 2ms/step - loss: 0.0182 - mean_squared_error: 0.0182 - val_loss: 0.0221 - val_mean_squared_error: 0.0220\n",
      "Epoch 233/300\n",
      "1404/1404 [==============================] - 2s 2ms/step - loss: 0.0180 - mean_squared_error: 0.0180 - val_loss: 0.0216 - val_mean_squared_error: 0.0215\n",
      "Epoch 234/300\n",
      "1404/1404 [==============================] - 2s 2ms/step - loss: 0.0182 - mean_squared_error: 0.0182 - val_loss: 0.0219 - val_mean_squared_error: 0.0219\n",
      "Epoch 235/300\n",
      "1404/1404 [==============================] - 2s 1ms/step - loss: 0.0182 - mean_squared_error: 0.0182 - val_loss: 0.0223 - val_mean_squared_error: 0.0223\n",
      "Epoch 236/300\n",
      "1404/1404 [==============================] - 3s 2ms/step - loss: 0.0181 - mean_squared_error: 0.0181 - val_loss: 0.0227 - val_mean_squared_error: 0.0227\n",
      "Epoch 237/300\n",
      "1404/1404 [==============================] - 2s 1ms/step - loss: 0.0181 - mean_squared_error: 0.0181 - val_loss: 0.0220 - val_mean_squared_error: 0.0220\n",
      "Epoch 238/300\n",
      "1404/1404 [==============================] - 2s 2ms/step - loss: 0.0181 - mean_squared_error: 0.0181 - val_loss: 0.0226 - val_mean_squared_error: 0.0225\n",
      "Epoch 239/300\n",
      "1404/1404 [==============================] - 3s 2ms/step - loss: 0.0182 - mean_squared_error: 0.0182 - val_loss: 0.0224 - val_mean_squared_error: 0.0224\n",
      "Epoch 240/300\n",
      "1404/1404 [==============================] - 3s 2ms/step - loss: 0.0181 - mean_squared_error: 0.0181 - val_loss: 0.0223 - val_mean_squared_error: 0.0223\n",
      "Epoch 241/300\n",
      "1404/1404 [==============================] - 3s 2ms/step - loss: 0.0181 - mean_squared_error: 0.0181 - val_loss: 0.0226 - val_mean_squared_error: 0.0226\n",
      "Epoch 242/300\n",
      "1404/1404 [==============================] - 3s 2ms/step - loss: 0.0180 - mean_squared_error: 0.0180 - val_loss: 0.0218 - val_mean_squared_error: 0.0218\n",
      "Epoch 243/300\n",
      "1404/1404 [==============================] - 3s 2ms/step - loss: 0.0181 - mean_squared_error: 0.0181 - val_loss: 0.0218 - val_mean_squared_error: 0.0218\n",
      "Epoch 244/300\n",
      "1404/1404 [==============================] - 3s 2ms/step - loss: 0.0183 - mean_squared_error: 0.0183 - val_loss: 0.0219 - val_mean_squared_error: 0.0219\n",
      "Epoch 245/300\n",
      "1404/1404 [==============================] - 3s 2ms/step - loss: 0.0181 - mean_squared_error: 0.0181 - val_loss: 0.0226 - val_mean_squared_error: 0.0226\n",
      "Epoch 246/300\n",
      "1404/1404 [==============================] - 2s 2ms/step - loss: 0.0181 - mean_squared_error: 0.0181 - val_loss: 0.0224 - val_mean_squared_error: 0.0224\n",
      "Epoch 247/300\n",
      "1404/1404 [==============================] - 3s 2ms/step - loss: 0.0179 - mean_squared_error: 0.0179 - val_loss: 0.0225 - val_mean_squared_error: 0.0225\n",
      "Epoch 248/300\n",
      "1404/1404 [==============================] - 2s 2ms/step - loss: 0.0182 - mean_squared_error: 0.0182 - val_loss: 0.0228 - val_mean_squared_error: 0.0228\n",
      "Epoch 249/300\n",
      "1404/1404 [==============================] - 2s 2ms/step - loss: 0.0178 - mean_squared_error: 0.0178 - val_loss: 0.0221 - val_mean_squared_error: 0.0221\n",
      "Epoch 250/300\n",
      "1404/1404 [==============================] - 3s 2ms/step - loss: 0.0178 - mean_squared_error: 0.0178 - val_loss: 0.0219 - val_mean_squared_error: 0.0219\n",
      "Epoch 251/300\n",
      "1404/1404 [==============================] - 2s 2ms/step - loss: 0.0179 - mean_squared_error: 0.0179 - val_loss: 0.0222 - val_mean_squared_error: 0.0222\n",
      "Epoch 252/300\n",
      "1404/1404 [==============================] - 3s 2ms/step - loss: 0.0181 - mean_squared_error: 0.0181 - val_loss: 0.0220 - val_mean_squared_error: 0.0220\n",
      "Epoch 253/300\n",
      "1404/1404 [==============================] - 3s 2ms/step - loss: 0.0177 - mean_squared_error: 0.0177 - val_loss: 0.0218 - val_mean_squared_error: 0.0218\n",
      "Epoch 254/300\n",
      "1404/1404 [==============================] - 3s 2ms/step - loss: 0.0180 - mean_squared_error: 0.0180 - val_loss: 0.0220 - val_mean_squared_error: 0.0220\n",
      "Epoch 255/300\n",
      "1404/1404 [==============================] - 3s 2ms/step - loss: 0.0181 - mean_squared_error: 0.0181 - val_loss: 0.0227 - val_mean_squared_error: 0.0227\n",
      "Epoch 256/300\n",
      "1404/1404 [==============================] - 2s 2ms/step - loss: 0.0179 - mean_squared_error: 0.0179 - val_loss: 0.0217 - val_mean_squared_error: 0.0217\n",
      "Epoch 257/300\n",
      "1404/1404 [==============================] - 2s 2ms/step - loss: 0.0180 - mean_squared_error: 0.0180 - val_loss: 0.0224 - val_mean_squared_error: 0.0224\n",
      "Epoch 258/300\n",
      "1404/1404 [==============================] - 3s 2ms/step - loss: 0.0179 - mean_squared_error: 0.0179 - val_loss: 0.0225 - val_mean_squared_error: 0.0225\n",
      "Epoch 259/300\n",
      "1404/1404 [==============================] - 2s 2ms/step - loss: 0.0181 - mean_squared_error: 0.0181 - val_loss: 0.0220 - val_mean_squared_error: 0.0220\n",
      "Epoch 260/300\n",
      "1404/1404 [==============================] - 3s 2ms/step - loss: 0.0180 - mean_squared_error: 0.0180 - val_loss: 0.0223 - val_mean_squared_error: 0.0223\n",
      "Epoch 261/300\n",
      "1404/1404 [==============================] - 2s 2ms/step - loss: 0.0179 - mean_squared_error: 0.0179 - val_loss: 0.0221 - val_mean_squared_error: 0.0221\n",
      "Epoch 262/300\n",
      "1404/1404 [==============================] - 3s 2ms/step - loss: 0.0178 - mean_squared_error: 0.0178 - val_loss: 0.0223 - val_mean_squared_error: 0.0223\n",
      "Epoch 263/300\n",
      "1404/1404 [==============================] - 3s 2ms/step - loss: 0.0177 - mean_squared_error: 0.0177 - val_loss: 0.0221 - val_mean_squared_error: 0.0221\n",
      "Epoch 264/300\n",
      "1404/1404 [==============================] - 3s 2ms/step - loss: 0.0179 - mean_squared_error: 0.0179 - val_loss: 0.0223 - val_mean_squared_error: 0.0223\n",
      "Epoch 265/300\n",
      "1404/1404 [==============================] - 3s 2ms/step - loss: 0.0178 - mean_squared_error: 0.0178 - val_loss: 0.0223 - val_mean_squared_error: 0.0223\n",
      "Epoch 266/300\n",
      "1404/1404 [==============================] - 3s 2ms/step - loss: 0.0180 - mean_squared_error: 0.0180 - val_loss: 0.0216 - val_mean_squared_error: 0.0216\n",
      "Epoch 267/300\n",
      "1404/1404 [==============================] - 3s 2ms/step - loss: 0.0180 - mean_squared_error: 0.0180 - val_loss: 0.0222 - val_mean_squared_error: 0.0222\n",
      "Epoch 268/300\n",
      "1404/1404 [==============================] - 3s 2ms/step - loss: 0.0177 - mean_squared_error: 0.0177 - val_loss: 0.0222 - val_mean_squared_error: 0.0222\n",
      "Epoch 269/300\n",
      "1404/1404 [==============================] - 3s 2ms/step - loss: 0.0178 - mean_squared_error: 0.0178 - val_loss: 0.0221 - val_mean_squared_error: 0.0221\n",
      "Epoch 270/300\n",
      "1404/1404 [==============================] - 3s 2ms/step - loss: 0.0178 - mean_squared_error: 0.0178 - val_loss: 0.0215 - val_mean_squared_error: 0.0215\n",
      "Epoch 271/300\n",
      "1404/1404 [==============================] - 3s 2ms/step - loss: 0.0176 - mean_squared_error: 0.0176 - val_loss: 0.0213 - val_mean_squared_error: 0.0213\n",
      "Epoch 272/300\n",
      "1404/1404 [==============================] - 3s 2ms/step - loss: 0.0177 - mean_squared_error: 0.0177 - val_loss: 0.0218 - val_mean_squared_error: 0.0217\n",
      "Epoch 273/300\n",
      "1404/1404 [==============================] - 3s 2ms/step - loss: 0.0178 - mean_squared_error: 0.0178 - val_loss: 0.0215 - val_mean_squared_error: 0.0215\n",
      "Epoch 274/300\n",
      "1404/1404 [==============================] - 3s 2ms/step - loss: 0.0178 - mean_squared_error: 0.0178 - val_loss: 0.0221 - val_mean_squared_error: 0.0221\n",
      "Epoch 275/300\n",
      "1404/1404 [==============================] - 3s 2ms/step - loss: 0.0179 - mean_squared_error: 0.0179 - val_loss: 0.0221 - val_mean_squared_error: 0.0221\n",
      "Epoch 276/300\n",
      "1404/1404 [==============================] - 3s 2ms/step - loss: 0.0177 - mean_squared_error: 0.0177 - val_loss: 0.0216 - val_mean_squared_error: 0.0216\n",
      "Epoch 277/300\n",
      "1404/1404 [==============================] - 3s 2ms/step - loss: 0.0177 - mean_squared_error: 0.0177 - val_loss: 0.0221 - val_mean_squared_error: 0.0221\n",
      "Epoch 278/300\n",
      "1404/1404 [==============================] - 3s 2ms/step - loss: 0.0178 - mean_squared_error: 0.0178 - val_loss: 0.0225 - val_mean_squared_error: 0.0225\n",
      "Epoch 279/300\n",
      "1404/1404 [==============================] - 3s 2ms/step - loss: 0.0175 - mean_squared_error: 0.0175 - val_loss: 0.0222 - val_mean_squared_error: 0.0222\n",
      "Epoch 280/300\n",
      "1404/1404 [==============================] - 3s 2ms/step - loss: 0.0176 - mean_squared_error: 0.0176 - val_loss: 0.0219 - val_mean_squared_error: 0.0219\n",
      "Epoch 281/300\n",
      "1404/1404 [==============================] - 3s 2ms/step - loss: 0.0178 - mean_squared_error: 0.0178 - val_loss: 0.0221 - val_mean_squared_error: 0.0221\n",
      "Epoch 282/300\n",
      "1404/1404 [==============================] - 3s 2ms/step - loss: 0.0178 - mean_squared_error: 0.0178 - val_loss: 0.0214 - val_mean_squared_error: 0.0213\n",
      "Epoch 283/300\n",
      "1404/1404 [==============================] - 3s 2ms/step - loss: 0.0177 - mean_squared_error: 0.0177 - val_loss: 0.0229 - val_mean_squared_error: 0.0229\n",
      "Epoch 284/300\n",
      "1404/1404 [==============================] - 3s 2ms/step - loss: 0.0176 - mean_squared_error: 0.0176 - val_loss: 0.0216 - val_mean_squared_error: 0.0216\n",
      "Epoch 285/300\n",
      "1404/1404 [==============================] - 2s 2ms/step - loss: 0.0176 - mean_squared_error: 0.0176 - val_loss: 0.0215 - val_mean_squared_error: 0.0215\n",
      "Epoch 286/300\n",
      "1404/1404 [==============================] - 3s 2ms/step - loss: 0.0178 - mean_squared_error: 0.0178 - val_loss: 0.0214 - val_mean_squared_error: 0.0214\n",
      "Epoch 287/300\n",
      "1404/1404 [==============================] - 3s 2ms/step - loss: 0.0179 - mean_squared_error: 0.0179 - val_loss: 0.0220 - val_mean_squared_error: 0.0219\n",
      "Epoch 288/300\n",
      "1404/1404 [==============================] - 3s 2ms/step - loss: 0.0175 - mean_squared_error: 0.0175 - val_loss: 0.0221 - val_mean_squared_error: 0.0221\n",
      "Epoch 289/300\n",
      "1404/1404 [==============================] - 3s 2ms/step - loss: 0.0177 - mean_squared_error: 0.0176 - val_loss: 0.0219 - val_mean_squared_error: 0.0219\n",
      "Epoch 290/300\n",
      "1404/1404 [==============================] - 2s 2ms/step - loss: 0.0176 - mean_squared_error: 0.0176 - val_loss: 0.0217 - val_mean_squared_error: 0.0216\n",
      "Epoch 291/300\n",
      "1404/1404 [==============================] - 3s 2ms/step - loss: 0.0177 - mean_squared_error: 0.0177 - val_loss: 0.0213 - val_mean_squared_error: 0.0213\n",
      "Epoch 292/300\n",
      "1404/1404 [==============================] - 3s 2ms/step - loss: 0.0173 - mean_squared_error: 0.0173 - val_loss: 0.0224 - val_mean_squared_error: 0.0224\n",
      "Epoch 293/300\n",
      "1404/1404 [==============================] - 3s 2ms/step - loss: 0.0175 - mean_squared_error: 0.0175 - val_loss: 0.0216 - val_mean_squared_error: 0.0216\n",
      "Epoch 294/300\n",
      "1404/1404 [==============================] - 3s 2ms/step - loss: 0.0178 - mean_squared_error: 0.0178 - val_loss: 0.0222 - val_mean_squared_error: 0.0222\n",
      "Epoch 295/300\n",
      "1404/1404 [==============================] - 3s 2ms/step - loss: 0.0174 - mean_squared_error: 0.0174 - val_loss: 0.0218 - val_mean_squared_error: 0.0218\n",
      "Epoch 296/300\n",
      "1404/1404 [==============================] - 3s 2ms/step - loss: 0.0174 - mean_squared_error: 0.0174 - val_loss: 0.0225 - val_mean_squared_error: 0.0225\n",
      "Epoch 297/300\n",
      "1404/1404 [==============================] - 3s 2ms/step - loss: 0.0174 - mean_squared_error: 0.0174 - val_loss: 0.0220 - val_mean_squared_error: 0.0220\n",
      "Epoch 298/300\n",
      "1404/1404 [==============================] - 3s 2ms/step - loss: 0.0175 - mean_squared_error: 0.0175 - val_loss: 0.0215 - val_mean_squared_error: 0.0215\n",
      "Epoch 299/300\n",
      "1404/1404 [==============================] - 3s 2ms/step - loss: 0.0174 - mean_squared_error: 0.0174 - val_loss: 0.0228 - val_mean_squared_error: 0.0228\n",
      "Epoch 300/300\n",
      "1404/1404 [==============================] - 3s 2ms/step - loss: 0.0175 - mean_squared_error: 0.0175 - val_loss: 0.0213 - val_mean_squared_error: 0.0213\n"
     ]
    }
   ],
   "source": [
    "# reshape x_train and x_test\n",
    "# x_train = x_train.values.reshape(x_train.shape[0], x_train.shape[1], 1)\n",
    "with tf.device(\"cpu\") :\n",
    "    history_reg_c1, model_reg_c1 = make_reg_model(\n",
    "        Dense(64, activation=\"sigmoid\", input_dim=x_train_c1.shape[1]),\n",
    "        Dropout(0.1),\n",
    "        Dense(32, activation=\"relu\"),\n",
    "        # Dropout(0.1),\n",
    "        Dense(32, activation=\"relu\"),\n",
    "        # Dropout(0.1),\n",
    "        Dense(32, activation=\"relu\"),\n",
    "        x=x_train_c1.values ,y=y_reg_train_c1,\n",
    "        last_activation=square_relu,\n",
    "        epochs=300,\n",
    "        batch_size=64,\n",
    "        learning_rate=0.001\n",
    "    )"
   ],
   "metadata": {
    "collapsed": false,
    "pycharm": {
     "name": "#%%\n"
    }
   }
  },
  {
   "cell_type": "code",
   "execution_count": null,
   "outputs": [
    {
     "data": {
      "text/plain": "<Figure size 504x360 with 1 Axes>",
      "image/png": "[encoded data removed]"
     },
     "metadata": {
      "needs_background": "light"
     },
     "output_type": "display_data"
    }
   ],
   "source": [
    "# Plot history\n",
    "plot_history_reg(history_reg_c1, 'mean_squared_error')"
   ],
   "metadata": {
    "collapsed": false,
    "pycharm": {
     "name": "#%%\n"
    }
   }
  },
  {
   "cell_type": "markdown",
   "source": [
    "# Compute MAPE on test set"
   ],
   "metadata": {
    "collapsed": false
   }
  },
  {
   "cell_type": "markdown",
   "source": [
    "## classification"
   ],
   "metadata": {
    "collapsed": false
   }
  },
  {
   "cell_type": "code",
   "execution_count": 41,
   "outputs": [],
   "source": [
    "y_cls_pred_c1 = model_cls_c1.predict(x_test_c1)"
   ],
   "metadata": {
    "collapsed": false,
    "pycharm": {
     "name": "#%%\n"
    }
   }
  },
  {
   "cell_type": "code",
   "execution_count": 42,
   "outputs": [
    {
     "data": {
      "text/plain": "<Figure size 432x288 with 1 Axes>",
      "image/png": "[encoded data removed]"
     },
     "metadata": {
      "needs_background": "light"
     },
     "output_type": "display_data"
    }
   ],
   "source": [
    "plt.hist(y_cls_pred_c1[:,0], color=\"cyan\", alpha=0.3, bins=100, label=\"not_raining\")\n",
    "plt.hist(y_cls_pred_c1[:,1], color=\"magenta\", alpha=0.3, bins=100, label=\"raining\")\n",
    "plt.xlim([0,1])\n",
    "plt.legend()\n",
    "plt.show()"
   ],
   "metadata": {
    "collapsed": false,
    "pycharm": {
     "name": "#%%\n"
    }
   }
  },
  {
   "cell_type": "code",
   "execution_count": 43,
   "outputs": [],
   "source": [
    "y_cls_pred_bkp_c1 = np.array(y_cls_pred_c1)"
   ],
   "metadata": {
    "collapsed": false,
    "pycharm": {
     "name": "#%%\n"
    }
   }
  },
  {
   "cell_type": "code",
   "execution_count": 44,
   "outputs": [],
   "source": [
    "y_cls_pred_c1 = np.array(y_cls_pred_bkp_c1)"
   ],
   "metadata": {
    "collapsed": false,
    "pycharm": {
     "name": "#%%\n"
    }
   }
  },
  {
   "cell_type": "code",
   "execution_count": 45,
   "outputs": [],
   "source": [
    "cls_temp_c1 = y_cls_pred_c1[:,0] < y_cls_pred_c1[:,1]\n",
    "y_cls_pred_c1 = np.array([0 if c else 1 for c in cls_temp_c1])"
   ],
   "metadata": {
    "collapsed": false,
    "pycharm": {
     "name": "#%%\n"
    }
   }
  },
  {
   "cell_type": "code",
   "execution_count": 46,
   "outputs": [
    {
     "data": {
      "text/plain": "<Figure size 432x288 with 1 Axes>",
      "image/png": "[encoded data removed]"
     },
     "metadata": {
      "needs_background": "light"
     },
     "output_type": "display_data"
    }
   ],
   "source": [
    "raining_ratio_pred_c1 = y_cls_pred_c1.sum()/(len(y_cls_pred_c1) - y_cls_pred_c1.sum())\n",
    "plt.title(\"test set - prediction : ratio = {:.2f}\".format(raining_ratio_pred_c1))\n",
    "sns.histplot(x=y_cls_pred_c1,hue=y_cls_pred_c1)\n",
    "plt.show()"
   ],
   "metadata": {
    "collapsed": false,
    "pycharm": {
     "name": "#%%\n"
    }
   }
  },
  {
   "cell_type": "markdown",
   "source": [
    "## regression"
   ],
   "metadata": {
    "collapsed": false
   }
  },
  {
   "cell_type": "code",
   "execution_count": 47,
   "outputs": [],
   "source": [
    "y_reg_pred_c1 = model_reg_c1.predict(x_test_c1)"
   ],
   "metadata": {
    "collapsed": false,
    "pycharm": {
     "name": "#%%\n"
    }
   }
  },
  {
   "cell_type": "markdown",
   "source": [
    "## merge"
   ],
   "metadata": {
    "collapsed": false
   }
  },
  {
   "cell_type": "code",
   "execution_count": 48,
   "outputs": [],
   "source": [
    "prediction_x_test_c1[\"reg_pred\"] = y_reg_pred_c1\n",
    "prediction_x_test_c1[\"cls_pred\"] = y_cls_pred_c1\n",
    "prediction_x_test_c1[\"Prediction\"] = prediction_x_test_c1[\"reg_pred\"] * prediction_x_test_c1[\"cls_pred\"]"
   ],
   "metadata": {
    "collapsed": false,
    "pycharm": {
     "name": "#%%\n"
    }
   }
  },
  {
   "cell_type": "code",
   "execution_count": 49,
   "outputs": [
    {
     "data": {
      "text/plain": "<Figure size 1440x720 with 6 Axes>",
      "image/png": "[encoded data removed]"
     },
     "metadata": {
      "needs_background": "light"
     },
     "output_type": "display_data"
    }
   ],
   "source": [
    "box_plot(prediction_x_test_c1, plot_title=\"Prediction test set c1\")"
   ],
   "metadata": {
    "collapsed": false,
    "pycharm": {
     "name": "#%%\n"
    }
   }
  },
  {
   "cell_type": "markdown",
   "source": [
    "-----------\n",
    "# merge c0 and c1\n",
    "-----------"
   ],
   "metadata": {
    "collapsed": false
   }
  },
  {
   "cell_type": "code",
   "execution_count": 50,
   "outputs": [],
   "source": [
    "prediction_x_test = pd.concat([prediction_x_test_c0, prediction_x_test_c1])"
   ],
   "metadata": {
    "collapsed": false,
    "pycharm": {
     "name": "#%%\n"
    }
   }
  },
  {
   "cell_type": "code",
   "execution_count": 51,
   "outputs": [
    {
     "data": {
      "text/plain": "<Figure size 1440x720 with 6 Axes>",
      "image/png": "[encoded data removed]"
     },
     "metadata": {
      "needs_background": "light"
     },
     "output_type": "display_data"
    }
   ],
   "source": [
    "box_plot(prediction_x_test, plot_title=\"Prediction test set\")"
   ],
   "metadata": {
    "collapsed": false,
    "pycharm": {
     "name": "#%%\n"
    }
   }
  },
  {
   "cell_type": "markdown",
   "source": [
    "-------------------------------------------\n",
    "# Make a submission\n",
    "-------------------------------------------"
   ],
   "metadata": {
    "collapsed": false
   }
  },
  {
   "cell_type": "code",
   "execution_count": 52,
   "outputs": [],
   "source": [
    "test_set = pd.read_csv(\"../preprocessed_data_Defi-IA-2022-Rain-Frogs/X_all_test_final_by_day.zip\")\n",
    "# test_set = pd.read_csv(\"../preprocessed_data_Defi-IA-2022-Rain-Frogs/X_all_test_final.zip\")"
   ],
   "metadata": {
    "collapsed": false,
    "pycharm": {
     "name": "#%%\n"
    }
   }
  },
  {
   "cell_type": "markdown",
   "source": [
    "# split test set into c0 and c1"
   ],
   "metadata": {
    "collapsed": false
   }
  },
  {
   "cell_type": "code",
   "execution_count": 53,
   "outputs": [],
   "source": [
    "test_set[\"cluster\"] = test_set[\"month\"].apply(lambda x : 0 if x in cluster_month_0 else 1)\n",
    "test_set_c0 = test_set[test_set[\"cluster\"] == 0]\n",
    "test_set_c1 = test_set[test_set[\"cluster\"] == 1]"
   ],
   "metadata": {
    "collapsed": false,
    "pycharm": {
     "name": "#%%\n"
    }
   }
  },
  {
   "cell_type": "markdown",
   "source": [
    "## create submission dataset"
   ],
   "metadata": {
    "collapsed": false
   }
  },
  {
   "cell_type": "code",
   "execution_count": 54,
   "outputs": [],
   "source": [
    "submission_c0 = pd.DataFrame(test_set_c0[[\"Id\"]])\n",
    "submission_c1 = pd.DataFrame(test_set_c1[[\"Id\"]])"
   ],
   "metadata": {
    "collapsed": false,
    "pycharm": {
     "name": "#%%\n"
    }
   }
  },
  {
   "cell_type": "markdown",
   "source": [
    "## get same columns as before for test_set"
   ],
   "metadata": {
    "collapsed": false
   }
  },
  {
   "cell_type": "code",
   "execution_count": 55,
   "outputs": [],
   "source": [
    "test_set_c0 = test_set_c0[columns]\n",
    "test_set_c1 = test_set_c1[columns]"
   ],
   "metadata": {
    "collapsed": false,
    "pycharm": {
     "name": "#%%\n"
    }
   }
  },
  {
   "cell_type": "markdown",
   "source": [
    "## normalize same way test_set"
   ],
   "metadata": {
    "collapsed": false
   }
  },
  {
   "cell_type": "code",
   "execution_count": 56,
   "outputs": [],
   "source": [
    "test_set_c0 = normalize(test_set_c0,normalization_infos)\n",
    "test_set_c1 = normalize(test_set_c1,normalization_infos)"
   ],
   "metadata": {
    "collapsed": false,
    "pycharm": {
     "name": "#%%\n"
    }
   }
  },
  {
   "cell_type": "code",
   "execution_count": 57,
   "outputs": [
    {
     "data": {
      "text/plain": "   altitude (m)  latitude  longitude  month_cos  month_sin  \\\n1      0.152632      0.75   0.833333   0.750000   0.933013   \n2      0.152632      0.75   0.833333   0.933013   0.250000   \n5      0.152632      0.75   0.833333   0.750000   0.066987   \n7      0.152632      0.75   0.833333   0.750000   0.933013   \n8      0.152632      0.75   0.833333   0.500000   1.000000   \n\n   current hour precipitations (kg/m^2)  wind_direction_cos  \\\n1                               0.00000            0.335841   \n2                               0.09375            0.335841   \n5                               0.00000            0.335841   \n7                               0.00000            0.335841   \n8                               0.00000            0.335841   \n\n   wind_direction_sin  wind_speed (m/s)  wind_component_u (m/s)  ...  \\\n1            0.972284          0.096735                 0.43423  ...   \n2            0.972284          0.096735                 0.43423  ...   \n5            0.972284          0.096735                 0.43423  ...   \n7            0.972284          0.096735                 0.43423  ...   \n8            0.972284          0.096735                 0.43423  ...   \n\n   3D_Arpege_isobar_600hpa_VerticalVelocity (Pa/s)  \\\n1                                         0.592835   \n2                                         0.538019   \n5                                         0.649773   \n7                                         0.604854   \n8                                         0.529531   \n\n   3D_Arpege_isobar_600hpa_Geopotential (m^2/s^2)  \\\n1                                        0.987683   \n2                                        0.905300   \n5                                        0.968288   \n7                                        0.958982   \n8                                        0.874801   \n\n   3D_Arpege_isobar_500hpa_Temperature (K)  \\\n1                                 0.851050   \n2                                 0.271608   \n5                                 0.742972   \n7                                 0.704392   \n8                                 0.482468   \n\n   3D_Arpege_isobar_500hpa_RelavtiveHumidity (%)  \\\n1                                       0.243663   \n2                                       0.536040   \n5                                       0.595791   \n7                                       0.668309   \n8                                       0.881668   \n\n   3D_Arpege_isobar_500hpa_WindSpeed (m/s)  \\\n1                                 0.169768   \n2                                 0.349677   \n5                                 0.202649   \n7                                 0.241341   \n8                                 0.346017   \n\n   3D_Arpege_isobar_500hpa_WindDirection (deg)  \\\n1                                     0.688638   \n2                                     0.700741   \n5                                     0.526871   \n7                                     0.791664   \n8                                     0.572446   \n\n   3D_Arpege_isobar_500hpa_WindComponentU (m/s)  \\\n1                                      0.520906   \n2                                      0.613256   \n5                                      0.446060   \n7                                      0.558318   \n8                                      0.526334   \n\n   3D_Arpege_isobar_500hpa_WindComponentV (m/s)  \\\n1                                      0.601052   \n2                                      0.614223   \n5                                      0.688499   \n7                                      0.505129   \n8                                      0.749904   \n\n   3D_Arpege_isobar_500hpa_VerticalVelocity (Pa/s)  \\\n1                                         0.569387   \n2                                         0.542626   \n5                                         0.581788   \n7                                         0.561284   \n8                                         0.529925   \n\n   3D_Arpege_isobar_500hpa_Geopotential (m^2/s^2)  \n1                                        0.989601  \n2                                        0.909959  \n5                                        0.971317  \n7                                        0.962043  \n8                                        0.892868  \n\n[5 rows x 97 columns]",
      "text/html": "<div>\n<style scoped>\n    .dataframe tbody tr th:only-of-type {\n        vertical-align: middle;\n    }\n\n    .dataframe tbody tr th {\n        vertical-align: top;\n    }\n\n    .dataframe thead th {\n        text-align: right;\n    }\n</style>\n<table border=\"1\" class=\"dataframe\">\n  <thead>\n    <tr style=\"text-align: right;\">\n      <th></th>\n      <th>altitude (m)</th>\n      <th>latitude</th>\n      <th>longitude</th>\n      <th>month_cos</th>\n      <th>month_sin</th>\n      <th>current hour precipitations (kg/m^2)</th>\n      <th>wind_direction_cos</th>\n      <th>wind_direction_sin</th>\n      <th>wind_speed (m/s)</th>\n      <th>wind_component_u (m/s)</th>\n      <th>...</th>\n      <th>3D_Arpege_isobar_600hpa_VerticalVelocity (Pa/s)</th>\n      <th>3D_Arpege_isobar_600hpa_Geopotential (m^2/s^2)</th>\n      <th>3D_Arpege_isobar_500hpa_Temperature (K)</th>\n      <th>3D_Arpege_isobar_500hpa_RelavtiveHumidity (%)</th>\n      <th>3D_Arpege_isobar_500hpa_WindSpeed (m/s)</th>\n      <th>3D_Arpege_isobar_500hpa_WindDirection (deg)</th>\n      <th>3D_Arpege_isobar_500hpa_WindComponentU (m/s)</th>\n      <th>3D_Arpege_isobar_500hpa_WindComponentV (m/s)</th>\n      <th>3D_Arpege_isobar_500hpa_VerticalVelocity (Pa/s)</th>\n      <th>3D_Arpege_isobar_500hpa_Geopotential (m^2/s^2)</th>\n    </tr>\n  </thead>\n  <tbody>\n    <tr>\n      <th>1</th>\n      <td>0.152632</td>\n      <td>0.75</td>\n      <td>0.833333</td>\n      <td>0.750000</td>\n      <td>0.933013</td>\n      <td>0.00000</td>\n      <td>0.335841</td>\n      <td>0.972284</td>\n      <td>0.096735</td>\n      <td>0.43423</td>\n      <td>...</td>\n      <td>0.592835</td>\n      <td>0.987683</td>\n      <td>0.851050</td>\n      <td>0.243663</td>\n      <td>0.169768</td>\n      <td>0.688638</td>\n      <td>0.520906</td>\n      <td>0.601052</td>\n      <td>0.569387</td>\n      <td>0.989601</td>\n    </tr>\n    <tr>\n      <th>2</th>\n      <td>0.152632</td>\n      <td>0.75</td>\n      <td>0.833333</td>\n      <td>0.933013</td>\n      <td>0.250000</td>\n      <td>0.09375</td>\n      <td>0.335841</td>\n      <td>0.972284</td>\n      <td>0.096735</td>\n      <td>0.43423</td>\n      <td>...</td>\n      <td>0.538019</td>\n      <td>0.905300</td>\n      <td>0.271608</td>\n      <td>0.536040</td>\n      <td>0.349677</td>\n      <td>0.700741</td>\n      <td>0.613256</td>\n      <td>0.614223</td>\n      <td>0.542626</td>\n      <td>0.909959</td>\n    </tr>\n    <tr>\n      <th>5</th>\n      <td>0.152632</td>\n      <td>0.75</td>\n      <td>0.833333</td>\n      <td>0.750000</td>\n      <td>0.066987</td>\n      <td>0.00000</td>\n      <td>0.335841</td>\n      <td>0.972284</td>\n      <td>0.096735</td>\n      <td>0.43423</td>\n      <td>...</td>\n      <td>0.649773</td>\n      <td>0.968288</td>\n      <td>0.742972</td>\n      <td>0.595791</td>\n      <td>0.202649</td>\n      <td>0.526871</td>\n      <td>0.446060</td>\n      <td>0.688499</td>\n      <td>0.581788</td>\n      <td>0.971317</td>\n    </tr>\n    <tr>\n      <th>7</th>\n      <td>0.152632</td>\n      <td>0.75</td>\n      <td>0.833333</td>\n      <td>0.750000</td>\n      <td>0.933013</td>\n      <td>0.00000</td>\n      <td>0.335841</td>\n      <td>0.972284</td>\n      <td>0.096735</td>\n      <td>0.43423</td>\n      <td>...</td>\n      <td>0.604854</td>\n      <td>0.958982</td>\n      <td>0.704392</td>\n      <td>0.668309</td>\n      <td>0.241341</td>\n      <td>0.791664</td>\n      <td>0.558318</td>\n      <td>0.505129</td>\n      <td>0.561284</td>\n      <td>0.962043</td>\n    </tr>\n    <tr>\n      <th>8</th>\n      <td>0.152632</td>\n      <td>0.75</td>\n      <td>0.833333</td>\n      <td>0.500000</td>\n      <td>1.000000</td>\n      <td>0.00000</td>\n      <td>0.335841</td>\n      <td>0.972284</td>\n      <td>0.096735</td>\n      <td>0.43423</td>\n      <td>...</td>\n      <td>0.529531</td>\n      <td>0.874801</td>\n      <td>0.482468</td>\n      <td>0.881668</td>\n      <td>0.346017</td>\n      <td>0.572446</td>\n      <td>0.526334</td>\n      <td>0.749904</td>\n      <td>0.529925</td>\n      <td>0.892868</td>\n    </tr>\n  </tbody>\n</table>\n<p>5 rows × 97 columns</p>\n</div>"
     },
     "execution_count": 57,
     "metadata": {},
     "output_type": "execute_result"
    }
   ],
   "source": [
    "test_set_c0.head()"
   ],
   "metadata": {
    "collapsed": false,
    "pycharm": {
     "name": "#%%\n"
    }
   }
  },
  {
   "cell_type": "markdown",
   "source": [
    "## Predict test_set for submission"
   ],
   "metadata": {
    "collapsed": false
   }
  },
  {
   "cell_type": "markdown",
   "source": [
    "## classification"
   ],
   "metadata": {
    "collapsed": false
   }
  },
  {
   "cell_type": "code",
   "execution_count": 99,
   "outputs": [],
   "source": [
    "y_cls_pred_c0 = model_cls_c0.predict(test_set_c0)\n",
    "y_cls_pred_c1 = model_cls_c1.predict(test_set_c1)"
   ],
   "metadata": {
    "collapsed": false,
    "pycharm": {
     "name": "#%%\n"
    }
   }
  },
  {
   "cell_type": "code",
   "execution_count": 100,
   "outputs": [
    {
     "ename": "KeyboardInterrupt",
     "evalue": "",
     "output_type": "error",
     "traceback": [
      "\u001B[0;31m---------------------------------------------------------------------------\u001B[0m",
      "\u001B[0;31mKeyboardInterrupt\u001B[0m                         Traceback (most recent call last)",
      "\u001B[0;32m/tmp/ipykernel_533478/3567482845.py\u001B[0m in \u001B[0;36m<module>\u001B[0;34m\u001B[0m\n\u001B[1;32m      1\u001B[0m \u001B[0mplt\u001B[0m\u001B[0;34m.\u001B[0m\u001B[0mfigure\u001B[0m\u001B[0;34m(\u001B[0m\u001B[0mfigsize\u001B[0m\u001B[0;34m=\u001B[0m\u001B[0;34m(\u001B[0m\u001B[0;36m10\u001B[0m\u001B[0;34m,\u001B[0m\u001B[0;36m5\u001B[0m\u001B[0;34m)\u001B[0m\u001B[0;34m)\u001B[0m\u001B[0;34m\u001B[0m\u001B[0;34m\u001B[0m\u001B[0m\n\u001B[1;32m      2\u001B[0m \u001B[0mplt\u001B[0m\u001B[0;34m.\u001B[0m\u001B[0msubplot\u001B[0m\u001B[0;34m(\u001B[0m\u001B[0;36m1\u001B[0m\u001B[0;34m,\u001B[0m\u001B[0;36m2\u001B[0m\u001B[0;34m,\u001B[0m\u001B[0;36m1\u001B[0m\u001B[0;34m)\u001B[0m\u001B[0;34m\u001B[0m\u001B[0;34m\u001B[0m\u001B[0m\n\u001B[0;32m----> 3\u001B[0;31m \u001B[0msns\u001B[0m\u001B[0;34m.\u001B[0m\u001B[0mhistplot\u001B[0m\u001B[0;34m(\u001B[0m\u001B[0mx\u001B[0m\u001B[0;34m=\u001B[0m\u001B[0my_cls_pred_c0\u001B[0m\u001B[0;34m[\u001B[0m\u001B[0;34m:\u001B[0m\u001B[0;34m,\u001B[0m\u001B[0;36m1\u001B[0m\u001B[0;34m]\u001B[0m\u001B[0;34m,\u001B[0m \u001B[0mhue\u001B[0m\u001B[0;34m=\u001B[0m\u001B[0my_cls_pred_c0\u001B[0m\u001B[0;34m[\u001B[0m\u001B[0;34m:\u001B[0m\u001B[0;34m,\u001B[0m\u001B[0;36m1\u001B[0m\u001B[0;34m]\u001B[0m\u001B[0;34m)\u001B[0m\u001B[0;34m\u001B[0m\u001B[0;34m\u001B[0m\u001B[0m\n\u001B[0m\u001B[1;32m      4\u001B[0m \u001B[0mplt\u001B[0m\u001B[0;34m.\u001B[0m\u001B[0msubplot\u001B[0m\u001B[0;34m(\u001B[0m\u001B[0;36m1\u001B[0m\u001B[0;34m,\u001B[0m\u001B[0;36m2\u001B[0m\u001B[0;34m,\u001B[0m\u001B[0;36m2\u001B[0m\u001B[0;34m)\u001B[0m\u001B[0;34m\u001B[0m\u001B[0;34m\u001B[0m\u001B[0m\n\u001B[1;32m      5\u001B[0m \u001B[0msns\u001B[0m\u001B[0;34m.\u001B[0m\u001B[0mhistplot\u001B[0m\u001B[0;34m(\u001B[0m\u001B[0mx\u001B[0m\u001B[0;34m=\u001B[0m\u001B[0my_cls_pred_c1\u001B[0m\u001B[0;34m[\u001B[0m\u001B[0;34m:\u001B[0m\u001B[0;34m,\u001B[0m\u001B[0;36m1\u001B[0m\u001B[0;34m]\u001B[0m\u001B[0;34m,\u001B[0m \u001B[0mhue\u001B[0m\u001B[0;34m=\u001B[0m\u001B[0my_cls_pred_c1\u001B[0m\u001B[0;34m[\u001B[0m\u001B[0;34m:\u001B[0m\u001B[0;34m,\u001B[0m\u001B[0;36m1\u001B[0m\u001B[0;34m]\u001B[0m\u001B[0;34m)\u001B[0m\u001B[0;34m\u001B[0m\u001B[0;34m\u001B[0m\u001B[0m\n",
      "\u001B[0;32m~/.local/lib/python3.8/site-packages/seaborn/distributions.py\u001B[0m in \u001B[0;36mhistplot\u001B[0;34m(data, x, y, hue, weights, stat, bins, binwidth, binrange, discrete, cumulative, common_bins, common_norm, multiple, element, fill, shrink, kde, kde_kws, line_kws, thresh, pthresh, pmax, cbar, cbar_ax, cbar_kws, palette, hue_order, hue_norm, color, log_scale, legend, ax, **kwargs)\u001B[0m\n\u001B[1;32m   1460\u001B[0m     \u001B[0;32mif\u001B[0m \u001B[0mp\u001B[0m\u001B[0;34m.\u001B[0m\u001B[0munivariate\u001B[0m\u001B[0;34m:\u001B[0m\u001B[0;34m\u001B[0m\u001B[0;34m\u001B[0m\u001B[0m\n\u001B[1;32m   1461\u001B[0m \u001B[0;34m\u001B[0m\u001B[0m\n\u001B[0;32m-> 1462\u001B[0;31m         p.plot_univariate_histogram(\n\u001B[0m\u001B[1;32m   1463\u001B[0m             \u001B[0mmultiple\u001B[0m\u001B[0;34m=\u001B[0m\u001B[0mmultiple\u001B[0m\u001B[0;34m,\u001B[0m\u001B[0;34m\u001B[0m\u001B[0;34m\u001B[0m\u001B[0m\n\u001B[1;32m   1464\u001B[0m             \u001B[0melement\u001B[0m\u001B[0;34m=\u001B[0m\u001B[0melement\u001B[0m\u001B[0;34m,\u001B[0m\u001B[0;34m\u001B[0m\u001B[0;34m\u001B[0m\u001B[0m\n",
      "\u001B[0;32m~/.local/lib/python3.8/site-packages/seaborn/distributions.py\u001B[0m in \u001B[0;36mplot_univariate_histogram\u001B[0;34m(self, multiple, element, fill, common_norm, common_bins, shrink, kde, kde_kws, color, legend, line_kws, estimate_kws, **plot_kws)\u001B[0m\n\u001B[1;32m    543\u001B[0m \u001B[0;34m\u001B[0m\u001B[0m\n\u001B[1;32m    544\u001B[0m             \u001B[0mkey\u001B[0m \u001B[0;34m=\u001B[0m \u001B[0mtuple\u001B[0m\u001B[0;34m(\u001B[0m\u001B[0msub_vars\u001B[0m\u001B[0;34m.\u001B[0m\u001B[0mitems\u001B[0m\u001B[0;34m(\u001B[0m\u001B[0;34m)\u001B[0m\u001B[0;34m)\u001B[0m\u001B[0;34m\u001B[0m\u001B[0;34m\u001B[0m\u001B[0m\n\u001B[0;32m--> 545\u001B[0;31m             \u001B[0mhist\u001B[0m \u001B[0;34m=\u001B[0m \u001B[0mhistograms\u001B[0m\u001B[0;34m[\u001B[0m\u001B[0mkey\u001B[0m\u001B[0;34m]\u001B[0m\u001B[0;34m.\u001B[0m\u001B[0mrename\u001B[0m\u001B[0;34m(\u001B[0m\u001B[0;34m\"heights\"\u001B[0m\u001B[0;34m)\u001B[0m\u001B[0;34m.\u001B[0m\u001B[0mreset_index\u001B[0m\u001B[0;34m(\u001B[0m\u001B[0;34m)\u001B[0m\u001B[0;34m\u001B[0m\u001B[0;34m\u001B[0m\u001B[0m\n\u001B[0m\u001B[1;32m    546\u001B[0m             \u001B[0mbottom\u001B[0m \u001B[0;34m=\u001B[0m \u001B[0mnp\u001B[0m\u001B[0;34m.\u001B[0m\u001B[0masarray\u001B[0m\u001B[0;34m(\u001B[0m\u001B[0mbaselines\u001B[0m\u001B[0;34m[\u001B[0m\u001B[0mkey\u001B[0m\u001B[0;34m]\u001B[0m\u001B[0;34m)\u001B[0m\u001B[0;34m\u001B[0m\u001B[0;34m\u001B[0m\u001B[0m\n\u001B[1;32m    547\u001B[0m \u001B[0;34m\u001B[0m\u001B[0m\n",
      "\u001B[0;32m~/.local/lib/python3.8/site-packages/pandas/util/_decorators.py\u001B[0m in \u001B[0;36mwrapper\u001B[0;34m(*args, **kwargs)\u001B[0m\n\u001B[1;32m    309\u001B[0m                     \u001B[0mstacklevel\u001B[0m\u001B[0;34m=\u001B[0m\u001B[0mstacklevel\u001B[0m\u001B[0;34m,\u001B[0m\u001B[0;34m\u001B[0m\u001B[0;34m\u001B[0m\u001B[0m\n\u001B[1;32m    310\u001B[0m                 )\n\u001B[0;32m--> 311\u001B[0;31m             \u001B[0;32mreturn\u001B[0m \u001B[0mfunc\u001B[0m\u001B[0;34m(\u001B[0m\u001B[0;34m*\u001B[0m\u001B[0margs\u001B[0m\u001B[0;34m,\u001B[0m \u001B[0;34m**\u001B[0m\u001B[0mkwargs\u001B[0m\u001B[0;34m)\u001B[0m\u001B[0;34m\u001B[0m\u001B[0;34m\u001B[0m\u001B[0m\n\u001B[0m\u001B[1;32m    312\u001B[0m \u001B[0;34m\u001B[0m\u001B[0m\n\u001B[1;32m    313\u001B[0m         \u001B[0;32mreturn\u001B[0m \u001B[0mwrapper\u001B[0m\u001B[0;34m\u001B[0m\u001B[0;34m\u001B[0m\u001B[0m\n",
      "\u001B[0;32m~/.local/lib/python3.8/site-packages/pandas/core/series.py\u001B[0m in \u001B[0;36mreset_index\u001B[0;34m(self, level, drop, name, inplace)\u001B[0m\n\u001B[1;32m   1440\u001B[0m         \u001B[0;32melse\u001B[0m\u001B[0;34m:\u001B[0m\u001B[0;34m\u001B[0m\u001B[0;34m\u001B[0m\u001B[0m\n\u001B[1;32m   1441\u001B[0m             \u001B[0mdf\u001B[0m \u001B[0;34m=\u001B[0m \u001B[0mself\u001B[0m\u001B[0;34m.\u001B[0m\u001B[0mto_frame\u001B[0m\u001B[0;34m(\u001B[0m\u001B[0mname\u001B[0m\u001B[0;34m)\u001B[0m\u001B[0;34m\u001B[0m\u001B[0;34m\u001B[0m\u001B[0m\n\u001B[0;32m-> 1442\u001B[0;31m             \u001B[0;32mreturn\u001B[0m \u001B[0mdf\u001B[0m\u001B[0;34m.\u001B[0m\u001B[0mreset_index\u001B[0m\u001B[0;34m(\u001B[0m\u001B[0mlevel\u001B[0m\u001B[0;34m=\u001B[0m\u001B[0mlevel\u001B[0m\u001B[0;34m,\u001B[0m \u001B[0mdrop\u001B[0m\u001B[0;34m=\u001B[0m\u001B[0mdrop\u001B[0m\u001B[0;34m)\u001B[0m\u001B[0;34m\u001B[0m\u001B[0;34m\u001B[0m\u001B[0m\n\u001B[0m\u001B[1;32m   1443\u001B[0m \u001B[0;34m\u001B[0m\u001B[0m\n\u001B[1;32m   1444\u001B[0m     \u001B[0;31m# ----------------------------------------------------------------------\u001B[0m\u001B[0;34m\u001B[0m\u001B[0;34m\u001B[0m\u001B[0;34m\u001B[0m\u001B[0m\n",
      "\u001B[0;32m~/.local/lib/python3.8/site-packages/pandas/util/_decorators.py\u001B[0m in \u001B[0;36mwrapper\u001B[0;34m(*args, **kwargs)\u001B[0m\n\u001B[1;32m    309\u001B[0m                     \u001B[0mstacklevel\u001B[0m\u001B[0;34m=\u001B[0m\u001B[0mstacklevel\u001B[0m\u001B[0;34m,\u001B[0m\u001B[0;34m\u001B[0m\u001B[0;34m\u001B[0m\u001B[0m\n\u001B[1;32m    310\u001B[0m                 )\n\u001B[0;32m--> 311\u001B[0;31m             \u001B[0;32mreturn\u001B[0m \u001B[0mfunc\u001B[0m\u001B[0;34m(\u001B[0m\u001B[0;34m*\u001B[0m\u001B[0margs\u001B[0m\u001B[0;34m,\u001B[0m \u001B[0;34m**\u001B[0m\u001B[0mkwargs\u001B[0m\u001B[0;34m)\u001B[0m\u001B[0;34m\u001B[0m\u001B[0;34m\u001B[0m\u001B[0m\n\u001B[0m\u001B[1;32m    312\u001B[0m \u001B[0;34m\u001B[0m\u001B[0m\n\u001B[1;32m    313\u001B[0m         \u001B[0;32mreturn\u001B[0m \u001B[0mwrapper\u001B[0m\u001B[0;34m\u001B[0m\u001B[0;34m\u001B[0m\u001B[0m\n",
      "\u001B[0;32m~/.local/lib/python3.8/site-packages/pandas/core/frame.py\u001B[0m in \u001B[0;36mreset_index\u001B[0;34m(self, level, drop, inplace, col_level, col_fill)\u001B[0m\n\u001B[1;32m   5797\u001B[0m                     )\n\u001B[1;32m   5798\u001B[0m \u001B[0;34m\u001B[0m\u001B[0m\n\u001B[0;32m-> 5799\u001B[0;31m                 \u001B[0mnew_obj\u001B[0m\u001B[0;34m.\u001B[0m\u001B[0minsert\u001B[0m\u001B[0;34m(\u001B[0m\u001B[0;36m0\u001B[0m\u001B[0;34m,\u001B[0m \u001B[0mname\u001B[0m\u001B[0;34m,\u001B[0m \u001B[0mlevel_values\u001B[0m\u001B[0;34m)\u001B[0m\u001B[0;34m\u001B[0m\u001B[0;34m\u001B[0m\u001B[0m\n\u001B[0m\u001B[1;32m   5800\u001B[0m \u001B[0;34m\u001B[0m\u001B[0m\n\u001B[1;32m   5801\u001B[0m         \u001B[0mnew_obj\u001B[0m\u001B[0;34m.\u001B[0m\u001B[0mindex\u001B[0m \u001B[0;34m=\u001B[0m \u001B[0mnew_index\u001B[0m\u001B[0;34m\u001B[0m\u001B[0;34m\u001B[0m\u001B[0m\n",
      "\u001B[0;32m~/.local/lib/python3.8/site-packages/pandas/core/frame.py\u001B[0m in \u001B[0;36minsert\u001B[0;34m(self, loc, column, value, allow_duplicates)\u001B[0m\n\u001B[1;32m   4417\u001B[0m \u001B[0;34m\u001B[0m\u001B[0m\n\u001B[1;32m   4418\u001B[0m         \u001B[0mvalue\u001B[0m \u001B[0;34m=\u001B[0m \u001B[0mself\u001B[0m\u001B[0;34m.\u001B[0m\u001B[0m_sanitize_column\u001B[0m\u001B[0;34m(\u001B[0m\u001B[0mvalue\u001B[0m\u001B[0;34m)\u001B[0m\u001B[0;34m\u001B[0m\u001B[0;34m\u001B[0m\u001B[0m\n\u001B[0;32m-> 4419\u001B[0;31m         \u001B[0mself\u001B[0m\u001B[0;34m.\u001B[0m\u001B[0m_mgr\u001B[0m\u001B[0;34m.\u001B[0m\u001B[0minsert\u001B[0m\u001B[0;34m(\u001B[0m\u001B[0mloc\u001B[0m\u001B[0;34m,\u001B[0m \u001B[0mcolumn\u001B[0m\u001B[0;34m,\u001B[0m \u001B[0mvalue\u001B[0m\u001B[0;34m)\u001B[0m\u001B[0;34m\u001B[0m\u001B[0;34m\u001B[0m\u001B[0m\n\u001B[0m\u001B[1;32m   4420\u001B[0m \u001B[0;34m\u001B[0m\u001B[0m\n\u001B[1;32m   4421\u001B[0m     \u001B[0;32mdef\u001B[0m \u001B[0massign\u001B[0m\u001B[0;34m(\u001B[0m\u001B[0mself\u001B[0m\u001B[0;34m,\u001B[0m \u001B[0;34m**\u001B[0m\u001B[0mkwargs\u001B[0m\u001B[0;34m)\u001B[0m \u001B[0;34m->\u001B[0m \u001B[0mDataFrame\u001B[0m\u001B[0;34m:\u001B[0m\u001B[0;34m\u001B[0m\u001B[0;34m\u001B[0m\u001B[0m\n",
      "\u001B[0;32m~/.local/lib/python3.8/site-packages/pandas/core/internals/managers.py\u001B[0m in \u001B[0;36minsert\u001B[0;34m(self, loc, item, value)\u001B[0m\n\u001B[1;32m   1153\u001B[0m         \"\"\"\n\u001B[1;32m   1154\u001B[0m         \u001B[0;31m# insert to the axis; this could possibly raise a TypeError\u001B[0m\u001B[0;34m\u001B[0m\u001B[0;34m\u001B[0m\u001B[0;34m\u001B[0m\u001B[0m\n\u001B[0;32m-> 1155\u001B[0;31m         \u001B[0mnew_axis\u001B[0m \u001B[0;34m=\u001B[0m \u001B[0mself\u001B[0m\u001B[0;34m.\u001B[0m\u001B[0mitems\u001B[0m\u001B[0;34m.\u001B[0m\u001B[0minsert\u001B[0m\u001B[0;34m(\u001B[0m\u001B[0mloc\u001B[0m\u001B[0;34m,\u001B[0m \u001B[0mitem\u001B[0m\u001B[0;34m)\u001B[0m\u001B[0;34m\u001B[0m\u001B[0;34m\u001B[0m\u001B[0m\n\u001B[0m\u001B[1;32m   1156\u001B[0m \u001B[0;34m\u001B[0m\u001B[0m\n\u001B[1;32m   1157\u001B[0m         \u001B[0;32mif\u001B[0m \u001B[0mvalue\u001B[0m\u001B[0;34m.\u001B[0m\u001B[0mndim\u001B[0m \u001B[0;34m==\u001B[0m \u001B[0;36m2\u001B[0m\u001B[0;34m:\u001B[0m\u001B[0;34m\u001B[0m\u001B[0;34m\u001B[0m\u001B[0m\n",
      "\u001B[0;32m~/.local/lib/python3.8/site-packages/pandas/core/indexes/base.py\u001B[0m in \u001B[0;36minsert\u001B[0;34m(self, loc, item)\u001B[0m\n\u001B[1;32m   5985\u001B[0m \u001B[0;34m\u001B[0m\u001B[0m\n\u001B[1;32m   5986\u001B[0m         \u001B[0;31m# Use Index constructor to ensure we get tuples cast correctly.\u001B[0m\u001B[0;34m\u001B[0m\u001B[0;34m\u001B[0m\u001B[0;34m\u001B[0m\u001B[0m\n\u001B[0;32m-> 5987\u001B[0;31m         \u001B[0mitem\u001B[0m \u001B[0;34m=\u001B[0m \u001B[0mIndex\u001B[0m\u001B[0;34m(\u001B[0m\u001B[0;34m[\u001B[0m\u001B[0mitem\u001B[0m\u001B[0;34m]\u001B[0m\u001B[0;34m,\u001B[0m \u001B[0mdtype\u001B[0m\u001B[0;34m=\u001B[0m\u001B[0mself\u001B[0m\u001B[0;34m.\u001B[0m\u001B[0mdtype\u001B[0m\u001B[0;34m)\u001B[0m\u001B[0;34m.\u001B[0m\u001B[0m_values\u001B[0m\u001B[0;34m\u001B[0m\u001B[0;34m\u001B[0m\u001B[0m\n\u001B[0m\u001B[1;32m   5988\u001B[0m         \u001B[0midx\u001B[0m \u001B[0;34m=\u001B[0m \u001B[0mnp\u001B[0m\u001B[0;34m.\u001B[0m\u001B[0mconcatenate\u001B[0m\u001B[0;34m(\u001B[0m\u001B[0;34m(\u001B[0m\u001B[0marr\u001B[0m\u001B[0;34m[\u001B[0m\u001B[0;34m:\u001B[0m\u001B[0mloc\u001B[0m\u001B[0;34m]\u001B[0m\u001B[0;34m,\u001B[0m \u001B[0mitem\u001B[0m\u001B[0;34m,\u001B[0m \u001B[0marr\u001B[0m\u001B[0;34m[\u001B[0m\u001B[0mloc\u001B[0m\u001B[0;34m:\u001B[0m\u001B[0;34m]\u001B[0m\u001B[0;34m)\u001B[0m\u001B[0;34m)\u001B[0m\u001B[0;34m\u001B[0m\u001B[0;34m\u001B[0m\u001B[0m\n\u001B[1;32m   5989\u001B[0m         \u001B[0;32mreturn\u001B[0m \u001B[0mIndex\u001B[0m\u001B[0;34m(\u001B[0m\u001B[0midx\u001B[0m\u001B[0;34m,\u001B[0m \u001B[0mname\u001B[0m\u001B[0;34m=\u001B[0m\u001B[0mself\u001B[0m\u001B[0;34m.\u001B[0m\u001B[0mname\u001B[0m\u001B[0;34m)\u001B[0m\u001B[0;34m\u001B[0m\u001B[0;34m\u001B[0m\u001B[0m\n",
      "\u001B[0;32m~/.local/lib/python3.8/site-packages/pandas/core/indexes/base.py\u001B[0m in \u001B[0;36m__new__\u001B[0;34m(cls, data, dtype, copy, name, tupleize_cols, **kwargs)\u001B[0m\n\u001B[1;32m    492\u001B[0m             \u001B[0;31m# other iterable of some kind\u001B[0m\u001B[0;34m\u001B[0m\u001B[0;34m\u001B[0m\u001B[0;34m\u001B[0m\u001B[0m\n\u001B[1;32m    493\u001B[0m \u001B[0;34m\u001B[0m\u001B[0m\n\u001B[0;32m--> 494\u001B[0;31m             \u001B[0msubarr\u001B[0m \u001B[0;34m=\u001B[0m \u001B[0mcom\u001B[0m\u001B[0;34m.\u001B[0m\u001B[0masarray_tuplesafe\u001B[0m\u001B[0;34m(\u001B[0m\u001B[0mdata\u001B[0m\u001B[0;34m,\u001B[0m \u001B[0mdtype\u001B[0m\u001B[0;34m=\u001B[0m\u001B[0mnp\u001B[0m\u001B[0;34m.\u001B[0m\u001B[0mdtype\u001B[0m\u001B[0;34m(\u001B[0m\u001B[0;34m\"object\"\u001B[0m\u001B[0;34m)\u001B[0m\u001B[0;34m)\u001B[0m\u001B[0;34m\u001B[0m\u001B[0;34m\u001B[0m\u001B[0m\n\u001B[0m\u001B[1;32m    495\u001B[0m             \u001B[0;32mreturn\u001B[0m \u001B[0mIndex\u001B[0m\u001B[0;34m(\u001B[0m\u001B[0msubarr\u001B[0m\u001B[0;34m,\u001B[0m \u001B[0mdtype\u001B[0m\u001B[0;34m=\u001B[0m\u001B[0mdtype\u001B[0m\u001B[0;34m,\u001B[0m \u001B[0mcopy\u001B[0m\u001B[0;34m=\u001B[0m\u001B[0mcopy\u001B[0m\u001B[0;34m,\u001B[0m \u001B[0mname\u001B[0m\u001B[0;34m=\u001B[0m\u001B[0mname\u001B[0m\u001B[0;34m,\u001B[0m \u001B[0;34m**\u001B[0m\u001B[0mkwargs\u001B[0m\u001B[0;34m)\u001B[0m\u001B[0;34m\u001B[0m\u001B[0;34m\u001B[0m\u001B[0m\n\u001B[1;32m    496\u001B[0m \u001B[0;34m\u001B[0m\u001B[0m\n",
      "\u001B[0;32m~/.local/lib/python3.8/site-packages/pandas/core/common.py\u001B[0m in \u001B[0;36masarray_tuplesafe\u001B[0;34m(values, dtype)\u001B[0m\n\u001B[1;32m    237\u001B[0m         \u001B[0mobject\u001B[0m\u001B[0;34m,\u001B[0m\u001B[0;34m\u001B[0m\u001B[0;34m\u001B[0m\u001B[0m\n\u001B[1;32m    238\u001B[0m     ]:\n\u001B[0;32m--> 239\u001B[0;31m         \u001B[0;32mreturn\u001B[0m \u001B[0mconstruct_1d_object_array_from_listlike\u001B[0m\u001B[0;34m(\u001B[0m\u001B[0mvalues\u001B[0m\u001B[0;34m)\u001B[0m\u001B[0;34m\u001B[0m\u001B[0;34m\u001B[0m\u001B[0m\n\u001B[0m\u001B[1;32m    240\u001B[0m \u001B[0;34m\u001B[0m\u001B[0m\n\u001B[1;32m    241\u001B[0m     \u001B[0mresult\u001B[0m \u001B[0;34m=\u001B[0m \u001B[0mnp\u001B[0m\u001B[0;34m.\u001B[0m\u001B[0masarray\u001B[0m\u001B[0;34m(\u001B[0m\u001B[0mvalues\u001B[0m\u001B[0;34m,\u001B[0m \u001B[0mdtype\u001B[0m\u001B[0;34m=\u001B[0m\u001B[0mdtype\u001B[0m\u001B[0;34m)\u001B[0m\u001B[0;34m\u001B[0m\u001B[0;34m\u001B[0m\u001B[0m\n",
      "\u001B[0;32m~/.local/lib/python3.8/site-packages/pandas/core/dtypes/cast.py\u001B[0m in \u001B[0;36mconstruct_1d_object_array_from_listlike\u001B[0;34m(values)\u001B[0m\n\u001B[1;32m   1988\u001B[0m     \u001B[0;31m# making a 1D array that contains list-likes is a bit tricky:\u001B[0m\u001B[0;34m\u001B[0m\u001B[0;34m\u001B[0m\u001B[0;34m\u001B[0m\u001B[0m\n\u001B[1;32m   1989\u001B[0m     \u001B[0mresult\u001B[0m \u001B[0;34m=\u001B[0m \u001B[0mnp\u001B[0m\u001B[0;34m.\u001B[0m\u001B[0mempty\u001B[0m\u001B[0;34m(\u001B[0m\u001B[0mlen\u001B[0m\u001B[0;34m(\u001B[0m\u001B[0mvalues\u001B[0m\u001B[0;34m)\u001B[0m\u001B[0;34m,\u001B[0m \u001B[0mdtype\u001B[0m\u001B[0;34m=\u001B[0m\u001B[0;34m\"object\"\u001B[0m\u001B[0;34m)\u001B[0m\u001B[0;34m\u001B[0m\u001B[0;34m\u001B[0m\u001B[0m\n\u001B[0;32m-> 1990\u001B[0;31m     \u001B[0mresult\u001B[0m\u001B[0;34m[\u001B[0m\u001B[0;34m:\u001B[0m\u001B[0;34m]\u001B[0m \u001B[0;34m=\u001B[0m \u001B[0mvalues\u001B[0m\u001B[0;34m\u001B[0m\u001B[0;34m\u001B[0m\u001B[0m\n\u001B[0m\u001B[1;32m   1991\u001B[0m     \u001B[0;32mreturn\u001B[0m \u001B[0mresult\u001B[0m\u001B[0;34m\u001B[0m\u001B[0;34m\u001B[0m\u001B[0m\n\u001B[1;32m   1992\u001B[0m \u001B[0;34m\u001B[0m\u001B[0m\n",
      "\u001B[0;31mKeyboardInterrupt\u001B[0m: "
     ]
    },
    {
     "data": {
      "text/plain": "<Figure size 720x360 with 1 Axes>",
      "image/png": "[encoded data removed]"
     },
     "metadata": {
      "needs_background": "light"
     },
     "output_type": "display_data"
    }
   ],
   "source": [
    "plt.figure(figsize=(10,5))\n",
    "plt.subplot(1,2,1)\n",
    "sns.histplot(x=y_cls_pred_c0[:,1], hue=y_cls_pred_c0[:,1])\n",
    "plt.subplot(1,2,2)\n",
    "sns.histplot(x=y_cls_pred_c1[:,1], hue=y_cls_pred_c1[:,1])\n",
    "plt.show()"
   ],
   "metadata": {
    "collapsed": false,
    "pycharm": {
     "name": "#%%\n"
    }
   }
  },
  {
   "cell_type": "code",
   "execution_count": 80,
   "outputs": [
    {
     "name": "stdout",
     "output_type": "stream",
     "text": [
      "1.800743099711916 1.1608066548298557\n"
     ]
    }
   ],
   "source": [
    "print(avg_raining_ratio_c0, avg_raining_ratio_c1)"
   ],
   "metadata": {
    "collapsed": false,
    "pycharm": {
     "name": "#%%\n"
    }
   }
  },
  {
   "cell_type": "code",
   "execution_count": 81,
   "outputs": [],
   "source": [
    "y_cls_pred_bkp_c0 = np.array(y_cls_pred_c0)\n",
    "y_cls_pred_bkp_c1 = np.array(y_cls_pred_c1)"
   ],
   "metadata": {
    "collapsed": false,
    "pycharm": {
     "name": "#%%\n"
    }
   }
  },
  {
   "cell_type": "code",
   "execution_count": 82,
   "outputs": [],
   "source": [
    "y_cls_pred_c0 = np.array(y_cls_pred_bkp_c0)\n",
    "y_cls_pred_c1 = np.array(y_cls_pred_bkp_c1)"
   ],
   "metadata": {
    "collapsed": false,
    "pycharm": {
     "name": "#%%\n"
    }
   }
  },
  {
   "cell_type": "code",
   "execution_count": 83,
   "outputs": [],
   "source": [
    "cls_temp_c0 = y_cls_pred_c0[:,0] < y_cls_pred_c0[:,1]\n",
    "y_cls_pred_c0 = np.array([0 if c else 1 for c in cls_temp_c0])\n",
    "cls_temp_c1 = y_cls_pred_c1[:,0] < y_cls_pred_c1[:,1]\n",
    "y_cls_pred_c1 = np.array([0 if c else 1 for c in cls_temp_c1])"
   ],
   "metadata": {
    "collapsed": false,
    "pycharm": {
     "name": "#%%\n"
    }
   }
  },
  {
   "cell_type": "markdown",
   "source": [
    "## regression"
   ],
   "metadata": {
    "collapsed": false
   }
  },
  {
   "cell_type": "code",
   "execution_count": 84,
   "outputs": [],
   "source": [
    "y_reg_pred_c0 = model_reg_c0.predict(test_set_c0)\n",
    "y_reg_pred_c1 = model_reg_c1.predict(test_set_c1)"
   ],
   "metadata": {
    "collapsed": false,
    "pycharm": {
     "name": "#%%\n"
    }
   }
  },
  {
   "cell_type": "markdown",
   "source": [
    "## fill in submission df"
   ],
   "metadata": {
    "collapsed": false
   }
  },
  {
   "cell_type": "code",
   "execution_count": 85,
   "outputs": [],
   "source": [
    "submission_c0[\"cls_pred\"] = y_cls_pred_c0\n",
    "submission_c0[\"reg_pred\"] = y_reg_pred_c0\n",
    "\n",
    "submission_c1[\"cls_pred\"] = y_cls_pred_c1\n",
    "submission_c1[\"reg_pred\"] = y_reg_pred_c1"
   ],
   "metadata": {
    "collapsed": false,
    "pycharm": {
     "name": "#%%\n"
    }
   }
  },
  {
   "cell_type": "code",
   "execution_count": 86,
   "outputs": [],
   "source": [
    "submission_c0[\"Prediction\"] = submission_c0[\"cls_pred\"] * submission_c0[\"reg_pred\"]\n",
    "submission_c1[\"Prediction\"] = submission_c1[\"cls_pred\"] * submission_c1[\"reg_pred\"]"
   ],
   "metadata": {
    "collapsed": false,
    "pycharm": {
     "name": "#%%\n"
    }
   }
  },
  {
   "cell_type": "code",
   "execution_count": 87,
   "outputs": [
    {
     "data": {
      "text/plain": "              Id  cls_pred  reg_pred  Prediction\n1    14047002_10         0  0.037054    0.000000\n2   14047002_100         0  0.193050    0.000000\n5   14047002_103         1  0.044039    0.044039\n7   14047002_105         1  0.115460    0.115460\n8   14047002_106         0  0.035716    0.000000\n9   14047002_107         0  0.334213    0.000000\n11  14047002_109         1  0.023081    0.023081\n12   14047002_11         0  0.134573    0.000000\n17  14047002_114         0  0.233745    0.000000\n18  14047002_115         0  0.106583    0.000000\n19  14047002_116         0  0.011711    0.000000\n21  14047002_118         1  0.010069    0.010069\n22  14047002_119         1  0.099228    0.099228\n24  14047002_120         0  0.010393    0.000000\n26  14047002_122         0  0.008161    0.000000\n28  14047002_124         1  0.006913    0.006913\n31  14047002_127         0  0.052349    0.000000\n35  14047002_130         0  0.083732    0.000000\n36  14047002_131         0  0.048632    0.000000\n37  14047002_132         0  0.051420    0.000000\n39  14047002_134         1  0.059142    0.059142\n42  14047002_137         0  0.000000    0.000000\n43  14047002_138         1  0.044304    0.044304\n44  14047002_139         0  0.129916    0.000000\n48  14047002_142         1  0.066635    0.066635",
      "text/html": "<div>\n<style scoped>\n    .dataframe tbody tr th:only-of-type {\n        vertical-align: middle;\n    }\n\n    .dataframe tbody tr th {\n        vertical-align: top;\n    }\n\n    .dataframe thead th {\n        text-align: right;\n    }\n</style>\n<table border=\"1\" class=\"dataframe\">\n  <thead>\n    <tr style=\"text-align: right;\">\n      <th></th>\n      <th>Id</th>\n      <th>cls_pred</th>\n      <th>reg_pred</th>\n      <th>Prediction</th>\n    </tr>\n  </thead>\n  <tbody>\n    <tr>\n      <th>1</th>\n      <td>14047002_10</td>\n      <td>0</td>\n      <td>0.037054</td>\n      <td>0.000000</td>\n    </tr>\n    <tr>\n      <th>2</th>\n      <td>14047002_100</td>\n      <td>0</td>\n      <td>0.193050</td>\n      <td>0.000000</td>\n    </tr>\n    <tr>\n      <th>5</th>\n      <td>14047002_103</td>\n      <td>1</td>\n      <td>0.044039</td>\n      <td>0.044039</td>\n    </tr>\n    <tr>\n      <th>7</th>\n      <td>14047002_105</td>\n      <td>1</td>\n      <td>0.115460</td>\n      <td>0.115460</td>\n    </tr>\n    <tr>\n      <th>8</th>\n      <td>14047002_106</td>\n      <td>0</td>\n      <td>0.035716</td>\n      <td>0.000000</td>\n    </tr>\n    <tr>\n      <th>9</th>\n      <td>14047002_107</td>\n      <td>0</td>\n      <td>0.334213</td>\n      <td>0.000000</td>\n    </tr>\n    <tr>\n      <th>11</th>\n      <td>14047002_109</td>\n      <td>1</td>\n      <td>0.023081</td>\n      <td>0.023081</td>\n    </tr>\n    <tr>\n      <th>12</th>\n      <td>14047002_11</td>\n      <td>0</td>\n      <td>0.134573</td>\n      <td>0.000000</td>\n    </tr>\n    <tr>\n      <th>17</th>\n      <td>14047002_114</td>\n      <td>0</td>\n      <td>0.233745</td>\n      <td>0.000000</td>\n    </tr>\n    <tr>\n      <th>18</th>\n      <td>14047002_115</td>\n      <td>0</td>\n      <td>0.106583</td>\n      <td>0.000000</td>\n    </tr>\n    <tr>\n      <th>19</th>\n      <td>14047002_116</td>\n      <td>0</td>\n      <td>0.011711</td>\n      <td>0.000000</td>\n    </tr>\n    <tr>\n      <th>21</th>\n      <td>14047002_118</td>\n      <td>1</td>\n      <td>0.010069</td>\n      <td>0.010069</td>\n    </tr>\n    <tr>\n      <th>22</th>\n      <td>14047002_119</td>\n      <td>1</td>\n      <td>0.099228</td>\n      <td>0.099228</td>\n    </tr>\n    <tr>\n      <th>24</th>\n      <td>14047002_120</td>\n      <td>0</td>\n      <td>0.010393</td>\n      <td>0.000000</td>\n    </tr>\n    <tr>\n      <th>26</th>\n      <td>14047002_122</td>\n      <td>0</td>\n      <td>0.008161</td>\n      <td>0.000000</td>\n    </tr>\n    <tr>\n      <th>28</th>\n      <td>14047002_124</td>\n      <td>1</td>\n      <td>0.006913</td>\n      <td>0.006913</td>\n    </tr>\n    <tr>\n      <th>31</th>\n      <td>14047002_127</td>\n      <td>0</td>\n      <td>0.052349</td>\n      <td>0.000000</td>\n    </tr>\n    <tr>\n      <th>35</th>\n      <td>14047002_130</td>\n      <td>0</td>\n      <td>0.083732</td>\n      <td>0.000000</td>\n    </tr>\n    <tr>\n      <th>36</th>\n      <td>14047002_131</td>\n      <td>0</td>\n      <td>0.048632</td>\n      <td>0.000000</td>\n    </tr>\n    <tr>\n      <th>37</th>\n      <td>14047002_132</td>\n      <td>0</td>\n      <td>0.051420</td>\n      <td>0.000000</td>\n    </tr>\n    <tr>\n      <th>39</th>\n      <td>14047002_134</td>\n      <td>1</td>\n      <td>0.059142</td>\n      <td>0.059142</td>\n    </tr>\n    <tr>\n      <th>42</th>\n      <td>14047002_137</td>\n      <td>0</td>\n      <td>0.000000</td>\n      <td>0.000000</td>\n    </tr>\n    <tr>\n      <th>43</th>\n      <td>14047002_138</td>\n      <td>1</td>\n      <td>0.044304</td>\n      <td>0.044304</td>\n    </tr>\n    <tr>\n      <th>44</th>\n      <td>14047002_139</td>\n      <td>0</td>\n      <td>0.129916</td>\n      <td>0.000000</td>\n    </tr>\n    <tr>\n      <th>48</th>\n      <td>14047002_142</td>\n      <td>1</td>\n      <td>0.066635</td>\n      <td>0.066635</td>\n    </tr>\n  </tbody>\n</table>\n</div>"
     },
     "execution_count": 87,
     "metadata": {},
     "output_type": "execute_result"
    }
   ],
   "source": [
    "submission = pd.concat([submission_c0,submission_c1])\n",
    "submission.head(25)"
   ],
   "metadata": {
    "collapsed": false,
    "pycharm": {
     "name": "#%%\n"
    }
   }
  },
  {
   "cell_type": "code",
   "execution_count": 88,
   "outputs": [],
   "source": [
    "submission[[\"Id\",\"Prediction\"]].to_csv(\"./submission_ann_clustered_reg_cls.csv\", index=False)"
   ],
   "metadata": {
    "collapsed": false,
    "pycharm": {
     "name": "#%%\n"
    }
   }
  },
  {
   "cell_type": "code",
   "execution_count": 96,
   "outputs": [],
   "source": [
    "submission2 = submission.drop([\"Prediction\",\"cls_pred\"], axis=1)\n",
    "submission2.rename(columns={\"reg_pred\": \"Prediction\"}, inplace=True)"
   ],
   "metadata": {
    "collapsed": false,
    "pycharm": {
     "name": "#%%\n"
    }
   }
  },
  {
   "cell_type": "code",
   "execution_count": 97,
   "outputs": [
    {
     "data": {
      "text/plain": "             Id  Prediction\n1   14047002_10    0.037054\n2  14047002_100    0.193050\n5  14047002_103    0.044039\n7  14047002_105    0.115460\n8  14047002_106    0.035716",
      "text/html": "<div>\n<style scoped>\n    .dataframe tbody tr th:only-of-type {\n        vertical-align: middle;\n    }\n\n    .dataframe tbody tr th {\n        vertical-align: top;\n    }\n\n    .dataframe thead th {\n        text-align: right;\n    }\n</style>\n<table border=\"1\" class=\"dataframe\">\n  <thead>\n    <tr style=\"text-align: right;\">\n      <th></th>\n      <th>Id</th>\n      <th>Prediction</th>\n    </tr>\n  </thead>\n  <tbody>\n    <tr>\n      <th>1</th>\n      <td>14047002_10</td>\n      <td>0.037054</td>\n    </tr>\n    <tr>\n      <th>2</th>\n      <td>14047002_100</td>\n      <td>0.193050</td>\n    </tr>\n    <tr>\n      <th>5</th>\n      <td>14047002_103</td>\n      <td>0.044039</td>\n    </tr>\n    <tr>\n      <th>7</th>\n      <td>14047002_105</td>\n      <td>0.115460</td>\n    </tr>\n    <tr>\n      <th>8</th>\n      <td>14047002_106</td>\n      <td>0.035716</td>\n    </tr>\n  </tbody>\n</table>\n</div>"
     },
     "execution_count": 97,
     "metadata": {},
     "output_type": "execute_result"
    }
   ],
   "source": [
    "submission2.head()"
   ],
   "metadata": {
    "collapsed": false,
    "pycharm": {
     "name": "#%%\n"
    }
   }
  },
  {
   "cell_type": "code",
   "execution_count": 98,
   "outputs": [],
   "source": [
    "submission2[[\"Id\",\"Prediction\"]].to_csv(\"./submission_ann_clustered_reg.csv\", index=False)"
   ],
   "metadata": {
    "collapsed": false,
    "pycharm": {
     "name": "#%%\n"
    }
   }
  },
  {
   "cell_type": "code",
   "execution_count": null,
   "outputs": [],
   "source": [],
   "metadata": {
    "collapsed": false,
    "pycharm": {
     "name": "#%%\n"
    }
   }
  }
 ],
 "metadata": {
  "kernelspec": {
   "display_name": "Python 3",
   "language": "python",
   "name": "python3"
  },
  "language_info": {
   "codemirror_mode": {
    "name": "ipython",
    "version": 2
   },
   "file_extension": ".py",
   "mimetype": "text/x-python",
   "name": "python",
   "nbconvert_exporter": "python",
   "pygments_lexer": "ipython2",
   "version": "2.7.6"
  }
 },
 "nbformat": 4,
 "nbformat_minor": 0
}
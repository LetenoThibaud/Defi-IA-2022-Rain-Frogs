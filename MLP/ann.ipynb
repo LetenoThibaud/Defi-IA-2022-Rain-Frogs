{
 "cells": [
  {
   "cell_type": "code",
   "execution_count": 1,
   "outputs": [],
   "source": [
    "from pprint import pprint\n",
    "import os\n",
    "import numpy as np\n",
    "import pandas as pd\n",
    "import tensorflow as tf\n",
    "from tensorflow.keras import Model\n",
    "from tensorflow.keras import Sequential, activations\n",
    "from tensorflow.keras.optimizers import Adam\n",
    "from sklearn.preprocessing import StandardScaler\n",
    "from tensorflow.keras.layers import Dense, Dropout, Conv1D\n",
    "from sklearn.model_selection import train_test_split\n",
    "from tensorflow.keras.losses import MeanSquaredLogarithmicError, MeanSquaredError\n",
    "\n",
    "import matplotlib.pyplot as plt\n",
    "import seaborn as sns"
   ],
   "metadata": {
    "collapsed": false,
    "pycharm": {
     "name": "#%%\n"
    }
   }
  },
  {
   "cell_type": "code",
   "execution_count": 2,
   "outputs": [],
   "source": [
    "os.environ['CUDA_VISIBLE_DEVICES'] = '-1'"
   ],
   "metadata": {
    "collapsed": false,
    "pycharm": {
     "name": "#%%\n"
    }
   }
  },
  {
   "cell_type": "code",
   "execution_count": 3,
   "outputs": [],
   "source": [
    "def get_variables_and_size():\n",
    "    from sys import getsizeof\n",
    "    names = []\n",
    "    sizes = []\n",
    "    types = []\n",
    "    for name in dir():\n",
    "        # Print the item if it doesn't start with '__'\n",
    "        if not name.startswith('__'):\n",
    "            value = eval(name)\n",
    "            names.append(name)\n",
    "            sizes.append(getsizeof(value))\n",
    "            types.append(type(value))\n",
    "    sort_indexes = np.argsort(sizes)[::-1]\n",
    "    names = np.array(names)[sort_indexes]\n",
    "    sizes = np.array(sizes)[sort_indexes]\n",
    "    types = np.array(types)[sort_indexes]\n",
    "    for n,s,t in zip(names,sizes,types):\n",
    "        print(n, \"\\n\\tsize :\", s, \"\\n\\ttype :\", t)"
   ],
   "metadata": {
    "collapsed": false,
    "pycharm": {
     "name": "#%%\n"
    }
   }
  },
  {
   "cell_type": "code",
   "execution_count": 4,
   "outputs": [],
   "source": [
    "def get_normalization_infos(*x_s, columns):\n",
    "    normalization_infos = pd.DataFrame(data=[[1000 for _ in range(len(columns))],[0 for _ in range(len(columns))]],\n",
    "                                     index=[\"min\",\"max\"],\n",
    "                                     columns=columns)\n",
    "    for x in x_s :\n",
    "        for col in columns:\n",
    "            min_value = min(normalization_infos[col][\"min\"], x[col].min())\n",
    "            max_value = max(normalization_infos[col][\"max\"], x[col].max())\n",
    "            normalization_infos[col] = [min_value, max_value]\n",
    "\n",
    "    normalization_infos.loc[\"spread\"] = normalization_infos.apply(lambda c : c[\"max\"] - c[\"min\"], axis=0)\n",
    "\n",
    "    return normalization_infos\n",
    "\n",
    "def normalize(x : pd.DataFrame, normalization_infos : pd.DataFrame):\n",
    "    for col in x.columns:\n",
    "        x[col] = (x[col] - normalization_infos[col][\"min\"])/normalization_infos[col][\"spread\"]\n",
    "    return x"
   ],
   "metadata": {
    "collapsed": false,
    "pycharm": {
     "name": "#%%\n"
    }
   }
  },
  {
   "cell_type": "code",
   "execution_count": 5,
   "outputs": [],
   "source": [
    "def m_mape(y_true,y_predict):\n",
    "    n = len(y_true)\n",
    "    y_true = np.array(y_true) + 1\n",
    "    y_predict = np.array(y_predict) + 1\n",
    "\n",
    "    res = ((100/n)*(np.sum(np.abs((y_predict-y_true)/y_true))))\n",
    "    return res"
   ],
   "metadata": {
    "collapsed": false,
    "pycharm": {
     "name": "#%%\n"
    }
   }
  },
  {
   "cell_type": "code",
   "execution_count": 6,
   "outputs": [],
   "source": [
    "def box_plot(prediction_df):\n",
    "    y_upper_bound = np.mean([prediction_df[\"ground_truth\"].max(), prediction_df[\"Prediction\"].max()])\n",
    "    mape_score = m_mape(prediction_df[\"ground_truth\"],prediction_df[\"Prediction\"])\n",
    "\n",
    "    plt.figure(figsize=(20,10))\n",
    "    plt.suptitle(\"Prediction on 2017 data.\")\n",
    "\n",
    "    plt.subplot(2,3,1)\n",
    "    plt.title(\"ground_truth\")\n",
    "    plt.boxplot(prediction_df[\"ground_truth\"])\n",
    "    plt.ylim([-0.01,y_upper_bound])\n",
    "\n",
    "    plt.subplot(2,3,2)\n",
    "    plt.title(\"Prediction. MAPE : {:.2f}\".format(mape_score))\n",
    "    plt.boxplot(prediction_df[\"Prediction\"])\n",
    "    plt.ylim([-0.01,y_upper_bound])\n",
    "\n",
    "    plt.subplot(2,3,3)\n",
    "    plt.boxplot(prediction_df[\"reg_pred\"])\n",
    "    plt.title(\"Regression only. MAPE : {:.2f}\".format(m_mape(prediction_df[\"ground_truth\"],prediction_df[\"reg_pred\"])))\n",
    "    plt.ylim([-0.01, y_upper_bound])\n",
    "\n",
    "    plt.subplot(2,3,4)\n",
    "    plt.hist(prediction_df[prediction_df[\"ground_truth\"]<y_upper_bound][\"ground_truth\"], bins=100)\n",
    "    plt.xlim([0,y_upper_bound])\n",
    "    plt.ylim([0,len(prediction_df)])\n",
    "\n",
    "    plt.subplot(2,3,5)\n",
    "    plt.hist(prediction_df[prediction_df[\"Prediction\"]<y_upper_bound][\"Prediction\"], bins=100)\n",
    "    plt.xlim([0,y_upper_bound])\n",
    "    plt.ylim([0,len(prediction_df)])\n",
    "\n",
    "    plt.subplot(2,3,6)\n",
    "    plt.hist(prediction_df[prediction_df[\"reg_pred\"]<y_upper_bound][\"reg_pred\"], bins=100)\n",
    "    plt.xlim([0,y_upper_bound])\n",
    "    plt.ylim([0,len(prediction_df)])\n",
    "\n",
    "    plt.show()"
   ],
   "metadata": {
    "collapsed": false,
    "pycharm": {
     "name": "#%%\n"
    }
   }
  },
  {
   "cell_type": "code",
   "execution_count": 7,
   "outputs": [],
   "source": [
    "# Creating model using the Sequential in tensorflow\n",
    "def build_model_classf(*layers, loss ='binary_crossentropy', metrics = (\"AUC\",\"accuracy\"), learning_rate=0.001, last_activation=\"softmax\"):\n",
    "    model = Sequential()\n",
    "    model.add(layers[0])\n",
    "    for layer in layers[1:]:\n",
    "        model.add(layer)\n",
    "    model.add(Dense(2, activation=last_activation))\n",
    "\n",
    "    model.compile(\n",
    "        loss=loss,\n",
    "        optimizer=Adam(learning_rate=learning_rate),\n",
    "        metrics=metrics\n",
    "    )\n",
    "\n",
    "    print(model.summary())\n",
    "    return model\n",
    "\n",
    "def make_cls_model(*layers,x,y,x_val=None,y_val=None,val_split=0.15, epochs=15, batch_size=64, learning_rate=0.001, last_activation=\"softmax\"):\n",
    "    # build the model\n",
    "    model_cls = build_model_classf(*layers, learning_rate=learning_rate, last_activation=last_activation)\n",
    "    # train the model\n",
    "    if x_val is None :\n",
    "        history_cls = model_cls.fit(\n",
    "            x=x,\n",
    "            y=y,\n",
    "            epochs=epochs,\n",
    "            batch_size=batch_size,\n",
    "            validation_split=val_split\n",
    "            # validation_data=(x_test,y_cls_test)\n",
    "            )\n",
    "    else :\n",
    "        history_cls = model_cls.fit(\n",
    "            x=x,\n",
    "            y=y,\n",
    "            epochs=epochs,\n",
    "            batch_size=batch_size,\n",
    "            # validation_split=0.15\n",
    "            validation_data=(x_val,y_val)\n",
    "            )\n",
    "    return history_cls,model_cls\n",
    "\n",
    "def plot_history_cls(history, loss, key1, key2):\n",
    "    plt.figure(figsize=(17,5))\n",
    "    plt.subplot(1,3,1)\n",
    "    plt.title(\"loss : {}\".format(loss))\n",
    "    plt.plot(history.history[\"loss\"], c=\"cyan\")\n",
    "    plt.plot(history.history[\"val_loss\"], c=\"orange\")\n",
    "    plt.xlabel(\"Epochs\")\n",
    "    plt.xticks(np.linspace(0,len(history.history[\"loss\"]),10,dtype=int))\n",
    "    # plt.ylabel(\"loss\")\n",
    "    plt.legend([\"loss\", \"val_loss\"])\n",
    "\n",
    "    plt.subplot(1,3,2)\n",
    "    plt.title(\"metric : {}\".format(key1))\n",
    "    plt.plot(history.history[key1])\n",
    "    plt.plot(history.history['val_'+key1])\n",
    "    plt.xlabel(\"Epochs\")\n",
    "    plt.xticks(np.linspace(0,len(history.history[\"loss\"]),10,dtype=int))\n",
    "    # plt.ylabel(key1)\n",
    "    plt.legend([key1, 'val_'+key1])\n",
    "\n",
    "    plt.subplot(1,3,3)\n",
    "    plt.title(\"metric : {}\".format(key2))\n",
    "    plt.plot(history.history[key2.lower()])\n",
    "    plt.plot(history.history['val_'+key2.lower()])\n",
    "    plt.xlabel(\"Epochs\")\n",
    "    plt.xticks(np.linspace(0,len(history.history[\"loss\"]),10,dtype=int))\n",
    "    # plt.ylabel(key2)\n",
    "    plt.legend([key2, 'val_'+key2])\n",
    "\n",
    "    plt.suptitle(\"Classification results\")\n",
    "    plt.show()"
   ],
   "metadata": {
    "collapsed": false,
    "pycharm": {
     "name": "#%%\n"
    }
   }
  },
  {
   "cell_type": "code",
   "execution_count": 8,
   "outputs": [],
   "source": [
    "# Creating model using the Sequential in tensorflow\n",
    "def build_model_regrs(*layers, metric = MeanSquaredError(), learning_rate=0.001, last_activation=\"relu\"):\n",
    "    model = Sequential()\n",
    "    model.add(layers[0])\n",
    "    for layer in layers[1:]:\n",
    "        model.add(layer)\n",
    "    model.add(Dense(1, activation=last_activation))\n",
    "\n",
    "    model.compile(\n",
    "        loss=metric,\n",
    "        optimizer=Adam(learning_rate=learning_rate),\n",
    "        metrics=[metric]\n",
    "    )\n",
    "\n",
    "    # print(model.summary())\n",
    "    return model\n",
    "\n",
    "def make_reg_model(*layers,x,y,x_val=None,y_val=None,val_split=0.15, epochs=15, batch_size=64, learning_rate=0.001, last_activation=\"relu\"):\n",
    "    # build the model\n",
    "    model_reg = build_model_regrs(*layers, learning_rate=learning_rate, last_activation=last_activation)\n",
    "    # train the model\n",
    "    if x_val is None :\n",
    "        history_reg = model_reg.fit(\n",
    "            x=x,\n",
    "            y=y,\n",
    "            epochs=epochs,\n",
    "            batch_size=batch_size,\n",
    "            validation_split=val_split\n",
    "            # validation_data=(x_test,y_cls_test)\n",
    "            )\n",
    "    else :\n",
    "        history_reg = model_reg.fit(\n",
    "            x=x,\n",
    "            y=y,\n",
    "            epochs=epochs,\n",
    "            batch_size=batch_size,\n",
    "            # validation_split=0.15\n",
    "            validation_data=(x_val,y_val)\n",
    "            )\n",
    "    return history_reg,model_reg\n",
    "\n",
    "def plot_history_reg(history, loss : str):\n",
    "    plt.figure(figsize=(7,5))\n",
    "    plt.title(\"loss : {}\".format(loss))\n",
    "    plt.plot(history.history[\"loss\"], c=\"cyan\")\n",
    "    plt.plot(history.history[\"val_loss\"], c=\"orange\")\n",
    "    plt.xlabel(\"Epochs\")\n",
    "    plt.xticks(np.linspace(0,len(history.history[\"loss\"]),10,dtype=int))\n",
    "    # plt.ylabel(\"loss\")\n",
    "    plt.legend([\"loss\", \"val_loss\"])\n",
    "    plt.show()"
   ],
   "metadata": {
    "collapsed": false,
    "pycharm": {
     "name": "#%%\n"
    }
   }
  },
  {
   "cell_type": "code",
   "execution_count": 9,
   "outputs": [],
   "source": [
    "# custom activation functions\n",
    "exp_relu = lambda x : activations.exponential(activations.relu(x)) - 1\n",
    "square_relu = lambda x : activations.relu(x)**2"
   ],
   "metadata": {
    "collapsed": false,
    "pycharm": {
     "name": "#%%\n"
    }
   }
  },
  {
   "cell_type": "code",
   "execution_count": 10,
   "outputs": [],
   "source": [
    "cluster_month_0 = [11,12,1,2,3,4]\n",
    "cluster_month_1 = [5,6,7,8,9,10]"
   ],
   "metadata": {
    "collapsed": false,
    "pycharm": {
     "name": "#%%\n"
    }
   }
  },
  {
   "cell_type": "markdown",
   "source": [
    "# Load the dataset"
   ],
   "metadata": {
    "collapsed": false
   }
  },
  {
   "cell_type": "code",
   "execution_count": 11,
   "outputs": [],
   "source": [
    "df_train = pd.read_csv(\"../preprocessed_data_Defi-IA-2022-Rain-Frogs/X_all_2016_final_by_day.zip\")\n",
    "# df_train = pd.read_csv(\"../preprocessed_data_Defi-IA-2022-Rain-Frogs/X_all_2016_final.zip\")\n",
    "df_train[\"raining\"] = df_train[\"ground_truth\"].apply(lambda x : 0 if (x==0) else 1)\n",
    "df_train[\"not_raining\"] = 1-df_train[\"raining\"]\n",
    "\n",
    "x_2016, y_reg_2016, y_cls_2016 = df_train, df_train[\"ground_truth\"], df_train[[\"not_raining\",\"raining\"]].to_numpy()\n",
    "del df_train"
   ],
   "metadata": {
    "collapsed": false,
    "pycharm": {
     "name": "#%%\n"
    }
   }
  },
  {
   "cell_type": "code",
   "execution_count": 12,
   "outputs": [],
   "source": [
    "df_test = pd.read_csv(\"../preprocessed_data_Defi-IA-2022-Rain-Frogs/X_all_2017_final_by_day.zip\")\n",
    "# df_test = pd.read_csv(\"../preprocessed_data_Defi-IA-2022-Rain-Frogs/X_all_2017_final.zip\")\n",
    "df_test[\"raining\"] = df_test[\"ground_truth\"].apply(lambda x : 0 if (x==0) else 1)\n",
    "df_test[\"not_raining\"] = 1-df_test[\"raining\"]\n",
    "\n",
    "x_2017, y_reg_2017, y_cls_2017 = df_test, df_test[\"ground_truth\"], df_test[[\"not_raining\",\"raining\"]].to_numpy()\n",
    "del df_test"
   ],
   "metadata": {
    "collapsed": false,
    "pycharm": {
     "name": "#%%\n"
    }
   }
  },
  {
   "cell_type": "markdown",
   "source": [
    "# merge 2016, 2017"
   ],
   "metadata": {
    "collapsed": false,
    "pycharm": {
     "name": "#%% md\n"
    }
   }
  },
  {
   "cell_type": "code",
   "execution_count": 13,
   "outputs": [],
   "source": [
    "x = pd.concat([x_2016,x_2017])\n",
    "y_cls = np.concatenate([y_cls_2016, y_cls_2017])\n",
    "y_reg = np.concatenate([y_reg_2016, y_reg_2017])"
   ],
   "metadata": {
    "collapsed": false,
    "pycharm": {
     "name": "#%%\n"
    }
   }
  },
  {
   "cell_type": "markdown",
   "source": [
    "# get cluster 0 (c0) - cluster 1 (c1)"
   ],
   "metadata": {
    "collapsed": false,
    "pycharm": {
     "name": "#%% md\n"
    }
   }
  },
  {
   "cell_type": "code",
   "execution_count": 14,
   "outputs": [],
   "source": [
    "x[\"cluster\"] = x[\"month\"].apply(lambda x : 0 if x in cluster_month_0 else 1)"
   ],
   "metadata": {
    "collapsed": false,
    "pycharm": {
     "name": "#%%\n"
    }
   }
  },
  {
   "cell_type": "code",
   "execution_count": 15,
   "outputs": [],
   "source": [
    "x_train, x_test, y_cls_train, y_cls_test, y_reg_train, y_reg_test = train_test_split(x,y_cls,y_reg, test_size=0.1, random_state=42)"
   ],
   "metadata": {
    "collapsed": false,
    "pycharm": {
     "name": "#%%\n"
    }
   }
  },
  {
   "cell_type": "code",
   "execution_count": 16,
   "outputs": [],
   "source": [
    "prediction_x_test = pd.DataFrame(x_test[[\"Id\",\"ground_truth\", \"month\"]])"
   ],
   "metadata": {
    "collapsed": false,
    "pycharm": {
     "name": "#%%\n"
    }
   }
  },
  {
   "cell_type": "markdown",
   "source": [
    "# drop unnecessary columns"
   ],
   "metadata": {
    "collapsed": false
   }
  },
  {
   "cell_type": "code",
   "execution_count": 17,
   "outputs": [],
   "source": [
    "# define the unnecessary columns\n",
    "cols_to_drop = {\"day\",\"Id\", \"station_id\",\"month\",\"longitude_idx\",\"latitude_idx\", \"next hour precipitation (kg/m^2)\", \"wind_direction (deg)\", \"ground_truth\", \"raining\", \"not_raining\"}"
   ],
   "metadata": {
    "collapsed": false,
    "pycharm": {
     "name": "#%%\n"
    }
   }
  },
  {
   "cell_type": "code",
   "execution_count": 18,
   "outputs": [],
   "source": [
    "#drop unnecessary columns\n",
    "x_train.drop(list(set(x_train.columns)&cols_to_drop), axis=1, inplace=True)"
   ],
   "metadata": {
    "collapsed": false,
    "pycharm": {
     "name": "#%%\n"
    }
   }
  },
  {
   "cell_type": "code",
   "execution_count": 19,
   "outputs": [],
   "source": [
    "#drop unnecessary columns\n",
    "x_test.drop(list(set(x_test.columns)&cols_to_drop), axis=1, inplace=True)"
   ],
   "metadata": {
    "collapsed": false,
    "pycharm": {
     "name": "#%%\n"
    }
   }
  },
  {
   "cell_type": "markdown",
   "source": [
    "\n",
    "# get same columns on both datasets"
   ],
   "metadata": {
    "collapsed": false
   }
  },
  {
   "cell_type": "code",
   "execution_count": 20,
   "outputs": [],
   "source": [
    "columns = list(x_train.columns)\n",
    "x_train = x_train[columns]\n",
    "x_test = x_test[columns]"
   ],
   "metadata": {
    "collapsed": false,
    "pycharm": {
     "name": "#%%\n"
    }
   }
  },
  {
   "cell_type": "markdown",
   "source": [
    "# normalize both dataset with 2016 min and min-max values"
   ],
   "metadata": {
    "collapsed": false
   }
  },
  {
   "cell_type": "code",
   "execution_count": 21,
   "outputs": [],
   "source": [
    "normalization_infos = get_normalization_infos(x_train, x_test, columns=columns)\n",
    "x_train = normalize(x_train, normalization_infos)\n",
    "x_test = normalize(x_test, normalization_infos)"
   ],
   "metadata": {
    "collapsed": false,
    "pycharm": {
     "name": "#%%\n"
    }
   }
  },
  {
   "cell_type": "markdown",
   "source": [
    "# see if the data is balanced raining-wise"
   ],
   "metadata": {
    "collapsed": false
   }
  },
  {
   "cell_type": "code",
   "execution_count": 22,
   "outputs": [
    {
     "data": {
      "text/plain": "<Figure size 720x360 with 2 Axes>",
      "image/png": "[encoded data removed]"
     },
     "metadata": {
      "needs_background": "light"
     },
     "output_type": "display_data"
    }
   ],
   "source": [
    "raining_ratio1 = y_cls_train[:,1].sum()/y_cls_train[:,0].sum()\n",
    "raining_ratio2 = y_cls_test[:,1].sum()/y_cls_test[:,0].sum()\n",
    "avg_raining_ratio = (raining_ratio1+raining_ratio2)/2\n",
    "\n",
    "plt.figure(figsize = (10,5))\n",
    "plt.subplot(1,2,1)\n",
    "sns.histplot(x=y_cls_train[:,1],hue=y_cls_train[:,1])\n",
    "plt.title(\"2016 (train set) : ratio = {:.2f}\".format(raining_ratio1))\n",
    "plt.subplot(1,2,2)\n",
    "sns.histplot(x=y_cls_test[:,1], hue=y_cls_test[:,1])\n",
    "plt.title(\"2017 (test set) : ratio = {:.2f}\".format(raining_ratio2))\n",
    "plt.suptitle(\"Days w/ and w/o rain. avg_raining_ratio : {:.2f}\".format(avg_raining_ratio))\n",
    "plt.show()"
   ],
   "metadata": {
    "collapsed": false,
    "pycharm": {
     "name": "#%%\n"
    }
   }
  },
  {
   "cell_type": "markdown",
   "source": [
    "ratio 2016 and 2017 ==> **Unbalanced**"
   ],
   "metadata": {
    "collapsed": false
   }
  },
  {
   "cell_type": "markdown",
   "source": [
    "# Classification Model (raining or not)\n",
    "source : https://thinkingneuron.com/how-to-use-artificial-neural-networks-for-classification-in-python/"
   ],
   "metadata": {
    "collapsed": false
   }
  },
  {
   "cell_type": "code",
   "execution_count": 23,
   "outputs": [
    {
     "name": "stderr",
     "output_type": "stream",
     "text": [
      "2022-01-09 21:02:47.530316: E tensorflow/stream_executor/cuda/cuda_driver.cc:271] failed call to cuInit: CUDA_ERROR_NO_DEVICE: no CUDA-capable device is detected\n",
      "2022-01-09 21:02:47.530363: I tensorflow/stream_executor/cuda/cuda_diagnostics.cc:169] retrieving CUDA diagnostic information for host: Y540\n",
      "2022-01-09 21:02:47.530372: I tensorflow/stream_executor/cuda/cuda_diagnostics.cc:176] hostname: Y540\n",
      "2022-01-09 21:02:47.530508: I tensorflow/stream_executor/cuda/cuda_diagnostics.cc:200] libcuda reported version is: 495.29.5\n",
      "2022-01-09 21:02:47.530547: I tensorflow/stream_executor/cuda/cuda_diagnostics.cc:204] kernel reported version is: 495.29.5\n",
      "2022-01-09 21:02:47.530559: I tensorflow/stream_executor/cuda/cuda_diagnostics.cc:310] kernel version seems to match DSO: 495.29.5\n",
      "2022-01-09 21:02:47.531390: I tensorflow/core/platform/cpu_feature_guard.cc:151] This TensorFlow binary is optimized with oneAPI Deep Neural Network Library (oneDNN) to use the following CPU instructions in performance-critical operations:  AVX2 FMA\n",
      "To enable them in other operations, rebuild TensorFlow with the appropriate compiler flags.\n"
     ]
    },
    {
     "name": "stdout",
     "output_type": "stream",
     "text": [
      "Model: \"sequential\"\n",
      "_________________________________________________________________\n",
      " Layer (type)                Output Shape              Param #   \n",
      "=================================================================\n",
      " dense (Dense)               (None, 64)                6336      \n",
      "                                                                 \n",
      " dropout (Dropout)           (None, 64)                0         \n",
      "                                                                 \n",
      " dense_1 (Dense)             (None, 32)                2080      \n",
      "                                                                 \n",
      " dense_2 (Dense)             (None, 32)                1056      \n",
      "                                                                 \n",
      " dense_3 (Dense)             (None, 32)                1056      \n",
      "                                                                 \n",
      " dense_4 (Dense)             (None, 2)                 66        \n",
      "                                                                 \n",
      "=================================================================\n",
      "Total params: 10,594\n",
      "Trainable params: 10,594\n",
      "Non-trainable params: 0\n",
      "_________________________________________________________________\n",
      "None\n",
      "Epoch 1/300\n"
     ]
    },
    {
     "name": "stderr",
     "output_type": "stream",
     "text": [
      "2022-01-09 21:02:47.939323: W tensorflow/core/framework/cpu_allocator_impl.cc:82] Allocation of 68356568 exceeds 10% of free system memory.\n"
     ]
    },
    {
     "name": "stdout",
     "output_type": "stream",
     "text": [
      "2725/2725 [==============================] - 8s 2ms/step - loss: 0.6213 - auc: 0.7128 - accuracy: 0.6571 - val_loss: 0.6029 - val_auc: 0.7373 - val_accuracy: 0.6764\n",
      "Epoch 2/300\n",
      "2725/2725 [==============================] - 6s 2ms/step - loss: 0.6053 - auc: 0.7345 - accuracy: 0.6727 - val_loss: 0.5972 - val_auc: 0.7446 - val_accuracy: 0.6808\n",
      "Epoch 3/300\n",
      "2725/2725 [==============================] - 6s 2ms/step - loss: 0.5993 - auc: 0.7419 - accuracy: 0.6801 - val_loss: 0.6002 - val_auc: 0.7401 - val_accuracy: 0.6776\n",
      "Epoch 4/300\n",
      "2725/2725 [==============================] - 7s 3ms/step - loss: 0.5958 - auc: 0.7461 - accuracy: 0.6830 - val_loss: 0.5884 - val_auc: 0.7547 - val_accuracy: 0.6890\n",
      "Epoch 5/300\n",
      "2725/2725 [==============================] - 6s 2ms/step - loss: 0.5929 - auc: 0.7494 - accuracy: 0.6864 - val_loss: 0.5871 - val_auc: 0.7564 - val_accuracy: 0.6908\n",
      "Epoch 6/300\n",
      "2725/2725 [==============================] - 7s 3ms/step - loss: 0.5906 - auc: 0.7517 - accuracy: 0.6878 - val_loss: 0.5854 - val_auc: 0.7587 - val_accuracy: 0.6914\n",
      "Epoch 7/300\n",
      "2725/2725 [==============================] - 8s 3ms/step - loss: 0.5886 - auc: 0.7540 - accuracy: 0.6895 - val_loss: 0.5834 - val_auc: 0.7602 - val_accuracy: 0.6932\n",
      "Epoch 8/300\n",
      "2725/2725 [==============================] - 6s 2ms/step - loss: 0.5867 - auc: 0.7562 - accuracy: 0.6916 - val_loss: 0.5802 - val_auc: 0.7639 - val_accuracy: 0.6978\n",
      "Epoch 9/300\n",
      "2725/2725 [==============================] - 6s 2ms/step - loss: 0.5849 - auc: 0.7582 - accuracy: 0.6936 - val_loss: 0.5798 - val_auc: 0.7635 - val_accuracy: 0.6962\n",
      "Epoch 10/300\n",
      "2725/2725 [==============================] - 6s 2ms/step - loss: 0.5826 - auc: 0.7608 - accuracy: 0.6953 - val_loss: 0.5775 - val_auc: 0.7684 - val_accuracy: 0.7014\n",
      "Epoch 11/300\n",
      "2725/2725 [==============================] - 5s 2ms/step - loss: 0.5811 - auc: 0.7622 - accuracy: 0.6965 - val_loss: 0.5728 - val_auc: 0.7707 - val_accuracy: 0.7033\n",
      "Epoch 12/300\n",
      "2725/2725 [==============================] - 6s 2ms/step - loss: 0.5782 - auc: 0.7653 - accuracy: 0.6993 - val_loss: 0.5718 - val_auc: 0.7717 - val_accuracy: 0.7048\n",
      "Epoch 13/300\n",
      "2725/2725 [==============================] - 6s 2ms/step - loss: 0.5762 - auc: 0.7673 - accuracy: 0.7001 - val_loss: 0.5728 - val_auc: 0.7757 - val_accuracy: 0.7052\n",
      "Epoch 14/300\n",
      "2725/2725 [==============================] - 6s 2ms/step - loss: 0.5740 - auc: 0.7696 - accuracy: 0.7025 - val_loss: 0.5663 - val_auc: 0.7773 - val_accuracy: 0.7059\n",
      "Epoch 15/300\n",
      "2725/2725 [==============================] - 5s 2ms/step - loss: 0.5718 - auc: 0.7718 - accuracy: 0.7046 - val_loss: 0.5651 - val_auc: 0.7787 - val_accuracy: 0.7065\n",
      "Epoch 16/300\n",
      "2725/2725 [==============================] - 6s 2ms/step - loss: 0.5710 - auc: 0.7726 - accuracy: 0.7036 - val_loss: 0.5703 - val_auc: 0.7742 - val_accuracy: 0.7058\n",
      "Epoch 17/300\n",
      "2725/2725 [==============================] - 6s 2ms/step - loss: 0.5688 - auc: 0.7750 - accuracy: 0.7054 - val_loss: 0.5611 - val_auc: 0.7827 - val_accuracy: 0.7106\n",
      "Epoch 18/300\n",
      "2725/2725 [==============================] - 6s 2ms/step - loss: 0.5668 - auc: 0.7769 - accuracy: 0.7066 - val_loss: 0.5642 - val_auc: 0.7852 - val_accuracy: 0.7117\n",
      "Epoch 19/300\n",
      "2725/2725 [==============================] - 6s 2ms/step - loss: 0.5655 - auc: 0.7781 - accuracy: 0.7068 - val_loss: 0.5613 - val_auc: 0.7819 - val_accuracy: 0.7082\n",
      "Epoch 20/300\n",
      "2725/2725 [==============================] - 6s 2ms/step - loss: 0.5638 - auc: 0.7799 - accuracy: 0.7086 - val_loss: 0.5550 - val_auc: 0.7890 - val_accuracy: 0.7146\n",
      "Epoch 21/300\n",
      "2725/2725 [==============================] - 6s 2ms/step - loss: 0.5619 - auc: 0.7814 - accuracy: 0.7093 - val_loss: 0.5580 - val_auc: 0.7863 - val_accuracy: 0.7138\n",
      "Epoch 22/300\n",
      "2725/2725 [==============================] - 6s 2ms/step - loss: 0.5605 - auc: 0.7829 - accuracy: 0.7120 - val_loss: 0.5518 - val_auc: 0.7912 - val_accuracy: 0.7157\n",
      "Epoch 23/300\n",
      "2725/2725 [==============================] - 6s 2ms/step - loss: 0.5592 - auc: 0.7843 - accuracy: 0.7119 - val_loss: 0.5619 - val_auc: 0.7820 - val_accuracy: 0.7090\n",
      "Epoch 24/300\n",
      "2725/2725 [==============================] - 6s 2ms/step - loss: 0.5578 - auc: 0.7855 - accuracy: 0.7128 - val_loss: 0.5499 - val_auc: 0.7926 - val_accuracy: 0.7151\n",
      "Epoch 25/300\n",
      "2725/2725 [==============================] - 6s 2ms/step - loss: 0.5557 - auc: 0.7877 - accuracy: 0.7146 - val_loss: 0.5495 - val_auc: 0.7936 - val_accuracy: 0.7170\n",
      "Epoch 26/300\n",
      "2725/2725 [==============================] - 6s 2ms/step - loss: 0.5552 - auc: 0.7880 - accuracy: 0.7143 - val_loss: 0.5468 - val_auc: 0.7959 - val_accuracy: 0.7204\n",
      "Epoch 27/300\n",
      "2725/2725 [==============================] - 6s 2ms/step - loss: 0.5542 - auc: 0.7888 - accuracy: 0.7156 - val_loss: 0.5483 - val_auc: 0.7939 - val_accuracy: 0.7183\n",
      "Epoch 28/300\n",
      "2725/2725 [==============================] - 6s 2ms/step - loss: 0.5520 - auc: 0.7909 - accuracy: 0.7174 - val_loss: 0.5442 - val_auc: 0.7977 - val_accuracy: 0.7178\n",
      "Epoch 29/300\n",
      "2725/2725 [==============================] - 6s 2ms/step - loss: 0.5512 - auc: 0.7917 - accuracy: 0.7182 - val_loss: 0.5438 - val_auc: 0.7987 - val_accuracy: 0.7230\n",
      "Epoch 30/300\n",
      "2725/2725 [==============================] - 6s 2ms/step - loss: 0.5499 - auc: 0.7929 - accuracy: 0.7186 - val_loss: 0.5411 - val_auc: 0.8019 - val_accuracy: 0.7243\n",
      "Epoch 31/300\n",
      "2725/2725 [==============================] - 6s 2ms/step - loss: 0.5492 - auc: 0.7935 - accuracy: 0.7194 - val_loss: 0.5410 - val_auc: 0.8015 - val_accuracy: 0.7227\n",
      "Epoch 32/300\n",
      "2725/2725 [==============================] - 6s 2ms/step - loss: 0.5478 - auc: 0.7947 - accuracy: 0.7194 - val_loss: 0.5394 - val_auc: 0.8023 - val_accuracy: 0.7247\n",
      "Epoch 33/300\n",
      "2725/2725 [==============================] - 6s 2ms/step - loss: 0.5464 - auc: 0.7961 - accuracy: 0.7218 - val_loss: 0.5408 - val_auc: 0.8024 - val_accuracy: 0.7252\n",
      "Epoch 34/300\n",
      "2725/2725 [==============================] - 6s 2ms/step - loss: 0.5451 - auc: 0.7972 - accuracy: 0.7216 - val_loss: 0.5382 - val_auc: 0.8032 - val_accuracy: 0.7238\n",
      "Epoch 35/300\n",
      "2725/2725 [==============================] - 6s 2ms/step - loss: 0.5442 - auc: 0.7980 - accuracy: 0.7218 - val_loss: 0.5390 - val_auc: 0.8023 - val_accuracy: 0.7258\n",
      "Epoch 36/300\n",
      "2725/2725 [==============================] - 6s 2ms/step - loss: 0.5430 - auc: 0.7991 - accuracy: 0.7236 - val_loss: 0.5374 - val_auc: 0.8041 - val_accuracy: 0.7254\n",
      "Epoch 37/300\n",
      "2725/2725 [==============================] - 6s 2ms/step - loss: 0.5419 - auc: 0.7999 - accuracy: 0.7241 - val_loss: 0.5327 - val_auc: 0.8085 - val_accuracy: 0.7303\n",
      "Epoch 38/300\n",
      "2725/2725 [==============================] - 6s 2ms/step - loss: 0.5415 - auc: 0.8004 - accuracy: 0.7244 - val_loss: 0.5358 - val_auc: 0.8060 - val_accuracy: 0.7281\n",
      "Epoch 39/300\n",
      "2725/2725 [==============================] - 6s 2ms/step - loss: 0.5407 - auc: 0.8011 - accuracy: 0.7239 - val_loss: 0.5300 - val_auc: 0.8108 - val_accuracy: 0.7322\n",
      "Epoch 40/300\n",
      "2725/2725 [==============================] - 6s 2ms/step - loss: 0.5398 - auc: 0.8018 - accuracy: 0.7252 - val_loss: 0.5340 - val_auc: 0.8067 - val_accuracy: 0.7271\n",
      "Epoch 41/300\n",
      "2725/2725 [==============================] - 6s 2ms/step - loss: 0.5387 - auc: 0.8028 - accuracy: 0.7265 - val_loss: 0.5320 - val_auc: 0.8091 - val_accuracy: 0.7294\n",
      "Epoch 42/300\n",
      "2725/2725 [==============================] - 6s 2ms/step - loss: 0.5376 - auc: 0.8038 - accuracy: 0.7271 - val_loss: 0.5351 - val_auc: 0.8075 - val_accuracy: 0.7312\n",
      "Epoch 43/300\n",
      "2725/2725 [==============================] - 6s 2ms/step - loss: 0.5365 - auc: 0.8050 - accuracy: 0.7285 - val_loss: 0.5295 - val_auc: 0.8113 - val_accuracy: 0.7333\n",
      "Epoch 44/300\n",
      "2725/2725 [==============================] - 6s 2ms/step - loss: 0.5358 - auc: 0.8054 - accuracy: 0.7275 - val_loss: 0.5286 - val_auc: 0.8116 - val_accuracy: 0.7328\n",
      "Epoch 45/300\n",
      "2725/2725 [==============================] - 6s 2ms/step - loss: 0.5358 - auc: 0.8052 - accuracy: 0.7281 - val_loss: 0.5313 - val_auc: 0.8089 - val_accuracy: 0.7295\n",
      "Epoch 46/300\n",
      "2725/2725 [==============================] - 6s 2ms/step - loss: 0.5345 - auc: 0.8063 - accuracy: 0.7287 - val_loss: 0.5291 - val_auc: 0.8120 - val_accuracy: 0.7345\n",
      "Epoch 47/300\n",
      "2725/2725 [==============================] - 6s 2ms/step - loss: 0.5338 - auc: 0.8072 - accuracy: 0.7295 - val_loss: 0.5267 - val_auc: 0.8134 - val_accuracy: 0.7336\n",
      "Epoch 48/300\n",
      "2725/2725 [==============================] - 6s 2ms/step - loss: 0.5326 - auc: 0.8083 - accuracy: 0.7310 - val_loss: 0.5268 - val_auc: 0.8130 - val_accuracy: 0.7315\n",
      "Epoch 49/300\n",
      "2725/2725 [==============================] - 6s 2ms/step - loss: 0.5317 - auc: 0.8090 - accuracy: 0.7320 - val_loss: 0.5270 - val_auc: 0.8138 - val_accuracy: 0.7348\n",
      "Epoch 50/300\n",
      "2725/2725 [==============================] - 7s 2ms/step - loss: 0.5311 - auc: 0.8095 - accuracy: 0.7326 - val_loss: 0.5251 - val_auc: 0.8148 - val_accuracy: 0.7357\n",
      "Epoch 51/300\n",
      "2725/2725 [==============================] - 6s 2ms/step - loss: 0.5297 - auc: 0.8107 - accuracy: 0.7333 - val_loss: 0.5259 - val_auc: 0.8143 - val_accuracy: 0.7336\n",
      "Epoch 52/300\n",
      "2725/2725 [==============================] - 6s 2ms/step - loss: 0.5290 - auc: 0.8113 - accuracy: 0.7341 - val_loss: 0.5226 - val_auc: 0.8166 - val_accuracy: 0.7370\n",
      "Epoch 53/300\n",
      "2725/2725 [==============================] - 6s 2ms/step - loss: 0.5284 - auc: 0.8116 - accuracy: 0.7336 - val_loss: 0.5218 - val_auc: 0.8176 - val_accuracy: 0.7363\n",
      "Epoch 54/300\n",
      "2725/2725 [==============================] - 5s 2ms/step - loss: 0.5284 - auc: 0.8117 - accuracy: 0.7334 - val_loss: 0.5215 - val_auc: 0.8176 - val_accuracy: 0.7378\n",
      "Epoch 55/300\n",
      "2725/2725 [==============================] - 6s 2ms/step - loss: 0.5274 - auc: 0.8126 - accuracy: 0.7346 - val_loss: 0.5217 - val_auc: 0.8179 - val_accuracy: 0.7378\n",
      "Epoch 56/300\n",
      "2725/2725 [==============================] - 6s 2ms/step - loss: 0.5255 - auc: 0.8141 - accuracy: 0.7355 - val_loss: 0.5202 - val_auc: 0.8187 - val_accuracy: 0.7384\n",
      "Epoch 57/300\n",
      "2725/2725 [==============================] - 6s 2ms/step - loss: 0.5253 - auc: 0.8142 - accuracy: 0.7352 - val_loss: 0.5201 - val_auc: 0.8187 - val_accuracy: 0.7394\n",
      "Epoch 58/300\n",
      "2725/2725 [==============================] - 6s 2ms/step - loss: 0.5255 - auc: 0.8143 - accuracy: 0.7355 - val_loss: 0.5197 - val_auc: 0.8189 - val_accuracy: 0.7375\n",
      "Epoch 59/300\n",
      "2725/2725 [==============================] - 6s 2ms/step - loss: 0.5249 - auc: 0.8146 - accuracy: 0.7354 - val_loss: 0.5156 - val_auc: 0.8227 - val_accuracy: 0.7424\n",
      "Epoch 60/300\n",
      "2725/2725 [==============================] - 6s 2ms/step - loss: 0.5236 - auc: 0.8157 - accuracy: 0.7368 - val_loss: 0.5193 - val_auc: 0.8208 - val_accuracy: 0.7416\n",
      "Epoch 61/300\n",
      "2725/2725 [==============================] - 6s 2ms/step - loss: 0.5229 - auc: 0.8164 - accuracy: 0.7369 - val_loss: 0.5157 - val_auc: 0.8226 - val_accuracy: 0.7425\n",
      "Epoch 62/300\n",
      "2725/2725 [==============================] - 6s 2ms/step - loss: 0.5229 - auc: 0.8164 - accuracy: 0.7378 - val_loss: 0.5181 - val_auc: 0.8203 - val_accuracy: 0.7395\n",
      "Epoch 63/300\n",
      "2725/2725 [==============================] - 6s 2ms/step - loss: 0.5225 - auc: 0.8166 - accuracy: 0.7375 - val_loss: 0.5178 - val_auc: 0.8207 - val_accuracy: 0.7390\n",
      "Epoch 64/300\n",
      "2725/2725 [==============================] - 5s 2ms/step - loss: 0.5213 - auc: 0.8177 - accuracy: 0.7389 - val_loss: 0.5154 - val_auc: 0.8224 - val_accuracy: 0.7403\n",
      "Epoch 65/300\n",
      "2725/2725 [==============================] - 6s 2ms/step - loss: 0.5211 - auc: 0.8179 - accuracy: 0.7386 - val_loss: 0.5168 - val_auc: 0.8215 - val_accuracy: 0.7402\n",
      "Epoch 66/300\n",
      "2725/2725 [==============================] - 6s 2ms/step - loss: 0.5202 - auc: 0.8186 - accuracy: 0.7393 - val_loss: 0.5166 - val_auc: 0.8222 - val_accuracy: 0.7431\n",
      "Epoch 67/300\n",
      "2725/2725 [==============================] - 6s 2ms/step - loss: 0.5201 - auc: 0.8185 - accuracy: 0.7391 - val_loss: 0.5128 - val_auc: 0.8250 - val_accuracy: 0.7430\n",
      "Epoch 68/300\n",
      "2725/2725 [==============================] - 6s 2ms/step - loss: 0.5191 - auc: 0.8193 - accuracy: 0.7398 - val_loss: 0.5153 - val_auc: 0.8234 - val_accuracy: 0.7435\n",
      "Epoch 69/300\n",
      "2725/2725 [==============================] - 6s 2ms/step - loss: 0.5185 - auc: 0.8199 - accuracy: 0.7396 - val_loss: 0.5154 - val_auc: 0.8230 - val_accuracy: 0.7442\n",
      "Epoch 70/300\n",
      "2725/2725 [==============================] - 6s 2ms/step - loss: 0.5187 - auc: 0.8199 - accuracy: 0.7403 - val_loss: 0.5132 - val_auc: 0.8246 - val_accuracy: 0.7416\n",
      "Epoch 71/300\n",
      "2725/2725 [==============================] - 6s 2ms/step - loss: 0.5179 - auc: 0.8204 - accuracy: 0.7407 - val_loss: 0.5132 - val_auc: 0.8249 - val_accuracy: 0.7440\n",
      "Epoch 72/300\n",
      "2725/2725 [==============================] - 6s 2ms/step - loss: 0.5170 - auc: 0.8209 - accuracy: 0.7403 - val_loss: 0.5104 - val_auc: 0.8266 - val_accuracy: 0.7433\n",
      "Epoch 73/300\n",
      "2725/2725 [==============================] - 6s 2ms/step - loss: 0.5168 - auc: 0.8212 - accuracy: 0.7422 - val_loss: 0.5111 - val_auc: 0.8262 - val_accuracy: 0.7458\n",
      "Epoch 74/300\n",
      "2725/2725 [==============================] - 6s 2ms/step - loss: 0.5156 - auc: 0.8222 - accuracy: 0.7426 - val_loss: 0.5101 - val_auc: 0.8270 - val_accuracy: 0.7461\n",
      "Epoch 75/300\n",
      "2725/2725 [==============================] - 6s 2ms/step - loss: 0.5155 - auc: 0.8222 - accuracy: 0.7416 - val_loss: 0.5119 - val_auc: 0.8254 - val_accuracy: 0.7446\n",
      "Epoch 76/300\n",
      "2725/2725 [==============================] - 6s 2ms/step - loss: 0.5157 - auc: 0.8220 - accuracy: 0.7421 - val_loss: 0.5099 - val_auc: 0.8268 - val_accuracy: 0.7447\n",
      "Epoch 77/300\n",
      "2725/2725 [==============================] - 6s 2ms/step - loss: 0.5154 - auc: 0.8223 - accuracy: 0.7413 - val_loss: 0.5114 - val_auc: 0.8256 - val_accuracy: 0.7446\n",
      "Epoch 78/300\n",
      "2725/2725 [==============================] - 6s 2ms/step - loss: 0.5151 - auc: 0.8226 - accuracy: 0.7421 - val_loss: 0.5097 - val_auc: 0.8274 - val_accuracy: 0.7484\n",
      "Epoch 79/300\n",
      "2725/2725 [==============================] - 7s 2ms/step - loss: 0.5141 - auc: 0.8234 - accuracy: 0.7436 - val_loss: 0.5099 - val_auc: 0.8278 - val_accuracy: 0.7469\n",
      "Epoch 80/300\n",
      "2725/2725 [==============================] - 6s 2ms/step - loss: 0.5132 - auc: 0.8241 - accuracy: 0.7436 - val_loss: 0.5089 - val_auc: 0.8280 - val_accuracy: 0.7468\n",
      "Epoch 81/300\n",
      "2725/2725 [==============================] - 6s 2ms/step - loss: 0.5128 - auc: 0.8243 - accuracy: 0.7435 - val_loss: 0.5092 - val_auc: 0.8282 - val_accuracy: 0.7478\n",
      "Epoch 82/300\n",
      "2725/2725 [==============================] - 6s 2ms/step - loss: 0.5122 - auc: 0.8249 - accuracy: 0.7448 - val_loss: 0.5095 - val_auc: 0.8274 - val_accuracy: 0.7465\n",
      "Epoch 83/300\n",
      "2725/2725 [==============================] - 6s 2ms/step - loss: 0.5118 - auc: 0.8250 - accuracy: 0.7445 - val_loss: 0.5071 - val_auc: 0.8291 - val_accuracy: 0.7470\n",
      "Epoch 84/300\n",
      "2725/2725 [==============================] - 6s 2ms/step - loss: 0.5120 - auc: 0.8249 - accuracy: 0.7443 - val_loss: 0.5077 - val_auc: 0.8288 - val_accuracy: 0.7487\n",
      "Epoch 85/300\n",
      "2725/2725 [==============================] - 6s 2ms/step - loss: 0.5118 - auc: 0.8250 - accuracy: 0.7446 - val_loss: 0.5068 - val_auc: 0.8302 - val_accuracy: 0.7489\n",
      "Epoch 86/300\n",
      "2725/2725 [==============================] - 6s 2ms/step - loss: 0.5112 - auc: 0.8255 - accuracy: 0.7453 - val_loss: 0.5063 - val_auc: 0.8297 - val_accuracy: 0.7473\n",
      "Epoch 87/300\n",
      "2725/2725 [==============================] - 6s 2ms/step - loss: 0.5102 - auc: 0.8263 - accuracy: 0.7452 - val_loss: 0.5093 - val_auc: 0.8285 - val_accuracy: 0.7497\n",
      "Epoch 88/300\n",
      "2725/2725 [==============================] - 6s 2ms/step - loss: 0.5098 - auc: 0.8266 - accuracy: 0.7457 - val_loss: 0.5044 - val_auc: 0.8313 - val_accuracy: 0.7493\n",
      "Epoch 89/300\n",
      "2725/2725 [==============================] - 6s 2ms/step - loss: 0.5099 - auc: 0.8266 - accuracy: 0.7453 - val_loss: 0.5046 - val_auc: 0.8312 - val_accuracy: 0.7499\n",
      "Epoch 90/300\n",
      "2725/2725 [==============================] - 6s 2ms/step - loss: 0.5087 - auc: 0.8276 - accuracy: 0.7466 - val_loss: 0.5067 - val_auc: 0.8295 - val_accuracy: 0.7478\n",
      "Epoch 91/300\n",
      "2725/2725 [==============================] - 6s 2ms/step - loss: 0.5090 - auc: 0.8275 - accuracy: 0.7453 - val_loss: 0.5049 - val_auc: 0.8309 - val_accuracy: 0.7489\n",
      "Epoch 92/300\n",
      "2725/2725 [==============================] - 6s 2ms/step - loss: 0.5085 - auc: 0.8278 - accuracy: 0.7472 - val_loss: 0.5070 - val_auc: 0.8292 - val_accuracy: 0.7478\n",
      "Epoch 93/300\n",
      "2725/2725 [==============================] - 6s 2ms/step - loss: 0.5087 - auc: 0.8275 - accuracy: 0.7465 - val_loss: 0.5064 - val_auc: 0.8305 - val_accuracy: 0.7501\n",
      "Epoch 94/300\n",
      "2725/2725 [==============================] - 6s 2ms/step - loss: 0.5076 - auc: 0.8284 - accuracy: 0.7468 - val_loss: 0.5041 - val_auc: 0.8326 - val_accuracy: 0.7518\n",
      "Epoch 95/300\n",
      "2725/2725 [==============================] - 6s 2ms/step - loss: 0.5071 - auc: 0.8290 - accuracy: 0.7479 - val_loss: 0.5023 - val_auc: 0.8331 - val_accuracy: 0.7504\n",
      "Epoch 96/300\n",
      "2725/2725 [==============================] - 6s 2ms/step - loss: 0.5068 - auc: 0.8291 - accuracy: 0.7482 - val_loss: 0.5032 - val_auc: 0.8326 - val_accuracy: 0.7523\n",
      "Epoch 97/300\n",
      "2725/2725 [==============================] - 6s 2ms/step - loss: 0.5071 - auc: 0.8286 - accuracy: 0.7467 - val_loss: 0.5064 - val_auc: 0.8295 - val_accuracy: 0.7485\n",
      "Epoch 98/300\n",
      "2725/2725 [==============================] - 6s 2ms/step - loss: 0.5058 - auc: 0.8300 - accuracy: 0.7490 - val_loss: 0.5028 - val_auc: 0.8323 - val_accuracy: 0.7483\n",
      "Epoch 99/300\n",
      "2725/2725 [==============================] - 6s 2ms/step - loss: 0.5066 - auc: 0.8292 - accuracy: 0.7477 - val_loss: 0.4999 - val_auc: 0.8352 - val_accuracy: 0.7527\n",
      "Epoch 100/300\n",
      "2725/2725 [==============================] - 6s 2ms/step - loss: 0.5054 - auc: 0.8301 - accuracy: 0.7479 - val_loss: 0.5007 - val_auc: 0.8346 - val_accuracy: 0.7537\n",
      "Epoch 101/300\n",
      "2725/2725 [==============================] - 6s 2ms/step - loss: 0.5055 - auc: 0.8300 - accuracy: 0.7492 - val_loss: 0.5050 - val_auc: 0.8304 - val_accuracy: 0.7480\n",
      "Epoch 102/300\n",
      "2725/2725 [==============================] - 6s 2ms/step - loss: 0.5050 - auc: 0.8304 - accuracy: 0.7487 - val_loss: 0.5039 - val_auc: 0.8317 - val_accuracy: 0.7510\n",
      "Epoch 103/300\n",
      "2725/2725 [==============================] - 6s 2ms/step - loss: 0.5043 - auc: 0.8305 - accuracy: 0.7489 - val_loss: 0.5012 - val_auc: 0.8339 - val_accuracy: 0.7516\n",
      "Epoch 104/300\n",
      "2725/2725 [==============================] - 6s 2ms/step - loss: 0.5041 - auc: 0.8312 - accuracy: 0.7487 - val_loss: 0.5042 - val_auc: 0.8315 - val_accuracy: 0.7492\n",
      "Epoch 105/300\n",
      "2725/2725 [==============================] - 6s 2ms/step - loss: 0.5042 - auc: 0.8309 - accuracy: 0.7493 - val_loss: 0.5013 - val_auc: 0.8339 - val_accuracy: 0.7506\n",
      "Epoch 106/300\n",
      "2725/2725 [==============================] - 6s 2ms/step - loss: 0.5039 - auc: 0.8310 - accuracy: 0.7488 - val_loss: 0.5004 - val_auc: 0.8346 - val_accuracy: 0.7537\n",
      "Epoch 107/300\n",
      "2725/2725 [==============================] - 6s 2ms/step - loss: 0.5028 - auc: 0.8320 - accuracy: 0.7496 - val_loss: 0.4988 - val_auc: 0.8357 - val_accuracy: 0.7527\n",
      "Epoch 108/300\n",
      "2725/2725 [==============================] - 6s 2ms/step - loss: 0.5032 - auc: 0.8318 - accuracy: 0.7495 - val_loss: 0.5022 - val_auc: 0.8333 - val_accuracy: 0.7512\n",
      "Epoch 109/300\n",
      "2725/2725 [==============================] - 6s 2ms/step - loss: 0.5025 - auc: 0.8323 - accuracy: 0.7496 - val_loss: 0.4976 - val_auc: 0.8367 - val_accuracy: 0.7547\n",
      "Epoch 110/300\n",
      "2725/2725 [==============================] - 6s 2ms/step - loss: 0.5015 - auc: 0.8331 - accuracy: 0.7508 - val_loss: 0.5014 - val_auc: 0.8335 - val_accuracy: 0.7527\n",
      "Epoch 111/300\n",
      "2725/2725 [==============================] - 6s 2ms/step - loss: 0.5018 - auc: 0.8328 - accuracy: 0.7505 - val_loss: 0.4977 - val_auc: 0.8359 - val_accuracy: 0.7520\n",
      "Epoch 112/300\n",
      "2725/2725 [==============================] - 6s 2ms/step - loss: 0.5022 - auc: 0.8323 - accuracy: 0.7493 - val_loss: 0.4970 - val_auc: 0.8368 - val_accuracy: 0.7552\n",
      "Epoch 113/300\n",
      "2725/2725 [==============================] - 6s 2ms/step - loss: 0.5008 - auc: 0.8334 - accuracy: 0.7509 - val_loss: 0.4986 - val_auc: 0.8358 - val_accuracy: 0.7543\n",
      "Epoch 114/300\n",
      "2725/2725 [==============================] - 6s 2ms/step - loss: 0.5011 - auc: 0.8331 - accuracy: 0.7500 - val_loss: 0.4990 - val_auc: 0.8357 - val_accuracy: 0.7546\n",
      "Epoch 115/300\n",
      "2725/2725 [==============================] - 6s 2ms/step - loss: 0.5013 - auc: 0.8333 - accuracy: 0.7517 - val_loss: 0.4996 - val_auc: 0.8353 - val_accuracy: 0.7515\n",
      "Epoch 116/300\n",
      "2725/2725 [==============================] - 6s 2ms/step - loss: 0.5011 - auc: 0.8331 - accuracy: 0.7508 - val_loss: 0.4972 - val_auc: 0.8372 - val_accuracy: 0.7566\n",
      "Epoch 117/300\n",
      "2725/2725 [==============================] - 6s 2ms/step - loss: 0.4996 - auc: 0.8345 - accuracy: 0.7520 - val_loss: 0.4963 - val_auc: 0.8374 - val_accuracy: 0.7544\n",
      "Epoch 118/300\n",
      "2725/2725 [==============================] - 6s 2ms/step - loss: 0.4994 - auc: 0.8348 - accuracy: 0.7527 - val_loss: 0.4996 - val_auc: 0.8350 - val_accuracy: 0.7517\n",
      "Epoch 119/300\n",
      "2725/2725 [==============================] - 6s 2ms/step - loss: 0.4999 - auc: 0.8341 - accuracy: 0.7514 - val_loss: 0.4962 - val_auc: 0.8375 - val_accuracy: 0.7543\n",
      "Epoch 120/300\n",
      "2725/2725 [==============================] - 6s 2ms/step - loss: 0.4999 - auc: 0.8345 - accuracy: 0.7525 - val_loss: 0.4965 - val_auc: 0.8375 - val_accuracy: 0.7552\n",
      "Epoch 121/300\n",
      "2725/2725 [==============================] - 6s 2ms/step - loss: 0.4986 - auc: 0.8351 - accuracy: 0.7525 - val_loss: 0.4986 - val_auc: 0.8367 - val_accuracy: 0.7544\n",
      "Epoch 122/300\n",
      "2725/2725 [==============================] - 6s 2ms/step - loss: 0.4982 - auc: 0.8356 - accuracy: 0.7526 - val_loss: 0.4957 - val_auc: 0.8382 - val_accuracy: 0.7552\n",
      "Epoch 123/300\n",
      "2725/2725 [==============================] - 6s 2ms/step - loss: 0.4983 - auc: 0.8353 - accuracy: 0.7529 - val_loss: 0.4961 - val_auc: 0.8377 - val_accuracy: 0.7563\n",
      "Epoch 124/300\n",
      "2725/2725 [==============================] - 6s 2ms/step - loss: 0.4974 - auc: 0.8360 - accuracy: 0.7530 - val_loss: 0.4993 - val_auc: 0.8360 - val_accuracy: 0.7545\n",
      "Epoch 125/300\n",
      "2725/2725 [==============================] - 6s 2ms/step - loss: 0.4979 - auc: 0.8357 - accuracy: 0.7533 - val_loss: 0.4952 - val_auc: 0.8381 - val_accuracy: 0.7545\n",
      "Epoch 126/300\n",
      "2725/2725 [==============================] - 6s 2ms/step - loss: 0.4987 - auc: 0.8352 - accuracy: 0.7524 - val_loss: 0.4967 - val_auc: 0.8374 - val_accuracy: 0.7552\n",
      "Epoch 127/300\n",
      "2725/2725 [==============================] - 6s 2ms/step - loss: 0.4977 - auc: 0.8359 - accuracy: 0.7533 - val_loss: 0.4983 - val_auc: 0.8355 - val_accuracy: 0.7540\n",
      "Epoch 128/300\n",
      "2725/2725 [==============================] - 6s 2ms/step - loss: 0.4967 - auc: 0.8365 - accuracy: 0.7537 - val_loss: 0.4959 - val_auc: 0.8380 - val_accuracy: 0.7555\n",
      "Epoch 129/300\n",
      "2725/2725 [==============================] - 6s 2ms/step - loss: 0.4969 - auc: 0.8363 - accuracy: 0.7537 - val_loss: 0.4934 - val_auc: 0.8395 - val_accuracy: 0.7571\n",
      "Epoch 130/300\n",
      "2725/2725 [==============================] - 6s 2ms/step - loss: 0.4965 - auc: 0.8369 - accuracy: 0.7534 - val_loss: 0.4980 - val_auc: 0.8359 - val_accuracy: 0.7524\n",
      "Epoch 131/300\n",
      "2725/2725 [==============================] - 6s 2ms/step - loss: 0.4962 - auc: 0.8369 - accuracy: 0.7537 - val_loss: 0.4947 - val_auc: 0.8387 - val_accuracy: 0.7565\n",
      "Epoch 132/300\n",
      "2725/2725 [==============================] - 6s 2ms/step - loss: 0.4965 - auc: 0.8369 - accuracy: 0.7544 - val_loss: 0.4948 - val_auc: 0.8382 - val_accuracy: 0.7564\n",
      "Epoch 133/300\n",
      "2725/2725 [==============================] - 6s 2ms/step - loss: 0.4952 - auc: 0.8375 - accuracy: 0.7540 - val_loss: 0.4937 - val_auc: 0.8396 - val_accuracy: 0.7567\n",
      "Epoch 134/300\n",
      "2725/2725 [==============================] - 6s 2ms/step - loss: 0.4953 - auc: 0.8377 - accuracy: 0.7548 - val_loss: 0.4949 - val_auc: 0.8384 - val_accuracy: 0.7551\n",
      "Epoch 135/300\n",
      "2725/2725 [==============================] - 6s 2ms/step - loss: 0.4954 - auc: 0.8376 - accuracy: 0.7544 - val_loss: 0.5032 - val_auc: 0.8334 - val_accuracy: 0.7530\n",
      "Epoch 136/300\n",
      "2725/2725 [==============================] - 7s 2ms/step - loss: 0.4961 - auc: 0.8372 - accuracy: 0.7544 - val_loss: 0.4948 - val_auc: 0.8383 - val_accuracy: 0.7565\n",
      "Epoch 137/300\n",
      "2725/2725 [==============================] - 6s 2ms/step - loss: 0.4942 - auc: 0.8385 - accuracy: 0.7557 - val_loss: 0.4930 - val_auc: 0.8398 - val_accuracy: 0.7585\n",
      "Epoch 138/300\n",
      "2725/2725 [==============================] - 6s 2ms/step - loss: 0.4947 - auc: 0.8381 - accuracy: 0.7551 - val_loss: 0.4925 - val_auc: 0.8403 - val_accuracy: 0.7569\n",
      "Epoch 139/300\n",
      "2725/2725 [==============================] - 6s 2ms/step - loss: 0.4943 - auc: 0.8385 - accuracy: 0.7556 - val_loss: 0.4955 - val_auc: 0.8384 - val_accuracy: 0.7584\n",
      "Epoch 140/300\n",
      "2725/2725 [==============================] - 6s 2ms/step - loss: 0.4941 - auc: 0.8386 - accuracy: 0.7558 - val_loss: 0.4904 - val_auc: 0.8418 - val_accuracy: 0.7583\n",
      "Epoch 141/300\n",
      "2725/2725 [==============================] - 6s 2ms/step - loss: 0.4942 - auc: 0.8383 - accuracy: 0.7549 - val_loss: 0.4910 - val_auc: 0.8418 - val_accuracy: 0.7587\n",
      "Epoch 142/300\n",
      "2725/2725 [==============================] - 6s 2ms/step - loss: 0.4932 - auc: 0.8393 - accuracy: 0.7562 - val_loss: 0.4942 - val_auc: 0.8390 - val_accuracy: 0.7558\n",
      "Epoch 143/300\n",
      "2725/2725 [==============================] - 6s 2ms/step - loss: 0.4939 - auc: 0.8387 - accuracy: 0.7557 - val_loss: 0.4927 - val_auc: 0.8400 - val_accuracy: 0.7582\n",
      "Epoch 144/300\n",
      "2725/2725 [==============================] - 6s 2ms/step - loss: 0.4936 - auc: 0.8387 - accuracy: 0.7546 - val_loss: 0.4940 - val_auc: 0.8399 - val_accuracy: 0.7580\n",
      "Epoch 145/300\n",
      "2725/2725 [==============================] - 6s 2ms/step - loss: 0.4929 - auc: 0.8396 - accuracy: 0.7563 - val_loss: 0.4922 - val_auc: 0.8404 - val_accuracy: 0.7565\n",
      "Epoch 146/300\n",
      "2725/2725 [==============================] - 6s 2ms/step - loss: 0.4920 - auc: 0.8403 - accuracy: 0.7572 - val_loss: 0.4892 - val_auc: 0.8425 - val_accuracy: 0.7580\n",
      "Epoch 147/300\n",
      "2725/2725 [==============================] - 6s 2ms/step - loss: 0.4926 - auc: 0.8396 - accuracy: 0.7569 - val_loss: 0.4957 - val_auc: 0.8384 - val_accuracy: 0.7554\n",
      "Epoch 148/300\n",
      "2725/2725 [==============================] - 7s 2ms/step - loss: 0.4928 - auc: 0.8395 - accuracy: 0.7557 - val_loss: 0.4912 - val_auc: 0.8414 - val_accuracy: 0.7578\n",
      "Epoch 149/300\n",
      "2725/2725 [==============================] - 7s 2ms/step - loss: 0.4923 - auc: 0.8396 - accuracy: 0.7557 - val_loss: 0.4913 - val_auc: 0.8409 - val_accuracy: 0.7577\n",
      "Epoch 150/300\n",
      "2725/2725 [==============================] - 6s 2ms/step - loss: 0.4912 - auc: 0.8406 - accuracy: 0.7572 - val_loss: 0.4900 - val_auc: 0.8422 - val_accuracy: 0.7590\n",
      "Epoch 151/300\n",
      "2725/2725 [==============================] - 7s 2ms/step - loss: 0.4924 - auc: 0.8399 - accuracy: 0.7565 - val_loss: 0.4907 - val_auc: 0.8417 - val_accuracy: 0.7588\n",
      "Epoch 152/300\n",
      "2725/2725 [==============================] - 6s 2ms/step - loss: 0.4910 - auc: 0.8408 - accuracy: 0.7568 - val_loss: 0.4939 - val_auc: 0.8394 - val_accuracy: 0.7575\n",
      "Epoch 153/300\n",
      "2725/2725 [==============================] - 7s 2ms/step - loss: 0.4920 - auc: 0.8402 - accuracy: 0.7570 - val_loss: 0.4933 - val_auc: 0.8398 - val_accuracy: 0.7570\n",
      "Epoch 154/300\n",
      "2725/2725 [==============================] - 6s 2ms/step - loss: 0.4910 - auc: 0.8409 - accuracy: 0.7575 - val_loss: 0.4911 - val_auc: 0.8411 - val_accuracy: 0.7585\n",
      "Epoch 155/300\n",
      "2725/2725 [==============================] - 6s 2ms/step - loss: 0.4908 - auc: 0.8412 - accuracy: 0.7581 - val_loss: 0.4917 - val_auc: 0.8411 - val_accuracy: 0.7588\n",
      "Epoch 156/300\n",
      "2725/2725 [==============================] - 6s 2ms/step - loss: 0.4908 - auc: 0.8409 - accuracy: 0.7584 - val_loss: 0.4933 - val_auc: 0.8395 - val_accuracy: 0.7563\n",
      "Epoch 157/300\n",
      "2725/2725 [==============================] - 6s 2ms/step - loss: 0.4905 - auc: 0.8412 - accuracy: 0.7572 - val_loss: 0.4882 - val_auc: 0.8432 - val_accuracy: 0.7593\n",
      "Epoch 158/300\n",
      "2725/2725 [==============================] - 6s 2ms/step - loss: 0.4907 - auc: 0.8410 - accuracy: 0.7571 - val_loss: 0.4911 - val_auc: 0.8412 - val_accuracy: 0.7575\n",
      "Epoch 159/300\n",
      "2725/2725 [==============================] - 6s 2ms/step - loss: 0.4905 - auc: 0.8412 - accuracy: 0.7580 - val_loss: 0.4916 - val_auc: 0.8407 - val_accuracy: 0.7580\n",
      "Epoch 160/300\n",
      "2725/2725 [==============================] - 6s 2ms/step - loss: 0.4896 - auc: 0.8418 - accuracy: 0.7582 - val_loss: 0.4883 - val_auc: 0.8434 - val_accuracy: 0.7616\n",
      "Epoch 161/300\n",
      "2725/2725 [==============================] - 6s 2ms/step - loss: 0.4899 - auc: 0.8417 - accuracy: 0.7583 - val_loss: 0.4911 - val_auc: 0.8416 - val_accuracy: 0.7596\n",
      "Epoch 162/300\n",
      "2725/2725 [==============================] - 6s 2ms/step - loss: 0.4893 - auc: 0.8419 - accuracy: 0.7584 - val_loss: 0.4919 - val_auc: 0.8405 - val_accuracy: 0.7552\n",
      "Epoch 163/300\n",
      "2725/2725 [==============================] - 6s 2ms/step - loss: 0.4897 - auc: 0.8419 - accuracy: 0.7591 - val_loss: 0.4926 - val_auc: 0.8403 - val_accuracy: 0.7564\n",
      "Epoch 164/300\n",
      "2725/2725 [==============================] - 7s 2ms/step - loss: 0.4888 - auc: 0.8424 - accuracy: 0.7592 - val_loss: 0.4882 - val_auc: 0.8432 - val_accuracy: 0.7598\n",
      "Epoch 165/300\n",
      "2725/2725 [==============================] - 6s 2ms/step - loss: 0.4893 - auc: 0.8420 - accuracy: 0.7581 - val_loss: 0.4906 - val_auc: 0.8418 - val_accuracy: 0.7592\n",
      "Epoch 166/300\n",
      "2725/2725 [==============================] - 6s 2ms/step - loss: 0.4898 - auc: 0.8417 - accuracy: 0.7571 - val_loss: 0.4888 - val_auc: 0.8427 - val_accuracy: 0.7598\n",
      "Epoch 167/300\n",
      "2725/2725 [==============================] - 6s 2ms/step - loss: 0.4884 - auc: 0.8428 - accuracy: 0.7588 - val_loss: 0.4877 - val_auc: 0.8435 - val_accuracy: 0.7596\n",
      "Epoch 168/300\n",
      "2725/2725 [==============================] - 6s 2ms/step - loss: 0.4886 - auc: 0.8424 - accuracy: 0.7589 - val_loss: 0.4850 - val_auc: 0.8456 - val_accuracy: 0.7624\n",
      "Epoch 169/300\n",
      "2725/2725 [==============================] - 7s 3ms/step - loss: 0.4882 - auc: 0.8427 - accuracy: 0.7588 - val_loss: 0.4909 - val_auc: 0.8416 - val_accuracy: 0.7573\n",
      "Epoch 170/300\n",
      "2725/2725 [==============================] - 6s 2ms/step - loss: 0.4884 - auc: 0.8428 - accuracy: 0.7588 - val_loss: 0.4888 - val_auc: 0.8433 - val_accuracy: 0.7608\n",
      "Epoch 171/300\n",
      "2725/2725 [==============================] - 6s 2ms/step - loss: 0.4880 - auc: 0.8429 - accuracy: 0.7587 - val_loss: 0.4894 - val_auc: 0.8425 - val_accuracy: 0.7600\n",
      "Epoch 172/300\n",
      "2725/2725 [==============================] - 7s 3ms/step - loss: 0.4883 - auc: 0.8428 - accuracy: 0.7587 - val_loss: 0.4868 - val_auc: 0.8444 - val_accuracy: 0.7609\n",
      "Epoch 173/300\n",
      "2725/2725 [==============================] - 6s 2ms/step - loss: 0.4875 - auc: 0.8433 - accuracy: 0.7590 - val_loss: 0.4880 - val_auc: 0.8435 - val_accuracy: 0.7607\n",
      "Epoch 174/300\n",
      "2725/2725 [==============================] - 7s 3ms/step - loss: 0.4880 - auc: 0.8430 - accuracy: 0.7591 - val_loss: 0.4906 - val_auc: 0.8421 - val_accuracy: 0.7602\n",
      "Epoch 175/300\n",
      "2725/2725 [==============================] - 6s 2ms/step - loss: 0.4870 - auc: 0.8436 - accuracy: 0.7599 - val_loss: 0.4874 - val_auc: 0.8441 - val_accuracy: 0.7612\n",
      "Epoch 176/300\n",
      "2725/2725 [==============================] - 6s 2ms/step - loss: 0.4871 - auc: 0.8437 - accuracy: 0.7597 - val_loss: 0.4877 - val_auc: 0.8438 - val_accuracy: 0.7605\n",
      "Epoch 177/300\n",
      "2725/2725 [==============================] - 6s 2ms/step - loss: 0.4867 - auc: 0.8440 - accuracy: 0.7601 - val_loss: 0.4876 - val_auc: 0.8437 - val_accuracy: 0.7606\n",
      "Epoch 178/300\n",
      "2725/2725 [==============================] - 7s 2ms/step - loss: 0.4865 - auc: 0.8439 - accuracy: 0.7593 - val_loss: 0.4877 - val_auc: 0.8435 - val_accuracy: 0.7591\n",
      "Epoch 179/300\n",
      "2725/2725 [==============================] - 7s 2ms/step - loss: 0.4871 - auc: 0.8438 - accuracy: 0.7601 - val_loss: 0.4928 - val_auc: 0.8402 - val_accuracy: 0.7575\n",
      "Epoch 180/300\n",
      "2725/2725 [==============================] - 7s 2ms/step - loss: 0.4881 - auc: 0.8430 - accuracy: 0.7598 - val_loss: 0.4878 - val_auc: 0.8438 - val_accuracy: 0.7600\n",
      "Epoch 181/300\n",
      "2725/2725 [==============================] - 6s 2ms/step - loss: 0.4868 - auc: 0.8441 - accuracy: 0.7604 - val_loss: 0.4858 - val_auc: 0.8455 - val_accuracy: 0.7643\n",
      "Epoch 182/300\n",
      "2725/2725 [==============================] - 6s 2ms/step - loss: 0.4852 - auc: 0.8449 - accuracy: 0.7610 - val_loss: 0.4855 - val_auc: 0.8455 - val_accuracy: 0.7627\n",
      "Epoch 183/300\n",
      "2725/2725 [==============================] - 6s 2ms/step - loss: 0.4870 - auc: 0.8437 - accuracy: 0.7595 - val_loss: 0.4907 - val_auc: 0.8415 - val_accuracy: 0.7576\n",
      "Epoch 184/300\n",
      "2725/2725 [==============================] - 7s 2ms/step - loss: 0.4858 - auc: 0.8447 - accuracy: 0.7609 - val_loss: 0.4841 - val_auc: 0.8463 - val_accuracy: 0.7642\n",
      "Epoch 185/300\n",
      "2725/2725 [==============================] - 6s 2ms/step - loss: 0.4865 - auc: 0.8441 - accuracy: 0.7603 - val_loss: 0.4899 - val_auc: 0.8428 - val_accuracy: 0.7602\n",
      "Epoch 186/300\n",
      "2725/2725 [==============================] - 6s 2ms/step - loss: 0.4855 - auc: 0.8449 - accuracy: 0.7622 - val_loss: 0.4859 - val_auc: 0.8455 - val_accuracy: 0.7633\n",
      "Epoch 187/300\n",
      "2725/2725 [==============================] - 6s 2ms/step - loss: 0.4853 - auc: 0.8450 - accuracy: 0.7616 - val_loss: 0.4885 - val_auc: 0.8431 - val_accuracy: 0.7582\n",
      "Epoch 188/300\n",
      "2725/2725 [==============================] - 6s 2ms/step - loss: 0.4857 - auc: 0.8447 - accuracy: 0.7600 - val_loss: 0.4858 - val_auc: 0.8452 - val_accuracy: 0.7620\n",
      "Epoch 189/300\n",
      "2725/2725 [==============================] - 6s 2ms/step - loss: 0.4851 - auc: 0.8452 - accuracy: 0.7614 - val_loss: 0.4880 - val_auc: 0.8443 - val_accuracy: 0.7622\n",
      "Epoch 190/300\n",
      "2725/2725 [==============================] - 6s 2ms/step - loss: 0.4854 - auc: 0.8448 - accuracy: 0.7613 - val_loss: 0.4893 - val_auc: 0.8426 - val_accuracy: 0.7579\n",
      "Epoch 191/300\n",
      "2725/2725 [==============================] - 6s 2ms/step - loss: 0.4847 - auc: 0.8454 - accuracy: 0.7615 - val_loss: 0.4844 - val_auc: 0.8462 - val_accuracy: 0.7629\n",
      "Epoch 192/300\n",
      "2725/2725 [==============================] - 6s 2ms/step - loss: 0.4849 - auc: 0.8453 - accuracy: 0.7606 - val_loss: 0.4879 - val_auc: 0.8441 - val_accuracy: 0.7598\n",
      "Epoch 193/300\n",
      "2725/2725 [==============================] - 6s 2ms/step - loss: 0.4850 - auc: 0.8454 - accuracy: 0.7610 - val_loss: 0.4867 - val_auc: 0.8447 - val_accuracy: 0.7615\n",
      "Epoch 194/300\n",
      "2725/2725 [==============================] - 6s 2ms/step - loss: 0.4849 - auc: 0.8454 - accuracy: 0.7609 - val_loss: 0.4851 - val_auc: 0.8458 - val_accuracy: 0.7633\n",
      "Epoch 195/300\n",
      "2725/2725 [==============================] - 6s 2ms/step - loss: 0.4849 - auc: 0.8454 - accuracy: 0.7623 - val_loss: 0.4904 - val_auc: 0.8420 - val_accuracy: 0.7599\n",
      "Epoch 196/300\n",
      "2725/2725 [==============================] - 6s 2ms/step - loss: 0.4834 - auc: 0.8463 - accuracy: 0.7621 - val_loss: 0.4882 - val_auc: 0.8441 - val_accuracy: 0.7614\n",
      "Epoch 197/300\n",
      "2725/2725 [==============================] - 6s 2ms/step - loss: 0.4841 - auc: 0.8458 - accuracy: 0.7621 - val_loss: 0.4861 - val_auc: 0.8460 - val_accuracy: 0.7652\n",
      "Epoch 198/300\n",
      "2725/2725 [==============================] - 6s 2ms/step - loss: 0.4840 - auc: 0.8459 - accuracy: 0.7618 - val_loss: 0.4862 - val_auc: 0.8446 - val_accuracy: 0.7614\n",
      "Epoch 199/300\n",
      "2725/2725 [==============================] - 6s 2ms/step - loss: 0.4836 - auc: 0.8463 - accuracy: 0.7618 - val_loss: 0.4872 - val_auc: 0.8440 - val_accuracy: 0.7602\n",
      "Epoch 200/300\n",
      "2725/2725 [==============================] - 6s 2ms/step - loss: 0.4836 - auc: 0.8463 - accuracy: 0.7620 - val_loss: 0.4833 - val_auc: 0.8470 - val_accuracy: 0.7633\n",
      "Epoch 201/300\n",
      "2725/2725 [==============================] - 6s 2ms/step - loss: 0.4835 - auc: 0.8464 - accuracy: 0.7629 - val_loss: 0.4856 - val_auc: 0.8450 - val_accuracy: 0.7622\n",
      "Epoch 202/300\n",
      "2725/2725 [==============================] - 6s 2ms/step - loss: 0.4839 - auc: 0.8461 - accuracy: 0.7625 - val_loss: 0.4858 - val_auc: 0.8449 - val_accuracy: 0.7604\n",
      "Epoch 203/300\n",
      "2725/2725 [==============================] - 6s 2ms/step - loss: 0.4835 - auc: 0.8463 - accuracy: 0.7630 - val_loss: 0.4867 - val_auc: 0.8445 - val_accuracy: 0.7620\n",
      "Epoch 204/300\n",
      "2725/2725 [==============================] - 6s 2ms/step - loss: 0.4838 - auc: 0.8461 - accuracy: 0.7615 - val_loss: 0.4857 - val_auc: 0.8452 - val_accuracy: 0.7622\n",
      "Epoch 205/300\n",
      "2725/2725 [==============================] - 6s 2ms/step - loss: 0.4833 - auc: 0.8462 - accuracy: 0.7619 - val_loss: 0.4829 - val_auc: 0.8472 - val_accuracy: 0.7646\n",
      "Epoch 206/300\n",
      "2725/2725 [==============================] - 6s 2ms/step - loss: 0.4833 - auc: 0.8464 - accuracy: 0.7627 - val_loss: 0.4836 - val_auc: 0.8469 - val_accuracy: 0.7635\n",
      "Epoch 207/300\n",
      "2725/2725 [==============================] - 6s 2ms/step - loss: 0.4822 - auc: 0.8473 - accuracy: 0.7626 - val_loss: 0.4844 - val_auc: 0.8461 - val_accuracy: 0.7612\n",
      "Epoch 208/300\n",
      "2725/2725 [==============================] - 6s 2ms/step - loss: 0.4839 - auc: 0.8460 - accuracy: 0.7614 - val_loss: 0.4857 - val_auc: 0.8451 - val_accuracy: 0.7618\n",
      "Epoch 209/300\n",
      "2725/2725 [==============================] - 6s 2ms/step - loss: 0.4833 - auc: 0.8464 - accuracy: 0.7626 - val_loss: 0.4831 - val_auc: 0.8471 - val_accuracy: 0.7624\n",
      "Epoch 210/300\n",
      "2725/2725 [==============================] - 6s 2ms/step - loss: 0.4822 - auc: 0.8473 - accuracy: 0.7629 - val_loss: 0.4875 - val_auc: 0.8441 - val_accuracy: 0.7610\n",
      "Epoch 211/300\n",
      "2725/2725 [==============================] - 6s 2ms/step - loss: 0.4830 - auc: 0.8464 - accuracy: 0.7618 - val_loss: 0.4838 - val_auc: 0.8470 - val_accuracy: 0.7649\n",
      "Epoch 212/300\n",
      "2725/2725 [==============================] - 6s 2ms/step - loss: 0.4828 - auc: 0.8467 - accuracy: 0.7626 - val_loss: 0.4855 - val_auc: 0.8454 - val_accuracy: 0.7633\n",
      "Epoch 213/300\n",
      "2725/2725 [==============================] - 6s 2ms/step - loss: 0.4827 - auc: 0.8468 - accuracy: 0.7625 - val_loss: 0.4863 - val_auc: 0.8446 - val_accuracy: 0.7594\n",
      "Epoch 214/300\n",
      "2725/2725 [==============================] - 6s 2ms/step - loss: 0.4820 - auc: 0.8474 - accuracy: 0.7633 - val_loss: 0.4847 - val_auc: 0.8465 - val_accuracy: 0.7647\n",
      "Epoch 215/300\n",
      "2725/2725 [==============================] - 6s 2ms/step - loss: 0.4811 - auc: 0.8479 - accuracy: 0.7632 - val_loss: 0.4816 - val_auc: 0.8483 - val_accuracy: 0.7647\n",
      "Epoch 216/300\n",
      "2725/2725 [==============================] - 6s 2ms/step - loss: 0.4816 - auc: 0.8477 - accuracy: 0.7633 - val_loss: 0.4830 - val_auc: 0.8471 - val_accuracy: 0.7639\n",
      "Epoch 217/300\n",
      "2725/2725 [==============================] - 6s 2ms/step - loss: 0.4820 - auc: 0.8474 - accuracy: 0.7635 - val_loss: 0.4830 - val_auc: 0.8472 - val_accuracy: 0.7652\n",
      "Epoch 218/300\n",
      "2725/2725 [==============================] - 6s 2ms/step - loss: 0.4827 - auc: 0.8469 - accuracy: 0.7627 - val_loss: 0.4827 - val_auc: 0.8477 - val_accuracy: 0.7648\n",
      "Epoch 219/300\n",
      "2725/2725 [==============================] - 6s 2ms/step - loss: 0.4820 - auc: 0.8475 - accuracy: 0.7637 - val_loss: 0.4850 - val_auc: 0.8457 - val_accuracy: 0.7624\n",
      "Epoch 220/300\n",
      "2725/2725 [==============================] - 6s 2ms/step - loss: 0.4815 - auc: 0.8476 - accuracy: 0.7625 - val_loss: 0.4853 - val_auc: 0.8455 - val_accuracy: 0.7627\n",
      "Epoch 221/300\n",
      "2725/2725 [==============================] - 7s 2ms/step - loss: 0.4819 - auc: 0.8474 - accuracy: 0.7634 - val_loss: 0.4863 - val_auc: 0.8450 - val_accuracy: 0.7620\n",
      "Epoch 222/300\n",
      "2725/2725 [==============================] - 7s 2ms/step - loss: 0.4820 - auc: 0.8471 - accuracy: 0.7626 - val_loss: 0.4857 - val_auc: 0.8455 - val_accuracy: 0.7631\n",
      "Epoch 223/300\n",
      "2725/2725 [==============================] - 6s 2ms/step - loss: 0.4817 - auc: 0.8476 - accuracy: 0.7634 - val_loss: 0.4851 - val_auc: 0.8459 - val_accuracy: 0.7626\n",
      "Epoch 224/300\n",
      "2725/2725 [==============================] - 6s 2ms/step - loss: 0.4819 - auc: 0.8474 - accuracy: 0.7633 - val_loss: 0.4817 - val_auc: 0.8484 - val_accuracy: 0.7655\n",
      "Epoch 225/300\n",
      "2725/2725 [==============================] - 6s 2ms/step - loss: 0.4814 - auc: 0.8479 - accuracy: 0.7642 - val_loss: 0.4826 - val_auc: 0.8478 - val_accuracy: 0.7656\n",
      "Epoch 226/300\n",
      "2725/2725 [==============================] - 6s 2ms/step - loss: 0.4807 - auc: 0.8483 - accuracy: 0.7639 - val_loss: 0.4834 - val_auc: 0.8470 - val_accuracy: 0.7644\n",
      "Epoch 227/300\n",
      "2725/2725 [==============================] - 6s 2ms/step - loss: 0.4808 - auc: 0.8482 - accuracy: 0.7631 - val_loss: 0.4840 - val_auc: 0.8466 - val_accuracy: 0.7630\n",
      "Epoch 228/300\n",
      "2725/2725 [==============================] - 7s 2ms/step - loss: 0.4810 - auc: 0.8479 - accuracy: 0.7638 - val_loss: 0.4833 - val_auc: 0.8471 - val_accuracy: 0.7618\n",
      "Epoch 229/300\n",
      "2725/2725 [==============================] - 7s 2ms/step - loss: 0.4805 - auc: 0.8481 - accuracy: 0.7634 - val_loss: 0.4850 - val_auc: 0.8460 - val_accuracy: 0.7633\n",
      "Epoch 230/300\n",
      "2725/2725 [==============================] - 7s 2ms/step - loss: 0.4802 - auc: 0.8486 - accuracy: 0.7644 - val_loss: 0.4833 - val_auc: 0.8471 - val_accuracy: 0.7630\n",
      "Epoch 231/300\n",
      "2725/2725 [==============================] - 7s 2ms/step - loss: 0.4796 - auc: 0.8491 - accuracy: 0.7658 - val_loss: 0.4863 - val_auc: 0.8448 - val_accuracy: 0.7625\n",
      "Epoch 232/300\n",
      "2725/2725 [==============================] - 6s 2ms/step - loss: 0.4801 - auc: 0.8487 - accuracy: 0.7635 - val_loss: 0.4835 - val_auc: 0.8469 - val_accuracy: 0.7654\n",
      "Epoch 233/300\n",
      "2725/2725 [==============================] - 6s 2ms/step - loss: 0.4800 - auc: 0.8487 - accuracy: 0.7641 - val_loss: 0.4841 - val_auc: 0.8462 - val_accuracy: 0.7637\n",
      "Epoch 234/300\n",
      "2725/2725 [==============================] - 6s 2ms/step - loss: 0.4802 - auc: 0.8487 - accuracy: 0.7647 - val_loss: 0.4805 - val_auc: 0.8489 - val_accuracy: 0.7641\n",
      "Epoch 235/300\n",
      "2725/2725 [==============================] - 6s 2ms/step - loss: 0.4803 - auc: 0.8486 - accuracy: 0.7650 - val_loss: 0.4861 - val_auc: 0.8450 - val_accuracy: 0.7619\n",
      "Epoch 236/300\n",
      "2725/2725 [==============================] - 6s 2ms/step - loss: 0.4807 - auc: 0.8484 - accuracy: 0.7647 - val_loss: 0.4859 - val_auc: 0.8448 - val_accuracy: 0.7609\n",
      "Epoch 237/300\n",
      "2725/2725 [==============================] - 6s 2ms/step - loss: 0.4799 - auc: 0.8489 - accuracy: 0.7646 - val_loss: 0.4836 - val_auc: 0.8468 - val_accuracy: 0.7648\n",
      "Epoch 238/300\n",
      "2725/2725 [==============================] - 6s 2ms/step - loss: 0.4803 - auc: 0.8486 - accuracy: 0.7647 - val_loss: 0.4826 - val_auc: 0.8479 - val_accuracy: 0.7662\n",
      "Epoch 239/300\n",
      "2725/2725 [==============================] - 6s 2ms/step - loss: 0.4792 - auc: 0.8494 - accuracy: 0.7654 - val_loss: 0.4817 - val_auc: 0.8488 - val_accuracy: 0.7655\n",
      "Epoch 240/300\n",
      "2725/2725 [==============================] - 6s 2ms/step - loss: 0.4798 - auc: 0.8489 - accuracy: 0.7638 - val_loss: 0.4823 - val_auc: 0.8479 - val_accuracy: 0.7650\n",
      "Epoch 241/300\n",
      "2725/2725 [==============================] - 6s 2ms/step - loss: 0.4791 - auc: 0.8493 - accuracy: 0.7651 - val_loss: 0.4860 - val_auc: 0.8453 - val_accuracy: 0.7626\n",
      "Epoch 242/300\n",
      "2725/2725 [==============================] - 6s 2ms/step - loss: 0.4786 - auc: 0.8498 - accuracy: 0.7655 - val_loss: 0.4826 - val_auc: 0.8475 - val_accuracy: 0.7613\n",
      "Epoch 243/300\n",
      "2725/2725 [==============================] - 6s 2ms/step - loss: 0.4794 - auc: 0.8491 - accuracy: 0.7646 - val_loss: 0.4863 - val_auc: 0.8446 - val_accuracy: 0.7617\n",
      "Epoch 244/300\n",
      "2725/2725 [==============================] - 6s 2ms/step - loss: 0.4797 - auc: 0.8491 - accuracy: 0.7648 - val_loss: 0.4855 - val_auc: 0.8455 - val_accuracy: 0.7617\n",
      "Epoch 245/300\n",
      "2725/2725 [==============================] - 6s 2ms/step - loss: 0.4795 - auc: 0.8491 - accuracy: 0.7646 - val_loss: 0.4825 - val_auc: 0.8476 - val_accuracy: 0.7643\n",
      "Epoch 246/300\n",
      "2725/2725 [==============================] - 6s 2ms/step - loss: 0.4782 - auc: 0.8499 - accuracy: 0.7657 - val_loss: 0.4820 - val_auc: 0.8483 - val_accuracy: 0.7652\n",
      "Epoch 247/300\n",
      "2725/2725 [==============================] - 6s 2ms/step - loss: 0.4791 - auc: 0.8494 - accuracy: 0.7650 - val_loss: 0.4814 - val_auc: 0.8485 - val_accuracy: 0.7648\n",
      "Epoch 248/300\n",
      "2725/2725 [==============================] - 6s 2ms/step - loss: 0.4784 - auc: 0.8498 - accuracy: 0.7652 - val_loss: 0.4806 - val_auc: 0.8494 - val_accuracy: 0.7684\n",
      "Epoch 249/300\n",
      "2725/2725 [==============================] - 6s 2ms/step - loss: 0.4774 - auc: 0.8505 - accuracy: 0.7660 - val_loss: 0.4832 - val_auc: 0.8471 - val_accuracy: 0.7635\n",
      "Epoch 250/300\n",
      "2725/2725 [==============================] - 6s 2ms/step - loss: 0.4788 - auc: 0.8496 - accuracy: 0.7651 - val_loss: 0.4815 - val_auc: 0.8487 - val_accuracy: 0.7677\n",
      "Epoch 251/300\n",
      "2725/2725 [==============================] - 6s 2ms/step - loss: 0.4783 - auc: 0.8500 - accuracy: 0.7659 - val_loss: 0.4808 - val_auc: 0.8489 - val_accuracy: 0.7676\n",
      "Epoch 252/300\n",
      "2725/2725 [==============================] - 6s 2ms/step - loss: 0.4780 - auc: 0.8501 - accuracy: 0.7656 - val_loss: 0.4851 - val_auc: 0.8459 - val_accuracy: 0.7622\n",
      "Epoch 253/300\n",
      "2725/2725 [==============================] - 6s 2ms/step - loss: 0.4787 - auc: 0.8496 - accuracy: 0.7655 - val_loss: 0.4829 - val_auc: 0.8477 - val_accuracy: 0.7659\n",
      "Epoch 254/300\n",
      "2725/2725 [==============================] - 6s 2ms/step - loss: 0.4778 - auc: 0.8503 - accuracy: 0.7661 - val_loss: 0.4841 - val_auc: 0.8464 - val_accuracy: 0.7614\n",
      "Epoch 255/300\n",
      "2725/2725 [==============================] - 6s 2ms/step - loss: 0.4779 - auc: 0.8503 - accuracy: 0.7660 - val_loss: 0.4848 - val_auc: 0.8460 - val_accuracy: 0.7648\n",
      "Epoch 256/300\n",
      "2725/2725 [==============================] - 6s 2ms/step - loss: 0.4777 - auc: 0.8504 - accuracy: 0.7659 - val_loss: 0.4820 - val_auc: 0.8481 - val_accuracy: 0.7632\n",
      "Epoch 257/300\n",
      "2725/2725 [==============================] - 6s 2ms/step - loss: 0.4770 - auc: 0.8508 - accuracy: 0.7665 - val_loss: 0.4793 - val_auc: 0.8498 - val_accuracy: 0.7655\n",
      "Epoch 258/300\n",
      "2725/2725 [==============================] - 6s 2ms/step - loss: 0.4783 - auc: 0.8500 - accuracy: 0.7656 - val_loss: 0.4825 - val_auc: 0.8477 - val_accuracy: 0.7643\n",
      "Epoch 259/300\n",
      "2725/2725 [==============================] - 6s 2ms/step - loss: 0.4781 - auc: 0.8499 - accuracy: 0.7655 - val_loss: 0.4834 - val_auc: 0.8472 - val_accuracy: 0.7623\n",
      "Epoch 260/300\n",
      "2725/2725 [==============================] - 7s 2ms/step - loss: 0.4773 - auc: 0.8507 - accuracy: 0.7661 - val_loss: 0.4815 - val_auc: 0.8485 - val_accuracy: 0.7657\n",
      "Epoch 261/300\n",
      "2725/2725 [==============================] - 6s 2ms/step - loss: 0.4786 - auc: 0.8497 - accuracy: 0.7656 - val_loss: 0.4823 - val_auc: 0.8482 - val_accuracy: 0.7662\n",
      "Epoch 262/300\n",
      "2725/2725 [==============================] - 6s 2ms/step - loss: 0.4767 - auc: 0.8510 - accuracy: 0.7662 - val_loss: 0.4810 - val_auc: 0.8488 - val_accuracy: 0.7644\n",
      "Epoch 263/300\n",
      "2725/2725 [==============================] - 6s 2ms/step - loss: 0.4779 - auc: 0.8501 - accuracy: 0.7648 - val_loss: 0.4810 - val_auc: 0.8487 - val_accuracy: 0.7654\n",
      "Epoch 264/300\n",
      "2725/2725 [==============================] - 6s 2ms/step - loss: 0.4773 - auc: 0.8506 - accuracy: 0.7660 - val_loss: 0.4816 - val_auc: 0.8483 - val_accuracy: 0.7659\n",
      "Epoch 265/300\n",
      "2725/2725 [==============================] - 6s 2ms/step - loss: 0.4766 - auc: 0.8511 - accuracy: 0.7666 - val_loss: 0.4813 - val_auc: 0.8486 - val_accuracy: 0.7639\n",
      "Epoch 266/300\n",
      "2725/2725 [==============================] - 6s 2ms/step - loss: 0.4768 - auc: 0.8510 - accuracy: 0.7662 - val_loss: 0.4789 - val_auc: 0.8502 - val_accuracy: 0.7683\n",
      "Epoch 267/300\n",
      "2725/2725 [==============================] - 6s 2ms/step - loss: 0.4755 - auc: 0.8518 - accuracy: 0.7669 - val_loss: 0.4813 - val_auc: 0.8485 - val_accuracy: 0.7640\n",
      "Epoch 268/300\n",
      "2725/2725 [==============================] - 6s 2ms/step - loss: 0.4763 - auc: 0.8515 - accuracy: 0.7679 - val_loss: 0.4830 - val_auc: 0.8476 - val_accuracy: 0.7666\n",
      "Epoch 269/300\n",
      "2725/2725 [==============================] - 6s 2ms/step - loss: 0.4761 - auc: 0.8514 - accuracy: 0.7664 - val_loss: 0.4850 - val_auc: 0.8462 - val_accuracy: 0.7636\n",
      "Epoch 270/300\n",
      "2725/2725 [==============================] - 6s 2ms/step - loss: 0.4771 - auc: 0.8508 - accuracy: 0.7658 - val_loss: 0.4815 - val_auc: 0.8487 - val_accuracy: 0.7653\n",
      "Epoch 271/300\n",
      "2725/2725 [==============================] - 6s 2ms/step - loss: 0.4765 - auc: 0.8512 - accuracy: 0.7672 - val_loss: 0.4829 - val_auc: 0.8470 - val_accuracy: 0.7635\n",
      "Epoch 272/300\n",
      "2725/2725 [==============================] - 6s 2ms/step - loss: 0.4763 - auc: 0.8512 - accuracy: 0.7659 - val_loss: 0.4805 - val_auc: 0.8494 - val_accuracy: 0.7660\n",
      "Epoch 273/300\n",
      "2725/2725 [==============================] - 6s 2ms/step - loss: 0.4771 - auc: 0.8509 - accuracy: 0.7673 - val_loss: 0.4801 - val_auc: 0.8493 - val_accuracy: 0.7656\n",
      "Epoch 274/300\n",
      "2725/2725 [==============================] - 6s 2ms/step - loss: 0.4763 - auc: 0.8513 - accuracy: 0.7668 - val_loss: 0.4839 - val_auc: 0.8470 - val_accuracy: 0.7642\n",
      "Epoch 275/300\n",
      "2725/2725 [==============================] - 6s 2ms/step - loss: 0.4754 - auc: 0.8519 - accuracy: 0.7675 - val_loss: 0.4814 - val_auc: 0.8484 - val_accuracy: 0.7639\n",
      "Epoch 276/300\n",
      "2725/2725 [==============================] - 6s 2ms/step - loss: 0.4759 - auc: 0.8516 - accuracy: 0.7666 - val_loss: 0.4819 - val_auc: 0.8484 - val_accuracy: 0.7647\n",
      "Epoch 277/300\n",
      "2725/2725 [==============================] - 6s 2ms/step - loss: 0.4761 - auc: 0.8515 - accuracy: 0.7672 - val_loss: 0.4800 - val_auc: 0.8492 - val_accuracy: 0.7666\n",
      "Epoch 278/300\n",
      "2725/2725 [==============================] - 6s 2ms/step - loss: 0.4751 - auc: 0.8520 - accuracy: 0.7671 - val_loss: 0.4836 - val_auc: 0.8469 - val_accuracy: 0.7634\n",
      "Epoch 279/300\n",
      "2725/2725 [==============================] - 6s 2ms/step - loss: 0.4755 - auc: 0.8520 - accuracy: 0.7676 - val_loss: 0.4797 - val_auc: 0.8499 - val_accuracy: 0.7649\n",
      "Epoch 280/300\n",
      "2725/2725 [==============================] - 6s 2ms/step - loss: 0.4764 - auc: 0.8513 - accuracy: 0.7663 - val_loss: 0.4846 - val_auc: 0.8467 - val_accuracy: 0.7644\n",
      "Epoch 281/300\n",
      "2725/2725 [==============================] - 6s 2ms/step - loss: 0.4755 - auc: 0.8518 - accuracy: 0.7669 - val_loss: 0.4803 - val_auc: 0.8499 - val_accuracy: 0.7691\n",
      "Epoch 282/300\n",
      "2725/2725 [==============================] - 6s 2ms/step - loss: 0.4764 - auc: 0.8513 - accuracy: 0.7667 - val_loss: 0.4805 - val_auc: 0.8493 - val_accuracy: 0.7648\n",
      "Epoch 283/300\n",
      "2725/2725 [==============================] - 6s 2ms/step - loss: 0.4762 - auc: 0.8514 - accuracy: 0.7665 - val_loss: 0.4809 - val_auc: 0.8492 - val_accuracy: 0.7652\n",
      "Epoch 284/300\n",
      "2725/2725 [==============================] - 6s 2ms/step - loss: 0.4753 - auc: 0.8521 - accuracy: 0.7678 - val_loss: 0.4794 - val_auc: 0.8503 - val_accuracy: 0.7673\n",
      "Epoch 285/300\n",
      "2725/2725 [==============================] - 6s 2ms/step - loss: 0.4751 - auc: 0.8521 - accuracy: 0.7682 - val_loss: 0.4824 - val_auc: 0.8478 - val_accuracy: 0.7638\n",
      "Epoch 286/300\n",
      "2725/2725 [==============================] - 6s 2ms/step - loss: 0.4756 - auc: 0.8517 - accuracy: 0.7673 - val_loss: 0.4776 - val_auc: 0.8511 - val_accuracy: 0.7690\n",
      "Epoch 287/300\n",
      "2725/2725 [==============================] - 6s 2ms/step - loss: 0.4761 - auc: 0.8513 - accuracy: 0.7667 - val_loss: 0.4814 - val_auc: 0.8484 - val_accuracy: 0.7638\n",
      "Epoch 288/300\n",
      "2725/2725 [==============================] - 6s 2ms/step - loss: 0.4749 - auc: 0.8522 - accuracy: 0.7676 - val_loss: 0.4842 - val_auc: 0.8468 - val_accuracy: 0.7628\n",
      "Epoch 289/300\n",
      "2725/2725 [==============================] - 6s 2ms/step - loss: 0.4752 - auc: 0.8522 - accuracy: 0.7679 - val_loss: 0.4808 - val_auc: 0.8488 - val_accuracy: 0.7666\n",
      "Epoch 290/300\n",
      "2725/2725 [==============================] - 6s 2ms/step - loss: 0.4749 - auc: 0.8522 - accuracy: 0.7676 - val_loss: 0.4783 - val_auc: 0.8510 - val_accuracy: 0.7675\n",
      "Epoch 291/300\n",
      "2725/2725 [==============================] - 6s 2ms/step - loss: 0.4762 - auc: 0.8514 - accuracy: 0.7666 - val_loss: 0.4788 - val_auc: 0.8506 - val_accuracy: 0.7680\n",
      "Epoch 292/300\n",
      "2725/2725 [==============================] - 6s 2ms/step - loss: 0.4751 - auc: 0.8520 - accuracy: 0.7670 - val_loss: 0.4789 - val_auc: 0.8505 - val_accuracy: 0.7671\n",
      "Epoch 293/300\n",
      "2725/2725 [==============================] - 6s 2ms/step - loss: 0.4746 - auc: 0.8523 - accuracy: 0.7672 - val_loss: 0.4791 - val_auc: 0.8500 - val_accuracy: 0.7666\n",
      "Epoch 294/300\n",
      "2725/2725 [==============================] - 6s 2ms/step - loss: 0.4749 - auc: 0.8522 - accuracy: 0.7669 - val_loss: 0.4832 - val_auc: 0.8472 - val_accuracy: 0.7625\n",
      "Epoch 295/300\n",
      "2725/2725 [==============================] - 6s 2ms/step - loss: 0.4752 - auc: 0.8520 - accuracy: 0.7670 - val_loss: 0.4805 - val_auc: 0.8490 - val_accuracy: 0.7643\n",
      "Epoch 296/300\n",
      "2725/2725 [==============================] - 6s 2ms/step - loss: 0.4745 - auc: 0.8525 - accuracy: 0.7676 - val_loss: 0.4779 - val_auc: 0.8511 - val_accuracy: 0.7681\n",
      "Epoch 297/300\n",
      "2725/2725 [==============================] - 6s 2ms/step - loss: 0.4736 - auc: 0.8531 - accuracy: 0.7685 - val_loss: 0.4800 - val_auc: 0.8497 - val_accuracy: 0.7664\n",
      "Epoch 298/300\n",
      "2725/2725 [==============================] - 7s 2ms/step - loss: 0.4744 - auc: 0.8526 - accuracy: 0.7680 - val_loss: 0.4800 - val_auc: 0.8500 - val_accuracy: 0.7670\n",
      "Epoch 299/300\n",
      "2725/2725 [==============================] - 7s 2ms/step - loss: 0.4732 - auc: 0.8533 - accuracy: 0.7686 - val_loss: 0.4783 - val_auc: 0.8504 - val_accuracy: 0.7662\n",
      "Epoch 300/300\n",
      "2725/2725 [==============================] - 6s 2ms/step - loss: 0.4744 - auc: 0.8524 - accuracy: 0.7670 - val_loss: 0.4827 - val_auc: 0.8477 - val_accuracy: 0.7663\n"
     ]
    }
   ],
   "source": [
    "with tf.device(\"cpu\"):\n",
    "    history_cls, model_cls = make_cls_model(\n",
    "        Dense(64, activation=\"sigmoid\",input_dim=x_train.shape[1]),\n",
    "        Dropout(0.1),\n",
    "        Dense(32, activation=\"relu\"),\n",
    "        # Dropout(0.1),\n",
    "        Dense(32, activation=\"relu\"),\n",
    "        # Dropout(0.1),\n",
    "        Dense(32, activation=\"relu\"),\n",
    "        last_activation=\"sigmoid\",\n",
    "        x=x_train.values ,y=y_cls_train,\n",
    "        epochs=300,\n",
    "        batch_size=64,\n",
    "        learning_rate=0.001\n",
    "    )"
   ],
   "metadata": {
    "collapsed": false,
    "pycharm": {
     "name": "#%%\n"
    }
   }
  },
  {
   "cell_type": "code",
   "execution_count": 24,
   "outputs": [
    {
     "data": {
      "text/plain": "<Figure size 1224x360 with 3 Axes>",
      "image/png": "[encoded data removed]"
     },
     "metadata": {
      "needs_background": "light"
     },
     "output_type": "display_data"
    }
   ],
   "source": [
    "# Plot history\n",
    "plot_history_cls(history_cls, loss = \"binary_crossentropy\", key1 = 'accuracy', key2 = 'AUC')"
   ],
   "metadata": {
    "collapsed": false,
    "pycharm": {
     "name": "#%%\n"
    }
   }
  },
  {
   "cell_type": "markdown",
   "source": [
    "# Regression Model (how much rain if > 0)\n",
    "source : https://www.analyticsvidhya.com/blog/2021/08/a-walk-through-of-regression-analysis-using-artificial-neural-networks-in-tensorflow/"
   ],
   "metadata": {
    "collapsed": false
   }
  },
  {
   "cell_type": "code",
   "execution_count": 25,
   "outputs": [
    {
     "name": "stderr",
     "output_type": "stream",
     "text": [
      "2022-01-09 21:33:11.661109: W tensorflow/core/framework/cpu_allocator_impl.cc:82] Allocation of 68356568 exceeds 10% of free system memory.\n"
     ]
    },
    {
     "name": "stdout",
     "output_type": "stream",
     "text": [
      "Epoch 1/300\n",
      "2725/2725 [==============================] - 6s 2ms/step - loss: 0.0305 - mean_squared_error: 0.0305 - val_loss: 0.0289 - val_mean_squared_error: 0.0289\n",
      "Epoch 2/300\n",
      "2725/2725 [==============================] - 5s 2ms/step - loss: 0.0294 - mean_squared_error: 0.0294 - val_loss: 0.0284 - val_mean_squared_error: 0.0283\n",
      "Epoch 3/300\n",
      "2725/2725 [==============================] - 5s 2ms/step - loss: 0.0289 - mean_squared_error: 0.0289 - val_loss: 0.0279 - val_mean_squared_error: 0.0279\n",
      "Epoch 4/300\n",
      "2725/2725 [==============================] - 5s 2ms/step - loss: 0.0286 - mean_squared_error: 0.0286 - val_loss: 0.0279 - val_mean_squared_error: 0.0279\n",
      "Epoch 5/300\n",
      "2725/2725 [==============================] - 5s 2ms/step - loss: 0.0283 - mean_squared_error: 0.0283 - val_loss: 0.0273 - val_mean_squared_error: 0.0273\n",
      "Epoch 6/300\n",
      "2725/2725 [==============================] - 5s 2ms/step - loss: 0.0281 - mean_squared_error: 0.0281 - val_loss: 0.0271 - val_mean_squared_error: 0.0271\n",
      "Epoch 7/300\n",
      "2725/2725 [==============================] - 5s 2ms/step - loss: 0.0278 - mean_squared_error: 0.0278 - val_loss: 0.0269 - val_mean_squared_error: 0.0269\n",
      "Epoch 8/300\n",
      "2725/2725 [==============================] - 5s 2ms/step - loss: 0.0277 - mean_squared_error: 0.0277 - val_loss: 0.0267 - val_mean_squared_error: 0.0266\n",
      "Epoch 9/300\n",
      "2725/2725 [==============================] - 5s 2ms/step - loss: 0.0274 - mean_squared_error: 0.0274 - val_loss: 0.0271 - val_mean_squared_error: 0.0271\n",
      "Epoch 10/300\n",
      "2725/2725 [==============================] - 5s 2ms/step - loss: 0.0273 - mean_squared_error: 0.0273 - val_loss: 0.0266 - val_mean_squared_error: 0.0266\n",
      "Epoch 11/300\n",
      "2725/2725 [==============================] - 5s 2ms/step - loss: 0.0271 - mean_squared_error: 0.0271 - val_loss: 0.0267 - val_mean_squared_error: 0.0267\n",
      "Epoch 12/300\n",
      "2725/2725 [==============================] - 5s 2ms/step - loss: 0.0269 - mean_squared_error: 0.0269 - val_loss: 0.0258 - val_mean_squared_error: 0.0258\n",
      "Epoch 13/300\n",
      "2725/2725 [==============================] - 5s 2ms/step - loss: 0.0267 - mean_squared_error: 0.0267 - val_loss: 0.0256 - val_mean_squared_error: 0.0256\n",
      "Epoch 14/300\n",
      "2725/2725 [==============================] - 5s 2ms/step - loss: 0.0265 - mean_squared_error: 0.0265 - val_loss: 0.0256 - val_mean_squared_error: 0.0256\n",
      "Epoch 15/300\n",
      "2725/2725 [==============================] - 5s 2ms/step - loss: 0.0263 - mean_squared_error: 0.0263 - val_loss: 0.0252 - val_mean_squared_error: 0.0252\n",
      "Epoch 16/300\n",
      "2725/2725 [==============================] - 5s 2ms/step - loss: 0.0261 - mean_squared_error: 0.0261 - val_loss: 0.0255 - val_mean_squared_error: 0.0255\n",
      "Epoch 17/300\n",
      "2725/2725 [==============================] - 5s 2ms/step - loss: 0.0262 - mean_squared_error: 0.0262 - val_loss: 0.0254 - val_mean_squared_error: 0.0254\n",
      "Epoch 18/300\n",
      "2725/2725 [==============================] - 5s 2ms/step - loss: 0.0259 - mean_squared_error: 0.0259 - val_loss: 0.0256 - val_mean_squared_error: 0.0256\n",
      "Epoch 19/300\n",
      "2725/2725 [==============================] - 5s 2ms/step - loss: 0.0256 - mean_squared_error: 0.0256 - val_loss: 0.0254 - val_mean_squared_error: 0.0254\n",
      "Epoch 20/300\n",
      "2725/2725 [==============================] - 5s 2ms/step - loss: 0.0255 - mean_squared_error: 0.0255 - val_loss: 0.0246 - val_mean_squared_error: 0.0246\n",
      "Epoch 21/300\n",
      "2725/2725 [==============================] - 5s 2ms/step - loss: 0.0253 - mean_squared_error: 0.0253 - val_loss: 0.0250 - val_mean_squared_error: 0.0250\n",
      "Epoch 22/300\n",
      "2725/2725 [==============================] - 5s 2ms/step - loss: 0.0251 - mean_squared_error: 0.0251 - val_loss: 0.0254 - val_mean_squared_error: 0.0254\n",
      "Epoch 23/300\n",
      "2725/2725 [==============================] - 5s 2ms/step - loss: 0.0251 - mean_squared_error: 0.0251 - val_loss: 0.0242 - val_mean_squared_error: 0.0242\n",
      "Epoch 24/300\n",
      "2725/2725 [==============================] - 5s 2ms/step - loss: 0.0250 - mean_squared_error: 0.0250 - val_loss: 0.0244 - val_mean_squared_error: 0.0244\n",
      "Epoch 25/300\n",
      "2725/2725 [==============================] - 5s 2ms/step - loss: 0.0248 - mean_squared_error: 0.0248 - val_loss: 0.0238 - val_mean_squared_error: 0.0238\n",
      "Epoch 26/300\n",
      "2725/2725 [==============================] - 5s 2ms/step - loss: 0.0246 - mean_squared_error: 0.0246 - val_loss: 0.0236 - val_mean_squared_error: 0.0236\n",
      "Epoch 27/300\n",
      "2725/2725 [==============================] - 5s 2ms/step - loss: 0.0248 - mean_squared_error: 0.0248 - val_loss: 0.0237 - val_mean_squared_error: 0.0237\n",
      "Epoch 28/300\n",
      "2725/2725 [==============================] - 6s 2ms/step - loss: 0.0244 - mean_squared_error: 0.0244 - val_loss: 0.0247 - val_mean_squared_error: 0.0247\n",
      "Epoch 29/300\n",
      "2725/2725 [==============================] - 5s 2ms/step - loss: 0.0244 - mean_squared_error: 0.0244 - val_loss: 0.0237 - val_mean_squared_error: 0.0237\n",
      "Epoch 30/300\n",
      "2725/2725 [==============================] - 5s 2ms/step - loss: 0.0242 - mean_squared_error: 0.0242 - val_loss: 0.0236 - val_mean_squared_error: 0.0236\n",
      "Epoch 31/300\n",
      "2725/2725 [==============================] - 6s 2ms/step - loss: 0.0241 - mean_squared_error: 0.0241 - val_loss: 0.0233 - val_mean_squared_error: 0.0233\n",
      "Epoch 32/300\n",
      "2725/2725 [==============================] - 4s 2ms/step - loss: 0.0248 - mean_squared_error: 0.0248 - val_loss: 0.0245 - val_mean_squared_error: 0.0245\n",
      "Epoch 33/300\n",
      "2725/2725 [==============================] - 5s 2ms/step - loss: 0.0240 - mean_squared_error: 0.0240 - val_loss: 0.0233 - val_mean_squared_error: 0.0233\n",
      "Epoch 34/300\n",
      "2725/2725 [==============================] - 5s 2ms/step - loss: 0.0240 - mean_squared_error: 0.0240 - val_loss: 0.0240 - val_mean_squared_error: 0.0240\n",
      "Epoch 35/300\n",
      "2725/2725 [==============================] - 5s 2ms/step - loss: 0.0237 - mean_squared_error: 0.0237 - val_loss: 0.0237 - val_mean_squared_error: 0.0237\n",
      "Epoch 36/300\n",
      "2725/2725 [==============================] - 5s 2ms/step - loss: 0.0237 - mean_squared_error: 0.0237 - val_loss: 0.0235 - val_mean_squared_error: 0.0235\n",
      "Epoch 37/300\n",
      "2725/2725 [==============================] - 5s 2ms/step - loss: 0.0236 - mean_squared_error: 0.0236 - val_loss: 0.0237 - val_mean_squared_error: 0.0237\n",
      "Epoch 38/300\n",
      "2725/2725 [==============================] - 4s 2ms/step - loss: 0.0236 - mean_squared_error: 0.0236 - val_loss: 0.0229 - val_mean_squared_error: 0.0229\n",
      "Epoch 39/300\n",
      "2725/2725 [==============================] - 5s 2ms/step - loss: 0.0235 - mean_squared_error: 0.0235 - val_loss: 0.0226 - val_mean_squared_error: 0.0226\n",
      "Epoch 40/300\n",
      "2725/2725 [==============================] - 5s 2ms/step - loss: 0.0234 - mean_squared_error: 0.0234 - val_loss: 0.0226 - val_mean_squared_error: 0.0226\n",
      "Epoch 41/300\n",
      "2725/2725 [==============================] - 5s 2ms/step - loss: 0.0238 - mean_squared_error: 0.0238 - val_loss: 0.0230 - val_mean_squared_error: 0.0230\n",
      "Epoch 42/300\n",
      "2725/2725 [==============================] - 5s 2ms/step - loss: 0.0232 - mean_squared_error: 0.0232 - val_loss: 0.0226 - val_mean_squared_error: 0.0226\n",
      "Epoch 43/300\n",
      "2725/2725 [==============================] - 4s 2ms/step - loss: 0.0231 - mean_squared_error: 0.0231 - val_loss: 0.0225 - val_mean_squared_error: 0.0225\n",
      "Epoch 44/300\n",
      "2725/2725 [==============================] - 4s 2ms/step - loss: 0.0230 - mean_squared_error: 0.0230 - val_loss: 0.0222 - val_mean_squared_error: 0.0222\n",
      "Epoch 45/300\n",
      "2725/2725 [==============================] - 4s 2ms/step - loss: 0.0230 - mean_squared_error: 0.0230 - val_loss: 0.0225 - val_mean_squared_error: 0.0225\n",
      "Epoch 46/300\n",
      "2725/2725 [==============================] - 4s 2ms/step - loss: 0.0230 - mean_squared_error: 0.0230 - val_loss: 0.0223 - val_mean_squared_error: 0.0223\n",
      "Epoch 47/300\n",
      "2725/2725 [==============================] - 4s 2ms/step - loss: 0.0228 - mean_squared_error: 0.0228 - val_loss: 0.0224 - val_mean_squared_error: 0.0224\n",
      "Epoch 48/300\n",
      "2725/2725 [==============================] - 5s 2ms/step - loss: 0.0227 - mean_squared_error: 0.0227 - val_loss: 0.0219 - val_mean_squared_error: 0.0219\n",
      "Epoch 49/300\n",
      "2725/2725 [==============================] - 5s 2ms/step - loss: 0.0238 - mean_squared_error: 0.0238 - val_loss: 0.0219 - val_mean_squared_error: 0.0219\n",
      "Epoch 50/300\n",
      "2725/2725 [==============================] - 5s 2ms/step - loss: 0.0225 - mean_squared_error: 0.0225 - val_loss: 0.0221 - val_mean_squared_error: 0.0221\n",
      "Epoch 51/300\n",
      "2725/2725 [==============================] - 4s 2ms/step - loss: 0.0226 - mean_squared_error: 0.0226 - val_loss: 0.0223 - val_mean_squared_error: 0.0223\n",
      "Epoch 52/300\n",
      "2725/2725 [==============================] - 5s 2ms/step - loss: 0.0228 - mean_squared_error: 0.0228 - val_loss: 0.0219 - val_mean_squared_error: 0.0219\n",
      "Epoch 53/300\n",
      "2725/2725 [==============================] - 5s 2ms/step - loss: 0.0224 - mean_squared_error: 0.0224 - val_loss: 0.0216 - val_mean_squared_error: 0.0216\n",
      "Epoch 54/300\n",
      "2725/2725 [==============================] - 4s 2ms/step - loss: 0.0224 - mean_squared_error: 0.0224 - val_loss: 0.0216 - val_mean_squared_error: 0.0216\n",
      "Epoch 55/300\n",
      "2725/2725 [==============================] - 4s 2ms/step - loss: 0.0224 - mean_squared_error: 0.0224 - val_loss: 0.0218 - val_mean_squared_error: 0.0218\n",
      "Epoch 56/300\n",
      "2725/2725 [==============================] - 4s 2ms/step - loss: 0.0224 - mean_squared_error: 0.0224 - val_loss: 0.0215 - val_mean_squared_error: 0.0215\n",
      "Epoch 57/300\n",
      "2725/2725 [==============================] - 4s 2ms/step - loss: 0.0223 - mean_squared_error: 0.0223 - val_loss: 0.0217 - val_mean_squared_error: 0.0217\n",
      "Epoch 58/300\n",
      "2725/2725 [==============================] - 4s 2ms/step - loss: 0.0224 - mean_squared_error: 0.0224 - val_loss: 0.0232 - val_mean_squared_error: 0.0232\n",
      "Epoch 59/300\n",
      "2725/2725 [==============================] - 4s 2ms/step - loss: 0.0221 - mean_squared_error: 0.0221 - val_loss: 0.0216 - val_mean_squared_error: 0.0216\n",
      "Epoch 60/300\n",
      "2725/2725 [==============================] - 5s 2ms/step - loss: 0.0221 - mean_squared_error: 0.0221 - val_loss: 0.0219 - val_mean_squared_error: 0.0219\n",
      "Epoch 61/300\n",
      "2725/2725 [==============================] - 4s 2ms/step - loss: 0.0220 - mean_squared_error: 0.0220 - val_loss: 0.0220 - val_mean_squared_error: 0.0220\n",
      "Epoch 62/300\n",
      "2725/2725 [==============================] - 5s 2ms/step - loss: 0.0220 - mean_squared_error: 0.0220 - val_loss: 0.0215 - val_mean_squared_error: 0.0215\n",
      "Epoch 63/300\n",
      "2725/2725 [==============================] - 4s 2ms/step - loss: 0.0221 - mean_squared_error: 0.0221 - val_loss: 0.0220 - val_mean_squared_error: 0.0220\n",
      "Epoch 64/300\n",
      "2725/2725 [==============================] - 4s 2ms/step - loss: 0.0220 - mean_squared_error: 0.0220 - val_loss: 0.0215 - val_mean_squared_error: 0.0215\n",
      "Epoch 65/300\n",
      "2725/2725 [==============================] - 4s 1ms/step - loss: 0.0219 - mean_squared_error: 0.0219 - val_loss: 0.0216 - val_mean_squared_error: 0.0216\n",
      "Epoch 66/300\n",
      "2725/2725 [==============================] - 4s 2ms/step - loss: 0.0218 - mean_squared_error: 0.0218 - val_loss: 0.0210 - val_mean_squared_error: 0.0210\n",
      "Epoch 67/300\n",
      "2725/2725 [==============================] - 4s 2ms/step - loss: 0.0217 - mean_squared_error: 0.0217 - val_loss: 0.0215 - val_mean_squared_error: 0.0215\n",
      "Epoch 68/300\n",
      "2725/2725 [==============================] - 4s 2ms/step - loss: 0.0219 - mean_squared_error: 0.0219 - val_loss: 0.0211 - val_mean_squared_error: 0.0211\n",
      "Epoch 69/300\n",
      "2725/2725 [==============================] - 4s 2ms/step - loss: 0.0216 - mean_squared_error: 0.0216 - val_loss: 0.0213 - val_mean_squared_error: 0.0213\n",
      "Epoch 70/300\n",
      "2725/2725 [==============================] - 4s 2ms/step - loss: 0.0216 - mean_squared_error: 0.0216 - val_loss: 0.0226 - val_mean_squared_error: 0.0226\n",
      "Epoch 71/300\n",
      "2725/2725 [==============================] - 4s 2ms/step - loss: 0.0217 - mean_squared_error: 0.0217 - val_loss: 0.0210 - val_mean_squared_error: 0.0210\n",
      "Epoch 72/300\n",
      "2725/2725 [==============================] - 4s 1ms/step - loss: 0.0216 - mean_squared_error: 0.0216 - val_loss: 0.0211 - val_mean_squared_error: 0.0211\n",
      "Epoch 73/300\n",
      "2725/2725 [==============================] - 4s 2ms/step - loss: 0.0215 - mean_squared_error: 0.0215 - val_loss: 0.0211 - val_mean_squared_error: 0.0211\n",
      "Epoch 74/300\n",
      "2725/2725 [==============================] - 4s 2ms/step - loss: 0.0215 - mean_squared_error: 0.0215 - val_loss: 0.0209 - val_mean_squared_error: 0.0209\n",
      "Epoch 75/300\n",
      "2725/2725 [==============================] - 4s 2ms/step - loss: 0.0212 - mean_squared_error: 0.0212 - val_loss: 0.0208 - val_mean_squared_error: 0.0208\n",
      "Epoch 76/300\n",
      "2725/2725 [==============================] - 4s 2ms/step - loss: 0.0215 - mean_squared_error: 0.0215 - val_loss: 0.0215 - val_mean_squared_error: 0.0215\n",
      "Epoch 77/300\n",
      "2725/2725 [==============================] - 5s 2ms/step - loss: 0.0213 - mean_squared_error: 0.0213 - val_loss: 0.0214 - val_mean_squared_error: 0.0214\n",
      "Epoch 78/300\n",
      "2725/2725 [==============================] - 4s 2ms/step - loss: 0.0214 - mean_squared_error: 0.0214 - val_loss: 0.0205 - val_mean_squared_error: 0.0205\n",
      "Epoch 79/300\n",
      "2725/2725 [==============================] - 4s 2ms/step - loss: 0.0213 - mean_squared_error: 0.0213 - val_loss: 0.0206 - val_mean_squared_error: 0.0206\n",
      "Epoch 80/300\n",
      "2725/2725 [==============================] - 4s 2ms/step - loss: 0.0211 - mean_squared_error: 0.0211 - val_loss: 0.0206 - val_mean_squared_error: 0.0206\n",
      "Epoch 81/300\n",
      "2725/2725 [==============================] - 4s 2ms/step - loss: 0.0213 - mean_squared_error: 0.0213 - val_loss: 0.0204 - val_mean_squared_error: 0.0204\n",
      "Epoch 82/300\n",
      "2725/2725 [==============================] - 4s 2ms/step - loss: 0.0211 - mean_squared_error: 0.0211 - val_loss: 0.0209 - val_mean_squared_error: 0.0209\n",
      "Epoch 83/300\n",
      "2725/2725 [==============================] - 4s 2ms/step - loss: 0.0220 - mean_squared_error: 0.0220 - val_loss: 0.0211 - val_mean_squared_error: 0.0211\n",
      "Epoch 84/300\n",
      "2725/2725 [==============================] - 4s 2ms/step - loss: 0.0211 - mean_squared_error: 0.0211 - val_loss: 0.0203 - val_mean_squared_error: 0.0203\n",
      "Epoch 85/300\n",
      "2725/2725 [==============================] - 4s 2ms/step - loss: 0.0209 - mean_squared_error: 0.0209 - val_loss: 0.0202 - val_mean_squared_error: 0.0202\n",
      "Epoch 86/300\n",
      "2725/2725 [==============================] - 4s 2ms/step - loss: 0.0209 - mean_squared_error: 0.0209 - val_loss: 0.0215 - val_mean_squared_error: 0.0215\n",
      "Epoch 87/300\n",
      "2725/2725 [==============================] - 4s 2ms/step - loss: 0.0210 - mean_squared_error: 0.0210 - val_loss: 0.0201 - val_mean_squared_error: 0.0201\n",
      "Epoch 88/300\n",
      "2725/2725 [==============================] - 5s 2ms/step - loss: 0.0209 - mean_squared_error: 0.0209 - val_loss: 0.0206 - val_mean_squared_error: 0.0206\n",
      "Epoch 89/300\n",
      "2725/2725 [==============================] - 4s 2ms/step - loss: 0.0208 - mean_squared_error: 0.0208 - val_loss: 0.0209 - val_mean_squared_error: 0.0209\n",
      "Epoch 90/300\n",
      "2725/2725 [==============================] - 4s 2ms/step - loss: 0.0208 - mean_squared_error: 0.0208 - val_loss: 0.0205 - val_mean_squared_error: 0.0205\n",
      "Epoch 91/300\n",
      "2725/2725 [==============================] - 5s 2ms/step - loss: 0.0207 - mean_squared_error: 0.0207 - val_loss: 0.0206 - val_mean_squared_error: 0.0206\n",
      "Epoch 92/300\n",
      "2725/2725 [==============================] - 4s 2ms/step - loss: 0.0207 - mean_squared_error: 0.0207 - val_loss: 0.0203 - val_mean_squared_error: 0.0203\n",
      "Epoch 93/300\n",
      "2725/2725 [==============================] - 4s 2ms/step - loss: 0.0207 - mean_squared_error: 0.0207 - val_loss: 0.0207 - val_mean_squared_error: 0.0206\n",
      "Epoch 94/300\n",
      "2725/2725 [==============================] - 5s 2ms/step - loss: 0.0207 - mean_squared_error: 0.0207 - val_loss: 0.0205 - val_mean_squared_error: 0.0205\n",
      "Epoch 95/300\n",
      "2725/2725 [==============================] - 4s 2ms/step - loss: 0.0208 - mean_squared_error: 0.0208 - val_loss: 0.0209 - val_mean_squared_error: 0.0209\n",
      "Epoch 96/300\n",
      "2725/2725 [==============================] - 4s 2ms/step - loss: 0.0207 - mean_squared_error: 0.0207 - val_loss: 0.0204 - val_mean_squared_error: 0.0204\n",
      "Epoch 97/300\n",
      "2725/2725 [==============================] - 5s 2ms/step - loss: 0.0207 - mean_squared_error: 0.0207 - val_loss: 0.0205 - val_mean_squared_error: 0.0205\n",
      "Epoch 98/300\n",
      "2725/2725 [==============================] - 5s 2ms/step - loss: 0.0206 - mean_squared_error: 0.0206 - val_loss: 0.0217 - val_mean_squared_error: 0.0217\n",
      "Epoch 99/300\n",
      "2725/2725 [==============================] - 5s 2ms/step - loss: 0.0206 - mean_squared_error: 0.0206 - val_loss: 0.0201 - val_mean_squared_error: 0.0201\n",
      "Epoch 100/300\n",
      "2725/2725 [==============================] - 4s 2ms/step - loss: 0.0206 - mean_squared_error: 0.0206 - val_loss: 0.0200 - val_mean_squared_error: 0.0200\n",
      "Epoch 101/300\n",
      "2725/2725 [==============================] - 4s 2ms/step - loss: 0.0205 - mean_squared_error: 0.0205 - val_loss: 0.0200 - val_mean_squared_error: 0.0200\n",
      "Epoch 102/300\n",
      "2725/2725 [==============================] - 4s 2ms/step - loss: 0.0205 - mean_squared_error: 0.0205 - val_loss: 0.0205 - val_mean_squared_error: 0.0205\n",
      "Epoch 103/300\n",
      "2725/2725 [==============================] - 4s 2ms/step - loss: 0.0203 - mean_squared_error: 0.0203 - val_loss: 0.0202 - val_mean_squared_error: 0.0202\n",
      "Epoch 104/300\n",
      "2725/2725 [==============================] - 4s 2ms/step - loss: 0.0204 - mean_squared_error: 0.0204 - val_loss: 0.0199 - val_mean_squared_error: 0.0199\n",
      "Epoch 105/300\n",
      "2725/2725 [==============================] - 4s 2ms/step - loss: 0.0202 - mean_squared_error: 0.0202 - val_loss: 0.0202 - val_mean_squared_error: 0.0202\n",
      "Epoch 106/300\n",
      "2725/2725 [==============================] - 4s 2ms/step - loss: 0.0202 - mean_squared_error: 0.0203 - val_loss: 0.0201 - val_mean_squared_error: 0.0201\n",
      "Epoch 107/300\n",
      "2725/2725 [==============================] - 4s 2ms/step - loss: 0.0203 - mean_squared_error: 0.0203 - val_loss: 0.0213 - val_mean_squared_error: 0.0213\n",
      "Epoch 108/300\n",
      "2725/2725 [==============================] - 4s 2ms/step - loss: 0.0203 - mean_squared_error: 0.0203 - val_loss: 0.0201 - val_mean_squared_error: 0.0201\n",
      "Epoch 109/300\n",
      "2725/2725 [==============================] - 4s 2ms/step - loss: 0.0202 - mean_squared_error: 0.0202 - val_loss: 0.0199 - val_mean_squared_error: 0.0199\n",
      "Epoch 110/300\n",
      "2725/2725 [==============================] - 5s 2ms/step - loss: 0.0201 - mean_squared_error: 0.0201 - val_loss: 0.0201 - val_mean_squared_error: 0.0201\n",
      "Epoch 111/300\n",
      "2725/2725 [==============================] - 4s 2ms/step - loss: 0.0201 - mean_squared_error: 0.0201 - val_loss: 0.0201 - val_mean_squared_error: 0.0201\n",
      "Epoch 112/300\n",
      "2725/2725 [==============================] - 4s 2ms/step - loss: 0.0202 - mean_squared_error: 0.0202 - val_loss: 0.0199 - val_mean_squared_error: 0.0199\n",
      "Epoch 113/300\n",
      "2725/2725 [==============================] - 5s 2ms/step - loss: 0.0201 - mean_squared_error: 0.0201 - val_loss: 0.0197 - val_mean_squared_error: 0.0197\n",
      "Epoch 114/300\n",
      "2725/2725 [==============================] - 5s 2ms/step - loss: 0.0200 - mean_squared_error: 0.0200 - val_loss: 0.0223 - val_mean_squared_error: 0.0223\n",
      "Epoch 115/300\n",
      "2725/2725 [==============================] - 5s 2ms/step - loss: 0.0201 - mean_squared_error: 0.0201 - val_loss: 0.0204 - val_mean_squared_error: 0.0204\n",
      "Epoch 116/300\n",
      "2725/2725 [==============================] - 5s 2ms/step - loss: 0.0201 - mean_squared_error: 0.0201 - val_loss: 0.0200 - val_mean_squared_error: 0.0200\n",
      "Epoch 117/300\n",
      "2725/2725 [==============================] - 5s 2ms/step - loss: 0.0201 - mean_squared_error: 0.0201 - val_loss: 0.0196 - val_mean_squared_error: 0.0196\n",
      "Epoch 118/300\n",
      "2725/2725 [==============================] - 5s 2ms/step - loss: 0.0201 - mean_squared_error: 0.0201 - val_loss: 0.0200 - val_mean_squared_error: 0.0200\n",
      "Epoch 119/300\n",
      "2725/2725 [==============================] - 5s 2ms/step - loss: 0.0200 - mean_squared_error: 0.0200 - val_loss: 0.0198 - val_mean_squared_error: 0.0198\n",
      "Epoch 120/300\n",
      "2725/2725 [==============================] - 5s 2ms/step - loss: 0.0200 - mean_squared_error: 0.0200 - val_loss: 0.0203 - val_mean_squared_error: 0.0203\n",
      "Epoch 121/300\n",
      "2725/2725 [==============================] - 5s 2ms/step - loss: 0.0199 - mean_squared_error: 0.0199 - val_loss: 0.0199 - val_mean_squared_error: 0.0199\n",
      "Epoch 122/300\n",
      "2725/2725 [==============================] - 5s 2ms/step - loss: 0.0199 - mean_squared_error: 0.0198 - val_loss: 0.0198 - val_mean_squared_error: 0.0198\n",
      "Epoch 123/300\n",
      "2725/2725 [==============================] - 5s 2ms/step - loss: 0.0197 - mean_squared_error: 0.0197 - val_loss: 0.0197 - val_mean_squared_error: 0.0197\n",
      "Epoch 124/300\n",
      "2725/2725 [==============================] - 5s 2ms/step - loss: 0.0199 - mean_squared_error: 0.0199 - val_loss: 0.0200 - val_mean_squared_error: 0.0200\n",
      "Epoch 125/300\n",
      "2725/2725 [==============================] - 4s 2ms/step - loss: 0.0199 - mean_squared_error: 0.0199 - val_loss: 0.0199 - val_mean_squared_error: 0.0199\n",
      "Epoch 126/300\n",
      "2725/2725 [==============================] - 4s 2ms/step - loss: 0.0197 - mean_squared_error: 0.0197 - val_loss: 0.0206 - val_mean_squared_error: 0.0206\n",
      "Epoch 127/300\n",
      "2725/2725 [==============================] - 4s 2ms/step - loss: 0.0199 - mean_squared_error: 0.0199 - val_loss: 0.0198 - val_mean_squared_error: 0.0198\n",
      "Epoch 128/300\n",
      "2725/2725 [==============================] - 4s 2ms/step - loss: 0.0197 - mean_squared_error: 0.0197 - val_loss: 0.0193 - val_mean_squared_error: 0.0193\n",
      "Epoch 129/300\n",
      "2725/2725 [==============================] - 5s 2ms/step - loss: 0.0199 - mean_squared_error: 0.0199 - val_loss: 0.0202 - val_mean_squared_error: 0.0202\n",
      "Epoch 130/300\n",
      "2725/2725 [==============================] - 5s 2ms/step - loss: 0.0197 - mean_squared_error: 0.0197 - val_loss: 0.0196 - val_mean_squared_error: 0.0196\n",
      "Epoch 131/300\n",
      "2725/2725 [==============================] - 4s 2ms/step - loss: 0.0197 - mean_squared_error: 0.0197 - val_loss: 0.0194 - val_mean_squared_error: 0.0194\n",
      "Epoch 132/300\n",
      "2725/2725 [==============================] - 4s 2ms/step - loss: 0.0197 - mean_squared_error: 0.0197 - val_loss: 0.0204 - val_mean_squared_error: 0.0204\n",
      "Epoch 133/300\n",
      "2725/2725 [==============================] - 4s 2ms/step - loss: 0.0197 - mean_squared_error: 0.0197 - val_loss: 0.0193 - val_mean_squared_error: 0.0193\n",
      "Epoch 134/300\n",
      "2725/2725 [==============================] - 4s 2ms/step - loss: 0.0198 - mean_squared_error: 0.0198 - val_loss: 0.0197 - val_mean_squared_error: 0.0197\n",
      "Epoch 135/300\n",
      "2725/2725 [==============================] - 5s 2ms/step - loss: 0.0195 - mean_squared_error: 0.0195 - val_loss: 0.0195 - val_mean_squared_error: 0.0195\n",
      "Epoch 136/300\n",
      "2725/2725 [==============================] - 4s 2ms/step - loss: 0.0196 - mean_squared_error: 0.0196 - val_loss: 0.0195 - val_mean_squared_error: 0.0195\n",
      "Epoch 137/300\n",
      "2725/2725 [==============================] - 5s 2ms/step - loss: 0.0193 - mean_squared_error: 0.0193 - val_loss: 0.0200 - val_mean_squared_error: 0.0200\n",
      "Epoch 138/300\n",
      "2725/2725 [==============================] - 4s 2ms/step - loss: 0.0194 - mean_squared_error: 0.0194 - val_loss: 0.0195 - val_mean_squared_error: 0.0195\n",
      "Epoch 139/300\n",
      "2725/2725 [==============================] - 4s 2ms/step - loss: 0.0195 - mean_squared_error: 0.0195 - val_loss: 0.0194 - val_mean_squared_error: 0.0194\n",
      "Epoch 140/300\n",
      "2725/2725 [==============================] - 4s 2ms/step - loss: 0.0194 - mean_squared_error: 0.0194 - val_loss: 0.0197 - val_mean_squared_error: 0.0197\n",
      "Epoch 141/300\n",
      "2725/2725 [==============================] - 5s 2ms/step - loss: 0.0195 - mean_squared_error: 0.0195 - val_loss: 0.0191 - val_mean_squared_error: 0.0191\n",
      "Epoch 142/300\n",
      "2725/2725 [==============================] - 5s 2ms/step - loss: 0.0194 - mean_squared_error: 0.0194 - val_loss: 0.0196 - val_mean_squared_error: 0.0196\n",
      "Epoch 143/300\n",
      "2725/2725 [==============================] - 4s 2ms/step - loss: 0.0196 - mean_squared_error: 0.0196 - val_loss: 0.0194 - val_mean_squared_error: 0.0194\n",
      "Epoch 144/300\n",
      "2725/2725 [==============================] - 4s 2ms/step - loss: 0.0195 - mean_squared_error: 0.0195 - val_loss: 0.0193 - val_mean_squared_error: 0.0193\n",
      "Epoch 145/300\n",
      "2725/2725 [==============================] - 4s 2ms/step - loss: 0.0193 - mean_squared_error: 0.0193 - val_loss: 0.0193 - val_mean_squared_error: 0.0193\n",
      "Epoch 146/300\n",
      "2725/2725 [==============================] - 4s 2ms/step - loss: 0.0193 - mean_squared_error: 0.0193 - val_loss: 0.0200 - val_mean_squared_error: 0.0200\n",
      "Epoch 147/300\n",
      "2725/2725 [==============================] - 5s 2ms/step - loss: 0.0193 - mean_squared_error: 0.0193 - val_loss: 0.0190 - val_mean_squared_error: 0.0190\n",
      "Epoch 148/300\n",
      "2725/2725 [==============================] - 4s 2ms/step - loss: 0.0192 - mean_squared_error: 0.0192 - val_loss: 0.0197 - val_mean_squared_error: 0.0197\n",
      "Epoch 149/300\n",
      "2725/2725 [==============================] - 4s 2ms/step - loss: 0.0195 - mean_squared_error: 0.0195 - val_loss: 0.0193 - val_mean_squared_error: 0.0193\n",
      "Epoch 150/300\n",
      "2725/2725 [==============================] - 4s 2ms/step - loss: 0.0192 - mean_squared_error: 0.0192 - val_loss: 0.0195 - val_mean_squared_error: 0.0195\n",
      "Epoch 151/300\n",
      "2725/2725 [==============================] - 5s 2ms/step - loss: 0.0192 - mean_squared_error: 0.0192 - val_loss: 0.0197 - val_mean_squared_error: 0.0197\n",
      "Epoch 152/300\n",
      "2725/2725 [==============================] - 4s 2ms/step - loss: 0.0192 - mean_squared_error: 0.0192 - val_loss: 0.0192 - val_mean_squared_error: 0.0192\n",
      "Epoch 153/300\n",
      "2725/2725 [==============================] - 4s 2ms/step - loss: 0.0194 - mean_squared_error: 0.0194 - val_loss: 0.0193 - val_mean_squared_error: 0.0193\n",
      "Epoch 154/300\n",
      "2725/2725 [==============================] - 4s 2ms/step - loss: 0.0193 - mean_squared_error: 0.0193 - val_loss: 0.0188 - val_mean_squared_error: 0.0188\n",
      "Epoch 155/300\n",
      "2725/2725 [==============================] - 5s 2ms/step - loss: 0.0191 - mean_squared_error: 0.0191 - val_loss: 0.0199 - val_mean_squared_error: 0.0199\n",
      "Epoch 156/300\n",
      "2725/2725 [==============================] - 4s 2ms/step - loss: 0.0193 - mean_squared_error: 0.0193 - val_loss: 0.0195 - val_mean_squared_error: 0.0195\n",
      "Epoch 157/300\n",
      "2725/2725 [==============================] - 5s 2ms/step - loss: 0.0192 - mean_squared_error: 0.0192 - val_loss: 0.0192 - val_mean_squared_error: 0.0192\n",
      "Epoch 158/300\n",
      "2725/2725 [==============================] - 5s 2ms/step - loss: 0.0192 - mean_squared_error: 0.0192 - val_loss: 0.0195 - val_mean_squared_error: 0.0195\n",
      "Epoch 159/300\n",
      "2725/2725 [==============================] - 5s 2ms/step - loss: 0.0190 - mean_squared_error: 0.0190 - val_loss: 0.0191 - val_mean_squared_error: 0.0191\n",
      "Epoch 160/300\n",
      "2725/2725 [==============================] - 5s 2ms/step - loss: 0.0190 - mean_squared_error: 0.0190 - val_loss: 0.0195 - val_mean_squared_error: 0.0195\n",
      "Epoch 161/300\n",
      "2725/2725 [==============================] - 4s 2ms/step - loss: 0.0191 - mean_squared_error: 0.0191 - val_loss: 0.0194 - val_mean_squared_error: 0.0194\n",
      "Epoch 162/300\n",
      "2725/2725 [==============================] - 4s 2ms/step - loss: 0.0191 - mean_squared_error: 0.0191 - val_loss: 0.0190 - val_mean_squared_error: 0.0190\n",
      "Epoch 163/300\n",
      "2725/2725 [==============================] - 5s 2ms/step - loss: 0.0190 - mean_squared_error: 0.0190 - val_loss: 0.0192 - val_mean_squared_error: 0.0192\n",
      "Epoch 164/300\n",
      "2725/2725 [==============================] - 5s 2ms/step - loss: 0.0191 - mean_squared_error: 0.0191 - val_loss: 0.0191 - val_mean_squared_error: 0.0191\n",
      "Epoch 165/300\n",
      "2725/2725 [==============================] - 4s 2ms/step - loss: 0.0191 - mean_squared_error: 0.0191 - val_loss: 0.0192 - val_mean_squared_error: 0.0192\n",
      "Epoch 166/300\n",
      "2725/2725 [==============================] - 5s 2ms/step - loss: 0.0191 - mean_squared_error: 0.0191 - val_loss: 0.0190 - val_mean_squared_error: 0.0190\n",
      "Epoch 167/300\n",
      "2725/2725 [==============================] - 5s 2ms/step - loss: 0.0189 - mean_squared_error: 0.0189 - val_loss: 0.0191 - val_mean_squared_error: 0.0191\n",
      "Epoch 168/300\n",
      "2725/2725 [==============================] - 4s 2ms/step - loss: 0.0191 - mean_squared_error: 0.0191 - val_loss: 0.0190 - val_mean_squared_error: 0.0190\n",
      "Epoch 169/300\n",
      "2725/2725 [==============================] - 4s 2ms/step - loss: 0.0190 - mean_squared_error: 0.0190 - val_loss: 0.0191 - val_mean_squared_error: 0.0191\n",
      "Epoch 170/300\n",
      "2725/2725 [==============================] - 5s 2ms/step - loss: 0.0190 - mean_squared_error: 0.0190 - val_loss: 0.0187 - val_mean_squared_error: 0.0187\n",
      "Epoch 171/300\n",
      "2725/2725 [==============================] - 5s 2ms/step - loss: 0.0189 - mean_squared_error: 0.0189 - val_loss: 0.0195 - val_mean_squared_error: 0.0195\n",
      "Epoch 172/300\n",
      "2725/2725 [==============================] - 5s 2ms/step - loss: 0.0188 - mean_squared_error: 0.0188 - val_loss: 0.0190 - val_mean_squared_error: 0.0190\n",
      "Epoch 173/300\n",
      "2725/2725 [==============================] - 5s 2ms/step - loss: 0.0188 - mean_squared_error: 0.0188 - val_loss: 0.0188 - val_mean_squared_error: 0.0188\n",
      "Epoch 174/300\n",
      "2725/2725 [==============================] - 5s 2ms/step - loss: 0.0189 - mean_squared_error: 0.0189 - val_loss: 0.0220 - val_mean_squared_error: 0.0220\n",
      "Epoch 175/300\n",
      "2725/2725 [==============================] - 5s 2ms/step - loss: 0.0189 - mean_squared_error: 0.0189 - val_loss: 0.0184 - val_mean_squared_error: 0.0184\n",
      "Epoch 176/300\n",
      "2725/2725 [==============================] - 5s 2ms/step - loss: 0.0188 - mean_squared_error: 0.0188 - val_loss: 0.0188 - val_mean_squared_error: 0.0188\n",
      "Epoch 177/300\n",
      "2725/2725 [==============================] - 5s 2ms/step - loss: 0.0187 - mean_squared_error: 0.0187 - val_loss: 0.0194 - val_mean_squared_error: 0.0194\n",
      "Epoch 178/300\n",
      "2725/2725 [==============================] - 5s 2ms/step - loss: 0.0190 - mean_squared_error: 0.0190 - val_loss: 0.0185 - val_mean_squared_error: 0.0185\n",
      "Epoch 179/300\n",
      "2725/2725 [==============================] - 5s 2ms/step - loss: 0.0186 - mean_squared_error: 0.0186 - val_loss: 0.0193 - val_mean_squared_error: 0.0192\n",
      "Epoch 180/300\n",
      "2725/2725 [==============================] - 6s 2ms/step - loss: 0.0188 - mean_squared_error: 0.0188 - val_loss: 0.0191 - val_mean_squared_error: 0.0191\n",
      "Epoch 181/300\n",
      "2725/2725 [==============================] - 5s 2ms/step - loss: 0.0187 - mean_squared_error: 0.0187 - val_loss: 0.0184 - val_mean_squared_error: 0.0184\n",
      "Epoch 182/300\n",
      "2725/2725 [==============================] - 5s 2ms/step - loss: 0.0188 - mean_squared_error: 0.0188 - val_loss: 0.0185 - val_mean_squared_error: 0.0185\n",
      "Epoch 183/300\n",
      "2725/2725 [==============================] - 5s 2ms/step - loss: 0.0187 - mean_squared_error: 0.0187 - val_loss: 0.0187 - val_mean_squared_error: 0.0187\n",
      "Epoch 184/300\n",
      "2725/2725 [==============================] - 5s 2ms/step - loss: 0.0189 - mean_squared_error: 0.0189 - val_loss: 0.0188 - val_mean_squared_error: 0.0188\n",
      "Epoch 185/300\n",
      "2725/2725 [==============================] - 5s 2ms/step - loss: 0.0186 - mean_squared_error: 0.0186 - val_loss: 0.0191 - val_mean_squared_error: 0.0191\n",
      "Epoch 186/300\n",
      "2725/2725 [==============================] - 5s 2ms/step - loss: 0.0188 - mean_squared_error: 0.0188 - val_loss: 0.0190 - val_mean_squared_error: 0.0190\n",
      "Epoch 187/300\n",
      "2725/2725 [==============================] - 5s 2ms/step - loss: 0.0186 - mean_squared_error: 0.0186 - val_loss: 0.0188 - val_mean_squared_error: 0.0188\n",
      "Epoch 188/300\n",
      "2725/2725 [==============================] - 5s 2ms/step - loss: 0.0187 - mean_squared_error: 0.0187 - val_loss: 0.0184 - val_mean_squared_error: 0.0184\n",
      "Epoch 189/300\n",
      "2725/2725 [==============================] - 5s 2ms/step - loss: 0.0186 - mean_squared_error: 0.0186 - val_loss: 0.0184 - val_mean_squared_error: 0.0184\n",
      "Epoch 190/300\n",
      "2725/2725 [==============================] - 5s 2ms/step - loss: 0.0188 - mean_squared_error: 0.0188 - val_loss: 0.0191 - val_mean_squared_error: 0.0190\n",
      "Epoch 191/300\n",
      "2725/2725 [==============================] - 5s 2ms/step - loss: 0.0185 - mean_squared_error: 0.0185 - val_loss: 0.0188 - val_mean_squared_error: 0.0188\n",
      "Epoch 192/300\n",
      "2725/2725 [==============================] - 5s 2ms/step - loss: 0.0184 - mean_squared_error: 0.0184 - val_loss: 0.0184 - val_mean_squared_error: 0.0184\n",
      "Epoch 193/300\n",
      "2725/2725 [==============================] - 5s 2ms/step - loss: 0.0186 - mean_squared_error: 0.0186 - val_loss: 0.0186 - val_mean_squared_error: 0.0186\n",
      "Epoch 194/300\n",
      "2725/2725 [==============================] - 5s 2ms/step - loss: 0.0186 - mean_squared_error: 0.0186 - val_loss: 0.0192 - val_mean_squared_error: 0.0191\n",
      "Epoch 195/300\n",
      "2725/2725 [==============================] - 5s 2ms/step - loss: 0.0186 - mean_squared_error: 0.0186 - val_loss: 0.0190 - val_mean_squared_error: 0.0190\n",
      "Epoch 196/300\n",
      "2725/2725 [==============================] - 5s 2ms/step - loss: 0.0186 - mean_squared_error: 0.0186 - val_loss: 0.0197 - val_mean_squared_error: 0.0197\n",
      "Epoch 197/300\n",
      "2725/2725 [==============================] - 5s 2ms/step - loss: 0.0187 - mean_squared_error: 0.0187 - val_loss: 0.0184 - val_mean_squared_error: 0.0184\n",
      "Epoch 198/300\n",
      "2725/2725 [==============================] - 5s 2ms/step - loss: 0.0185 - mean_squared_error: 0.0185 - val_loss: 0.0182 - val_mean_squared_error: 0.0182\n",
      "Epoch 199/300\n",
      "2725/2725 [==============================] - 5s 2ms/step - loss: 0.0186 - mean_squared_error: 0.0186 - val_loss: 0.0186 - val_mean_squared_error: 0.0186\n",
      "Epoch 200/300\n",
      "2725/2725 [==============================] - 5s 2ms/step - loss: 0.0186 - mean_squared_error: 0.0186 - val_loss: 0.0182 - val_mean_squared_error: 0.0182\n",
      "Epoch 201/300\n",
      "2725/2725 [==============================] - 5s 2ms/step - loss: 0.0185 - mean_squared_error: 0.0185 - val_loss: 0.0188 - val_mean_squared_error: 0.0188\n",
      "Epoch 202/300\n",
      "2725/2725 [==============================] - 5s 2ms/step - loss: 0.0187 - mean_squared_error: 0.0187 - val_loss: 0.0184 - val_mean_squared_error: 0.0184\n",
      "Epoch 203/300\n",
      "2725/2725 [==============================] - 5s 2ms/step - loss: 0.0184 - mean_squared_error: 0.0184 - val_loss: 0.0185 - val_mean_squared_error: 0.0185\n",
      "Epoch 204/300\n",
      "2725/2725 [==============================] - 5s 2ms/step - loss: 0.0186 - mean_squared_error: 0.0186 - val_loss: 0.0186 - val_mean_squared_error: 0.0186\n",
      "Epoch 205/300\n",
      "2725/2725 [==============================] - 5s 2ms/step - loss: 0.0183 - mean_squared_error: 0.0183 - val_loss: 0.0198 - val_mean_squared_error: 0.0198\n",
      "Epoch 206/300\n",
      "2725/2725 [==============================] - 5s 2ms/step - loss: 0.0185 - mean_squared_error: 0.0185 - val_loss: 0.0192 - val_mean_squared_error: 0.0192\n",
      "Epoch 207/300\n",
      "2725/2725 [==============================] - 5s 2ms/step - loss: 0.0184 - mean_squared_error: 0.0184 - val_loss: 0.0189 - val_mean_squared_error: 0.0188\n",
      "Epoch 208/300\n",
      "2725/2725 [==============================] - 5s 2ms/step - loss: 0.0183 - mean_squared_error: 0.0183 - val_loss: 0.0186 - val_mean_squared_error: 0.0186\n",
      "Epoch 209/300\n",
      "2725/2725 [==============================] - 5s 2ms/step - loss: 0.0188 - mean_squared_error: 0.0188 - val_loss: 0.0188 - val_mean_squared_error: 0.0188\n",
      "Epoch 210/300\n",
      "2725/2725 [==============================] - 5s 2ms/step - loss: 0.0184 - mean_squared_error: 0.0184 - val_loss: 0.0185 - val_mean_squared_error: 0.0185\n",
      "Epoch 211/300\n",
      "2725/2725 [==============================] - 5s 2ms/step - loss: 0.0184 - mean_squared_error: 0.0184 - val_loss: 0.0187 - val_mean_squared_error: 0.0187\n",
      "Epoch 212/300\n",
      "2725/2725 [==============================] - 5s 2ms/step - loss: 0.0185 - mean_squared_error: 0.0185 - val_loss: 0.0198 - val_mean_squared_error: 0.0198\n",
      "Epoch 213/300\n",
      "2725/2725 [==============================] - 5s 2ms/step - loss: 0.0184 - mean_squared_error: 0.0184 - val_loss: 0.0191 - val_mean_squared_error: 0.0191\n",
      "Epoch 214/300\n",
      "2725/2725 [==============================] - 5s 2ms/step - loss: 0.0185 - mean_squared_error: 0.0185 - val_loss: 0.0178 - val_mean_squared_error: 0.0178\n",
      "Epoch 215/300\n",
      "2725/2725 [==============================] - 5s 2ms/step - loss: 0.0183 - mean_squared_error: 0.0183 - val_loss: 0.0186 - val_mean_squared_error: 0.0186\n",
      "Epoch 216/300\n",
      "2725/2725 [==============================] - 5s 2ms/step - loss: 0.0182 - mean_squared_error: 0.0182 - val_loss: 0.0185 - val_mean_squared_error: 0.0185\n",
      "Epoch 217/300\n",
      "2725/2725 [==============================] - 5s 2ms/step - loss: 0.0183 - mean_squared_error: 0.0183 - val_loss: 0.0188 - val_mean_squared_error: 0.0188\n",
      "Epoch 218/300\n",
      "2725/2725 [==============================] - 5s 2ms/step - loss: 0.0182 - mean_squared_error: 0.0182 - val_loss: 0.0186 - val_mean_squared_error: 0.0186\n",
      "Epoch 219/300\n",
      "2725/2725 [==============================] - 5s 2ms/step - loss: 0.0182 - mean_squared_error: 0.0182 - val_loss: 0.0181 - val_mean_squared_error: 0.0181\n",
      "Epoch 220/300\n",
      "2725/2725 [==============================] - 5s 2ms/step - loss: 0.0183 - mean_squared_error: 0.0183 - val_loss: 0.0183 - val_mean_squared_error: 0.0183\n",
      "Epoch 221/300\n",
      "2725/2725 [==============================] - 5s 2ms/step - loss: 0.0183 - mean_squared_error: 0.0183 - val_loss: 0.0180 - val_mean_squared_error: 0.0180\n",
      "Epoch 222/300\n",
      "2725/2725 [==============================] - 5s 2ms/step - loss: 0.0182 - mean_squared_error: 0.0182 - val_loss: 0.0182 - val_mean_squared_error: 0.0182\n",
      "Epoch 223/300\n",
      "2725/2725 [==============================] - 5s 2ms/step - loss: 0.0181 - mean_squared_error: 0.0181 - val_loss: 0.0182 - val_mean_squared_error: 0.0182\n",
      "Epoch 224/300\n",
      "2725/2725 [==============================] - 5s 2ms/step - loss: 0.0182 - mean_squared_error: 0.0182 - val_loss: 0.0187 - val_mean_squared_error: 0.0187\n",
      "Epoch 225/300\n",
      "2725/2725 [==============================] - 5s 2ms/step - loss: 0.0181 - mean_squared_error: 0.0181 - val_loss: 0.0183 - val_mean_squared_error: 0.0183\n",
      "Epoch 226/300\n",
      "2725/2725 [==============================] - 5s 2ms/step - loss: 0.0183 - mean_squared_error: 0.0183 - val_loss: 0.0188 - val_mean_squared_error: 0.0188\n",
      "Epoch 227/300\n",
      "2725/2725 [==============================] - 5s 2ms/step - loss: 0.0182 - mean_squared_error: 0.0182 - val_loss: 0.0182 - val_mean_squared_error: 0.0182\n",
      "Epoch 228/300\n",
      "2725/2725 [==============================] - 5s 2ms/step - loss: 0.0181 - mean_squared_error: 0.0181 - val_loss: 0.0182 - val_mean_squared_error: 0.0182\n",
      "Epoch 229/300\n",
      "2725/2725 [==============================] - 5s 2ms/step - loss: 0.0185 - mean_squared_error: 0.0185 - val_loss: 0.0180 - val_mean_squared_error: 0.0180\n",
      "Epoch 230/300\n",
      "2725/2725 [==============================] - 5s 2ms/step - loss: 0.0182 - mean_squared_error: 0.0182 - val_loss: 0.0181 - val_mean_squared_error: 0.0181\n",
      "Epoch 231/300\n",
      "2725/2725 [==============================] - 5s 2ms/step - loss: 0.0183 - mean_squared_error: 0.0183 - val_loss: 0.0198 - val_mean_squared_error: 0.0198\n",
      "Epoch 232/300\n",
      "2725/2725 [==============================] - 5s 2ms/step - loss: 0.0182 - mean_squared_error: 0.0182 - val_loss: 0.0183 - val_mean_squared_error: 0.0183\n",
      "Epoch 233/300\n",
      "2725/2725 [==============================] - 5s 2ms/step - loss: 0.0182 - mean_squared_error: 0.0182 - val_loss: 0.0180 - val_mean_squared_error: 0.0180\n",
      "Epoch 234/300\n",
      "2725/2725 [==============================] - 5s 2ms/step - loss: 0.0182 - mean_squared_error: 0.0182 - val_loss: 0.0182 - val_mean_squared_error: 0.0182\n",
      "Epoch 235/300\n",
      "2725/2725 [==============================] - 5s 2ms/step - loss: 0.0182 - mean_squared_error: 0.0182 - val_loss: 0.0181 - val_mean_squared_error: 0.0181\n",
      "Epoch 236/300\n",
      "2725/2725 [==============================] - 5s 2ms/step - loss: 0.0182 - mean_squared_error: 0.0182 - val_loss: 0.0187 - val_mean_squared_error: 0.0187\n",
      "Epoch 237/300\n",
      "2725/2725 [==============================] - 5s 2ms/step - loss: 0.0182 - mean_squared_error: 0.0181 - val_loss: 0.0181 - val_mean_squared_error: 0.0181\n",
      "Epoch 238/300\n",
      "2725/2725 [==============================] - 5s 2ms/step - loss: 0.0181 - mean_squared_error: 0.0181 - val_loss: 0.0181 - val_mean_squared_error: 0.0181\n",
      "Epoch 239/300\n",
      "2725/2725 [==============================] - 5s 2ms/step - loss: 0.0180 - mean_squared_error: 0.0180 - val_loss: 0.0186 - val_mean_squared_error: 0.0186\n",
      "Epoch 240/300\n",
      "2725/2725 [==============================] - 5s 2ms/step - loss: 0.0180 - mean_squared_error: 0.0180 - val_loss: 0.0182 - val_mean_squared_error: 0.0182\n",
      "Epoch 241/300\n",
      "2725/2725 [==============================] - 5s 2ms/step - loss: 0.0180 - mean_squared_error: 0.0180 - val_loss: 0.0183 - val_mean_squared_error: 0.0183\n",
      "Epoch 242/300\n",
      "2725/2725 [==============================] - 5s 2ms/step - loss: 0.0181 - mean_squared_error: 0.0181 - val_loss: 0.0184 - val_mean_squared_error: 0.0184\n",
      "Epoch 243/300\n",
      "2725/2725 [==============================] - 5s 2ms/step - loss: 0.0181 - mean_squared_error: 0.0181 - val_loss: 0.0188 - val_mean_squared_error: 0.0188\n",
      "Epoch 244/300\n",
      "2725/2725 [==============================] - 5s 2ms/step - loss: 0.0181 - mean_squared_error: 0.0181 - val_loss: 0.0187 - val_mean_squared_error: 0.0187\n",
      "Epoch 245/300\n",
      "2725/2725 [==============================] - 5s 2ms/step - loss: 0.0180 - mean_squared_error: 0.0180 - val_loss: 0.0184 - val_mean_squared_error: 0.0184\n",
      "Epoch 246/300\n",
      "2725/2725 [==============================] - 5s 2ms/step - loss: 0.0184 - mean_squared_error: 0.0184 - val_loss: 0.0185 - val_mean_squared_error: 0.0185\n",
      "Epoch 247/300\n",
      "2725/2725 [==============================] - 5s 2ms/step - loss: 0.0177 - mean_squared_error: 0.0178 - val_loss: 0.0181 - val_mean_squared_error: 0.0181\n",
      "Epoch 248/300\n",
      "2725/2725 [==============================] - 5s 2ms/step - loss: 0.0181 - mean_squared_error: 0.0181 - val_loss: 0.0182 - val_mean_squared_error: 0.0182\n",
      "Epoch 249/300\n",
      "2725/2725 [==============================] - 5s 2ms/step - loss: 0.0181 - mean_squared_error: 0.0181 - val_loss: 0.0186 - val_mean_squared_error: 0.0186\n",
      "Epoch 250/300\n",
      "2725/2725 [==============================] - 5s 2ms/step - loss: 0.0178 - mean_squared_error: 0.0178 - val_loss: 0.0184 - val_mean_squared_error: 0.0184\n",
      "Epoch 251/300\n",
      "2725/2725 [==============================] - 5s 2ms/step - loss: 0.0179 - mean_squared_error: 0.0179 - val_loss: 0.0179 - val_mean_squared_error: 0.0179\n",
      "Epoch 252/300\n",
      "2725/2725 [==============================] - 5s 2ms/step - loss: 0.0180 - mean_squared_error: 0.0180 - val_loss: 0.0180 - val_mean_squared_error: 0.0180\n",
      "Epoch 253/300\n",
      "2725/2725 [==============================] - 6s 2ms/step - loss: 0.0178 - mean_squared_error: 0.0178 - val_loss: 0.0192 - val_mean_squared_error: 0.0192\n",
      "Epoch 254/300\n",
      "2725/2725 [==============================] - 5s 2ms/step - loss: 0.0179 - mean_squared_error: 0.0179 - val_loss: 0.0180 - val_mean_squared_error: 0.0180\n",
      "Epoch 255/300\n",
      "2725/2725 [==============================] - 5s 2ms/step - loss: 0.0180 - mean_squared_error: 0.0180 - val_loss: 0.0185 - val_mean_squared_error: 0.0185\n",
      "Epoch 256/300\n",
      "2725/2725 [==============================] - 5s 2ms/step - loss: 0.0180 - mean_squared_error: 0.0180 - val_loss: 0.0190 - val_mean_squared_error: 0.0190\n",
      "Epoch 257/300\n",
      "2725/2725 [==============================] - 5s 2ms/step - loss: 0.0182 - mean_squared_error: 0.0182 - val_loss: 0.0178 - val_mean_squared_error: 0.0178\n",
      "Epoch 258/300\n",
      "2725/2725 [==============================] - 5s 2ms/step - loss: 0.0179 - mean_squared_error: 0.0179 - val_loss: 0.0180 - val_mean_squared_error: 0.0180\n",
      "Epoch 259/300\n",
      "2725/2725 [==============================] - 5s 2ms/step - loss: 0.0179 - mean_squared_error: 0.0179 - val_loss: 0.0183 - val_mean_squared_error: 0.0183\n",
      "Epoch 260/300\n",
      "2725/2725 [==============================] - 5s 2ms/step - loss: 0.0178 - mean_squared_error: 0.0178 - val_loss: 0.0191 - val_mean_squared_error: 0.0191\n",
      "Epoch 261/300\n",
      "2725/2725 [==============================] - 5s 2ms/step - loss: 0.0180 - mean_squared_error: 0.0180 - val_loss: 0.0190 - val_mean_squared_error: 0.0190\n",
      "Epoch 262/300\n",
      "2725/2725 [==============================] - 5s 2ms/step - loss: 0.0181 - mean_squared_error: 0.0181 - val_loss: 0.0180 - val_mean_squared_error: 0.0180\n",
      "Epoch 263/300\n",
      "2725/2725 [==============================] - 5s 2ms/step - loss: 0.0177 - mean_squared_error: 0.0177 - val_loss: 0.0183 - val_mean_squared_error: 0.0183\n",
      "Epoch 264/300\n",
      "2725/2725 [==============================] - 5s 2ms/step - loss: 0.0179 - mean_squared_error: 0.0179 - val_loss: 0.0188 - val_mean_squared_error: 0.0188\n",
      "Epoch 265/300\n",
      "2725/2725 [==============================] - 5s 2ms/step - loss: 0.0177 - mean_squared_error: 0.0177 - val_loss: 0.0181 - val_mean_squared_error: 0.0181\n",
      "Epoch 266/300\n",
      "2725/2725 [==============================] - 5s 2ms/step - loss: 0.0178 - mean_squared_error: 0.0178 - val_loss: 0.0185 - val_mean_squared_error: 0.0185\n",
      "Epoch 267/300\n",
      "2725/2725 [==============================] - 5s 2ms/step - loss: 0.0178 - mean_squared_error: 0.0178 - val_loss: 0.0184 - val_mean_squared_error: 0.0184\n",
      "Epoch 268/300\n",
      "2725/2725 [==============================] - 5s 2ms/step - loss: 0.0179 - mean_squared_error: 0.0179 - val_loss: 0.0180 - val_mean_squared_error: 0.0180\n",
      "Epoch 269/300\n",
      "2725/2725 [==============================] - 6s 2ms/step - loss: 0.0178 - mean_squared_error: 0.0178 - val_loss: 0.0178 - val_mean_squared_error: 0.0178\n",
      "Epoch 270/300\n",
      "2725/2725 [==============================] - 6s 2ms/step - loss: 0.0178 - mean_squared_error: 0.0178 - val_loss: 0.0183 - val_mean_squared_error: 0.0183\n",
      "Epoch 271/300\n",
      "2725/2725 [==============================] - 5s 2ms/step - loss: 0.0178 - mean_squared_error: 0.0178 - val_loss: 0.0184 - val_mean_squared_error: 0.0184\n",
      "Epoch 272/300\n",
      "2725/2725 [==============================] - 5s 2ms/step - loss: 0.0180 - mean_squared_error: 0.0180 - val_loss: 0.0181 - val_mean_squared_error: 0.0181\n",
      "Epoch 273/300\n",
      "2725/2725 [==============================] - 5s 2ms/step - loss: 0.0177 - mean_squared_error: 0.0177 - val_loss: 0.0176 - val_mean_squared_error: 0.0176\n",
      "Epoch 274/300\n",
      "2725/2725 [==============================] - 5s 2ms/step - loss: 0.0177 - mean_squared_error: 0.0177 - val_loss: 0.0177 - val_mean_squared_error: 0.0177\n",
      "Epoch 275/300\n",
      "2725/2725 [==============================] - 5s 2ms/step - loss: 0.0180 - mean_squared_error: 0.0180 - val_loss: 0.0183 - val_mean_squared_error: 0.0183\n",
      "Epoch 276/300\n",
      "2725/2725 [==============================] - 5s 2ms/step - loss: 0.0178 - mean_squared_error: 0.0178 - val_loss: 0.0178 - val_mean_squared_error: 0.0178\n",
      "Epoch 277/300\n",
      "2725/2725 [==============================] - 6s 2ms/step - loss: 0.0178 - mean_squared_error: 0.0178 - val_loss: 0.0177 - val_mean_squared_error: 0.0177\n",
      "Epoch 278/300\n",
      "2725/2725 [==============================] - 6s 2ms/step - loss: 0.0179 - mean_squared_error: 0.0179 - val_loss: 0.0179 - val_mean_squared_error: 0.0179\n",
      "Epoch 279/300\n",
      "2725/2725 [==============================] - 5s 2ms/step - loss: 0.0177 - mean_squared_error: 0.0177 - val_loss: 0.0179 - val_mean_squared_error: 0.0178\n",
      "Epoch 280/300\n",
      "2725/2725 [==============================] - 5s 2ms/step - loss: 0.0177 - mean_squared_error: 0.0177 - val_loss: 0.0183 - val_mean_squared_error: 0.0183\n",
      "Epoch 281/300\n",
      "2725/2725 [==============================] - 5s 2ms/step - loss: 0.0177 - mean_squared_error: 0.0177 - val_loss: 0.0187 - val_mean_squared_error: 0.0187\n",
      "Epoch 282/300\n",
      "2725/2725 [==============================] - 5s 2ms/step - loss: 0.0176 - mean_squared_error: 0.0176 - val_loss: 0.0187 - val_mean_squared_error: 0.0187\n",
      "Epoch 283/300\n",
      "2725/2725 [==============================] - 5s 2ms/step - loss: 0.0178 - mean_squared_error: 0.0178 - val_loss: 0.0179 - val_mean_squared_error: 0.0179\n",
      "Epoch 284/300\n",
      "2725/2725 [==============================] - 5s 2ms/step - loss: 0.0177 - mean_squared_error: 0.0177 - val_loss: 0.0191 - val_mean_squared_error: 0.0191\n",
      "Epoch 285/300\n",
      "2725/2725 [==============================] - 5s 2ms/step - loss: 0.0178 - mean_squared_error: 0.0178 - val_loss: 0.0181 - val_mean_squared_error: 0.0181\n",
      "Epoch 286/300\n",
      "2725/2725 [==============================] - 5s 2ms/step - loss: 0.0176 - mean_squared_error: 0.0176 - val_loss: 0.0179 - val_mean_squared_error: 0.0179\n",
      "Epoch 287/300\n",
      "2725/2725 [==============================] - 5s 2ms/step - loss: 0.0178 - mean_squared_error: 0.0178 - val_loss: 0.0179 - val_mean_squared_error: 0.0179\n",
      "Epoch 288/300\n",
      "2725/2725 [==============================] - 5s 2ms/step - loss: 0.0176 - mean_squared_error: 0.0176 - val_loss: 0.0181 - val_mean_squared_error: 0.0181\n",
      "Epoch 289/300\n",
      "2725/2725 [==============================] - 5s 2ms/step - loss: 0.0177 - mean_squared_error: 0.0177 - val_loss: 0.0175 - val_mean_squared_error: 0.0175\n",
      "Epoch 290/300\n",
      "2725/2725 [==============================] - 5s 2ms/step - loss: 0.0178 - mean_squared_error: 0.0178 - val_loss: 0.0177 - val_mean_squared_error: 0.0177\n",
      "Epoch 291/300\n",
      "2725/2725 [==============================] - 6s 2ms/step - loss: 0.0177 - mean_squared_error: 0.0177 - val_loss: 0.0179 - val_mean_squared_error: 0.0179\n",
      "Epoch 292/300\n",
      "2725/2725 [==============================] - 5s 2ms/step - loss: 0.0176 - mean_squared_error: 0.0176 - val_loss: 0.0178 - val_mean_squared_error: 0.0178\n",
      "Epoch 293/300\n",
      "2725/2725 [==============================] - 5s 2ms/step - loss: 0.0175 - mean_squared_error: 0.0175 - val_loss: 0.0178 - val_mean_squared_error: 0.0178\n",
      "Epoch 294/300\n",
      "2725/2725 [==============================] - 5s 2ms/step - loss: 0.0177 - mean_squared_error: 0.0177 - val_loss: 0.0181 - val_mean_squared_error: 0.0181\n",
      "Epoch 295/300\n",
      "2725/2725 [==============================] - 5s 2ms/step - loss: 0.0176 - mean_squared_error: 0.0176 - val_loss: 0.0178 - val_mean_squared_error: 0.0178\n",
      "Epoch 296/300\n",
      "2725/2725 [==============================] - 5s 2ms/step - loss: 0.0177 - mean_squared_error: 0.0177 - val_loss: 0.0175 - val_mean_squared_error: 0.0175\n",
      "Epoch 297/300\n",
      "2725/2725 [==============================] - 5s 2ms/step - loss: 0.0176 - mean_squared_error: 0.0176 - val_loss: 0.0180 - val_mean_squared_error: 0.0180\n",
      "Epoch 298/300\n",
      "2725/2725 [==============================] - 5s 2ms/step - loss: 0.0175 - mean_squared_error: 0.0175 - val_loss: 0.0184 - val_mean_squared_error: 0.0184\n",
      "Epoch 299/300\n",
      "2725/2725 [==============================] - 5s 2ms/step - loss: 0.0177 - mean_squared_error: 0.0177 - val_loss: 0.0180 - val_mean_squared_error: 0.0180\n",
      "Epoch 300/300\n",
      "2725/2725 [==============================] - 6s 2ms/step - loss: 0.0177 - mean_squared_error: 0.0177 - val_loss: 0.0175 - val_mean_squared_error: 0.0175\n"
     ]
    }
   ],
   "source": [
    "# reshape x_train and x_test\n",
    "# x_train = x_train.values.reshape(x_train.shape[0], x_train.shape[1], 1)\n",
    "with tf.device(\"cpu\") :\n",
    "    history_reg, model_reg = make_reg_model(\n",
    "        Dense(64, activation=\"sigmoid\", input_dim=x_train.shape[1]),\n",
    "        Dropout(0.1),\n",
    "        Dense(32, activation=\"relu\"),\n",
    "        # Dropout(0.1),\n",
    "        Dense(32, activation=\"relu\"),\n",
    "        # Dropout(0.1),\n",
    "        Dense(32, activation=\"relu\"),\n",
    "        x=x_train.values ,y=y_reg_train,\n",
    "        last_activation=exp_relu,\n",
    "        epochs=300,\n",
    "        batch_size=64,\n",
    "        learning_rate=0.001\n",
    "    )"
   ],
   "metadata": {
    "collapsed": false,
    "pycharm": {
     "name": "#%%\n"
    }
   }
  },
  {
   "cell_type": "code",
   "execution_count": 26,
   "outputs": [
    {
     "data": {
      "text/plain": "<Figure size 504x360 with 1 Axes>",
      "image/png": "[encoded data removed]"
     },
     "metadata": {
      "needs_background": "light"
     },
     "output_type": "display_data"
    }
   ],
   "source": [
    "# Plot history\n",
    "plot_history_reg(history_reg, 'mean_squared_error')"
   ],
   "metadata": {
    "collapsed": false,
    "pycharm": {
     "name": "#%%\n"
    }
   }
  },
  {
   "cell_type": "markdown",
   "source": [
    "    # Compute MAPE on 2017 dataset before submitting"
   ],
   "metadata": {
    "collapsed": false
   }
  },
  {
   "cell_type": "markdown",
   "source": [
    "## classification"
   ],
   "metadata": {
    "collapsed": false
   }
  },
  {
   "cell_type": "code",
   "execution_count": 27,
   "outputs": [],
   "source": [
    "y_cls_pred = model_cls.predict(x_test)"
   ],
   "metadata": {
    "collapsed": false,
    "pycharm": {
     "name": "#%%\n"
    }
   }
  },
  {
   "cell_type": "code",
   "execution_count": 28,
   "outputs": [
    {
     "data": {
      "text/plain": "<Figure size 432x288 with 1 Axes>",
      "image/png": "[encoded data removed]"
     },
     "metadata": {
      "needs_background": "light"
     },
     "output_type": "display_data"
    }
   ],
   "source": [
    "plt.hist(y_cls_pred[:,0], color=\"cyan\", alpha=0.3, bins=100, label=\"not_raining\")\n",
    "plt.hist(y_cls_pred[:,1], color=\"magenta\", alpha=0.3, bins=100, label=\"raining\")\n",
    "plt.xlim([0,1])\n",
    "plt.legend()\n",
    "plt.show()"
   ],
   "metadata": {
    "collapsed": false,
    "pycharm": {
     "name": "#%%\n"
    }
   }
  },
  {
   "cell_type": "code",
   "execution_count": 29,
   "outputs": [],
   "source": [
    "y_cls_pred_bkp = np.array(y_cls_pred)"
   ],
   "metadata": {
    "collapsed": false,
    "pycharm": {
     "name": "#%%\n"
    }
   }
  },
  {
   "cell_type": "code",
   "execution_count": 30,
   "outputs": [],
   "source": [
    "y_cls_pred = np.array(y_cls_pred_bkp)"
   ],
   "metadata": {
    "collapsed": false,
    "pycharm": {
     "name": "#%%\n"
    }
   }
  },
  {
   "cell_type": "code",
   "execution_count": 31,
   "outputs": [],
   "source": [
    "cls_temp = y_cls_pred[:,0] < y_cls_pred[:,1]\n",
    "y_cls_pred = np.array([0 if c else 1 for c in cls_temp])"
   ],
   "metadata": {
    "collapsed": false,
    "pycharm": {
     "name": "#%%\n"
    }
   }
  },
  {
   "cell_type": "code",
   "execution_count": 32,
   "outputs": [
    {
     "data": {
      "text/plain": "<Figure size 432x288 with 1 Axes>",
      "image/png": "[encoded data removed]"
     },
     "metadata": {
      "needs_background": "light"
     },
     "output_type": "display_data"
    }
   ],
   "source": [
    "raining_ratio_pred = y_cls_pred.sum()/(len(y_cls_pred) - y_cls_pred.sum())\n",
    "plt.title(\"test set : ratio = {:.2f}\".format(raining_ratio_pred))\n",
    "sns.histplot(x=y_cls_pred,hue=y_cls_pred)\n",
    "plt.show()"
   ],
   "metadata": {
    "collapsed": false,
    "pycharm": {
     "name": "#%%\n"
    }
   }
  },
  {
   "cell_type": "markdown",
   "source": [
    "## regression"
   ],
   "metadata": {
    "collapsed": false
   }
  },
  {
   "cell_type": "code",
   "execution_count": 33,
   "outputs": [],
   "source": [
    "y_reg_pred = model_reg.predict(x_test)"
   ],
   "metadata": {
    "collapsed": false,
    "pycharm": {
     "name": "#%%\n"
    }
   }
  },
  {
   "cell_type": "markdown",
   "source": [
    "## merge"
   ],
   "metadata": {
    "collapsed": false
   }
  },
  {
   "cell_type": "code",
   "execution_count": 34,
   "outputs": [],
   "source": [
    "prediction_x_test[\"reg_pred\"] = y_reg_pred\n",
    "prediction_x_test[\"cls_pred\"] = y_cls_pred\n",
    "prediction_x_test[\"Prediction\"] = prediction_x_test[\"reg_pred\"] * prediction_x_test[\"cls_pred\"]"
   ],
   "metadata": {
    "collapsed": false,
    "pycharm": {
     "name": "#%%\n"
    }
   }
  },
  {
   "cell_type": "code",
   "execution_count": 35,
   "outputs": [
    {
     "data": {
      "text/plain": "<Figure size 1440x720 with 6 Axes>",
      "image/png": "[encoded data removed]"
     },
     "metadata": {
      "needs_background": "light"
     },
     "output_type": "display_data"
    }
   ],
   "source": [
    "box_plot(prediction_x_test)"
   ],
   "metadata": {
    "collapsed": false,
    "pycharm": {
     "name": "#%%\n"
    }
   }
  },
  {
   "cell_type": "code",
   "execution_count": 36,
   "outputs": [],
   "source": [
    "del x_train\n",
    "del y_cls_train\n",
    "del y_reg_train"
   ],
   "metadata": {
    "collapsed": false,
    "pycharm": {
     "name": "#%%\n"
    }
   }
  },
  {
   "cell_type": "code",
   "execution_count": 37,
   "outputs": [],
   "source": [
    "del x_test\n",
    "del y_cls_test\n",
    "del y_reg_test"
   ],
   "metadata": {
    "collapsed": false,
    "pycharm": {
     "name": "#%%\n"
    }
   }
  },
  {
   "cell_type": "markdown",
   "source": [
    "# Make a submission"
   ],
   "metadata": {
    "collapsed": false
   }
  },
  {
   "cell_type": "code",
   "execution_count": 38,
   "outputs": [],
   "source": [
    "test_set = pd.read_csv(\"../preprocessed_data_Defi-IA-2022-Rain-Frogs/X_all_test_final_by_day.zip\")\n",
    "# test_set = pd.read_csv(\"../preprocessed_data_Defi-IA-2022-Rain-Frogs/X_all_test_final.zip\")"
   ],
   "metadata": {
    "collapsed": false,
    "pycharm": {
     "name": "#%%\n"
    }
   }
  },
  {
   "cell_type": "code",
   "execution_count": 41,
   "outputs": [],
   "source": [
    "test_set[\"cluster\"] = test_set[\"month\"].apply(lambda x : 0 if x in cluster_month_0 else 1)"
   ],
   "metadata": {
    "collapsed": false,
    "pycharm": {
     "name": "#%%\n"
    }
   }
  },
  {
   "cell_type": "markdown",
   "source": [
    "## create submission dataset"
   ],
   "metadata": {
    "collapsed": false
   }
  },
  {
   "cell_type": "code",
   "execution_count": 42,
   "outputs": [],
   "source": [
    "submission = pd.DataFrame(test_set[[\"Id\"]])"
   ],
   "metadata": {
    "collapsed": false,
    "pycharm": {
     "name": "#%%\n"
    }
   }
  },
  {
   "cell_type": "markdown",
   "source": [
    "## get same columns as before for test_set"
   ],
   "metadata": {
    "collapsed": false
   }
  },
  {
   "cell_type": "code",
   "execution_count": 43,
   "outputs": [],
   "source": [
    "test_set = test_set[columns]"
   ],
   "metadata": {
    "collapsed": false,
    "pycharm": {
     "name": "#%%\n"
    }
   }
  },
  {
   "cell_type": "markdown",
   "source": [
    "## normalize same way test_set"
   ],
   "metadata": {
    "collapsed": false
   }
  },
  {
   "cell_type": "code",
   "execution_count": 44,
   "outputs": [
    {
     "name": "stderr",
     "output_type": "stream",
     "text": [
      "/tmp/ipykernel_543773/2834267713.py:17: SettingWithCopyWarning: \n",
      "A value is trying to be set on a copy of a slice from a DataFrame.\n",
      "Try using .loc[row_indexer,col_indexer] = value instead\n",
      "\n",
      "See the caveats in the documentation: https://pandas.pydata.org/pandas-docs/stable/user_guide/indexing.html#returning-a-view-versus-a-copy\n",
      "  x[col] = (x[col] - normalization_infos[col][\"min\"])/normalization_infos[col][\"spread\"]\n"
     ]
    }
   ],
   "source": [
    "test_set = normalize(test_set,normalization_infos)"
   ],
   "metadata": {
    "collapsed": false,
    "pycharm": {
     "name": "#%%\n"
    }
   }
  },
  {
   "cell_type": "code",
   "execution_count": 45,
   "outputs": [
    {
     "data": {
      "text/plain": "   altitude (m)  latitude  longitude  month_cos  month_sin  \\\n0      0.152632      0.75   0.833333   0.000000   0.500000   \n1      0.152632      0.75   0.833333   0.750000   0.933013   \n2      0.152632      0.75   0.833333   0.933013   0.250000   \n3      0.152632      0.75   0.833333   0.250000   0.933013   \n4      0.152632      0.75   0.833333   0.066987   0.250000   \n\n   current hour precipitations (kg/m^2)  wind_direction_cos  \\\n0                               0.00000            0.335841   \n1                               0.00000            0.335841   \n2                               0.09375            0.335841   \n3                               0.00000            0.335841   \n4                               0.00000            0.335841   \n\n   wind_direction_sin  wind_speed (m/s)  wind_component_u (m/s)  ...  \\\n0            0.972284          0.096735                 0.43423  ...   \n1            0.972284          0.096735                 0.43423  ...   \n2            0.972284          0.096735                 0.43423  ...   \n3            0.972284          0.096735                 0.43423  ...   \n4            0.972284          0.096735                 0.43423  ...   \n\n   3D_Arpege_isobar_600hpa_Geopotential (m^2/s^2)  \\\n0                                        0.944588   \n1                                        0.987683   \n2                                        0.905300   \n3                                        0.894589   \n4                                        0.947055   \n\n   3D_Arpege_isobar_500hpa_Temperature (K)  \\\n0                                 0.580973   \n1                                 0.851050   \n2                                 0.271608   \n3                                 0.461949   \n4                                 0.602551   \n\n   3D_Arpege_isobar_500hpa_RelavtiveHumidity (%)  \\\n0                                       0.679873   \n1                                       0.243663   \n2                                       0.536040   \n3                                       0.822743   \n4                                       0.339574   \n\n   3D_Arpege_isobar_500hpa_WindSpeed (m/s)  \\\n0                                 0.158791   \n1                                 0.169768   \n2                                 0.349677   \n3                                 0.648840   \n4                                 0.163890   \n\n   3D_Arpege_isobar_500hpa_WindDirection (deg)  \\\n0                                     0.679938   \n1                                     0.688638   \n2                                     0.700741   \n3                                     0.583620   \n4                                     0.669567   \n\n   3D_Arpege_isobar_500hpa_WindComponentU (m/s)  \\\n0                                      0.513694   \n1                                      0.520906   \n2                                      0.613256   \n3                                      0.614184   \n4                                      0.503793   \n\n   3D_Arpege_isobar_500hpa_WindComponentV (m/s)  \\\n0                                      0.603836   \n1                                      0.601052   \n2                                      0.614223   \n3                                      0.950458   \n4                                      0.610642   \n\n   3D_Arpege_isobar_500hpa_VerticalVelocity (Pa/s)  \\\n0                                         0.584511   \n1                                         0.569387   \n2                                         0.542626   \n3                                         0.521686   \n4                                         0.536338   \n\n   3D_Arpege_isobar_500hpa_Geopotential (m^2/s^2)  cluster  \n0                                        0.948570      1.0  \n1                                        0.989601      0.0  \n2                                        0.909959      0.0  \n3                                        0.907201      1.0  \n4                                        0.950927      1.0  \n\n[5 rows x 98 columns]",
      "text/html": "<div>\n<style scoped>\n    .dataframe tbody tr th:only-of-type {\n        vertical-align: middle;\n    }\n\n    .dataframe tbody tr th {\n        vertical-align: top;\n    }\n\n    .dataframe thead th {\n        text-align: right;\n    }\n</style>\n<table border=\"1\" class=\"dataframe\">\n  <thead>\n    <tr style=\"text-align: right;\">\n      <th></th>\n      <th>altitude (m)</th>\n      <th>latitude</th>\n      <th>longitude</th>\n      <th>month_cos</th>\n      <th>month_sin</th>\n      <th>current hour precipitations (kg/m^2)</th>\n      <th>wind_direction_cos</th>\n      <th>wind_direction_sin</th>\n      <th>wind_speed (m/s)</th>\n      <th>wind_component_u (m/s)</th>\n      <th>...</th>\n      <th>3D_Arpege_isobar_600hpa_Geopotential (m^2/s^2)</th>\n      <th>3D_Arpege_isobar_500hpa_Temperature (K)</th>\n      <th>3D_Arpege_isobar_500hpa_RelavtiveHumidity (%)</th>\n      <th>3D_Arpege_isobar_500hpa_WindSpeed (m/s)</th>\n      <th>3D_Arpege_isobar_500hpa_WindDirection (deg)</th>\n      <th>3D_Arpege_isobar_500hpa_WindComponentU (m/s)</th>\n      <th>3D_Arpege_isobar_500hpa_WindComponentV (m/s)</th>\n      <th>3D_Arpege_isobar_500hpa_VerticalVelocity (Pa/s)</th>\n      <th>3D_Arpege_isobar_500hpa_Geopotential (m^2/s^2)</th>\n      <th>cluster</th>\n    </tr>\n  </thead>\n  <tbody>\n    <tr>\n      <th>0</th>\n      <td>0.152632</td>\n      <td>0.75</td>\n      <td>0.833333</td>\n      <td>0.000000</td>\n      <td>0.500000</td>\n      <td>0.00000</td>\n      <td>0.335841</td>\n      <td>0.972284</td>\n      <td>0.096735</td>\n      <td>0.43423</td>\n      <td>...</td>\n      <td>0.944588</td>\n      <td>0.580973</td>\n      <td>0.679873</td>\n      <td>0.158791</td>\n      <td>0.679938</td>\n      <td>0.513694</td>\n      <td>0.603836</td>\n      <td>0.584511</td>\n      <td>0.948570</td>\n      <td>1.0</td>\n    </tr>\n    <tr>\n      <th>1</th>\n      <td>0.152632</td>\n      <td>0.75</td>\n      <td>0.833333</td>\n      <td>0.750000</td>\n      <td>0.933013</td>\n      <td>0.00000</td>\n      <td>0.335841</td>\n      <td>0.972284</td>\n      <td>0.096735</td>\n      <td>0.43423</td>\n      <td>...</td>\n      <td>0.987683</td>\n      <td>0.851050</td>\n      <td>0.243663</td>\n      <td>0.169768</td>\n      <td>0.688638</td>\n      <td>0.520906</td>\n      <td>0.601052</td>\n      <td>0.569387</td>\n      <td>0.989601</td>\n      <td>0.0</td>\n    </tr>\n    <tr>\n      <th>2</th>\n      <td>0.152632</td>\n      <td>0.75</td>\n      <td>0.833333</td>\n      <td>0.933013</td>\n      <td>0.250000</td>\n      <td>0.09375</td>\n      <td>0.335841</td>\n      <td>0.972284</td>\n      <td>0.096735</td>\n      <td>0.43423</td>\n      <td>...</td>\n      <td>0.905300</td>\n      <td>0.271608</td>\n      <td>0.536040</td>\n      <td>0.349677</td>\n      <td>0.700741</td>\n      <td>0.613256</td>\n      <td>0.614223</td>\n      <td>0.542626</td>\n      <td>0.909959</td>\n      <td>0.0</td>\n    </tr>\n    <tr>\n      <th>3</th>\n      <td>0.152632</td>\n      <td>0.75</td>\n      <td>0.833333</td>\n      <td>0.250000</td>\n      <td>0.933013</td>\n      <td>0.00000</td>\n      <td>0.335841</td>\n      <td>0.972284</td>\n      <td>0.096735</td>\n      <td>0.43423</td>\n      <td>...</td>\n      <td>0.894589</td>\n      <td>0.461949</td>\n      <td>0.822743</td>\n      <td>0.648840</td>\n      <td>0.583620</td>\n      <td>0.614184</td>\n      <td>0.950458</td>\n      <td>0.521686</td>\n      <td>0.907201</td>\n      <td>1.0</td>\n    </tr>\n    <tr>\n      <th>4</th>\n      <td>0.152632</td>\n      <td>0.75</td>\n      <td>0.833333</td>\n      <td>0.066987</td>\n      <td>0.250000</td>\n      <td>0.00000</td>\n      <td>0.335841</td>\n      <td>0.972284</td>\n      <td>0.096735</td>\n      <td>0.43423</td>\n      <td>...</td>\n      <td>0.947055</td>\n      <td>0.602551</td>\n      <td>0.339574</td>\n      <td>0.163890</td>\n      <td>0.669567</td>\n      <td>0.503793</td>\n      <td>0.610642</td>\n      <td>0.536338</td>\n      <td>0.950927</td>\n      <td>1.0</td>\n    </tr>\n  </tbody>\n</table>\n<p>5 rows × 98 columns</p>\n</div>"
     },
     "execution_count": 45,
     "metadata": {},
     "output_type": "execute_result"
    }
   ],
   "source": [
    "test_set.head()"
   ],
   "metadata": {
    "collapsed": false,
    "pycharm": {
     "name": "#%%\n"
    }
   }
  },
  {
   "cell_type": "markdown",
   "source": [
    "## Predict test_set for submission"
   ],
   "metadata": {
    "collapsed": false
   }
  },
  {
   "cell_type": "code",
   "execution_count": 54,
   "outputs": [
    {
     "name": "stderr",
     "output_type": "stream",
     "text": [
      "2022-01-09 22:00:29.787299: W tensorflow/core/framework/cpu_allocator_impl.cc:82] Allocation of 92492400 exceeds 10% of free system memory.\n"
     ]
    }
   ],
   "source": [
    "y_cls_pred = model_cls.predict(test_set)"
   ],
   "metadata": {
    "collapsed": false,
    "pycharm": {
     "name": "#%%\n"
    }
   }
  },
  {
   "cell_type": "code",
   "execution_count": 55,
   "outputs": [],
   "source": [
    "y_reg_pred = model_reg.predict(test_set)"
   ],
   "metadata": {
    "collapsed": false,
    "pycharm": {
     "name": "#%%\n"
    }
   }
  },
  {
   "cell_type": "code",
   "execution_count": 56,
   "outputs": [
    {
     "ename": "KeyboardInterrupt",
     "evalue": "",
     "output_type": "error",
     "traceback": [
      "\u001B[0;31m---------------------------------------------------------------------------\u001B[0m",
      "\u001B[0;31mKeyboardInterrupt\u001B[0m                         Traceback (most recent call last)",
      "\u001B[0;32m/tmp/ipykernel_543773/3779177752.py\u001B[0m in \u001B[0;36m<module>\u001B[0;34m\u001B[0m\n\u001B[0;32m----> 1\u001B[0;31m \u001B[0msns\u001B[0m\u001B[0;34m.\u001B[0m\u001B[0mhistplot\u001B[0m\u001B[0;34m(\u001B[0m\u001B[0mx\u001B[0m\u001B[0;34m=\u001B[0m\u001B[0my_cls_pred\u001B[0m\u001B[0;34m[\u001B[0m\u001B[0;34m:\u001B[0m\u001B[0;34m,\u001B[0m\u001B[0;36m1\u001B[0m\u001B[0;34m]\u001B[0m\u001B[0;34m,\u001B[0m \u001B[0mhue\u001B[0m\u001B[0;34m=\u001B[0m\u001B[0my_cls_pred\u001B[0m\u001B[0;34m[\u001B[0m\u001B[0;34m:\u001B[0m\u001B[0;34m,\u001B[0m\u001B[0;36m1\u001B[0m\u001B[0;34m]\u001B[0m\u001B[0;34m)\u001B[0m\u001B[0;34m\u001B[0m\u001B[0;34m\u001B[0m\u001B[0m\n\u001B[0m\u001B[1;32m      2\u001B[0m \u001B[0mplt\u001B[0m\u001B[0;34m.\u001B[0m\u001B[0mshow\u001B[0m\u001B[0;34m(\u001B[0m\u001B[0;34m)\u001B[0m\u001B[0;34m\u001B[0m\u001B[0;34m\u001B[0m\u001B[0m\n",
      "\u001B[0;32m~/.local/lib/python3.8/site-packages/seaborn/distributions.py\u001B[0m in \u001B[0;36mhistplot\u001B[0;34m(data, x, y, hue, weights, stat, bins, binwidth, binrange, discrete, cumulative, common_bins, common_norm, multiple, element, fill, shrink, kde, kde_kws, line_kws, thresh, pthresh, pmax, cbar, cbar_ax, cbar_kws, palette, hue_order, hue_norm, color, log_scale, legend, ax, **kwargs)\u001B[0m\n\u001B[1;32m   1460\u001B[0m     \u001B[0;32mif\u001B[0m \u001B[0mp\u001B[0m\u001B[0;34m.\u001B[0m\u001B[0munivariate\u001B[0m\u001B[0;34m:\u001B[0m\u001B[0;34m\u001B[0m\u001B[0;34m\u001B[0m\u001B[0m\n\u001B[1;32m   1461\u001B[0m \u001B[0;34m\u001B[0m\u001B[0m\n\u001B[0;32m-> 1462\u001B[0;31m         p.plot_univariate_histogram(\n\u001B[0m\u001B[1;32m   1463\u001B[0m             \u001B[0mmultiple\u001B[0m\u001B[0;34m=\u001B[0m\u001B[0mmultiple\u001B[0m\u001B[0;34m,\u001B[0m\u001B[0;34m\u001B[0m\u001B[0;34m\u001B[0m\u001B[0m\n\u001B[1;32m   1464\u001B[0m             \u001B[0melement\u001B[0m\u001B[0;34m=\u001B[0m\u001B[0melement\u001B[0m\u001B[0;34m,\u001B[0m\u001B[0;34m\u001B[0m\u001B[0;34m\u001B[0m\u001B[0m\n",
      "\u001B[0;32m~/.local/lib/python3.8/site-packages/seaborn/distributions.py\u001B[0m in \u001B[0;36mplot_univariate_histogram\u001B[0;34m(self, multiple, element, fill, common_norm, common_bins, shrink, kde, kde_kws, color, legend, line_kws, estimate_kws, **plot_kws)\u001B[0m\n\u001B[1;32m    430\u001B[0m             \u001B[0;31m# Prepare the relevant data\u001B[0m\u001B[0;34m\u001B[0m\u001B[0;34m\u001B[0m\u001B[0;34m\u001B[0m\u001B[0m\n\u001B[1;32m    431\u001B[0m             \u001B[0mkey\u001B[0m \u001B[0;34m=\u001B[0m \u001B[0mtuple\u001B[0m\u001B[0;34m(\u001B[0m\u001B[0msub_vars\u001B[0m\u001B[0;34m.\u001B[0m\u001B[0mitems\u001B[0m\u001B[0;34m(\u001B[0m\u001B[0;34m)\u001B[0m\u001B[0;34m)\u001B[0m\u001B[0;34m\u001B[0m\u001B[0;34m\u001B[0m\u001B[0m\n\u001B[0;32m--> 432\u001B[0;31m             \u001B[0msub_data\u001B[0m \u001B[0;34m=\u001B[0m \u001B[0msub_data\u001B[0m\u001B[0;34m.\u001B[0m\u001B[0mdropna\u001B[0m\u001B[0;34m(\u001B[0m\u001B[0;34m)\u001B[0m\u001B[0;34m\u001B[0m\u001B[0;34m\u001B[0m\u001B[0m\n\u001B[0m\u001B[1;32m    433\u001B[0m             \u001B[0mobservations\u001B[0m \u001B[0;34m=\u001B[0m \u001B[0msub_data\u001B[0m\u001B[0;34m[\u001B[0m\u001B[0mself\u001B[0m\u001B[0;34m.\u001B[0m\u001B[0mdata_variable\u001B[0m\u001B[0;34m]\u001B[0m\u001B[0;34m\u001B[0m\u001B[0;34m\u001B[0m\u001B[0m\n\u001B[1;32m    434\u001B[0m \u001B[0;34m\u001B[0m\u001B[0m\n",
      "\u001B[0;32m~/.local/lib/python3.8/site-packages/pandas/util/_decorators.py\u001B[0m in \u001B[0;36mwrapper\u001B[0;34m(*args, **kwargs)\u001B[0m\n\u001B[1;32m    309\u001B[0m                     \u001B[0mstacklevel\u001B[0m\u001B[0;34m=\u001B[0m\u001B[0mstacklevel\u001B[0m\u001B[0;34m,\u001B[0m\u001B[0;34m\u001B[0m\u001B[0;34m\u001B[0m\u001B[0m\n\u001B[1;32m    310\u001B[0m                 )\n\u001B[0;32m--> 311\u001B[0;31m             \u001B[0;32mreturn\u001B[0m \u001B[0mfunc\u001B[0m\u001B[0;34m(\u001B[0m\u001B[0;34m*\u001B[0m\u001B[0margs\u001B[0m\u001B[0;34m,\u001B[0m \u001B[0;34m**\u001B[0m\u001B[0mkwargs\u001B[0m\u001B[0;34m)\u001B[0m\u001B[0;34m\u001B[0m\u001B[0;34m\u001B[0m\u001B[0m\n\u001B[0m\u001B[1;32m    312\u001B[0m \u001B[0;34m\u001B[0m\u001B[0m\n\u001B[1;32m    313\u001B[0m         \u001B[0;32mreturn\u001B[0m \u001B[0mwrapper\u001B[0m\u001B[0;34m\u001B[0m\u001B[0;34m\u001B[0m\u001B[0m\n",
      "\u001B[0;32m~/.local/lib/python3.8/site-packages/pandas/core/frame.py\u001B[0m in \u001B[0;36mdropna\u001B[0;34m(self, axis, how, thresh, subset, inplace)\u001B[0m\n\u001B[1;32m   5954\u001B[0m             \u001B[0magg_obj\u001B[0m \u001B[0;34m=\u001B[0m \u001B[0mself\u001B[0m\u001B[0;34m.\u001B[0m\u001B[0mtake\u001B[0m\u001B[0;34m(\u001B[0m\u001B[0mindices\u001B[0m\u001B[0;34m,\u001B[0m \u001B[0maxis\u001B[0m\u001B[0;34m=\u001B[0m\u001B[0magg_axis\u001B[0m\u001B[0;34m)\u001B[0m\u001B[0;34m\u001B[0m\u001B[0;34m\u001B[0m\u001B[0m\n\u001B[1;32m   5955\u001B[0m \u001B[0;34m\u001B[0m\u001B[0m\n\u001B[0;32m-> 5956\u001B[0;31m         \u001B[0mcount\u001B[0m \u001B[0;34m=\u001B[0m \u001B[0magg_obj\u001B[0m\u001B[0;34m.\u001B[0m\u001B[0mcount\u001B[0m\u001B[0;34m(\u001B[0m\u001B[0maxis\u001B[0m\u001B[0;34m=\u001B[0m\u001B[0magg_axis\u001B[0m\u001B[0;34m)\u001B[0m\u001B[0;34m\u001B[0m\u001B[0;34m\u001B[0m\u001B[0m\n\u001B[0m\u001B[1;32m   5957\u001B[0m \u001B[0;34m\u001B[0m\u001B[0m\n\u001B[1;32m   5958\u001B[0m         \u001B[0;32mif\u001B[0m \u001B[0mthresh\u001B[0m \u001B[0;32mis\u001B[0m \u001B[0;32mnot\u001B[0m \u001B[0;32mNone\u001B[0m\u001B[0;34m:\u001B[0m\u001B[0;34m\u001B[0m\u001B[0;34m\u001B[0m\u001B[0m\n",
      "\u001B[0;32m~/.local/lib/python3.8/site-packages/pandas/core/frame.py\u001B[0m in \u001B[0;36mcount\u001B[0;34m(self, axis, level, numeric_only)\u001B[0m\n\u001B[1;32m   9716\u001B[0m                 \u001B[0;31m# the or any_extension_types is really only hit for single-\u001B[0m\u001B[0;34m\u001B[0m\u001B[0;34m\u001B[0m\u001B[0;34m\u001B[0m\u001B[0m\n\u001B[1;32m   9717\u001B[0m                 \u001B[0;31m# column frames with an extension array\u001B[0m\u001B[0;34m\u001B[0m\u001B[0;34m\u001B[0m\u001B[0;34m\u001B[0m\u001B[0m\n\u001B[0;32m-> 9718\u001B[0;31m                 \u001B[0mresult\u001B[0m \u001B[0;34m=\u001B[0m \u001B[0mnotna\u001B[0m\u001B[0;34m(\u001B[0m\u001B[0mframe\u001B[0m\u001B[0;34m)\u001B[0m\u001B[0;34m.\u001B[0m\u001B[0msum\u001B[0m\u001B[0;34m(\u001B[0m\u001B[0maxis\u001B[0m\u001B[0;34m=\u001B[0m\u001B[0maxis\u001B[0m\u001B[0;34m)\u001B[0m\u001B[0;34m\u001B[0m\u001B[0;34m\u001B[0m\u001B[0m\n\u001B[0m\u001B[1;32m   9719\u001B[0m             \u001B[0;32melse\u001B[0m\u001B[0;34m:\u001B[0m\u001B[0;34m\u001B[0m\u001B[0;34m\u001B[0m\u001B[0m\n\u001B[1;32m   9720\u001B[0m                 \u001B[0;31m# GH13407\u001B[0m\u001B[0;34m\u001B[0m\u001B[0;34m\u001B[0m\u001B[0;34m\u001B[0m\u001B[0m\n",
      "\u001B[0;32m~/.local/lib/python3.8/site-packages/pandas/core/generic.py\u001B[0m in \u001B[0;36msum\u001B[0;34m(self, axis, skipna, level, numeric_only, min_count, **kwargs)\u001B[0m\n\u001B[1;32m  10706\u001B[0m             \u001B[0;34m**\u001B[0m\u001B[0mkwargs\u001B[0m\u001B[0;34m,\u001B[0m\u001B[0;34m\u001B[0m\u001B[0;34m\u001B[0m\u001B[0m\n\u001B[1;32m  10707\u001B[0m         ):\n\u001B[0;32m> 10708\u001B[0;31m             return NDFrame.sum(\n\u001B[0m\u001B[1;32m  10709\u001B[0m                 \u001B[0mself\u001B[0m\u001B[0;34m,\u001B[0m \u001B[0maxis\u001B[0m\u001B[0;34m,\u001B[0m \u001B[0mskipna\u001B[0m\u001B[0;34m,\u001B[0m \u001B[0mlevel\u001B[0m\u001B[0;34m,\u001B[0m \u001B[0mnumeric_only\u001B[0m\u001B[0;34m,\u001B[0m \u001B[0mmin_count\u001B[0m\u001B[0;34m,\u001B[0m \u001B[0;34m**\u001B[0m\u001B[0mkwargs\u001B[0m\u001B[0;34m\u001B[0m\u001B[0;34m\u001B[0m\u001B[0m\n\u001B[1;32m  10710\u001B[0m             )\n",
      "\u001B[0;32m~/.local/lib/python3.8/site-packages/pandas/core/generic.py\u001B[0m in \u001B[0;36msum\u001B[0;34m(self, axis, skipna, level, numeric_only, min_count, **kwargs)\u001B[0m\n\u001B[1;32m  10444\u001B[0m         \u001B[0;34m**\u001B[0m\u001B[0mkwargs\u001B[0m\u001B[0;34m,\u001B[0m\u001B[0;34m\u001B[0m\u001B[0;34m\u001B[0m\u001B[0m\n\u001B[1;32m  10445\u001B[0m     ):\n\u001B[0;32m> 10446\u001B[0;31m         return self._min_count_stat_function(\n\u001B[0m\u001B[1;32m  10447\u001B[0m             \u001B[0;34m\"sum\"\u001B[0m\u001B[0;34m,\u001B[0m \u001B[0mnanops\u001B[0m\u001B[0;34m.\u001B[0m\u001B[0mnansum\u001B[0m\u001B[0;34m,\u001B[0m \u001B[0maxis\u001B[0m\u001B[0;34m,\u001B[0m \u001B[0mskipna\u001B[0m\u001B[0;34m,\u001B[0m \u001B[0mlevel\u001B[0m\u001B[0;34m,\u001B[0m \u001B[0mnumeric_only\u001B[0m\u001B[0;34m,\u001B[0m \u001B[0mmin_count\u001B[0m\u001B[0;34m,\u001B[0m \u001B[0;34m**\u001B[0m\u001B[0mkwargs\u001B[0m\u001B[0;34m\u001B[0m\u001B[0;34m\u001B[0m\u001B[0m\n\u001B[1;32m  10448\u001B[0m         )\n",
      "\u001B[0;32m~/.local/lib/python3.8/site-packages/pandas/core/generic.py\u001B[0m in \u001B[0;36m_min_count_stat_function\u001B[0;34m(self, name, func, axis, skipna, level, numeric_only, min_count, **kwargs)\u001B[0m\n\u001B[1;32m  10426\u001B[0m                 \u001B[0mnumeric_only\u001B[0m\u001B[0;34m=\u001B[0m\u001B[0mnumeric_only\u001B[0m\u001B[0;34m,\u001B[0m\u001B[0;34m\u001B[0m\u001B[0;34m\u001B[0m\u001B[0m\n\u001B[1;32m  10427\u001B[0m             )\n\u001B[0;32m> 10428\u001B[0;31m         return self._reduce(\n\u001B[0m\u001B[1;32m  10429\u001B[0m             \u001B[0mfunc\u001B[0m\u001B[0;34m,\u001B[0m\u001B[0;34m\u001B[0m\u001B[0;34m\u001B[0m\u001B[0m\n\u001B[1;32m  10430\u001B[0m             \u001B[0mname\u001B[0m\u001B[0;34m=\u001B[0m\u001B[0mname\u001B[0m\u001B[0;34m,\u001B[0m\u001B[0;34m\u001B[0m\u001B[0;34m\u001B[0m\u001B[0m\n",
      "\u001B[0;32m~/.local/lib/python3.8/site-packages/pandas/core/frame.py\u001B[0m in \u001B[0;36m_reduce\u001B[0;34m(self, op, name, axis, skipna, numeric_only, filter_type, **kwds)\u001B[0m\n\u001B[1;32m   9877\u001B[0m \u001B[0;34m\u001B[0m\u001B[0m\n\u001B[1;32m   9878\u001B[0m         \u001B[0mdata\u001B[0m \u001B[0;34m=\u001B[0m \u001B[0mself\u001B[0m\u001B[0;34m\u001B[0m\u001B[0;34m\u001B[0m\u001B[0m\n\u001B[0;32m-> 9879\u001B[0;31m         \u001B[0mvalues\u001B[0m \u001B[0;34m=\u001B[0m \u001B[0mdata\u001B[0m\u001B[0;34m.\u001B[0m\u001B[0mvalues\u001B[0m\u001B[0;34m\u001B[0m\u001B[0;34m\u001B[0m\u001B[0m\n\u001B[0m\u001B[1;32m   9880\u001B[0m \u001B[0;34m\u001B[0m\u001B[0m\n\u001B[1;32m   9881\u001B[0m         \u001B[0;32mtry\u001B[0m\u001B[0;34m:\u001B[0m\u001B[0;34m\u001B[0m\u001B[0;34m\u001B[0m\u001B[0m\n",
      "\u001B[0;32m~/.local/lib/python3.8/site-packages/pandas/core/frame.py\u001B[0m in \u001B[0;36mvalues\u001B[0;34m(self)\u001B[0m\n\u001B[1;32m  10661\u001B[0m                ['monkey', nan, None]], dtype=object)\n\u001B[1;32m  10662\u001B[0m         \"\"\"\n\u001B[0;32m> 10663\u001B[0;31m         \u001B[0mself\u001B[0m\u001B[0;34m.\u001B[0m\u001B[0m_consolidate_inplace\u001B[0m\u001B[0;34m(\u001B[0m\u001B[0;34m)\u001B[0m\u001B[0;34m\u001B[0m\u001B[0;34m\u001B[0m\u001B[0m\n\u001B[0m\u001B[1;32m  10664\u001B[0m         \u001B[0;32mreturn\u001B[0m \u001B[0mself\u001B[0m\u001B[0;34m.\u001B[0m\u001B[0m_mgr\u001B[0m\u001B[0;34m.\u001B[0m\u001B[0mas_array\u001B[0m\u001B[0;34m(\u001B[0m\u001B[0mtranspose\u001B[0m\u001B[0;34m=\u001B[0m\u001B[0;32mTrue\u001B[0m\u001B[0;34m)\u001B[0m\u001B[0;34m\u001B[0m\u001B[0;34m\u001B[0m\u001B[0m\n\u001B[1;32m  10665\u001B[0m \u001B[0;34m\u001B[0m\u001B[0m\n",
      "\u001B[0;32m~/.local/lib/python3.8/site-packages/pandas/core/generic.py\u001B[0m in \u001B[0;36m_consolidate_inplace\u001B[0;34m(self)\u001B[0m\n\u001B[1;32m   5563\u001B[0m             \u001B[0mself\u001B[0m\u001B[0;34m.\u001B[0m\u001B[0m_mgr\u001B[0m \u001B[0;34m=\u001B[0m \u001B[0mself\u001B[0m\u001B[0;34m.\u001B[0m\u001B[0m_mgr\u001B[0m\u001B[0;34m.\u001B[0m\u001B[0mconsolidate\u001B[0m\u001B[0;34m(\u001B[0m\u001B[0;34m)\u001B[0m\u001B[0;34m\u001B[0m\u001B[0;34m\u001B[0m\u001B[0m\n\u001B[1;32m   5564\u001B[0m \u001B[0;34m\u001B[0m\u001B[0m\n\u001B[0;32m-> 5565\u001B[0;31m         \u001B[0mself\u001B[0m\u001B[0;34m.\u001B[0m\u001B[0m_protect_consolidate\u001B[0m\u001B[0;34m(\u001B[0m\u001B[0mf\u001B[0m\u001B[0;34m)\u001B[0m\u001B[0;34m\u001B[0m\u001B[0;34m\u001B[0m\u001B[0m\n\u001B[0m\u001B[1;32m   5566\u001B[0m \u001B[0;34m\u001B[0m\u001B[0m\n\u001B[1;32m   5567\u001B[0m     \u001B[0;34m@\u001B[0m\u001B[0mfinal\u001B[0m\u001B[0;34m\u001B[0m\u001B[0;34m\u001B[0m\u001B[0m\n",
      "\u001B[0;32m~/.local/lib/python3.8/site-packages/pandas/core/generic.py\u001B[0m in \u001B[0;36m_protect_consolidate\u001B[0;34m(self, f)\u001B[0m\n\u001B[1;32m   5551\u001B[0m             \u001B[0;32mreturn\u001B[0m \u001B[0mf\u001B[0m\u001B[0;34m(\u001B[0m\u001B[0;34m)\u001B[0m\u001B[0;34m\u001B[0m\u001B[0;34m\u001B[0m\u001B[0m\n\u001B[1;32m   5552\u001B[0m         \u001B[0mblocks_before\u001B[0m \u001B[0;34m=\u001B[0m \u001B[0mlen\u001B[0m\u001B[0;34m(\u001B[0m\u001B[0mself\u001B[0m\u001B[0;34m.\u001B[0m\u001B[0m_mgr\u001B[0m\u001B[0;34m.\u001B[0m\u001B[0mblocks\u001B[0m\u001B[0;34m)\u001B[0m\u001B[0;34m\u001B[0m\u001B[0;34m\u001B[0m\u001B[0m\n\u001B[0;32m-> 5553\u001B[0;31m         \u001B[0mresult\u001B[0m \u001B[0;34m=\u001B[0m \u001B[0mf\u001B[0m\u001B[0;34m(\u001B[0m\u001B[0;34m)\u001B[0m\u001B[0;34m\u001B[0m\u001B[0;34m\u001B[0m\u001B[0m\n\u001B[0m\u001B[1;32m   5554\u001B[0m         \u001B[0;32mif\u001B[0m \u001B[0mlen\u001B[0m\u001B[0;34m(\u001B[0m\u001B[0mself\u001B[0m\u001B[0;34m.\u001B[0m\u001B[0m_mgr\u001B[0m\u001B[0;34m.\u001B[0m\u001B[0mblocks\u001B[0m\u001B[0;34m)\u001B[0m \u001B[0;34m!=\u001B[0m \u001B[0mblocks_before\u001B[0m\u001B[0;34m:\u001B[0m\u001B[0;34m\u001B[0m\u001B[0;34m\u001B[0m\u001B[0m\n\u001B[1;32m   5555\u001B[0m             \u001B[0mself\u001B[0m\u001B[0;34m.\u001B[0m\u001B[0m_clear_item_cache\u001B[0m\u001B[0;34m(\u001B[0m\u001B[0;34m)\u001B[0m\u001B[0;34m\u001B[0m\u001B[0;34m\u001B[0m\u001B[0m\n",
      "\u001B[0;32m~/.local/lib/python3.8/site-packages/pandas/core/generic.py\u001B[0m in \u001B[0;36mf\u001B[0;34m()\u001B[0m\n\u001B[1;32m   5561\u001B[0m \u001B[0;34m\u001B[0m\u001B[0m\n\u001B[1;32m   5562\u001B[0m         \u001B[0;32mdef\u001B[0m \u001B[0mf\u001B[0m\u001B[0;34m(\u001B[0m\u001B[0;34m)\u001B[0m\u001B[0;34m:\u001B[0m\u001B[0;34m\u001B[0m\u001B[0;34m\u001B[0m\u001B[0m\n\u001B[0;32m-> 5563\u001B[0;31m             \u001B[0mself\u001B[0m\u001B[0;34m.\u001B[0m\u001B[0m_mgr\u001B[0m \u001B[0;34m=\u001B[0m \u001B[0mself\u001B[0m\u001B[0;34m.\u001B[0m\u001B[0m_mgr\u001B[0m\u001B[0;34m.\u001B[0m\u001B[0mconsolidate\u001B[0m\u001B[0;34m(\u001B[0m\u001B[0;34m)\u001B[0m\u001B[0;34m\u001B[0m\u001B[0;34m\u001B[0m\u001B[0m\n\u001B[0m\u001B[1;32m   5564\u001B[0m \u001B[0;34m\u001B[0m\u001B[0m\n\u001B[1;32m   5565\u001B[0m         \u001B[0mself\u001B[0m\u001B[0;34m.\u001B[0m\u001B[0m_protect_consolidate\u001B[0m\u001B[0;34m(\u001B[0m\u001B[0mf\u001B[0m\u001B[0;34m)\u001B[0m\u001B[0;34m\u001B[0m\u001B[0;34m\u001B[0m\u001B[0m\n",
      "\u001B[0;32m~/.local/lib/python3.8/site-packages/pandas/core/internals/managers.py\u001B[0m in \u001B[0;36mconsolidate\u001B[0;34m(self)\u001B[0m\n\u001B[1;32m    617\u001B[0m         \u001B[0mbm\u001B[0m \u001B[0;34m=\u001B[0m \u001B[0mtype\u001B[0m\u001B[0;34m(\u001B[0m\u001B[0mself\u001B[0m\u001B[0;34m)\u001B[0m\u001B[0;34m(\u001B[0m\u001B[0mself\u001B[0m\u001B[0;34m.\u001B[0m\u001B[0mblocks\u001B[0m\u001B[0;34m,\u001B[0m \u001B[0mself\u001B[0m\u001B[0;34m.\u001B[0m\u001B[0maxes\u001B[0m\u001B[0;34m,\u001B[0m \u001B[0mverify_integrity\u001B[0m\u001B[0;34m=\u001B[0m\u001B[0;32mFalse\u001B[0m\u001B[0;34m)\u001B[0m\u001B[0;34m\u001B[0m\u001B[0;34m\u001B[0m\u001B[0m\n\u001B[1;32m    618\u001B[0m         \u001B[0mbm\u001B[0m\u001B[0;34m.\u001B[0m\u001B[0m_is_consolidated\u001B[0m \u001B[0;34m=\u001B[0m \u001B[0;32mFalse\u001B[0m\u001B[0;34m\u001B[0m\u001B[0;34m\u001B[0m\u001B[0m\n\u001B[0;32m--> 619\u001B[0;31m         \u001B[0mbm\u001B[0m\u001B[0;34m.\u001B[0m\u001B[0m_consolidate_inplace\u001B[0m\u001B[0;34m(\u001B[0m\u001B[0;34m)\u001B[0m\u001B[0;34m\u001B[0m\u001B[0;34m\u001B[0m\u001B[0m\n\u001B[0m\u001B[1;32m    620\u001B[0m         \u001B[0;32mreturn\u001B[0m \u001B[0mbm\u001B[0m\u001B[0;34m\u001B[0m\u001B[0;34m\u001B[0m\u001B[0m\n\u001B[1;32m    621\u001B[0m \u001B[0;34m\u001B[0m\u001B[0m\n",
      "\u001B[0;32m~/.local/lib/python3.8/site-packages/pandas/core/internals/managers.py\u001B[0m in \u001B[0;36m_consolidate_inplace\u001B[0;34m(self)\u001B[0m\n\u001B[1;32m    622\u001B[0m     \u001B[0;32mdef\u001B[0m \u001B[0m_consolidate_inplace\u001B[0m\u001B[0;34m(\u001B[0m\u001B[0mself\u001B[0m\u001B[0;34m)\u001B[0m \u001B[0;34m->\u001B[0m \u001B[0;32mNone\u001B[0m\u001B[0;34m:\u001B[0m\u001B[0;34m\u001B[0m\u001B[0;34m\u001B[0m\u001B[0m\n\u001B[1;32m    623\u001B[0m         \u001B[0;32mif\u001B[0m \u001B[0;32mnot\u001B[0m \u001B[0mself\u001B[0m\u001B[0;34m.\u001B[0m\u001B[0mis_consolidated\u001B[0m\u001B[0;34m(\u001B[0m\u001B[0;34m)\u001B[0m\u001B[0;34m:\u001B[0m\u001B[0;34m\u001B[0m\u001B[0;34m\u001B[0m\u001B[0m\n\u001B[0;32m--> 624\u001B[0;31m             \u001B[0mself\u001B[0m\u001B[0;34m.\u001B[0m\u001B[0mblocks\u001B[0m \u001B[0;34m=\u001B[0m \u001B[0mtuple\u001B[0m\u001B[0;34m(\u001B[0m\u001B[0m_consolidate\u001B[0m\u001B[0;34m(\u001B[0m\u001B[0mself\u001B[0m\u001B[0;34m.\u001B[0m\u001B[0mblocks\u001B[0m\u001B[0;34m)\u001B[0m\u001B[0;34m)\u001B[0m\u001B[0;34m\u001B[0m\u001B[0;34m\u001B[0m\u001B[0m\n\u001B[0m\u001B[1;32m    625\u001B[0m             \u001B[0mself\u001B[0m\u001B[0;34m.\u001B[0m\u001B[0m_is_consolidated\u001B[0m \u001B[0;34m=\u001B[0m \u001B[0;32mTrue\u001B[0m\u001B[0;34m\u001B[0m\u001B[0;34m\u001B[0m\u001B[0m\n\u001B[1;32m    626\u001B[0m             \u001B[0mself\u001B[0m\u001B[0;34m.\u001B[0m\u001B[0m_known_consolidated\u001B[0m \u001B[0;34m=\u001B[0m \u001B[0;32mTrue\u001B[0m\u001B[0;34m\u001B[0m\u001B[0;34m\u001B[0m\u001B[0m\n",
      "\u001B[0;32m~/.local/lib/python3.8/site-packages/pandas/core/internals/managers.py\u001B[0m in \u001B[0;36m_consolidate\u001B[0;34m(blocks)\u001B[0m\n\u001B[1;32m   1972\u001B[0m     \u001B[0mnew_blocks\u001B[0m\u001B[0;34m:\u001B[0m \u001B[0mlist\u001B[0m\u001B[0;34m[\u001B[0m\u001B[0mBlock\u001B[0m\u001B[0;34m]\u001B[0m \u001B[0;34m=\u001B[0m \u001B[0;34m[\u001B[0m\u001B[0;34m]\u001B[0m\u001B[0;34m\u001B[0m\u001B[0;34m\u001B[0m\u001B[0m\n\u001B[1;32m   1973\u001B[0m     \u001B[0;32mfor\u001B[0m \u001B[0;34m(\u001B[0m\u001B[0m_can_consolidate\u001B[0m\u001B[0;34m,\u001B[0m \u001B[0mdtype\u001B[0m\u001B[0;34m)\u001B[0m\u001B[0;34m,\u001B[0m \u001B[0mgroup_blocks\u001B[0m \u001B[0;32min\u001B[0m \u001B[0mgrouper\u001B[0m\u001B[0;34m:\u001B[0m\u001B[0;34m\u001B[0m\u001B[0;34m\u001B[0m\u001B[0m\n\u001B[0;32m-> 1974\u001B[0;31m         merged_blocks = _merge_blocks(\n\u001B[0m\u001B[1;32m   1975\u001B[0m             \u001B[0mlist\u001B[0m\u001B[0;34m(\u001B[0m\u001B[0mgroup_blocks\u001B[0m\u001B[0;34m)\u001B[0m\u001B[0;34m,\u001B[0m \u001B[0mdtype\u001B[0m\u001B[0;34m=\u001B[0m\u001B[0mdtype\u001B[0m\u001B[0;34m,\u001B[0m \u001B[0mcan_consolidate\u001B[0m\u001B[0;34m=\u001B[0m\u001B[0m_can_consolidate\u001B[0m\u001B[0;34m\u001B[0m\u001B[0;34m\u001B[0m\u001B[0m\n\u001B[1;32m   1976\u001B[0m         )\n",
      "\u001B[0;32m~/.local/lib/python3.8/site-packages/pandas/core/internals/managers.py\u001B[0m in \u001B[0;36m_merge_blocks\u001B[0;34m(blocks, dtype, can_consolidate)\u001B[0m\n\u001B[1;32m   2009\u001B[0m         \u001B[0mnew_mgr_locs\u001B[0m \u001B[0;34m=\u001B[0m \u001B[0mnew_mgr_locs\u001B[0m\u001B[0;34m[\u001B[0m\u001B[0margsort\u001B[0m\u001B[0;34m]\u001B[0m\u001B[0;34m\u001B[0m\u001B[0;34m\u001B[0m\u001B[0m\n\u001B[1;32m   2010\u001B[0m \u001B[0;34m\u001B[0m\u001B[0m\n\u001B[0;32m-> 2011\u001B[0;31m         \u001B[0mbp\u001B[0m \u001B[0;34m=\u001B[0m \u001B[0mBlockPlacement\u001B[0m\u001B[0;34m(\u001B[0m\u001B[0mnew_mgr_locs\u001B[0m\u001B[0;34m)\u001B[0m\u001B[0;34m\u001B[0m\u001B[0;34m\u001B[0m\u001B[0m\n\u001B[0m\u001B[1;32m   2012\u001B[0m         \u001B[0;32mreturn\u001B[0m \u001B[0;34m[\u001B[0m\u001B[0mnew_block\u001B[0m\u001B[0;34m(\u001B[0m\u001B[0mnew_values\u001B[0m\u001B[0;34m,\u001B[0m \u001B[0mplacement\u001B[0m\u001B[0;34m=\u001B[0m\u001B[0mbp\u001B[0m\u001B[0;34m,\u001B[0m \u001B[0mndim\u001B[0m\u001B[0;34m=\u001B[0m\u001B[0;36m2\u001B[0m\u001B[0;34m)\u001B[0m\u001B[0;34m]\u001B[0m\u001B[0;34m\u001B[0m\u001B[0;34m\u001B[0m\u001B[0m\n\u001B[1;32m   2013\u001B[0m \u001B[0;34m\u001B[0m\u001B[0m\n",
      "\u001B[0;32m~/.local/lib/python3.8/site-packages/pandas/_libs/internals.pyx\u001B[0m in \u001B[0;36mpandas._libs.internals.BlockPlacement.__cinit__\u001B[0;34m()\u001B[0m\n",
      "\u001B[0;32m~/.local/lib/python3.8/site-packages/numpy/core/_asarray.py\u001B[0m in \u001B[0;36mrequire\u001B[0;34m(a, dtype, requirements, like)\u001B[0m\n\u001B[1;32m    130\u001B[0m \u001B[0;34m\u001B[0m\u001B[0m\n\u001B[1;32m    131\u001B[0m     \u001B[0;32mfor\u001B[0m \u001B[0mprop\u001B[0m \u001B[0;32min\u001B[0m \u001B[0mrequirements\u001B[0m\u001B[0;34m:\u001B[0m\u001B[0;34m\u001B[0m\u001B[0;34m\u001B[0m\u001B[0m\n\u001B[0;32m--> 132\u001B[0;31m         \u001B[0;32mif\u001B[0m \u001B[0;32mnot\u001B[0m \u001B[0marr\u001B[0m\u001B[0;34m.\u001B[0m\u001B[0mflags\u001B[0m\u001B[0;34m[\u001B[0m\u001B[0mprop\u001B[0m\u001B[0;34m]\u001B[0m\u001B[0;34m:\u001B[0m\u001B[0;34m\u001B[0m\u001B[0;34m\u001B[0m\u001B[0m\n\u001B[0m\u001B[1;32m    133\u001B[0m             \u001B[0marr\u001B[0m \u001B[0;34m=\u001B[0m \u001B[0marr\u001B[0m\u001B[0;34m.\u001B[0m\u001B[0mcopy\u001B[0m\u001B[0;34m(\u001B[0m\u001B[0morder\u001B[0m\u001B[0;34m)\u001B[0m\u001B[0;34m\u001B[0m\u001B[0;34m\u001B[0m\u001B[0m\n\u001B[1;32m    134\u001B[0m             \u001B[0;32mbreak\u001B[0m\u001B[0;34m\u001B[0m\u001B[0;34m\u001B[0m\u001B[0m\n",
      "\u001B[0;31mKeyboardInterrupt\u001B[0m: "
     ]
    },
    {
     "data": {
      "text/plain": "<Figure size 432x288 with 1 Axes>",
      "image/png": "[encoded data removed]"
     },
     "metadata": {
      "needs_background": "light"
     },
     "output_type": "display_data"
    }
   ],
   "source": [
    "sns.histplot(x=y_cls_pred[:,1], hue=y_cls_pred[:,1])\n",
    "plt.show()"
   ],
   "metadata": {
    "collapsed": false,
    "pycharm": {
     "name": "#%%\n"
    }
   }
  },
  {
   "cell_type": "code",
   "execution_count": 57,
   "outputs": [],
   "source": [
    "cls_temp = y_cls_pred[:,0] < y_cls_pred[:,1]\n",
    "y_cls_pred = np.array([0 if c else 1 for c in cls_temp])"
   ],
   "metadata": {
    "collapsed": false,
    "pycharm": {
     "name": "#%%\n"
    }
   }
  },
  {
   "cell_type": "code",
   "execution_count": 58,
   "outputs": [
    {
     "name": "stdout",
     "output_type": "stream",
     "text": [
      "1.4187411744200722\n"
     ]
    }
   ],
   "source": [
    "print(avg_raining_ratio)"
   ],
   "metadata": {
    "collapsed": false,
    "pycharm": {
     "name": "#%%\n"
    }
   }
  },
  {
   "cell_type": "code",
   "execution_count": 59,
   "outputs": [],
   "source": [
    "submission[\"cls_pred\"] = y_cls_pred\n",
    "submission[\"reg_pred\"] = y_reg_pred"
   ],
   "metadata": {
    "collapsed": false,
    "pycharm": {
     "name": "#%%\n"
    }
   }
  },
  {
   "cell_type": "code",
   "execution_count": 60,
   "outputs": [],
   "source": [
    "submission[\"Prediction\"] = submission[\"cls_pred\"] * submission[\"reg_pred\"]"
   ],
   "metadata": {
    "collapsed": false,
    "pycharm": {
     "name": "#%%\n"
    }
   }
  },
  {
   "cell_type": "code",
   "execution_count": 61,
   "outputs": [
    {
     "data": {
      "text/plain": "              Id  cls_pred  reg_pred  Prediction\n0     14047002_1         0  0.192093    0.000000\n1    14047002_10         1  0.000000    0.000000\n2   14047002_100         0  0.165368    0.000000\n3   14047002_101         0  0.532374    0.000000\n4   14047002_102         0  0.103798    0.000000\n5   14047002_103         0  0.010929    0.000000\n6   14047002_104         0  0.073143    0.000000\n7   14047002_105         0  0.015242    0.000000\n8   14047002_106         0  0.234708    0.000000\n9   14047002_107         0  0.275839    0.000000\n10  14047002_108         1  0.000000    0.000000\n11  14047002_109         0  0.016005    0.000000\n12   14047002_11         0  0.231132    0.000000\n13  14047002_110         0  0.000000    0.000000\n14  14047002_111         0  0.036550    0.000000\n15  14047002_112         0  0.000000    0.000000\n16  14047002_113         0  0.000000    0.000000\n17  14047002_114         0  0.000000    0.000000\n18  14047002_115         0  0.134517    0.000000\n19  14047002_116         1  0.000000    0.000000\n20  14047002_117         0  0.202482    0.000000\n21  14047002_118         1  0.002979    0.002979\n22  14047002_119         0  0.033262    0.000000\n23   14047002_12         0  0.060526    0.000000\n24  14047002_120         0  0.000000    0.000000",
      "text/html": "<div>\n<style scoped>\n    .dataframe tbody tr th:only-of-type {\n        vertical-align: middle;\n    }\n\n    .dataframe tbody tr th {\n        vertical-align: top;\n    }\n\n    .dataframe thead th {\n        text-align: right;\n    }\n</style>\n<table border=\"1\" class=\"dataframe\">\n  <thead>\n    <tr style=\"text-align: right;\">\n      <th></th>\n      <th>Id</th>\n      <th>cls_pred</th>\n      <th>reg_pred</th>\n      <th>Prediction</th>\n    </tr>\n  </thead>\n  <tbody>\n    <tr>\n      <th>0</th>\n      <td>14047002_1</td>\n      <td>0</td>\n      <td>0.192093</td>\n      <td>0.000000</td>\n    </tr>\n    <tr>\n      <th>1</th>\n      <td>14047002_10</td>\n      <td>1</td>\n      <td>0.000000</td>\n      <td>0.000000</td>\n    </tr>\n    <tr>\n      <th>2</th>\n      <td>14047002_100</td>\n      <td>0</td>\n      <td>0.165368</td>\n      <td>0.000000</td>\n    </tr>\n    <tr>\n      <th>3</th>\n      <td>14047002_101</td>\n      <td>0</td>\n      <td>0.532374</td>\n      <td>0.000000</td>\n    </tr>\n    <tr>\n      <th>4</th>\n      <td>14047002_102</td>\n      <td>0</td>\n      <td>0.103798</td>\n      <td>0.000000</td>\n    </tr>\n    <tr>\n      <th>5</th>\n      <td>14047002_103</td>\n      <td>0</td>\n      <td>0.010929</td>\n      <td>0.000000</td>\n    </tr>\n    <tr>\n      <th>6</th>\n      <td>14047002_104</td>\n      <td>0</td>\n      <td>0.073143</td>\n      <td>0.000000</td>\n    </tr>\n    <tr>\n      <th>7</th>\n      <td>14047002_105</td>\n      <td>0</td>\n      <td>0.015242</td>\n      <td>0.000000</td>\n    </tr>\n    <tr>\n      <th>8</th>\n      <td>14047002_106</td>\n      <td>0</td>\n      <td>0.234708</td>\n      <td>0.000000</td>\n    </tr>\n    <tr>\n      <th>9</th>\n      <td>14047002_107</td>\n      <td>0</td>\n      <td>0.275839</td>\n      <td>0.000000</td>\n    </tr>\n    <tr>\n      <th>10</th>\n      <td>14047002_108</td>\n      <td>1</td>\n      <td>0.000000</td>\n      <td>0.000000</td>\n    </tr>\n    <tr>\n      <th>11</th>\n      <td>14047002_109</td>\n      <td>0</td>\n      <td>0.016005</td>\n      <td>0.000000</td>\n    </tr>\n    <tr>\n      <th>12</th>\n      <td>14047002_11</td>\n      <td>0</td>\n      <td>0.231132</td>\n      <td>0.000000</td>\n    </tr>\n    <tr>\n      <th>13</th>\n      <td>14047002_110</td>\n      <td>0</td>\n      <td>0.000000</td>\n      <td>0.000000</td>\n    </tr>\n    <tr>\n      <th>14</th>\n      <td>14047002_111</td>\n      <td>0</td>\n      <td>0.036550</td>\n      <td>0.000000</td>\n    </tr>\n    <tr>\n      <th>15</th>\n      <td>14047002_112</td>\n      <td>0</td>\n      <td>0.000000</td>\n      <td>0.000000</td>\n    </tr>\n    <tr>\n      <th>16</th>\n      <td>14047002_113</td>\n      <td>0</td>\n      <td>0.000000</td>\n      <td>0.000000</td>\n    </tr>\n    <tr>\n      <th>17</th>\n      <td>14047002_114</td>\n      <td>0</td>\n      <td>0.000000</td>\n      <td>0.000000</td>\n    </tr>\n    <tr>\n      <th>18</th>\n      <td>14047002_115</td>\n      <td>0</td>\n      <td>0.134517</td>\n      <td>0.000000</td>\n    </tr>\n    <tr>\n      <th>19</th>\n      <td>14047002_116</td>\n      <td>1</td>\n      <td>0.000000</td>\n      <td>0.000000</td>\n    </tr>\n    <tr>\n      <th>20</th>\n      <td>14047002_117</td>\n      <td>0</td>\n      <td>0.202482</td>\n      <td>0.000000</td>\n    </tr>\n    <tr>\n      <th>21</th>\n      <td>14047002_118</td>\n      <td>1</td>\n      <td>0.002979</td>\n      <td>0.002979</td>\n    </tr>\n    <tr>\n      <th>22</th>\n      <td>14047002_119</td>\n      <td>0</td>\n      <td>0.033262</td>\n      <td>0.000000</td>\n    </tr>\n    <tr>\n      <th>23</th>\n      <td>14047002_12</td>\n      <td>0</td>\n      <td>0.060526</td>\n      <td>0.000000</td>\n    </tr>\n    <tr>\n      <th>24</th>\n      <td>14047002_120</td>\n      <td>0</td>\n      <td>0.000000</td>\n      <td>0.000000</td>\n    </tr>\n  </tbody>\n</table>\n</div>"
     },
     "execution_count": 61,
     "metadata": {},
     "output_type": "execute_result"
    }
   ],
   "source": [
    "submission.head(25)"
   ],
   "metadata": {
    "collapsed": false,
    "pycharm": {
     "name": "#%%\n"
    }
   }
  },
  {
   "cell_type": "code",
   "execution_count": 62,
   "outputs": [],
   "source": [
    "submission[[\"Id\",\"Prediction\"]].to_csv(\"./submission_ann_reg_cls.csv\", index=False)"
   ],
   "metadata": {
    "collapsed": false,
    "pycharm": {
     "name": "#%%\n"
    }
   }
  },
  {
   "cell_type": "code",
   "execution_count": 63,
   "outputs": [],
   "source": [
    "submission2 = submission.drop([\"Prediction\",\"cls_pred\"], axis=1)\n",
    "submission2.rename(columns={\"reg_pred\": \"Prediction\"}, inplace=True)"
   ],
   "metadata": {
    "collapsed": false,
    "pycharm": {
     "name": "#%%\n"
    }
   }
  },
  {
   "cell_type": "code",
   "execution_count": 64,
   "outputs": [
    {
     "data": {
      "text/plain": "             Id  Prediction\n0    14047002_1    0.192093\n1   14047002_10    0.000000\n2  14047002_100    0.165368\n3  14047002_101    0.532374\n4  14047002_102    0.103798",
      "text/html": "<div>\n<style scoped>\n    .dataframe tbody tr th:only-of-type {\n        vertical-align: middle;\n    }\n\n    .dataframe tbody tr th {\n        vertical-align: top;\n    }\n\n    .dataframe thead th {\n        text-align: right;\n    }\n</style>\n<table border=\"1\" class=\"dataframe\">\n  <thead>\n    <tr style=\"text-align: right;\">\n      <th></th>\n      <th>Id</th>\n      <th>Prediction</th>\n    </tr>\n  </thead>\n  <tbody>\n    <tr>\n      <th>0</th>\n      <td>14047002_1</td>\n      <td>0.192093</td>\n    </tr>\n    <tr>\n      <th>1</th>\n      <td>14047002_10</td>\n      <td>0.000000</td>\n    </tr>\n    <tr>\n      <th>2</th>\n      <td>14047002_100</td>\n      <td>0.165368</td>\n    </tr>\n    <tr>\n      <th>3</th>\n      <td>14047002_101</td>\n      <td>0.532374</td>\n    </tr>\n    <tr>\n      <th>4</th>\n      <td>14047002_102</td>\n      <td>0.103798</td>\n    </tr>\n  </tbody>\n</table>\n</div>"
     },
     "execution_count": 64,
     "metadata": {},
     "output_type": "execute_result"
    }
   ],
   "source": [
    "submission2.head()"
   ],
   "metadata": {
    "collapsed": false,
    "pycharm": {
     "name": "#%%\n"
    }
   }
  },
  {
   "cell_type": "code",
   "execution_count": 65,
   "outputs": [],
   "source": [
    "submission2[[\"Id\",\"Prediction\"]].to_csv(\"./submission_ann_reg.csv\", index=False)"
   ],
   "metadata": {
    "collapsed": false,
    "pycharm": {
     "name": "#%%\n"
    }
   }
  },
  {
   "cell_type": "code",
   "execution_count": null,
   "outputs": [],
   "source": [],
   "metadata": {
    "collapsed": false,
    "pycharm": {
     "name": "#%%\n"
    }
   }
  }
 ],
 "metadata": {
  "kernelspec": {
   "display_name": "Python 3",
   "language": "python",
   "name": "python3"
  },
  "language_info": {
   "codemirror_mode": {
    "name": "ipython",
    "version": 2
   },
   "file_extension": ".py",
   "mimetype": "text/x-python",
   "name": "python",
   "nbconvert_exporter": "python",
   "pygments_lexer": "ipython2",
   "version": "2.7.6"
  }
 },
 "nbformat": 4,
 "nbformat_minor": 0
}